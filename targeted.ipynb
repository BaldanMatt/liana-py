{
 "cells": [
  {
   "attachments": {},
   "cell_type": "markdown",
   "metadata": {},
   "source": [
    "# Hypothesis-testing for CCC across Conditions & Downstream Signalling Networks"
   ]
  },
  {
   "attachments": {},
   "cell_type": "markdown",
   "metadata": {},
   "source": [
    "## Background"
   ]
  },
  {
   "attachments": {},
   "cell_type": "markdown",
   "metadata": {},
   "source": [
    "Cell-cell communication (CCC) events, while commonly inferred between cell types in steady-state data, can also be inferred between conditions. \n",
    "\n",
    "In contrast to dimensionality reduction approaches that reduce CCC into sets of loadings (See our tutorials on extracting intercellular programmes with [MOFA+](https://liana-py.readthedocs.io/en/latest/notebooks/mofatalk.html) and [Tensor-cell2cell](https://liana-py.readthedocs.io/en/latest/notebooks/liana_c2c.html)), hypothesis-driven differential expression analysis (DEA) tests can be used alternatively to test individual gene changes. \n",
    "In this tutorial, we perform DEA at the pseudobulk level to test for differential expression of genes between conditions, and then translate the results into deregulated complex-informed ligand-receptor interactions. Then we relate the deregulated interactions to downstream signalling events.\n",
    "\n",
    "We refer the user to the [Differential Gene expression chapter](https://www.sc-best-practices.org/conditions/differential_gene_expression.html) in the Single-cell best practices book, as well as to [decoupler's pseudobulk vignette](https://decoupler-py.readthedocs.io/en/latest/notebooks/pseudobulk.html) for more details on the pseudobulk DEA."
   ]
  },
  {
   "attachments": {},
   "cell_type": "markdown",
   "metadata": {},
   "source": [
    "## Load Packages"
   ]
  },
  {
   "attachments": {},
   "cell_type": "markdown",
   "metadata": {},
   "source": [
    "Install mofa, decoupler, and omnipath via pip with the following commands:\n",
    "\n",
    "```python\n",
    "pip install \"decoupler>=0.1.4\"\n",
    "pip install omnipath\n",
    "pip install \"pydeseq2>=0.3.5\"\n",
    "```"
   ]
  },
  {
   "cell_type": "code",
   "execution_count": null,
   "metadata": {},
   "outputs": [],
   "source": [
    "import numpy as np\n",
    "import pandas as pd\n",
    "import scanpy as sc\n",
    "\n",
    "import plotnine as p9\n",
    "\n",
    "import liana as li\n",
    "import decoupler as dc\n",
    "import omnipath as op\n",
    "\n",
    "# Import DESeq2\n",
    "from pydeseq2.dds import DeseqDataSet\n",
    "from pydeseq2.ds import DeseqStats"
   ]
  },
  {
   "attachments": {},
   "cell_type": "markdown",
   "metadata": {},
   "source": [
    "## Load & Prep Data"
   ]
  },
  {
   "attachments": {},
   "cell_type": "markdown",
   "metadata": {},
   "source": [
    "As a simple example, we will look at ~25k PBMCs from 8 pooled patient lupus samples, each before and after IFN-beta stimulation ([Kang et al., 2018](https://www.nature.com/articles/nbt.4042); [GSE96583](https://www.ncbi.nlm.nih.gov/geo/query/acc.cgi?acc=GSE96583)). Note that by focusing on PBMCs, for the purpose of this tutorial, we assume that coordinated events occur among them.\n",
    "\n",
    "This dataset is downloaded from a link on Figshare; preprocessed for [pertpy](https://github.com/theislab/pertpy)."
   ]
  },
  {
   "cell_type": "code",
   "execution_count": null,
   "metadata": {},
   "outputs": [],
   "source": [
    "adata = li.testing.datasets.kang_2018()\n",
    "adata"
   ]
  },
  {
   "attachments": {},
   "cell_type": "markdown",
   "metadata": {},
   "source": [
    "Define columns of interest from `.obs`\n",
    "\n",
    "Note that we use cell abbreviations because MOFA will use them as labels for the views."
   ]
  },
  {
   "cell_type": "code",
   "execution_count": null,
   "metadata": {},
   "outputs": [],
   "source": [
    "sample_key = 'sample'\n",
    "groupby = 'cell_abbr'\n",
    "condition_key = 'condition'"
   ]
  },
  {
   "attachments": {},
   "cell_type": "markdown",
   "metadata": {},
   "source": [
    "### Basic QC"
   ]
  },
  {
   "attachments": {},
   "cell_type": "markdown",
   "metadata": {},
   "source": [
    "Note that this data has been largely pre-processed & annotated, we refer the user to the [Quality Control](https://www.sc-best-practices.org/preprocessing_visualization/quality_control.html) and other relevant chapters from the best-practices book for information about pre-processing and annotation steps."
   ]
  },
  {
   "cell_type": "code",
   "execution_count": null,
   "metadata": {},
   "outputs": [],
   "source": [
    "# filter cells and genes\n",
    "sc.pp.filter_cells(adata, min_genes=200)\n",
    "sc.pp.filter_genes(adata, min_cells=3)"
   ]
  },
  {
   "attachments": {},
   "cell_type": "markdown",
   "metadata": {},
   "source": [
    "### Showcase the data"
   ]
  },
  {
   "cell_type": "code",
   "execution_count": null,
   "metadata": {},
   "outputs": [],
   "source": [
    "# Show pre-computed UMAP\n",
    "sc.pl.umap(adata, color=[condition_key, sample_key, 'cell_type', groupby], frameon=False, ncols=2)"
   ]
  },
  {
   "attachments": {},
   "cell_type": "markdown",
   "metadata": {},
   "source": [
    "### Differential Testing Results"
   ]
  },
  {
   "attachments": {},
   "cell_type": "markdown",
   "metadata": {},
   "source": [
    "First, we need to generate pseudobulk profiles for each cell type, and we do so using the [`decoupler` package](https://decoupler-py.readthedocs.io/en/latest/notebooks/pseudobulk.html). "
   ]
  },
  {
   "cell_type": "code",
   "execution_count": null,
   "metadata": {},
   "outputs": [],
   "source": [
    "pdata = dc.get_pseudobulk(\n",
    "    adata,\n",
    "    sample_col=sample_key,\n",
    "    groups_col=groupby,\n",
    "    layer='counts',\n",
    "    mode='sum',\n",
    "    min_cells=10,\n",
    "    min_counts=10000\n",
    ")\n",
    "pdata"
   ]
  },
  {
   "attachments": {},
   "cell_type": "markdown",
   "metadata": {},
   "source": [
    "We can plot the quality control metrics for each pseudobulk sample:"
   ]
  },
  {
   "cell_type": "code",
   "execution_count": null,
   "metadata": {},
   "outputs": [],
   "source": [
    "dc.plot_psbulk_samples(pdata, groupby=[sample_key, groupby], figsize=(11, 4))"
   ]
  },
  {
   "attachments": {},
   "cell_type": "markdown",
   "metadata": {},
   "source": [
    "#### Differential Expression Analysis"
   ]
  },
  {
   "attachments": {},
   "cell_type": "markdown",
   "metadata": {},
   "source": [
    " Next, now that we have generated the pseudobulk profiles, we can perform some edgeR-like filtering using decoupleR, and then differential expression analysis using the [`pydeseq2` package](https://pydeseq2.readthedocs.io/en/latest/) - a re-implementation of the original DESeq2 method ([Love et al., 2014](https://genomebiology.biomedcentral.com/articles/10.1186/s13059-014-0550-8?ref=https://githubhelp.com))."
   ]
  },
  {
   "cell_type": "code",
   "execution_count": null,
   "metadata": {},
   "outputs": [],
   "source": [
    "%%capture\n",
    "dea_results = {}\n",
    "for cell_group in pdata.obs[groupby].unique():\n",
    "    # Select cell profiles\n",
    "    ctdata = pdata[pdata.obs[groupby] == cell_group].copy()\n",
    "\n",
    "    # Obtain genes that pass the edgeR-like thresholds\n",
    "    # NOTE: QC thresholds might differ between cell types, consider applying them by cell type\n",
    "    genes = dc.filter_by_expr(ctdata,\n",
    "                              group=condition_key,\n",
    "                              min_count=5, # a minimum number of counts in a number of samples\n",
    "                              min_total_count=10 # a minimum total number of reads across samples\n",
    "                              )\n",
    "\n",
    "    # Filter by these genes\n",
    "    ctdata = ctdata[:, genes].copy()\n",
    "    \n",
    "    # Build DESeq2 object\n",
    "    # NOTE: this data is actually paired, so one could consider fitting the patient label as a confounder\n",
    "    dds = DeseqDataSet(\n",
    "        adata=ctdata,\n",
    "        design_factors=condition_key,\n",
    "        ref_level=[condition_key, 'ctrl'], # set control as reference\n",
    "        refit_cooks=True,\n",
    "        n_cpus=None,\n",
    "    )\n",
    "    \n",
    "    # Compute LFCs\n",
    "    dds.deseq2()\n",
    "    # Contrast between stim and ctrl\n",
    "    stat_res = DeseqStats(dds, contrast=[condition_key, 'stim', 'ctrl'], n_cpus=8)\n",
    "    # Compute Wald test\n",
    "    stat_res.summary()\n",
    "    # Shrink LFCs\n",
    "    stat_res.lfc_shrink(coeff='condition_stim_vs_ctrl') # {condition_key}_cond_vs_ref\n",
    "    \n",
    "    dea_results[cell_group] = stat_res.results_df\n"
   ]
  },
  {
   "attachments": {},
   "cell_type": "markdown",
   "metadata": {},
   "source": [
    "<div class=\"alert alert-info\">\n",
    "\n",
    "This results in a wall of currently unavoidable verbose text and prints, as such I use `%%capture` to hide it.\n",
    "\n",
    "</div>  \n"
   ]
  },
  {
   "cell_type": "code",
   "execution_count": null,
   "metadata": {},
   "outputs": [],
   "source": [
    "# concat results across cell types\n",
    "dea_df = pd.concat(dea_results)\n",
    "dea_df = dea_df.reset_index().rename(columns={'level_0': groupby}).set_index('index')\n",
    "dea_df.head()"
   ]
  },
  {
   "attachments": {},
   "cell_type": "markdown",
   "metadata": {},
   "source": [
    "### DEA to Ligand-Receptor Interactions"
   ]
  },
  {
   "attachments": {},
   "cell_type": "markdown",
   "metadata": {},
   "source": [
    "Now that we have DEA results, we can combine them into statistics of potentially deregulated ligand-receptor interactions.\n",
    "\n",
    "To do so, liana provides a simple function `li.multi.dea_to_lr` that calculates average expression as well as proportions based on the passed `adata` object, and combines those with the DEA results and a ligand-receptor resource. Since in this case we want to focus on gene statics relevant to the condition (stim), let's subset the adata to those and normalize the counts."
   ]
  },
  {
   "cell_type": "code",
   "execution_count": null,
   "metadata": {},
   "outputs": [],
   "source": [
    "adata = adata[adata.obs[condition_key]=='stim'].copy()"
   ]
  },
  {
   "cell_type": "code",
   "execution_count": null,
   "metadata": {},
   "outputs": [],
   "source": [
    "sc.pp.normalize_total(adata, target_sum=1e4)\n",
    "sc.pp.log1p(adata)"
   ]
  },
  {
   "attachments": {},
   "cell_type": "markdown",
   "metadata": {},
   "source": [
    "Now that the data is normalized and subsetted, we can use the `li.multi.dea_to_lr` function to calculate the average expression and proportions, and combine them with the DEA results.\n",
    "\n",
    "We need to additionally pass the names of the statistics from the DEA table in which we are interest, here we will use the adjusted p-values and Wald test statistic."
   ]
  },
  {
   "cell_type": "code",
   "execution_count": null,
   "metadata": {},
   "outputs": [],
   "source": [
    "lr_res = li.multi.dea_to_lr(adata,\n",
    "                            dea_df=dea_df,\n",
    "                            resource_name='consensus',\n",
    "                            expr_prop=0.1, # calculated for adata as passed - used to filter interactions\n",
    "                            groupby=groupby,\n",
    "                            stat_keys=['stat', 'pvalue', 'padj'],\n",
    "                            use_raw=False,\n",
    "                            complex_col='stat', # NOTE: we use the Wald Stat to deal with complexes\n",
    "                            verbose=True,\n",
    "                            return_all_lrs=False,\n",
    "                            )"
   ]
  },
  {
   "cell_type": "code",
   "execution_count": null,
   "metadata": {},
   "outputs": [],
   "source": [
    "lr_res = lr_res.sort_values(\"interaction_stat\", ascending=False, key=abs)\n",
    "lr_res.head()"
   ]
  },
  {
   "attachments": {},
   "cell_type": "markdown",
   "metadata": {},
   "source": [
    "\n",
    "##### Dealing with heteromeric complexes\n",
    "\n",
    "LIANA will filter lowly-expressed interactions, i.e. those for which any of the genes are not expressed in at least **0.1** of the cells (by default) in the AnnData object. This can be adjusted with the `expr_prop` parameter. \n",
    "\n",
    "Moreover, to deal with complexes for each cell type, as either source or target of the potential CCC events, LIANA will find and assign the subunit of a complex with the lowest gene expression (by default) as the subunit of interest, and will then use the stats for that subunit as the stats of the whole protein complex.\n",
    "\n",
    "<div class=\"alert alert-info\">\n",
    "This is a simple heuristic also adapted by many other methods, but it is not perfect, as in some cases it might be over-conservative. For example, if the subunit with lowest expression is not the one that is differentially expressed, the complex will not be detected as deregulated.\n",
    "\n",
    "To this end, we also provide the option to provide a `complex_col` parameter, which will be used to assign the complex subunit of interest. This column should be a part of the `stat_keys`. Note that the **absolute minimum value** is used (i.e. the value closest to 0 is thought to be the 'worst' result), so this will not work for statistics with ascending values (e.g. p-values).\n",
    "</div>  "
   ]
  },
  {
   "attachments": {},
   "cell_type": "markdown",
   "metadata": {},
   "source": [
    "### Visualize the Results"
   ]
  },
  {
   "attachments": {},
   "cell_type": "markdown",
   "metadata": {},
   "source": [
    "<div class=\"alert alert-success\">\n",
    "\n",
    "`interaction_*` columns returned by `li.multi.dea_to_lr` are just the mean of the ligand and receptor columns of the corresponding statistic!\n",
    "Please use with caution as this is just a summary of the interaction that we can use to e.g. to sort the interactions as done above.\n",
    "Instead, we recommend to use the ligand and receptor statistics **separately** to filter and visualize the interactions.\n",
    "\n",
    "</div>\n",
    "\n",
    "Moreover, by averaging the statistics across the ligand and receptor, we  are focusing on the interactions for which both the ligand and receptor are deregulated in the same direction, i.e. both up or both down. However, this might ignore interactions in which e.g. the the ligand is deregulated while the receptor is not, or such where they are deregulated in opposite directions. These could represent potential inhibitory mechanisms, but we leave this to the user to explore.\n",
    "\n"
   ]
  },
  {
   "cell_type": "code",
   "execution_count": null,
   "metadata": {},
   "outputs": [],
   "source": [
    "# Let's visualize how this looks like for all interactions  (across all cell types)\n",
    "lr_res = lr_res.sort_values(\"interaction_stat\", ascending=False)\n",
    "lr_res['interaction_stat'].hist(bins=50)"
   ]
  },
  {
   "attachments": {},
   "cell_type": "markdown",
   "metadata": {},
   "source": [
    "Now that we have covered the basics, we can visualize our interactions in a few ways. \n",
    "\n",
    "Let's start with the top interactions according to their Wald statistic, and then plot the statistics for the ligands & receptors involved in those interactions across cell types, to do so LIANA+ provide `li.pl.tileplot`:"
   ]
  },
  {
   "cell_type": "code",
   "execution_count": null,
   "metadata": {},
   "outputs": [],
   "source": [
    "li.pl.tileplot(liana_res=lr_res,\n",
    "         fill = 'expr',\n",
    "         label='padj',\n",
    "         label_fun = lambda x: '*' if x < 0.05 else np.nan,\n",
    "         top_n=15,\n",
    "         orderby = 'interaction_stat',\n",
    "         orderby_ascending = False,\n",
    "         orderby_absolute = False,\n",
    ")"
   ]
  },
  {
   "attachments": {},
   "cell_type": "markdown",
   "metadata": {},
   "source": [
    "If you want to plot the expression values for ligand-receptor interactions without the DEA statistics, you can set the `return_all_lrs` parameter to `True` in the `li.multi.dea_to_lr` function. This will return a dataframe with all the ligand-receptor interactions, where missing DEA stats will be set as `nan`, while mean expression and proportions per cluster will be obtained via the AnnData object."
   ]
  },
  {
   "attachments": {},
   "cell_type": "markdown",
   "metadata": {},
   "source": [
    "#### Ligand-Receptor Plot"
   ]
  },
  {
   "attachments": {},
   "cell_type": "markdown",
   "metadata": {},
   "source": [
    "We can also use visualize of the stats, summarized at the level of the interaction, to prioritize the interactions, or any subunit statistics using `li.pl.dotplot`. For example, we can visualize the mean Wald statistic between the ligand & receptor, together with the pvalues for the ligand."
   ]
  },
  {
   "cell_type": "code",
   "execution_count": null,
   "metadata": {},
   "outputs": [],
   "source": [
    "plot = li.pl.dotplot(liana_res=lr_res,\n",
    "                     colour='interaction_stat',\n",
    "                     size='ligand_pvalue',\n",
    "                     inverse_size=True,\n",
    "                     orderby='interaction_stat',\n",
    "                     orderby_ascending=False,\n",
    "                     top_n=10,\n",
    "                     size_range=(1, 5))\n",
    "\n",
    "# customize plot\n",
    "(\n",
    "    plot\n",
    "    + p9.theme_bw(base_size=14)\n",
    "    # fill cmap blue to red\n",
    "    + p9.scale_color_cmap('RdBu_r')\n",
    "    # rotate x\n",
    "    + p9.theme(axis_text_x=p9.element_text(angle=90), figure_size=(10, 6))\n",
    "\n",
    ")"
   ]
  },
  {
   "attachments": {},
   "cell_type": "markdown",
   "metadata": {},
   "source": [
    "### Intracellular Signaling Networks\n",
    "\n",
    "Cellular signaling networks govern the behavior of cells, allowing them to respond to external signals, including various cell-cell communication events. Thus, CCC events can be thought of as upstream perturbants of intracellular signaling networks that lead to deregulations of downstream signaling events. Such deregulations are expected to be associated with various conditions and disease. Thus, understanding intracellular signaling networks is critical to model the cellular mechanisms.\n",
    "\n",
    "Here, we will combine several tools to identify plausible signalling cascades driven by CCC events.\n",
    "\n",
    "Our approach includes the following steps:\n",
    "\n",
    "* Select a number of potentially deregulated ligand-receptor interactions (input nodes), in terms of summarized PyDESeq2 statistics.\n",
    "\n",
    "* Select a number of potentially deregulated TFs (output nodes). This is done via the use of Transcription factor (TF) activity inference. Carried out on differential gene expression data using [TF regulon knowledge](https://github.com/saezlab/CollecTRI) with [decoupler](https://github.com/saezlab/decoupler-py)\n",
    "\n",
    "* Obtain a prior knowledge network (PKNs), with signed protein-protein interactions from OmniPath.\n",
    "\n",
    "* Generate weights for the nodes in the PKN\n",
    "\n",
    "* Use CORNETO to identify a solution in the form of a [causal (smallest sign-consistent signaling) network](https://www.nature.com/articles/s41540-019-0118-z) that explains the measured inputs and outputs\n",
    "\n",
    "![Causal network overview](docs/source/notebooks/causal-networks.png)\n",
    "\n",
    "\n"
   ]
  },
  {
   "attachments": {},
   "cell_type": "markdown",
   "metadata": {},
   "source": [
    "#### Select Cell types of Interest"
   ]
  },
  {
   "cell_type": "code",
   "execution_count": null,
   "metadata": {},
   "outputs": [],
   "source": [
    "from liana.funcomics.causalnet import build_prior_network, search_causalnet"
   ]
  },
  {
   "cell_type": "code",
   "execution_count": null,
   "metadata": {},
   "outputs": [],
   "source": [
    "def select_top_n(d, n=None):\n",
    "    d = dict(sorted(d.items(), key=lambda item: abs(item[1]), reverse=True))\n",
    "    return {k: v for i, (k, v) in enumerate(d.items()) if i < n}"
   ]
  },
  {
   "attachments": {},
   "cell_type": "markdown",
   "metadata": {},
   "source": [
    "One limitation of using DEA to identify interactions of interest is that it tells us little about deregulation at the level of cell types.\n",
    "However, from dimensionality reductions on CCC, as done with [Tensor-cell2cell](https://liana-py.readthedocs.io/en/latest/notebooks/liana_c2c.html) & [MOFA](https://liana-py.readthedocs.io/en/latest/notebooks/mofatalk.html#) on the same dataset, we can see there is a potential deregulation of CCC that involve CD14 monocytes both as sources (senders) and targets (or receivers) of intecellular communication. Thus, we will focus on the interactions and downstream signalling within that cell type."
   ]
  },
  {
   "cell_type": "code",
   "execution_count": null,
   "metadata": {},
   "outputs": [],
   "source": [
    "source_label = 'CD14'\n",
    "target_label = 'CD14'\n",
    "\n",
    "# NOTE: We sort by the absolute value of the interaction stat\n",
    "lr_stats = lr_res[lr_res['source'].isin([source_label]) & lr_res['target'].isin([target_label])].copy()\n",
    "lr_stats = lr_stats.sort_values('interaction_stat', ascending=False, key=abs)\n"
   ]
  },
  {
   "attachments": {},
   "cell_type": "markdown",
   "metadata": {},
   "source": [
    "#### Select Receptors based on interaction stats\n",
    "\n",
    "These will be used as the input or start nodes for the network. In this case, we will use interactions potentially involved in autocrine signalling in CD14 monocytes."
   ]
  },
  {
   "cell_type": "code",
   "execution_count": null,
   "metadata": {},
   "outputs": [],
   "source": [
    "lr_dict = lr_res.set_index('receptor')['interaction_stat'].to_dict()\n",
    "input_scores = select_top_n(lr_dict, n=10)"
   ]
  },
  {
   "attachments": {},
   "cell_type": "markdown",
   "metadata": {},
   "source": [
    "#### Select Transcription Factors of interest\n",
    "\n",
    "Before we select the transcription factors, we need to infer their activity. We will do so using [decoupler](https://github.com/saezlab/decoupler-py) with [CollecTri](https://github.com/saezlab/CollecTRI) regulons. Specifically, we will estimate TF activities using the Wald statistics (from PyDESeq2) for the genes in the regulons."
   ]
  },
  {
   "cell_type": "code",
   "execution_count": null,
   "metadata": {},
   "outputs": [],
   "source": [
    "# First, let's transform the DEA statistics into a DF\n",
    "# we will use these to estimate deregulated TF activity\n",
    "dea_wide = dea_df[[groupby, 'stat']].reset_index(names='genes').pivot(index=groupby, columns='genes', values='stat')\n",
    "dea_wide = dea_wide.fillna(0)\n",
    "dea_wide"
   ]
  },
  {
   "cell_type": "code",
   "execution_count": null,
   "metadata": {},
   "outputs": [],
   "source": [
    "# Obtain TF regulons\n",
    "net = dc.get_collectri()\n",
    "# Run Enrichment Analysis\n",
    "estimates, pvals = dc.run_ulm(mat=dea_wide, net=net)\n",
    "estimates.T.sort_values(target_label, key=abs, ascending=False).head()"
   ]
  },
  {
   "attachments": {},
   "cell_type": "markdown",
   "metadata": {},
   "source": [
    "##### Select top x TFs"
   ]
  },
  {
   "attachments": {},
   "cell_type": "markdown",
   "metadata": {},
   "source": [
    "Now that we have the potentially deregulated TFs, we focus on the top 10 TFs, based on their enrichment scores. In this case, we will look specifically at the top TFs deregulated in CD14 monocytes."
   ]
  },
  {
   "cell_type": "code",
   "execution_count": null,
   "metadata": {},
   "outputs": [],
   "source": [
    "tf_data = estimates.copy()\n",
    "tf_dict = tf_data.loc[target_label].to_dict()\n",
    "output_scores = select_top_n(tf_dict, n=5)"
   ]
  },
  {
   "attachments": {},
   "cell_type": "markdown",
   "metadata": {},
   "source": [
    "#### Generate a Prior Knowledge Network"
   ]
  },
  {
   "attachments": {},
   "cell_type": "markdown",
   "metadata": {},
   "source": [
    "Now we will obtain protein-protein interactions from [OmniPath](https://github.com/saezlab/omnipath), filter them according to curation effort to ensure we only keep those that are of high quality, and convert them into a knowledge graph."
   ]
  },
  {
   "cell_type": "code",
   "execution_count": null,
   "metadata": {},
   "outputs": [],
   "source": [
    "# obtain ppi network\n",
    "ppis = op.interactions.OmniPath().get(genesymbols = True)\n",
    "\n",
    "ppis['mor'] = ppis['is_stimulation'].astype(int) - ppis['is_inhibition'].astype(int)\n",
    "ppis = ppis[(ppis['mor'] != 0) & (ppis['curation_effort'] >= 5) & ppis['consensus_direction']] \n",
    "\n",
    "input_pkn = ppis[['source_genesymbol', 'mor', 'target_genesymbol']]\n",
    "input_pkn.columns = ['source', 'mor', 'target']\n",
    "input_pkn.head()"
   ]
  },
  {
   "cell_type": "code",
   "execution_count": null,
   "metadata": {},
   "outputs": [],
   "source": [
    "# convert the PPI network into a knowledge graph\n",
    "prior_graph = build_prior_network(input_pkn, input_scores, output_scores, verbose=True)"
   ]
  },
  {
   "attachments": {},
   "cell_type": "markdown",
   "metadata": {},
   "source": [
    "In this section we use Prior Knowledge Networks (PKNs) from OmniPath to generate network hypotheses based on the deregulated interactions considering both sign and direction. Specifically, we focus on highly curated protein-protein interactions, which often represent hubs in the network. Since such network approaches are highly dependent on prior knowledge, for a review on prior knowledge bias and similar network inference methods, including thier limitations, see [Garrido-Rodriguez et al., 2022](https://www.embopress.org/doi/full/10.15252/msb.202211036)."
   ]
  },
  {
   "attachments": {},
   "cell_type": "markdown",
   "metadata": {},
   "source": [
    "##### Calculate Node weights"
   ]
  },
  {
   "attachments": {},
   "cell_type": "markdown",
   "metadata": {},
   "source": [
    "Calculate gene expression proportions within the target cell type; we will use those as node weights in the network."
   ]
  },
  {
   "cell_type": "code",
   "execution_count": null,
   "metadata": {},
   "outputs": [],
   "source": [
    "temp = adata[adata.obs[groupby] == target_label].copy()"
   ]
  },
  {
   "cell_type": "code",
   "execution_count": null,
   "metadata": {},
   "outputs": [],
   "source": [
    "node_weights = pd.DataFrame(temp.X.getnnz(axis=0) / temp.n_obs, index=temp.var_names)\n",
    "node_weights = node_weights.rename(columns={0: 'props'})\n",
    "node_weights = node_weights['props'].to_dict()"
   ]
  },
  {
   "attachments": {},
   "cell_type": "markdown",
   "metadata": {},
   "source": [
    "#### Find Causal Network"
   ]
  },
  {
   "attachments": {},
   "cell_type": "markdown",
   "metadata": {},
   "source": [
    "\n",
    "[CORNETO](https://github.com/saezlab/corneto) (Rodriguez-Mier et al., In prep) generalizes biological network inference problems using convex and combinatorial optimization. Here, we use it to find the smallest sign-consistent network that explains the measured inputs and outputs, a network inference problem formulated in [CARNIVAL](https://www.nature.com/articles/s41540-019-0118-z).\n",
    "\n",
    "<div class=\"alert alert-info\">\n",
    "CORNETO further generalizes the use of different solvers to find the network inference problems, as such it supports  a wide range of supported free and commercial solvers. If no additional solver is installed (as done here), it will default to using the solver included in SCIPY. \n",
    "We refer the user to the CORNETO documentation for more details on how to use different solvers, specifically if they wish to solve more complex examples than the one presented here.\n",
    "</div>"
   ]
  },
  {
   "cell_type": "code",
   "execution_count": null,
   "metadata": {},
   "outputs": [],
   "source": [
    "# Make sure corneto is installed and dependencies are OK\n",
    "import corneto as cn \n",
    "cn.info()"
   ]
  },
  {
   "cell_type": "code",
   "execution_count": null,
   "metadata": {},
   "outputs": [],
   "source": [
    "df_res, problem = search_causalnet(\n",
    "    prior_graph, \n",
    "    input_scores, \n",
    "    output_scores, \n",
    "    node_weights,\n",
    "    # penalize (max_penalty) nodes with counts in less than 0.1 of the cells\n",
    "    node_cutoff=0.1, \n",
    "    max_penalty=1,\n",
    "    # the penaly of those in > 0.1 prop of cells set to:\n",
    "    min_penalty=0.01,\n",
    "    edge_penalty=0.01,\n",
    "    verbose=True,\n",
    "    show_solver_output=True,\n",
    "    max_seconds=60*3\n",
    "    )"
   ]
  },
  {
   "attachments": {},
   "cell_type": "markdown",
   "metadata": {},
   "source": [
    "#### Visualize the Inferred Network"
   ]
  },
  {
   "attachments": {},
   "cell_type": "markdown",
   "metadata": {},
   "source": [
    "Now that the solution has been found, we can visualize it using the `cn.plot.causal_network` function."
   ]
  },
  {
   "cell_type": "code",
   "execution_count": null,
   "metadata": {},
   "outputs": [],
   "source": [
    "from corneto.methods.carnival import visualize_network\n",
    "visualize_network(df_res)"
   ]
  },
  {
   "attachments": {},
   "cell_type": "markdown",
   "metadata": {},
   "source": [
    "We can see that the network above, largely captures a potential regulatory cascade with inhibitory (**--|**) and stimulatory (**-->**) interactions, related to JAK-STAT signalling. The networks starts from a deregulated receptor (**triangle**) and ends with the deregulated TFs (**square**). The remainder of the nodes (**circles**) were inferred, taking their weights into account, and were not necessarily included in the input or output nodes."
   ]
  },
  {
   "attachments": {},
   "cell_type": "markdown",
   "metadata": {},
   "source": [
    "In this example, we represent the directionality of signalling such that intracellular signalling is downstream of intercellular communication events. However, in biology cellular response is an admixture of both; such approaches are a simplification of the biological reality."
   ]
  }
 ],
 "metadata": {
  "kernelspec": {
   "display_name": "Python 3",
   "language": "python",
   "name": "python3"
  },
  "language_info": {
   "codemirror_mode": {
    "name": "ipython",
    "version": 3
   },
   "file_extension": ".py",
   "mimetype": "text/x-python",
   "name": "python",
   "nbconvert_exporter": "python",
   "pygments_lexer": "ipython3",
   "version": "3.10.11"
  },
  "orig_nbformat": 4
 },
 "nbformat": 4,
 "nbformat_minor": 2
}
