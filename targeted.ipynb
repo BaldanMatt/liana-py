{
 "cells": [
  {
   "attachments": {},
   "cell_type": "markdown",
   "metadata": {},
   "source": [
    "# Hypothesis-testing for CCC across Conditions & Downstream Signalling Networks"
   ]
  },
  {
   "attachments": {},
   "cell_type": "markdown",
   "metadata": {},
   "source": [
    "## Background"
   ]
  },
  {
   "attachments": {},
   "cell_type": "markdown",
   "metadata": {},
   "source": [
    "Cell-cell communication (CCC) events, while commonly inferred between cell types in steady-state data, can also be inferred between conditions. \n",
    "\n",
    "In contrast to dimensionality reduction approaches that reduce CCC into sets of loadings (See our tutorials on extracting intercellular programmes with [MOFA+](https://liana-py.readthedocs.io/en/latest/notebooks/mofatalk.html) and [Tensor-cell2cell](https://liana-py.readthedocs.io/en/latest/notebooks/liana_c2c.html)), hypothesis-driven differential expression analysis (DEA) tests can be used alternatively to test individual gene changes. \n",
    "In this tutorial, we perform DEA at the pseudobulk level to test for differential expression of genes between conditions, and then translate the results into deregulated complex-informed ligand-receptor interactions. Then we relate the deregulated interactions to downstream signalling events.\n",
    "\n",
    "We refer the user to the [Differential Gene expression chapter](https://www.sc-best-practices.org/conditions/differential_gene_expression.html) in the Single-cell best practices book, as well as to [decoupler's pseudobulk vignette](https://decoupler-py.readthedocs.io/en/latest/notebooks/pseudobulk.html) for more details on the pseudobulk DEA."
   ]
  },
  {
   "attachments": {},
   "cell_type": "markdown",
   "metadata": {},
   "source": [
    "## Load Packages"
   ]
  },
  {
   "attachments": {},
   "cell_type": "markdown",
   "metadata": {},
   "source": [
    "Install mofa, decoupler, and omnipath via pip with the following commands:\n",
    "\n",
    "```python\n",
    "pip install \"decoupler>=0.1.4\"\n",
    "pip install omnipath\n",
    "pip install \"pydeseq2>=0.3.5\"\n",
    "```"
   ]
  },
  {
   "cell_type": "code",
   "execution_count": null,
   "metadata": {},
   "outputs": [],
   "source": [
    "import numpy as np\n",
    "import pandas as pd\n",
    "import scanpy as sc\n",
    "\n",
    "import plotnine as p9\n",
    "\n",
    "import liana as li\n",
    "import decoupler as dc\n",
    "import omnipath as op\n",
    "\n",
    "# Import DESeq2\n",
    "from pydeseq2.dds import DeseqDataSet\n",
    "from pydeseq2.ds import DeseqStats"
   ]
  },
  {
   "attachments": {},
   "cell_type": "markdown",
   "metadata": {},
   "source": [
    "## Load & Prep Data"
   ]
  },
  {
   "attachments": {},
   "cell_type": "markdown",
   "metadata": {},
   "source": [
    "As a simple example, we will look at ~25k PBMCs from 8 pooled patient lupus samples, each before and after IFN-beta stimulation ([Kang et al., 2018](https://www.nature.com/articles/nbt.4042); [GSE96583](https://www.ncbi.nlm.nih.gov/geo/query/acc.cgi?acc=GSE96583)). Note that by focusing on PBMCs, for the purpose of this tutorial, we assume that coordinated events occur among them.\n",
    "\n",
    "This dataset is downloaded from a link on Figshare; preprocessed for [pertpy](https://github.com/theislab/pertpy)."
   ]
  },
  {
   "cell_type": "code",
   "execution_count": null,
   "metadata": {},
   "outputs": [],
   "source": [
    "adata = li.testing.datasets.kang_2018()\n",
    "adata"
   ]
  },
  {
   "attachments": {},
   "cell_type": "markdown",
   "metadata": {},
   "source": [
    "Define columns of interest from `.obs`\n",
    "\n",
    "Note that we use cell abbreviations because MOFA will use them as labels for the views."
   ]
  },
  {
   "cell_type": "code",
   "execution_count": null,
   "metadata": {},
   "outputs": [],
   "source": [
    "sample_key = 'sample'\n",
    "groupby = 'cell_abbr'\n",
    "condition_key = 'condition'"
   ]
  },
  {
   "attachments": {},
   "cell_type": "markdown",
   "metadata": {},
   "source": [
    "### Basic QC"
   ]
  },
  {
   "attachments": {},
   "cell_type": "markdown",
   "metadata": {},
   "source": [
    "Note that this data has been largely pre-processed & annotated, we refer the user to the [Quality Control](https://www.sc-best-practices.org/preprocessing_visualization/quality_control.html) and other relevant chapters from the best-practices book for information about pre-processing and annotation steps."
   ]
  },
  {
   "cell_type": "code",
   "execution_count": null,
   "metadata": {},
   "outputs": [],
   "source": [
    "# filter cells and genes\n",
    "sc.pp.filter_cells(adata, min_genes=200)\n",
    "sc.pp.filter_genes(adata, min_cells=3)"
   ]
  },
  {
   "attachments": {},
   "cell_type": "markdown",
   "metadata": {},
   "source": [
    "### Showcase the data"
   ]
  },
  {
   "cell_type": "code",
   "execution_count": null,
   "metadata": {},
   "outputs": [],
   "source": [
    "# Show pre-computed UMAP\n",
    "sc.pl.umap(adata, color=[condition_key, sample_key, 'cell_type', groupby], frameon=False, ncols=2)"
   ]
  },
  {
   "attachments": {},
   "cell_type": "markdown",
   "metadata": {},
   "source": [
    "### Differential Testing Results"
   ]
  },
  {
   "attachments": {},
   "cell_type": "markdown",
   "metadata": {},
   "source": [
    "First, we need to generate pseudobulk profiles for each cell type, and we do so using the [`decoupler` package](https://decoupler-py.readthedocs.io/en/latest/notebooks/pseudobulk.html). "
   ]
  },
  {
   "cell_type": "code",
   "execution_count": null,
   "metadata": {},
   "outputs": [],
   "source": [
    "pdata = dc.get_pseudobulk(\n",
    "    adata,\n",
    "    sample_col=sample_key,\n",
    "    groups_col=groupby,\n",
    "    layer='counts',\n",
    "    mode='sum',\n",
    "    min_cells=10,\n",
    "    min_counts=10000\n",
    ")\n",
    "pdata"
   ]
  },
  {
   "attachments": {},
   "cell_type": "markdown",
   "metadata": {},
   "source": [
    "We can plot the quality control metrics for each pseudobulk sample:"
   ]
  },
  {
   "cell_type": "code",
   "execution_count": null,
   "metadata": {},
   "outputs": [],
   "source": [
    "dc.plot_psbulk_samples(pdata, groupby=[sample_key, groupby], figsize=(11, 4))"
   ]
  },
  {
   "attachments": {},
   "cell_type": "markdown",
   "metadata": {},
   "source": [
    "#### Differential Expression Analysis"
   ]
  },
  {
   "attachments": {},
   "cell_type": "markdown",
   "metadata": {},
   "source": [
    " Next, now that we have generated the pseudobulk profiles, we can perform some edgeR-like filtering using decoupleR, and then differential expression analysis using the [`pydeseq2` package](https://pydeseq2.readthedocs.io/en/latest/) - a re-implementation of the original DESeq2 method ([Love et al., 2014](https://genomebiology.biomedcentral.com/articles/10.1186/s13059-014-0550-8?ref=https://githubhelp.com))."
   ]
  },
  {
   "cell_type": "code",
   "execution_count": null,
   "metadata": {},
   "outputs": [],
   "source": [
    "%%capture\n",
    "dea_results = {}\n",
    "for cell_group in pdata.obs[groupby].unique():\n",
    "    # Select cell profiles\n",
    "    ctdata = pdata[pdata.obs[groupby] == cell_group].copy()\n",
    "\n",
    "    # Obtain genes that pass the edgeR-like thresholds\n",
    "    # NOTE: QC thresholds might differ between cell types, consider applying them by cell type\n",
    "    genes = dc.filter_by_expr(ctdata,\n",
    "                              group=condition_key,\n",
    "                              min_count=5, # a minimum number of counts in a number of samples\n",
    "                              min_total_count=10 # a minimum total number of reads across samples\n",
    "                              )\n",
    "\n",
    "    # Filter by these genes\n",
    "    ctdata = ctdata[:, genes].copy()\n",
    "    \n",
    "    # Build DESeq2 object\n",
    "    # NOTE: this data is actually paired, so one could consider fitting the patient label as a confounder\n",
    "    dds = DeseqDataSet(\n",
    "        adata=ctdata,\n",
    "        design_factors=condition_key,\n",
    "        ref_level=[condition_key, 'ctrl'], # set control as reference\n",
    "        refit_cooks=True,\n",
    "        n_cpus=None,\n",
    "    )\n",
    "    \n",
    "    # Compute LFCs\n",
    "    dds.deseq2()\n",
    "    # Contrast between stim and ctrl\n",
    "    stat_res = DeseqStats(dds, contrast=[condition_key, 'stim', 'ctrl'], n_cpus=8)\n",
    "    # Compute Wald test\n",
    "    stat_res.summary()\n",
    "    # Shrink LFCs\n",
    "    stat_res.lfc_shrink(coeff='condition_stim_vs_ctrl') # {condition_key}_cond_vs_ref\n",
    "    \n",
    "    dea_results[cell_group] = stat_res.results_df\n"
   ]
  },
  {
   "attachments": {},
   "cell_type": "markdown",
   "metadata": {},
   "source": [
    "<div class=\"alert alert-info\">\n",
    "\n",
    "This results in a wall of currently unavoidable verbose text and prints, as such I use `%%capture` to hide it.\n",
    "\n",
    "</div>  \n"
   ]
  },
  {
   "cell_type": "code",
   "execution_count": null,
   "metadata": {},
   "outputs": [],
   "source": [
    "# concat results across cell types\n",
    "dea_df = pd.concat(dea_results)\n",
    "dea_df = dea_df.reset_index().rename(columns={'level_0': groupby}).set_index('index')\n",
    "dea_df.head()"
   ]
  },
  {
   "attachments": {},
   "cell_type": "markdown",
   "metadata": {},
   "source": [
    "### DEA to Ligand-Receptor Interactions"
   ]
  },
  {
   "attachments": {},
   "cell_type": "markdown",
   "metadata": {},
   "source": [
    "Now that we have DEA results, we can combine them into statistics of potentially deregulated ligand-receptor interactions.\n",
    "\n",
    "To do so, liana provides a simple function `li.multi.dea_to_lr` that calculates average expression as well as proportions based on the passed `adata` object, and combines those with the DEA results and a ligand-receptor resource. Since in this case we want to focus on gene statics relevant to the condition (stim), let's subset the adata to those and normalize the counts."
   ]
  },
  {
   "cell_type": "code",
   "execution_count": null,
   "metadata": {},
   "outputs": [],
   "source": [
    "adata = adata[adata.obs[condition_key]=='stim'].copy()"
   ]
  },
  {
   "cell_type": "code",
   "execution_count": null,
   "metadata": {},
   "outputs": [],
   "source": [
    "sc.pp.normalize_total(adata, target_sum=1e4)\n",
    "sc.pp.log1p(adata)"
   ]
  },
  {
   "attachments": {},
   "cell_type": "markdown",
   "metadata": {},
   "source": [
    "Now that the data is normalized and subsetted, we can use the `li.multi.dea_to_lr` function to calculate the average expression and proportions, and combine them with the DEA results.\n",
    "\n",
    "We need to additionally pass the names of the statistics from the DEA table in which we are interest, here we will use the adjusted p-values and Wald test statistic."
   ]
  },
  {
   "cell_type": "code",
   "execution_count": null,
   "metadata": {},
   "outputs": [],
   "source": [
    "lr_res = li.multi.dea_to_lr(adata,\n",
    "                            dea_df=dea_df,\n",
    "                            resource_name='consensus',\n",
    "                            expr_prop=0.1, # calculated for adata as passed - used to filter interactions\n",
    "                            groupby=groupby,\n",
    "                            stat_keys=['stat', 'pvalue', 'padj'],\n",
    "                            use_raw=False,\n",
    "                            complex_col='stat', # NOTE: we use the Wald Stat to deal with complexes\n",
    "                            verbose=True,\n",
    "                            return_all_lrs=False,\n",
    "                            )"
   ]
  },
  {
   "cell_type": "code",
   "execution_count": null,
   "metadata": {},
   "outputs": [],
   "source": [
    "lr_res = lr_res.sort_values(\"interaction_stat\", ascending=False, key=abs)\n",
    "lr_res.head()"
   ]
  },
  {
   "attachments": {},
   "cell_type": "markdown",
   "metadata": {},
   "source": [
    "\n",
    "##### Dealing with heteromeric complexes\n",
    "\n",
    "LIANA will filter lowly-expressed interactions, i.e. those for which any of the genes are not expressed in at least **0.1** of the cells (by default) in the AnnData object. This can be adjusted with the `expr_prop` parameter. \n",
    "\n",
    "Moreover, to deal with complexes for each cell type, as either source or target of the potential CCC events, LIANA will find and assign the subunit of a complex with the lowest gene expression (by default) as the subunit of interest, and will then use the stats for that subunit as the stats of the whole protein complex.\n",
    "\n",
    "<div class=\"alert alert-info\">\n",
    "This is a simple heuristic also adapted by many other methods, but it is not perfect, as in some cases it might be over-conservative. For example, if the subunit with lowest expression is not the one that is differentially expressed, the complex will not be detected as deregulated.\n",
    "\n",
    "To this end, we also provide the option to provide a `complex_col` parameter, which will be used to assign the complex subunit of interest. This column should be a part of the `stat_keys`. Note that the **absolute minimum value** is used (i.e. the value closest to 0 is thought to be the 'worst' result), so this will not work for statistics with ascending values (e.g. p-values).\n",
    "</div>  "
   ]
  },
  {
   "attachments": {},
   "cell_type": "markdown",
   "metadata": {},
   "source": [
    "### Visualize the Results"
   ]
  },
  {
   "attachments": {},
   "cell_type": "markdown",
   "metadata": {},
   "source": [
    "<div class=\"alert alert-success\">\n",
    "\n",
    "`interaction_*` columns returned by `li.multi.dea_to_lr` are just the mean of the ligand and receptor columns of the corresponding statistic!\n",
    "Please use with caution as this is just a summary of the interaction that we can use to e.g. to sort the interactions as done above.\n",
    "Instead, we recommend to use the ligand and receptor statistics **separately** to filter and visualize the interactions.\n",
    "\n",
    "</div>\n",
    "\n",
    "Moreover, by averaging the statistics across the ligand and receptor, we  are focusing on the interactions for which both the ligand and receptor are deregulated in the same direction, i.e. both up or both down. However, this might ignore interactions in which e.g. the the ligand is deregulated while the receptor is not, or such where they are deregulated in opposite directions. These could represent potential inhibitory mechanisms, but we leave this to the user to explore.\n",
    "\n"
   ]
  },
  {
   "cell_type": "code",
   "execution_count": 14,
   "metadata": {},
   "outputs": [
    {
     "data": {
      "text/plain": [
       "<Axes: >"
      ]
     },
     "execution_count": 14,
     "metadata": {},
     "output_type": "execute_result"
    },
    {
     "data": {
      "image/png": "[encoded data removed]",
      "text/plain": [
       "<Figure size 640x480 with 1 Axes>"
      ]
     },
     "metadata": {},
     "output_type": "display_data"
    }
   ],
   "source": [
    "# Let's visualize how this looks like for all interactions  (across all cell types)\n",
    "lr_res = lr_res.sort_values(\"interaction_stat\", ascending=False)\n",
    "lr_res['interaction_stat'].hist(bins=50)"
   ]
  },
  {
   "attachments": {},
   "cell_type": "markdown",
   "metadata": {},
   "source": [
    "Now that we have covered the basics, we can visualize our interactions in a few ways. \n",
    "\n",
    "Let's start with the top interactions according to their Wald statistic, and then plot the statistics for the ligands & receptors involved in those interactions across cell types, to do so LIANA+ provide `li.pl.tileplot`:"
   ]
  },
  {
   "cell_type": "code",
   "execution_count": 15,
   "metadata": {},
   "outputs": [
    {
     "name": "stderr",
     "output_type": "stream",
     "text": [
      "/home/dbdimitrov/anaconda3/envs/spiana/lib/python3.10/site-packages/plotnine/layer.py:411: PlotnineWarning: geom_text : Removed 51 rows containing missing values.\n"
     ]
    },
    {
     "data": {
      "image/png": "[encoded data removed]",
      "text/plain": [
       "<Figure size 500x500 with 2 Axes>"
      ]
     },
     "metadata": {},
     "output_type": "display_data"
    },
    {
     "data": {
      "text/plain": [
       "<ggplot: (8761865134513)>"
      ]
     },
     "execution_count": 15,
     "metadata": {},
     "output_type": "execute_result"
    }
   ],
   "source": [
    "li.pl.tileplot(liana_res=lr_res,\n",
    "         fill = 'expr',\n",
    "         label='padj',\n",
    "         label_fun = lambda x: '*' if x < 0.05 else np.nan,\n",
    "         top_n=15,\n",
    "         orderby = 'interaction_stat',\n",
    "         orderby_ascending = False,\n",
    "         orderby_absolute = False,\n",
    ")"
   ]
  },
  {
   "attachments": {},
   "cell_type": "markdown",
   "metadata": {},
   "source": [
    "If you want to plot the expression values for ligand-receptor interactions without the DEA statistics, you can set the `return_all_lrs` parameter to `True` in the `li.multi.dea_to_lr` function. This will return a dataframe with all the ligand-receptor interactions, where missing DEA stats will be set as `nan`, while mean expression and proportions per cluster will be obtained via the AnnData object."
   ]
  },
  {
   "attachments": {},
   "cell_type": "markdown",
   "metadata": {},
   "source": [
    "#### Ligand-Receptor Plot"
   ]
  },
  {
   "attachments": {},
   "cell_type": "markdown",
   "metadata": {},
   "source": [
    "We can also use visualize of the stats, summarized at the level of the interaction, to prioritize the interactions, or any subunit statistics using `li.pl.dotplot`. For example, we can visualize the mean Wald statistic between the ligand & receptor, together with the pvalues for the ligand."
   ]
  },
  {
   "cell_type": "code",
   "execution_count": 16,
   "metadata": {},
   "outputs": [
    {
     "data": {
      "image/png": "[encoded data removed]",
      "text/plain": [
       "<Figure size 1000x600 with 7 Axes>"
      ]
     },
     "metadata": {},
     "output_type": "display_data"
    },
    {
     "data": {
      "text/plain": [
       "<ggplot: (8761903450061)>"
      ]
     },
     "execution_count": 16,
     "metadata": {},
     "output_type": "execute_result"
    }
   ],
   "source": [
    "plot = li.pl.dotplot(liana_res=lr_res,\n",
    "                     colour='interaction_stat',\n",
    "                     size='ligand_pvalue',\n",
    "                     inverse_size=True,\n",
    "                     orderby='interaction_stat',\n",
    "                     orderby_ascending=False,\n",
    "                     top_n=10,\n",
    "                     size_range=(1, 5))\n",
    "\n",
    "# customize plot\n",
    "(\n",
    "    plot\n",
    "    + p9.theme_bw(base_size=14)\n",
    "    # fill cmap blue to red\n",
    "    + p9.scale_color_cmap('RdBu_r')\n",
    "    # rotate x\n",
    "    + p9.theme(axis_text_x=p9.element_text(angle=90), figure_size=(10, 6))\n",
    "\n",
    ")"
   ]
  },
  {
   "attachments": {},
   "cell_type": "markdown",
   "metadata": {},
   "source": [
    "Now that we have identified a set of interactions that are potentially deregulated we can look into the downstream signalling events that they might be involved in.\n",
    "\n",
    "<div class=\"alert alert-info\">\n",
    "  One can also estimate ligand-receptor pathway activities, etc, these are covered multiple times in other tutorials, but also are applicable here.\n",
    "</div>"
   ]
  },
  {
   "attachments": {},
   "cell_type": "markdown",
   "metadata": {},
   "source": [
    "### Intracellular Signaling Networks\n",
    "\n",
    "Cellular signaling networks govern the behavior of cells, allowing them to respond to external signals, including various cell-cell communication events. Thus, CCC events can be thought of as upstream perturbants of intracellular signaling networks that lead to deregulations of downstream signaling events. Such deregulations are expected to be associated with various conditions and disease. Thus, understanding intracellular signaling networks is critical to model the cellular mechanisms.\n",
    "\n",
    "Here, we will combine several tools to identify plausible signalling cascades driven by CCC events.\n",
    "\n",
    "Our approach includes the following steps:\n",
    "\n",
    "* Select a number of potentially deregulated ligand-receptor interactions (input nodes), in terms of summarized PyDESeq2 statistics.\n",
    "\n",
    "* Select a number of potentially deregulated TFs (output nodes). This is done via the use of Transcription factor (TF) activity inference. Carried out on differential gene expression data using [TF regulon knowledge](https://github.com/saezlab/CollecTRI) with [decoupler](https://github.com/saezlab/decoupler-py)\n",
    "\n",
    "* Obtain a prior knowledge network (PKNs), with signed protein-protein interactions from OmniPath.\n",
    "\n",
    "* Generate weights for the nodes in the PKN\n",
    "\n",
    "* Use CORNETO to identify a solution in the form of a [causal (smallest sign-consistent signaling) network](https://www.nature.com/articles/s41540-019-0118-z) that explains the measured inputs and outputs\n",
    "\n",
    "![Causal network overview](docs/source/notebooks/causal-networks.png)\n",
    "\n",
    "\n"
   ]
  },
  {
   "attachments": {},
   "cell_type": "markdown",
   "metadata": {},
   "source": [
    "#### Select Cell types of Interest"
   ]
  },
  {
   "cell_type": "code",
   "execution_count": 17,
   "metadata": {},
   "outputs": [],
   "source": [
    "from liana.funcomics.causalnet import build_prior_network, search_causalnet"
   ]
  },
  {
   "cell_type": "code",
   "execution_count": 18,
   "metadata": {},
   "outputs": [],
   "source": [
    "def select_top_n(d, n=None):\n",
    "    d = dict(sorted(d.items(), key=lambda item: abs(item[1]), reverse=True))\n",
    "    return {k: v for i, (k, v) in enumerate(d.items()) if i < n}"
   ]
  },
  {
   "attachments": {},
   "cell_type": "markdown",
   "metadata": {},
   "source": [
    "One limitation of using DEA to identify interactions of interest is that it tells us little about deregulation at the level of cell types.\n",
    "However, from dimensionality reductions on CCC, as done with [Tensor-cell2cell](https://liana-py.readthedocs.io/en/latest/notebooks/liana_c2c.html) & [MOFA](https://liana-py.readthedocs.io/en/latest/notebooks/mofatalk.html#) on the same dataset, we can see there is a potential deregulation of CCC that involve CD14 monocytes both as sources (senders) and targets (or receivers) of intecellular communication. Thus, we will focus on the interactions and downstream signalling within that cell type."
   ]
  },
  {
   "cell_type": "code",
   "execution_count": 19,
   "metadata": {},
   "outputs": [],
   "source": [
    "source_label = 'CD14'\n",
    "target_label = 'CD14'\n",
    "\n",
    "# NOTE: We sort by the absolute value of the interaction stat\n",
    "lr_stats = lr_res[lr_res['source'].isin([source_label]) & lr_res['target'].isin([target_label])].copy()\n",
    "lr_stats = lr_stats.sort_values('interaction_stat', ascending=False, key=abs)\n"
   ]
  },
  {
   "attachments": {},
   "cell_type": "markdown",
   "metadata": {},
   "source": [
    "#### Select Receptors based on interaction stats\n",
    "\n",
    "These will be used as the input or start nodes for the network. In this case, we will use interactions potentially involved in autocrine signalling in CD14 monocytes."
   ]
  },
  {
   "cell_type": "code",
   "execution_count": 20,
   "metadata": {},
   "outputs": [],
   "source": [
    "lr_dict = lr_res.set_index('receptor')['interaction_stat'].to_dict()\n",
    "input_scores = select_top_n(lr_dict, n=10)"
   ]
  },
  {
   "attachments": {},
   "cell_type": "markdown",
   "metadata": {},
   "source": [
    "#### Select Transcription Factors of interest\n",
    "\n",
    "Before we select the transcription factors, we need to infer their activity. We will do so using [decoupler](https://github.com/saezlab/decoupler-py) with [CollecTri](https://github.com/saezlab/CollecTRI) regulons. Specifically, we will estimate TF activities using the Wald statistics (from PyDESeq2) for the genes in the regulons."
   ]
  },
  {
   "cell_type": "code",
   "execution_count": 21,
   "metadata": {},
   "outputs": [
    {
     "data": {
      "text/html": [
       "<div>\n",
       "<style scoped>\n",
       "    .dataframe tbody tr th:only-of-type {\n",
       "        vertical-align: middle;\n",
       "    }\n",
       "\n",
       "    .dataframe tbody tr th {\n",
       "        vertical-align: top;\n",
       "    }\n",
       "\n",
       "    .dataframe thead th {\n",
       "        text-align: right;\n",
       "    }\n",
       "</style>\n",
       "<table border=\"1\" class=\"dataframe\">\n",
       "  <thead>\n",
       "    <tr style=\"text-align: right;\">\n",
       "      <th>genes</th>\n",
       "      <th>A1BG</th>\n",
       "      <th>AAAS</th>\n",
       "      <th>AAED1</th>\n",
       "      <th>AAGAB</th>\n",
       "      <th>AAK1</th>\n",
       "      <th>AAMDC</th>\n",
       "      <th>AAMP</th>\n",
       "      <th>AAR2</th>\n",
       "      <th>AARS</th>\n",
       "      <th>AARSD1</th>\n",
       "      <th>...</th>\n",
       "      <th>ZSCAN16</th>\n",
       "      <th>ZSCAN16-AS1</th>\n",
       "      <th>ZSCAN18</th>\n",
       "      <th>ZSCAN32</th>\n",
       "      <th>ZSWIM6</th>\n",
       "      <th>ZSWIM7</th>\n",
       "      <th>ZUFSP</th>\n",
       "      <th>ZW10</th>\n",
       "      <th>ZYX</th>\n",
       "      <th>ZZZ3</th>\n",
       "    </tr>\n",
       "    <tr>\n",
       "      <th>cell_abbr</th>\n",
       "      <th></th>\n",
       "      <th></th>\n",
       "      <th></th>\n",
       "      <th></th>\n",
       "      <th></th>\n",
       "      <th></th>\n",
       "      <th></th>\n",
       "      <th></th>\n",
       "      <th></th>\n",
       "      <th></th>\n",
       "      <th></th>\n",
       "      <th></th>\n",
       "      <th></th>\n",
       "      <th></th>\n",
       "      <th></th>\n",
       "      <th></th>\n",
       "      <th></th>\n",
       "      <th></th>\n",
       "      <th></th>\n",
       "      <th></th>\n",
       "      <th></th>\n",
       "    </tr>\n",
       "  </thead>\n",
       "  <tbody>\n",
       "    <tr>\n",
       "      <th>B</th>\n",
       "      <td>0.000000</td>\n",
       "      <td>0.000000</td>\n",
       "      <td>-0.605923</td>\n",
       "      <td>0.000000</td>\n",
       "      <td>0.000000</td>\n",
       "      <td>0.000000</td>\n",
       "      <td>-2.523263</td>\n",
       "      <td>0.000000</td>\n",
       "      <td>0.782374</td>\n",
       "      <td>0.000000</td>\n",
       "      <td>...</td>\n",
       "      <td>0.000000</td>\n",
       "      <td>0.000000</td>\n",
       "      <td>0.000000</td>\n",
       "      <td>0.000000</td>\n",
       "      <td>0.000000</td>\n",
       "      <td>-2.350376</td>\n",
       "      <td>0.000000</td>\n",
       "      <td>0.00000</td>\n",
       "      <td>0.000000</td>\n",
       "      <td>0.000000</td>\n",
       "    </tr>\n",
       "    <tr>\n",
       "      <th>CD14</th>\n",
       "      <td>-2.993111</td>\n",
       "      <td>0.000000</td>\n",
       "      <td>10.129553</td>\n",
       "      <td>0.000000</td>\n",
       "      <td>1.085436</td>\n",
       "      <td>6.968489</td>\n",
       "      <td>-3.097932</td>\n",
       "      <td>0.000000</td>\n",
       "      <td>0.000000</td>\n",
       "      <td>0.000000</td>\n",
       "      <td>...</td>\n",
       "      <td>0.000000</td>\n",
       "      <td>0.000000</td>\n",
       "      <td>0.000000</td>\n",
       "      <td>0.000000</td>\n",
       "      <td>-1.281381</td>\n",
       "      <td>-4.154833</td>\n",
       "      <td>1.737279</td>\n",
       "      <td>0.00000</td>\n",
       "      <td>-1.796965</td>\n",
       "      <td>0.000000</td>\n",
       "    </tr>\n",
       "    <tr>\n",
       "      <th>CD4T</th>\n",
       "      <td>-2.814957</td>\n",
       "      <td>-1.995631</td>\n",
       "      <td>0.191978</td>\n",
       "      <td>1.144712</td>\n",
       "      <td>-5.150155</td>\n",
       "      <td>-0.081141</td>\n",
       "      <td>-0.650599</td>\n",
       "      <td>2.032146</td>\n",
       "      <td>1.648662</td>\n",
       "      <td>-0.270347</td>\n",
       "      <td>...</td>\n",
       "      <td>-0.218578</td>\n",
       "      <td>-1.168355</td>\n",
       "      <td>-1.515016</td>\n",
       "      <td>-0.430795</td>\n",
       "      <td>0.000000</td>\n",
       "      <td>-1.685312</td>\n",
       "      <td>3.455590</td>\n",
       "      <td>-0.17713</td>\n",
       "      <td>-1.399221</td>\n",
       "      <td>-0.240491</td>\n",
       "    </tr>\n",
       "    <tr>\n",
       "      <th>CD8T</th>\n",
       "      <td>0.000000</td>\n",
       "      <td>0.000000</td>\n",
       "      <td>0.000000</td>\n",
       "      <td>0.000000</td>\n",
       "      <td>0.000000</td>\n",
       "      <td>0.000000</td>\n",
       "      <td>0.000000</td>\n",
       "      <td>0.000000</td>\n",
       "      <td>0.000000</td>\n",
       "      <td>0.000000</td>\n",
       "      <td>...</td>\n",
       "      <td>0.000000</td>\n",
       "      <td>0.000000</td>\n",
       "      <td>0.000000</td>\n",
       "      <td>0.000000</td>\n",
       "      <td>0.000000</td>\n",
       "      <td>0.000000</td>\n",
       "      <td>0.000000</td>\n",
       "      <td>0.00000</td>\n",
       "      <td>0.000000</td>\n",
       "      <td>0.000000</td>\n",
       "    </tr>\n",
       "    <tr>\n",
       "      <th>DCs</th>\n",
       "      <td>0.000000</td>\n",
       "      <td>0.000000</td>\n",
       "      <td>3.883796</td>\n",
       "      <td>0.000000</td>\n",
       "      <td>0.000000</td>\n",
       "      <td>0.000000</td>\n",
       "      <td>-1.620856</td>\n",
       "      <td>0.000000</td>\n",
       "      <td>0.000000</td>\n",
       "      <td>0.000000</td>\n",
       "      <td>...</td>\n",
       "      <td>0.000000</td>\n",
       "      <td>0.000000</td>\n",
       "      <td>0.000000</td>\n",
       "      <td>0.000000</td>\n",
       "      <td>0.000000</td>\n",
       "      <td>0.000000</td>\n",
       "      <td>0.000000</td>\n",
       "      <td>0.00000</td>\n",
       "      <td>-2.573142</td>\n",
       "      <td>0.000000</td>\n",
       "    </tr>\n",
       "    <tr>\n",
       "      <th>FGR3</th>\n",
       "      <td>0.000000</td>\n",
       "      <td>0.000000</td>\n",
       "      <td>2.836840</td>\n",
       "      <td>0.000000</td>\n",
       "      <td>0.000000</td>\n",
       "      <td>0.000000</td>\n",
       "      <td>-3.248816</td>\n",
       "      <td>0.000000</td>\n",
       "      <td>0.000000</td>\n",
       "      <td>0.000000</td>\n",
       "      <td>...</td>\n",
       "      <td>4.160610</td>\n",
       "      <td>0.000000</td>\n",
       "      <td>0.000000</td>\n",
       "      <td>0.000000</td>\n",
       "      <td>0.000000</td>\n",
       "      <td>0.000000</td>\n",
       "      <td>0.000000</td>\n",
       "      <td>0.00000</td>\n",
       "      <td>-2.117717</td>\n",
       "      <td>0.000000</td>\n",
       "    </tr>\n",
       "    <tr>\n",
       "      <th>NK</th>\n",
       "      <td>0.000000</td>\n",
       "      <td>0.000000</td>\n",
       "      <td>0.000000</td>\n",
       "      <td>0.000000</td>\n",
       "      <td>0.000000</td>\n",
       "      <td>0.000000</td>\n",
       "      <td>-2.548184</td>\n",
       "      <td>0.000000</td>\n",
       "      <td>0.000000</td>\n",
       "      <td>0.000000</td>\n",
       "      <td>...</td>\n",
       "      <td>0.000000</td>\n",
       "      <td>0.000000</td>\n",
       "      <td>0.000000</td>\n",
       "      <td>0.000000</td>\n",
       "      <td>0.000000</td>\n",
       "      <td>0.000000</td>\n",
       "      <td>0.000000</td>\n",
       "      <td>0.00000</td>\n",
       "      <td>0.000000</td>\n",
       "      <td>0.000000</td>\n",
       "    </tr>\n",
       "  </tbody>\n",
       "</table>\n",
       "<p>7 rows × 7802 columns</p>\n",
       "</div>"
      ],
      "text/plain": [
       "genes          A1BG      AAAS      AAED1     AAGAB      AAK1     AAMDC  \\\n",
       "cell_abbr                                                                \n",
       "B          0.000000  0.000000  -0.605923  0.000000  0.000000  0.000000   \n",
       "CD14      -2.993111  0.000000  10.129553  0.000000  1.085436  6.968489   \n",
       "CD4T      -2.814957 -1.995631   0.191978  1.144712 -5.150155 -0.081141   \n",
       "CD8T       0.000000  0.000000   0.000000  0.000000  0.000000  0.000000   \n",
       "DCs        0.000000  0.000000   3.883796  0.000000  0.000000  0.000000   \n",
       "FGR3       0.000000  0.000000   2.836840  0.000000  0.000000  0.000000   \n",
       "NK         0.000000  0.000000   0.000000  0.000000  0.000000  0.000000   \n",
       "\n",
       "genes          AAMP      AAR2      AARS    AARSD1  ...   ZSCAN16  ZSCAN16-AS1  \\\n",
       "cell_abbr                                          ...                          \n",
       "B         -2.523263  0.000000  0.782374  0.000000  ...  0.000000     0.000000   \n",
       "CD14      -3.097932  0.000000  0.000000  0.000000  ...  0.000000     0.000000   \n",
       "CD4T      -0.650599  2.032146  1.648662 -0.270347  ... -0.218578    -1.168355   \n",
       "CD8T       0.000000  0.000000  0.000000  0.000000  ...  0.000000     0.000000   \n",
       "DCs       -1.620856  0.000000  0.000000  0.000000  ...  0.000000     0.000000   \n",
       "FGR3      -3.248816  0.000000  0.000000  0.000000  ...  4.160610     0.000000   \n",
       "NK        -2.548184  0.000000  0.000000  0.000000  ...  0.000000     0.000000   \n",
       "\n",
       "genes       ZSCAN18   ZSCAN32    ZSWIM6    ZSWIM7     ZUFSP     ZW10  \\\n",
       "cell_abbr                                                              \n",
       "B          0.000000  0.000000  0.000000 -2.350376  0.000000  0.00000   \n",
       "CD14       0.000000  0.000000 -1.281381 -4.154833  1.737279  0.00000   \n",
       "CD4T      -1.515016 -0.430795  0.000000 -1.685312  3.455590 -0.17713   \n",
       "CD8T       0.000000  0.000000  0.000000  0.000000  0.000000  0.00000   \n",
       "DCs        0.000000  0.000000  0.000000  0.000000  0.000000  0.00000   \n",
       "FGR3       0.000000  0.000000  0.000000  0.000000  0.000000  0.00000   \n",
       "NK         0.000000  0.000000  0.000000  0.000000  0.000000  0.00000   \n",
       "\n",
       "genes           ZYX      ZZZ3  \n",
       "cell_abbr                      \n",
       "B          0.000000  0.000000  \n",
       "CD14      -1.796965  0.000000  \n",
       "CD4T      -1.399221 -0.240491  \n",
       "CD8T       0.000000  0.000000  \n",
       "DCs       -2.573142  0.000000  \n",
       "FGR3      -2.117717  0.000000  \n",
       "NK         0.000000  0.000000  \n",
       "\n",
       "[7 rows x 7802 columns]"
      ]
     },
     "execution_count": 21,
     "metadata": {},
     "output_type": "execute_result"
    }
   ],
   "source": [
    "# First, let's transform the DEA statistics into a DF\n",
    "# we will use these to estimate deregulated TF activity\n",
    "dea_wide = dea_df[[groupby, 'stat']].reset_index(names='genes').pivot(index=groupby, columns='genes', values='stat')\n",
    "dea_wide = dea_wide.fillna(0)\n",
    "dea_wide"
   ]
  },
  {
   "cell_type": "code",
   "execution_count": 22,
   "metadata": {},
   "outputs": [
    {
     "data": {
      "text/html": [
       "<div>\n",
       "<style scoped>\n",
       "    .dataframe tbody tr th:only-of-type {\n",
       "        vertical-align: middle;\n",
       "    }\n",
       "\n",
       "    .dataframe tbody tr th {\n",
       "        vertical-align: top;\n",
       "    }\n",
       "\n",
       "    .dataframe thead th {\n",
       "        text-align: right;\n",
       "    }\n",
       "</style>\n",
       "<table border=\"1\" class=\"dataframe\">\n",
       "  <thead>\n",
       "    <tr style=\"text-align: right;\">\n",
       "      <th></th>\n",
       "      <th>B</th>\n",
       "      <th>CD14</th>\n",
       "      <th>CD4T</th>\n",
       "      <th>CD8T</th>\n",
       "      <th>DCs</th>\n",
       "      <th>FGR3</th>\n",
       "      <th>NK</th>\n",
       "    </tr>\n",
       "  </thead>\n",
       "  <tbody>\n",
       "    <tr>\n",
       "      <th>STAT1</th>\n",
       "      <td>17.925758</td>\n",
       "      <td>13.178977</td>\n",
       "      <td>16.732031</td>\n",
       "      <td>17.534157</td>\n",
       "      <td>17.887789</td>\n",
       "      <td>15.023761</td>\n",
       "      <td>16.353579</td>\n",
       "    </tr>\n",
       "    <tr>\n",
       "      <th>IRF1</th>\n",
       "      <td>15.772070</td>\n",
       "      <td>10.694120</td>\n",
       "      <td>14.545122</td>\n",
       "      <td>13.119097</td>\n",
       "      <td>14.475659</td>\n",
       "      <td>11.968841</td>\n",
       "      <td>13.322463</td>\n",
       "    </tr>\n",
       "    <tr>\n",
       "      <th>STAT2</th>\n",
       "      <td>14.907374</td>\n",
       "      <td>9.841791</td>\n",
       "      <td>12.172815</td>\n",
       "      <td>13.719725</td>\n",
       "      <td>15.724826</td>\n",
       "      <td>12.524624</td>\n",
       "      <td>12.979837</td>\n",
       "    </tr>\n",
       "    <tr>\n",
       "      <th>IRF9</th>\n",
       "      <td>18.449511</td>\n",
       "      <td>8.839635</td>\n",
       "      <td>14.894262</td>\n",
       "      <td>19.616829</td>\n",
       "      <td>17.128397</td>\n",
       "      <td>13.704010</td>\n",
       "      <td>17.811869</td>\n",
       "    </tr>\n",
       "    <tr>\n",
       "      <th>NFKB1</th>\n",
       "      <td>6.898098</td>\n",
       "      <td>7.734271</td>\n",
       "      <td>8.250920</td>\n",
       "      <td>5.890988</td>\n",
       "      <td>9.258317</td>\n",
       "      <td>8.580382</td>\n",
       "      <td>7.130544</td>\n",
       "    </tr>\n",
       "  </tbody>\n",
       "</table>\n",
       "</div>"
      ],
      "text/plain": [
       "               B       CD14       CD4T       CD8T        DCs       FGR3  \\\n",
       "STAT1  17.925758  13.178977  16.732031  17.534157  17.887789  15.023761   \n",
       "IRF1   15.772070  10.694120  14.545122  13.119097  14.475659  11.968841   \n",
       "STAT2  14.907374   9.841791  12.172815  13.719725  15.724826  12.524624   \n",
       "IRF9   18.449511   8.839635  14.894262  19.616829  17.128397  13.704010   \n",
       "NFKB1   6.898098   7.734271   8.250920   5.890988   9.258317   8.580382   \n",
       "\n",
       "              NK  \n",
       "STAT1  16.353579  \n",
       "IRF1   13.322463  \n",
       "STAT2  12.979837  \n",
       "IRF9   17.811869  \n",
       "NFKB1   7.130544  "
      ]
     },
     "execution_count": 22,
     "metadata": {},
     "output_type": "execute_result"
    }
   ],
   "source": [
    "# Obtain TF regulons\n",
    "net = dc.get_collectri()\n",
    "# Run Enrichment Analysis\n",
    "estimates, pvals = dc.run_ulm(mat=dea_wide, net=net)\n",
    "estimates.T.sort_values(target_label, key=abs, ascending=False).head()"
   ]
  },
  {
   "attachments": {},
   "cell_type": "markdown",
   "metadata": {},
   "source": [
    "##### Select top x TFs"
   ]
  },
  {
   "attachments": {},
   "cell_type": "markdown",
   "metadata": {},
   "source": [
    "Now that we have the potentially deregulated TFs, we focus on the top 10 TFs, based on their enrichment scores. In this case, we will look specifically at the top TFs deregulated in CD14 monocytes."
   ]
  },
  {
   "cell_type": "code",
   "execution_count": 23,
   "metadata": {},
   "outputs": [],
   "source": [
    "tf_data = estimates.copy()\n",
    "tf_dict = tf_data.loc[target_label].to_dict()\n",
    "output_scores = select_top_n(tf_dict, n=5)"
   ]
  },
  {
   "attachments": {},
   "cell_type": "markdown",
   "metadata": {},
   "source": [
    "#### Generate a Prior Knowledge Network"
   ]
  },
  {
   "attachments": {},
   "cell_type": "markdown",
   "metadata": {},
   "source": [
    "Now we will obtain protein-protein interactions from [OmniPath](https://github.com/saezlab/omnipath), filter them according to curation effort to ensure we only keep those that are of high quality, and convert them into a knowledge graph."
   ]
  },
  {
   "cell_type": "code",
   "execution_count": 24,
   "metadata": {},
   "outputs": [
    {
     "data": {
      "text/html": [
       "<div>\n",
       "<style scoped>\n",
       "    .dataframe tbody tr th:only-of-type {\n",
       "        vertical-align: middle;\n",
       "    }\n",
       "\n",
       "    .dataframe tbody tr th {\n",
       "        vertical-align: top;\n",
       "    }\n",
       "\n",
       "    .dataframe thead th {\n",
       "        text-align: right;\n",
       "    }\n",
       "</style>\n",
       "<table border=\"1\" class=\"dataframe\">\n",
       "  <thead>\n",
       "    <tr style=\"text-align: right;\">\n",
       "      <th></th>\n",
       "      <th>source</th>\n",
       "      <th>mor</th>\n",
       "      <th>target</th>\n",
       "    </tr>\n",
       "  </thead>\n",
       "  <tbody>\n",
       "    <tr>\n",
       "      <th>3</th>\n",
       "      <td>CAV1</td>\n",
       "      <td>1</td>\n",
       "      <td>TRPC1</td>\n",
       "    </tr>\n",
       "    <tr>\n",
       "      <th>6</th>\n",
       "      <td>ITPR2</td>\n",
       "      <td>1</td>\n",
       "      <td>TRPC1</td>\n",
       "    </tr>\n",
       "    <tr>\n",
       "      <th>9</th>\n",
       "      <td>STIM1</td>\n",
       "      <td>1</td>\n",
       "      <td>TRPC1</td>\n",
       "    </tr>\n",
       "    <tr>\n",
       "      <th>10</th>\n",
       "      <td>TRPC1</td>\n",
       "      <td>1</td>\n",
       "      <td>TRPC3</td>\n",
       "    </tr>\n",
       "    <tr>\n",
       "      <th>11</th>\n",
       "      <td>TRPC3</td>\n",
       "      <td>1</td>\n",
       "      <td>TRPC1</td>\n",
       "    </tr>\n",
       "  </tbody>\n",
       "</table>\n",
       "</div>"
      ],
      "text/plain": [
       "   source  mor target\n",
       "3    CAV1    1  TRPC1\n",
       "6   ITPR2    1  TRPC1\n",
       "9   STIM1    1  TRPC1\n",
       "10  TRPC1    1  TRPC3\n",
       "11  TRPC3    1  TRPC1"
      ]
     },
     "execution_count": 24,
     "metadata": {},
     "output_type": "execute_result"
    }
   ],
   "source": [
    "# obtain ppi network\n",
    "ppis = op.interactions.OmniPath().get(genesymbols = True)\n",
    "\n",
    "ppis['mor'] = ppis['is_stimulation'].astype(int) - ppis['is_inhibition'].astype(int)\n",
    "ppis = ppis[(ppis['mor'] != 0) & (ppis['curation_effort'] >= 5) & ppis['consensus_direction']] \n",
    "\n",
    "input_pkn = ppis[['source_genesymbol', 'mor', 'target_genesymbol']]\n",
    "input_pkn.columns = ['source', 'mor', 'target']\n",
    "input_pkn.head()"
   ]
  },
  {
   "cell_type": "code",
   "execution_count": 25,
   "metadata": {},
   "outputs": [
    {
     "name": "stdout",
     "output_type": "stream",
     "text": [
      "Importing network...done.\n",
      " - Nodes x Edges: (3115, 6157)\n",
      " - Provided inputs included in the prior network: 8/10\n",
      " - Provided outputs included in the network: 5/5\n",
      "Performing reachability analysis...done.\n",
      " - Selected inputs: 2/8.\n",
      " - Selected outputs: 5/5.\n",
      " - Final size of the prior graph: (530, 1994).\n"
     ]
    }
   ],
   "source": [
    "# convert the PPI network into a knowledge graph\n",
    "prior_graph = build_prior_network(input_pkn, input_scores, output_scores, verbose=True)"
   ]
  },
  {
   "attachments": {},
   "cell_type": "markdown",
   "metadata": {},
   "source": [
    "In this section we use Prior Knowledge Networks (PKNs) from OmniPath to generate network hypotheses based on the deregulated interactions considering both sign and direction. Specifically, we focus on highly curated protein-protein interactions, which often represent hubs in the network. Since such network approaches are highly dependent on prior knowledge, for a review on prior knowledge bias and similar network inference methods, including thier limitations, see [Garrido-Rodriguez et al., 2022](https://www.embopress.org/doi/full/10.15252/msb.202211036)."
   ]
  },
  {
   "attachments": {},
   "cell_type": "markdown",
   "metadata": {},
   "source": [
    "##### Calculate Node weights"
   ]
  },
  {
   "attachments": {},
   "cell_type": "markdown",
   "metadata": {},
   "source": [
    "Calculate gene expression proportions within the target cell type; we will use those as node weights in the network."
   ]
  },
  {
   "cell_type": "code",
   "execution_count": 26,
   "metadata": {},
   "outputs": [],
   "source": [
    "temp = adata[adata.obs[groupby] == target_label].copy()"
   ]
  },
  {
   "cell_type": "code",
   "execution_count": 27,
   "metadata": {},
   "outputs": [],
   "source": [
    "node_weights = pd.DataFrame(temp.X.getnnz(axis=0) / temp.n_obs, index=temp.var_names)\n",
    "node_weights = node_weights.rename(columns={0: 'props'})\n",
    "node_weights = node_weights['props'].to_dict()"
   ]
  },
  {
   "attachments": {},
   "cell_type": "markdown",
   "metadata": {},
   "source": [
    "#### Find Causal Network"
   ]
  },
  {
   "attachments": {},
   "cell_type": "markdown",
   "metadata": {},
   "source": [
    "\n",
    "[CORNETO](https://github.com/saezlab/corneto) (Rodriguez-Mier et al., In prep) generalizes biological network inference problems using convex and combinatorial optimization. Here, we use it to find the smallest sign-consistent network that explains the measured inputs and outputs, a network inference problem formulated in [CARNIVAL](https://www.nature.com/articles/s41540-019-0118-z).\n",
    "\n",
    "<div class=\"alert alert-info\">\n",
    "CORNETO further generalizes the use of different solvers to find the network inference problems, as such it supports  a wide range of supported free and commercial solvers. If no additional solver is installed (as done here), it will default to using the solver included in SCIPY. \n",
    "We refer the user to the CORNETO documentation for more details on how to use different solvers, specifically if they wish to solve more complex examples than the one presented here.\n",
    "</div>"
   ]
  },
  {
   "cell_type": "code",
   "execution_count": 28,
   "metadata": {},
   "outputs": [
    {
     "name": "stderr",
     "output_type": "stream",
     "text": [
      "/home/dbdimitrov/Repos/liana-py/liana/funcomics/causalnet.py:147: UserWarning: Note: SCIPY has been selected as the default solver. However, for optimal performance, it's recommended to use one of the following solvers: GUROBI, CPLEX, COPT, or MOSEK.\n"
     ]
    },
    {
     "name": "stdout",
     "output_type": "stream",
     "text": [
      "Total positive/negative scores of the inputs and outputs:\n",
      " - (-) input nodes: -47.30584645565938\n",
      " - (+) input nodes: 20.339521426406968\n",
      " - (-) output nodes: 0\n",
      " - (+) output nodes: 50.28879404067993\n",
      " - abs total (inputs + outputs): 117.93416192274628\n",
      "Building CORNETO problem...\n",
      "Solving with SCIPY...\n",
      "===============================================================================\n",
      "                                     CVXPY                                     \n",
      "                                     v1.3.1                                    \n",
      "===============================================================================\n",
      "(CVXPY) Jul 21 11:56:48 AM: Your problem has 9622 variables, 31 constraints, and 0 parameters.\n",
      "(CVXPY) Jul 21 11:56:48 AM: It is compliant with the following grammars: DCP, DQCP\n",
      "(CVXPY) Jul 21 11:56:48 AM: (If you need to solve this problem multiple times, but with different data, consider using parameters.)\n",
      "(CVXPY) Jul 21 11:56:48 AM: CVXPY will first compile your problem; then, it will invoke a numerical solver to obtain a solution.\n",
      "-------------------------------------------------------------------------------\n",
      "                                  Compilation                                  \n",
      "-------------------------------------------------------------------------------\n",
      "(CVXPY) Jul 21 11:56:48 AM: Compiling problem (target solver=SCIPY).\n",
      "(CVXPY) Jul 21 11:56:48 AM: Reduction chain: Dcp2Cone -> CvxAttr2Constr -> ConeMatrixStuffing -> SCIPY\n",
      "(CVXPY) Jul 21 11:56:48 AM: Applying reduction Dcp2Cone\n",
      "(CVXPY) Jul 21 11:56:48 AM: Applying reduction CvxAttr2Constr\n",
      "(CVXPY) Jul 21 11:56:48 AM: Applying reduction ConeMatrixStuffing\n",
      "(CVXPY) Jul 21 11:56:48 AM: Applying reduction SCIPY\n",
      "(CVXPY) Jul 21 11:56:48 AM: Finished problem compilation (took 1.474e-01 seconds).\n",
      "-------------------------------------------------------------------------------\n",
      "                                Numerical solver                               \n",
      "-------------------------------------------------------------------------------\n",
      "(CVXPY) Jul 21 11:56:48 AM: Invoking solver SCIPY  to obtain a solution.\n",
      "Running HiGHS 1.2.0 [date: 2021-07-09, git hash: n/a]\n",
      "Copyright (c) 2022 ERGO-Code under MIT licence terms\n",
      "Presolving model\n",
      "15999 rows, 9473 cols, 43847 nonzeros\n",
      "14509 rows, 8403 cols, 44085 nonzeros\n",
      "\n",
      "Solving MIP model with:\n",
      "   14509 rows\n",
      "   8403 cols (6239 binary, 0 integer, 0 implied int., 2164 continuous)\n",
      "   44085 nonzeros\n",
      "\n",
      "        Nodes      |    B&B Tree     |            Objective Bounds              |  Dynamic Constraints |       Work      \n",
      "     Proc. InQueue |  Leaves   Expl. | BestBound       BestSol              Gap |   Cuts   InLp Confl. | LpIters     Time\n",
      "\n",
      "         0       0         0   0.00%   -66.76639786    inf                  inf        0      0      0         0     0.4s\n",
      "         0       0         0   0.00%   -63.66471819    inf                  inf        0      0     10       988     0.6s\n",
      "         0       0         0   0.00%   -63.53639444    inf                  inf     1361     84    322      5058     5.9s\n",
      "         0       0         0   0.00%   -62.61389461    inf                  inf     1705     77    497     21397    50.6s\n",
      "\n",
      "0.2% inactive integer columns, restarting\n",
      "Model after restart has 12605 rows, 8392 cols (6228 bin., 0 int., 0 impl., 2164 cont.), and 38395 nonzeros\n",
      "\n",
      "         0       0         0   0.00%   -62.61389461    inf                  inf       71      0      0     21397    50.8s\n",
      "         0       0         0   0.00%   -62.61389461    inf                  inf       71     64     10     22984    51.3s\n",
      "         0       0         0   0.00%   -62.60734985    inf                  inf      244    119    341     26793    56.4s\n",
      " L       0       0         0   0.00%   -62.60734985    -61.53639786       1.74%      244    119    341     26793    60.3s\n",
      "\n",
      "5.7% inactive integer columns, restarting\n",
      "Model after restart has 10956 rows, 7462 cols (5404 bin., 0 int., 0 impl., 2058 cont.), and 33262 nonzeros\n",
      "\n",
      "         0       0         0   0.00%   -62.60734984    -61.53639786       1.74%       89      0      0     31973    60.6s\n",
      "         0       0         0   0.00%   -62.60734984    -61.53639786       1.74%       89     82      6     33313    60.9s\n",
      "\n",
      "Symmetry detection completed in 0.1s\n",
      "Found 2 generators and 87 full orbitope(s) acting on 182 columns\n",
      "\n",
      "         6       0         1   3.12%   -62.60734984    -61.53639786       1.74%       98     85     52    111699    85.6s\n",
      "        16       1         6  40.62%   -62.60734984    -61.53639786       1.74%      114     85    171    149402    96.8s\n",
      " T      29       1        12  55.96%   -62.60734984    -61.56639786       1.69%      120     85    216    151830    97.6s\n",
      "        65       7        25  62.89%   -62.60734984    -61.56639786       1.69%      138     85    415    171072   102.8s\n",
      "       103      13        40  73.32%   -62.60306421    -61.56639786       1.68%     1045    117    778    189551   108.5s\n",
      "       154      13        63  85.76%   -62.60306421    -61.56639786       1.68%     2414     94   1493    206686   114.7s\n",
      " T     207      19        86  86.61%   -62.60306421    -61.57639786       1.67%     2434     94   1903    215744   118.4s\n",
      " B     256       6       105  93.49%   -62.60306421    -62.54639786       0.09%     2586     76   2324    229827   123.1s\n",
      " T     260       4       105  94.38%   -62.60306421    -62.56639786       0.06%     2610     79   2366    230575   123.4s\n",
      "\n",
      "Solving report\n",
      "  Status            Optimal\n",
      "  Primal bound      -62.5663978574\n",
      "  Dual bound        -62.5663978574\n",
      "  Gap               0% (tolerance: 0.01%)\n",
      "  Solution status   feasible\n",
      "                    -62.5663978574 (objective)\n",
      "                    0 (bound viol.)\n",
      "                    0 (int. viol.)\n",
      "                    0 (row viol.)\n",
      "  Timing            128.10 (total)\n",
      "                    0.40 (presolve)\n",
      "                    0.00 (postsolve)\n",
      "  Nodes             307\n",
      "  LP iterations     244648 (total)\n",
      "                    142125 (strong br.)\n",
      "                    19642 (separation)\n",
      "                    17067 (heuristics)\n",
      "Solver terminated with message: Optimization terminated successfully. (HiGHS Status 7: Optimal)\n",
      "-------------------------------------------------------------------------------\n",
      "                                    Summary                                    \n",
      "-------------------------------------------------------------------------------\n",
      "(CVXPY) Jul 21 11:58:57 AM: Problem status: optimal\n",
      "(CVXPY) Jul 21 11:58:57 AM: Optimal value: 4.310e+00\n",
      "(CVXPY) Jul 21 11:58:57 AM: Compilation took 1.474e-01 seconds\n",
      "(CVXPY) Jul 21 11:58:57 AM: Solver (including time spent in interface) took 1.281e+02 seconds\n",
      "Done.\n",
      "Solution summary:\n",
      " - Loss (unfitted inputs/output): [0.]\n",
      " - Edge penalty error: 28.0\n",
      " - Node penalty error: 4.029999999999999\n"
     ]
    },
    {
     "name": "stderr",
     "output_type": "stream",
     "text": [
      "/home/dbdimitrov/anaconda3/envs/spiana/lib/python3.10/site-packages/scipy/optimize/_linprog_highs.py:372: OptimizeWarning: Option \"log_to_console\" is \"true\", but only True or False is allowed. Using default: True.\n",
      "/home/dbdimitrov/anaconda3/envs/spiana/lib/python3.10/site-packages/scipy/optimize/_linprog_highs.py:372: OptimizeWarning: Option \"output_flag\" is \"true\", but only True or False is allowed. Using default: True.\n"
     ]
    }
   ],
   "source": [
    "df_res, problem = search_causalnet(\n",
    "    prior_graph, \n",
    "    input_scores, \n",
    "    output_scores, \n",
    "    node_weights,\n",
    "    # penalize (max_penalty) nodes with counts in less than 0.1 of the cells\n",
    "    node_cutoff=0.1, \n",
    "    max_penalty=1,\n",
    "    # the penaly of those in > 0.1 prop of cells set to:\n",
    "    min_penalty=0.01,\n",
    "    edge_penalty=0.01,\n",
    "    verbose=True,\n",
    "    show_solver_output=True,\n",
    "    max_seconds=60*3\n",
    "    )"
   ]
  },
  {
   "attachments": {},
   "cell_type": "markdown",
   "metadata": {},
   "source": [
    "#### Visualize the Inferred Network"
   ]
  },
  {
   "attachments": {},
   "cell_type": "markdown",
   "metadata": {},
   "source": [
    "Now that the solution has been found, we can visualize it using the `cn.plot.causal_network` function."
   ]
  },
  {
   "cell_type": "code",
   "execution_count": 29,
   "metadata": {},
   "outputs": [
    {
     "name": "stderr",
     "output_type": "stream",
     "text": [
      "Warning: node 'MAPK1', graph '%3' size too small for label\n",
      "Warning: node 'KHDRBS1', graph '%3' size too small for label\n",
      "Warning: node 'CREBBP', graph '%3' size too small for label\n",
      "Warning: node 'PPP2CA', graph '%3' size too small for label\n",
      "Warning: node 'GSK3B', graph '%3' size too small for label\n",
      "Warning: node 'NFKB1', graph '%3' size too small for label\n",
      "Warning: node 'STAT2', graph '%3' size too small for label\n",
      "Warning: node 'STAT1', graph '%3' size too small for label\n",
      "Warning: node 'GNAI2', graph '%3' size too small for label\n"
     ]
    },
    {
     "data": {
      "image/svg+xml": [
       "<?xml version=\"1.0\" encoding=\"UTF-8\" standalone=\"no\"?>\n",
       "<!DOCTYPE svg PUBLIC \"-//W3C//DTD SVG 1.1//EN\"\n",
       " \"http://www.w3.org/Graphics/SVG/1.1/DTD/svg11.dtd\">\n",
       "<!-- Generated by graphviz version 2.43.0 (0)\n",
       " -->\n",
       "<!-- Title: %3 Pages: 1 -->\n",
       "<svg width=\"125pt\" height=\"692pt\"\n",
       " viewBox=\"0.00 0.00 125.00 692.00\" xmlns=\"http://www.w3.org/2000/svg\" xmlns:xlink=\"http://www.w3.org/1999/xlink\">\n",
       "<g id=\"graph0\" class=\"graph\" transform=\"scale(1 1) rotate(0) translate(4 688)\">\n",
       "<title>%3</title>\n",
       "<polygon fill=\"white\" stroke=\"transparent\" points=\"-4,4 -4,-688 121,-688 121,4 -4,4\"/>\n",
       "<!-- MAPK1 -->\n",
       "<g id=\"node1\" class=\"node\">\n",
       "<title>MAPK1</title>\n",
       "<ellipse fill=\"#e0eeee\" stroke=\"blue\" stroke-width=\"2\" cx=\"72\" cy=\"-378\" rx=\"18\" ry=\"18\"/>\n",
       "<text text-anchor=\"middle\" x=\"72\" y=\"-374.3\" font-family=\"Times,serif\" font-size=\"14.00\">MAPK1</text>\n",
       "</g>\n",
       "<!-- KHDRBS1 -->\n",
       "<g id=\"node2\" class=\"node\">\n",
       "<title>KHDRBS1</title>\n",
       "<ellipse fill=\"#e0eeee\" stroke=\"blue\" stroke-width=\"2\" cx=\"45\" cy=\"-306\" rx=\"18\" ry=\"18\"/>\n",
       "<text text-anchor=\"middle\" x=\"45\" y=\"-302.3\" font-family=\"Times,serif\" font-size=\"14.00\">KHDRBS1</text>\n",
       "</g>\n",
       "<!-- MAPK1&#45;&gt;KHDRBS1 -->\n",
       "<g id=\"edge1\" class=\"edge\">\n",
       "<title>MAPK1&#45;&gt;KHDRBS1</title>\n",
       "<path fill=\"none\" stroke=\"blue\" stroke-width=\"2\" d=\"M65.74,-360.76C62.5,-352.37 58.47,-341.93 54.83,-332.5\"/>\n",
       "<polygon fill=\"blue\" stroke=\"blue\" stroke-width=\"2\" points=\"58.09,-331.22 51.23,-323.15 51.56,-333.74 58.09,-331.22\"/>\n",
       "</g>\n",
       "<!-- GSK3B -->\n",
       "<g id=\"node6\" class=\"node\">\n",
       "<title>GSK3B</title>\n",
       "<ellipse fill=\"lightcoral\" stroke=\"red\" stroke-width=\"2\" cx=\"99\" cy=\"-306\" rx=\"18\" ry=\"18\"/>\n",
       "<text text-anchor=\"middle\" x=\"99\" y=\"-302.3\" font-family=\"Times,serif\" font-size=\"14.00\">GSK3B</text>\n",
       "</g>\n",
       "<!-- MAPK1&#45;&gt;GSK3B -->\n",
       "<g id=\"edge11\" class=\"edge\">\n",
       "<title>MAPK1&#45;&gt;GSK3B</title>\n",
       "<path fill=\"none\" stroke=\"red\" stroke-width=\"2\" d=\"M78.26,-360.76C82.04,-350.96 86.9,-338.36 90.97,-327.83\"/>\n",
       "<polygon fill=\"red\" stroke=\"red\" stroke-width=\"2\" points=\"87.75,-322.28 97.08,-325.88 96.36,-327.75 87.03,-324.15 87.75,-322.28\"/>\n",
       "<polyline fill=\"none\" stroke=\"red\" stroke-width=\"2\" points=\"92.77,-323.15 90.97,-327.81 \"/>\n",
       "</g>\n",
       "<!-- CREBBP -->\n",
       "<g id=\"node3\" class=\"node\">\n",
       "<title>CREBBP</title>\n",
       "<ellipse fill=\"lightcoral\" stroke=\"red\" stroke-width=\"2\" cx=\"45\" cy=\"-234\" rx=\"18\" ry=\"18\"/>\n",
       "<text text-anchor=\"middle\" x=\"45\" y=\"-230.3\" font-family=\"Times,serif\" font-size=\"14.00\">CREBBP</text>\n",
       "</g>\n",
       "<!-- KHDRBS1&#45;&gt;CREBBP -->\n",
       "<g id=\"edge2\" class=\"edge\">\n",
       "<title>KHDRBS1&#45;&gt;CREBBP</title>\n",
       "<path fill=\"none\" stroke=\"red\" stroke-width=\"2\" d=\"M45,-287.7C45,-278.46 45,-266.98 45,-257.11\"/>\n",
       "<polygon fill=\"red\" stroke=\"red\" stroke-width=\"2\" points=\"40,-253.1 50,-253.1 50,-255.1 40,-255.1 40,-253.1\"/>\n",
       "<polyline fill=\"none\" stroke=\"red\" stroke-width=\"2\" points=\"45,-252.1 45,-257.1 \"/>\n",
       "</g>\n",
       "<!-- STAT2 -->\n",
       "<g id=\"node8\" class=\"node\">\n",
       "<title>STAT2</title>\n",
       "<polygon fill=\"lightcoral\" stroke=\"red\" stroke-width=\"2\" points=\"63,-180 27,-180 27,-144 63,-144 63,-180\"/>\n",
       "<text text-anchor=\"middle\" x=\"45\" y=\"-158.3\" font-family=\"Times,serif\" font-size=\"14.00\">STAT2</text>\n",
       "</g>\n",
       "<!-- CREBBP&#45;&gt;STAT2 -->\n",
       "<g id=\"edge8\" class=\"edge\">\n",
       "<title>CREBBP&#45;&gt;STAT2</title>\n",
       "<path fill=\"none\" stroke=\"red\" stroke-width=\"2\" d=\"M45,-215.7C45,-207.98 45,-198.71 45,-190.11\"/>\n",
       "<polygon fill=\"red\" stroke=\"red\" stroke-width=\"2\" points=\"48.5,-190.1 45,-180.1 41.5,-190.1 48.5,-190.1\"/>\n",
       "</g>\n",
       "<!-- SRC -->\n",
       "<g id=\"node4\" class=\"node\">\n",
       "<title>SRC</title>\n",
       "<ellipse fill=\"#e0eeee\" stroke=\"blue\" stroke-width=\"2\" cx=\"72\" cy=\"-522\" rx=\"18\" ry=\"18\"/>\n",
       "<text text-anchor=\"middle\" x=\"72\" y=\"-518.3\" font-family=\"Times,serif\" font-size=\"14.00\">SRC</text>\n",
       "</g>\n",
       "<!-- PPP2CA -->\n",
       "<g id=\"node5\" class=\"node\">\n",
       "<title>PPP2CA</title>\n",
       "<ellipse fill=\"lightcoral\" stroke=\"red\" stroke-width=\"2\" cx=\"72\" cy=\"-450\" rx=\"18\" ry=\"18\"/>\n",
       "<text text-anchor=\"middle\" x=\"72\" y=\"-446.3\" font-family=\"Times,serif\" font-size=\"14.00\">PPP2CA</text>\n",
       "</g>\n",
       "<!-- SRC&#45;&gt;PPP2CA -->\n",
       "<g id=\"edge3\" class=\"edge\">\n",
       "<title>SRC&#45;&gt;PPP2CA</title>\n",
       "<path fill=\"none\" stroke=\"red\" stroke-width=\"2\" d=\"M72,-503.7C72,-494.46 72,-482.98 72,-473.11\"/>\n",
       "<polygon fill=\"red\" stroke=\"red\" stroke-width=\"2\" points=\"67,-469.1 77,-469.1 77,-471.1 67,-471.1 67,-469.1\"/>\n",
       "<polyline fill=\"none\" stroke=\"red\" stroke-width=\"2\" points=\"72,-468.1 72,-473.1 \"/>\n",
       "</g>\n",
       "<!-- PPP2CA&#45;&gt;MAPK1 -->\n",
       "<g id=\"edge9\" class=\"edge\">\n",
       "<title>PPP2CA&#45;&gt;MAPK1</title>\n",
       "<path fill=\"none\" stroke=\"blue\" stroke-width=\"2\" d=\"M72,-431.7C72,-422.46 72,-410.98 72,-401.11\"/>\n",
       "<polygon fill=\"blue\" stroke=\"blue\" stroke-width=\"2\" points=\"67,-397.1 77,-397.1 77,-399.1 67,-399.1 67,-397.1\"/>\n",
       "<polyline fill=\"none\" stroke=\"blue\" stroke-width=\"2\" points=\"72,-396.1 72,-401.1 \"/>\n",
       "</g>\n",
       "<!-- NFKB1 -->\n",
       "<g id=\"node7\" class=\"node\">\n",
       "<title>NFKB1</title>\n",
       "<polygon fill=\"lightcoral\" stroke=\"red\" stroke-width=\"2\" points=\"117,-252 81,-252 81,-216 117,-216 117,-252\"/>\n",
       "<text text-anchor=\"middle\" x=\"99\" y=\"-230.3\" font-family=\"Times,serif\" font-size=\"14.00\">NFKB1</text>\n",
       "</g>\n",
       "<!-- GSK3B&#45;&gt;NFKB1 -->\n",
       "<g id=\"edge4\" class=\"edge\">\n",
       "<title>GSK3B&#45;&gt;NFKB1</title>\n",
       "<path fill=\"none\" stroke=\"red\" stroke-width=\"2\" d=\"M99,-287.7C99,-279.98 99,-270.71 99,-262.11\"/>\n",
       "<polygon fill=\"red\" stroke=\"red\" stroke-width=\"2\" points=\"102.5,-262.1 99,-252.1 95.5,-262.1 102.5,-262.1\"/>\n",
       "</g>\n",
       "<!-- STAT1 -->\n",
       "<g id=\"node9\" class=\"node\">\n",
       "<title>STAT1</title>\n",
       "<ellipse fill=\"lightcoral\" stroke=\"red\" stroke-width=\"2\" cx=\"18\" cy=\"-90\" rx=\"18\" ry=\"18\"/>\n",
       "<text text-anchor=\"middle\" x=\"18\" y=\"-86.3\" font-family=\"Times,serif\" font-size=\"14.00\">STAT1</text>\n",
       "</g>\n",
       "<!-- STAT2&#45;&gt;STAT1 -->\n",
       "<g id=\"edge5\" class=\"edge\">\n",
       "<title>STAT2&#45;&gt;STAT1</title>\n",
       "<path fill=\"none\" stroke=\"red\" stroke-width=\"2\" d=\"M38.33,-143.7C35.16,-135.49 31.32,-125.52 27.83,-116.48\"/>\n",
       "<polygon fill=\"red\" stroke=\"red\" stroke-width=\"2\" points=\"31.09,-115.22 24.23,-107.14 24.56,-117.73 31.09,-115.22\"/>\n",
       "</g>\n",
       "<!-- IRF9 -->\n",
       "<g id=\"node12\" class=\"node\">\n",
       "<title>IRF9</title>\n",
       "<polygon fill=\"lightcoral\" stroke=\"red\" stroke-width=\"2\" points=\"90,-108 54,-108 54,-72 90,-72 90,-108\"/>\n",
       "<text text-anchor=\"middle\" x=\"72\" y=\"-86.3\" font-family=\"Times,serif\" font-size=\"14.00\">IRF9</text>\n",
       "</g>\n",
       "<!-- STAT2&#45;&gt;IRF9 -->\n",
       "<g id=\"edge7\" class=\"edge\">\n",
       "<title>STAT2&#45;&gt;IRF9</title>\n",
       "<path fill=\"none\" stroke=\"red\" stroke-width=\"2\" d=\"M51.67,-143.7C54.71,-135.81 58.38,-126.3 61.76,-117.55\"/>\n",
       "<polygon fill=\"red\" stroke=\"red\" stroke-width=\"2\" points=\"65.07,-118.69 65.4,-108.1 58.54,-116.17 65.07,-118.69\"/>\n",
       "</g>\n",
       "<!-- IRF1 -->\n",
       "<g id=\"node13\" class=\"node\">\n",
       "<title>IRF1</title>\n",
       "<polygon fill=\"lightcoral\" stroke=\"red\" stroke-width=\"2\" points=\"36,-36 0,-36 0,0 36,0 36,-36\"/>\n",
       "<text text-anchor=\"middle\" x=\"18\" y=\"-14.3\" font-family=\"Times,serif\" font-size=\"14.00\">IRF1</text>\n",
       "</g>\n",
       "<!-- STAT1&#45;&gt;IRF1 -->\n",
       "<g id=\"edge12\" class=\"edge\">\n",
       "<title>STAT1&#45;&gt;IRF1</title>\n",
       "<path fill=\"none\" stroke=\"red\" stroke-width=\"2\" d=\"M18,-71.7C18,-63.98 18,-54.71 18,-46.11\"/>\n",
       "<polygon fill=\"red\" stroke=\"red\" stroke-width=\"2\" points=\"21.5,-46.1 18,-36.1 14.5,-46.1 21.5,-46.1\"/>\n",
       "</g>\n",
       "<!-- CXCR4 -->\n",
       "<g id=\"node10\" class=\"node\">\n",
       "<title>CXCR4</title>\n",
       "<polygon fill=\"#e0eeee\" stroke=\"blue\" stroke-width=\"2\" points=\"72,-648 99,-675 45,-675 72,-648\"/>\n",
       "<text text-anchor=\"middle\" x=\"72\" y=\"-662.3\" font-family=\"Times,serif\" font-size=\"14.00\">CXCR4</text>\n",
       "</g>\n",
       "<!-- GNAI2 -->\n",
       "<g id=\"node11\" class=\"node\">\n",
       "<title>GNAI2</title>\n",
       "<ellipse fill=\"#e0eeee\" stroke=\"blue\" stroke-width=\"2\" cx=\"72\" cy=\"-594\" rx=\"18\" ry=\"18\"/>\n",
       "<text text-anchor=\"middle\" x=\"72\" y=\"-590.3\" font-family=\"Times,serif\" font-size=\"14.00\">GNAI2</text>\n",
       "</g>\n",
       "<!-- CXCR4&#45;&gt;GNAI2 -->\n",
       "<g id=\"edge6\" class=\"edge\">\n",
       "<title>CXCR4&#45;&gt;GNAI2</title>\n",
       "<path fill=\"none\" stroke=\"blue\" stroke-width=\"2\" d=\"M72,-647.7C72,-639.98 72,-630.71 72,-622.11\"/>\n",
       "<polygon fill=\"blue\" stroke=\"blue\" stroke-width=\"2\" points=\"75.5,-622.1 72,-612.1 68.5,-622.1 75.5,-622.1\"/>\n",
       "</g>\n",
       "<!-- GNAI2&#45;&gt;SRC -->\n",
       "<g id=\"edge10\" class=\"edge\">\n",
       "<title>GNAI2&#45;&gt;SRC</title>\n",
       "<path fill=\"none\" stroke=\"blue\" stroke-width=\"2\" d=\"M72,-575.7C72,-567.98 72,-558.71 72,-550.11\"/>\n",
       "<polygon fill=\"blue\" stroke=\"blue\" stroke-width=\"2\" points=\"75.5,-550.1 72,-540.1 68.5,-550.1 75.5,-550.1\"/>\n",
       "</g>\n",
       "</g>\n",
       "</svg>\n"
      ],
      "text/plain": [
       "<graphviz.graphs.Digraph at 0x7f807d4b0f10>"
      ]
     },
     "execution_count": 29,
     "metadata": {},
     "output_type": "execute_result"
    }
   ],
   "source": [
    "from corneto.methods.carnival import visualize_network\n",
    "visualize_network(df_res)"
   ]
  },
  {
   "attachments": {},
   "cell_type": "markdown",
   "metadata": {},
   "source": [
    "We can see that the network above, largely captures a potential regulatory cascade with inhibitory (**--|**) and stimulatory (**-->**) interactions, related to JAK-STAT signalling. The networks starts from a deregulated receptor (**triangle**) and ends with the deregulated TFs (**square**). The remainder of the nodes (**circles**) were inferred, taking their weights into account, and were not necessarily included in the input or output nodes."
   ]
  },
  {
   "attachments": {},
   "cell_type": "markdown",
   "metadata": {},
   "source": [
    "In this example, we represent the directionality of signalling such that intracellular signalling is downstream of intercellular communication events. However, in biology cellular response is an admixture of both; such approaches are a simplification of the biological reality."
   ]
  }
 ],
 "metadata": {
  "kernelspec": {
   "display_name": "Python 3",
   "language": "python",
   "name": "python3"
  },
  "language_info": {
   "codemirror_mode": {
    "name": "ipython",
    "version": 3
   },
   "file_extension": ".py",
   "mimetype": "text/x-python",
   "name": "python",
   "nbconvert_exporter": "python",
   "pygments_lexer": "ipython3",
   "version": "3.10.11"
  },
  "orig_nbformat": 4
 },
 "nbformat": 4,
 "nbformat_minor": 2
}
