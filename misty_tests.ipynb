{
 "cells": [
  {
   "cell_type": "code",
   "execution_count": 1,
   "metadata": {},
   "outputs": [],
   "source": [
    "import scanpy as sc\n",
    "import numpy as np\n",
    "import pandas as pd"
   ]
  },
  {
   "cell_type": "code",
   "execution_count": 2,
   "metadata": {},
   "outputs": [],
   "source": [
    "from liana.method.sp._Misty import MistyData\n",
    "from liana.method.sp._misty_constructs import genericMistyData, lrMistyData"
   ]
  },
  {
   "cell_type": "code",
   "execution_count": 3,
   "metadata": {},
   "outputs": [],
   "source": [
    "adata = sc.read_h5ad('liana/tests/data/synthetic.h5ad')"
   ]
  },
  {
   "cell_type": "code",
   "execution_count": 4,
   "metadata": {},
   "outputs": [
    {
     "name": "stderr",
     "output_type": "stream",
     "text": [
      "/home/dbdimitrov/anaconda3/envs/liana-py/lib/python3.10/site-packages/mudata/_core/mudata.py:457: UserWarning: Cannot join columns with the same name because var_names are intersecting.\n"
     ]
    }
   ],
   "source": [
    "misty = genericMistyData(intra=adata, set_diag=True, bandwidth=10)"
   ]
  },
  {
   "cell_type": "code",
   "execution_count": 5,
   "metadata": {},
   "outputs": [],
   "source": [
    "misty(n_estimators=20, bypass_intra=False)"
   ]
  },
  {
   "cell_type": "code",
   "execution_count": 6,
   "metadata": {},
   "outputs": [
    {
     "data": {
      "text/html": [
       "<div>\n",
       "<style scoped>\n",
       "    .dataframe tbody tr th:only-of-type {\n",
       "        vertical-align: middle;\n",
       "    }\n",
       "\n",
       "    .dataframe tbody tr th {\n",
       "        vertical-align: top;\n",
       "    }\n",
       "\n",
       "    .dataframe thead th {\n",
       "        text-align: right;\n",
       "    }\n",
       "</style>\n",
       "<table border=\"1\" class=\"dataframe\">\n",
       "  <thead>\n",
       "    <tr style=\"text-align: right;\">\n",
       "      <th></th>\n",
       "      <th>target</th>\n",
       "      <th>intra_group</th>\n",
       "      <th>env_group</th>\n",
       "      <th>intra.R2</th>\n",
       "      <th>multi.R2</th>\n",
       "      <th>gain.R2</th>\n",
       "      <th>intra</th>\n",
       "      <th>juxta</th>\n",
       "      <th>para</th>\n",
       "    </tr>\n",
       "  </thead>\n",
       "  <tbody>\n",
       "    <tr>\n",
       "      <th>0</th>\n",
       "      <td>ECM</td>\n",
       "      <td>None</td>\n",
       "      <td>None</td>\n",
       "      <td>0.916691</td>\n",
       "      <td>0.935051</td>\n",
       "      <td>0.018360</td>\n",
       "      <td>0.770407</td>\n",
       "      <td>0.138171</td>\n",
       "      <td>0.091422</td>\n",
       "    </tr>\n",
       "    <tr>\n",
       "      <th>1</th>\n",
       "      <td>ligA</td>\n",
       "      <td>None</td>\n",
       "      <td>None</td>\n",
       "      <td>0.988682</td>\n",
       "      <td>0.988936</td>\n",
       "      <td>0.000254</td>\n",
       "      <td>0.966251</td>\n",
       "      <td>0.026840</td>\n",
       "      <td>0.006909</td>\n",
       "    </tr>\n",
       "    <tr>\n",
       "      <th>2</th>\n",
       "      <td>ligB</td>\n",
       "      <td>None</td>\n",
       "      <td>None</td>\n",
       "      <td>0.931729</td>\n",
       "      <td>0.945597</td>\n",
       "      <td>0.013869</td>\n",
       "      <td>0.794769</td>\n",
       "      <td>0.130086</td>\n",
       "      <td>0.075145</td>\n",
       "    </tr>\n",
       "    <tr>\n",
       "      <th>3</th>\n",
       "      <td>ligC</td>\n",
       "      <td>None</td>\n",
       "      <td>None</td>\n",
       "      <td>0.772048</td>\n",
       "      <td>0.867912</td>\n",
       "      <td>0.095864</td>\n",
       "      <td>0.579776</td>\n",
       "      <td>0.241276</td>\n",
       "      <td>0.178948</td>\n",
       "    </tr>\n",
       "    <tr>\n",
       "      <th>4</th>\n",
       "      <td>ligD</td>\n",
       "      <td>None</td>\n",
       "      <td>None</td>\n",
       "      <td>0.975031</td>\n",
       "      <td>0.976384</td>\n",
       "      <td>0.001353</td>\n",
       "      <td>0.924838</td>\n",
       "      <td>0.040185</td>\n",
       "      <td>0.034977</td>\n",
       "    </tr>\n",
       "    <tr>\n",
       "      <th>5</th>\n",
       "      <td>protE</td>\n",
       "      <td>None</td>\n",
       "      <td>None</td>\n",
       "      <td>0.996984</td>\n",
       "      <td>0.996995</td>\n",
       "      <td>0.000010</td>\n",
       "      <td>1.000000</td>\n",
       "      <td>0.000000</td>\n",
       "      <td>0.000000</td>\n",
       "    </tr>\n",
       "    <tr>\n",
       "      <th>6</th>\n",
       "      <td>protF</td>\n",
       "      <td>None</td>\n",
       "      <td>None</td>\n",
       "      <td>0.998878</td>\n",
       "      <td>0.998882</td>\n",
       "      <td>0.000003</td>\n",
       "      <td>0.994822</td>\n",
       "      <td>0.000217</td>\n",
       "      <td>0.004961</td>\n",
       "    </tr>\n",
       "    <tr>\n",
       "      <th>7</th>\n",
       "      <td>prodA</td>\n",
       "      <td>None</td>\n",
       "      <td>None</td>\n",
       "      <td>0.991524</td>\n",
       "      <td>0.991535</td>\n",
       "      <td>0.000011</td>\n",
       "      <td>1.000000</td>\n",
       "      <td>0.000000</td>\n",
       "      <td>0.000000</td>\n",
       "    </tr>\n",
       "    <tr>\n",
       "      <th>8</th>\n",
       "      <td>prodB</td>\n",
       "      <td>None</td>\n",
       "      <td>None</td>\n",
       "      <td>0.980290</td>\n",
       "      <td>0.980210</td>\n",
       "      <td>-0.000079</td>\n",
       "      <td>1.000000</td>\n",
       "      <td>0.000000</td>\n",
       "      <td>0.000000</td>\n",
       "    </tr>\n",
       "    <tr>\n",
       "      <th>9</th>\n",
       "      <td>prodC</td>\n",
       "      <td>None</td>\n",
       "      <td>None</td>\n",
       "      <td>0.954825</td>\n",
       "      <td>0.955203</td>\n",
       "      <td>0.000378</td>\n",
       "      <td>1.000000</td>\n",
       "      <td>0.000000</td>\n",
       "      <td>0.000000</td>\n",
       "    </tr>\n",
       "    <tr>\n",
       "      <th>10</th>\n",
       "      <td>prodD</td>\n",
       "      <td>None</td>\n",
       "      <td>None</td>\n",
       "      <td>0.991242</td>\n",
       "      <td>0.991301</td>\n",
       "      <td>0.000059</td>\n",
       "      <td>1.000000</td>\n",
       "      <td>0.000000</td>\n",
       "      <td>0.000000</td>\n",
       "    </tr>\n",
       "  </tbody>\n",
       "</table>\n",
       "</div>"
      ],
      "text/plain": [
       "   target intra_group env_group  intra.R2  multi.R2   gain.R2     intra   \n",
       "0     ECM        None      None  0.916691  0.935051  0.018360  0.770407  \\\n",
       "1    ligA        None      None  0.988682  0.988936  0.000254  0.966251   \n",
       "2    ligB        None      None  0.931729  0.945597  0.013869  0.794769   \n",
       "3    ligC        None      None  0.772048  0.867912  0.095864  0.579776   \n",
       "4    ligD        None      None  0.975031  0.976384  0.001353  0.924838   \n",
       "5   protE        None      None  0.996984  0.996995  0.000010  1.000000   \n",
       "6   protF        None      None  0.998878  0.998882  0.000003  0.994822   \n",
       "7   prodA        None      None  0.991524  0.991535  0.000011  1.000000   \n",
       "8   prodB        None      None  0.980290  0.980210 -0.000079  1.000000   \n",
       "9   prodC        None      None  0.954825  0.955203  0.000378  1.000000   \n",
       "10  prodD        None      None  0.991242  0.991301  0.000059  1.000000   \n",
       "\n",
       "       juxta      para  \n",
       "0   0.138171  0.091422  \n",
       "1   0.026840  0.006909  \n",
       "2   0.130086  0.075145  \n",
       "3   0.241276  0.178948  \n",
       "4   0.040185  0.034977  \n",
       "5   0.000000  0.000000  \n",
       "6   0.000217  0.004961  \n",
       "7   0.000000  0.000000  \n",
       "8   0.000000  0.000000  \n",
       "9   0.000000  0.000000  \n",
       "10  0.000000  0.000000  "
      ]
     },
     "execution_count": 6,
     "metadata": {},
     "output_type": "execute_result"
    }
   ],
   "source": [
    "misty.uns['target_metrics']"
   ]
  },
  {
   "cell_type": "code",
   "execution_count": null,
   "metadata": {},
   "outputs": [],
   "source": []
  },
  {
   "cell_type": "code",
   "execution_count": null,
   "metadata": {},
   "outputs": [],
   "source": []
  },
  {
   "cell_type": "code",
   "execution_count": null,
   "metadata": {},
   "outputs": [],
   "source": [
    "adata = sc.pp.subsample(adata, n_obs=100, copy=True)"
   ]
  },
  {
   "cell_type": "code",
   "execution_count": null,
   "metadata": {},
   "outputs": [],
   "source": [
    "misty = genericMistyData(adata, bandwidth=20, add_juxta=True, set_diag=True, cutoff=0, coord_type=\"generic\", delaunay=True)"
   ]
  },
  {
   "cell_type": "code",
   "execution_count": null,
   "metadata": {},
   "outputs": [],
   "source": [
    "# Why is this thing so much slower?\n",
    "misty(alphas=1, \n",
    "      bypass_intra=True,\n",
    "      seed=42,\n",
    "      n_estimators=100,\n",
    "      keep_same_predictor=False,\n",
    "      group_intra_by='cell_type',\n",
    "      group_env_by='cell_type',\n",
    "      )"
   ]
  },
  {
   "cell_type": "code",
   "execution_count": null,
   "metadata": {},
   "outputs": [],
   "source": []
  },
  {
   "cell_type": "code",
   "execution_count": null,
   "metadata": {},
   "outputs": [],
   "source": [
    "misty.uns['importances'].sort_values('value', ascending=False)"
   ]
  },
  {
   "cell_type": "code",
   "execution_count": null,
   "metadata": {},
   "outputs": [],
   "source": [
    "misty.uns['target_metrics'].sort_values('multi.R2') #NOTE: this is weird, why is the R2 not bound to 0-1???"
   ]
  },
  {
   "cell_type": "code",
   "execution_count": null,
   "metadata": {},
   "outputs": [],
   "source": []
  },
  {
   "cell_type": "code",
   "execution_count": null,
   "metadata": {},
   "outputs": [],
   "source": []
  },
  {
   "cell_type": "code",
   "execution_count": null,
   "metadata": {},
   "outputs": [],
   "source": [
    "misty.uns['target_metrics']"
   ]
  },
  {
   "cell_type": "code",
   "execution_count": null,
   "metadata": {},
   "outputs": [],
   "source": [
    "misty.uns['importances']"
   ]
  },
  {
   "cell_type": "code",
   "execution_count": null,
   "metadata": {},
   "outputs": [],
   "source": []
  },
  {
   "attachments": {},
   "cell_type": "markdown",
   "metadata": {},
   "source": [
    "lrMistyData"
   ]
  },
  {
   "cell_type": "code",
   "execution_count": 7,
   "metadata": {},
   "outputs": [],
   "source": [
    "from liana.testing._sample_anndata import generate_toy_spatial"
   ]
  },
  {
   "cell_type": "code",
   "execution_count": 8,
   "metadata": {},
   "outputs": [],
   "source": [
    "adata = generate_toy_spatial()"
   ]
  },
  {
   "cell_type": "code",
   "execution_count": 9,
   "metadata": {},
   "outputs": [
    {
     "name": "stderr",
     "output_type": "stream",
     "text": [
      "/home/dbdimitrov/anaconda3/envs/liana-py/lib/python3.10/site-packages/mudata/_core/mudata.py:457: UserWarning: Cannot join columns with the same name because var_names are intersecting.\n"
     ]
    }
   ],
   "source": [
    "lr_misty = lrMistyData(adata=adata, set_diag=True, bandwidth=10, use_raw=True)"
   ]
  },
  {
   "cell_type": "code",
   "execution_count": 10,
   "metadata": {},
   "outputs": [
    {
     "data": {
      "text/plain": [
       "Index(['CD4', 'LAG3', 'FPR1', 'CD8A_CD8B', 'CD40', 'ITGB2', 'ITGA4',\n",
       "       'TNFRSF13B', 'HLA-DPB1', 'TNFRSF17', 'CD74_CXCR4', 'CD63', 'CD33',\n",
       "       'S1PR5', 'S1PR4', 'CD53'],\n",
       "      dtype='object')"
      ]
     },
     "execution_count": 10,
     "metadata": {},
     "output_type": "execute_result"
    }
   ],
   "source": [
    "lr_misty['intra'].var_names"
   ]
  },
  {
   "cell_type": "code",
   "execution_count": 11,
   "metadata": {},
   "outputs": [
    {
     "data": {
      "text/html": [
       "<pre>MuData object with n_obs × n_vars = 700 × 39\n",
       "  obs:\t&#x27;bulk_labels&#x27;, &#x27;n_genes&#x27;, &#x27;percent_mito&#x27;, &#x27;n_counts&#x27;, &#x27;S_score&#x27;, &#x27;G2M_score&#x27;, &#x27;phase&#x27;, &#x27;louvain&#x27;\n",
       "  2 modalities\n",
       "    intra:\t700 x 16\n",
       "      obs:\t&#x27;bulk_labels&#x27;, &#x27;n_genes&#x27;, &#x27;percent_mito&#x27;, &#x27;n_counts&#x27;, &#x27;S_score&#x27;, &#x27;G2M_score&#x27;, &#x27;phase&#x27;, &#x27;louvain&#x27;\n",
       "    extra:\t700 x 23\n",
       "      obsm:\t&#x27;spatial&#x27;\n",
       "      obsp:\t&#x27;spatial_connectivities&#x27;</pre>"
      ],
      "text/plain": [
       "MuData object with n_obs × n_vars = 700 × 39\n",
       "  obs:\t'bulk_labels', 'n_genes', 'percent_mito', 'n_counts', 'S_score', 'G2M_score', 'phase', 'louvain'\n",
       "  2 modalities\n",
       "    intra:\t700 x 16\n",
       "      obs:\t'bulk_labels', 'n_genes', 'percent_mito', 'n_counts', 'S_score', 'G2M_score', 'phase', 'louvain'\n",
       "    extra:\t700 x 23\n",
       "      obsm:\t'spatial'\n",
       "      obsp:\t'spatial_connectivities'"
      ]
     },
     "execution_count": 11,
     "metadata": {},
     "output_type": "execute_result"
    }
   ],
   "source": [
    "lr_misty"
   ]
  },
  {
   "cell_type": "code",
   "execution_count": null,
   "metadata": {},
   "outputs": [],
   "source": []
  },
  {
   "cell_type": "code",
   "execution_count": null,
   "metadata": {},
   "outputs": [],
   "source": [
    "lr_misty(bypass_intra=True)"
   ]
  },
  {
   "cell_type": "code",
   "execution_count": null,
   "metadata": {},
   "outputs": [],
   "source": [
    "lr_misty.uns['target_metrics']"
   ]
  },
  {
   "cell_type": "code",
   "execution_count": null,
   "metadata": {},
   "outputs": [],
   "source": [
    "lr_misty.uns['importances'].sort_values('value', ascending=False)"
   ]
  },
  {
   "cell_type": "code",
   "execution_count": null,
   "metadata": {},
   "outputs": [],
   "source": []
  },
  {
   "cell_type": "code",
   "execution_count": null,
   "metadata": {},
   "outputs": [],
   "source": []
  },
  {
   "cell_type": "code",
   "execution_count": null,
   "metadata": {},
   "outputs": [],
   "source": [
    "from liana.resource import select_resource\n",
    "from liana.method._pipe_utils import prep_check_adata\n",
    "from liana.method.sp._lr_basis import _add_complexes_to_var\n",
    "from liana.method.sp._misty_constructs import _make_view\n",
    "from liana.method.sp._spatial_pipe import spatial_neighbors"
   ]
  },
  {
   "cell_type": "code",
   "execution_count": null,
   "metadata": {},
   "outputs": [],
   "source": []
  },
  {
   "cell_type": "code",
   "execution_count": null,
   "metadata": {},
   "outputs": [],
   "source": [
    "def lrMistyData(adata, \n",
    "                resource_name='consensus', \n",
    "                resource=None,\n",
    "                nz_threshold=0.1,\n",
    "                use_raw = False,\n",
    "                layer = None,\n",
    "                spatial_key='spatial',\n",
    "                bandwidth = 100,\n",
    "                kernel = 'misty_rbf',\n",
    "                set_diag = True,\n",
    "                cutoff = 0.1,\n",
    "                zoi = 0,\n",
    "                verbose = False\n",
    "                ):\n",
    "    \n",
    "    if resource is None:\n",
    "        resource = select_resource(resource_name.lower())\n",
    "        \n",
    "    adata = prep_check_adata(adata=adata,\n",
    "                        use_raw=use_raw,\n",
    "                        layer=layer,\n",
    "                        verbose=verbose,\n",
    "                        groupby=None,\n",
    "                        min_cells=None,\n",
    "                        obsm = {spatial_key: adata.obsm[spatial_key]}\n",
    "                        )\n",
    "    \n",
    "    adata = _add_complexes_to_var(adata,\n",
    "                              np.union1d(resource['receptor'].astype(str),\n",
    "                                         resource['ligand'].astype(str)\n",
    "                                        )\n",
    "                              )\n",
    "    \n",
    "    views = dict()\n",
    "    intra = _make_view(adata=adata[:, resource['receptor'].unique()],\n",
    "                   nz_threshold=nz_threshold, obs=adata.obs)\n",
    "    views['intra'] = _add_complexes_to_var(intra, np.unique(resource['receptor']))\n",
    "    \n",
    "    connectivity = spatial_neighbors(adata=adata, spatial_key=spatial_key,\n",
    "                                 bandwidth=bandwidth, kernel=kernel,\n",
    "                                 set_diag=set_diag, cutoff=cutoff,\n",
    "                                 zoi=zoi, inplace=False)\n",
    "\n",
    "    extra = _make_view(adata=adata[:,resource['ligand'].unique()],\n",
    "                       spatial_key=spatial_key, nz_threshold=nz_threshold,\n",
    "                       connecitivity=connectivity,\n",
    "                       obs=pd.DataFrame(index=adata.obs.index))\n",
    "    views['extra'] = _add_complexes_to_var(extra, np.unique(resource['ligand']))\n",
    "    \n",
    "    return MistyData(data=views, obs=intra.obs, spatial_key=spatial_key)"
   ]
  },
  {
   "cell_type": "code",
   "execution_count": null,
   "metadata": {},
   "outputs": [],
   "source": [
    "use_raw = False\n",
    "layer = None\n",
    "verbose = True\n",
    "resource = None\n",
    "resource_name = 'consensus'\n",
    "nz_threshold = 0.1"
   ]
  },
  {
   "cell_type": "code",
   "execution_count": null,
   "metadata": {},
   "outputs": [],
   "source": [
    "spatial_key = 'spatial'\n",
    "bandwidth = 100\n",
    "kernel = 'misty_rbf'\n",
    "set_diag = False\n",
    "cutoff = 0.1\n",
    "zoi = 0"
   ]
  },
  {
   "cell_type": "code",
   "execution_count": null,
   "metadata": {},
   "outputs": [],
   "source": []
  },
  {
   "cell_type": "code",
   "execution_count": null,
   "metadata": {},
   "outputs": [],
   "source": [
    "if resource is None:\n",
    "    resource = select_resource(resource_name.lower())"
   ]
  },
  {
   "cell_type": "code",
   "execution_count": null,
   "metadata": {},
   "outputs": [],
   "source": []
  },
  {
   "cell_type": "code",
   "execution_count": null,
   "metadata": {},
   "outputs": [],
   "source": [
    "views = dict()"
   ]
  },
  {
   "cell_type": "code",
   "execution_count": null,
   "metadata": {},
   "outputs": [],
   "source": [
    "adata = prep_check_adata(adata=adata,\n",
    "                         use_raw=use_raw,\n",
    "                         layer=layer,\n",
    "                         verbose=verbose,\n",
    "                         groupby=None,\n",
    "                         min_cells=None,\n",
    "                         obsm = {spatial_key: adata.obsm[spatial_key]}\n",
    "                         )"
   ]
  },
  {
   "cell_type": "code",
   "execution_count": null,
   "metadata": {},
   "outputs": [],
   "source": [
    "adata = _add_complexes_to_var(adata,\n",
    "                              np.union1d(resource['receptor'].astype(str),\n",
    "                                         resource['ligand'].astype(str)\n",
    "                                        )\n",
    "                              )"
   ]
  },
  {
   "cell_type": "code",
   "execution_count": null,
   "metadata": {},
   "outputs": [],
   "source": [
    "adata"
   ]
  },
  {
   "cell_type": "code",
   "execution_count": null,
   "metadata": {},
   "outputs": [],
   "source": [
    "# filter_resource\n",
    "resource = resource[(np.isin(resource.ligand, adata.var_names)) &\n",
    "                    (np.isin(resource.receptor, adata.var_names))]"
   ]
  },
  {
   "cell_type": "code",
   "execution_count": null,
   "metadata": {},
   "outputs": [],
   "source": []
  },
  {
   "cell_type": "code",
   "execution_count": null,
   "metadata": {},
   "outputs": [],
   "source": [
    "intra = _make_view(adata=adata[:, resource['receptor'].unique()],\n",
    "                   nz_threshold=nz_threshold, add_obs=True)\n",
    "\n",
    "views['intra'] = _add_complexes_to_var(intra, np.unique(resource['receptor']))"
   ]
  },
  {
   "cell_type": "code",
   "execution_count": null,
   "metadata": {},
   "outputs": [],
   "source": [
    "connectivity = spatial_neighbors(adata=adata, spatial_key=spatial_key,\n",
    "                                 bandwidth=bandwidth, kernel=kernel,\n",
    "                                 set_diag=set_diag, cutoff=cutoff,\n",
    "                                 zoi=zoi, inplace=False)\n",
    "\n",
    "extra = _make_view(adata=adata[:,resource['ligand'].unique()], spatial_key=spatial_key,\n",
    "                   nz_threshold=nz_threshold, connecitivity=connectivity)\n",
    "views['extra'] = _add_complexes_to_var(extra, np.unique(resource['ligand']))"
   ]
  },
  {
   "cell_type": "code",
   "execution_count": null,
   "metadata": {},
   "outputs": [],
   "source": []
  },
  {
   "cell_type": "code",
   "execution_count": null,
   "metadata": {},
   "outputs": [],
   "source": [
    "intra.var_names"
   ]
  },
  {
   "cell_type": "code",
   "execution_count": null,
   "metadata": {},
   "outputs": [],
   "source": []
  },
  {
   "cell_type": "code",
   "execution_count": null,
   "metadata": {},
   "outputs": [],
   "source": []
  },
  {
   "cell_type": "code",
   "execution_count": null,
   "metadata": {},
   "outputs": [],
   "source": [
    "from mudata import MuData"
   ]
  },
  {
   "cell_type": "code",
   "execution_count": null,
   "metadata": {},
   "outputs": [],
   "source": [
    "lr_misty = MistyData(data=views, obs=intra.obs, spatial_key=spatial_key)"
   ]
  },
  {
   "cell_type": "code",
   "execution_count": null,
   "metadata": {},
   "outputs": [],
   "source": [
    "lr_misty(bypass_intra=False)"
   ]
  },
  {
   "cell_type": "code",
   "execution_count": null,
   "metadata": {},
   "outputs": [],
   "source": [
    "lr_misty.uns['target_metrics'].sort_values('multi.R2')"
   ]
  },
  {
   "cell_type": "code",
   "execution_count": null,
   "metadata": {},
   "outputs": [],
   "source": [
    "lr_misty.uns['importances'].sort_values('value', ascending=False).head(20)"
   ]
  },
  {
   "cell_type": "code",
   "execution_count": null,
   "metadata": {},
   "outputs": [],
   "source": []
  }
 ],
 "metadata": {
  "kernelspec": {
   "display_name": "liana-py",
   "language": "python",
   "name": "python3"
  },
  "language_info": {
   "codemirror_mode": {
    "name": "ipython",
    "version": 3
   },
   "file_extension": ".py",
   "mimetype": "text/x-python",
   "name": "python",
   "nbconvert_exporter": "python",
   "pygments_lexer": "ipython3",
   "version": "3.10.10"
  },
  "orig_nbformat": 4,
  "vscode": {
   "interpreter": {
    "hash": "80a99255e5b17beb6f8c8dc403ec70687184f3f6557a2c5fe71e16aa6505930d"
   }
  }
 },
 "nbformat": 4,
 "nbformat_minor": 2
}
