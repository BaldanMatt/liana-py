{
 "cells": [
  {
   "cell_type": "code",
   "execution_count": 1,
   "metadata": {},
   "outputs": [],
   "source": [
    "import scanpy as sc\n",
    "import numpy as np\n",
    "import pandas as pd"
   ]
  },
  {
   "cell_type": "code",
   "execution_count": 2,
   "metadata": {},
   "outputs": [],
   "source": [
    "from liana.method.sp._Misty import MistyData\n",
    "from liana.method.sp._misty_constructs import genericMistyData, lrMistyData"
   ]
  },
  {
   "cell_type": "code",
   "execution_count": 3,
   "metadata": {},
   "outputs": [],
   "source": [
    "adata = sc.read_h5ad('liana/tests/data/synthetic.h5ad')"
   ]
  },
  {
   "cell_type": "code",
   "execution_count": 4,
   "metadata": {},
   "outputs": [
    {
     "name": "stderr",
     "output_type": "stream",
     "text": [
      "/home/dbdimitrov/anaconda3/envs/liana-py/lib/python3.10/site-packages/mudata/_core/mudata.py:457: UserWarning: Cannot join columns with the same name because var_names are intersecting.\n"
     ]
    }
   ],
   "source": [
    "misty = genericMistyData(intra=adata, set_diag=True, bandwidth=10)"
   ]
  },
  {
   "cell_type": "code",
   "execution_count": 5,
   "metadata": {},
   "outputs": [],
   "source": [
    "misty(n_estimators=20, bypass_intra=False)"
   ]
  },
  {
   "cell_type": "code",
   "execution_count": 6,
   "metadata": {},
   "outputs": [
    {
     "data": {
      "text/html": [
       "<div>\n",
       "<style scoped>\n",
       "    .dataframe tbody tr th:only-of-type {\n",
       "        vertical-align: middle;\n",
       "    }\n",
       "\n",
       "    .dataframe tbody tr th {\n",
       "        vertical-align: top;\n",
       "    }\n",
       "\n",
       "    .dataframe thead th {\n",
       "        text-align: right;\n",
       "    }\n",
       "</style>\n",
       "<table border=\"1\" class=\"dataframe\">\n",
       "  <thead>\n",
       "    <tr style=\"text-align: right;\">\n",
       "      <th></th>\n",
       "      <th>target</th>\n",
       "      <th>intra_group</th>\n",
       "      <th>env_group</th>\n",
       "      <th>intra.R2</th>\n",
       "      <th>multi.R2</th>\n",
       "      <th>gain.R2</th>\n",
       "      <th>intra</th>\n",
       "      <th>juxta</th>\n",
       "      <th>para</th>\n",
       "    </tr>\n",
       "  </thead>\n",
       "  <tbody>\n",
       "    <tr>\n",
       "      <th>0</th>\n",
       "      <td>ECM</td>\n",
       "      <td>None</td>\n",
       "      <td>None</td>\n",
       "      <td>0.916691</td>\n",
       "      <td>0.935051</td>\n",
       "      <td>0.018360</td>\n",
       "      <td>0.770407</td>\n",
       "      <td>0.138171</td>\n",
       "      <td>0.091422</td>\n",
       "    </tr>\n",
       "    <tr>\n",
       "      <th>1</th>\n",
       "      <td>ligA</td>\n",
       "      <td>None</td>\n",
       "      <td>None</td>\n",
       "      <td>0.988682</td>\n",
       "      <td>0.988936</td>\n",
       "      <td>0.000254</td>\n",
       "      <td>0.966251</td>\n",
       "      <td>0.026840</td>\n",
       "      <td>0.006909</td>\n",
       "    </tr>\n",
       "    <tr>\n",
       "      <th>2</th>\n",
       "      <td>ligB</td>\n",
       "      <td>None</td>\n",
       "      <td>None</td>\n",
       "      <td>0.931729</td>\n",
       "      <td>0.945597</td>\n",
       "      <td>0.013869</td>\n",
       "      <td>0.794769</td>\n",
       "      <td>0.130086</td>\n",
       "      <td>0.075145</td>\n",
       "    </tr>\n",
       "    <tr>\n",
       "      <th>3</th>\n",
       "      <td>ligC</td>\n",
       "      <td>None</td>\n",
       "      <td>None</td>\n",
       "      <td>0.772048</td>\n",
       "      <td>0.867912</td>\n",
       "      <td>0.095864</td>\n",
       "      <td>0.579776</td>\n",
       "      <td>0.241276</td>\n",
       "      <td>0.178948</td>\n",
       "    </tr>\n",
       "    <tr>\n",
       "      <th>4</th>\n",
       "      <td>ligD</td>\n",
       "      <td>None</td>\n",
       "      <td>None</td>\n",
       "      <td>0.975031</td>\n",
       "      <td>0.976384</td>\n",
       "      <td>0.001353</td>\n",
       "      <td>0.924838</td>\n",
       "      <td>0.040185</td>\n",
       "      <td>0.034977</td>\n",
       "    </tr>\n",
       "    <tr>\n",
       "      <th>5</th>\n",
       "      <td>protE</td>\n",
       "      <td>None</td>\n",
       "      <td>None</td>\n",
       "      <td>0.996984</td>\n",
       "      <td>0.996995</td>\n",
       "      <td>0.000010</td>\n",
       "      <td>1.000000</td>\n",
       "      <td>0.000000</td>\n",
       "      <td>0.000000</td>\n",
       "    </tr>\n",
       "    <tr>\n",
       "      <th>6</th>\n",
       "      <td>protF</td>\n",
       "      <td>None</td>\n",
       "      <td>None</td>\n",
       "      <td>0.998878</td>\n",
       "      <td>0.998882</td>\n",
       "      <td>0.000003</td>\n",
       "      <td>0.994822</td>\n",
       "      <td>0.000217</td>\n",
       "      <td>0.004961</td>\n",
       "    </tr>\n",
       "    <tr>\n",
       "      <th>7</th>\n",
       "      <td>prodA</td>\n",
       "      <td>None</td>\n",
       "      <td>None</td>\n",
       "      <td>0.991524</td>\n",
       "      <td>0.991535</td>\n",
       "      <td>0.000011</td>\n",
       "      <td>1.000000</td>\n",
       "      <td>0.000000</td>\n",
       "      <td>0.000000</td>\n",
       "    </tr>\n",
       "    <tr>\n",
       "      <th>8</th>\n",
       "      <td>prodB</td>\n",
       "      <td>None</td>\n",
       "      <td>None</td>\n",
       "      <td>0.980290</td>\n",
       "      <td>0.980210</td>\n",
       "      <td>-0.000079</td>\n",
       "      <td>1.000000</td>\n",
       "      <td>0.000000</td>\n",
       "      <td>0.000000</td>\n",
       "    </tr>\n",
       "    <tr>\n",
       "      <th>9</th>\n",
       "      <td>prodC</td>\n",
       "      <td>None</td>\n",
       "      <td>None</td>\n",
       "      <td>0.954825</td>\n",
       "      <td>0.955203</td>\n",
       "      <td>0.000378</td>\n",
       "      <td>1.000000</td>\n",
       "      <td>0.000000</td>\n",
       "      <td>0.000000</td>\n",
       "    </tr>\n",
       "    <tr>\n",
       "      <th>10</th>\n",
       "      <td>prodD</td>\n",
       "      <td>None</td>\n",
       "      <td>None</td>\n",
       "      <td>0.991242</td>\n",
       "      <td>0.991301</td>\n",
       "      <td>0.000059</td>\n",
       "      <td>1.000000</td>\n",
       "      <td>0.000000</td>\n",
       "      <td>0.000000</td>\n",
       "    </tr>\n",
       "  </tbody>\n",
       "</table>\n",
       "</div>"
      ],
      "text/plain": [
       "   target intra_group env_group  intra.R2  multi.R2   gain.R2     intra   \n",
       "0     ECM        None      None  0.916691  0.935051  0.018360  0.770407  \\\n",
       "1    ligA        None      None  0.988682  0.988936  0.000254  0.966251   \n",
       "2    ligB        None      None  0.931729  0.945597  0.013869  0.794769   \n",
       "3    ligC        None      None  0.772048  0.867912  0.095864  0.579776   \n",
       "4    ligD        None      None  0.975031  0.976384  0.001353  0.924838   \n",
       "5   protE        None      None  0.996984  0.996995  0.000010  1.000000   \n",
       "6   protF        None      None  0.998878  0.998882  0.000003  0.994822   \n",
       "7   prodA        None      None  0.991524  0.991535  0.000011  1.000000   \n",
       "8   prodB        None      None  0.980290  0.980210 -0.000079  1.000000   \n",
       "9   prodC        None      None  0.954825  0.955203  0.000378  1.000000   \n",
       "10  prodD        None      None  0.991242  0.991301  0.000059  1.000000   \n",
       "\n",
       "       juxta      para  \n",
       "0   0.138171  0.091422  \n",
       "1   0.026840  0.006909  \n",
       "2   0.130086  0.075145  \n",
       "3   0.241276  0.178948  \n",
       "4   0.040185  0.034977  \n",
       "5   0.000000  0.000000  \n",
       "6   0.000217  0.004961  \n",
       "7   0.000000  0.000000  \n",
       "8   0.000000  0.000000  \n",
       "9   0.000000  0.000000  \n",
       "10  0.000000  0.000000  "
      ]
     },
     "execution_count": 6,
     "metadata": {},
     "output_type": "execute_result"
    }
   ],
   "source": [
    "misty.uns['target_metrics']"
   ]
  },
  {
   "cell_type": "code",
   "execution_count": null,
   "metadata": {},
   "outputs": [],
   "source": []
  },
  {
   "cell_type": "code",
   "execution_count": null,
   "metadata": {},
   "outputs": [],
   "source": []
  },
  {
   "cell_type": "code",
   "execution_count": null,
   "metadata": {},
   "outputs": [],
   "source": [
    "adata = sc.pp.subsample(adata, n_obs=100, copy=True)"
   ]
  },
  {
   "cell_type": "code",
   "execution_count": null,
   "metadata": {},
   "outputs": [],
   "source": [
    "misty = genericMistyData(adata, bandwidth=20, add_juxta=True, set_diag=True, cutoff=0, coord_type=\"generic\", delaunay=True)"
   ]
  },
  {
   "cell_type": "code",
   "execution_count": null,
   "metadata": {},
   "outputs": [],
   "source": [
    "# Why is this thing so much slower?\n",
    "misty(alphas=1, \n",
    "      bypass_intra=True,\n",
    "      seed=42,\n",
    "      n_estimators=100,\n",
    "      keep_same_predictor=False,\n",
    "      group_intra_by='cell_type',\n",
    "      group_env_by='cell_type',\n",
    "      )"
   ]
  },
  {
   "cell_type": "code",
   "execution_count": null,
   "metadata": {},
   "outputs": [],
   "source": []
  },
  {
   "cell_type": "code",
   "execution_count": null,
   "metadata": {},
   "outputs": [],
   "source": [
    "misty.uns['importances'].sort_values('value', ascending=False)"
   ]
  },
  {
   "cell_type": "code",
   "execution_count": null,
   "metadata": {},
   "outputs": [],
   "source": [
    "misty.uns['target_metrics'].sort_values('multi.R2') #NOTE: this is weird, why is the R2 not bound to 0-1???"
   ]
  },
  {
   "cell_type": "code",
   "execution_count": null,
   "metadata": {},
   "outputs": [],
   "source": []
  },
  {
   "cell_type": "code",
   "execution_count": null,
   "metadata": {},
   "outputs": [],
   "source": []
  },
  {
   "cell_type": "code",
   "execution_count": null,
   "metadata": {},
   "outputs": [],
   "source": [
    "misty.uns['target_metrics']"
   ]
  },
  {
   "cell_type": "code",
   "execution_count": null,
   "metadata": {},
   "outputs": [],
   "source": [
    "misty.uns['importances']"
   ]
  },
  {
   "cell_type": "code",
   "execution_count": null,
   "metadata": {},
   "outputs": [],
   "source": []
  },
  {
   "attachments": {},
   "cell_type": "markdown",
   "metadata": {},
   "source": [
    "lrMistyData"
   ]
  },
  {
   "cell_type": "code",
   "execution_count": 7,
   "metadata": {},
   "outputs": [],
   "source": [
    "from liana.testing._sample_anndata import generate_toy_spatial"
   ]
  },
  {
   "cell_type": "code",
   "execution_count": 8,
   "metadata": {},
   "outputs": [],
   "source": [
    "adata = generate_toy_spatial()"
   ]
  },
  {
   "cell_type": "code",
   "execution_count": 9,
   "metadata": {},
   "outputs": [
    {
     "name": "stderr",
     "output_type": "stream",
     "text": [
      "/home/dbdimitrov/anaconda3/envs/liana-py/lib/python3.10/site-packages/mudata/_core/mudata.py:457: UserWarning: Cannot join columns with the same name because var_names are intersecting.\n"
     ]
    }
   ],
   "source": [
    "lr_misty = lrMistyData(adata=adata, set_diag=True, bandwidth=10, use_raw=True)"
   ]
  },
  {
   "cell_type": "code",
   "execution_count": 10,
   "metadata": {},
   "outputs": [
    {
     "data": {
      "text/plain": [
       "Index(['CD4', 'LAG3', 'FPR1', 'CD8A_CD8B', 'CD40', 'ITGB2', 'ITGA4',\n",
       "       'TNFRSF13B', 'HLA-DPB1', 'TNFRSF17', 'CD74_CXCR4', 'CD63', 'CD33',\n",
       "       'S1PR5', 'S1PR4', 'CD53'],\n",
       "      dtype='object')"
      ]
     },
     "execution_count": 10,
     "metadata": {},
     "output_type": "execute_result"
    }
   ],
   "source": [
    "lr_misty['intra'].var_names"
   ]
  },
  {
   "cell_type": "code",
   "execution_count": 11,
   "metadata": {},
   "outputs": [
    {
     "data": {
      "text/html": [
       "<pre>MuData object with n_obs × n_vars = 700 × 39\n",
       "  obs:\t&#x27;bulk_labels&#x27;, &#x27;n_genes&#x27;, &#x27;percent_mito&#x27;, &#x27;n_counts&#x27;, &#x27;S_score&#x27;, &#x27;G2M_score&#x27;, &#x27;phase&#x27;, &#x27;louvain&#x27;\n",
       "  2 modalities\n",
       "    intra:\t700 x 16\n",
       "      obs:\t&#x27;bulk_labels&#x27;, &#x27;n_genes&#x27;, &#x27;percent_mito&#x27;, &#x27;n_counts&#x27;, &#x27;S_score&#x27;, &#x27;G2M_score&#x27;, &#x27;phase&#x27;, &#x27;louvain&#x27;\n",
       "    extra:\t700 x 23\n",
       "      obsm:\t&#x27;spatial&#x27;\n",
       "      obsp:\t&#x27;spatial_connectivities&#x27;</pre>"
      ],
      "text/plain": [
       "MuData object with n_obs × n_vars = 700 × 39\n",
       "  obs:\t'bulk_labels', 'n_genes', 'percent_mito', 'n_counts', 'S_score', 'G2M_score', 'phase', 'louvain'\n",
       "  2 modalities\n",
       "    intra:\t700 x 16\n",
       "      obs:\t'bulk_labels', 'n_genes', 'percent_mito', 'n_counts', 'S_score', 'G2M_score', 'phase', 'louvain'\n",
       "    extra:\t700 x 23\n",
       "      obsm:\t'spatial'\n",
       "      obsp:\t'spatial_connectivities'"
      ]
     },
     "execution_count": 11,
     "metadata": {},
     "output_type": "execute_result"
    }
   ],
   "source": [
    "lr_misty"
   ]
  },
  {
   "cell_type": "code",
   "execution_count": null,
   "metadata": {},
   "outputs": [],
   "source": []
  },
  {
   "cell_type": "code",
   "execution_count": null,
   "metadata": {},
   "outputs": [],
   "source": [
    "lr_misty(bypass_intra=True)"
   ]
  },
  {
   "cell_type": "code",
   "execution_count": null,
   "metadata": {},
   "outputs": [],
   "source": [
    "lr_misty.uns['target_metrics']"
   ]
  },
  {
   "cell_type": "code",
   "execution_count": null,
   "metadata": {},
   "outputs": [],
   "source": [
    "lr_misty.uns['importances'].sort_values('value', ascending=False)"
   ]
  },
  {
   "cell_type": "code",
   "execution_count": null,
   "metadata": {},
   "outputs": [],
   "source": []
  },
  {
   "cell_type": "code",
   "execution_count": null,
   "metadata": {},
   "outputs": [],
   "source": []
  },
  {
   "cell_type": "code",
   "execution_count": null,
   "metadata": {},
   "outputs": [],
   "source": [
    "from liana.resource import select_resource\n",
    "from liana.method._pipe_utils import prep_check_adata\n",
    "from liana.method.sp._lr_basis import _add_complexes_to_var\n",
    "from liana.method.sp._misty_constructs import _make_view\n",
    "from liana.method.sp._spatial_pipe import spatial_neighbors"
   ]
  },
  {
   "cell_type": "code",
   "execution_count": null,
   "metadata": {},
   "outputs": [],
   "source": []
  },
  {
   "cell_type": "code",
   "execution_count": null,
   "metadata": {},
   "outputs": [],
   "source": [
    "def lrMistyData(adata, \n",
    "                resource_name='consensus', \n",
    "                resource=None,\n",
    "                nz_threshold=0.1,\n",
    "                use_raw = False,\n",
    "                layer = None,\n",
    "                spatial_key='spatial',\n",
    "                bandwidth = 100,\n",
    "                kernel = 'misty_rbf',\n",
    "                set_diag = True,\n",
    "                cutoff = 0.1,\n",
    "                zoi = 0,\n",
    "                verbose = False\n",
    "                ):\n",
    "    \n",
    "    if resource is None:\n",
    "        resource = select_resource(resource_name.lower())\n",
    "        \n",
    "    adata = prep_check_adata(adata=adata,\n",
    "                        use_raw=use_raw,\n",
    "                        layer=layer,\n",
    "                        verbose=verbose,\n",
    "                        groupby=None,\n",
    "                        min_cells=None,\n",
    "                        obsm = {spatial_key: adata.obsm[spatial_key]}\n",
    "                        )\n",
    "    \n",
    "    adata = _add_complexes_to_var(adata,\n",
    "                              np.union1d(resource['receptor'].astype(str),\n",
    "                                         resource['ligand'].astype(str)\n",
    "                                        )\n",
    "                              )\n",
    "    \n",
    "    views = dict()\n",
    "    intra = _make_view(adata=adata[:, resource['receptor'].unique()],\n",
    "                   nz_threshold=nz_threshold, obs=adata.obs)\n",
    "    views['intra'] = _add_complexes_to_var(intra, np.unique(resource['receptor']))\n",
    "    \n",
    "    connectivity = spatial_neighbors(adata=adata, spatial_key=spatial_key,\n",
    "                                 bandwidth=bandwidth, kernel=kernel,\n",
    "                                 set_diag=set_diag, cutoff=cutoff,\n",
    "                                 zoi=zoi, inplace=False)\n",
    "\n",
    "    extra = _make_view(adata=adata[:,resource['ligand'].unique()],\n",
    "                       spatial_key=spatial_key, nz_threshold=nz_threshold,\n",
    "                       connecitivity=connectivity,\n",
    "                       obs=pd.DataFrame(index=adata.obs.index))\n",
    "    views['extra'] = _add_complexes_to_var(extra, np.unique(resource['ligand']))\n",
    "    \n",
    "    return MistyData(data=views, obs=intra.obs, spatial_key=spatial_key)"
   ]
  },
  {
   "cell_type": "code",
   "execution_count": null,
   "metadata": {},
   "outputs": [],
   "source": [
    "use_raw = False\n",
    "layer = None\n",
    "verbose = True\n",
    "resource = None\n",
    "resource_name = 'consensus'\n",
    "nz_threshold = 0.1"
   ]
  },
  {
   "cell_type": "code",
   "execution_count": null,
   "metadata": {},
   "outputs": [],
   "source": [
    "spatial_key = 'spatial'\n",
    "bandwidth = 100\n",
    "kernel = 'misty_rbf'\n",
    "set_diag = False\n",
    "cutoff = 0.1\n",
    "zoi = 0"
   ]
  },
  {
   "cell_type": "code",
   "execution_count": null,
   "metadata": {},
   "outputs": [],
   "source": []
  },
  {
   "cell_type": "code",
   "execution_count": null,
   "metadata": {},
   "outputs": [],
   "source": [
    "if resource is None:\n",
    "    resource = select_resource(resource_name.lower())"
   ]
  },
  {
   "cell_type": "code",
   "execution_count": null,
   "metadata": {},
   "outputs": [],
   "source": []
  },
  {
   "cell_type": "code",
   "execution_count": null,
   "metadata": {},
   "outputs": [],
   "source": [
    "views = dict()"
   ]
  },
  {
   "cell_type": "code",
   "execution_count": null,
   "metadata": {},
   "outputs": [],
   "source": [
    "adata = prep_check_adata(adata=adata,\n",
    "                         use_raw=use_raw,\n",
    "                         layer=layer,\n",
    "                         verbose=verbose,\n",
    "                         groupby=None,\n",
    "                         min_cells=None,\n",
    "                         obsm = {spatial_key: adata.obsm[spatial_key]}\n",
    "                         )"
   ]
  },
  {
   "cell_type": "code",
   "execution_count": null,
   "metadata": {},
   "outputs": [],
   "source": [
    "adata = _add_complexes_to_var(adata,\n",
    "                              np.union1d(resource['receptor'].astype(str),\n",
    "                                         resource['ligand'].astype(str)\n",
    "                                        )\n",
    "                              )"
   ]
  },
  {
   "cell_type": "code",
   "execution_count": null,
   "metadata": {},
   "outputs": [],
   "source": [
    "adata"
   ]
  },
  {
   "cell_type": "code",
   "execution_count": null,
   "metadata": {},
   "outputs": [],
   "source": [
    "# filter_resource\n",
    "resource = resource[(np.isin(resource.ligand, adata.var_names)) &\n",
    "                    (np.isin(resource.receptor, adata.var_names))]"
   ]
  },
  {
   "cell_type": "code",
   "execution_count": null,
   "metadata": {},
   "outputs": [],
   "source": []
  },
  {
   "cell_type": "code",
   "execution_count": null,
   "metadata": {},
   "outputs": [],
   "source": [
    "intra = _make_view(adata=adata[:, resource['receptor'].unique()],\n",
    "                   nz_threshold=nz_threshold, add_obs=True)\n",
    "\n",
    "views['intra'] = _add_complexes_to_var(intra, np.unique(resource['receptor']))"
   ]
  },
  {
   "cell_type": "code",
   "execution_count": null,
   "metadata": {},
   "outputs": [],
   "source": [
    "connectivity = spatial_neighbors(adata=adata, spatial_key=spatial_key,\n",
    "                                 bandwidth=bandwidth, kernel=kernel,\n",
    "                                 set_diag=set_diag, cutoff=cutoff,\n",
    "                                 zoi=zoi, inplace=False)\n",
    "\n",
    "extra = _make_view(adata=adata[:,resource['ligand'].unique()], spatial_key=spatial_key,\n",
    "                   nz_threshold=nz_threshold, connecitivity=connectivity)\n",
    "views['extra'] = _add_complexes_to_var(extra, np.unique(resource['ligand']))"
   ]
  },
  {
   "cell_type": "code",
   "execution_count": null,
   "metadata": {},
   "outputs": [],
   "source": []
  },
  {
   "cell_type": "code",
   "execution_count": null,
   "metadata": {},
   "outputs": [],
   "source": [
    "intra.var_names"
   ]
  },
  {
   "cell_type": "code",
   "execution_count": null,
   "metadata": {},
   "outputs": [],
   "source": []
  },
  {
   "cell_type": "code",
   "execution_count": null,
   "metadata": {},
   "outputs": [],
   "source": []
  },
  {
   "cell_type": "code",
   "execution_count": null,
   "metadata": {},
   "outputs": [],
   "source": [
    "from mudata import MuData"
   ]
  },
  {
   "cell_type": "code",
   "execution_count": null,
   "metadata": {},
   "outputs": [],
   "source": [
    "lr_misty = MistyData(data=views, obs=intra.obs, spatial_key=spatial_key)"
   ]
  },
  {
   "cell_type": "code",
   "execution_count": null,
   "metadata": {},
   "outputs": [],
   "source": [
    "lr_misty(bypass_intra=False)"
   ]
  },
  {
   "cell_type": "code",
   "execution_count": null,
   "metadata": {},
   "outputs": [],
   "source": [
    "lr_misty.uns['target_metrics'].sort_values('multi.R2')"
   ]
  },
  {
   "cell_type": "code",
   "execution_count": null,
   "metadata": {},
   "outputs": [],
   "source": [
    "lr_misty.uns['importances'].sort_values('value', ascending=False).head(20)"
   ]
  },
  {
   "cell_type": "code",
   "execution_count": null,
   "metadata": {},
   "outputs": [],
   "source": []
  },
  {
   "cell_type": "code",
   "execution_count": null,
   "metadata": {},
   "outputs": [],
   "source": []
  },
  {
   "cell_type": "code",
   "execution_count": 17,
   "metadata": {},
   "outputs": [
    {
     "data": {
      "text/html": [
       "<style>#sk-container-id-2 {color: black;background-color: white;}#sk-container-id-2 pre{padding: 0;}#sk-container-id-2 div.sk-toggleable {background-color: white;}#sk-container-id-2 label.sk-toggleable__label {cursor: pointer;display: block;width: 100%;margin-bottom: 0;padding: 0.3em;box-sizing: border-box;text-align: center;}#sk-container-id-2 label.sk-toggleable__label-arrow:before {content: \"▸\";float: left;margin-right: 0.25em;color: #696969;}#sk-container-id-2 label.sk-toggleable__label-arrow:hover:before {color: black;}#sk-container-id-2 div.sk-estimator:hover label.sk-toggleable__label-arrow:before {color: black;}#sk-container-id-2 div.sk-toggleable__content {max-height: 0;max-width: 0;overflow: hidden;text-align: left;background-color: #f0f8ff;}#sk-container-id-2 div.sk-toggleable__content pre {margin: 0.2em;color: black;border-radius: 0.25em;background-color: #f0f8ff;}#sk-container-id-2 input.sk-toggleable__control:checked~div.sk-toggleable__content {max-height: 200px;max-width: 100%;overflow: auto;}#sk-container-id-2 input.sk-toggleable__control:checked~label.sk-toggleable__label-arrow:before {content: \"▾\";}#sk-container-id-2 div.sk-estimator input.sk-toggleable__control:checked~label.sk-toggleable__label {background-color: #d4ebff;}#sk-container-id-2 div.sk-label input.sk-toggleable__control:checked~label.sk-toggleable__label {background-color: #d4ebff;}#sk-container-id-2 input.sk-hidden--visually {border: 0;clip: rect(1px 1px 1px 1px);clip: rect(1px, 1px, 1px, 1px);height: 1px;margin: -1px;overflow: hidden;padding: 0;position: absolute;width: 1px;}#sk-container-id-2 div.sk-estimator {font-family: monospace;background-color: #f0f8ff;border: 1px dotted black;border-radius: 0.25em;box-sizing: border-box;margin-bottom: 0.5em;}#sk-container-id-2 div.sk-estimator:hover {background-color: #d4ebff;}#sk-container-id-2 div.sk-parallel-item::after {content: \"\";width: 100%;border-bottom: 1px solid gray;flex-grow: 1;}#sk-container-id-2 div.sk-label:hover label.sk-toggleable__label {background-color: #d4ebff;}#sk-container-id-2 div.sk-serial::before {content: \"\";position: absolute;border-left: 1px solid gray;box-sizing: border-box;top: 0;bottom: 0;left: 50%;z-index: 0;}#sk-container-id-2 div.sk-serial {display: flex;flex-direction: column;align-items: center;background-color: white;padding-right: 0.2em;padding-left: 0.2em;position: relative;}#sk-container-id-2 div.sk-item {position: relative;z-index: 1;}#sk-container-id-2 div.sk-parallel {display: flex;align-items: stretch;justify-content: center;background-color: white;position: relative;}#sk-container-id-2 div.sk-item::before, #sk-container-id-2 div.sk-parallel-item::before {content: \"\";position: absolute;border-left: 1px solid gray;box-sizing: border-box;top: 0;bottom: 0;left: 50%;z-index: -1;}#sk-container-id-2 div.sk-parallel-item {display: flex;flex-direction: column;z-index: 1;position: relative;background-color: white;}#sk-container-id-2 div.sk-parallel-item:first-child::after {align-self: flex-end;width: 50%;}#sk-container-id-2 div.sk-parallel-item:last-child::after {align-self: flex-start;width: 50%;}#sk-container-id-2 div.sk-parallel-item:only-child::after {width: 0;}#sk-container-id-2 div.sk-dashed-wrapped {border: 1px dashed gray;margin: 0 0.4em 0.5em 0.4em;box-sizing: border-box;padding-bottom: 0.4em;background-color: white;}#sk-container-id-2 div.sk-label label {font-family: monospace;font-weight: bold;display: inline-block;line-height: 1.2em;}#sk-container-id-2 div.sk-label-container {text-align: center;}#sk-container-id-2 div.sk-container {/* jupyter's `normalize.less` sets `[hidden] { display: none; }` but bootstrap.min.css set `[hidden] { display: none !important; }` so we also need the `!important` here to be able to override the default hidden behavior on the sphinx rendered scikit-learn.org. See: https://github.com/scikit-learn/scikit-learn/issues/21755 */display: inline-block !important;position: relative;}#sk-container-id-2 div.sk-text-repr-fallback {display: none;}</style><div id=\"sk-container-id-2\" class=\"sk-top-container\"><div class=\"sk-text-repr-fallback\"><pre>RidgeCV(alphas=[0.1, 1.0, 10.0])</pre><b>In a Jupyter environment, please rerun this cell to show the HTML representation or trust the notebook. <br />On GitHub, the HTML representation is unable to render, please try loading this page with nbviewer.org.</b></div><div class=\"sk-container\" hidden><div class=\"sk-item\"><div class=\"sk-estimator sk-toggleable\"><input class=\"sk-toggleable__control sk-hidden--visually\" id=\"sk-estimator-id-2\" type=\"checkbox\" checked><label for=\"sk-estimator-id-2\" class=\"sk-toggleable__label sk-toggleable__label-arrow\">RidgeCV</label><div class=\"sk-toggleable__content\"><pre>RidgeCV(alphas=[0.1, 1.0, 10.0])</pre></div></div></div></div></div>"
      ],
      "text/plain": [
       "RidgeCV(alphas=[0.1, 1.0, 10.0])"
      ]
     },
     "execution_count": 17,
     "metadata": {},
     "output_type": "execute_result"
    }
   ],
   "source": [
    "from sklearn.datasets import make_regression\n",
    "from sklearn.linear_model import RidgeCV\n",
    "from sklearn.model_selection import train_test_split\n",
    "from sklearn.metrics import mean_squared_error\n",
    "\n",
    "# Generate a random regression dataset\n",
    "X, y = make_regression(n_samples=100, n_features=1, noise=0.5, random_state=42)\n",
    "\n",
    "# Split the dataset into training and testing sets\n",
    "X_train, X_test, y_train, y_test = train_test_split(X, y, test_size=0.2, random_state=42)\n",
    "\n"
   ]
  },
  {
   "cell_type": "code",
   "execution_count": 19,
   "metadata": {},
   "outputs": [
    {
     "data": {
      "text/html": [
       "<style>#sk-container-id-4 {color: black;background-color: white;}#sk-container-id-4 pre{padding: 0;}#sk-container-id-4 div.sk-toggleable {background-color: white;}#sk-container-id-4 label.sk-toggleable__label {cursor: pointer;display: block;width: 100%;margin-bottom: 0;padding: 0.3em;box-sizing: border-box;text-align: center;}#sk-container-id-4 label.sk-toggleable__label-arrow:before {content: \"▸\";float: left;margin-right: 0.25em;color: #696969;}#sk-container-id-4 label.sk-toggleable__label-arrow:hover:before {color: black;}#sk-container-id-4 div.sk-estimator:hover label.sk-toggleable__label-arrow:before {color: black;}#sk-container-id-4 div.sk-toggleable__content {max-height: 0;max-width: 0;overflow: hidden;text-align: left;background-color: #f0f8ff;}#sk-container-id-4 div.sk-toggleable__content pre {margin: 0.2em;color: black;border-radius: 0.25em;background-color: #f0f8ff;}#sk-container-id-4 input.sk-toggleable__control:checked~div.sk-toggleable__content {max-height: 200px;max-width: 100%;overflow: auto;}#sk-container-id-4 input.sk-toggleable__control:checked~label.sk-toggleable__label-arrow:before {content: \"▾\";}#sk-container-id-4 div.sk-estimator input.sk-toggleable__control:checked~label.sk-toggleable__label {background-color: #d4ebff;}#sk-container-id-4 div.sk-label input.sk-toggleable__control:checked~label.sk-toggleable__label {background-color: #d4ebff;}#sk-container-id-4 input.sk-hidden--visually {border: 0;clip: rect(1px 1px 1px 1px);clip: rect(1px, 1px, 1px, 1px);height: 1px;margin: -1px;overflow: hidden;padding: 0;position: absolute;width: 1px;}#sk-container-id-4 div.sk-estimator {font-family: monospace;background-color: #f0f8ff;border: 1px dotted black;border-radius: 0.25em;box-sizing: border-box;margin-bottom: 0.5em;}#sk-container-id-4 div.sk-estimator:hover {background-color: #d4ebff;}#sk-container-id-4 div.sk-parallel-item::after {content: \"\";width: 100%;border-bottom: 1px solid gray;flex-grow: 1;}#sk-container-id-4 div.sk-label:hover label.sk-toggleable__label {background-color: #d4ebff;}#sk-container-id-4 div.sk-serial::before {content: \"\";position: absolute;border-left: 1px solid gray;box-sizing: border-box;top: 0;bottom: 0;left: 50%;z-index: 0;}#sk-container-id-4 div.sk-serial {display: flex;flex-direction: column;align-items: center;background-color: white;padding-right: 0.2em;padding-left: 0.2em;position: relative;}#sk-container-id-4 div.sk-item {position: relative;z-index: 1;}#sk-container-id-4 div.sk-parallel {display: flex;align-items: stretch;justify-content: center;background-color: white;position: relative;}#sk-container-id-4 div.sk-item::before, #sk-container-id-4 div.sk-parallel-item::before {content: \"\";position: absolute;border-left: 1px solid gray;box-sizing: border-box;top: 0;bottom: 0;left: 50%;z-index: -1;}#sk-container-id-4 div.sk-parallel-item {display: flex;flex-direction: column;z-index: 1;position: relative;background-color: white;}#sk-container-id-4 div.sk-parallel-item:first-child::after {align-self: flex-end;width: 50%;}#sk-container-id-4 div.sk-parallel-item:last-child::after {align-self: flex-start;width: 50%;}#sk-container-id-4 div.sk-parallel-item:only-child::after {width: 0;}#sk-container-id-4 div.sk-dashed-wrapped {border: 1px dashed gray;margin: 0 0.4em 0.5em 0.4em;box-sizing: border-box;padding-bottom: 0.4em;background-color: white;}#sk-container-id-4 div.sk-label label {font-family: monospace;font-weight: bold;display: inline-block;line-height: 1.2em;}#sk-container-id-4 div.sk-label-container {text-align: center;}#sk-container-id-4 div.sk-container {/* jupyter's `normalize.less` sets `[hidden] { display: none; }` but bootstrap.min.css set `[hidden] { display: none !important; }` so we also need the `!important` here to be able to override the default hidden behavior on the sphinx rendered scikit-learn.org. See: https://github.com/scikit-learn/scikit-learn/issues/21755 */display: inline-block !important;position: relative;}#sk-container-id-4 div.sk-text-repr-fallback {display: none;}</style><div id=\"sk-container-id-4\" class=\"sk-top-container\"><div class=\"sk-text-repr-fallback\"><pre>RidgeCV(alphas=[0.1, 1.0, 10.0], store_cv_values=True)</pre><b>In a Jupyter environment, please rerun this cell to show the HTML representation or trust the notebook. <br />On GitHub, the HTML representation is unable to render, please try loading this page with nbviewer.org.</b></div><div class=\"sk-container\" hidden><div class=\"sk-item\"><div class=\"sk-estimator sk-toggleable\"><input class=\"sk-toggleable__control sk-hidden--visually\" id=\"sk-estimator-id-4\" type=\"checkbox\" checked><label for=\"sk-estimator-id-4\" class=\"sk-toggleable__label sk-toggleable__label-arrow\">RidgeCV</label><div class=\"sk-toggleable__content\"><pre>RidgeCV(alphas=[0.1, 1.0, 10.0], store_cv_values=True)</pre></div></div></div></div></div>"
      ],
      "text/plain": [
       "RidgeCV(alphas=[0.1, 1.0, 10.0], store_cv_values=True)"
      ]
     },
     "execution_count": 19,
     "metadata": {},
     "output_type": "execute_result"
    }
   ],
   "source": [
    "\n",
    "# Create a RidgeCV regression model\n",
    "model = RidgeCV(alphas=[0.1, 1.0, 10.0], store_cv_values=True)\n",
    "\n",
    "# Fit the model to the training data\n",
    "model.fit(X_train, y_train)"
   ]
  },
  {
   "cell_type": "code",
   "execution_count": 35,
   "metadata": {},
   "outputs": [],
   "source": [
    "model = RidgeCV(alphas=[0.1, 1.0, 10.0])"
   ]
  },
  {
   "cell_type": "code",
   "execution_count": 36,
   "metadata": {},
   "outputs": [
    {
     "data": {
      "text/html": [
       "<style>#sk-container-id-6 {color: black;background-color: white;}#sk-container-id-6 pre{padding: 0;}#sk-container-id-6 div.sk-toggleable {background-color: white;}#sk-container-id-6 label.sk-toggleable__label {cursor: pointer;display: block;width: 100%;margin-bottom: 0;padding: 0.3em;box-sizing: border-box;text-align: center;}#sk-container-id-6 label.sk-toggleable__label-arrow:before {content: \"▸\";float: left;margin-right: 0.25em;color: #696969;}#sk-container-id-6 label.sk-toggleable__label-arrow:hover:before {color: black;}#sk-container-id-6 div.sk-estimator:hover label.sk-toggleable__label-arrow:before {color: black;}#sk-container-id-6 div.sk-toggleable__content {max-height: 0;max-width: 0;overflow: hidden;text-align: left;background-color: #f0f8ff;}#sk-container-id-6 div.sk-toggleable__content pre {margin: 0.2em;color: black;border-radius: 0.25em;background-color: #f0f8ff;}#sk-container-id-6 input.sk-toggleable__control:checked~div.sk-toggleable__content {max-height: 200px;max-width: 100%;overflow: auto;}#sk-container-id-6 input.sk-toggleable__control:checked~label.sk-toggleable__label-arrow:before {content: \"▾\";}#sk-container-id-6 div.sk-estimator input.sk-toggleable__control:checked~label.sk-toggleable__label {background-color: #d4ebff;}#sk-container-id-6 div.sk-label input.sk-toggleable__control:checked~label.sk-toggleable__label {background-color: #d4ebff;}#sk-container-id-6 input.sk-hidden--visually {border: 0;clip: rect(1px 1px 1px 1px);clip: rect(1px, 1px, 1px, 1px);height: 1px;margin: -1px;overflow: hidden;padding: 0;position: absolute;width: 1px;}#sk-container-id-6 div.sk-estimator {font-family: monospace;background-color: #f0f8ff;border: 1px dotted black;border-radius: 0.25em;box-sizing: border-box;margin-bottom: 0.5em;}#sk-container-id-6 div.sk-estimator:hover {background-color: #d4ebff;}#sk-container-id-6 div.sk-parallel-item::after {content: \"\";width: 100%;border-bottom: 1px solid gray;flex-grow: 1;}#sk-container-id-6 div.sk-label:hover label.sk-toggleable__label {background-color: #d4ebff;}#sk-container-id-6 div.sk-serial::before {content: \"\";position: absolute;border-left: 1px solid gray;box-sizing: border-box;top: 0;bottom: 0;left: 50%;z-index: 0;}#sk-container-id-6 div.sk-serial {display: flex;flex-direction: column;align-items: center;background-color: white;padding-right: 0.2em;padding-left: 0.2em;position: relative;}#sk-container-id-6 div.sk-item {position: relative;z-index: 1;}#sk-container-id-6 div.sk-parallel {display: flex;align-items: stretch;justify-content: center;background-color: white;position: relative;}#sk-container-id-6 div.sk-item::before, #sk-container-id-6 div.sk-parallel-item::before {content: \"\";position: absolute;border-left: 1px solid gray;box-sizing: border-box;top: 0;bottom: 0;left: 50%;z-index: -1;}#sk-container-id-6 div.sk-parallel-item {display: flex;flex-direction: column;z-index: 1;position: relative;background-color: white;}#sk-container-id-6 div.sk-parallel-item:first-child::after {align-self: flex-end;width: 50%;}#sk-container-id-6 div.sk-parallel-item:last-child::after {align-self: flex-start;width: 50%;}#sk-container-id-6 div.sk-parallel-item:only-child::after {width: 0;}#sk-container-id-6 div.sk-dashed-wrapped {border: 1px dashed gray;margin: 0 0.4em 0.5em 0.4em;box-sizing: border-box;padding-bottom: 0.4em;background-color: white;}#sk-container-id-6 div.sk-label label {font-family: monospace;font-weight: bold;display: inline-block;line-height: 1.2em;}#sk-container-id-6 div.sk-label-container {text-align: center;}#sk-container-id-6 div.sk-container {/* jupyter's `normalize.less` sets `[hidden] { display: none; }` but bootstrap.min.css set `[hidden] { display: none !important; }` so we also need the `!important` here to be able to override the default hidden behavior on the sphinx rendered scikit-learn.org. See: https://github.com/scikit-learn/scikit-learn/issues/21755 */display: inline-block !important;position: relative;}#sk-container-id-6 div.sk-text-repr-fallback {display: none;}</style><div id=\"sk-container-id-6\" class=\"sk-top-container\"><div class=\"sk-text-repr-fallback\"><pre>RidgeCV(alphas=[0.1, 1.0, 10.0])</pre><b>In a Jupyter environment, please rerun this cell to show the HTML representation or trust the notebook. <br />On GitHub, the HTML representation is unable to render, please try loading this page with nbviewer.org.</b></div><div class=\"sk-container\" hidden><div class=\"sk-item\"><div class=\"sk-estimator sk-toggleable\"><input class=\"sk-toggleable__control sk-hidden--visually\" id=\"sk-estimator-id-6\" type=\"checkbox\" checked><label for=\"sk-estimator-id-6\" class=\"sk-toggleable__label sk-toggleable__label-arrow\">RidgeCV</label><div class=\"sk-toggleable__content\"><pre>RidgeCV(alphas=[0.1, 1.0, 10.0])</pre></div></div></div></div></div>"
      ],
      "text/plain": [
       "RidgeCV(alphas=[0.1, 1.0, 10.0])"
      ]
     },
     "execution_count": 36,
     "metadata": {},
     "output_type": "execute_result"
    }
   ],
   "source": [
    "# Fit the model to the training data\n",
    "model.fit(X_train, y_train)"
   ]
  },
  {
   "cell_type": "code",
   "execution_count": 37,
   "metadata": {},
   "outputs": [
    {
     "name": "stdout",
     "output_type": "stream",
     "text": [
      "\u001b[0;31mType:\u001b[0m        RidgeCV\n",
      "\u001b[0;31mString form:\u001b[0m RidgeCV(alphas=[0.1, 1.0, 10.0])\n",
      "\u001b[0;31mFile:\u001b[0m        ~/anaconda3/envs/liana-py/lib/python3.10/site-packages/sklearn/linear_model/_ridge.py\n",
      "\u001b[0;31mDocstring:\u001b[0m  \n",
      "Ridge regression with built-in cross-validation.\n",
      "\n",
      "See glossary entry for :term:`cross-validation estimator`.\n",
      "\n",
      "By default, it performs efficient Leave-One-Out Cross-Validation.\n",
      "\n",
      "Read more in the :ref:`User Guide <ridge_regression>`.\n",
      "\n",
      "Parameters\n",
      "----------\n",
      "alphas : ndarray of shape (n_alphas,), default=(0.1, 1.0, 10.0)\n",
      "    Array of alpha values to try.\n",
      "    Regularization strength; must be a positive float. Regularization\n",
      "    improves the conditioning of the problem and reduces the variance of\n",
      "    the estimates. Larger values specify stronger regularization.\n",
      "    Alpha corresponds to ``1 / (2C)`` in other linear models such as\n",
      "    :class:`~sklearn.linear_model.LogisticRegression` or\n",
      "    :class:`~sklearn.svm.LinearSVC`.\n",
      "    If using Leave-One-Out cross-validation, alphas must be positive.\n",
      "\n",
      "fit_intercept : bool, default=True\n",
      "    Whether to calculate the intercept for this model. If set\n",
      "    to false, no intercept will be used in calculations\n",
      "    (i.e. data is expected to be centered).\n",
      "\n",
      "normalize : bool, default=False\n",
      "    This parameter is ignored when ``fit_intercept`` is set to False.\n",
      "    If True, the regressors X will be normalized before regression by\n",
      "    subtracting the mean and dividing by the l2-norm.\n",
      "    If you wish to standardize, please use\n",
      "    :class:`~sklearn.preprocessing.StandardScaler` before calling ``fit``\n",
      "    on an estimator with ``normalize=False``.\n",
      "\n",
      "    .. deprecated:: 1.0\n",
      "        ``normalize`` was deprecated in version 1.0 and will be removed in\n",
      "        1.2.\n",
      "\n",
      "scoring : str, callable, default=None\n",
      "    A string (see model evaluation documentation) or\n",
      "    a scorer callable object / function with signature\n",
      "    ``scorer(estimator, X, y)``.\n",
      "    If None, the negative mean squared error if cv is 'auto' or None\n",
      "    (i.e. when using leave-one-out cross-validation), and r2 score\n",
      "    otherwise.\n",
      "\n",
      "cv : int, cross-validation generator or an iterable, default=None\n",
      "    Determines the cross-validation splitting strategy.\n",
      "    Possible inputs for cv are:\n",
      "\n",
      "    - None, to use the efficient Leave-One-Out cross-validation\n",
      "    - integer, to specify the number of folds.\n",
      "    - :term:`CV splitter`,\n",
      "    - An iterable yielding (train, test) splits as arrays of indices.\n",
      "\n",
      "    For integer/None inputs, if ``y`` is binary or multiclass,\n",
      "    :class:`~sklearn.model_selection.StratifiedKFold` is used, else,\n",
      "    :class:`~sklearn.model_selection.KFold` is used.\n",
      "\n",
      "    Refer :ref:`User Guide <cross_validation>` for the various\n",
      "    cross-validation strategies that can be used here.\n",
      "\n",
      "gcv_mode : {'auto', 'svd', 'eigen'}, default='auto'\n",
      "    Flag indicating which strategy to use when performing\n",
      "    Leave-One-Out Cross-Validation. Options are::\n",
      "\n",
      "        'auto' : use 'svd' if n_samples > n_features, otherwise use 'eigen'\n",
      "        'svd' : force use of singular value decomposition of X when X is\n",
      "            dense, eigenvalue decomposition of X^T.X when X is sparse.\n",
      "        'eigen' : force computation via eigendecomposition of X.X^T\n",
      "\n",
      "    The 'auto' mode is the default and is intended to pick the cheaper\n",
      "    option of the two depending on the shape of the training data.\n",
      "\n",
      "store_cv_values : bool, default=False\n",
      "    Flag indicating if the cross-validation values corresponding to\n",
      "    each alpha should be stored in the ``cv_values_`` attribute (see\n",
      "    below). This flag is only compatible with ``cv=None`` (i.e. using\n",
      "    Leave-One-Out Cross-Validation).\n",
      "\n",
      "alpha_per_target : bool, default=False\n",
      "    Flag indicating whether to optimize the alpha value (picked from the\n",
      "    `alphas` parameter list) for each target separately (for multi-output\n",
      "    settings: multiple prediction targets). When set to `True`, after\n",
      "    fitting, the `alpha_` attribute will contain a value for each target.\n",
      "    When set to `False`, a single alpha is used for all targets.\n",
      "\n",
      "    .. versionadded:: 0.24\n",
      "\n",
      "Attributes\n",
      "----------\n",
      "cv_values_ : ndarray of shape (n_samples, n_alphas) or             shape (n_samples, n_targets, n_alphas), optional\n",
      "    Cross-validation values for each alpha (only available if\n",
      "    ``store_cv_values=True`` and ``cv=None``). After ``fit()`` has been\n",
      "    called, this attribute will contain the mean squared errors if\n",
      "    `scoring is None` otherwise it will contain standardized per point\n",
      "    prediction values.\n",
      "\n",
      "coef_ : ndarray of shape (n_features) or (n_targets, n_features)\n",
      "    Weight vector(s).\n",
      "\n",
      "intercept_ : float or ndarray of shape (n_targets,)\n",
      "    Independent term in decision function. Set to 0.0 if\n",
      "    ``fit_intercept = False``.\n",
      "\n",
      "alpha_ : float or ndarray of shape (n_targets,)\n",
      "    Estimated regularization parameter, or, if ``alpha_per_target=True``,\n",
      "    the estimated regularization parameter for each target.\n",
      "\n",
      "best_score_ : float or ndarray of shape (n_targets,)\n",
      "    Score of base estimator with best alpha, or, if\n",
      "    ``alpha_per_target=True``, a score for each target.\n",
      "\n",
      "    .. versionadded:: 0.23\n",
      "\n",
      "n_features_in_ : int\n",
      "    Number of features seen during :term:`fit`.\n",
      "\n",
      "    .. versionadded:: 0.24\n",
      "\n",
      "feature_names_in_ : ndarray of shape (`n_features_in_`,)\n",
      "    Names of features seen during :term:`fit`. Defined only when `X`\n",
      "    has feature names that are all strings.\n",
      "\n",
      "    .. versionadded:: 1.0\n",
      "\n",
      "See Also\n",
      "--------\n",
      "Ridge : Ridge regression.\n",
      "RidgeClassifier : Classifier based on ridge regression on {-1, 1} labels.\n",
      "RidgeClassifierCV : Ridge classifier with built-in cross validation.\n",
      "\n",
      "Examples\n",
      "--------\n",
      ">>> from sklearn.datasets import load_diabetes\n",
      ">>> from sklearn.linear_model import RidgeCV\n",
      ">>> X, y = load_diabetes(return_X_y=True)\n",
      ">>> clf = RidgeCV(alphas=[1e-3, 1e-2, 1e-1, 1]).fit(X, y)\n",
      ">>> clf.score(X, y)\n",
      "0.5166...\n"
     ]
    }
   ],
   "source": [
    "?model"
   ]
  },
  {
   "cell_type": "code",
   "execution_count": null,
   "metadata": {},
   "outputs": [],
   "source": []
  },
  {
   "cell_type": "code",
   "execution_count": null,
   "metadata": {},
   "outputs": [],
   "source": []
  },
  {
   "cell_type": "code",
   "execution_count": 22,
   "metadata": {},
   "outputs": [
    {
     "data": {
      "text/plain": [
       "array([[2.62438156e-01, 6.14761187e-01, 9.88511411e+00],\n",
       "       [9.72186920e-02, 4.06036716e-02, 2.16562659e+01],\n",
       "       [5.69504839e-01, 2.33272940e-01, 3.51965610e+00],\n",
       "       [3.34802797e-02, 6.48981324e-01, 8.73173593e+01],\n",
       "       [4.55535906e-01, 1.42839638e+00, 3.25709000e+01],\n",
       "       [1.96106080e-01, 3.24160080e-01, 2.78323692e+00],\n",
       "       [1.38476676e-01, 4.27996947e-01, 9.63265283e+00],\n",
       "       [2.53575388e-01, 1.60355461e+00, 6.19300039e+01],\n",
       "       [3.06032912e-01, 1.19414338e-02, 3.42140900e+01],\n",
       "       [1.09228965e-02, 8.11499100e-01, 6.07242973e+01],\n",
       "       [3.30381202e-01, 2.47329503e+00, 1.03855536e+02],\n",
       "       [2.82214152e-01, 6.86652703e-01, 1.16344975e+01],\n",
       "       [1.05415273e-01, 1.10315043e-01, 1.57564791e-01],\n",
       "       [1.65383247e-01, 4.60918558e-01, 9.25901932e+00],\n",
       "       [2.88319845e-04, 3.89962482e-02, 4.24361664e+00],\n",
       "       [3.77391906e-02, 4.14291221e-01, 2.06376596e+01],\n",
       "       [5.41113726e-02, 1.40435713e+00, 8.86420089e+01],\n",
       "       [1.05039584e-01, 9.31529745e-01, 4.25167014e+01],\n",
       "       [3.95789998e-01, 1.95450256e-01, 1.39778697e+00],\n",
       "       [4.03298125e-03, 1.36945541e+00, 1.14841250e+02],\n",
       "       [2.53520998e-05, 3.56797224e-02, 3.50893468e+00],\n",
       "       [5.45479663e-02, 4.68846140e-01, 2.11539318e+01],\n",
       "       [7.81200156e-01, 2.46137841e-01, 8.23215093e+00],\n",
       "       [5.98495591e-03, 1.27961057e+00, 1.33223408e+02],\n",
       "       [4.86123427e-02, 7.49291536e-02, 5.42177682e-01],\n",
       "       [9.15115658e-02, 3.53507044e+00, 2.37093157e+02],\n",
       "       [1.50720647e-01, 2.76419936e-01, 2.95973622e+00],\n",
       "       [7.72526761e-03, 1.07982671e+00, 8.57284253e+01],\n",
       "       [2.65235502e-02, 1.65022526e-01, 2.85203053e+01],\n",
       "       [3.96086018e-01, 3.33092236e-01, 1.52670532e-02],\n",
       "       [1.60154212e-01, 2.00379642e+00, 1.03694888e+02],\n",
       "       [2.18435162e-02, 1.14502925e-02, 5.38095962e+00],\n",
       "       [9.73635247e-03, 7.39012771e-02, 1.21662161e+01],\n",
       "       [6.85510328e-01, 1.90716944e+00, 3.81507494e+01],\n",
       "       [1.96188719e-02, 8.30336210e-02, 1.60331261e+01],\n",
       "       [2.35522773e-01, 5.80713782e-02, 3.53744507e+00],\n",
       "       [2.62033645e-01, 4.95922541e-01, 5.63895404e+00],\n",
       "       [6.62408505e-03, 7.54061891e-01, 5.89802591e+01],\n",
       "       [1.36228374e-01, 2.17940477e-01, 1.73181083e+00],\n",
       "       [1.80958773e-02, 1.96091887e-02, 3.53127686e-02],\n",
       "       [8.78822221e-02, 3.14814088e-01, 8.17431190e+00],\n",
       "       [1.73713036e-01, 2.70815677e-01, 2.01767247e+00],\n",
       "       [1.72705979e+00, 1.36173129e+00, 1.25589605e-02],\n",
       "       [6.90933149e-03, 1.98440943e-02, 4.35212683e+00],\n",
       "       [1.74160387e-01, 9.18749224e-02, 4.74800432e-01],\n",
       "       [1.04197041e-02, 1.38731612e+00, 1.09419941e+02],\n",
       "       [3.54444920e-03, 2.51193440e-02, 1.03654155e+00],\n",
       "       [1.62348357e-03, 4.37401452e-02, 5.64180577e+00],\n",
       "       [1.84189722e-04, 1.77596518e-03, 2.76825673e-01],\n",
       "       [1.62070229e-01, 5.52722018e-01, 1.37096231e+01],\n",
       "       [1.27061072e-01, 3.54645216e-01, 7.13768764e+00],\n",
       "       [1.42949635e-02, 1.89633671e-01, 1.01010332e+01],\n",
       "       [4.18466655e-03, 1.53588721e-05, 2.74578873e-01],\n",
       "       [2.29662169e-01, 5.51160134e-01, 9.16698041e+00],\n",
       "       [1.44161253e-01, 1.69889329e-01, 4.82238316e-01],\n",
       "       [1.97050853e-01, 1.69090628e-01, 1.61668399e-02],\n",
       "       [3.59007724e-01, 1.81793411e-01, 8.61340051e+01],\n",
       "       [7.46735634e-02, 2.42190608e-03, 3.59715526e+00],\n",
       "       [2.22034251e-02, 1.15423380e-01, 3.98536250e+00],\n",
       "       [3.11711876e-05, 1.25423203e+00, 1.17198043e+02],\n",
       "       [3.35525134e-02, 2.63887365e-01, 1.14460037e+01],\n",
       "       [5.02541630e-02, 8.44794243e-01, 4.81485440e+01],\n",
       "       [1.60774617e-01, 1.40893172e-02, 5.43956160e+00],\n",
       "       [3.00610268e-01, 1.37190839e+00, 4.31765301e+01],\n",
       "       [4.84702301e-01, 3.27632536e-01, 2.53137163e-01],\n",
       "       [1.01264948e+00, 1.13809208e+00, 2.53596051e+00],\n",
       "       [4.30666506e-03, 4.08939925e-03, 1.41488997e+00],\n",
       "       [2.95490865e-01, 1.23209526e-05, 2.19031674e+01],\n",
       "       [3.02896902e-01, 3.44832500e-03, 2.84964386e+01],\n",
       "       [6.03939452e-02, 3.22875868e-02, 1.55413548e-01],\n",
       "       [3.73228675e-01, 2.22589381e+00, 8.30000662e+01],\n",
       "       [5.16807337e-01, 9.49256802e-02, 1.06077156e+01],\n",
       "       [5.32353553e-04, 2.98451068e-02, 3.51042752e+00],\n",
       "       [2.21954346e-01, 8.92766895e-02, 1.43525479e+00],\n",
       "       [5.25140996e-02, 1.73451679e-02, 1.06546514e+01],\n",
       "       [4.56857972e-01, 8.76794477e-01, 1.02282050e+01],\n",
       "       [1.58019396e-02, 7.75969045e-01, 5.50426400e+01],\n",
       "       [4.40082786e-01, 1.11518349e+00, 1.99254071e+01],\n",
       "       [1.50425177e-01, 2.50433705e-01, 2.18579709e+00],\n",
       "       [1.31502376e-01, 1.93052047e-01, 1.22337401e+00]])"
      ]
     },
     "execution_count": 22,
     "metadata": {},
     "output_type": "execute_result"
    }
   ],
   "source": [
    "model.cv_values_"
   ]
  },
  {
   "cell_type": "code",
   "execution_count": null,
   "metadata": {},
   "outputs": [],
   "source": []
  },
  {
   "cell_type": "code",
   "execution_count": null,
   "metadata": {},
   "outputs": [],
   "source": [
    "# # Predict on the test data\n",
    "# y_pred = model.predict(X_test)\n",
    "\n",
    "# # Get the internal cross-validation predictions\n",
    "# cv_predictions = model.predict(X_train)\n",
    "\n",
    "# # Calculate the mean squared error\n",
    "# mse = mean_squared_error(y_test, y_pred)\n",
    "# print(\"Mean Squared Error:\", mse)\n",
    "\n",
    "# # Print the optimal regularization parameter chosen by RidgeCV\n",
    "# print(\"Optimal alpha:\", model.alpha_)\n",
    "\n",
    "# # Print the internal cross-validation predictions\n",
    "# print(\"Internal CV predictions:\", cv_predictions)"
   ]
  },
  {
   "cell_type": "code",
   "execution_count": null,
   "metadata": {},
   "outputs": [],
   "source": []
  },
  {
   "cell_type": "code",
   "execution_count": null,
   "metadata": {},
   "outputs": [],
   "source": []
  },
  {
   "cell_type": "code",
   "execution_count": null,
   "metadata": {},
   "outputs": [],
   "source": []
  }
 ],
 "metadata": {
  "kernelspec": {
   "display_name": "liana-py",
   "language": "python",
   "name": "python3"
  },
  "language_info": {
   "codemirror_mode": {
    "name": "ipython",
    "version": 3
   },
   "file_extension": ".py",
   "mimetype": "text/x-python",
   "name": "python",
   "nbconvert_exporter": "python",
   "pygments_lexer": "ipython3",
   "version": "3.10.10"
  },
  "orig_nbformat": 4,
  "vscode": {
   "interpreter": {
    "hash": "80a99255e5b17beb6f8c8dc403ec70687184f3f6557a2c5fe71e16aa6505930d"
   }
  }
 },
 "nbformat": 4,
 "nbformat_minor": 2
}
