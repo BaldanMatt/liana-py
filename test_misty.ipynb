{
 "cells": [
  {
   "cell_type": "code",
   "execution_count": 1,
   "metadata": {},
   "outputs": [],
   "source": [
    "import scanpy as sc\n",
    "import numpy as np\n",
    "import pandas as pd"
   ]
  },
  {
   "cell_type": "code",
   "execution_count": 2,
   "metadata": {},
   "outputs": [],
   "source": [
    "from liana.method.sp._Misty import MistyData\n",
    "from liana.method.sp._misty_constructs import genericMistyData"
   ]
  },
  {
   "cell_type": "code",
   "execution_count": 3,
   "metadata": {},
   "outputs": [],
   "source": [
    "adata = sc.read_h5ad('liana/tests/data/synthetic.h5ad')"
   ]
  },
  {
   "cell_type": "code",
   "execution_count": 4,
   "metadata": {},
   "outputs": [
    {
     "name": "stderr",
     "output_type": "stream",
     "text": [
      "/home/dbdimitrov/anaconda3/envs/liana-py/lib/python3.10/site-packages/mudata/_core/mudata.py:457: UserWarning: Cannot join columns with the same name because var_names are intersecting.\n"
     ]
    }
   ],
   "source": [
    "misty = genericMistyData(intra=adata)"
   ]
  },
  {
   "cell_type": "code",
   "execution_count": 5,
   "metadata": {},
   "outputs": [
    {
     "data": {
      "text/html": [
       "<pre>MuData object with n_obs × n_vars = 4205 × 33\n",
       "  obs:\t&#x27;cell_type&#x27;\n",
       "  3 modalities\n",
       "    intra:\t4205 x 11\n",
       "      obs:\t&#x27;cell_type&#x27;\n",
       "      obsm:\t&#x27;spatial&#x27;\n",
       "    juxta:\t4205 x 11\n",
       "      obsm:\t&#x27;spatial&#x27;\n",
       "      obsp:\t&#x27;spatial_connectivities&#x27;\n",
       "    para:\t4205 x 11\n",
       "      obsm:\t&#x27;spatial&#x27;\n",
       "      obsp:\t&#x27;spatial_connectivities&#x27;</pre>"
      ],
      "text/plain": [
       "MuData object with n_obs × n_vars = 4205 × 33\n",
       "  obs:\t'cell_type'\n",
       "  3 modalities\n",
       "    intra:\t4205 x 11\n",
       "      obs:\t'cell_type'\n",
       "      obsm:\t'spatial'\n",
       "    juxta:\t4205 x 11\n",
       "      obsm:\t'spatial'\n",
       "      obsp:\t'spatial_connectivities'\n",
       "    para:\t4205 x 11\n",
       "      obsm:\t'spatial'\n",
       "      obsp:\t'spatial_connectivities'"
      ]
     },
     "execution_count": 5,
     "metadata": {},
     "output_type": "execute_result"
    }
   ],
   "source": [
    "misty"
   ]
  },
  {
   "cell_type": "code",
   "execution_count": 6,
   "metadata": {},
   "outputs": [],
   "source": [
    "misty(n_estimators=20)"
   ]
  },
  {
   "cell_type": "code",
   "execution_count": null,
   "metadata": {},
   "outputs": [],
   "source": []
  },
  {
   "cell_type": "code",
   "execution_count": 7,
   "metadata": {},
   "outputs": [
    {
     "data": {
      "text/html": [
       "<div>\n",
       "<style scoped>\n",
       "    .dataframe tbody tr th:only-of-type {\n",
       "        vertical-align: middle;\n",
       "    }\n",
       "\n",
       "    .dataframe tbody tr th {\n",
       "        vertical-align: top;\n",
       "    }\n",
       "\n",
       "    .dataframe thead th {\n",
       "        text-align: right;\n",
       "    }\n",
       "</style>\n",
       "<table border=\"1\" class=\"dataframe\">\n",
       "  <thead>\n",
       "    <tr style=\"text-align: right;\">\n",
       "      <th></th>\n",
       "      <th>target</th>\n",
       "      <th>intra_group</th>\n",
       "      <th>env_group</th>\n",
       "      <th>intra.R2</th>\n",
       "      <th>multi.R2</th>\n",
       "      <th>gain.R2</th>\n",
       "      <th>intra</th>\n",
       "      <th>juxta</th>\n",
       "      <th>para</th>\n",
       "    </tr>\n",
       "  </thead>\n",
       "  <tbody>\n",
       "    <tr>\n",
       "      <th>0</th>\n",
       "      <td>ECM</td>\n",
       "      <td>None</td>\n",
       "      <td>None</td>\n",
       "      <td>0.915215</td>\n",
       "      <td>0.930767</td>\n",
       "      <td>0.015552</td>\n",
       "      <td>0.814531</td>\n",
       "      <td>0.172121</td>\n",
       "      <td>0.013348</td>\n",
       "    </tr>\n",
       "    <tr>\n",
       "      <th>1</th>\n",
       "      <td>ligA</td>\n",
       "      <td>None</td>\n",
       "      <td>None</td>\n",
       "      <td>0.988723</td>\n",
       "      <td>0.988971</td>\n",
       "      <td>0.000247</td>\n",
       "      <td>0.967293</td>\n",
       "      <td>0.028793</td>\n",
       "      <td>0.003914</td>\n",
       "    </tr>\n",
       "    <tr>\n",
       "      <th>2</th>\n",
       "      <td>ligB</td>\n",
       "      <td>None</td>\n",
       "      <td>None</td>\n",
       "      <td>0.930962</td>\n",
       "      <td>0.943334</td>\n",
       "      <td>0.012372</td>\n",
       "      <td>0.812734</td>\n",
       "      <td>0.158387</td>\n",
       "      <td>0.028879</td>\n",
       "    </tr>\n",
       "    <tr>\n",
       "      <th>3</th>\n",
       "      <td>ligC</td>\n",
       "      <td>None</td>\n",
       "      <td>None</td>\n",
       "      <td>0.772749</td>\n",
       "      <td>0.852782</td>\n",
       "      <td>0.080033</td>\n",
       "      <td>0.620814</td>\n",
       "      <td>0.322833</td>\n",
       "      <td>0.056353</td>\n",
       "    </tr>\n",
       "    <tr>\n",
       "      <th>4</th>\n",
       "      <td>ligD</td>\n",
       "      <td>None</td>\n",
       "      <td>None</td>\n",
       "      <td>0.975034</td>\n",
       "      <td>0.975947</td>\n",
       "      <td>0.000913</td>\n",
       "      <td>0.942298</td>\n",
       "      <td>0.050840</td>\n",
       "      <td>0.006862</td>\n",
       "    </tr>\n",
       "    <tr>\n",
       "      <th>5</th>\n",
       "      <td>protE</td>\n",
       "      <td>None</td>\n",
       "      <td>None</td>\n",
       "      <td>0.996774</td>\n",
       "      <td>0.996772</td>\n",
       "      <td>-0.000002</td>\n",
       "      <td>1.000000</td>\n",
       "      <td>0.000000</td>\n",
       "      <td>0.000000</td>\n",
       "    </tr>\n",
       "    <tr>\n",
       "      <th>6</th>\n",
       "      <td>protF</td>\n",
       "      <td>None</td>\n",
       "      <td>None</td>\n",
       "      <td>0.998864</td>\n",
       "      <td>0.998865</td>\n",
       "      <td>0.000002</td>\n",
       "      <td>0.995857</td>\n",
       "      <td>0.000863</td>\n",
       "      <td>0.003280</td>\n",
       "    </tr>\n",
       "    <tr>\n",
       "      <th>7</th>\n",
       "      <td>prodA</td>\n",
       "      <td>None</td>\n",
       "      <td>None</td>\n",
       "      <td>0.991412</td>\n",
       "      <td>0.991424</td>\n",
       "      <td>0.000012</td>\n",
       "      <td>0.998923</td>\n",
       "      <td>0.000000</td>\n",
       "      <td>0.001077</td>\n",
       "    </tr>\n",
       "    <tr>\n",
       "      <th>8</th>\n",
       "      <td>prodB</td>\n",
       "      <td>None</td>\n",
       "      <td>None</td>\n",
       "      <td>0.980528</td>\n",
       "      <td>0.980439</td>\n",
       "      <td>-0.000089</td>\n",
       "      <td>1.000000</td>\n",
       "      <td>0.000000</td>\n",
       "      <td>0.000000</td>\n",
       "    </tr>\n",
       "    <tr>\n",
       "      <th>9</th>\n",
       "      <td>prodC</td>\n",
       "      <td>None</td>\n",
       "      <td>None</td>\n",
       "      <td>0.954489</td>\n",
       "      <td>0.954813</td>\n",
       "      <td>0.000324</td>\n",
       "      <td>1.000000</td>\n",
       "      <td>0.000000</td>\n",
       "      <td>0.000000</td>\n",
       "    </tr>\n",
       "    <tr>\n",
       "      <th>10</th>\n",
       "      <td>prodD</td>\n",
       "      <td>None</td>\n",
       "      <td>None</td>\n",
       "      <td>0.991231</td>\n",
       "      <td>0.991297</td>\n",
       "      <td>0.000066</td>\n",
       "      <td>1.000000</td>\n",
       "      <td>0.000000</td>\n",
       "      <td>0.000000</td>\n",
       "    </tr>\n",
       "  </tbody>\n",
       "</table>\n",
       "</div>"
      ],
      "text/plain": [
       "   target intra_group env_group  intra.R2  multi.R2   gain.R2     intra   \n",
       "0     ECM        None      None  0.915215  0.930767  0.015552  0.814531  \\\n",
       "1    ligA        None      None  0.988723  0.988971  0.000247  0.967293   \n",
       "2    ligB        None      None  0.930962  0.943334  0.012372  0.812734   \n",
       "3    ligC        None      None  0.772749  0.852782  0.080033  0.620814   \n",
       "4    ligD        None      None  0.975034  0.975947  0.000913  0.942298   \n",
       "5   protE        None      None  0.996774  0.996772 -0.000002  1.000000   \n",
       "6   protF        None      None  0.998864  0.998865  0.000002  0.995857   \n",
       "7   prodA        None      None  0.991412  0.991424  0.000012  0.998923   \n",
       "8   prodB        None      None  0.980528  0.980439 -0.000089  1.000000   \n",
       "9   prodC        None      None  0.954489  0.954813  0.000324  1.000000   \n",
       "10  prodD        None      None  0.991231  0.991297  0.000066  1.000000   \n",
       "\n",
       "       juxta      para  \n",
       "0   0.172121  0.013348  \n",
       "1   0.028793  0.003914  \n",
       "2   0.158387  0.028879  \n",
       "3   0.322833  0.056353  \n",
       "4   0.050840  0.006862  \n",
       "5   0.000000  0.000000  \n",
       "6   0.000863  0.003280  \n",
       "7   0.000000  0.001077  \n",
       "8   0.000000  0.000000  \n",
       "9   0.000000  0.000000  \n",
       "10  0.000000  0.000000  "
      ]
     },
     "execution_count": 7,
     "metadata": {},
     "output_type": "execute_result"
    }
   ],
   "source": [
    "misty.uns['target_metrics']"
   ]
  },
  {
   "cell_type": "code",
   "execution_count": 8,
   "metadata": {},
   "outputs": [
    {
     "data": {
      "text/html": [
       "<div>\n",
       "<style scoped>\n",
       "    .dataframe tbody tr th:only-of-type {\n",
       "        vertical-align: middle;\n",
       "    }\n",
       "\n",
       "    .dataframe tbody tr th {\n",
       "        vertical-align: top;\n",
       "    }\n",
       "\n",
       "    .dataframe thead th {\n",
       "        text-align: right;\n",
       "    }\n",
       "</style>\n",
       "<table border=\"1\" class=\"dataframe\">\n",
       "  <thead>\n",
       "    <tr style=\"text-align: right;\">\n",
       "      <th></th>\n",
       "      <th>target</th>\n",
       "      <th>predictor</th>\n",
       "      <th>intra_group</th>\n",
       "      <th>env_group</th>\n",
       "      <th>view</th>\n",
       "      <th>value</th>\n",
       "    </tr>\n",
       "  </thead>\n",
       "  <tbody>\n",
       "    <tr>\n",
       "      <th>0</th>\n",
       "      <td>ECM</td>\n",
       "      <td>ligA</td>\n",
       "      <td>None</td>\n",
       "      <td>None</td>\n",
       "      <td>intra</td>\n",
       "      <td>0.006981</td>\n",
       "    </tr>\n",
       "    <tr>\n",
       "      <th>1</th>\n",
       "      <td>ECM</td>\n",
       "      <td>ligB</td>\n",
       "      <td>None</td>\n",
       "      <td>None</td>\n",
       "      <td>intra</td>\n",
       "      <td>0.022493</td>\n",
       "    </tr>\n",
       "    <tr>\n",
       "      <th>2</th>\n",
       "      <td>ECM</td>\n",
       "      <td>ligC</td>\n",
       "      <td>None</td>\n",
       "      <td>None</td>\n",
       "      <td>intra</td>\n",
       "      <td>0.068925</td>\n",
       "    </tr>\n",
       "    <tr>\n",
       "      <th>3</th>\n",
       "      <td>ECM</td>\n",
       "      <td>ligD</td>\n",
       "      <td>None</td>\n",
       "      <td>None</td>\n",
       "      <td>intra</td>\n",
       "      <td>0.010800</td>\n",
       "    </tr>\n",
       "    <tr>\n",
       "      <th>4</th>\n",
       "      <td>ECM</td>\n",
       "      <td>protE</td>\n",
       "      <td>None</td>\n",
       "      <td>None</td>\n",
       "      <td>intra</td>\n",
       "      <td>0.359283</td>\n",
       "    </tr>\n",
       "    <tr>\n",
       "      <th>...</th>\n",
       "      <td>...</td>\n",
       "      <td>...</td>\n",
       "      <td>...</td>\n",
       "      <td>...</td>\n",
       "      <td>...</td>\n",
       "      <td>...</td>\n",
       "    </tr>\n",
       "    <tr>\n",
       "      <th>325</th>\n",
       "      <td>prodD</td>\n",
       "      <td>protE</td>\n",
       "      <td>None</td>\n",
       "      <td>None</td>\n",
       "      <td>para</td>\n",
       "      <td>0.103775</td>\n",
       "    </tr>\n",
       "    <tr>\n",
       "      <th>326</th>\n",
       "      <td>prodD</td>\n",
       "      <td>protF</td>\n",
       "      <td>None</td>\n",
       "      <td>None</td>\n",
       "      <td>para</td>\n",
       "      <td>0.139170</td>\n",
       "    </tr>\n",
       "    <tr>\n",
       "      <th>327</th>\n",
       "      <td>prodD</td>\n",
       "      <td>prodA</td>\n",
       "      <td>None</td>\n",
       "      <td>None</td>\n",
       "      <td>para</td>\n",
       "      <td>0.083315</td>\n",
       "    </tr>\n",
       "    <tr>\n",
       "      <th>328</th>\n",
       "      <td>prodD</td>\n",
       "      <td>prodB</td>\n",
       "      <td>None</td>\n",
       "      <td>None</td>\n",
       "      <td>para</td>\n",
       "      <td>0.108542</td>\n",
       "    </tr>\n",
       "    <tr>\n",
       "      <th>329</th>\n",
       "      <td>prodD</td>\n",
       "      <td>prodC</td>\n",
       "      <td>None</td>\n",
       "      <td>None</td>\n",
       "      <td>para</td>\n",
       "      <td>0.100130</td>\n",
       "    </tr>\n",
       "  </tbody>\n",
       "</table>\n",
       "<p>330 rows × 6 columns</p>\n",
       "</div>"
      ],
      "text/plain": [
       "    target predictor intra_group env_group   view     value\n",
       "0      ECM      ligA        None      None  intra  0.006981\n",
       "1      ECM      ligB        None      None  intra  0.022493\n",
       "2      ECM      ligC        None      None  intra  0.068925\n",
       "3      ECM      ligD        None      None  intra  0.010800\n",
       "4      ECM     protE        None      None  intra  0.359283\n",
       "..     ...       ...         ...       ...    ...       ...\n",
       "325  prodD     protE        None      None   para  0.103775\n",
       "326  prodD     protF        None      None   para  0.139170\n",
       "327  prodD     prodA        None      None   para  0.083315\n",
       "328  prodD     prodB        None      None   para  0.108542\n",
       "329  prodD     prodC        None      None   para  0.100130\n",
       "\n",
       "[330 rows x 6 columns]"
      ]
     },
     "execution_count": 8,
     "metadata": {},
     "output_type": "execute_result"
    }
   ],
   "source": [
    "misty.uns['importances']"
   ]
  },
  {
   "cell_type": "code",
   "execution_count": null,
   "metadata": {},
   "outputs": [],
   "source": []
  },
  {
   "attachments": {},
   "cell_type": "markdown",
   "metadata": {},
   "source": [
    "lrMistyData"
   ]
  },
  {
   "cell_type": "code",
   "execution_count": 9,
   "metadata": {},
   "outputs": [],
   "source": [
    "from liana.testing._sample_anndata import generate_toy_spatial"
   ]
  },
  {
   "cell_type": "code",
   "execution_count": 10,
   "metadata": {},
   "outputs": [],
   "source": [
    "from liana.resource import select_resource\n",
    "from liana.method._pipe_utils import prep_check_adata, assert_covered\n",
    "from liana.method._pipe_utils._pre import _get_props\n",
    "\n",
    "from liana.method.sp._SpatialMethod import _SpatialMeta\n",
    "from liana.method.sp._spatial_pipe import _get_ordered_matrix, _rename_means, \\\n",
    "    _run_scores_pipeline, _connectivity_to_weight, _handle_connectivity, _categorize\n",
    "from liana.method.sp._bivariate_funs import _handle_functions"
   ]
  },
  {
   "cell_type": "code",
   "execution_count": 11,
   "metadata": {},
   "outputs": [],
   "source": [
    "from liana.method.sp._lr_basis import _add_complexes_to_var"
   ]
  },
  {
   "cell_type": "code",
   "execution_count": 12,
   "metadata": {},
   "outputs": [],
   "source": [
    "from liana.method.sp._misty_constructs import _make_view"
   ]
  },
  {
   "cell_type": "code",
   "execution_count": 13,
   "metadata": {},
   "outputs": [],
   "source": [
    "from liana.method.sp._spatial_pipe import spatial_neighbors"
   ]
  },
  {
   "cell_type": "code",
   "execution_count": null,
   "metadata": {},
   "outputs": [],
   "source": []
  },
  {
   "cell_type": "code",
   "execution_count": null,
   "metadata": {},
   "outputs": [],
   "source": []
  },
  {
   "cell_type": "code",
   "execution_count": 14,
   "metadata": {},
   "outputs": [],
   "source": [
    "adata = generate_toy_spatial()"
   ]
  },
  {
   "cell_type": "code",
   "execution_count": 15,
   "metadata": {},
   "outputs": [],
   "source": [
    "use_raw = False\n",
    "layer = None\n",
    "verbose = True\n",
    "resource = None\n",
    "resource_name = 'consensus'\n",
    "nz_threshold = 0.1"
   ]
  },
  {
   "cell_type": "code",
   "execution_count": 16,
   "metadata": {},
   "outputs": [],
   "source": [
    "spatial_key = 'spatial'\n",
    "bandwidth = 100\n",
    "kernel = 'misty_rbf'\n",
    "set_diag = True\n",
    "cutoff = 0.1\n",
    "zoi = 0"
   ]
  },
  {
   "cell_type": "code",
   "execution_count": null,
   "metadata": {},
   "outputs": [],
   "source": []
  },
  {
   "cell_type": "code",
   "execution_count": 17,
   "metadata": {},
   "outputs": [],
   "source": [
    "if resource is None:\n",
    "    resource = select_resource(resource_name.lower())"
   ]
  },
  {
   "cell_type": "code",
   "execution_count": 18,
   "metadata": {},
   "outputs": [],
   "source": [
    "views = dict()"
   ]
  },
  {
   "cell_type": "code",
   "execution_count": 19,
   "metadata": {},
   "outputs": [
    {
     "data": {
      "text/plain": [
       "AnnData object with n_obs × n_vars = 700 × 765\n",
       "    obs: 'bulk_labels', 'n_genes', 'percent_mito', 'n_counts', 'S_score', 'G2M_score', 'phase', 'louvain'\n",
       "    var: 'n_counts', 'means', 'dispersions', 'dispersions_norm', 'highly_variable'\n",
       "    uns: 'bulk_labels_colors', 'louvain', 'louvain_colors', 'neighbors', 'pca', 'rank_genes_groups'\n",
       "    obsm: 'X_pca', 'X_umap', 'spatial'\n",
       "    varm: 'PCs'\n",
       "    obsp: 'distances', 'connectivities', 'spatial_connectivities'"
      ]
     },
     "execution_count": 19,
     "metadata": {},
     "output_type": "execute_result"
    }
   ],
   "source": [
    "adata"
   ]
  },
  {
   "cell_type": "code",
   "execution_count": null,
   "metadata": {},
   "outputs": [],
   "source": []
  },
  {
   "cell_type": "code",
   "execution_count": 20,
   "metadata": {},
   "outputs": [
    {
     "name": "stdout",
     "output_type": "stream",
     "text": [
      "Using `.X`!\n",
      "Converting mat to CSR format\n"
     ]
    }
   ],
   "source": [
    "adata = prep_check_adata(adata=adata,\n",
    "                         use_raw=use_raw,\n",
    "                         layer=layer,\n",
    "                         verbose=verbose,\n",
    "                         groupby=None,\n",
    "                         min_cells=None,\n",
    "                         obsm = {spatial_key: adata.obsm[spatial_key]}\n",
    "                         )"
   ]
  },
  {
   "cell_type": "code",
   "execution_count": 21,
   "metadata": {},
   "outputs": [],
   "source": [
    "adata = _add_complexes_to_var(adata,\n",
    "                              np.union1d(resource['receptor'].astype(str),\n",
    "                                         resource['ligand'].astype(str)\n",
    "                                        )\n",
    "                              )"
   ]
  },
  {
   "cell_type": "code",
   "execution_count": 22,
   "metadata": {},
   "outputs": [
    {
     "data": {
      "text/plain": [
       "AnnData object with n_obs × n_vars = 700 × 769\n",
       "    obs: 'bulk_labels', 'n_genes', 'percent_mito', 'n_counts', 'S_score', 'G2M_score', 'phase', 'louvain'\n",
       "    obsm: 'spatial'\n",
       "    obsp: 'distances', 'connectivities', 'spatial_connectivities'"
      ]
     },
     "execution_count": 22,
     "metadata": {},
     "output_type": "execute_result"
    }
   ],
   "source": [
    "adata"
   ]
  },
  {
   "cell_type": "code",
   "execution_count": null,
   "metadata": {},
   "outputs": [],
   "source": []
  },
  {
   "cell_type": "code",
   "execution_count": 23,
   "metadata": {},
   "outputs": [],
   "source": [
    "# filter_resource\n",
    "resource = resource[(np.isin(resource.ligand, adata.var_names)) &\n",
    "                    (np.isin(resource.receptor, adata.var_names))]"
   ]
  },
  {
   "cell_type": "code",
   "execution_count": null,
   "metadata": {},
   "outputs": [],
   "source": []
  },
  {
   "cell_type": "code",
   "execution_count": 24,
   "metadata": {},
   "outputs": [],
   "source": [
    "intra = _make_view(adata=adata[:, resource['receptor'].unique()],\n",
    "                   nz_threshold=nz_threshold, obs=adata.obs)\n",
    "\n",
    "views['intra'] = _add_complexes_to_var(intra, np.unique(resource['receptor']))"
   ]
  },
  {
   "cell_type": "code",
   "execution_count": 25,
   "metadata": {},
   "outputs": [],
   "source": [
    "connectivity = spatial_neighbors(adata=adata, spatial_key=spatial_key,\n",
    "                                 bandwidth=bandwidth, kernel=kernel,\n",
    "                                 set_diag=set_diag, cutoff=cutoff,\n",
    "                                 zoi=zoi, inplace=False)\n",
    "\n",
    "extra = _make_view(adata=adata[:,resource['ligand'].unique()], spatial_key=spatial_key,\n",
    "                   nz_threshold=nz_threshold, connecitivity=connectivity, obs=pd.DataFrame(index=adata.obs.index))\n",
    "views['extra'] = _add_complexes_to_var(extra, np.unique(resource['ligand']))"
   ]
  },
  {
   "cell_type": "code",
   "execution_count": null,
   "metadata": {},
   "outputs": [],
   "source": []
  },
  {
   "cell_type": "code",
   "execution_count": 26,
   "metadata": {},
   "outputs": [],
   "source": [
    "from mudata import MuData"
   ]
  },
  {
   "cell_type": "code",
   "execution_count": null,
   "metadata": {},
   "outputs": [],
   "source": []
  },
  {
   "cell_type": "code",
   "execution_count": 34,
   "metadata": {},
   "outputs": [
    {
     "name": "stderr",
     "output_type": "stream",
     "text": [
      "/home/dbdimitrov/anaconda3/envs/liana-py/lib/python3.10/site-packages/mudata/_core/mudata.py:457: UserWarning: Cannot join columns with the same name because var_names are intersecting.\n"
     ]
    }
   ],
   "source": [
    "lr_misty = MistyData(data=views, obs=intra.obs, spatial_key=spatial_key)"
   ]
  },
  {
   "cell_type": "code",
   "execution_count": 35,
   "metadata": {},
   "outputs": [
    {
     "ename": "ValueError",
     "evalue": "Length of values (15) does not match length of index (26)",
     "output_type": "error",
     "traceback": [
      "\u001b[0;31m---------------------------------------------------------------------------\u001b[0m",
      "\u001b[0;31mValueError\u001b[0m                                Traceback (most recent call last)",
      "Cell \u001b[0;32mIn [35], line 1\u001b[0m\n\u001b[0;32m----> 1\u001b[0m lr_misty()\n",
      "File \u001b[0;32m~/Repos/liana-py/liana/method/sp/_Misty.py:198\u001b[0m, in \u001b[0;36mMistyData.__call__\u001b[0;34m(self, n_estimators, bypass_intra, keep_same_predictor, k_cv, alphas, group_intra_by, group_env_by, n_jobs, seed, inplace)\u001b[0m\n\u001b[1;32m    188\u001b[0m             targets_df \u001b[39m=\u001b[39m _format_targets(target,\n\u001b[1;32m    189\u001b[0m                                          intra_group,\n\u001b[1;32m    190\u001b[0m                                          extra_group,\n\u001b[0;32m   (...)\u001b[0m\n\u001b[1;32m    194\u001b[0m                                          coefs\n\u001b[1;32m    195\u001b[0m                                          )\n\u001b[1;32m    196\u001b[0m             targets_list\u001b[39m.\u001b[39mappend(targets_df)\n\u001b[0;32m--> 198\u001b[0m             importances_df \u001b[39m=\u001b[39m _format_importances(target, \n\u001b[1;32m    199\u001b[0m                                                  _predictors, \n\u001b[1;32m    200\u001b[0m                                                  intra_group, \n\u001b[1;32m    201\u001b[0m                                                  extra_group,\n\u001b[1;32m    202\u001b[0m                                                  importance_dict\n\u001b[1;32m    203\u001b[0m                                                  )\n\u001b[1;32m    204\u001b[0m             importances_list\u001b[39m.\u001b[39mappend(importances_df)\n\u001b[1;32m    207\u001b[0m \u001b[39m# create result dataframes\u001b[39;00m\n",
      "File \u001b[0;32m~/Repos/liana-py/liana/method/sp/_misty.py:126\u001b[0m, in \u001b[0;36m_format_importances\u001b[0;34m(target, predictors, intra_group, env_group, importance_dict)\u001b[0m\n\u001b[1;32m    119\u001b[0m importances_df \u001b[39m=\u001b[39m pd\u001b[39m.\u001b[39mDataFrame({\u001b[39m\"\u001b[39m\u001b[39mtarget\u001b[39m\u001b[39m\"\u001b[39m: np\u001b[39m.\u001b[39mrepeat([target], \u001b[39mlen\u001b[39m(predictors)),\n\u001b[1;32m    120\u001b[0m                               \u001b[39m\"\u001b[39m\u001b[39mpredictor\u001b[39m\u001b[39m\"\u001b[39m: predictors,\n\u001b[1;32m    121\u001b[0m                               \u001b[39m\"\u001b[39m\u001b[39mintra_group\u001b[39m\u001b[39m\"\u001b[39m: np\u001b[39m.\u001b[39mrepeat([intra_group], \u001b[39mlen\u001b[39m(predictors)),\n\u001b[1;32m    122\u001b[0m                               \u001b[39m\"\u001b[39m\u001b[39menv_group\u001b[39m\u001b[39m\"\u001b[39m: np\u001b[39m.\u001b[39mrepeat([env_group], \u001b[39mlen\u001b[39m(predictors))}\n\u001b[1;32m    123\u001b[0m                             )\n\u001b[1;32m    125\u001b[0m \u001b[39mfor\u001b[39;00m view_name, importance_score \u001b[39min\u001b[39;00m importance_dict\u001b[39m.\u001b[39mitems():\n\u001b[0;32m--> 126\u001b[0m     importances_df[view_name] \u001b[39m=\u001b[39m importance_score\n\u001b[1;32m    128\u001b[0m \u001b[39mreturn\u001b[39;00m importances_df\n",
      "File \u001b[0;32m~/anaconda3/envs/liana-py/lib/python3.10/site-packages/pandas/core/frame.py:3960\u001b[0m, in \u001b[0;36mDataFrame.__setitem__\u001b[0;34m(self, key, value)\u001b[0m\n\u001b[1;32m   3957\u001b[0m     \u001b[39mself\u001b[39m\u001b[39m.\u001b[39m_setitem_array([key], value)\n\u001b[1;32m   3958\u001b[0m \u001b[39melse\u001b[39;00m:\n\u001b[1;32m   3959\u001b[0m     \u001b[39m# set column\u001b[39;00m\n\u001b[0;32m-> 3960\u001b[0m     \u001b[39mself\u001b[39;49m\u001b[39m.\u001b[39;49m_set_item(key, value)\n",
      "File \u001b[0;32m~/anaconda3/envs/liana-py/lib/python3.10/site-packages/pandas/core/frame.py:4153\u001b[0m, in \u001b[0;36mDataFrame._set_item\u001b[0;34m(self, key, value)\u001b[0m\n\u001b[1;32m   4143\u001b[0m \u001b[39mdef\u001b[39;00m \u001b[39m_set_item\u001b[39m(\u001b[39mself\u001b[39m, key, value) \u001b[39m-\u001b[39m\u001b[39m>\u001b[39m \u001b[39mNone\u001b[39;00m:\n\u001b[1;32m   4144\u001b[0m     \u001b[39m\"\"\"\u001b[39;00m\n\u001b[1;32m   4145\u001b[0m \u001b[39m    Add series to DataFrame in specified column.\u001b[39;00m\n\u001b[1;32m   4146\u001b[0m \n\u001b[0;32m   (...)\u001b[0m\n\u001b[1;32m   4151\u001b[0m \u001b[39m    ensure homogeneity.\u001b[39;00m\n\u001b[1;32m   4152\u001b[0m \u001b[39m    \"\"\"\u001b[39;00m\n\u001b[0;32m-> 4153\u001b[0m     value \u001b[39m=\u001b[39m \u001b[39mself\u001b[39;49m\u001b[39m.\u001b[39;49m_sanitize_column(value)\n\u001b[1;32m   4155\u001b[0m     \u001b[39mif\u001b[39;00m (\n\u001b[1;32m   4156\u001b[0m         key \u001b[39min\u001b[39;00m \u001b[39mself\u001b[39m\u001b[39m.\u001b[39mcolumns\n\u001b[1;32m   4157\u001b[0m         \u001b[39mand\u001b[39;00m value\u001b[39m.\u001b[39mndim \u001b[39m==\u001b[39m \u001b[39m1\u001b[39m\n\u001b[1;32m   4158\u001b[0m         \u001b[39mand\u001b[39;00m \u001b[39mnot\u001b[39;00m is_extension_array_dtype(value)\n\u001b[1;32m   4159\u001b[0m     ):\n\u001b[1;32m   4160\u001b[0m         \u001b[39m# broadcast across multiple columns if necessary\u001b[39;00m\n\u001b[1;32m   4161\u001b[0m         \u001b[39mif\u001b[39;00m \u001b[39mnot\u001b[39;00m \u001b[39mself\u001b[39m\u001b[39m.\u001b[39mcolumns\u001b[39m.\u001b[39mis_unique \u001b[39mor\u001b[39;00m \u001b[39misinstance\u001b[39m(\u001b[39mself\u001b[39m\u001b[39m.\u001b[39mcolumns, MultiIndex):\n",
      "File \u001b[0;32m~/anaconda3/envs/liana-py/lib/python3.10/site-packages/pandas/core/frame.py:4880\u001b[0m, in \u001b[0;36mDataFrame._sanitize_column\u001b[0;34m(self, value)\u001b[0m\n\u001b[1;32m   4877\u001b[0m     \u001b[39mreturn\u001b[39;00m _reindex_for_setitem(Series(value), \u001b[39mself\u001b[39m\u001b[39m.\u001b[39mindex)\n\u001b[1;32m   4879\u001b[0m \u001b[39mif\u001b[39;00m is_list_like(value):\n\u001b[0;32m-> 4880\u001b[0m     com\u001b[39m.\u001b[39;49mrequire_length_match(value, \u001b[39mself\u001b[39;49m\u001b[39m.\u001b[39;49mindex)\n\u001b[1;32m   4881\u001b[0m \u001b[39mreturn\u001b[39;00m sanitize_array(value, \u001b[39mself\u001b[39m\u001b[39m.\u001b[39mindex, copy\u001b[39m=\u001b[39m\u001b[39mTrue\u001b[39;00m, allow_2d\u001b[39m=\u001b[39m\u001b[39mTrue\u001b[39;00m)\n",
      "File \u001b[0;32m~/anaconda3/envs/liana-py/lib/python3.10/site-packages/pandas/core/common.py:576\u001b[0m, in \u001b[0;36mrequire_length_match\u001b[0;34m(data, index)\u001b[0m\n\u001b[1;32m    572\u001b[0m \u001b[39m\"\"\"\u001b[39;00m\n\u001b[1;32m    573\u001b[0m \u001b[39mCheck the length of data matches the length of the index.\u001b[39;00m\n\u001b[1;32m    574\u001b[0m \u001b[39m\"\"\"\u001b[39;00m\n\u001b[1;32m    575\u001b[0m \u001b[39mif\u001b[39;00m \u001b[39mlen\u001b[39m(data) \u001b[39m!=\u001b[39m \u001b[39mlen\u001b[39m(index):\n\u001b[0;32m--> 576\u001b[0m     \u001b[39mraise\u001b[39;00m \u001b[39mValueError\u001b[39;00m(\n\u001b[1;32m    577\u001b[0m         \u001b[39m\"\u001b[39m\u001b[39mLength of values \u001b[39m\u001b[39m\"\u001b[39m\n\u001b[1;32m    578\u001b[0m         \u001b[39mf\u001b[39m\u001b[39m\"\u001b[39m\u001b[39m(\u001b[39m\u001b[39m{\u001b[39;00m\u001b[39mlen\u001b[39m(data)\u001b[39m}\u001b[39;00m\u001b[39m) \u001b[39m\u001b[39m\"\u001b[39m\n\u001b[1;32m    579\u001b[0m         \u001b[39m\"\u001b[39m\u001b[39mdoes not match length of index \u001b[39m\u001b[39m\"\u001b[39m\n\u001b[1;32m    580\u001b[0m         \u001b[39mf\u001b[39m\u001b[39m\"\u001b[39m\u001b[39m(\u001b[39m\u001b[39m{\u001b[39;00m\u001b[39mlen\u001b[39m(index)\u001b[39m}\u001b[39;00m\u001b[39m)\u001b[39m\u001b[39m\"\u001b[39m\n\u001b[1;32m    581\u001b[0m     )\n",
      "\u001b[0;31mValueError\u001b[0m: Length of values (15) does not match length of index (26)"
     ]
    }
   ],
   "source": [
    "lr_misty()"
   ]
  },
  {
   "cell_type": "code",
   "execution_count": null,
   "metadata": {},
   "outputs": [],
   "source": []
  }
 ],
 "metadata": {
  "kernelspec": {
   "display_name": "liana-py",
   "language": "python",
   "name": "python3"
  },
  "language_info": {
   "codemirror_mode": {
    "name": "ipython",
    "version": 3
   },
   "file_extension": ".py",
   "mimetype": "text/x-python",
   "name": "python",
   "nbconvert_exporter": "python",
   "pygments_lexer": "ipython3",
   "version": "3.10.10"
  },
  "orig_nbformat": 4,
  "vscode": {
   "interpreter": {
    "hash": "80a99255e5b17beb6f8c8dc403ec70687184f3f6557a2c5fe71e16aa6505930d"
   }
  }
 },
 "nbformat": 4,
 "nbformat_minor": 2
}
