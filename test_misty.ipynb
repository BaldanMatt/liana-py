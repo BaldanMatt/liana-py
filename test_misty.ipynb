{
 "cells": [
  {
   "cell_type": "code",
   "execution_count": 1,
   "metadata": {},
   "outputs": [],
   "source": [
    "import scanpy as sc\n",
    "import numpy as np\n",
    "import pandas as pd"
   ]
  },
  {
   "cell_type": "code",
   "execution_count": 2,
   "metadata": {},
   "outputs": [],
   "source": [
    "from liana.method.sp._Misty import MistyData\n",
    "from liana.method.sp._misty_constructs import genericMistyData, lrMistyData"
   ]
  },
  {
   "cell_type": "code",
   "execution_count": 3,
   "metadata": {},
   "outputs": [],
   "source": [
    "adata = sc.read_h5ad('liana/tests/data/synthetic.h5ad')"
   ]
  },
  {
   "cell_type": "code",
   "execution_count": 4,
   "metadata": {},
   "outputs": [
    {
     "name": "stderr",
     "output_type": "stream",
     "text": [
      "/home/dbdimitrov/anaconda3/envs/liana-py/lib/python3.10/site-packages/mudata/_core/mudata.py:457: UserWarning: Cannot join columns with the same name because var_names are intersecting.\n"
     ]
    }
   ],
   "source": [
    "misty = genericMistyData(intra=adata, set_diag=True, bandwidth=10)"
   ]
  },
  {
   "cell_type": "code",
   "execution_count": 5,
   "metadata": {},
   "outputs": [
    {
     "data": {
      "text/html": [
       "<pre>MuData object with n_obs × n_vars = 4205 × 33\n",
       "  obs:\t&#x27;cell_type&#x27;\n",
       "  3 modalities\n",
       "    intra:\t4205 x 11\n",
       "      obs:\t&#x27;cell_type&#x27;\n",
       "      obsm:\t&#x27;spatial&#x27;\n",
       "    juxta:\t4205 x 11\n",
       "      obsm:\t&#x27;spatial&#x27;\n",
       "      obsp:\t&#x27;spatial_connectivities&#x27;\n",
       "    para:\t4205 x 11\n",
       "      obsm:\t&#x27;spatial&#x27;\n",
       "      obsp:\t&#x27;spatial_connectivities&#x27;</pre>"
      ],
      "text/plain": [
       "MuData object with n_obs × n_vars = 4205 × 33\n",
       "  obs:\t'cell_type'\n",
       "  3 modalities\n",
       "    intra:\t4205 x 11\n",
       "      obs:\t'cell_type'\n",
       "      obsm:\t'spatial'\n",
       "    juxta:\t4205 x 11\n",
       "      obsm:\t'spatial'\n",
       "      obsp:\t'spatial_connectivities'\n",
       "    para:\t4205 x 11\n",
       "      obsm:\t'spatial'\n",
       "      obsp:\t'spatial_connectivities'"
      ]
     },
     "execution_count": 5,
     "metadata": {},
     "output_type": "execute_result"
    }
   ],
   "source": [
    "misty"
   ]
  },
  {
   "cell_type": "code",
   "execution_count": 6,
   "metadata": {},
   "outputs": [],
   "source": [
    "misty(n_estimators=20, bypass_intra=True)"
   ]
  },
  {
   "cell_type": "code",
   "execution_count": null,
   "metadata": {},
   "outputs": [],
   "source": []
  },
  {
   "cell_type": "code",
   "execution_count": 7,
   "metadata": {},
   "outputs": [
    {
     "data": {
      "text/html": [
       "<div>\n",
       "<style scoped>\n",
       "    .dataframe tbody tr th:only-of-type {\n",
       "        vertical-align: middle;\n",
       "    }\n",
       "\n",
       "    .dataframe tbody tr th {\n",
       "        vertical-align: top;\n",
       "    }\n",
       "\n",
       "    .dataframe thead th {\n",
       "        text-align: right;\n",
       "    }\n",
       "</style>\n",
       "<table border=\"1\" class=\"dataframe\">\n",
       "  <thead>\n",
       "    <tr style=\"text-align: right;\">\n",
       "      <th></th>\n",
       "      <th>target</th>\n",
       "      <th>intra_group</th>\n",
       "      <th>env_group</th>\n",
       "      <th>intra.R2</th>\n",
       "      <th>multi.R2</th>\n",
       "      <th>gain.R2</th>\n",
       "      <th>juxta</th>\n",
       "      <th>para</th>\n",
       "    </tr>\n",
       "  </thead>\n",
       "  <tbody>\n",
       "    <tr>\n",
       "      <th>0</th>\n",
       "      <td>ECM</td>\n",
       "      <td>None</td>\n",
       "      <td>None</td>\n",
       "      <td>0</td>\n",
       "      <td>0.233411</td>\n",
       "      <td>0.233411</td>\n",
       "      <td>0.773716</td>\n",
       "      <td>0.226284</td>\n",
       "    </tr>\n",
       "    <tr>\n",
       "      <th>1</th>\n",
       "      <td>ligA</td>\n",
       "      <td>None</td>\n",
       "      <td>None</td>\n",
       "      <td>0</td>\n",
       "      <td>0.504118</td>\n",
       "      <td>0.504118</td>\n",
       "      <td>0.832725</td>\n",
       "      <td>0.167275</td>\n",
       "    </tr>\n",
       "    <tr>\n",
       "      <th>2</th>\n",
       "      <td>ligB</td>\n",
       "      <td>None</td>\n",
       "      <td>None</td>\n",
       "      <td>0</td>\n",
       "      <td>0.443600</td>\n",
       "      <td>0.443600</td>\n",
       "      <td>0.813566</td>\n",
       "      <td>0.186434</td>\n",
       "    </tr>\n",
       "    <tr>\n",
       "      <th>3</th>\n",
       "      <td>ligC</td>\n",
       "      <td>None</td>\n",
       "      <td>None</td>\n",
       "      <td>0</td>\n",
       "      <td>0.508662</td>\n",
       "      <td>0.508662</td>\n",
       "      <td>0.694461</td>\n",
       "      <td>0.305539</td>\n",
       "    </tr>\n",
       "    <tr>\n",
       "      <th>4</th>\n",
       "      <td>ligD</td>\n",
       "      <td>None</td>\n",
       "      <td>None</td>\n",
       "      <td>0</td>\n",
       "      <td>0.511784</td>\n",
       "      <td>0.511784</td>\n",
       "      <td>0.834321</td>\n",
       "      <td>0.165679</td>\n",
       "    </tr>\n",
       "    <tr>\n",
       "      <th>5</th>\n",
       "      <td>protE</td>\n",
       "      <td>None</td>\n",
       "      <td>None</td>\n",
       "      <td>0</td>\n",
       "      <td>0.035423</td>\n",
       "      <td>0.035423</td>\n",
       "      <td>1.000000</td>\n",
       "      <td>0.000000</td>\n",
       "    </tr>\n",
       "    <tr>\n",
       "      <th>6</th>\n",
       "      <td>protF</td>\n",
       "      <td>None</td>\n",
       "      <td>None</td>\n",
       "      <td>0</td>\n",
       "      <td>0.131714</td>\n",
       "      <td>0.131714</td>\n",
       "      <td>0.865904</td>\n",
       "      <td>0.134096</td>\n",
       "    </tr>\n",
       "    <tr>\n",
       "      <th>7</th>\n",
       "      <td>prodA</td>\n",
       "      <td>None</td>\n",
       "      <td>None</td>\n",
       "      <td>0</td>\n",
       "      <td>0.052505</td>\n",
       "      <td>0.052505</td>\n",
       "      <td>1.000000</td>\n",
       "      <td>0.000000</td>\n",
       "    </tr>\n",
       "    <tr>\n",
       "      <th>8</th>\n",
       "      <td>prodB</td>\n",
       "      <td>None</td>\n",
       "      <td>None</td>\n",
       "      <td>0</td>\n",
       "      <td>0.077489</td>\n",
       "      <td>0.077489</td>\n",
       "      <td>1.000000</td>\n",
       "      <td>0.000000</td>\n",
       "    </tr>\n",
       "    <tr>\n",
       "      <th>9</th>\n",
       "      <td>prodC</td>\n",
       "      <td>None</td>\n",
       "      <td>None</td>\n",
       "      <td>0</td>\n",
       "      <td>0.069306</td>\n",
       "      <td>0.069306</td>\n",
       "      <td>1.000000</td>\n",
       "      <td>0.000000</td>\n",
       "    </tr>\n",
       "    <tr>\n",
       "      <th>10</th>\n",
       "      <td>prodD</td>\n",
       "      <td>None</td>\n",
       "      <td>None</td>\n",
       "      <td>0</td>\n",
       "      <td>0.063960</td>\n",
       "      <td>0.063960</td>\n",
       "      <td>1.000000</td>\n",
       "      <td>0.000000</td>\n",
       "    </tr>\n",
       "  </tbody>\n",
       "</table>\n",
       "</div>"
      ],
      "text/plain": [
       "   target intra_group env_group  intra.R2  multi.R2   gain.R2     juxta   \n",
       "0     ECM        None      None         0  0.233411  0.233411  0.773716  \\\n",
       "1    ligA        None      None         0  0.504118  0.504118  0.832725   \n",
       "2    ligB        None      None         0  0.443600  0.443600  0.813566   \n",
       "3    ligC        None      None         0  0.508662  0.508662  0.694461   \n",
       "4    ligD        None      None         0  0.511784  0.511784  0.834321   \n",
       "5   protE        None      None         0  0.035423  0.035423  1.000000   \n",
       "6   protF        None      None         0  0.131714  0.131714  0.865904   \n",
       "7   prodA        None      None         0  0.052505  0.052505  1.000000   \n",
       "8   prodB        None      None         0  0.077489  0.077489  1.000000   \n",
       "9   prodC        None      None         0  0.069306  0.069306  1.000000   \n",
       "10  prodD        None      None         0  0.063960  0.063960  1.000000   \n",
       "\n",
       "        para  \n",
       "0   0.226284  \n",
       "1   0.167275  \n",
       "2   0.186434  \n",
       "3   0.305539  \n",
       "4   0.165679  \n",
       "5   0.000000  \n",
       "6   0.134096  \n",
       "7   0.000000  \n",
       "8   0.000000  \n",
       "9   0.000000  \n",
       "10  0.000000  "
      ]
     },
     "execution_count": 7,
     "metadata": {},
     "output_type": "execute_result"
    }
   ],
   "source": [
    "misty.uns['target_metrics']"
   ]
  },
  {
   "cell_type": "code",
   "execution_count": 8,
   "metadata": {},
   "outputs": [
    {
     "data": {
      "text/html": [
       "<div>\n",
       "<style scoped>\n",
       "    .dataframe tbody tr th:only-of-type {\n",
       "        vertical-align: middle;\n",
       "    }\n",
       "\n",
       "    .dataframe tbody tr th {\n",
       "        vertical-align: top;\n",
       "    }\n",
       "\n",
       "    .dataframe thead th {\n",
       "        text-align: right;\n",
       "    }\n",
       "</style>\n",
       "<table border=\"1\" class=\"dataframe\">\n",
       "  <thead>\n",
       "    <tr style=\"text-align: right;\">\n",
       "      <th></th>\n",
       "      <th>target</th>\n",
       "      <th>predictor</th>\n",
       "      <th>intra_group</th>\n",
       "      <th>extra_group</th>\n",
       "      <th>view</th>\n",
       "      <th>value</th>\n",
       "    </tr>\n",
       "  </thead>\n",
       "  <tbody>\n",
       "    <tr>\n",
       "      <th>0</th>\n",
       "      <td>ECM</td>\n",
       "      <td>ligA</td>\n",
       "      <td>None</td>\n",
       "      <td>None</td>\n",
       "      <td>juxta</td>\n",
       "      <td>0.060664</td>\n",
       "    </tr>\n",
       "    <tr>\n",
       "      <th>1</th>\n",
       "      <td>ECM</td>\n",
       "      <td>ligB</td>\n",
       "      <td>None</td>\n",
       "      <td>None</td>\n",
       "      <td>juxta</td>\n",
       "      <td>0.076288</td>\n",
       "    </tr>\n",
       "    <tr>\n",
       "      <th>2</th>\n",
       "      <td>ECM</td>\n",
       "      <td>ligC</td>\n",
       "      <td>None</td>\n",
       "      <td>None</td>\n",
       "      <td>juxta</td>\n",
       "      <td>0.108785</td>\n",
       "    </tr>\n",
       "    <tr>\n",
       "      <th>3</th>\n",
       "      <td>ECM</td>\n",
       "      <td>ligD</td>\n",
       "      <td>None</td>\n",
       "      <td>None</td>\n",
       "      <td>juxta</td>\n",
       "      <td>0.067037</td>\n",
       "    </tr>\n",
       "    <tr>\n",
       "      <th>4</th>\n",
       "      <td>ECM</td>\n",
       "      <td>protE</td>\n",
       "      <td>None</td>\n",
       "      <td>None</td>\n",
       "      <td>juxta</td>\n",
       "      <td>0.233193</td>\n",
       "    </tr>\n",
       "    <tr>\n",
       "      <th>...</th>\n",
       "      <td>...</td>\n",
       "      <td>...</td>\n",
       "      <td>...</td>\n",
       "      <td>...</td>\n",
       "      <td>...</td>\n",
       "      <td>...</td>\n",
       "    </tr>\n",
       "    <tr>\n",
       "      <th>215</th>\n",
       "      <td>prodD</td>\n",
       "      <td>protE</td>\n",
       "      <td>None</td>\n",
       "      <td>None</td>\n",
       "      <td>para</td>\n",
       "      <td>0.104319</td>\n",
       "    </tr>\n",
       "    <tr>\n",
       "      <th>216</th>\n",
       "      <td>prodD</td>\n",
       "      <td>protF</td>\n",
       "      <td>None</td>\n",
       "      <td>None</td>\n",
       "      <td>para</td>\n",
       "      <td>0.097964</td>\n",
       "    </tr>\n",
       "    <tr>\n",
       "      <th>217</th>\n",
       "      <td>prodD</td>\n",
       "      <td>prodA</td>\n",
       "      <td>None</td>\n",
       "      <td>None</td>\n",
       "      <td>para</td>\n",
       "      <td>0.109447</td>\n",
       "    </tr>\n",
       "    <tr>\n",
       "      <th>218</th>\n",
       "      <td>prodD</td>\n",
       "      <td>prodB</td>\n",
       "      <td>None</td>\n",
       "      <td>None</td>\n",
       "      <td>para</td>\n",
       "      <td>0.090184</td>\n",
       "    </tr>\n",
       "    <tr>\n",
       "      <th>219</th>\n",
       "      <td>prodD</td>\n",
       "      <td>prodC</td>\n",
       "      <td>None</td>\n",
       "      <td>None</td>\n",
       "      <td>para</td>\n",
       "      <td>0.114724</td>\n",
       "    </tr>\n",
       "  </tbody>\n",
       "</table>\n",
       "<p>220 rows × 6 columns</p>\n",
       "</div>"
      ],
      "text/plain": [
       "    target predictor intra_group extra_group   view     value\n",
       "0      ECM      ligA        None        None  juxta  0.060664\n",
       "1      ECM      ligB        None        None  juxta  0.076288\n",
       "2      ECM      ligC        None        None  juxta  0.108785\n",
       "3      ECM      ligD        None        None  juxta  0.067037\n",
       "4      ECM     protE        None        None  juxta  0.233193\n",
       "..     ...       ...         ...         ...    ...       ...\n",
       "215  prodD     protE        None        None   para  0.104319\n",
       "216  prodD     protF        None        None   para  0.097964\n",
       "217  prodD     prodA        None        None   para  0.109447\n",
       "218  prodD     prodB        None        None   para  0.090184\n",
       "219  prodD     prodC        None        None   para  0.114724\n",
       "\n",
       "[220 rows x 6 columns]"
      ]
     },
     "execution_count": 8,
     "metadata": {},
     "output_type": "execute_result"
    }
   ],
   "source": [
    "misty.uns['importances']"
   ]
  },
  {
   "cell_type": "code",
   "execution_count": null,
   "metadata": {},
   "outputs": [],
   "source": []
  },
  {
   "attachments": {},
   "cell_type": "markdown",
   "metadata": {},
   "source": [
    "lrMistyData"
   ]
  },
  {
   "cell_type": "code",
   "execution_count": 9,
   "metadata": {},
   "outputs": [],
   "source": [
    "from liana.testing._sample_anndata import generate_toy_spatial"
   ]
  },
  {
   "cell_type": "code",
   "execution_count": 10,
   "metadata": {},
   "outputs": [],
   "source": [
    "adata = generate_toy_spatial()"
   ]
  },
  {
   "cell_type": "code",
   "execution_count": 11,
   "metadata": {},
   "outputs": [
    {
     "data": {
      "text/plain": [
       "<700x765 sparse matrix of type '<class 'numpy.float32'>'\n",
       "\twith 174400 stored elements in Compressed Sparse Row format>"
      ]
     },
     "execution_count": 11,
     "metadata": {},
     "output_type": "execute_result"
    }
   ],
   "source": [
    "adata.raw.X.tocsr()"
   ]
  },
  {
   "cell_type": "code",
   "execution_count": null,
   "metadata": {},
   "outputs": [],
   "source": []
  },
  {
   "cell_type": "code",
   "execution_count": 12,
   "metadata": {},
   "outputs": [
    {
     "name": "stderr",
     "output_type": "stream",
     "text": [
      "/home/dbdimitrov/anaconda3/envs/liana-py/lib/python3.10/site-packages/mudata/_core/mudata.py:457: UserWarning: Cannot join columns with the same name because var_names are intersecting.\n"
     ]
    }
   ],
   "source": [
    "lr_misty = lrMistyData(adata=adata, set_diag=True, bandwidth=10, use_raw=True)"
   ]
  },
  {
   "cell_type": "code",
   "execution_count": 13,
   "metadata": {},
   "outputs": [],
   "source": [
    "lr_misty()"
   ]
  },
  {
   "cell_type": "code",
   "execution_count": 15,
   "metadata": {},
   "outputs": [
    {
     "data": {
      "text/html": [
       "<div>\n",
       "<style scoped>\n",
       "    .dataframe tbody tr th:only-of-type {\n",
       "        vertical-align: middle;\n",
       "    }\n",
       "\n",
       "    .dataframe tbody tr th {\n",
       "        vertical-align: top;\n",
       "    }\n",
       "\n",
       "    .dataframe thead th {\n",
       "        text-align: right;\n",
       "    }\n",
       "</style>\n",
       "<table border=\"1\" class=\"dataframe\">\n",
       "  <thead>\n",
       "    <tr style=\"text-align: right;\">\n",
       "      <th></th>\n",
       "      <th>target</th>\n",
       "      <th>intra_group</th>\n",
       "      <th>env_group</th>\n",
       "      <th>intra.R2</th>\n",
       "      <th>multi.R2</th>\n",
       "      <th>gain.R2</th>\n",
       "      <th>intra</th>\n",
       "      <th>extra</th>\n",
       "    </tr>\n",
       "  </thead>\n",
       "  <tbody>\n",
       "    <tr>\n",
       "      <th>0</th>\n",
       "      <td>CD4</td>\n",
       "      <td>None</td>\n",
       "      <td>None</td>\n",
       "      <td>-0.019744</td>\n",
       "      <td>0.007874</td>\n",
       "      <td>0.027618</td>\n",
       "      <td>0.000000</td>\n",
       "      <td>1.000000</td>\n",
       "    </tr>\n",
       "    <tr>\n",
       "      <th>1</th>\n",
       "      <td>ITGB2</td>\n",
       "      <td>None</td>\n",
       "      <td>None</td>\n",
       "      <td>0.070591</td>\n",
       "      <td>0.145086</td>\n",
       "      <td>0.074495</td>\n",
       "      <td>0.373496</td>\n",
       "      <td>0.626504</td>\n",
       "    </tr>\n",
       "    <tr>\n",
       "      <th>2</th>\n",
       "      <td>ITGA4</td>\n",
       "      <td>None</td>\n",
       "      <td>None</td>\n",
       "      <td>-0.009538</td>\n",
       "      <td>-0.008336</td>\n",
       "      <td>0.001202</td>\n",
       "      <td>NaN</td>\n",
       "      <td>NaN</td>\n",
       "    </tr>\n",
       "    <tr>\n",
       "      <th>3</th>\n",
       "      <td>HLA-DPB1</td>\n",
       "      <td>None</td>\n",
       "      <td>None</td>\n",
       "      <td>0.199734</td>\n",
       "      <td>0.873283</td>\n",
       "      <td>0.673550</td>\n",
       "      <td>0.017986</td>\n",
       "      <td>0.982014</td>\n",
       "    </tr>\n",
       "    <tr>\n",
       "      <th>4</th>\n",
       "      <td>CD63</td>\n",
       "      <td>None</td>\n",
       "      <td>None</td>\n",
       "      <td>-0.011116</td>\n",
       "      <td>0.004296</td>\n",
       "      <td>0.015412</td>\n",
       "      <td>0.412557</td>\n",
       "      <td>0.587443</td>\n",
       "    </tr>\n",
       "    <tr>\n",
       "      <th>5</th>\n",
       "      <td>CD33</td>\n",
       "      <td>None</td>\n",
       "      <td>None</td>\n",
       "      <td>0.137006</td>\n",
       "      <td>0.226625</td>\n",
       "      <td>0.089620</td>\n",
       "      <td>0.208899</td>\n",
       "      <td>0.791101</td>\n",
       "    </tr>\n",
       "    <tr>\n",
       "      <th>6</th>\n",
       "      <td>S1PR4</td>\n",
       "      <td>None</td>\n",
       "      <td>None</td>\n",
       "      <td>0.049102</td>\n",
       "      <td>0.076696</td>\n",
       "      <td>0.027593</td>\n",
       "      <td>0.495926</td>\n",
       "      <td>0.504074</td>\n",
       "    </tr>\n",
       "    <tr>\n",
       "      <th>7</th>\n",
       "      <td>CD53</td>\n",
       "      <td>None</td>\n",
       "      <td>None</td>\n",
       "      <td>-0.004101</td>\n",
       "      <td>0.016509</td>\n",
       "      <td>0.020610</td>\n",
       "      <td>0.225196</td>\n",
       "      <td>0.774804</td>\n",
       "    </tr>\n",
       "  </tbody>\n",
       "</table>\n",
       "</div>"
      ],
      "text/plain": [
       "     target intra_group env_group  intra.R2  multi.R2   gain.R2     intra   \n",
       "0       CD4        None      None -0.019744  0.007874  0.027618  0.000000  \\\n",
       "1     ITGB2        None      None  0.070591  0.145086  0.074495  0.373496   \n",
       "2     ITGA4        None      None -0.009538 -0.008336  0.001202       NaN   \n",
       "3  HLA-DPB1        None      None  0.199734  0.873283  0.673550  0.017986   \n",
       "4      CD63        None      None -0.011116  0.004296  0.015412  0.412557   \n",
       "5      CD33        None      None  0.137006  0.226625  0.089620  0.208899   \n",
       "6     S1PR4        None      None  0.049102  0.076696  0.027593  0.495926   \n",
       "7      CD53        None      None -0.004101  0.016509  0.020610  0.225196   \n",
       "\n",
       "      extra  \n",
       "0  1.000000  \n",
       "1  0.626504  \n",
       "2       NaN  \n",
       "3  0.982014  \n",
       "4  0.587443  \n",
       "5  0.791101  \n",
       "6  0.504074  \n",
       "7  0.774804  "
      ]
     },
     "execution_count": 15,
     "metadata": {},
     "output_type": "execute_result"
    }
   ],
   "source": [
    "lr_misty.uns['target_metrics']"
   ]
  },
  {
   "cell_type": "code",
   "execution_count": 16,
   "metadata": {},
   "outputs": [
    {
     "data": {
      "text/html": [
       "<div>\n",
       "<style scoped>\n",
       "    .dataframe tbody tr th:only-of-type {\n",
       "        vertical-align: middle;\n",
       "    }\n",
       "\n",
       "    .dataframe tbody tr th {\n",
       "        vertical-align: top;\n",
       "    }\n",
       "\n",
       "    .dataframe thead th {\n",
       "        text-align: right;\n",
       "    }\n",
       "</style>\n",
       "<table border=\"1\" class=\"dataframe\">\n",
       "  <thead>\n",
       "    <tr style=\"text-align: right;\">\n",
       "      <th></th>\n",
       "      <th>target</th>\n",
       "      <th>predictor</th>\n",
       "      <th>intra_group</th>\n",
       "      <th>extra_group</th>\n",
       "      <th>view</th>\n",
       "      <th>value</th>\n",
       "    </tr>\n",
       "  </thead>\n",
       "  <tbody>\n",
       "    <tr>\n",
       "      <th>0</th>\n",
       "      <td>CD4</td>\n",
       "      <td>ITGB2</td>\n",
       "      <td>None</td>\n",
       "      <td>None</td>\n",
       "      <td>intra</td>\n",
       "      <td>0.212282</td>\n",
       "    </tr>\n",
       "    <tr>\n",
       "      <th>1</th>\n",
       "      <td>CD4</td>\n",
       "      <td>ITGA4</td>\n",
       "      <td>None</td>\n",
       "      <td>None</td>\n",
       "      <td>intra</td>\n",
       "      <td>0.065106</td>\n",
       "    </tr>\n",
       "    <tr>\n",
       "      <th>2</th>\n",
       "      <td>CD4</td>\n",
       "      <td>HLA-DPB1</td>\n",
       "      <td>None</td>\n",
       "      <td>None</td>\n",
       "      <td>intra</td>\n",
       "      <td>0.195895</td>\n",
       "    </tr>\n",
       "    <tr>\n",
       "      <th>3</th>\n",
       "      <td>CD4</td>\n",
       "      <td>CD63</td>\n",
       "      <td>None</td>\n",
       "      <td>None</td>\n",
       "      <td>intra</td>\n",
       "      <td>0.135588</td>\n",
       "    </tr>\n",
       "    <tr>\n",
       "      <th>4</th>\n",
       "      <td>CD4</td>\n",
       "      <td>CD33</td>\n",
       "      <td>None</td>\n",
       "      <td>None</td>\n",
       "      <td>intra</td>\n",
       "      <td>0.090188</td>\n",
       "    </tr>\n",
       "    <tr>\n",
       "      <th>...</th>\n",
       "      <td>...</td>\n",
       "      <td>...</td>\n",
       "      <td>...</td>\n",
       "      <td>...</td>\n",
       "      <td>...</td>\n",
       "      <td>...</td>\n",
       "    </tr>\n",
       "    <tr>\n",
       "      <th>427</th>\n",
       "      <td>CD53</td>\n",
       "      <td>IL16</td>\n",
       "      <td>None</td>\n",
       "      <td>None</td>\n",
       "      <td>extra</td>\n",
       "      <td>0.042468</td>\n",
       "    </tr>\n",
       "    <tr>\n",
       "      <th>428</th>\n",
       "      <td>CD53</td>\n",
       "      <td>TIMP1</td>\n",
       "      <td>None</td>\n",
       "      <td>None</td>\n",
       "      <td>extra</td>\n",
       "      <td>0.068188</td>\n",
       "    </tr>\n",
       "    <tr>\n",
       "      <th>429</th>\n",
       "      <td>CD53</td>\n",
       "      <td>GNAI2</td>\n",
       "      <td>None</td>\n",
       "      <td>None</td>\n",
       "      <td>extra</td>\n",
       "      <td>0.041734</td>\n",
       "    </tr>\n",
       "    <tr>\n",
       "      <th>430</th>\n",
       "      <td>CD53</td>\n",
       "      <td>LTB</td>\n",
       "      <td>None</td>\n",
       "      <td>None</td>\n",
       "      <td>extra</td>\n",
       "      <td>0.097473</td>\n",
       "    </tr>\n",
       "    <tr>\n",
       "      <th>431</th>\n",
       "      <td>CD53</td>\n",
       "      <td>C1QA</td>\n",
       "      <td>None</td>\n",
       "      <td>None</td>\n",
       "      <td>extra</td>\n",
       "      <td>0.019071</td>\n",
       "    </tr>\n",
       "  </tbody>\n",
       "</table>\n",
       "<p>432 rows × 6 columns</p>\n",
       "</div>"
      ],
      "text/plain": [
       "    target predictor intra_group extra_group   view     value\n",
       "0      CD4     ITGB2        None        None  intra  0.212282\n",
       "1      CD4     ITGA4        None        None  intra  0.065106\n",
       "2      CD4  HLA-DPB1        None        None  intra  0.195895\n",
       "3      CD4      CD63        None        None  intra  0.135588\n",
       "4      CD4      CD33        None        None  intra  0.090188\n",
       "..     ...       ...         ...         ...    ...       ...\n",
       "427   CD53      IL16        None        None  extra  0.042468\n",
       "428   CD53     TIMP1        None        None  extra  0.068188\n",
       "429   CD53     GNAI2        None        None  extra  0.041734\n",
       "430   CD53       LTB        None        None  extra  0.097473\n",
       "431   CD53      C1QA        None        None  extra  0.019071\n",
       "\n",
       "[432 rows x 6 columns]"
      ]
     },
     "execution_count": 16,
     "metadata": {},
     "output_type": "execute_result"
    }
   ],
   "source": [
    "lr_misty.uns['importances']"
   ]
  },
  {
   "cell_type": "code",
   "execution_count": null,
   "metadata": {},
   "outputs": [],
   "source": []
  },
  {
   "cell_type": "code",
   "execution_count": null,
   "metadata": {},
   "outputs": [],
   "source": []
  },
  {
   "cell_type": "code",
   "execution_count": null,
   "metadata": {},
   "outputs": [],
   "source": [
    "from liana.resource import select_resource\n",
    "from liana.method._pipe_utils import prep_check_adata\n",
    "from liana.method.sp._lr_basis import _add_complexes_to_var\n",
    "from liana.method.sp._misty_constructs import _make_view\n",
    "from liana.method.sp._spatial_pipe import spatial_neighbors"
   ]
  },
  {
   "cell_type": "code",
   "execution_count": null,
   "metadata": {},
   "outputs": [],
   "source": []
  },
  {
   "cell_type": "code",
   "execution_count": null,
   "metadata": {},
   "outputs": [],
   "source": [
    "def lrMistyData(adata, \n",
    "                resource_name='consensus', \n",
    "                resource=None,\n",
    "                nz_threshold=0.1,\n",
    "                use_raw = False,\n",
    "                layer = None,\n",
    "                spatial_key='spatial',\n",
    "                bandwidth = 100,\n",
    "                kernel = 'misty_rbf',\n",
    "                set_diag = True,\n",
    "                cutoff = 0.1,\n",
    "                zoi = 0,\n",
    "                verbose = False\n",
    "                ):\n",
    "    \n",
    "    if resource is None:\n",
    "        resource = select_resource(resource_name.lower())\n",
    "        \n",
    "    adata = prep_check_adata(adata=adata,\n",
    "                        use_raw=use_raw,\n",
    "                        layer=layer,\n",
    "                        verbose=verbose,\n",
    "                        groupby=None,\n",
    "                        min_cells=None,\n",
    "                        obsm = {spatial_key: adata.obsm[spatial_key]}\n",
    "                        )\n",
    "    \n",
    "    adata = _add_complexes_to_var(adata,\n",
    "                              np.union1d(resource['receptor'].astype(str),\n",
    "                                         resource['ligand'].astype(str)\n",
    "                                        )\n",
    "                              )\n",
    "    \n",
    "    views = dict()\n",
    "    intra = _make_view(adata=adata[:, resource['receptor'].unique()],\n",
    "                   nz_threshold=nz_threshold, obs=adata.obs)\n",
    "    views['intra'] = _add_complexes_to_var(intra, np.unique(resource['receptor']))\n",
    "    \n",
    "    connectivity = spatial_neighbors(adata=adata, spatial_key=spatial_key,\n",
    "                                 bandwidth=bandwidth, kernel=kernel,\n",
    "                                 set_diag=set_diag, cutoff=cutoff,\n",
    "                                 zoi=zoi, inplace=False)\n",
    "\n",
    "    extra = _make_view(adata=adata[:,resource['ligand'].unique()],\n",
    "                       spatial_key=spatial_key, nz_threshold=nz_threshold,\n",
    "                       connecitivity=connectivity,\n",
    "                       obs=pd.DataFrame(index=adata.obs.index))\n",
    "    views['extra'] = _add_complexes_to_var(extra, np.unique(resource['ligand']))\n",
    "    \n",
    "    return MistyData(data=views, obs=intra.obs, spatial_key=spatial_key)"
   ]
  },
  {
   "cell_type": "code",
   "execution_count": null,
   "metadata": {},
   "outputs": [],
   "source": [
    "use_raw = False\n",
    "layer = None\n",
    "verbose = True\n",
    "resource = None\n",
    "resource_name = 'consensus'\n",
    "nz_threshold = 0.1"
   ]
  },
  {
   "cell_type": "code",
   "execution_count": null,
   "metadata": {},
   "outputs": [],
   "source": [
    "spatial_key = 'spatial'\n",
    "bandwidth = 100\n",
    "kernel = 'misty_rbf'\n",
    "set_diag = True\n",
    "cutoff = 0.1\n",
    "zoi = 0"
   ]
  },
  {
   "cell_type": "code",
   "execution_count": null,
   "metadata": {},
   "outputs": [],
   "source": []
  },
  {
   "cell_type": "code",
   "execution_count": null,
   "metadata": {},
   "outputs": [],
   "source": [
    "if resource is None:\n",
    "    resource = select_resource(resource_name.lower())"
   ]
  },
  {
   "cell_type": "code",
   "execution_count": null,
   "metadata": {},
   "outputs": [],
   "source": []
  },
  {
   "cell_type": "code",
   "execution_count": null,
   "metadata": {},
   "outputs": [],
   "source": []
  },
  {
   "cell_type": "code",
   "execution_count": null,
   "metadata": {},
   "outputs": [],
   "source": [
    "views = dict()"
   ]
  },
  {
   "cell_type": "code",
   "execution_count": null,
   "metadata": {},
   "outputs": [],
   "source": [
    "adata = prep_check_adata(adata=adata,\n",
    "                         use_raw=use_raw,\n",
    "                         layer=layer,\n",
    "                         verbose=verbose,\n",
    "                         groupby=None,\n",
    "                         min_cells=None,\n",
    "                         obsm = {spatial_key: adata.obsm[spatial_key]}\n",
    "                         )"
   ]
  },
  {
   "cell_type": "code",
   "execution_count": null,
   "metadata": {},
   "outputs": [],
   "source": [
    "adata = _add_complexes_to_var(adata,\n",
    "                              np.union1d(resource['receptor'].astype(str),\n",
    "                                         resource['ligand'].astype(str)\n",
    "                                        )\n",
    "                              )"
   ]
  },
  {
   "cell_type": "code",
   "execution_count": null,
   "metadata": {},
   "outputs": [],
   "source": [
    "adata"
   ]
  },
  {
   "cell_type": "code",
   "execution_count": null,
   "metadata": {},
   "outputs": [],
   "source": []
  },
  {
   "cell_type": "code",
   "execution_count": null,
   "metadata": {},
   "outputs": [],
   "source": [
    "# filter_resource\n",
    "resource = resource[(np.isin(resource.ligand, adata.var_names)) &\n",
    "                    (np.isin(resource.receptor, adata.var_names))]"
   ]
  },
  {
   "cell_type": "code",
   "execution_count": null,
   "metadata": {},
   "outputs": [],
   "source": []
  },
  {
   "cell_type": "code",
   "execution_count": null,
   "metadata": {},
   "outputs": [],
   "source": [
    "intra = _make_view(adata=adata[:, resource['receptor'].unique()],\n",
    "                   nz_threshold=nz_threshold, obs=adata.obs)\n",
    "\n",
    "views['intra'] = _add_complexes_to_var(intra, np.unique(resource['receptor']))"
   ]
  },
  {
   "cell_type": "code",
   "execution_count": null,
   "metadata": {},
   "outputs": [],
   "source": [
    "connectivity = spatial_neighbors(adata=adata, spatial_key=spatial_key,\n",
    "                                 bandwidth=bandwidth, kernel=kernel,\n",
    "                                 set_diag=set_diag, cutoff=cutoff,\n",
    "                                 zoi=zoi, inplace=False)\n",
    "\n",
    "extra = _make_view(adata=adata[:,resource['ligand'].unique()], spatial_key=spatial_key,\n",
    "                   nz_threshold=nz_threshold, connecitivity=connectivity, obs=pd.DataFrame(index=adata.obs.index))\n",
    "views['extra'] = _add_complexes_to_var(extra, np.unique(resource['ligand']))"
   ]
  },
  {
   "cell_type": "code",
   "execution_count": null,
   "metadata": {},
   "outputs": [],
   "source": []
  },
  {
   "cell_type": "code",
   "execution_count": null,
   "metadata": {},
   "outputs": [],
   "source": [
    "from mudata import MuData"
   ]
  },
  {
   "cell_type": "code",
   "execution_count": null,
   "metadata": {},
   "outputs": [],
   "source": [
    "lr_misty = MistyData(data=views, obs=intra.obs, spatial_key=spatial_key)"
   ]
  },
  {
   "cell_type": "code",
   "execution_count": null,
   "metadata": {},
   "outputs": [],
   "source": [
    "lr_misty(bypass_intra=False)"
   ]
  },
  {
   "cell_type": "code",
   "execution_count": null,
   "metadata": {},
   "outputs": [],
   "source": [
    "lr_misty.uns['target_metrics'].sort_values('multi.R2')"
   ]
  },
  {
   "cell_type": "code",
   "execution_count": null,
   "metadata": {},
   "outputs": [],
   "source": [
    "lr_misty.uns['importances'].sort_values('value', ascending=False).head(20)"
   ]
  },
  {
   "cell_type": "code",
   "execution_count": null,
   "metadata": {},
   "outputs": [],
   "source": []
  }
 ],
 "metadata": {
  "kernelspec": {
   "display_name": "liana-py",
   "language": "python",
   "name": "python3"
  },
  "language_info": {
   "codemirror_mode": {
    "name": "ipython",
    "version": 3
   },
   "file_extension": ".py",
   "mimetype": "text/x-python",
   "name": "python",
   "nbconvert_exporter": "python",
   "pygments_lexer": "ipython3",
   "version": "3.10.10"
  },
  "orig_nbformat": 4,
  "vscode": {
   "interpreter": {
    "hash": "80a99255e5b17beb6f8c8dc403ec70687184f3f6557a2c5fe71e16aa6505930d"
   }
  }
 },
 "nbformat": 4,
 "nbformat_minor": 2
}
