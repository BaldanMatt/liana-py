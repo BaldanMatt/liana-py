{
 "cells": [
  {
   "cell_type": "markdown",
   "id": "2e773f17-4832-47df-8ae0-0d7588ccc889",
   "metadata": {},
   "source": [
    "# Usage"
   ]
  },
  {
   "cell_type": "markdown",
   "id": "6e4562e0-afa0-4b9c-a517-db18f12e1c40",
   "metadata": {},
   "source": [
    "`liana` contains different statistical methods to infer `ligand-receptor` interactions from single-cell transcriptomics data omics data using prior knowledge.\n",
    "In this notebook we showcase how to use liana in its' most basic form with toy data."
   ]
  },
  {
   "cell_type": "markdown",
   "id": "a7827aad-4901-4116-88c5-5382b227e811",
   "metadata": {},
   "source": [
    "<div class=\"alert alert-info\">\n",
    "\n",
    "**Note**\n",
    "    \n",
    "In Jupyter notebooks and lab, you can see the documentation for a python function by hitting `SHIFT + TAB`, hit it twice to expand the view, or by typing `?name_of_function`.\n",
    "\n",
    "</div>  "
   ]
  },
  {
   "cell_type": "markdown",
   "id": "b3589b06-5b9d-44bb-a962-02d87394d409",
   "metadata": {
    "tags": []
   },
   "source": [
    "## Loading Packages"
   ]
  },
  {
   "cell_type": "code",
   "execution_count": null,
   "id": "af4eca31-878c-41ed-85be-d249d03be71b",
   "metadata": {},
   "outputs": [],
   "source": [
    "import liana as li\n",
    "\n",
    "# Only needed for visualization:\n",
    "import matplotlib.pyplot as plt\n",
    "from scanpy.pl import umap\n",
    "\n",
    "# toy data\n",
    "from scanpy.datasets import pbmc68k_reduced\n",
    "%matplotlib inline"
   ]
  },
  {
   "cell_type": "code",
   "execution_count": null,
   "id": "6bb178b7-6d7a-4f22-aee2-6ce134be34c1",
   "metadata": {},
   "outputs": [],
   "source": []
  },
  {
   "cell_type": "markdown",
   "id": "1a366d56-6b14-434b-9b73-7acf12dffcce",
   "metadata": {
    "tags": []
   },
   "source": [
    "## Loading toy data\n",
    "\n",
    "`liana` uses `anndata` objects with processed single-cell (*and soon spatial*) transcriptomics data, with pre-defined cell labels (identities), to predict ligand-receptor interactions among all pairs of cell identities.\n",
    "\n",
    "To load the example data-set, simply run:"
   ]
  },
  {
   "cell_type": "code",
   "execution_count": null,
   "id": "ffebc5bd-7d98-4f13-958e-4995cc229b71",
   "metadata": {},
   "outputs": [],
   "source": [
    "adata = pbmc68k_reduced()"
   ]
  },
  {
   "cell_type": "markdown",
   "id": "a9fa4ca5-3095-401f-b5cd-74e213fa77fe",
   "metadata": {},
   "source": [
    "The example single-cell data consists processed data with PBMCs cell types"
   ]
  },
  {
   "cell_type": "code",
   "execution_count": null,
   "id": "55faba8e-3567-408f-8ac7-50f30ccdc9ea",
   "metadata": {},
   "outputs": [],
   "source": [
    "umap(adata, color='bulk_labels', title='', frameon=False)"
   ]
  },
  {
   "cell_type": "markdown",
   "id": "1d7acb3b-c398-46f9-a9c1-e10c503d11f1",
   "metadata": {},
   "source": [
    "## Background"
   ]
  },
  {
   "cell_type": "markdown",
   "id": "a5bbdb2f-07c4-41e1-9354-8897d92c7775",
   "metadata": {},
   "source": [
    "In the most basic scenario, `liana` works with the log-trasformed counts matrix, in this object the normalized counts are stored in `raw`:"
   ]
  },
  {
   "cell_type": "code",
   "execution_count": null,
   "id": "09fea265-ab35-4cc8-84a8-61effb213824",
   "metadata": {},
   "outputs": [],
   "source": [
    "adata.raw.X"
   ]
  },
  {
   "cell_type": "markdown",
   "id": "4e3e8c79-fadc-434b-b14d-443ab707a8c5",
   "metadata": {},
   "source": [
    "Preferably, one would use `liana` with all features (genes) for which we have enough counts, but for the sake of this tutorial we are working with a matrix pre-filtered to the variable features alone."
   ]
  },
  {
   "cell_type": "markdown",
   "id": "274ddc61-c171-4447-ab21-9bf3f4e5ad60",
   "metadata": {},
   "source": [
    "In the background, `liana` aggregates the counts matrix and generates statistics, typically related to cell identies.\n",
    "These statistics are then utilized by each of the methods in `liana`."
   ]
  },
  {
   "cell_type": "markdown",
   "id": "8de134f2-b446-4b39-9806-3342b0480ddb",
   "metadata": {},
   "source": [
    "### Methods"
   ]
  },
  {
   "cell_type": "code",
   "execution_count": null,
   "id": "ea073e0d-85b7-4821-b54b-710bb55245b3",
   "metadata": {},
   "outputs": [],
   "source": [
    "li.show_methods()"
   ]
  },
  {
   "cell_type": "markdown",
   "id": "b2303073-5151-4ef8-9a95-daa939814b7d",
   "metadata": {},
   "source": [
    "Each method infers relevant ligand-receptor interactions relying on different assumptions, and each returns different ligand-receptor scores, typically a pair per method. One score corresponding to\n",
    "the `magnitude` (strength) of interaction and the other reflecting how `specificity` of a given interaction to a pair cell identities."
   ]
  },
  {
   "cell_type": "markdown",
   "id": "c85b2a1e-6234-4ba4-a2b1-ab17266d2fc8",
   "metadata": {},
   "source": [
    "<div class=\"alert alert-info\">\n",
    "\n",
    "<h4> Method Class</h4>\n",
    "    \n",
    "Methods in liana are **callable** instances of the `Method` class. To obtain further information for each method the user can refer to the methods documentation `?method_name` or `?method.__call__`. Alternatively, users can use the `method.describe` function to get a short summary for each method.\n",
    "\n",
    "</div>  \n"
   ]
  },
  {
   "cell_type": "markdown",
   "id": "82fa22e4-be9d-458f-9f95-f527d479f386",
   "metadata": {},
   "source": [
    "For example, if the user wishes to learn more about liana's `rank_aggregate` implementation, where we combine the scores of multiple methods, they could do the following: "
   ]
  },
  {
   "cell_type": "code",
   "execution_count": null,
   "id": "4aa8e26e-c44f-40f8-a05e-e39c9f1e046a",
   "metadata": {},
   "outputs": [],
   "source": [
    "# import liana's rank_aggregate\n",
    "from liana import cellphonedb"
   ]
  },
  {
   "cell_type": "code",
   "execution_count": null,
   "id": "5a4db922-435e-48c0-a32f-1220509fef75",
   "metadata": {},
   "outputs": [],
   "source": [
    "?cellphonedb.__call__"
   ]
  },
  {
   "cell_type": "markdown",
   "id": "3607da3a-81d4-4d85-85e1-128c38b8ef9b",
   "metadata": {},
   "source": [
    "or alternatively:"
   ]
  },
  {
   "cell_type": "code",
   "execution_count": null,
   "id": "11e3a3c3-163f-4f48-93ad-cbfe69db5e76",
   "metadata": {},
   "outputs": [],
   "source": [
    "cellphonedb.describe()"
   ]
  },
  {
   "cell_type": "markdown",
   "id": "d0a1f836-2160-40f0-b7b1-14b49592d71d",
   "metadata": {},
   "source": [
    "#### Resources"
   ]
  },
  {
   "cell_type": "markdown",
   "id": "4e42cdf9-7bda-468a-9c4e-edbfda6ac5ea",
   "metadata": {},
   "source": [
    "To provide ligand-receptor predictions `liana` relies on prior-knowledge and makes use of the following ligand-receptor resources:"
   ]
  },
  {
   "cell_type": "code",
   "execution_count": null,
   "id": "3d0409b3-93e5-400d-aea2-8ae7bd5ebb18",
   "metadata": {},
   "outputs": [],
   "source": [
    "li.show_resources()"
   ]
  },
  {
   "cell_type": "markdown",
   "id": "f5b72366-7a1a-435e-9d94-8758f1c732e3",
   "metadata": {},
   "source": [
    "These were pre-generated using the [OmniPath](https://github.com/saezlab/omnipath) meta-database, but any custom resource can also be passed.\n",
    "We refer the user to [OmniPath](https://github.com/saezlab/omnipath) as a useful tool to build any resource."
   ]
  },
  {
   "cell_type": "markdown",
   "id": "7d529a44-8be9-4379-b79c-b2751562bb93",
   "metadata": {},
   "source": [
    "<div class=\"alert alert-info\">\n",
    "    \n",
    "By default, `liana` uses the `consensus` resource, which is composed by multiple expert-curated ligand-receptor resources, including CellPhoneDB, CellChat, ICELLNET, connectomeDB2020, and CellTalkDB.\n",
    "</div>  \n"
   ]
  },
  {
   "cell_type": "markdown",
   "id": "6ef44f96-b2d5-489d-b66e-581a97800766",
   "metadata": {},
   "source": [
    "## Example Run"
   ]
  },
  {
   "cell_type": "markdown",
   "id": "fb386696-d8cc-417e-bfe8-243ab37848dd",
   "metadata": {},
   "source": [
    "### Individual Methods"
   ]
  },
  {
   "cell_type": "code",
   "execution_count": null,
   "id": "99e43df8-d2eb-4d99-8572-23a70239d521",
   "metadata": {},
   "outputs": [],
   "source": [
    "# import indivudla methods\n",
    "from liana import singlecellsignalr, connectome, cellphonedb, natmi, logfc"
   ]
  },
  {
   "cell_type": "code",
   "execution_count": null,
   "id": "e0aca516-4bad-4629-9c5e-57b84ca3b1ba",
   "metadata": {},
   "outputs": [],
   "source": [
    "# run cellphonedb\n",
    "adata = cellphonedb(adata, groupby='bulk_labels', use_raw=True, expr_prop=0.1)"
   ]
  },
  {
   "cell_type": "markdown",
   "id": "7487870e-91b8-4beb-8956-0f0069555a7f",
   "metadata": {},
   "source": [
    "By default, results will be assigned to `adata.uns['liana_res']`"
   ]
  },
  {
   "cell_type": "code",
   "execution_count": null,
   "id": "f1545c5c-378b-4b4a-a14b-b4bd6e3f00c1",
   "metadata": {
    "tags": []
   },
   "outputs": [],
   "source": [
    "# by default, liana's output is saved in place:\n",
    "adata.uns['liana_res'].head()"
   ]
  },
  {
   "cell_type": "markdown",
   "id": "53b871a0-2ac7-4db0-854e-d7fdd0f33ed9",
   "metadata": {},
   "source": [
    "Here, we see that generic stats are provided for both `ligand` and `receptor` *entities*, more specifically:\n",
    "- `ligand` and `receptor` are typically the two entities that interact. Though it should be noted that these are not limited to secreted signalling. Also, in the case of heteromeric complexes, these represent the subunit with minimum expression, while `*_complex` corresponds to the actual complex, and is hence the unique key for each row. \n",
    "- `source` and `target` columns represent the `source/sender` and `target/receiver` cell identity for each interaction, respectively\n",
    "- `*_props`: represents the proportion of cells that express the entity\n",
    "- `*_pvals`: 1vsRest p-value calculated at the single-cell level\n",
    "- `*_means`: entity expression mean per cell type\n",
    "- `lr_means`: mean ligand-receptor expression, as a measure of ligand-receptor interaction *magnitude*\n",
    "- `pvals`: permutation-based p-value, as a measure of interaction *specificity*\n",
    "\n",
    "Note that `ligand`, `receptor`, `source`, `target` columns are returned by every method, while the rest can vary across the methods."
   ]
  },
  {
   "cell_type": "markdown",
   "id": "b04b8d35-a174-42fd-9857-c49c18b97328",
   "metadata": {},
   "source": [
    "#### Dotplot"
   ]
  },
  {
   "cell_type": "markdown",
   "id": "e8df6254-b604-46a8-a4e4-2a5546abaa9c",
   "metadata": {},
   "source": [
    "We can now visualize the results that we just obtained.\n",
    "\n",
    "LIANA provides some basic, but flexible plotting functionalities. Here, we will generate a dotplot of relevant ligand-receptor interactions."
   ]
  },
  {
   "cell_type": "code",
   "execution_count": null,
   "id": "bb8ad053-58ee-4640-8cc6-791e9448a66c",
   "metadata": {},
   "outputs": [],
   "source": [
    "my_p = li.pl.dotplot(adata, \n",
    "                     colour='lr_means',\n",
    "                     size='pvals',\n",
    "                     inverse_size=True, # we inverse sign since we want small p-values to have large sizes\n",
    "                     source_labels=['CD34+', 'CD56+ NK', 'CD14+ Monocyte'],\n",
    "                     target_labels=['CD34+', 'CD56+ NK'],\n",
    "                     figure_size=(8, 7),\n",
    "                     # finally, since cpdbv2 suggests using a filter to FPs\n",
    "                     # we filter the pvals column to <= 0.05\n",
    "                     filterby='pvals',\n",
    "                     filter_lambda=lambda x: x <= 0.05\n",
    "                    )"
   ]
  },
  {
   "cell_type": "code",
   "execution_count": null,
   "id": "d4497408-fe69-4701-ae71-b5e0e7c25efc",
   "metadata": {},
   "outputs": [],
   "source": [
    "my_p"
   ]
  },
  {
   "cell_type": "markdown",
   "id": "3894aff2-6b05-4bca-9e52-b3e313f912fa",
   "metadata": {},
   "source": [
    "<div class=\"alert alert-info\">\n",
    "Missing dots here would represent interactions for which the ligand and receptor are not expressed above the `expr_prop`.\n",
    "</div>"
   ]
  },
  {
   "cell_type": "markdown",
   "id": "d3369195-f05c-4b91-9d43-696055244b29",
   "metadata": {},
   "source": [
    "### Rank Aggregate\n",
    "In addition to the individual methods, LIANA also provides a consensus that integrates the predictions of individual methods.\n",
    "This is done by ranking and aggregating ([RRA](https://academic.oup.com/bioinformatics/article-abstract/28/4/573/213339)) the ligand-receptor interaction predictions from all methods."
   ]
  },
  {
   "cell_type": "code",
   "execution_count": null,
   "id": "bfd4c048-e5e0-417d-8b29-9f43d53ae899",
   "metadata": {},
   "outputs": [],
   "source": [
    "# import rank_aggregate methods\n",
    "from liana import rank_aggregate"
   ]
  },
  {
   "cell_type": "code",
   "execution_count": null,
   "id": "5aa0dd26-8677-4adf-a899-19aa69973746",
   "metadata": {},
   "outputs": [],
   "source": [
    "# Run method\n",
    "adata = rank_aggregate(adata, groupby='bulk_labels', use_raw=True, expr_prop=0)"
   ]
  },
  {
   "cell_type": "code",
   "execution_count": null,
   "id": "2652cf81-4b33-4808-a6c0-785c8dadb430",
   "metadata": {},
   "outputs": [],
   "source": [
    "adata.uns['liana_res'].head()"
   ]
  },
  {
   "cell_type": "code",
   "execution_count": null,
   "id": "499822f9-c1de-4bed-b9d7-c11e4d4f82db",
   "metadata": {},
   "outputs": [],
   "source": [
    "rank_aggregate.describe()"
   ]
  },
  {
   "cell_type": "markdown",
   "id": "8b8aece1-3e09-491e-a685-698a255b80e7",
   "metadata": {
    "tags": []
   },
   "source": [
    "#### Dotplot"
   ]
  },
  {
   "cell_type": "markdown",
   "id": "73dee9e3-79f3-4fd7-aa7d-83f38bbb9577",
   "metadata": {},
   "source": [
    "We will now plot the most 'relevant' interactions ordered to the `steady_rank` results from aggregated_rank."
   ]
  },
  {
   "cell_type": "code",
   "execution_count": null,
   "id": "f4493887-7bdc-47b0-9293-e683eb9bfac5",
   "metadata": {},
   "outputs": [],
   "source": [
    "my_p = li.pl.dotplot(adata, \n",
    "                     colour='lrscore',\n",
    "                     size='specificity_rank',\n",
    "                     inverse_size=True,\n",
    "                     source_labels=['CD34+', 'CD56+ NK', 'CD14+ Monocyte'],\n",
    "                     target_labels=['CD34+', 'CD56+ NK'],\n",
    "                     top_n=20, \n",
    "                     orderby='steady_rank',\n",
    "                     orderby_ascending=True,\n",
    "                     figure_size=(8, 7)\n",
    "                    )"
   ]
  },
  {
   "cell_type": "code",
   "execution_count": null,
   "id": "cb8f16e0-7a93-4d1a-bd33-4f38c6f58884",
   "metadata": {},
   "outputs": [],
   "source": [
    "my_p"
   ]
  },
  {
   "cell_type": "markdown",
   "id": "2c6f0d36-89e2-4bf2-b483-561cdbc8f481",
   "metadata": {},
   "source": [
    "Similarly, we can also treat the ranks provided by RRA as a probability distribution to which we can filter interactions\n",
    "according to how robustly and highly ranked they are across the different methods."
   ]
  },
  {
   "cell_type": "code",
   "execution_count": null,
   "id": "0ad955a0-32b0-40aa-8bf4-eddf5e1dc025",
   "metadata": {
    "tags": []
   },
   "outputs": [],
   "source": [
    "my_p = li.pl.dotplot(adata, \n",
    "                     colour='lrscore',\n",
    "                     size='specificity_rank',\n",
    "                     inverse_size=True,\n",
    "                     source_labels=['CD34+', 'CD56+ NK', 'CD14+ Monocyte'],\n",
    "                     target_labels=['CD34+', 'CD56+ NK'],\n",
    "                     filterby='steady_rank',\n",
    "                     filter_lambda=lambda x: x <= 0.01,\n",
    "                    )"
   ]
  },
  {
   "cell_type": "code",
   "execution_count": null,
   "id": "8e59eadc-2c8e-4861-970d-91acf396e488",
   "metadata": {},
   "outputs": [],
   "source": [
    "my_p"
   ]
  },
  {
   "cell_type": "markdown",
   "id": "7e98390b-a525-4094-8d27-d862a6bc0c4c",
   "metadata": {},
   "source": [
    "Finally, the plots in liana are built with `plotnine` and their aesthetics can be easily modified. For example:"
   ]
  },
  {
   "cell_type": "code",
   "execution_count": null,
   "id": "d2a883ed-1324-4b8f-a1e8-b7fbbcb26621",
   "metadata": {},
   "outputs": [],
   "source": [
    "# we import plotnine\n",
    "import plotnine as p9"
   ]
  },
  {
   "cell_type": "code",
   "execution_count": null,
   "id": "e0267dda-e858-42f4-a6a9-79594ad89a68",
   "metadata": {},
   "outputs": [],
   "source": [
    "(my_p +\n",
    " # change theme\n",
    " p9.theme_dark() +\n",
    " # modify theme\n",
    " p9.theme(\n",
    "     # adjust facet size\n",
    "     strip_text=p9.element_text(size=12), \n",
    "     # rotate x axis text\n",
    "     axis_text_x =p9.element_text(angle = 90)\n",
    " )\n",
    ")"
   ]
  },
  {
   "cell_type": "markdown",
   "id": "98e87fb7-802f-43c9-b398-b4bd23151294",
   "metadata": {},
   "source": [
    "For more plot modification options  we refer the user to `plotnine`'s tutorials\n",
    "and to the following link for a quick intro: \n",
    "https://datacarpentry.org/python-ecology-lesson/07-visualization-ggplot-python/index.html."
   ]
  }
 ],
 "metadata": {
  "kernelspec": {
   "display_name": "liana-py",
   "language": "python",
   "name": "liana-py"
  },
  "language_info": {
   "codemirror_mode": {
    "name": "ipython",
    "version": 3
   },
   "file_extension": ".py",
   "mimetype": "text/x-python",
   "name": "python",
   "nbconvert_exporter": "python",
   "pygments_lexer": "ipython3",
   "version": "3.8.8"
  }
 },
 "nbformat": 4,
 "nbformat_minor": 5
}
