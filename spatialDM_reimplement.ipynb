{
 "cells": [
  {
   "cell_type": "code",
   "execution_count": 52,
   "id": "d6fea9cf-3f0c-4404-89a6-08dd44aad58b",
   "metadata": {},
   "outputs": [],
   "source": [
    "import numpy as np\n",
    "import pandas as pd\n",
    "import scanpy as sc"
   ]
  },
  {
   "cell_type": "code",
   "execution_count": null,
   "id": "308c8075-f3f9-4a50-bfa1-f9c2944e297d",
   "metadata": {},
   "outputs": [],
   "source": []
  },
  {
   "cell_type": "code",
   "execution_count": 53,
   "id": "5f089877-3865-4b63-be9a-4e9aecba4122",
   "metadata": {},
   "outputs": [],
   "source": [
    "from matplotlib.pyplot import hist"
   ]
  },
  {
   "cell_type": "code",
   "execution_count": null,
   "id": "21a38f4c-58da-480f-9c01-2e55826a5437",
   "metadata": {},
   "outputs": [],
   "source": []
  },
  {
   "cell_type": "code",
   "execution_count": 54,
   "id": "2ace542e-7438-4975-95fa-0e8a4096c226",
   "metadata": {},
   "outputs": [],
   "source": [
    "import gc"
   ]
  },
  {
   "cell_type": "code",
   "execution_count": null,
   "id": "93ee0481-1aa5-4698-be0d-3226893e9595",
   "metadata": {},
   "outputs": [],
   "source": []
  },
  {
   "cell_type": "code",
   "execution_count": 55,
   "id": "a3ff315f-3d45-40f1-9166-d7dbe195b11b",
   "metadata": {},
   "outputs": [],
   "source": [
    "import spatialdm as sdm\n",
    "import spatialdm.plottings as pl"
   ]
  },
  {
   "cell_type": "code",
   "execution_count": null,
   "id": "3b5db0e1-2e37-458d-b3e9-76921bffce8b",
   "metadata": {},
   "outputs": [],
   "source": []
  },
  {
   "cell_type": "code",
   "execution_count": 56,
   "id": "d1afd755-1c4a-48a1-a18c-a4774972a1f0",
   "metadata": {},
   "outputs": [],
   "source": [
    "import squidpy as sq"
   ]
  },
  {
   "cell_type": "code",
   "execution_count": 57,
   "id": "b4c57633-eb60-4cf9-8ce9-c5f4f6920842",
   "metadata": {},
   "outputs": [],
   "source": [
    "# load the pre-processed dataset\n",
    "img = sq.datasets.visium_hne_image()\n",
    "adata = sq.datasets.visium_hne_adata()"
   ]
  },
  {
   "cell_type": "code",
   "execution_count": 58,
   "id": "df54a925-6d32-4960-98f6-a02735c957c6",
   "metadata": {},
   "outputs": [],
   "source": [
    "# sq.gr.spatial_neighbors(adata)\n",
    "# sq.gr.nhood_enrichment(adata, cluster_key=\"cluster\")\n",
    "# sq.pl.nhood_enrichment(adata, cluster_key=\"cluster\")"
   ]
  },
  {
   "cell_type": "code",
   "execution_count": null,
   "id": "99f1ce36-e5fc-4393-a1c3-7c090fbd7234",
   "metadata": {},
   "outputs": [],
   "source": []
  },
  {
   "cell_type": "code",
   "execution_count": null,
   "id": "5ae1d2a3-7bb4-409f-a364-e234f7cf1d7f",
   "metadata": {},
   "outputs": [],
   "source": []
  },
  {
   "cell_type": "code",
   "execution_count": null,
   "id": "8bf62f99-8531-48bb-a5ae-64cae1dc7b45",
   "metadata": {},
   "outputs": [],
   "source": []
  },
  {
   "cell_type": "markdown",
   "id": "588a0027-dea4-4aa0-9826-ad2aae0ee744",
   "metadata": {},
   "source": [
    "Set up"
   ]
  },
  {
   "cell_type": "code",
   "execution_count": 59,
   "id": "99f519c5-b804-49e3-935c-8f377420cb0b",
   "metadata": {},
   "outputs": [],
   "source": [
    "## SpatialDM tutorial data\n",
    "# adata = sdm.datasets.melanoma()\n",
    "# raw = pd.DataFrame(adata.raw.X, index=adata.obs_names, columns=adata.raw.var_names)\n",
    "# log = pd.DataFrame(adata.X, index=adata.obs_names, columns=adata.var_names)"
   ]
  },
  {
   "cell_type": "code",
   "execution_count": null,
   "id": "d544a504-a177-4dd5-882e-9106d631fc04",
   "metadata": {},
   "outputs": [],
   "source": []
  },
  {
   "cell_type": "code",
   "execution_count": 60,
   "id": "bd5c93b9-17f2-47ea-8092-85d280d88920",
   "metadata": {},
   "outputs": [],
   "source": [
    "# raw = pd.DataFrame(adata.raw.X.todense(), index=adata.obs_names, columns=adata.raw.var_names)\n",
    "log = pd.DataFrame(adata.X.todense(), index=adata.obs_names, columns=adata.var_names)\n",
    "raw = log"
   ]
  },
  {
   "cell_type": "code",
   "execution_count": null,
   "id": "5df8ab63-d30e-4a0a-a07c-b203d10f22f2",
   "metadata": {},
   "outputs": [],
   "source": []
  },
  {
   "cell_type": "code",
   "execution_count": 61,
   "id": "2fbb1a29-d8be-4935-9951-bc1f4ee061d3",
   "metadata": {},
   "outputs": [],
   "source": [
    "spatialcoord = pd.DataFrame(adata.obsm['spatial'], index=adata.obs_names, columns=['x','y'])"
   ]
  },
  {
   "cell_type": "code",
   "execution_count": null,
   "id": "1cc2d7d0-5d9d-4125-8c21-8dd1e8f65b64",
   "metadata": {},
   "outputs": [],
   "source": []
  },
  {
   "cell_type": "code",
   "execution_count": 62,
   "id": "f47dfce3-68f7-4f63-bbd4-f704e5895c0c",
   "metadata": {},
   "outputs": [],
   "source": [
    "# Preprocessing\n",
    "my_sample = sdm.SpatialDM(log, raw, spatialcoord)     # load spatial data with simply log, raw, spatial input"
   ]
  },
  {
   "cell_type": "code",
   "execution_count": 63,
   "id": "dbba8b12-874a-4e92-be93-7d5dac6fde2e",
   "metadata": {},
   "outputs": [],
   "source": [
    "my_sample.extract_lr(species='mouse', min_cell=3)"
   ]
  },
  {
   "cell_type": "code",
   "execution_count": null,
   "id": "101b8ec8-ab6d-4a5b-8ce6-2de13377d0f9",
   "metadata": {},
   "outputs": [],
   "source": []
  },
  {
   "cell_type": "code",
   "execution_count": null,
   "id": "50c65bc3-b468-4105-b20a-e5fa0bd3c79d",
   "metadata": {},
   "outputs": [],
   "source": []
  },
  {
   "cell_type": "markdown",
   "id": "5bd196a8-36a9-4c79-81c9-294149600a3c",
   "metadata": {},
   "source": [
    "We set radial basis kernel parameter l = 1.2, and trimmed all weights < 0.2 (cutoff) to match the normal range of CCC (200 micrometers, 1 spot away from the sender cell here)"
   ]
  },
  {
   "cell_type": "code",
   "execution_count": 64,
   "id": "063e2250-32bb-42a9-a97e-db41a793880c",
   "metadata": {},
   "outputs": [
    {
     "data": {
      "text/plain": [
       "\u001b[0;31mSignature:\u001b[0m\n",
       "\u001b[0mmy_sample\u001b[0m\u001b[0;34m.\u001b[0m\u001b[0mweight_matrix\u001b[0m\u001b[0;34m(\u001b[0m\u001b[0;34m\u001b[0m\n",
       "\u001b[0;34m\u001b[0m    \u001b[0ml\u001b[0m\u001b[0;34m,\u001b[0m\u001b[0;34m\u001b[0m\n",
       "\u001b[0;34m\u001b[0m    \u001b[0mcutoff\u001b[0m\u001b[0;34m=\u001b[0m\u001b[0;32mNone\u001b[0m\u001b[0;34m,\u001b[0m\u001b[0;34m\u001b[0m\n",
       "\u001b[0;34m\u001b[0m    \u001b[0mn_neighbors\u001b[0m\u001b[0;34m=\u001b[0m\u001b[0;32mNone\u001b[0m\u001b[0;34m,\u001b[0m\u001b[0;34m\u001b[0m\n",
       "\u001b[0;34m\u001b[0m    \u001b[0msingle_cell\u001b[0m\u001b[0;34m=\u001b[0m\u001b[0;32mFalse\u001b[0m\u001b[0;34m,\u001b[0m\u001b[0;34m\u001b[0m\n",
       "\u001b[0;34m\u001b[0m\u001b[0;34m)\u001b[0m\u001b[0;34m\u001b[0m\u001b[0;34m\u001b[0m\u001b[0m\n",
       "\u001b[0;31mDocstring:\u001b[0m\n",
       "compute weight matrix based on radial basis kernel.\n",
       "cutoff & n_neighbors are two alternative options to         make the matrix sparse\n",
       ":param l: radial basis kernel parameter, need to be customized to restrain the range of signaling\n",
       " before downstream processing.\n",
       ":param cutoff: minimum weight to be kept from the rbf weight matrix. Weight below cutoff will be made zero\n",
       ":param n_neighbors: number of neighbors per spot from the rbf weight matrix.\n",
       "Non-neighbors will be made 0\n",
       ":param single_cell: if single cell resolution, diagonal will be made 0.\n",
       ":return: rbf_d weight matrix in obj attribute\n",
       "\u001b[0;31mFile:\u001b[0m      ~/anaconda3/lib/python3.8/site-packages/spatialdm/main.py\n",
       "\u001b[0;31mType:\u001b[0m      method\n"
      ]
     },
     "metadata": {},
     "output_type": "display_data"
    }
   ],
   "source": [
    "?my_sample.weight_matrix"
   ]
  },
  {
   "cell_type": "code",
   "execution_count": 65,
   "id": "9931cad0-6ac5-463d-849d-b5016729d6a6",
   "metadata": {},
   "outputs": [],
   "source": [
    "my_sample.weight_matrix(l=100, cutoff=0.2, single_cell=False)  # Not single-cell resolution"
   ]
  },
  {
   "cell_type": "code",
   "execution_count": 66,
   "id": "e8c3907d-32c1-41fa-a328-5e4b75023b55",
   "metadata": {},
   "outputs": [
    {
     "data": {
      "text/plain": [
       "<matplotlib.collections.PathCollection at 0x7f16ba0c1520>"
      ]
     },
     "execution_count": 66,
     "metadata": {},
     "output_type": "execute_result"
    },
    {
     "data": {
      "image/png": "[encoded data removed]",
      "text/plain": [
       "<Figure size 432x288 with 1 Axes>"
      ]
     },
     "metadata": {
      "needs_background": "light"
     },
     "output_type": "display_data"
    }
   ],
   "source": [
    "import matplotlib.pyplot as plt\n",
    "plt.scatter(my_sample.spatialcoord.x, my_sample.spatialcoord.y, c=my_sample.rbf_d[50])"
   ]
  },
  {
   "cell_type": "code",
   "execution_count": null,
   "id": "8d64c390-a818-41ad-a0fa-c5b53b483c0b",
   "metadata": {},
   "outputs": [],
   "source": []
  },
  {
   "cell_type": "markdown",
   "id": "bbb6c940-74a4-491a-bf64-3c44aa30b572",
   "metadata": {
    "tags": []
   },
   "source": [
    "Global Moran's I"
   ]
  },
  {
   "cell_type": "code",
   "execution_count": 67,
   "id": "f8f2c4b0-8252-42cc-87e7-9ac77090ac93",
   "metadata": {},
   "outputs": [
    {
     "name": "stderr",
     "output_type": "stream",
     "text": [
      "Exception ignored on calling ctypes callback function: <function _ThreadpoolInfo._find_modules_with_dl_iterate_phdr.<locals>.match_module_callback at 0x7f16bd1e3a60>\n",
      "Traceback (most recent call last):\n",
      "  File \"/home/dbdimitrov/.local/lib/python3.8/site-packages/threadpoolctl.py\", line 400, in match_module_callback\n",
      "    self._make_module_from_path(filepath)\n",
      "  File \"/home/dbdimitrov/.local/lib/python3.8/site-packages/threadpoolctl.py\", line 515, in _make_module_from_path\n",
      "    module = module_class(filepath, prefix, user_api, internal_api)\n",
      "  File \"/home/dbdimitrov/.local/lib/python3.8/site-packages/threadpoolctl.py\", line 606, in __init__\n",
      "    self.version = self.get_version()\n",
      "  File \"/home/dbdimitrov/.local/lib/python3.8/site-packages/threadpoolctl.py\", line 646, in get_version\n",
      "    config = get_config().split()\n",
      "AttributeError: 'NoneType' object has no attribute 'split'\n",
      "100%|██████████| 1000/1000 [01:02<00:00, 16.10it/s]"
     ]
    },
    {
     "name": "stdout",
     "output_type": "stream",
     "text": [
      "CPU times: user 1min 2s, sys: 62.2 ms, total: 1min 2s\n",
      "Wall time: 1min 2s\n"
     ]
    },
    {
     "name": "stderr",
     "output_type": "stream",
     "text": [
      "\n"
     ]
    }
   ],
   "source": [
    "%%time\n",
    "# Global selection of significant pairs\n",
    "my_sample.spatialdm_global(1000, method='both', select_num=None)  # complete in seconds\n",
    "my_sample.sig_pairs(method='permutation', fdr=True, threshold=0.1)  # select significant pairs"
   ]
  },
  {
   "cell_type": "code",
   "execution_count": null,
   "id": "434e09c8-c9fd-4b45-8781-f5b12a30957d",
   "metadata": {},
   "outputs": [],
   "source": []
  },
  {
   "cell_type": "code",
   "execution_count": null,
   "id": "f91482f5-dd89-4237-a097-0a6dd09193bb",
   "metadata": {},
   "outputs": [],
   "source": []
  },
  {
   "cell_type": "markdown",
   "id": "ee4823d7-42ff-438a-be47-3b01bfec3350",
   "metadata": {},
   "source": [
    "Moran's global I per LR across the slide"
   ]
  },
  {
   "cell_type": "code",
   "execution_count": 68,
   "id": "2f52ce05-31de-44b1-bc1a-8de26465c5c4",
   "metadata": {},
   "outputs": [],
   "source": [
    "res = my_sample.global_res"
   ]
  },
  {
   "cell_type": "code",
   "execution_count": 69,
   "id": "32475904-229b-4c1f-876d-886b9b971235",
   "metadata": {},
   "outputs": [],
   "source": [
    "res['global_I'] = my_sample.global_I"
   ]
  },
  {
   "cell_type": "code",
   "execution_count": 70,
   "id": "fdfbe0c0-afb5-46be-a4ce-6e47793970a9",
   "metadata": {},
   "outputs": [
    {
     "data": {
      "text/html": [
       "<div>\n",
       "<style scoped>\n",
       "    .dataframe tbody tr th:only-of-type {\n",
       "        vertical-align: middle;\n",
       "    }\n",
       "\n",
       "    .dataframe tbody tr th {\n",
       "        vertical-align: top;\n",
       "    }\n",
       "\n",
       "    .dataframe thead th {\n",
       "        text-align: right;\n",
       "    }\n",
       "</style>\n",
       "<table border=\"1\" class=\"dataframe\">\n",
       "  <thead>\n",
       "    <tr style=\"text-align: right;\">\n",
       "      <th></th>\n",
       "      <th>ligand</th>\n",
       "      <th>receptor</th>\n",
       "      <th>z_pval</th>\n",
       "      <th>perm_pval</th>\n",
       "      <th>fdr</th>\n",
       "      <th>selected</th>\n",
       "      <th>global_I</th>\n",
       "    </tr>\n",
       "  </thead>\n",
       "  <tbody>\n",
       "    <tr>\n",
       "      <th>TGFB1_TGFBR1_TGFBR2</th>\n",
       "      <td>[Tgfb1]</td>\n",
       "      <td>[Tgfbr1, Tgfbr2]</td>\n",
       "      <td>1.685912e-04</td>\n",
       "      <td>0.000</td>\n",
       "      <td>0.000000</td>\n",
       "      <td>True</td>\n",
       "      <td>0.030023</td>\n",
       "    </tr>\n",
       "    <tr>\n",
       "      <th>TGFB2_TGFBR1_TGFBR2</th>\n",
       "      <td>[Tgfb2]</td>\n",
       "      <td>[Tgfbr1, Tgfbr2]</td>\n",
       "      <td>1.668284e-05</td>\n",
       "      <td>0.000</td>\n",
       "      <td>0.000000</td>\n",
       "      <td>True</td>\n",
       "      <td>0.034748</td>\n",
       "    </tr>\n",
       "    <tr>\n",
       "      <th>TGFB3_TGFBR1_TGFBR2</th>\n",
       "      <td>[Tgfb3]</td>\n",
       "      <td>[Tgfbr1, Tgfbr2]</td>\n",
       "      <td>9.393182e-03</td>\n",
       "      <td>0.010</td>\n",
       "      <td>0.033267</td>\n",
       "      <td>True</td>\n",
       "      <td>0.019678</td>\n",
       "    </tr>\n",
       "    <tr>\n",
       "      <th>TGFB1_ACVR1B_TGFBR2</th>\n",
       "      <td>[Tgfb1]</td>\n",
       "      <td>[Acvr1b, Tgfbr2]</td>\n",
       "      <td>4.893189e-01</td>\n",
       "      <td>0.487</td>\n",
       "      <td>0.773350</td>\n",
       "      <td>False</td>\n",
       "      <td>0.000224</td>\n",
       "    </tr>\n",
       "    <tr>\n",
       "      <th>TGFB1_ACVR1C_TGFBR2</th>\n",
       "      <td>[Tgfb1]</td>\n",
       "      <td>[Acvr1c, Tgfbr2]</td>\n",
       "      <td>5.432353e-02</td>\n",
       "      <td>0.095</td>\n",
       "      <td>0.233168</td>\n",
       "      <td>False</td>\n",
       "      <td>0.013436</td>\n",
       "    </tr>\n",
       "    <tr>\n",
       "      <th>...</th>\n",
       "      <td>...</td>\n",
       "      <td>...</td>\n",
       "      <td>...</td>\n",
       "      <td>...</td>\n",
       "      <td>...</td>\n",
       "      <td>...</td>\n",
       "      <td>...</td>\n",
       "    </tr>\n",
       "    <tr>\n",
       "      <th>THY1_ITGAV_ITGB3</th>\n",
       "      <td>[Thy1]</td>\n",
       "      <td>[Itgav, Itgb3]</td>\n",
       "      <td>4.881027e-05</td>\n",
       "      <td>0.000</td>\n",
       "      <td>0.000000</td>\n",
       "      <td>True</td>\n",
       "      <td>0.032632</td>\n",
       "    </tr>\n",
       "    <tr>\n",
       "      <th>ITGA4_ITGB1_VCAM1</th>\n",
       "      <td>[Itga4, Itgb1]</td>\n",
       "      <td>[Vcam1]</td>\n",
       "      <td>3.489889e-12</td>\n",
       "      <td>0.000</td>\n",
       "      <td>0.000000</td>\n",
       "      <td>True</td>\n",
       "      <td>0.057435</td>\n",
       "    </tr>\n",
       "    <tr>\n",
       "      <th>ITGA9_ITGB1_VCAM1</th>\n",
       "      <td>[Itga9, Itgb1]</td>\n",
       "      <td>[Vcam1]</td>\n",
       "      <td>3.531991e-15</td>\n",
       "      <td>0.000</td>\n",
       "      <td>0.000000</td>\n",
       "      <td>True</td>\n",
       "      <td>0.065183</td>\n",
       "    </tr>\n",
       "    <tr>\n",
       "      <th>ITGA4_ITGB7_VCAM1</th>\n",
       "      <td>[Itga4, Itgb7]</td>\n",
       "      <td>[Vcam1]</td>\n",
       "      <td>1.809730e-01</td>\n",
       "      <td>0.223</td>\n",
       "      <td>0.441604</td>\n",
       "      <td>False</td>\n",
       "      <td>0.007635</td>\n",
       "    </tr>\n",
       "    <tr>\n",
       "      <th>VSIR_IGSF11</th>\n",
       "      <td>[Vsir]</td>\n",
       "      <td>[Igsf11]</td>\n",
       "      <td>3.007916e-05</td>\n",
       "      <td>0.001</td>\n",
       "      <td>0.004281</td>\n",
       "      <td>True</td>\n",
       "      <td>0.033601</td>\n",
       "    </tr>\n",
       "  </tbody>\n",
       "</table>\n",
       "<p>1507 rows × 7 columns</p>\n",
       "</div>"
      ],
      "text/plain": [
       "                             ligand          receptor        z_pval  \\\n",
       "TGFB1_TGFBR1_TGFBR2         [Tgfb1]  [Tgfbr1, Tgfbr2]  1.685912e-04   \n",
       "TGFB2_TGFBR1_TGFBR2         [Tgfb2]  [Tgfbr1, Tgfbr2]  1.668284e-05   \n",
       "TGFB3_TGFBR1_TGFBR2         [Tgfb3]  [Tgfbr1, Tgfbr2]  9.393182e-03   \n",
       "TGFB1_ACVR1B_TGFBR2         [Tgfb1]  [Acvr1b, Tgfbr2]  4.893189e-01   \n",
       "TGFB1_ACVR1C_TGFBR2         [Tgfb1]  [Acvr1c, Tgfbr2]  5.432353e-02   \n",
       "...                             ...               ...           ...   \n",
       "THY1_ITGAV_ITGB3             [Thy1]    [Itgav, Itgb3]  4.881027e-05   \n",
       "ITGA4_ITGB1_VCAM1    [Itga4, Itgb1]           [Vcam1]  3.489889e-12   \n",
       "ITGA9_ITGB1_VCAM1    [Itga9, Itgb1]           [Vcam1]  3.531991e-15   \n",
       "ITGA4_ITGB7_VCAM1    [Itga4, Itgb7]           [Vcam1]  1.809730e-01   \n",
       "VSIR_IGSF11                  [Vsir]          [Igsf11]  3.007916e-05   \n",
       "\n",
       "                     perm_pval       fdr  selected  global_I  \n",
       "TGFB1_TGFBR1_TGFBR2      0.000  0.000000      True  0.030023  \n",
       "TGFB2_TGFBR1_TGFBR2      0.000  0.000000      True  0.034748  \n",
       "TGFB3_TGFBR1_TGFBR2      0.010  0.033267      True  0.019678  \n",
       "TGFB1_ACVR1B_TGFBR2      0.487  0.773350     False  0.000224  \n",
       "TGFB1_ACVR1C_TGFBR2      0.095  0.233168     False  0.013436  \n",
       "...                        ...       ...       ...       ...  \n",
       "THY1_ITGAV_ITGB3         0.000  0.000000      True  0.032632  \n",
       "ITGA4_ITGB1_VCAM1        0.000  0.000000      True  0.057435  \n",
       "ITGA9_ITGB1_VCAM1        0.000  0.000000      True  0.065183  \n",
       "ITGA4_ITGB7_VCAM1        0.223  0.441604     False  0.007635  \n",
       "VSIR_IGSF11              0.001  0.004281      True  0.033601  \n",
       "\n",
       "[1507 rows x 7 columns]"
      ]
     },
     "execution_count": 70,
     "metadata": {},
     "output_type": "execute_result"
    }
   ],
   "source": [
    "res"
   ]
  },
  {
   "cell_type": "code",
   "execution_count": 71,
   "id": "90176935-c369-4ddb-b627-f52f502b7be4",
   "metadata": {},
   "outputs": [
    {
     "name": "stderr",
     "output_type": "stream",
     "text": [
      "<ipython-input-71-384c796ce143>:1: UserWarning: Boolean Series key will be reindexed to match DataFrame index.\n"
     ]
    },
    {
     "data": {
      "text/html": [
       "<div>\n",
       "<style scoped>\n",
       "    .dataframe tbody tr th:only-of-type {\n",
       "        vertical-align: middle;\n",
       "    }\n",
       "\n",
       "    .dataframe tbody tr th {\n",
       "        vertical-align: top;\n",
       "    }\n",
       "\n",
       "    .dataframe thead th {\n",
       "        text-align: right;\n",
       "    }\n",
       "</style>\n",
       "<table border=\"1\" class=\"dataframe\">\n",
       "  <thead>\n",
       "    <tr style=\"text-align: right;\">\n",
       "      <th></th>\n",
       "      <th>ligand</th>\n",
       "      <th>receptor</th>\n",
       "      <th>z_pval</th>\n",
       "      <th>perm_pval</th>\n",
       "      <th>fdr</th>\n",
       "      <th>selected</th>\n",
       "      <th>global_I</th>\n",
       "    </tr>\n",
       "  </thead>\n",
       "  <tbody>\n",
       "    <tr>\n",
       "      <th>SEMA4D_PLXNB3</th>\n",
       "      <td>[Sema4d]</td>\n",
       "      <td>[Plxnb3]</td>\n",
       "      <td>1.360399e-303</td>\n",
       "      <td>0.0</td>\n",
       "      <td>0.0</td>\n",
       "      <td>True</td>\n",
       "      <td>0.311747</td>\n",
       "    </tr>\n",
       "  </tbody>\n",
       "</table>\n",
       "</div>"
      ],
      "text/plain": [
       "                 ligand  receptor         z_pval  perm_pval  fdr  selected  \\\n",
       "SEMA4D_PLXNB3  [Sema4d]  [Plxnb3]  1.360399e-303        0.0  0.0      True   \n",
       "\n",
       "               global_I  \n",
       "SEMA4D_PLXNB3  0.311747  "
      ]
     },
     "execution_count": 71,
     "metadata": {},
     "output_type": "execute_result"
    }
   ],
   "source": [
    "res[res.index.str.contains('SEMA4D_PLXNB3')][res.global_I > 0.3].sort_values(by='global_I')"
   ]
  },
  {
   "cell_type": "code",
   "execution_count": null,
   "id": "0ae72329-0907-44d0-86a1-3bb3d2f9a1df",
   "metadata": {},
   "outputs": [],
   "source": []
  },
  {
   "cell_type": "code",
   "execution_count": 72,
   "id": "7dd8a5c0-63b5-4a54-97a2-e7ed3ab43de5",
   "metadata": {},
   "outputs": [
    {
     "name": "stderr",
     "output_type": "stream",
     "text": [
      "*c* argument looks like a single numeric RGB or RGBA sequence, which should be avoided as value-mapping will have precedence in case its length matches with *x* & *y*.  Please use the *color* keyword-argument or provide a 2D array with a single row if you intend to specify the same RGB or RGBA value for all points.\n"
     ]
    },
    {
     "data": {
      "image/png": "[encoded data removed]",
      "text/plain": [
       "<Figure size 216x288 with 1 Axes>"
      ]
     },
     "metadata": {
      "needs_background": "light"
     },
     "output_type": "display_data"
    }
   ],
   "source": [
    "pl.global_plot(my_sample, pairs=['CSF1_CSF1R'])  # Overview of global selection"
   ]
  },
  {
   "cell_type": "code",
   "execution_count": null,
   "id": "b5b7a368-e4c3-4bec-9248-3c1a63f03629",
   "metadata": {},
   "outputs": [],
   "source": []
  },
  {
   "cell_type": "markdown",
   "id": "d6199c8e-1676-4448-8217-74cb99993535",
   "metadata": {},
   "source": [
    "Local Moran's I"
   ]
  },
  {
   "cell_type": "code",
   "execution_count": 73,
   "id": "eefbbdce-7eae-4eaf-81b4-307cee44c0d0",
   "metadata": {},
   "outputs": [
    {
     "name": "stderr",
     "output_type": "stream",
     "text": [
      "Exception ignored on calling ctypes callback function: <function _ThreadpoolInfo._find_modules_with_dl_iterate_phdr.<locals>.match_module_callback at 0x7f16bd18b160>\n",
      "Traceback (most recent call last):\n",
      "  File \"/home/dbdimitrov/.local/lib/python3.8/site-packages/threadpoolctl.py\", line 400, in match_module_callback\n",
      "    self._make_module_from_path(filepath)\n",
      "  File \"/home/dbdimitrov/.local/lib/python3.8/site-packages/threadpoolctl.py\", line 515, in _make_module_from_path\n",
      "    module = module_class(filepath, prefix, user_api, internal_api)\n",
      "  File \"/home/dbdimitrov/.local/lib/python3.8/site-packages/threadpoolctl.py\", line 606, in __init__\n",
      "    self.version = self.get_version()\n",
      "  File \"/home/dbdimitrov/.local/lib/python3.8/site-packages/threadpoolctl.py\", line 646, in get_version\n",
      "    config = get_config().split()\n",
      "AttributeError: 'NoneType' object has no attribute 'split'\n",
      "100%|██████████| 100/100 [00:02<00:00, 33.45it/s]\n"
     ]
    },
    {
     "data": {
      "image/png": "[encoded data removed]",
      "text/plain": [
       "<Figure size 2520x360 with 6 Axes>"
      ]
     },
     "metadata": {
      "needs_background": "light"
     },
     "output_type": "display_data"
    }
   ],
   "source": [
    "# Local selection of significant spots\n",
    "my_sample.spatialdm_local(n_perm=100, method='both', select_num=None, nproc=1)     # local spot selection complete in seconds\n",
    "my_sample.sig_spots(threshold=0.1)  # significant local spots\n",
    "pl.plot_pairs(my_sample, ['CSF1_CSF1R'], marker='s') # visualize known melanoma pair(s)"
   ]
  },
  {
   "cell_type": "code",
   "execution_count": null,
   "id": "49f84291-000b-4065-92d7-3b637d0a79b3",
   "metadata": {},
   "outputs": [],
   "source": []
  },
  {
   "cell_type": "code",
   "execution_count": null,
   "id": "fdd382a2-97f0-47e1-a84f-f51d1cce4f48",
   "metadata": {},
   "outputs": [],
   "source": []
  },
  {
   "cell_type": "code",
   "execution_count": null,
   "id": "feca61eb-f2eb-48c8-885c-7c8fa27ab55c",
   "metadata": {},
   "outputs": [],
   "source": []
  },
  {
   "cell_type": "code",
   "execution_count": null,
   "id": "542cd867-6eb9-46cb-b02c-1ac7357d0116",
   "metadata": {},
   "outputs": [],
   "source": []
  },
  {
   "cell_type": "markdown",
   "id": "b6f109a9-fcb4-4485-a291-47b79918135a",
   "metadata": {},
   "source": [
    "Re-implement Moran's Global I"
   ]
  },
  {
   "cell_type": "markdown",
   "id": "45724a71-c1c3-483f-8c62-0757931c200f",
   "metadata": {},
   "source": [
    "1. DataFrame /w L & R \n",
    "2. Calulcate L & R means & props (accounting for complexes)\n",
    "3. Re-implement radial kernel weight\n",
    "4. Moran's R\n",
    "5. p-val /w Permutations\n",
    "6. z-score pvals"
   ]
  },
  {
   "cell_type": "code",
   "execution_count": 74,
   "id": "34fc0b32-ab9e-4ffd-8f9f-0f7eec9ea469",
   "metadata": {},
   "outputs": [
    {
     "data": {
      "text/plain": [
       "AnnData object with n_obs × n_vars = 2688 × 18078\n",
       "    obs: 'in_tissue', 'array_row', 'array_col', 'n_genes_by_counts', 'log1p_n_genes_by_counts', 'total_counts', 'log1p_total_counts', 'pct_counts_in_top_50_genes', 'pct_counts_in_top_100_genes', 'pct_counts_in_top_200_genes', 'pct_counts_in_top_500_genes', 'total_counts_mt', 'log1p_total_counts_mt', 'pct_counts_mt', 'n_counts', 'leiden', 'cluster'\n",
       "    var: 'gene_ids', 'feature_types', 'genome', 'mt', 'n_cells_by_counts', 'mean_counts', 'log1p_mean_counts', 'pct_dropout_by_counts', 'total_counts', 'log1p_total_counts', 'n_cells', 'highly_variable', 'highly_variable_rank', 'means', 'variances', 'variances_norm'\n",
       "    uns: 'cluster_colors', 'hvg', 'leiden', 'leiden_colors', 'neighbors', 'pca', 'rank_genes_groups', 'spatial', 'umap'\n",
       "    obsm: 'X_pca', 'X_umap', 'spatial'\n",
       "    varm: 'PCs'\n",
       "    obsp: 'connectivities', 'distances'"
      ]
     },
     "execution_count": 74,
     "metadata": {},
     "output_type": "execute_result"
    }
   ],
   "source": [
    "adata"
   ]
  },
  {
   "cell_type": "code",
   "execution_count": 75,
   "id": "c200fb94-54b0-4752-a35e-c14d3ea94afd",
   "metadata": {},
   "outputs": [],
   "source": [
    "from liana.method._pipe_utils._pre import prep_check_adata\n",
    "from liana.resource import select_resource, explode_complexes\n",
    "from threadpoolctl import threadpool_limits"
   ]
  },
  {
   "cell_type": "code",
   "execution_count": 76,
   "id": "3f9ac084-bb2a-415a-b37a-9c623b6f5d20",
   "metadata": {},
   "outputs": [],
   "source": [
    "from liana.method._pipe_utils import prep_check_adata, filter_resource"
   ]
  },
  {
   "cell_type": "code",
   "execution_count": 77,
   "id": "f21904f7-34f5-417f-8e8e-674588b60016",
   "metadata": {},
   "outputs": [],
   "source": [
    "from liana.method._liana_pipe import filter_reassemble_complexes"
   ]
  },
  {
   "cell_type": "code",
   "execution_count": null,
   "id": "805a8244-1808-4800-a8e1-2ae5eaba6491",
   "metadata": {},
   "outputs": [],
   "source": []
  },
  {
   "cell_type": "code",
   "execution_count": 78,
   "id": "639a682c-7475-4e8c-b3bd-25b812ab7014",
   "metadata": {},
   "outputs": [],
   "source": [
    "_key_cols = ['ligand_complex', 'receptor_complex']"
   ]
  },
  {
   "cell_type": "code",
   "execution_count": null,
   "id": "a3157e9f-7cc1-4ba5-849a-6efde5b0d415",
   "metadata": {},
   "outputs": [],
   "source": []
  },
  {
   "cell_type": "code",
   "execution_count": 79,
   "id": "ff6c6d1e-772a-4ced-a4a6-5b0e31710132",
   "metadata": {},
   "outputs": [],
   "source": [
    "adata = prep_check_adata(adata, groupby='cluster', keep_obsm=True, min_cells=3)"
   ]
  },
  {
   "cell_type": "code",
   "execution_count": 80,
   "id": "9c248e86-cfb4-430e-823f-c0d985c3a53a",
   "metadata": {},
   "outputs": [],
   "source": [
    "resource = select_resource('MouseConsensus')"
   ]
  },
  {
   "cell_type": "code",
   "execution_count": 81,
   "id": "c6793695-38f1-40b9-b3fe-455638be59a3",
   "metadata": {},
   "outputs": [
    {
     "data": {
      "text/plain": [
       "Index(['0610005C13Rik', '0610009B22Rik', '0610009O20Rik', '0610010F05Rik',\n",
       "       '0610010K14Rik', '0610012G03Rik', '0610025J13Rik', '0610030E20Rik',\n",
       "       '0610033M10Rik', '0610037L13Rik',\n",
       "       ...\n",
       "       'mt-Co2', 'mt-Co3', 'mt-Cytb', 'mt-Nd1', 'mt-Nd2', 'mt-Nd3', 'mt-Nd4',\n",
       "       'mt-Nd4l', 'mt-Nd5', 'mt-Nd6'],\n",
       "      dtype='object', length=18078)"
      ]
     },
     "execution_count": 81,
     "metadata": {},
     "output_type": "execute_result"
    }
   ],
   "source": [
    "adata.var_names"
   ]
  },
  {
   "cell_type": "code",
   "execution_count": 82,
   "id": "3aeabfad-4f29-4209-8a9a-dd442fa27fce",
   "metadata": {},
   "outputs": [
    {
     "data": {
      "text/plain": [
       "AxisArrays with keys: X_pca, X_umap, spatial"
      ]
     },
     "execution_count": 82,
     "metadata": {},
     "output_type": "execute_result"
    }
   ],
   "source": [
    "adata.obsm"
   ]
  },
  {
   "cell_type": "code",
   "execution_count": null,
   "id": "fa5aa1a6-f279-4955-99e1-8939f966778c",
   "metadata": {},
   "outputs": [],
   "source": []
  },
  {
   "cell_type": "code",
   "execution_count": 83,
   "id": "15e1c8f2-a4b9-49cb-8460-728f78319582",
   "metadata": {},
   "outputs": [],
   "source": [
    "# # fix this later\n",
    "# temp = sq.datasets.visium_hne_adata()\n",
    "# # adata.layers['counts'] = temp.raw.X THIS IS JUST BAD!!\n",
    "# del temp\n",
    "# gc.collect()"
   ]
  },
  {
   "cell_type": "code",
   "execution_count": null,
   "id": "35c45c96-3a83-4da1-aab3-df0f03ad1711",
   "metadata": {},
   "outputs": [],
   "source": []
  },
  {
   "cell_type": "markdown",
   "id": "9f3bdcd4-bef9-4ad3-a8bf-c3e13e2cbb5c",
   "metadata": {},
   "source": [
    "Process Resource"
   ]
  },
  {
   "cell_type": "code",
   "execution_count": 84,
   "id": "da100696-556a-4d7b-9362-be7d7872cdc7",
   "metadata": {},
   "outputs": [],
   "source": [
    "resource = explode_complexes(resource)"
   ]
  },
  {
   "cell_type": "code",
   "execution_count": 85,
   "id": "725dbe95-ec07-48d8-a9f0-d61a825ae421",
   "metadata": {},
   "outputs": [],
   "source": [
    "resource = filter_resource(resource, adata.var_names)"
   ]
  },
  {
   "cell_type": "code",
   "execution_count": 86,
   "id": "e06caf7e-8b17-48f4-83c0-bc2b66ce3edf",
   "metadata": {},
   "outputs": [
    {
     "data": {
      "text/html": [
       "<div>\n",
       "<style scoped>\n",
       "    .dataframe tbody tr th:only-of-type {\n",
       "        vertical-align: middle;\n",
       "    }\n",
       "\n",
       "    .dataframe tbody tr th {\n",
       "        vertical-align: top;\n",
       "    }\n",
       "\n",
       "    .dataframe thead th {\n",
       "        text-align: right;\n",
       "    }\n",
       "</style>\n",
       "<table border=\"1\" class=\"dataframe\">\n",
       "  <thead>\n",
       "    <tr style=\"text-align: right;\">\n",
       "      <th></th>\n",
       "      <th>interaction</th>\n",
       "      <th>ligand</th>\n",
       "      <th>receptor</th>\n",
       "      <th>ligand_complex</th>\n",
       "      <th>receptor_complex</th>\n",
       "    </tr>\n",
       "  </thead>\n",
       "  <tbody>\n",
       "    <tr>\n",
       "      <th>0</th>\n",
       "      <td>Dll1|Notch1</td>\n",
       "      <td>Dll1</td>\n",
       "      <td>Notch1</td>\n",
       "      <td>Dll1</td>\n",
       "      <td>Notch1</td>\n",
       "    </tr>\n",
       "    <tr>\n",
       "      <th>1</th>\n",
       "      <td>Dll1|Notch2</td>\n",
       "      <td>Dll1</td>\n",
       "      <td>Notch2</td>\n",
       "      <td>Dll1</td>\n",
       "      <td>Notch2</td>\n",
       "    </tr>\n",
       "    <tr>\n",
       "      <th>2</th>\n",
       "      <td>Dll1|Notch4</td>\n",
       "      <td>Dll1</td>\n",
       "      <td>Notch4</td>\n",
       "      <td>Dll1</td>\n",
       "      <td>Notch4</td>\n",
       "    </tr>\n",
       "    <tr>\n",
       "      <th>3</th>\n",
       "      <td>Dll1|Notch3</td>\n",
       "      <td>Dll1</td>\n",
       "      <td>Notch3</td>\n",
       "      <td>Dll1</td>\n",
       "      <td>Notch3</td>\n",
       "    </tr>\n",
       "    <tr>\n",
       "      <th>4</th>\n",
       "      <td>Nrg2|Erbb2_Erbb3</td>\n",
       "      <td>Nrg2</td>\n",
       "      <td>Erbb2</td>\n",
       "      <td>Nrg2</td>\n",
       "      <td>Erbb2_Erbb3</td>\n",
       "    </tr>\n",
       "    <tr>\n",
       "      <th>...</th>\n",
       "      <td>...</td>\n",
       "      <td>...</td>\n",
       "      <td>...</td>\n",
       "      <td>...</td>\n",
       "      <td>...</td>\n",
       "    </tr>\n",
       "    <tr>\n",
       "      <th>5070</th>\n",
       "      <td>Saa2|Grm7</td>\n",
       "      <td>Saa2</td>\n",
       "      <td>Grm7</td>\n",
       "      <td>Saa2</td>\n",
       "      <td>Grm7</td>\n",
       "    </tr>\n",
       "    <tr>\n",
       "      <th>5073</th>\n",
       "      <td>Saa1|Scarb1</td>\n",
       "      <td>Saa1</td>\n",
       "      <td>Scarb1</td>\n",
       "      <td>Saa1</td>\n",
       "      <td>Scarb1</td>\n",
       "    </tr>\n",
       "    <tr>\n",
       "      <th>5074</th>\n",
       "      <td>Saa2|Scarb1</td>\n",
       "      <td>Saa2</td>\n",
       "      <td>Scarb1</td>\n",
       "      <td>Saa2</td>\n",
       "      <td>Scarb1</td>\n",
       "    </tr>\n",
       "    <tr>\n",
       "      <th>5075</th>\n",
       "      <td>Saa1|Tlr2</td>\n",
       "      <td>Saa1</td>\n",
       "      <td>Tlr2</td>\n",
       "      <td>Saa1</td>\n",
       "      <td>Tlr2</td>\n",
       "    </tr>\n",
       "    <tr>\n",
       "      <th>5076</th>\n",
       "      <td>Saa2|Tlr2</td>\n",
       "      <td>Saa2</td>\n",
       "      <td>Tlr2</td>\n",
       "      <td>Saa2</td>\n",
       "      <td>Tlr2</td>\n",
       "    </tr>\n",
       "  </tbody>\n",
       "</table>\n",
       "<p>3884 rows × 5 columns</p>\n",
       "</div>"
      ],
      "text/plain": [
       "           interaction ligand receptor ligand_complex receptor_complex\n",
       "0          Dll1|Notch1   Dll1   Notch1           Dll1           Notch1\n",
       "1          Dll1|Notch2   Dll1   Notch2           Dll1           Notch2\n",
       "2          Dll1|Notch4   Dll1   Notch4           Dll1           Notch4\n",
       "3          Dll1|Notch3   Dll1   Notch3           Dll1           Notch3\n",
       "4     Nrg2|Erbb2_Erbb3   Nrg2    Erbb2           Nrg2      Erbb2_Erbb3\n",
       "...                ...    ...      ...            ...              ...\n",
       "5070         Saa2|Grm7   Saa2     Grm7           Saa2             Grm7\n",
       "5073       Saa1|Scarb1   Saa1   Scarb1           Saa1           Scarb1\n",
       "5074       Saa2|Scarb1   Saa2   Scarb1           Saa2           Scarb1\n",
       "5075         Saa1|Tlr2   Saa1     Tlr2           Saa1             Tlr2\n",
       "5076         Saa2|Tlr2   Saa2     Tlr2           Saa2             Tlr2\n",
       "\n",
       "[3884 rows x 5 columns]"
      ]
     },
     "execution_count": 86,
     "metadata": {},
     "output_type": "execute_result"
    }
   ],
   "source": [
    "resource"
   ]
  },
  {
   "cell_type": "code",
   "execution_count": null,
   "id": "d459937c-1f07-498e-823a-683783e5d02d",
   "metadata": {},
   "outputs": [],
   "source": []
  },
  {
   "cell_type": "markdown",
   "id": "f6434cc2-5622-457b-bcd3-d1891587d1e9",
   "metadata": {},
   "source": [
    "Get slide means"
   ]
  },
  {
   "cell_type": "code",
   "execution_count": 87,
   "id": "48b5579d-0df9-4947-9b0c-a09c122b0a28",
   "metadata": {},
   "outputs": [],
   "source": [
    "entities = np.union1d(np.unique(resource[\"ligand\"]),\n",
    "                      np.unique(resource[\"receptor\"]))"
   ]
  },
  {
   "cell_type": "code",
   "execution_count": 88,
   "id": "c885ae99-23a0-4938-b14a-cfb7bdf9cd2b",
   "metadata": {},
   "outputs": [],
   "source": [
    "# Filter to only include the relevant genes\n",
    "adata = adata[:, np.intersect1d(entities, adata.var.index)]"
   ]
  },
  {
   "cell_type": "code",
   "execution_count": 89,
   "id": "64967752-5c77-49a7-9233-47620b2e32a0",
   "metadata": {},
   "outputs": [],
   "source": [
    "lr_stats = pd.DataFrame({'means': adata.X.mean(axis=0).A.flatten(), \n",
    "                        'props': adata.X.getnnz(axis=0) / adata.X.shape[0]},\n",
    "                        index=adata.var_names).reset_index().rename(columns={'index': 'gene'})"
   ]
  },
  {
   "cell_type": "code",
   "execution_count": null,
   "id": "ecc7bd92-e957-4cde-805c-8a931d95049c",
   "metadata": {},
   "outputs": [],
   "source": []
  },
  {
   "cell_type": "code",
   "execution_count": 90,
   "id": "70bdcd97-8a70-49da-9c49-d0276dfb0b80",
   "metadata": {},
   "outputs": [],
   "source": [
    "def _rename_means(lr_stats, entity):\n",
    "    df = lr_stats.copy()\n",
    "    df.columns = df.columns.map(lambda x: entity + '_' + str(x) if x!='gene' else 'gene')\n",
    "    return df.rename(columns = {'gene':entity})"
   ]
  },
  {
   "cell_type": "code",
   "execution_count": 91,
   "id": "74bb5077-73e2-4956-be18-d1cfa130556b",
   "metadata": {},
   "outputs": [],
   "source": [
    "lr_res = resource.merge(_rename_means(lr_stats, entity='ligand')).merge(_rename_means(lr_stats, entity='receptor'))"
   ]
  },
  {
   "cell_type": "code",
   "execution_count": 92,
   "id": "e8294e69-e865-48ff-a141-15e17f6800bd",
   "metadata": {},
   "outputs": [],
   "source": [
    "# # Filter non-expressed\n",
    "# lr_res = lr_res[(lr_res.ligand_props > 0.05) & (lr_res.receptor_props > 0.05)]"
   ]
  },
  {
   "cell_type": "code",
   "execution_count": null,
   "id": "04966c9c-d95d-436d-a89b-9bbc99d65dfb",
   "metadata": {},
   "outputs": [],
   "source": []
  },
  {
   "cell_type": "code",
   "execution_count": null,
   "id": "ea58a506-fa6f-4cff-9c7f-1ea40101c688",
   "metadata": {},
   "outputs": [],
   "source": []
  },
  {
   "cell_type": "markdown",
   "id": "7f3733e4-75b4-4dad-ba0c-32b2dc645cbf",
   "metadata": {},
   "source": [
    "Recomplexify"
   ]
  },
  {
   "cell_type": "code",
   "execution_count": 93,
   "id": "9a89cc35-1d5f-4e4c-a3ae-c99e55bb26c3",
   "metadata": {},
   "outputs": [],
   "source": [
    "lr_res = filter_reassemble_complexes(lr_res=lr_res,\n",
    "                                       _key_cols=_key_cols,\n",
    "                                       expr_prop=0.05,\n",
    "                                       complex_cols=['ligand_means', 'receptor_means'])"
   ]
  },
  {
   "cell_type": "code",
   "execution_count": 94,
   "id": "0379e921-93a0-4c88-9b38-b55b640fc390",
   "metadata": {},
   "outputs": [
    {
     "data": {
      "text/html": [
       "<div>\n",
       "<style scoped>\n",
       "    .dataframe tbody tr th:only-of-type {\n",
       "        vertical-align: middle;\n",
       "    }\n",
       "\n",
       "    .dataframe tbody tr th {\n",
       "        vertical-align: top;\n",
       "    }\n",
       "\n",
       "    .dataframe thead th {\n",
       "        text-align: right;\n",
       "    }\n",
       "</style>\n",
       "<table border=\"1\" class=\"dataframe\">\n",
       "  <thead>\n",
       "    <tr style=\"text-align: right;\">\n",
       "      <th></th>\n",
       "      <th>interaction</th>\n",
       "      <th>ligand</th>\n",
       "      <th>receptor</th>\n",
       "      <th>ligand_complex</th>\n",
       "      <th>receptor_complex</th>\n",
       "      <th>ligand_means</th>\n",
       "      <th>ligand_props</th>\n",
       "      <th>receptor_means</th>\n",
       "      <th>receptor_props</th>\n",
       "      <th>prop_min</th>\n",
       "    </tr>\n",
       "  </thead>\n",
       "  <tbody>\n",
       "    <tr>\n",
       "      <th>1221</th>\n",
       "      <td>Sema5a|Plxnb3</td>\n",
       "      <td>Sema5a</td>\n",
       "      <td>Plxnb3</td>\n",
       "      <td>Sema5a</td>\n",
       "      <td>Plxnb3</td>\n",
       "      <td>0.418452</td>\n",
       "      <td>0.452009</td>\n",
       "      <td>0.190867</td>\n",
       "      <td>0.219866</td>\n",
       "      <td>0.219866</td>\n",
       "    </tr>\n",
       "    <tr>\n",
       "      <th>1222</th>\n",
       "      <td>Sema4d|Plxnb3</td>\n",
       "      <td>Sema4d</td>\n",
       "      <td>Plxnb3</td>\n",
       "      <td>Sema4d</td>\n",
       "      <td>Plxnb3</td>\n",
       "      <td>0.544131</td>\n",
       "      <td>0.524554</td>\n",
       "      <td>0.190867</td>\n",
       "      <td>0.219866</td>\n",
       "      <td>0.219866</td>\n",
       "    </tr>\n",
       "    <tr>\n",
       "      <th>1223</th>\n",
       "      <td>Sema4a|Plxnb3</td>\n",
       "      <td>Sema4a</td>\n",
       "      <td>Plxnb3</td>\n",
       "      <td>Sema4a</td>\n",
       "      <td>Plxnb3</td>\n",
       "      <td>0.296781</td>\n",
       "      <td>0.383557</td>\n",
       "      <td>0.190867</td>\n",
       "      <td>0.219866</td>\n",
       "      <td>0.219866</td>\n",
       "    </tr>\n",
       "  </tbody>\n",
       "</table>\n",
       "</div>"
      ],
      "text/plain": [
       "        interaction  ligand receptor ligand_complex receptor_complex  \\\n",
       "1221  Sema5a|Plxnb3  Sema5a   Plxnb3         Sema5a           Plxnb3   \n",
       "1222  Sema4d|Plxnb3  Sema4d   Plxnb3         Sema4d           Plxnb3   \n",
       "1223  Sema4a|Plxnb3  Sema4a   Plxnb3         Sema4a           Plxnb3   \n",
       "\n",
       "      ligand_means  ligand_props  receptor_means  receptor_props  prop_min  \n",
       "1221      0.418452      0.452009        0.190867        0.219866  0.219866  \n",
       "1222      0.544131      0.524554        0.190867        0.219866  0.219866  \n",
       "1223      0.296781      0.383557        0.190867        0.219866  0.219866  "
      ]
     },
     "execution_count": 94,
     "metadata": {},
     "output_type": "execute_result"
    }
   ],
   "source": [
    "lr_res[lr_res.interaction.str.contains('Plxnb3')]"
   ]
  },
  {
   "cell_type": "code",
   "execution_count": null,
   "id": "a5ba5c7b-a0fe-442e-af31-702cf330d34c",
   "metadata": {},
   "outputs": [],
   "source": []
  },
  {
   "cell_type": "markdown",
   "id": "8f752b3c-aee8-4ba6-8118-6b242457290f",
   "metadata": {},
   "source": [
    "For now I will use their spatial kernel weights"
   ]
  },
  {
   "cell_type": "code",
   "execution_count": 95,
   "id": "23a3c091-2f99-405e-8839-2f6c93af57cd",
   "metadata": {},
   "outputs": [],
   "source": [
    "rbf_d = my_sample.rbf_d"
   ]
  },
  {
   "cell_type": "code",
   "execution_count": 96,
   "id": "6a2fe270-bc96-44b6-b4d0-1cb340509297",
   "metadata": {},
   "outputs": [
    {
     "data": {
      "text/plain": [
       "2688"
      ]
     },
     "execution_count": 96,
     "metadata": {},
     "output_type": "execute_result"
    }
   ],
   "source": [
    "# every spot to every spot:\n",
    "my_sample.rbf_d.shape[0]"
   ]
  },
  {
   "cell_type": "code",
   "execution_count": null,
   "id": "019ee557-6e17-4476-be71-b3fc2a641661",
   "metadata": {},
   "outputs": [],
   "source": []
  },
  {
   "cell_type": "code",
   "execution_count": null,
   "id": "bdbfad52-8a52-49a6-9071-7567b0d53770",
   "metadata": {},
   "outputs": [],
   "source": []
  },
  {
   "cell_type": "markdown",
   "id": "c62ef19d-76ef-4702-9b63-8fadeb7a5a72",
   "metadata": {},
   "source": [
    "(Vectorized) For all interactions:"
   ]
  },
  {
   "cell_type": "markdown",
   "id": "eb94bbd5-86ee-4088-8618-0e63532911fa",
   "metadata": {},
   "source": [
    "norm expr mat - i.e. (x - x^) & (y - y^)"
   ]
  },
  {
   "cell_type": "code",
   "execution_count": 97,
   "id": "02883e62-0b26-4f2a-8ae3-ef63b11ae561",
   "metadata": {},
   "outputs": [],
   "source": [
    "norm_mat = np.array(adata.X - np.array(adata.X.mean(axis=0)))\n",
    "sqrt_a = np.sqrt(np.sum(np.power(norm_mat, 2), axis=0)).T"
   ]
  },
  {
   "cell_type": "code",
   "execution_count": 98,
   "id": "9784d5e6-46e1-464d-b051-5e077269101a",
   "metadata": {},
   "outputs": [],
   "source": [
    "ligand_pos = {entity: np.where(adata.var_names == entity)[0][0] for entity\n",
    "              in lr_res['ligand']}\n",
    "receptor_pos = {entity: np.where(adata.var_names == entity)[0][0] for entity\n",
    "                in lr_res['receptor']}"
   ]
  },
  {
   "cell_type": "code",
   "execution_count": null,
   "id": "36b23ea9-737d-4a98-acb0-e284ac0a86db",
   "metadata": {},
   "outputs": [],
   "source": []
  },
  {
   "cell_type": "markdown",
   "id": "ebe898fa-2873-4691-a326-3d7dc1bc6eda",
   "metadata": {},
   "source": [
    "Calculate Global Moran's R"
   ]
  },
  {
   "cell_type": "code",
   "execution_count": 99,
   "id": "0c323c8e-990d-48e6-b832-7f78c8725377",
   "metadata": {},
   "outputs": [],
   "source": [
    "import scipy\n",
    "from tqdm import tqdm\n",
    "from statsmodels.distributions.empirical_distribution import ECDF"
   ]
  },
  {
   "cell_type": "code",
   "execution_count": null,
   "id": "8a9ecc86-728b-41c2-9ce8-2a5904856076",
   "metadata": {},
   "outputs": [],
   "source": []
  },
  {
   "cell_type": "code",
   "execution_count": 100,
   "id": "aacf06ea-704f-4127-a80c-6bc980a1dfbe",
   "metadata": {},
   "outputs": [],
   "source": [
    "# essential for this to be sparse\n",
    "dist = scipy.sparse.csr_matrix(my_sample.rbf_d)"
   ]
  },
  {
   "cell_type": "code",
   "execution_count": 101,
   "id": "cacd21fd-4cf3-41f0-b40e-78dbe1a032cf",
   "metadata": {},
   "outputs": [],
   "source": [
    "norm_mat = np.array(adata.X - np.array(adata.X.mean(axis=0))) # normalized x matrix"
   ]
  },
  {
   "cell_type": "code",
   "execution_count": 102,
   "id": "5d237659-2010-4c8b-900e-78cc56aaa54b",
   "metadata": {},
   "outputs": [],
   "source": [
    "norm_mat = norm_mat / np.sqrt(np.sum(norm_mat**2, axis=0, keepdims=True))"
   ]
  },
  {
   "cell_type": "code",
   "execution_count": null,
   "id": "a3c0f3ca-f134-4378-9814-c53a112ddb6b",
   "metadata": {},
   "outputs": [],
   "source": []
  },
  {
   "cell_type": "code",
   "execution_count": 103,
   "id": "845d6d7f-e441-4880-91b6-7bfe31a3cbed",
   "metadata": {},
   "outputs": [],
   "source": [
    "# sqrt_a = np.sqrt(np.sum(np.power(norm_mat, 2), axis=0)).T # sqrt matrix\n",
    "# positions\n",
    "ligand_pos = {entity: np.where(adata.var_names == entity)[0][0] for entity\n",
    "              in lr_res['ligand']}\n",
    "receptor_pos = {entity: np.where(adata.var_names == entity)[0][0] for entity\n",
    "                in lr_res['receptor']}"
   ]
  },
  {
   "cell_type": "code",
   "execution_count": 104,
   "id": "ae980a5d-804d-426d-a268-2724626c7de5",
   "metadata": {},
   "outputs": [],
   "source": [
    "n_perm = 1000"
   ]
  },
  {
   "cell_type": "code",
   "execution_count": null,
   "id": "68353ce8-3802-4566-a36a-3582a13f6425",
   "metadata": {},
   "outputs": [],
   "source": []
  },
  {
   "cell_type": "code",
   "execution_count": 105,
   "id": "c0af3d99-0ba6-4220-96a5-ffeeb799a507",
   "metadata": {},
   "outputs": [],
   "source": [
    "ligand_mat = np.array([norm_mat[:, ligand_pos[ligand]] for ligand in lr_res.ligand])\n",
    "receptor_mat = np.array([norm_mat[:, receptor_pos[receptor]] for receptor in lr_res.receptor])\n",
    "# ligand_sqrt = np.array([sqrt_a[ligand_pos[ligand]] for ligand in lr_res.ligand])\n",
    "# receptor_sqrt = np.array([sqrt_a[receptor_pos[receptor]] for receptor in lr_res.receptor])"
   ]
  },
  {
   "cell_type": "markdown",
   "id": "73fe553c-cb99-4feb-a6a9-f9f4f71fac14",
   "metadata": {},
   "source": [
    "global_r for all"
   ]
  },
  {
   "cell_type": "code",
   "execution_count": 106,
   "id": "b0e4ae67-0fae-43bb-95b6-988ccdc05c76",
   "metadata": {},
   "outputs": [],
   "source": [
    "global_r = ((ligand_mat @ dist)* receptor_mat).sum(axis=1)"
   ]
  },
  {
   "cell_type": "code",
   "execution_count": 107,
   "id": "e261c435-fe6e-4861-950a-00e6e072fc19",
   "metadata": {},
   "outputs": [],
   "source": [
    "lr_res['global_r'] = global_r"
   ]
  },
  {
   "cell_type": "code",
   "execution_count": null,
   "id": "d7f9855f-3ffc-4e3e-acd5-1c6539d87e54",
   "metadata": {},
   "outputs": [],
   "source": []
  },
  {
   "cell_type": "markdown",
   "id": "3f79c530-cd39-4408-aea7-d3fde5aff77e",
   "metadata": {},
   "source": [
    "Create a perm_matrix for all LRs"
   ]
  },
  {
   "cell_type": "markdown",
   "id": "c892fdcd-cc67-4959-93fb-b9a72826fec1",
   "metadata": {},
   "source": [
    "Permutation p-vals"
   ]
  },
  {
   "cell_type": "code",
   "execution_count": 108,
   "id": "cbf8d448-6877-4596-851d-4bbaebbf0e0c",
   "metadata": {},
   "outputs": [],
   "source": [
    "rng = np.random.default_rng()"
   ]
  },
  {
   "cell_type": "code",
   "execution_count": 109,
   "id": "8ae96304-531e-40a2-b8c4-380f4361841c",
   "metadata": {},
   "outputs": [],
   "source": [
    "idx = norm_mat.shape[0]"
   ]
  },
  {
   "cell_type": "code",
   "execution_count": 110,
   "id": "dbb3f2a4-d14f-47ff-b26f-023e0bc6cce1",
   "metadata": {},
   "outputs": [],
   "source": [
    "# mat /w n_perms x LR_n\n",
    "perm_mat = np.zeros((n_perm, global_r.shape[0]))"
   ]
  },
  {
   "cell_type": "code",
   "execution_count": null,
   "id": "1b83951b-009f-4777-9a2e-86730c242b1e",
   "metadata": {},
   "outputs": [],
   "source": []
  },
  {
   "cell_type": "code",
   "execution_count": 111,
   "id": "dd429a7d-52dd-47d3-93d7-99805e71c178",
   "metadata": {},
   "outputs": [
    {
     "name": "stderr",
     "output_type": "stream",
     "text": [
      "100%|██████████| 1000/1000 [00:32<00:00, 30.68it/s]"
     ]
    },
    {
     "name": "stdout",
     "output_type": "stream",
     "text": [
      "CPU times: user 32.7 s, sys: 42.4 ms, total: 32.7 s\n",
      "Wall time: 32.6 s\n"
     ]
    },
    {
     "name": "stderr",
     "output_type": "stream",
     "text": [
      "\n"
     ]
    }
   ],
   "source": [
    "%%time\n",
    "for perm in tqdm(range(n_perm)):\n",
    "    _idx = rng.permutation(idx)\n",
    "    perm_mat[perm,:] = ((ligand_mat[:, _idx] @ dist) * receptor_mat).sum(axis=1)"
   ]
  },
  {
   "cell_type": "code",
   "execution_count": 112,
   "id": "59c460ed-cfec-4636-802e-7dd7fc8d71b7",
   "metadata": {},
   "outputs": [],
   "source": [
    "global_pvals = 1 - (global_r > perm_mat).sum(axis=0)/n_perm"
   ]
  },
  {
   "cell_type": "code",
   "execution_count": 113,
   "id": "95869dcf-e6d7-4acd-994b-daf38f1e337f",
   "metadata": {},
   "outputs": [],
   "source": [
    "lr_res['global_pvals'] = global_pvals"
   ]
  },
  {
   "cell_type": "code",
   "execution_count": null,
   "id": "e7991d84-98bf-49c8-a666-213d5588d535",
   "metadata": {},
   "outputs": [],
   "source": []
  },
  {
   "cell_type": "code",
   "execution_count": null,
   "id": "2055597e-f6f0-4d2c-8da9-3b9018f5fa31",
   "metadata": {},
   "outputs": [],
   "source": []
  },
  {
   "cell_type": "markdown",
   "id": "7d866e53-fe80-4e72-8bf0-a7b304959171",
   "metadata": {},
   "source": [
    "Z-score p-vals"
   ]
  },
  {
   "cell_type": "code",
   "execution_count": 114,
   "id": "bea4b544-8e05-4a2e-8bdb-0235397b492f",
   "metadata": {},
   "outputs": [],
   "source": [
    "from scipy import stats"
   ]
  },
  {
   "cell_type": "code",
   "execution_count": 115,
   "id": "79e079ca-4b58-41e8-8732-6cf7c55360b3",
   "metadata": {},
   "outputs": [],
   "source": [
    "dist = np.array(dist.todense())"
   ]
  },
  {
   "cell_type": "code",
   "execution_count": 116,
   "id": "de57b5cd-612b-4006-9304-942d671c5b7b",
   "metadata": {},
   "outputs": [],
   "source": [
    "# global distance variance (~copy pasted)\n",
    "n = adata.shape[0]\n",
    "nm = (n ** 2 * (dist * dist).sum()) - (2 * n * (dist.sum(axis=1) * dist.sum(axis=0)).sum()) + (dist.sum() ** 2)\n",
    "dm = n ** 2 * (n - 1) ** 2"
   ]
  },
  {
   "cell_type": "code",
   "execution_count": 117,
   "id": "23ba2b73-a833-4731-835f-95f6db843855",
   "metadata": {},
   "outputs": [],
   "source": [
    "# squered variance\n",
    "dist_var = nm/dm  # aka st"
   ]
  },
  {
   "cell_type": "code",
   "execution_count": 118,
   "id": "93940dab-878e-4e21-b547-ce8d150a4bc8",
   "metadata": {},
   "outputs": [],
   "source": [
    "dist_var_sq = dist_var ** (1 / 2)"
   ]
  },
  {
   "cell_type": "code",
   "execution_count": 119,
   "id": "27c01522-04a6-405b-8292-31c5350973d7",
   "metadata": {},
   "outputs": [
    {
     "data": {
      "text/plain": [
       "0.00837473813175262"
      ]
     },
     "execution_count": 119,
     "metadata": {},
     "output_type": "execute_result"
    }
   ],
   "source": [
    "dist_var_sq"
   ]
  },
  {
   "cell_type": "code",
   "execution_count": null,
   "id": "4e312e41-43fe-4fb1-92ce-a07ab58965f6",
   "metadata": {},
   "outputs": [],
   "source": []
  },
  {
   "cell_type": "code",
   "execution_count": 120,
   "id": "9fa2dc3f-9aba-49e1-aead-22c5999d420a",
   "metadata": {},
   "outputs": [],
   "source": [
    "global_zscores = global_r / dist_var_sq"
   ]
  },
  {
   "cell_type": "code",
   "execution_count": 121,
   "id": "8bd5718b-25b3-498a-9698-b5f93cafc7c8",
   "metadata": {},
   "outputs": [],
   "source": [
    "global_zpvals = stats.norm.sf(global_zscores)"
   ]
  },
  {
   "cell_type": "code",
   "execution_count": null,
   "id": "dd88291a-3c40-4ce9-a2c8-ff5470a87326",
   "metadata": {},
   "outputs": [],
   "source": []
  },
  {
   "cell_type": "code",
   "execution_count": 122,
   "id": "ef9752b2-6e83-4071-b7c3-7ee1cb44390f",
   "metadata": {},
   "outputs": [],
   "source": [
    "# assign to LR\n",
    "lr_res['global_zscores'] = global_zscores"
   ]
  },
  {
   "cell_type": "code",
   "execution_count": 123,
   "id": "20f7459a-58cc-4f53-bc97-2a09c1faa114",
   "metadata": {},
   "outputs": [],
   "source": [
    "lr_res['global_zpvals'] = global_zpvals"
   ]
  },
  {
   "cell_type": "code",
   "execution_count": null,
   "id": "9bdad689-d64c-4418-8993-c3f55998f6fe",
   "metadata": {},
   "outputs": [],
   "source": []
  },
  {
   "cell_type": "code",
   "execution_count": null,
   "id": "4dabe797-f247-4f00-bdac-d3471f47a95c",
   "metadata": {},
   "outputs": [],
   "source": []
  },
  {
   "cell_type": "markdown",
   "id": "af4311ca-3c3e-4e55-b896-dcb364165135",
   "metadata": {},
   "source": [
    "Compare global"
   ]
  },
  {
   "cell_type": "code",
   "execution_count": 124,
   "id": "6ff518bd-1d79-40c9-809d-f65d3c0b9d96",
   "metadata": {},
   "outputs": [
    {
     "name": "stderr",
     "output_type": "stream",
     "text": [
      "<ipython-input-124-b09654ff13ad>:2: FutureWarning: The default value of regex will change from True to False in a future version. In addition, single character regular expressions will *not* be treated as literal strings when regex=True.\n"
     ]
    }
   ],
   "source": [
    "lr_res.interaction = lr_res.interaction.str.upper()\n",
    "lr_res.interaction = lr_res.interaction.str.replace('|', '_')"
   ]
  },
  {
   "cell_type": "code",
   "execution_count": 125,
   "id": "fd60e83e-ed66-43f9-8f67-f046b9879ff6",
   "metadata": {},
   "outputs": [],
   "source": [
    "res = res.reset_index().rename(columns={'index':'interaction'})"
   ]
  },
  {
   "cell_type": "code",
   "execution_count": 126,
   "id": "a977c151-1941-4185-93d9-fda2ee172a6c",
   "metadata": {},
   "outputs": [],
   "source": [
    "res = res[[len(rec) < 2 for rec in res.receptor]]"
   ]
  },
  {
   "cell_type": "code",
   "execution_count": null,
   "id": "b6836dc2-d805-4c87-accb-8b88118a1092",
   "metadata": {},
   "outputs": [],
   "source": []
  },
  {
   "cell_type": "code",
   "execution_count": 127,
   "id": "5149a40e-beb0-490e-b688-ebca13c397dc",
   "metadata": {},
   "outputs": [
    {
     "data": {
      "text/html": [
       "<div>\n",
       "<style scoped>\n",
       "    .dataframe tbody tr th:only-of-type {\n",
       "        vertical-align: middle;\n",
       "    }\n",
       "\n",
       "    .dataframe tbody tr th {\n",
       "        vertical-align: top;\n",
       "    }\n",
       "\n",
       "    .dataframe thead th {\n",
       "        text-align: right;\n",
       "    }\n",
       "</style>\n",
       "<table border=\"1\" class=\"dataframe\">\n",
       "  <thead>\n",
       "    <tr style=\"text-align: right;\">\n",
       "      <th></th>\n",
       "      <th>interaction</th>\n",
       "      <th>ligand</th>\n",
       "      <th>receptor</th>\n",
       "      <th>ligand_complex</th>\n",
       "      <th>receptor_complex</th>\n",
       "      <th>ligand_means</th>\n",
       "      <th>ligand_props</th>\n",
       "      <th>receptor_means</th>\n",
       "      <th>receptor_props</th>\n",
       "      <th>prop_min</th>\n",
       "      <th>global_r</th>\n",
       "      <th>global_pvals</th>\n",
       "      <th>global_zscores</th>\n",
       "      <th>global_zpvals</th>\n",
       "    </tr>\n",
       "  </thead>\n",
       "  <tbody>\n",
       "    <tr>\n",
       "      <th>1222</th>\n",
       "      <td>SEMA4D_PLXNB3</td>\n",
       "      <td>Sema4d</td>\n",
       "      <td>Plxnb3</td>\n",
       "      <td>Sema4d</td>\n",
       "      <td>Plxnb3</td>\n",
       "      <td>0.544131</td>\n",
       "      <td>0.524554</td>\n",
       "      <td>0.190867</td>\n",
       "      <td>0.219866</td>\n",
       "      <td>0.219866</td>\n",
       "      <td>0.311746</td>\n",
       "      <td>0.0</td>\n",
       "      <td>37.224617</td>\n",
       "      <td>1.364241e-303</td>\n",
       "    </tr>\n",
       "  </tbody>\n",
       "</table>\n",
       "</div>"
      ],
      "text/plain": [
       "        interaction  ligand receptor ligand_complex receptor_complex  \\\n",
       "1222  SEMA4D_PLXNB3  Sema4d   Plxnb3         Sema4d           Plxnb3   \n",
       "\n",
       "      ligand_means  ligand_props  receptor_means  receptor_props  prop_min  \\\n",
       "1222      0.544131      0.524554        0.190867        0.219866  0.219866   \n",
       "\n",
       "      global_r  global_pvals  global_zscores  global_zpvals  \n",
       "1222  0.311746           0.0       37.224617  1.364241e-303  "
      ]
     },
     "execution_count": 127,
     "metadata": {},
     "output_type": "execute_result"
    }
   ],
   "source": [
    "lr_res[lr_res.interaction==\"SEMA4D_PLXNB3\"]"
   ]
  },
  {
   "cell_type": "code",
   "execution_count": 128,
   "id": "a2caf866-f52f-4436-b050-94bef6a6acbb",
   "metadata": {},
   "outputs": [
    {
     "data": {
      "text/html": [
       "<div>\n",
       "<style scoped>\n",
       "    .dataframe tbody tr th:only-of-type {\n",
       "        vertical-align: middle;\n",
       "    }\n",
       "\n",
       "    .dataframe tbody tr th {\n",
       "        vertical-align: top;\n",
       "    }\n",
       "\n",
       "    .dataframe thead th {\n",
       "        text-align: right;\n",
       "    }\n",
       "</style>\n",
       "<table border=\"1\" class=\"dataframe\">\n",
       "  <thead>\n",
       "    <tr style=\"text-align: right;\">\n",
       "      <th></th>\n",
       "      <th>interaction</th>\n",
       "      <th>ligand</th>\n",
       "      <th>receptor</th>\n",
       "      <th>z_pval</th>\n",
       "      <th>perm_pval</th>\n",
       "      <th>fdr</th>\n",
       "      <th>selected</th>\n",
       "      <th>global_I</th>\n",
       "    </tr>\n",
       "  </thead>\n",
       "  <tbody>\n",
       "    <tr>\n",
       "      <th>1481</th>\n",
       "      <td>SEMA4D_PLXNB3</td>\n",
       "      <td>[Sema4d]</td>\n",
       "      <td>[Plxnb3]</td>\n",
       "      <td>1.360399e-303</td>\n",
       "      <td>0.0</td>\n",
       "      <td>0.0</td>\n",
       "      <td>True</td>\n",
       "      <td>0.311747</td>\n",
       "    </tr>\n",
       "  </tbody>\n",
       "</table>\n",
       "</div>"
      ],
      "text/plain": [
       "        interaction    ligand  receptor         z_pval  perm_pval  fdr  \\\n",
       "1481  SEMA4D_PLXNB3  [Sema4d]  [Plxnb3]  1.360399e-303        0.0  0.0   \n",
       "\n",
       "      selected  global_I  \n",
       "1481      True  0.311747  "
      ]
     },
     "execution_count": 128,
     "metadata": {},
     "output_type": "execute_result"
    }
   ],
   "source": [
    "res[res.interaction==\"SEMA4D_PLXNB3\"]"
   ]
  },
  {
   "cell_type": "code",
   "execution_count": null,
   "id": "fd051e39-6912-45b8-bba5-a2ca93583a05",
   "metadata": {},
   "outputs": [],
   "source": []
  },
  {
   "cell_type": "code",
   "execution_count": null,
   "id": "238c9268-2ec1-44bc-b855-a8a5ed4f65f1",
   "metadata": {},
   "outputs": [],
   "source": []
  },
  {
   "cell_type": "code",
   "execution_count": 129,
   "id": "bdd3ccdb-69f7-4663-bf00-572c03395329",
   "metadata": {},
   "outputs": [],
   "source": [
    "joined = lr_res.merge(res, on='interaction')"
   ]
  },
  {
   "cell_type": "code",
   "execution_count": 130,
   "id": "c527f15b-d2e5-44b7-a47b-d3094b4ddd40",
   "metadata": {},
   "outputs": [
    {
     "data": {
      "text/html": [
       "<div>\n",
       "<style scoped>\n",
       "    .dataframe tbody tr th:only-of-type {\n",
       "        vertical-align: middle;\n",
       "    }\n",
       "\n",
       "    .dataframe tbody tr th {\n",
       "        vertical-align: top;\n",
       "    }\n",
       "\n",
       "    .dataframe thead th {\n",
       "        text-align: right;\n",
       "    }\n",
       "</style>\n",
       "<table border=\"1\" class=\"dataframe\">\n",
       "  <thead>\n",
       "    <tr style=\"text-align: right;\">\n",
       "      <th></th>\n",
       "      <th>interaction</th>\n",
       "      <th>ligand_x</th>\n",
       "      <th>receptor_x</th>\n",
       "      <th>ligand_complex</th>\n",
       "      <th>receptor_complex</th>\n",
       "      <th>ligand_means</th>\n",
       "      <th>ligand_props</th>\n",
       "      <th>receptor_means</th>\n",
       "      <th>receptor_props</th>\n",
       "      <th>prop_min</th>\n",
       "      <th>...</th>\n",
       "      <th>global_pvals</th>\n",
       "      <th>global_zscores</th>\n",
       "      <th>global_zpvals</th>\n",
       "      <th>ligand_y</th>\n",
       "      <th>receptor_y</th>\n",
       "      <th>z_pval</th>\n",
       "      <th>perm_pval</th>\n",
       "      <th>fdr</th>\n",
       "      <th>selected</th>\n",
       "      <th>global_I</th>\n",
       "    </tr>\n",
       "  </thead>\n",
       "  <tbody>\n",
       "    <tr>\n",
       "      <th>171</th>\n",
       "      <td>AGT_MAS1</td>\n",
       "      <td>Agt</td>\n",
       "      <td>Mas1</td>\n",
       "      <td>Agt</td>\n",
       "      <td>Mas1</td>\n",
       "      <td>1.153787</td>\n",
       "      <td>0.687128</td>\n",
       "      <td>0.136406</td>\n",
       "      <td>0.172619</td>\n",
       "      <td>0.172619</td>\n",
       "      <td>...</td>\n",
       "      <td>1.0</td>\n",
       "      <td>-31.603155</td>\n",
       "      <td>1.000000e+00</td>\n",
       "      <td>[Agt]</td>\n",
       "      <td>[Mas1]</td>\n",
       "      <td>1.000000e+00</td>\n",
       "      <td>1.0</td>\n",
       "      <td>1.0</td>\n",
       "      <td>False</td>\n",
       "      <td>-0.264667</td>\n",
       "    </tr>\n",
       "    <tr>\n",
       "      <th>87</th>\n",
       "      <td>EFNB3_EPHA4</td>\n",
       "      <td>Efnb3</td>\n",
       "      <td>Epha4</td>\n",
       "      <td>Efnb3</td>\n",
       "      <td>Epha4</td>\n",
       "      <td>1.000509</td>\n",
       "      <td>0.746652</td>\n",
       "      <td>1.053368</td>\n",
       "      <td>0.803199</td>\n",
       "      <td>0.746652</td>\n",
       "      <td>...</td>\n",
       "      <td>1.0</td>\n",
       "      <td>-26.919550</td>\n",
       "      <td>1.000000e+00</td>\n",
       "      <td>[Efnb3]</td>\n",
       "      <td>[Epha4]</td>\n",
       "      <td>1.000000e+00</td>\n",
       "      <td>1.0</td>\n",
       "      <td>1.0</td>\n",
       "      <td>False</td>\n",
       "      <td>-0.225444</td>\n",
       "    </tr>\n",
       "    <tr>\n",
       "      <th>71</th>\n",
       "      <td>EFNB3_EPHB6</td>\n",
       "      <td>Efnb3</td>\n",
       "      <td>Ephb6</td>\n",
       "      <td>Efnb3</td>\n",
       "      <td>Ephb6</td>\n",
       "      <td>1.000509</td>\n",
       "      <td>0.746652</td>\n",
       "      <td>0.556755</td>\n",
       "      <td>0.571429</td>\n",
       "      <td>0.571429</td>\n",
       "      <td>...</td>\n",
       "      <td>1.0</td>\n",
       "      <td>-24.620005</td>\n",
       "      <td>1.000000e+00</td>\n",
       "      <td>[Efnb3]</td>\n",
       "      <td>[Ephb6]</td>\n",
       "      <td>1.000000e+00</td>\n",
       "      <td>1.0</td>\n",
       "      <td>1.0</td>\n",
       "      <td>False</td>\n",
       "      <td>-0.206187</td>\n",
       "    </tr>\n",
       "    <tr>\n",
       "      <th>219</th>\n",
       "      <td>PSAP_GPR37</td>\n",
       "      <td>Psap</td>\n",
       "      <td>Gpr37</td>\n",
       "      <td>Psap</td>\n",
       "      <td>Gpr37</td>\n",
       "      <td>3.318095</td>\n",
       "      <td>0.999628</td>\n",
       "      <td>0.798705</td>\n",
       "      <td>0.622396</td>\n",
       "      <td>0.622396</td>\n",
       "      <td>...</td>\n",
       "      <td>1.0</td>\n",
       "      <td>-22.599236</td>\n",
       "      <td>1.000000e+00</td>\n",
       "      <td>[Psap]</td>\n",
       "      <td>[Gpr37]</td>\n",
       "      <td>1.000000e+00</td>\n",
       "      <td>1.0</td>\n",
       "      <td>1.0</td>\n",
       "      <td>False</td>\n",
       "      <td>-0.189263</td>\n",
       "    </tr>\n",
       "    <tr>\n",
       "      <th>220</th>\n",
       "      <td>PSAP_GPR37L1</td>\n",
       "      <td>Psap</td>\n",
       "      <td>Gpr37l1</td>\n",
       "      <td>Psap</td>\n",
       "      <td>Gpr37l1</td>\n",
       "      <td>3.318095</td>\n",
       "      <td>0.999628</td>\n",
       "      <td>1.765455</td>\n",
       "      <td>0.977307</td>\n",
       "      <td>0.977307</td>\n",
       "      <td>...</td>\n",
       "      <td>1.0</td>\n",
       "      <td>-19.868069</td>\n",
       "      <td>1.000000e+00</td>\n",
       "      <td>[Psap]</td>\n",
       "      <td>[Gpr37l1]</td>\n",
       "      <td>1.000000e+00</td>\n",
       "      <td>1.0</td>\n",
       "      <td>1.0</td>\n",
       "      <td>False</td>\n",
       "      <td>-0.166390</td>\n",
       "    </tr>\n",
       "    <tr>\n",
       "      <th>...</th>\n",
       "      <td>...</td>\n",
       "      <td>...</td>\n",
       "      <td>...</td>\n",
       "      <td>...</td>\n",
       "      <td>...</td>\n",
       "      <td>...</td>\n",
       "      <td>...</td>\n",
       "      <td>...</td>\n",
       "      <td>...</td>\n",
       "      <td>...</td>\n",
       "      <td>...</td>\n",
       "      <td>...</td>\n",
       "      <td>...</td>\n",
       "      <td>...</td>\n",
       "      <td>...</td>\n",
       "      <td>...</td>\n",
       "      <td>...</td>\n",
       "      <td>...</td>\n",
       "      <td>...</td>\n",
       "      <td>...</td>\n",
       "      <td>...</td>\n",
       "    </tr>\n",
       "    <tr>\n",
       "      <th>89</th>\n",
       "      <td>EFNA3_EPHA4</td>\n",
       "      <td>Efna3</td>\n",
       "      <td>Epha4</td>\n",
       "      <td>Efna3</td>\n",
       "      <td>Epha4</td>\n",
       "      <td>0.569363</td>\n",
       "      <td>0.597470</td>\n",
       "      <td>1.053368</td>\n",
       "      <td>0.803199</td>\n",
       "      <td>0.597470</td>\n",
       "      <td>...</td>\n",
       "      <td>0.0</td>\n",
       "      <td>21.477688</td>\n",
       "      <td>1.258641e-102</td>\n",
       "      <td>[Efna3]</td>\n",
       "      <td>[Epha4]</td>\n",
       "      <td>1.259737e-102</td>\n",
       "      <td>0.0</td>\n",
       "      <td>0.0</td>\n",
       "      <td>True</td>\n",
       "      <td>0.179870</td>\n",
       "    </tr>\n",
       "    <tr>\n",
       "      <th>65</th>\n",
       "      <td>FGF1_FGFR2</td>\n",
       "      <td>Fgf1</td>\n",
       "      <td>Fgfr2</td>\n",
       "      <td>Fgf1</td>\n",
       "      <td>Fgfr2</td>\n",
       "      <td>0.509576</td>\n",
       "      <td>0.533110</td>\n",
       "      <td>0.460559</td>\n",
       "      <td>0.448289</td>\n",
       "      <td>0.448289</td>\n",
       "      <td>...</td>\n",
       "      <td>0.0</td>\n",
       "      <td>25.912191</td>\n",
       "      <td>2.426929e-148</td>\n",
       "      <td>[Fgf1]</td>\n",
       "      <td>[Fgfr2]</td>\n",
       "      <td>2.441312e-148</td>\n",
       "      <td>0.0</td>\n",
       "      <td>0.0</td>\n",
       "      <td>True</td>\n",
       "      <td>0.217006</td>\n",
       "    </tr>\n",
       "    <tr>\n",
       "      <th>82</th>\n",
       "      <td>EFNB3_EPHB1</td>\n",
       "      <td>Efnb3</td>\n",
       "      <td>Ephb1</td>\n",
       "      <td>Efnb3</td>\n",
       "      <td>Ephb1</td>\n",
       "      <td>1.000509</td>\n",
       "      <td>0.746652</td>\n",
       "      <td>0.332816</td>\n",
       "      <td>0.390625</td>\n",
       "      <td>0.390625</td>\n",
       "      <td>...</td>\n",
       "      <td>0.0</td>\n",
       "      <td>27.847652</td>\n",
       "      <td>5.750031e-171</td>\n",
       "      <td>[Efnb3]</td>\n",
       "      <td>[Ephb1]</td>\n",
       "      <td>5.718337e-171</td>\n",
       "      <td>0.0</td>\n",
       "      <td>0.0</td>\n",
       "      <td>True</td>\n",
       "      <td>0.233218</td>\n",
       "    </tr>\n",
       "    <tr>\n",
       "      <th>192</th>\n",
       "      <td>CCK_CCKBR</td>\n",
       "      <td>Cck</td>\n",
       "      <td>Cckbr</td>\n",
       "      <td>Cck</td>\n",
       "      <td>Cckbr</td>\n",
       "      <td>2.622576</td>\n",
       "      <td>0.947917</td>\n",
       "      <td>0.295722</td>\n",
       "      <td>0.344494</td>\n",
       "      <td>0.344494</td>\n",
       "      <td>...</td>\n",
       "      <td>0.0</td>\n",
       "      <td>31.825768</td>\n",
       "      <td>1.424687e-222</td>\n",
       "      <td>[Cck]</td>\n",
       "      <td>[Cckbr]</td>\n",
       "      <td>1.411138e-222</td>\n",
       "      <td>0.0</td>\n",
       "      <td>0.0</td>\n",
       "      <td>True</td>\n",
       "      <td>0.266535</td>\n",
       "    </tr>\n",
       "    <tr>\n",
       "      <th>117</th>\n",
       "      <td>SEMA4D_PLXNB3</td>\n",
       "      <td>Sema4d</td>\n",
       "      <td>Plxnb3</td>\n",
       "      <td>Sema4d</td>\n",
       "      <td>Plxnb3</td>\n",
       "      <td>0.544131</td>\n",
       "      <td>0.524554</td>\n",
       "      <td>0.190867</td>\n",
       "      <td>0.219866</td>\n",
       "      <td>0.219866</td>\n",
       "      <td>...</td>\n",
       "      <td>0.0</td>\n",
       "      <td>37.224617</td>\n",
       "      <td>1.364241e-303</td>\n",
       "      <td>[Sema4d]</td>\n",
       "      <td>[Plxnb3]</td>\n",
       "      <td>1.360399e-303</td>\n",
       "      <td>0.0</td>\n",
       "      <td>0.0</td>\n",
       "      <td>True</td>\n",
       "      <td>0.311747</td>\n",
       "    </tr>\n",
       "  </tbody>\n",
       "</table>\n",
       "<p>223 rows × 21 columns</p>\n",
       "</div>"
      ],
      "text/plain": [
       "       interaction ligand_x receptor_x ligand_complex receptor_complex  \\\n",
       "171       AGT_MAS1      Agt       Mas1            Agt             Mas1   \n",
       "87     EFNB3_EPHA4    Efnb3      Epha4          Efnb3            Epha4   \n",
       "71     EFNB3_EPHB6    Efnb3      Ephb6          Efnb3            Ephb6   \n",
       "219     PSAP_GPR37     Psap      Gpr37           Psap            Gpr37   \n",
       "220   PSAP_GPR37L1     Psap    Gpr37l1           Psap          Gpr37l1   \n",
       "..             ...      ...        ...            ...              ...   \n",
       "89     EFNA3_EPHA4    Efna3      Epha4          Efna3            Epha4   \n",
       "65      FGF1_FGFR2     Fgf1      Fgfr2           Fgf1            Fgfr2   \n",
       "82     EFNB3_EPHB1    Efnb3      Ephb1          Efnb3            Ephb1   \n",
       "192      CCK_CCKBR      Cck      Cckbr            Cck            Cckbr   \n",
       "117  SEMA4D_PLXNB3   Sema4d     Plxnb3         Sema4d           Plxnb3   \n",
       "\n",
       "     ligand_means  ligand_props  receptor_means  receptor_props  prop_min  \\\n",
       "171      1.153787      0.687128        0.136406        0.172619  0.172619   \n",
       "87       1.000509      0.746652        1.053368        0.803199  0.746652   \n",
       "71       1.000509      0.746652        0.556755        0.571429  0.571429   \n",
       "219      3.318095      0.999628        0.798705        0.622396  0.622396   \n",
       "220      3.318095      0.999628        1.765455        0.977307  0.977307   \n",
       "..            ...           ...             ...             ...       ...   \n",
       "89       0.569363      0.597470        1.053368        0.803199  0.597470   \n",
       "65       0.509576      0.533110        0.460559        0.448289  0.448289   \n",
       "82       1.000509      0.746652        0.332816        0.390625  0.390625   \n",
       "192      2.622576      0.947917        0.295722        0.344494  0.344494   \n",
       "117      0.544131      0.524554        0.190867        0.219866  0.219866   \n",
       "\n",
       "     ...  global_pvals  global_zscores  global_zpvals  ligand_y receptor_y  \\\n",
       "171  ...           1.0      -31.603155   1.000000e+00     [Agt]     [Mas1]   \n",
       "87   ...           1.0      -26.919550   1.000000e+00   [Efnb3]    [Epha4]   \n",
       "71   ...           1.0      -24.620005   1.000000e+00   [Efnb3]    [Ephb6]   \n",
       "219  ...           1.0      -22.599236   1.000000e+00    [Psap]    [Gpr37]   \n",
       "220  ...           1.0      -19.868069   1.000000e+00    [Psap]  [Gpr37l1]   \n",
       "..   ...           ...             ...            ...       ...        ...   \n",
       "89   ...           0.0       21.477688  1.258641e-102   [Efna3]    [Epha4]   \n",
       "65   ...           0.0       25.912191  2.426929e-148    [Fgf1]    [Fgfr2]   \n",
       "82   ...           0.0       27.847652  5.750031e-171   [Efnb3]    [Ephb1]   \n",
       "192  ...           0.0       31.825768  1.424687e-222     [Cck]    [Cckbr]   \n",
       "117  ...           0.0       37.224617  1.364241e-303  [Sema4d]   [Plxnb3]   \n",
       "\n",
       "            z_pval  perm_pval  fdr  selected  global_I  \n",
       "171   1.000000e+00        1.0  1.0     False -0.264667  \n",
       "87    1.000000e+00        1.0  1.0     False -0.225444  \n",
       "71    1.000000e+00        1.0  1.0     False -0.206187  \n",
       "219   1.000000e+00        1.0  1.0     False -0.189263  \n",
       "220   1.000000e+00        1.0  1.0     False -0.166390  \n",
       "..             ...        ...  ...       ...       ...  \n",
       "89   1.259737e-102        0.0  0.0      True  0.179870  \n",
       "65   2.441312e-148        0.0  0.0      True  0.217006  \n",
       "82   5.718337e-171        0.0  0.0      True  0.233218  \n",
       "192  1.411138e-222        0.0  0.0      True  0.266535  \n",
       "117  1.360399e-303        0.0  0.0      True  0.311747  \n",
       "\n",
       "[223 rows x 21 columns]"
      ]
     },
     "execution_count": 130,
     "metadata": {},
     "output_type": "execute_result"
    }
   ],
   "source": [
    "joined.sort_values('global_r')"
   ]
  },
  {
   "cell_type": "code",
   "execution_count": 131,
   "id": "dfb87b39-bb10-4585-a42e-895d5922e980",
   "metadata": {},
   "outputs": [],
   "source": [
    "import scipy"
   ]
  },
  {
   "cell_type": "code",
   "execution_count": 132,
   "id": "b0e0943b-8638-4e20-bac8-659d4e291b54",
   "metadata": {},
   "outputs": [
    {
     "data": {
      "text/html": [
       "<div>\n",
       "<style scoped>\n",
       "    .dataframe tbody tr th:only-of-type {\n",
       "        vertical-align: middle;\n",
       "    }\n",
       "\n",
       "    .dataframe tbody tr th {\n",
       "        vertical-align: top;\n",
       "    }\n",
       "\n",
       "    .dataframe thead th {\n",
       "        text-align: right;\n",
       "    }\n",
       "</style>\n",
       "<table border=\"1\" class=\"dataframe\">\n",
       "  <thead>\n",
       "    <tr style=\"text-align: right;\">\n",
       "      <th></th>\n",
       "      <th>interaction</th>\n",
       "      <th>ligand_x</th>\n",
       "      <th>receptor_x</th>\n",
       "      <th>ligand_complex</th>\n",
       "      <th>receptor_complex</th>\n",
       "      <th>ligand_means</th>\n",
       "      <th>ligand_props</th>\n",
       "      <th>receptor_means</th>\n",
       "      <th>receptor_props</th>\n",
       "      <th>prop_min</th>\n",
       "      <th>...</th>\n",
       "      <th>global_pvals</th>\n",
       "      <th>global_zscores</th>\n",
       "      <th>global_zpvals</th>\n",
       "      <th>ligand_y</th>\n",
       "      <th>receptor_y</th>\n",
       "      <th>z_pval</th>\n",
       "      <th>perm_pval</th>\n",
       "      <th>fdr</th>\n",
       "      <th>selected</th>\n",
       "      <th>global_I</th>\n",
       "    </tr>\n",
       "  </thead>\n",
       "  <tbody>\n",
       "    <tr>\n",
       "      <th>0</th>\n",
       "      <td>DLL1_NOTCH1</td>\n",
       "      <td>Dll1</td>\n",
       "      <td>Notch1</td>\n",
       "      <td>Dll1</td>\n",
       "      <td>Notch1</td>\n",
       "      <td>0.037283</td>\n",
       "      <td>0.057292</td>\n",
       "      <td>0.216689</td>\n",
       "      <td>0.276786</td>\n",
       "      <td>0.057292</td>\n",
       "      <td>...</td>\n",
       "      <td>0.135</td>\n",
       "      <td>1.228862</td>\n",
       "      <td>1.095617e-01</td>\n",
       "      <td>[Dll1]</td>\n",
       "      <td>[Notch1]</td>\n",
       "      <td>1.095618e-01</td>\n",
       "      <td>0.142</td>\n",
       "      <td>0.314697</td>\n",
       "      <td>False</td>\n",
       "      <td>0.010291</td>\n",
       "    </tr>\n",
       "    <tr>\n",
       "      <th>1</th>\n",
       "      <td>JAG1_NOTCH1</td>\n",
       "      <td>Jag1</td>\n",
       "      <td>Notch1</td>\n",
       "      <td>Jag1</td>\n",
       "      <td>Notch1</td>\n",
       "      <td>0.051299</td>\n",
       "      <td>0.075893</td>\n",
       "      <td>0.216689</td>\n",
       "      <td>0.276786</td>\n",
       "      <td>0.075893</td>\n",
       "      <td>...</td>\n",
       "      <td>0.606</td>\n",
       "      <td>-0.287137</td>\n",
       "      <td>6.129963e-01</td>\n",
       "      <td>[Jag1]</td>\n",
       "      <td>[Notch1]</td>\n",
       "      <td>6.129979e-01</td>\n",
       "      <td>0.576</td>\n",
       "      <td>0.869772</td>\n",
       "      <td>False</td>\n",
       "      <td>-0.002405</td>\n",
       "    </tr>\n",
       "    <tr>\n",
       "      <th>2</th>\n",
       "      <td>DLK1_NOTCH1</td>\n",
       "      <td>Dlk1</td>\n",
       "      <td>Notch1</td>\n",
       "      <td>Dlk1</td>\n",
       "      <td>Notch1</td>\n",
       "      <td>0.236641</td>\n",
       "      <td>0.213542</td>\n",
       "      <td>0.216689</td>\n",
       "      <td>0.276786</td>\n",
       "      <td>0.213542</td>\n",
       "      <td>...</td>\n",
       "      <td>0.989</td>\n",
       "      <td>-2.400463</td>\n",
       "      <td>9.918128e-01</td>\n",
       "      <td>[Dlk1]</td>\n",
       "      <td>[Notch1]</td>\n",
       "      <td>9.918127e-01</td>\n",
       "      <td>0.990</td>\n",
       "      <td>1.000000</td>\n",
       "      <td>False</td>\n",
       "      <td>-0.020103</td>\n",
       "    </tr>\n",
       "    <tr>\n",
       "      <th>3</th>\n",
       "      <td>DLL3_NOTCH1</td>\n",
       "      <td>Dll3</td>\n",
       "      <td>Notch1</td>\n",
       "      <td>Dll3</td>\n",
       "      <td>Notch1</td>\n",
       "      <td>0.108551</td>\n",
       "      <td>0.161086</td>\n",
       "      <td>0.216689</td>\n",
       "      <td>0.276786</td>\n",
       "      <td>0.161086</td>\n",
       "      <td>...</td>\n",
       "      <td>0.982</td>\n",
       "      <td>-2.322272</td>\n",
       "      <td>9.898909e-01</td>\n",
       "      <td>[Dll3]</td>\n",
       "      <td>[Notch1]</td>\n",
       "      <td>9.898906e-01</td>\n",
       "      <td>0.991</td>\n",
       "      <td>1.000000</td>\n",
       "      <td>False</td>\n",
       "      <td>-0.019448</td>\n",
       "    </tr>\n",
       "    <tr>\n",
       "      <th>4</th>\n",
       "      <td>JAG2_NOTCH1</td>\n",
       "      <td>Jag2</td>\n",
       "      <td>Notch1</td>\n",
       "      <td>Jag2</td>\n",
       "      <td>Notch1</td>\n",
       "      <td>0.273678</td>\n",
       "      <td>0.364583</td>\n",
       "      <td>0.216689</td>\n",
       "      <td>0.276786</td>\n",
       "      <td>0.276786</td>\n",
       "      <td>...</td>\n",
       "      <td>1.000</td>\n",
       "      <td>-4.523731</td>\n",
       "      <td>9.999970e-01</td>\n",
       "      <td>[Jag2]</td>\n",
       "      <td>[Notch1]</td>\n",
       "      <td>9.999970e-01</td>\n",
       "      <td>1.000</td>\n",
       "      <td>1.000000</td>\n",
       "      <td>False</td>\n",
       "      <td>-0.037885</td>\n",
       "    </tr>\n",
       "    <tr>\n",
       "      <th>...</th>\n",
       "      <td>...</td>\n",
       "      <td>...</td>\n",
       "      <td>...</td>\n",
       "      <td>...</td>\n",
       "      <td>...</td>\n",
       "      <td>...</td>\n",
       "      <td>...</td>\n",
       "      <td>...</td>\n",
       "      <td>...</td>\n",
       "      <td>...</td>\n",
       "      <td>...</td>\n",
       "      <td>...</td>\n",
       "      <td>...</td>\n",
       "      <td>...</td>\n",
       "      <td>...</td>\n",
       "      <td>...</td>\n",
       "      <td>...</td>\n",
       "      <td>...</td>\n",
       "      <td>...</td>\n",
       "      <td>...</td>\n",
       "      <td>...</td>\n",
       "    </tr>\n",
       "    <tr>\n",
       "      <th>218</th>\n",
       "      <td>ENTPD1_ADORA1</td>\n",
       "      <td>Entpd1</td>\n",
       "      <td>Adora1</td>\n",
       "      <td>Entpd1</td>\n",
       "      <td>Adora1</td>\n",
       "      <td>0.089811</td>\n",
       "      <td>0.128720</td>\n",
       "      <td>0.846592</td>\n",
       "      <td>0.736979</td>\n",
       "      <td>0.128720</td>\n",
       "      <td>...</td>\n",
       "      <td>0.365</td>\n",
       "      <td>0.517597</td>\n",
       "      <td>3.023697e-01</td>\n",
       "      <td>[Entpd1]</td>\n",
       "      <td>[Adora1]</td>\n",
       "      <td>3.023686e-01</td>\n",
       "      <td>0.347</td>\n",
       "      <td>0.608730</td>\n",
       "      <td>False</td>\n",
       "      <td>0.004335</td>\n",
       "    </tr>\n",
       "    <tr>\n",
       "      <th>219</th>\n",
       "      <td>PSAP_GPR37</td>\n",
       "      <td>Psap</td>\n",
       "      <td>Gpr37</td>\n",
       "      <td>Psap</td>\n",
       "      <td>Gpr37</td>\n",
       "      <td>3.318095</td>\n",
       "      <td>0.999628</td>\n",
       "      <td>0.798705</td>\n",
       "      <td>0.622396</td>\n",
       "      <td>0.622396</td>\n",
       "      <td>...</td>\n",
       "      <td>1.000</td>\n",
       "      <td>-22.599236</td>\n",
       "      <td>1.000000e+00</td>\n",
       "      <td>[Psap]</td>\n",
       "      <td>[Gpr37]</td>\n",
       "      <td>1.000000e+00</td>\n",
       "      <td>1.000</td>\n",
       "      <td>1.000000</td>\n",
       "      <td>False</td>\n",
       "      <td>-0.189263</td>\n",
       "    </tr>\n",
       "    <tr>\n",
       "      <th>220</th>\n",
       "      <td>PSAP_GPR37L1</td>\n",
       "      <td>Psap</td>\n",
       "      <td>Gpr37l1</td>\n",
       "      <td>Psap</td>\n",
       "      <td>Gpr37l1</td>\n",
       "      <td>3.318095</td>\n",
       "      <td>0.999628</td>\n",
       "      <td>1.765455</td>\n",
       "      <td>0.977307</td>\n",
       "      <td>0.977307</td>\n",
       "      <td>...</td>\n",
       "      <td>1.000</td>\n",
       "      <td>-19.868069</td>\n",
       "      <td>1.000000e+00</td>\n",
       "      <td>[Psap]</td>\n",
       "      <td>[Gpr37l1]</td>\n",
       "      <td>1.000000e+00</td>\n",
       "      <td>1.000</td>\n",
       "      <td>1.000000</td>\n",
       "      <td>False</td>\n",
       "      <td>-0.166390</td>\n",
       "    </tr>\n",
       "    <tr>\n",
       "      <th>221</th>\n",
       "      <td>TAC1_TACR1</td>\n",
       "      <td>Tac1</td>\n",
       "      <td>Tacr1</td>\n",
       "      <td>Tac1</td>\n",
       "      <td>Tacr1</td>\n",
       "      <td>0.364385</td>\n",
       "      <td>0.326637</td>\n",
       "      <td>0.046681</td>\n",
       "      <td>0.070685</td>\n",
       "      <td>0.070685</td>\n",
       "      <td>...</td>\n",
       "      <td>0.000</td>\n",
       "      <td>20.172024</td>\n",
       "      <td>8.621802e-91</td>\n",
       "      <td>[Tac1]</td>\n",
       "      <td>[Tacr1]</td>\n",
       "      <td>8.611413e-91</td>\n",
       "      <td>0.000</td>\n",
       "      <td>0.000000</td>\n",
       "      <td>True</td>\n",
       "      <td>0.168936</td>\n",
       "    </tr>\n",
       "    <tr>\n",
       "      <th>222</th>\n",
       "      <td>ENTPD1_ADORA2A</td>\n",
       "      <td>Entpd1</td>\n",
       "      <td>Adora2a</td>\n",
       "      <td>Entpd1</td>\n",
       "      <td>Adora2a</td>\n",
       "      <td>0.089811</td>\n",
       "      <td>0.128720</td>\n",
       "      <td>0.084994</td>\n",
       "      <td>0.085193</td>\n",
       "      <td>0.085193</td>\n",
       "      <td>...</td>\n",
       "      <td>0.597</td>\n",
       "      <td>-0.553180</td>\n",
       "      <td>7.099299e-01</td>\n",
       "      <td>[Entpd1]</td>\n",
       "      <td>[Adora2a]</td>\n",
       "      <td>7.099302e-01</td>\n",
       "      <td>0.584</td>\n",
       "      <td>0.873970</td>\n",
       "      <td>False</td>\n",
       "      <td>-0.004633</td>\n",
       "    </tr>\n",
       "  </tbody>\n",
       "</table>\n",
       "<p>223 rows × 21 columns</p>\n",
       "</div>"
      ],
      "text/plain": [
       "        interaction ligand_x receptor_x ligand_complex receptor_complex  \\\n",
       "0       DLL1_NOTCH1     Dll1     Notch1           Dll1           Notch1   \n",
       "1       JAG1_NOTCH1     Jag1     Notch1           Jag1           Notch1   \n",
       "2       DLK1_NOTCH1     Dlk1     Notch1           Dlk1           Notch1   \n",
       "3       DLL3_NOTCH1     Dll3     Notch1           Dll3           Notch1   \n",
       "4       JAG2_NOTCH1     Jag2     Notch1           Jag2           Notch1   \n",
       "..              ...      ...        ...            ...              ...   \n",
       "218   ENTPD1_ADORA1   Entpd1     Adora1         Entpd1           Adora1   \n",
       "219      PSAP_GPR37     Psap      Gpr37           Psap            Gpr37   \n",
       "220    PSAP_GPR37L1     Psap    Gpr37l1           Psap          Gpr37l1   \n",
       "221      TAC1_TACR1     Tac1      Tacr1           Tac1            Tacr1   \n",
       "222  ENTPD1_ADORA2A   Entpd1    Adora2a         Entpd1          Adora2a   \n",
       "\n",
       "     ligand_means  ligand_props  receptor_means  receptor_props  prop_min  \\\n",
       "0        0.037283      0.057292        0.216689        0.276786  0.057292   \n",
       "1        0.051299      0.075893        0.216689        0.276786  0.075893   \n",
       "2        0.236641      0.213542        0.216689        0.276786  0.213542   \n",
       "3        0.108551      0.161086        0.216689        0.276786  0.161086   \n",
       "4        0.273678      0.364583        0.216689        0.276786  0.276786   \n",
       "..            ...           ...             ...             ...       ...   \n",
       "218      0.089811      0.128720        0.846592        0.736979  0.128720   \n",
       "219      3.318095      0.999628        0.798705        0.622396  0.622396   \n",
       "220      3.318095      0.999628        1.765455        0.977307  0.977307   \n",
       "221      0.364385      0.326637        0.046681        0.070685  0.070685   \n",
       "222      0.089811      0.128720        0.084994        0.085193  0.085193   \n",
       "\n",
       "     ...  global_pvals  global_zscores  global_zpvals  ligand_y receptor_y  \\\n",
       "0    ...         0.135        1.228862   1.095617e-01    [Dll1]   [Notch1]   \n",
       "1    ...         0.606       -0.287137   6.129963e-01    [Jag1]   [Notch1]   \n",
       "2    ...         0.989       -2.400463   9.918128e-01    [Dlk1]   [Notch1]   \n",
       "3    ...         0.982       -2.322272   9.898909e-01    [Dll3]   [Notch1]   \n",
       "4    ...         1.000       -4.523731   9.999970e-01    [Jag2]   [Notch1]   \n",
       "..   ...           ...             ...            ...       ...        ...   \n",
       "218  ...         0.365        0.517597   3.023697e-01  [Entpd1]   [Adora1]   \n",
       "219  ...         1.000      -22.599236   1.000000e+00    [Psap]    [Gpr37]   \n",
       "220  ...         1.000      -19.868069   1.000000e+00    [Psap]  [Gpr37l1]   \n",
       "221  ...         0.000       20.172024   8.621802e-91    [Tac1]    [Tacr1]   \n",
       "222  ...         0.597       -0.553180   7.099299e-01  [Entpd1]  [Adora2a]   \n",
       "\n",
       "           z_pval  perm_pval       fdr  selected  global_I  \n",
       "0    1.095618e-01      0.142  0.314697     False  0.010291  \n",
       "1    6.129979e-01      0.576  0.869772     False -0.002405  \n",
       "2    9.918127e-01      0.990  1.000000     False -0.020103  \n",
       "3    9.898906e-01      0.991  1.000000     False -0.019448  \n",
       "4    9.999970e-01      1.000  1.000000     False -0.037885  \n",
       "..            ...        ...       ...       ...       ...  \n",
       "218  3.023686e-01      0.347  0.608730     False  0.004335  \n",
       "219  1.000000e+00      1.000  1.000000     False -0.189263  \n",
       "220  1.000000e+00      1.000  1.000000     False -0.166390  \n",
       "221  8.611413e-91      0.000  0.000000      True  0.168936  \n",
       "222  7.099302e-01      0.584  0.873970     False -0.004633  \n",
       "\n",
       "[223 rows x 21 columns]"
      ]
     },
     "execution_count": 132,
     "metadata": {},
     "output_type": "execute_result"
    }
   ],
   "source": [
    "joined"
   ]
  },
  {
   "cell_type": "code",
   "execution_count": 133,
   "id": "e73c1234-dedb-43ff-b8a6-c86f7daa2653",
   "metadata": {},
   "outputs": [
    {
     "data": {
      "text/plain": [
       "(0.9684465062861516, 2.4459712885688982e-135)"
      ]
     },
     "execution_count": 133,
     "metadata": {},
     "output_type": "execute_result"
    }
   ],
   "source": [
    "scipy.stats.pearsonr(joined.fdr,  joined.global_pvals)"
   ]
  },
  {
   "cell_type": "code",
   "execution_count": 134,
   "id": "370328fa-cfcf-492a-a0aa-f6f4610d3712",
   "metadata": {},
   "outputs": [
    {
     "data": {
      "text/plain": [
       "(0.9999999999958277, 0.0)"
      ]
     },
     "execution_count": 134,
     "metadata": {},
     "output_type": "execute_result"
    }
   ],
   "source": [
    "scipy.stats.pearsonr(joined.z_pval,  joined.global_zpvals)"
   ]
  },
  {
   "cell_type": "code",
   "execution_count": null,
   "id": "e687e25f-5e4b-4ffc-89dd-7aec5ed63400",
   "metadata": {},
   "outputs": [],
   "source": []
  },
  {
   "cell_type": "code",
   "execution_count": null,
   "id": "e3c69737-729b-4f64-8f34-561114f59ca7",
   "metadata": {},
   "outputs": [],
   "source": []
  },
  {
   "cell_type": "markdown",
   "id": "c267f806-d30a-44b1-a713-80ecbed496da",
   "metadata": {},
   "source": [
    "### Local Moran's I"
   ]
  },
  {
   "cell_type": "code",
   "execution_count": 135,
   "id": "0db1ee38-f97f-4b33-9004-b618f05774a0",
   "metadata": {},
   "outputs": [],
   "source": [
    "import scipy"
   ]
  },
  {
   "cell_type": "code",
   "execution_count": 136,
   "id": "3fd97f63-abff-47bc-b5be-99b91526498a",
   "metadata": {},
   "outputs": [],
   "source": [
    "dist = scipy.sparse.csr_matrix(my_sample.rbf_d)"
   ]
  },
  {
   "cell_type": "code",
   "execution_count": 137,
   "id": "1bba11f4-8bd5-45a7-862a-d3887311bb79",
   "metadata": {},
   "outputs": [],
   "source": [
    "# norm_mat = np.array(adata.X - np.array(adata.X.mean(axis=0))) # normalized x matrix\n",
    "# Note here - there is no normalisation by the squares"
   ]
  },
  {
   "cell_type": "code",
   "execution_count": 138,
   "id": "6a52c1db-bc1d-4069-910e-90fe9ec4e2c3",
   "metadata": {},
   "outputs": [],
   "source": [
    "norm_mat = np.array(adata.X - np.array(adata.X.mean(axis=0)))"
   ]
  },
  {
   "cell_type": "code",
   "execution_count": null,
   "id": "e7954e0e-e5e9-464e-a618-c8a743279131",
   "metadata": {},
   "outputs": [],
   "source": []
  },
  {
   "cell_type": "code",
   "execution_count": null,
   "id": "49b18a0f-a7f5-46ec-b433-14e8435a6856",
   "metadata": {},
   "outputs": [],
   "source": []
  },
  {
   "cell_type": "code",
   "execution_count": 139,
   "id": "5d297bbb-2f93-46c8-b155-b7800e956e25",
   "metadata": {},
   "outputs": [],
   "source": [
    "ligand_mat = np.array([norm_mat[:, ligand_pos[ligand]] for ligand in lr_res.ligand]).T\n",
    "receptor_mat = np.array([norm_mat[:, receptor_pos[receptor]] for receptor in lr_res.receptor]).T"
   ]
  },
  {
   "cell_type": "code",
   "execution_count": null,
   "id": "65fbc8cd-bc30-4f11-8ee4-eccea45de646",
   "metadata": {},
   "outputs": [],
   "source": []
  },
  {
   "cell_type": "code",
   "execution_count": 140,
   "id": "453bef68-1c7f-4f53-9f8a-8d1247614025",
   "metadata": {},
   "outputs": [
    {
     "data": {
      "text/plain": [
       "array([False, False,  True, False,  True])"
      ]
     },
     "execution_count": 140,
     "metadata": {},
     "output_type": "execute_result"
    }
   ],
   "source": [
    "# where at least one is positive\n",
    "(np.array([-1, 0, 1, -1, 1]) > 0) | (np.array([-1, 0, 1, -1, -1]) > 0)"
   ]
  },
  {
   "cell_type": "code",
   "execution_count": 141,
   "id": "475d838c-7f46-4993-8f37-d88cc38bdfe9",
   "metadata": {},
   "outputs": [],
   "source": [
    "# where either L or R is positive\n",
    "pos_msk = ((ligand_mat > 0) + (receptor_mat > 0)).T"
   ]
  },
  {
   "cell_type": "code",
   "execution_count": null,
   "id": "3bd46575-9513-4f38-b06f-6d41856cdb4a",
   "metadata": {},
   "outputs": [],
   "source": []
  },
  {
   "cell_type": "code",
   "execution_count": 142,
   "id": "62ff16b9-ee69-4576-8202-cdf01067f97c",
   "metadata": {},
   "outputs": [],
   "source": [
    "# calculate both sides for local_Rs\n",
    "local_x = ligand_mat * (dist @ receptor_mat) # local_I\n",
    "local_y = receptor_mat * (dist @ ligand_mat) # local_I_R"
   ]
  },
  {
   "cell_type": "code",
   "execution_count": null,
   "id": "6d3e0c82-0779-436b-925f-9719920284b6",
   "metadata": {},
   "outputs": [],
   "source": []
  },
  {
   "cell_type": "markdown",
   "id": "a4eb6467-9a1d-46a0-9d6d-09714df41d16",
   "metadata": {},
   "source": [
    "mask?"
   ]
  },
  {
   "cell_type": "code",
   "execution_count": 143,
   "id": "bbe589e4-007a-4f4f-bdd0-30a42af7068f",
   "metadata": {},
   "outputs": [],
   "source": [
    "# also only sig on global (i.e. only positive by default)?\n",
    "lr_msk = global_pvals <= 0.05"
   ]
  },
  {
   "cell_type": "code",
   "execution_count": 144,
   "id": "2f05e5d1-43ba-4d29-b350-de68b9344740",
   "metadata": {},
   "outputs": [],
   "source": [
    "# he used to filter spot to spot to be positive\n",
    "# i guess to exclude - to - positive correlations (does this even make sense...)"
   ]
  },
  {
   "cell_type": "code",
   "execution_count": 145,
   "id": "bae1a7c5-351a-408d-b59c-fa156a964f26",
   "metadata": {},
   "outputs": [],
   "source": [
    "local_x = local_x[:, lr_msk]\n",
    "local_y = local_y[:, lr_msk]\n",
    "assert local_x.shape == local_y.shape"
   ]
  },
  {
   "cell_type": "code",
   "execution_count": null,
   "id": "8ea8e37c-31ce-4116-b196-17b1dc9c3a1a",
   "metadata": {},
   "outputs": [],
   "source": []
  },
  {
   "cell_type": "code",
   "execution_count": 146,
   "id": "634b2375-da7c-46bf-a762-3c1cb5aa1ba4",
   "metadata": {},
   "outputs": [],
   "source": [
    "receptor_mat = receptor_mat[:, lr_msk]\n",
    "ligand_mat = ligand_mat[:, lr_msk]"
   ]
  },
  {
   "cell_type": "code",
   "execution_count": null,
   "id": "44adec3f-6100-4915-badd-3cc5b5e66ad1",
   "metadata": {},
   "outputs": [],
   "source": []
  },
  {
   "cell_type": "code",
   "execution_count": null,
   "id": "8732832c-55b1-4cfc-ab8a-2596b5afebe3",
   "metadata": {},
   "outputs": [],
   "source": []
  },
  {
   "cell_type": "markdown",
   "id": "d3ad594e-3a3a-460f-bf6d-a6fc68a8b6ba",
   "metadata": {},
   "source": [
    "Permutations"
   ]
  },
  {
   "cell_type": "code",
   "execution_count": 147,
   "id": "1911e948-e2f9-4828-bbe8-9bd46054b691",
   "metadata": {},
   "outputs": [],
   "source": [
    "spot_n = local_x.shape[0]\n",
    "lr_n = local_x.shape[1]\n",
    "n_perm = 25"
   ]
  },
  {
   "cell_type": "code",
   "execution_count": null,
   "id": "0ed0c85a-89f0-473c-9bd8-f7df3d93f7b7",
   "metadata": {},
   "outputs": [],
   "source": []
  },
  {
   "cell_type": "code",
   "execution_count": 148,
   "id": "53291342-aee2-4b38-a237-a1beaaf7ae67",
   "metadata": {},
   "outputs": [],
   "source": [
    "perm_x = np.zeros((lr_n, n_perm, spot_n))\n",
    "perm_y = np.zeros((lr_n, n_perm, spot_n))"
   ]
  },
  {
   "cell_type": "code",
   "execution_count": null,
   "id": "c45bf89e-5da7-4b7f-84f0-17fd6fbbc032",
   "metadata": {},
   "outputs": [],
   "source": []
  },
  {
   "cell_type": "code",
   "execution_count": 149,
   "id": "142dd430-55c8-47be-9c91-73d4f182181e",
   "metadata": {},
   "outputs": [
    {
     "name": "stderr",
     "output_type": "stream",
     "text": [
      "100%|██████████| 25/25 [00:00<00:00, 30.26it/s]\n"
     ]
    }
   ],
   "source": [
    "for i in tqdm(range(n_perm)):\n",
    "    _idx = np.random.permutation(ligand_mat.shape[0]) # TODO RNG\n",
    "    perm_x[:, i,:] = ((dist @ receptor_mat[_idx, :]) * ligand_mat).T\n",
    "    perm_y[:, i,:] = ((dist @ ligand_mat[_idx, :]) * receptor_mat).T\n"
   ]
  },
  {
   "cell_type": "code",
   "execution_count": 150,
   "id": "3ccce86b-8568-4829-a5ff-cf7442a87463",
   "metadata": {
    "tags": []
   },
   "outputs": [],
   "source": [
    "local_pvals = ((np.expand_dims(local_x.T + local_y.T, 1) <= (perm_x + perm_y)).sum(1)) / n_perm"
   ]
  },
  {
   "cell_type": "code",
   "execution_count": 151,
   "id": "882626d3-f509-4367-af13-30a89f61b5cc",
   "metadata": {},
   "outputs": [],
   "source": [
    "local_r = local_x + local_y # actual value"
   ]
  },
  {
   "cell_type": "code",
   "execution_count": null,
   "id": "3e5ff0b5-8ce3-4ba0-9200-6f7c85a631ee",
   "metadata": {},
   "outputs": [],
   "source": []
  },
  {
   "cell_type": "code",
   "execution_count": null,
   "id": "b0a72f96-a7a0-4b64-9eda-c7f346a08595",
   "metadata": {},
   "outputs": [],
   "source": []
  },
  {
   "cell_type": "code",
   "execution_count": 152,
   "id": "61d7d7b1-770f-4ed1-accb-18c70f1c3b3f",
   "metadata": {},
   "outputs": [
    {
     "data": {
      "text/plain": [
       "17408"
      ]
     },
     "execution_count": 152,
     "metadata": {},
     "output_type": "execute_result"
    }
   ],
   "source": [
    "import gc\n",
    "del perm_mat, perm_x, perm_y\n",
    "gc.collect() # should be called!"
   ]
  },
  {
   "cell_type": "code",
   "execution_count": null,
   "id": "4ba2bfa8-4c37-455c-bdb0-2c7e38f9320e",
   "metadata": {},
   "outputs": [],
   "source": []
  },
  {
   "cell_type": "code",
   "execution_count": null,
   "id": "5c99e682-3c4b-4018-bd18-564b9c5c0e0d",
   "metadata": {},
   "outputs": [],
   "source": []
  },
  {
   "cell_type": "markdown",
   "id": "5f612fee-1a66-4c1d-88b9-9ce21e343291",
   "metadata": {},
   "source": [
    "Compare local pvals"
   ]
  },
  {
   "cell_type": "code",
   "execution_count": 153,
   "id": "d4a5700b-d3a6-41b8-9e11-2b28340dff2c",
   "metadata": {},
   "outputs": [],
   "source": [
    "# # positve to positive local only\n",
    "# pos = ((ligand_mat > 0) + (receptor_mat > 0)).T # he does it on non-norm counts, and not -mu^\n",
    "# pvals_msked = local_pvals\n",
    "# pvals_msked[pos] = 1"
   ]
  },
  {
   "cell_type": "code",
   "execution_count": 154,
   "id": "15f5f31b-bf91-4719-a41b-98ed45efb023",
   "metadata": {},
   "outputs": [
    {
     "ename": "ValueError",
     "evalue": "Shape of passed values is (613, 2688), indices imply (1409, 2688)",
     "output_type": "error",
     "traceback": [
      "\u001b[0;31m---------------------------------------------------------------------------\u001b[0m",
      "\u001b[0;31mValueError\u001b[0m                                Traceback (most recent call last)",
      "\u001b[0;32m<ipython-input-154-163385babfc6>\u001b[0m in \u001b[0;36m<module>\u001b[0;34m\u001b[0m\n\u001b[0;32m----> 1\u001b[0;31m \u001b[0mours\u001b[0m \u001b[0;34m=\u001b[0m \u001b[0mpd\u001b[0m\u001b[0;34m.\u001b[0m\u001b[0mDataFrame\u001b[0m\u001b[0;34m(\u001b[0m\u001b[0mlocal_pvals\u001b[0m\u001b[0;34m,\u001b[0m \u001b[0mindex\u001b[0m\u001b[0;34m=\u001b[0m\u001b[0mlr_res\u001b[0m\u001b[0;34m.\u001b[0m\u001b[0minteraction\u001b[0m\u001b[0;34m)\u001b[0m\u001b[0;34m.\u001b[0m\u001b[0mreset_index\u001b[0m\u001b[0;34m(\u001b[0m\u001b[0;34m)\u001b[0m\u001b[0;34m\u001b[0m\u001b[0;34m\u001b[0m\u001b[0m\n\u001b[0m",
      "\u001b[0;32m~/anaconda3/lib/python3.8/site-packages/pandas/core/frame.py\u001b[0m in \u001b[0;36m__init__\u001b[0;34m(self, data, index, columns, dtype, copy)\u001b[0m\n\u001b[1;32m    670\u001b[0m                 )\n\u001b[1;32m    671\u001b[0m             \u001b[0;32melse\u001b[0m\u001b[0;34m:\u001b[0m\u001b[0;34m\u001b[0m\u001b[0;34m\u001b[0m\u001b[0m\n\u001b[0;32m--> 672\u001b[0;31m                 mgr = ndarray_to_mgr(\n\u001b[0m\u001b[1;32m    673\u001b[0m                     \u001b[0mdata\u001b[0m\u001b[0;34m,\u001b[0m\u001b[0;34m\u001b[0m\u001b[0;34m\u001b[0m\u001b[0m\n\u001b[1;32m    674\u001b[0m                     \u001b[0mindex\u001b[0m\u001b[0;34m,\u001b[0m\u001b[0;34m\u001b[0m\u001b[0;34m\u001b[0m\u001b[0m\n",
      "\u001b[0;32m~/anaconda3/lib/python3.8/site-packages/pandas/core/internals/construction.py\u001b[0m in \u001b[0;36mndarray_to_mgr\u001b[0;34m(values, index, columns, dtype, copy, typ)\u001b[0m\n\u001b[1;32m    322\u001b[0m     )\n\u001b[1;32m    323\u001b[0m \u001b[0;34m\u001b[0m\u001b[0m\n\u001b[0;32m--> 324\u001b[0;31m     \u001b[0m_check_values_indices_shape_match\u001b[0m\u001b[0;34m(\u001b[0m\u001b[0mvalues\u001b[0m\u001b[0;34m,\u001b[0m \u001b[0mindex\u001b[0m\u001b[0;34m,\u001b[0m \u001b[0mcolumns\u001b[0m\u001b[0;34m)\u001b[0m\u001b[0;34m\u001b[0m\u001b[0;34m\u001b[0m\u001b[0m\n\u001b[0m\u001b[1;32m    325\u001b[0m \u001b[0;34m\u001b[0m\u001b[0m\n\u001b[1;32m    326\u001b[0m     \u001b[0;32mif\u001b[0m \u001b[0mtyp\u001b[0m \u001b[0;34m==\u001b[0m \u001b[0;34m\"array\"\u001b[0m\u001b[0;34m:\u001b[0m\u001b[0;34m\u001b[0m\u001b[0;34m\u001b[0m\u001b[0m\n",
      "\u001b[0;32m~/anaconda3/lib/python3.8/site-packages/pandas/core/internals/construction.py\u001b[0m in \u001b[0;36m_check_values_indices_shape_match\u001b[0;34m(values, index, columns)\u001b[0m\n\u001b[1;32m    391\u001b[0m         \u001b[0mpassed\u001b[0m \u001b[0;34m=\u001b[0m \u001b[0mvalues\u001b[0m\u001b[0;34m.\u001b[0m\u001b[0mshape\u001b[0m\u001b[0;34m\u001b[0m\u001b[0;34m\u001b[0m\u001b[0m\n\u001b[1;32m    392\u001b[0m         \u001b[0mimplied\u001b[0m \u001b[0;34m=\u001b[0m \u001b[0;34m(\u001b[0m\u001b[0mlen\u001b[0m\u001b[0;34m(\u001b[0m\u001b[0mindex\u001b[0m\u001b[0;34m)\u001b[0m\u001b[0;34m,\u001b[0m \u001b[0mlen\u001b[0m\u001b[0;34m(\u001b[0m\u001b[0mcolumns\u001b[0m\u001b[0;34m)\u001b[0m\u001b[0;34m)\u001b[0m\u001b[0;34m\u001b[0m\u001b[0;34m\u001b[0m\u001b[0m\n\u001b[0;32m--> 393\u001b[0;31m         \u001b[0;32mraise\u001b[0m \u001b[0mValueError\u001b[0m\u001b[0;34m(\u001b[0m\u001b[0;34mf\"Shape of passed values is {passed}, indices imply {implied}\"\u001b[0m\u001b[0;34m)\u001b[0m\u001b[0;34m\u001b[0m\u001b[0;34m\u001b[0m\u001b[0m\n\u001b[0m\u001b[1;32m    394\u001b[0m \u001b[0;34m\u001b[0m\u001b[0m\n\u001b[1;32m    395\u001b[0m \u001b[0;34m\u001b[0m\u001b[0m\n",
      "\u001b[0;31mValueError\u001b[0m: Shape of passed values is (613, 2688), indices imply (1409, 2688)"
     ]
    }
   ],
   "source": [
    "ours = pd.DataFrame(local_pvals, index=lr_res.interaction).reset_index()"
   ]
  },
  {
   "cell_type": "code",
   "execution_count": null,
   "id": "fb291b05-6eb5-4f22-b22e-9e0cac8f2003",
   "metadata": {},
   "outputs": [],
   "source": [
    "ours"
   ]
  },
  {
   "cell_type": "code",
   "execution_count": null,
   "id": "f0fdcaea-77af-46bc-965b-2a546a83a878",
   "metadata": {},
   "outputs": [],
   "source": [
    "theirs =  my_sample.local_perm_p.reset_index().rename(columns={'index':'interaction'})"
   ]
  },
  {
   "cell_type": "code",
   "execution_count": null,
   "id": "54b453fb-b00e-498b-8930-f92597f443e4",
   "metadata": {},
   "outputs": [],
   "source": [
    "theirs[theirs.interaction==\"SEMA4D_PLXNB3\"]"
   ]
  },
  {
   "cell_type": "code",
   "execution_count": null,
   "id": "87b46522-0150-46c7-8934-f852d79bacb5",
   "metadata": {},
   "outputs": [],
   "source": [
    "ours[ours.interaction==\"SEMA4D_PLXNB3\"]"
   ]
  },
  {
   "cell_type": "code",
   "execution_count": null,
   "id": "9d693a39-dd71-4af3-a53e-ff40fd83a1eb",
   "metadata": {},
   "outputs": [],
   "source": [
    "# if both are negative, set to 1\n",
    "local_pvals[~pos_msk] = 1"
   ]
  },
  {
   "cell_type": "code",
   "execution_count": null,
   "id": "69594ef9-c62b-4c87-9d57-f18331997ccf",
   "metadata": {},
   "outputs": [],
   "source": [
    "scipy.stats.pearsonr(local_pvals[903], my_sample.local_perm_p.iloc[532,:])"
   ]
  },
  {
   "cell_type": "code",
   "execution_count": null,
   "id": "4f709fc9-00c0-499d-9c46-658f01f82c64",
   "metadata": {},
   "outputs": [],
   "source": []
  },
  {
   "cell_type": "code",
   "execution_count": null,
   "id": "135a89cc-0d3b-4a69-9ea1-5faf45f5104a",
   "metadata": {},
   "outputs": [],
   "source": [
    "lr_res[lr_res.interaction==\"SEMA4D_PLXNB3\"]"
   ]
  },
  {
   "cell_type": "code",
   "execution_count": null,
   "id": "3c760318-7968-4fba-be88-71b8310f0c8f",
   "metadata": {},
   "outputs": [],
   "source": [
    "my_sample.ind_sel[532]"
   ]
  },
  {
   "cell_type": "code",
   "execution_count": null,
   "id": "fe9d7e95-e5f3-44fd-9c90-be28b2d0890d",
   "metadata": {},
   "outputs": [],
   "source": []
  },
  {
   "cell_type": "code",
   "execution_count": null,
   "id": "32a81060-17a3-4fcc-b2a9-f4b274ec9935",
   "metadata": {},
   "outputs": [],
   "source": [
    "scipy.stats.pearsonr(local_x[:, 903], my_sample.local_I[:,532])"
   ]
  },
  {
   "cell_type": "code",
   "execution_count": null,
   "id": "e196a341-3ab1-4675-b1d3-cb83c881b782",
   "metadata": {},
   "outputs": [],
   "source": []
  },
  {
   "cell_type": "code",
   "execution_count": null,
   "id": "2104e25a-0900-4bfa-a2c4-877bae5e6ed1",
   "metadata": {},
   "outputs": [],
   "source": [
    "hist(local_x[:, 903])"
   ]
  },
  {
   "cell_type": "code",
   "execution_count": null,
   "id": "69f66838-aaba-414e-ab18-8e26261683f1",
   "metadata": {},
   "outputs": [],
   "source": [
    "hist(my_sample.local_I[:,532])"
   ]
  },
  {
   "cell_type": "code",
   "execution_count": null,
   "id": "b541e1c4-0375-4e38-901a-5a4cd87dc6a2",
   "metadata": {},
   "outputs": [],
   "source": []
  },
  {
   "cell_type": "markdown",
   "id": "751e53fc-d71f-41b6-bd92-80e9e8d8adc8",
   "metadata": {},
   "source": [
    "compare pvals"
   ]
  },
  {
   "cell_type": "code",
   "execution_count": null,
   "id": "f04f28d2-f0c2-49ef-9bf1-bfa16023f797",
   "metadata": {},
   "outputs": [],
   "source": [
    "scipy.stats.pearsonr(local_pvals[903,:], my_sample.local_perm_p.iloc[532,:])"
   ]
  },
  {
   "cell_type": "code",
   "execution_count": null,
   "id": "7cde3461-6283-4cab-9f4c-04d1a250e421",
   "metadata": {},
   "outputs": [],
   "source": []
  },
  {
   "cell_type": "code",
   "execution_count": null,
   "id": "812a536f-4901-4575-bb77-7923f822c871",
   "metadata": {},
   "outputs": [],
   "source": []
  },
  {
   "cell_type": "markdown",
   "id": "54d09204-7a83-46a8-b62a-d21253985499",
   "metadata": {},
   "source": [
    "zscore p-val"
   ]
  },
  {
   "cell_type": "code",
   "execution_count": null,
   "id": "949a8e32-20d0-468c-a391-52b7a6dfbccc",
   "metadata": {},
   "outputs": [],
   "source": [
    "from scipy import stats"
   ]
  },
  {
   "cell_type": "code",
   "execution_count": null,
   "id": "108e697c-c8b2-4948-98c3-9c2a323b0a31",
   "metadata": {},
   "outputs": [],
   "source": [
    "dist = scipy.sparse.csr_matrix(my_sample.rbf_d)\n",
    "wij_sq = (np.array(dist.todense()) ** 2).sum(axis=1)"
   ]
  },
  {
   "cell_type": "code",
   "execution_count": null,
   "id": "7aba248d-84a6-4d5a-b184-113271c1e620",
   "metadata": {},
   "outputs": [],
   "source": [
    "my_sample.local_permI.shape"
   ]
  },
  {
   "cell_type": "code",
   "execution_count": null,
   "id": "0cf878f5-a8e2-4021-b44b-655a436e8ed7",
   "metadata": {},
   "outputs": [],
   "source": [
    "perm_x.shape"
   ]
  },
  {
   "cell_type": "code",
   "execution_count": null,
   "id": "b6509936-b06d-4419-b5a4-6de645092bb3",
   "metadata": {},
   "outputs": [],
   "source": []
  },
  {
   "cell_type": "code",
   "execution_count": null,
   "id": "ff16cc5a-0772-4d09-91a6-cc63672479a1",
   "metadata": {},
   "outputs": [],
   "source": [
    "ligand_norm = np.array([stats.norm.fit(ligand_mat[:, ligand]) for ligand in range(ligand_mat.shape[1])])\n",
    "receptor_norm = np.array([stats.norm.fit(receptor_mat[:, receptor]) for receptor in range(receptor_mat.shape[1])])"
   ]
  },
  {
   "cell_type": "code",
   "execution_count": null,
   "id": "274ac3d9-79dc-4006-9818-7c83568a685f",
   "metadata": {},
   "outputs": [],
   "source": []
  },
  {
   "cell_type": "code",
   "execution_count": null,
   "id": "35fe0a9f-eb9b-455c-bb18-0746f0178582",
   "metadata": {},
   "outputs": [],
   "source": [
    "# get ligand receptor mu and std\n",
    "ligand_mu1, ligand_std = ligand_norm[:,0], ligand_norm[:,1]\n",
    "receptor_mu1, receptor_std = receptor_norm[:,0], receptor_norm[:,1]"
   ]
  },
  {
   "cell_type": "code",
   "execution_count": null,
   "id": "d49af8b9-2862-4dc9-8d91-16d8991b86cb",
   "metadata": {},
   "outputs": [],
   "source": [
    "ligand_sigma_sq = [(std * spot_n / (spot_n - 1)) for std in ligand_std]\n",
    "receptor_sigma_sq = [(std * spot_n / (spot_n - 1)) for std in receptor_std]"
   ]
  },
  {
   "cell_type": "code",
   "execution_count": null,
   "id": "36d1c5d3-f229-4d7e-afac-3da1e284602f",
   "metadata": {},
   "outputs": [],
   "source": []
  },
  {
   "cell_type": "code",
   "execution_count": null,
   "id": "b647c77e-7ec7-4fb7-90e7-b001a2bab9da",
   "metadata": {},
   "outputs": [],
   "source": [
    "def compute_var_local(sigma1_sq, sigma2_sq, wij_sq, spot_n):\n",
    "    var_I = 2 * (spot_n-1)**2/spot_n**2 * sigma1_sq * sigma2_sq * wij_sq + \\\n",
    "        2 * (spot_n-1)**2/spot_n**2 * sigma1_sq * sigma2_sq\n",
    "    std_I=var_I**(1/2)\n",
    "    \n",
    "    return std_I"
   ]
  },
  {
   "cell_type": "code",
   "execution_count": null,
   "id": "032bb290-ceff-4415-9899-1cd558a6af4e",
   "metadata": {},
   "outputs": [],
   "source": []
  },
  {
   "cell_type": "code",
   "execution_count": null,
   "id": "4f8ff8c5-d915-463c-b191-8b7072a69484",
   "metadata": {},
   "outputs": [],
   "source": [
    "std_ls = [compute_var_local(sigma1_sq, sigma2_sq, wij_sq, spot_n) for (sigma1_sq, sigma2_sq) in zip(ligand_sigma_sq, receptor_sigma_sq)]"
   ]
  },
  {
   "cell_type": "code",
   "execution_count": null,
   "id": "34752dfa-7a51-4caa-8d66-41795b27385b",
   "metadata": {},
   "outputs": [],
   "source": [
    "local_zscores = local_x.T + local_y.T / std_ls"
   ]
  },
  {
   "cell_type": "code",
   "execution_count": null,
   "id": "c38b3863-3c38-43a1-b6c5-b6353fc4cd66",
   "metadata": {},
   "outputs": [],
   "source": [
    "scipy.stats.pearsonr(local_zscores[903], my_sample.local_z[532,:])"
   ]
  },
  {
   "cell_type": "code",
   "execution_count": null,
   "id": "c6725055-f8cc-46ec-8887-f9fc9d27075b",
   "metadata": {},
   "outputs": [],
   "source": [
    "local_zpvals = stats.norm.sf(local_zscores)"
   ]
  },
  {
   "cell_type": "code",
   "execution_count": null,
   "id": "8e7b5505-d09c-4006-b217-115a43964ac6",
   "metadata": {},
   "outputs": [],
   "source": []
  },
  {
   "cell_type": "code",
   "execution_count": null,
   "id": "65aa1b22-d95b-48f4-a6e5-00b5a0a29724",
   "metadata": {},
   "outputs": [],
   "source": [
    "local_zscores.shape"
   ]
  },
  {
   "cell_type": "code",
   "execution_count": null,
   "id": "03f9e307-2b83-4dd0-8a42-df9c5fc3b079",
   "metadata": {},
   "outputs": [],
   "source": [
    "# if both are negative, set to 1\n",
    "local_zpvals[~pos_msk] = 1"
   ]
  },
  {
   "cell_type": "code",
   "execution_count": null,
   "id": "b7c9e8c1-1e40-4e10-89b1-f1745ca258b9",
   "metadata": {},
   "outputs": [],
   "source": [
    "scipy.stats.pearsonr(local_zpvals[903,:], my_sample.local_z_p.iloc[532,:])"
   ]
  },
  {
   "cell_type": "code",
   "execution_count": null,
   "id": "60c4c4df-7372-4f4e-8d9f-2c6a9d1d36d9",
   "metadata": {},
   "outputs": [],
   "source": []
  },
  {
   "cell_type": "code",
   "execution_count": null,
   "id": "b0a332cd-dcbd-4c5c-afb9-8d2f07008418",
   "metadata": {},
   "outputs": [],
   "source": [
    "scipy.stats.pearsonr(local_pvals[1], local_zpvals[1])"
   ]
  },
  {
   "cell_type": "code",
   "execution_count": null,
   "id": "de507ca5-07b5-4359-973b-7c9d71e14f27",
   "metadata": {},
   "outputs": [],
   "source": []
  },
  {
   "cell_type": "code",
   "execution_count": null,
   "id": "6eb774c0-6245-4308-be75-79920a7d00af",
   "metadata": {},
   "outputs": [],
   "source": []
  },
  {
   "cell_type": "markdown",
   "id": "c636fd80-970f-49f2-befa-502f6e4f32f9",
   "metadata": {},
   "source": [
    "Re-implement distance function"
   ]
  },
  {
   "cell_type": "markdown",
   "id": "2b552377-c7d8-4788-9b11-375745170a90",
   "metadata": {},
   "source": [
    "Radial Basis Function (RBF) kernel with an element-wise normalization"
   ]
  },
  {
   "cell_type": "code",
   "execution_count": 211,
   "id": "2e3c15bf-3120-461c-95bb-9eb57bac4784",
   "metadata": {},
   "outputs": [],
   "source": [
    "from scipy.spatial.distance import pdist, squareform"
   ]
  },
  {
   "cell_type": "code",
   "execution_count": 212,
   "id": "e18e4104-3eb9-4f5e-b653-8dfdf84668bb",
   "metadata": {},
   "outputs": [],
   "source": [
    "coordinates = pd.DataFrame(adata.obsm['spatial'], index=adata.obs_names, columns=['x','y'])"
   ]
  },
  {
   "cell_type": "code",
   "execution_count": 213,
   "id": "75155bd5-af5a-4c81-a7f1-39ed389ed8b6",
   "metadata": {},
   "outputs": [],
   "source": []
  },
  {
   "cell_type": "code",
   "execution_count": null,
   "id": "227a2d7b-0233-4623-a65c-1480ff3c6600",
   "metadata": {},
   "outputs": [],
   "source": []
  },
  {
   "cell_type": "code",
   "execution_count": 214,
   "id": "2404d040-9a70-4e92-b9b4-42ee54126b64",
   "metadata": {},
   "outputs": [],
   "source": [
    "pdist = pdist(coordinates, 'sqeuclidean')\n",
    "pdist = squareform(pdist)"
   ]
  },
  {
   "cell_type": "code",
   "execution_count": 215,
   "id": "5fe2f5f7-93fc-4859-8dad-5099c4a1414d",
   "metadata": {},
   "outputs": [
    {
     "data": {
      "text/plain": [
       "array([[       0., 48135476., 33777605., ..., 25977320., 26993525.,\n",
       "        38811709.],\n",
       "       [48135476.,        0., 47669417., ..., 47366212., 26492985.,\n",
       "          531941.],\n",
       "       [33777605., 47669417.,        0., ...,   587449.,  3111476.,\n",
       "        43595026.],\n",
       "       ...,\n",
       "       [25977320., 47366212.,   587449., ...,        0.,  3268465.,\n",
       "        42344161.],\n",
       "       [26993525., 26492985.,  3111476., ...,  3268465.,        0.,\n",
       "        23419202.],\n",
       "       [38811709.,   531941., 43595026., ..., 42344161., 23419202.,\n",
       "               0.]])"
      ]
     },
     "execution_count": 215,
     "metadata": {},
     "output_type": "execute_result"
    }
   ],
   "source": [
    "pdist"
   ]
  },
  {
   "cell_type": "code",
   "execution_count": 261,
   "id": "3fbb6ac3-2c30-441d-8a65-f0da1c1497fe",
   "metadata": {},
   "outputs": [],
   "source": [
    "l = 100 # None by default, estimated?\n",
    "cutoff=0.2 # None by Default, or some value tat makes sense in Euclidean space\n",
    "bypass_diagonal = False"
   ]
  },
  {
   "cell_type": "code",
   "execution_count": null,
   "id": "48bba467-653b-4310-adf6-0e4007149715",
   "metadata": {},
   "outputs": [],
   "source": []
  },
  {
   "cell_type": "code",
   "execution_count": 262,
   "id": "80601d7c-6ea1-4def-a720-ad8aa3c29da5",
   "metadata": {},
   "outputs": [],
   "source": [
    "rbf_d = np.exp(-pdist / (2 * l ** 2))  # RBF Distance"
   ]
  },
  {
   "cell_type": "code",
   "execution_count": 263,
   "id": "41fa460c-0de0-4fc2-a0a6-e748941769c5",
   "metadata": {},
   "outputs": [],
   "source": [
    "rbf_d[rbf_d < cutoff] = 0"
   ]
  },
  {
   "cell_type": "code",
   "execution_count": null,
   "id": "85df3d01-a385-46e7-b2fb-fa45929d49f4",
   "metadata": {},
   "outputs": [],
   "source": []
  },
  {
   "cell_type": "code",
   "execution_count": 264,
   "id": "350194c0-d581-4f36-87d7-b19d92e35a55",
   "metadata": {},
   "outputs": [],
   "source": [
    "if bypass_diagonal:\n",
    "    np.fill_diagonal(rbf_d, 0)"
   ]
  },
  {
   "cell_type": "code",
   "execution_count": null,
   "id": "c723131d-95ad-4724-90c2-cecf80e2a4b0",
   "metadata": {},
   "outputs": [],
   "source": []
  },
  {
   "cell_type": "code",
   "execution_count": 265,
   "id": "8336e8c2-99f0-4d14-b7da-67762627c8b4",
   "metadata": {},
   "outputs": [],
   "source": [
    "spot_n = rbf_d.shape[0]"
   ]
  },
  {
   "cell_type": "code",
   "execution_count": 273,
   "id": "8abd9f60-b5f7-472b-b607-999ebde53b6d",
   "metadata": {},
   "outputs": [],
   "source": [
    "weight = spot_n / rbf_d.sum()"
   ]
  },
  {
   "cell_type": "code",
   "execution_count": null,
   "id": "b949ec5f-f118-41c7-9851-0a56d963f813",
   "metadata": {},
   "outputs": [],
   "source": []
  },
  {
   "cell_type": "code",
   "execution_count": 275,
   "id": "3f7eb063-0765-4723-a816-1c417d74296a",
   "metadata": {},
   "outputs": [
    {
     "data": {
      "text/plain": [
       "0.3181818181818182"
      ]
     },
     "execution_count": 275,
     "metadata": {},
     "output_type": "execute_result"
    }
   ],
   "source": [
    "weight"
   ]
  },
  {
   "cell_type": "code",
   "execution_count": null,
   "id": "cac0e081-7afe-4e9c-a6b3-f1a5d7f56ded",
   "metadata": {},
   "outputs": [],
   "source": []
  },
  {
   "cell_type": "code",
   "execution_count": null,
   "id": "05065b06-ea4d-4207-91ec-b7de6e887e19",
   "metadata": {},
   "outputs": [],
   "source": []
  },
  {
   "cell_type": "code",
   "execution_count": 267,
   "id": "9e040eb3-e97f-4706-a499-6fa1a96a2467",
   "metadata": {},
   "outputs": [],
   "source": [
    "if rbf_d.shape[0] > 1000:\n",
    "    rbf_d = rbf_d.astype(np.float16)"
   ]
  },
  {
   "cell_type": "code",
   "execution_count": 276,
   "id": "a864c61e-d878-4925-bd14-204bc72e270e",
   "metadata": {},
   "outputs": [
    {
     "data": {
      "text/plain": [
       "array([[0.318, 0.   , 0.   , ..., 0.   , 0.   , 0.   ],\n",
       "       [0.   , 0.318, 0.   , ..., 0.   , 0.   , 0.   ],\n",
       "       [0.   , 0.   , 0.318, ..., 0.   , 0.   , 0.   ],\n",
       "       ...,\n",
       "       [0.   , 0.   , 0.   , ..., 0.318, 0.   , 0.   ],\n",
       "       [0.   , 0.   , 0.   , ..., 0.   , 0.318, 0.   ],\n",
       "       [0.   , 0.   , 0.   , ..., 0.   , 0.   , 0.318]], dtype=float16)"
      ]
     },
     "execution_count": 276,
     "metadata": {},
     "output_type": "execute_result"
    }
   ],
   "source": [
    "rbf_d * weight"
   ]
  },
  {
   "cell_type": "code",
   "execution_count": 277,
   "id": "10f5e952-cc76-4a0d-ae23-a9b1684403e0",
   "metadata": {},
   "outputs": [
    {
     "data": {
      "text/plain": [
       "array([[0.3181818, 0.       , 0.       , ..., 0.       , 0.       ,\n",
       "        0.       ],\n",
       "       [0.       , 0.3181818, 0.       , ..., 0.       , 0.       ,\n",
       "        0.       ],\n",
       "       [0.       , 0.       , 0.3181818, ..., 0.       , 0.       ,\n",
       "        0.       ],\n",
       "       ...,\n",
       "       [0.       , 0.       , 0.       , ..., 0.3181818, 0.       ,\n",
       "        0.       ],\n",
       "       [0.       , 0.       , 0.       , ..., 0.       , 0.3181818,\n",
       "        0.       ],\n",
       "       [0.       , 0.       , 0.       , ..., 0.       , 0.       ,\n",
       "        0.3181818]], dtype=float32)"
      ]
     },
     "execution_count": 277,
     "metadata": {},
     "output_type": "execute_result"
    }
   ],
   "source": [
    "my_sample.rbf_d"
   ]
  },
  {
   "cell_type": "code",
   "execution_count": 278,
   "id": "81dd75f3-3ea5-41d5-b926-34caa4f9d03f",
   "metadata": {},
   "outputs": [
    {
     "data": {
      "text/plain": [
       "(array([7.207076e+06, 0.000000e+00, 0.000000e+00, 1.558000e+04,\n",
       "        0.000000e+00, 0.000000e+00, 0.000000e+00, 0.000000e+00,\n",
       "        0.000000e+00, 2.688000e+03]),\n",
       " array([0. , 0.1, 0.2, 0.3, 0.4, 0.5, 0.6, 0.7, 0.8, 0.9, 1. ],\n",
       "       dtype=float16),\n",
       " <BarContainer object of 10 artists>)"
      ]
     },
     "execution_count": 278,
     "metadata": {},
     "output_type": "execute_result"
    },
    {
     "data": {
      "image/png": "[encoded data removed]",
      "text/plain": [
       "<Figure size 432x288 with 1 Axes>"
      ]
     },
     "metadata": {
      "needs_background": "light"
     },
     "output_type": "display_data"
    }
   ],
   "source": [
    "hist(np.ndarray.flatten(rbf_d))"
   ]
  },
  {
   "cell_type": "code",
   "execution_count": null,
   "id": "f0641ad4-36a1-4d28-9e54-c072c2f1f68a",
   "metadata": {},
   "outputs": [],
   "source": []
  }
 ],
 "metadata": {
  "kernelspec": {
   "display_name": "liana-py",
   "language": "python",
   "name": "liana-py"
  },
  "language_info": {
   "codemirror_mode": {
    "name": "ipython",
    "version": 3
   },
   "file_extension": ".py",
   "mimetype": "text/x-python",
   "name": "python",
   "nbconvert_exporter": "python",
   "pygments_lexer": "ipython3",
   "version": "3.8.8"
  }
 },
 "nbformat": 4,
 "nbformat_minor": 5
}
