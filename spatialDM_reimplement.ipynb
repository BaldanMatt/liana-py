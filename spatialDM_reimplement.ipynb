{
 "cells": [
  {
   "cell_type": "code",
   "execution_count": null,
   "id": "d6fea9cf-3f0c-4404-89a6-08dd44aad58b",
   "metadata": {},
   "outputs": [],
   "source": [
    "import numpy as np\n",
    "import pandas as pd\n",
    "import scanpy as sc"
   ]
  },
  {
   "cell_type": "code",
   "execution_count": null,
   "id": "5f089877-3865-4b63-be9a-4e9aecba4122",
   "metadata": {},
   "outputs": [],
   "source": [
    "from matplotlib.pyplot import hist"
   ]
  },
  {
   "cell_type": "code",
   "execution_count": null,
   "id": "2ace542e-7438-4975-95fa-0e8a4096c226",
   "metadata": {},
   "outputs": [],
   "source": [
    "import gc"
   ]
  },
  {
   "cell_type": "code",
   "execution_count": null,
   "id": "93ee0481-1aa5-4698-be0d-3226893e9595",
   "metadata": {},
   "outputs": [],
   "source": []
  },
  {
   "cell_type": "code",
   "execution_count": null,
   "id": "a3ff315f-3d45-40f1-9166-d7dbe195b11b",
   "metadata": {},
   "outputs": [],
   "source": [
    "import spatialdm as sdm\n",
    "import spatialdm.plottings as pl"
   ]
  },
  {
   "cell_type": "code",
   "execution_count": null,
   "id": "3b5db0e1-2e37-458d-b3e9-76921bffce8b",
   "metadata": {},
   "outputs": [],
   "source": []
  },
  {
   "cell_type": "code",
   "execution_count": null,
   "id": "d1afd755-1c4a-48a1-a18c-a4774972a1f0",
   "metadata": {},
   "outputs": [],
   "source": [
    "import squidpy as sq"
   ]
  },
  {
   "cell_type": "code",
   "execution_count": null,
   "id": "b4c57633-eb60-4cf9-8ce9-c5f4f6920842",
   "metadata": {},
   "outputs": [],
   "source": [
    "# load the pre-processed dataset\n",
    "img = sq.datasets.visium_hne_image()\n",
    "adata = sq.datasets.visium_hne_adata()"
   ]
  },
  {
   "cell_type": "code",
   "execution_count": null,
   "id": "df54a925-6d32-4960-98f6-a02735c957c6",
   "metadata": {},
   "outputs": [],
   "source": [
    "# sq.gr.spatial_neighbors(adata)\n",
    "# sq.gr.nhood_enrichment(adata, cluster_key=\"cluster\")\n",
    "# sq.pl.nhood_enrichment(adata, cluster_key=\"cluster\")"
   ]
  },
  {
   "cell_type": "code",
   "execution_count": null,
   "id": "99f1ce36-e5fc-4393-a1c3-7c090fbd7234",
   "metadata": {},
   "outputs": [],
   "source": []
  },
  {
   "cell_type": "markdown",
   "id": "588a0027-dea4-4aa0-9826-ad2aae0ee744",
   "metadata": {},
   "source": [
    "Set up"
   ]
  },
  {
   "cell_type": "code",
   "execution_count": null,
   "id": "99f519c5-b804-49e3-935c-8f377420cb0b",
   "metadata": {},
   "outputs": [],
   "source": [
    "## SpatialDM tutorial data\n",
    "# adata = sdm.datasets.melanoma()\n",
    "# raw = pd.DataFrame(adata.raw.X, index=adata.obs_names, columns=adata.raw.var_names)\n",
    "# log = pd.DataFrame(adata.X, index=adata.obs_names, columns=adata.var_names)"
   ]
  },
  {
   "cell_type": "code",
   "execution_count": null,
   "id": "d544a504-a177-4dd5-882e-9106d631fc04",
   "metadata": {},
   "outputs": [],
   "source": []
  },
  {
   "cell_type": "code",
   "execution_count": null,
   "id": "bd5c93b9-17f2-47ea-8092-85d280d88920",
   "metadata": {},
   "outputs": [],
   "source": [
    "raw = pd.DataFrame(adata.raw.X.todense(), index=adata.obs_names, columns=adata.raw.var_names)\n",
    "log = pd.DataFrame(adata.X.todense(), index=adata.obs_names, columns=adata.var_names)\n",
    "# raw = log # yeah raw is just dumb"
   ]
  },
  {
   "cell_type": "code",
   "execution_count": null,
   "id": "5df8ab63-d30e-4a0a-a07c-b203d10f22f2",
   "metadata": {},
   "outputs": [],
   "source": []
  },
  {
   "cell_type": "code",
   "execution_count": null,
   "id": "2fbb1a29-d8be-4935-9951-bc1f4ee061d3",
   "metadata": {},
   "outputs": [],
   "source": [
    "spatialcoord = pd.DataFrame(adata.obsm['spatial'], index=adata.obs_names, columns=['x','y'])"
   ]
  },
  {
   "cell_type": "code",
   "execution_count": null,
   "id": "1cc2d7d0-5d9d-4125-8c21-8dd1e8f65b64",
   "metadata": {},
   "outputs": [],
   "source": []
  },
  {
   "cell_type": "code",
   "execution_count": null,
   "id": "f47dfce3-68f7-4f63-bbd4-f704e5895c0c",
   "metadata": {},
   "outputs": [],
   "source": [
    "# Preprocessing\n",
    "my_sample = sdm.SpatialDM(log, raw, spatialcoord)     # load spatial data with simply log, raw, spatial input"
   ]
  },
  {
   "cell_type": "code",
   "execution_count": null,
   "id": "dbba8b12-874a-4e92-be93-7d5dac6fde2e",
   "metadata": {},
   "outputs": [],
   "source": [
    "my_sample.extract_lr(species='mouse', min_cell=3)"
   ]
  },
  {
   "cell_type": "code",
   "execution_count": null,
   "id": "50c65bc3-b468-4105-b20a-e5fa0bd3c79d",
   "metadata": {},
   "outputs": [],
   "source": []
  },
  {
   "cell_type": "markdown",
   "id": "5bd196a8-36a9-4c79-81c9-294149600a3c",
   "metadata": {},
   "source": [
    "We set radial basis kernel parameter l = 1.2, and trimmed all weights < 0.2 (cutoff) to match the normal range of CCC (200 micrometers, 1 spot away from the sender cell here)"
   ]
  },
  {
   "cell_type": "code",
   "execution_count": null,
   "id": "9931cad0-6ac5-463d-849d-b5016729d6a6",
   "metadata": {},
   "outputs": [],
   "source": [
    "my_sample.weight_matrix(l=200, cutoff=0.2, single_cell=False)  # Not single-cell resolution"
   ]
  },
  {
   "cell_type": "code",
   "execution_count": null,
   "id": "e8c3907d-32c1-41fa-a328-5e4b75023b55",
   "metadata": {},
   "outputs": [],
   "source": [
    "import matplotlib.pyplot as plt\n",
    "plt.scatter(my_sample.spatialcoord.x, my_sample.spatialcoord.y, c=my_sample.rbf_d[50])"
   ]
  },
  {
   "cell_type": "code",
   "execution_count": null,
   "id": "793f44f5-8ef8-429f-baa7-9de1c04fd7a3",
   "metadata": {},
   "outputs": [],
   "source": []
  },
  {
   "cell_type": "code",
   "execution_count": null,
   "id": "4691ae06-3757-474d-8006-fcf395683c6a",
   "metadata": {},
   "outputs": [],
   "source": [
    "my_sample.rbf_d"
   ]
  },
  {
   "cell_type": "code",
   "execution_count": null,
   "id": "152b6054-d63e-40e2-a7a4-2530745083e2",
   "metadata": {},
   "outputs": [],
   "source": []
  },
  {
   "cell_type": "code",
   "execution_count": null,
   "id": "ea672de6-7eb5-4d08-8061-d5e5ac42ac5c",
   "metadata": {},
   "outputs": [],
   "source": []
  },
  {
   "cell_type": "code",
   "execution_count": null,
   "id": "8d64c390-a818-41ad-a0fa-c5b53b483c0b",
   "metadata": {},
   "outputs": [],
   "source": []
  },
  {
   "cell_type": "markdown",
   "id": "bbb6c940-74a4-491a-bf64-3c44aa30b572",
   "metadata": {
    "tags": []
   },
   "source": [
    "Global Moran's I"
   ]
  },
  {
   "cell_type": "code",
   "execution_count": null,
   "id": "f8f2c4b0-8252-42cc-87e7-9ac77090ac93",
   "metadata": {},
   "outputs": [],
   "source": [
    "%%time\n",
    "# Global selection of significant pairs\n",
    "my_sample.spatialdm_global(1000, method='both', select_num=None)  # complete in seconds\n",
    "my_sample.sig_pairs(method='permutation', fdr=True, threshold=0.1)  # select significant pairs"
   ]
  },
  {
   "cell_type": "code",
   "execution_count": null,
   "id": "434e09c8-c9fd-4b45-8781-f5b12a30957d",
   "metadata": {},
   "outputs": [],
   "source": []
  },
  {
   "cell_type": "code",
   "execution_count": null,
   "id": "f91482f5-dd89-4237-a097-0a6dd09193bb",
   "metadata": {},
   "outputs": [],
   "source": []
  },
  {
   "cell_type": "markdown",
   "id": "ee4823d7-42ff-438a-be47-3b01bfec3350",
   "metadata": {},
   "source": [
    "Moran's global I per LR across the slide"
   ]
  },
  {
   "cell_type": "code",
   "execution_count": null,
   "id": "2f52ce05-31de-44b1-bc1a-8de26465c5c4",
   "metadata": {},
   "outputs": [],
   "source": [
    "res = my_sample.global_res"
   ]
  },
  {
   "cell_type": "code",
   "execution_count": null,
   "id": "32475904-229b-4c1f-876d-886b9b971235",
   "metadata": {},
   "outputs": [],
   "source": [
    "res['global_I'] = my_sample.global_I"
   ]
  },
  {
   "cell_type": "code",
   "execution_count": null,
   "id": "fdfbe0c0-afb5-46be-a4ce-6e47793970a9",
   "metadata": {},
   "outputs": [],
   "source": [
    "res"
   ]
  },
  {
   "cell_type": "code",
   "execution_count": null,
   "id": "90176935-c369-4ddb-b627-f52f502b7be4",
   "metadata": {},
   "outputs": [],
   "source": [
    "res[res.index.str.contains('SEMA4D_PLXNB3')][res.global_I > 0.2].sort_values(by='global_I')"
   ]
  },
  {
   "cell_type": "code",
   "execution_count": null,
   "id": "0ae72329-0907-44d0-86a1-3bb3d2f9a1df",
   "metadata": {},
   "outputs": [],
   "source": []
  },
  {
   "cell_type": "code",
   "execution_count": null,
   "id": "7dd8a5c0-63b5-4a54-97a2-e7ed3ab43de5",
   "metadata": {},
   "outputs": [],
   "source": [
    "pl.global_plot(my_sample, pairs=['CSF1_CSF1R'])  # Overview of global selection"
   ]
  },
  {
   "cell_type": "code",
   "execution_count": null,
   "id": "b5b7a368-e4c3-4bec-9248-3c1a63f03629",
   "metadata": {},
   "outputs": [],
   "source": []
  },
  {
   "cell_type": "markdown",
   "id": "d6199c8e-1676-4448-8217-74cb99993535",
   "metadata": {},
   "source": [
    "Local Moran's I"
   ]
  },
  {
   "cell_type": "code",
   "execution_count": null,
   "id": "eefbbdce-7eae-4eaf-81b4-307cee44c0d0",
   "metadata": {},
   "outputs": [],
   "source": [
    "# Local selection of significant spots\n",
    "my_sample.spatialdm_local(n_perm=100, method='both', select_num=None, nproc=1)     # local spot selection complete in seconds\n",
    "my_sample.sig_spots(threshold=0.1)  # significant local spots\n",
    "pl.plot_pairs(my_sample, ['CSF1_CSF1R'], marker='s') # visualize known melanoma pair(s)"
   ]
  },
  {
   "cell_type": "code",
   "execution_count": null,
   "id": "feca61eb-f2eb-48c8-885c-7c8fa27ab55c",
   "metadata": {},
   "outputs": [],
   "source": []
  },
  {
   "cell_type": "code",
   "execution_count": null,
   "id": "542cd867-6eb9-46cb-b02c-1ac7357d0116",
   "metadata": {},
   "outputs": [],
   "source": [
    "my_sample.local_z"
   ]
  },
  {
   "cell_type": "code",
   "execution_count": null,
   "id": "f453e085-1db0-44f6-b782-2fcae792a966",
   "metadata": {},
   "outputs": [],
   "source": []
  },
  {
   "cell_type": "code",
   "execution_count": null,
   "id": "8545001c-5de0-40c4-ad5f-a68a23e7a418",
   "metadata": {},
   "outputs": [],
   "source": []
  },
  {
   "cell_type": "markdown",
   "id": "b6f109a9-fcb4-4485-a291-47b79918135a",
   "metadata": {},
   "source": [
    "Re-implement Moran's Global I"
   ]
  },
  {
   "cell_type": "markdown",
   "id": "45724a71-c1c3-483f-8c62-0757931c200f",
   "metadata": {},
   "source": [
    "1. DataFrame /w L & R \n",
    "2. Calulcate L & R means & props (accounting for complexes)\n",
    "3. Re-implement radial kernel weight\n",
    "4. Moran's R\n",
    "5. p-val /w Permutations\n",
    "6. z-score pvals"
   ]
  },
  {
   "cell_type": "code",
   "execution_count": null,
   "id": "34fc0b32-ab9e-4ffd-8f9f-0f7eec9ea469",
   "metadata": {},
   "outputs": [],
   "source": [
    "adata"
   ]
  },
  {
   "cell_type": "code",
   "execution_count": null,
   "id": "c200fb94-54b0-4752-a35e-c14d3ea94afd",
   "metadata": {},
   "outputs": [],
   "source": [
    "from liana.method._pipe_utils._pre import prep_check_adata\n",
    "from liana.resource import select_resource, explode_complexes\n",
    "from threadpoolctl import threadpool_limits"
   ]
  },
  {
   "cell_type": "code",
   "execution_count": null,
   "id": "3f9ac084-bb2a-415a-b37a-9c623b6f5d20",
   "metadata": {},
   "outputs": [],
   "source": [
    "from liana.method._pipe_utils import prep_check_adata, filter_resource"
   ]
  },
  {
   "cell_type": "code",
   "execution_count": null,
   "id": "f21904f7-34f5-417f-8e8e-674588b60016",
   "metadata": {},
   "outputs": [],
   "source": [
    "from liana.method._liana_pipe import filter_reassemble_complexes"
   ]
  },
  {
   "cell_type": "code",
   "execution_count": null,
   "id": "805a8244-1808-4800-a8e1-2ae5eaba6491",
   "metadata": {},
   "outputs": [],
   "source": []
  },
  {
   "cell_type": "code",
   "execution_count": null,
   "id": "639a682c-7475-4e8c-b3bd-25b812ab7014",
   "metadata": {},
   "outputs": [],
   "source": [
    "_key_cols = ['ligand_complex', 'receptor_complex']"
   ]
  },
  {
   "cell_type": "code",
   "execution_count": null,
   "id": "a3157e9f-7cc1-4ba5-849a-6efde5b0d415",
   "metadata": {},
   "outputs": [],
   "source": []
  },
  {
   "cell_type": "code",
   "execution_count": null,
   "id": "ff6c6d1e-772a-4ced-a4a6-5b0e31710132",
   "metadata": {},
   "outputs": [],
   "source": [
    "adata = prep_check_adata(adata, groupby='cluster', obsm_keys=['spatial'], min_cells=3)"
   ]
  },
  {
   "cell_type": "code",
   "execution_count": null,
   "id": "9c248e86-cfb4-430e-823f-c0d985c3a53a",
   "metadata": {},
   "outputs": [],
   "source": [
    "resource = select_resource('MouseConsensus')"
   ]
  },
  {
   "cell_type": "code",
   "execution_count": null,
   "id": "c6793695-38f1-40b9-b3fe-455638be59a3",
   "metadata": {},
   "outputs": [],
   "source": [
    "adata.var_names"
   ]
  },
  {
   "cell_type": "code",
   "execution_count": null,
   "id": "3aeabfad-4f29-4209-8a9a-dd442fa27fce",
   "metadata": {},
   "outputs": [],
   "source": [
    "adata.obsm"
   ]
  },
  {
   "cell_type": "code",
   "execution_count": null,
   "id": "fa5aa1a6-f279-4955-99e1-8939f966778c",
   "metadata": {},
   "outputs": [],
   "source": []
  },
  {
   "cell_type": "code",
   "execution_count": null,
   "id": "15e1c8f2-a4b9-49cb-8460-728f78319582",
   "metadata": {},
   "outputs": [],
   "source": [
    "# # fix this later\n",
    "# temp = sq.datasets.visium_hne_adata()\n",
    "# # adata.layers['counts'] = temp.raw.X THIS IS JUST BAD!!\n",
    "# del temp\n",
    "# gc.collect()"
   ]
  },
  {
   "cell_type": "code",
   "execution_count": null,
   "id": "35c45c96-3a83-4da1-aab3-df0f03ad1711",
   "metadata": {},
   "outputs": [],
   "source": []
  },
  {
   "cell_type": "markdown",
   "id": "9f3bdcd4-bef9-4ad3-a8bf-c3e13e2cbb5c",
   "metadata": {},
   "source": [
    "Process Resource"
   ]
  },
  {
   "cell_type": "code",
   "execution_count": null,
   "id": "da100696-556a-4d7b-9362-be7d7872cdc7",
   "metadata": {},
   "outputs": [],
   "source": [
    "resource = explode_complexes(resource)"
   ]
  },
  {
   "cell_type": "code",
   "execution_count": null,
   "id": "725dbe95-ec07-48d8-a9f0-d61a825ae421",
   "metadata": {},
   "outputs": [],
   "source": [
    "resource = filter_resource(resource, adata.var_names)"
   ]
  },
  {
   "cell_type": "code",
   "execution_count": null,
   "id": "e06caf7e-8b17-48f4-83c0-bc2b66ce3edf",
   "metadata": {},
   "outputs": [],
   "source": [
    "resource"
   ]
  },
  {
   "cell_type": "code",
   "execution_count": null,
   "id": "d459937c-1f07-498e-823a-683783e5d02d",
   "metadata": {},
   "outputs": [],
   "source": []
  },
  {
   "cell_type": "markdown",
   "id": "f6434cc2-5622-457b-bcd3-d1891587d1e9",
   "metadata": {},
   "source": [
    "Get slide means"
   ]
  },
  {
   "cell_type": "code",
   "execution_count": null,
   "id": "48b5579d-0df9-4947-9b0c-a09c122b0a28",
   "metadata": {},
   "outputs": [],
   "source": [
    "entities = np.union1d(np.unique(resource[\"ligand\"]),\n",
    "                      np.unique(resource[\"receptor\"]))"
   ]
  },
  {
   "cell_type": "code",
   "execution_count": null,
   "id": "c885ae99-23a0-4938-b14a-cfb7bdf9cd2b",
   "metadata": {},
   "outputs": [],
   "source": [
    "# Filter to only include the relevant genes\n",
    "adata = adata[:, np.intersect1d(entities, adata.var.index)]"
   ]
  },
  {
   "cell_type": "code",
   "execution_count": null,
   "id": "64967752-5c77-49a7-9233-47620b2e32a0",
   "metadata": {},
   "outputs": [],
   "source": [
    "lr_stats = pd.DataFrame({'means': adata.X.mean(axis=0).A.flatten(), \n",
    "                        'props': adata.X.getnnz(axis=0) / adata.X.shape[0]},\n",
    "                        index=adata.var_names).reset_index().rename(columns={'index': 'gene'})"
   ]
  },
  {
   "cell_type": "code",
   "execution_count": null,
   "id": "ecc7bd92-e957-4cde-805c-8a931d95049c",
   "metadata": {},
   "outputs": [],
   "source": []
  },
  {
   "cell_type": "code",
   "execution_count": null,
   "id": "70bdcd97-8a70-49da-9c49-d0276dfb0b80",
   "metadata": {},
   "outputs": [],
   "source": [
    "def _rename_means(lr_stats, entity):\n",
    "    df = lr_stats.copy()\n",
    "    df.columns = df.columns.map(lambda x: entity + '_' + str(x) if x!='gene' else 'gene')\n",
    "    return df.rename(columns = {'gene':entity})"
   ]
  },
  {
   "cell_type": "code",
   "execution_count": null,
   "id": "74bb5077-73e2-4956-be18-d1cfa130556b",
   "metadata": {},
   "outputs": [],
   "source": [
    "lr_res = resource.merge(_rename_means(lr_stats, entity='ligand')).merge(_rename_means(lr_stats, entity='receptor'))"
   ]
  },
  {
   "cell_type": "code",
   "execution_count": null,
   "id": "e8294e69-e865-48ff-a141-15e17f6800bd",
   "metadata": {},
   "outputs": [],
   "source": [
    "# # Filter non-expressed\n",
    "# lr_res = lr_res[(lr_res.ligand_props > 0.05) & (lr_res.receptor_props > 0.05)]"
   ]
  },
  {
   "cell_type": "code",
   "execution_count": null,
   "id": "04966c9c-d95d-436d-a89b-9bbc99d65dfb",
   "metadata": {},
   "outputs": [],
   "source": []
  },
  {
   "cell_type": "code",
   "execution_count": null,
   "id": "ea58a506-fa6f-4cff-9c7f-1ea40101c688",
   "metadata": {},
   "outputs": [],
   "source": []
  },
  {
   "cell_type": "markdown",
   "id": "7f3733e4-75b4-4dad-ba0c-32b2dc645cbf",
   "metadata": {},
   "source": [
    "Recomplexify"
   ]
  },
  {
   "cell_type": "code",
   "execution_count": null,
   "id": "9a89cc35-1d5f-4e4c-a3ae-c99e55bb26c3",
   "metadata": {},
   "outputs": [],
   "source": [
    "lr_res = filter_reassemble_complexes(lr_res=lr_res,\n",
    "                                     _key_cols=_key_cols,\n",
    "                                     expr_prop=0.05,\n",
    "                                     complex_cols=['ligand_means', 'receptor_means'])"
   ]
  },
  {
   "cell_type": "code",
   "execution_count": null,
   "id": "0379e921-93a0-4c88-9b38-b55b640fc390",
   "metadata": {},
   "outputs": [],
   "source": [
    "lr_res[lr_res.interaction.str.contains('Plxnb3')]"
   ]
  },
  {
   "cell_type": "code",
   "execution_count": null,
   "id": "a5ba5c7b-a0fe-442e-af31-702cf330d34c",
   "metadata": {},
   "outputs": [],
   "source": []
  },
  {
   "cell_type": "markdown",
   "id": "8f752b3c-aee8-4ba6-8118-6b242457290f",
   "metadata": {},
   "source": [
    "For now I will use their spatial kernel weights"
   ]
  },
  {
   "cell_type": "code",
   "execution_count": null,
   "id": "23a3c091-2f99-405e-8839-2f6c93af57cd",
   "metadata": {},
   "outputs": [],
   "source": [
    "rbf_d = my_sample.rbf_d"
   ]
  },
  {
   "cell_type": "code",
   "execution_count": null,
   "id": "6a2fe270-bc96-44b6-b4d0-1cb340509297",
   "metadata": {},
   "outputs": [],
   "source": [
    "# every spot to every spot:\n",
    "my_sample.rbf_d.shape[0]"
   ]
  },
  {
   "cell_type": "code",
   "execution_count": null,
   "id": "019ee557-6e17-4476-be71-b3fc2a641661",
   "metadata": {},
   "outputs": [],
   "source": []
  },
  {
   "cell_type": "code",
   "execution_count": null,
   "id": "bdbfad52-8a52-49a6-9071-7567b0d53770",
   "metadata": {},
   "outputs": [],
   "source": []
  },
  {
   "cell_type": "markdown",
   "id": "c62ef19d-76ef-4702-9b63-8fadeb7a5a72",
   "metadata": {},
   "source": [
    "(Vectorized) For all interactions:"
   ]
  },
  {
   "cell_type": "markdown",
   "id": "eb94bbd5-86ee-4088-8618-0e63532911fa",
   "metadata": {},
   "source": [
    "norm expr mat - i.e. (x - x^) & (y - y^)"
   ]
  },
  {
   "cell_type": "code",
   "execution_count": null,
   "id": "02883e62-0b26-4f2a-8ae3-ef63b11ae561",
   "metadata": {},
   "outputs": [],
   "source": [
    "norm_mat = np.array(adata.X - np.array(adata.X.mean(axis=0)))\n",
    "sqrt_a = np.sqrt(np.sum(np.power(norm_mat, 2), axis=0)).T"
   ]
  },
  {
   "cell_type": "code",
   "execution_count": null,
   "id": "9784d5e6-46e1-464d-b051-5e077269101a",
   "metadata": {},
   "outputs": [],
   "source": [
    "ligand_pos = {entity: np.where(adata.var_names == entity)[0][0] for entity\n",
    "              in lr_res['ligand']}\n",
    "receptor_pos = {entity: np.where(adata.var_names == entity)[0][0] for entity\n",
    "                in lr_res['receptor']}"
   ]
  },
  {
   "cell_type": "code",
   "execution_count": null,
   "id": "36b23ea9-737d-4a98-acb0-e284ac0a86db",
   "metadata": {},
   "outputs": [],
   "source": []
  },
  {
   "cell_type": "markdown",
   "id": "ebe898fa-2873-4691-a326-3d7dc1bc6eda",
   "metadata": {},
   "source": [
    "Calculate Global Moran's R"
   ]
  },
  {
   "cell_type": "code",
   "execution_count": null,
   "id": "0c323c8e-990d-48e6-b832-7f78c8725377",
   "metadata": {},
   "outputs": [],
   "source": [
    "import scipy\n",
    "from tqdm import tqdm"
   ]
  },
  {
   "cell_type": "code",
   "execution_count": null,
   "id": "8a9ecc86-728b-41c2-9ce8-2a5904856076",
   "metadata": {},
   "outputs": [],
   "source": []
  },
  {
   "cell_type": "code",
   "execution_count": null,
   "id": "aacf06ea-704f-4127-a80c-6bc980a1dfbe",
   "metadata": {},
   "outputs": [],
   "source": [
    "# essential for this to be sparse\n",
    "dist = scipy.sparse.csr_matrix(my_sample.rbf_d)"
   ]
  },
  {
   "cell_type": "code",
   "execution_count": null,
   "id": "cacd21fd-4cf3-41f0-b40e-78dbe1a032cf",
   "metadata": {},
   "outputs": [],
   "source": [
    "norm_mat = np.array(adata.X - np.array(adata.X.mean(axis=0))) # normalized x matrix"
   ]
  },
  {
   "cell_type": "code",
   "execution_count": null,
   "id": "5d237659-2010-4c8b-900e-78cc56aaa54b",
   "metadata": {},
   "outputs": [],
   "source": [
    "norm_mat = norm_mat / np.sqrt(np.sum(norm_mat**2, axis=0, keepdims=True))"
   ]
  },
  {
   "cell_type": "code",
   "execution_count": null,
   "id": "a3c0f3ca-f134-4378-9814-c53a112ddb6b",
   "metadata": {},
   "outputs": [],
   "source": []
  },
  {
   "cell_type": "code",
   "execution_count": null,
   "id": "845d6d7f-e441-4880-91b6-7bfe31a3cbed",
   "metadata": {},
   "outputs": [],
   "source": [
    "# sqrt_a = np.sqrt(np.sum(np.power(norm_mat, 2), axis=0)).T # sqrt matrix\n",
    "# positions\n",
    "ligand_pos = {entity: np.where(adata.var_names == entity)[0][0] for entity\n",
    "              in lr_res['ligand']}\n",
    "receptor_pos = {entity: np.where(adata.var_names == entity)[0][0] for entity\n",
    "                in lr_res['receptor']}"
   ]
  },
  {
   "cell_type": "code",
   "execution_count": null,
   "id": "ae980a5d-804d-426d-a268-2724626c7de5",
   "metadata": {},
   "outputs": [],
   "source": [
    "n_perm = 1000"
   ]
  },
  {
   "cell_type": "code",
   "execution_count": null,
   "id": "68353ce8-3802-4566-a36a-3582a13f6425",
   "metadata": {},
   "outputs": [],
   "source": []
  },
  {
   "cell_type": "code",
   "execution_count": null,
   "id": "c0af3d99-0ba6-4220-96a5-ffeeb799a507",
   "metadata": {},
   "outputs": [],
   "source": [
    "ligand_mat = np.array([norm_mat[:, ligand_pos[ligand]] for ligand in lr_res.ligand])\n",
    "receptor_mat = np.array([norm_mat[:, receptor_pos[receptor]] for receptor in lr_res.receptor])\n",
    "# ligand_sqrt = np.array([sqrt_a[ligand_pos[ligand]] for ligand in lr_res.ligand])\n",
    "# receptor_sqrt = np.array([sqrt_a[receptor_pos[receptor]] for receptor in lr_res.receptor])"
   ]
  },
  {
   "cell_type": "markdown",
   "id": "73fe553c-cb99-4feb-a6a9-f9f4f71fac14",
   "metadata": {},
   "source": [
    "global_r for all"
   ]
  },
  {
   "cell_type": "code",
   "execution_count": null,
   "id": "b0e4ae67-0fae-43bb-95b6-988ccdc05c76",
   "metadata": {},
   "outputs": [],
   "source": [
    "global_r = ((ligand_mat @ dist)* receptor_mat).sum(axis=1)"
   ]
  },
  {
   "cell_type": "code",
   "execution_count": null,
   "id": "e261c435-fe6e-4861-950a-00e6e072fc19",
   "metadata": {},
   "outputs": [],
   "source": [
    "lr_res['global_r'] = global_r"
   ]
  },
  {
   "cell_type": "code",
   "execution_count": null,
   "id": "d7f9855f-3ffc-4e3e-acd5-1c6539d87e54",
   "metadata": {},
   "outputs": [],
   "source": []
  },
  {
   "cell_type": "markdown",
   "id": "3f79c530-cd39-4408-aea7-d3fde5aff77e",
   "metadata": {},
   "source": [
    "Create a perm_matrix for all LRs"
   ]
  },
  {
   "cell_type": "markdown",
   "id": "c892fdcd-cc67-4959-93fb-b9a72826fec1",
   "metadata": {},
   "source": [
    "Permutation p-vals"
   ]
  },
  {
   "cell_type": "code",
   "execution_count": null,
   "id": "cbf8d448-6877-4596-851d-4bbaebbf0e0c",
   "metadata": {},
   "outputs": [],
   "source": [
    "rng = np.random.default_rng()"
   ]
  },
  {
   "cell_type": "code",
   "execution_count": null,
   "id": "8ae96304-531e-40a2-b8c4-380f4361841c",
   "metadata": {},
   "outputs": [],
   "source": [
    "idx = norm_mat.shape[0]"
   ]
  },
  {
   "cell_type": "code",
   "execution_count": null,
   "id": "dbb3f2a4-d14f-47ff-b26f-023e0bc6cce1",
   "metadata": {},
   "outputs": [],
   "source": [
    "# mat /w n_perms x LR_n\n",
    "perm_mat = np.zeros((n_perm, global_r.shape[0]))"
   ]
  },
  {
   "cell_type": "code",
   "execution_count": null,
   "id": "1b83951b-009f-4777-9a2e-86730c242b1e",
   "metadata": {},
   "outputs": [],
   "source": []
  },
  {
   "cell_type": "code",
   "execution_count": null,
   "id": "dd429a7d-52dd-47d3-93d7-99805e71c178",
   "metadata": {},
   "outputs": [],
   "source": [
    "%%time\n",
    "for perm in tqdm(range(n_perm)):\n",
    "    _idx = rng.permutation(idx)\n",
    "    perm_mat[perm,:] = ((ligand_mat[:, _idx] @ dist) * receptor_mat).sum(axis=1)"
   ]
  },
  {
   "cell_type": "code",
   "execution_count": null,
   "id": "59c460ed-cfec-4636-802e-7dd7fc8d71b7",
   "metadata": {},
   "outputs": [],
   "source": [
    "global_pvals = 1 - (global_r > perm_mat).sum(axis=0) / n_perm"
   ]
  },
  {
   "cell_type": "code",
   "execution_count": null,
   "id": "95869dcf-e6d7-4acd-994b-daf38f1e337f",
   "metadata": {},
   "outputs": [],
   "source": [
    "lr_res['global_pvals'] = global_pvals"
   ]
  },
  {
   "cell_type": "code",
   "execution_count": null,
   "id": "583f6827-8757-44fd-913a-687e84c67d6d",
   "metadata": {},
   "outputs": [],
   "source": [
    "lr_res.sort_values('global_r')"
   ]
  },
  {
   "cell_type": "code",
   "execution_count": null,
   "id": "e1d5cde8-9f19-49c8-9330-e9a9e49c240a",
   "metadata": {},
   "outputs": [],
   "source": []
  },
  {
   "cell_type": "code",
   "execution_count": null,
   "id": "e7991d84-98bf-49c8-a666-213d5588d535",
   "metadata": {},
   "outputs": [],
   "source": []
  },
  {
   "cell_type": "code",
   "execution_count": null,
   "id": "2055597e-f6f0-4d2c-8da9-3b9018f5fa31",
   "metadata": {},
   "outputs": [],
   "source": []
  },
  {
   "cell_type": "markdown",
   "id": "7d866e53-fe80-4e72-8bf0-a7b304959171",
   "metadata": {},
   "source": [
    "Z-score p-vals"
   ]
  },
  {
   "cell_type": "code",
   "execution_count": null,
   "id": "bea4b544-8e05-4a2e-8bdb-0235397b492f",
   "metadata": {},
   "outputs": [],
   "source": [
    "from scipy import stats"
   ]
  },
  {
   "cell_type": "code",
   "execution_count": null,
   "id": "79e079ca-4b58-41e8-8732-6cf7c55360b3",
   "metadata": {},
   "outputs": [],
   "source": [
    "dist = np.array(dist.todense())"
   ]
  },
  {
   "cell_type": "code",
   "execution_count": null,
   "id": "de57b5cd-612b-4006-9304-942d671c5b7b",
   "metadata": {},
   "outputs": [],
   "source": [
    "# global distance variance (~copy pasted)\n",
    "n = adata.shape[0]\n",
    "nm = (n ** 2 * (dist * dist).sum()) - (2 * n * (dist.sum(axis=1) * dist.sum(axis=0)).sum()) + (dist.sum() ** 2)\n",
    "dm = n ** 2 * (n - 1) ** 2"
   ]
  },
  {
   "cell_type": "code",
   "execution_count": null,
   "id": "23ba2b73-a833-4731-835f-95f6db843855",
   "metadata": {},
   "outputs": [],
   "source": [
    "# squered variance\n",
    "dist_var = nm/dm  # aka st"
   ]
  },
  {
   "cell_type": "code",
   "execution_count": null,
   "id": "93940dab-878e-4e21-b547-ce8d150a4bc8",
   "metadata": {},
   "outputs": [],
   "source": [
    "dist_var_sq = dist_var ** (1 / 2)"
   ]
  },
  {
   "cell_type": "code",
   "execution_count": null,
   "id": "27c01522-04a6-405b-8292-31c5350973d7",
   "metadata": {},
   "outputs": [],
   "source": [
    "dist_var_sq"
   ]
  },
  {
   "cell_type": "code",
   "execution_count": null,
   "id": "4e312e41-43fe-4fb1-92ce-a07ab58965f6",
   "metadata": {},
   "outputs": [],
   "source": []
  },
  {
   "cell_type": "code",
   "execution_count": null,
   "id": "9fa2dc3f-9aba-49e1-aead-22c5999d420a",
   "metadata": {},
   "outputs": [],
   "source": [
    "global_zscores = global_r / dist_var_sq"
   ]
  },
  {
   "cell_type": "code",
   "execution_count": null,
   "id": "8bd5718b-25b3-498a-9698-b5f93cafc7c8",
   "metadata": {},
   "outputs": [],
   "source": [
    "global_zpvals = stats.norm.sf(global_zscores)"
   ]
  },
  {
   "cell_type": "code",
   "execution_count": null,
   "id": "dd88291a-3c40-4ce9-a2c8-ff5470a87326",
   "metadata": {},
   "outputs": [],
   "source": []
  },
  {
   "cell_type": "code",
   "execution_count": null,
   "id": "ef9752b2-6e83-4071-b7c3-7ee1cb44390f",
   "metadata": {},
   "outputs": [],
   "source": [
    "# assign to LR\n",
    "lr_res['global_zscores'] = global_zscores"
   ]
  },
  {
   "cell_type": "code",
   "execution_count": null,
   "id": "20f7459a-58cc-4f53-bc97-2a09c1faa114",
   "metadata": {},
   "outputs": [],
   "source": [
    "lr_res['global_zpvals'] = global_zpvals"
   ]
  },
  {
   "cell_type": "code",
   "execution_count": null,
   "id": "9bdad689-d64c-4418-8993-c3f55998f6fe",
   "metadata": {},
   "outputs": [],
   "source": []
  },
  {
   "cell_type": "code",
   "execution_count": null,
   "id": "4dabe797-f247-4f00-bdac-d3471f47a95c",
   "metadata": {},
   "outputs": [],
   "source": []
  },
  {
   "cell_type": "markdown",
   "id": "af4311ca-3c3e-4e55-b896-dcb364165135",
   "metadata": {},
   "source": [
    "Compare global"
   ]
  },
  {
   "cell_type": "code",
   "execution_count": null,
   "id": "6ff518bd-1d79-40c9-809d-f65d3c0b9d96",
   "metadata": {},
   "outputs": [],
   "source": [
    "lr_res.interaction = lr_res.interaction.str.upper()\n",
    "lr_res.interaction = lr_res.interaction.str.replace('|', '_')"
   ]
  },
  {
   "cell_type": "code",
   "execution_count": null,
   "id": "fd60e83e-ed66-43f9-8f67-f046b9879ff6",
   "metadata": {},
   "outputs": [],
   "source": [
    "res = res.reset_index().rename(columns={'index':'interaction'})"
   ]
  },
  {
   "cell_type": "code",
   "execution_count": null,
   "id": "a977c151-1941-4185-93d9-fda2ee172a6c",
   "metadata": {},
   "outputs": [],
   "source": [
    "res = res[[len(rec) < 2 for rec in res.receptor]]"
   ]
  },
  {
   "cell_type": "code",
   "execution_count": null,
   "id": "b6836dc2-d805-4c87-accb-8b88118a1092",
   "metadata": {},
   "outputs": [],
   "source": []
  },
  {
   "cell_type": "code",
   "execution_count": null,
   "id": "5149a40e-beb0-490e-b688-ebca13c397dc",
   "metadata": {},
   "outputs": [],
   "source": [
    "lr_res[lr_res.interaction==\"SEMA4D_PLXNB3\"]"
   ]
  },
  {
   "cell_type": "code",
   "execution_count": null,
   "id": "a2caf866-f52f-4436-b050-94bef6a6acbb",
   "metadata": {},
   "outputs": [],
   "source": [
    "res[res.interaction==\"SEMA4D_PLXNB3\"]"
   ]
  },
  {
   "cell_type": "code",
   "execution_count": null,
   "id": "fd051e39-6912-45b8-bba5-a2ca93583a05",
   "metadata": {},
   "outputs": [],
   "source": []
  },
  {
   "cell_type": "code",
   "execution_count": null,
   "id": "238c9268-2ec1-44bc-b855-a8a5ed4f65f1",
   "metadata": {},
   "outputs": [],
   "source": [
    "# If \"exponential\" the weights are calculated based on the distance to the spatial\n",
    "# unit \\var{j} and the parameter \\code{l} using the exponential function\n",
    "# \\deqn{w_{ij} = e^{-\\frac{d_{ij}}{l}}}{w(i,j) = exp(-d(i,j)/l)}\n",
    "# '\n",
    "# ' The parameter \\code{l} here denotes signaling length. For more information\n",
    "# ' consult Oyler-Yaniv et. al. Immunity 46(4) 2017.\n",
    "# '\n",
    "# ' If \"linear\" the weights are calculated based on the distance to the spatial\n",
    "# ' unit \\var{j} and the parameter \\code{l} using the linear function\n",
    "# ' \\deqn{w_{ij} = 1- d(i,j)/l}{w(i,j) = 1- d(i,j)/l}"
   ]
  },
  {
   "cell_type": "code",
   "execution_count": null,
   "id": "bdd3ccdb-69f7-4663-bf00-572c03395329",
   "metadata": {},
   "outputs": [],
   "source": [
    "joined = lr_res.merge(res, on='interaction')"
   ]
  },
  {
   "cell_type": "code",
   "execution_count": null,
   "id": "c527f15b-d2e5-44b7-a47b-d3094b4ddd40",
   "metadata": {},
   "outputs": [],
   "source": [
    "joined.sort_values('global_r')"
   ]
  },
  {
   "cell_type": "code",
   "execution_count": null,
   "id": "dfb87b39-bb10-4585-a42e-895d5922e980",
   "metadata": {},
   "outputs": [],
   "source": [
    "import scipy"
   ]
  },
  {
   "cell_type": "code",
   "execution_count": null,
   "id": "b0e0943b-8638-4e20-bac8-659d4e291b54",
   "metadata": {},
   "outputs": [],
   "source": [
    "joined"
   ]
  },
  {
   "cell_type": "code",
   "execution_count": null,
   "id": "e73c1234-dedb-43ff-b8a6-c86f7daa2653",
   "metadata": {},
   "outputs": [],
   "source": [
    "scipy.stats.pearsonr(joined.fdr,  joined.global_pvals)"
   ]
  },
  {
   "cell_type": "code",
   "execution_count": null,
   "id": "370328fa-cfcf-492a-a0aa-f6f4610d3712",
   "metadata": {},
   "outputs": [],
   "source": [
    "scipy.stats.pearsonr(joined.z_pval,  joined.global_zpvals)"
   ]
  },
  {
   "cell_type": "code",
   "execution_count": null,
   "id": "e687e25f-5e4b-4ffc-89dd-7aec5ed63400",
   "metadata": {},
   "outputs": [],
   "source": []
  },
  {
   "cell_type": "code",
   "execution_count": null,
   "id": "e3c69737-729b-4f64-8f34-561114f59ca7",
   "metadata": {},
   "outputs": [],
   "source": []
  },
  {
   "cell_type": "markdown",
   "id": "c267f806-d30a-44b1-a713-80ecbed496da",
   "metadata": {},
   "source": [
    "### Local Moran's I"
   ]
  },
  {
   "cell_type": "code",
   "execution_count": null,
   "id": "0db1ee38-f97f-4b33-9004-b618f05774a0",
   "metadata": {},
   "outputs": [],
   "source": [
    "import scipy"
   ]
  },
  {
   "cell_type": "code",
   "execution_count": null,
   "id": "eb7c98a2-d30d-449c-92d2-c7c6b0db3216",
   "metadata": {},
   "outputs": [],
   "source": []
  },
  {
   "cell_type": "code",
   "execution_count": null,
   "id": "3fd97f63-abff-47bc-b5be-99b91526498a",
   "metadata": {},
   "outputs": [],
   "source": [
    "dist = scipy.sparse.csr_matrix(my_sample.rbf_d)"
   ]
  },
  {
   "cell_type": "code",
   "execution_count": null,
   "id": "1bba11f4-8bd5-45a7-862a-d3887311bb79",
   "metadata": {},
   "outputs": [],
   "source": [
    "# norm_mat = np.array(adata.X - np.array(adata.X.mean(axis=0))) # normalized x matrix\n",
    "# Note here - there is no normalisation by the squares"
   ]
  },
  {
   "cell_type": "code",
   "execution_count": null,
   "id": "6a52c1db-bc1d-4069-910e-90fe9ec4e2c3",
   "metadata": {},
   "outputs": [],
   "source": [
    "norm_mat = np.array(adata.X - np.array(adata.X.mean(axis=0)))"
   ]
  },
  {
   "cell_type": "code",
   "execution_count": null,
   "id": "e7954e0e-e5e9-464e-a618-c8a743279131",
   "metadata": {},
   "outputs": [],
   "source": []
  },
  {
   "cell_type": "code",
   "execution_count": null,
   "id": "49b18a0f-a7f5-46ec-b433-14e8435a6856",
   "metadata": {},
   "outputs": [],
   "source": []
  },
  {
   "cell_type": "code",
   "execution_count": null,
   "id": "5d297bbb-2f93-46c8-b155-b7800e956e25",
   "metadata": {},
   "outputs": [],
   "source": [
    "ligand_mat = np.array([norm_mat[:, ligand_pos[ligand]] for ligand in lr_res.ligand]).T\n",
    "receptor_mat = np.array([norm_mat[:, receptor_pos[receptor]] for receptor in lr_res.receptor]).T"
   ]
  },
  {
   "cell_type": "code",
   "execution_count": null,
   "id": "65fbc8cd-bc30-4f11-8ee4-eccea45de646",
   "metadata": {},
   "outputs": [],
   "source": []
  },
  {
   "cell_type": "code",
   "execution_count": null,
   "id": "453bef68-1c7f-4f53-9f8a-8d1247614025",
   "metadata": {},
   "outputs": [],
   "source": [
    "# where at least one is positive\n",
    "(np.array([-1, 0, 1, -1, 1]) > 0) | (np.array([-1, 0, 1, -1, -1]) > 0)"
   ]
  },
  {
   "cell_type": "code",
   "execution_count": null,
   "id": "475d838c-7f46-4993-8f37-d88cc38bdfe9",
   "metadata": {},
   "outputs": [],
   "source": [
    "# where either L or R is positive\n",
    "pos_msk = ((ligand_mat > 0) + (receptor_mat > 0)).T"
   ]
  },
  {
   "cell_type": "code",
   "execution_count": null,
   "id": "3bd46575-9513-4f38-b06f-6d41856cdb4a",
   "metadata": {},
   "outputs": [],
   "source": []
  },
  {
   "cell_type": "code",
   "execution_count": null,
   "id": "62ff16b9-ee69-4576-8202-cdf01067f97c",
   "metadata": {},
   "outputs": [],
   "source": [
    "# calculate both sides for local_Rs\n",
    "local_x = ligand_mat * (dist @ receptor_mat) # local_I\n",
    "local_y = receptor_mat * (dist @ ligand_mat) # local_I_R"
   ]
  },
  {
   "cell_type": "code",
   "execution_count": null,
   "id": "6d3e0c82-0779-436b-925f-9719920284b6",
   "metadata": {},
   "outputs": [],
   "source": []
  },
  {
   "cell_type": "markdown",
   "id": "a4eb6467-9a1d-46a0-9d6d-09714df41d16",
   "metadata": {},
   "source": [
    "mask?"
   ]
  },
  {
   "cell_type": "code",
   "execution_count": null,
   "id": "bbe589e4-007a-4f4f-bdd0-30a42af7068f",
   "metadata": {},
   "outputs": [],
   "source": [
    "# # also only sig on global (i.e. only positive by default)?\n",
    "# lr_msk = global_pvals <= 0.05"
   ]
  },
  {
   "cell_type": "code",
   "execution_count": null,
   "id": "2f05e5d1-43ba-4d29-b350-de68b9344740",
   "metadata": {},
   "outputs": [],
   "source": [
    "# he used to filter spot to spot to be positive\n",
    "# i guess to exclude - to - positive correlations (does this even make sense...)"
   ]
  },
  {
   "cell_type": "code",
   "execution_count": null,
   "id": "bae1a7c5-351a-408d-b59c-fa156a964f26",
   "metadata": {},
   "outputs": [],
   "source": [
    "# local_x = local_x[:, lr_msk]\n",
    "# local_y = local_y[:, lr_msk]\n",
    "# assert local_x.shape == local_y.shape"
   ]
  },
  {
   "cell_type": "code",
   "execution_count": null,
   "id": "8ea8e37c-31ce-4116-b196-17b1dc9c3a1a",
   "metadata": {},
   "outputs": [],
   "source": []
  },
  {
   "cell_type": "code",
   "execution_count": null,
   "id": "634b2375-da7c-46bf-a762-3c1cb5aa1ba4",
   "metadata": {},
   "outputs": [],
   "source": [
    "# receptor_mat = receptor_mat[:, lr_msk]\n",
    "# ligand_mat = ligand_mat[:, lr_msk]"
   ]
  },
  {
   "cell_type": "code",
   "execution_count": null,
   "id": "44adec3f-6100-4915-badd-3cc5b5e66ad1",
   "metadata": {},
   "outputs": [],
   "source": []
  },
  {
   "cell_type": "code",
   "execution_count": null,
   "id": "8732832c-55b1-4cfc-ab8a-2596b5afebe3",
   "metadata": {},
   "outputs": [],
   "source": []
  },
  {
   "cell_type": "markdown",
   "id": "d3ad594e-3a3a-460f-bf6d-a6fc68a8b6ba",
   "metadata": {},
   "source": [
    "Permutations"
   ]
  },
  {
   "cell_type": "code",
   "execution_count": null,
   "id": "1911e948-e2f9-4828-bbe8-9bd46054b691",
   "metadata": {},
   "outputs": [],
   "source": [
    "spot_n = local_x.shape[0]\n",
    "lr_n = local_x.shape[1]\n",
    "n_perm = 25"
   ]
  },
  {
   "cell_type": "code",
   "execution_count": null,
   "id": "0ed0c85a-89f0-473c-9bd8-f7df3d93f7b7",
   "metadata": {},
   "outputs": [],
   "source": []
  },
  {
   "cell_type": "code",
   "execution_count": null,
   "id": "53291342-aee2-4b38-a237-a1beaaf7ae67",
   "metadata": {},
   "outputs": [],
   "source": [
    "perm_x = np.zeros((lr_n, n_perm, spot_n))\n",
    "perm_y = np.zeros((lr_n, n_perm, spot_n))"
   ]
  },
  {
   "cell_type": "code",
   "execution_count": null,
   "id": "c45bf89e-5da7-4b7f-84f0-17fd6fbbc032",
   "metadata": {},
   "outputs": [],
   "source": []
  },
  {
   "cell_type": "code",
   "execution_count": null,
   "id": "142dd430-55c8-47be-9c91-73d4f182181e",
   "metadata": {},
   "outputs": [],
   "source": [
    "for i in tqdm(range(n_perm)):\n",
    "    _idx = np.random.permutation(ligand_mat.shape[0]) # TODO RNG\n",
    "    perm_x[:, i,:] = ((dist @ receptor_mat[_idx, :]) * ligand_mat).T\n",
    "    perm_y[:, i,:] = ((dist @ ligand_mat[_idx, :]) * receptor_mat).T\n"
   ]
  },
  {
   "cell_type": "code",
   "execution_count": null,
   "id": "3ccce86b-8568-4829-a5ff-cf7442a87463",
   "metadata": {
    "tags": []
   },
   "outputs": [],
   "source": [
    "local_pvals = ((np.expand_dims(local_x.T + local_y.T, 1) <= (perm_x + perm_y)).sum(1)) / n_perm"
   ]
  },
  {
   "cell_type": "code",
   "execution_count": null,
   "id": "882626d3-f509-4367-af13-30a89f61b5cc",
   "metadata": {},
   "outputs": [],
   "source": [
    "local_r = local_x + local_y # actual value"
   ]
  },
  {
   "cell_type": "code",
   "execution_count": null,
   "id": "198c9ba7-f635-4076-ad17-ec280953279c",
   "metadata": {},
   "outputs": [],
   "source": [
    "local_r.shape"
   ]
  },
  {
   "cell_type": "code",
   "execution_count": null,
   "id": "b0a72f96-a7a0-4b64-9eda-c7f346a08595",
   "metadata": {},
   "outputs": [],
   "source": [
    "max(local_r[:,903])"
   ]
  },
  {
   "cell_type": "code",
   "execution_count": null,
   "id": "8715dda6-88c7-4c17-9cd3-9e220996aec5",
   "metadata": {},
   "outputs": [],
   "source": [
    "hist(local_r[:,903])"
   ]
  },
  {
   "cell_type": "code",
   "execution_count": null,
   "id": "8ef561ac-3d15-4e45-aebb-20bfe358dd4d",
   "metadata": {},
   "outputs": [],
   "source": []
  },
  {
   "cell_type": "code",
   "execution_count": null,
   "id": "9c325c22-8d3b-4e63-a495-2af3d85a87e4",
   "metadata": {},
   "outputs": [],
   "source": [
    "their_r = (my_sample.local_I + my_sample.local_I_R)"
   ]
  },
  {
   "cell_type": "code",
   "execution_count": null,
   "id": "e5dc3e3f-e7ef-4e4e-99fa-bbce1da72062",
   "metadata": {},
   "outputs": [],
   "source": [
    "their_r.shape"
   ]
  },
  {
   "cell_type": "code",
   "execution_count": null,
   "id": "7273d703-9924-4c39-8517-9eb6857e476e",
   "metadata": {},
   "outputs": [],
   "source": [
    "hist(their_r[:,200])"
   ]
  },
  {
   "cell_type": "code",
   "execution_count": null,
   "id": "6a5cfd35-d8ee-4bc9-afdc-daf2cfd39e0b",
   "metadata": {},
   "outputs": [],
   "source": [
    "max(their_r[:, 531])"
   ]
  },
  {
   "cell_type": "code",
   "execution_count": null,
   "id": "4035907e-0896-4ec3-9a39-e38b143c7c26",
   "metadata": {},
   "outputs": [],
   "source": []
  },
  {
   "cell_type": "code",
   "execution_count": null,
   "id": "5c99e682-3c4b-4018-bd18-564b9c5c0e0d",
   "metadata": {},
   "outputs": [],
   "source": []
  },
  {
   "cell_type": "markdown",
   "id": "5f612fee-1a66-4c1d-88b9-9ce21e343291",
   "metadata": {},
   "source": [
    "Compare local pvals"
   ]
  },
  {
   "cell_type": "code",
   "execution_count": null,
   "id": "d4a5700b-d3a6-41b8-9e11-2b28340dff2c",
   "metadata": {},
   "outputs": [],
   "source": [
    "# # positve to positive local only\n",
    "# pos = ((ligand_mat > 0) + (receptor_mat > 0)).T # he does it on non-norm counts, and not -mu^\n",
    "# pvals_msked = local_pvals\n",
    "# pvals_msked[pos] = 1"
   ]
  },
  {
   "cell_type": "code",
   "execution_count": null,
   "id": "15f5f31b-bf91-4719-a41b-98ed45efb023",
   "metadata": {},
   "outputs": [],
   "source": [
    "ours = pd.DataFrame(local_pvals, index=lr_res.interaction).reset_index()"
   ]
  },
  {
   "cell_type": "code",
   "execution_count": null,
   "id": "fb291b05-6eb5-4f22-b22e-9e0cac8f2003",
   "metadata": {},
   "outputs": [],
   "source": [
    "ours"
   ]
  },
  {
   "cell_type": "code",
   "execution_count": null,
   "id": "f0fdcaea-77af-46bc-965b-2a546a83a878",
   "metadata": {},
   "outputs": [],
   "source": [
    "theirs =  my_sample.local_perm_p.reset_index().rename(columns={'index':'interaction'})"
   ]
  },
  {
   "cell_type": "code",
   "execution_count": null,
   "id": "54b453fb-b00e-498b-8930-f92597f443e4",
   "metadata": {},
   "outputs": [],
   "source": [
    "theirs[theirs.interaction==\"SEMA4D_PLXNB3\"]"
   ]
  },
  {
   "cell_type": "code",
   "execution_count": null,
   "id": "87b46522-0150-46c7-8934-f852d79bacb5",
   "metadata": {},
   "outputs": [],
   "source": [
    "ours[ours.interaction==\"SEMA4D_PLXNB3\"]"
   ]
  },
  {
   "cell_type": "code",
   "execution_count": null,
   "id": "9d693a39-dd71-4af3-a53e-ff40fd83a1eb",
   "metadata": {},
   "outputs": [],
   "source": [
    "# if both are negative, set to 1\n",
    "local_pvals[~pos_msk] = 1"
   ]
  },
  {
   "cell_type": "code",
   "execution_count": null,
   "id": "69594ef9-c62b-4c87-9d57-f18331997ccf",
   "metadata": {},
   "outputs": [],
   "source": [
    "scipy.stats.pearsonr(local_pvals[903], my_sample.local_perm_p.iloc[531,:])"
   ]
  },
  {
   "cell_type": "code",
   "execution_count": null,
   "id": "4f709fc9-00c0-499d-9c46-658f01f82c64",
   "metadata": {},
   "outputs": [],
   "source": []
  },
  {
   "cell_type": "code",
   "execution_count": null,
   "id": "135a89cc-0d3b-4a69-9ea1-5faf45f5104a",
   "metadata": {},
   "outputs": [],
   "source": [
    "lr_res[lr_res.interaction==\"SEMA4D_PLXNB3\"]"
   ]
  },
  {
   "cell_type": "code",
   "execution_count": null,
   "id": "3c760318-7968-4fba-be88-71b8310f0c8f",
   "metadata": {},
   "outputs": [],
   "source": [
    "my_sample.ind_sel[532]"
   ]
  },
  {
   "cell_type": "code",
   "execution_count": null,
   "id": "fe9d7e95-e5f3-44fd-9c90-be28b2d0890d",
   "metadata": {},
   "outputs": [],
   "source": []
  },
  {
   "cell_type": "code",
   "execution_count": null,
   "id": "32a81060-17a3-4fcc-b2a9-f4b274ec9935",
   "metadata": {},
   "outputs": [],
   "source": [
    "scipy.stats.pearsonr(local_x[:, 903], my_sample.local_I[:,531])"
   ]
  },
  {
   "cell_type": "code",
   "execution_count": null,
   "id": "6a341b27-7428-4e95-a22d-6b309aeab7bd",
   "metadata": {},
   "outputs": [],
   "source": [
    "scipy.stats.pearsonr(local_y[:, 903], my_sample.local_I_R[:,531])"
   ]
  },
  {
   "cell_type": "code",
   "execution_count": null,
   "id": "e196a341-3ab1-4675-b1d3-cb83c881b782",
   "metadata": {},
   "outputs": [],
   "source": []
  },
  {
   "cell_type": "code",
   "execution_count": null,
   "id": "2104e25a-0900-4bfa-a2c4-877bae5e6ed1",
   "metadata": {},
   "outputs": [],
   "source": [
    "hist(local_x[:, 903])"
   ]
  },
  {
   "cell_type": "code",
   "execution_count": null,
   "id": "69f66838-aaba-414e-ab18-8e26261683f1",
   "metadata": {},
   "outputs": [],
   "source": [
    "hist(my_sample.local_I[:,531])"
   ]
  },
  {
   "cell_type": "code",
   "execution_count": null,
   "id": "b541e1c4-0375-4e38-901a-5a4cd87dc6a2",
   "metadata": {},
   "outputs": [],
   "source": []
  },
  {
   "cell_type": "markdown",
   "id": "751e53fc-d71f-41b6-bd92-80e9e8d8adc8",
   "metadata": {},
   "source": [
    "compare pvals"
   ]
  },
  {
   "cell_type": "code",
   "execution_count": null,
   "id": "f04f28d2-f0c2-49ef-9bf1-bfa16023f797",
   "metadata": {},
   "outputs": [],
   "source": [
    "scipy.stats.pearsonr(local_pvals[903,:], my_sample.local_perm_p.iloc[531,:])"
   ]
  },
  {
   "cell_type": "code",
   "execution_count": null,
   "id": "812a536f-4901-4575-bb77-7923f822c871",
   "metadata": {},
   "outputs": [],
   "source": []
  },
  {
   "cell_type": "markdown",
   "id": "54d09204-7a83-46a8-b62a-d21253985499",
   "metadata": {},
   "source": [
    "zscore p-val"
   ]
  },
  {
   "cell_type": "code",
   "execution_count": null,
   "id": "949a8e32-20d0-468c-a391-52b7a6dfbccc",
   "metadata": {},
   "outputs": [],
   "source": [
    "from scipy import stats"
   ]
  },
  {
   "cell_type": "code",
   "execution_count": null,
   "id": "108e697c-c8b2-4948-98c3-9c2a323b0a31",
   "metadata": {},
   "outputs": [],
   "source": [
    "dist = scipy.sparse.csr_matrix(my_sample.rbf_d)\n",
    "wij_sq = (np.array(dist.todense()) ** 2).sum(axis=1)"
   ]
  },
  {
   "cell_type": "code",
   "execution_count": null,
   "id": "7aba248d-84a6-4d5a-b184-113271c1e620",
   "metadata": {},
   "outputs": [],
   "source": [
    "my_sample.local_permI.shape"
   ]
  },
  {
   "cell_type": "code",
   "execution_count": null,
   "id": "b6509936-b06d-4419-b5a4-6de645092bb3",
   "metadata": {},
   "outputs": [],
   "source": []
  },
  {
   "cell_type": "code",
   "execution_count": null,
   "id": "ff16cc5a-0772-4d09-91a6-cc63672479a1",
   "metadata": {},
   "outputs": [],
   "source": [
    "ligand_norm = np.array([stats.norm.fit(ligand_mat[:, ligand]) for ligand in range(ligand_mat.shape[1])])\n",
    "receptor_norm = np.array([stats.norm.fit(receptor_mat[:, receptor]) for receptor in range(receptor_mat.shape[1])])"
   ]
  },
  {
   "cell_type": "code",
   "execution_count": null,
   "id": "274ac3d9-79dc-4006-9818-7c83568a685f",
   "metadata": {},
   "outputs": [],
   "source": []
  },
  {
   "cell_type": "code",
   "execution_count": null,
   "id": "35fe0a9f-eb9b-455c-bb18-0746f0178582",
   "metadata": {},
   "outputs": [],
   "source": [
    "# get ligand receptor mu and std\n",
    "ligand_mu1, ligand_std = ligand_norm[:,0], ligand_norm[:,1]\n",
    "receptor_mu1, receptor_std = receptor_norm[:,0], receptor_norm[:,1]"
   ]
  },
  {
   "cell_type": "code",
   "execution_count": null,
   "id": "d49af8b9-2862-4dc9-8d91-16d8991b86cb",
   "metadata": {},
   "outputs": [],
   "source": [
    "ligand_sigma_sq = [(std * spot_n / (spot_n - 1)) for std in ligand_std]\n",
    "receptor_sigma_sq = [(std * spot_n / (spot_n - 1)) for std in receptor_std]"
   ]
  },
  {
   "cell_type": "code",
   "execution_count": null,
   "id": "36d1c5d3-f229-4d7e-afac-3da1e284602f",
   "metadata": {},
   "outputs": [],
   "source": []
  },
  {
   "cell_type": "code",
   "execution_count": null,
   "id": "b647c77e-7ec7-4fb7-90e7-b001a2bab9da",
   "metadata": {},
   "outputs": [],
   "source": [
    "def compute_var_local(sigma1_sq, sigma2_sq, wij_sq, spot_n):\n",
    "    var_I = 2 * (spot_n-1)**2/spot_n**2 * sigma1_sq * sigma2_sq * wij_sq + \\\n",
    "        2 * (spot_n-1)**2/spot_n**2 * sigma1_sq * sigma2_sq\n",
    "    std_I=var_I**(1/2)\n",
    "    \n",
    "    return std_I"
   ]
  },
  {
   "cell_type": "code",
   "execution_count": null,
   "id": "032bb290-ceff-4415-9899-1cd558a6af4e",
   "metadata": {},
   "outputs": [],
   "source": []
  },
  {
   "cell_type": "code",
   "execution_count": null,
   "id": "4f8ff8c5-d915-463c-b191-8b7072a69484",
   "metadata": {},
   "outputs": [],
   "source": [
    "std_ls = [compute_var_local(sigma1_sq, sigma2_sq, wij_sq, spot_n) for (sigma1_sq, sigma2_sq) in zip(ligand_sigma_sq, receptor_sigma_sq)]"
   ]
  },
  {
   "cell_type": "code",
   "execution_count": null,
   "id": "34752dfa-7a51-4caa-8d66-41795b27385b",
   "metadata": {},
   "outputs": [],
   "source": [
    "local_zscores = local_x.T + local_y.T / std_ls"
   ]
  },
  {
   "cell_type": "code",
   "execution_count": null,
   "id": "c6725055-f8cc-46ec-8887-f9fc9d27075b",
   "metadata": {},
   "outputs": [],
   "source": [
    "local_zpvals = stats.norm.sf(local_zscores)"
   ]
  },
  {
   "cell_type": "code",
   "execution_count": null,
   "id": "22ebd139-0e2d-460a-9622-0c42280df3f2",
   "metadata": {},
   "outputs": [],
   "source": [
    "local_zpvals"
   ]
  },
  {
   "cell_type": "code",
   "execution_count": null,
   "id": "32755ef0-d940-4a9f-87e2-407941cb2055",
   "metadata": {},
   "outputs": [],
   "source": []
  },
  {
   "cell_type": "code",
   "execution_count": null,
   "id": "65aa1b22-d95b-48f4-a6e5-00b5a0a29724",
   "metadata": {},
   "outputs": [],
   "source": [
    "local_zscores.shape"
   ]
  },
  {
   "cell_type": "code",
   "execution_count": null,
   "id": "fb9a9f26-e238-4964-839b-45fbfae3b992",
   "metadata": {},
   "outputs": [],
   "source": [
    "local_zscores"
   ]
  },
  {
   "cell_type": "code",
   "execution_count": null,
   "id": "3da276c1-9007-46b3-8463-b10f86709a8c",
   "metadata": {},
   "outputs": [],
   "source": []
  },
  {
   "cell_type": "code",
   "execution_count": null,
   "id": "c38b3863-3c38-43a1-b6c5-b6353fc4cd66",
   "metadata": {},
   "outputs": [],
   "source": [
    "scipy.stats.pearsonr(local_zscores[903], my_sample.local_z[531,:])"
   ]
  },
  {
   "cell_type": "code",
   "execution_count": null,
   "id": "03f9e307-2b83-4dd0-8a42-df9c5fc3b079",
   "metadata": {},
   "outputs": [],
   "source": [
    "# if both are negative, set to 1\n",
    "local_zpvals[~pos_msk] = 1"
   ]
  },
  {
   "cell_type": "code",
   "execution_count": null,
   "id": "b7c9e8c1-1e40-4e10-89b1-f1745ca258b9",
   "metadata": {},
   "outputs": [],
   "source": [
    "scipy.stats.pearsonr(local_zpvals[903,:], my_sample.local_z_p.iloc[531,:])"
   ]
  },
  {
   "cell_type": "code",
   "execution_count": null,
   "id": "ecc18407-c69f-4177-b9a2-39deaa549aa7",
   "metadata": {},
   "outputs": [],
   "source": []
  },
  {
   "cell_type": "code",
   "execution_count": null,
   "id": "333fee9c-cce3-4903-905b-289d659f6bc4",
   "metadata": {},
   "outputs": [],
   "source": [
    "hist(my_sample.local_z_p.iloc[531,:])"
   ]
  },
  {
   "cell_type": "code",
   "execution_count": null,
   "id": "e509d092-ac0d-4f1b-a8d5-e20f7cfb759d",
   "metadata": {},
   "outputs": [],
   "source": [
    "hist(local_zpvals[903,:])"
   ]
  },
  {
   "cell_type": "code",
   "execution_count": null,
   "id": "70e1ea2e-6a51-49aa-b4ec-08f6520b31e1",
   "metadata": {},
   "outputs": [],
   "source": []
  },
  {
   "cell_type": "code",
   "execution_count": null,
   "id": "60c4c4df-7372-4f4e-8d9f-2c6a9d1d36d9",
   "metadata": {},
   "outputs": [],
   "source": []
  },
  {
   "cell_type": "code",
   "execution_count": null,
   "id": "b0a332cd-dcbd-4c5c-afb9-8d2f07008418",
   "metadata": {},
   "outputs": [],
   "source": [
    "scipy.stats.pearsonr(local_pvals[3], local_zpvals[3])"
   ]
  },
  {
   "cell_type": "code",
   "execution_count": null,
   "id": "72504ccf-1d12-407d-9b05-21805ca184c5",
   "metadata": {},
   "outputs": [],
   "source": []
  },
  {
   "cell_type": "code",
   "execution_count": null,
   "id": "010f7f72-aee3-4403-90e6-13144002a873",
   "metadata": {},
   "outputs": [],
   "source": []
  },
  {
   "cell_type": "markdown",
   "id": "d26aba16-271f-4da2-9005-ae26ca9c40d3",
   "metadata": {},
   "source": [
    "Local I does not make sense, scale not bound between -1 and +1"
   ]
  },
  {
   "cell_type": "code",
   "execution_count": null,
   "id": "5d1b6b6a-9367-4a89-b7f8-0d0b56369c91",
   "metadata": {},
   "outputs": [],
   "source": [
    "import liana as li\n",
    "li.mt.get_spatial_proximity(adata=adata, parameter=200, bypass_diagonal=False, cutoff=0.2)"
   ]
  },
  {
   "cell_type": "code",
   "execution_count": null,
   "id": "83f41fb4-a3e0-45e2-be84-3d68c5c99a73",
   "metadata": {},
   "outputs": [],
   "source": []
  },
  {
   "cell_type": "code",
   "execution_count": null,
   "id": "259aec1b-5591-4920-afc8-4d8177544067",
   "metadata": {},
   "outputs": [],
   "source": [
    "dist = adata.obsm['proximity']"
   ]
  },
  {
   "cell_type": "code",
   "execution_count": null,
   "id": "e99d672c-7965-4023-959e-d20f0725a080",
   "metadata": {},
   "outputs": [],
   "source": []
  },
  {
   "cell_type": "code",
   "execution_count": null,
   "id": "22e565c8-4280-4e10-a627-20aad8ad34bf",
   "metadata": {},
   "outputs": [],
   "source": [
    "norm_mat = np.array(adata.X - np.array(adata.X.mean(axis=0)))"
   ]
  },
  {
   "cell_type": "code",
   "execution_count": null,
   "id": "db4a914a-ddad-49b0-ab2f-03b7ee5e2e1c",
   "metadata": {},
   "outputs": [],
   "source": []
  },
  {
   "cell_type": "code",
   "execution_count": null,
   "id": "3bd82352-625b-4aad-8e44-ec819e455e11",
   "metadata": {},
   "outputs": [],
   "source": [
    "ligand_mat.shape"
   ]
  },
  {
   "cell_type": "code",
   "execution_count": null,
   "id": "64002a34-5541-4c16-9e46-0e975919cfb6",
   "metadata": {},
   "outputs": [],
   "source": []
  },
  {
   "cell_type": "code",
   "execution_count": null,
   "id": "bb27c47a-79a6-448e-a2af-aeda7ef01708",
   "metadata": {},
   "outputs": [],
   "source": [
    "spot_n = norm_mat.shape[0]"
   ]
  },
  {
   "cell_type": "code",
   "execution_count": null,
   "id": "d9ae8629-b40d-4b7d-a5f3-864e3eb5516d",
   "metadata": {},
   "outputs": [],
   "source": []
  },
  {
   "cell_type": "code",
   "execution_count": null,
   "id": "23dd6249-b703-4381-928a-0ab25212974e",
   "metadata": {},
   "outputs": [],
   "source": []
  },
  {
   "cell_type": "code",
   "execution_count": null,
   "id": "012d1ad2-5489-427b-9512-18edb0460109",
   "metadata": {},
   "outputs": [],
   "source": [
    "adata.X.shape"
   ]
  },
  {
   "cell_type": "code",
   "execution_count": null,
   "id": "df682c74-8190-4773-bc64-704ec1c38975",
   "metadata": {},
   "outputs": [],
   "source": []
  },
  {
   "cell_type": "code",
   "execution_count": null,
   "id": "d09dbe89-4e7a-493e-92d9-6ef935e0e76f",
   "metadata": {},
   "outputs": [],
   "source": [
    "ligand_mat = np.array([norm_mat[:, ligand_pos[ligand]] for ligand in lr_res.ligand]).T\n",
    "receptor_mat = np.array([norm_mat[:, receptor_pos[receptor]] for receptor in lr_res.receptor]).T"
   ]
  },
  {
   "cell_type": "code",
   "execution_count": null,
   "id": "751d1b6f-c0b2-4e49-892d-63905d36969e",
   "metadata": {},
   "outputs": [],
   "source": []
  },
  {
   "cell_type": "code",
   "execution_count": null,
   "id": "5ec173bb-67c1-44d1-85ba-7abe0d236df1",
   "metadata": {},
   "outputs": [],
   "source": [
    "msq = (np.sum(ligand_mat ** 2, axis=0) / (spot_n - 1))\n",
    "ligand_mat / msq"
   ]
  },
  {
   "cell_type": "code",
   "execution_count": null,
   "id": "9f5c2774-e9a1-469f-b231-2ba22ae9d070",
   "metadata": {},
   "outputs": [],
   "source": []
  },
  {
   "cell_type": "code",
   "execution_count": null,
   "id": "5e0212a7-df7b-4b46-a379-e50ef9f7af5c",
   "metadata": {},
   "outputs": [],
   "source": []
  },
  {
   "cell_type": "code",
   "execution_count": null,
   "id": "ddcbcf14-430d-4da3-aeaf-c1afb8541d76",
   "metadata": {},
   "outputs": [],
   "source": [
    "norm_mat.shape"
   ]
  },
  {
   "cell_type": "code",
   "execution_count": null,
   "id": "fca36250-bc83-4221-baf0-4c91fda4b48f",
   "metadata": {},
   "outputs": [],
   "source": [
    "msq"
   ]
  },
  {
   "cell_type": "code",
   "execution_count": null,
   "id": "b4c2c84d-3a22-47c3-90ac-5f3f4f17388c",
   "metadata": {},
   "outputs": [],
   "source": [
    "norm_mat"
   ]
  },
  {
   "cell_type": "code",
   "execution_count": null,
   "id": "c3f7aa2e-d884-4e2b-baa7-0e2d66b7f52a",
   "metadata": {},
   "outputs": [],
   "source": [
    "norm_mat / msq"
   ]
  },
  {
   "cell_type": "code",
   "execution_count": null,
   "id": "1d95bd67-04e9-46e9-bb5b-ae23fbbc27c8",
   "metadata": {},
   "outputs": [],
   "source": []
  },
  {
   "cell_type": "code",
   "execution_count": null,
   "id": "fdfc3007-646f-433e-989e-a5d3a5839789",
   "metadata": {},
   "outputs": [],
   "source": [
    "local_x = ligand_mat * (dist @ receptor_mat)\n",
    "x_m2 = np.sum(ligand_mat ** 2, axis=1) / spot_n\n",
    "local_y = receptor_mat * (dist @ ligand_mat)\n",
    "y_m2 = np.sum(receptor_mat ** 2, axis=1) / spot_n"
   ]
  },
  {
   "cell_type": "code",
   "execution_count": null,
   "id": "2a1153ab-466a-4575-ba2f-65981388b6ee",
   "metadata": {},
   "outputs": [],
   "source": []
  },
  {
   "cell_type": "code",
   "execution_count": null,
   "id": "07a135a7-b7b3-4b83-b610-a0bd473d4deb",
   "metadata": {},
   "outputs": [],
   "source": []
  },
  {
   "cell_type": "markdown",
   "id": "ae453055-451a-4aad-96e1-76394528a9e1",
   "metadata": {},
   "source": [
    "OG DATA"
   ]
  },
  {
   "cell_type": "code",
   "execution_count": null,
   "id": "6fd76132-498d-480d-8164-25638c98524e",
   "metadata": {},
   "outputs": [],
   "source": [
    "import os\n",
    "import pandas as pd\n",
    "import numpy as np\n",
    "import anndata as ann\n",
    "\n",
    "import spatialdm as sdm\n",
    "from spatialdm.datasets import dataset\n",
    "import spatialdm.plottings as pl\n",
    "print(\"SpatailDM version: %s\" %sdm.__version__)\n",
    "\n"
   ]
  },
  {
   "cell_type": "code",
   "execution_count": null,
   "id": "1da20d60-5750-406e-9c72-aba95e423297",
   "metadata": {},
   "outputs": [],
   "source": [
    "adata = dataset.melanoma()"
   ]
  },
  {
   "cell_type": "code",
   "execution_count": null,
   "id": "03e8bfeb-462e-4fc1-a687-793c69feb0f5",
   "metadata": {},
   "outputs": [],
   "source": [
    "raw = pd.DataFrame(adata.raw.X, index=adata.obs_names, columns=adata.var_names)\n",
    "log = pd.DataFrame(adata.X, index=adata.obs_names, columns=adata.var_names)\n",
    "raw.head()"
   ]
  },
  {
   "cell_type": "code",
   "execution_count": null,
   "id": "45a7a8fa-bcdd-4f95-aefb-a2d5493855f9",
   "metadata": {},
   "outputs": [],
   "source": [
    "spatialcoord = pd.DataFrame(adata.obsm['spatial'], index=adata.obs_names, columns=['x','y'])\n",
    "spatialcoord.head()"
   ]
  },
  {
   "cell_type": "code",
   "execution_count": null,
   "id": "deee72c7-4a83-448e-ad8a-115e98275a93",
   "metadata": {},
   "outputs": [],
   "source": [
    "my_sample = sdm.SpatialDM(log, raw, spatialcoord)     # load spatial data\n",
    "my_sample.weight_matrix(l=1.2, cutoff=0.2, single_cell=False) # weight_matrix by rbf kernel"
   ]
  },
  {
   "cell_type": "code",
   "execution_count": null,
   "id": "a1052155-3350-40d5-aeed-a090b6c274e2",
   "metadata": {},
   "outputs": [],
   "source": []
  },
  {
   "cell_type": "code",
   "execution_count": null,
   "id": "40e83310-fea7-40fc-9174-e83e0e3f5814",
   "metadata": {},
   "outputs": [],
   "source": [
    "my_sample.extract_lr(species='human', min_cell=3)"
   ]
  },
  {
   "cell_type": "code",
   "execution_count": null,
   "id": "c1e9bae2-2725-4c86-8ac9-74ce8e5b611a",
   "metadata": {},
   "outputs": [],
   "source": []
  },
  {
   "cell_type": "code",
   "execution_count": null,
   "id": "ad054115-7b68-4667-8766-674426f38929",
   "metadata": {},
   "outputs": [],
   "source": [
    "my_sample.spatialdm_global(1000, method='both')     # global Moran selection"
   ]
  },
  {
   "cell_type": "code",
   "execution_count": null,
   "id": "02acd621-cfe7-43da-95bb-3c12f8f08526",
   "metadata": {},
   "outputs": [],
   "source": [
    "my_sample.sig_pairs(method='permutation', fdr=True, threshold=0.1)"
   ]
  },
  {
   "cell_type": "code",
   "execution_count": null,
   "id": "4c7d6835-298a-4458-8c09-d4474da7e90e",
   "metadata": {},
   "outputs": [],
   "source": []
  },
  {
   "cell_type": "code",
   "execution_count": null,
   "id": "568c3d50-91ab-4348-90c5-13dd88ced3b8",
   "metadata": {},
   "outputs": [],
   "source": [
    "# Local selection of significant spots\n",
    "my_sample.spatialdm_local(n_perm=100, method='both', select_num=None, nproc=1)     # local spot selection complete in seconds"
   ]
  },
  {
   "cell_type": "code",
   "execution_count": null,
   "id": "b537de94-bbdd-430a-8efe-ee8ac7a534d7",
   "metadata": {},
   "outputs": [],
   "source": [
    "my_sample.sig_spots(threshold=0.1)  # significant local spots"
   ]
  },
  {
   "cell_type": "code",
   "execution_count": null,
   "id": "5d751487-d43c-487e-b450-c3f8d4d2662b",
   "metadata": {},
   "outputs": [],
   "source": []
  },
  {
   "cell_type": "code",
   "execution_count": null,
   "id": "3c4fb7d7-b540-42fb-9c0e-1fb375c1deda",
   "metadata": {},
   "outputs": [],
   "source": []
  }
 ],
 "metadata": {
  "kernelspec": {
   "display_name": "liana-py",
   "language": "python",
   "name": "python3"
  },
  "language_info": {
   "codemirror_mode": {
    "name": "ipython",
    "version": 3
   },
   "file_extension": ".py",
   "mimetype": "text/x-python",
   "name": "python",
   "nbconvert_exporter": "python",
   "pygments_lexer": "ipython3",
   "version": "3.10.6 | packaged by conda-forge | (main, Aug 22 2022, 20:35:26) [GCC 10.4.0]"
  },
  "vscode": {
   "interpreter": {
    "hash": "80a99255e5b17beb6f8c8dc403ec70687184f3f6557a2c5fe71e16aa6505930d"
   }
  }
 },
 "nbformat": 4,
 "nbformat_minor": 5
}
