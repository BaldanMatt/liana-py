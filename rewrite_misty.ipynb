{
 "cells": [
  {
   "cell_type": "code",
   "execution_count": 1,
   "metadata": {},
   "outputs": [],
   "source": [
    "from scipy.spatial import cKDTree\n",
    "from scipy.sparse import identity, issparse\n",
    "\n",
    "import numpy as np\n",
    "import pandas as pd\n",
    "import scanpy as sc\n",
    "\n",
    "from liana.method.sp._spatial_pipe import spatial_neighbors\n",
    "from liana.method.sp._misty import _get_distance_weights\n",
    "\n",
    "from scipy.sparse import csr_matrix\n",
    "from mudata import MuData"
   ]
  },
  {
   "cell_type": "code",
   "execution_count": 2,
   "metadata": {},
   "outputs": [],
   "source": [
    "from anndata import AnnData"
   ]
  },
  {
   "cell_type": "code",
   "execution_count": 3,
   "metadata": {},
   "outputs": [],
   "source": [
    "adata = sc.read_h5ad('liana/tests/data/synthetic.h5ad')"
   ]
  },
  {
   "cell_type": "code",
   "execution_count": 4,
   "metadata": {},
   "outputs": [],
   "source": [
    "# subset adata\n",
    "adata = sc.pp.subsample(adata, n_obs=100, copy=True)"
   ]
  },
  {
   "cell_type": "code",
   "execution_count": 5,
   "metadata": {},
   "outputs": [],
   "source": [
    "from liana.method.sp._misty import _check_features, _get_env_groups,\\\n",
    "    _compose_views_groups, _check_anndata_objects_groups, _check_target_in_predictors, _single_view_model, \\\n",
    "        _multi_model, _format_targets, _format_importances, _concat_dataframes, _check_anndata_objects_groups, _get_neighbors"
   ]
  },
  {
   "cell_type": "code",
   "execution_count": 6,
   "metadata": {},
   "outputs": [],
   "source": [
    "# mdata, \n",
    "# x_mod,\n",
    "y_mod = None\n",
    "targets = None\n",
    "predictors = None\n",
    "keep_same_predictor = False\n",
    "bandwidth = None\n",
    "juxta_cutoff = np.inf\n",
    "zoi = 0\n",
    "kernel = \"misty_rbf\"\n",
    "set_diag = False\n",
    "spatial_key = \"spatial\"\n",
    "add_juxta = True\n",
    "add_para = True\n",
    "bypass_intra = False\n",
    "group_intra_by = None\n",
    "group_env_by = None\n",
    "alphas = [0.1, 1, 10]\n",
    "k_cv = 10\n",
    "n_estimators = 100\n",
    "n_jobs = -1\n",
    "seed = 1337\n",
    "inplace = True\n",
    "overwrite = False"
   ]
  },
  {
   "cell_type": "code",
   "execution_count": null,
   "metadata": {},
   "outputs": [],
   "source": []
  },
  {
   "cell_type": "code",
   "execution_count": 7,
   "metadata": {},
   "outputs": [],
   "source": [
    "mdata = MuData({'rna': adata})\n",
    "x_mod = 'rna'"
   ]
  },
  {
   "cell_type": "code",
   "execution_count": null,
   "metadata": {},
   "outputs": [],
   "source": []
  },
  {
   "cell_type": "code",
   "execution_count": 8,
   "metadata": {},
   "outputs": [],
   "source": [
    "# validate inputs \n",
    "if not overwrite and (\"misty_results\" in mdata.uns.keys()) and inplace:\n",
    "    raise ValueError(\"mdata already contains misty results. Set overwrite=True to overwrite.\")\n",
    "if x_mod not in mdata.mod.keys():\n",
    "    raise ValueError(f\"Predictor modality {x_mod} not found in mdata.\")\n",
    "if y_mod is not None and y_mod not in mdata.mod.keys():\n",
    "    raise ValueError(f\"Target modality {y_mod} not found in mdata.\")\n",
    "\n",
    "xdata = mdata[x_mod]\n",
    "ydata = mdata[y_mod] if y_mod else xdata\n",
    "\n",
    "_check_anndata_objects_groups(xdata,\n",
    "                              ydata,\n",
    "                              spatial_key=spatial_key,\n",
    "                              group_intra_by=group_intra_by,\n",
    "                              group_env_by=group_env_by)"
   ]
  },
  {
   "cell_type": "code",
   "execution_count": null,
   "metadata": {},
   "outputs": [],
   "source": []
  },
  {
   "cell_type": "code",
   "execution_count": 9,
   "metadata": {},
   "outputs": [],
   "source": [
    "group_env_by='cell_type'\n",
    "group_intra_by='cell_type'"
   ]
  },
  {
   "cell_type": "code",
   "execution_count": 10,
   "metadata": {},
   "outputs": [],
   "source": [
    "predictors = _check_features(xdata, predictors, type_str=\"predictors\")\n",
    "targets = _check_features(ydata, targets, type_str=\"targets\")\n",
    "\n",
    "intra_groups = np.unique(ydata.obs[group_intra_by]) if group_intra_by else [None]\n",
    "env_groups = np.unique(xdata.obs[group_env_by]) if group_env_by else [None]"
   ]
  },
  {
   "cell_type": "code",
   "execution_count": null,
   "metadata": {},
   "outputs": [],
   "source": []
  },
  {
   "attachments": {},
   "cell_type": "markdown",
   "metadata": {},
   "source": [
    "TO CHANGE:"
   ]
  },
  {
   "cell_type": "code",
   "execution_count": 11,
   "metadata": {},
   "outputs": [],
   "source": [
    "intra_group = intra_groups[0]\n",
    "target = targets[0]"
   ]
  },
  {
   "cell_type": "code",
   "execution_count": 12,
   "metadata": {},
   "outputs": [],
   "source": [
    "bandwidth = 10"
   ]
  },
  {
   "cell_type": "code",
   "execution_count": 13,
   "metadata": {},
   "outputs": [
    {
     "name": "stderr",
     "output_type": "stream",
     "text": [
      "/home/dbdimitrov/anaconda3/envs/liana-py/lib/python3.10/site-packages/scipy/sparse/_index.py:146: SparseEfficiencyWarning: Changing the sparsity structure of a csr_matrix is expensive. lil_matrix is more efficient.\n",
      "/home/dbdimitrov/anaconda3/envs/liana-py/lib/python3.10/site-packages/scipy/sparse/_index.py:146: SparseEfficiencyWarning: Changing the sparsity structure of a csr_matrix is expensive. lil_matrix is more efficient.\n",
      "/home/dbdimitrov/anaconda3/envs/liana-py/lib/python3.10/site-packages/scipy/sparse/_index.py:146: SparseEfficiencyWarning: Changing the sparsity structure of a csr_matrix is expensive. lil_matrix is more efficient.\n",
      "/home/dbdimitrov/anaconda3/envs/liana-py/lib/python3.10/site-packages/scipy/sparse/_index.py:146: SparseEfficiencyWarning: Changing the sparsity structure of a csr_matrix is expensive. lil_matrix is more efficient.\n"
     ]
    }
   ],
   "source": [
    "views = _compose_views_groups(xdata,\n",
    "                              predictors,\n",
    "                              bypass_intra,\n",
    "                              add_juxta,\n",
    "                              add_para,\n",
    "                              group_env_by,\n",
    "                              juxta_cutoff, \n",
    "                              bandwidth, \n",
    "                              kernel,\n",
    "                              zoi,\n",
    "                              set_diag,\n",
    "                              spatial_key\n",
    "                              )\n",
    "view_str = list(views.keys())"
   ]
  },
  {
   "cell_type": "code",
   "execution_count": null,
   "metadata": {},
   "outputs": [],
   "source": []
  },
  {
   "cell_type": "code",
   "execution_count": 14,
   "metadata": {},
   "outputs": [],
   "source": [
    "intra_obs_msk = ydata.obs[group_intra_by] == intra_group if intra_group else np.ones(ydata.shape[0], dtype=bool)"
   ]
  },
  {
   "cell_type": "code",
   "execution_count": 15,
   "metadata": {},
   "outputs": [
    {
     "data": {
      "text/plain": [
       "1282    False\n",
       "3669     True\n",
       "142      True\n",
       "3269    False\n",
       "3755     True\n",
       "        ...  \n",
       "3532     True\n",
       "2626    False\n",
       "1708    False\n",
       "189     False\n",
       "4141     True\n",
       "Name: cell_type, Length: 100, dtype: bool"
      ]
     },
     "execution_count": 15,
     "metadata": {},
     "output_type": "execute_result"
    }
   ],
   "source": [
    "(ydata.obs[group_intra_by] == intra_group)"
   ]
  },
  {
   "cell_type": "code",
   "execution_count": null,
   "metadata": {},
   "outputs": [],
   "source": []
  },
  {
   "cell_type": "code",
   "execution_count": 16,
   "metadata": {},
   "outputs": [],
   "source": [
    "if issparse(ydata.X):\n",
    "    y = np.asarray(ydata[intra_obs_msk, target].X.todense()).reshape(-1)\n",
    "else:\n",
    "    y = ydata[intra_obs_msk, target].X.reshape(-1)"
   ]
  },
  {
   "cell_type": "code",
   "execution_count": null,
   "metadata": {},
   "outputs": [],
   "source": []
  },
  {
   "cell_type": "code",
   "execution_count": 17,
   "metadata": {},
   "outputs": [],
   "source": [
    "# intra is always non-self, while other views can be self\n",
    "predictors_nonself, insert_index = _check_target_in_predictors(target, predictors)\n",
    "preds = predictors if keep_same_predictor else predictors_nonself\n",
    "\n",
    "importance_dict = {}\n",
    "\n",
    "# model the intraview\n",
    "if not bypass_intra:\n",
    "    oob_predictions_intra, importance_dict[\"intra\"] = _single_view_model(y,\n",
    "                                                                         views[\"intra\"],\n",
    "                                                                         intra_obs_msk, \n",
    "                                                                         predictors_nonself, \n",
    "                                                                         n_estimators,\n",
    "                                                                         n_jobs, \n",
    "                                                                         seed\n",
    "                                                                         )\n",
    "    if insert_index is not None and keep_same_predictor:\n",
    "        importance_dict[\"intra\"] = np.insert(importance_dict[\"intra\"], insert_index, np.nan)"
   ]
  },
  {
   "cell_type": "code",
   "execution_count": null,
   "metadata": {},
   "outputs": [],
   "source": []
  },
  {
   "cell_type": "code",
   "execution_count": 18,
   "metadata": {},
   "outputs": [],
   "source": [
    "env_group = env_groups[0]"
   ]
  },
  {
   "cell_type": "code",
   "execution_count": 19,
   "metadata": {},
   "outputs": [],
   "source": [
    "view_name = view_str[1]"
   ]
  },
  {
   "cell_type": "code",
   "execution_count": 20,
   "metadata": {},
   "outputs": [
    {
     "data": {
      "text/plain": [
       "'juxta'"
      ]
     },
     "execution_count": 20,
     "metadata": {},
     "output_type": "execute_result"
    }
   ],
   "source": [
    "view_name"
   ]
  },
  {
   "cell_type": "code",
   "execution_count": 21,
   "metadata": {},
   "outputs": [
    {
     "data": {
      "text/plain": [
       "['intra', 'juxta', 'para']"
      ]
     },
     "execution_count": 21,
     "metadata": {},
     "output_type": "execute_result"
    }
   ],
   "source": [
    "view_str"
   ]
  },
  {
   "cell_type": "code",
   "execution_count": null,
   "metadata": {},
   "outputs": [],
   "source": []
  },
  {
   "cell_type": "code",
   "execution_count": 22,
   "metadata": {},
   "outputs": [],
   "source": [
    "view = views[view_name][env_group] if env_group else views[view_name][\"all\"]"
   ]
  },
  {
   "cell_type": "code",
   "execution_count": 23,
   "metadata": {},
   "outputs": [
    {
     "data": {
      "text/plain": [
       "{'A': AnnData object with n_obs × n_vars = 100 × 11\n",
       "     obs: 'cell_type',\n",
       " 'B': AnnData object with n_obs × n_vars = 100 × 11\n",
       "     obs: 'cell_type'}"
      ]
     },
     "execution_count": 23,
     "metadata": {},
     "output_type": "execute_result"
    }
   ],
   "source": [
    "views[view_name]"
   ]
  },
  {
   "cell_type": "code",
   "execution_count": null,
   "metadata": {},
   "outputs": [],
   "source": []
  },
  {
   "cell_type": "code",
   "execution_count": null,
   "metadata": {},
   "outputs": [],
   "source": [
    "connectivity = _get_neighbors(xdata,\n",
    "               juxta_cutoff=juxta_cutoff,\n",
    "               set_diag=set_diag, \n",
    "               spatial_key=spatial_key\n",
    "               )"
   ]
  },
  {
   "cell_type": "code",
   "execution_count": null,
   "metadata": {},
   "outputs": [],
   "source": [
    "weights = connectivity.copy()\n",
    "weights[:, adata.obs[group_env_by]!=env_group] = 0\n",
    "X = weights @ adata[:, predictors].X\n",
    "adata = AnnData(X=X, obs=adata.obs, var=pd.DataFrame(index=predictors))"
   ]
  },
  {
   "cell_type": "code",
   "execution_count": null,
   "metadata": {},
   "outputs": [],
   "source": []
  },
  {
   "cell_type": "code",
   "execution_count": null,
   "metadata": {},
   "outputs": [],
   "source": []
  },
  {
   "cell_type": "code",
   "execution_count": null,
   "metadata": {},
   "outputs": [],
   "source": [
    "\n",
    "oob_predictions, importance_dict[view_name] = \\\n",
    "    _single_view_model(y, \n",
    "                        view, \n",
    "                        intra_obs_msk, \n",
    "                        preds, \n",
    "                        n_estimators,\n",
    "                        n_jobs,\n",
    "                        seed\n",
    "                        )"
   ]
  },
  {
   "cell_type": "code",
   "execution_count": null,
   "metadata": {},
   "outputs": [],
   "source": [
    "oob_predictions"
   ]
  },
  {
   "cell_type": "code",
   "execution_count": null,
   "metadata": {},
   "outputs": [],
   "source": []
  },
  {
   "cell_type": "code",
   "execution_count": null,
   "metadata": {},
   "outputs": [],
   "source": [
    "\n",
    "# init list to store the results for each intra group and env group as dataframe;\n",
    "targets_list, importances_list = [], []\n",
    "\n",
    "# loop over each target and build one RF model for each view\n",
    "for target in targets:\n",
    "    \n",
    "    for intra_group in intra_groups:\n",
    "        intra_group_bool = ydata.obs[group_intra_by] == intra_group if intra_group else np.ones(ydata.shape[0], dtype=bool)\n",
    "        \n",
    "        if issparse(ydata.X):\n",
    "            y = np.asarray(ydata[intra_group_bool, target].X.todense()).reshape(-1)\n",
    "        else:\n",
    "            y = ydata[intra_group_bool, target].X.reshape(-1)\n",
    "\n",
    "        # intra is always non-self, while other views can be self\n",
    "        predictors_nonself, insert_index = _check_target_in_predictors(target, predictors)\n",
    "        preds = predictors if keep_same_predictor else predictors_nonself\n",
    "\n",
    "        importance_dict = {}\n",
    "        \n",
    "        # model the intraview\n",
    "        if not bypass_intra:\n",
    "            oob_predictions_intra, importance_dict[\"intra\"] = _single_view_model(y,\n",
    "                                                                                 views[\"intra\"],\n",
    "                                                                                 intra_group_bool,\n",
    "                                                                                 predictors_nonself,\n",
    "                                                                                 n_estimators,\n",
    "                                                                                 n_jobs,\n",
    "                                                                                 seed\n",
    "                                                                                 )\n",
    "            if insert_index is not None and keep_same_predictor:\n",
    "                importance_dict[\"intra\"] = np.insert(importance_dict[\"intra\"], insert_index, np.nan)\n",
    "\n",
    "        # loop over the group_views_by\n",
    "        for env_group in env_groups:\n",
    "            \n",
    "            # store the oob predictions for each view to construct predictor matrix for meta model\n",
    "            oob_list = []\n",
    "\n",
    "            if not bypass_intra:\n",
    "                oob_list.append(oob_predictions_intra)\n",
    "\n",
    "            # model the juxta and paraview (if applicable)\n",
    "            ## TODO: remove this thing with all\n",
    "            for view_name in [v for v in view_str if v != \"intra\"]:\n",
    "                view = views[view_name][env_group] if env_group else views[view_name][\"all\"]\n",
    "                oob_predictions, importance_dict[view_name] = \\\n",
    "                    _single_view_model(y, \n",
    "                                        view, \n",
    "                                        intra_group_bool, \n",
    "                                        preds, \n",
    "                                        n_estimators,\n",
    "                                        n_jobs,\n",
    "                                        seed\n",
    "                                        )\n",
    "                oob_list.append(oob_predictions)\n",
    "\n",
    "            # train the meta model with k-fold CV \n",
    "            intra_r2, multi_r2, coefs = _multi_model(y,\n",
    "                                                        np.column_stack(oob_list),\n",
    "                                                        intra_group, \n",
    "                                                        bypass_intra, \n",
    "                                                        view_str, \n",
    "                                                        k_cv, \n",
    "                                                        alphas, \n",
    "                                                        seed\n",
    "                                                        )\n",
    "            \n",
    "            targets_df = _format_targets(target,\n",
    "                                            intra_group,\n",
    "                                            env_group,\n",
    "                                            view_str,\n",
    "                                            intra_r2,\n",
    "                                            multi_r2,\n",
    "                                            coefs\n",
    "                                        )\n",
    "            targets_list.append(targets_df)\n",
    "            \n",
    "            importances_df = _format_importances(target, \n",
    "                                                    preds, \n",
    "                                                    intra_group, \n",
    "                                                    env_group,\n",
    "                                                    importance_dict\n",
    "                                                    )\n",
    "            importances_list.append(importances_df)\n",
    "\n",
    "\n",
    "# create result dataframes\n",
    "target_metrics, importances = _concat_dataframes(targets_list,\n",
    "                                                 importances_list,\n",
    "                                                 view_str)"
   ]
  },
  {
   "cell_type": "code",
   "execution_count": null,
   "metadata": {},
   "outputs": [],
   "source": []
  },
  {
   "cell_type": "code",
   "execution_count": null,
   "metadata": {},
   "outputs": [],
   "source": []
  },
  {
   "attachments": {},
   "cell_type": "markdown",
   "metadata": {},
   "source": [
    "Rewrite misty"
   ]
  },
  {
   "cell_type": "code",
   "execution_count": null,
   "metadata": {},
   "outputs": [],
   "source": [
    "views = _compose_views_groups(xdata, \n",
    "                                predictors,\n",
    "                                bypass_intra, \n",
    "                                add_juxta, \n",
    "                                add_para, \n",
    "                                group_env_by, \n",
    "                                juxta_cutoff, \n",
    "                                bandwidth, \n",
    "                                kernel,\n",
    "                                zoi,\n",
    "                                set_diag, \n",
    "                                spatial_key)\n",
    "view_str = list(views.keys())\n",
    "\n",
    "# init list to store the results for each intra group and env group as dataframe;\n",
    "targets_list, importances_list = [], []\n"
   ]
  },
  {
   "cell_type": "code",
   "execution_count": null,
   "metadata": {},
   "outputs": [],
   "source": []
  },
  {
   "cell_type": "code",
   "execution_count": null,
   "metadata": {},
   "outputs": [],
   "source": [
    "env_obs_msk = ydata.obs[group_env_by] == env_group if env_group else np.ones(xdata.shape[0], dtype=bool)"
   ]
  },
  {
   "cell_type": "code",
   "execution_count": null,
   "metadata": {},
   "outputs": [],
   "source": [
    "weights = connectivities[view_name]\n",
    "weights[:, adata.obs[group_env_by]!=env_group] = 0\n",
    "X = weights @ adata[:, predictors].X\n"
   ]
  },
  {
   "cell_type": "code",
   "execution_count": null,
   "metadata": {},
   "outputs": [],
   "source": []
  },
  {
   "cell_type": "code",
   "execution_count": 24,
   "metadata": {},
   "outputs": [],
   "source": [
    "def _mask_connectivity(xdata, connectivity, env_obs_msk, predictors):\n",
    "    \n",
    "    weights = connectivity.copy()\n",
    "    weights[:, ~env_obs_msk] = 0\n",
    "    X = weights @ xdata[:, predictors].X\n",
    "    view = AnnData(X=X, obs=xdata.obs, var=pd.DataFrame(index=predictors))\n",
    "    \n",
    "    return view"
   ]
  },
  {
   "cell_type": "code",
   "execution_count": null,
   "metadata": {},
   "outputs": [],
   "source": []
  },
  {
   "cell_type": "code",
   "execution_count": 25,
   "metadata": {},
   "outputs": [],
   "source": [
    "connectivities = {}"
   ]
  },
  {
   "cell_type": "code",
   "execution_count": 27,
   "metadata": {},
   "outputs": [
    {
     "name": "stderr",
     "output_type": "stream",
     "text": [
      "/home/dbdimitrov/anaconda3/envs/liana-py/lib/python3.10/site-packages/scipy/sparse/_index.py:146: SparseEfficiencyWarning: Changing the sparsity structure of a csr_matrix is expensive. lil_matrix is more efficient.\n",
      "/home/dbdimitrov/anaconda3/envs/liana-py/lib/python3.10/site-packages/scipy/sparse/_index.py:146: SparseEfficiencyWarning: Changing the sparsity structure of a csr_matrix is expensive. lil_matrix is more efficient.\n",
      "/home/dbdimitrov/anaconda3/envs/liana-py/lib/python3.10/site-packages/scipy/sparse/_index.py:146: SparseEfficiencyWarning: Changing the sparsity structure of a csr_matrix is expensive. lil_matrix is more efficient.\n",
      "/home/dbdimitrov/anaconda3/envs/liana-py/lib/python3.10/site-packages/scipy/sparse/_index.py:146: SparseEfficiencyWarning: Changing the sparsity structure of a csr_matrix is expensive. lil_matrix is more efficient.\n",
      "/home/dbdimitrov/anaconda3/envs/liana-py/lib/python3.10/site-packages/scipy/sparse/_index.py:146: SparseEfficiencyWarning: Changing the sparsity structure of a csr_matrix is expensive. lil_matrix is more efficient.\n",
      "/home/dbdimitrov/anaconda3/envs/liana-py/lib/python3.10/site-packages/scipy/sparse/_index.py:146: SparseEfficiencyWarning: Changing the sparsity structure of a csr_matrix is expensive. lil_matrix is more efficient.\n",
      "/home/dbdimitrov/anaconda3/envs/liana-py/lib/python3.10/site-packages/scipy/sparse/_index.py:146: SparseEfficiencyWarning: Changing the sparsity structure of a csr_matrix is expensive. lil_matrix is more efficient.\n",
      "/home/dbdimitrov/anaconda3/envs/liana-py/lib/python3.10/site-packages/scipy/sparse/_index.py:146: SparseEfficiencyWarning: Changing the sparsity structure of a csr_matrix is expensive. lil_matrix is more efficient.\n",
      "/home/dbdimitrov/anaconda3/envs/liana-py/lib/python3.10/site-packages/scipy/sparse/_index.py:146: SparseEfficiencyWarning: Changing the sparsity structure of a csr_matrix is expensive. lil_matrix is more efficient.\n",
      "/home/dbdimitrov/anaconda3/envs/liana-py/lib/python3.10/site-packages/scipy/sparse/_index.py:146: SparseEfficiencyWarning: Changing the sparsity structure of a csr_matrix is expensive. lil_matrix is more efficient.\n",
      "/home/dbdimitrov/anaconda3/envs/liana-py/lib/python3.10/site-packages/scipy/sparse/_index.py:146: SparseEfficiencyWarning: Changing the sparsity structure of a csr_matrix is expensive. lil_matrix is more efficient.\n",
      "/home/dbdimitrov/anaconda3/envs/liana-py/lib/python3.10/site-packages/scipy/sparse/_index.py:146: SparseEfficiencyWarning: Changing the sparsity structure of a csr_matrix is expensive. lil_matrix is more efficient.\n",
      "/home/dbdimitrov/anaconda3/envs/liana-py/lib/python3.10/site-packages/scipy/sparse/_index.py:146: SparseEfficiencyWarning: Changing the sparsity structure of a csr_matrix is expensive. lil_matrix is more efficient.\n",
      "/home/dbdimitrov/anaconda3/envs/liana-py/lib/python3.10/site-packages/scipy/sparse/_index.py:146: SparseEfficiencyWarning: Changing the sparsity structure of a csr_matrix is expensive. lil_matrix is more efficient.\n",
      "/home/dbdimitrov/anaconda3/envs/liana-py/lib/python3.10/site-packages/scipy/sparse/_index.py:146: SparseEfficiencyWarning: Changing the sparsity structure of a csr_matrix is expensive. lil_matrix is more efficient.\n",
      "/home/dbdimitrov/anaconda3/envs/liana-py/lib/python3.10/site-packages/scipy/sparse/_index.py:146: SparseEfficiencyWarning: Changing the sparsity structure of a csr_matrix is expensive. lil_matrix is more efficient.\n",
      "/home/dbdimitrov/anaconda3/envs/liana-py/lib/python3.10/site-packages/scipy/sparse/_index.py:146: SparseEfficiencyWarning: Changing the sparsity structure of a csr_matrix is expensive. lil_matrix is more efficient.\n",
      "/home/dbdimitrov/anaconda3/envs/liana-py/lib/python3.10/site-packages/scipy/sparse/_index.py:146: SparseEfficiencyWarning: Changing the sparsity structure of a csr_matrix is expensive. lil_matrix is more efficient.\n",
      "/home/dbdimitrov/anaconda3/envs/liana-py/lib/python3.10/site-packages/scipy/sparse/_index.py:146: SparseEfficiencyWarning: Changing the sparsity structure of a csr_matrix is expensive. lil_matrix is more efficient.\n",
      "/home/dbdimitrov/anaconda3/envs/liana-py/lib/python3.10/site-packages/scipy/sparse/_index.py:146: SparseEfficiencyWarning: Changing the sparsity structure of a csr_matrix is expensive. lil_matrix is more efficient.\n",
      "/home/dbdimitrov/anaconda3/envs/liana-py/lib/python3.10/site-packages/scipy/sparse/_index.py:146: SparseEfficiencyWarning: Changing the sparsity structure of a csr_matrix is expensive. lil_matrix is more efficient.\n",
      "/home/dbdimitrov/anaconda3/envs/liana-py/lib/python3.10/site-packages/scipy/sparse/_index.py:146: SparseEfficiencyWarning: Changing the sparsity structure of a csr_matrix is expensive. lil_matrix is more efficient.\n",
      "/home/dbdimitrov/anaconda3/envs/liana-py/lib/python3.10/site-packages/scipy/sparse/_index.py:146: SparseEfficiencyWarning: Changing the sparsity structure of a csr_matrix is expensive. lil_matrix is more efficient.\n",
      "/home/dbdimitrov/anaconda3/envs/liana-py/lib/python3.10/site-packages/scipy/sparse/_index.py:146: SparseEfficiencyWarning: Changing the sparsity structure of a csr_matrix is expensive. lil_matrix is more efficient.\n",
      "/home/dbdimitrov/anaconda3/envs/liana-py/lib/python3.10/site-packages/scipy/sparse/_index.py:146: SparseEfficiencyWarning: Changing the sparsity structure of a csr_matrix is expensive. lil_matrix is more efficient.\n",
      "/home/dbdimitrov/anaconda3/envs/liana-py/lib/python3.10/site-packages/scipy/sparse/_index.py:146: SparseEfficiencyWarning: Changing the sparsity structure of a csr_matrix is expensive. lil_matrix is more efficient.\n",
      "/home/dbdimitrov/anaconda3/envs/liana-py/lib/python3.10/site-packages/scipy/sparse/_index.py:146: SparseEfficiencyWarning: Changing the sparsity structure of a csr_matrix is expensive. lil_matrix is more efficient.\n",
      "/home/dbdimitrov/anaconda3/envs/liana-py/lib/python3.10/site-packages/scipy/sparse/_index.py:146: SparseEfficiencyWarning: Changing the sparsity structure of a csr_matrix is expensive. lil_matrix is more efficient.\n",
      "/home/dbdimitrov/anaconda3/envs/liana-py/lib/python3.10/site-packages/scipy/sparse/_index.py:146: SparseEfficiencyWarning: Changing the sparsity structure of a csr_matrix is expensive. lil_matrix is more efficient.\n",
      "/home/dbdimitrov/anaconda3/envs/liana-py/lib/python3.10/site-packages/scipy/sparse/_index.py:146: SparseEfficiencyWarning: Changing the sparsity structure of a csr_matrix is expensive. lil_matrix is more efficient.\n",
      "/home/dbdimitrov/anaconda3/envs/liana-py/lib/python3.10/site-packages/scipy/sparse/_index.py:146: SparseEfficiencyWarning: Changing the sparsity structure of a csr_matrix is expensive. lil_matrix is more efficient.\n",
      "/home/dbdimitrov/anaconda3/envs/liana-py/lib/python3.10/site-packages/scipy/sparse/_index.py:146: SparseEfficiencyWarning: Changing the sparsity structure of a csr_matrix is expensive. lil_matrix is more efficient.\n",
      "/home/dbdimitrov/anaconda3/envs/liana-py/lib/python3.10/site-packages/scipy/sparse/_index.py:146: SparseEfficiencyWarning: Changing the sparsity structure of a csr_matrix is expensive. lil_matrix is more efficient.\n",
      "/home/dbdimitrov/anaconda3/envs/liana-py/lib/python3.10/site-packages/scipy/sparse/_index.py:146: SparseEfficiencyWarning: Changing the sparsity structure of a csr_matrix is expensive. lil_matrix is more efficient.\n",
      "/home/dbdimitrov/anaconda3/envs/liana-py/lib/python3.10/site-packages/scipy/sparse/_index.py:146: SparseEfficiencyWarning: Changing the sparsity structure of a csr_matrix is expensive. lil_matrix is more efficient.\n",
      "/home/dbdimitrov/anaconda3/envs/liana-py/lib/python3.10/site-packages/scipy/sparse/_index.py:146: SparseEfficiencyWarning: Changing the sparsity structure of a csr_matrix is expensive. lil_matrix is more efficient.\n",
      "/home/dbdimitrov/anaconda3/envs/liana-py/lib/python3.10/site-packages/scipy/sparse/_index.py:146: SparseEfficiencyWarning: Changing the sparsity structure of a csr_matrix is expensive. lil_matrix is more efficient.\n",
      "/home/dbdimitrov/anaconda3/envs/liana-py/lib/python3.10/site-packages/scipy/sparse/_index.py:146: SparseEfficiencyWarning: Changing the sparsity structure of a csr_matrix is expensive. lil_matrix is more efficient.\n",
      "/home/dbdimitrov/anaconda3/envs/liana-py/lib/python3.10/site-packages/scipy/sparse/_index.py:146: SparseEfficiencyWarning: Changing the sparsity structure of a csr_matrix is expensive. lil_matrix is more efficient.\n",
      "/home/dbdimitrov/anaconda3/envs/liana-py/lib/python3.10/site-packages/scipy/sparse/_index.py:146: SparseEfficiencyWarning: Changing the sparsity structure of a csr_matrix is expensive. lil_matrix is more efficient.\n",
      "/home/dbdimitrov/anaconda3/envs/liana-py/lib/python3.10/site-packages/scipy/sparse/_index.py:146: SparseEfficiencyWarning: Changing the sparsity structure of a csr_matrix is expensive. lil_matrix is more efficient.\n",
      "/home/dbdimitrov/anaconda3/envs/liana-py/lib/python3.10/site-packages/scipy/sparse/_index.py:146: SparseEfficiencyWarning: Changing the sparsity structure of a csr_matrix is expensive. lil_matrix is more efficient.\n",
      "/home/dbdimitrov/anaconda3/envs/liana-py/lib/python3.10/site-packages/scipy/sparse/_index.py:146: SparseEfficiencyWarning: Changing the sparsity structure of a csr_matrix is expensive. lil_matrix is more efficient.\n",
      "/home/dbdimitrov/anaconda3/envs/liana-py/lib/python3.10/site-packages/scipy/sparse/_index.py:146: SparseEfficiencyWarning: Changing the sparsity structure of a csr_matrix is expensive. lil_matrix is more efficient.\n",
      "/home/dbdimitrov/anaconda3/envs/liana-py/lib/python3.10/site-packages/scipy/sparse/_index.py:146: SparseEfficiencyWarning: Changing the sparsity structure of a csr_matrix is expensive. lil_matrix is more efficient.\n",
      "/home/dbdimitrov/anaconda3/envs/liana-py/lib/python3.10/site-packages/scipy/sparse/_index.py:146: SparseEfficiencyWarning: Changing the sparsity structure of a csr_matrix is expensive. lil_matrix is more efficient.\n",
      "/home/dbdimitrov/anaconda3/envs/liana-py/lib/python3.10/site-packages/scipy/sparse/_index.py:146: SparseEfficiencyWarning: Changing the sparsity structure of a csr_matrix is expensive. lil_matrix is more efficient.\n",
      "/home/dbdimitrov/anaconda3/envs/liana-py/lib/python3.10/site-packages/scipy/sparse/_index.py:146: SparseEfficiencyWarning: Changing the sparsity structure of a csr_matrix is expensive. lil_matrix is more efficient.\n",
      "/home/dbdimitrov/anaconda3/envs/liana-py/lib/python3.10/site-packages/scipy/sparse/_index.py:146: SparseEfficiencyWarning: Changing the sparsity structure of a csr_matrix is expensive. lil_matrix is more efficient.\n",
      "/home/dbdimitrov/anaconda3/envs/liana-py/lib/python3.10/site-packages/scipy/sparse/_index.py:146: SparseEfficiencyWarning: Changing the sparsity structure of a csr_matrix is expensive. lil_matrix is more efficient.\n",
      "/home/dbdimitrov/anaconda3/envs/liana-py/lib/python3.10/site-packages/scipy/sparse/_index.py:146: SparseEfficiencyWarning: Changing the sparsity structure of a csr_matrix is expensive. lil_matrix is more efficient.\n",
      "/home/dbdimitrov/anaconda3/envs/liana-py/lib/python3.10/site-packages/scipy/sparse/_index.py:146: SparseEfficiencyWarning: Changing the sparsity structure of a csr_matrix is expensive. lil_matrix is more efficient.\n",
      "/home/dbdimitrov/anaconda3/envs/liana-py/lib/python3.10/site-packages/scipy/sparse/_index.py:146: SparseEfficiencyWarning: Changing the sparsity structure of a csr_matrix is expensive. lil_matrix is more efficient.\n",
      "/home/dbdimitrov/anaconda3/envs/liana-py/lib/python3.10/site-packages/scipy/sparse/_index.py:146: SparseEfficiencyWarning: Changing the sparsity structure of a csr_matrix is expensive. lil_matrix is more efficient.\n",
      "/home/dbdimitrov/anaconda3/envs/liana-py/lib/python3.10/site-packages/scipy/sparse/_index.py:146: SparseEfficiencyWarning: Changing the sparsity structure of a csr_matrix is expensive. lil_matrix is more efficient.\n",
      "/home/dbdimitrov/anaconda3/envs/liana-py/lib/python3.10/site-packages/scipy/sparse/_index.py:146: SparseEfficiencyWarning: Changing the sparsity structure of a csr_matrix is expensive. lil_matrix is more efficient.\n",
      "/home/dbdimitrov/anaconda3/envs/liana-py/lib/python3.10/site-packages/scipy/sparse/_index.py:146: SparseEfficiencyWarning: Changing the sparsity structure of a csr_matrix is expensive. lil_matrix is more efficient.\n",
      "/home/dbdimitrov/anaconda3/envs/liana-py/lib/python3.10/site-packages/scipy/sparse/_index.py:146: SparseEfficiencyWarning: Changing the sparsity structure of a csr_matrix is expensive. lil_matrix is more efficient.\n",
      "/home/dbdimitrov/anaconda3/envs/liana-py/lib/python3.10/site-packages/scipy/sparse/_index.py:146: SparseEfficiencyWarning: Changing the sparsity structure of a csr_matrix is expensive. lil_matrix is more efficient.\n",
      "/home/dbdimitrov/anaconda3/envs/liana-py/lib/python3.10/site-packages/scipy/sparse/_index.py:146: SparseEfficiencyWarning: Changing the sparsity structure of a csr_matrix is expensive. lil_matrix is more efficient.\n",
      "/home/dbdimitrov/anaconda3/envs/liana-py/lib/python3.10/site-packages/scipy/sparse/_index.py:146: SparseEfficiencyWarning: Changing the sparsity structure of a csr_matrix is expensive. lil_matrix is more efficient.\n",
      "/home/dbdimitrov/anaconda3/envs/liana-py/lib/python3.10/site-packages/scipy/sparse/_index.py:146: SparseEfficiencyWarning: Changing the sparsity structure of a csr_matrix is expensive. lil_matrix is more efficient.\n",
      "/home/dbdimitrov/anaconda3/envs/liana-py/lib/python3.10/site-packages/scipy/sparse/_index.py:146: SparseEfficiencyWarning: Changing the sparsity structure of a csr_matrix is expensive. lil_matrix is more efficient.\n",
      "/home/dbdimitrov/anaconda3/envs/liana-py/lib/python3.10/site-packages/scipy/sparse/_index.py:146: SparseEfficiencyWarning: Changing the sparsity structure of a csr_matrix is expensive. lil_matrix is more efficient.\n",
      "/home/dbdimitrov/anaconda3/envs/liana-py/lib/python3.10/site-packages/scipy/sparse/_index.py:146: SparseEfficiencyWarning: Changing the sparsity structure of a csr_matrix is expensive. lil_matrix is more efficient.\n",
      "/home/dbdimitrov/anaconda3/envs/liana-py/lib/python3.10/site-packages/scipy/sparse/_index.py:146: SparseEfficiencyWarning: Changing the sparsity structure of a csr_matrix is expensive. lil_matrix is more efficient.\n",
      "/home/dbdimitrov/anaconda3/envs/liana-py/lib/python3.10/site-packages/scipy/sparse/_index.py:146: SparseEfficiencyWarning: Changing the sparsity structure of a csr_matrix is expensive. lil_matrix is more efficient.\n",
      "/home/dbdimitrov/anaconda3/envs/liana-py/lib/python3.10/site-packages/scipy/sparse/_index.py:146: SparseEfficiencyWarning: Changing the sparsity structure of a csr_matrix is expensive. lil_matrix is more efficient.\n",
      "/home/dbdimitrov/anaconda3/envs/liana-py/lib/python3.10/site-packages/scipy/sparse/_index.py:146: SparseEfficiencyWarning: Changing the sparsity structure of a csr_matrix is expensive. lil_matrix is more efficient.\n",
      "/home/dbdimitrov/anaconda3/envs/liana-py/lib/python3.10/site-packages/scipy/sparse/_index.py:146: SparseEfficiencyWarning: Changing the sparsity structure of a csr_matrix is expensive. lil_matrix is more efficient.\n",
      "/home/dbdimitrov/anaconda3/envs/liana-py/lib/python3.10/site-packages/scipy/sparse/_index.py:146: SparseEfficiencyWarning: Changing the sparsity structure of a csr_matrix is expensive. lil_matrix is more efficient.\n",
      "/home/dbdimitrov/anaconda3/envs/liana-py/lib/python3.10/site-packages/scipy/sparse/_index.py:146: SparseEfficiencyWarning: Changing the sparsity structure of a csr_matrix is expensive. lil_matrix is more efficient.\n",
      "/home/dbdimitrov/anaconda3/envs/liana-py/lib/python3.10/site-packages/scipy/sparse/_index.py:146: SparseEfficiencyWarning: Changing the sparsity structure of a csr_matrix is expensive. lil_matrix is more efficient.\n",
      "/home/dbdimitrov/anaconda3/envs/liana-py/lib/python3.10/site-packages/scipy/sparse/_index.py:146: SparseEfficiencyWarning: Changing the sparsity structure of a csr_matrix is expensive. lil_matrix is more efficient.\n",
      "/home/dbdimitrov/anaconda3/envs/liana-py/lib/python3.10/site-packages/scipy/sparse/_index.py:146: SparseEfficiencyWarning: Changing the sparsity structure of a csr_matrix is expensive. lil_matrix is more efficient.\n",
      "/home/dbdimitrov/anaconda3/envs/liana-py/lib/python3.10/site-packages/scipy/sparse/_index.py:146: SparseEfficiencyWarning: Changing the sparsity structure of a csr_matrix is expensive. lil_matrix is more efficient.\n",
      "/home/dbdimitrov/anaconda3/envs/liana-py/lib/python3.10/site-packages/scipy/sparse/_index.py:146: SparseEfficiencyWarning: Changing the sparsity structure of a csr_matrix is expensive. lil_matrix is more efficient.\n",
      "/home/dbdimitrov/anaconda3/envs/liana-py/lib/python3.10/site-packages/scipy/sparse/_index.py:146: SparseEfficiencyWarning: Changing the sparsity structure of a csr_matrix is expensive. lil_matrix is more efficient.\n",
      "/home/dbdimitrov/anaconda3/envs/liana-py/lib/python3.10/site-packages/scipy/sparse/_index.py:146: SparseEfficiencyWarning: Changing the sparsity structure of a csr_matrix is expensive. lil_matrix is more efficient.\n",
      "/home/dbdimitrov/anaconda3/envs/liana-py/lib/python3.10/site-packages/scipy/sparse/_index.py:146: SparseEfficiencyWarning: Changing the sparsity structure of a csr_matrix is expensive. lil_matrix is more efficient.\n",
      "/home/dbdimitrov/anaconda3/envs/liana-py/lib/python3.10/site-packages/scipy/sparse/_index.py:146: SparseEfficiencyWarning: Changing the sparsity structure of a csr_matrix is expensive. lil_matrix is more efficient.\n",
      "/home/dbdimitrov/anaconda3/envs/liana-py/lib/python3.10/site-packages/scipy/sparse/_index.py:146: SparseEfficiencyWarning: Changing the sparsity structure of a csr_matrix is expensive. lil_matrix is more efficient.\n",
      "/home/dbdimitrov/anaconda3/envs/liana-py/lib/python3.10/site-packages/scipy/sparse/_index.py:146: SparseEfficiencyWarning: Changing the sparsity structure of a csr_matrix is expensive. lil_matrix is more efficient.\n",
      "/home/dbdimitrov/anaconda3/envs/liana-py/lib/python3.10/site-packages/scipy/sparse/_index.py:146: SparseEfficiencyWarning: Changing the sparsity structure of a csr_matrix is expensive. lil_matrix is more efficient.\n",
      "/home/dbdimitrov/anaconda3/envs/liana-py/lib/python3.10/site-packages/scipy/sparse/_index.py:146: SparseEfficiencyWarning: Changing the sparsity structure of a csr_matrix is expensive. lil_matrix is more efficient.\n",
      "/home/dbdimitrov/anaconda3/envs/liana-py/lib/python3.10/site-packages/scipy/sparse/_index.py:146: SparseEfficiencyWarning: Changing the sparsity structure of a csr_matrix is expensive. lil_matrix is more efficient.\n",
      "/home/dbdimitrov/anaconda3/envs/liana-py/lib/python3.10/site-packages/scipy/sparse/_index.py:146: SparseEfficiencyWarning: Changing the sparsity structure of a csr_matrix is expensive. lil_matrix is more efficient.\n",
      "/home/dbdimitrov/anaconda3/envs/liana-py/lib/python3.10/site-packages/scipy/sparse/_index.py:146: SparseEfficiencyWarning: Changing the sparsity structure of a csr_matrix is expensive. lil_matrix is more efficient.\n"
     ]
    }
   ],
   "source": [
    "if add_juxta:\n",
    "    connectivities['juxta'] = _get_neighbors(xdata,\n",
    "                                            juxta_cutoff=juxta_cutoff,\n",
    "                                            set_diag=set_diag, \n",
    "                                            spatial_key=spatial_key\n",
    "                                            )\n",
    "if add_para:\n",
    "    connectivities['para'] = distance_weights = spatial_neighbors(adata=xdata,\n",
    "                                                                bandwidth=bandwidth, \n",
    "                                                                kernel=kernel,\n",
    "                                                                set_diag=set_diag, \n",
    "                                                                inplace=False,\n",
    "                                                                cutoff=0, \n",
    "                                                                zoi=zoi\n",
    "                                                                )\n",
    "\n",
    "# init list to store the results for each intra group and env group as dataframe;\n",
    "targets_list, importances_list = [], []\n",
    "\n",
    "# loop over each target and build one RF model for each view\n",
    "for target in targets:\n",
    "    \n",
    "    for intra_group in intra_groups:\n",
    "        intra_obs_msk = ydata.obs[group_intra_by] == \\\n",
    "                intra_group if intra_group else np.ones(ydata.shape[0], dtype=bool)\n",
    "        \n",
    "        if issparse(ydata.X):\n",
    "            y = np.asarray(ydata[intra_obs_msk, target].X.todense()).reshape(-1)\n",
    "        else:\n",
    "            y = ydata[intra_obs_msk, target].X.reshape(-1)\n",
    "\n",
    "        # intra is always non-self, while other views can be self\n",
    "        predictors_nonself, insert_index = _check_target_in_predictors(target, predictors)\n",
    "        preds = predictors if keep_same_predictor else predictors_nonself\n",
    "\n",
    "        importance_dict = {}\n",
    "        \n",
    "        # model the intraview\n",
    "        if not bypass_intra:\n",
    "            oob_predictions_intra, importance_dict[\"intra\"] = _single_view_model(y,\n",
    "                                                                                 views[\"intra\"], \n",
    "                                                                                 intra_obs_msk, \n",
    "                                                                                 predictors_nonself, \n",
    "                                                                                 n_estimators, \n",
    "                                                                                 n_jobs, \n",
    "                                                                                 seed\n",
    "                                                                                 )\n",
    "            if insert_index is not None and keep_same_predictor:\n",
    "                importance_dict[\"intra\"] = np.insert(importance_dict[\"intra\"], insert_index, np.nan)\n",
    "\n",
    "        # loop over the group_views_by\n",
    "        for env_group in env_groups:\n",
    "            \n",
    "            env_obs_msk = ydata.obs[group_env_by] == env_group if env_group else np.ones(xdata.shape[0], dtype=bool)\n",
    "            \n",
    "            # store the oob predictions for each view to construct predictor matrix for meta model\n",
    "            oob_list = []\n",
    "\n",
    "            if not bypass_intra:\n",
    "                oob_list.append(oob_predictions_intra)\n",
    "\n",
    "            # model the juxta and paraview (if applicable)\n",
    "            ## TODO: remove this thing with all\n",
    "            for view_name in [v for v in view_str if v != \"intra\"]:\n",
    "                connectivity = connectivities[view_name]\n",
    "                view = _mask_connectivity(xdata, connectivity, env_obs_msk, predictors)\n",
    "                oob_predictions, importance_dict[view_name] = \\\n",
    "                    _single_view_model(y, \n",
    "                                       view,\n",
    "                                       intra_obs_msk,\n",
    "                                       preds,\n",
    "                                       n_estimators,\n",
    "                                       n_jobs,\n",
    "                                       seed\n",
    "                                       )\n",
    "                oob_list.append(oob_predictions)\n",
    "\n",
    "\n",
    "            # train the meta model with k-fold CV \n",
    "            intra_r2, multi_r2, coefs = _multi_model(y,\n",
    "                                                        np.column_stack(oob_list),\n",
    "                                                        intra_group, \n",
    "                                                        bypass_intra, \n",
    "                                                        view_str, \n",
    "                                                        k_cv, \n",
    "                                                        alphas, \n",
    "                                                        seed\n",
    "                                                        )\n",
    "            \n",
    "            targets_df = _format_targets(target,\n",
    "                                         intra_group,\n",
    "                                         env_group,\n",
    "                                         view_str,\n",
    "                                         intra_r2,\n",
    "                                         multi_r2,\n",
    "                                         coefs\n",
    "                                        )\n",
    "            targets_list.append(targets_df)\n",
    "            \n",
    "            importances_df = _format_importances(target, \n",
    "                                                    preds, \n",
    "                                                    intra_group, \n",
    "                                                    env_group,\n",
    "                                                    importance_dict\n",
    "                                                    )\n",
    "            importances_list.append(importances_df)\n",
    "\n",
    "\n",
    "# create result dataframes\n",
    "target_metrics, importances = _concat_dataframes(targets_list,\n",
    "                                                    importances_list,\n",
    "                                                    view_str)"
   ]
  },
  {
   "cell_type": "code",
   "execution_count": 28,
   "metadata": {},
   "outputs": [
    {
     "data": {
      "text/html": [
       "<div>\n",
       "<style scoped>\n",
       "    .dataframe tbody tr th:only-of-type {\n",
       "        vertical-align: middle;\n",
       "    }\n",
       "\n",
       "    .dataframe tbody tr th {\n",
       "        vertical-align: top;\n",
       "    }\n",
       "\n",
       "    .dataframe thead th {\n",
       "        text-align: right;\n",
       "    }\n",
       "</style>\n",
       "<table border=\"1\" class=\"dataframe\">\n",
       "  <thead>\n",
       "    <tr style=\"text-align: right;\">\n",
       "      <th></th>\n",
       "      <th>target</th>\n",
       "      <th>predictor</th>\n",
       "      <th>intra_group</th>\n",
       "      <th>env_group</th>\n",
       "      <th>view</th>\n",
       "      <th>value</th>\n",
       "    </tr>\n",
       "  </thead>\n",
       "  <tbody>\n",
       "    <tr>\n",
       "      <th>0</th>\n",
       "      <td>ECM</td>\n",
       "      <td>ligA</td>\n",
       "      <td>A</td>\n",
       "      <td>A</td>\n",
       "      <td>intra</td>\n",
       "      <td>0.044582</td>\n",
       "    </tr>\n",
       "    <tr>\n",
       "      <th>1</th>\n",
       "      <td>ECM</td>\n",
       "      <td>ligB</td>\n",
       "      <td>A</td>\n",
       "      <td>A</td>\n",
       "      <td>intra</td>\n",
       "      <td>0.032802</td>\n",
       "    </tr>\n",
       "    <tr>\n",
       "      <th>2</th>\n",
       "      <td>ECM</td>\n",
       "      <td>ligC</td>\n",
       "      <td>A</td>\n",
       "      <td>A</td>\n",
       "      <td>intra</td>\n",
       "      <td>0.090857</td>\n",
       "    </tr>\n",
       "    <tr>\n",
       "      <th>3</th>\n",
       "      <td>ECM</td>\n",
       "      <td>ligD</td>\n",
       "      <td>A</td>\n",
       "      <td>A</td>\n",
       "      <td>intra</td>\n",
       "      <td>0.043156</td>\n",
       "    </tr>\n",
       "    <tr>\n",
       "      <th>4</th>\n",
       "      <td>ECM</td>\n",
       "      <td>protE</td>\n",
       "      <td>A</td>\n",
       "      <td>A</td>\n",
       "      <td>intra</td>\n",
       "      <td>0.677274</td>\n",
       "    </tr>\n",
       "    <tr>\n",
       "      <th>...</th>\n",
       "      <td>...</td>\n",
       "      <td>...</td>\n",
       "      <td>...</td>\n",
       "      <td>...</td>\n",
       "      <td>...</td>\n",
       "      <td>...</td>\n",
       "    </tr>\n",
       "    <tr>\n",
       "      <th>1315</th>\n",
       "      <td>prodD</td>\n",
       "      <td>protE</td>\n",
       "      <td>B</td>\n",
       "      <td>B</td>\n",
       "      <td>para</td>\n",
       "      <td>0.147171</td>\n",
       "    </tr>\n",
       "    <tr>\n",
       "      <th>1316</th>\n",
       "      <td>prodD</td>\n",
       "      <td>protF</td>\n",
       "      <td>B</td>\n",
       "      <td>B</td>\n",
       "      <td>para</td>\n",
       "      <td>0.046902</td>\n",
       "    </tr>\n",
       "    <tr>\n",
       "      <th>1317</th>\n",
       "      <td>prodD</td>\n",
       "      <td>prodA</td>\n",
       "      <td>B</td>\n",
       "      <td>B</td>\n",
       "      <td>para</td>\n",
       "      <td>0.037213</td>\n",
       "    </tr>\n",
       "    <tr>\n",
       "      <th>1318</th>\n",
       "      <td>prodD</td>\n",
       "      <td>prodB</td>\n",
       "      <td>B</td>\n",
       "      <td>B</td>\n",
       "      <td>para</td>\n",
       "      <td>0.039037</td>\n",
       "    </tr>\n",
       "    <tr>\n",
       "      <th>1319</th>\n",
       "      <td>prodD</td>\n",
       "      <td>prodC</td>\n",
       "      <td>B</td>\n",
       "      <td>B</td>\n",
       "      <td>para</td>\n",
       "      <td>0.121738</td>\n",
       "    </tr>\n",
       "  </tbody>\n",
       "</table>\n",
       "<p>1320 rows × 6 columns</p>\n",
       "</div>"
      ],
      "text/plain": [
       "     target predictor intra_group env_group   view     value\n",
       "0       ECM      ligA           A         A  intra  0.044582\n",
       "1       ECM      ligB           A         A  intra  0.032802\n",
       "2       ECM      ligC           A         A  intra  0.090857\n",
       "3       ECM      ligD           A         A  intra  0.043156\n",
       "4       ECM     protE           A         A  intra  0.677274\n",
       "...     ...       ...         ...       ...    ...       ...\n",
       "1315  prodD     protE           B         B   para  0.147171\n",
       "1316  prodD     protF           B         B   para  0.046902\n",
       "1317  prodD     prodA           B         B   para  0.037213\n",
       "1318  prodD     prodB           B         B   para  0.039037\n",
       "1319  prodD     prodC           B         B   para  0.121738\n",
       "\n",
       "[1320 rows x 6 columns]"
      ]
     },
     "execution_count": 28,
     "metadata": {},
     "output_type": "execute_result"
    }
   ],
   "source": [
    "importances"
   ]
  },
  {
   "cell_type": "code",
   "execution_count": null,
   "metadata": {},
   "outputs": [],
   "source": []
  },
  {
   "cell_type": "code",
   "execution_count": 29,
   "metadata": {},
   "outputs": [
    {
     "data": {
      "text/html": [
       "<div>\n",
       "<style scoped>\n",
       "    .dataframe tbody tr th:only-of-type {\n",
       "        vertical-align: middle;\n",
       "    }\n",
       "\n",
       "    .dataframe tbody tr th {\n",
       "        vertical-align: top;\n",
       "    }\n",
       "\n",
       "    .dataframe thead th {\n",
       "        text-align: right;\n",
       "    }\n",
       "</style>\n",
       "<table border=\"1\" class=\"dataframe\">\n",
       "  <thead>\n",
       "    <tr style=\"text-align: right;\">\n",
       "      <th></th>\n",
       "      <th>target</th>\n",
       "      <th>predictor</th>\n",
       "      <th>intra_group</th>\n",
       "      <th>env_group</th>\n",
       "      <th>view</th>\n",
       "      <th>value</th>\n",
       "    </tr>\n",
       "  </thead>\n",
       "  <tbody>\n",
       "    <tr>\n",
       "      <th>0</th>\n",
       "      <td>ECM</td>\n",
       "      <td>ligA</td>\n",
       "      <td>A</td>\n",
       "      <td>A</td>\n",
       "      <td>intra</td>\n",
       "      <td>0.044582</td>\n",
       "    </tr>\n",
       "    <tr>\n",
       "      <th>1</th>\n",
       "      <td>ECM</td>\n",
       "      <td>ligB</td>\n",
       "      <td>A</td>\n",
       "      <td>A</td>\n",
       "      <td>intra</td>\n",
       "      <td>0.032802</td>\n",
       "    </tr>\n",
       "    <tr>\n",
       "      <th>2</th>\n",
       "      <td>ECM</td>\n",
       "      <td>ligC</td>\n",
       "      <td>A</td>\n",
       "      <td>A</td>\n",
       "      <td>intra</td>\n",
       "      <td>0.090857</td>\n",
       "    </tr>\n",
       "    <tr>\n",
       "      <th>3</th>\n",
       "      <td>ECM</td>\n",
       "      <td>ligD</td>\n",
       "      <td>A</td>\n",
       "      <td>A</td>\n",
       "      <td>intra</td>\n",
       "      <td>0.043156</td>\n",
       "    </tr>\n",
       "    <tr>\n",
       "      <th>4</th>\n",
       "      <td>ECM</td>\n",
       "      <td>protE</td>\n",
       "      <td>A</td>\n",
       "      <td>A</td>\n",
       "      <td>intra</td>\n",
       "      <td>0.677274</td>\n",
       "    </tr>\n",
       "    <tr>\n",
       "      <th>...</th>\n",
       "      <td>...</td>\n",
       "      <td>...</td>\n",
       "      <td>...</td>\n",
       "      <td>...</td>\n",
       "      <td>...</td>\n",
       "      <td>...</td>\n",
       "    </tr>\n",
       "    <tr>\n",
       "      <th>1315</th>\n",
       "      <td>prodD</td>\n",
       "      <td>protE</td>\n",
       "      <td>B</td>\n",
       "      <td>B</td>\n",
       "      <td>para</td>\n",
       "      <td>0.147171</td>\n",
       "    </tr>\n",
       "    <tr>\n",
       "      <th>1316</th>\n",
       "      <td>prodD</td>\n",
       "      <td>protF</td>\n",
       "      <td>B</td>\n",
       "      <td>B</td>\n",
       "      <td>para</td>\n",
       "      <td>0.046902</td>\n",
       "    </tr>\n",
       "    <tr>\n",
       "      <th>1317</th>\n",
       "      <td>prodD</td>\n",
       "      <td>prodA</td>\n",
       "      <td>B</td>\n",
       "      <td>B</td>\n",
       "      <td>para</td>\n",
       "      <td>0.037213</td>\n",
       "    </tr>\n",
       "    <tr>\n",
       "      <th>1318</th>\n",
       "      <td>prodD</td>\n",
       "      <td>prodB</td>\n",
       "      <td>B</td>\n",
       "      <td>B</td>\n",
       "      <td>para</td>\n",
       "      <td>0.039037</td>\n",
       "    </tr>\n",
       "    <tr>\n",
       "      <th>1319</th>\n",
       "      <td>prodD</td>\n",
       "      <td>prodC</td>\n",
       "      <td>B</td>\n",
       "      <td>B</td>\n",
       "      <td>para</td>\n",
       "      <td>0.121738</td>\n",
       "    </tr>\n",
       "  </tbody>\n",
       "</table>\n",
       "<p>1320 rows × 6 columns</p>\n",
       "</div>"
      ],
      "text/plain": [
       "     target predictor intra_group env_group   view     value\n",
       "0       ECM      ligA           A         A  intra  0.044582\n",
       "1       ECM      ligB           A         A  intra  0.032802\n",
       "2       ECM      ligC           A         A  intra  0.090857\n",
       "3       ECM      ligD           A         A  intra  0.043156\n",
       "4       ECM     protE           A         A  intra  0.677274\n",
       "...     ...       ...         ...       ...    ...       ...\n",
       "1315  prodD     protE           B         B   para  0.147171\n",
       "1316  prodD     protF           B         B   para  0.046902\n",
       "1317  prodD     prodA           B         B   para  0.037213\n",
       "1318  prodD     prodB           B         B   para  0.039037\n",
       "1319  prodD     prodC           B         B   para  0.121738\n",
       "\n",
       "[1320 rows x 6 columns]"
      ]
     },
     "execution_count": 29,
     "metadata": {},
     "output_type": "execute_result"
    }
   ],
   "source": [
    "importances"
   ]
  },
  {
   "cell_type": "code",
   "execution_count": null,
   "metadata": {},
   "outputs": [],
   "source": [
    "target_metrics"
   ]
  },
  {
   "cell_type": "code",
   "execution_count": null,
   "metadata": {},
   "outputs": [],
   "source": []
  }
 ],
 "metadata": {
  "kernelspec": {
   "display_name": "liana-py",
   "language": "python",
   "name": "python3"
  },
  "language_info": {
   "codemirror_mode": {
    "name": "ipython",
    "version": 3
   },
   "file_extension": ".py",
   "mimetype": "text/x-python",
   "name": "python",
   "nbconvert_exporter": "python",
   "pygments_lexer": "ipython3",
   "version": "3.10.10 | packaged by conda-forge | (main, Mar 24 2023, 20:08:06) [GCC 11.3.0]"
  },
  "orig_nbformat": 4,
  "vscode": {
   "interpreter": {
    "hash": "80a99255e5b17beb6f8c8dc403ec70687184f3f6557a2c5fe71e16aa6505930d"
   }
  }
 },
 "nbformat": 4,
 "nbformat_minor": 2
}
