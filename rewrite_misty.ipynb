{
 "cells": [
  {
   "cell_type": "code",
   "execution_count": null,
   "metadata": {},
   "outputs": [],
   "source": [
    "from scipy.sparse import issparse\n",
    "\n",
    "import numpy as np\n",
    "import pandas as pd\n",
    "import scanpy as sc\n",
    "\n",
    "from liana.method.sp._spatial_pipe import spatial_neighbors\n",
    "from liana.method.sp._misty import _get_neighbors\n",
    "\n",
    "from scipy.sparse import csr_matrix\n",
    "from mudata import MuData\n",
    "from anndata import AnnData\n",
    "import os"
   ]
  },
  {
   "cell_type": "code",
   "execution_count": null,
   "metadata": {},
   "outputs": [],
   "source": [
    "from liana.method._pipe_utils import prep_check_adata"
   ]
  },
  {
   "cell_type": "code",
   "execution_count": null,
   "metadata": {},
   "outputs": [],
   "source": [
    "from liana.mt.sp._misty import _check_target_in_predictors, _check_features, _single_view_model, \\\n",
    "    _mask_connectivity, _multi_model, _format_targets, _format_importances, _concat_dataframes, _check_if_squidpy"
   ]
  },
  {
   "cell_type": "code",
   "execution_count": null,
   "metadata": {},
   "outputs": [],
   "source": [
    "def _make_view(adata, connecitivity=None, spatial_key=None, layer=None, use_raw=False, obs=None):\n",
    "    \n",
    "    adata = prep_check_adata(adata, use_raw=use_raw, layer=layer, groupby=None, min_cells=None)    \n",
    "    if connecitivity is not None:\n",
    "        conns = connecitivity\n",
    "        obsp = {'spatial_connectivities': conns}\n",
    "    elif spatial_key is not None:\n",
    "        conns = adata.obsp[spatial_key]\n",
    "        obsp = {'spatial_connectivities': conns}\n",
    "    else:\n",
    "        obsp=None\n",
    "        \n",
    "    return AnnData(X=adata.X, obs=obs, var=adata.var, obsp=obsp)"
   ]
  },
  {
   "cell_type": "code",
   "execution_count": null,
   "metadata": {},
   "outputs": [],
   "source": [
    "adata = sc.read_h5ad('liana/tests/data/synthetic.h5ad')"
   ]
  },
  {
   "attachments": {},
   "cell_type": "markdown",
   "metadata": {},
   "source": [
    "MistyData class"
   ]
  },
  {
   "cell_type": "code",
   "execution_count": null,
   "metadata": {},
   "outputs": [],
   "source": [
    "class MistyData(MuData):\n",
    "\n",
    "    def __init__(self, views, obs):\n",
    "        MuData.__init__(self, views)\n",
    "        self.view_names = list(self.mod.keys())\n",
    "        self._check_views()\n",
    "        self.obs = obs\n",
    "    \n",
    "    def _check_views(self):\n",
    "        assert isinstance(self, MuData), \"views must be a MuData object\"\n",
    "        assert \"intra\" in self.view_names, \"views must contain an intra view\"\n",
    "        \n",
    "        for view in self.view_names:\n",
    "            if view==\"intra\":\n",
    "                continue\n",
    "            if \"spatial_connectivities\" not in self.mod[view].obsp.keys():\n",
    "                raise ValueError(f\"view {view} must contain a spatial_connectivities key in .obsp\")\n",
    "    \n",
    "    ## TODO assign targets & predictors to views\n",
    "    \n",
    "            \n",
    "    def _get_conn(self, view_name):\n",
    "        return self.mod[view_name].obsp[\"spatial_connectivities\"]\n",
    "\n",
    " "
   ]
  },
  {
   "cell_type": "code",
   "execution_count": null,
   "metadata": {},
   "outputs": [],
   "source": []
  },
  {
   "attachments": {},
   "cell_type": "markdown",
   "metadata": {},
   "source": [
    "### Constructor"
   ]
  },
  {
   "cell_type": "code",
   "execution_count": null,
   "metadata": {},
   "outputs": [],
   "source": [
    "# xdata = adata"
   ]
  },
  {
   "cell_type": "code",
   "execution_count": null,
   "metadata": {},
   "outputs": [],
   "source": [
    "ydata = None\n",
    "set_diag = True\n",
    "spatial_key = 'spatial'\n",
    "bandwidth = 10\n",
    "n_neighs = 6\n",
    "kernel = 'misty_rbf'\n",
    "cutoff = 0.1\n",
    "juxta_cutoff = np.inf\n",
    "zoi = 0"
   ]
  },
  {
   "cell_type": "code",
   "execution_count": null,
   "metadata": {},
   "outputs": [],
   "source": [
    "# ydata = ydata if ydata else xdata"
   ]
  },
  {
   "cell_type": "code",
   "execution_count": null,
   "metadata": {},
   "outputs": [],
   "source": []
  },
  {
   "cell_type": "code",
   "execution_count": null,
   "metadata": {},
   "outputs": [],
   "source": [
    "def construct_views(xdata, \n",
    "                    ydata=None,\n",
    "                    add_para=True,\n",
    "                    spatial_key='spatial',\n",
    "                    set_diag=True, \n",
    "                    bandwidth = 10,\n",
    "                    kernel = 'misty_rbf',\n",
    "                    zoi = 0,\n",
    "                    cutoff = 0.1,\n",
    "                    add_juxta=True,\n",
    "                    n_neighs = 6,\n",
    "                    juxta_cutoff = np.inf,\n",
    "                    **kwargs\n",
    "                    ):\n",
    "    \n",
    "    # init views\n",
    "    views = {}\n",
    "    ydata = ydata if ydata else xdata\n",
    "    \n",
    "    # NOTE the intra view is the one with obs\n",
    "    views['intra'] = _make_view(adata=ydata, use_raw=False, layer=None)\n",
    "    \n",
    "    if add_para:\n",
    "        weights = spatial_neighbors(adata=xdata,\n",
    "                                    bandwidth=bandwidth,\n",
    "                                    kernel=kernel,\n",
    "                                    set_diag=set_diag, \n",
    "                                    inplace=False,\n",
    "                                    cutoff=cutoff,\n",
    "                                    zoi=zoi\n",
    "                                    )\n",
    "        views['para'] = _make_view(xdata, use_raw=False, layer=None, connecitivity=weights)\n",
    "\n",
    "    if add_juxta:\n",
    "        sq = _check_if_squidpy()\n",
    "        neighbors, dists = sq.gr.spatial_neighbors(adata=xdata,\n",
    "                                                   copy=True,\n",
    "                                                   spatial_key=spatial_key,\n",
    "                                                   set_diag=set_diag,\n",
    "                                                   n_neighs=n_neighs,\n",
    "                                                   **kwargs\n",
    "                                                   )\n",
    "        neighbors[dists > juxta_cutoff] = 0\n",
    "\n",
    "        views['juxta'] = _make_view(xdata, use_raw=False, layer=None, connecitivity=neighbors)\n",
    "    \n",
    "    return views, ydata.obs\n",
    "\n"
   ]
  },
  {
   "cell_type": "code",
   "execution_count": null,
   "metadata": {},
   "outputs": [],
   "source": [
    "views, obs = construct_views(adata, delaunay=True, coord_type=\"generic\")"
   ]
  },
  {
   "cell_type": "code",
   "execution_count": null,
   "metadata": {},
   "outputs": [],
   "source": [
    "mdata = MistyData(views, obs)"
   ]
  },
  {
   "cell_type": "code",
   "execution_count": null,
   "metadata": {},
   "outputs": [],
   "source": [
    "mdata"
   ]
  },
  {
   "cell_type": "code",
   "execution_count": null,
   "metadata": {},
   "outputs": [],
   "source": [
    "mdata.view_names"
   ]
  },
  {
   "cell_type": "code",
   "execution_count": null,
   "metadata": {},
   "outputs": [],
   "source": [
    "## TODO: two applications\n",
    "# juxta, para\n",
    "# misty_lr\n",
    "# anything else would require a new constructor"
   ]
  },
  {
   "cell_type": "code",
   "execution_count": null,
   "metadata": {},
   "outputs": [],
   "source": []
  },
  {
   "cell_type": "code",
   "execution_count": null,
   "metadata": {},
   "outputs": [],
   "source": [
    "predictors = None\n",
    "targets = None"
   ]
  },
  {
   "cell_type": "code",
   "execution_count": null,
   "metadata": {},
   "outputs": [],
   "source": [
    "intra = mdata.mod['intra']"
   ]
  },
  {
   "cell_type": "code",
   "execution_count": null,
   "metadata": {},
   "outputs": [],
   "source": [
    "# TODO to be abstracted further\n",
    "predictors = _check_features(intra, predictors, type_str=\"predictors\")\n",
    "targets = _check_features(intra, targets, type_str=\"targets\")"
   ]
  },
  {
   "cell_type": "code",
   "execution_count": null,
   "metadata": {},
   "outputs": [],
   "source": [
    "targets"
   ]
  },
  {
   "cell_type": "code",
   "execution_count": null,
   "metadata": {},
   "outputs": [],
   "source": []
  },
  {
   "attachments": {},
   "cell_type": "markdown",
   "metadata": {},
   "source": [
    "#### FIT params"
   ]
  },
  {
   "cell_type": "code",
   "execution_count": null,
   "metadata": {},
   "outputs": [],
   "source": [
    "n_estimators = 100\n",
    "n_jobs = -1\n",
    "seed = 1337\n",
    "bypass_intra = True\n",
    "keep_same_predictor = False\n",
    "k_cv = 10\n",
    "alphas = [0.1, 1, 10]"
   ]
  },
  {
   "cell_type": "code",
   "execution_count": null,
   "metadata": {},
   "outputs": [],
   "source": [
    "group_intra_by = None\n",
    "group_env_by = None"
   ]
  },
  {
   "cell_type": "code",
   "execution_count": null,
   "metadata": {},
   "outputs": [],
   "source": [
    "# TODO: function that checks if the groupby is in the obs\n",
    "# and does this for both extra & intra\n",
    "intra_groups = np.unique(mdata.obs[group_intra_by]) if group_intra_by else [None]\n",
    "extra_groups = np.unique(mdata.obs[group_env_by]) if group_env_by else [None]"
   ]
  },
  {
   "cell_type": "code",
   "execution_count": null,
   "metadata": {},
   "outputs": [],
   "source": [
    "view_str = list(mdata.view_names)\n",
    "if bypass_intra:\n",
    "    view_str.remove('intra')"
   ]
  },
  {
   "cell_type": "code",
   "execution_count": null,
   "metadata": {},
   "outputs": [],
   "source": []
  },
  {
   "cell_type": "code",
   "execution_count": null,
   "metadata": {},
   "outputs": [],
   "source": [
    "# init list to store the results for each intra group and env group as dataframe;\n",
    "targets_list, importances_list = [], []"
   ]
  },
  {
   "cell_type": "code",
   "execution_count": null,
   "metadata": {},
   "outputs": [],
   "source": [
    "# loop over each target and build one RF model for each view\n",
    "for target in targets:\n",
    "    \n",
    "    for intra_group in intra_groups:\n",
    "        intra_obs_msk = intra.obs[group_intra_by] == \\\n",
    "                intra_group if intra_group else np.ones(intra.shape[0], dtype=bool)\n",
    "        \n",
    "        # to array\n",
    "        y = intra[intra_obs_msk, target].X.toarray().reshape(-1)\n",
    "        \n",
    "        # intra is always non-self, while other views can be self\n",
    "        predictors_nonself, insert_index = _check_target_in_predictors(target, predictors)\n",
    "        _predictors = predictors if keep_same_predictor else predictors_nonself\n",
    "\n",
    "        # TODO: rename to target_importances\n",
    "        importance_dict = {}\n",
    "        \n",
    "        # model the intraview\n",
    "        if not bypass_intra:\n",
    "            oob_predictions_intra, importance_dict[\"intra\"] = _single_view_model(y,\n",
    "                                                                                 intra,\n",
    "                                                                                 intra_obs_msk, \n",
    "                                                                                 predictors_nonself, \n",
    "                                                                                 n_estimators, \n",
    "                                                                                 n_jobs, \n",
    "                                                                                 seed\n",
    "                                                                                 )\n",
    "            if insert_index is not None and keep_same_predictor:\n",
    "                importance_dict[\"intra\"] = np.insert(importance_dict[\"intra\"], insert_index, np.nan)\n",
    "\n",
    "        # loop over the group_views_by\n",
    "        for extra_group in extra_groups:\n",
    "            # store the oob predictions for each view to construct predictor matrix for meta model\n",
    "            oob_list = []\n",
    "\n",
    "            if not bypass_intra:\n",
    "                oob_list.append(oob_predictions_intra)\n",
    "\n",
    "            # model the juxta and paraview (if applicable)\n",
    "            ## TODO: remove this thing with all\n",
    "            for view_name in [v for v in view_str if v != \"intra\"]:\n",
    "                extra = mdata.mod[view_name]\n",
    "                # TODO rename to extra_obs_msk\n",
    "                env_obs_msk = mdata.obs[group_env_by] == extra_group if extra_group else np.ones(extra.shape[0], dtype=bool)\n",
    "                \n",
    "                # NOTE indexing here is expensive, but we do it to avoid memory issues\n",
    "                connectivity = mdata._get_conn(view_name)\n",
    "                view = _mask_connectivity(extra, connectivity, env_obs_msk, _predictors)\n",
    "                \n",
    "                oob_predictions, importance_dict[view_name] = \\\n",
    "                    _single_view_model(y,\n",
    "                                       view, \n",
    "                                       intra_obs_msk, \n",
    "                                       _predictors, \n",
    "                                       n_estimators,\n",
    "                                       n_jobs,\n",
    "                                       seed\n",
    "                                       )\n",
    "                oob_list.append(oob_predictions)\n",
    "\n",
    "\n",
    "            # train the meta model with k-fold CV \n",
    "            intra_r2, multi_r2, coefs = _multi_model(y,\n",
    "                                                    np.column_stack(oob_list),\n",
    "                                                    intra_group, \n",
    "                                                    bypass_intra, \n",
    "                                                    view_str, \n",
    "                                                    k_cv, \n",
    "                                                    alphas, \n",
    "                                                    seed\n",
    "                                                    )\n",
    "            \n",
    "            targets_df = _format_targets(target,\n",
    "                                        intra_group,\n",
    "                                        extra_group,\n",
    "                                        view_str,\n",
    "                                        intra_r2,\n",
    "                                        multi_r2,\n",
    "                                        coefs\n",
    "                                        )\n",
    "            targets_list.append(targets_df)\n",
    "            \n",
    "            importances_df = _format_importances(target, \n",
    "                                                _predictors, \n",
    "                                                intra_group, \n",
    "                                                extra_group,\n",
    "                                                importance_dict\n",
    "                                                )\n",
    "            importances_list.append(importances_df)\n",
    "\n",
    "\n",
    "# create result dataframes\n",
    "target_metrics, importances = _concat_dataframes(targets_list,\n",
    "                                                 importances_list,\n",
    "                                                 view_str)"
   ]
  },
  {
   "cell_type": "code",
   "execution_count": null,
   "metadata": {},
   "outputs": [],
   "source": [
    "target_metrics"
   ]
  },
  {
   "cell_type": "code",
   "execution_count": null,
   "metadata": {},
   "outputs": [],
   "source": [
    "importances"
   ]
  },
  {
   "cell_type": "code",
   "execution_count": null,
   "metadata": {},
   "outputs": [],
   "source": [
    "views"
   ]
  },
  {
   "cell_type": "code",
   "execution_count": null,
   "metadata": {},
   "outputs": [],
   "source": []
  },
  {
   "cell_type": "code",
   "execution_count": null,
   "metadata": {},
   "outputs": [],
   "source": []
  },
  {
   "cell_type": "code",
   "execution_count": null,
   "metadata": {},
   "outputs": [],
   "source": []
  }
 ],
 "metadata": {
  "kernelspec": {
   "display_name": "liana-py",
   "language": "python",
   "name": "python3"
  },
  "language_info": {
   "codemirror_mode": {
    "name": "ipython",
    "version": 3
   },
   "file_extension": ".py",
   "mimetype": "text/x-python",
   "name": "python",
   "nbconvert_exporter": "python",
   "pygments_lexer": "ipython3",
   "version": "3.10.10"
  },
  "orig_nbformat": 4,
  "vscode": {
   "interpreter": {
    "hash": "80a99255e5b17beb6f8c8dc403ec70687184f3f6557a2c5fe71e16aa6505930d"
   }
  }
 },
 "nbformat": 4,
 "nbformat_minor": 2
}
