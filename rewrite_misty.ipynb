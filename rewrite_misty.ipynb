{
 "cells": [
  {
   "cell_type": "code",
   "execution_count": 1,
   "metadata": {},
   "outputs": [],
   "source": [
    "from scipy.sparse import issparse\n",
    "\n",
    "import numpy as np\n",
    "import pandas as pd\n",
    "import scanpy as sc\n",
    "\n",
    "from liana.method.sp._spatial_pipe import spatial_neighbors\n",
    "from liana.method.sp._misty import _get_neighbors\n",
    "\n",
    "from scipy.sparse import csr_matrix\n",
    "from mudata import MuData\n",
    "from anndata import AnnData\n",
    "import os"
   ]
  },
  {
   "cell_type": "code",
   "execution_count": 2,
   "metadata": {},
   "outputs": [],
   "source": [
    "from liana.method._pipe_utils import prep_check_adata"
   ]
  },
  {
   "cell_type": "code",
   "execution_count": 3,
   "metadata": {},
   "outputs": [],
   "source": [
    "from liana.mt.sp._misty import _check_target_in_predictors, _check_features, _single_view_model, \\\n",
    "    _mask_connectivity, _multi_model, _format_targets, _format_importances, _concat_dataframes, _check_if_squidpy"
   ]
  },
  {
   "cell_type": "code",
   "execution_count": 4,
   "metadata": {},
   "outputs": [],
   "source": [
    "def _make_view(adata, connecitivity=None, spatial_key=None, layer=None, use_raw=False):\n",
    "    adata = prep_check_adata(adata, use_raw=use_raw, layer=layer, groupby=None, min_cells=None)    \n",
    "    if connecitivity is not None:\n",
    "        conns = connecitivity\n",
    "        obsp = {'spatial_connectivities': conns}\n",
    "    elif spatial_key is not None:\n",
    "        conns = adata.obsp[spatial_key]\n",
    "        obsp = {'spatial_connectivities': conns}\n",
    "    else:\n",
    "        obsp=None\n",
    "        \n",
    "    return AnnData(X=adata.X, var=adata.var, obs=adata.obs, obsp=obsp)"
   ]
  },
  {
   "cell_type": "code",
   "execution_count": 5,
   "metadata": {},
   "outputs": [],
   "source": [
    "adata = sc.read_h5ad('liana/tests/data/synthetic.h5ad')"
   ]
  },
  {
   "attachments": {},
   "cell_type": "markdown",
   "metadata": {},
   "source": [
    "MistyData class"
   ]
  },
  {
   "cell_type": "code",
   "execution_count": 6,
   "metadata": {},
   "outputs": [],
   "source": [
    "class MistyData(MuData):\n",
    "\n",
    "    def __init__(self, views):\n",
    "        MuData.__init__(self, views)\n",
    "        self.view_names = list(self.mod.keys())\n",
    "        self._check_views()\n",
    "    \n",
    "    def _check_views(self):\n",
    "        assert isinstance(self, MuData), \"views must be a MuData object\"\n",
    "        assert \"intra\" in self.view_names, \"views must contain an intra view\"\n",
    "        \n",
    "        for view in self.view_names:\n",
    "            if view==\"intra\":\n",
    "                continue\n",
    "            if \"spatial_connectivities\" not in self.mod[view].obsp.keys():\n",
    "                raise ValueError(f\"view {view} must contain a spatial_connectivities key in .obsp\")\n",
    "    \n",
    "    ## TODO assign targets & predictors to views\n",
    "    \n",
    "            \n",
    "    def _get_conn(self, view_name):\n",
    "        return self.mod[view_name].obsp[\"spatial_connectivities\"]\n",
    "\n",
    " "
   ]
  },
  {
   "cell_type": "code",
   "execution_count": null,
   "metadata": {},
   "outputs": [],
   "source": []
  },
  {
   "attachments": {},
   "cell_type": "markdown",
   "metadata": {},
   "source": [
    "### Constructor"
   ]
  },
  {
   "cell_type": "code",
   "execution_count": 7,
   "metadata": {},
   "outputs": [],
   "source": [
    "# xdata = adata"
   ]
  },
  {
   "cell_type": "code",
   "execution_count": 8,
   "metadata": {},
   "outputs": [],
   "source": [
    "ydata = None\n",
    "set_diag = True\n",
    "spatial_key = 'spatial'\n",
    "bandwidth = 10\n",
    "n_neighs = 6\n",
    "kernel = 'misty_rbf'\n",
    "cutoff = 0.1\n",
    "juxta_cutoff = np.inf\n",
    "zoi = 0"
   ]
  },
  {
   "cell_type": "code",
   "execution_count": 9,
   "metadata": {},
   "outputs": [],
   "source": [
    "# ydata = ydata if ydata else xdata"
   ]
  },
  {
   "cell_type": "code",
   "execution_count": null,
   "metadata": {},
   "outputs": [],
   "source": []
  },
  {
   "cell_type": "code",
   "execution_count": 10,
   "metadata": {},
   "outputs": [],
   "source": [
    "def construct_views(xdata, \n",
    "                    ydata=None,\n",
    "                    add_para=True,\n",
    "                    spatial_key='spatial',\n",
    "                    set_diag=True, \n",
    "                    bandwidth = 10,\n",
    "                    kernel = 'misty_rbf',\n",
    "                    zoi = 0,\n",
    "                    cutoff = 0.1,\n",
    "                    add_juxta=True,\n",
    "                    n_neighs = 6,\n",
    "                    juxta_cutoff = np.inf,\n",
    "                    **kwargs\n",
    "                    ):\n",
    "    \n",
    "    # init views\n",
    "    views = {}\n",
    "    ydata = ydata if ydata else xdata\n",
    "    \n",
    "    views['intra'] = _make_view(adata=ydata, use_raw=False, layer=None)\n",
    "    \n",
    "    if add_para:\n",
    "        weights = spatial_neighbors(adata=xdata,\n",
    "                                    bandwidth=bandwidth,\n",
    "                                    kernel=kernel,\n",
    "                                    set_diag=set_diag, \n",
    "                                    inplace=False,\n",
    "                                    cutoff=cutoff,\n",
    "                                    zoi=zoi\n",
    "                                    )\n",
    "        views['para'] = _make_view(xdata, use_raw=False, layer=None, connecitivity=weights)\n",
    "\n",
    "    if add_juxta:\n",
    "        sq = _check_if_squidpy()\n",
    "        neighbors, dists = sq.gr.spatial_neighbors(adata=xdata,\n",
    "                                                   copy=True,\n",
    "                                                   spatial_key=spatial_key,\n",
    "                                                   set_diag=set_diag,\n",
    "                                                   n_neighs=n_neighs,\n",
    "                                                   **kwargs\n",
    "                                                   )\n",
    "        neighbors[dists > juxta_cutoff] = 0\n",
    "\n",
    "        views['juxta'] = _make_view(xdata, use_raw=False, layer=None, connecitivity=neighbors)\n",
    "    \n",
    "    return views\n",
    "\n"
   ]
  },
  {
   "cell_type": "code",
   "execution_count": 11,
   "metadata": {},
   "outputs": [],
   "source": [
    "views = construct_views(adata, delaunay=True, coord_type=\"generic\")"
   ]
  },
  {
   "cell_type": "code",
   "execution_count": 12,
   "metadata": {},
   "outputs": [
    {
     "name": "stderr",
     "output_type": "stream",
     "text": [
      "/home/dbdimitrov/anaconda3/envs/liana-py/lib/python3.10/site-packages/mudata/_core/mudata.py:457: UserWarning: Cannot join columns with the same name because var_names are intersecting.\n"
     ]
    }
   ],
   "source": [
    "mdata = MistyData(views)"
   ]
  },
  {
   "cell_type": "code",
   "execution_count": 13,
   "metadata": {},
   "outputs": [
    {
     "data": {
      "text/html": [
       "<pre>MuData object with n_obs × n_vars = 4205 × 33\n",
       "  3 modalities\n",
       "    intra:\t4205 x 11\n",
       "      obs:\t&#x27;cell_type&#x27;\n",
       "    para:\t4205 x 11\n",
       "      obs:\t&#x27;cell_type&#x27;\n",
       "      obsp:\t&#x27;spatial_connectivities&#x27;\n",
       "    juxta:\t4205 x 11\n",
       "      obs:\t&#x27;cell_type&#x27;\n",
       "      obsp:\t&#x27;spatial_connectivities&#x27;</pre>"
      ],
      "text/plain": [
       "MuData object with n_obs × n_vars = 4205 × 33\n",
       "  3 modalities\n",
       "    intra:\t4205 x 11\n",
       "      obs:\t'cell_type'\n",
       "    para:\t4205 x 11\n",
       "      obs:\t'cell_type'\n",
       "      obsp:\t'spatial_connectivities'\n",
       "    juxta:\t4205 x 11\n",
       "      obs:\t'cell_type'\n",
       "      obsp:\t'spatial_connectivities'"
      ]
     },
     "execution_count": 13,
     "metadata": {},
     "output_type": "execute_result"
    }
   ],
   "source": [
    "mdata"
   ]
  },
  {
   "cell_type": "code",
   "execution_count": 14,
   "metadata": {},
   "outputs": [
    {
     "data": {
      "text/plain": [
       "['intra', 'para', 'juxta']"
      ]
     },
     "execution_count": 14,
     "metadata": {},
     "output_type": "execute_result"
    }
   ],
   "source": [
    "mdata.view_names"
   ]
  },
  {
   "cell_type": "code",
   "execution_count": 15,
   "metadata": {},
   "outputs": [],
   "source": [
    "## TODO: two applications\n",
    "# juxta, para\n",
    "# misty_lr\n",
    "# anything else would require a new constructor"
   ]
  },
  {
   "cell_type": "code",
   "execution_count": null,
   "metadata": {},
   "outputs": [],
   "source": []
  },
  {
   "cell_type": "code",
   "execution_count": 28,
   "metadata": {},
   "outputs": [],
   "source": [
    "predictors = None\n",
    "targets = None"
   ]
  },
  {
   "cell_type": "code",
   "execution_count": 29,
   "metadata": {},
   "outputs": [],
   "source": [
    "intra = mdata.mod['intra']"
   ]
  },
  {
   "cell_type": "code",
   "execution_count": 30,
   "metadata": {},
   "outputs": [],
   "source": [
    "# TODO to be abstracted further\n",
    "predictors = _check_features(intra, predictors, type_str=\"predictors\")\n",
    "targets = _check_features(intra, targets, type_str=\"targets\")"
   ]
  },
  {
   "cell_type": "code",
   "execution_count": 31,
   "metadata": {},
   "outputs": [
    {
     "data": {
      "text/plain": [
       "['ECM',\n",
       " 'ligA',\n",
       " 'ligB',\n",
       " 'ligC',\n",
       " 'ligD',\n",
       " 'prodA',\n",
       " 'prodB',\n",
       " 'prodC',\n",
       " 'prodD',\n",
       " 'protE',\n",
       " 'protF']"
      ]
     },
     "execution_count": 31,
     "metadata": {},
     "output_type": "execute_result"
    }
   ],
   "source": [
    "targets"
   ]
  },
  {
   "cell_type": "code",
   "execution_count": null,
   "metadata": {},
   "outputs": [],
   "source": []
  },
  {
   "attachments": {},
   "cell_type": "markdown",
   "metadata": {},
   "source": [
    "#### FIT params"
   ]
  },
  {
   "cell_type": "code",
   "execution_count": 32,
   "metadata": {},
   "outputs": [],
   "source": [
    "n_estimators = 100\n",
    "n_jobs = -1\n",
    "seed = 1337\n",
    "bypass_intra = True\n",
    "keep_same_predictor = False\n",
    "k_cv = 10\n",
    "alphas = [0.1, 1, 10]"
   ]
  },
  {
   "cell_type": "code",
   "execution_count": 33,
   "metadata": {},
   "outputs": [],
   "source": [
    "group_intra_by = None\n",
    "group_env_by = None"
   ]
  },
  {
   "cell_type": "code",
   "execution_count": 35,
   "metadata": {},
   "outputs": [],
   "source": [
    "intra_groups = np.unique(intra.obs[group_intra_by]) if group_intra_by else [None]\n",
    "# NOTE: this needs to be defined for every extra view\n",
    "# so, as an abstraction the mdata should be the only place where obs is stored\n",
    "env_groups = np.unique(intra.obs[group_env_by]) if group_env_by else [None]"
   ]
  },
  {
   "cell_type": "code",
   "execution_count": 36,
   "metadata": {},
   "outputs": [],
   "source": [
    "view_str = list(mdata.view_names)\n",
    "if bypass_intra:\n",
    "    view_str.remove('intra')"
   ]
  },
  {
   "cell_type": "code",
   "execution_count": null,
   "metadata": {},
   "outputs": [],
   "source": []
  },
  {
   "cell_type": "code",
   "execution_count": 37,
   "metadata": {},
   "outputs": [],
   "source": [
    "# init list to store the results for each intra group and env group as dataframe;\n",
    "targets_list, importances_list = [], []"
   ]
  },
  {
   "cell_type": "code",
   "execution_count": 38,
   "metadata": {},
   "outputs": [],
   "source": [
    "# loop over each target and build one RF model for each view\n",
    "for target in targets:\n",
    "    \n",
    "    for intra_group in intra_groups:\n",
    "        intra_obs_msk = intra.obs[group_intra_by] == \\\n",
    "                intra_group if intra_group else np.ones(intra.shape[0], dtype=bool)\n",
    "        \n",
    "        # to array\n",
    "        y = intra[intra_obs_msk, target].X.toarray().reshape(-1)\n",
    "        \n",
    "        # intra is always non-self, while other views can be self\n",
    "        predictors_nonself, insert_index = _check_target_in_predictors(target, predictors)\n",
    "        preds = predictors if keep_same_predictor else predictors_nonself\n",
    "\n",
    "        importance_dict = {}\n",
    "        \n",
    "        # model the intraview\n",
    "        if not bypass_intra:\n",
    "            oob_predictions_intra, importance_dict[\"intra\"] = _single_view_model(y,\n",
    "                                                                                 intra,\n",
    "                                                                                 intra_obs_msk, \n",
    "                                                                                 predictors_nonself, \n",
    "                                                                                 n_estimators, \n",
    "                                                                                 n_jobs, \n",
    "                                                                                 seed\n",
    "                                                                                 )\n",
    "            if insert_index is not None and keep_same_predictor:\n",
    "                importance_dict[\"intra\"] = np.insert(importance_dict[\"intra\"], insert_index, np.nan)\n",
    "\n",
    "        # loop over the group_views_by\n",
    "        for env_group in env_groups:\n",
    "            # store the oob predictions for each view to construct predictor matrix for meta model\n",
    "            oob_list = []\n",
    "            # TODO rename to extra_obs_msk\n",
    "            env_obs_msk = extra.obs[group_env_by] == env_group if env_group else np.ones(extra.shape[0], dtype=bool)\n",
    "\n",
    "            if not bypass_intra:\n",
    "                oob_list.append(oob_predictions_intra)\n",
    "\n",
    "            # model the juxta and paraview (if applicable)\n",
    "            ## TODO: remove this thing with all\n",
    "            for view_name in [v for v in view_str if v != \"intra\"]:\n",
    "                extra = mdata.mod[view_name]\n",
    "                \n",
    "                connectivity = mdata._get_conn(view_name)\n",
    "                # NOTE indexing here is expensive, but we do it to avoid memory issues\n",
    "                view = _mask_connectivity(extra, connectivity, env_obs_msk, preds)\n",
    "                \n",
    "                oob_predictions, importance_dict[view_name] = \\\n",
    "                    _single_view_model(y,\n",
    "                                       view, \n",
    "                                       intra_obs_msk, \n",
    "                                       preds, \n",
    "                                       n_estimators,\n",
    "                                       n_jobs,\n",
    "                                       seed\n",
    "                                       )\n",
    "                oob_list.append(oob_predictions)\n",
    "\n",
    "\n",
    "            # train the meta model with k-fold CV \n",
    "            intra_r2, multi_r2, coefs = _multi_model(y,\n",
    "                                                    np.column_stack(oob_list),\n",
    "                                                    intra_group, \n",
    "                                                    bypass_intra, \n",
    "                                                    view_str, \n",
    "                                                    k_cv, \n",
    "                                                    alphas, \n",
    "                                                    seed\n",
    "                                                    )\n",
    "            \n",
    "            targets_df = _format_targets(target,\n",
    "                                        intra_group,\n",
    "                                        env_group,\n",
    "                                        view_str,\n",
    "                                        intra_r2,\n",
    "                                        multi_r2,\n",
    "                                        coefs\n",
    "                                        )\n",
    "            targets_list.append(targets_df)\n",
    "            \n",
    "            importances_df = _format_importances(target, \n",
    "                                                preds, \n",
    "                                                intra_group, \n",
    "                                                env_group,\n",
    "                                                importance_dict\n",
    "                                                )\n",
    "            importances_list.append(importances_df)\n",
    "\n",
    "\n",
    "# create result dataframes\n",
    "target_metrics, importances = _concat_dataframes(targets_list,\n",
    "                                                 importances_list,\n",
    "                                                 view_str)"
   ]
  },
  {
   "cell_type": "code",
   "execution_count": 39,
   "metadata": {},
   "outputs": [
    {
     "data": {
      "text/html": [
       "<div>\n",
       "<style scoped>\n",
       "    .dataframe tbody tr th:only-of-type {\n",
       "        vertical-align: middle;\n",
       "    }\n",
       "\n",
       "    .dataframe tbody tr th {\n",
       "        vertical-align: top;\n",
       "    }\n",
       "\n",
       "    .dataframe thead th {\n",
       "        text-align: right;\n",
       "    }\n",
       "</style>\n",
       "<table border=\"1\" class=\"dataframe\">\n",
       "  <thead>\n",
       "    <tr style=\"text-align: right;\">\n",
       "      <th></th>\n",
       "      <th>target</th>\n",
       "      <th>intra_group</th>\n",
       "      <th>env_group</th>\n",
       "      <th>intra.R2</th>\n",
       "      <th>multi.R2</th>\n",
       "      <th>gain.R2</th>\n",
       "      <th>para</th>\n",
       "      <th>juxta</th>\n",
       "    </tr>\n",
       "  </thead>\n",
       "  <tbody>\n",
       "    <tr>\n",
       "      <th>0</th>\n",
       "      <td>ECM</td>\n",
       "      <td>None</td>\n",
       "      <td>None</td>\n",
       "      <td>0</td>\n",
       "      <td>0.268114</td>\n",
       "      <td>0.268114</td>\n",
       "      <td>0.228240</td>\n",
       "      <td>0.771760</td>\n",
       "    </tr>\n",
       "    <tr>\n",
       "      <th>1</th>\n",
       "      <td>ligA</td>\n",
       "      <td>None</td>\n",
       "      <td>None</td>\n",
       "      <td>0</td>\n",
       "      <td>0.545693</td>\n",
       "      <td>0.545693</td>\n",
       "      <td>0.129649</td>\n",
       "      <td>0.870351</td>\n",
       "    </tr>\n",
       "    <tr>\n",
       "      <th>2</th>\n",
       "      <td>ligB</td>\n",
       "      <td>None</td>\n",
       "      <td>None</td>\n",
       "      <td>0</td>\n",
       "      <td>0.463586</td>\n",
       "      <td>0.463586</td>\n",
       "      <td>0.214763</td>\n",
       "      <td>0.785237</td>\n",
       "    </tr>\n",
       "    <tr>\n",
       "      <th>3</th>\n",
       "      <td>ligC</td>\n",
       "      <td>None</td>\n",
       "      <td>None</td>\n",
       "      <td>0</td>\n",
       "      <td>0.510295</td>\n",
       "      <td>0.510295</td>\n",
       "      <td>0.374634</td>\n",
       "      <td>0.625366</td>\n",
       "    </tr>\n",
       "    <tr>\n",
       "      <th>4</th>\n",
       "      <td>ligD</td>\n",
       "      <td>None</td>\n",
       "      <td>None</td>\n",
       "      <td>0</td>\n",
       "      <td>0.552079</td>\n",
       "      <td>0.552079</td>\n",
       "      <td>0.134186</td>\n",
       "      <td>0.865814</td>\n",
       "    </tr>\n",
       "    <tr>\n",
       "      <th>5</th>\n",
       "      <td>prodA</td>\n",
       "      <td>None</td>\n",
       "      <td>None</td>\n",
       "      <td>0</td>\n",
       "      <td>0.131187</td>\n",
       "      <td>0.131187</td>\n",
       "      <td>0.000000</td>\n",
       "      <td>1.000000</td>\n",
       "    </tr>\n",
       "    <tr>\n",
       "      <th>6</th>\n",
       "      <td>prodB</td>\n",
       "      <td>None</td>\n",
       "      <td>None</td>\n",
       "      <td>0</td>\n",
       "      <td>0.154396</td>\n",
       "      <td>0.154396</td>\n",
       "      <td>0.000000</td>\n",
       "      <td>1.000000</td>\n",
       "    </tr>\n",
       "    <tr>\n",
       "      <th>7</th>\n",
       "      <td>prodC</td>\n",
       "      <td>None</td>\n",
       "      <td>None</td>\n",
       "      <td>0</td>\n",
       "      <td>0.113334</td>\n",
       "      <td>0.113334</td>\n",
       "      <td>0.000000</td>\n",
       "      <td>1.000000</td>\n",
       "    </tr>\n",
       "    <tr>\n",
       "      <th>8</th>\n",
       "      <td>prodD</td>\n",
       "      <td>None</td>\n",
       "      <td>None</td>\n",
       "      <td>0</td>\n",
       "      <td>0.126405</td>\n",
       "      <td>0.126405</td>\n",
       "      <td>0.000000</td>\n",
       "      <td>1.000000</td>\n",
       "    </tr>\n",
       "    <tr>\n",
       "      <th>9</th>\n",
       "      <td>protE</td>\n",
       "      <td>None</td>\n",
       "      <td>None</td>\n",
       "      <td>0</td>\n",
       "      <td>0.072021</td>\n",
       "      <td>0.072021</td>\n",
       "      <td>0.000000</td>\n",
       "      <td>1.000000</td>\n",
       "    </tr>\n",
       "    <tr>\n",
       "      <th>10</th>\n",
       "      <td>protF</td>\n",
       "      <td>None</td>\n",
       "      <td>None</td>\n",
       "      <td>0</td>\n",
       "      <td>0.199882</td>\n",
       "      <td>0.199882</td>\n",
       "      <td>0.000000</td>\n",
       "      <td>1.000000</td>\n",
       "    </tr>\n",
       "  </tbody>\n",
       "</table>\n",
       "</div>"
      ],
      "text/plain": [
       "   target intra_group env_group  intra.R2  multi.R2   gain.R2      para   \n",
       "0     ECM        None      None         0  0.268114  0.268114  0.228240  \\\n",
       "1    ligA        None      None         0  0.545693  0.545693  0.129649   \n",
       "2    ligB        None      None         0  0.463586  0.463586  0.214763   \n",
       "3    ligC        None      None         0  0.510295  0.510295  0.374634   \n",
       "4    ligD        None      None         0  0.552079  0.552079  0.134186   \n",
       "5   prodA        None      None         0  0.131187  0.131187  0.000000   \n",
       "6   prodB        None      None         0  0.154396  0.154396  0.000000   \n",
       "7   prodC        None      None         0  0.113334  0.113334  0.000000   \n",
       "8   prodD        None      None         0  0.126405  0.126405  0.000000   \n",
       "9   protE        None      None         0  0.072021  0.072021  0.000000   \n",
       "10  protF        None      None         0  0.199882  0.199882  0.000000   \n",
       "\n",
       "       juxta  \n",
       "0   0.771760  \n",
       "1   0.870351  \n",
       "2   0.785237  \n",
       "3   0.625366  \n",
       "4   0.865814  \n",
       "5   1.000000  \n",
       "6   1.000000  \n",
       "7   1.000000  \n",
       "8   1.000000  \n",
       "9   1.000000  \n",
       "10  1.000000  "
      ]
     },
     "execution_count": 39,
     "metadata": {},
     "output_type": "execute_result"
    }
   ],
   "source": [
    "target_metrics"
   ]
  },
  {
   "cell_type": "code",
   "execution_count": null,
   "metadata": {},
   "outputs": [],
   "source": [
    "importances"
   ]
  },
  {
   "cell_type": "code",
   "execution_count": null,
   "metadata": {},
   "outputs": [],
   "source": [
    "views"
   ]
  },
  {
   "cell_type": "code",
   "execution_count": null,
   "metadata": {},
   "outputs": [],
   "source": []
  },
  {
   "cell_type": "code",
   "execution_count": null,
   "metadata": {},
   "outputs": [],
   "source": []
  },
  {
   "cell_type": "code",
   "execution_count": null,
   "metadata": {},
   "outputs": [],
   "source": [
    "views = {'intra':intra, 'juxta':juxta, 'para':para}"
   ]
  },
  {
   "cell_type": "code",
   "execution_count": null,
   "metadata": {},
   "outputs": [],
   "source": []
  },
  {
   "cell_type": "code",
   "execution_count": null,
   "metadata": {},
   "outputs": [],
   "source": [
    "misty._get_conn(\"para\")"
   ]
  },
  {
   "cell_type": "code",
   "execution_count": null,
   "metadata": {},
   "outputs": [],
   "source": []
  },
  {
   "cell_type": "code",
   "execution_count": null,
   "metadata": {},
   "outputs": [],
   "source": []
  },
  {
   "cell_type": "code",
   "execution_count": null,
   "metadata": {},
   "outputs": [],
   "source": []
  },
  {
   "cell_type": "code",
   "execution_count": null,
   "metadata": {},
   "outputs": [],
   "source": [
    "def fit(self,\n",
    "                 adata,\n",
    "                 targets = None,\n",
    "                 predictors = None,\n",
    "                 keep_same_predictor = False,  # TODO: maybe rename this variable\n",
    "                 spatial_key = \"spatial\", \n",
    "                 add_juxta = True,\n",
    "                 add_para = True,\n",
    "                 bypass_intra = False,\n",
    "                 group_intra_by = None,\n",
    "                 group_env_by = None,\n",
    "                 alphas = [0.1, 1, 10],\n",
    "                 k_cv = 10,\n",
    "                 n_estimators = 100,\n",
    "                 n_jobs = -1,\n",
    "                 seed = 1337,\n",
    "                 inplace = True,\n",
    "                 ):\n",
    "        \n",
    "\n",
    "        intra_groups = np.unique(ydata.obs[group_intra_by]) if group_intra_by else [None]\n",
    "        env_groups = np.unique(xdata.obs[group_env_by]) if group_env_by else [None]\n",
    "\n",
    "        connectivities = {}\n",
    "        if add_juxta:\n",
    "            connectivities['juxta'] = _get_neighbors(xdata,\n",
    "                                                     juxta_cutoff=juxta_cutoff,\n",
    "                                                     set_diag=set_diag, \n",
    "                                                     spatial_key=spatial_key\n",
    "                                                     )\n",
    "        if add_para:\n",
    "            connectivities['para'] = spatial_neighbors(adata=xdata,\n",
    "                                                    bandwidth=bandwidth, \n",
    "                                                    kernel=kernel,\n",
    "                                                    set_diag=set_diag, \n",
    "                                                    inplace=False,\n",
    "                                                    cutoff=0,\n",
    "                                                    zoi=zoi\n",
    "                                                    )\n",
    "        view_str = list(connectivities.keys())\n",
    "        if not bypass_intra:\n",
    "            view_str = ['intra'] + view_str\n",
    "\n",
    "        # init list to store the results for each intra group and env group as dataframe;\n",
    "        targets_list, importances_list = [], []\n",
    "\n",
    "        # loop over each target and build one RF model for each view\n",
    "        for target in targets:\n",
    "            \n",
    "            for intra_group in intra_groups:\n",
    "                intra_obs_msk = ydata.obs[group_intra_by] == \\\n",
    "                        intra_group if intra_group else np.ones(ydata.shape[0], dtype=bool)\n",
    "                \n",
    "                if issparse(ydata.X):\n",
    "                    y = np.asarray(ydata[intra_obs_msk, target].X.todense()).reshape(-1)\n",
    "                else:\n",
    "                    y = ydata[intra_obs_msk, target].X.reshape(-1)\n",
    "\n",
    "                # intra is always non-self, while other views can be self\n",
    "                predictors_nonself, insert_index = _check_target_in_predictors(target, predictors)\n",
    "                preds = predictors if keep_same_predictor else predictors_nonself\n",
    "\n",
    "                importance_dict = {}\n",
    "                \n",
    "                # model the intraview\n",
    "                if not bypass_intra:\n",
    "                    oob_predictions_intra, importance_dict[\"intra\"] = _single_view_model(y,\n",
    "                                                                                         ydata, \n",
    "                                                                                         intra_obs_msk, \n",
    "                                                                                         predictors_nonself, \n",
    "                                                                                         n_estimators, \n",
    "                                                                                         n_jobs, \n",
    "                                                                                         seed\n",
    "                                                                                         )\n",
    "                    if insert_index is not None and keep_same_predictor:\n",
    "                        importance_dict[\"intra\"] = np.insert(importance_dict[\"intra\"], insert_index, np.nan)\n",
    "\n",
    "                # loop over the group_views_by\n",
    "                for env_group in env_groups:\n",
    "                    # store the oob predictions for each view to construct predictor matrix for meta model\n",
    "                    oob_list = []\n",
    "                    \n",
    "                    env_obs_msk = ydata.obs[group_env_by] == env_group if env_group else np.ones(xdata.shape[0], dtype=bool)\n",
    "\n",
    "                    if not bypass_intra:\n",
    "                        oob_list.append(oob_predictions_intra)\n",
    "\n",
    "                    # model the juxta and paraview (if applicable)\n",
    "                    ## TODO: remove this thing with all\n",
    "                    for view_name in [v for v in view_str if v != \"intra\"]:\n",
    "                        connectivity = connectivities[view_name]\n",
    "                        # NOTE indexing here is expensive, but we do it to avoid memory issues\n",
    "                        view = _mask_connectivity(xdata, connectivity, env_obs_msk, predictors)\n",
    "                        \n",
    "                        oob_predictions, importance_dict[view_name] = \\\n",
    "                            _single_view_model(y,\n",
    "                                            view, \n",
    "                                            intra_obs_msk, \n",
    "                                            preds, \n",
    "                                            n_estimators,\n",
    "                                            n_jobs,\n",
    "                                            seed\n",
    "                                            )\n",
    "                        oob_list.append(oob_predictions)\n",
    "\n",
    "\n",
    "                    # train the meta model with k-fold CV \n",
    "                    intra_r2, multi_r2, coefs = _multi_model(y,\n",
    "                                                            np.column_stack(oob_list),\n",
    "                                                            intra_group, \n",
    "                                                            bypass_intra, \n",
    "                                                            view_str, \n",
    "                                                            k_cv, \n",
    "                                                            alphas, \n",
    "                                                            seed\n",
    "                                                            )\n",
    "                    \n",
    "                    targets_df = _format_targets(target,\n",
    "                                                intra_group,\n",
    "                                                env_group,\n",
    "                                                view_str,\n",
    "                                                intra_r2,\n",
    "                                                multi_r2,\n",
    "                                                coefs\n",
    "                                                )\n",
    "                    targets_list.append(targets_df)\n",
    "                    \n",
    "                    importances_df = _format_importances(target, \n",
    "                                                        preds, \n",
    "                                                        intra_group, \n",
    "                                                        env_group,\n",
    "                                                        importance_dict\n",
    "                                                        )\n",
    "                    importances_list.append(importances_df)\n",
    "\n",
    "\n",
    "        # create result dataframes\n",
    "        target_metrics, importances = _concat_dataframes(targets_list,\n",
    "                                                        importances_list,\n",
    "                                                        view_str)\n",
    "        if inplace:\n",
    "            adata.uns[\"misty_results\"] = {\"target_metrics\": target_metrics,\n",
    "                                          \"importances\": importances\n",
    "                                          }\n",
    "        else:\n",
    "            return {\"target_metrics\": target_metrics,\n",
    "                    \"importances\": importances}"
   ]
  },
  {
   "cell_type": "code",
   "execution_count": null,
   "metadata": {},
   "outputs": [],
   "source": []
  },
  {
   "cell_type": "code",
   "execution_count": null,
   "metadata": {},
   "outputs": [],
   "source": []
  }
 ],
 "metadata": {
  "kernelspec": {
   "display_name": "liana-py",
   "language": "python",
   "name": "python3"
  },
  "language_info": {
   "codemirror_mode": {
    "name": "ipython",
    "version": 3
   },
   "file_extension": ".py",
   "mimetype": "text/x-python",
   "name": "python",
   "nbconvert_exporter": "python",
   "pygments_lexer": "ipython3",
   "version": "3.10.10"
  },
  "orig_nbformat": 4,
  "vscode": {
   "interpreter": {
    "hash": "80a99255e5b17beb6f8c8dc403ec70687184f3f6557a2c5fe71e16aa6505930d"
   }
  }
 },
 "nbformat": 4,
 "nbformat_minor": 2
}
