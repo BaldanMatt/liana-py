{
 "cells": [
  {
   "cell_type": "code",
   "execution_count": 1,
   "metadata": {},
   "outputs": [],
   "source": [
    "import numpy as np\n",
    "import pandas as pd\n",
    "import scanpy as sc\n",
    "\n",
    "from liana.method.sp._spatial_pipe import spatial_neighbors\n",
    "\n",
    "from mudata import MuData\n",
    "from anndata import AnnData\n",
    "import os"
   ]
  },
  {
   "cell_type": "code",
   "execution_count": 2,
   "metadata": {},
   "outputs": [],
   "source": [
    "from liana.method._pipe_utils._pre import _choose_mtx_rep"
   ]
  },
  {
   "cell_type": "code",
   "execution_count": 3,
   "metadata": {},
   "outputs": [],
   "source": [
    "from liana.mt.sp._misty import _check_target_in_predictors, _check_features, _single_view_model, \\\n",
    "    _mask_connectivity, _multi_model, _format_targets, _format_importances, _concat_dataframes, _check_if_squidpy"
   ]
  },
  {
   "cell_type": "code",
   "execution_count": 4,
   "metadata": {},
   "outputs": [],
   "source": [
    "def _make_view(adata, obs=None, use_raw=False, layer=None, connecitivity=None, spatial_key=None, verbose=False):\n",
    "    \n",
    "    X = _choose_mtx_rep(adata=adata, use_raw=use_raw, layer=layer, verbose=verbose)\n",
    "    \n",
    "    if connecitivity is not None:\n",
    "        obsp = dict()\n",
    "        obsp[f\"{spatial_key}_connectivities\"] = connecitivity\n",
    "    else:\n",
    "        obsp = None\n",
    "        \n",
    "    obsm = dict()\n",
    "    if spatial_key is not None:\n",
    "        if spatial_key not in adata.obsm.keys():\n",
    "            raise ValueError(f\"spatial_key {spatial_key} not found in adata.obsm.keys()\")\n",
    "        obsm[spatial_key] = adata.obsm[spatial_key]\n",
    "        \n",
    "    return AnnData(X=X, obs=obs, var=pd.DataFrame(index=adata.var_names), obsp=obsp, obsm=obsm)"
   ]
  },
  {
   "cell_type": "code",
   "execution_count": 5,
   "metadata": {},
   "outputs": [],
   "source": [
    "adata = sc.read_h5ad('liana/tests/data/synthetic.h5ad')"
   ]
  },
  {
   "cell_type": "code",
   "execution_count": null,
   "metadata": {},
   "outputs": [],
   "source": []
  },
  {
   "attachments": {},
   "cell_type": "markdown",
   "metadata": {},
   "source": [
    "MistyData class"
   ]
  },
  {
   "cell_type": "code",
   "execution_count": 6,
   "metadata": {},
   "outputs": [],
   "source": [
    "class MistyData(MuData):\n",
    "    # TODO: change to SpatialData when Squidpy is updated\n",
    "\n",
    "    def __init__(self, data, obs, spatial_key):\n",
    "        super().__init__(data)\n",
    "        self.view_names = list(self.mod.keys())\n",
    "        self.obs = obs\n",
    "        self.spatial_key = spatial_key\n",
    "        self._check_views()\n",
    "    \n",
    "    def _check_views(self):\n",
    "        assert isinstance(self, MuData), \"views must be a MuData object\"\n",
    "        assert \"intra\" in self.view_names, \"views must contain an intra view\"\n",
    "        \n",
    "        for view in self.view_names:\n",
    "            if view==\"intra\":\n",
    "                continue\n",
    "            if f\"{self.spatial_key}_connectivities\" not in self.mod[view].obsp.keys():\n",
    "                raise ValueError(f\"view {view} does not contain `{self.spatial_key}_connectivities` key in .obsp\")\n",
    "    \n",
    "    def _get_conn(self, view_name):\n",
    "        return self.mod[view_name].obsp[f\"{self.spatial_key}_connectivities\"]\n",
    "\n",
    " "
   ]
  },
  {
   "cell_type": "code",
   "execution_count": null,
   "metadata": {},
   "outputs": [],
   "source": []
  },
  {
   "attachments": {},
   "cell_type": "markdown",
   "metadata": {},
   "source": [
    "### Constructor"
   ]
  },
  {
   "cell_type": "code",
   "execution_count": 8,
   "metadata": {},
   "outputs": [],
   "source": [
    "set_diag = True\n",
    "spatial_key = 'spatial'\n",
    "bandwidth = 10\n",
    "n_neighs = 6\n",
    "kernel = 'misty_rbf'\n",
    "cutoff = 0.1\n",
    "juxta_cutoff = np.inf\n",
    "zoi = 0"
   ]
  },
  {
   "cell_type": "code",
   "execution_count": null,
   "metadata": {},
   "outputs": [],
   "source": []
  },
  {
   "cell_type": "code",
   "execution_count": null,
   "metadata": {},
   "outputs": [],
   "source": [
    "def genericMistyData(intra,\n",
    "                     extra=None,\n",
    "                     add_para=True,\n",
    "                     spatial_key='spatial',\n",
    "                     set_diag=True, \n",
    "                     bandwidth = 10,\n",
    "                     kernel = 'misty_rbf',\n",
    "                     zoi = 0,\n",
    "                     cutoff = 0.1,\n",
    "                     add_juxta=True,\n",
    "                     n_neighs = 6,\n",
    "                     juxta_cutoff = np.inf,\n",
    "                     extra_use_raw=False,\n",
    "                     extra_layer=None,\n",
    "                     intra_use_raw=False,\n",
    "                     intra_layer=None,\n",
    "                     verbose=False,\n",
    "                     **kwargs,\n",
    "                     ):\n",
    "    \n",
    "    # init views\n",
    "    views = {}\n",
    "    \n",
    "    # NOTE the intra view is the one with obs\n",
    "    intra = _make_view(adata=intra, obs=intra.obs, use_raw=intra_use_raw, layer=intra_layer, spatial_key=spatial_key, verbose=verbose)\n",
    "    views['intra'] = intra\n",
    "    \n",
    "    if extra is None:\n",
    "        extra = intra\n",
    "    \n",
    "    if add_para:\n",
    "        weights = spatial_neighbors(adata=extra,\n",
    "                                    spatial_key=spatial_key,\n",
    "                                    bandwidth=bandwidth,\n",
    "                                    kernel=kernel,\n",
    "                                    set_diag=set_diag, \n",
    "                                    inplace=False,\n",
    "                                    cutoff=cutoff,\n",
    "                                    zoi=zoi\n",
    "                                    )\n",
    "        views['para'] = _make_view(adata=extra, use_raw=extra_use_raw, layer=extra_layer, spatial_key=spatial_key, connecitivity=weights, verbose=verbose)\n",
    "\n",
    "    if add_juxta:\n",
    "        sq = _check_if_squidpy()\n",
    "        neighbors, dists = sq.gr.spatial_neighbors(adata=extra,\n",
    "                                                   copy=True,\n",
    "                                                   spatial_key=spatial_key,\n",
    "                                                   set_diag=set_diag,\n",
    "                                                   n_neighs=n_neighs,\n",
    "                                                   **kwargs\n",
    "                                                   )\n",
    "        neighbors[dists > juxta_cutoff] = 0\n",
    "\n",
    "        views['juxta'] = _make_view(adata=extra, use_raw=extra_use_raw, layer=extra_layer, spatial_key=spatial_key, connecitivity=neighbors, verbose=verbose)\n",
    "        \n",
    "    \n",
    "    \n",
    "    return MistyData(views, intra.obs, spatial_key)\n",
    "\n"
   ]
  },
  {
   "cell_type": "code",
   "execution_count": null,
   "metadata": {},
   "outputs": [],
   "source": []
  },
  {
   "cell_type": "code",
   "execution_count": null,
   "metadata": {},
   "outputs": [],
   "source": [
    "mdata = genericMistyData(adata, delaunay=True, coord_type=\"generic\")"
   ]
  },
  {
   "cell_type": "code",
   "execution_count": null,
   "metadata": {},
   "outputs": [],
   "source": [
    "mdata"
   ]
  },
  {
   "cell_type": "code",
   "execution_count": null,
   "metadata": {},
   "outputs": [],
   "source": [
    "mdata.view_names"
   ]
  },
  {
   "cell_type": "code",
   "execution_count": null,
   "metadata": {},
   "outputs": [],
   "source": [
    "## TODO: two applications\n",
    "# juxta, para\n",
    "# misty_lr\n",
    "# anything else would require a new constructor"
   ]
  },
  {
   "cell_type": "code",
   "execution_count": null,
   "metadata": {},
   "outputs": [],
   "source": []
  },
  {
   "cell_type": "code",
   "execution_count": null,
   "metadata": {},
   "outputs": [],
   "source": [
    "predictors = None\n",
    "targets = None"
   ]
  },
  {
   "cell_type": "code",
   "execution_count": null,
   "metadata": {},
   "outputs": [],
   "source": [
    "intra = mdata.mod['intra']"
   ]
  },
  {
   "cell_type": "code",
   "execution_count": null,
   "metadata": {},
   "outputs": [],
   "source": [
    "# TODO to be abstracted further\n",
    "predictors = _check_features(intra, predictors, type_str=\"predictors\")\n",
    "targets = _check_features(intra, targets, type_str=\"targets\")"
   ]
  },
  {
   "cell_type": "code",
   "execution_count": null,
   "metadata": {},
   "outputs": [],
   "source": [
    "targets"
   ]
  },
  {
   "cell_type": "code",
   "execution_count": null,
   "metadata": {},
   "outputs": [],
   "source": []
  },
  {
   "attachments": {},
   "cell_type": "markdown",
   "metadata": {},
   "source": [
    "#### FIT params"
   ]
  },
  {
   "cell_type": "code",
   "execution_count": null,
   "metadata": {},
   "outputs": [],
   "source": [
    "n_estimators = 20\n",
    "n_jobs = -1\n",
    "seed = 1337\n",
    "bypass_intra = True\n",
    "keep_same_predictor = False\n",
    "k_cv = 10\n",
    "alphas = [0.1, 1, 10]"
   ]
  },
  {
   "cell_type": "code",
   "execution_count": null,
   "metadata": {},
   "outputs": [],
   "source": [
    "group_intra_by = None\n",
    "group_env_by = None"
   ]
  },
  {
   "cell_type": "code",
   "execution_count": null,
   "metadata": {},
   "outputs": [],
   "source": [
    "# TODO: function that checks if the groupby is in the obs\n",
    "# and does this for both extra & intra\n",
    "intra_groups = np.unique(mdata.obs[group_intra_by]) if group_intra_by else [None]\n",
    "extra_groups = np.unique(mdata.obs[group_env_by]) if group_env_by else [None]"
   ]
  },
  {
   "cell_type": "code",
   "execution_count": null,
   "metadata": {},
   "outputs": [],
   "source": [
    "view_str = list(mdata.view_names)\n",
    "if bypass_intra:\n",
    "    view_str.remove('intra')"
   ]
  },
  {
   "cell_type": "code",
   "execution_count": null,
   "metadata": {},
   "outputs": [],
   "source": []
  },
  {
   "cell_type": "code",
   "execution_count": null,
   "metadata": {},
   "outputs": [],
   "source": [
    "# init list to store the results for each intra group and env group as dataframe;\n",
    "targets_list, importances_list = [], []"
   ]
  },
  {
   "cell_type": "code",
   "execution_count": null,
   "metadata": {},
   "outputs": [],
   "source": [
    "intra_features = intra.var_names.to_list()"
   ]
  },
  {
   "cell_type": "code",
   "execution_count": null,
   "metadata": {},
   "outputs": [],
   "source": [
    "# loop over each target and build one RF model for each view\n",
    "for target in targets:\n",
    "    \n",
    "    for intra_group in intra_groups:\n",
    "        intra_obs_msk = intra.obs[group_intra_by] == \\\n",
    "                intra_group if intra_group else np.ones(intra.shape[0], dtype=bool)\n",
    "        \n",
    "        # to array\n",
    "        y = intra[intra_obs_msk, target].X.toarray().reshape(-1)\n",
    "        \n",
    "        # intra is always non-self, while other views can be self\n",
    "        predictors_nonself, insert_index = _check_target_in_predictors(target, intra_features)\n",
    "        _predictors = predictors if keep_same_predictor else predictors_nonself\n",
    "\n",
    "        # TODO: rename to target_importances\n",
    "        importance_dict = {}\n",
    "        \n",
    "        # model the intraview\n",
    "        if not bypass_intra:\n",
    "            obp_intra, importance_dict[\"intra\"] = _single_view_model(y,\n",
    "                                                                     intra,\n",
    "                                                                     intra_obs_msk,\n",
    "                                                                     predictors_nonself, \n",
    "                                                                     n_estimators,\n",
    "                                                                     n_jobs,\n",
    "                                                                     seed\n",
    "                                                                     )\n",
    "            if insert_index is not None and keep_same_predictor:\n",
    "                importance_dict[\"intra\"] = np.insert(importance_dict[\"intra\"], insert_index, np.nan)\n",
    "\n",
    "        # loop over the group_views_by\n",
    "        for extra_group in extra_groups:\n",
    "            # store the oob predictions for each view to construct predictor matrix for meta model\n",
    "            oob_list = []\n",
    "\n",
    "            if not bypass_intra:\n",
    "                oob_list.append(obp_intra)\n",
    "\n",
    "            # model the juxta and paraview (if applicable)\n",
    "            for view_name in [v for v in view_str if v != \"intra\"]:\n",
    "                extra = mdata.mod[view_name]\n",
    "                extra_obs_msk = mdata.obs[group_env_by] == extra_group if extra_group else np.ones(extra.shape[0], dtype=bool)\n",
    "                \n",
    "                extra_features = extra.var_names.to_list()\n",
    "                _predictors, _ = _check_target_in_predictors(target, extra_features)\n",
    "                \n",
    "                # NOTE indexing here is expensive, but we do it to avoid memory issues\n",
    "                connectivity = mdata._get_conn(view_name)\n",
    "                view = _mask_connectivity(extra, connectivity, extra_obs_msk, _predictors)\n",
    "                \n",
    "                oob_predictions, importance_dict[view_name] = \\\n",
    "                    _single_view_model(y,\n",
    "                                       view,\n",
    "                                       intra_obs_msk,\n",
    "                                       _predictors,\n",
    "                                       n_estimators,\n",
    "                                       n_jobs,\n",
    "                                       seed\n",
    "                                       )\n",
    "                oob_list.append(oob_predictions)\n",
    "\n",
    "            # train the meta model with k-fold CV \n",
    "            intra_r2, multi_r2, coefs = _multi_model(y,\n",
    "                                                     np.column_stack(oob_list),\n",
    "                                                     intra_group, \n",
    "                                                     bypass_intra,\n",
    "                                                     view_str, \n",
    "                                                     k_cv,\n",
    "                                                     alphas, \n",
    "                                                     seed\n",
    "                                                     )\n",
    "            \n",
    "            # write the results to a dataframe\n",
    "            targets_df = _format_targets(target,\n",
    "                                         intra_group,\n",
    "                                         extra_group,\n",
    "                                         view_str,\n",
    "                                         intra_r2,\n",
    "                                         multi_r2,\n",
    "                                         coefs\n",
    "                                         )\n",
    "            targets_list.append(targets_df)\n",
    "            \n",
    "            importances_df = _format_importances(target, \n",
    "                                                _predictors, \n",
    "                                                intra_group, \n",
    "                                                extra_group,\n",
    "                                                importance_dict\n",
    "                                                )\n",
    "            importances_list.append(importances_df)\n",
    "\n",
    "\n",
    "# create result dataframes\n",
    "target_metrics, importances = _concat_dataframes(targets_list,\n",
    "                                                 importances_list,\n",
    "                                                 view_str)"
   ]
  },
  {
   "cell_type": "code",
   "execution_count": null,
   "metadata": {},
   "outputs": [],
   "source": [
    "target_metrics"
   ]
  },
  {
   "cell_type": "code",
   "execution_count": null,
   "metadata": {},
   "outputs": [],
   "source": []
  },
  {
   "cell_type": "code",
   "execution_count": null,
   "metadata": {},
   "outputs": [],
   "source": [
    "importances"
   ]
  },
  {
   "cell_type": "code",
   "execution_count": null,
   "metadata": {},
   "outputs": [],
   "source": []
  },
  {
   "cell_type": "code",
   "execution_count": null,
   "metadata": {},
   "outputs": [],
   "source": []
  },
  {
   "cell_type": "code",
   "execution_count": null,
   "metadata": {},
   "outputs": [],
   "source": []
  }
 ],
 "metadata": {
  "kernelspec": {
   "display_name": "liana-py",
   "language": "python",
   "name": "python3"
  },
  "language_info": {
   "codemirror_mode": {
    "name": "ipython",
    "version": 3
   },
   "file_extension": ".py",
   "mimetype": "text/x-python",
   "name": "python",
   "nbconvert_exporter": "python",
   "pygments_lexer": "ipython3",
   "version": "3.10.10"
  },
  "orig_nbformat": 4,
  "vscode": {
   "interpreter": {
    "hash": "80a99255e5b17beb6f8c8dc403ec70687184f3f6557a2c5fe71e16aa6505930d"
   }
  }
 },
 "nbformat": 4,
 "nbformat_minor": 2
}
