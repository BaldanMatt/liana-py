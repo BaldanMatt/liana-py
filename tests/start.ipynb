{
 "cells": [
  {
   "cell_type": "code",
   "execution_count": 1,
   "id": "4a6561fa-18d6-459b-a010-51b7d9fae1d4",
   "metadata": {},
   "outputs": [],
   "source": [
    "import scanpy as sc\n",
    "import pandas as pd\n",
    "import numpy as np\n",
    "from scipy.sparse import csr_matrix\n",
    "from statsmodels.distributions.empirical_distribution import ECDF"
   ]
  },
  {
   "cell_type": "code",
   "execution_count": null,
   "id": "f09099d7-d439-4423-9459-8ca7219f2375",
   "metadata": {},
   "outputs": [],
   "source": []
  },
  {
   "cell_type": "markdown",
   "id": "f65dcb30-df9e-4ab9-a2f5-b2cb30ba58c0",
   "metadata": {},
   "source": [
    "Load anndata and resource"
   ]
  },
  {
   "cell_type": "code",
   "execution_count": 2,
   "id": "1df7c90f-22b4-413a-97fc-edf39cf15481",
   "metadata": {},
   "outputs": [],
   "source": [
    "# adata = sc.datasets.pbmc3k()\n",
    "# adata.X"
   ]
  },
  {
   "cell_type": "code",
   "execution_count": null,
   "id": "a5e9e0da-9567-4710-a3d2-8e5db503e1e7",
   "metadata": {},
   "outputs": [],
   "source": []
  },
  {
   "cell_type": "code",
   "execution_count": 3,
   "id": "e7ae453c-f54f-493d-a6a5-791cc3bd0f9f",
   "metadata": {},
   "outputs": [],
   "source": [
    "adata = sc.read_h5ad(\"../test.h5ad\")"
   ]
  },
  {
   "cell_type": "code",
   "execution_count": 4,
   "id": "72e0e7c7-c33d-4e2a-be66-5d7fd48a2757",
   "metadata": {},
   "outputs": [],
   "source": [
    "adata.X = csr_matrix(adata.X.astype(np.int64))"
   ]
  },
  {
   "cell_type": "code",
   "execution_count": 5,
   "id": "ba3a9570-670c-42af-8460-8b02b5c1774d",
   "metadata": {},
   "outputs": [
    {
     "data": {
      "text/plain": [
       "<90x10249 sparse matrix of type '<class 'numpy.int64'>'\n",
       "\twith 103311 stored elements in Compressed Sparse Row format>"
      ]
     },
     "execution_count": 5,
     "metadata": {},
     "output_type": "execute_result"
    }
   ],
   "source": [
    "adata.X"
   ]
  },
  {
   "cell_type": "code",
   "execution_count": null,
   "id": "0bcc2007-bdb7-471c-b5e7-df1a7a555b80",
   "metadata": {},
   "outputs": [],
   "source": []
  },
  {
   "cell_type": "markdown",
   "id": "0efb9a50-96eb-47b3-98a3-45f307646c5f",
   "metadata": {},
   "source": [
    "Process resource"
   ]
  },
  {
   "cell_type": "code",
   "execution_count": 6,
   "id": "f10d6578-b6b1-4693-83b0-8bc4cf33b159",
   "metadata": {},
   "outputs": [],
   "source": [
    "resource = pd.read_csv(\"../consensus.csv\", index_col=False)\n",
    "resource = resource[['source_genesymbol', 'target_genesymbol']]\n",
    "resource = resource.rename(columns={'source_genesymbol':'ligand',\n",
    "                                    'target_genesymbol':'receptor'})"
   ]
  },
  {
   "cell_type": "code",
   "execution_count": null,
   "id": "5c837b8a-fcf0-4019-99fb-3622160b04c3",
   "metadata": {},
   "outputs": [],
   "source": []
  },
  {
   "cell_type": "code",
   "execution_count": 7,
   "id": "47c4a8d8-6bb8-4384-be9f-0e3f8df4f30e",
   "metadata": {},
   "outputs": [
    {
     "data": {
      "text/html": [
       "<div>\n",
       "<style scoped>\n",
       "    .dataframe tbody tr th:only-of-type {\n",
       "        vertical-align: middle;\n",
       "    }\n",
       "\n",
       "    .dataframe tbody tr th {\n",
       "        vertical-align: top;\n",
       "    }\n",
       "\n",
       "    .dataframe thead th {\n",
       "        text-align: right;\n",
       "    }\n",
       "</style>\n",
       "<table border=\"1\" class=\"dataframe\">\n",
       "  <thead>\n",
       "    <tr style=\"text-align: right;\">\n",
       "      <th></th>\n",
       "      <th>interaction</th>\n",
       "      <th>ligand</th>\n",
       "      <th>receptor</th>\n",
       "      <th>ligand_complex</th>\n",
       "      <th>receptor_complex</th>\n",
       "    </tr>\n",
       "  </thead>\n",
       "  <tbody>\n",
       "    <tr>\n",
       "      <th>0</th>\n",
       "      <td>LGALS9|PTPRC</td>\n",
       "      <td>LGALS9</td>\n",
       "      <td>PTPRC</td>\n",
       "      <td>LGALS9</td>\n",
       "      <td>PTPRC</td>\n",
       "    </tr>\n",
       "    <tr>\n",
       "      <th>1</th>\n",
       "      <td>LGALS9|MET</td>\n",
       "      <td>LGALS9</td>\n",
       "      <td>MET</td>\n",
       "      <td>LGALS9</td>\n",
       "      <td>MET</td>\n",
       "    </tr>\n",
       "    <tr>\n",
       "      <th>2</th>\n",
       "      <td>LGALS9|CD44</td>\n",
       "      <td>LGALS9</td>\n",
       "      <td>CD44</td>\n",
       "      <td>LGALS9</td>\n",
       "      <td>CD44</td>\n",
       "    </tr>\n",
       "    <tr>\n",
       "      <th>3</th>\n",
       "      <td>LGALS9|LRP1</td>\n",
       "      <td>LGALS9</td>\n",
       "      <td>LRP1</td>\n",
       "      <td>LGALS9</td>\n",
       "      <td>LRP1</td>\n",
       "    </tr>\n",
       "    <tr>\n",
       "      <th>4</th>\n",
       "      <td>LGALS9|CD47</td>\n",
       "      <td>LGALS9</td>\n",
       "      <td>CD47</td>\n",
       "      <td>LGALS9</td>\n",
       "      <td>CD47</td>\n",
       "    </tr>\n",
       "    <tr>\n",
       "      <th>...</th>\n",
       "      <td>...</td>\n",
       "      <td>...</td>\n",
       "      <td>...</td>\n",
       "      <td>...</td>\n",
       "      <td>...</td>\n",
       "    </tr>\n",
       "    <tr>\n",
       "      <th>5853</th>\n",
       "      <td>BMP2|ACTR2</td>\n",
       "      <td>BMP2</td>\n",
       "      <td>ACTR2</td>\n",
       "      <td>BMP2</td>\n",
       "      <td>ACTR2</td>\n",
       "    </tr>\n",
       "    <tr>\n",
       "      <th>5854</th>\n",
       "      <td>BMP15|ACTR2</td>\n",
       "      <td>BMP15</td>\n",
       "      <td>ACTR2</td>\n",
       "      <td>BMP15</td>\n",
       "      <td>ACTR2</td>\n",
       "    </tr>\n",
       "    <tr>\n",
       "      <th>5855</th>\n",
       "      <td>CSF1|CSF3R</td>\n",
       "      <td>CSF1</td>\n",
       "      <td>CSF3R</td>\n",
       "      <td>CSF1</td>\n",
       "      <td>CSF3R</td>\n",
       "    </tr>\n",
       "    <tr>\n",
       "      <th>5856</th>\n",
       "      <td>IL36G|IFNAR1</td>\n",
       "      <td>IL36G</td>\n",
       "      <td>IFNAR1</td>\n",
       "      <td>IL36G</td>\n",
       "      <td>IFNAR1</td>\n",
       "    </tr>\n",
       "    <tr>\n",
       "      <th>5857</th>\n",
       "      <td>IL36G|IFNAR2</td>\n",
       "      <td>IL36G</td>\n",
       "      <td>IFNAR2</td>\n",
       "      <td>IL36G</td>\n",
       "      <td>IFNAR2</td>\n",
       "    </tr>\n",
       "  </tbody>\n",
       "</table>\n",
       "<p>5858 rows × 5 columns</p>\n",
       "</div>"
      ],
      "text/plain": [
       "       interaction  ligand receptor ligand_complex receptor_complex\n",
       "0     LGALS9|PTPRC  LGALS9    PTPRC         LGALS9            PTPRC\n",
       "1       LGALS9|MET  LGALS9      MET         LGALS9              MET\n",
       "2      LGALS9|CD44  LGALS9     CD44         LGALS9             CD44\n",
       "3      LGALS9|LRP1  LGALS9     LRP1         LGALS9             LRP1\n",
       "4      LGALS9|CD47  LGALS9     CD47         LGALS9             CD47\n",
       "...            ...     ...      ...            ...              ...\n",
       "5853    BMP2|ACTR2    BMP2    ACTR2           BMP2            ACTR2\n",
       "5854   BMP15|ACTR2   BMP15    ACTR2          BMP15            ACTR2\n",
       "5855    CSF1|CSF3R    CSF1    CSF3R           CSF1            CSF3R\n",
       "5856  IL36G|IFNAR1   IL36G   IFNAR1          IL36G           IFNAR1\n",
       "5857  IL36G|IFNAR2   IL36G   IFNAR2          IL36G           IFNAR2\n",
       "\n",
       "[5858 rows x 5 columns]"
      ]
     },
     "execution_count": 7,
     "metadata": {},
     "output_type": "execute_result"
    }
   ],
   "source": [
    "resource = pd.read_csv(\"../consensus.csv\", index_col=False)\n",
    "resource = resource[['source_genesymbol', 'target_genesymbol']]\n",
    "resource = resource.rename(columns={'source_genesymbol':'ligand',\n",
    "                                    'target_genesymbol':'receptor'})\n",
    "resource['interaction'] = resource['ligand'] + '|' + resource['receptor']\n",
    "\n",
    "# Decomplexify\n",
    "resource = (resource.set_index('interaction')\n",
    "            .apply(lambda x: x.str.split('_'))\n",
    "            .explode(['receptor'])\n",
    "            .explode('ligand')\n",
    "            .reset_index()\n",
    "           )\n",
    "\n",
    "resource[['ligand_complex','receptor_complex']] = resource['interaction'].str.split('|',expand=True)\n",
    "resource\n"
   ]
  },
  {
   "cell_type": "code",
   "execution_count": null,
   "id": "bb4303e7-9e8b-4d07-b91a-ce70f4a3da0b",
   "metadata": {},
   "outputs": [],
   "source": []
  },
  {
   "cell_type": "code",
   "execution_count": 8,
   "id": "45710509-51a3-4f62-81d7-07d4df0060ff",
   "metadata": {},
   "outputs": [],
   "source": [
    "ligands = np.unique(resource[\"ligand\"])\n",
    "receptors = np.unique(resource[\"receptor\"])\n",
    "entities = np.union1d(ligands, receptors)"
   ]
  },
  {
   "cell_type": "code",
   "execution_count": null,
   "id": "27fa42f4-b77e-49d9-a03d-875953c46c41",
   "metadata": {},
   "outputs": [],
   "source": []
  },
  {
   "cell_type": "code",
   "execution_count": 9,
   "id": "873dfdc0-8558-489c-9c3f-556902d080b9",
   "metadata": {},
   "outputs": [],
   "source": [
    "labels = adata.obs.label.cat.categories"
   ]
  },
  {
   "cell_type": "code",
   "execution_count": 10,
   "id": "29e0ad20-09bd-466d-b0c5-018013c89a7a",
   "metadata": {},
   "outputs": [
    {
     "data": {
      "text/plain": [
       "Index(['B', 'CD8 T', 'NK'], dtype='object')"
      ]
     },
     "execution_count": 10,
     "metadata": {},
     "output_type": "execute_result"
    }
   ],
   "source": [
    "labels"
   ]
  },
  {
   "cell_type": "code",
   "execution_count": null,
   "id": "ffb07013-9402-4a0c-b68c-ac5c338b4550",
   "metadata": {},
   "outputs": [],
   "source": []
  },
  {
   "cell_type": "markdown",
   "id": "e63e6674-2bc4-43e5-9cc8-be5a608fd6ea",
   "metadata": {},
   "source": [
    "Process adata"
   ]
  },
  {
   "cell_type": "code",
   "execution_count": 11,
   "id": "9feacebc-23c8-450c-beb0-fd6ce3131f9a",
   "metadata": {},
   "outputs": [],
   "source": [
    "# adata.layers['counts'] = adata.X"
   ]
  },
  {
   "cell_type": "code",
   "execution_count": 12,
   "id": "75502c46-0217-402b-9b09-9253c28baad7",
   "metadata": {},
   "outputs": [],
   "source": [
    "# lognorm should be the default (expected)\n",
    "adata.X = adata.layers['logcounts']\n",
    "adata.layers['scaled'] = sc.pp.scale(adata, copy=True).X"
   ]
  },
  {
   "cell_type": "code",
   "execution_count": 13,
   "id": "46bb2ab6-c9e1-4d4d-b33f-bf81cbd88525",
   "metadata": {},
   "outputs": [],
   "source": [
    "# Get global mean for SCA before filtering\n",
    "mat_mean = np.mean(adata.X)"
   ]
  },
  {
   "cell_type": "code",
   "execution_count": null,
   "id": "0773f2a3-862d-4ac5-8299-84c5e6fef47f",
   "metadata": {},
   "outputs": [],
   "source": []
  },
  {
   "cell_type": "code",
   "execution_count": 14,
   "id": "b37b2a52-7e37-4be1-ac32-457690f5bb54",
   "metadata": {},
   "outputs": [
    {
     "data": {
      "text/plain": [
       "View of AnnData object with n_obs × n_vars = 90 × 553\n",
       "    obs: 'label'\n",
       "    uns: 'X_name', 'nCount_RNA', 'nFeature_RNA', 'orig.ident', 'seurat_annotations'\n",
       "    layers: 'logcounts', 'scaled'"
      ]
     },
     "execution_count": 14,
     "metadata": {},
     "output_type": "execute_result"
    }
   ],
   "source": [
    "# Filter to only include the relevant genes\n",
    "adata = adata[:,np.intersect1d(entities, adata.var.index)]\n",
    "adata"
   ]
  },
  {
   "cell_type": "code",
   "execution_count": 15,
   "id": "cba69d0a-aaec-41cb-94fe-82f9fe2dd9a2",
   "metadata": {},
   "outputs": [],
   "source": [
    "resource = resource[(np.isin(resource.ligand, adata.var_names)) & (np.isin(resource.receptor, adata.var_names))]"
   ]
  },
  {
   "cell_type": "code",
   "execution_count": null,
   "id": "4fe660f6-5bc3-4709-ad86-b6c879a37d07",
   "metadata": {},
   "outputs": [],
   "source": []
  },
  {
   "cell_type": "code",
   "execution_count": 16,
   "id": "2a668015-528e-4b87-aa4a-c3383535a526",
   "metadata": {},
   "outputs": [],
   "source": [
    "# Only keep interactions /w complexes for which all subunits are present\n",
    "temp_res = resource[['_' in x for x in resource['interaction']]].copy()\n",
    "temp_res['interaction'] = temp_res['ligand_complex'] + '_' + resource['receptor_complex']\n",
    "# Get those not with all subunits\n",
    "temp_res = temp_res[np.logical_not([ all([x in adata.var_names for x in entity.split('_')]) for entity in temp_res.interaction])]\n",
    "temp_res['interaction'] = temp_res['ligand_complex'] + '|' + resource['receptor_complex']"
   ]
  },
  {
   "cell_type": "code",
   "execution_count": 17,
   "id": "f85dfad7-d7e8-4953-afae-3026c821d0df",
   "metadata": {},
   "outputs": [],
   "source": [
    "# filter them\n",
    "resource = resource[~resource.interaction.isin(temp_res.interaction)]"
   ]
  },
  {
   "cell_type": "code",
   "execution_count": null,
   "id": "9c429878-f0d2-4760-8f81-180cb04bcdbd",
   "metadata": {},
   "outputs": [],
   "source": []
  },
  {
   "cell_type": "code",
   "execution_count": null,
   "id": "9eb23957-e4a8-4294-b189-11019fcc4563",
   "metadata": {},
   "outputs": [],
   "source": []
  },
  {
   "cell_type": "markdown",
   "id": "86cf9a4c-1693-4470-99f8-02bd60beb367",
   "metadata": {},
   "source": [
    "### Stats"
   ]
  },
  {
   "cell_type": "code",
   "execution_count": 18,
   "id": "8a5d1bd6-c510-4f11-be4a-21eefcff2540",
   "metadata": {},
   "outputs": [
    {
     "name": "stderr",
     "output_type": "stream",
     "text": [
      "/home/dbdimitrov/anaconda3/lib/python3.8/site-packages/anndata/compat/_overloaded_dict.py:106: ImplicitModificationWarning: Trying to modify attribute `._uns` of view, initializing view as actual.\n",
      "  self.data[key] = value\n",
      "/home/dbdimitrov/anaconda3/lib/python3.8/contextlib.py:120: FutureWarning: X.dtype being converted to np.float32 from float64. In the next version of anndata (0.9) conversion will not be automatic. Pass dtype explicitly to avoid this warning. Pass `AnnData(X, dtype=X.dtype, ...)` to get the future behavour.\n",
      "  next(self.gen)\n"
     ]
    }
   ],
   "source": [
    "sc.tl.rank_genes_groups(adata, 'label', method='wilcoxon')"
   ]
  },
  {
   "cell_type": "code",
   "execution_count": 19,
   "id": "d090a0bf-eda3-40b5-979c-e272aea2b60f",
   "metadata": {},
   "outputs": [],
   "source": [
    "dedict = {label:sc.get.rank_genes_groups_df(adata, label).assign(label=label).sort_values('names') for label in labels}"
   ]
  },
  {
   "cell_type": "code",
   "execution_count": null,
   "id": "d24333ac-50b3-4b40-95f8-4901e4c7879e",
   "metadata": {},
   "outputs": [],
   "source": []
  },
  {
   "cell_type": "markdown",
   "id": "e48d5d5f-ccf5-4bdc-8883-f14aeb1508fd",
   "metadata": {},
   "source": [
    "Calculate Mean, Sum and z-scores by group"
   ]
  },
  {
   "cell_type": "code",
   "execution_count": 20,
   "id": "06222d99-1a3f-4673-a865-b36ebea8d0ff",
   "metadata": {},
   "outputs": [
    {
     "data": {
      "text/plain": [
       "True"
      ]
     },
     "execution_count": 20,
     "metadata": {},
     "output_type": "execute_result"
    }
   ],
   "source": [
    "# check if all is gucci\n",
    "list(adata.var_names) == list(dedict['B']['names'])"
   ]
  },
  {
   "cell_type": "code",
   "execution_count": null,
   "id": "23029937-82b3-4bf4-8f48-ac09453905ba",
   "metadata": {},
   "outputs": [],
   "source": []
  },
  {
   "cell_type": "code",
   "execution_count": 21,
   "id": "34615044-79ee-4226-9486-0fca998e38b1",
   "metadata": {},
   "outputs": [],
   "source": [
    "for label in labels: \n",
    "    temp = adata[adata.obs.label.isin([label])].copy()\n",
    "    # dedict[label]['sums'] = temp.X.sum(0)\n",
    "    dedict[label]['means'] = temp.X.mean(0).A.flatten()\n",
    "    dedict[label]['zscores'] = temp.layers['scaled'].mean(0)"
   ]
  },
  {
   "cell_type": "code",
   "execution_count": null,
   "id": "efe31563-2074-42b7-8d1f-b661a9c0940c",
   "metadata": {},
   "outputs": [],
   "source": []
  },
  {
   "cell_type": "code",
   "execution_count": null,
   "id": "679a5a3d-66e1-4ca5-9bb1-921dac2109eb",
   "metadata": {},
   "outputs": [],
   "source": []
  },
  {
   "cell_type": "code",
   "execution_count": null,
   "id": "50f77c1b-d0a9-459f-9efb-266571ff4d7f",
   "metadata": {},
   "outputs": [],
   "source": []
  },
  {
   "cell_type": "markdown",
   "id": "82696774-d03f-4d01-8004-a08b77547628",
   "metadata": {},
   "source": [
    "Join Means"
   ]
  },
  {
   "cell_type": "code",
   "execution_count": 22,
   "id": "a48d899f-5a00-43f5-889f-ff26d32a9a97",
   "metadata": {},
   "outputs": [],
   "source": [
    "pairs = pd.DataFrame(np.array(np.meshgrid(labels, labels)).reshape(2, np.size(labels) * np.size(labels)).T).rename(columns={0: \"source\", 1: \"target\"})"
   ]
  },
  {
   "cell_type": "code",
   "execution_count": 23,
   "id": "14f860e2-5949-4a92-ae5c-0c7a3a930215",
   "metadata": {},
   "outputs": [],
   "source": [
    "def join_means(source, target):\n",
    "    source_stats = dedict[source].copy()\n",
    "    source_stats.columns = source_stats.columns.map(lambda x: 'ligand_' + str(x))\n",
    "    source_stats = source_stats.rename(columns={'ligand_names':'ligand', 'ligand_label':'source'})\n",
    "    \n",
    "    target_stats = dedict[target].copy()\n",
    "    target_stats.columns = target_stats.columns.map(lambda x: 'receptor_' + str(x))\n",
    "    target_stats = target_stats.rename(columns={'receptor_names':'receptor', 'receptor_label':'target'})\n",
    "    \n",
    "    bound = resource.merge(source_stats).merge(target_stats)\n",
    "    \n",
    "    return bound"
   ]
  },
  {
   "cell_type": "code",
   "execution_count": null,
   "id": "1d3a8b10-47ca-47c2-8d02-f1a0e4b60959",
   "metadata": {},
   "outputs": [],
   "source": []
  },
  {
   "cell_type": "code",
   "execution_count": 24,
   "id": "ad51c3e1-d138-4e9f-ac71-0a9e1f878e1d",
   "metadata": {},
   "outputs": [],
   "source": [
    "lr_res = pd.concat([join_means(source, target) for source, target in zip(pairs['source'], pairs['target'])])"
   ]
  },
  {
   "cell_type": "code",
   "execution_count": 25,
   "id": "772b2ac6-6342-4029-b9c1-73f97ee8755a",
   "metadata": {},
   "outputs": [],
   "source": [
    "lr_res['mat_mean'] = mat_mean"
   ]
  },
  {
   "cell_type": "code",
   "execution_count": 26,
   "id": "c4c22446-3f82-4750-b9fa-d21855854e79",
   "metadata": {},
   "outputs": [
    {
     "data": {
      "text/html": [
       "<div>\n",
       "<style scoped>\n",
       "    .dataframe tbody tr th:only-of-type {\n",
       "        vertical-align: middle;\n",
       "    }\n",
       "\n",
       "    .dataframe tbody tr th {\n",
       "        vertical-align: top;\n",
       "    }\n",
       "\n",
       "    .dataframe thead th {\n",
       "        text-align: right;\n",
       "    }\n",
       "</style>\n",
       "<table border=\"1\" class=\"dataframe\">\n",
       "  <thead>\n",
       "    <tr style=\"text-align: right;\">\n",
       "      <th></th>\n",
       "      <th>interaction</th>\n",
       "      <th>ligand</th>\n",
       "      <th>receptor</th>\n",
       "      <th>ligand_complex</th>\n",
       "      <th>receptor_complex</th>\n",
       "      <th>ligand_scores</th>\n",
       "      <th>ligand_logfoldchanges</th>\n",
       "      <th>ligand_pvals</th>\n",
       "      <th>ligand_pvals_adj</th>\n",
       "      <th>source</th>\n",
       "      <th>ligand_means</th>\n",
       "      <th>ligand_zscores</th>\n",
       "      <th>receptor_scores</th>\n",
       "      <th>receptor_logfoldchanges</th>\n",
       "      <th>receptor_pvals</th>\n",
       "      <th>receptor_pvals_adj</th>\n",
       "      <th>target</th>\n",
       "      <th>receptor_means</th>\n",
       "      <th>receptor_zscores</th>\n",
       "      <th>mat_mean</th>\n",
       "    </tr>\n",
       "  </thead>\n",
       "  <tbody>\n",
       "    <tr>\n",
       "      <th>0</th>\n",
       "      <td>LGALS9|PTPRC</td>\n",
       "      <td>LGALS9</td>\n",
       "      <td>PTPRC</td>\n",
       "      <td>LGALS9</td>\n",
       "      <td>PTPRC</td>\n",
       "      <td>1.433668</td>\n",
       "      <td>2.440976</td>\n",
       "      <td>0.151667</td>\n",
       "      <td>0.823608</td>\n",
       "      <td>B</td>\n",
       "      <td>0.374320</td>\n",
       "      <td>0.377836</td>\n",
       "      <td>-3.440802</td>\n",
       "      <td>-1.272587</td>\n",
       "      <td>0.000580</td>\n",
       "      <td>0.008909</td>\n",
       "      <td>B</td>\n",
       "      <td>0.761533</td>\n",
       "      <td>-0.415538</td>\n",
       "      <td>0.199056</td>\n",
       "    </tr>\n",
       "    <tr>\n",
       "      <th>1</th>\n",
       "      <td>CD22|PTPRC</td>\n",
       "      <td>CD22</td>\n",
       "      <td>PTPRC</td>\n",
       "      <td>CD22</td>\n",
       "      <td>PTPRC</td>\n",
       "      <td>2.730388</td>\n",
       "      <td>3.604738</td>\n",
       "      <td>0.006326</td>\n",
       "      <td>0.063285</td>\n",
       "      <td>B</td>\n",
       "      <td>0.554265</td>\n",
       "      <td>0.618197</td>\n",
       "      <td>-3.440802</td>\n",
       "      <td>-1.272587</td>\n",
       "      <td>0.000580</td>\n",
       "      <td>0.008909</td>\n",
       "      <td>B</td>\n",
       "      <td>0.761533</td>\n",
       "      <td>-0.415538</td>\n",
       "      <td>0.199056</td>\n",
       "    </tr>\n",
       "    <tr>\n",
       "      <th>2</th>\n",
       "      <td>LGALS1|PTPRC</td>\n",
       "      <td>LGALS1</td>\n",
       "      <td>PTPRC</td>\n",
       "      <td>LGALS1</td>\n",
       "      <td>PTPRC</td>\n",
       "      <td>-2.935809</td>\n",
       "      <td>-2.024960</td>\n",
       "      <td>0.003327</td>\n",
       "      <td>0.036073</td>\n",
       "      <td>B</td>\n",
       "      <td>0.611330</td>\n",
       "      <td>-0.460597</td>\n",
       "      <td>-3.440802</td>\n",
       "      <td>-1.272587</td>\n",
       "      <td>0.000580</td>\n",
       "      <td>0.008909</td>\n",
       "      <td>B</td>\n",
       "      <td>0.761533</td>\n",
       "      <td>-0.415538</td>\n",
       "      <td>0.199056</td>\n",
       "    </tr>\n",
       "    <tr>\n",
       "      <th>3</th>\n",
       "      <td>LGALS9|CD44</td>\n",
       "      <td>LGALS9</td>\n",
       "      <td>CD44</td>\n",
       "      <td>LGALS9</td>\n",
       "      <td>CD44</td>\n",
       "      <td>1.433668</td>\n",
       "      <td>2.440976</td>\n",
       "      <td>0.151667</td>\n",
       "      <td>0.823608</td>\n",
       "      <td>B</td>\n",
       "      <td>0.374320</td>\n",
       "      <td>0.377836</td>\n",
       "      <td>-0.419401</td>\n",
       "      <td>-0.198308</td>\n",
       "      <td>0.674923</td>\n",
       "      <td>0.960181</td>\n",
       "      <td>B</td>\n",
       "      <td>0.655391</td>\n",
       "      <td>-0.051623</td>\n",
       "      <td>0.199056</td>\n",
       "    </tr>\n",
       "    <tr>\n",
       "      <th>4</th>\n",
       "      <td>ADAM10|CD44</td>\n",
       "      <td>ADAM10</td>\n",
       "      <td>CD44</td>\n",
       "      <td>ADAM10</td>\n",
       "      <td>CD44</td>\n",
       "      <td>0.089872</td>\n",
       "      <td>-0.020321</td>\n",
       "      <td>0.928389</td>\n",
       "      <td>0.974192</td>\n",
       "      <td>B</td>\n",
       "      <td>0.119797</td>\n",
       "      <td>-0.002707</td>\n",
       "      <td>-0.419401</td>\n",
       "      <td>-0.198308</td>\n",
       "      <td>0.674923</td>\n",
       "      <td>0.960181</td>\n",
       "      <td>B</td>\n",
       "      <td>0.655391</td>\n",
       "      <td>-0.051623</td>\n",
       "      <td>0.199056</td>\n",
       "    </tr>\n",
       "    <tr>\n",
       "      <th>...</th>\n",
       "      <td>...</td>\n",
       "      <td>...</td>\n",
       "      <td>...</td>\n",
       "      <td>...</td>\n",
       "      <td>...</td>\n",
       "      <td>...</td>\n",
       "      <td>...</td>\n",
       "      <td>...</td>\n",
       "      <td>...</td>\n",
       "      <td>...</td>\n",
       "      <td>...</td>\n",
       "      <td>...</td>\n",
       "      <td>...</td>\n",
       "      <td>...</td>\n",
       "      <td>...</td>\n",
       "      <td>...</td>\n",
       "      <td>...</td>\n",
       "      <td>...</td>\n",
       "      <td>...</td>\n",
       "      <td>...</td>\n",
       "    </tr>\n",
       "    <tr>\n",
       "      <th>505</th>\n",
       "      <td>CALM1|KCNN4</td>\n",
       "      <td>CALM1</td>\n",
       "      <td>KCNN4</td>\n",
       "      <td>CALM1</td>\n",
       "      <td>KCNN4</td>\n",
       "      <td>3.560631</td>\n",
       "      <td>1.149412</td>\n",
       "      <td>0.000370</td>\n",
       "      <td>0.006200</td>\n",
       "      <td>NK</td>\n",
       "      <td>2.516959</td>\n",
       "      <td>0.526745</td>\n",
       "      <td>-0.385164</td>\n",
       "      <td>-25.897530</td>\n",
       "      <td>0.700116</td>\n",
       "      <td>0.969362</td>\n",
       "      <td>NK</td>\n",
       "      <td>0.000000</td>\n",
       "      <td>-0.183226</td>\n",
       "      <td>0.199056</td>\n",
       "    </tr>\n",
       "    <tr>\n",
       "      <th>506</th>\n",
       "      <td>PTPN6|CD300LF</td>\n",
       "      <td>PTPN6</td>\n",
       "      <td>CD300LF</td>\n",
       "      <td>PTPN6</td>\n",
       "      <td>CD300LF</td>\n",
       "      <td>-0.813125</td>\n",
       "      <td>-0.725591</td>\n",
       "      <td>0.416146</td>\n",
       "      <td>0.969362</td>\n",
       "      <td>NK</td>\n",
       "      <td>0.652221</td>\n",
       "      <td>-0.199005</td>\n",
       "      <td>-0.128388</td>\n",
       "      <td>-24.651196</td>\n",
       "      <td>0.897842</td>\n",
       "      <td>0.969362</td>\n",
       "      <td>NK</td>\n",
       "      <td>0.000000</td>\n",
       "      <td>-0.105409</td>\n",
       "      <td>0.199056</td>\n",
       "    </tr>\n",
       "    <tr>\n",
       "      <th>507</th>\n",
       "      <td>NUCB2|ERAP1</td>\n",
       "      <td>NUCB2</td>\n",
       "      <td>ERAP1</td>\n",
       "      <td>NUCB2</td>\n",
       "      <td>ERAP1</td>\n",
       "      <td>0.141227</td>\n",
       "      <td>0.482593</td>\n",
       "      <td>0.887691</td>\n",
       "      <td>0.969362</td>\n",
       "      <td>NK</td>\n",
       "      <td>0.156951</td>\n",
       "      <td>0.065837</td>\n",
       "      <td>0.654780</td>\n",
       "      <td>2.871128</td>\n",
       "      <td>0.512610</td>\n",
       "      <td>0.969362</td>\n",
       "      <td>NK</td>\n",
       "      <td>0.162055</td>\n",
       "      <td>0.282299</td>\n",
       "      <td>0.199056</td>\n",
       "    </tr>\n",
       "    <tr>\n",
       "      <th>508</th>\n",
       "      <td>SOCS2|EPOR</td>\n",
       "      <td>SOCS2</td>\n",
       "      <td>EPOR</td>\n",
       "      <td>SOCS2</td>\n",
       "      <td>EPOR</td>\n",
       "      <td>0.684737</td>\n",
       "      <td>1.819167</td>\n",
       "      <td>0.493510</td>\n",
       "      <td>0.969362</td>\n",
       "      <td>NK</td>\n",
       "      <td>0.230338</td>\n",
       "      <td>0.243138</td>\n",
       "      <td>-0.128388</td>\n",
       "      <td>-24.620756</td>\n",
       "      <td>0.897842</td>\n",
       "      <td>0.969362</td>\n",
       "      <td>NK</td>\n",
       "      <td>0.000000</td>\n",
       "      <td>-0.105409</td>\n",
       "      <td>0.199056</td>\n",
       "    </tr>\n",
       "    <tr>\n",
       "      <th>509</th>\n",
       "      <td>GDF11|ACTR2</td>\n",
       "      <td>GDF11</td>\n",
       "      <td>ACTR2</td>\n",
       "      <td>GDF11</td>\n",
       "      <td>ACTR2</td>\n",
       "      <td>-0.128388</td>\n",
       "      <td>-24.595915</td>\n",
       "      <td>0.897842</td>\n",
       "      <td>0.969362</td>\n",
       "      <td>NK</td>\n",
       "      <td>0.000000</td>\n",
       "      <td>-0.105409</td>\n",
       "      <td>0.059914</td>\n",
       "      <td>0.261340</td>\n",
       "      <td>0.952224</td>\n",
       "      <td>0.993547</td>\n",
       "      <td>NK</td>\n",
       "      <td>0.346738</td>\n",
       "      <td>0.052777</td>\n",
       "      <td>0.199056</td>\n",
       "    </tr>\n",
       "  </tbody>\n",
       "</table>\n",
       "<p>4590 rows × 20 columns</p>\n",
       "</div>"
      ],
      "text/plain": [
       "       interaction  ligand receptor ligand_complex receptor_complex  \\\n",
       "0     LGALS9|PTPRC  LGALS9    PTPRC         LGALS9            PTPRC   \n",
       "1       CD22|PTPRC    CD22    PTPRC           CD22            PTPRC   \n",
       "2     LGALS1|PTPRC  LGALS1    PTPRC         LGALS1            PTPRC   \n",
       "3      LGALS9|CD44  LGALS9     CD44         LGALS9             CD44   \n",
       "4      ADAM10|CD44  ADAM10     CD44         ADAM10             CD44   \n",
       "..             ...     ...      ...            ...              ...   \n",
       "505    CALM1|KCNN4   CALM1    KCNN4          CALM1            KCNN4   \n",
       "506  PTPN6|CD300LF   PTPN6  CD300LF          PTPN6          CD300LF   \n",
       "507    NUCB2|ERAP1   NUCB2    ERAP1          NUCB2            ERAP1   \n",
       "508     SOCS2|EPOR   SOCS2     EPOR          SOCS2             EPOR   \n",
       "509    GDF11|ACTR2   GDF11    ACTR2          GDF11            ACTR2   \n",
       "\n",
       "     ligand_scores  ligand_logfoldchanges  ligand_pvals  ligand_pvals_adj  \\\n",
       "0         1.433668               2.440976      0.151667          0.823608   \n",
       "1         2.730388               3.604738      0.006326          0.063285   \n",
       "2        -2.935809              -2.024960      0.003327          0.036073   \n",
       "3         1.433668               2.440976      0.151667          0.823608   \n",
       "4         0.089872              -0.020321      0.928389          0.974192   \n",
       "..             ...                    ...           ...               ...   \n",
       "505       3.560631               1.149412      0.000370          0.006200   \n",
       "506      -0.813125              -0.725591      0.416146          0.969362   \n",
       "507       0.141227               0.482593      0.887691          0.969362   \n",
       "508       0.684737               1.819167      0.493510          0.969362   \n",
       "509      -0.128388             -24.595915      0.897842          0.969362   \n",
       "\n",
       "    source  ligand_means  ligand_zscores  receptor_scores  \\\n",
       "0        B      0.374320        0.377836        -3.440802   \n",
       "1        B      0.554265        0.618197        -3.440802   \n",
       "2        B      0.611330       -0.460597        -3.440802   \n",
       "3        B      0.374320        0.377836        -0.419401   \n",
       "4        B      0.119797       -0.002707        -0.419401   \n",
       "..     ...           ...             ...              ...   \n",
       "505     NK      2.516959        0.526745        -0.385164   \n",
       "506     NK      0.652221       -0.199005        -0.128388   \n",
       "507     NK      0.156951        0.065837         0.654780   \n",
       "508     NK      0.230338        0.243138        -0.128388   \n",
       "509     NK      0.000000       -0.105409         0.059914   \n",
       "\n",
       "     receptor_logfoldchanges  receptor_pvals  receptor_pvals_adj target  \\\n",
       "0                  -1.272587        0.000580            0.008909      B   \n",
       "1                  -1.272587        0.000580            0.008909      B   \n",
       "2                  -1.272587        0.000580            0.008909      B   \n",
       "3                  -0.198308        0.674923            0.960181      B   \n",
       "4                  -0.198308        0.674923            0.960181      B   \n",
       "..                       ...             ...                 ...    ...   \n",
       "505               -25.897530        0.700116            0.969362     NK   \n",
       "506               -24.651196        0.897842            0.969362     NK   \n",
       "507                 2.871128        0.512610            0.969362     NK   \n",
       "508               -24.620756        0.897842            0.969362     NK   \n",
       "509                 0.261340        0.952224            0.993547     NK   \n",
       "\n",
       "     receptor_means  receptor_zscores  mat_mean  \n",
       "0          0.761533         -0.415538  0.199056  \n",
       "1          0.761533         -0.415538  0.199056  \n",
       "2          0.761533         -0.415538  0.199056  \n",
       "3          0.655391         -0.051623  0.199056  \n",
       "4          0.655391         -0.051623  0.199056  \n",
       "..              ...               ...       ...  \n",
       "505        0.000000         -0.183226  0.199056  \n",
       "506        0.000000         -0.105409  0.199056  \n",
       "507        0.162055          0.282299  0.199056  \n",
       "508        0.000000         -0.105409  0.199056  \n",
       "509        0.346738          0.052777  0.199056  \n",
       "\n",
       "[4590 rows x 20 columns]"
      ]
     },
     "execution_count": 26,
     "metadata": {},
     "output_type": "execute_result"
    }
   ],
   "source": [
    "lr_res"
   ]
  },
  {
   "cell_type": "code",
   "execution_count": null,
   "id": "d1d45c52-81fd-492f-8d48-6ee5bd67b322",
   "metadata": {},
   "outputs": [],
   "source": []
  },
  {
   "cell_type": "markdown",
   "id": "6d1326e7-4437-40ed-9d65-c93ef5c1e33d",
   "metadata": {},
   "source": [
    "Recomplexify"
   ]
  },
  {
   "cell_type": "code",
   "execution_count": 27,
   "id": "e38ff4f2-9159-4ea3-b3f0-ecb6deb08c07",
   "metadata": {},
   "outputs": [],
   "source": [
    "# def recomplexify(lr_res, grps, complex_cols, complex_policy = 'min'):\n",
    "\n",
    "\n",
    "# def _reduce_complexes():\n",
    "    "
   ]
  },
  {
   "cell_type": "code",
   "execution_count": 28,
   "id": "27f090b0-0d3e-44d6-a705-625377881521",
   "metadata": {},
   "outputs": [],
   "source": [
    "complex_policy = 'min'"
   ]
  },
  {
   "cell_type": "code",
   "execution_count": 29,
   "id": "7f51034f-1ed1-49d6-bbae-1620b10ebd8d",
   "metadata": {},
   "outputs": [],
   "source": [
    "grps = ['source', 'target', 'ligand_complex', 'receptor_complex']"
   ]
  },
  {
   "cell_type": "code",
   "execution_count": 30,
   "id": "8d955c4f-f6f7-4a08-82d4-d668bcec7caf",
   "metadata": {},
   "outputs": [],
   "source": [
    "complex_cols = ['ligand_means' , 'receptor_means'] # specific for every method"
   ]
  },
  {
   "cell_type": "code",
   "execution_count": 31,
   "id": "7093e116-584c-43e9-a341-486139b18b1e",
   "metadata": {},
   "outputs": [],
   "source": [
    "add_cols = ['mat_mean', 'ligand', 'receptor']"
   ]
  },
  {
   "cell_type": "code",
   "execution_count": null,
   "id": "baf0ef98-75d7-4860-83cf-9482b10d1ce5",
   "metadata": {},
   "outputs": [],
   "source": []
  },
  {
   "cell_type": "code",
   "execution_count": 32,
   "id": "324a17e5-d315-4647-9de5-7db4d0eb74d6",
   "metadata": {},
   "outputs": [],
   "source": [
    "# subset /w only means here - to be extended to all columns\n",
    "lr_res = lr_res[ grps + complex_cols + add_cols ]"
   ]
  },
  {
   "cell_type": "code",
   "execution_count": 33,
   "id": "2e39a9e4-77ae-4e2b-ab0b-579d508f1347",
   "metadata": {},
   "outputs": [],
   "source": [
    "# temp = temp[[x==\"INHBA_INHBB\" for x in temp['ligand_complex']]].sort_values('receptor_complex')\n",
    "# temp = temp[[x==\"ACVR1B_ACVR2A\" for x in temp['receptor_complex']]]"
   ]
  },
  {
   "cell_type": "code",
   "execution_count": null,
   "id": "cde1930c-40a8-4376-86a5-e25285c1b913",
   "metadata": {},
   "outputs": [],
   "source": []
  },
  {
   "cell_type": "code",
   "execution_count": 34,
   "id": "a8adb895-47c2-412f-b9a5-51929f217ba7",
   "metadata": {},
   "outputs": [],
   "source": [
    "lr_res = lr_res.groupby(grps)"
   ]
  },
  {
   "cell_type": "code",
   "execution_count": 35,
   "id": "3058f4bd-4df3-4837-9089-af47112ad3f9",
   "metadata": {},
   "outputs": [
    {
     "data": {
      "text/html": [
       "<div>\n",
       "<style scoped>\n",
       "    .dataframe tbody tr th:only-of-type {\n",
       "        vertical-align: middle;\n",
       "    }\n",
       "\n",
       "    .dataframe tbody tr th {\n",
       "        vertical-align: top;\n",
       "    }\n",
       "\n",
       "    .dataframe thead th {\n",
       "        text-align: right;\n",
       "    }\n",
       "</style>\n",
       "<table border=\"1\" class=\"dataframe\">\n",
       "  <thead>\n",
       "    <tr style=\"text-align: right;\">\n",
       "      <th></th>\n",
       "      <th>source</th>\n",
       "      <th>target</th>\n",
       "      <th>ligand_complex</th>\n",
       "      <th>receptor_complex</th>\n",
       "      <th>ligand_means</th>\n",
       "      <th>receptor_means</th>\n",
       "      <th>mat_mean</th>\n",
       "      <th>ligand</th>\n",
       "      <th>receptor</th>\n",
       "    </tr>\n",
       "  </thead>\n",
       "  <tbody>\n",
       "    <tr>\n",
       "      <th>0</th>\n",
       "      <td>B</td>\n",
       "      <td>B</td>\n",
       "      <td>LGALS9</td>\n",
       "      <td>PTPRC</td>\n",
       "      <td>0.374320</td>\n",
       "      <td>0.761533</td>\n",
       "      <td>0.199056</td>\n",
       "      <td>LGALS9</td>\n",
       "      <td>PTPRC</td>\n",
       "    </tr>\n",
       "    <tr>\n",
       "      <th>1</th>\n",
       "      <td>B</td>\n",
       "      <td>B</td>\n",
       "      <td>CD22</td>\n",
       "      <td>PTPRC</td>\n",
       "      <td>0.554265</td>\n",
       "      <td>0.761533</td>\n",
       "      <td>0.199056</td>\n",
       "      <td>CD22</td>\n",
       "      <td>PTPRC</td>\n",
       "    </tr>\n",
       "    <tr>\n",
       "      <th>2</th>\n",
       "      <td>B</td>\n",
       "      <td>B</td>\n",
       "      <td>LGALS1</td>\n",
       "      <td>PTPRC</td>\n",
       "      <td>0.611330</td>\n",
       "      <td>0.761533</td>\n",
       "      <td>0.199056</td>\n",
       "      <td>LGALS1</td>\n",
       "      <td>PTPRC</td>\n",
       "    </tr>\n",
       "    <tr>\n",
       "      <th>3</th>\n",
       "      <td>B</td>\n",
       "      <td>B</td>\n",
       "      <td>LGALS9</td>\n",
       "      <td>CD44</td>\n",
       "      <td>0.374320</td>\n",
       "      <td>0.655391</td>\n",
       "      <td>0.199056</td>\n",
       "      <td>LGALS9</td>\n",
       "      <td>CD44</td>\n",
       "    </tr>\n",
       "    <tr>\n",
       "      <th>4</th>\n",
       "      <td>B</td>\n",
       "      <td>B</td>\n",
       "      <td>ADAM10</td>\n",
       "      <td>CD44</td>\n",
       "      <td>0.119797</td>\n",
       "      <td>0.655391</td>\n",
       "      <td>0.199056</td>\n",
       "      <td>ADAM10</td>\n",
       "      <td>CD44</td>\n",
       "    </tr>\n",
       "    <tr>\n",
       "      <th>...</th>\n",
       "      <td>...</td>\n",
       "      <td>...</td>\n",
       "      <td>...</td>\n",
       "      <td>...</td>\n",
       "      <td>...</td>\n",
       "      <td>...</td>\n",
       "      <td>...</td>\n",
       "      <td>...</td>\n",
       "      <td>...</td>\n",
       "    </tr>\n",
       "    <tr>\n",
       "      <th>505</th>\n",
       "      <td>NK</td>\n",
       "      <td>NK</td>\n",
       "      <td>CALM1</td>\n",
       "      <td>KCNN4</td>\n",
       "      <td>2.516959</td>\n",
       "      <td>0.000000</td>\n",
       "      <td>0.199056</td>\n",
       "      <td>CALM1</td>\n",
       "      <td>KCNN4</td>\n",
       "    </tr>\n",
       "    <tr>\n",
       "      <th>506</th>\n",
       "      <td>NK</td>\n",
       "      <td>NK</td>\n",
       "      <td>PTPN6</td>\n",
       "      <td>CD300LF</td>\n",
       "      <td>0.652221</td>\n",
       "      <td>0.000000</td>\n",
       "      <td>0.199056</td>\n",
       "      <td>PTPN6</td>\n",
       "      <td>CD300LF</td>\n",
       "    </tr>\n",
       "    <tr>\n",
       "      <th>507</th>\n",
       "      <td>NK</td>\n",
       "      <td>NK</td>\n",
       "      <td>NUCB2</td>\n",
       "      <td>ERAP1</td>\n",
       "      <td>0.156951</td>\n",
       "      <td>0.162055</td>\n",
       "      <td>0.199056</td>\n",
       "      <td>NUCB2</td>\n",
       "      <td>ERAP1</td>\n",
       "    </tr>\n",
       "    <tr>\n",
       "      <th>508</th>\n",
       "      <td>NK</td>\n",
       "      <td>NK</td>\n",
       "      <td>SOCS2</td>\n",
       "      <td>EPOR</td>\n",
       "      <td>0.230338</td>\n",
       "      <td>0.000000</td>\n",
       "      <td>0.199056</td>\n",
       "      <td>SOCS2</td>\n",
       "      <td>EPOR</td>\n",
       "    </tr>\n",
       "    <tr>\n",
       "      <th>509</th>\n",
       "      <td>NK</td>\n",
       "      <td>NK</td>\n",
       "      <td>GDF11</td>\n",
       "      <td>ACTR2</td>\n",
       "      <td>0.000000</td>\n",
       "      <td>0.346738</td>\n",
       "      <td>0.199056</td>\n",
       "      <td>GDF11</td>\n",
       "      <td>ACTR2</td>\n",
       "    </tr>\n",
       "  </tbody>\n",
       "</table>\n",
       "<p>4590 rows × 9 columns</p>\n",
       "</div>"
      ],
      "text/plain": [
       "    source target ligand_complex receptor_complex  ligand_means  \\\n",
       "0        B      B         LGALS9            PTPRC      0.374320   \n",
       "1        B      B           CD22            PTPRC      0.554265   \n",
       "2        B      B         LGALS1            PTPRC      0.611330   \n",
       "3        B      B         LGALS9             CD44      0.374320   \n",
       "4        B      B         ADAM10             CD44      0.119797   \n",
       "..     ...    ...            ...              ...           ...   \n",
       "505     NK     NK          CALM1            KCNN4      2.516959   \n",
       "506     NK     NK          PTPN6          CD300LF      0.652221   \n",
       "507     NK     NK          NUCB2            ERAP1      0.156951   \n",
       "508     NK     NK          SOCS2             EPOR      0.230338   \n",
       "509     NK     NK          GDF11            ACTR2      0.000000   \n",
       "\n",
       "     receptor_means  mat_mean  ligand receptor  \n",
       "0          0.761533  0.199056  LGALS9    PTPRC  \n",
       "1          0.761533  0.199056    CD22    PTPRC  \n",
       "2          0.761533  0.199056  LGALS1    PTPRC  \n",
       "3          0.655391  0.199056  LGALS9     CD44  \n",
       "4          0.655391  0.199056  ADAM10     CD44  \n",
       "..              ...       ...     ...      ...  \n",
       "505        0.000000  0.199056   CALM1    KCNN4  \n",
       "506        0.000000  0.199056   PTPN6  CD300LF  \n",
       "507        0.162055  0.199056   NUCB2    ERAP1  \n",
       "508        0.000000  0.199056   SOCS2     EPOR  \n",
       "509        0.346738  0.199056   GDF11    ACTR2  \n",
       "\n",
       "[4590 rows x 9 columns]"
      ]
     },
     "execution_count": 35,
     "metadata": {},
     "output_type": "execute_result"
    }
   ],
   "source": [
    "lr_res.obj"
   ]
  },
  {
   "cell_type": "code",
   "execution_count": null,
   "id": "88517be0-93a4-4361-a12e-b2a977c916ce",
   "metadata": {},
   "outputs": [],
   "source": []
  },
  {
   "cell_type": "code",
   "execution_count": 36,
   "id": "b1221ef5-391b-4cdc-afa7-4964e39828bc",
   "metadata": {},
   "outputs": [],
   "source": [
    "# Functions to be used to reduce the complexes\n",
    "aggs = set([complex_policy, 'min']) # set to remove if both are min"
   ]
  },
  {
   "cell_type": "code",
   "execution_count": 37,
   "id": "ede8245f-a0a8-4f48-8a0c-e20df6154a2f",
   "metadata": {},
   "outputs": [
    {
     "data": {
      "text/plain": [
       "['ligand_means', 'receptor_means']"
      ]
     },
     "execution_count": 37,
     "metadata": {},
     "output_type": "execute_result"
    }
   ],
   "source": [
    "complex_cols"
   ]
  },
  {
   "cell_type": "code",
   "execution_count": 38,
   "id": "aae1e084-545d-448a-99bf-876deeaa91b9",
   "metadata": {},
   "outputs": [],
   "source": [
    "cols_dict = {}\n",
    "\n",
    "for col in complex_cols:\n",
    "    cols_dict[col] = lr_res[col].agg(aggs).reset_index().copy().\\\n",
    "    rename(columns={agg:col.split('_')[0] + '_' + agg for agg in aggs})"
   ]
  },
  {
   "cell_type": "code",
   "execution_count": null,
   "id": "9e49f68e-2c25-4dd2-8ffd-0cb14ecbc299",
   "metadata": {},
   "outputs": [],
   "source": []
  },
  {
   "cell_type": "code",
   "execution_count": 39,
   "id": "7bc13f02-5ddb-4ba7-be0d-2d47f79d73d8",
   "metadata": {},
   "outputs": [],
   "source": [
    "lr_res = lr_res.obj.copy()"
   ]
  },
  {
   "cell_type": "code",
   "execution_count": 40,
   "id": "e1aca9e6-e70c-4247-bce1-55918ab41666",
   "metadata": {},
   "outputs": [
    {
     "data": {
      "text/html": [
       "<div>\n",
       "<style scoped>\n",
       "    .dataframe tbody tr th:only-of-type {\n",
       "        vertical-align: middle;\n",
       "    }\n",
       "\n",
       "    .dataframe tbody tr th {\n",
       "        vertical-align: top;\n",
       "    }\n",
       "\n",
       "    .dataframe thead th {\n",
       "        text-align: right;\n",
       "    }\n",
       "</style>\n",
       "<table border=\"1\" class=\"dataframe\">\n",
       "  <thead>\n",
       "    <tr style=\"text-align: right;\">\n",
       "      <th></th>\n",
       "      <th>source</th>\n",
       "      <th>target</th>\n",
       "      <th>ligand_complex</th>\n",
       "      <th>receptor_complex</th>\n",
       "      <th>ligand_means</th>\n",
       "      <th>receptor_means</th>\n",
       "      <th>mat_mean</th>\n",
       "      <th>ligand</th>\n",
       "      <th>receptor</th>\n",
       "    </tr>\n",
       "  </thead>\n",
       "  <tbody>\n",
       "    <tr>\n",
       "      <th>0</th>\n",
       "      <td>B</td>\n",
       "      <td>B</td>\n",
       "      <td>LGALS9</td>\n",
       "      <td>PTPRC</td>\n",
       "      <td>0.374320</td>\n",
       "      <td>0.761533</td>\n",
       "      <td>0.199056</td>\n",
       "      <td>LGALS9</td>\n",
       "      <td>PTPRC</td>\n",
       "    </tr>\n",
       "    <tr>\n",
       "      <th>1</th>\n",
       "      <td>B</td>\n",
       "      <td>B</td>\n",
       "      <td>CD22</td>\n",
       "      <td>PTPRC</td>\n",
       "      <td>0.554265</td>\n",
       "      <td>0.761533</td>\n",
       "      <td>0.199056</td>\n",
       "      <td>CD22</td>\n",
       "      <td>PTPRC</td>\n",
       "    </tr>\n",
       "    <tr>\n",
       "      <th>2</th>\n",
       "      <td>B</td>\n",
       "      <td>B</td>\n",
       "      <td>LGALS1</td>\n",
       "      <td>PTPRC</td>\n",
       "      <td>0.611330</td>\n",
       "      <td>0.761533</td>\n",
       "      <td>0.199056</td>\n",
       "      <td>LGALS1</td>\n",
       "      <td>PTPRC</td>\n",
       "    </tr>\n",
       "    <tr>\n",
       "      <th>3</th>\n",
       "      <td>B</td>\n",
       "      <td>B</td>\n",
       "      <td>LGALS9</td>\n",
       "      <td>CD44</td>\n",
       "      <td>0.374320</td>\n",
       "      <td>0.655391</td>\n",
       "      <td>0.199056</td>\n",
       "      <td>LGALS9</td>\n",
       "      <td>CD44</td>\n",
       "    </tr>\n",
       "    <tr>\n",
       "      <th>4</th>\n",
       "      <td>B</td>\n",
       "      <td>B</td>\n",
       "      <td>ADAM10</td>\n",
       "      <td>CD44</td>\n",
       "      <td>0.119797</td>\n",
       "      <td>0.655391</td>\n",
       "      <td>0.199056</td>\n",
       "      <td>ADAM10</td>\n",
       "      <td>CD44</td>\n",
       "    </tr>\n",
       "    <tr>\n",
       "      <th>...</th>\n",
       "      <td>...</td>\n",
       "      <td>...</td>\n",
       "      <td>...</td>\n",
       "      <td>...</td>\n",
       "      <td>...</td>\n",
       "      <td>...</td>\n",
       "      <td>...</td>\n",
       "      <td>...</td>\n",
       "      <td>...</td>\n",
       "    </tr>\n",
       "    <tr>\n",
       "      <th>505</th>\n",
       "      <td>NK</td>\n",
       "      <td>NK</td>\n",
       "      <td>CALM1</td>\n",
       "      <td>KCNN4</td>\n",
       "      <td>2.516959</td>\n",
       "      <td>0.000000</td>\n",
       "      <td>0.199056</td>\n",
       "      <td>CALM1</td>\n",
       "      <td>KCNN4</td>\n",
       "    </tr>\n",
       "    <tr>\n",
       "      <th>506</th>\n",
       "      <td>NK</td>\n",
       "      <td>NK</td>\n",
       "      <td>PTPN6</td>\n",
       "      <td>CD300LF</td>\n",
       "      <td>0.652221</td>\n",
       "      <td>0.000000</td>\n",
       "      <td>0.199056</td>\n",
       "      <td>PTPN6</td>\n",
       "      <td>CD300LF</td>\n",
       "    </tr>\n",
       "    <tr>\n",
       "      <th>507</th>\n",
       "      <td>NK</td>\n",
       "      <td>NK</td>\n",
       "      <td>NUCB2</td>\n",
       "      <td>ERAP1</td>\n",
       "      <td>0.156951</td>\n",
       "      <td>0.162055</td>\n",
       "      <td>0.199056</td>\n",
       "      <td>NUCB2</td>\n",
       "      <td>ERAP1</td>\n",
       "    </tr>\n",
       "    <tr>\n",
       "      <th>508</th>\n",
       "      <td>NK</td>\n",
       "      <td>NK</td>\n",
       "      <td>SOCS2</td>\n",
       "      <td>EPOR</td>\n",
       "      <td>0.230338</td>\n",
       "      <td>0.000000</td>\n",
       "      <td>0.199056</td>\n",
       "      <td>SOCS2</td>\n",
       "      <td>EPOR</td>\n",
       "    </tr>\n",
       "    <tr>\n",
       "      <th>509</th>\n",
       "      <td>NK</td>\n",
       "      <td>NK</td>\n",
       "      <td>GDF11</td>\n",
       "      <td>ACTR2</td>\n",
       "      <td>0.000000</td>\n",
       "      <td>0.346738</td>\n",
       "      <td>0.199056</td>\n",
       "      <td>GDF11</td>\n",
       "      <td>ACTR2</td>\n",
       "    </tr>\n",
       "  </tbody>\n",
       "</table>\n",
       "<p>4590 rows × 9 columns</p>\n",
       "</div>"
      ],
      "text/plain": [
       "    source target ligand_complex receptor_complex  ligand_means  \\\n",
       "0        B      B         LGALS9            PTPRC      0.374320   \n",
       "1        B      B           CD22            PTPRC      0.554265   \n",
       "2        B      B         LGALS1            PTPRC      0.611330   \n",
       "3        B      B         LGALS9             CD44      0.374320   \n",
       "4        B      B         ADAM10             CD44      0.119797   \n",
       "..     ...    ...            ...              ...           ...   \n",
       "505     NK     NK          CALM1            KCNN4      2.516959   \n",
       "506     NK     NK          PTPN6          CD300LF      0.652221   \n",
       "507     NK     NK          NUCB2            ERAP1      0.156951   \n",
       "508     NK     NK          SOCS2             EPOR      0.230338   \n",
       "509     NK     NK          GDF11            ACTR2      0.000000   \n",
       "\n",
       "     receptor_means  mat_mean  ligand receptor  \n",
       "0          0.761533  0.199056  LGALS9    PTPRC  \n",
       "1          0.761533  0.199056    CD22    PTPRC  \n",
       "2          0.761533  0.199056  LGALS1    PTPRC  \n",
       "3          0.655391  0.199056  LGALS9     CD44  \n",
       "4          0.655391  0.199056  ADAM10     CD44  \n",
       "..              ...       ...     ...      ...  \n",
       "505        0.000000  0.199056   CALM1    KCNN4  \n",
       "506        0.000000  0.199056   PTPN6  CD300LF  \n",
       "507        0.162055  0.199056   NUCB2    ERAP1  \n",
       "508        0.000000  0.199056   SOCS2     EPOR  \n",
       "509        0.346738  0.199056   GDF11    ACTR2  \n",
       "\n",
       "[4590 rows x 9 columns]"
      ]
     },
     "execution_count": 40,
     "metadata": {},
     "output_type": "execute_result"
    }
   ],
   "source": [
    "lr_res"
   ]
  },
  {
   "cell_type": "code",
   "execution_count": null,
   "id": "c2c3705b-2674-4ea8-87cc-fd21fbf113fc",
   "metadata": {},
   "outputs": [],
   "source": []
  },
  {
   "cell_type": "code",
   "execution_count": null,
   "id": "4b67ef23-563b-429c-9f21-0b77e4b1194a",
   "metadata": {},
   "outputs": [],
   "source": []
  },
  {
   "cell_type": "code",
   "execution_count": null,
   "id": "6edc1863-c347-4a69-b155-2d4748cb708f",
   "metadata": {},
   "outputs": [],
   "source": []
  },
  {
   "cell_type": "code",
   "execution_count": 41,
   "id": "040044a7-df97-4641-9ca3-4cb0e9816682",
   "metadata": {},
   "outputs": [
    {
     "name": "stderr",
     "output_type": "stream",
     "text": [
      "<ipython-input-41-4e1c0206a125>:9: FutureWarning: In a future version of pandas all arguments of DataFrame.drop except for the argument 'labels' will be keyword-only\n",
      "  lr_res = lr_res.merge(cols_dict[col], left_on=left_on, right_on=right_on).drop(join_key, 1)\n"
     ]
    }
   ],
   "source": [
    "for col in complex_cols:\n",
    "    # left is lr_res /w the actual column name\n",
    "    left_on = grps + [col]\n",
    "    # right is the min subunit for that column\n",
    "    join_key = col.split('_')[0] + '_min' # ligand_min or receptor_min\n",
    "    right_on = grps + [join_key]\n",
    "    \n",
    "    # Here, I join the min value and keep only those rows that match\n",
    "    lr_res = lr_res.merge(cols_dict[col], left_on=left_on, right_on=right_on).drop(join_key, 1)\n"
   ]
  },
  {
   "cell_type": "code",
   "execution_count": 42,
   "id": "f12278df-f8f2-4722-a072-c28bead4a5e8",
   "metadata": {},
   "outputs": [
    {
     "data": {
      "text/html": [
       "<div>\n",
       "<style scoped>\n",
       "    .dataframe tbody tr th:only-of-type {\n",
       "        vertical-align: middle;\n",
       "    }\n",
       "\n",
       "    .dataframe tbody tr th {\n",
       "        vertical-align: top;\n",
       "    }\n",
       "\n",
       "    .dataframe thead th {\n",
       "        text-align: right;\n",
       "    }\n",
       "</style>\n",
       "<table border=\"1\" class=\"dataframe\">\n",
       "  <thead>\n",
       "    <tr style=\"text-align: right;\">\n",
       "      <th></th>\n",
       "      <th>source</th>\n",
       "      <th>target</th>\n",
       "      <th>ligand_complex</th>\n",
       "      <th>receptor_complex</th>\n",
       "      <th>ligand_means</th>\n",
       "      <th>receptor_means</th>\n",
       "      <th>mat_mean</th>\n",
       "      <th>ligand</th>\n",
       "      <th>receptor</th>\n",
       "    </tr>\n",
       "  </thead>\n",
       "  <tbody>\n",
       "    <tr>\n",
       "      <th>0</th>\n",
       "      <td>B</td>\n",
       "      <td>B</td>\n",
       "      <td>LGALS9</td>\n",
       "      <td>PTPRC</td>\n",
       "      <td>0.374320</td>\n",
       "      <td>0.761533</td>\n",
       "      <td>0.199056</td>\n",
       "      <td>LGALS9</td>\n",
       "      <td>PTPRC</td>\n",
       "    </tr>\n",
       "    <tr>\n",
       "      <th>1</th>\n",
       "      <td>B</td>\n",
       "      <td>B</td>\n",
       "      <td>CD22</td>\n",
       "      <td>PTPRC</td>\n",
       "      <td>0.554265</td>\n",
       "      <td>0.761533</td>\n",
       "      <td>0.199056</td>\n",
       "      <td>CD22</td>\n",
       "      <td>PTPRC</td>\n",
       "    </tr>\n",
       "    <tr>\n",
       "      <th>2</th>\n",
       "      <td>B</td>\n",
       "      <td>B</td>\n",
       "      <td>LGALS1</td>\n",
       "      <td>PTPRC</td>\n",
       "      <td>0.611330</td>\n",
       "      <td>0.761533</td>\n",
       "      <td>0.199056</td>\n",
       "      <td>LGALS1</td>\n",
       "      <td>PTPRC</td>\n",
       "    </tr>\n",
       "    <tr>\n",
       "      <th>3</th>\n",
       "      <td>B</td>\n",
       "      <td>B</td>\n",
       "      <td>LGALS9</td>\n",
       "      <td>CD44</td>\n",
       "      <td>0.374320</td>\n",
       "      <td>0.655391</td>\n",
       "      <td>0.199056</td>\n",
       "      <td>LGALS9</td>\n",
       "      <td>CD44</td>\n",
       "    </tr>\n",
       "    <tr>\n",
       "      <th>4</th>\n",
       "      <td>B</td>\n",
       "      <td>B</td>\n",
       "      <td>ADAM10</td>\n",
       "      <td>CD44</td>\n",
       "      <td>0.119797</td>\n",
       "      <td>0.655391</td>\n",
       "      <td>0.199056</td>\n",
       "      <td>ADAM10</td>\n",
       "      <td>CD44</td>\n",
       "    </tr>\n",
       "    <tr>\n",
       "      <th>...</th>\n",
       "      <td>...</td>\n",
       "      <td>...</td>\n",
       "      <td>...</td>\n",
       "      <td>...</td>\n",
       "      <td>...</td>\n",
       "      <td>...</td>\n",
       "      <td>...</td>\n",
       "      <td>...</td>\n",
       "      <td>...</td>\n",
       "    </tr>\n",
       "    <tr>\n",
       "      <th>4282</th>\n",
       "      <td>NK</td>\n",
       "      <td>NK</td>\n",
       "      <td>CALM1</td>\n",
       "      <td>KCNN4</td>\n",
       "      <td>2.516959</td>\n",
       "      <td>0.000000</td>\n",
       "      <td>0.199056</td>\n",
       "      <td>CALM1</td>\n",
       "      <td>KCNN4</td>\n",
       "    </tr>\n",
       "    <tr>\n",
       "      <th>4283</th>\n",
       "      <td>NK</td>\n",
       "      <td>NK</td>\n",
       "      <td>PTPN6</td>\n",
       "      <td>CD300LF</td>\n",
       "      <td>0.652221</td>\n",
       "      <td>0.000000</td>\n",
       "      <td>0.199056</td>\n",
       "      <td>PTPN6</td>\n",
       "      <td>CD300LF</td>\n",
       "    </tr>\n",
       "    <tr>\n",
       "      <th>4284</th>\n",
       "      <td>NK</td>\n",
       "      <td>NK</td>\n",
       "      <td>NUCB2</td>\n",
       "      <td>ERAP1</td>\n",
       "      <td>0.156951</td>\n",
       "      <td>0.162055</td>\n",
       "      <td>0.199056</td>\n",
       "      <td>NUCB2</td>\n",
       "      <td>ERAP1</td>\n",
       "    </tr>\n",
       "    <tr>\n",
       "      <th>4285</th>\n",
       "      <td>NK</td>\n",
       "      <td>NK</td>\n",
       "      <td>SOCS2</td>\n",
       "      <td>EPOR</td>\n",
       "      <td>0.230338</td>\n",
       "      <td>0.000000</td>\n",
       "      <td>0.199056</td>\n",
       "      <td>SOCS2</td>\n",
       "      <td>EPOR</td>\n",
       "    </tr>\n",
       "    <tr>\n",
       "      <th>4286</th>\n",
       "      <td>NK</td>\n",
       "      <td>NK</td>\n",
       "      <td>GDF11</td>\n",
       "      <td>ACTR2</td>\n",
       "      <td>0.000000</td>\n",
       "      <td>0.346738</td>\n",
       "      <td>0.199056</td>\n",
       "      <td>GDF11</td>\n",
       "      <td>ACTR2</td>\n",
       "    </tr>\n",
       "  </tbody>\n",
       "</table>\n",
       "<p>4287 rows × 9 columns</p>\n",
       "</div>"
      ],
      "text/plain": [
       "     source target ligand_complex receptor_complex  ligand_means  \\\n",
       "0         B      B         LGALS9            PTPRC      0.374320   \n",
       "1         B      B           CD22            PTPRC      0.554265   \n",
       "2         B      B         LGALS1            PTPRC      0.611330   \n",
       "3         B      B         LGALS9             CD44      0.374320   \n",
       "4         B      B         ADAM10             CD44      0.119797   \n",
       "...     ...    ...            ...              ...           ...   \n",
       "4282     NK     NK          CALM1            KCNN4      2.516959   \n",
       "4283     NK     NK          PTPN6          CD300LF      0.652221   \n",
       "4284     NK     NK          NUCB2            ERAP1      0.156951   \n",
       "4285     NK     NK          SOCS2             EPOR      0.230338   \n",
       "4286     NK     NK          GDF11            ACTR2      0.000000   \n",
       "\n",
       "      receptor_means  mat_mean  ligand receptor  \n",
       "0           0.761533  0.199056  LGALS9    PTPRC  \n",
       "1           0.761533  0.199056    CD22    PTPRC  \n",
       "2           0.761533  0.199056  LGALS1    PTPRC  \n",
       "3           0.655391  0.199056  LGALS9     CD44  \n",
       "4           0.655391  0.199056  ADAM10     CD44  \n",
       "...              ...       ...     ...      ...  \n",
       "4282        0.000000  0.199056   CALM1    KCNN4  \n",
       "4283        0.000000  0.199056   PTPN6  CD300LF  \n",
       "4284        0.162055  0.199056   NUCB2    ERAP1  \n",
       "4285        0.000000  0.199056   SOCS2     EPOR  \n",
       "4286        0.346738  0.199056   GDF11    ACTR2  \n",
       "\n",
       "[4287 rows x 9 columns]"
      ]
     },
     "execution_count": 42,
     "metadata": {},
     "output_type": "execute_result"
    }
   ],
   "source": [
    "lr_res"
   ]
  },
  {
   "cell_type": "code",
   "execution_count": null,
   "id": "989e57ef-d71c-4724-97d3-d5043e92eaa9",
   "metadata": {},
   "outputs": [],
   "source": []
  },
  {
   "cell_type": "code",
   "execution_count": null,
   "id": "b3c5e4f9-5558-4ebf-8660-f66ba647ac10",
   "metadata": {},
   "outputs": [],
   "source": []
  },
  {
   "cell_type": "code",
   "execution_count": 43,
   "id": "96a335e4-be8e-41c1-a5da-edbbf6b2770c",
   "metadata": {},
   "outputs": [],
   "source": [
    "# More than those in LIANA - why? Duplicates?"
   ]
  },
  {
   "cell_type": "code",
   "execution_count": null,
   "id": "b9230dd4-346c-4b6f-9157-d8ec78cf60b5",
   "metadata": {},
   "outputs": [],
   "source": []
  },
  {
   "cell_type": "markdown",
   "id": "e117208d-fdce-4de6-8962-1326cdd20bf7",
   "metadata": {},
   "source": [
    "CellPhoneDB re-implement"
   ]
  },
  {
   "cell_type": "code",
   "execution_count": 44,
   "id": "d59174fa-94b1-4144-9766-4b15a727449a",
   "metadata": {},
   "outputs": [],
   "source": [
    "lr_res = lr_res.iloc[:, 0:9].copy()"
   ]
  },
  {
   "cell_type": "code",
   "execution_count": 45,
   "id": "97afd0a5-385c-4847-b9f8-a9e06203d596",
   "metadata": {},
   "outputs": [],
   "source": [
    "lr_res['lr_mean'] = lr_res[['ligand_means', 'receptor_means']].mean(1)"
   ]
  },
  {
   "cell_type": "code",
   "execution_count": null,
   "id": "5017f7b2-adc2-468f-8735-5e097a9eb113",
   "metadata": {},
   "outputs": [],
   "source": []
  },
  {
   "cell_type": "code",
   "execution_count": null,
   "id": "1e70491b-ab19-4122-92f0-32d3e7ed0c76",
   "metadata": {},
   "outputs": [],
   "source": []
  },
  {
   "cell_type": "code",
   "execution_count": 46,
   "id": "68182ef3-065c-4455-9c3d-c1262c3176cd",
   "metadata": {},
   "outputs": [],
   "source": [
    "perms = {}\n",
    "ad = adata.copy()"
   ]
  },
  {
   "cell_type": "code",
   "execution_count": 47,
   "id": "7481d6f3-3e0f-4ae0-a57d-cc72a21b71f7",
   "metadata": {},
   "outputs": [],
   "source": [
    "idx = np.arange(adata.X.shape[0])\n",
    "rng = np.random.default_rng(seed=69)"
   ]
  },
  {
   "cell_type": "code",
   "execution_count": null,
   "id": "e59528e3-e42c-4bdb-83fd-3605f3f60fb0",
   "metadata": {},
   "outputs": [],
   "source": []
  },
  {
   "cell_type": "code",
   "execution_count": 171,
   "id": "d34f08ec-3429-413f-80a5-9ceb82b4bf45",
   "metadata": {},
   "outputs": [],
   "source": [
    "n_perms = 1000"
   ]
  },
  {
   "cell_type": "code",
   "execution_count": 172,
   "id": "cb6abb7e-c621-4395-aa00-e43ab6410fc9",
   "metadata": {},
   "outputs": [],
   "source": [
    "# Perm should be a cube of nperms x ngenes x #celltypes\n",
    "perms = np.zeros((n_perms, labels.shape[0], adata.shape[1]))"
   ]
  },
  {
   "cell_type": "code",
   "execution_count": 173,
   "id": "5ed97796-601f-4e18-98ac-2e1ad363aead",
   "metadata": {},
   "outputs": [],
   "source": [
    "labels_dict = {label:adata.obs.label.isin([label]) for label in labels}"
   ]
  },
  {
   "cell_type": "code",
   "execution_count": 174,
   "id": "3a6fe4a6-f19a-4ab6-9334-df7cde9eeda6",
   "metadata": {},
   "outputs": [
    {
     "data": {
      "text/plain": [
       "'B'"
      ]
     },
     "execution_count": 174,
     "metadata": {},
     "output_type": "execute_result"
    }
   ],
   "source": [
    "labels[0]"
   ]
  },
  {
   "cell_type": "code",
   "execution_count": null,
   "id": "f451ba97-63f8-4790-9330-70fd44ac909a",
   "metadata": {},
   "outputs": [],
   "source": []
  },
  {
   "cell_type": "code",
   "execution_count": 175,
   "id": "cdfc2f85-5eea-446f-b062-21fb78105032",
   "metadata": {},
   "outputs": [],
   "source": [
    "# Assign Perms\n",
    "for perm in range(n_perms):\n",
    "    perm_idx = rng.permutation(idx)\n",
    "    perm_mat = adata.X[perm_idx].copy()\n",
    "    \n",
    "    # populate matrix /w permuted means\n",
    "    for cind in range(labels.shape[0]):\n",
    "        perms[perm, cind] = perm_mat[labels_dict[labels[cind]]].mean(0)"
   ]
  },
  {
   "cell_type": "code",
   "execution_count": null,
   "id": "76a2d2d2-3472-4a03-988d-d6feb5ea37a9",
   "metadata": {},
   "outputs": [],
   "source": []
  },
  {
   "cell_type": "code",
   "execution_count": null,
   "id": "136cb2de-a461-495e-9376-724f5bcd3b5f",
   "metadata": {},
   "outputs": [],
   "source": []
  },
  {
   "cell_type": "code",
   "execution_count": 176,
   "id": "5ffd33ac-c377-466b-bf8b-45e7bb89c8a1",
   "metadata": {},
   "outputs": [],
   "source": [
    "# if working /w complexes\n",
    "# ligand_pos = { entity:[ np.where(adata.var_names==x)[0][0] for x in entity.split('_') ] for entity in lr_res['ligand'] }\n",
    "# receptor_pos = { entity:[ np.where(adata.var_names==x)[0][0] for x in entity.split('_') ] for entity in lr_res['receptor']}"
   ]
  },
  {
   "cell_type": "code",
   "execution_count": null,
   "id": "1482ecff-5e4e-4424-bb63-9cb2aa4d597c",
   "metadata": {},
   "outputs": [],
   "source": []
  },
  {
   "cell_type": "code",
   "execution_count": 177,
   "id": "9bef03fc-85f3-45af-ab66-2dcd971a0a26",
   "metadata": {},
   "outputs": [],
   "source": [
    "ligand_pos = { entity:np.where(adata.var_names==entity)[0][0] for entity in lr_res['ligand'] }\n",
    "receptor_pos = { entity:np.where(adata.var_names==entity)[0][0] for entity in lr_res['receptor'] }"
   ]
  },
  {
   "cell_type": "code",
   "execution_count": 178,
   "id": "f4aa370a-bc2b-4f83-a0ed-aef06bc9927a",
   "metadata": {},
   "outputs": [],
   "source": [
    "labels_pos = { labels[pos]:pos for pos in range(labels.shape[0]) }"
   ]
  },
  {
   "cell_type": "code",
   "execution_count": null,
   "id": "e64f3030-f0f3-4ca9-91f0-11d380cd12a1",
   "metadata": {},
   "outputs": [],
   "source": []
  },
  {
   "cell_type": "code",
   "execution_count": null,
   "id": "8e51b6a6-b13c-4821-8271-e369ed0a8ee7",
   "metadata": {},
   "outputs": [],
   "source": []
  },
  {
   "cell_type": "code",
   "execution_count": 189,
   "id": "1ad4a13a-2889-4b9f-afa9-46a788493461",
   "metadata": {},
   "outputs": [],
   "source": [
    "simple_mean = lambda x, y: (x + y)/2\n",
    "\n",
    "def _build_ecdf(x):\n",
    "    ligand_perms = perms[:, labels_pos[x.source], ligand_pos[x.ligand]]\n",
    "    receptor_perms = perms[:, labels_pos[x.target], receptor_pos[x.receptor]]\n",
    "    \n",
    "    return ECDF(simple_mean(ligand_perms, receptor_perms))(x.lr_mean)"
   ]
  },
  {
   "cell_type": "code",
   "execution_count": null,
   "id": "b5d8bf30-3907-45b9-9597-18bc80cf8c60",
   "metadata": {},
   "outputs": [],
   "source": []
  },
  {
   "cell_type": "code",
   "execution_count": 190,
   "id": "a0ec308e-4b3a-473e-ab56-321a1ecdb9b9",
   "metadata": {},
   "outputs": [],
   "source": [
    "lr_res['p_val'] = lr_res.apply(_build_ecdf, axis=1)"
   ]
  },
  {
   "cell_type": "code",
   "execution_count": 191,
   "id": "47377e00-2a63-479d-abc7-c3880e3d509b",
   "metadata": {},
   "outputs": [
    {
     "data": {
      "text/html": [
       "<div>\n",
       "<style scoped>\n",
       "    .dataframe tbody tr th:only-of-type {\n",
       "        vertical-align: middle;\n",
       "    }\n",
       "\n",
       "    .dataframe tbody tr th {\n",
       "        vertical-align: top;\n",
       "    }\n",
       "\n",
       "    .dataframe thead th {\n",
       "        text-align: right;\n",
       "    }\n",
       "</style>\n",
       "<table border=\"1\" class=\"dataframe\">\n",
       "  <thead>\n",
       "    <tr style=\"text-align: right;\">\n",
       "      <th></th>\n",
       "      <th>source</th>\n",
       "      <th>target</th>\n",
       "      <th>ligand_complex</th>\n",
       "      <th>receptor_complex</th>\n",
       "      <th>ligand_means</th>\n",
       "      <th>receptor_means</th>\n",
       "      <th>mat_mean</th>\n",
       "      <th>ligand</th>\n",
       "      <th>receptor</th>\n",
       "      <th>lr_mean</th>\n",
       "    </tr>\n",
       "  </thead>\n",
       "  <tbody>\n",
       "    <tr>\n",
       "      <th>0</th>\n",
       "      <td>B</td>\n",
       "      <td>B</td>\n",
       "      <td>LGALS9</td>\n",
       "      <td>PTPRC</td>\n",
       "      <td>0.374320</td>\n",
       "      <td>0.761533</td>\n",
       "      <td>0.199056</td>\n",
       "      <td>LGALS9</td>\n",
       "      <td>PTPRC</td>\n",
       "      <td>0.567927</td>\n",
       "    </tr>\n",
       "    <tr>\n",
       "      <th>1</th>\n",
       "      <td>B</td>\n",
       "      <td>B</td>\n",
       "      <td>CD22</td>\n",
       "      <td>PTPRC</td>\n",
       "      <td>0.554265</td>\n",
       "      <td>0.761533</td>\n",
       "      <td>0.199056</td>\n",
       "      <td>CD22</td>\n",
       "      <td>PTPRC</td>\n",
       "      <td>0.657899</td>\n",
       "    </tr>\n",
       "    <tr>\n",
       "      <th>2</th>\n",
       "      <td>B</td>\n",
       "      <td>B</td>\n",
       "      <td>LGALS1</td>\n",
       "      <td>PTPRC</td>\n",
       "      <td>0.611330</td>\n",
       "      <td>0.761533</td>\n",
       "      <td>0.199056</td>\n",
       "      <td>LGALS1</td>\n",
       "      <td>PTPRC</td>\n",
       "      <td>0.686432</td>\n",
       "    </tr>\n",
       "    <tr>\n",
       "      <th>3</th>\n",
       "      <td>B</td>\n",
       "      <td>B</td>\n",
       "      <td>LGALS9</td>\n",
       "      <td>CD44</td>\n",
       "      <td>0.374320</td>\n",
       "      <td>0.655391</td>\n",
       "      <td>0.199056</td>\n",
       "      <td>LGALS9</td>\n",
       "      <td>CD44</td>\n",
       "      <td>0.514855</td>\n",
       "    </tr>\n",
       "    <tr>\n",
       "      <th>4</th>\n",
       "      <td>B</td>\n",
       "      <td>B</td>\n",
       "      <td>ADAM10</td>\n",
       "      <td>CD44</td>\n",
       "      <td>0.119797</td>\n",
       "      <td>0.655391</td>\n",
       "      <td>0.199056</td>\n",
       "      <td>ADAM10</td>\n",
       "      <td>CD44</td>\n",
       "      <td>0.387594</td>\n",
       "    </tr>\n",
       "    <tr>\n",
       "      <th>...</th>\n",
       "      <td>...</td>\n",
       "      <td>...</td>\n",
       "      <td>...</td>\n",
       "      <td>...</td>\n",
       "      <td>...</td>\n",
       "      <td>...</td>\n",
       "      <td>...</td>\n",
       "      <td>...</td>\n",
       "      <td>...</td>\n",
       "      <td>...</td>\n",
       "    </tr>\n",
       "    <tr>\n",
       "      <th>4282</th>\n",
       "      <td>NK</td>\n",
       "      <td>NK</td>\n",
       "      <td>CALM1</td>\n",
       "      <td>KCNN4</td>\n",
       "      <td>2.516959</td>\n",
       "      <td>0.000000</td>\n",
       "      <td>0.199056</td>\n",
       "      <td>CALM1</td>\n",
       "      <td>KCNN4</td>\n",
       "      <td>1.258479</td>\n",
       "    </tr>\n",
       "    <tr>\n",
       "      <th>4283</th>\n",
       "      <td>NK</td>\n",
       "      <td>NK</td>\n",
       "      <td>PTPN6</td>\n",
       "      <td>CD300LF</td>\n",
       "      <td>0.652221</td>\n",
       "      <td>0.000000</td>\n",
       "      <td>0.199056</td>\n",
       "      <td>PTPN6</td>\n",
       "      <td>CD300LF</td>\n",
       "      <td>0.326110</td>\n",
       "    </tr>\n",
       "    <tr>\n",
       "      <th>4284</th>\n",
       "      <td>NK</td>\n",
       "      <td>NK</td>\n",
       "      <td>NUCB2</td>\n",
       "      <td>ERAP1</td>\n",
       "      <td>0.156951</td>\n",
       "      <td>0.162055</td>\n",
       "      <td>0.199056</td>\n",
       "      <td>NUCB2</td>\n",
       "      <td>ERAP1</td>\n",
       "      <td>0.159503</td>\n",
       "    </tr>\n",
       "    <tr>\n",
       "      <th>4285</th>\n",
       "      <td>NK</td>\n",
       "      <td>NK</td>\n",
       "      <td>SOCS2</td>\n",
       "      <td>EPOR</td>\n",
       "      <td>0.230338</td>\n",
       "      <td>0.000000</td>\n",
       "      <td>0.199056</td>\n",
       "      <td>SOCS2</td>\n",
       "      <td>EPOR</td>\n",
       "      <td>0.115169</td>\n",
       "    </tr>\n",
       "    <tr>\n",
       "      <th>4286</th>\n",
       "      <td>NK</td>\n",
       "      <td>NK</td>\n",
       "      <td>GDF11</td>\n",
       "      <td>ACTR2</td>\n",
       "      <td>0.000000</td>\n",
       "      <td>0.346738</td>\n",
       "      <td>0.199056</td>\n",
       "      <td>GDF11</td>\n",
       "      <td>ACTR2</td>\n",
       "      <td>0.173369</td>\n",
       "    </tr>\n",
       "  </tbody>\n",
       "</table>\n",
       "<p>4287 rows × 10 columns</p>\n",
       "</div>"
      ],
      "text/plain": [
       "     source target ligand_complex receptor_complex  ligand_means  \\\n",
       "0         B      B         LGALS9            PTPRC      0.374320   \n",
       "1         B      B           CD22            PTPRC      0.554265   \n",
       "2         B      B         LGALS1            PTPRC      0.611330   \n",
       "3         B      B         LGALS9             CD44      0.374320   \n",
       "4         B      B         ADAM10             CD44      0.119797   \n",
       "...     ...    ...            ...              ...           ...   \n",
       "4282     NK     NK          CALM1            KCNN4      2.516959   \n",
       "4283     NK     NK          PTPN6          CD300LF      0.652221   \n",
       "4284     NK     NK          NUCB2            ERAP1      0.156951   \n",
       "4285     NK     NK          SOCS2             EPOR      0.230338   \n",
       "4286     NK     NK          GDF11            ACTR2      0.000000   \n",
       "\n",
       "      receptor_means  mat_mean  ligand receptor   lr_mean  \n",
       "0           0.761533  0.199056  LGALS9    PTPRC  0.567927  \n",
       "1           0.761533  0.199056    CD22    PTPRC  0.657899  \n",
       "2           0.761533  0.199056  LGALS1    PTPRC  0.686432  \n",
       "3           0.655391  0.199056  LGALS9     CD44  0.514855  \n",
       "4           0.655391  0.199056  ADAM10     CD44  0.387594  \n",
       "...              ...       ...     ...      ...       ...  \n",
       "4282        0.000000  0.199056   CALM1    KCNN4  1.258479  \n",
       "4283        0.000000  0.199056   PTPN6  CD300LF  0.326110  \n",
       "4284        0.162055  0.199056   NUCB2    ERAP1  0.159503  \n",
       "4285        0.000000  0.199056   SOCS2     EPOR  0.115169  \n",
       "4286        0.346738  0.199056   GDF11    ACTR2  0.173369  \n",
       "\n",
       "[4287 rows x 10 columns]"
      ]
     },
     "execution_count": 191,
     "metadata": {},
     "output_type": "execute_result"
    }
   ],
   "source": [
    "lr_res"
   ]
  },
  {
   "cell_type": "code",
   "execution_count": null,
   "id": "65063175-883a-4404-b400-5d22d6d13292",
   "metadata": {},
   "outputs": [],
   "source": []
  },
  {
   "cell_type": "code",
   "execution_count": 192,
   "id": "35971e54-e678-498c-ad04-8896ee089d7a",
   "metadata": {},
   "outputs": [
    {
     "ename": "AxisError",
     "evalue": "axis -1 is out of bounds for array of dimension 0",
     "output_type": "error",
     "traceback": [
      "\u001b[0;31m---------------------------------------------------------------------------\u001b[0m",
      "\u001b[0;31mAxisError\u001b[0m                                 Traceback (most recent call last)",
      "\u001b[0;32m<ipython-input-192-3bf2651fcbbc>\u001b[0m in \u001b[0;36m<module>\u001b[0;34m\u001b[0m\n\u001b[0;32m----> 1\u001b[0;31m \u001b[0mECDF\u001b[0m\u001b[0;34m(\u001b[0m\u001b[0mx\u001b[0m\u001b[0;34m[\u001b[0m\u001b[0;36m1\u001b[0m\u001b[0;34m]\u001b[0m\u001b[0;34m,\u001b[0m \u001b[0mside\u001b[0m\u001b[0;34m=\u001b[0m\u001b[0;34m'right'\u001b[0m\u001b[0;34m)\u001b[0m\u001b[0;34m(\u001b[0m\u001b[0;36m0.657899\u001b[0m\u001b[0;34m)\u001b[0m\u001b[0;34m\u001b[0m\u001b[0;34m\u001b[0m\u001b[0m\n\u001b[0m",
      "\u001b[0;32m~/.local/lib/python3.8/site-packages/statsmodels/distributions/empirical_distribution.py\u001b[0m in \u001b[0;36m__init__\u001b[0;34m(self, x, side)\u001b[0m\n\u001b[1;32m    134\u001b[0m     \u001b[0;32mdef\u001b[0m \u001b[0m__init__\u001b[0m\u001b[0;34m(\u001b[0m\u001b[0mself\u001b[0m\u001b[0;34m,\u001b[0m \u001b[0mx\u001b[0m\u001b[0;34m,\u001b[0m \u001b[0mside\u001b[0m\u001b[0;34m=\u001b[0m\u001b[0;34m'right'\u001b[0m\u001b[0;34m)\u001b[0m\u001b[0;34m:\u001b[0m\u001b[0;34m\u001b[0m\u001b[0;34m\u001b[0m\u001b[0m\n\u001b[1;32m    135\u001b[0m         \u001b[0mx\u001b[0m \u001b[0;34m=\u001b[0m \u001b[0mnp\u001b[0m\u001b[0;34m.\u001b[0m\u001b[0marray\u001b[0m\u001b[0;34m(\u001b[0m\u001b[0mx\u001b[0m\u001b[0;34m,\u001b[0m \u001b[0mcopy\u001b[0m\u001b[0;34m=\u001b[0m\u001b[0;32mTrue\u001b[0m\u001b[0;34m)\u001b[0m\u001b[0;34m\u001b[0m\u001b[0;34m\u001b[0m\u001b[0m\n\u001b[0;32m--> 136\u001b[0;31m         \u001b[0mx\u001b[0m\u001b[0;34m.\u001b[0m\u001b[0msort\u001b[0m\u001b[0;34m(\u001b[0m\u001b[0;34m)\u001b[0m\u001b[0;34m\u001b[0m\u001b[0;34m\u001b[0m\u001b[0m\n\u001b[0m\u001b[1;32m    137\u001b[0m         \u001b[0mnobs\u001b[0m \u001b[0;34m=\u001b[0m \u001b[0mlen\u001b[0m\u001b[0;34m(\u001b[0m\u001b[0mx\u001b[0m\u001b[0;34m)\u001b[0m\u001b[0;34m\u001b[0m\u001b[0;34m\u001b[0m\u001b[0m\n\u001b[1;32m    138\u001b[0m         \u001b[0my\u001b[0m \u001b[0;34m=\u001b[0m \u001b[0mnp\u001b[0m\u001b[0;34m.\u001b[0m\u001b[0mlinspace\u001b[0m\u001b[0;34m(\u001b[0m\u001b[0;36m1.\u001b[0m\u001b[0;34m/\u001b[0m\u001b[0mnobs\u001b[0m\u001b[0;34m,\u001b[0m\u001b[0;36m1\u001b[0m\u001b[0;34m,\u001b[0m\u001b[0mnobs\u001b[0m\u001b[0;34m)\u001b[0m\u001b[0;34m\u001b[0m\u001b[0;34m\u001b[0m\u001b[0m\n",
      "\u001b[0;31mAxisError\u001b[0m: axis -1 is out of bounds for array of dimension 0"
     ]
    }
   ],
   "source": [
    "ECDF(x[1], side='right')(0.657899)"
   ]
  },
  {
   "cell_type": "code",
   "execution_count": null,
   "id": "3a68b201-3168-45f1-b3e7-93c4f8bcedb0",
   "metadata": {},
   "outputs": [],
   "source": []
  },
  {
   "cell_type": "code",
   "execution_count": null,
   "id": "2c87309d-ebb2-4168-9c80-070c1646c80d",
   "metadata": {},
   "outputs": [],
   "source": []
  },
  {
   "cell_type": "code",
   "execution_count": 80,
   "id": "5c0da70e-4d27-4b4f-9e69-742b5383838d",
   "metadata": {},
   "outputs": [],
   "source": [
    "l_cind = labels_pos['B']\n",
    "l_gind = ligand_pos['LGALS9']\n",
    "r_cind = labels_pos['B']\n",
    "r_gind = receptor_pos['PTPRC']"
   ]
  },
  {
   "cell_type": "code",
   "execution_count": 103,
   "id": "a918c959-ce8a-49c8-bab5-ab8bf62eae7a",
   "metadata": {},
   "outputs": [],
   "source": [
    "ecdf = ECDF([ np.mean(np.array(perms[perm, l_cind, l_gind], perms[perm, r_cind, r_gind])) for perm in range(n_perms)])"
   ]
  },
  {
   "cell_type": "code",
   "execution_count": 133,
   "id": "c6d690bf-d310-4fa3-9b4d-734b7c0e8fb4",
   "metadata": {},
   "outputs": [
    {
     "data": {
      "text/plain": [
       "array([0.        , 0.05558536, 0.        , 0.        , 0.        ,\n",
       "       0.05558536, 0.05558536, 0.05558536, 0.        , 0.05558536,\n",
       "       0.        , 0.        , 0.        , 0.        , 0.        ,\n",
       "       0.        , 0.05558536, 0.        , 0.        , 0.        ,\n",
       "       0.        , 0.05558536, 0.        , 0.        , 0.05558536,\n",
       "       0.        , 0.        , 0.05558536, 0.        , 0.05558536,\n",
       "       0.05558536, 0.05558536, 0.        , 0.        , 0.05558536,\n",
       "       0.        , 0.        , 0.        , 0.05558536, 0.05558536,\n",
       "       0.        , 0.05558536, 0.        , 0.        , 0.05558536,\n",
       "       0.05558536, 0.        , 0.        , 0.        , 0.        ,\n",
       "       0.05558536, 0.        , 0.        , 0.05558536, 0.        ,\n",
       "       0.        , 0.        , 0.        , 0.        , 0.        ,\n",
       "       0.05558536, 0.        , 0.        , 0.        , 0.        ,\n",
       "       0.        , 0.        , 0.        , 0.        , 0.        ,\n",
       "       0.        , 0.        , 0.        , 0.        , 0.        ,\n",
       "       0.05558536, 0.        , 0.        , 0.        , 0.        ,\n",
       "       0.05558536, 0.        , 0.05558536, 0.        , 0.        ,\n",
       "       0.        , 0.        , 0.        , 0.05558536, 0.05558536,\n",
       "       0.        , 0.05558536, 0.05558536, 0.        , 0.05558536,\n",
       "       0.        , 0.05558536, 0.        , 0.        , 0.        ])"
      ]
     },
     "execution_count": 133,
     "metadata": {},
     "output_type": "execute_result"
    }
   ],
   "source": [
    "perms[:, 1, 1]"
   ]
  },
  {
   "cell_type": "code",
   "execution_count": null,
   "id": "3a46b017-b5fc-48c8-babc-eab09d690657",
   "metadata": {},
   "outputs": [],
   "source": []
  },
  {
   "cell_type": "code",
   "execution_count": 110,
   "id": "e92db388-ff41-4419-9862-a76cda6d4e6e",
   "metadata": {},
   "outputs": [
    {
     "data": {
      "text/plain": [
       "0.0"
      ]
     },
     "execution_count": 110,
     "metadata": {},
     "output_type": "execute_result"
    }
   ],
   "source": [
    "1 - ecdf(0.57)"
   ]
  },
  {
   "cell_type": "code",
   "execution_count": null,
   "id": "d726db03-5a7e-42ee-a29c-792a3d315c70",
   "metadata": {},
   "outputs": [],
   "source": []
  },
  {
   "cell_type": "code",
   "execution_count": 82,
   "id": "af996330-c281-456b-a8c9-444146c1ba41",
   "metadata": {},
   "outputs": [
    {
     "data": {
      "text/plain": [
       "0.018000000000000002"
      ]
     },
     "execution_count": 85,
     "metadata": {},
     "output_type": "execute_result"
    }
   ],
   "source": [
    "ecdf(6)"
   ]
  },
  {
   "cell_type": "code",
   "execution_count": null,
   "id": "d9af1071-de1f-4cbd-82c2-6feec4a3e09c",
   "metadata": {},
   "outputs": [],
   "source": []
  },
  {
   "cell_type": "code",
   "execution_count": null,
   "id": "9f8b08bd-ae12-40eb-8f00-9e3b0c73b164",
   "metadata": {},
   "outputs": [],
   "source": [
    "For each entitity\n",
    "    if len==0:\n",
    "        get perms \n",
    "        mean lrs\n",
    "    else:\n",
    "        get perms of all units\n",
    "        mean complexes\n",
    "        mean lrs\n",
    "    \n",
    "    build lr ecdf\n",
    "    estimate quantile"
   ]
  },
  {
   "cell_type": "code",
   "execution_count": null,
   "id": "e6fbe92c-0074-446d-882a-f93c9fa7e5ac",
   "metadata": {},
   "outputs": [],
   "source": []
  },
  {
   "cell_type": "code",
   "execution_count": null,
   "id": "98d35611-8d76-4bed-9ccc-c8662770ef24",
   "metadata": {},
   "outputs": [],
   "source": [
    "# Need index for gene and cluster"
   ]
  },
  {
   "cell_type": "code",
   "execution_count": null,
   "id": "752308fc-3234-480c-9ea5-52493a731b34",
   "metadata": {},
   "outputs": [],
   "source": []
  },
  {
   "cell_type": "code",
   "execution_count": null,
   "id": "6e2b7eb0-dc83-476c-9515-e1c4a1661754",
   "metadata": {},
   "outputs": [],
   "source": []
  },
  {
   "cell_type": "code",
   "execution_count": null,
   "id": "6311f182-aac6-487b-bbb4-fe97e8571060",
   "metadata": {},
   "outputs": [],
   "source": []
  },
  {
   "cell_type": "code",
   "execution_count": null,
   "id": "497de8b1-4129-4bf9-b7f3-85b1fd5126e5",
   "metadata": {},
   "outputs": [],
   "source": []
  },
  {
   "cell_type": "code",
   "execution_count": null,
   "id": "98d84f71-7238-4941-a72e-eb2269825ed3",
   "metadata": {},
   "outputs": [],
   "source": []
  },
  {
   "cell_type": "code",
   "execution_count": 137,
   "id": "90435b7d-36e7-40a8-a74b-a4e9a5eb695d",
   "metadata": {},
   "outputs": [],
   "source": [
    "# \n",
    "x = perms[:, 2, 3]"
   ]
  },
  {
   "cell_type": "code",
   "execution_count": 138,
   "id": "9ee61767-1106-41e7-82f9-de5383b381fc",
   "metadata": {},
   "outputs": [],
   "source": [
    "y = perms[:, 2, 4]"
   ]
  },
  {
   "cell_type": "code",
   "execution_count": null,
   "id": "867edabd-e60f-49dd-963d-0bf5a2d0fced",
   "metadata": {},
   "outputs": [],
   "source": []
  },
  {
   "cell_type": "code",
   "execution_count": null,
   "id": "56eb6858-5439-4615-b271-d906cb89df3e",
   "metadata": {},
   "outputs": [],
   "source": []
  },
  {
   "cell_type": "code",
   "execution_count": 146,
   "id": "364bb75e-3a26-4ba9-9a5c-d5adaf47421b",
   "metadata": {},
   "outputs": [],
   "source": [
    "fff = lambda x, y: (x + y)/2"
   ]
  },
  {
   "cell_type": "code",
   "execution_count": 147,
   "id": "d095c3ef-c274-4bd5-a78a-4f6e605e4f92",
   "metadata": {},
   "outputs": [
    {
     "data": {
      "text/plain": [
       "array([0.1312128 , 0.1568791 , 0.21188381, 0.12077259, 0.15260656,\n",
       "       0.15726257, 0.18429707, 0.10034341, 0.1845532 , 0.12205499,\n",
       "       0.25609324, 0.21325523, 0.25137904, 0.14172405, 0.13633916,\n",
       "       0.16730745, 0.17556587, 0.17443054, 0.13275182, 0.2298011 ,\n",
       "       0.19006831, 0.25452776, 0.22986533, 0.15632454, 0.20401162,\n",
       "       0.23902453, 0.16384661, 0.19606207, 0.14813   , 0.30211908,\n",
       "       0.12326709, 0.12691608, 0.16006652, 0.20631939, 0.09543464,\n",
       "       0.25064391, 0.1790577 , 0.18677406, 0.18028195, 0.2132177 ,\n",
       "       0.19737856, 0.21813779, 0.14635746, 0.1044095 , 0.14530621,\n",
       "       0.28101332, 0.21568239, 0.24288333, 0.1494697 , 0.17016404,\n",
       "       0.23392531, 0.16187163, 0.20798502, 0.1426579 , 0.2144905 ,\n",
       "       0.15175229, 0.19303794, 0.23505113, 0.19037419, 0.09756741,\n",
       "       0.16208322, 0.1660434 , 0.20018185, 0.19748382, 0.20049691,\n",
       "       0.20110026, 0.25515276, 0.20403454, 0.18367359, 0.15385273,\n",
       "       0.14635903, 0.13834185, 0.22858047, 0.13893627, 0.17981256,\n",
       "       0.23466988, 0.17446721, 0.15351471, 0.1994164 , 0.26552931,\n",
       "       0.21421002, 0.2202138 , 0.24245536, 0.19665135, 0.19872406,\n",
       "       0.16974819, 0.08141142, 0.19790827, 0.02373284, 0.12102769,\n",
       "       0.16300926, 0.22114981, 0.16403788, 0.18404921, 0.13783661,\n",
       "       0.22044245, 0.16023532, 0.19114357, 0.19699002, 0.15473813])"
      ]
     },
     "execution_count": 147,
     "metadata": {},
     "output_type": "execute_result"
    }
   ],
   "source": [
    "fff(x,y)"
   ]
  },
  {
   "cell_type": "code",
   "execution_count": null,
   "id": "8587046f-f322-4d4b-a4c9-c3df867314ff",
   "metadata": {},
   "outputs": [],
   "source": []
  },
  {
   "cell_type": "code",
   "execution_count": null,
   "id": "a199d1b5-b440-4693-ba46-3e8415bf6e1f",
   "metadata": {},
   "outputs": [],
   "source": []
  },
  {
   "cell_type": "code",
   "execution_count": null,
   "id": "daa8558e-902a-4077-a94e-777ac5eb1f23",
   "metadata": {},
   "outputs": [],
   "source": [
    "perms[5]['B'].A[0][receptor_pos[0][0]['PTPRC']]"
   ]
  },
  {
   "cell_type": "code",
   "execution_count": null,
   "id": "abc8d3d5-8691-4fde-baea-89ded1546dd7",
   "metadata": {},
   "outputs": [],
   "source": []
  },
  {
   "cell_type": "code",
   "execution_count": null,
   "id": "67ceb21d-0cf4-49e8-8526-e8d21be3258d",
   "metadata": {},
   "outputs": [],
   "source": [
    "pos_dict[1]"
   ]
  },
  {
   "cell_type": "code",
   "execution_count": null,
   "id": "238b9dc5-206a-471f-8ef5-292139ef9f8c",
   "metadata": {},
   "outputs": [],
   "source": []
  },
  {
   "cell_type": "code",
   "execution_count": null,
   "id": "edc1aeae-cdc7-4171-a92a-443730c8a253",
   "metadata": {},
   "outputs": [],
   "source": [
    "lr_res"
   ]
  },
  {
   "cell_type": "code",
   "execution_count": null,
   "id": "5f12924a-9067-498a-8c8c-017128761805",
   "metadata": {},
   "outputs": [],
   "source": [
    "perms[0]x"
   ]
  },
  {
   "cell_type": "code",
   "execution_count": null,
   "id": "ef92b637-e6e9-44ef-bf22-a005e52802b2",
   "metadata": {},
   "outputs": [],
   "source": []
  },
  {
   "cell_type": "code",
   "execution_count": null,
   "id": "032407bc-0822-4c00-8043-22729f6e263d",
   "metadata": {},
   "outputs": [],
   "source": []
  },
  {
   "cell_type": "code",
   "execution_count": null,
   "id": "4db0ae83-910e-4e1d-a441-6e6ee243e0ef",
   "metadata": {},
   "outputs": [],
   "source": [
    "np.where(adata.var_names=='ACVR1B')[0][0]"
   ]
  },
  {
   "cell_type": "code",
   "execution_count": null,
   "id": "d56d906d-d6a7-4804-9630-2e655d7eb1ed",
   "metadata": {},
   "outputs": [],
   "source": []
  },
  {
   "cell_type": "code",
   "execution_count": null,
   "id": "663afcab-27e9-4258-865d-7c08515a3e82",
   "metadata": {},
   "outputs": [],
   "source": [
    "# Create a numpy array from a list of numbers\n",
    "arr = np.array([11, 12, 13, 14, 15, 16, 17, 15, 11, 12, 14, 15, 16, 17])\n",
    "# Get the index of elements with value less than 16 and greater than 12\n",
    "result = np.where((arr > 12) & (arr < 16))"
   ]
  },
  {
   "cell_type": "code",
   "execution_count": null,
   "id": "c16c71ea-bd51-488b-a4ff-7c393e0d24d6",
   "metadata": {},
   "outputs": [],
   "source": [
    "result"
   ]
  },
  {
   "cell_type": "code",
   "execution_count": null,
   "id": "15bb17eb-1696-44c9-86a3-622beabfb53b",
   "metadata": {},
   "outputs": [],
   "source": []
  },
  {
   "cell_type": "code",
   "execution_count": null,
   "id": "3fa56faf-345a-459b-a1e2-9245dce904d1",
   "metadata": {},
   "outputs": [],
   "source": []
  },
  {
   "cell_type": "markdown",
   "id": "ad90bd7e-5c3f-4dd6-858c-404b6fb261f3",
   "metadata": {},
   "source": []
  },
  {
   "cell_type": "code",
   "execution_count": null,
   "id": "35131ea2-a40b-4439-adb1-3056aab89c70",
   "metadata": {},
   "outputs": [],
   "source": [
    "perms[0]['B']"
   ]
  },
  {
   "cell_type": "code",
   "execution_count": null,
   "id": "524c589d-b5b7-4b52-8ed4-6705bd0c1eae",
   "metadata": {},
   "outputs": [],
   "source": []
  },
  {
   "cell_type": "code",
   "execution_count": null,
   "id": "c8dec46f-e8ed-4e53-837a-7e6b35a2851c",
   "metadata": {},
   "outputs": [],
   "source": [
    "entities"
   ]
  },
  {
   "cell_type": "code",
   "execution_count": null,
   "id": "53e27472-c3f3-4a5d-89bf-1791786b68eb",
   "metadata": {},
   "outputs": [],
   "source": []
  },
  {
   "cell_type": "code",
   "execution_count": null,
   "id": "bd98cd8e-5681-4107-b749-c79014a81b39",
   "metadata": {},
   "outputs": [],
   "source": []
  },
  {
   "cell_type": "code",
   "execution_count": null,
   "id": "c1b725ab-b46c-451c-a16b-372a96dee3d4",
   "metadata": {},
   "outputs": [],
   "source": [
    "perms[0]"
   ]
  },
  {
   "cell_type": "code",
   "execution_count": null,
   "id": "d39eb3b4-35d0-4f07-bf3b-81685bdc6082",
   "metadata": {},
   "outputs": [],
   "source": []
  },
  {
   "cell_type": "code",
   "execution_count": null,
   "id": "556c2626-39cd-4376-bb6a-6bd6c5d5b1f1",
   "metadata": {},
   "outputs": [],
   "source": [
    "adata.var_names"
   ]
  },
  {
   "cell_type": "code",
   "execution_count": null,
   "id": "24fbd8cb-8974-4c90-b0f0-cebbb26589c1",
   "metadata": {},
   "outputs": [],
   "source": []
  },
  {
   "cell_type": "code",
   "execution_count": null,
   "id": "9936552e-2c66-4936-9700-ec27a4f4665e",
   "metadata": {},
   "outputs": [],
   "source": [
    "perms[0]['B']"
   ]
  },
  {
   "cell_type": "code",
   "execution_count": null,
   "id": "a5fa8a86-133a-4d6c-ba52-8ea8c7a60da8",
   "metadata": {},
   "outputs": [],
   "source": []
  },
  {
   "cell_type": "code",
   "execution_count": null,
   "id": "e9771b02-8124-4c0d-926e-79775cf7d678",
   "metadata": {},
   "outputs": [],
   "source": []
  },
  {
   "cell_type": "code",
   "execution_count": null,
   "id": "ea0fc883-836c-4196-a22c-9568a3e73d15",
   "metadata": {},
   "outputs": [],
   "source": []
  },
  {
   "cell_type": "code",
   "execution_count": null,
   "id": "2bb2f07c-6ed4-446d-aff7-bcfea2131ab0",
   "metadata": {},
   "outputs": [],
   "source": [
    "from statsmodels.distributions.empirical_distribution import ECDF"
   ]
  },
  {
   "cell_type": "code",
   "execution_count": null,
   "id": "cf1139a3-0ace-44d6-a5fe-cfe4d1c6fd43",
   "metadata": {},
   "outputs": [],
   "source": [
    "ec = ECDF(perms[perm]['a'])"
   ]
  },
  {
   "cell_type": "code",
   "execution_count": null,
   "id": "fcc4487f-aabb-4042-8038-53ed23e058ea",
   "metadata": {},
   "outputs": [],
   "source": []
  },
  {
   "cell_type": "markdown",
   "id": "af777f3d-ab87-4d5d-b971-4626e473f9ad",
   "metadata": {},
   "source": [
    "Calculate means_sums for NATMI"
   ]
  },
  {
   "cell_type": "code",
   "execution_count": null,
   "id": "9550bd42-7277-49cc-8327-760e9de11a9e",
   "metadata": {},
   "outputs": [],
   "source": [
    "def _sum_means(lr_res, what, on):\n",
    "    return lr_res.join(lr_res.groupby(on)[what].sum(), on=on, rsuffix='_sums')"
   ]
  },
  {
   "cell_type": "code",
   "execution_count": null,
   "id": "7dc0a1b9-8cf7-4c5e-bc00-c2120688f332",
   "metadata": {},
   "outputs": [],
   "source": [
    "lr_res = _sum_means(lr_res, what='ligand_means', on=['ligand_complex', 'receptor_complex', 'target'])\n",
    "lr_res = _sum_means(lr_res, what='receptor_means', on=['ligand_complex', 'receptor_complex', 'source'])"
   ]
  },
  {
   "cell_type": "code",
   "execution_count": null,
   "id": "c3c7ee5c-eb77-4d85-8ec6-937310f57c68",
   "metadata": {},
   "outputs": [],
   "source": [
    "lr_res"
   ]
  },
  {
   "cell_type": "code",
   "execution_count": null,
   "id": "4fec8680-eb70-45d4-b579-e50a52e2f1a0",
   "metadata": {},
   "outputs": [],
   "source": []
  },
  {
   "cell_type": "code",
   "execution_count": null,
   "id": "0ae3dac3-1d23-46d8-9cc8-5535869a9132",
   "metadata": {},
   "outputs": [],
   "source": []
  },
  {
   "cell_type": "markdown",
   "id": "17ecacf8-69af-4374-abef-980eb8907213",
   "metadata": {},
   "source": [
    "NATMI fun"
   ]
  },
  {
   "cell_type": "code",
   "execution_count": null,
   "id": "b0de08ef-c0eb-4c9c-8ee0-7764e54b5bb4",
   "metadata": {},
   "outputs": [],
   "source": [
    "def _natmi_score(x):\n",
    "    lig = (x.ligand_means / x.ligand_means_sums)\n",
    "    rec = (x.receptor_means / x.receptor_means_sums)\n",
    "    return  lig * rec"
   ]
  },
  {
   "cell_type": "code",
   "execution_count": null,
   "id": "abe9762f-2491-46d8-88eb-143750d83fe6",
   "metadata": {},
   "outputs": [],
   "source": [
    "lr_res['edge_specificity'] = lr_res.apply(_natmi_score, axis=1)"
   ]
  },
  {
   "cell_type": "code",
   "execution_count": null,
   "id": "62988853-9c20-4fa6-a0fc-1bbb75e17026",
   "metadata": {},
   "outputs": [],
   "source": [
    "lr_res.sort_values('edge_specificity', ascending=False)"
   ]
  },
  {
   "cell_type": "code",
   "execution_count": null,
   "id": "9aa1ecbb-c2d0-48fa-848a-c9d6320f1875",
   "metadata": {},
   "outputs": [],
   "source": []
  },
  {
   "cell_type": "markdown",
   "id": "7ec44baa-0cd3-4eb6-9f7b-a5e325b6f692",
   "metadata": {},
   "source": [
    "SCA re-implement"
   ]
  },
  {
   "cell_type": "code",
   "execution_count": null,
   "id": "dd211f7b-5e44-40f1-9cd7-763a4e5126a4",
   "metadata": {},
   "outputs": [],
   "source": [
    "def _sca_score(x):\n",
    "    lr_sqrt = np.sqrt(x.ligand_means) * np.sqrt(x.receptor_means)\n",
    "    return lr_sqrt / (lr_sqrt + x.mat_mean)"
   ]
  },
  {
   "cell_type": "code",
   "execution_count": null,
   "id": "bcc99224-be25-4436-bf8a-91feb025f6b2",
   "metadata": {},
   "outputs": [],
   "source": [
    "lr_res['lrscore'] = lr_res.apply(_sca_score, axis=1)"
   ]
  },
  {
   "cell_type": "code",
   "execution_count": null,
   "id": "b13f13c6-950b-4b25-a97b-b3f70d324fd2",
   "metadata": {},
   "outputs": [],
   "source": [
    "lr_res.sort_values('lrscore', ascending=False)"
   ]
  },
  {
   "cell_type": "code",
   "execution_count": null,
   "id": "79a80f33-f767-454c-80aa-d70f70901311",
   "metadata": {},
   "outputs": [],
   "source": []
  },
  {
   "cell_type": "code",
   "execution_count": null,
   "id": "624f4e28-2df5-4ed5-b393-7dc4b487d48a",
   "metadata": {},
   "outputs": [],
   "source": [
    "lr_res[(lr_res.ligand_complex=='TGFB1') & (lr_res.receptor_complex=='ACVR1_TGFBR1_TGFBR2')].sort_values('lrscore', ascending=False)"
   ]
  },
  {
   "cell_type": "code",
   "execution_count": null,
   "id": "6d371de9-7e14-4518-b252-a0ba7f65ebcc",
   "metadata": {},
   "outputs": [],
   "source": []
  },
  {
   "cell_type": "code",
   "execution_count": null,
   "id": "d7d09934-aeec-429c-8a93-a8d1950896c4",
   "metadata": {},
   "outputs": [],
   "source": []
  },
  {
   "cell_type": "code",
   "execution_count": null,
   "id": "5bd80a15-628a-404f-bd03-e8023f8d06d3",
   "metadata": {},
   "outputs": [],
   "source": []
  },
  {
   "cell_type": "code",
   "execution_count": null,
   "id": "4a340009-5dfc-4056-9228-6e47530955c8",
   "metadata": {},
   "outputs": [],
   "source": []
  },
  {
   "cell_type": "markdown",
   "id": "a67d9786-388a-4c8d-b868-5539a3602f5c",
   "metadata": {},
   "source": [
    "logFC re-implement"
   ]
  },
  {
   "cell_type": "code",
   "execution_count": null,
   "id": "0699d6ec-68cb-4b49-84c0-d2722d40e90e",
   "metadata": {},
   "outputs": [],
   "source": [
    "lr_res['logfc'] = lr_res[['ligand_logfoldchanges', 'receptor_logfoldchanges']].mean(1)"
   ]
  },
  {
   "cell_type": "code",
   "execution_count": null,
   "id": "51064b93-983f-4c16-adb9-ca54a2e1cb62",
   "metadata": {},
   "outputs": [],
   "source": []
  },
  {
   "cell_type": "code",
   "execution_count": null,
   "id": "b3482e1c-c433-4712-bf1d-ba0494c0a314",
   "metadata": {},
   "outputs": [],
   "source": [
    "lr_res.sort_values(by='logfc', key=abs, ascending=False)"
   ]
  },
  {
   "cell_type": "code",
   "execution_count": null,
   "id": "fab2e516-7f93-4850-9907-2deaa2650c73",
   "metadata": {},
   "outputs": [],
   "source": []
  },
  {
   "cell_type": "markdown",
   "id": "7fb95f6b-db28-494b-83f8-de6b7c9b2048",
   "metadata": {},
   "source": [
    "Re-implement Connectome"
   ]
  },
  {
   "cell_type": "code",
   "execution_count": null,
   "id": "a3d0a012-69e9-47c6-bb48-66641647cea8",
   "metadata": {},
   "outputs": [],
   "source": [
    "lr_res['edge_weight'] = lr_res[['ligand_zscores', 'receptor_zscores']].mean(1)"
   ]
  },
  {
   "cell_type": "code",
   "execution_count": null,
   "id": "c95a783e-52d8-44e8-b735-bbe54bef1972",
   "metadata": {},
   "outputs": [],
   "source": []
  },
  {
   "cell_type": "markdown",
   "id": "46d31f0a-883c-48c3-9f5b-ba58bcfa2182",
   "metadata": {},
   "source": [
    "Custom min0 function:\n"
   ]
  },
  {
   "cell_type": "code",
   "execution_count": null,
   "id": "194bc6c1-ca02-4377-94e5-de5a120311ec",
   "metadata": {},
   "outputs": [],
   "source": [
    "# Importing reduce for \n",
    "# rolling computations\n",
    "from functools import reduce\n",
    "  \n",
    "# define a Custom aggregation \n",
    "# function for finding total\n",
    "def mean0(series):\n",
    "      return reduce(lambda x, y:0  if 0 in (x, y) else (x + y), series)"
   ]
  },
  {
   "cell_type": "code",
   "execution_count": null,
   "id": "cf18dc18-2a27-4191-bb2f-161e1539266c",
   "metadata": {},
   "outputs": [],
   "source": []
  }
 ],
 "metadata": {
  "kernelspec": {
   "display_name": "liana-py",
   "language": "python",
   "name": "liana-py"
  },
  "language_info": {
   "codemirror_mode": {
    "name": "ipython",
    "version": 3
   },
   "file_extension": ".py",
   "mimetype": "text/x-python",
   "name": "python",
   "nbconvert_exporter": "python",
   "pygments_lexer": "ipython3",
   "version": "3.8.8"
  }
 },
 "nbformat": 4,
 "nbformat_minor": 5
}
