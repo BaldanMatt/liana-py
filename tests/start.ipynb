{
 "cells": [
  {
   "cell_type": "code",
   "execution_count": 1,
   "id": "4a6561fa-18d6-459b-a010-51b7d9fae1d4",
   "metadata": {},
   "outputs": [],
   "source": [
    "import scanpy as sc\n",
    "from scipy.stats import zscore\n",
    "import pandas as pd\n",
    "import numpy as np\n",
    "import decoupler as dc\n",
    "import pickle"
   ]
  },
  {
   "cell_type": "code",
   "execution_count": null,
   "id": "f09099d7-d439-4423-9459-8ca7219f2375",
   "metadata": {},
   "outputs": [],
   "source": []
  },
  {
   "cell_type": "markdown",
   "id": "f65dcb30-df9e-4ab9-a2f5-b2cb30ba58c0",
   "metadata": {},
   "source": [
    "Load anndata and resource"
   ]
  },
  {
   "cell_type": "code",
   "execution_count": 3,
   "id": "e7ae453c-f54f-493d-a6a5-791cc3bd0f9f",
   "metadata": {},
   "outputs": [],
   "source": [
    "adata = sc.read_h5ad(\"../test.h5ad\")"
   ]
  },
  {
   "cell_type": "code",
   "execution_count": 5,
   "id": "f10d6578-b6b1-4693-83b0-8bc4cf33b159",
   "metadata": {},
   "outputs": [],
   "source": [
    "resource = pd.read_csv(\"../consensus.csv\", index_col=False)\n",
    "resource = resource[['source_genesymbol', 'target_genesymbol']]\n",
    "resource = resource.rename(columns={'source_genesymbol':'ligand',\n",
    "                                    'target_genesymbol':'receptor'})\n",
    "resource['interaction'] = resource['ligand'] + '|' + resource['receptor']\n",
    "\n",
    "# Decomplexify\n",
    "resource = (resource.set_index('interaction')\n",
    "            .apply(lambda x: x.str.split('_'))\n",
    "            .explode(['receptor'])\n",
    "            .explode('ligand')\n",
    "            .reset_index()\n",
    "           )"
   ]
  },
  {
   "cell_type": "code",
   "execution_count": 6,
   "id": "45710509-51a3-4f62-81d7-07d4df0060ff",
   "metadata": {},
   "outputs": [],
   "source": [
    "ligands = np.unique(resource[\"ligand\"])\n",
    "receptors = np.unique(resource[\"receptor\"])\n",
    "entities = np.union1d(ligands, receptors)"
   ]
  },
  {
   "cell_type": "code",
   "execution_count": null,
   "id": "27fa42f4-b77e-49d9-a03d-875953c46c41",
   "metadata": {},
   "outputs": [],
   "source": []
  },
  {
   "cell_type": "code",
   "execution_count": 7,
   "id": "873dfdc0-8558-489c-9c3f-556902d080b9",
   "metadata": {},
   "outputs": [],
   "source": [
    "labels = adata.obs.label.cat.categories"
   ]
  },
  {
   "cell_type": "code",
   "execution_count": null,
   "id": "1ca0de50-5fcd-4137-a2e3-88d3327943bc",
   "metadata": {},
   "outputs": [],
   "source": []
  },
  {
   "cell_type": "markdown",
   "id": "e63e6674-2bc4-43e5-9cc8-be5a608fd6ea",
   "metadata": {},
   "source": [
    "Process adata"
   ]
  },
  {
   "cell_type": "code",
   "execution_count": 8,
   "id": "9feacebc-23c8-450c-beb0-fd6ce3131f9a",
   "metadata": {},
   "outputs": [],
   "source": [
    "adata.layers['counts'] = adata.X"
   ]
  },
  {
   "cell_type": "code",
   "execution_count": 9,
   "id": "75502c46-0217-402b-9b09-9253c28baad7",
   "metadata": {},
   "outputs": [],
   "source": [
    "# lognorm should be the default (expected)\n",
    "adata.X = adata.layers['logcounts']\n",
    "adata.layers['scaled'] = sc.pp.scale(adata, copy=True).X"
   ]
  },
  {
   "cell_type": "code",
   "execution_count": 10,
   "id": "46bb2ab6-c9e1-4d4d-b33f-bf81cbd88525",
   "metadata": {},
   "outputs": [],
   "source": [
    "# Get global mean for SCA before filtering\n",
    "global_mean = np.mean(adata.X)"
   ]
  },
  {
   "cell_type": "code",
   "execution_count": null,
   "id": "0773f2a3-862d-4ac5-8299-84c5e6fef47f",
   "metadata": {},
   "outputs": [],
   "source": []
  },
  {
   "cell_type": "code",
   "execution_count": 11,
   "id": "b37b2a52-7e37-4be1-ac32-457690f5bb54",
   "metadata": {},
   "outputs": [],
   "source": [
    "# Filter to only include the relevant genes\n",
    "adata = adata[:,np.intersect1d(entities, adata.var.index)]"
   ]
  },
  {
   "cell_type": "code",
   "execution_count": null,
   "id": "9eb23957-e4a8-4294-b189-11019fcc4563",
   "metadata": {},
   "outputs": [],
   "source": []
  },
  {
   "cell_type": "code",
   "execution_count": 12,
   "id": "8a5d1bd6-c510-4f11-be4a-21eefcff2540",
   "metadata": {},
   "outputs": [
    {
     "name": "stderr",
     "output_type": "stream",
     "text": [
      "/home/dbdimitrov/anaconda3/lib/python3.8/site-packages/anndata/compat/_overloaded_dict.py:106: ImplicitModificationWarning: Trying to modify attribute `._uns` of view, initializing view as actual.\n",
      "  self.data[key] = value\n",
      "/home/dbdimitrov/anaconda3/lib/python3.8/contextlib.py:120: FutureWarning: X.dtype being converted to np.float32 from float64. In the next version of anndata (0.9) conversion will not be automatic. Pass dtype explicitly to avoid this warning. Pass `AnnData(X, dtype=X.dtype, ...)` to get the future behavour.\n",
      "  next(self.gen)\n"
     ]
    }
   ],
   "source": [
    "sc.tl.rank_genes_groups(adata, 'label', method='wilcoxon')"
   ]
  },
  {
   "cell_type": "code",
   "execution_count": 13,
   "id": "d090a0bf-eda3-40b5-979c-e272aea2b60f",
   "metadata": {},
   "outputs": [],
   "source": [
    "dedict = {label:sc.get.rank_genes_groups_df(adata, label).assign(label=label).sort_values('names') for label in labels}"
   ]
  },
  {
   "cell_type": "code",
   "execution_count": null,
   "id": "d24333ac-50b3-4b40-95f8-4901e4c7879e",
   "metadata": {},
   "outputs": [],
   "source": []
  },
  {
   "cell_type": "markdown",
   "id": "e48d5d5f-ccf5-4bdc-8883-f14aeb1508fd",
   "metadata": {},
   "source": [
    "Calculate Sum and z-scores by group"
   ]
  },
  {
   "cell_type": "code",
   "execution_count": 17,
   "id": "06222d99-1a3f-4673-a865-b36ebea8d0ff",
   "metadata": {},
   "outputs": [
    {
     "data": {
      "text/plain": [
       "True"
      ]
     },
     "execution_count": 17,
     "metadata": {},
     "output_type": "execute_result"
    }
   ],
   "source": [
    "# check if all is gucci\n",
    "list(adata.var_names) == list(dedict['a']['names'])"
   ]
  },
  {
   "cell_type": "code",
   "execution_count": 18,
   "id": "34615044-79ee-4226-9486-0fca998e38b1",
   "metadata": {},
   "outputs": [],
   "source": [
    "for label in labels: \n",
    "    temp = adata[adata.obs.label.isin([label])]\n",
    "    dedict[label]['sums'] = temp.X.sum(0)\n",
    "    dedict[label]['zscores'] = temp.layers['scaled'].mean(0)"
   ]
  },
  {
   "cell_type": "code",
   "execution_count": null,
   "id": "4c6ce0c4-9dd5-4ba4-8bc9-c6e5b1d25d5b",
   "metadata": {},
   "outputs": [],
   "source": []
  },
  {
   "cell_type": "code",
   "execution_count": null,
   "id": "efe31563-2074-42b7-8d1f-b661a9c0940c",
   "metadata": {},
   "outputs": [],
   "source": []
  },
  {
   "cell_type": "markdown",
   "id": "82696774-d03f-4d01-8004-a08b77547628",
   "metadata": {},
   "source": [
    "Join Means"
   ]
  },
  {
   "cell_type": "code",
   "execution_count": 19,
   "id": "a48d899f-5a00-43f5-889f-ff26d32a9a97",
   "metadata": {},
   "outputs": [],
   "source": [
    "pairs = pd.DataFrame(np.array(np.meshgrid(labels, labels)).reshape(2, np.size(labels) * np.size(labels)).T).rename(columns={0: \"source\", 1: \"target\"})"
   ]
  },
  {
   "cell_type": "code",
   "execution_count": 20,
   "id": "14f860e2-5949-4a92-ae5c-0c7a3a930215",
   "metadata": {},
   "outputs": [],
   "source": [
    "def join_means(source, target):\n",
    "    source_stats = dedict[source].copy()\n",
    "    source_stats.columns = source_stats.columns.map(lambda x: 'ligand_' + str(x))\n",
    "    source_stats = source_stats.rename(columns={'ligand_names':'ligand', 'ligand_label':'source'})\n",
    "    \n",
    "    target_stats = dedict[target].copy()\n",
    "    target_stats.columns = target_stats.columns.map(lambda x: 'receptor_' + str(x))\n",
    "    target_stats = target_stats.rename(columns={'receptor_names':'receptor', 'receptor_label':'target'})\n",
    "    \n",
    "    bound = resource.merge(source_stats).merge(target_stats)\n",
    "    \n",
    "    return bound"
   ]
  },
  {
   "cell_type": "code",
   "execution_count": null,
   "id": "a9e1dac1-6505-42ba-abe6-4c0b7413f717",
   "metadata": {},
   "outputs": [],
   "source": []
  },
  {
   "cell_type": "code",
   "execution_count": 21,
   "id": "ad51c3e1-d138-4e9f-ac71-0a9e1f878e1d",
   "metadata": {},
   "outputs": [],
   "source": [
    "lr_res = pd.concat([join_means(source, target) for source, target in zip(pairs['source'], pairs['target'])])"
   ]
  },
  {
   "cell_type": "code",
   "execution_count": null,
   "id": "0f399140-f4e8-4e2e-af02-3568b165cfe2",
   "metadata": {},
   "outputs": [],
   "source": []
  },
  {
   "cell_type": "markdown",
   "id": "27b9ce05-f2c3-44f1-ad11-b0a3f125a9f5",
   "metadata": {},
   "source": [
    "Recomplexify"
   ]
  },
  {
   "cell_type": "code",
   "execution_count": null,
   "id": "cf284958-651c-4ac1-bca7-18c414ad20de",
   "metadata": {},
   "outputs": [],
   "source": []
  },
  {
   "cell_type": "code",
   "execution_count": null,
   "id": "32f92c2c-ab80-4b01-9b7b-0326ab4acb1b",
   "metadata": {},
   "outputs": [],
   "source": []
  },
  {
   "cell_type": "code",
   "execution_count": null,
   "id": "b1d4ad08-db69-480f-83dc-00e10f7e7e8c",
   "metadata": {},
   "outputs": [],
   "source": []
  },
  {
   "cell_type": "code",
   "execution_count": null,
   "id": "8448a5a3-f4af-411c-99d9-71060b723f03",
   "metadata": {},
   "outputs": [],
   "source": []
  },
  {
   "cell_type": "markdown",
   "id": "a67d9786-388a-4c8d-b868-5539a3602f5c",
   "metadata": {},
   "source": [
    "logFC re-implement"
   ]
  },
  {
   "cell_type": "code",
   "execution_count": 22,
   "id": "0699d6ec-68cb-4b49-84c0-d2722d40e90e",
   "metadata": {},
   "outputs": [],
   "source": [
    "lr_res['logfc'] = lr_res[['ligand_logfoldchanges', 'receptor_logfoldchanges']].mean(1)"
   ]
  },
  {
   "cell_type": "code",
   "execution_count": 23,
   "id": "b3482e1c-c433-4712-bf1d-ba0494c0a314",
   "metadata": {},
   "outputs": [
    {
     "data": {
      "text/html": [
       "<div>\n",
       "<style scoped>\n",
       "    .dataframe tbody tr th:only-of-type {\n",
       "        vertical-align: middle;\n",
       "    }\n",
       "\n",
       "    .dataframe tbody tr th {\n",
       "        vertical-align: top;\n",
       "    }\n",
       "\n",
       "    .dataframe thead th {\n",
       "        text-align: right;\n",
       "    }\n",
       "</style>\n",
       "<table border=\"1\" class=\"dataframe\">\n",
       "  <thead>\n",
       "    <tr style=\"text-align: right;\">\n",
       "      <th></th>\n",
       "      <th>interaction</th>\n",
       "      <th>ligand</th>\n",
       "      <th>receptor</th>\n",
       "      <th>ligand_scores</th>\n",
       "      <th>ligand_logfoldchanges</th>\n",
       "      <th>ligand_pvals</th>\n",
       "      <th>ligand_pvals_adj</th>\n",
       "      <th>source</th>\n",
       "      <th>ligand_sums</th>\n",
       "      <th>ligand_zscores</th>\n",
       "      <th>receptor_scores</th>\n",
       "      <th>receptor_logfoldchanges</th>\n",
       "      <th>receptor_pvals</th>\n",
       "      <th>receptor_pvals_adj</th>\n",
       "      <th>target</th>\n",
       "      <th>receptor_sums</th>\n",
       "      <th>receptor_zscores</th>\n",
       "      <th>logfc</th>\n",
       "    </tr>\n",
       "  </thead>\n",
       "  <tbody>\n",
       "    <tr>\n",
       "      <th>341</th>\n",
       "      <td>GAL|GRM7</td>\n",
       "      <td>GAL</td>\n",
       "      <td>GRM7</td>\n",
       "      <td>2.207681</td>\n",
       "      <td>0.401056</td>\n",
       "      <td>0.027266</td>\n",
       "      <td>0.581712</td>\n",
       "      <td>a</td>\n",
       "      <td>102.429787</td>\n",
       "      <td>0.299327</td>\n",
       "      <td>2.547325</td>\n",
       "      <td>0.502969</td>\n",
       "      <td>0.010855</td>\n",
       "      <td>0.581712</td>\n",
       "      <td>a</td>\n",
       "      <td>113.844604</td>\n",
       "      <td>0.398513</td>\n",
       "      <td>0.452012</td>\n",
       "    </tr>\n",
       "    <tr>\n",
       "      <th>336</th>\n",
       "      <td>CXCL1|GRM7</td>\n",
       "      <td>CXCL1</td>\n",
       "      <td>GRM7</td>\n",
       "      <td>2.800275</td>\n",
       "      <td>0.392196</td>\n",
       "      <td>0.005106</td>\n",
       "      <td>0.585040</td>\n",
       "      <td>b</td>\n",
       "      <td>127.167938</td>\n",
       "      <td>0.312154</td>\n",
       "      <td>2.547325</td>\n",
       "      <td>0.502969</td>\n",
       "      <td>0.010855</td>\n",
       "      <td>0.581712</td>\n",
       "      <td>a</td>\n",
       "      <td>113.844604</td>\n",
       "      <td>0.398513</td>\n",
       "      <td>0.447582</td>\n",
       "    </tr>\n",
       "    <tr>\n",
       "      <th>353</th>\n",
       "      <td>CXCL16|GRM7</td>\n",
       "      <td>CXCL16</td>\n",
       "      <td>GRM7</td>\n",
       "      <td>0.988332</td>\n",
       "      <td>0.346034</td>\n",
       "      <td>0.322990</td>\n",
       "      <td>0.685068</td>\n",
       "      <td>b</td>\n",
       "      <td>125.462364</td>\n",
       "      <td>0.227654</td>\n",
       "      <td>2.547325</td>\n",
       "      <td>0.502969</td>\n",
       "      <td>0.010855</td>\n",
       "      <td>0.581712</td>\n",
       "      <td>a</td>\n",
       "      <td>113.844604</td>\n",
       "      <td>0.398513</td>\n",
       "      <td>0.424501</td>\n",
       "    </tr>\n",
       "    <tr>\n",
       "      <th>1351</th>\n",
       "      <td>CGA|VIPR1</td>\n",
       "      <td>CGA</td>\n",
       "      <td>VIPR1</td>\n",
       "      <td>-1.387586</td>\n",
       "      <td>-0.296749</td>\n",
       "      <td>0.165263</td>\n",
       "      <td>0.760820</td>\n",
       "      <td>c</td>\n",
       "      <td>66.520668</td>\n",
       "      <td>-0.265662</td>\n",
       "      <td>-2.122771</td>\n",
       "      <td>-0.533992</td>\n",
       "      <td>0.033773</td>\n",
       "      <td>0.581712</td>\n",
       "      <td>a</td>\n",
       "      <td>100.511772</td>\n",
       "      <td>-0.343919</td>\n",
       "      <td>-0.415370</td>\n",
       "    </tr>\n",
       "    <tr>\n",
       "      <th>1355</th>\n",
       "      <td>GHRH|VIPR1</td>\n",
       "      <td>GHRH</td>\n",
       "      <td>VIPR1</td>\n",
       "      <td>-1.850114</td>\n",
       "      <td>-0.286289</td>\n",
       "      <td>0.064297</td>\n",
       "      <td>0.760820</td>\n",
       "      <td>c</td>\n",
       "      <td>75.305580</td>\n",
       "      <td>-0.396659</td>\n",
       "      <td>-2.122771</td>\n",
       "      <td>-0.533992</td>\n",
       "      <td>0.033773</td>\n",
       "      <td>0.581712</td>\n",
       "      <td>a</td>\n",
       "      <td>100.511772</td>\n",
       "      <td>-0.343919</td>\n",
       "      <td>-0.410140</td>\n",
       "    </tr>\n",
       "    <tr>\n",
       "      <th>...</th>\n",
       "      <td>...</td>\n",
       "      <td>...</td>\n",
       "      <td>...</td>\n",
       "      <td>...</td>\n",
       "      <td>...</td>\n",
       "      <td>...</td>\n",
       "      <td>...</td>\n",
       "      <td>...</td>\n",
       "      <td>...</td>\n",
       "      <td>...</td>\n",
       "      <td>...</td>\n",
       "      <td>...</td>\n",
       "      <td>...</td>\n",
       "      <td>...</td>\n",
       "      <td>...</td>\n",
       "      <td>...</td>\n",
       "      <td>...</td>\n",
       "      <td>...</td>\n",
       "    </tr>\n",
       "    <tr>\n",
       "      <th>593</th>\n",
       "      <td>GDF5|ACVR2A_BMPR1B</td>\n",
       "      <td>GDF5</td>\n",
       "      <td>ACVR2A</td>\n",
       "      <td>0.277517</td>\n",
       "      <td>0.111716</td>\n",
       "      <td>0.781383</td>\n",
       "      <td>0.941618</td>\n",
       "      <td>c</td>\n",
       "      <td>81.831001</td>\n",
       "      <td>0.123509</td>\n",
       "      <td>-0.424554</td>\n",
       "      <td>-0.111612</td>\n",
       "      <td>0.671162</td>\n",
       "      <td>0.918480</td>\n",
       "      <td>a</td>\n",
       "      <td>100.255318</td>\n",
       "      <td>-0.134804</td>\n",
       "      <td>0.000052</td>\n",
       "    </tr>\n",
       "    <tr>\n",
       "      <th>937</th>\n",
       "      <td>CLEC2D|KLRB1</td>\n",
       "      <td>CLEC2D</td>\n",
       "      <td>KLRB1</td>\n",
       "      <td>-1.017563</td>\n",
       "      <td>-0.103031</td>\n",
       "      <td>0.308886</td>\n",
       "      <td>0.829508</td>\n",
       "      <td>c</td>\n",
       "      <td>75.864868</td>\n",
       "      <td>-0.089887</td>\n",
       "      <td>1.018930</td>\n",
       "      <td>0.103119</td>\n",
       "      <td>0.308236</td>\n",
       "      <td>0.764089</td>\n",
       "      <td>a</td>\n",
       "      <td>114.379578</td>\n",
       "      <td>0.131088</td>\n",
       "      <td>0.000044</td>\n",
       "    </tr>\n",
       "    <tr>\n",
       "      <th>1067</th>\n",
       "      <td>WNT8B|FZD9_LRP5</td>\n",
       "      <td>WNT8B</td>\n",
       "      <td>FZD9</td>\n",
       "      <td>-0.092506</td>\n",
       "      <td>-0.031867</td>\n",
       "      <td>0.926296</td>\n",
       "      <td>0.958933</td>\n",
       "      <td>c</td>\n",
       "      <td>80.634926</td>\n",
       "      <td>-0.061871</td>\n",
       "      <td>0.370023</td>\n",
       "      <td>0.031952</td>\n",
       "      <td>0.711365</td>\n",
       "      <td>0.941264</td>\n",
       "      <td>c</td>\n",
       "      <td>79.366142</td>\n",
       "      <td>0.039840</td>\n",
       "      <td>0.000042</td>\n",
       "    </tr>\n",
       "    <tr>\n",
       "      <th>1068</th>\n",
       "      <td>WNT8B|FZD9_LRP6</td>\n",
       "      <td>WNT8B</td>\n",
       "      <td>FZD9</td>\n",
       "      <td>-0.092506</td>\n",
       "      <td>-0.031867</td>\n",
       "      <td>0.926296</td>\n",
       "      <td>0.958933</td>\n",
       "      <td>c</td>\n",
       "      <td>80.634926</td>\n",
       "      <td>-0.061871</td>\n",
       "      <td>0.370023</td>\n",
       "      <td>0.031952</td>\n",
       "      <td>0.711365</td>\n",
       "      <td>0.941264</td>\n",
       "      <td>c</td>\n",
       "      <td>79.366142</td>\n",
       "      <td>0.039840</td>\n",
       "      <td>0.000042</td>\n",
       "    </tr>\n",
       "    <tr>\n",
       "      <th>1602</th>\n",
       "      <td>IFNL1|IFNLR1_IL10RB</td>\n",
       "      <td>IFNL1</td>\n",
       "      <td>IL10RB</td>\n",
       "      <td>0.832552</td>\n",
       "      <td>0.163060</td>\n",
       "      <td>0.405098</td>\n",
       "      <td>0.850195</td>\n",
       "      <td>c</td>\n",
       "      <td>77.763565</td>\n",
       "      <td>0.191523</td>\n",
       "      <td>-0.988332</td>\n",
       "      <td>-0.163035</td>\n",
       "      <td>0.322990</td>\n",
       "      <td>0.685068</td>\n",
       "      <td>b</td>\n",
       "      <td>125.740334</td>\n",
       "      <td>-0.191133</td>\n",
       "      <td>0.000013</td>\n",
       "    </tr>\n",
       "  </tbody>\n",
       "</table>\n",
       "<p>15255 rows × 18 columns</p>\n",
       "</div>"
      ],
      "text/plain": [
       "              interaction  ligand receptor  ligand_scores  \\\n",
       "341              GAL|GRM7     GAL     GRM7       2.207681   \n",
       "336            CXCL1|GRM7   CXCL1     GRM7       2.800275   \n",
       "353           CXCL16|GRM7  CXCL16     GRM7       0.988332   \n",
       "1351            CGA|VIPR1     CGA    VIPR1      -1.387586   \n",
       "1355           GHRH|VIPR1    GHRH    VIPR1      -1.850114   \n",
       "...                   ...     ...      ...            ...   \n",
       "593    GDF5|ACVR2A_BMPR1B    GDF5   ACVR2A       0.277517   \n",
       "937          CLEC2D|KLRB1  CLEC2D    KLRB1      -1.017563   \n",
       "1067      WNT8B|FZD9_LRP5   WNT8B     FZD9      -0.092506   \n",
       "1068      WNT8B|FZD9_LRP6   WNT8B     FZD9      -0.092506   \n",
       "1602  IFNL1|IFNLR1_IL10RB   IFNL1   IL10RB       0.832552   \n",
       "\n",
       "      ligand_logfoldchanges  ligand_pvals  ligand_pvals_adj source  \\\n",
       "341                0.401056      0.027266          0.581712      a   \n",
       "336                0.392196      0.005106          0.585040      b   \n",
       "353                0.346034      0.322990          0.685068      b   \n",
       "1351              -0.296749      0.165263          0.760820      c   \n",
       "1355              -0.286289      0.064297          0.760820      c   \n",
       "...                     ...           ...               ...    ...   \n",
       "593                0.111716      0.781383          0.941618      c   \n",
       "937               -0.103031      0.308886          0.829508      c   \n",
       "1067              -0.031867      0.926296          0.958933      c   \n",
       "1068              -0.031867      0.926296          0.958933      c   \n",
       "1602               0.163060      0.405098          0.850195      c   \n",
       "\n",
       "      ligand_sums  ligand_zscores  receptor_scores  receptor_logfoldchanges  \\\n",
       "341    102.429787        0.299327         2.547325                 0.502969   \n",
       "336    127.167938        0.312154         2.547325                 0.502969   \n",
       "353    125.462364        0.227654         2.547325                 0.502969   \n",
       "1351    66.520668       -0.265662        -2.122771                -0.533992   \n",
       "1355    75.305580       -0.396659        -2.122771                -0.533992   \n",
       "...           ...             ...              ...                      ...   \n",
       "593     81.831001        0.123509        -0.424554                -0.111612   \n",
       "937     75.864868       -0.089887         1.018930                 0.103119   \n",
       "1067    80.634926       -0.061871         0.370023                 0.031952   \n",
       "1068    80.634926       -0.061871         0.370023                 0.031952   \n",
       "1602    77.763565        0.191523        -0.988332                -0.163035   \n",
       "\n",
       "      receptor_pvals  receptor_pvals_adj target  receptor_sums  \\\n",
       "341         0.010855            0.581712      a     113.844604   \n",
       "336         0.010855            0.581712      a     113.844604   \n",
       "353         0.010855            0.581712      a     113.844604   \n",
       "1351        0.033773            0.581712      a     100.511772   \n",
       "1355        0.033773            0.581712      a     100.511772   \n",
       "...              ...                 ...    ...            ...   \n",
       "593         0.671162            0.918480      a     100.255318   \n",
       "937         0.308236            0.764089      a     114.379578   \n",
       "1067        0.711365            0.941264      c      79.366142   \n",
       "1068        0.711365            0.941264      c      79.366142   \n",
       "1602        0.322990            0.685068      b     125.740334   \n",
       "\n",
       "      receptor_zscores     logfc  \n",
       "341           0.398513  0.452012  \n",
       "336           0.398513  0.447582  \n",
       "353           0.398513  0.424501  \n",
       "1351         -0.343919 -0.415370  \n",
       "1355         -0.343919 -0.410140  \n",
       "...                ...       ...  \n",
       "593          -0.134804  0.000052  \n",
       "937           0.131088  0.000044  \n",
       "1067          0.039840  0.000042  \n",
       "1068          0.039840  0.000042  \n",
       "1602         -0.191133  0.000013  \n",
       "\n",
       "[15255 rows x 18 columns]"
      ]
     },
     "execution_count": 23,
     "metadata": {},
     "output_type": "execute_result"
    }
   ],
   "source": [
    "lr_res.sort_values(by='logfc', key=abs, ascending=False)"
   ]
  },
  {
   "cell_type": "code",
   "execution_count": null,
   "id": "81cddc1e-8933-4259-8a57-12626785208c",
   "metadata": {},
   "outputs": [],
   "source": []
  },
  {
   "cell_type": "code",
   "execution_count": null,
   "id": "8605a55b-2202-4cba-b417-de712c6e82b4",
   "metadata": {},
   "outputs": [],
   "source": []
  }
 ],
 "metadata": {
  "kernelspec": {
   "display_name": "liana-py",
   "language": "python",
   "name": "liana-py"
  },
  "language_info": {
   "codemirror_mode": {
    "name": "ipython",
    "version": 3
   },
   "file_extension": ".py",
   "mimetype": "text/x-python",
   "name": "python",
   "nbconvert_exporter": "python",
   "pygments_lexer": "ipython3",
   "version": "3.8.8"
  }
 },
 "nbformat": 4,
 "nbformat_minor": 5
}
