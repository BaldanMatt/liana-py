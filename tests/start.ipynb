{
 "cells": [
  {
   "cell_type": "code",
   "execution_count": 65,
   "id": "4a6561fa-18d6-459b-a010-51b7d9fae1d4",
   "metadata": {},
   "outputs": [],
   "source": [
    "import scanpy as sc\n",
    "from scipy.stats import zscore\n",
    "import pandas as pd\n",
    "import numpy as np\n",
    "import decoupler as dc\n",
    "import pickle"
   ]
  },
  {
   "cell_type": "code",
   "execution_count": null,
   "id": "f09099d7-d439-4423-9459-8ca7219f2375",
   "metadata": {},
   "outputs": [],
   "source": []
  },
  {
   "cell_type": "markdown",
   "id": "f65dcb30-df9e-4ab9-a2f5-b2cb30ba58c0",
   "metadata": {},
   "source": [
    "Load anndata and resource"
   ]
  },
  {
   "cell_type": "code",
   "execution_count": 21,
   "id": "e7ae453c-f54f-493d-a6a5-791cc3bd0f9f",
   "metadata": {},
   "outputs": [],
   "source": [
    "adata = sc.read_h5ad(\"test.h5ad\")"
   ]
  },
  {
   "cell_type": "code",
   "execution_count": 22,
   "id": "f10d6578-b6b1-4693-83b0-8bc4cf33b159",
   "metadata": {},
   "outputs": [],
   "source": [
    "resource = pd.read_csv(\"consensus.csv\", index_col=False)\n",
    "resource = resource[['source_genesymbol', 'target_genesymbol']]\n",
    "resource = resource.rename(columns={'source_genesymbol':'ligand',\n",
    "                                    'target_genesymbol':'receptor'})\n",
    "resource['interaction'] = resource['ligand'] + '|' + resource['receptor']\n",
    "\n",
    "# Decomplexify\n",
    "resource = (resource.set_index('interaction')\n",
    "            .apply(lambda x: x.str.split('_'))\n",
    "            .explode(['receptor'])\n",
    "            .explode('ligand')\n",
    "            .reset_index()\n",
    "           )"
   ]
  },
  {
   "cell_type": "code",
   "execution_count": 23,
   "id": "45710509-51a3-4f62-81d7-07d4df0060ff",
   "metadata": {},
   "outputs": [],
   "source": [
    "ligands = np.unique(resource[\"ligand\"])\n",
    "receptors = np.unique(resource[\"receptor\"])\n",
    "entities = np.union1d(ligands, receptors)"
   ]
  },
  {
   "cell_type": "code",
   "execution_count": null,
   "id": "27fa42f4-b77e-49d9-a03d-875953c46c41",
   "metadata": {},
   "outputs": [],
   "source": []
  },
  {
   "cell_type": "code",
   "execution_count": 24,
   "id": "873dfdc0-8558-489c-9c3f-556902d080b9",
   "metadata": {},
   "outputs": [],
   "source": [
    "labels = adata.obs.label.cat.categories"
   ]
  },
  {
   "cell_type": "code",
   "execution_count": null,
   "id": "1ca0de50-5fcd-4137-a2e3-88d3327943bc",
   "metadata": {},
   "outputs": [],
   "source": []
  },
  {
   "cell_type": "markdown",
   "id": "e63e6674-2bc4-43e5-9cc8-be5a608fd6ea",
   "metadata": {},
   "source": [
    "Process adata"
   ]
  },
  {
   "cell_type": "code",
   "execution_count": 25,
   "id": "9feacebc-23c8-450c-beb0-fd6ce3131f9a",
   "metadata": {},
   "outputs": [],
   "source": [
    "adata.layers['counts'] = adata.X"
   ]
  },
  {
   "cell_type": "code",
   "execution_count": 102,
   "id": "75502c46-0217-402b-9b09-9253c28baad7",
   "metadata": {},
   "outputs": [],
   "source": [
    "# lognorm should be the default (expected)\n",
    "adata.X = adata.layers['logcounts']\n",
    "adata.layers['scaled'] = sc.pp.scale(adata, copy=True).X"
   ]
  },
  {
   "cell_type": "code",
   "execution_count": 103,
   "id": "46bb2ab6-c9e1-4d4d-b33f-bf81cbd88525",
   "metadata": {},
   "outputs": [],
   "source": [
    "# Get global mean for SCA before filtering\n",
    "global_mean = np.mean(adata.X)"
   ]
  },
  {
   "cell_type": "code",
   "execution_count": null,
   "id": "0773f2a3-862d-4ac5-8299-84c5e6fef47f",
   "metadata": {},
   "outputs": [],
   "source": []
  },
  {
   "cell_type": "code",
   "execution_count": 106,
   "id": "b37b2a52-7e37-4be1-ac32-457690f5bb54",
   "metadata": {},
   "outputs": [],
   "source": [
    "# Filter to only include the relevant genes\n",
    "adata = adata[:,np.intersect1d(entities, adata.var.index)]"
   ]
  },
  {
   "cell_type": "code",
   "execution_count": null,
   "id": "9eb23957-e4a8-4294-b189-11019fcc4563",
   "metadata": {},
   "outputs": [],
   "source": []
  },
  {
   "cell_type": "code",
   "execution_count": 107,
   "id": "8a5d1bd6-c510-4f11-be4a-21eefcff2540",
   "metadata": {},
   "outputs": [
    {
     "name": "stderr",
     "output_type": "stream",
     "text": [
      "/home/dbdimitrov/anaconda3/lib/python3.8/site-packages/anndata/compat/_overloaded_dict.py:106: ImplicitModificationWarning: Trying to modify attribute `._uns` of view, initializing view as actual.\n",
      "  self.data[key] = value\n",
      "/home/dbdimitrov/anaconda3/lib/python3.8/contextlib.py:120: FutureWarning: X.dtype being converted to np.float32 from float64. In the next version of anndata (0.9) conversion will not be automatic. Pass dtype explicitly to avoid this warning. Pass `AnnData(X, dtype=X.dtype, ...)` to get the future behavour.\n",
      "  next(self.gen)\n"
     ]
    }
   ],
   "source": [
    "sc.tl.rank_genes_groups(adata, 'label', method='wilcoxon')"
   ]
  },
  {
   "cell_type": "code",
   "execution_count": 108,
   "id": "d090a0bf-eda3-40b5-979c-e272aea2b60f",
   "metadata": {},
   "outputs": [],
   "source": [
    "dedict = {label:sc.get.rank_genes_groups_df(adata, label).assign(label=label).sort_values('names') for label in labels}"
   ]
  },
  {
   "cell_type": "code",
   "execution_count": null,
   "id": "d24333ac-50b3-4b40-95f8-4901e4c7879e",
   "metadata": {},
   "outputs": [],
   "source": []
  },
  {
   "cell_type": "code",
   "execution_count": 109,
   "id": "06222d99-1a3f-4673-a865-b36ebea8d0ff",
   "metadata": {},
   "outputs": [
    {
     "data": {
      "text/plain": [
       "True"
      ]
     },
     "execution_count": 109,
     "metadata": {},
     "output_type": "execute_result"
    }
   ],
   "source": [
    "# check if all is gucci\n",
    "list(adata.var_names) == list(dedict['a']['names'])"
   ]
  },
  {
   "cell_type": "code",
   "execution_count": null,
   "id": "f27f8103-67d8-4130-b65b-10d6a199a992",
   "metadata": {},
   "outputs": [],
   "source": []
  },
  {
   "cell_type": "code",
   "execution_count": 114,
   "id": "34615044-79ee-4226-9486-0fca998e38b1",
   "metadata": {},
   "outputs": [],
   "source": [
    "for label in labels: \n",
    "    temp = adata[adata.obs.label.isin([label])]\n",
    "    dedict[label]['sums'] = temp.X.sum(0)\n",
    "    dedict[label]['zscores'] = temp.layers['scaled'].mean(0)\n",
    "    "
   ]
  },
  {
   "cell_type": "code",
   "execution_count": 115,
   "id": "574a9632-049e-48d3-9263-ca0127a55436",
   "metadata": {},
   "outputs": [
    {
     "data": {
      "text/html": [
       "<div>\n",
       "<style scoped>\n",
       "    .dataframe tbody tr th:only-of-type {\n",
       "        vertical-align: middle;\n",
       "    }\n",
       "\n",
       "    .dataframe tbody tr th {\n",
       "        vertical-align: top;\n",
       "    }\n",
       "\n",
       "    .dataframe thead th {\n",
       "        text-align: right;\n",
       "    }\n",
       "</style>\n",
       "<table border=\"1\" class=\"dataframe\">\n",
       "  <thead>\n",
       "    <tr style=\"text-align: right;\">\n",
       "      <th></th>\n",
       "      <th>names</th>\n",
       "      <th>scores</th>\n",
       "      <th>logfoldchanges</th>\n",
       "      <th>pvals</th>\n",
       "      <th>pvals_adj</th>\n",
       "      <th>label</th>\n",
       "      <th>sums</th>\n",
       "      <th>zscores</th>\n",
       "    </tr>\n",
       "  </thead>\n",
       "  <tbody>\n",
       "    <tr>\n",
       "      <th>30</th>\n",
       "      <td>A1BG</td>\n",
       "      <td>2.122771</td>\n",
       "      <td>0.357488</td>\n",
       "      <td>0.033773</td>\n",
       "      <td>0.581712</td>\n",
       "      <td>a</td>\n",
       "      <td>106.947174</td>\n",
       "      <td>0.300579</td>\n",
       "    </tr>\n",
       "    <tr>\n",
       "      <th>540</th>\n",
       "      <td>A2M</td>\n",
       "      <td>0.000000</td>\n",
       "      <td>-0.025030</td>\n",
       "      <td>1.000000</td>\n",
       "      <td>1.000000</td>\n",
       "      <td>a</td>\n",
       "      <td>103.143761</td>\n",
       "      <td>-0.037149</td>\n",
       "    </tr>\n",
       "    <tr>\n",
       "      <th>817</th>\n",
       "      <td>ABCA1</td>\n",
       "      <td>-0.934019</td>\n",
       "      <td>-0.157689</td>\n",
       "      <td>0.350294</td>\n",
       "      <td>0.786390</td>\n",
       "      <td>a</td>\n",
       "      <td>101.881752</td>\n",
       "      <td>-0.143818</td>\n",
       "    </tr>\n",
       "    <tr>\n",
       "      <th>557</th>\n",
       "      <td>ACE</td>\n",
       "      <td>-0.084911</td>\n",
       "      <td>-0.019372</td>\n",
       "      <td>0.932332</td>\n",
       "      <td>0.965181</td>\n",
       "      <td>a</td>\n",
       "      <td>107.265755</td>\n",
       "      <td>-0.035601</td>\n",
       "    </tr>\n",
       "    <tr>\n",
       "      <th>136</th>\n",
       "      <td>ACKR1</td>\n",
       "      <td>1.443484</td>\n",
       "      <td>0.235205</td>\n",
       "      <td>0.148884</td>\n",
       "      <td>0.682272</td>\n",
       "      <td>a</td>\n",
       "      <td>110.385063</td>\n",
       "      <td>0.217979</td>\n",
       "    </tr>\n",
       "    <tr>\n",
       "      <th>...</th>\n",
       "      <td>...</td>\n",
       "      <td>...</td>\n",
       "      <td>...</td>\n",
       "      <td>...</td>\n",
       "      <td>...</td>\n",
       "      <td>...</td>\n",
       "      <td>...</td>\n",
       "      <td>...</td>\n",
       "    </tr>\n",
       "    <tr>\n",
       "      <th>928</th>\n",
       "      <td>WNT9A</td>\n",
       "      <td>-1.443484</td>\n",
       "      <td>-0.190739</td>\n",
       "      <td>0.148884</td>\n",
       "      <td>0.682272</td>\n",
       "      <td>a</td>\n",
       "      <td>107.000191</td>\n",
       "      <td>-0.219724</td>\n",
       "    </tr>\n",
       "    <tr>\n",
       "      <th>846</th>\n",
       "      <td>XCL1</td>\n",
       "      <td>-1.018930</td>\n",
       "      <td>-0.103294</td>\n",
       "      <td>0.308236</td>\n",
       "      <td>0.764089</td>\n",
       "      <td>a</td>\n",
       "      <td>99.015869</td>\n",
       "      <td>-0.211725</td>\n",
       "    </tr>\n",
       "    <tr>\n",
       "      <th>685</th>\n",
       "      <td>YBX1</td>\n",
       "      <td>-0.424554</td>\n",
       "      <td>-0.046266</td>\n",
       "      <td>0.671162</td>\n",
       "      <td>0.918480</td>\n",
       "      <td>a</td>\n",
       "      <td>106.093704</td>\n",
       "      <td>-0.065317</td>\n",
       "    </tr>\n",
       "    <tr>\n",
       "      <th>344</th>\n",
       "      <td>ZG16B</td>\n",
       "      <td>0.594376</td>\n",
       "      <td>0.087047</td>\n",
       "      <td>0.552261</td>\n",
       "      <td>0.878517</td>\n",
       "      <td>a</td>\n",
       "      <td>105.754723</td>\n",
       "      <td>0.136715</td>\n",
       "    </tr>\n",
       "    <tr>\n",
       "      <th>133</th>\n",
       "      <td>ZP3</td>\n",
       "      <td>1.443484</td>\n",
       "      <td>0.163657</td>\n",
       "      <td>0.148884</td>\n",
       "      <td>0.682272</td>\n",
       "      <td>a</td>\n",
       "      <td>110.225037</td>\n",
       "      <td>0.188867</td>\n",
       "    </tr>\n",
       "  </tbody>\n",
       "</table>\n",
       "<p>999 rows × 8 columns</p>\n",
       "</div>"
      ],
      "text/plain": [
       "     names    scores  logfoldchanges     pvals  pvals_adj label        sums  \\\n",
       "30    A1BG  2.122771        0.357488  0.033773   0.581712     a  106.947174   \n",
       "540    A2M  0.000000       -0.025030  1.000000   1.000000     a  103.143761   \n",
       "817  ABCA1 -0.934019       -0.157689  0.350294   0.786390     a  101.881752   \n",
       "557    ACE -0.084911       -0.019372  0.932332   0.965181     a  107.265755   \n",
       "136  ACKR1  1.443484        0.235205  0.148884   0.682272     a  110.385063   \n",
       "..     ...       ...             ...       ...        ...   ...         ...   \n",
       "928  WNT9A -1.443484       -0.190739  0.148884   0.682272     a  107.000191   \n",
       "846   XCL1 -1.018930       -0.103294  0.308236   0.764089     a   99.015869   \n",
       "685   YBX1 -0.424554       -0.046266  0.671162   0.918480     a  106.093704   \n",
       "344  ZG16B  0.594376        0.087047  0.552261   0.878517     a  105.754723   \n",
       "133    ZP3  1.443484        0.163657  0.148884   0.682272     a  110.225037   \n",
       "\n",
       "      zscores  \n",
       "30   0.300579  \n",
       "540 -0.037149  \n",
       "817 -0.143818  \n",
       "557 -0.035601  \n",
       "136  0.217979  \n",
       "..        ...  \n",
       "928 -0.219724  \n",
       "846 -0.211725  \n",
       "685 -0.065317  \n",
       "344  0.136715  \n",
       "133  0.188867  \n",
       "\n",
       "[999 rows x 8 columns]"
      ]
     },
     "execution_count": 115,
     "metadata": {},
     "output_type": "execute_result"
    }
   ],
   "source": [
    "dedict['a']"
   ]
  },
  {
   "cell_type": "code",
   "execution_count": null,
   "id": "4c6ce0c4-9dd5-4ba4-8bc9-c6e5b1d25d5b",
   "metadata": {},
   "outputs": [],
   "source": []
  },
  {
   "cell_type": "code",
   "execution_count": null,
   "id": "efe31563-2074-42b7-8d1f-b661a9c0940c",
   "metadata": {},
   "outputs": [],
   "source": []
  },
  {
   "cell_type": "markdown",
   "id": "82696774-d03f-4d01-8004-a08b77547628",
   "metadata": {},
   "source": [
    "Join Means"
   ]
  },
  {
   "cell_type": "code",
   "execution_count": null,
   "id": "a48d899f-5a00-43f5-889f-ff26d32a9a97",
   "metadata": {},
   "outputs": [],
   "source": [
    "pairs = pd.DataFrame(np.array(np.meshgrid(labels, labels)).reshape(2, np.size(labels) * np.size(labels)).T).rename(columns={0: \"source\", 1: \"target\"})"
   ]
  },
  {
   "cell_type": "code",
   "execution_count": null,
   "id": "14f860e2-5949-4a92-ae5c-0c7a3a930215",
   "metadata": {},
   "outputs": [],
   "source": [
    "def join_means(source, target):\n",
    "    source_stats = dedict[source].copy()\n",
    "    source_stats.columns = source_stats.columns.map(lambda x: 'ligand_' + str(x))\n",
    "    source_stats = source_stats.rename(columns={'ligand_names':'ligand', 'ligand_label':'source'})\n",
    "    \n",
    "    target_stats = dedict[target].copy()\n",
    "    target_stats.columns = target_stats.columns.map(lambda x: 'receptor_' + str(x))\n",
    "    target_stats = target_stats.rename(columns={'receptor_names':'receptor', 'receptor_label':'target'})\n",
    "    \n",
    "    bound = resource.merge(source_stats).merge(target_stats)\n",
    "    \n",
    "    return bound"
   ]
  },
  {
   "cell_type": "code",
   "execution_count": null,
   "id": "a9e1dac1-6505-42ba-abe6-4c0b7413f717",
   "metadata": {},
   "outputs": [],
   "source": []
  },
  {
   "cell_type": "code",
   "execution_count": null,
   "id": "ad51c3e1-d138-4e9f-ac71-0a9e1f878e1d",
   "metadata": {},
   "outputs": [],
   "source": [
    "lr_res = pd.concat([join_means(source, target) for source, target in zip(pairs['source'], pairs['target'])])"
   ]
  },
  {
   "cell_type": "code",
   "execution_count": null,
   "id": "0f399140-f4e8-4e2e-af02-3568b165cfe2",
   "metadata": {},
   "outputs": [],
   "source": []
  },
  {
   "cell_type": "code",
   "execution_count": null,
   "id": "b69a9be4-44c7-4a11-a8c1-41173c9c8421",
   "metadata": {},
   "outputs": [],
   "source": []
  },
  {
   "cell_type": "markdown",
   "id": "a67d9786-388a-4c8d-b868-5539a3602f5c",
   "metadata": {},
   "source": [
    "logFC re-implement"
   ]
  },
  {
   "cell_type": "code",
   "execution_count": null,
   "id": "0699d6ec-68cb-4b49-84c0-d2722d40e90e",
   "metadata": {},
   "outputs": [],
   "source": [
    "lr_res['logfc'] = lr_res[['ligand_logfoldchanges', 'receptor_logfoldchanges']].mean(1)"
   ]
  },
  {
   "cell_type": "code",
   "execution_count": null,
   "id": "b3482e1c-c433-4712-bf1d-ba0494c0a314",
   "metadata": {},
   "outputs": [],
   "source": [
    "lr_res.sort_values(by='logfc', key=abs, ascending=False)"
   ]
  },
  {
   "cell_type": "code",
   "execution_count": null,
   "id": "81cddc1e-8933-4259-8a57-12626785208c",
   "metadata": {},
   "outputs": [],
   "source": []
  }
 ],
 "metadata": {
  "kernelspec": {
   "display_name": "liana-py",
   "language": "python",
   "name": "liana-py"
  },
  "language_info": {
   "codemirror_mode": {
    "name": "ipython",
    "version": 3
   },
   "file_extension": ".py",
   "mimetype": "text/x-python",
   "name": "python",
   "nbconvert_exporter": "python",
   "pygments_lexer": "ipython3",
   "version": "3.8.8"
  }
 },
 "nbformat": 4,
 "nbformat_minor": 5
}
