{
 "cells": [
  {
   "cell_type": "code",
   "execution_count": 9,
   "id": "4a6561fa-18d6-459b-a010-51b7d9fae1d4",
   "metadata": {},
   "outputs": [],
   "source": [
    "import scanpy as sc\n",
    "import pandas as pd\n",
    "import numpy as np\n",
    "from scipy.sparse import csr_matrix"
   ]
  },
  {
   "cell_type": "code",
   "execution_count": null,
   "id": "f09099d7-d439-4423-9459-8ca7219f2375",
   "metadata": {},
   "outputs": [],
   "source": []
  },
  {
   "cell_type": "markdown",
   "id": "f65dcb30-df9e-4ab9-a2f5-b2cb30ba58c0",
   "metadata": {},
   "source": [
    "Load anndata and resource"
   ]
  },
  {
   "cell_type": "code",
   "execution_count": 17,
   "id": "1df7c90f-22b4-413a-97fc-edf39cf15481",
   "metadata": {},
   "outputs": [
    {
     "data": {
      "text/plain": [
       "<2700x32738 sparse matrix of type '<class 'numpy.float32'>'\n",
       "\twith 2286884 stored elements in Compressed Sparse Row format>"
      ]
     },
     "execution_count": 17,
     "metadata": {},
     "output_type": "execute_result"
    }
   ],
   "source": [
    "adata = sc.datasets.pbmc3k()\n",
    "adata.X"
   ]
  },
  {
   "cell_type": "code",
   "execution_count": null,
   "id": "61fe57d6-4c05-407b-b202-e55c7295673a",
   "metadata": {},
   "outputs": [],
   "source": []
  },
  {
   "cell_type": "code",
   "execution_count": null,
   "id": "a5e9e0da-9567-4710-a3d2-8e5db503e1e7",
   "metadata": {},
   "outputs": [],
   "source": []
  },
  {
   "cell_type": "code",
   "execution_count": 18,
   "id": "e7ae453c-f54f-493d-a6a5-791cc3bd0f9f",
   "metadata": {},
   "outputs": [],
   "source": [
    "adata = sc.read_h5ad(\"../test.h5ad\")"
   ]
  },
  {
   "cell_type": "code",
   "execution_count": 44,
   "id": "72e0e7c7-c33d-4e2a-be66-5d7fd48a2757",
   "metadata": {},
   "outputs": [],
   "source": [
    "adata.X = csr_matrix(adata.X.astype(np.int64))"
   ]
  },
  {
   "cell_type": "code",
   "execution_count": 45,
   "id": "60f89b92-d1e9-4e76-9696-2f185ba08ad7",
   "metadata": {},
   "outputs": [
    {
     "data": {
      "text/plain": [
       "<90x10249 sparse matrix of type '<class 'numpy.int64'>'\n",
       "\twith 103311 stored elements in Compressed Sparse Row format>"
      ]
     },
     "execution_count": 45,
     "metadata": {},
     "output_type": "execute_result"
    }
   ],
   "source": [
    "adata.X"
   ]
  },
  {
   "cell_type": "code",
   "execution_count": null,
   "id": "8dcc31ca-cdba-42d0-8aaf-f24a8e3c9ab2",
   "metadata": {},
   "outputs": [],
   "source": []
  },
  {
   "cell_type": "code",
   "execution_count": 46,
   "id": "e1e12aa1-acde-443c-bdaa-3511ba9a6be6",
   "metadata": {},
   "outputs": [
    {
     "ename": "IndexError",
     "evalue": "x must be an integer or at least 1-dimensional",
     "output_type": "error",
     "traceback": [
      "\u001b[0;31m---------------------------------------------------------------------------\u001b[0m",
      "\u001b[0;31mIndexError\u001b[0m                                Traceback (most recent call last)",
      "\u001b[0;32m<ipython-input-46-455712109f8e>\u001b[0m in \u001b[0;36m<module>\u001b[0;34m\u001b[0m\n\u001b[0;32m----> 1\u001b[0;31m \u001b[0mnp\u001b[0m\u001b[0;34m.\u001b[0m\u001b[0mrandom\u001b[0m\u001b[0;34m.\u001b[0m\u001b[0mpermutation\u001b[0m\u001b[0;34m(\u001b[0m\u001b[0madata\u001b[0m\u001b[0;34m.\u001b[0m\u001b[0mX\u001b[0m\u001b[0;34m)\u001b[0m\u001b[0;34m\u001b[0m\u001b[0;34m\u001b[0m\u001b[0m\n\u001b[0m",
      "\u001b[0;32mmtrand.pyx\u001b[0m in \u001b[0;36mnumpy.random.mtrand.RandomState.permutation\u001b[0;34m()\u001b[0m\n",
      "\u001b[0;31mIndexError\u001b[0m: x must be an integer or at least 1-dimensional"
     ]
    }
   ],
   "source": [
    "np.random.permutation(adata.X)"
   ]
  },
  {
   "cell_type": "code",
   "execution_count": null,
   "id": "92e7a13b-7af0-4aa5-afa3-51ecf4027bbd",
   "metadata": {},
   "outputs": [],
   "source": []
  },
  {
   "cell_type": "code",
   "execution_count": null,
   "id": "9b000697-d976-4ad4-8eb2-35d945ac785a",
   "metadata": {},
   "outputs": [],
   "source": []
  },
  {
   "cell_type": "code",
   "execution_count": 21,
   "id": "f10d6578-b6b1-4693-83b0-8bc4cf33b159",
   "metadata": {},
   "outputs": [],
   "source": [
    "resource = pd.read_csv(\"../consensus.csv\", index_col=False)\n",
    "resource = resource[['source_genesymbol', 'target_genesymbol']]\n",
    "resource = resource.rename(columns={'source_genesymbol':'ligand',\n",
    "                                    'target_genesymbol':'receptor'})\n",
    "resource['interaction'] = resource['ligand'] + '|' + resource['receptor']\n",
    "\n",
    "# Decomplexify\n",
    "resource = (resource.set_index('interaction')\n",
    "            .apply(lambda x: x.str.split('_'))\n",
    "            .explode(['receptor'])\n",
    "            .explode('ligand')\n",
    "            .reset_index()\n",
    "           )"
   ]
  },
  {
   "cell_type": "code",
   "execution_count": 22,
   "id": "34b7aeab-8168-41ec-b8c0-8f27d9e1fda4",
   "metadata": {},
   "outputs": [],
   "source": [
    "resource[['ligand_complex','receptor_complex']] = resource['interaction'].str.split('|',expand=True)"
   ]
  },
  {
   "cell_type": "code",
   "execution_count": null,
   "id": "c885e8d6-295c-4eec-b9a1-adeff70cd836",
   "metadata": {},
   "outputs": [],
   "source": []
  },
  {
   "cell_type": "code",
   "execution_count": null,
   "id": "45710509-51a3-4f62-81d7-07d4df0060ff",
   "metadata": {},
   "outputs": [],
   "source": [
    "ligands = np.unique(resource[\"ligand\"])\n",
    "receptors = np.unique(resource[\"receptor\"])\n",
    "entities = np.union1d(ligands, receptors)"
   ]
  },
  {
   "cell_type": "code",
   "execution_count": null,
   "id": "27fa42f4-b77e-49d9-a03d-875953c46c41",
   "metadata": {},
   "outputs": [],
   "source": []
  },
  {
   "cell_type": "code",
   "execution_count": null,
   "id": "873dfdc0-8558-489c-9c3f-556902d080b9",
   "metadata": {},
   "outputs": [],
   "source": [
    "labels = adata.obs.label.cat.categories"
   ]
  },
  {
   "cell_type": "code",
   "execution_count": null,
   "id": "29e0ad20-09bd-466d-b0c5-018013c89a7a",
   "metadata": {},
   "outputs": [],
   "source": [
    "labels"
   ]
  },
  {
   "cell_type": "code",
   "execution_count": null,
   "id": "ffb07013-9402-4a0c-b68c-ac5c338b4550",
   "metadata": {},
   "outputs": [],
   "source": []
  },
  {
   "cell_type": "code",
   "execution_count": null,
   "id": "b8444d3e-4b15-4437-a500-5b481eadc517",
   "metadata": {},
   "outputs": [],
   "source": []
  },
  {
   "cell_type": "markdown",
   "id": "e63e6674-2bc4-43e5-9cc8-be5a608fd6ea",
   "metadata": {},
   "source": [
    "Process adata"
   ]
  },
  {
   "cell_type": "code",
   "execution_count": null,
   "id": "9feacebc-23c8-450c-beb0-fd6ce3131f9a",
   "metadata": {},
   "outputs": [],
   "source": [
    "# adata.layers['counts'] = adata.X"
   ]
  },
  {
   "cell_type": "code",
   "execution_count": null,
   "id": "75502c46-0217-402b-9b09-9253c28baad7",
   "metadata": {},
   "outputs": [],
   "source": [
    "# lognorm should be the default (expected)\n",
    "adata.X = adata.layers['logcounts']\n",
    "adata.layers['scaled'] = sc.pp.scale(adata, copy=True).X"
   ]
  },
  {
   "cell_type": "code",
   "execution_count": null,
   "id": "46bb2ab6-c9e1-4d4d-b33f-bf81cbd88525",
   "metadata": {},
   "outputs": [],
   "source": [
    "# Get global mean for SCA before filtering\n",
    "mat_mean = np.mean(adata.X)"
   ]
  },
  {
   "cell_type": "code",
   "execution_count": null,
   "id": "0773f2a3-862d-4ac5-8299-84c5e6fef47f",
   "metadata": {},
   "outputs": [],
   "source": []
  },
  {
   "cell_type": "code",
   "execution_count": null,
   "id": "b37b2a52-7e37-4be1-ac32-457690f5bb54",
   "metadata": {},
   "outputs": [],
   "source": [
    "# Filter to only include the relevant genes\n",
    "adata = adata[:,np.intersect1d(entities, adata.var.index)]"
   ]
  },
  {
   "cell_type": "code",
   "execution_count": null,
   "id": "9eb23957-e4a8-4294-b189-11019fcc4563",
   "metadata": {},
   "outputs": [],
   "source": []
  },
  {
   "cell_type": "code",
   "execution_count": null,
   "id": "8a5d1bd6-c510-4f11-be4a-21eefcff2540",
   "metadata": {},
   "outputs": [],
   "source": [
    "sc.tl.rank_genes_groups(adata, 'label', method='wilcoxon')"
   ]
  },
  {
   "cell_type": "code",
   "execution_count": null,
   "id": "d090a0bf-eda3-40b5-979c-e272aea2b60f",
   "metadata": {},
   "outputs": [],
   "source": [
    "dedict = {label:sc.get.rank_genes_groups_df(adata, label).assign(label=label).sort_values('names') for label in labels}"
   ]
  },
  {
   "cell_type": "code",
   "execution_count": null,
   "id": "d24333ac-50b3-4b40-95f8-4901e4c7879e",
   "metadata": {},
   "outputs": [],
   "source": []
  },
  {
   "cell_type": "markdown",
   "id": "e48d5d5f-ccf5-4bdc-8883-f14aeb1508fd",
   "metadata": {},
   "source": [
    "Calculate Mean, Sum and z-scores by group"
   ]
  },
  {
   "cell_type": "code",
   "execution_count": null,
   "id": "06222d99-1a3f-4673-a865-b36ebea8d0ff",
   "metadata": {},
   "outputs": [],
   "source": [
    "# check if all is gucci\n",
    "list(adata.var_names) == list(dedict['B']['names'])"
   ]
  },
  {
   "cell_type": "code",
   "execution_count": null,
   "id": "23029937-82b3-4bf4-8f48-ac09453905ba",
   "metadata": {},
   "outputs": [],
   "source": []
  },
  {
   "cell_type": "code",
   "execution_count": null,
   "id": "34615044-79ee-4226-9486-0fca998e38b1",
   "metadata": {},
   "outputs": [],
   "source": [
    "for label in labels: \n",
    "    temp = adata[adata.obs.label.isin([label])].copy()\n",
    "    # dedict[label]['sums'] = temp.X.sum(0)\n",
    "    dedict[label]['means'] = temp.X.mean(0).A.flatten()\n",
    "    dedict[label]['zscores'] = temp.layers['scaled'].mean(0)"
   ]
  },
  {
   "cell_type": "code",
   "execution_count": null,
   "id": "efe31563-2074-42b7-8d1f-b661a9c0940c",
   "metadata": {},
   "outputs": [],
   "source": []
  },
  {
   "cell_type": "markdown",
   "id": "82696774-d03f-4d01-8004-a08b77547628",
   "metadata": {},
   "source": [
    "Join Means"
   ]
  },
  {
   "cell_type": "code",
   "execution_count": null,
   "id": "a48d899f-5a00-43f5-889f-ff26d32a9a97",
   "metadata": {},
   "outputs": [],
   "source": [
    "pairs = pd.DataFrame(np.array(np.meshgrid(labels, labels)).reshape(2, np.size(labels) * np.size(labels)).T).rename(columns={0: \"source\", 1: \"target\"})"
   ]
  },
  {
   "cell_type": "code",
   "execution_count": null,
   "id": "14f860e2-5949-4a92-ae5c-0c7a3a930215",
   "metadata": {},
   "outputs": [],
   "source": [
    "def join_means(source, target):\n",
    "    source_stats = dedict[source].copy()\n",
    "    source_stats.columns = source_stats.columns.map(lambda x: 'ligand_' + str(x))\n",
    "    source_stats = source_stats.rename(columns={'ligand_names':'ligand', 'ligand_label':'source'})\n",
    "    \n",
    "    target_stats = dedict[target].copy()\n",
    "    target_stats.columns = target_stats.columns.map(lambda x: 'receptor_' + str(x))\n",
    "    target_stats = target_stats.rename(columns={'receptor_names':'receptor', 'receptor_label':'target'})\n",
    "    \n",
    "    bound = resource.merge(source_stats).merge(target_stats)\n",
    "    \n",
    "    return bound"
   ]
  },
  {
   "cell_type": "code",
   "execution_count": null,
   "id": "1d3a8b10-47ca-47c2-8d02-f1a0e4b60959",
   "metadata": {},
   "outputs": [],
   "source": []
  },
  {
   "cell_type": "code",
   "execution_count": null,
   "id": "ad51c3e1-d138-4e9f-ac71-0a9e1f878e1d",
   "metadata": {},
   "outputs": [],
   "source": [
    "lr_res = pd.concat([join_means(source, target) for source, target in zip(pairs['source'], pairs['target'])])"
   ]
  },
  {
   "cell_type": "code",
   "execution_count": null,
   "id": "772b2ac6-6342-4029-b9c1-73f97ee8755a",
   "metadata": {},
   "outputs": [],
   "source": [
    "lr_res['mat_mean'] = mat_mean"
   ]
  },
  {
   "cell_type": "code",
   "execution_count": null,
   "id": "c4c22446-3f82-4750-b9fa-d21855854e79",
   "metadata": {},
   "outputs": [],
   "source": []
  },
  {
   "cell_type": "code",
   "execution_count": null,
   "id": "8038e82e-a082-46f0-89d8-a2d565b6fc4e",
   "metadata": {},
   "outputs": [],
   "source": []
  },
  {
   "cell_type": "markdown",
   "id": "6d1326e7-4437-40ed-9d65-c93ef5c1e33d",
   "metadata": {},
   "source": [
    "Recomplexify"
   ]
  },
  {
   "cell_type": "code",
   "execution_count": null,
   "id": "e38ff4f2-9159-4ea3-b3f0-ecb6deb08c07",
   "metadata": {},
   "outputs": [],
   "source": [
    "# def recomplexify(lr_res, grps, complex_cols, complex_policy = 'min'):\n",
    "\n",
    "\n",
    "# def _reduce_complexes():\n",
    "    "
   ]
  },
  {
   "cell_type": "code",
   "execution_count": null,
   "id": "647ed38d-df18-4140-b61f-341b2a389e37",
   "metadata": {},
   "outputs": [],
   "source": []
  },
  {
   "cell_type": "code",
   "execution_count": null,
   "id": "27f090b0-0d3e-44d6-a705-625377881521",
   "metadata": {},
   "outputs": [],
   "source": [
    "complex_policy = 'min'"
   ]
  },
  {
   "cell_type": "code",
   "execution_count": null,
   "id": "7f51034f-1ed1-49d6-bbae-1620b10ebd8d",
   "metadata": {},
   "outputs": [],
   "source": [
    "grps = ['source', 'target', 'ligand_complex', 'receptor_complex']"
   ]
  },
  {
   "cell_type": "code",
   "execution_count": null,
   "id": "8d955c4f-f6f7-4a08-82d4-d668bcec7caf",
   "metadata": {},
   "outputs": [],
   "source": [
    "complex_cols = ['ligand_means' , 'receptor_means'] # specific for every method"
   ]
  },
  {
   "cell_type": "code",
   "execution_count": null,
   "id": "7093e116-584c-43e9-a341-486139b18b1e",
   "metadata": {},
   "outputs": [],
   "source": [
    "add_cols = ['mat_mean']"
   ]
  },
  {
   "cell_type": "code",
   "execution_count": null,
   "id": "baf0ef98-75d7-4860-83cf-9482b10d1ce5",
   "metadata": {},
   "outputs": [],
   "source": []
  },
  {
   "cell_type": "code",
   "execution_count": null,
   "id": "324a17e5-d315-4647-9de5-7db4d0eb74d6",
   "metadata": {},
   "outputs": [],
   "source": [
    "# subset /w only means here - to be extended to all columns\n",
    "lr_res = lr_res[ grps + complex_cols + add_cols ]"
   ]
  },
  {
   "cell_type": "code",
   "execution_count": null,
   "id": "2e39a9e4-77ae-4e2b-ab0b-579d508f1347",
   "metadata": {},
   "outputs": [],
   "source": [
    "# temp = temp[[x==\"INHBA_INHBB\" for x in temp['ligand_complex']]].sort_values('receptor_complex')\n",
    "# temp = temp[[x==\"ACVR1B_ACVR2A\" for x in temp['receptor_complex']]]"
   ]
  },
  {
   "cell_type": "code",
   "execution_count": null,
   "id": "cde1930c-40a8-4376-86a5-e25285c1b913",
   "metadata": {},
   "outputs": [],
   "source": []
  },
  {
   "cell_type": "code",
   "execution_count": null,
   "id": "a8adb895-47c2-412f-b9a5-51929f217ba7",
   "metadata": {},
   "outputs": [],
   "source": [
    "lr_res = lr_res.groupby(grps)"
   ]
  },
  {
   "cell_type": "code",
   "execution_count": null,
   "id": "3058f4bd-4df3-4837-9089-af47112ad3f9",
   "metadata": {},
   "outputs": [],
   "source": [
    "lr_res.obj"
   ]
  },
  {
   "cell_type": "code",
   "execution_count": null,
   "id": "88517be0-93a4-4361-a12e-b2a977c916ce",
   "metadata": {},
   "outputs": [],
   "source": []
  },
  {
   "cell_type": "code",
   "execution_count": null,
   "id": "b1221ef5-391b-4cdc-afa7-4964e39828bc",
   "metadata": {},
   "outputs": [],
   "source": [
    "# Functions to be used to reduce the complexes\n",
    "aggs = set([complex_policy, 'min']) # set to remove if both are min"
   ]
  },
  {
   "cell_type": "code",
   "execution_count": null,
   "id": "ede8245f-a0a8-4f48-8a0c-e20df6154a2f",
   "metadata": {},
   "outputs": [],
   "source": [
    "complex_cols"
   ]
  },
  {
   "cell_type": "code",
   "execution_count": null,
   "id": "aae1e084-545d-448a-99bf-876deeaa91b9",
   "metadata": {},
   "outputs": [],
   "source": [
    "cols_dict = {}\n",
    "\n",
    "for col in complex_cols:\n",
    "    cols_dict[col] = lr_res[col].agg(aggs).reset_index().copy().\\\n",
    "    rename(columns={agg:col.split('_')[0] + '_' + agg for agg in aggs})"
   ]
  },
  {
   "cell_type": "code",
   "execution_count": null,
   "id": "9e49f68e-2c25-4dd2-8ffd-0cb14ecbc299",
   "metadata": {},
   "outputs": [],
   "source": []
  },
  {
   "cell_type": "code",
   "execution_count": null,
   "id": "7bc13f02-5ddb-4ba7-be0d-2d47f79d73d8",
   "metadata": {},
   "outputs": [],
   "source": [
    "lr_res = lr_res.obj.copy()"
   ]
  },
  {
   "cell_type": "code",
   "execution_count": null,
   "id": "e1aca9e6-e70c-4247-bce1-55918ab41666",
   "metadata": {},
   "outputs": [],
   "source": [
    "lr_res"
   ]
  },
  {
   "cell_type": "code",
   "execution_count": null,
   "id": "6edc1863-c347-4a69-b155-2d4748cb708f",
   "metadata": {},
   "outputs": [],
   "source": []
  },
  {
   "cell_type": "code",
   "execution_count": null,
   "id": "040044a7-df97-4641-9ca3-4cb0e9816682",
   "metadata": {},
   "outputs": [],
   "source": [
    "for col in complex_cols:\n",
    "    # left is lr_res /w the actual column name\n",
    "    left_on = grps + [col]\n",
    "    # right is the min subunit for that column\n",
    "    join_key = col.split('_')[0] + '_min' # ligand_min or receptor_min\n",
    "    right_on = grps + [join_key]\n",
    "    \n",
    "    # Here, I join the min value and keep only those rows that match\n",
    "    lr_res = lr_res.merge(cols_dict[col], left_on=left_on, right_on=right_on).drop(join_key, 1)\n"
   ]
  },
  {
   "cell_type": "code",
   "execution_count": null,
   "id": "c06791a7-480f-477e-a595-6cc81d8454af",
   "metadata": {},
   "outputs": [],
   "source": [
    "lr_res"
   ]
  },
  {
   "cell_type": "code",
   "execution_count": null,
   "id": "96a335e4-be8e-41c1-a5da-edbbf6b2770c",
   "metadata": {},
   "outputs": [],
   "source": [
    "# More than those in LIANA - why? Duplicates?"
   ]
  },
  {
   "cell_type": "code",
   "execution_count": null,
   "id": "b9230dd4-346c-4b6f-9157-d8ec78cf60b5",
   "metadata": {},
   "outputs": [],
   "source": []
  },
  {
   "cell_type": "code",
   "execution_count": null,
   "id": "fcc4487f-aabb-4042-8038-53ed23e058ea",
   "metadata": {},
   "outputs": [],
   "source": []
  },
  {
   "cell_type": "markdown",
   "id": "af777f3d-ab87-4d5d-b971-4626e473f9ad",
   "metadata": {},
   "source": [
    "Calculate means_sums for NATMI"
   ]
  },
  {
   "cell_type": "code",
   "execution_count": null,
   "id": "9550bd42-7277-49cc-8327-760e9de11a9e",
   "metadata": {},
   "outputs": [],
   "source": [
    "def _sum_means(lr_res, what, on):\n",
    "    return lr_res.join(lr_res.groupby(on)[what].sum(), on=on, rsuffix='_sums')"
   ]
  },
  {
   "cell_type": "code",
   "execution_count": null,
   "id": "7dc0a1b9-8cf7-4c5e-bc00-c2120688f332",
   "metadata": {},
   "outputs": [],
   "source": [
    "lr_res = _sum_means(lr_res, what='ligand_means', on=['ligand_complex', 'receptor_complex', 'target'])\n",
    "lr_res = _sum_means(lr_res, what='receptor_means', on=['ligand_complex', 'receptor_complex', 'source'])"
   ]
  },
  {
   "cell_type": "code",
   "execution_count": null,
   "id": "c3c7ee5c-eb77-4d85-8ec6-937310f57c68",
   "metadata": {},
   "outputs": [],
   "source": [
    "lr_res"
   ]
  },
  {
   "cell_type": "code",
   "execution_count": null,
   "id": "4fec8680-eb70-45d4-b579-e50a52e2f1a0",
   "metadata": {},
   "outputs": [],
   "source": []
  },
  {
   "cell_type": "code",
   "execution_count": null,
   "id": "0ae3dac3-1d23-46d8-9cc8-5535869a9132",
   "metadata": {},
   "outputs": [],
   "source": []
  },
  {
   "cell_type": "markdown",
   "id": "17ecacf8-69af-4374-abef-980eb8907213",
   "metadata": {},
   "source": [
    "NATMI fun"
   ]
  },
  {
   "cell_type": "code",
   "execution_count": null,
   "id": "b0de08ef-c0eb-4c9c-8ee0-7764e54b5bb4",
   "metadata": {},
   "outputs": [],
   "source": [
    "def _natmi_score(x):\n",
    "    lig = (x.ligand_means / x.ligand_means_sums)\n",
    "    rec = (x.receptor_means / x.receptor_means_sums)\n",
    "    return  lig * rec"
   ]
  },
  {
   "cell_type": "code",
   "execution_count": null,
   "id": "abe9762f-2491-46d8-88eb-143750d83fe6",
   "metadata": {},
   "outputs": [],
   "source": [
    "lr_res['edge_specificity'] = lr_res.apply(_natmi_score, axis=1)"
   ]
  },
  {
   "cell_type": "code",
   "execution_count": null,
   "id": "62988853-9c20-4fa6-a0fc-1bbb75e17026",
   "metadata": {},
   "outputs": [],
   "source": [
    "lr_res.sort_values('edge_specificity', ascending=False)"
   ]
  },
  {
   "cell_type": "code",
   "execution_count": null,
   "id": "9aa1ecbb-c2d0-48fa-848a-c9d6320f1875",
   "metadata": {},
   "outputs": [],
   "source": []
  },
  {
   "cell_type": "markdown",
   "id": "7ec44baa-0cd3-4eb6-9f7b-a5e325b6f692",
   "metadata": {},
   "source": [
    "SCA re-implement"
   ]
  },
  {
   "cell_type": "code",
   "execution_count": null,
   "id": "dd211f7b-5e44-40f1-9cd7-763a4e5126a4",
   "metadata": {},
   "outputs": [],
   "source": [
    "def _sca_score(x):\n",
    "    lr_sqrt = np.sqrt(x.ligand_means) * np.sqrt(x.receptor_means)\n",
    "    return lr_sqrt / (lr_sqrt + x.mat_mean)"
   ]
  },
  {
   "cell_type": "code",
   "execution_count": null,
   "id": "bcc99224-be25-4436-bf8a-91feb025f6b2",
   "metadata": {},
   "outputs": [],
   "source": [
    "lr_res['lrscore'] = lr_res.apply(_sca_score, axis=1)"
   ]
  },
  {
   "cell_type": "code",
   "execution_count": null,
   "id": "b13f13c6-950b-4b25-a97b-b3f70d324fd2",
   "metadata": {},
   "outputs": [],
   "source": [
    "lr_res.sort_values('lrscore', ascending=False)"
   ]
  },
  {
   "cell_type": "code",
   "execution_count": null,
   "id": "79a80f33-f767-454c-80aa-d70f70901311",
   "metadata": {},
   "outputs": [],
   "source": []
  },
  {
   "cell_type": "code",
   "execution_count": null,
   "id": "624f4e28-2df5-4ed5-b393-7dc4b487d48a",
   "metadata": {},
   "outputs": [],
   "source": [
    "lr_res[(lr_res.ligand_complex=='TGFB1') & (lr_res.receptor_complex=='ACVR1_TGFBR1_TGFBR2')].sort_values('lrscore', ascending=False)"
   ]
  },
  {
   "cell_type": "code",
   "execution_count": null,
   "id": "6d371de9-7e14-4518-b252-a0ba7f65ebcc",
   "metadata": {},
   "outputs": [],
   "source": []
  },
  {
   "cell_type": "code",
   "execution_count": null,
   "id": "d7d09934-aeec-429c-8a93-a8d1950896c4",
   "metadata": {},
   "outputs": [],
   "source": []
  },
  {
   "cell_type": "markdown",
   "id": "e117208d-fdce-4de6-8962-1326cdd20bf7",
   "metadata": {},
   "source": [
    "CellPhoneDB re-implement"
   ]
  },
  {
   "cell_type": "code",
   "execution_count": null,
   "id": "d59174fa-94b1-4144-9766-4b15a727449a",
   "metadata": {},
   "outputs": [],
   "source": [
    "temp = lr_res.iloc[:, 0:6].copy()"
   ]
  },
  {
   "cell_type": "code",
   "execution_count": null,
   "id": "97afd0a5-385c-4847-b9f8-a9e06203d596",
   "metadata": {},
   "outputs": [],
   "source": [
    "temp['lr_mean'] = lr_res[['ligand_means', 'receptor_means']].mean(1)"
   ]
  },
  {
   "cell_type": "code",
   "execution_count": null,
   "id": "b5b09b4a-c2df-4cec-b30e-122027d4dbcd",
   "metadata": {},
   "outputs": [],
   "source": []
  },
  {
   "cell_type": "code",
   "execution_count": null,
   "id": "68182ef3-065c-4455-9c3d-c1262c3176cd",
   "metadata": {},
   "outputs": [],
   "source": [
    "perms = {}\n",
    "clusts = {}\n",
    "ad = adata.copy()\n",
    "\n",
    "rng = np.random.default_rng(seed=69)"
   ]
  },
  {
   "cell_type": "code",
   "execution_count": null,
   "id": "376f5e35-a996-49a0-b101-59ae16edb6ef",
   "metadata": {},
   "outputs": [],
   "source": []
  },
  {
   "cell_type": "code",
   "execution_count": null,
   "id": "7481d6f3-3e0f-4ae0-a57d-cc72a21b71f7",
   "metadata": {},
   "outputs": [],
   "source": []
  },
  {
   "cell_type": "code",
   "execution_count": null,
   "id": "53ca4cf3-4b87-489b-8293-9bc28485e866",
   "metadata": {},
   "outputs": [],
   "source": []
  },
  {
   "cell_type": "code",
   "execution_count": null,
   "id": "cdfc2f85-5eea-446f-b062-21fb78105032",
   "metadata": {},
   "outputs": [],
   "source": [
    "for perm in range(100):\n",
    "    for label in labels:\n",
    "        temp.X = rng.permutation(ad.X)\n",
    "        clusts[label] = temp.X.mean(0)\n",
    "    perms[perm] = clusts.copy()"
   ]
  },
  {
   "cell_type": "code",
   "execution_count": null,
   "id": "e9771b02-8124-4c0d-926e-79775cf7d678",
   "metadata": {},
   "outputs": [],
   "source": []
  },
  {
   "cell_type": "code",
   "execution_count": null,
   "id": "802c7557-3d99-4e49-8b67-f0101d421d17",
   "metadata": {},
   "outputs": [],
   "source": [
    "perms[perm]"
   ]
  },
  {
   "cell_type": "code",
   "execution_count": null,
   "id": "ea0fc883-836c-4196-a22c-9568a3e73d15",
   "metadata": {},
   "outputs": [],
   "source": []
  },
  {
   "cell_type": "code",
   "execution_count": null,
   "id": "2bb2f07c-6ed4-446d-aff7-bcfea2131ab0",
   "metadata": {},
   "outputs": [],
   "source": [
    "from statsmodels.distributions.empirical_distribution import ECDF"
   ]
  },
  {
   "cell_type": "code",
   "execution_count": null,
   "id": "cf1139a3-0ace-44d6-a5fe-cfe4d1c6fd43",
   "metadata": {},
   "outputs": [],
   "source": [
    "ec = ECDF(perms[perm]['a'])"
   ]
  },
  {
   "cell_type": "code",
   "execution_count": null,
   "id": "5bd80a15-628a-404f-bd03-e8023f8d06d3",
   "metadata": {},
   "outputs": [],
   "source": []
  },
  {
   "cell_type": "code",
   "execution_count": null,
   "id": "4a340009-5dfc-4056-9228-6e47530955c8",
   "metadata": {},
   "outputs": [],
   "source": []
  },
  {
   "cell_type": "markdown",
   "id": "a67d9786-388a-4c8d-b868-5539a3602f5c",
   "metadata": {},
   "source": [
    "logFC re-implement"
   ]
  },
  {
   "cell_type": "code",
   "execution_count": null,
   "id": "0699d6ec-68cb-4b49-84c0-d2722d40e90e",
   "metadata": {},
   "outputs": [],
   "source": [
    "lr_res['logfc'] = lr_res[['ligand_logfoldchanges', 'receptor_logfoldchanges']].mean(1)"
   ]
  },
  {
   "cell_type": "code",
   "execution_count": null,
   "id": "51064b93-983f-4c16-adb9-ca54a2e1cb62",
   "metadata": {},
   "outputs": [],
   "source": []
  },
  {
   "cell_type": "code",
   "execution_count": null,
   "id": "b3482e1c-c433-4712-bf1d-ba0494c0a314",
   "metadata": {},
   "outputs": [],
   "source": [
    "lr_res.sort_values(by='logfc', key=abs, ascending=False)"
   ]
  },
  {
   "cell_type": "code",
   "execution_count": null,
   "id": "fab2e516-7f93-4850-9907-2deaa2650c73",
   "metadata": {},
   "outputs": [],
   "source": []
  },
  {
   "cell_type": "markdown",
   "id": "7fb95f6b-db28-494b-83f8-de6b7c9b2048",
   "metadata": {},
   "source": [
    "Re-implement Connectome"
   ]
  },
  {
   "cell_type": "code",
   "execution_count": null,
   "id": "a3d0a012-69e9-47c6-bb48-66641647cea8",
   "metadata": {},
   "outputs": [],
   "source": [
    "lr_res['edge_weight'] = lr_res[['ligand_zscores', 'receptor_zscores']].mean(1)"
   ]
  },
  {
   "cell_type": "code",
   "execution_count": null,
   "id": "c95a783e-52d8-44e8-b735-bbe54bef1972",
   "metadata": {},
   "outputs": [],
   "source": []
  },
  {
   "cell_type": "markdown",
   "id": "46d31f0a-883c-48c3-9f5b-ba58bcfa2182",
   "metadata": {},
   "source": [
    "Custom min0 function:\n"
   ]
  },
  {
   "cell_type": "code",
   "execution_count": null,
   "id": "194bc6c1-ca02-4377-94e5-de5a120311ec",
   "metadata": {},
   "outputs": [],
   "source": [
    "# Importing reduce for \n",
    "# rolling computations\n",
    "from functools import reduce\n",
    "  \n",
    "# define a Custom aggregation \n",
    "# function for finding total\n",
    "def mean0(series):\n",
    "      return reduce(lambda x, y:0  if 0 in (x, y) else (x + y), series)"
   ]
  },
  {
   "cell_type": "code",
   "execution_count": null,
   "id": "cf18dc18-2a27-4191-bb2f-161e1539266c",
   "metadata": {},
   "outputs": [],
   "source": []
  }
 ],
 "metadata": {
  "kernelspec": {
   "display_name": "liana-py",
   "language": "python",
   "name": "liana-py"
  },
  "language_info": {
   "codemirror_mode": {
    "name": "ipython",
    "version": 3
   },
   "file_extension": ".py",
   "mimetype": "text/x-python",
   "name": "python",
   "nbconvert_exporter": "python",
   "pygments_lexer": "ipython3",
   "version": "3.8.8"
  }
 },
 "nbformat": 4,
 "nbformat_minor": 5
}
