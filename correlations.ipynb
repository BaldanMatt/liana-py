{
 "cells": [
  {
   "cell_type": "code",
   "execution_count": 1,
   "id": "8af3d265-90cc-40b8-bef6-ab6afe7279ef",
   "metadata": {},
   "outputs": [
    {
     "name": "stderr",
     "output_type": "stream",
     "text": [
      "/home/dbdimitrov/anaconda3/lib/python3.8/site-packages/paramiko/transport.py:219: CryptographyDeprecationWarning: Blowfish has been deprecated\n",
      "  \"class\": algorithms.Blowfish,\n"
     ]
    }
   ],
   "source": [
    "import squidpy as sq\n",
    "import scanpy as sc\n",
    "import pandas as pd\n",
    "import numpy as np"
   ]
  },
  {
   "cell_type": "code",
   "execution_count": 2,
   "id": "244c0e47-caa6-4a2d-89e3-71f9ed70f4ce",
   "metadata": {},
   "outputs": [],
   "source": [
    "import liana as li"
   ]
  },
  {
   "cell_type": "code",
   "execution_count": 3,
   "id": "a9b236b8-5e9d-48a7-af60-8fb7cf626353",
   "metadata": {},
   "outputs": [],
   "source": [
    "from matplotlib.pyplot import hist"
   ]
  },
  {
   "cell_type": "code",
   "execution_count": null,
   "id": "3fad2367-f045-4e33-8336-f0aedeaa8ff4",
   "metadata": {},
   "outputs": [],
   "source": []
  },
  {
   "cell_type": "code",
   "execution_count": 4,
   "id": "0729f572-296b-46f4-9bab-a048a1cfae78",
   "metadata": {},
   "outputs": [],
   "source": [
    "# load the pre-processed dataset\n",
    "img = sq.datasets.visium_hne_image()\n",
    "adata = sq.datasets.visium_hne_adata()"
   ]
  },
  {
   "cell_type": "code",
   "execution_count": 5,
   "id": "626419c8-bbb2-4c22-a318-5054ac4867c8",
   "metadata": {},
   "outputs": [],
   "source": [
    "li.mt.get_spatial_proximity(adata=adata, parameter=200, bypass_diagonal=False, cutoff=0.2)"
   ]
  },
  {
   "cell_type": "code",
   "execution_count": 6,
   "id": "b31acfe4-ae14-4659-b42b-a97987415d94",
   "metadata": {},
   "outputs": [],
   "source": [
    "my_plot = li.pl.proximity_plot(adata, idx=100)"
   ]
  },
  {
   "cell_type": "code",
   "execution_count": 7,
   "id": "e6288538-191f-4521-9e96-544291337956",
   "metadata": {},
   "outputs": [
    {
     "data": {
      "image/png": "[encoded data removed]",
      "text/plain": [
       "<Figure size 432x288 with 1 Axes>"
      ]
     },
     "metadata": {
      "needs_background": "light"
     },
     "output_type": "display_data"
    },
    {
     "data": {
      "text/plain": [
       "<ggplot: (8750209409043)>"
      ]
     },
     "execution_count": 7,
     "metadata": {},
     "output_type": "execute_result"
    }
   ],
   "source": [
    "my_plot"
   ]
  },
  {
   "cell_type": "code",
   "execution_count": null,
   "id": "2b1dc9a8-05c8-4319-98fa-aef21aef7f1f",
   "metadata": {},
   "outputs": [],
   "source": []
  },
  {
   "cell_type": "code",
   "execution_count": 8,
   "id": "b8553d38-e053-4bf8-b0ce-21ab95a54a78",
   "metadata": {},
   "outputs": [],
   "source": [
    "from liana.method.sp._spatialdm import spatialdm"
   ]
  },
  {
   "cell_type": "code",
   "execution_count": 9,
   "id": "57b65238-874e-4f97-b4ce-5bb6127ff72d",
   "metadata": {},
   "outputs": [
    {
     "name": "stdout",
     "output_type": "stream",
     "text": [
      "Using `.X`!\n"
     ]
    }
   ],
   "source": [
    "spatialdm(adata=adata, resource_name=\"MouseConsensus\", pvalue_method='analytical', verbose=True, use_raw=False)"
   ]
  },
  {
   "cell_type": "code",
   "execution_count": null,
   "id": "2f4f985f-f8c5-4fc9-96c0-50b07ed90981",
   "metadata": {},
   "outputs": [],
   "source": []
  },
  {
   "cell_type": "code",
   "execution_count": null,
   "id": "447f6155-6de9-4f98-a3c0-12c8ed7cda37",
   "metadata": {},
   "outputs": [],
   "source": []
  },
  {
   "cell_type": "code",
   "execution_count": 10,
   "id": "2aeae05b-4945-4549-a406-f9afea06fb74",
   "metadata": {},
   "outputs": [],
   "source": [
    "from liana.method._global_lr_pipe import _global_lr_pipe\n",
    "from liana.method.sp._spatialdm import _get_ordered_matrix, _standardize_matrix"
   ]
  },
  {
   "cell_type": "code",
   "execution_count": 11,
   "id": "7e9f08fa-cd4c-467c-9a28-8cdbac7b0e72",
   "metadata": {},
   "outputs": [
    {
     "name": "stdout",
     "output_type": "stream",
     "text": [
      "Using `.X`!\n"
     ]
    }
   ],
   "source": [
    "temp, lr_res, ligand_pos, receptor_pos = _global_lr_pipe(adata=adata,\n",
    "                                                         resource_name=\"MouseConsensus\",\n",
    "                                                         expr_prop=0.05,\n",
    "                                                         use_raw=False,\n",
    "                                                         verbose=True,\n",
    "                                                         layer=None,\n",
    "                                                         resource=None,\n",
    "                                                         _key_cols=['ligand_complex', 'receptor_complex'],\n",
    "                                                         _complex_cols=['ligand_means', 'receptor_means'],\n",
    "                                                         _obms_keys=['proximity']\n",
    "                                                         )"
   ]
  },
  {
   "cell_type": "code",
   "execution_count": 20,
   "id": "f249bbd4-83fb-47ec-9b9f-5819c91fb52d",
   "metadata": {},
   "outputs": [
    {
     "data": {
      "text/html": [
       "<div>\n",
       "<style scoped>\n",
       "    .dataframe tbody tr th:only-of-type {\n",
       "        vertical-align: middle;\n",
       "    }\n",
       "\n",
       "    .dataframe tbody tr th {\n",
       "        vertical-align: top;\n",
       "    }\n",
       "\n",
       "    .dataframe thead th {\n",
       "        text-align: right;\n",
       "    }\n",
       "</style>\n",
       "<table border=\"1\" class=\"dataframe\">\n",
       "  <thead>\n",
       "    <tr style=\"text-align: right;\">\n",
       "      <th></th>\n",
       "      <th>gene_ids</th>\n",
       "      <th>feature_types</th>\n",
       "      <th>genome</th>\n",
       "      <th>mt</th>\n",
       "      <th>n_cells_by_counts</th>\n",
       "      <th>mean_counts</th>\n",
       "      <th>log1p_mean_counts</th>\n",
       "      <th>pct_dropout_by_counts</th>\n",
       "      <th>total_counts</th>\n",
       "      <th>log1p_total_counts</th>\n",
       "      <th>n_cells</th>\n",
       "      <th>highly_variable</th>\n",
       "      <th>highly_variable_rank</th>\n",
       "      <th>means</th>\n",
       "      <th>variances</th>\n",
       "      <th>variances_norm</th>\n",
       "    </tr>\n",
       "  </thead>\n",
       "  <tbody>\n",
       "    <tr>\n",
       "      <th>A2m</th>\n",
       "      <td>ENSMUSG00000030111</td>\n",
       "      <td>Gene Expression</td>\n",
       "      <td>mm10</td>\n",
       "      <td>False</td>\n",
       "      <td>322</td>\n",
       "      <td>0.219792</td>\n",
       "      <td>0.198681</td>\n",
       "      <td>88.065234</td>\n",
       "      <td>593.0</td>\n",
       "      <td>6.386879</td>\n",
       "      <td>322</td>\n",
       "      <td>True</td>\n",
       "      <td>365.0</td>\n",
       "      <td>0.220610</td>\n",
       "      <td>0.765976</td>\n",
       "      <td>2.669456</td>\n",
       "    </tr>\n",
       "    <tr>\n",
       "      <th>Abca1</th>\n",
       "      <td>ENSMUSG00000015243</td>\n",
       "      <td>Gene Expression</td>\n",
       "      <td>mm10</td>\n",
       "      <td>False</td>\n",
       "      <td>935</td>\n",
       "      <td>0.459229</td>\n",
       "      <td>0.377908</td>\n",
       "      <td>65.344700</td>\n",
       "      <td>1239.0</td>\n",
       "      <td>7.122867</td>\n",
       "      <td>935</td>\n",
       "      <td>False</td>\n",
       "      <td>NaN</td>\n",
       "      <td>0.460938</td>\n",
       "      <td>0.539597</td>\n",
       "      <td>0.827133</td>\n",
       "    </tr>\n",
       "    <tr>\n",
       "      <th>Ace</th>\n",
       "      <td>ENSMUSG00000020681</td>\n",
       "      <td>Gene Expression</td>\n",
       "      <td>mm10</td>\n",
       "      <td>False</td>\n",
       "      <td>625</td>\n",
       "      <td>0.532987</td>\n",
       "      <td>0.427218</td>\n",
       "      <td>76.834692</td>\n",
       "      <td>1438.0</td>\n",
       "      <td>7.271704</td>\n",
       "      <td>624</td>\n",
       "      <td>True</td>\n",
       "      <td>38.0</td>\n",
       "      <td>0.534598</td>\n",
       "      <td>6.723775</td>\n",
       "      <td>8.764008</td>\n",
       "    </tr>\n",
       "    <tr>\n",
       "      <th>Ackr2</th>\n",
       "      <td>ENSMUSG00000044534</td>\n",
       "      <td>Gene Expression</td>\n",
       "      <td>mm10</td>\n",
       "      <td>False</td>\n",
       "      <td>89</td>\n",
       "      <td>0.035953</td>\n",
       "      <td>0.035321</td>\n",
       "      <td>96.701260</td>\n",
       "      <td>97.0</td>\n",
       "      <td>4.584968</td>\n",
       "      <td>89</td>\n",
       "      <td>False</td>\n",
       "      <td>NaN</td>\n",
       "      <td>0.036086</td>\n",
       "      <td>0.040752</td>\n",
       "      <td>0.937836</td>\n",
       "    </tr>\n",
       "    <tr>\n",
       "      <th>Ackr3</th>\n",
       "      <td>ENSMUSG00000044337</td>\n",
       "      <td>Gene Expression</td>\n",
       "      <td>mm10</td>\n",
       "      <td>False</td>\n",
       "      <td>439</td>\n",
       "      <td>0.206449</td>\n",
       "      <td>0.187682</td>\n",
       "      <td>83.728688</td>\n",
       "      <td>557.0</td>\n",
       "      <td>6.324359</td>\n",
       "      <td>439</td>\n",
       "      <td>True</td>\n",
       "      <td>3194.0</td>\n",
       "      <td>0.207217</td>\n",
       "      <td>0.293852</td>\n",
       "      <td>1.093900</td>\n",
       "    </tr>\n",
       "    <tr>\n",
       "      <th>...</th>\n",
       "      <td>...</td>\n",
       "      <td>...</td>\n",
       "      <td>...</td>\n",
       "      <td>...</td>\n",
       "      <td>...</td>\n",
       "      <td>...</td>\n",
       "      <td>...</td>\n",
       "      <td>...</td>\n",
       "      <td>...</td>\n",
       "      <td>...</td>\n",
       "      <td>...</td>\n",
       "      <td>...</td>\n",
       "      <td>...</td>\n",
       "      <td>...</td>\n",
       "      <td>...</td>\n",
       "      <td>...</td>\n",
       "    </tr>\n",
       "    <tr>\n",
       "      <th>Wnt9b</th>\n",
       "      <td>ENSMUSG00000018486</td>\n",
       "      <td>Gene Expression</td>\n",
       "      <td>mm10</td>\n",
       "      <td>False</td>\n",
       "      <td>195</td>\n",
       "      <td>0.093032</td>\n",
       "      <td>0.088955</td>\n",
       "      <td>92.772424</td>\n",
       "      <td>251.0</td>\n",
       "      <td>5.529429</td>\n",
       "      <td>195</td>\n",
       "      <td>True</td>\n",
       "      <td>2651.0</td>\n",
       "      <td>0.093378</td>\n",
       "      <td>0.139770</td>\n",
       "      <td>1.152613</td>\n",
       "    </tr>\n",
       "    <tr>\n",
       "      <th>Ybx1</th>\n",
       "      <td>ENSMUSG00000028639</td>\n",
       "      <td>Gene Expression</td>\n",
       "      <td>mm10</td>\n",
       "      <td>False</td>\n",
       "      <td>2502</td>\n",
       "      <td>3.831727</td>\n",
       "      <td>1.575204</td>\n",
       "      <td>7.264640</td>\n",
       "      <td>10338.0</td>\n",
       "      <td>9.243678</td>\n",
       "      <td>2498</td>\n",
       "      <td>False</td>\n",
       "      <td>NaN</td>\n",
       "      <td>3.843750</td>\n",
       "      <td>11.167240</td>\n",
       "      <td>0.912522</td>\n",
       "    </tr>\n",
       "    <tr>\n",
       "      <th>Znrf3</th>\n",
       "      <td>ENSMUSG00000041961</td>\n",
       "      <td>Gene Expression</td>\n",
       "      <td>mm10</td>\n",
       "      <td>False</td>\n",
       "      <td>539</td>\n",
       "      <td>0.240178</td>\n",
       "      <td>0.215255</td>\n",
       "      <td>80.022239</td>\n",
       "      <td>648.0</td>\n",
       "      <td>6.475433</td>\n",
       "      <td>539</td>\n",
       "      <td>False</td>\n",
       "      <td>NaN</td>\n",
       "      <td>0.241071</td>\n",
       "      <td>0.282764</td>\n",
       "      <td>0.896490</td>\n",
       "    </tr>\n",
       "    <tr>\n",
       "      <th>Zp3</th>\n",
       "      <td>ENSMUSG00000004948</td>\n",
       "      <td>Gene Expression</td>\n",
       "      <td>mm10</td>\n",
       "      <td>False</td>\n",
       "      <td>27</td>\n",
       "      <td>0.012231</td>\n",
       "      <td>0.012157</td>\n",
       "      <td>98.999259</td>\n",
       "      <td>33.0</td>\n",
       "      <td>3.526361</td>\n",
       "      <td>27</td>\n",
       "      <td>True</td>\n",
       "      <td>2367.0</td>\n",
       "      <td>0.012277</td>\n",
       "      <td>0.016597</td>\n",
       "      <td>1.193652</td>\n",
       "    </tr>\n",
       "    <tr>\n",
       "      <th>a</th>\n",
       "      <td>ENSMUSG00000027596</td>\n",
       "      <td>Gene Expression</td>\n",
       "      <td>mm10</td>\n",
       "      <td>False</td>\n",
       "      <td>12</td>\n",
       "      <td>0.004448</td>\n",
       "      <td>0.004438</td>\n",
       "      <td>99.555226</td>\n",
       "      <td>12.0</td>\n",
       "      <td>2.564949</td>\n",
       "      <td>12</td>\n",
       "      <td>False</td>\n",
       "      <td>NaN</td>\n",
       "      <td>0.004464</td>\n",
       "      <td>0.004446</td>\n",
       "      <td>0.930296</td>\n",
       "    </tr>\n",
       "  </tbody>\n",
       "</table>\n",
       "<p>1259 rows × 16 columns</p>\n",
       "</div>"
      ],
      "text/plain": [
       "                 gene_ids    feature_types genome     mt  n_cells_by_counts  \\\n",
       "A2m    ENSMUSG00000030111  Gene Expression   mm10  False                322   \n",
       "Abca1  ENSMUSG00000015243  Gene Expression   mm10  False                935   \n",
       "Ace    ENSMUSG00000020681  Gene Expression   mm10  False                625   \n",
       "Ackr2  ENSMUSG00000044534  Gene Expression   mm10  False                 89   \n",
       "Ackr3  ENSMUSG00000044337  Gene Expression   mm10  False                439   \n",
       "...                   ...              ...    ...    ...                ...   \n",
       "Wnt9b  ENSMUSG00000018486  Gene Expression   mm10  False                195   \n",
       "Ybx1   ENSMUSG00000028639  Gene Expression   mm10  False               2502   \n",
       "Znrf3  ENSMUSG00000041961  Gene Expression   mm10  False                539   \n",
       "Zp3    ENSMUSG00000004948  Gene Expression   mm10  False                 27   \n",
       "a      ENSMUSG00000027596  Gene Expression   mm10  False                 12   \n",
       "\n",
       "       mean_counts  log1p_mean_counts  pct_dropout_by_counts  total_counts  \\\n",
       "A2m       0.219792           0.198681              88.065234         593.0   \n",
       "Abca1     0.459229           0.377908              65.344700        1239.0   \n",
       "Ace       0.532987           0.427218              76.834692        1438.0   \n",
       "Ackr2     0.035953           0.035321              96.701260          97.0   \n",
       "Ackr3     0.206449           0.187682              83.728688         557.0   \n",
       "...            ...                ...                    ...           ...   \n",
       "Wnt9b     0.093032           0.088955              92.772424         251.0   \n",
       "Ybx1      3.831727           1.575204               7.264640       10338.0   \n",
       "Znrf3     0.240178           0.215255              80.022239         648.0   \n",
       "Zp3       0.012231           0.012157              98.999259          33.0   \n",
       "a         0.004448           0.004438              99.555226          12.0   \n",
       "\n",
       "       log1p_total_counts  n_cells  highly_variable  highly_variable_rank  \\\n",
       "A2m              6.386879      322             True                 365.0   \n",
       "Abca1            7.122867      935            False                   NaN   \n",
       "Ace              7.271704      624             True                  38.0   \n",
       "Ackr2            4.584968       89            False                   NaN   \n",
       "Ackr3            6.324359      439             True                3194.0   \n",
       "...                   ...      ...              ...                   ...   \n",
       "Wnt9b            5.529429      195             True                2651.0   \n",
       "Ybx1             9.243678     2498            False                   NaN   \n",
       "Znrf3            6.475433      539            False                   NaN   \n",
       "Zp3              3.526361       27             True                2367.0   \n",
       "a                2.564949       12            False                   NaN   \n",
       "\n",
       "          means  variances  variances_norm  \n",
       "A2m    0.220610   0.765976        2.669456  \n",
       "Abca1  0.460938   0.539597        0.827133  \n",
       "Ace    0.534598   6.723775        8.764008  \n",
       "Ackr2  0.036086   0.040752        0.937836  \n",
       "Ackr3  0.207217   0.293852        1.093900  \n",
       "...         ...        ...             ...  \n",
       "Wnt9b  0.093378   0.139770        1.152613  \n",
       "Ybx1   3.843750  11.167240        0.912522  \n",
       "Znrf3  0.241071   0.282764        0.896490  \n",
       "Zp3    0.012277   0.016597        1.193652  \n",
       "a      0.004464   0.004446        0.930296  \n",
       "\n",
       "[1259 rows x 16 columns]"
      ]
     },
     "execution_count": 20,
     "metadata": {},
     "output_type": "execute_result"
    }
   ],
   "source": [
    "temp.var"
   ]
  },
  {
   "cell_type": "code",
   "execution_count": 12,
   "id": "7546b192-427a-40cd-9491-e7c8378fd838",
   "metadata": {},
   "outputs": [
    {
     "data": {
      "text/html": [
       "<div>\n",
       "<style scoped>\n",
       "    .dataframe tbody tr th:only-of-type {\n",
       "        vertical-align: middle;\n",
       "    }\n",
       "\n",
       "    .dataframe tbody tr th {\n",
       "        vertical-align: top;\n",
       "    }\n",
       "\n",
       "    .dataframe thead th {\n",
       "        text-align: right;\n",
       "    }\n",
       "</style>\n",
       "<table border=\"1\" class=\"dataframe\">\n",
       "  <thead>\n",
       "    <tr style=\"text-align: right;\">\n",
       "      <th></th>\n",
       "      <th>interaction</th>\n",
       "      <th>ligand</th>\n",
       "      <th>receptor</th>\n",
       "      <th>ligand_complex</th>\n",
       "      <th>receptor_complex</th>\n",
       "      <th>ligand_means</th>\n",
       "      <th>ligand_props</th>\n",
       "      <th>receptor_means</th>\n",
       "      <th>receptor_props</th>\n",
       "      <th>prop_min</th>\n",
       "    </tr>\n",
       "  </thead>\n",
       "  <tbody>\n",
       "    <tr>\n",
       "      <th>0</th>\n",
       "      <td>Dll1&amp;Notch1</td>\n",
       "      <td>Dll1</td>\n",
       "      <td>Notch1</td>\n",
       "      <td>Dll1</td>\n",
       "      <td>Notch1</td>\n",
       "      <td>0.037283</td>\n",
       "      <td>0.057292</td>\n",
       "      <td>0.216689</td>\n",
       "      <td>0.276786</td>\n",
       "      <td>0.057292</td>\n",
       "    </tr>\n",
       "    <tr>\n",
       "      <th>1</th>\n",
       "      <td>Adam10&amp;Notch1</td>\n",
       "      <td>Adam10</td>\n",
       "      <td>Notch1</td>\n",
       "      <td>Adam10</td>\n",
       "      <td>Notch1</td>\n",
       "      <td>0.623617</td>\n",
       "      <td>0.651786</td>\n",
       "      <td>0.216689</td>\n",
       "      <td>0.276786</td>\n",
       "      <td>0.276786</td>\n",
       "    </tr>\n",
       "    <tr>\n",
       "      <th>2</th>\n",
       "      <td>Jag1&amp;Notch1</td>\n",
       "      <td>Jag1</td>\n",
       "      <td>Notch1</td>\n",
       "      <td>Jag1</td>\n",
       "      <td>Notch1</td>\n",
       "      <td>0.051299</td>\n",
       "      <td>0.075893</td>\n",
       "      <td>0.216689</td>\n",
       "      <td>0.276786</td>\n",
       "      <td>0.075893</td>\n",
       "    </tr>\n",
       "    <tr>\n",
       "      <th>3</th>\n",
       "      <td>Adam17&amp;Notch1</td>\n",
       "      <td>Adam17</td>\n",
       "      <td>Notch1</td>\n",
       "      <td>Adam17</td>\n",
       "      <td>Notch1</td>\n",
       "      <td>0.121026</td>\n",
       "      <td>0.167783</td>\n",
       "      <td>0.216689</td>\n",
       "      <td>0.276786</td>\n",
       "      <td>0.167783</td>\n",
       "    </tr>\n",
       "    <tr>\n",
       "      <th>4</th>\n",
       "      <td>Dlk1&amp;Notch1</td>\n",
       "      <td>Dlk1</td>\n",
       "      <td>Notch1</td>\n",
       "      <td>Dlk1</td>\n",
       "      <td>Notch1</td>\n",
       "      <td>0.236641</td>\n",
       "      <td>0.213542</td>\n",
       "      <td>0.216689</td>\n",
       "      <td>0.276786</td>\n",
       "      <td>0.213542</td>\n",
       "    </tr>\n",
       "  </tbody>\n",
       "</table>\n",
       "</div>"
      ],
      "text/plain": [
       "     interaction  ligand receptor ligand_complex receptor_complex  \\\n",
       "0    Dll1&Notch1    Dll1   Notch1           Dll1           Notch1   \n",
       "1  Adam10&Notch1  Adam10   Notch1         Adam10           Notch1   \n",
       "2    Jag1&Notch1    Jag1   Notch1           Jag1           Notch1   \n",
       "3  Adam17&Notch1  Adam17   Notch1         Adam17           Notch1   \n",
       "4    Dlk1&Notch1    Dlk1   Notch1           Dlk1           Notch1   \n",
       "\n",
       "   ligand_means  ligand_props  receptor_means  receptor_props  prop_min  \n",
       "0      0.037283      0.057292        0.216689        0.276786  0.057292  \n",
       "1      0.623617      0.651786        0.216689        0.276786  0.276786  \n",
       "2      0.051299      0.075893        0.216689        0.276786  0.075893  \n",
       "3      0.121026      0.167783        0.216689        0.276786  0.167783  \n",
       "4      0.236641      0.213542        0.216689        0.276786  0.213542  "
      ]
     },
     "execution_count": 12,
     "metadata": {},
     "output_type": "execute_result"
    }
   ],
   "source": [
    "lr_res.head()"
   ]
  },
  {
   "cell_type": "code",
   "execution_count": 13,
   "id": "00e79080-0e1e-4eca-b35a-963b2d9fd041",
   "metadata": {},
   "outputs": [],
   "source": [
    "x_mat = _standardize_matrix(temp.X, local=False)\n",
    "y_mat = _standardize_matrix(temp.X, local=False)"
   ]
  },
  {
   "cell_type": "code",
   "execution_count": 14,
   "id": "2b32a98f-c2a8-4c04-b063-1fa29d6f0e04",
   "metadata": {},
   "outputs": [],
   "source": [
    "ligand_mat = _get_ordered_matrix(x_mat, ligand_pos, lr_res.ligand)\n",
    "receptor_mat = _get_ordered_matrix(y_mat, receptor_pos, lr_res.receptor)"
   ]
  },
  {
   "cell_type": "code",
   "execution_count": 15,
   "id": "6b3936b8-df41-4670-af62-158275e83445",
   "metadata": {},
   "outputs": [],
   "source": [
    "dist = adata.obsm['proximity']"
   ]
  },
  {
   "cell_type": "code",
   "execution_count": 16,
   "id": "27884a25-1107-4252-8e1c-b1fb7541a0d8",
   "metadata": {},
   "outputs": [],
   "source": [
    "global_r = ((ligand_mat @ dist) * receptor_mat).sum(axis=1)"
   ]
  },
  {
   "cell_type": "code",
   "execution_count": 17,
   "id": "5894b7e7-7f67-46eb-a2e5-795caea57965",
   "metadata": {},
   "outputs": [
    {
     "data": {
      "text/plain": [
       "array([ 0.0786576 , -0.05555834, -0.00536108, ...,  0.11324887,\n",
       "        0.08164825, -0.36794403], dtype=float32)"
      ]
     },
     "execution_count": 17,
     "metadata": {},
     "output_type": "execute_result"
    }
   ],
   "source": [
    "global_r"
   ]
  },
  {
   "cell_type": "code",
   "execution_count": 18,
   "id": "1534e9fd-f007-4047-9b94-dc30e870829a",
   "metadata": {},
   "outputs": [
    {
     "data": {
      "text/plain": [
       "<2688x2688 sparse matrix of type '<class 'numpy.float32'>'\n",
       "\twith 48726 stored elements in Compressed Sparse Row format>"
      ]
     },
     "execution_count": 18,
     "metadata": {},
     "output_type": "execute_result"
    }
   ],
   "source": [
    "dist"
   ]
  },
  {
   "cell_type": "code",
   "execution_count": null,
   "id": "3a1ed2f4-1b67-47b9-a019-ed585afaea6b",
   "metadata": {},
   "outputs": [],
   "source": []
  },
  {
   "cell_type": "code",
   "execution_count": null,
   "id": "32556132-8643-4dc0-a3be-acb112a5058d",
   "metadata": {},
   "outputs": [],
   "source": []
  },
  {
   "cell_type": "markdown",
   "id": "e57d994a-6de3-43bb-bdb3-ccd99e163563",
   "metadata": {},
   "source": [
    "Weighed Spearman Correlation:"
   ]
  },
  {
   "cell_type": "code",
   "execution_count": 25,
   "id": "42e0f6e8-82f7-41d9-b569-86a0f4a1b141",
   "metadata": {},
   "outputs": [],
   "source": [
    "import numpy as np\n",
    "from scipy.stats import spearmanr, pearsonr, pointbiserialr, kendalltau\n",
    "\n",
    "# Assume you have two arrays of data, x and y, and a weight array, w\n",
    "x = np.array([2, 2, 3, 4, 5, 7])\n",
    "y = np.array([1, 2, 3, 4, 5, 9])\n",
    "w = np.array([0.1, 0.2, 0.3, 0.2, 0.2, 0.5])"
   ]
  },
  {
   "cell_type": "code",
   "execution_count": 26,
   "id": "bad618b5-1a70-42d8-97c4-8d8d8293da38",
   "metadata": {},
   "outputs": [],
   "source": [
    "xw = x * w\n",
    "yw = y * w"
   ]
  },
  {
   "cell_type": "code",
   "execution_count": 27,
   "id": "d8016a76-b434-4c9a-b6a7-336248642570",
   "metadata": {},
   "outputs": [
    {
     "data": {
      "text/plain": [
       "SpearmanrResult(correlation=0.9856107606091624, pvalue=0.0003090856678496655)"
      ]
     },
     "execution_count": 27,
     "metadata": {},
     "output_type": "execute_result"
    }
   ],
   "source": [
    "spearmanr(x, y)"
   ]
  },
  {
   "cell_type": "code",
   "execution_count": 28,
   "id": "a0a0331d-e9c6-49ea-9484-c19347831e0e",
   "metadata": {},
   "outputs": [
    {
     "data": {
      "text/plain": [
       "SpearmanrResult(correlation=1.0, pvalue=0.0)"
      ]
     },
     "execution_count": 28,
     "metadata": {},
     "output_type": "execute_result"
    }
   ],
   "source": [
    "spearmanr(xw, yw)"
   ]
  },
  {
   "cell_type": "code",
   "execution_count": null,
   "id": "9d3dad7c-30d6-45aa-a618-b20faddd7f60",
   "metadata": {},
   "outputs": [],
   "source": []
  },
  {
   "cell_type": "code",
   "execution_count": null,
   "id": "dd2b9387-8a47-4b79-9d22-f07ade48d619",
   "metadata": {},
   "outputs": [],
   "source": []
  },
  {
   "cell_type": "markdown",
   "id": "29cba151-d777-4d9f-adf4-ebf1797da7ba",
   "metadata": {},
   "source": [
    "Global Correlations"
   ]
  },
  {
   "cell_type": "code",
   "execution_count": 31,
   "id": "a457fcd5-703c-4d81-94e1-2a3a8d1919bb",
   "metadata": {},
   "outputs": [],
   "source": [
    "ligand_mat = _get_ordered_matrix(temp.X, ligand_pos, lr_res.ligand)\n",
    "receptor_mat = _get_ordered_matrix(temp.X, receptor_pos, lr_res.receptor)"
   ]
  },
  {
   "cell_type": "code",
   "execution_count": 32,
   "id": "871fe981-51fa-471d-8ced-affeba6abba5",
   "metadata": {},
   "outputs": [],
   "source": [
    "x, y = ligand_mat[ligand_pos['Sema4d']], receptor_mat[receptor_pos['Plxnb3']]\n",
    "w = temp.obsm['proximity']"
   ]
  },
  {
   "cell_type": "code",
   "execution_count": 33,
   "id": "b09f1418-40af-41d0-9df6-872c315dbde7",
   "metadata": {},
   "outputs": [],
   "source": [
    "xw = (x @ w).A.flatten()\n",
    "yw = (y @ w).A.flatten()"
   ]
  },
  {
   "cell_type": "code",
   "execution_count": 34,
   "id": "09fddc04-84ad-4c21-9d9e-2c9473d94dc6",
   "metadata": {},
   "outputs": [
    {
     "data": {
      "text/plain": [
       "SpearmanrResult(correlation=0.11729441905210375, pvalue=1.0641824431277095e-09)"
      ]
     },
     "execution_count": 34,
     "metadata": {},
     "output_type": "execute_result"
    }
   ],
   "source": [
    "spearmanr(xw, yw, nan_policy='omit')"
   ]
  },
  {
   "cell_type": "code",
   "execution_count": 35,
   "id": "01c6f533-beec-431d-ad18-c13adea11c8b",
   "metadata": {},
   "outputs": [
    {
     "data": {
      "text/plain": [
       "(0.16771258440544795, 2.073203379234801e-18)"
      ]
     },
     "execution_count": 35,
     "metadata": {},
     "output_type": "execute_result"
    }
   ],
   "source": [
    "pearsonr(xw, yw)"
   ]
  },
  {
   "cell_type": "code",
   "execution_count": null,
   "id": "453d7de8-fde7-4523-8b76-08d7832879cd",
   "metadata": {},
   "outputs": [],
   "source": []
  },
  {
   "cell_type": "code",
   "execution_count": null,
   "id": "a165e5f2-24ee-44f6-b9c4-6af89b3f4b31",
   "metadata": {},
   "outputs": [],
   "source": []
  },
  {
   "cell_type": "markdown",
   "id": "bc807154-c656-4470-bd87-d466a82274de",
   "metadata": {},
   "source": [
    "Time to beat"
   ]
  },
  {
   "cell_type": "code",
   "execution_count": 29,
   "id": "7ade1ccd-1c68-4c63-a948-9a77b21b0e67",
   "metadata": {},
   "outputs": [],
   "source": [
    "ligand_mat = _get_ordered_matrix(temp.X, ligand_pos, lr_res.ligand)\n",
    "receptor_mat = _get_ordered_matrix(temp.X, receptor_pos, lr_res.receptor)"
   ]
  },
  {
   "cell_type": "code",
   "execution_count": 30,
   "id": "03a691a5-cd37-406b-b004-5b5925cbc746",
   "metadata": {},
   "outputs": [
    {
     "ename": "ValueError",
     "evalue": "dimension mismatch",
     "output_type": "error",
     "traceback": [
      "\u001b[0;31m---------------------------------------------------------------------------\u001b[0m",
      "\u001b[0;31mValueError\u001b[0m                                Traceback (most recent call last)",
      "\u001b[0;32m<ipython-input-30-6e8d876ff8f5>\u001b[0m in \u001b[0;36m<module>\u001b[0;34m\u001b[0m\n\u001b[0;32m----> 1\u001b[0;31m \u001b[0mxw\u001b[0m \u001b[0;34m=\u001b[0m \u001b[0;34m(\u001b[0m\u001b[0mligand_mat\u001b[0m \u001b[0;34m@\u001b[0m \u001b[0mw\u001b[0m\u001b[0;34m)\u001b[0m\u001b[0;34m\u001b[0m\u001b[0;34m\u001b[0m\u001b[0m\n\u001b[0m\u001b[1;32m      2\u001b[0m \u001b[0myw\u001b[0m \u001b[0;34m=\u001b[0m \u001b[0;34m(\u001b[0m\u001b[0mreceptor_mat\u001b[0m \u001b[0;34m@\u001b[0m \u001b[0mw\u001b[0m\u001b[0;34m)\u001b[0m\u001b[0;34m\u001b[0m\u001b[0;34m\u001b[0m\u001b[0m\n",
      "\u001b[0;32m~/.local/lib/python3.8/site-packages/scipy/sparse/_base.py\u001b[0m in \u001b[0;36m__matmul__\u001b[0;34m(self, other)\u001b[0m\n\u001b[1;32m    621\u001b[0m             raise ValueError(\"Scalar operands are not allowed, \"\n\u001b[1;32m    622\u001b[0m                              \"use '*' instead\")\n\u001b[0;32m--> 623\u001b[0;31m         \u001b[0;32mreturn\u001b[0m \u001b[0mself\u001b[0m\u001b[0;34m.\u001b[0m\u001b[0m_mul_dispatch\u001b[0m\u001b[0;34m(\u001b[0m\u001b[0mother\u001b[0m\u001b[0;34m)\u001b[0m\u001b[0;34m\u001b[0m\u001b[0;34m\u001b[0m\u001b[0m\n\u001b[0m\u001b[1;32m    624\u001b[0m \u001b[0;34m\u001b[0m\u001b[0m\n\u001b[1;32m    625\u001b[0m     \u001b[0;32mdef\u001b[0m \u001b[0m__rmatmul__\u001b[0m\u001b[0;34m(\u001b[0m\u001b[0mself\u001b[0m\u001b[0;34m,\u001b[0m \u001b[0mother\u001b[0m\u001b[0;34m)\u001b[0m\u001b[0;34m:\u001b[0m\u001b[0;34m\u001b[0m\u001b[0;34m\u001b[0m\u001b[0m\n",
      "\u001b[0;32m~/.local/lib/python3.8/site-packages/scipy/sparse/_base.py\u001b[0m in \u001b[0;36m_mul_dispatch\u001b[0;34m(self, other)\u001b[0m\n\u001b[1;32m    553\u001b[0m             \u001b[0;31m# dense row or column vector\u001b[0m\u001b[0;34m\u001b[0m\u001b[0;34m\u001b[0m\u001b[0;34m\u001b[0m\u001b[0m\n\u001b[1;32m    554\u001b[0m             \u001b[0;32mif\u001b[0m \u001b[0mother\u001b[0m\u001b[0;34m.\u001b[0m\u001b[0mshape\u001b[0m \u001b[0;34m!=\u001b[0m \u001b[0;34m(\u001b[0m\u001b[0mN\u001b[0m\u001b[0;34m,\u001b[0m\u001b[0;34m)\u001b[0m \u001b[0;32mand\u001b[0m \u001b[0mother\u001b[0m\u001b[0;34m.\u001b[0m\u001b[0mshape\u001b[0m \u001b[0;34m!=\u001b[0m \u001b[0;34m(\u001b[0m\u001b[0mN\u001b[0m\u001b[0;34m,\u001b[0m \u001b[0;36m1\u001b[0m\u001b[0;34m)\u001b[0m\u001b[0;34m:\u001b[0m\u001b[0;34m\u001b[0m\u001b[0;34m\u001b[0m\u001b[0m\n\u001b[0;32m--> 555\u001b[0;31m                 \u001b[0;32mraise\u001b[0m \u001b[0mValueError\u001b[0m\u001b[0;34m(\u001b[0m\u001b[0;34m'dimension mismatch'\u001b[0m\u001b[0;34m)\u001b[0m\u001b[0;34m\u001b[0m\u001b[0;34m\u001b[0m\u001b[0m\n\u001b[0m\u001b[1;32m    556\u001b[0m \u001b[0;34m\u001b[0m\u001b[0m\n\u001b[1;32m    557\u001b[0m             \u001b[0mresult\u001b[0m \u001b[0;34m=\u001b[0m \u001b[0mself\u001b[0m\u001b[0;34m.\u001b[0m\u001b[0m_mul_vector\u001b[0m\u001b[0;34m(\u001b[0m\u001b[0mnp\u001b[0m\u001b[0;34m.\u001b[0m\u001b[0mravel\u001b[0m\u001b[0;34m(\u001b[0m\u001b[0mother\u001b[0m\u001b[0;34m)\u001b[0m\u001b[0;34m)\u001b[0m\u001b[0;34m\u001b[0m\u001b[0;34m\u001b[0m\u001b[0m\n",
      "\u001b[0;31mValueError\u001b[0m: dimension mismatch"
     ]
    }
   ],
   "source": [
    "xw = (ligand_mat @ w)\n",
    "yw = (receptor_mat @ w)"
   ]
  },
  {
   "cell_type": "code",
   "execution_count": null,
   "id": "edf9bad5-0b6b-4240-8426-f816a669920a",
   "metadata": {},
   "outputs": [],
   "source": [
    "%%time\n",
    "corrs = []\n",
    "for i in range(xw.shape[0]):\n",
    "    corrs.append(pearsonr(xw[i,:].A.flatten(), yw[i,:].A.flatten())[0])\n",
    "corrs = np.array(corrs)"
   ]
  },
  {
   "cell_type": "code",
   "execution_count": null,
   "id": "0187984d-99f7-4af1-b227-19bf72881f8e",
   "metadata": {},
   "outputs": [],
   "source": [
    "hist(corrs)"
   ]
  },
  {
   "cell_type": "code",
   "execution_count": null,
   "id": "7adb54ab-7966-4fe3-8e71-aabee1d8dc80",
   "metadata": {},
   "outputs": [],
   "source": []
  },
  {
   "cell_type": "code",
   "execution_count": null,
   "id": "255f4b86-8b26-4763-b1e4-dfe217fabbdc",
   "metadata": {},
   "outputs": [],
   "source": []
  },
  {
   "cell_type": "markdown",
   "id": "ca7759e2-e846-45b4-b203-4285f23e792e",
   "metadata": {},
   "source": [
    "Re-implement correlations, One corr at a time"
   ]
  },
  {
   "cell_type": "code",
   "execution_count": 167,
   "id": "08e8f106-c66f-4ea0-8a3e-eca18b14a39b",
   "metadata": {},
   "outputs": [],
   "source": [
    "x, y = ligand_mat[ligand_pos['Sema4d']].A.flatten(), receptor_mat[receptor_pos['Plxnb3']].A.flatten()"
   ]
  },
  {
   "cell_type": "code",
   "execution_count": 168,
   "id": "061ce896-2b2f-4132-a6d6-bb385d52a0a2",
   "metadata": {},
   "outputs": [],
   "source": [
    "weight = adata.obsm['proximity']"
   ]
  },
  {
   "cell_type": "code",
   "execution_count": 169,
   "id": "6e48beeb-474f-48ff-898c-8f9183e9cb6a",
   "metadata": {},
   "outputs": [],
   "source": [
    "i = 1"
   ]
  },
  {
   "cell_type": "code",
   "execution_count": 170,
   "id": "40c33c24-79c9-43a2-998f-b881fad2ab0b",
   "metadata": {},
   "outputs": [],
   "source": [
    "weight = weight[i,:]"
   ]
  },
  {
   "cell_type": "code",
   "execution_count": 159,
   "id": "c450e0e7-27bf-4885-8b9d-cae6a27452cf",
   "metadata": {},
   "outputs": [],
   "source": [
    "def wcor(x, y, weight):\n",
    "    weight_sum = np.sum(weight)\n",
    "    \n",
    "    numerator = weight_sum * np.sum(weight * x * y) - np.sum(weight * x) * np.sum(weight * y)\n",
    "    denominator_x = weight_sum * np.sum(weight * (x**2)) - np.sum(weight * x)**2\n",
    "    denominator_y = weight_sum * np.sum(weight * (y**2)) - np.sum(weight * y)**2\n",
    "    \n",
    "    wcor = numerator / np.sqrt(denominator_x * denominator_y)\n",
    "    \n",
    "    return wcor"
   ]
  },
  {
   "cell_type": "code",
   "execution_count": 160,
   "id": "e1d54f5a-73fe-45ad-bf18-398656483335",
   "metadata": {},
   "outputs": [],
   "source": [
    "x = np.array([0, 1, 2, 3, 4, 5, 6, 7])\n",
    "y = np.array([0, 1, 2, 3, 4, 5, 6, 7])\n",
    "w = np.array([0.2, 0.3, 0.1, 0.2, 0.3, 0.4, 0.1, 0.2])"
   ]
  },
  {
   "cell_type": "code",
   "execution_count": null,
   "id": "dd5b598b-6654-46f5-a158-53dde3ac8869",
   "metadata": {},
   "outputs": [],
   "source": []
  },
  {
   "cell_type": "code",
   "execution_count": 161,
   "id": "1df21246-658a-4012-bfc5-6534f5d6e26c",
   "metadata": {},
   "outputs": [
    {
     "data": {
      "text/plain": [
       "(0.9999999999999998, 2.736911063134408e-47)"
      ]
     },
     "execution_count": 161,
     "metadata": {},
     "output_type": "execute_result"
    }
   ],
   "source": [
    "pearsonr(x, y)"
   ]
  },
  {
   "cell_type": "code",
   "execution_count": 162,
   "id": "7c99f385-6aa2-48d5-bab7-465954d27db3",
   "metadata": {},
   "outputs": [
    {
     "data": {
      "text/plain": [
       "array([1, 1, 1, 1, 1, 1, 1, 1])"
      ]
     },
     "execution_count": 162,
     "metadata": {},
     "output_type": "execute_result"
    }
   ],
   "source": [
    "np.repeat(1, w.shape[0])"
   ]
  },
  {
   "cell_type": "code",
   "execution_count": 163,
   "id": "dda657bb-7f4d-40a2-bda5-6912ab26b2a4",
   "metadata": {},
   "outputs": [
    {
     "data": {
      "text/plain": [
       "1.0"
      ]
     },
     "execution_count": 163,
     "metadata": {},
     "output_type": "execute_result"
    }
   ],
   "source": [
    "wcor(x, y, np.repeat(1, w.shape[0]))"
   ]
  },
  {
   "cell_type": "code",
   "execution_count": null,
   "id": "20e954a3-29d1-4f8c-8574-7f84345afb15",
   "metadata": {},
   "outputs": [],
   "source": []
  },
  {
   "cell_type": "code",
   "execution_count": 130,
   "id": "b3dcd1c0-cc5d-4792-bb65-b0044b5d925e",
   "metadata": {},
   "outputs": [],
   "source": [
    "weight_sum = np.sum(weight)"
   ]
  },
  {
   "cell_type": "code",
   "execution_count": 131,
   "id": "516856c0-cfa4-498e-862f-fa93e87745b8",
   "metadata": {},
   "outputs": [],
   "source": [
    "numerator = weight_sum * np.sum(weight * x * y) - np.sum(weight * x) * np.sum(weight * y)"
   ]
  },
  {
   "cell_type": "code",
   "execution_count": 132,
   "id": "cee03954-e0f6-46eb-a06f-5462a5df8984",
   "metadata": {},
   "outputs": [],
   "source": [
    "denominator_x = weight_sum * np.sum(weight * (x**2)) - np.sum(w * x)**2\n",
    "denominator_y = weight_sum * np.sum(weight * (y**2)) - np.sum(w * y)**2"
   ]
  },
  {
   "cell_type": "code",
   "execution_count": 133,
   "id": "afa102da-d240-44ff-b82b-dd575b94e973",
   "metadata": {},
   "outputs": [],
   "source": [
    "wcor = numerator / np.sqrt(denominator_x * denominator_y)"
   ]
  },
  {
   "cell_type": "code",
   "execution_count": 134,
   "id": "668005c5-592b-49ef-85ca-46079743d39d",
   "metadata": {},
   "outputs": [
    {
     "data": {
      "text/plain": [
       "9.036089407046753e-05"
      ]
     },
     "execution_count": 134,
     "metadata": {},
     "output_type": "execute_result"
    }
   ],
   "source": [
    "wcor"
   ]
  },
  {
   "cell_type": "code",
   "execution_count": null,
   "id": "30aaf8c0-6333-44b7-ba00-746c7a1f82b9",
   "metadata": {},
   "outputs": [],
   "source": []
  },
  {
   "cell_type": "code",
   "execution_count": null,
   "id": "5b177341-d702-414e-bb8a-8469ed5ba0bf",
   "metadata": {},
   "outputs": [
    {
     "data": {
      "text/plain": [
       "4.1029506"
      ]
     },
     "execution_count": 114,
     "metadata": {},
     "output_type": "execute_result"
    }
   ],
   "source": [
    "weight_sum * np.sum(weight * (x**2))"
   ]
  },
  {
   "cell_type": "code",
   "execution_count": null,
   "id": "407451b9-3a3b-46fc-95d1-f56c05423780",
   "metadata": {},
   "outputs": [
    {
     "data": {
      "text/plain": [
       "0.5151168"
      ]
     },
     "execution_count": 115,
     "metadata": {},
     "output_type": "execute_result"
    }
   ],
   "source": [
    "np.sum(weight * (x**2))"
   ]
  },
  {
   "cell_type": "code",
   "execution_count": null,
   "id": "f0974ccc-f989-499d-a484-70c264247677",
   "metadata": {},
   "outputs": [],
   "source": []
  },
  {
   "cell_type": "code",
   "execution_count": null,
   "id": "00cfde2e-6872-49a3-863e-07af97352797",
   "metadata": {},
   "outputs": [],
   "source": []
  },
  {
   "cell_type": "code",
   "execution_count": null,
   "id": "b2909ed7-b96c-4e77-8af5-9680039e1ce0",
   "metadata": {},
   "outputs": [],
   "source": [
    "nw = sum(w)\n",
    "wssx = nw * sum(w * (x^2)) - sum(w * x)^2\n",
    "wssy = nw * sum(w * (y^2)) - sum(w * y)^2\n",
    "\n",
    "wssxy = nw * sum(w * x * y) - sum(w * x) * sum(w * y)\n",
    "\n",
    "wcor = wssxy/sqrt(wssx * wssy)\n",
    "wcor"
   ]
  },
  {
   "cell_type": "code",
   "execution_count": null,
   "id": "e31e139f-e347-4e89-b67e-c3686b08a253",
   "metadata": {},
   "outputs": [],
   "source": []
  },
  {
   "cell_type": "code",
   "execution_count": null,
   "id": "578e950d-f88f-4008-ae55-2601791ae112",
   "metadata": {},
   "outputs": [],
   "source": []
  },
  {
   "cell_type": "code",
   "execution_count": null,
   "id": "6bb488cf-da19-4b06-ba5f-cd5b71a50a40",
   "metadata": {
    "tags": []
   },
   "outputs": [],
   "source": []
  },
  {
   "cell_type": "markdown",
   "id": "4e23f71e-c9b6-41f4-93d0-ffd87ba2ed15",
   "metadata": {},
   "source": [
    "Re-implement as an efficient matrix operation"
   ]
  },
  {
   "cell_type": "code",
   "execution_count": 36,
   "id": "dc070ba1-7353-4e80-bc21-539557c16bbc",
   "metadata": {},
   "outputs": [],
   "source": [
    "ligand_mat = _get_ordered_matrix(temp.X, ligand_pos, lr_res.ligand)\n",
    "receptor_mat = _get_ordered_matrix(temp.X, receptor_pos, lr_res.receptor)"
   ]
  },
  {
   "cell_type": "code",
   "execution_count": 37,
   "id": "79baa668-1527-462d-9107-1097a765becc",
   "metadata": {},
   "outputs": [],
   "source": [
    "corr_method = \"pearson\""
   ]
  },
  {
   "cell_type": "code",
   "execution_count": 38,
   "id": "87117428-1f6b-4d6a-bfba-ab6c56b81fe2",
   "metadata": {},
   "outputs": [],
   "source": [
    "xw = (ligand_mat @ w)\n",
    "yw = (receptor_mat @ w)"
   ]
  },
  {
   "cell_type": "code",
   "execution_count": 39,
   "id": "0a294f4c-f448-46f0-b22c-a0990b6cc4e0",
   "metadata": {},
   "outputs": [
    {
     "data": {
      "text/plain": [
       "(1409, 2688)"
      ]
     },
     "execution_count": 39,
     "metadata": {},
     "output_type": "execute_result"
    }
   ],
   "source": [
    "xw.shape"
   ]
  },
  {
   "cell_type": "code",
   "execution_count": 40,
   "id": "594bf11f-7189-4aa5-8563-149d0ea30a11",
   "metadata": {},
   "outputs": [],
   "source": [
    "if corr_method=='spearman':\n",
    "    xw = np.asmatrix(rankdata(xw.todense(), axis=1, method=\"average\"))\n",
    "    yw = np.asmatrix(rankdata(yw.todense(), axis=1, method=\"average\"))"
   ]
  },
  {
   "cell_type": "code",
   "execution_count": 41,
   "id": "0026522c-97e3-48c4-af2c-4b6e626abbcc",
   "metadata": {},
   "outputs": [],
   "source": [
    "xm = (xw - xw.mean(axis=1)).A\n",
    "ym = (yw - yw.mean(axis=1)).A"
   ]
  },
  {
   "cell_type": "code",
   "execution_count": 42,
   "id": "a759667e-5810-4b9a-b400-b1a77b9f4017",
   "metadata": {},
   "outputs": [],
   "source": [
    "numerator = np.sum(xm * ym, axis=1)"
   ]
  },
  {
   "cell_type": "code",
   "execution_count": 43,
   "id": "a0ca0ca2-85de-4532-9cdc-06c5f782fedc",
   "metadata": {},
   "outputs": [],
   "source": [
    "denumerator = np.sqrt((np.sum(np.power(xm, 2), axis=1) * np.sum(np.power(ym, 2), axis=1)))"
   ]
  },
  {
   "cell_type": "code",
   "execution_count": 44,
   "id": "cb981032-53f7-45da-b3e2-60768f0cfc68",
   "metadata": {},
   "outputs": [],
   "source": [
    "corrs = numerator / denumerator"
   ]
  },
  {
   "cell_type": "code",
   "execution_count": 45,
   "id": "428ddb58-76f5-4bea-8539-0783e91c46ca",
   "metadata": {},
   "outputs": [
    {
     "data": {
      "text/plain": [
       "(array([ 11.,  43., 130., 279., 468., 256., 121.,  66.,  28.,   7.]),\n",
       " array([-0.53516597, -0.39648888, -0.2578118 , -0.11913473,  0.01954235,\n",
       "         0.15821943,  0.29689652,  0.43557358,  0.57425064,  0.71292776,\n",
       "         0.8516048 ], dtype=float32),\n",
       " <BarContainer object of 10 artists>)"
      ]
     },
     "execution_count": 45,
     "metadata": {},
     "output_type": "execute_result"
    },
    {
     "data": {
      "image/png": "[encoded data removed]",
      "text/plain": [
       "<Figure size 640x480 with 1 Axes>"
      ]
     },
     "metadata": {},
     "output_type": "display_data"
    }
   ],
   "source": [
    "hist(corrs)"
   ]
  },
  {
   "cell_type": "code",
   "execution_count": null,
   "id": "2e971eb4-c47c-4b32-9995-3a52de5e6499",
   "metadata": {},
   "outputs": [],
   "source": []
  },
  {
   "cell_type": "markdown",
   "id": "d1f02fe0-7ecb-4817-b0ed-31c7ac6fcb0a",
   "metadata": {},
   "source": [
    "Compare to Global Moran's I"
   ]
  },
  {
   "cell_type": "code",
   "execution_count": null,
   "id": "9925e97b-8cf9-4ade-8b18-d8aad3658e68",
   "metadata": {},
   "outputs": [],
   "source": []
  },
  {
   "cell_type": "code",
   "execution_count": 46,
   "id": "f9bf527a-57b5-450d-b99f-cb8d6132960c",
   "metadata": {},
   "outputs": [],
   "source": [
    "adata.uns['global_res'][corr_method] = corrs"
   ]
  },
  {
   "cell_type": "code",
   "execution_count": 47,
   "id": "7a988d71-d435-4254-bb46-0ef2532f20c9",
   "metadata": {},
   "outputs": [
    {
     "data": {
      "text/plain": [
       "SpearmanrResult(correlation=0.9095009278189768, pvalue=0.0)"
      ]
     },
     "execution_count": 47,
     "metadata": {},
     "output_type": "execute_result"
    }
   ],
   "source": [
    "spearmanr(adata.uns['global_res']['global_r'], adata.uns['global_res'][corr_method])"
   ]
  },
  {
   "cell_type": "code",
   "execution_count": 48,
   "id": "4886ee17-2b83-4962-91a2-eb572d292c35",
   "metadata": {},
   "outputs": [
    {
     "data": {
      "text/html": [
       "<div>\n",
       "<style scoped>\n",
       "    .dataframe tbody tr th:only-of-type {\n",
       "        vertical-align: middle;\n",
       "    }\n",
       "\n",
       "    .dataframe tbody tr th {\n",
       "        vertical-align: top;\n",
       "    }\n",
       "\n",
       "    .dataframe thead th {\n",
       "        text-align: right;\n",
       "    }\n",
       "</style>\n",
       "<table border=\"1\" class=\"dataframe\">\n",
       "  <thead>\n",
       "    <tr style=\"text-align: right;\">\n",
       "      <th></th>\n",
       "      <th>interaction</th>\n",
       "      <th>ligand</th>\n",
       "      <th>receptor</th>\n",
       "      <th>ligand_complex</th>\n",
       "      <th>receptor_complex</th>\n",
       "      <th>ligand_means</th>\n",
       "      <th>ligand_props</th>\n",
       "      <th>receptor_means</th>\n",
       "      <th>receptor_props</th>\n",
       "      <th>prop_min</th>\n",
       "      <th>global_r</th>\n",
       "      <th>global_pvals</th>\n",
       "      <th>pearson</th>\n",
       "    </tr>\n",
       "  </thead>\n",
       "  <tbody>\n",
       "    <tr>\n",
       "      <th>1457</th>\n",
       "      <td>Agt&amp;Mas1</td>\n",
       "      <td>Agt</td>\n",
       "      <td>Mas1</td>\n",
       "      <td>Agt</td>\n",
       "      <td>Mas1</td>\n",
       "      <td>1.153787</td>\n",
       "      <td>0.687128</td>\n",
       "      <td>0.136406</td>\n",
       "      <td>0.172619</td>\n",
       "      <td>0.172619</td>\n",
       "      <td>-0.250330</td>\n",
       "      <td>1.000000e+00</td>\n",
       "      <td>-0.535166</td>\n",
       "    </tr>\n",
       "    <tr>\n",
       "      <th>1714</th>\n",
       "      <td>Gstm7&amp;Ryr2</td>\n",
       "      <td>Gstm7</td>\n",
       "      <td>Ryr2</td>\n",
       "      <td>Gstm7</td>\n",
       "      <td>Ryr2</td>\n",
       "      <td>0.389403</td>\n",
       "      <td>0.427455</td>\n",
       "      <td>0.562664</td>\n",
       "      <td>0.577381</td>\n",
       "      <td>0.427455</td>\n",
       "      <td>-0.149239</td>\n",
       "      <td>1.000000e+00</td>\n",
       "      <td>-0.520917</td>\n",
       "    </tr>\n",
       "    <tr>\n",
       "      <th>1731</th>\n",
       "      <td>Gad1&amp;Grm4</td>\n",
       "      <td>Gad1</td>\n",
       "      <td>Grm4</td>\n",
       "      <td>Gad1</td>\n",
       "      <td>Grm4</td>\n",
       "      <td>1.216953</td>\n",
       "      <td>0.765997</td>\n",
       "      <td>0.246194</td>\n",
       "      <td>0.273065</td>\n",
       "      <td>0.273065</td>\n",
       "      <td>-0.219241</td>\n",
       "      <td>1.000000e+00</td>\n",
       "      <td>-0.508110</td>\n",
       "    </tr>\n",
       "    <tr>\n",
       "      <th>1028</th>\n",
       "      <td>Fgf13&amp;Fgfr2</td>\n",
       "      <td>Fgf13</td>\n",
       "      <td>Fgfr2</td>\n",
       "      <td>Fgf13</td>\n",
       "      <td>Fgfr2</td>\n",
       "      <td>1.067480</td>\n",
       "      <td>0.825893</td>\n",
       "      <td>0.460559</td>\n",
       "      <td>0.448289</td>\n",
       "      <td>0.448289</td>\n",
       "      <td>-0.207962</td>\n",
       "      <td>1.000000e+00</td>\n",
       "      <td>-0.479385</td>\n",
       "    </tr>\n",
       "    <tr>\n",
       "      <th>1031</th>\n",
       "      <td>Fgf14&amp;Fgfr2</td>\n",
       "      <td>Fgf14</td>\n",
       "      <td>Fgfr2</td>\n",
       "      <td>Fgf14</td>\n",
       "      <td>Fgfr2</td>\n",
       "      <td>0.232907</td>\n",
       "      <td>0.320312</td>\n",
       "      <td>0.460559</td>\n",
       "      <td>0.448289</td>\n",
       "      <td>0.320312</td>\n",
       "      <td>-0.108398</td>\n",
       "      <td>1.000000e+00</td>\n",
       "      <td>-0.445008</td>\n",
       "    </tr>\n",
       "    <tr>\n",
       "      <th>...</th>\n",
       "      <td>...</td>\n",
       "      <td>...</td>\n",
       "      <td>...</td>\n",
       "      <td>...</td>\n",
       "      <td>...</td>\n",
       "      <td>...</td>\n",
       "      <td>...</td>\n",
       "      <td>...</td>\n",
       "      <td>...</td>\n",
       "      <td>...</td>\n",
       "      <td>...</td>\n",
       "      <td>...</td>\n",
       "      <td>...</td>\n",
       "    </tr>\n",
       "    <tr>\n",
       "      <th>771</th>\n",
       "      <td>Psap&amp;Lrp1</td>\n",
       "      <td>Psap</td>\n",
       "      <td>Lrp1</td>\n",
       "      <td>Psap</td>\n",
       "      <td>Lrp1</td>\n",
       "      <td>3.318095</td>\n",
       "      <td>0.999628</td>\n",
       "      <td>1.529206</td>\n",
       "      <td>0.946801</td>\n",
       "      <td>0.946801</td>\n",
       "      <td>0.071031</td>\n",
       "      <td>1.419232e-50</td>\n",
       "      <td>0.732180</td>\n",
       "    </tr>\n",
       "    <tr>\n",
       "      <th>182</th>\n",
       "      <td>Jam3&amp;Itgb1</td>\n",
       "      <td>Jam3</td>\n",
       "      <td>Itgb1</td>\n",
       "      <td>Jam3</td>\n",
       "      <td>Itgb1</td>\n",
       "      <td>0.480654</td>\n",
       "      <td>0.491071</td>\n",
       "      <td>0.532951</td>\n",
       "      <td>0.571057</td>\n",
       "      <td>0.491071</td>\n",
       "      <td>0.168867</td>\n",
       "      <td>1.647485e-275</td>\n",
       "      <td>0.757978</td>\n",
       "    </tr>\n",
       "    <tr>\n",
       "      <th>550</th>\n",
       "      <td>App&amp;Aplp2</td>\n",
       "      <td>App</td>\n",
       "      <td>Aplp2</td>\n",
       "      <td>App</td>\n",
       "      <td>Aplp2</td>\n",
       "      <td>3.040105</td>\n",
       "      <td>0.998140</td>\n",
       "      <td>2.031858</td>\n",
       "      <td>0.985119</td>\n",
       "      <td>0.985119</td>\n",
       "      <td>0.156871</td>\n",
       "      <td>4.334632e-238</td>\n",
       "      <td>0.793444</td>\n",
       "    </tr>\n",
       "    <tr>\n",
       "      <th>752</th>\n",
       "      <td>App&amp;Aplp1</td>\n",
       "      <td>App</td>\n",
       "      <td>Aplp1</td>\n",
       "      <td>App</td>\n",
       "      <td>Aplp1</td>\n",
       "      <td>3.040105</td>\n",
       "      <td>0.998140</td>\n",
       "      <td>3.126448</td>\n",
       "      <td>0.999628</td>\n",
       "      <td>0.998140</td>\n",
       "      <td>0.170196</td>\n",
       "      <td>8.013167e-280</td>\n",
       "      <td>0.835961</td>\n",
       "    </tr>\n",
       "    <tr>\n",
       "      <th>1222</th>\n",
       "      <td>Sema4d&amp;Plxnb3</td>\n",
       "      <td>Sema4d</td>\n",
       "      <td>Plxnb3</td>\n",
       "      <td>Sema4d</td>\n",
       "      <td>Plxnb3</td>\n",
       "      <td>0.544131</td>\n",
       "      <td>0.524554</td>\n",
       "      <td>0.190867</td>\n",
       "      <td>0.219866</td>\n",
       "      <td>0.219866</td>\n",
       "      <td>0.250838</td>\n",
       "      <td>0.000000e+00</td>\n",
       "      <td>0.851605</td>\n",
       "    </tr>\n",
       "  </tbody>\n",
       "</table>\n",
       "<p>1409 rows × 13 columns</p>\n",
       "</div>"
      ],
      "text/plain": [
       "        interaction  ligand receptor ligand_complex receptor_complex  \\\n",
       "1457       Agt&Mas1     Agt     Mas1            Agt             Mas1   \n",
       "1714     Gstm7&Ryr2   Gstm7     Ryr2          Gstm7             Ryr2   \n",
       "1731      Gad1&Grm4    Gad1     Grm4           Gad1             Grm4   \n",
       "1028    Fgf13&Fgfr2   Fgf13    Fgfr2          Fgf13            Fgfr2   \n",
       "1031    Fgf14&Fgfr2   Fgf14    Fgfr2          Fgf14            Fgfr2   \n",
       "...             ...     ...      ...            ...              ...   \n",
       "771       Psap&Lrp1    Psap     Lrp1           Psap             Lrp1   \n",
       "182      Jam3&Itgb1    Jam3    Itgb1           Jam3            Itgb1   \n",
       "550       App&Aplp2     App    Aplp2            App            Aplp2   \n",
       "752       App&Aplp1     App    Aplp1            App            Aplp1   \n",
       "1222  Sema4d&Plxnb3  Sema4d   Plxnb3         Sema4d           Plxnb3   \n",
       "\n",
       "      ligand_means  ligand_props  receptor_means  receptor_props  prop_min  \\\n",
       "1457      1.153787      0.687128        0.136406        0.172619  0.172619   \n",
       "1714      0.389403      0.427455        0.562664        0.577381  0.427455   \n",
       "1731      1.216953      0.765997        0.246194        0.273065  0.273065   \n",
       "1028      1.067480      0.825893        0.460559        0.448289  0.448289   \n",
       "1031      0.232907      0.320312        0.460559        0.448289  0.320312   \n",
       "...            ...           ...             ...             ...       ...   \n",
       "771       3.318095      0.999628        1.529206        0.946801  0.946801   \n",
       "182       0.480654      0.491071        0.532951        0.571057  0.491071   \n",
       "550       3.040105      0.998140        2.031858        0.985119  0.985119   \n",
       "752       3.040105      0.998140        3.126448        0.999628  0.998140   \n",
       "1222      0.544131      0.524554        0.190867        0.219866  0.219866   \n",
       "\n",
       "      global_r   global_pvals   pearson  \n",
       "1457 -0.250330   1.000000e+00 -0.535166  \n",
       "1714 -0.149239   1.000000e+00 -0.520917  \n",
       "1731 -0.219241   1.000000e+00 -0.508110  \n",
       "1028 -0.207962   1.000000e+00 -0.479385  \n",
       "1031 -0.108398   1.000000e+00 -0.445008  \n",
       "...        ...            ...       ...  \n",
       "771   0.071031   1.419232e-50  0.732180  \n",
       "182   0.168867  1.647485e-275  0.757978  \n",
       "550   0.156871  4.334632e-238  0.793444  \n",
       "752   0.170196  8.013167e-280  0.835961  \n",
       "1222  0.250838   0.000000e+00  0.851605  \n",
       "\n",
       "[1409 rows x 13 columns]"
      ]
     },
     "execution_count": 48,
     "metadata": {},
     "output_type": "execute_result"
    }
   ],
   "source": [
    "adata.uns['global_res'].sort_values('pearson')"
   ]
  },
  {
   "cell_type": "code",
   "execution_count": null,
   "id": "3fafec33-6a63-48ad-854a-7270154dc232",
   "metadata": {},
   "outputs": [],
   "source": []
  },
  {
   "cell_type": "markdown",
   "id": "9d3b6f45-7368-4b9c-9f90-8ec2b13d3662",
   "metadata": {},
   "source": [
    "Local Correlations"
   ]
  },
  {
   "cell_type": "markdown",
   "id": "60b78696-ae70-4c81-a12f-5858d6fb3f35",
   "metadata": {},
   "source": [
    "One correlation at a time"
   ]
  },
  {
   "cell_type": "code",
   "execution_count": null,
   "id": "85c067f4-269c-4b66-905a-642fb64080c3",
   "metadata": {},
   "outputs": [],
   "source": [
    "# define x and y\n",
    "x = ligand_mat[0, :].A\n",
    "y = receptor_mat[0, :].A"
   ]
  },
  {
   "cell_type": "code",
   "execution_count": null,
   "id": "0f60be66-e9f5-41a8-bc5f-1c5620c7cf4b",
   "metadata": {},
   "outputs": [],
   "source": [
    "x.shape"
   ]
  },
  {
   "cell_type": "code",
   "execution_count": null,
   "id": "4444fa8b-bd7a-4cd2-ad52-e1037da6644a",
   "metadata": {},
   "outputs": [],
   "source": [
    "y.shape"
   ]
  },
  {
   "cell_type": "code",
   "execution_count": null,
   "id": "80df9c7e-e602-4cd7-bc96-fe7e119694cb",
   "metadata": {},
   "outputs": [],
   "source": [
    "# spatially-weigh them\n",
    "xw = (x @ w)\n",
    "yw = (y @ w)\n",
    "# check if I'm multiplying by weight twice (i.e. necessarily), likely I fuck up here"
   ]
  },
  {
   "cell_type": "code",
   "execution_count": null,
   "id": "2fea81c1-895b-4e5f-a929-c9be75916bd0",
   "metadata": {},
   "outputs": [],
   "source": [
    "# think about ranking"
   ]
  },
  {
   "cell_type": "code",
   "execution_count": null,
   "id": "9fc22d83-c1e4-490c-b30d-12ab6f5185c9",
   "metadata": {},
   "outputs": [],
   "source": [
    "np.sum((x * y).T * w[0,:])*np.sum(w[0,:]) - np.sum(w[0,:]*x.T)*np.sum(w[0,:]*y.T)"
   ]
  },
  {
   "cell_type": "code",
   "execution_count": null,
   "id": "249cff00-104c-4f45-8ac3-c957864e66a5",
   "metadata": {},
   "outputs": [],
   "source": []
  },
  {
   "cell_type": "code",
   "execution_count": null,
   "id": "3feecc58-cb44-4c6b-a0e7-19fda0a7aefc",
   "metadata": {},
   "outputs": [],
   "source": [
    "xw.shape"
   ]
  },
  {
   "cell_type": "code",
   "execution_count": null,
   "id": "55a59c26-ff97-4a27-bbf2-cd7bbeb2d323",
   "metadata": {},
   "outputs": [],
   "source": []
  },
  {
   "cell_type": "code",
   "execution_count": null,
   "id": "6ed1474f-2bca-43fd-86b2-1f11556ee4ba",
   "metadata": {},
   "outputs": [],
   "source": [
    "(x @ w).shape"
   ]
  },
  {
   "cell_type": "code",
   "execution_count": null,
   "id": "e6039c0b-aba4-4765-9e85-043c86b9d54a",
   "metadata": {},
   "outputs": [],
   "source": [
    "# normalize by self mean\n",
    "xm = (xw - xw.mean())\n",
    "ym = (yw - yw.mean())"
   ]
  },
  {
   "cell_type": "code",
   "execution_count": null,
   "id": "6fa296b7-78b2-41e1-93e0-f1fc13c542e7",
   "metadata": {},
   "outputs": [],
   "source": []
  },
  {
   "cell_type": "code",
   "execution_count": null,
   "id": "afa693ce-1091-4feb-87de-6b4b00110deb",
   "metadata": {},
   "outputs": [],
   "source": [
    "(xm * ym).shape"
   ]
  },
  {
   "cell_type": "code",
   "execution_count": null,
   "id": "4b05b279-414b-49c2-a823-e555952efeb7",
   "metadata": {},
   "outputs": [],
   "source": [
    "# calculate local corrs\n",
    "numerator = (xm * ym)\n",
    "denumerator_x = np.power(xm, 2).T\n",
    "denumerator_y =  np.sum(np.power(ym, 2))\n",
    "denumerator = np.sqrt(denumerator_x * denumerator_y)"
   ]
  },
  {
   "cell_type": "code",
   "execution_count": null,
   "id": "d884bb8c-9ffc-4e10-a291-cae7d9641880",
   "metadata": {},
   "outputs": [],
   "source": [
    "denumerator_x"
   ]
  },
  {
   "cell_type": "code",
   "execution_count": null,
   "id": "74fbca1b-8cb2-4f7b-90b4-56435b168a61",
   "metadata": {},
   "outputs": [],
   "source": [
    "local_corrs = (numerator.T / denumerator)"
   ]
  },
  {
   "cell_type": "code",
   "execution_count": null,
   "id": "c91738bd-b94b-4a7e-8121-b6a3fc100e61",
   "metadata": {},
   "outputs": [],
   "source": [
    "hist(local_corrs)"
   ]
  },
  {
   "cell_type": "code",
   "execution_count": null,
   "id": "4f686418-8875-47f1-86c3-bd8f53d18d9f",
   "metadata": {},
   "outputs": [],
   "source": []
  },
  {
   "cell_type": "code",
   "execution_count": null,
   "id": "0e738488-51a4-41ea-94e0-a9de4016ce51",
   "metadata": {},
   "outputs": [],
   "source": []
  },
  {
   "cell_type": "markdown",
   "id": "85f80421-4967-4e82-8c64-333959e0b085",
   "metadata": {},
   "source": [
    "Re-implement global to local"
   ]
  },
  {
   "cell_type": "code",
   "execution_count": null,
   "id": "43389d6d-7330-49e0-bf23-372df3370874",
   "metadata": {},
   "outputs": [],
   "source": [
    "# showcase moran's I\n",
    "local_r = li.ut.obsm_to_adata(adata, obsm_key='local_r')\n",
    "sc.pl.spatial(local_r, color=['Sema4d&Plxnb3'])"
   ]
  },
  {
   "cell_type": "code",
   "execution_count": null,
   "id": "0fd146de-2ba2-41c6-81bd-85a10f4dba4e",
   "metadata": {},
   "outputs": [],
   "source": [
    "from liana.method.sp._spatialdm import _local_to_dataframe"
   ]
  },
  {
   "cell_type": "code",
   "execution_count": null,
   "id": "2d274783-e219-47df-9606-0beb41fe09ff",
   "metadata": {},
   "outputs": [],
   "source": [
    "ligand_mat = _get_ordered_matrix(temp.X, ligand_pos, lr_res.ligand)\n",
    "receptor_mat = _get_ordered_matrix(temp.X, receptor_pos, lr_res.receptor)"
   ]
  },
  {
   "cell_type": "code",
   "execution_count": null,
   "id": "132570cc-e9f0-4270-a55d-afb7591fa5ba",
   "metadata": {},
   "outputs": [],
   "source": [
    "corr_method = \"pearson\""
   ]
  },
  {
   "cell_type": "markdown",
   "id": "c590757c-ac44-45b8-a3a3-ecc2462485da",
   "metadata": {},
   "source": [
    "From here on as local:"
   ]
  },
  {
   "cell_type": "code",
   "execution_count": null,
   "id": "3d08ee87-dc6d-4a23-b8f3-5150198e4597",
   "metadata": {},
   "outputs": [],
   "source": [
    "xw = (ligand_mat @ w)\n",
    "yw = (receptor_mat @ w)"
   ]
  },
  {
   "cell_type": "code",
   "execution_count": null,
   "id": "2e3e4a71-cbf4-4aae-80c4-6b484684a16c",
   "metadata": {},
   "outputs": [],
   "source": [
    "xm = (xw - xw.mean(axis=1)).A\n",
    "ym = (yw - yw.mean(axis=1)).A"
   ]
  },
  {
   "cell_type": "code",
   "execution_count": null,
   "id": "2160359f-1970-4599-93ab-6d3a239601e4",
   "metadata": {},
   "outputs": [],
   "source": [
    "if corr_method=='spearman':\n",
    "    xw = np.asmatrix(rankdata(xw.todense(), axis=1, method=\"average\"))\n",
    "    yw = np.asmatrix(rankdata(yw.todense(), axis=1, method=\"average\"))\n",
    "    # x I{ w  > 0 }"
   ]
  },
  {
   "cell_type": "code",
   "execution_count": null,
   "id": "184a9907-bdf8-40bd-922f-8ab9b7a0366e",
   "metadata": {},
   "outputs": [],
   "source": [
    "numerator = (xm * ym)\n",
    "denumerator_x = np.power(xm, 2).T\n",
    "denumerator_y =  np.sum(np.power(ym, 2), axis=1)\n",
    "denumerator = np.sqrt(denumerator_x * denumerator_y)"
   ]
  },
  {
   "cell_type": "code",
   "execution_count": null,
   "id": "c564024e-0a54-44b6-bcf5-ca257cb5d449",
   "metadata": {},
   "outputs": [],
   "source": [
    "numerator.shape"
   ]
  },
  {
   "cell_type": "code",
   "execution_count": null,
   "id": "4a20b39f-b154-410c-aa5d-46414bbf66ae",
   "metadata": {},
   "outputs": [],
   "source": [
    "denumerator.shape"
   ]
  },
  {
   "cell_type": "code",
   "execution_count": null,
   "id": "2946a716-010e-42c0-80a1-63c1a9b7a7bc",
   "metadata": {},
   "outputs": [],
   "source": [
    "numerator"
   ]
  },
  {
   "cell_type": "code",
   "execution_count": null,
   "id": "008540fc-e0e8-438a-83c3-02871a3a1a31",
   "metadata": {},
   "outputs": [],
   "source": [
    "denumerator"
   ]
  },
  {
   "cell_type": "code",
   "execution_count": null,
   "id": "80de9567-4694-4e3c-859a-518ec44db739",
   "metadata": {},
   "outputs": [],
   "source": [
    "local_corrs = numerator / denumerator.T"
   ]
  },
  {
   "cell_type": "code",
   "execution_count": null,
   "id": "6a444850-5d66-4d28-bf99-769bbf2d9b8f",
   "metadata": {},
   "outputs": [],
   "source": [
    "local_corrs"
   ]
  },
  {
   "cell_type": "code",
   "execution_count": null,
   "id": "4de71f48-b9c9-4d42-b5ee-10eb23b64004",
   "metadata": {},
   "outputs": [],
   "source": []
  },
  {
   "cell_type": "code",
   "execution_count": null,
   "id": "05fe2c1d-5bf1-4304-b7cf-85a053a6bb73",
   "metadata": {},
   "outputs": [],
   "source": [
    "local_corrs = _local_to_dataframe(array=local_corrs.T,\n",
    "                                  idx=temp.obs.index,\n",
    "                                  columns=lr_res.interaction)\n",
    "adata.obsm['local_corrs'] = local_corrs"
   ]
  },
  {
   "cell_type": "code",
   "execution_count": null,
   "id": "61dea2c3-5ac6-4c53-ab0a-8bc40804fd18",
   "metadata": {},
   "outputs": [],
   "source": [
    "local_corrs[local_corrs < 0] = 0"
   ]
  },
  {
   "cell_type": "code",
   "execution_count": null,
   "id": "24d5d236-f23b-4c56-b123-10c35993aeec",
   "metadata": {},
   "outputs": [],
   "source": [
    "# showcase moran's I\n",
    "ad = li.ut.obsm_to_adata(adata, obsm_key='local_corrs')\n",
    "sc.pl.spatial(ad, color=['Sema4d&Plxnb3'])"
   ]
  },
  {
   "cell_type": "code",
   "execution_count": null,
   "id": "6d81ae2a-c488-4b6c-b12c-dd0187ead9ea",
   "metadata": {},
   "outputs": [],
   "source": [
    "# seems to be an issue with weights?"
   ]
  },
  {
   "cell_type": "code",
   "execution_count": null,
   "id": "1f28da15-7cd6-4f95-b25d-bc9487493432",
   "metadata": {},
   "outputs": [],
   "source": []
  },
  {
   "cell_type": "code",
   "execution_count": null,
   "id": "7d490718-f539-4da3-90a0-ca7d6fcd9f44",
   "metadata": {},
   "outputs": [],
   "source": []
  },
  {
   "cell_type": "code",
   "execution_count": null,
   "id": "54e7f1dd-435d-4f72-8918-72fd07bb5d35",
   "metadata": {},
   "outputs": [],
   "source": []
  },
  {
   "cell_type": "code",
   "execution_count": null,
   "id": "78d163bf-83ae-454b-b87c-e62f3c249bce",
   "metadata": {},
   "outputs": [],
   "source": [
    "np_array_2d = np.arange(0, 6).reshape([2,3])\n",
    "print(np_array_2d)"
   ]
  },
  {
   "cell_type": "code",
   "execution_count": null,
   "id": "c42a750b-54c3-4696-af22-9dd0e7ca9bef",
   "metadata": {},
   "outputs": [],
   "source": [
    "np_array_2d.shape"
   ]
  },
  {
   "cell_type": "code",
   "execution_count": null,
   "id": "32afe175-be92-4425-8df9-3292057a50ea",
   "metadata": {},
   "outputs": [],
   "source": [
    "np.sum(np_array_2d, axis = 0)"
   ]
  },
  {
   "cell_type": "code",
   "execution_count": null,
   "id": "0916fa02-d6d9-41cc-b827-4015b90926e9",
   "metadata": {},
   "outputs": [],
   "source": [
    "np.sum(np_array_2d, axis = 1)"
   ]
  },
  {
   "cell_type": "code",
   "execution_count": null,
   "id": "0f75f18c-07c7-46fb-bd18-d04bb11d08e9",
   "metadata": {},
   "outputs": [],
   "source": [
    "np_array_2d.T"
   ]
  },
  {
   "cell_type": "code",
   "execution_count": null,
   "id": "310dd19a-970a-44df-af28-03da3f3e8a67",
   "metadata": {},
   "outputs": [],
   "source": [
    "np_array_2d.T / np.asarray([2, 5])"
   ]
  },
  {
   "cell_type": "code",
   "execution_count": null,
   "id": "26068a9e-61d6-46a7-8cde-e36df24b345e",
   "metadata": {},
   "outputs": [],
   "source": []
  },
  {
   "cell_type": "code",
   "execution_count": null,
   "id": "cf10e2ee-5b02-4727-90e1-465c63b68556",
   "metadata": {},
   "outputs": [],
   "source": []
  },
  {
   "cell_type": "code",
   "execution_count": null,
   "id": "7eaf1795-1fa9-4e83-9633-d77dde1cd298",
   "metadata": {},
   "outputs": [],
   "source": []
  },
  {
   "cell_type": "markdown",
   "id": "3840692f-e13a-4236-b572-3ef7dccf9bf0",
   "metadata": {},
   "source": [
    "Start Over"
   ]
  },
  {
   "cell_type": "code",
   "execution_count": null,
   "id": "a9ad83a5-a7f7-414d-8846-25d7e56d1c5b",
   "metadata": {},
   "outputs": [],
   "source": []
  }
 ],
 "metadata": {
  "kernelspec": {
   "display_name": "liana-py",
   "language": "python",
   "name": "liana-py"
  },
  "language_info": {
   "codemirror_mode": {
    "name": "ipython",
    "version": 3
   },
   "file_extension": ".py",
   "mimetype": "text/x-python",
   "name": "python",
   "nbconvert_exporter": "python",
   "pygments_lexer": "ipython3",
   "version": "3.8.8"
  }
 },
 "nbformat": 4,
 "nbformat_minor": 5
}
