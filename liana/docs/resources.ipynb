{
 "cells": [
  {
   "cell_type": "markdown",
   "id": "60c10695-7aab-4de5-8383-e138cdd24ed9",
   "metadata": {},
   "source": [
    "Transform into a tutorial on how to process a resource /w OmniPath and refer to it"
   ]
  },
  {
   "cell_type": "code",
   "execution_count": null,
   "id": "fad44ffb-25da-40b0-bb0c-2131f98524d1",
   "metadata": {},
   "outputs": [],
   "source": [
    "import omnipath\n",
    "from omnipath.interactions import import_intercell_network\n",
    "import numpy as np\n",
    "import pandas as pd"
   ]
  },
  {
   "cell_type": "code",
   "execution_count": null,
   "id": "43230d52-19d3-4e40-b7b5-56da9d02f833",
   "metadata": {},
   "outputs": [],
   "source": [
    "from liana.resource import explode_complexes"
   ]
  },
  {
   "cell_type": "code",
   "execution_count": null,
   "id": "5ccbedaf-710e-40ba-b388-14933e952f11",
   "metadata": {},
   "outputs": [],
   "source": [
    "def anti_join(left, right, on):\n",
    "    # Anti join\n",
    "    outer_join = left.merge(right, how = 'outer', indicator = True, on=on)\n",
    "    anti = outer_join[~(outer_join._merge == 'both')].drop('_merge', axis = 1)\n",
    "    return anti"
   ]
  },
  {
   "cell_type": "code",
   "execution_count": null,
   "id": "580f731d-24b2-40a2-ac9d-5efaaf1341d6",
   "metadata": {},
   "outputs": [],
   "source": []
  },
  {
   "cell_type": "code",
   "execution_count": null,
   "id": "91720316-8f54-47c0-9f33-aed803019e3d",
   "metadata": {},
   "outputs": [],
   "source": [
    "pd.set_option('display.max_columns', None)"
   ]
  },
  {
   "cell_type": "code",
   "execution_count": null,
   "id": "ff186792-a731-42eb-bb92-4a06c5eba2cb",
   "metadata": {},
   "outputs": [],
   "source": []
  },
  {
   "cell_type": "code",
   "execution_count": null,
   "id": "b878e2fc-3a11-4542-8895-f0611fd0ec93",
   "metadata": {},
   "outputs": [],
   "source": [
    "op_params = omnipath.interactions.AllInteractions.params()"
   ]
  },
  {
   "cell_type": "code",
   "execution_count": null,
   "id": "f428ec76-9fe6-43b6-b39f-7e69e38dc195",
   "metadata": {},
   "outputs": [],
   "source": []
  },
  {
   "cell_type": "code",
   "execution_count": null,
   "id": "76ac4576-d705-4ce3-890f-ecfa653f1a0b",
   "metadata": {},
   "outputs": [],
   "source": [
    "protein_types = {'adhesion', 'cell_adhesion', 'cell_surface_ligand',\n",
    "                 'desmosome', 'ecm', # 'ecm_regulator',\n",
    "                 'gap_junction', # 'inhibitory_cofactor',\n",
    "                 # 'ligand',\n",
    "                 # 'ligand_antagonist', 'ligand_regulator',\n",
    "                 # 'matrix_adhesion_regulator', 'receptor_regulator',\n",
    "                 'secreted_enzyme', \n",
    "                 # 'secreted_receptor', \n",
    "                 'tight_junction'\n",
    "                }\n",
    "databases = {'CellPhoneDB','CellChatDB', 'ICELLNET', 'connectomeDB2020', 'CellTalkDB'# , 'Cellinker'\n",
    "            }"
   ]
  },
  {
   "cell_type": "code",
   "execution_count": null,
   "id": "3141ab76-256e-47b1-8ab3-113b3ecbc731",
   "metadata": {},
   "outputs": [],
   "source": [
    "transmitter_params = {\"categories\": protein_types.union({'ligand'}),\n",
    "                      \"databases\":databases}"
   ]
  },
  {
   "cell_type": "code",
   "execution_count": null,
   "id": "368b4e99-f13f-48a8-ba83-858a952bd13e",
   "metadata": {},
   "outputs": [],
   "source": [
    "receiver_params = {\"categories\": protein_types.union({'receptor'}),\n",
    "                      \"databases\": databases\n",
    "                  }"
   ]
  },
  {
   "cell_type": "code",
   "execution_count": null,
   "id": "b099a62b-864c-4c07-b620-4ac8b6508e9c",
   "metadata": {},
   "outputs": [],
   "source": [
    "interactions = import_intercell_network(\n",
    "    interactions_params={\"databases\": databases},\n",
    "    transmitter_params=transmitter_params,\n",
    "    receiver_params=receiver_params,\n",
    ")"
   ]
  },
  {
   "cell_type": "code",
   "execution_count": null,
   "id": "144d14f0-6b45-4c47-8d03-177e25816b4a",
   "metadata": {},
   "outputs": [],
   "source": [
    "interactions"
   ]
  },
  {
   "cell_type": "code",
   "execution_count": null,
   "id": "3977663a-e9c7-4a20-8940-708dac073beb",
   "metadata": {},
   "outputs": [],
   "source": []
  },
  {
   "cell_type": "code",
   "execution_count": null,
   "id": "a9b4bab6-40bf-4cbe-922d-e421eb1bafa4",
   "metadata": {},
   "outputs": [],
   "source": [
    "resource = interactions[['source', 'target', 'genesymbol_intercell_source', 'genesymbol_intercell_target', 'sources', 'references', 'category_intercell_source', 'category_intercell_target']].copy()\n",
    "resource = resource.rename(columns={'genesymbol_intercell_source':'source_genesymbol',\n",
    "                                    'genesymbol_intercell_target': 'target_genesymbol'\n",
    "                                   })\n",
    "resource"
   ]
  },
  {
   "cell_type": "code",
   "execution_count": null,
   "id": "8971176f-7e88-470b-8712-a48f17ce7abd",
   "metadata": {},
   "outputs": [],
   "source": []
  },
  {
   "cell_type": "markdown",
   "id": "3ef9527c-6ed7-4a1f-8a33-4025f289f40d",
   "metadata": {},
   "source": [
    "From post"
   ]
  },
  {
   "cell_type": "code",
   "execution_count": null,
   "id": "aa01a80a-85ca-4c35-a94b-f85a180fa6c8",
   "metadata": {},
   "outputs": [],
   "source": [
    "translational = omnipath.interactions.PostTranslational.get(databases=databases, genesymbols=True, entity_types=['protein', 'complex']) # .difference({'CellChatDB'}.union({'SignaLink3'})"
   ]
  },
  {
   "cell_type": "code",
   "execution_count": null,
   "id": "077ee6bf-db44-4243-b5f7-d441c56c0330",
   "metadata": {},
   "outputs": [],
   "source": [
    "msk =  np.isin(translational.source, resource.source) & np.isin(translational.target, resource.target)"
   ]
  },
  {
   "cell_type": "code",
   "execution_count": null,
   "id": "af36a82f-1d50-4486-a950-c67da768c0ab",
   "metadata": {},
   "outputs": [],
   "source": [
    "translational[msk]"
   ]
  },
  {
   "cell_type": "code",
   "execution_count": null,
   "id": "32ad19f0-66ff-40a3-83f0-89c6e49788fd",
   "metadata": {},
   "outputs": [],
   "source": []
  },
  {
   "cell_type": "code",
   "execution_count": null,
   "id": "0c9370de-6d17-44e5-a1a6-43da459644f9",
   "metadata": {},
   "outputs": [],
   "source": [
    "trans_unique = anti_join(translational, resource, on=['source_genesymbol', 'target_genesymbol', 'source', 'target'])"
   ]
  },
  {
   "cell_type": "code",
   "execution_count": null,
   "id": "4eb5850a-134e-4f22-9a71-64a39d907962",
   "metadata": {},
   "outputs": [],
   "source": [
    "trans_unique"
   ]
  },
  {
   "cell_type": "code",
   "execution_count": null,
   "id": "3896cdd9-f04a-422e-b501-391753ffb201",
   "metadata": {},
   "outputs": [],
   "source": [
    "resource = resource.merge(trans_unique, how='outer', on=['source_genesymbol', 'target_genesymbol', 'source', 'target'])"
   ]
  },
  {
   "cell_type": "code",
   "execution_count": null,
   "id": "9f8abdbc-e662-4aa8-a2db-34877a7a38f5",
   "metadata": {},
   "outputs": [],
   "source": [
    "resource"
   ]
  },
  {
   "cell_type": "code",
   "execution_count": null,
   "id": "0d3ce66a-77d2-432e-a485-8eeb49e9c84a",
   "metadata": {},
   "outputs": [],
   "source": [
    "resource = resource[~resource[['source', 'target']].duplicated()]"
   ]
  },
  {
   "cell_type": "code",
   "execution_count": null,
   "id": "2df378c9-f71e-4a9b-8e6c-dccd8abaea91",
   "metadata": {},
   "outputs": [],
   "source": [
    "resource"
   ]
  },
  {
   "cell_type": "code",
   "execution_count": null,
   "id": "c170cd8e-142d-47df-865f-6f608ccd9c27",
   "metadata": {},
   "outputs": [],
   "source": []
  },
  {
   "cell_type": "code",
   "execution_count": null,
   "id": "011f2646-4c02-4703-81cd-18db82dac32a",
   "metadata": {},
   "outputs": [],
   "source": []
  },
  {
   "cell_type": "markdown",
   "id": "3afe226c-2a1c-49ee-93a8-e656d82e828f",
   "metadata": {},
   "source": [
    "Additional Resources - Filtered"
   ]
  },
  {
   "cell_type": "code",
   "execution_count": null,
   "id": "4661bbac-c9fc-4351-88f9-0462955924e0",
   "metadata": {},
   "outputs": [],
   "source": [
    "from liana.resource.utils import obtain_extra_resource"
   ]
  },
  {
   "cell_type": "code",
   "execution_count": null,
   "id": "462f2511-c48e-4385-a04f-e8889313f5e3",
   "metadata": {},
   "outputs": [],
   "source": [
    "cellinker = obtain_extra_resource(databases = {\"Cellinker\"},\n",
    "                                  blocklist = {\"SIGNOR_mechanism\":{\"phosphorylation\",\"dephosphorylation\"}},\n",
    "                                  allowlist = {'Cellinker_type':{'Cytokine-cytokine receptor interaction',\n",
    "                                                                 'Secreted protein to receptor interaction'}}\n",
    "                                 )"
   ]
  },
  {
   "cell_type": "code",
   "execution_count": null,
   "id": "5a62842b-37d8-4ce7-b41c-1d26d90914b5",
   "metadata": {},
   "outputs": [],
   "source": [
    "cellinker"
   ]
  },
  {
   "cell_type": "code",
   "execution_count": null,
   "id": "ea1f41a1-c8fe-4c73-831d-ba8ad38dd4ed",
   "metadata": {},
   "outputs": [],
   "source": [
    "resource = resource.merge(cellinker, how='outer', on=['source', 'target', 'source_genesymbol', 'target_genesymbol'])"
   ]
  },
  {
   "cell_type": "code",
   "execution_count": null,
   "id": "71ed6066-f2ca-4370-bcda-cb59b6e11634",
   "metadata": {},
   "outputs": [],
   "source": [
    "resource = resource[['source', 'target', 'source_genesymbol', 'target_genesymbol']]"
   ]
  },
  {
   "cell_type": "code",
   "execution_count": null,
   "id": "7ba2cfe4-b809-42e5-b159-1a2cf8b38454",
   "metadata": {},
   "outputs": [],
   "source": []
  },
  {
   "cell_type": "code",
   "execution_count": null,
   "id": "85650323-9084-49e0-bad2-bb326f3d3142",
   "metadata": {},
   "outputs": [],
   "source": []
  },
  {
   "cell_type": "markdown",
   "id": "3bb7e030-a8d2-4c16-8e64-dd49682e8860",
   "metadata": {},
   "source": [
    "Process liana-py resource"
   ]
  },
  {
   "cell_type": "code",
   "execution_count": null,
   "id": "257eb16d-e2d9-417f-931a-a493c8f89b98",
   "metadata": {},
   "outputs": [],
   "source": [
    "exploded_resource = explode_complexes(resource[['source_genesymbol', 'target_genesymbol']], SOURCE='source_genesymbol', TARGET='target_genesymbol')"
   ]
  },
  {
   "cell_type": "code",
   "execution_count": null,
   "id": "c368912d-de6d-4b64-ae1c-46067e8a7b5b",
   "metadata": {},
   "outputs": [],
   "source": [
    "exploded_resource['number'] = 1"
   ]
  },
  {
   "cell_type": "code",
   "execution_count": null,
   "id": "8b5b8f43-5cc5-454b-9b23-414625e15b21",
   "metadata": {},
   "outputs": [],
   "source": [
    "exploded_resource"
   ]
  },
  {
   "cell_type": "code",
   "execution_count": null,
   "id": "cfff7f2c-8b10-43a5-9738-20826c86beae",
   "metadata": {},
   "outputs": [],
   "source": [
    "SOURCE = 'source_genesymbol'\n",
    "TARGET = 'target_genesymbol'\n",
    "exploded_resource[SOURCE] = exploded_resource[SOURCE].str.replace(\"^COMPLEX:\", \"\", regex=True)\n",
    "exploded_resource[TARGET] = exploded_resource[TARGET].str.replace(\"^COMPLEX:\", \"\", regex=True)"
   ]
  },
  {
   "cell_type": "code",
   "execution_count": null,
   "id": "f0710783-e4fc-4bb5-946e-6bbf5208829a",
   "metadata": {},
   "outputs": [],
   "source": [
    "exploded_resource = exploded_resource.assign(\n",
    "    counter = \n",
    "    exploded_resource\n",
    "    .groupby(['source_genesymbol', 'target_genesymbol'])\n",
    "    .number\n",
    "    .transform('sum')\n",
    ")"
   ]
  },
  {
   "cell_type": "code",
   "execution_count": null,
   "id": "a17dcd47-e802-4a8c-9065-9f435dbee5ef",
   "metadata": {},
   "outputs": [],
   "source": [
    "exploded_resource[exploded_resource.target_genesymbol_complex==\"ACVR1B_ACVR2A\"]"
   ]
  },
  {
   "cell_type": "code",
   "execution_count": null,
   "id": "efdcaea7-7446-4b77-8bac-f342d77bf0c0",
   "metadata": {},
   "outputs": [],
   "source": []
  },
  {
   "cell_type": "code",
   "execution_count": null,
   "id": "29e92e94-f241-4c3c-94ee-b7fdacbcf75d",
   "metadata": {},
   "outputs": [],
   "source": [
    "exploded_resource = exploded_resource[(exploded_resource.counter > 1) &\n",
    "                                      ~(exploded_resource['source_genesymbol_complex'].str.contains('_') | exploded_resource['target_genesymbol_complex'].str.contains('_'))]"
   ]
  },
  {
   "cell_type": "code",
   "execution_count": null,
   "id": "47335ff9-84f8-4bb8-8de8-f84bc70697a1",
   "metadata": {},
   "outputs": [],
   "source": [
    "exploded_resource[exploded_resource.target_genesymbol_complex==\"ACVR1B_ACVR2A\"]"
   ]
  },
  {
   "cell_type": "code",
   "execution_count": null,
   "id": "3b714ae4-2abe-4dd1-8196-2ac4244fecc0",
   "metadata": {},
   "outputs": [],
   "source": []
  },
  {
   "cell_type": "code",
   "execution_count": null,
   "id": "95f0d9b6-29f7-4fef-b40c-5a5ff4f6078b",
   "metadata": {},
   "outputs": [],
   "source": [
    "exploded_resource = exploded_resource[['source_genesymbol_complex', 'target_genesymbol_complex']]"
   ]
  },
  {
   "cell_type": "code",
   "execution_count": null,
   "id": "62cc8cfa-2abb-42b1-b46d-956619fec75c",
   "metadata": {},
   "outputs": [],
   "source": [
    "exploded_resource=exploded_resource.rename(columns={\"source_genesymbol_complex\":\"source_genesymbol\",\n",
    "                                                    \"target_genesymbol_complex\":\"target_genesymbol\"})"
   ]
  },
  {
   "cell_type": "code",
   "execution_count": null,
   "id": "50ad9144-4f74-4466-afe9-301a0cbbb7a6",
   "metadata": {},
   "outputs": [],
   "source": [
    "exploded_resource"
   ]
  },
  {
   "cell_type": "code",
   "execution_count": null,
   "id": "34bcd358-9973-4de8-a148-2626db37dfb2",
   "metadata": {},
   "outputs": [],
   "source": []
  },
  {
   "cell_type": "code",
   "execution_count": null,
   "id": "b4295f2b-c091-493c-aec6-b923fab9745c",
   "metadata": {},
   "outputs": [],
   "source": []
  },
  {
   "cell_type": "code",
   "execution_count": null,
   "id": "78333c0e-eee6-4145-9635-7544ce5b1d42",
   "metadata": {},
   "outputs": [],
   "source": [
    "resource = anti_join(resource, exploded_resource, on=['source_genesymbol', 'target_genesymbol'])"
   ]
  },
  {
   "cell_type": "code",
   "execution_count": null,
   "id": "7de1993e-b914-43af-8596-181afedc1342",
   "metadata": {},
   "outputs": [],
   "source": [
    "resource"
   ]
  },
  {
   "cell_type": "code",
   "execution_count": null,
   "id": "5e4128c5-5873-4ee5-bb98-d23ee43401d7",
   "metadata": {},
   "outputs": [],
   "source": []
  },
  {
   "cell_type": "code",
   "execution_count": null,
   "id": "63fe8fbd-1580-4f50-86cc-64470be57962",
   "metadata": {},
   "outputs": [],
   "source": []
  },
  {
   "cell_type": "markdown",
   "id": "95f18bf3-c5f1-4e1c-9190-f12f5a90eaf5",
   "metadata": {},
   "source": [
    "Exploded by Entity"
   ]
  },
  {
   "cell_type": "code",
   "execution_count": null,
   "id": "ff112b54-2f56-4cee-8db3-66d8b4546bac",
   "metadata": {},
   "outputs": [],
   "source": [
    "exploded_resource = explode_complexes(resource[['source_genesymbol', 'target_genesymbol']], SOURCE='source_genesymbol', TARGET='target_genesymbol')"
   ]
  },
  {
   "cell_type": "code",
   "execution_count": null,
   "id": "6ec47b40-d8ec-454c-9516-12c860098631",
   "metadata": {},
   "outputs": [],
   "source": [
    "SOURCE = 'source_genesymbol'\n",
    "TARGET = 'target_genesymbol'\n",
    "exploded_resource[SOURCE] = exploded_resource[SOURCE].str.replace(\"^COMPLEX:\", \"\", regex=True)\n",
    "exploded_resource[TARGET] = exploded_resource[TARGET].str.replace(\"^COMPLEX:\", \"\", regex=True)"
   ]
  },
  {
   "cell_type": "code",
   "execution_count": null,
   "id": "b6e07e21-0a0e-4c1f-aa28-4098eb0b6603",
   "metadata": {},
   "outputs": [],
   "source": [
    "exploded_resource = exploded_resource.drop('interaction', axis=1)"
   ]
  },
  {
   "cell_type": "code",
   "execution_count": null,
   "id": "fcbd581e-b58e-41bb-b1ea-4d6160399da9",
   "metadata": {},
   "outputs": [],
   "source": []
  },
  {
   "cell_type": "code",
   "execution_count": null,
   "id": "3981dcb9-a86e-452a-a251-1df1a3d871b7",
   "metadata": {},
   "outputs": [],
   "source": [
    "def check_if_exploded(exploded_resource, check_entity, anchor_entity):\n",
    "    check_complex = f'{check_entity}_complex'\n",
    "    anchor_complex = f'{anchor_entity}_complex'\n",
    "    \n",
    "    \n",
    "    exploded_resource = exploded_resource.drop([anchor_entity], axis=1)\n",
    "    exploded_resource['number'] = 1\n",
    "    exploded_resource['counter'] = (exploded_resource\n",
    "                                    .drop_duplicates()\n",
    "                                    .groupby([check_entity, anchor_complex])\n",
    "                                    .number.transform('sum')\n",
    "                                   )\n",
    "    msk = (exploded_resource.counter > 1) & (~exploded_resource[check_complex].str.contains('_'))\n",
    "    exploded_resource = exploded_resource[msk]\n",
    "    exploded_resource = exploded_resource.drop(columns=check_entity, axis=1)\n",
    "    \n",
    "    exploded_resource = exploded_resource.rename(columns={anchor_complex:anchor_entity,\n",
    "                                                          check_complex:check_entity})\n",
    "    \n",
    "    return exploded_resource"
   ]
  },
  {
   "cell_type": "code",
   "execution_count": null,
   "id": "dd69db68-fd3b-41db-9214-7e58285ac75d",
   "metadata": {},
   "outputs": [],
   "source": [
    "remove_sources = check_if_exploded(exploded_resource.copy(), check_entity='source_genesymbol', anchor_entity='target_genesymbol')\n",
    "remove_sources"
   ]
  },
  {
   "cell_type": "code",
   "execution_count": null,
   "id": "ab6a609a-5c00-4ee0-a9f3-9427137ce3c3",
   "metadata": {},
   "outputs": [],
   "source": []
  },
  {
   "cell_type": "code",
   "execution_count": null,
   "id": "74c5c12b-a4de-433e-8568-563001b040e2",
   "metadata": {},
   "outputs": [],
   "source": [
    "remove_targets = check_if_exploded(exploded_resource.copy(), check_entity='target_genesymbol', anchor_entity='source_genesymbol')"
   ]
  },
  {
   "cell_type": "code",
   "execution_count": null,
   "id": "8a984580-08d6-455e-bae5-1d23f7f1f33e",
   "metadata": {},
   "outputs": [],
   "source": [
    "remove_targets"
   ]
  },
  {
   "cell_type": "code",
   "execution_count": null,
   "id": "3eb2cea9-6794-421d-8d72-1070910846b7",
   "metadata": {},
   "outputs": [],
   "source": []
  },
  {
   "cell_type": "code",
   "execution_count": null,
   "id": "338a7c66-5717-40ee-9cce-2bf3a75bc9a3",
   "metadata": {},
   "outputs": [],
   "source": [
    "resource"
   ]
  },
  {
   "cell_type": "code",
   "execution_count": null,
   "id": "ca435e0a-2113-4c02-b3cc-d4dc9e1d2d2b",
   "metadata": {},
   "outputs": [],
   "source": []
  },
  {
   "cell_type": "code",
   "execution_count": null,
   "id": "d2c34885-b15e-4439-ab89-4e9c7be59dc2",
   "metadata": {},
   "outputs": [],
   "source": [
    "resource = anti_join(resource, remove_sources, on=['source_genesymbol', 'target_genesymbol'])"
   ]
  },
  {
   "cell_type": "code",
   "execution_count": null,
   "id": "c004e4d0-759f-45d2-92ae-1050917dca03",
   "metadata": {},
   "outputs": [],
   "source": [
    "resource"
   ]
  },
  {
   "cell_type": "code",
   "execution_count": null,
   "id": "6d8a350f-a906-4ec8-89b8-d9cd401a7556",
   "metadata": {},
   "outputs": [],
   "source": [
    "resource = anti_join(resource, remove_targets, on=['source_genesymbol', 'target_genesymbol'])"
   ]
  },
  {
   "cell_type": "code",
   "execution_count": null,
   "id": "b2ddca9e-4698-430b-844f-3244f2c07978",
   "metadata": {},
   "outputs": [],
   "source": [
    "resource"
   ]
  },
  {
   "cell_type": "code",
   "execution_count": null,
   "id": "42faa8c8-e214-479b-9728-29fc506c6ac5",
   "metadata": {},
   "outputs": [],
   "source": []
  },
  {
   "cell_type": "code",
   "execution_count": null,
   "id": "8eb1065e-9ad6-46b4-b285-b9301bc270a5",
   "metadata": {},
   "outputs": [],
   "source": [
    "resource[SOURCE] = resource[SOURCE].str.replace(\"^COMPLEX:\", \"\", regex=True)\n",
    "resource[TARGET] = resource[TARGET].str.replace(\"^COMPLEX:\", \"\", regex=True)"
   ]
  },
  {
   "cell_type": "code",
   "execution_count": null,
   "id": "74ff6709-69a5-4b89-ba86-c85807790f4a",
   "metadata": {},
   "outputs": [],
   "source": [
    "BLOCK_TRANSMITTERS = [\"ADGRE5\", \"CD160\"\n",
    "                      \"CD226\", \"EGFR\",\n",
    "                      \"TNFRSF18\", \"CTLA4\",\n",
    "                      \"KLRB1\", \"KLRF1\", \"KLRF2\",\n",
    "                      \"PTPRC\", \"PVR\", \"SIGLEC1\",\n",
    "                      \"SIGLEC9\", \"TNFRSF14\",\n",
    "                      \"ITGAD_ITGB2\",\n",
    "                      \"ITGA4_ITGB1\", \"ITGA9_ITGB|1\",\n",
    "                      \"ITGA4_ITGB7\",\n",
    "                      \"TYK2\", \"SYK\",\n",
    "                      \"MT-RNR2\",\n",
    "                      \"IL13_IL13RA1_IL4R\",\n",
    "                      \"IL22_IL22RA1\",\n",
    "                      \"IL18BP\"]"
   ]
  },
  {
   "cell_type": "code",
   "execution_count": null,
   "id": "397463a0-9c9c-43c8-8518-f3097d658bb0",
   "metadata": {},
   "outputs": [],
   "source": [
    "BLOCK_RECEIVERS = [\"IFNG_IFNGR1\", # include a ligand in the complex\n",
    "                   \"CNTN2_CNTNAP2\",\n",
    "                   \"IL2_IL2RA_IL2RB_IL2RG\",\n",
    "                   \"IL15_IL15RA_IL2RB_IL2RG\",\n",
    "                   \"IL6_IL6R_IL6ST\",\n",
    "                   \"IL1B_IL1R1_IL1RAP\",\n",
    "                   \"IL1B_IL1R2_IL1RAP\",\n",
    "                   \"IFNA2_IFNAR1_IFNAR2\",\n",
    "                   \"ACVR1C_ACVR2B_CFC1\",\n",
    "                   \"CSF2_CSF2RA_CSF2RB\",\n",
    "                   \"GP1BA_GP1BB_GP5_GP9\",\n",
    "                  \"\"]"
   ]
  },
  {
   "cell_type": "code",
   "execution_count": null,
   "id": "b1b09cd7-ad7b-46e1-8767-c8e6e864a08a",
   "metadata": {},
   "outputs": [],
   "source": [
    "# Block wrong\n",
    "msk = (np.isin(resource[SOURCE], BLOCK_TRANSMITTERS)) | (np.isin(resource[TARGET], BLOCK_RECEIVERS))"
   ]
  },
  {
   "cell_type": "code",
   "execution_count": null,
   "id": "645d00de-c771-4811-9bb2-1afc2518e56f",
   "metadata": {},
   "outputs": [],
   "source": [
    "resource = resource[~msk]"
   ]
  },
  {
   "cell_type": "code",
   "execution_count": null,
   "id": "b79aded4-2941-4050-b37f-8f9470785ac4",
   "metadata": {},
   "outputs": [],
   "source": [
    "resource"
   ]
  },
  {
   "cell_type": "code",
   "execution_count": null,
   "id": "7377ac1d-2808-4791-ac35-5e37c14d3943",
   "metadata": {},
   "outputs": [],
   "source": []
  },
  {
   "cell_type": "code",
   "execution_count": null,
   "id": "d6fea586-cf7d-4974-bdca-b823cec3a37d",
   "metadata": {},
   "outputs": [],
   "source": [
    "# resource = resource[resource.target_genesymbol.isin(resource.source_genesymbol)]"
   ]
  },
  {
   "cell_type": "code",
   "execution_count": null,
   "id": "db3f8d55-9866-46ee-9cdd-aa39c01bcc01",
   "metadata": {},
   "outputs": [],
   "source": [
    "# resource = resource[resource.source_genesymbol.isin(resource.target_genesymbol)]"
   ]
  },
  {
   "cell_type": "code",
   "execution_count": null,
   "id": "6f1bd680-4e83-4ac9-a8f2-908319347b5b",
   "metadata": {},
   "outputs": [],
   "source": [
    "sum(resource.target_genesymbol.isin(resource.source_genesymbol))"
   ]
  },
  {
   "cell_type": "code",
   "execution_count": null,
   "id": "619a3fa9-0ab6-4d2f-9d7b-6b7ff3de5091",
   "metadata": {},
   "outputs": [],
   "source": [
    "?"
   ]
  },
  {
   "cell_type": "code",
   "execution_count": null,
   "id": "ad855979-2930-45d0-a3ae-1b859cf36553",
   "metadata": {},
   "outputs": [],
   "source": [
    "# resource[~resource.source_genesymbol.isin(resource.target_genesymbol)]"
   ]
  },
  {
   "cell_type": "code",
   "execution_count": null,
   "id": "0ced56df-5adb-491f-bfa7-ef46d773f4fe",
   "metadata": {},
   "outputs": [],
   "source": []
  },
  {
   "cell_type": "code",
   "execution_count": null,
   "id": "64dc1ffc-9de9-4290-90d6-a2ebf092362f",
   "metadata": {},
   "outputs": [],
   "source": [
    "resource.to_csv(\"/home/dbdimitrov/Downloads/resource.csv\", index=False)"
   ]
  },
  {
   "cell_type": "code",
   "execution_count": null,
   "id": "5a253f8e-6389-46d0-854f-2ad7772eeb3b",
   "metadata": {},
   "outputs": [],
   "source": []
  },
  {
   "cell_type": "code",
   "execution_count": null,
   "id": "43ab4730-69cd-4dcd-bda8-d0b4ef3877ec",
   "metadata": {},
   "outputs": [],
   "source": [
    "from liana.resource import select_resource"
   ]
  },
  {
   "cell_type": "code",
   "execution_count": null,
   "id": "76aea614-6546-42de-8856-46427ad523bc",
   "metadata": {},
   "outputs": [],
   "source": [
    "consensus = select_resource('consensus')"
   ]
  },
  {
   "cell_type": "code",
   "execution_count": null,
   "id": "59ba1c00-7834-4b88-9253-1ed1cf9f9ad3",
   "metadata": {},
   "outputs": [],
   "source": []
  },
  {
   "cell_type": "code",
   "execution_count": null,
   "id": "506a45cd-fca2-427c-aaf8-556e229ea6e1",
   "metadata": {},
   "outputs": [],
   "source": []
  },
  {
   "cell_type": "code",
   "execution_count": null,
   "id": "c628f2fe-e838-4029-bcf0-01b4a332e3da",
   "metadata": {},
   "outputs": [],
   "source": []
  },
  {
   "cell_type": "code",
   "execution_count": null,
   "id": "e9c9e68d-271c-4fa5-91d7-c9b174509e8e",
   "metadata": {},
   "outputs": [],
   "source": [
    "signalink = obtain_extra_resource(databases = {\"Cellinker\"},\n",
    "                                  blocklist = {\"SIGNOR_mechanism\":{\"phosphorylation\",\"dephosphorylation\"}},\n",
    "                                  allowlist = {'Cellinker_type':{'Cytokine-cytokine receptor interaction',\n",
    "                                                                 'Secreted protein to receptor interaction'}}\n",
    "                                 )"
   ]
  },
  {
   "cell_type": "code",
   "execution_count": null,
   "id": "543ef24b-f7a9-4ad2-8abb-264f439a535d",
   "metadata": {},
   "outputs": [],
   "source": [
    "signalink"
   ]
  },
  {
   "cell_type": "code",
   "execution_count": null,
   "id": "a1a0298c-9592-427d-867a-f8875509e434",
   "metadata": {},
   "outputs": [],
   "source": []
  },
  {
   "cell_type": "code",
   "execution_count": null,
   "id": "44832103-3cce-495a-8b83-5c12b14a9b24",
   "metadata": {},
   "outputs": [],
   "source": []
  },
  {
   "cell_type": "code",
   "execution_count": null,
   "id": "13d5fcc4-770d-42fe-a340-42296f2f51ea",
   "metadata": {},
   "outputs": [],
   "source": []
  },
  {
   "cell_type": "code",
   "execution_count": null,
   "id": "7e5090e2-f73d-47d0-b61d-f435264a4e98",
   "metadata": {},
   "outputs": [],
   "source": [
    "add = omnipath.interactions.PostTranslational.get(databases={\"SignaLink3\"}, \n",
    "                                                  genesymbols=True, \n",
    "                                                  entity_types=['protein', 'complex'],\n",
    "                                                  fields={\"extra_attrs\"})"
   ]
  },
  {
   "cell_type": "code",
   "execution_count": null,
   "id": "c8fd4d38-4b49-44bb-a456-c4f53690b59f",
   "metadata": {},
   "outputs": [],
   "source": [
    "add = add[~add[['source', 'target']].duplicated()]"
   ]
  },
  {
   "cell_type": "code",
   "execution_count": null,
   "id": "95f08758-16f9-4e8a-a449-c29b48c345eb",
   "metadata": {},
   "outputs": [],
   "source": [
    "add"
   ]
  },
  {
   "cell_type": "code",
   "execution_count": null,
   "id": "72b05a5a-116e-4128-ad40-d5aeeff4d80d",
   "metadata": {},
   "outputs": [],
   "source": []
  },
  {
   "cell_type": "code",
   "execution_count": null,
   "id": "b443bb7e-06b2-4af6-a329-7d5a82d25d69",
   "metadata": {},
   "outputs": [],
   "source": [
    "omnipath.interactions.PostTranslational.params()"
   ]
  },
  {
   "cell_type": "code",
   "execution_count": null,
   "id": "ae593cb7-f493-491f-a9d9-e0a964358eb6",
   "metadata": {},
   "outputs": [],
   "source": []
  },
  {
   "cell_type": "code",
   "execution_count": null,
   "id": "86eec01a-089f-4df6-84d2-1de76eacec65",
   "metadata": {},
   "outputs": [],
   "source": [
    "add"
   ]
  },
  {
   "cell_type": "code",
   "execution_count": null,
   "id": "9e1e1b30-7424-4bdc-93b1-cdda73262f8e",
   "metadata": {},
   "outputs": [],
   "source": [
    "add.extra_attrs.values[4]"
   ]
  },
  {
   "cell_type": "code",
   "execution_count": null,
   "id": "3775d380-d1b3-4b7e-ae89-cbc7b3a064fa",
   "metadata": {},
   "outputs": [],
   "source": []
  },
  {
   "cell_type": "code",
   "execution_count": null,
   "id": "e3d0ae7a-0805-417c-b237-b894ee4b7619",
   "metadata": {},
   "outputs": [],
   "source": [
    "blocklist = {\"SIGNOR_mechanism\":{\"phosphorylation\",\"dephosphorylation\"}}\n",
    "allowlist = {'Cellinker_type':{'Cytokine-cytokine receptor interaction',\n",
    "                               'Secreted protein to receptor interaction'}}"
   ]
  },
  {
   "cell_type": "code",
   "execution_count": null,
   "id": "ba570aba-c0bb-4834-bace-e5825d82a17a",
   "metadata": {},
   "outputs": [],
   "source": []
  },
  {
   "cell_type": "code",
   "execution_count": null,
   "id": "a8a51995-c620-46ef-b9c3-dc677729c55b",
   "metadata": {},
   "outputs": [],
   "source": [
    "block_keys = blocklist.keys()\n",
    "allow_keys = allowlist.keys()"
   ]
  },
  {
   "cell_type": "code",
   "execution_count": null,
   "id": "ff3e14ec-c877-4506-8d00-9bf371a62b94",
   "metadata": {},
   "outputs": [],
   "source": [
    "# union of relevant checks\n",
    "union_keys = block_keys ^ allow_keys"
   ]
  },
  {
   "cell_type": "code",
   "execution_count": null,
   "id": "d6d3f42c-da6c-4fae-9358-ba375552597e",
   "metadata": {},
   "outputs": [],
   "source": []
  },
  {
   "cell_type": "code",
   "execution_count": null,
   "id": "bbe20782-c0d3-4a03-abd6-83f060d4bd22",
   "metadata": {},
   "outputs": [],
   "source": []
  },
  {
   "cell_type": "code",
   "execution_count": null,
   "id": "f2462acf-efac-48d2-8d33-d27a6879610a",
   "metadata": {},
   "outputs": [],
   "source": []
  },
  {
   "cell_type": "code",
   "execution_count": null,
   "id": "872f044c-94c4-4d5f-81d8-ee148e655b40",
   "metadata": {},
   "outputs": [],
   "source": [
    "explode_attrs = add['extra_attrs'].apply(_json_intersect_serialize, union_keys=union_keys)"
   ]
  },
  {
   "cell_type": "code",
   "execution_count": null,
   "id": "da60e0fe-54b5-4238-b083-30267da6920a",
   "metadata": {},
   "outputs": [],
   "source": [
    "add = pd.concat([add, explode_attrs], axis = 1).drop('extra_attrs', axis=1)"
   ]
  },
  {
   "cell_type": "code",
   "execution_count": null,
   "id": "bc5b00c3-651f-4b0a-9398-6a36f5323540",
   "metadata": {},
   "outputs": [],
   "source": [
    "(set(['phosphorylation', 'Phosphorylation']))"
   ]
  },
  {
   "cell_type": "code",
   "execution_count": null,
   "id": "59ee871a-9bc1-444d-92f3-d8c4f832b772",
   "metadata": {},
   "outputs": [],
   "source": []
  },
  {
   "cell_type": "code",
   "execution_count": null,
   "id": "e97b4209-b74f-4a17-b112-581841f7073b",
   "metadata": {},
   "outputs": [],
   "source": [
    "add.head(10)"
   ]
  },
  {
   "cell_type": "code",
   "execution_count": null,
   "id": "5f557543-465f-49bf-bc21-8e50810893e3",
   "metadata": {},
   "outputs": [],
   "source": []
  },
  {
   "cell_type": "code",
   "execution_count": null,
   "id": "d48f605c-31d0-48df-8592-ffe4ccf9e4d4",
   "metadata": {},
   "outputs": [],
   "source": []
  },
  {
   "cell_type": "code",
   "execution_count": null,
   "id": "455d0973-0e3c-4bf5-972c-2fcb4c40bcfa",
   "metadata": {},
   "outputs": [],
   "source": [
    "# Convert blocklist to mask\n",
    "for k in block_keys:\n",
    "    add[k] = [any([block  in att for block in blocklist[k]]) if type(att) is not float else True for att in add[k]]\n",
    "    add = add[~add[k]]"
   ]
  },
  {
   "cell_type": "code",
   "execution_count": null,
   "id": "0106d007-cd63-47cc-9a9f-e2a0fc06634a",
   "metadata": {},
   "outputs": [],
   "source": []
  },
  {
   "cell_type": "code",
   "execution_count": null,
   "id": "1138dd2f-25a1-4582-ba1e-25a13eb5d7ac",
   "metadata": {},
   "outputs": [],
   "source": [
    "# Convert allowlist to mask\n",
    "for k in allow_keys:\n",
    "    add[k] = [any([allow  in att for allow in allowlist[k]]) if type(att) is not float else True for att in add[k]]\n",
    "    add = add[add[k]]"
   ]
  },
  {
   "cell_type": "code",
   "execution_count": null,
   "id": "c64e9611-f0bf-43fd-a50b-5d4b8d3b762a",
   "metadata": {},
   "outputs": [],
   "source": []
  },
  {
   "cell_type": "code",
   "execution_count": null,
   "id": "696d2c54-1c94-49c8-8133-d45a76816fa3",
   "metadata": {},
   "outputs": [],
   "source": [
    "add"
   ]
  },
  {
   "cell_type": "code",
   "execution_count": null,
   "id": "a5a7564a-cec9-4d47-92cd-408b0d363750",
   "metadata": {},
   "outputs": [],
   "source": []
  },
  {
   "cell_type": "code",
   "execution_count": null,
   "id": "7601def3-ff14-4e4e-a872-26db2a61089b",
   "metadata": {},
   "outputs": [],
   "source": []
  },
  {
   "cell_type": "code",
   "execution_count": null,
   "id": "0c0d0010-1d1e-45db-89df-6f4b906ee053",
   "metadata": {},
   "outputs": [],
   "source": [
    "[any([block  in att for block in blocklist[k]]) if type(att) is not float else True for att in add[k]]"
   ]
  },
  {
   "cell_type": "code",
   "execution_count": null,
   "id": "01f8b11c-ff85-4cd7-a48f-abbaa1c0e5f8",
   "metadata": {},
   "outputs": [],
   "source": [
    "# len([block in att if type(att) is not float else False for att in add[k] for block in blocklist[k]])"
   ]
  },
  {
   "cell_type": "code",
   "execution_count": null,
   "id": "f07661c5-310d-4feb-be4a-dba7682bfddc",
   "metadata": {},
   "outputs": [],
   "source": [
    "for att in add[k]:\n",
    "    if type(att) is float:\n",
    "        True\n",
    "    any([block in att for block in blocklist[k]])"
   ]
  },
  {
   "cell_type": "code",
   "execution_count": null,
   "id": "21e1d33a-f3bf-4957-9c08-e1a9234f2b15",
   "metadata": {},
   "outputs": [],
   "source": []
  },
  {
   "cell_type": "code",
   "execution_count": null,
   "id": "247da326-41f6-48c6-a871-1a7b25b03262",
   "metadata": {},
   "outputs": [],
   "source": [
    "blocklist[k]"
   ]
  },
  {
   "cell_type": "code",
   "execution_count": null,
   "id": "a78749fd-3a61-4657-bdc6-2eae3e485e71",
   "metadata": {},
   "outputs": [],
   "source": []
  },
  {
   "cell_type": "code",
   "execution_count": null,
   "id": "c9e24bcb-80b1-4df0-a625-dd63c8fb2b41",
   "metadata": {},
   "outputs": [],
   "source": []
  },
  {
   "cell_type": "code",
   "execution_count": null,
   "id": "818697bb-2dfd-4a76-b52f-27493fe8b376",
   "metadata": {},
   "outputs": [],
   "source": [
    "add"
   ]
  },
  {
   "cell_type": "code",
   "execution_count": null,
   "id": "8411e510-7d9e-4657-a076-8514771ee2c2",
   "metadata": {},
   "outputs": [],
   "source": [
    "# Filter any value from blocklist that is true\n",
    "add[~add[block_keys].any(axis=1)]"
   ]
  },
  {
   "cell_type": "code",
   "execution_count": null,
   "id": "cf827f89-8208-4567-be8b-71a6a567070b",
   "metadata": {},
   "outputs": [],
   "source": []
  },
  {
   "cell_type": "code",
   "execution_count": null,
   "id": "0c30f994-e6bf-4b46-bd6a-00d738e6ae07",
   "metadata": {},
   "outputs": [],
   "source": []
  },
  {
   "cell_type": "code",
   "execution_count": null,
   "id": "b8bfc29a-1e0c-4a7c-81ca-f2e85192a085",
   "metadata": {},
   "outputs": [],
   "source": [
    "add['SIGNOR_mechanism'].isin(blocklist['SIGNOR_mechanism'])"
   ]
  },
  {
   "cell_type": "code",
   "execution_count": null,
   "id": "38913dbe-a707-4506-bf25-ae3042192308",
   "metadata": {},
   "outputs": [],
   "source": []
  },
  {
   "cell_type": "code",
   "execution_count": null,
   "id": "d1eec88e-8bc0-4435-904c-967fd60399eb",
   "metadata": {},
   "outputs": [],
   "source": []
  },
  {
   "cell_type": "code",
   "execution_count": null,
   "id": "c4637679-94e8-45c9-b77a-1daeffe825d6",
   "metadata": {},
   "outputs": [],
   "source": [
    "add['SIGNOR_mechanism']"
   ]
  },
  {
   "cell_type": "code",
   "execution_count": null,
   "id": "86ffa2a0-20b2-4947-a4c4-207f1de72948",
   "metadata": {},
   "outputs": [],
   "source": []
  },
  {
   "cell_type": "code",
   "execution_count": null,
   "id": "e85a6abc-28f6-4c06-9205-f1d6289fafea",
   "metadata": {},
   "outputs": [],
   "source": [
    "add"
   ]
  },
  {
   "cell_type": "code",
   "execution_count": null,
   "id": "65960b6f-e8dc-4c3d-9bbf-1277cd833c61",
   "metadata": {},
   "outputs": [],
   "source": []
  },
  {
   "cell_type": "code",
   "execution_count": null,
   "id": "0f9428a1-fdfd-433a-8327-bfd663868d85",
   "metadata": {},
   "outputs": [],
   "source": []
  },
  {
   "cell_type": "code",
   "execution_count": null,
   "id": "1253f27b-438c-4108-9c97-48b4eef787d5",
   "metadata": {},
   "outputs": [],
   "source": []
  },
  {
   "cell_type": "code",
   "execution_count": null,
   "id": "df7aeb44-ad0a-4ff0-81a6-a6675d4b927c",
   "metadata": {},
   "outputs": [],
   "source": []
  },
  {
   "cell_type": "code",
   "execution_count": null,
   "id": "16d13746-9dca-4dd0-80db-babe31c4d764",
   "metadata": {},
   "outputs": [],
   "source": []
  },
  {
   "cell_type": "code",
   "execution_count": null,
   "id": "c2f913d1-1c54-4c78-b7ff-ff2354755bb2",
   "metadata": {},
   "outputs": [],
   "source": [
    "add['extra_attrs'].apply(loads).apply(pd.Series)"
   ]
  },
  {
   "cell_type": "code",
   "execution_count": null,
   "id": "4355b556-aa67-4553-a36e-dd38b31c3dee",
   "metadata": {},
   "outputs": [],
   "source": []
  },
  {
   "cell_type": "code",
   "execution_count": null,
   "id": "c3ed187a-8144-4f2b-9fbd-a2d36668d9ee",
   "metadata": {},
   "outputs": [],
   "source": [
    "add['extra_attrs']"
   ]
  },
  {
   "cell_type": "code",
   "execution_count": null,
   "id": "ac7516d0-e162-44bb-b25a-536c367c5986",
   "metadata": {},
   "outputs": [],
   "source": []
  },
  {
   "cell_type": "code",
   "execution_count": null,
   "id": "4a53caf8-1a4f-4d3f-a464-606c22aaf4c0",
   "metadata": {},
   "outputs": [],
   "source": []
  },
  {
   "cell_type": "code",
   "execution_count": null,
   "id": "988a839f-1113-4110-a5e0-d178514287c8",
   "metadata": {},
   "outputs": [],
   "source": []
  },
  {
   "cell_type": "code",
   "execution_count": null,
   "id": "a722c91f-80a5-42d2-a513-57e338e1fbf6",
   "metadata": {},
   "outputs": [],
   "source": [
    "def vlues_tolist_drop(df):\n",
    "    return df.join(pd.DataFrame(df['extra_attrs'].values.tolist())).drop('extra_attrs', axis=1)"
   ]
  },
  {
   "cell_type": "code",
   "execution_count": null,
   "id": "f32a0faa-55e0-41ea-b8e1-ff2b567e8943",
   "metadata": {},
   "outputs": [],
   "source": [
    "vlues_tolist_drop(add)"
   ]
  },
  {
   "cell_type": "code",
   "execution_count": null,
   "id": "223333c0-573f-4ef6-8968-57fcfd3fd0de",
   "metadata": {},
   "outputs": [],
   "source": []
  },
  {
   "cell_type": "code",
   "execution_count": null,
   "id": "77028830-51e5-4557-97f2-18b33f2ed603",
   "metadata": {},
   "outputs": [],
   "source": []
  },
  {
   "cell_type": "code",
   "execution_count": null,
   "id": "b90ce2e3-6e8a-460d-ac3c-43663654a82a",
   "metadata": {},
   "outputs": [],
   "source": []
  },
  {
   "cell_type": "code",
   "execution_count": null,
   "id": "2e9e652c-193e-4670-beb1-b3e33ab6dad9",
   "metadata": {},
   "outputs": [],
   "source": [
    "add['attribute_check'] = [_check_resource_attributes(att, allowlist, blocklist) for att in add.extra_attrs]"
   ]
  },
  {
   "cell_type": "code",
   "execution_count": null,
   "id": "d395b9ad-e4c2-4b74-817e-c3d277f50898",
   "metadata": {},
   "outputs": [],
   "source": []
  },
  {
   "cell_type": "code",
   "execution_count": null,
   "id": "f4c8cc02-eb8f-46a9-98f5-780ed7a0d5ab",
   "metadata": {},
   "outputs": [],
   "source": []
  },
  {
   "cell_type": "code",
   "execution_count": null,
   "id": "3ab6295d-46c0-47fd-8baa-dc37fe366225",
   "metadata": {},
   "outputs": [],
   "source": []
  },
  {
   "cell_type": "code",
   "execution_count": null,
   "id": "f19c47de-f36d-43f9-b8ff-dffd0562a139",
   "metadata": {},
   "outputs": [],
   "source": []
  },
  {
   "cell_type": "code",
   "execution_count": null,
   "id": "11052020-7967-4e50-a9af-89b2756cd5a7",
   "metadata": {},
   "outputs": [],
   "source": []
  },
  {
   "cell_type": "code",
   "execution_count": null,
   "id": "396657b3-0e7a-4596-ac0c-cbc9cf203769",
   "metadata": {},
   "outputs": [],
   "source": [
    "extra_attrs = []"
   ]
  },
  {
   "cell_type": "code",
   "execution_count": null,
   "id": "b84fb570-bdd6-43eb-816f-64a2ed3225fa",
   "metadata": {},
   "outputs": [],
   "source": []
  },
  {
   "cell_type": "code",
   "execution_count": null,
   "id": "d3f4c2b8-463f-40a0-a65d-c1c3e031256c",
   "metadata": {},
   "outputs": [],
   "source": []
  },
  {
   "cell_type": "code",
   "execution_count": null,
   "id": "bce668cc-4045-4f54-b5af-694a71db8298",
   "metadata": {},
   "outputs": [],
   "source": []
  },
  {
   "cell_type": "code",
   "execution_count": null,
   "id": "74427ae8-09e0-4948-a5be-3aa4678b3748",
   "metadata": {},
   "outputs": [],
   "source": []
  },
  {
   "cell_type": "code",
   "execution_count": null,
   "id": "3de45d13-1f17-4107-b224-58803f7db300",
   "metadata": {},
   "outputs": [],
   "source": []
  },
  {
   "cell_type": "code",
   "execution_count": null,
   "id": "b3f0048d-615e-47ff-97b5-a9ff1598838a",
   "metadata": {},
   "outputs": [],
   "source": []
  },
  {
   "cell_type": "code",
   "execution_count": null,
   "id": "aed301e7-cdb2-4e00-98dc-585785c50a82",
   "metadata": {},
   "outputs": [],
   "source": []
  },
  {
   "cell_type": "code",
   "execution_count": null,
   "id": "51bb1dae-b65a-4761-9ee1-02895513883e",
   "metadata": {},
   "outputs": [],
   "source": [
    "def _check_resource_attributes(att, allowlist, blocklist, keep_empty=False):\n",
    "    att = loads(att)\n",
    "    att_keys = set(att.keys())\n",
    "    \n",
    "    block_keys = set(blocklist.keys())\n",
    "    to_block = att_keys.intersection(block_keys)\n",
    "    \n",
    "    # Discard any interactions without attributes\n",
    "    if len(att)==0:\n",
    "        return keep_empty\n",
    "        \n",
    "    # If any interescts with blocklist -> False\n",
    "    if to_block:\n",
    "        for key in to_block:\n",
    "            if type(att[key]) is bool:\n",
    "                if att[key] is blocklist[key]:\n",
    "                    return False\n",
    "            elif set([att[key]]).intersection(blocklist[key]):\n",
    "                print(set([att[key]]))\n",
    "                return False\n",
    "    \n",
    "    allow_keys = set(allowlist.keys())\n",
    "    to_allow = att_keys.intersection(allow_keys)\n",
    "    \n",
    "    # If any interescts with allowlist -> True\n",
    "    if to_allow:\n",
    "        for key in to_allow:\n",
    "            if type(att[key]) is bool:\n",
    "                if att[key] is allowlist[key]:\n",
    "                    return True\n",
    "            if set([att[key]]).intersection(allowlist[key]):\n",
    "                return True\n",
    "    \n",
    "    # If neither then again False\n",
    "    return False"
   ]
  },
  {
   "cell_type": "code",
   "execution_count": null,
   "id": "e9745abf-104c-4d8a-92a2-faa5d6579574",
   "metadata": {},
   "outputs": [],
   "source": []
  },
  {
   "cell_type": "code",
   "execution_count": null,
   "id": "8ade5568-e202-40af-9f83-283a85c8e8af",
   "metadata": {},
   "outputs": [],
   "source": [
    "att = add.extra_attrs.values[5]\n",
    "att"
   ]
  },
  {
   "cell_type": "code",
   "execution_count": null,
   "id": "60752344-a732-4e41-90fa-dd4ceda0a6ad",
   "metadata": {},
   "outputs": [],
   "source": [
    "_check_resource_attributes(att, allowlist, blocklist)"
   ]
  },
  {
   "cell_type": "code",
   "execution_count": null,
   "id": "8093eeda-f52c-4913-81ee-2ea2400b7b93",
   "metadata": {},
   "outputs": [],
   "source": []
  },
  {
   "cell_type": "code",
   "execution_count": null,
   "id": "3b28f330-ed32-4c9b-a4f8-ff6595ead268",
   "metadata": {},
   "outputs": [],
   "source": []
  },
  {
   "cell_type": "code",
   "execution_count": null,
   "id": "b173f437-9018-4422-9539-b57dec0c71c2",
   "metadata": {},
   "outputs": [],
   "source": []
  },
  {
   "cell_type": "code",
   "execution_count": null,
   "id": "7868e7a2-be9e-4e24-9236-0c4be21a6e18",
   "metadata": {},
   "outputs": [],
   "source": [
    "att = loads(add.extra_attrs.values[1])\n",
    "att"
   ]
  },
  {
   "cell_type": "code",
   "execution_count": null,
   "id": "210d4e7e-c58a-4184-9ede-56b77970424d",
   "metadata": {},
   "outputs": [],
   "source": [
    "to_block = set(att.keys()).intersection(set(blocklist.keys()))\n",
    "to_allow = set(att.keys()).intersection(set(allowlist.keys()))"
   ]
  },
  {
   "cell_type": "code",
   "execution_count": null,
   "id": "f15c1994-4961-4f73-8cc5-3fd11ac576d1",
   "metadata": {},
   "outputs": [],
   "source": [
    "to_block"
   ]
  },
  {
   "cell_type": "code",
   "execution_count": null,
   "id": "c0d3e18d-08aa-48ae-b95f-ddbdf0c8fee4",
   "metadata": {},
   "outputs": [],
   "source": []
  },
  {
   "cell_type": "code",
   "execution_count": null,
   "id": "402c8fbd-fb6e-4e72-9c0f-c62b2c5b10bc",
   "metadata": {},
   "outputs": [],
   "source": [
    "att.keys()"
   ]
  },
  {
   "cell_type": "code",
   "execution_count": null,
   "id": "0ca613d9-1d7f-4702-8c43-e18976b0fbba",
   "metadata": {},
   "outputs": [],
   "source": []
  },
  {
   "cell_type": "code",
   "execution_count": null,
   "id": "e7c57cfd-c11f-4299-a1ec-13a94325cadc",
   "metadata": {},
   "outputs": [],
   "source": []
  },
  {
   "cell_type": "code",
   "execution_count": null,
   "id": "051a867c-e4cc-49a9-8c33-97bd02035789",
   "metadata": {},
   "outputs": [],
   "source": []
  },
  {
   "cell_type": "code",
   "execution_count": null,
   "id": "6cd5c2c8-d817-4932-95ad-365c115bf489",
   "metadata": {},
   "outputs": [],
   "source": [
    "to_block"
   ]
  },
  {
   "cell_type": "code",
   "execution_count": null,
   "id": "ed4f1eb3-85c7-4c8b-9c54-22ca87d690cd",
   "metadata": {},
   "outputs": [],
   "source": []
  },
  {
   "cell_type": "code",
   "execution_count": null,
   "id": "1c672da0-98b6-4c5f-b0eb-94f2eee9a2fa",
   "metadata": {},
   "outputs": [],
   "source": []
  },
  {
   "cell_type": "code",
   "execution_count": null,
   "id": "961bf66a-81fc-4f13-9ec3-5f6c20c37f65",
   "metadata": {},
   "outputs": [],
   "source": []
  },
  {
   "cell_type": "code",
   "execution_count": null,
   "id": "be583f10-0a93-41bf-b5a7-b8ba8fe3e549",
   "metadata": {},
   "outputs": [],
   "source": []
  },
  {
   "cell_type": "code",
   "execution_count": null,
   "id": "b216430a-39b5-4645-a319-12f1c586103c",
   "metadata": {},
   "outputs": [],
   "source": []
  },
  {
   "cell_type": "code",
   "execution_count": null,
   "id": "b573885a-cf55-4725-9dbb-e09dea12158c",
   "metadata": {},
   "outputs": [],
   "source": [
    "to_check = np.intersect1d(list(att.keys()), list(blacklist.keys()))"
   ]
  },
  {
   "cell_type": "code",
   "execution_count": null,
   "id": "6f3f8e9c-7f3b-45e2-bd0f-cbab0e2218fa",
   "metadata": {},
   "outputs": [],
   "source": [
    "att"
   ]
  },
  {
   "cell_type": "code",
   "execution_count": null,
   "id": "39cdb6b7-f342-441f-ad54-e1eb9d85c040",
   "metadata": {},
   "outputs": [],
   "source": [
    "for key in to_check:\n",
    "    if set(att[key]).intersection(blacklist[key]):\n",
    "        False\n",
    "    "
   ]
  },
  {
   "cell_type": "code",
   "execution_count": null,
   "id": "3f732df8-d60a-4053-a857-502910831f2f",
   "metadata": {},
   "outputs": [],
   "source": [
    "all([False for key in to_check if set(att[key]).intersection(blacklist[key])])"
   ]
  },
  {
   "cell_type": "code",
   "execution_count": null,
   "id": "6d470785-3185-4bb8-befd-5c175f039360",
   "metadata": {},
   "outputs": [],
   "source": []
  },
  {
   "cell_type": "code",
   "execution_count": null,
   "id": "63ad3e75-83ef-4505-9ba9-5ecf81b7690e",
   "metadata": {},
   "outputs": [],
   "source": [
    "to_check"
   ]
  },
  {
   "cell_type": "code",
   "execution_count": null,
   "id": "b86ffcb6-0f9b-470f-aa3a-97b9a67e81e1",
   "metadata": {},
   "outputs": [],
   "source": []
  },
  {
   "cell_type": "code",
   "execution_count": null,
   "id": "c81a9595-252a-4a14-975b-e22ea092311d",
   "metadata": {},
   "outputs": [],
   "source": []
  },
  {
   "cell_type": "code",
   "execution_count": null,
   "id": "00a9daca-aa48-4303-9705-c6f9c2bfff06",
   "metadata": {},
   "outputs": [],
   "source": [
    "loads(add['extra_attrs'].values[3])"
   ]
  },
  {
   "cell_type": "code",
   "execution_count": null,
   "id": "b25fb57c-b05c-4e40-9d0b-c661a36a829a",
   "metadata": {},
   "outputs": [],
   "source": [
    "loads(add['extra_attrs'].values[3])"
   ]
  },
  {
   "cell_type": "code",
   "execution_count": null,
   "id": "03e08a36-cbfe-40e0-a841-093649e6a84b",
   "metadata": {},
   "outputs": [],
   "source": [
    "loads(add['extra_attrs'].values[1]) is False"
   ]
  },
  {
   "cell_type": "code",
   "execution_count": null,
   "id": "1e22e853-281a-45ff-924f-3e5c0cf8ba41",
   "metadata": {},
   "outputs": [],
   "source": []
  },
  {
   "cell_type": "code",
   "execution_count": null,
   "id": "65f3d0de-4ec8-4057-98ba-0b8de2589f8a",
   "metadata": {},
   "outputs": [],
   "source": []
  },
  {
   "cell_type": "code",
   "execution_count": null,
   "id": "3fcdf41d-40d6-4bea-aac8-d23002f84901",
   "metadata": {},
   "outputs": [],
   "source": []
  },
  {
   "cell_type": "code",
   "execution_count": null,
   "id": "76747a94-aa34-4549-b9e1-b521940e8d79",
   "metadata": {},
   "outputs": [],
   "source": [
    "add[add['type']]"
   ]
  },
  {
   "cell_type": "code",
   "execution_count": null,
   "id": "415aa9d3-87ca-4549-b4ac-33fbf91efa20",
   "metadata": {},
   "outputs": [],
   "source": []
  },
  {
   "cell_type": "code",
   "execution_count": null,
   "id": "bc8550ff-811d-4cce-bcdb-c483f5e9db9a",
   "metadata": {},
   "outputs": [],
   "source": []
  },
  {
   "cell_type": "code",
   "execution_count": null,
   "id": "0ed3a166-40f5-46bf-80f2-0efcb8793351",
   "metadata": {},
   "outputs": [],
   "source": []
  },
  {
   "cell_type": "code",
   "execution_count": null,
   "id": "62f6b575-1db7-4cb6-9829-8c3532d15966",
   "metadata": {},
   "outputs": [],
   "source": [
    "pl = loads(translational[\"extra_attrs\"][3])"
   ]
  },
  {
   "cell_type": "code",
   "execution_count": null,
   "id": "d8b80dff-aed2-48c4-a268-bf12fdc0fafd",
   "metadata": {},
   "outputs": [],
   "source": []
  },
  {
   "cell_type": "code",
   "execution_count": null,
   "id": "79fa1315-66d6-4459-bc59-16ec1fa70d04",
   "metadata": {},
   "outputs": [],
   "source": []
  },
  {
   "cell_type": "code",
   "execution_count": null,
   "id": "85465a20-06d3-4aaf-a332-2979571e7756",
   "metadata": {},
   "outputs": [],
   "source": [
    "omnipath.interactions.PostTranslational.params()"
   ]
  },
  {
   "cell_type": "code",
   "execution_count": null,
   "id": "ae198f9d-4ddf-4b8c-8839-a4ae4f1a924c",
   "metadata": {},
   "outputs": [],
   "source": []
  },
  {
   "cell_type": "code",
   "execution_count": null,
   "id": "62d1d070-56a0-4f00-9594-e5a9f933b564",
   "metadata": {},
   "outputs": [],
   "source": [
    "add = import_intercell_network(\n",
    "    interactions_params={\"databases\": {\"Cellinker\"}},\n",
    "    transmitter_params=transmitter_params,\n",
    "    receiver_params=receiver_params,\n",
    ")"
   ]
  },
  {
   "cell_type": "code",
   "execution_count": null,
   "id": "7527f2be-f833-4072-b30a-c450bd0f9558",
   "metadata": {},
   "outputs": [],
   "source": [
    "add"
   ]
  }
 ],
 "metadata": {
  "kernelspec": {
   "display_name": "liana-py",
   "language": "python",
   "name": "liana-py"
  },
  "language_info": {
   "codemirror_mode": {
    "name": "ipython",
    "version": 3
   },
   "file_extension": ".py",
   "mimetype": "text/x-python",
   "name": "python",
   "nbconvert_exporter": "python",
   "pygments_lexer": "ipython3",
   "version": "3.8.8"
  }
 },
 "nbformat": 4,
 "nbformat_minor": 5
}
