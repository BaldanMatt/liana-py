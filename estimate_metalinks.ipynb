{
 "cells": [
  {
   "attachments": {},
   "cell_type": "markdown",
   "metadata": {},
   "source": [
    "# Estimate Metalinks"
   ]
  },
  {
   "cell_type": "code",
   "execution_count": 1,
   "metadata": {},
   "outputs": [
    {
     "name": "stderr",
     "output_type": "stream",
     "text": [
      "/home/dbdimitrov/anaconda3/envs/spiana/lib/python3.10/site-packages/tqdm/auto.py:21: TqdmWarning: IProgress not found. Please update jupyter and ipywidgets. See https://ipywidgets.readthedocs.io/en/stable/user_install.html\n",
      "  from .autonotebook import tqdm as notebook_tqdm\n"
     ]
    }
   ],
   "source": [
    "import numpy as np\n",
    "import pandas as pd\n",
    "import scanpy as sc\n",
    "import muon as mu\n",
    "import liana as li"
   ]
  },
  {
   "cell_type": "code",
   "execution_count": 2,
   "metadata": {},
   "outputs": [],
   "source": [
    "from liana.funcomics import neg_to_zero"
   ]
  },
  {
   "cell_type": "code",
   "execution_count": 3,
   "metadata": {},
   "outputs": [],
   "source": [
    "import decoupler as dc"
   ]
  },
  {
   "attachments": {},
   "cell_type": "markdown",
   "metadata": {},
   "source": [
    "Test object"
   ]
  },
  {
   "cell_type": "code",
   "execution_count": 4,
   "metadata": {},
   "outputs": [],
   "source": [
    "adata = sc.datasets.pbmc68k_reduced()\n",
    "adata = adata.raw.to_adata()"
   ]
  },
  {
   "attachments": {},
   "cell_type": "markdown",
   "metadata": {},
   "source": [
    "## Metabolite Enrichment"
   ]
  },
  {
   "cell_type": "code",
   "execution_count": 5,
   "metadata": {},
   "outputs": [],
   "source": [
    "resource = pd.read_csv(\"liana/resource/metalinks_resource.csv\")"
   ]
  },
  {
   "cell_type": "code",
   "execution_count": 6,
   "metadata": {},
   "outputs": [],
   "source": [
    "resource = resource[['HMDB', 'Symbol']].rename(columns={'HMDB': 'ligand', 'Symbol': 'receptor'})"
   ]
  },
  {
   "cell_type": "code",
   "execution_count": 7,
   "metadata": {},
   "outputs": [
    {
     "data": {
      "text/html": [
       "<div>\n",
       "<style scoped>\n",
       "    .dataframe tbody tr th:only-of-type {\n",
       "        vertical-align: middle;\n",
       "    }\n",
       "\n",
       "    .dataframe tbody tr th {\n",
       "        vertical-align: top;\n",
       "    }\n",
       "\n",
       "    .dataframe thead th {\n",
       "        text-align: right;\n",
       "    }\n",
       "</style>\n",
       "<table border=\"1\" class=\"dataframe\">\n",
       "  <thead>\n",
       "    <tr style=\"text-align: right;\">\n",
       "      <th></th>\n",
       "      <th>ligand</th>\n",
       "      <th>receptor</th>\n",
       "    </tr>\n",
       "  </thead>\n",
       "  <tbody>\n",
       "    <tr>\n",
       "      <th>0</th>\n",
       "      <td>HMDB0000112</td>\n",
       "      <td>GABRB2</td>\n",
       "    </tr>\n",
       "    <tr>\n",
       "      <th>1</th>\n",
       "      <td>HMDB0001043</td>\n",
       "      <td>CLCN2</td>\n",
       "    </tr>\n",
       "    <tr>\n",
       "      <th>2</th>\n",
       "      <td>HMDB0015180</td>\n",
       "      <td>CLCN2</td>\n",
       "    </tr>\n",
       "    <tr>\n",
       "      <th>3</th>\n",
       "      <td>HMDB0000216</td>\n",
       "      <td>ADRA2B</td>\n",
       "    </tr>\n",
       "    <tr>\n",
       "      <th>4</th>\n",
       "      <td>HMDB0000068</td>\n",
       "      <td>ADRA2B</td>\n",
       "    </tr>\n",
       "    <tr>\n",
       "      <th>...</th>\n",
       "      <td>...</td>\n",
       "      <td>...</td>\n",
       "    </tr>\n",
       "    <tr>\n",
       "      <th>10160</th>\n",
       "      <td>HMDB0041130</td>\n",
       "      <td>MUSK</td>\n",
       "    </tr>\n",
       "    <tr>\n",
       "      <th>10161</th>\n",
       "      <td>HMDB0002496</td>\n",
       "      <td>MUSK</td>\n",
       "    </tr>\n",
       "    <tr>\n",
       "      <th>10162</th>\n",
       "      <td>HMDB0015397</td>\n",
       "      <td>MUSK</td>\n",
       "    </tr>\n",
       "    <tr>\n",
       "      <th>10163</th>\n",
       "      <td>HMDB0006284</td>\n",
       "      <td>MUSK</td>\n",
       "    </tr>\n",
       "    <tr>\n",
       "      <th>10164</th>\n",
       "      <td>HMDB0000134</td>\n",
       "      <td>MUSK</td>\n",
       "    </tr>\n",
       "  </tbody>\n",
       "</table>\n",
       "<p>10165 rows × 2 columns</p>\n",
       "</div>"
      ],
      "text/plain": [
       "            ligand receptor\n",
       "0      HMDB0000112   GABRB2\n",
       "1      HMDB0001043    CLCN2\n",
       "2      HMDB0015180    CLCN2\n",
       "3      HMDB0000216   ADRA2B\n",
       "4      HMDB0000068   ADRA2B\n",
       "...            ...      ...\n",
       "10160  HMDB0041130     MUSK\n",
       "10161  HMDB0002496     MUSK\n",
       "10162  HMDB0015397     MUSK\n",
       "10163  HMDB0006284     MUSK\n",
       "10164  HMDB0000134     MUSK\n",
       "\n",
       "[10165 rows x 2 columns]"
      ]
     },
     "execution_count": 7,
     "metadata": {},
     "output_type": "execute_result"
    }
   ],
   "source": [
    "resource"
   ]
  },
  {
   "attachments": {},
   "cell_type": "markdown",
   "metadata": {},
   "source": [
    "Process net"
   ]
  },
  {
   "cell_type": "code",
   "execution_count": 8,
   "metadata": {},
   "outputs": [],
   "source": [
    "# replace direction with 1 or -1\n",
    "met_net = pd.read_csv(\"liana/resource/metabolite_sets.csv\")\n",
    "met_net['direction'].replace({'degrading': -1, 'producing': 1}, inplace=True)"
   ]
  },
  {
   "cell_type": "code",
   "execution_count": 9,
   "metadata": {},
   "outputs": [],
   "source": [
    "# NOTE: there are duplicates, Elias should append Sources\n",
    "met_net = met_net.drop_duplicates(['HMDB', 'GENE', 'direction'])"
   ]
  },
  {
   "cell_type": "code",
   "execution_count": 10,
   "metadata": {},
   "outputs": [],
   "source": [
    "# NOTE: there are sign-duplicates...\n",
    "met_net = met_net.groupby(['HMDB', 'GENE']).aggregate({'direction': 'mean'}).reset_index()\n",
    "# Remove any edge whose direction is not 1 or -1\n",
    "met_net = met_net[met_net['direction'].isin([-1, 1])]"
   ]
  },
  {
   "attachments": {},
   "cell_type": "markdown",
   "metadata": {},
   "source": [
    "Metabolite Estimate"
   ]
  },
  {
   "cell_type": "code",
   "execution_count": 11,
   "metadata": {},
   "outputs": [],
   "source": [
    "dc.run_ulm(adata, net=met_net, source='HMDB', target='GENE', weight='direction', use_raw=False, min_n=2)"
   ]
  },
  {
   "cell_type": "code",
   "execution_count": 12,
   "metadata": {},
   "outputs": [
    {
     "data": {
      "text/plain": [
       "AnnData object with n_obs × n_vars = 700 × 95\n",
       "    obs: 'bulk_labels', 'n_genes', 'percent_mito', 'n_counts', 'S_score', 'G2M_score', 'phase', 'louvain'\n",
       "    uns: 'bulk_labels_colors', 'louvain', 'louvain_colors', 'neighbors', 'pca', 'rank_genes_groups'\n",
       "    obsm: 'X_pca', 'X_umap', 'ulm_estimate', 'ulm_pvals'\n",
       "    obsp: 'distances', 'connectivities'"
      ]
     },
     "execution_count": 12,
     "metadata": {},
     "output_type": "execute_result"
    }
   ],
   "source": [
    "met_est = li.fun.obsm_to_adata(adata, 'ulm_estimate')\n",
    "met_est"
   ]
  },
  {
   "attachments": {},
   "cell_type": "markdown",
   "metadata": {},
   "source": [
    "To MuData"
   ]
  },
  {
   "cell_type": "code",
   "execution_count": 13,
   "metadata": {},
   "outputs": [],
   "source": [
    "mdata = mu.MuData({'metabolite':met_est, 'rna':adata})"
   ]
  },
  {
   "attachments": {},
   "cell_type": "markdown",
   "metadata": {},
   "source": [
    "Run LIANA"
   ]
  },
  {
   "cell_type": "code",
   "execution_count": 14,
   "metadata": {},
   "outputs": [
    {
     "name": "stdout",
     "output_type": "stream",
     "text": [
      "Using `.X`!\n",
      "Converting mat to CSR format\n",
      "Transforming metabolite using neg_to_zero\n",
      "Using `.X`!\n",
      "Using `.X`!\n",
      "Using provided `resource`.\n",
      "0.98 of entities in the resource are missing from the data.\n",
      "Generating ligand-receptor stats for 700 samples and 860 features\n",
      "Assuming that counts were `natural` log-normalized!\n",
      "Running CellPhoneDB\n",
      "Running Connectome\n",
      "Running log2FC\n",
      "Running NATMI\n",
      "Running SingleCellSignalR\n",
      "Running CellChat\n"
     ]
    }
   ],
   "source": [
    "li.mt.rank_aggregate(mdata, groupby='bulk_labels',\n",
    "                     multi_kwargs=dict(x_mod='metabolite', y_mod='rna',\n",
    "                                       x_transform = neg_to_zero,\n",
    "                                       y_transform = False),\n",
    "                     n_perms=None, use_raw=False, verbose=True,\n",
    "                     resource=resource)"
   ]
  },
  {
   "cell_type": "code",
   "execution_count": 15,
   "metadata": {},
   "outputs": [
    {
     "data": {
      "text/html": [
       "<div>\n",
       "<style scoped>\n",
       "    .dataframe tbody tr th:only-of-type {\n",
       "        vertical-align: middle;\n",
       "    }\n",
       "\n",
       "    .dataframe tbody tr th {\n",
       "        vertical-align: top;\n",
       "    }\n",
       "\n",
       "    .dataframe thead th {\n",
       "        text-align: right;\n",
       "    }\n",
       "</style>\n",
       "<table border=\"1\" class=\"dataframe\">\n",
       "  <thead>\n",
       "    <tr style=\"text-align: right;\">\n",
       "      <th></th>\n",
       "      <th>source</th>\n",
       "      <th>target</th>\n",
       "      <th>ligand_complex</th>\n",
       "      <th>receptor_complex</th>\n",
       "      <th>lr_means</th>\n",
       "      <th>expr_prod</th>\n",
       "      <th>scaled_weight</th>\n",
       "      <th>lr_logfc</th>\n",
       "      <th>spec_weight</th>\n",
       "      <th>lrscore</th>\n",
       "      <th>lr_probs</th>\n",
       "      <th>magnitude_rank</th>\n",
       "    </tr>\n",
       "  </thead>\n",
       "  <tbody>\n",
       "    <tr>\n",
       "      <th>12</th>\n",
       "      <td>CD4+/CD45RO+ Memory</td>\n",
       "      <td>CD4+/CD45RA+/CD25- Naive T</td>\n",
       "      <td>HMDB0000123</td>\n",
       "      <td>CXCR4</td>\n",
       "      <td>0.768593</td>\n",
       "      <td>0.273871</td>\n",
       "      <td>0.883349</td>\n",
       "      <td>0.745058</td>\n",
       "      <td>0.068262</td>\n",
       "      <td>0.479293</td>\n",
       "      <td>0.004321</td>\n",
       "      <td>0.000036</td>\n",
       "    </tr>\n",
       "    <tr>\n",
       "      <th>15</th>\n",
       "      <td>CD14+ Monocyte</td>\n",
       "      <td>CD4+/CD45RA+/CD25- Naive T</td>\n",
       "      <td>HMDB0000123</td>\n",
       "      <td>CXCR4</td>\n",
       "      <td>0.721617</td>\n",
       "      <td>0.148773</td>\n",
       "      <td>0.663560</td>\n",
       "      <td>0.628908</td>\n",
       "      <td>0.037081</td>\n",
       "      <td>0.404200</td>\n",
       "      <td>0.001795</td>\n",
       "      <td>0.005583</td>\n",
       "    </tr>\n",
       "    <tr>\n",
       "      <th>42</th>\n",
       "      <td>CD4+/CD45RO+ Memory</td>\n",
       "      <td>CD8+/CD45RA+ Naive Cytotoxic</td>\n",
       "      <td>HMDB0000123</td>\n",
       "      <td>CXCR4</td>\n",
       "      <td>0.589145</td>\n",
       "      <td>0.200051</td>\n",
       "      <td>0.648027</td>\n",
       "      <td>0.519143</td>\n",
       "      <td>0.049862</td>\n",
       "      <td>0.440306</td>\n",
       "      <td>0.003105</td>\n",
       "      <td>0.020353</td>\n",
       "    </tr>\n",
       "    <tr>\n",
       "      <th>83</th>\n",
       "      <td>CD56+ NK</td>\n",
       "      <td>CD14+ Monocyte</td>\n",
       "      <td>HMDB0001341</td>\n",
       "      <td>P2RY13</td>\n",
       "      <td>0.697882</td>\n",
       "      <td>0.237026</td>\n",
       "      <td>0.682175</td>\n",
       "      <td>0.731639</td>\n",
       "      <td>0.099824</td>\n",
       "      <td>0.461297</td>\n",
       "      <td>0.000000</td>\n",
       "      <td>0.023357</td>\n",
       "    </tr>\n",
       "    <tr>\n",
       "      <th>45</th>\n",
       "      <td>CD14+ Monocyte</td>\n",
       "      <td>CD8+/CD45RA+ Naive Cytotoxic</td>\n",
       "      <td>HMDB0000123</td>\n",
       "      <td>CXCR4</td>\n",
       "      <td>0.542169</td>\n",
       "      <td>0.108673</td>\n",
       "      <td>0.428237</td>\n",
       "      <td>0.402993</td>\n",
       "      <td>0.027086</td>\n",
       "      <td>0.367017</td>\n",
       "      <td>0.001289</td>\n",
       "      <td>0.042129</td>\n",
       "    </tr>\n",
       "    <tr>\n",
       "      <th>...</th>\n",
       "      <td>...</td>\n",
       "      <td>...</td>\n",
       "      <td>...</td>\n",
       "      <td>...</td>\n",
       "      <td>...</td>\n",
       "      <td>...</td>\n",
       "      <td>...</td>\n",
       "      <td>...</td>\n",
       "      <td>...</td>\n",
       "      <td>...</td>\n",
       "      <td>...</td>\n",
       "      <td>...</td>\n",
       "    </tr>\n",
       "    <tr>\n",
       "      <th>96</th>\n",
       "      <td>CD19+ B</td>\n",
       "      <td>CD19+ B</td>\n",
       "      <td>HMDB0000123</td>\n",
       "      <td>CXCR4</td>\n",
       "      <td>0.133630</td>\n",
       "      <td>0.009516</td>\n",
       "      <td>-0.224411</td>\n",
       "      <td>-0.406387</td>\n",
       "      <td>0.002372</td>\n",
       "      <td>0.146451</td>\n",
       "      <td>0.000000</td>\n",
       "      <td>1.000000</td>\n",
       "    </tr>\n",
       "    <tr>\n",
       "      <th>113</th>\n",
       "      <td>CD8+ Cytotoxic T</td>\n",
       "      <td>CD56+ NK</td>\n",
       "      <td>HMDB0000123</td>\n",
       "      <td>CXCR4</td>\n",
       "      <td>0.243890</td>\n",
       "      <td>0.026961</td>\n",
       "      <td>-0.044037</td>\n",
       "      <td>-0.091241</td>\n",
       "      <td>0.006720</td>\n",
       "      <td>0.224087</td>\n",
       "      <td>0.000000</td>\n",
       "      <td>1.000000</td>\n",
       "    </tr>\n",
       "    <tr>\n",
       "      <th>114</th>\n",
       "      <td>CD8+/CD45RA+ Naive Cytotoxic</td>\n",
       "      <td>CD56+ NK</td>\n",
       "      <td>HMDB0000123</td>\n",
       "      <td>CXCR4</td>\n",
       "      <td>0.264828</td>\n",
       "      <td>0.044726</td>\n",
       "      <td>0.053929</td>\n",
       "      <td>-0.065919</td>\n",
       "      <td>0.011148</td>\n",
       "      <td>0.271125</td>\n",
       "      <td>0.000000</td>\n",
       "      <td>1.000000</td>\n",
       "    </tr>\n",
       "    <tr>\n",
       "      <th>34</th>\n",
       "      <td>CD8+/CD45RA+ Naive Cytotoxic</td>\n",
       "      <td>CD8+ Cytotoxic T</td>\n",
       "      <td>HMDB0000123</td>\n",
       "      <td>CXCR4</td>\n",
       "      <td>0.405512</td>\n",
       "      <td>0.074391</td>\n",
       "      <td>0.238417</td>\n",
       "      <td>0.359093</td>\n",
       "      <td>0.018542</td>\n",
       "      <td>0.324200</td>\n",
       "      <td>0.000000</td>\n",
       "      <td>1.000000</td>\n",
       "    </tr>\n",
       "    <tr>\n",
       "      <th>129</th>\n",
       "      <td>Dendritic</td>\n",
       "      <td>Dendritic</td>\n",
       "      <td>HMDB0000123</td>\n",
       "      <td>CXCR4</td>\n",
       "      <td>0.331748</td>\n",
       "      <td>0.024179</td>\n",
       "      <td>0.029330</td>\n",
       "      <td>0.092172</td>\n",
       "      <td>0.006027</td>\n",
       "      <td>0.214762</td>\n",
       "      <td>0.000000</td>\n",
       "      <td>1.000000</td>\n",
       "    </tr>\n",
       "  </tbody>\n",
       "</table>\n",
       "<p>130 rows × 12 columns</p>\n",
       "</div>"
      ],
      "text/plain": [
       "                           source                        target  \\\n",
       "12            CD4+/CD45RO+ Memory    CD4+/CD45RA+/CD25- Naive T   \n",
       "15                 CD14+ Monocyte    CD4+/CD45RA+/CD25- Naive T   \n",
       "42            CD4+/CD45RO+ Memory  CD8+/CD45RA+ Naive Cytotoxic   \n",
       "83                       CD56+ NK                CD14+ Monocyte   \n",
       "45                 CD14+ Monocyte  CD8+/CD45RA+ Naive Cytotoxic   \n",
       "..                            ...                           ...   \n",
       "96                        CD19+ B                       CD19+ B   \n",
       "113              CD8+ Cytotoxic T                      CD56+ NK   \n",
       "114  CD8+/CD45RA+ Naive Cytotoxic                      CD56+ NK   \n",
       "34   CD8+/CD45RA+ Naive Cytotoxic              CD8+ Cytotoxic T   \n",
       "129                     Dendritic                     Dendritic   \n",
       "\n",
       "    ligand_complex receptor_complex  lr_means  expr_prod  scaled_weight  \\\n",
       "12     HMDB0000123            CXCR4  0.768593   0.273871       0.883349   \n",
       "15     HMDB0000123            CXCR4  0.721617   0.148773       0.663560   \n",
       "42     HMDB0000123            CXCR4  0.589145   0.200051       0.648027   \n",
       "83     HMDB0001341           P2RY13  0.697882   0.237026       0.682175   \n",
       "45     HMDB0000123            CXCR4  0.542169   0.108673       0.428237   \n",
       "..             ...              ...       ...        ...            ...   \n",
       "96     HMDB0000123            CXCR4  0.133630   0.009516      -0.224411   \n",
       "113    HMDB0000123            CXCR4  0.243890   0.026961      -0.044037   \n",
       "114    HMDB0000123            CXCR4  0.264828   0.044726       0.053929   \n",
       "34     HMDB0000123            CXCR4  0.405512   0.074391       0.238417   \n",
       "129    HMDB0000123            CXCR4  0.331748   0.024179       0.029330   \n",
       "\n",
       "     lr_logfc  spec_weight   lrscore  lr_probs  magnitude_rank  \n",
       "12   0.745058     0.068262  0.479293  0.004321        0.000036  \n",
       "15   0.628908     0.037081  0.404200  0.001795        0.005583  \n",
       "42   0.519143     0.049862  0.440306  0.003105        0.020353  \n",
       "83   0.731639     0.099824  0.461297  0.000000        0.023357  \n",
       "45   0.402993     0.027086  0.367017  0.001289        0.042129  \n",
       "..        ...          ...       ...       ...             ...  \n",
       "96  -0.406387     0.002372  0.146451  0.000000        1.000000  \n",
       "113 -0.091241     0.006720  0.224087  0.000000        1.000000  \n",
       "114 -0.065919     0.011148  0.271125  0.000000        1.000000  \n",
       "34   0.359093     0.018542  0.324200  0.000000        1.000000  \n",
       "129  0.092172     0.006027  0.214762  0.000000        1.000000  \n",
       "\n",
       "[130 rows x 12 columns]"
      ]
     },
     "execution_count": 15,
     "metadata": {},
     "output_type": "execute_result"
    }
   ],
   "source": [
    "mdata.uns['liana_res']"
   ]
  },
  {
   "cell_type": "code",
   "execution_count": null,
   "metadata": {},
   "outputs": [],
   "source": []
  },
  {
   "attachments": {},
   "cell_type": "markdown",
   "metadata": {},
   "source": [
    "## Check Transporters"
   ]
  },
  {
   "attachments": {},
   "cell_type": "markdown",
   "metadata": {},
   "source": [
    "Transporter estimate\n",
    "\n",
    "(Note worth it for this part)"
   ]
  },
  {
   "cell_type": "code",
   "execution_count": null,
   "metadata": {},
   "outputs": [],
   "source": [
    "t_net = pd.read_csv(\"liana/resource/transporter_sets.csv\")"
   ]
  },
  {
   "cell_type": "code",
   "execution_count": null,
   "metadata": {},
   "outputs": [],
   "source": [
    "# when revirsible == True, else False\n",
    "t_net['reversibility'] = t_net['reversibility']=='reversible'"
   ]
  },
  {
   "cell_type": "code",
   "execution_count": null,
   "metadata": {},
   "outputs": [],
   "source": [
    "in_net = t_net[(t_net['transport_direction'] == 'in') | (t_net['reversibility'])]\n",
    "in_net"
   ]
  },
  {
   "cell_type": "code",
   "execution_count": null,
   "metadata": {},
   "outputs": [],
   "source": [
    "\n",
    "out_net = t_net[(t_net['transport_direction'] == 'out') | (t_net['reversibility'])]\n",
    "out_net"
   ]
  },
  {
   "cell_type": "code",
   "execution_count": null,
   "metadata": {},
   "outputs": [],
   "source": []
  },
  {
   "cell_type": "code",
   "execution_count": null,
   "metadata": {},
   "outputs": [],
   "source": [
    "dc.run_ulm(adata, net=out_net, source='HMDB', target='GENE', weight='direction', use_raw=False, min_n=3)"
   ]
  },
  {
   "cell_type": "code",
   "execution_count": null,
   "metadata": {},
   "outputs": [],
   "source": []
  }
 ],
 "metadata": {
  "kernelspec": {
   "display_name": "spiana",
   "language": "python",
   "name": "python3"
  },
  "language_info": {
   "codemirror_mode": {
    "name": "ipython",
    "version": 3
   },
   "file_extension": ".py",
   "mimetype": "text/x-python",
   "name": "python",
   "nbconvert_exporter": "python",
   "pygments_lexer": "ipython3",
   "version": "3.10.10"
  },
  "orig_nbformat": 4
 },
 "nbformat": 4,
 "nbformat_minor": 2
}
