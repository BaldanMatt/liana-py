{
 "cells": [
  {
   "attachments": {},
   "cell_type": "markdown",
   "metadata": {},
   "source": [
    "# Estimate Metalinks"
   ]
  },
  {
   "cell_type": "code",
   "execution_count": 1,
   "metadata": {},
   "outputs": [
    {
     "name": "stderr",
     "output_type": "stream",
     "text": [
      "/home/dbdimitrov/anaconda3/envs/spiana/lib/python3.10/site-packages/tqdm/auto.py:21: TqdmWarning: IProgress not found. Please update jupyter and ipywidgets. See https://ipywidgets.readthedocs.io/en/stable/user_install.html\n",
      "  from .autonotebook import tqdm as notebook_tqdm\n"
     ]
    }
   ],
   "source": [
    "import numpy as np\n",
    "import pandas as pd\n",
    "import scanpy as sc\n",
    "import muon as mu\n",
    "import liana as li"
   ]
  },
  {
   "cell_type": "code",
   "execution_count": 2,
   "metadata": {},
   "outputs": [],
   "source": [
    "from liana.funcomics import neg_to_zero"
   ]
  },
  {
   "cell_type": "code",
   "execution_count": 3,
   "metadata": {},
   "outputs": [],
   "source": [
    "import decoupler as dc"
   ]
  },
  {
   "attachments": {},
   "cell_type": "markdown",
   "metadata": {},
   "source": [
    "Test object"
   ]
  },
  {
   "cell_type": "code",
   "execution_count": 4,
   "metadata": {},
   "outputs": [],
   "source": [
    "adata = sc.datasets.pbmc3k_processed()\n",
    "adata = adata.raw.to_adata()"
   ]
  },
  {
   "attachments": {},
   "cell_type": "markdown",
   "metadata": {},
   "source": [
    "## Metabolite Enrichment"
   ]
  },
  {
   "cell_type": "code",
   "execution_count": 5,
   "metadata": {},
   "outputs": [],
   "source": [
    "resource = pd.read_csv(\"liana/resource/metalinks_resource.csv\")"
   ]
  },
  {
   "cell_type": "code",
   "execution_count": 6,
   "metadata": {},
   "outputs": [],
   "source": [
    "resource = resource[['HMDB', 'Symbol']].rename(columns={'HMDB': 'ligand', 'Symbol': 'receptor'})"
   ]
  },
  {
   "cell_type": "code",
   "execution_count": 7,
   "metadata": {},
   "outputs": [
    {
     "data": {
      "text/html": [
       "<div>\n",
       "<style scoped>\n",
       "    .dataframe tbody tr th:only-of-type {\n",
       "        vertical-align: middle;\n",
       "    }\n",
       "\n",
       "    .dataframe tbody tr th {\n",
       "        vertical-align: top;\n",
       "    }\n",
       "\n",
       "    .dataframe thead th {\n",
       "        text-align: right;\n",
       "    }\n",
       "</style>\n",
       "<table border=\"1\" class=\"dataframe\">\n",
       "  <thead>\n",
       "    <tr style=\"text-align: right;\">\n",
       "      <th></th>\n",
       "      <th>ligand</th>\n",
       "      <th>receptor</th>\n",
       "    </tr>\n",
       "  </thead>\n",
       "  <tbody>\n",
       "    <tr>\n",
       "      <th>0</th>\n",
       "      <td>HMDB0000112</td>\n",
       "      <td>GABRB2</td>\n",
       "    </tr>\n",
       "    <tr>\n",
       "      <th>1</th>\n",
       "      <td>HMDB0001043</td>\n",
       "      <td>CLCN2</td>\n",
       "    </tr>\n",
       "    <tr>\n",
       "      <th>2</th>\n",
       "      <td>HMDB0015180</td>\n",
       "      <td>CLCN2</td>\n",
       "    </tr>\n",
       "    <tr>\n",
       "      <th>3</th>\n",
       "      <td>HMDB0000216</td>\n",
       "      <td>ADRA2B</td>\n",
       "    </tr>\n",
       "    <tr>\n",
       "      <th>4</th>\n",
       "      <td>HMDB0000068</td>\n",
       "      <td>ADRA2B</td>\n",
       "    </tr>\n",
       "    <tr>\n",
       "      <th>...</th>\n",
       "      <td>...</td>\n",
       "      <td>...</td>\n",
       "    </tr>\n",
       "    <tr>\n",
       "      <th>10160</th>\n",
       "      <td>HMDB0041130</td>\n",
       "      <td>MUSK</td>\n",
       "    </tr>\n",
       "    <tr>\n",
       "      <th>10161</th>\n",
       "      <td>HMDB0002496</td>\n",
       "      <td>MUSK</td>\n",
       "    </tr>\n",
       "    <tr>\n",
       "      <th>10162</th>\n",
       "      <td>HMDB0015397</td>\n",
       "      <td>MUSK</td>\n",
       "    </tr>\n",
       "    <tr>\n",
       "      <th>10163</th>\n",
       "      <td>HMDB0006284</td>\n",
       "      <td>MUSK</td>\n",
       "    </tr>\n",
       "    <tr>\n",
       "      <th>10164</th>\n",
       "      <td>HMDB0000134</td>\n",
       "      <td>MUSK</td>\n",
       "    </tr>\n",
       "  </tbody>\n",
       "</table>\n",
       "<p>10165 rows × 2 columns</p>\n",
       "</div>"
      ],
      "text/plain": [
       "            ligand receptor\n",
       "0      HMDB0000112   GABRB2\n",
       "1      HMDB0001043    CLCN2\n",
       "2      HMDB0015180    CLCN2\n",
       "3      HMDB0000216   ADRA2B\n",
       "4      HMDB0000068   ADRA2B\n",
       "...            ...      ...\n",
       "10160  HMDB0041130     MUSK\n",
       "10161  HMDB0002496     MUSK\n",
       "10162  HMDB0015397     MUSK\n",
       "10163  HMDB0006284     MUSK\n",
       "10164  HMDB0000134     MUSK\n",
       "\n",
       "[10165 rows x 2 columns]"
      ]
     },
     "execution_count": 7,
     "metadata": {},
     "output_type": "execute_result"
    }
   ],
   "source": [
    "resource"
   ]
  },
  {
   "attachments": {},
   "cell_type": "markdown",
   "metadata": {},
   "source": [
    "Process net"
   ]
  },
  {
   "cell_type": "code",
   "execution_count": 8,
   "metadata": {},
   "outputs": [],
   "source": [
    "# replace direction with 1 or -1\n",
    "met_net = pd.read_csv(\"liana/resource/metabolite_sets.csv\")\n",
    "met_net['direction'].replace({'degrading': -1, 'producing': 1}, inplace=True)"
   ]
  },
  {
   "cell_type": "code",
   "execution_count": 9,
   "metadata": {},
   "outputs": [],
   "source": [
    "# NOTE: there are duplicates, Elias should append Sources\n",
    "met_net = met_net.drop_duplicates(['HMDB', 'GENE', 'direction'])"
   ]
  },
  {
   "cell_type": "code",
   "execution_count": 10,
   "metadata": {},
   "outputs": [],
   "source": [
    "# NOTE: there are sign-duplicates...\n",
    "met_net = met_net.groupby(['HMDB', 'GENE']).aggregate({'direction': 'mean'}).reset_index()\n",
    "# Remove any edge whose direction is not 1 or -1\n",
    "met_net = met_net[met_net['direction'].isin([-1, 1])]"
   ]
  },
  {
   "attachments": {},
   "cell_type": "markdown",
   "metadata": {},
   "source": [
    "Metabolite Estimate"
   ]
  },
  {
   "cell_type": "code",
   "execution_count": 11,
   "metadata": {},
   "outputs": [],
   "source": [
    "# dc.run_ulm(adata, net=met_net, source='HMDB', target='GENE', weight='direction', use_raw=False, min_n=2)\n",
    "dc.run_wmean(adata, net=met_net, source='HMDB', target='GENE', weight='direction', use_raw=False, min_n=2, times=0)"
   ]
  },
  {
   "cell_type": "code",
   "execution_count": 12,
   "metadata": {},
   "outputs": [
    {
     "data": {
      "text/plain": [
       "AnnData object with n_obs × n_vars = 2638 × 714\n",
       "    obs: 'n_genes', 'percent_mito', 'n_counts', 'louvain'\n",
       "    uns: 'draw_graph', 'louvain', 'louvain_colors', 'neighbors', 'pca', 'rank_genes_groups'\n",
       "    obsm: 'X_pca', 'X_tsne', 'X_umap', 'X_draw_graph_fr', 'wmean_estimate'\n",
       "    obsp: 'distances', 'connectivities'"
      ]
     },
     "execution_count": 12,
     "metadata": {},
     "output_type": "execute_result"
    }
   ],
   "source": [
    "met_est = li.fun.obsm_to_adata(adata, 'wmean_estimate')\n",
    "met_est"
   ]
  },
  {
   "attachments": {},
   "cell_type": "markdown",
   "metadata": {},
   "source": [
    "To MuData"
   ]
  },
  {
   "cell_type": "code",
   "execution_count": 13,
   "metadata": {},
   "outputs": [],
   "source": [
    "mdata = mu.MuData({'metabolite':met_est, 'rna':adata})"
   ]
  },
  {
   "attachments": {},
   "cell_type": "markdown",
   "metadata": {},
   "source": [
    "Run LIANA"
   ]
  },
  {
   "cell_type": "code",
   "execution_count": 16,
   "metadata": {},
   "outputs": [
    {
     "name": "stdout",
     "output_type": "stream",
     "text": [
      "Using `.X`!\n",
      "Transforming metabolite using neg_to_zero\n",
      "Using `.X`!\n",
      "Using `.X`!\n",
      "110 features of mat are empty, they will be removed.\n",
      "Using provided `resource`.\n"
     ]
    },
    {
     "name": "stderr",
     "output_type": "stream",
     "text": [
      "/home/dbdimitrov/anaconda3/envs/spiana/lib/python3.10/site-packages/pandas/core/indexing.py:1728: ImplicitModificationWarning: Trying to modify attribute `.obs` of view, initializing view as actual.\n"
     ]
    },
    {
     "name": "stdout",
     "output_type": "stream",
     "text": [
      "0.74 of entities in the resource are missing from the data.\n",
      "Generating ligand-receptor stats for 2638 samples and 14318 features\n"
     ]
    }
   ],
   "source": [
    "li.mt.cellphonedb(mdata,\n",
    "                  groupby='louvain',\n",
    "                  multi_kwargs=dict(x_mod='metabolite', y_mod='rna',\n",
    "                                    x_transform = neg_to_zero,\n",
    "                                    y_transform = False),\n",
    "                  n_perms=None, use_raw=False, verbose=True,\n",
    "                  resource=resource\n",
    "                  )"
   ]
  },
  {
   "cell_type": "code",
   "execution_count": 19,
   "metadata": {},
   "outputs": [
    {
     "data": {
      "text/html": [
       "<div>\n",
       "<style scoped>\n",
       "    .dataframe tbody tr th:only-of-type {\n",
       "        vertical-align: middle;\n",
       "    }\n",
       "\n",
       "    .dataframe tbody tr th {\n",
       "        vertical-align: top;\n",
       "    }\n",
       "\n",
       "    .dataframe thead th {\n",
       "        text-align: right;\n",
       "    }\n",
       "</style>\n",
       "<table border=\"1\" class=\"dataframe\">\n",
       "  <thead>\n",
       "    <tr style=\"text-align: right;\">\n",
       "      <th></th>\n",
       "      <th>ligand</th>\n",
       "      <th>ligand_complex</th>\n",
       "      <th>ligand_means</th>\n",
       "      <th>ligand_props</th>\n",
       "      <th>receptor</th>\n",
       "      <th>receptor_complex</th>\n",
       "      <th>receptor_means</th>\n",
       "      <th>receptor_props</th>\n",
       "      <th>source</th>\n",
       "      <th>target</th>\n",
       "      <th>lr_means</th>\n",
       "    </tr>\n",
       "  </thead>\n",
       "  <tbody>\n",
       "    <tr>\n",
       "      <th>3419</th>\n",
       "      <td>HMDB0000169</td>\n",
       "      <td>HMDB0000169</td>\n",
       "      <td>0.011945</td>\n",
       "      <td>0.266667</td>\n",
       "      <td>FCER1A</td>\n",
       "      <td>FCER1A</td>\n",
       "      <td>1.583187</td>\n",
       "      <td>0.837838</td>\n",
       "      <td>Megakaryocytes</td>\n",
       "      <td>Dendritic cells</td>\n",
       "      <td>0.797566</td>\n",
       "    </tr>\n",
       "    <tr>\n",
       "      <th>3182</th>\n",
       "      <td>HMDB0000169</td>\n",
       "      <td>HMDB0000169</td>\n",
       "      <td>0.007202</td>\n",
       "      <td>0.453333</td>\n",
       "      <td>FCER1A</td>\n",
       "      <td>FCER1A</td>\n",
       "      <td>1.583187</td>\n",
       "      <td>0.837838</td>\n",
       "      <td>FCGR3A+ Monocytes</td>\n",
       "      <td>Dendritic cells</td>\n",
       "      <td>0.795194</td>\n",
       "    </tr>\n",
       "    <tr>\n",
       "      <th>2745</th>\n",
       "      <td>HMDB0000169</td>\n",
       "      <td>HMDB0000169</td>\n",
       "      <td>0.007171</td>\n",
       "      <td>0.335417</td>\n",
       "      <td>FCER1A</td>\n",
       "      <td>FCER1A</td>\n",
       "      <td>1.583187</td>\n",
       "      <td>0.837838</td>\n",
       "      <td>CD14+ Monocytes</td>\n",
       "      <td>Dendritic cells</td>\n",
       "      <td>0.795179</td>\n",
       "    </tr>\n",
       "    <tr>\n",
       "      <th>3302</th>\n",
       "      <td>HMDB0000169</td>\n",
       "      <td>HMDB0000169</td>\n",
       "      <td>0.005620</td>\n",
       "      <td>0.378378</td>\n",
       "      <td>FCER1A</td>\n",
       "      <td>FCER1A</td>\n",
       "      <td>1.583187</td>\n",
       "      <td>0.837838</td>\n",
       "      <td>Dendritic cells</td>\n",
       "      <td>Dendritic cells</td>\n",
       "      <td>0.794403</td>\n",
       "    </tr>\n",
       "    <tr>\n",
       "      <th>3070</th>\n",
       "      <td>HMDB0000169</td>\n",
       "      <td>HMDB0000169</td>\n",
       "      <td>0.003151</td>\n",
       "      <td>0.162338</td>\n",
       "      <td>FCER1A</td>\n",
       "      <td>FCER1A</td>\n",
       "      <td>1.583187</td>\n",
       "      <td>0.837838</td>\n",
       "      <td>NK cells</td>\n",
       "      <td>Dendritic cells</td>\n",
       "      <td>0.793169</td>\n",
       "    </tr>\n",
       "    <tr>\n",
       "      <th>...</th>\n",
       "      <td>...</td>\n",
       "      <td>...</td>\n",
       "      <td>...</td>\n",
       "      <td>...</td>\n",
       "      <td>...</td>\n",
       "      <td>...</td>\n",
       "      <td>...</td>\n",
       "      <td>...</td>\n",
       "      <td>...</td>\n",
       "      <td>...</td>\n",
       "      <td>...</td>\n",
       "    </tr>\n",
       "    <tr>\n",
       "      <th>3561</th>\n",
       "      <td>HMDB0001381</td>\n",
       "      <td>HMDB0001381</td>\n",
       "      <td>0.000000</td>\n",
       "      <td>0.502083</td>\n",
       "      <td>TBXA2R</td>\n",
       "      <td>TBXA2R</td>\n",
       "      <td>0.138629</td>\n",
       "      <td>0.133333</td>\n",
       "      <td>CD14+ Monocytes</td>\n",
       "      <td>Megakaryocytes</td>\n",
       "      <td>0.000000</td>\n",
       "    </tr>\n",
       "    <tr>\n",
       "      <th>2318</th>\n",
       "      <td>HMDB0000285</td>\n",
       "      <td>HMDB0000285</td>\n",
       "      <td>0.000000</td>\n",
       "      <td>0.952532</td>\n",
       "      <td>P2RY13</td>\n",
       "      <td>P2RY13</td>\n",
       "      <td>0.095123</td>\n",
       "      <td>0.133333</td>\n",
       "      <td>CD8 T cells</td>\n",
       "      <td>FCGR3A+ Monocytes</td>\n",
       "      <td>0.000000</td>\n",
       "    </tr>\n",
       "    <tr>\n",
       "      <th>2321</th>\n",
       "      <td>HMDB0000285</td>\n",
       "      <td>HMDB0000285</td>\n",
       "      <td>0.000000</td>\n",
       "      <td>0.952532</td>\n",
       "      <td>P2RX1</td>\n",
       "      <td>P2RX1</td>\n",
       "      <td>0.144821</td>\n",
       "      <td>0.193333</td>\n",
       "      <td>CD8 T cells</td>\n",
       "      <td>FCGR3A+ Monocytes</td>\n",
       "      <td>0.000000</td>\n",
       "    </tr>\n",
       "    <tr>\n",
       "      <th>2354</th>\n",
       "      <td>HMDB0000131</td>\n",
       "      <td>HMDB0000131</td>\n",
       "      <td>0.000000</td>\n",
       "      <td>0.136364</td>\n",
       "      <td>TGFBR2</td>\n",
       "      <td>TGFBR2</td>\n",
       "      <td>0.113607</td>\n",
       "      <td>0.160000</td>\n",
       "      <td>NK cells</td>\n",
       "      <td>FCGR3A+ Monocytes</td>\n",
       "      <td>0.000000</td>\n",
       "    </tr>\n",
       "    <tr>\n",
       "      <th>3935</th>\n",
       "      <td>HMDB0000131</td>\n",
       "      <td>HMDB0000131</td>\n",
       "      <td>0.000000</td>\n",
       "      <td>0.266667</td>\n",
       "      <td>IL7R</td>\n",
       "      <td>IL7R</td>\n",
       "      <td>0.092420</td>\n",
       "      <td>0.133333</td>\n",
       "      <td>Megakaryocytes</td>\n",
       "      <td>Megakaryocytes</td>\n",
       "      <td>0.000000</td>\n",
       "    </tr>\n",
       "  </tbody>\n",
       "</table>\n",
       "<p>3936 rows × 11 columns</p>\n",
       "</div>"
      ],
      "text/plain": [
       "           ligand ligand_complex  ligand_means  ligand_props receptor  \\\n",
       "3419  HMDB0000169    HMDB0000169      0.011945      0.266667   FCER1A   \n",
       "3182  HMDB0000169    HMDB0000169      0.007202      0.453333   FCER1A   \n",
       "2745  HMDB0000169    HMDB0000169      0.007171      0.335417   FCER1A   \n",
       "3302  HMDB0000169    HMDB0000169      0.005620      0.378378   FCER1A   \n",
       "3070  HMDB0000169    HMDB0000169      0.003151      0.162338   FCER1A   \n",
       "...           ...            ...           ...           ...      ...   \n",
       "3561  HMDB0001381    HMDB0001381      0.000000      0.502083   TBXA2R   \n",
       "2318  HMDB0000285    HMDB0000285      0.000000      0.952532   P2RY13   \n",
       "2321  HMDB0000285    HMDB0000285      0.000000      0.952532    P2RX1   \n",
       "2354  HMDB0000131    HMDB0000131      0.000000      0.136364   TGFBR2   \n",
       "3935  HMDB0000131    HMDB0000131      0.000000      0.266667     IL7R   \n",
       "\n",
       "     receptor_complex  receptor_means  receptor_props             source  \\\n",
       "3419           FCER1A        1.583187        0.837838     Megakaryocytes   \n",
       "3182           FCER1A        1.583187        0.837838  FCGR3A+ Monocytes   \n",
       "2745           FCER1A        1.583187        0.837838    CD14+ Monocytes   \n",
       "3302           FCER1A        1.583187        0.837838    Dendritic cells   \n",
       "3070           FCER1A        1.583187        0.837838           NK cells   \n",
       "...               ...             ...             ...                ...   \n",
       "3561           TBXA2R        0.138629        0.133333    CD14+ Monocytes   \n",
       "2318           P2RY13        0.095123        0.133333        CD8 T cells   \n",
       "2321            P2RX1        0.144821        0.193333        CD8 T cells   \n",
       "2354           TGFBR2        0.113607        0.160000           NK cells   \n",
       "3935             IL7R        0.092420        0.133333     Megakaryocytes   \n",
       "\n",
       "                 target  lr_means  \n",
       "3419    Dendritic cells  0.797566  \n",
       "3182    Dendritic cells  0.795194  \n",
       "2745    Dendritic cells  0.795179  \n",
       "3302    Dendritic cells  0.794403  \n",
       "3070    Dendritic cells  0.793169  \n",
       "...                 ...       ...  \n",
       "3561     Megakaryocytes  0.000000  \n",
       "2318  FCGR3A+ Monocytes  0.000000  \n",
       "2321  FCGR3A+ Monocytes  0.000000  \n",
       "2354  FCGR3A+ Monocytes  0.000000  \n",
       "3935     Megakaryocytes  0.000000  \n",
       "\n",
       "[3936 rows x 11 columns]"
      ]
     },
     "execution_count": 19,
     "metadata": {},
     "output_type": "execute_result"
    }
   ],
   "source": [
    "mdata.uns['liana_res']"
   ]
  },
  {
   "cell_type": "code",
   "execution_count": null,
   "metadata": {},
   "outputs": [],
   "source": []
  },
  {
   "attachments": {},
   "cell_type": "markdown",
   "metadata": {},
   "source": [
    "## Check Transporters"
   ]
  },
  {
   "attachments": {},
   "cell_type": "markdown",
   "metadata": {},
   "source": [
    "Transporter estimate\n",
    "\n",
    "(Note worth it for this part)"
   ]
  },
  {
   "cell_type": "code",
   "execution_count": null,
   "metadata": {},
   "outputs": [],
   "source": [
    "t_net = pd.read_csv(\"liana/resource/transporter_sets.csv\")"
   ]
  },
  {
   "cell_type": "code",
   "execution_count": null,
   "metadata": {},
   "outputs": [],
   "source": [
    "# when revirsible == True, else False\n",
    "t_net['reversibility'] = t_net['reversibility']=='reversible'"
   ]
  },
  {
   "cell_type": "code",
   "execution_count": null,
   "metadata": {},
   "outputs": [],
   "source": [
    "in_net = t_net[(t_net['transport_direction'] == 'in') | (t_net['reversibility'])]\n",
    "in_net"
   ]
  },
  {
   "cell_type": "code",
   "execution_count": null,
   "metadata": {},
   "outputs": [],
   "source": [
    "\n",
    "out_net = t_net[(t_net['transport_direction'] == 'out') | (t_net['reversibility'])]\n",
    "out_net"
   ]
  },
  {
   "cell_type": "code",
   "execution_count": null,
   "metadata": {},
   "outputs": [],
   "source": []
  },
  {
   "cell_type": "code",
   "execution_count": null,
   "metadata": {},
   "outputs": [],
   "source": [
    "dc.run_ulm(adata, net=out_net, source='HMDB', target='GENE', weight='direction', use_raw=False, min_n=3)"
   ]
  },
  {
   "cell_type": "code",
   "execution_count": null,
   "metadata": {},
   "outputs": [],
   "source": []
  }
 ],
 "metadata": {
  "kernelspec": {
   "display_name": "spiana",
   "language": "python",
   "name": "python3"
  },
  "language_info": {
   "codemirror_mode": {
    "name": "ipython",
    "version": 3
   },
   "file_extension": ".py",
   "mimetype": "text/x-python",
   "name": "python",
   "nbconvert_exporter": "python",
   "pygments_lexer": "ipython3",
   "version": "3.10.10"
  },
  "orig_nbformat": 4
 },
 "nbformat": 4,
 "nbformat_minor": 2
}
