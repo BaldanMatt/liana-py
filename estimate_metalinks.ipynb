{
 "cells": [
  {
   "attachments": {},
   "cell_type": "markdown",
   "metadata": {},
   "source": [
    "# Estimate Metalinks"
   ]
  },
  {
   "cell_type": "code",
   "execution_count": 1,
   "metadata": {},
   "outputs": [
    {
     "name": "stderr",
     "output_type": "stream",
     "text": [
      "/home/dbdimitrov/anaconda3/envs/spiana/lib/python3.10/site-packages/tqdm/auto.py:21: TqdmWarning: IProgress not found. Please update jupyter and ipywidgets. See https://ipywidgets.readthedocs.io/en/stable/user_install.html\n",
      "  from .autonotebook import tqdm as notebook_tqdm\n"
     ]
    }
   ],
   "source": [
    "import numpy as np\n",
    "import pandas as pd\n",
    "import scanpy as sc\n",
    "import muon as mu\n",
    "import liana as li"
   ]
  },
  {
   "cell_type": "code",
   "execution_count": 2,
   "metadata": {},
   "outputs": [],
   "source": [
    "from itertools import product"
   ]
  },
  {
   "cell_type": "code",
   "execution_count": 3,
   "metadata": {},
   "outputs": [],
   "source": [
    "import decoupler as dc"
   ]
  },
  {
   "attachments": {},
   "cell_type": "markdown",
   "metadata": {},
   "source": [
    "Test object"
   ]
  },
  {
   "cell_type": "code",
   "execution_count": 4,
   "metadata": {},
   "outputs": [],
   "source": [
    "adata = sc.datasets.pbmc68k_reduced()\n",
    "adata = adata.raw.to_adata()"
   ]
  },
  {
   "attachments": {},
   "cell_type": "markdown",
   "metadata": {},
   "source": [
    "## Metabolite Enrichment"
   ]
  },
  {
   "cell_type": "code",
   "execution_count": 5,
   "metadata": {},
   "outputs": [],
   "source": [
    "resource = pd.read_csv(\"liana/resource/metalinks_resource.csv\")"
   ]
  },
  {
   "attachments": {},
   "cell_type": "markdown",
   "metadata": {},
   "source": [
    "Process net"
   ]
  },
  {
   "cell_type": "code",
   "execution_count": 6,
   "metadata": {},
   "outputs": [],
   "source": [
    "# replace direction with 1 or -1\n",
    "met_net = pd.read_csv(\"liana/resource/metabolite_sets.csv\")\n",
    "met_net['direction'].replace({'degrading': -1, 'producing': 1}, inplace=True)"
   ]
  },
  {
   "cell_type": "code",
   "execution_count": 7,
   "metadata": {},
   "outputs": [],
   "source": [
    "# NOTE: there are duplicates, Elias should append Sources\n",
    "met_net = met_net.drop_duplicates(['HMDB', 'GENE', 'direction'])"
   ]
  },
  {
   "cell_type": "code",
   "execution_count": 8,
   "metadata": {},
   "outputs": [],
   "source": [
    "# NOTE: there are sign-duplicates...\n",
    "met_net = met_net.groupby(['HMDB', 'GENE']).aggregate({'direction': 'mean'}).reset_index()\n",
    "# Remove any edge whose direction is not 1 or -1\n",
    "met_net = met_net[met_net['direction'].isin([-1, 1])]"
   ]
  },
  {
   "attachments": {},
   "cell_type": "markdown",
   "metadata": {},
   "source": [
    "Metabolite Estimate"
   ]
  },
  {
   "cell_type": "code",
   "execution_count": 9,
   "metadata": {},
   "outputs": [],
   "source": [
    "dc.run_ulm(adata, net=met_net, source='HMDB', target='GENE', weight='direction', use_raw=False, min_n=3)"
   ]
  },
  {
   "cell_type": "code",
   "execution_count": 10,
   "metadata": {},
   "outputs": [],
   "source": [
    "met_est = li.fun.obsm_to_adata(adata, 'ulm_estimate')"
   ]
  },
  {
   "cell_type": "code",
   "execution_count": 11,
   "metadata": {},
   "outputs": [],
   "source": [
    "mdata = mu.MuData({'metabolite':met_est, 'rna':adata})"
   ]
  },
  {
   "cell_type": "code",
   "execution_count": null,
   "metadata": {},
   "outputs": [],
   "source": []
  },
  {
   "cell_type": "code",
   "execution_count": 12,
   "metadata": {},
   "outputs": [
    {
     "name": "stdout",
     "output_type": "stream",
     "text": [
      "`x_mod` will be transformed to zero-inflated min-max scale.\n",
      "`y_mod` will be transformed to zero-inflated min-max scale.\n",
      "Using `.X`!\n",
      "Converting mat to CSR format\n",
      "Using `.X`!\n",
      "Using `.X`!\n",
      "Using resource `consensus`.\n",
      "0.94 of entities in the resource are missing from the data.\n",
      "Generating ligand-receptor stats for 700 samples and 808 features\n",
      "Assuming that counts were `natural` log-normalized!\n",
      "Running CellPhoneDB\n",
      "Running Connectome\n",
      "Running log2FC\n",
      "Running NATMI\n",
      "Running SingleCellSignalR\n",
      "Running CellChat\n"
     ]
    }
   ],
   "source": [
    "li.mt.rank_aggregate(mdata, groupby='bulk_labels',\n",
    "                     multi_kwargs=dict(x_mod='metabolite', y_mod='rna'),\n",
    "                     n_perms=None, use_raw=False, verbose=True)"
   ]
  },
  {
   "cell_type": "code",
   "execution_count": 13,
   "metadata": {},
   "outputs": [
    {
     "data": {
      "text/html": [
       "<div>\n",
       "<style scoped>\n",
       "    .dataframe tbody tr th:only-of-type {\n",
       "        vertical-align: middle;\n",
       "    }\n",
       "\n",
       "    .dataframe tbody tr th {\n",
       "        vertical-align: top;\n",
       "    }\n",
       "\n",
       "    .dataframe thead th {\n",
       "        text-align: right;\n",
       "    }\n",
       "</style>\n",
       "<table border=\"1\" class=\"dataframe\">\n",
       "  <thead>\n",
       "    <tr style=\"text-align: right;\">\n",
       "      <th></th>\n",
       "      <th>source</th>\n",
       "      <th>target</th>\n",
       "      <th>ligand_complex</th>\n",
       "      <th>receptor_complex</th>\n",
       "      <th>lr_means</th>\n",
       "      <th>expr_prod</th>\n",
       "      <th>scaled_weight</th>\n",
       "      <th>lr_logfc</th>\n",
       "      <th>spec_weight</th>\n",
       "      <th>lrscore</th>\n",
       "      <th>lr_probs</th>\n",
       "      <th>magnitude_rank</th>\n",
       "    </tr>\n",
       "  </thead>\n",
       "  <tbody>\n",
       "    <tr>\n",
       "      <th>1092</th>\n",
       "      <td>CD14+ Monocyte</td>\n",
       "      <td>CD56+ NK</td>\n",
       "      <td>TIMP1</td>\n",
       "      <td>CD63</td>\n",
       "      <td>0.572534</td>\n",
       "      <td>0.327786</td>\n",
       "      <td>0.966945</td>\n",
       "      <td>0.441389</td>\n",
       "      <td>0.060475</td>\n",
       "      <td>0.741422</td>\n",
       "      <td>0.441381</td>\n",
       "      <td>1.867635e-08</td>\n",
       "    </tr>\n",
       "    <tr>\n",
       "      <th>1106</th>\n",
       "      <td>CD56+ NK</td>\n",
       "      <td>CD56+ NK</td>\n",
       "      <td>SPON2</td>\n",
       "      <td>ITGB2</td>\n",
       "      <td>0.559032</td>\n",
       "      <td>0.310813</td>\n",
       "      <td>1.867714</td>\n",
       "      <td>0.536629</td>\n",
       "      <td>0.121522</td>\n",
       "      <td>0.736293</td>\n",
       "      <td>0.403199</td>\n",
       "      <td>1.492927e-07</td>\n",
       "    </tr>\n",
       "    <tr>\n",
       "      <th>898</th>\n",
       "      <td>CD56+ NK</td>\n",
       "      <td>CD14+ Monocyte</td>\n",
       "      <td>SPON2</td>\n",
       "      <td>ITGB2</td>\n",
       "      <td>0.539100</td>\n",
       "      <td>0.290173</td>\n",
       "      <td>1.789968</td>\n",
       "      <td>0.530844</td>\n",
       "      <td>0.113452</td>\n",
       "      <td>0.729568</td>\n",
       "      <td>0.387321</td>\n",
       "      <td>9.332889e-07</td>\n",
       "    </tr>\n",
       "    <tr>\n",
       "      <th>1088</th>\n",
       "      <td>CD14+ Monocyte</td>\n",
       "      <td>CD56+ NK</td>\n",
       "      <td>S100A9</td>\n",
       "      <td>ITGB2</td>\n",
       "      <td>0.526580</td>\n",
       "      <td>0.271852</td>\n",
       "      <td>0.835955</td>\n",
       "      <td>0.360086</td>\n",
       "      <td>0.097511</td>\n",
       "      <td>0.723086</td>\n",
       "      <td>0.383827</td>\n",
       "      <td>3.816054e-06</td>\n",
       "    </tr>\n",
       "    <tr>\n",
       "      <th>847</th>\n",
       "      <td>CD14+ Monocyte</td>\n",
       "      <td>CD14+ Monocyte</td>\n",
       "      <td>S100A9</td>\n",
       "      <td>ITGB2</td>\n",
       "      <td>0.506648</td>\n",
       "      <td>0.253799</td>\n",
       "      <td>0.758209</td>\n",
       "      <td>0.354301</td>\n",
       "      <td>0.091035</td>\n",
       "      <td>0.716154</td>\n",
       "      <td>0.368241</td>\n",
       "      <td>3.642492e-05</td>\n",
       "    </tr>\n",
       "    <tr>\n",
       "      <th>...</th>\n",
       "      <td>...</td>\n",
       "      <td>...</td>\n",
       "      <td>...</td>\n",
       "      <td>...</td>\n",
       "      <td>...</td>\n",
       "      <td>...</td>\n",
       "      <td>...</td>\n",
       "      <td>...</td>\n",
       "      <td>...</td>\n",
       "      <td>...</td>\n",
       "      <td>...</td>\n",
       "      <td>...</td>\n",
       "    </tr>\n",
       "    <tr>\n",
       "      <th>317</th>\n",
       "      <td>CD4+/CD25 T Reg</td>\n",
       "      <td>CD4+/CD45RO+ Memory</td>\n",
       "      <td>HLA-DQA2</td>\n",
       "      <td>CD4</td>\n",
       "      <td>0.146821</td>\n",
       "      <td>0.012269</td>\n",
       "      <td>-0.181963</td>\n",
       "      <td>-0.185860</td>\n",
       "      <td>0.006765</td>\n",
       "      <td>0.356802</td>\n",
       "      <td>0.000000</td>\n",
       "      <td>1.000000e+00</td>\n",
       "    </tr>\n",
       "    <tr>\n",
       "      <th>318</th>\n",
       "      <td>CD4+/CD25 T Reg</td>\n",
       "      <td>CD4+/CD45RO+ Memory</td>\n",
       "      <td>HLA-DQA1</td>\n",
       "      <td>CD4</td>\n",
       "      <td>0.150066</td>\n",
       "      <td>0.013847</td>\n",
       "      <td>-0.193747</td>\n",
       "      <td>-0.201353</td>\n",
       "      <td>0.007197</td>\n",
       "      <td>0.370807</td>\n",
       "      <td>0.000000</td>\n",
       "      <td>1.000000e+00</td>\n",
       "    </tr>\n",
       "    <tr>\n",
       "      <th>321</th>\n",
       "      <td>CD4+/CD25 T Reg</td>\n",
       "      <td>CD4+/CD45RO+ Memory</td>\n",
       "      <td>HLA-DPB1</td>\n",
       "      <td>CD4</td>\n",
       "      <td>0.163064</td>\n",
       "      <td>0.020170</td>\n",
       "      <td>-0.294756</td>\n",
       "      <td>-0.227968</td>\n",
       "      <td>0.007606</td>\n",
       "      <td>0.415635</td>\n",
       "      <td>0.000000</td>\n",
       "      <td>1.000000e+00</td>\n",
       "    </tr>\n",
       "    <tr>\n",
       "      <th>54</th>\n",
       "      <td>CD8+ Cytotoxic T</td>\n",
       "      <td>CD4+/CD25 T Reg</td>\n",
       "      <td>TIMP1</td>\n",
       "      <td>CD63</td>\n",
       "      <td>0.143827</td>\n",
       "      <td>0.020458</td>\n",
       "      <td>-0.534240</td>\n",
       "      <td>-0.267517</td>\n",
       "      <td>0.003774</td>\n",
       "      <td>0.417359</td>\n",
       "      <td>0.015612</td>\n",
       "      <td>1.000000e+00</td>\n",
       "    </tr>\n",
       "    <tr>\n",
       "      <th>1287</th>\n",
       "      <td>Dendritic</td>\n",
       "      <td>Dendritic</td>\n",
       "      <td>C1QA</td>\n",
       "      <td>CD33</td>\n",
       "      <td>0.194047</td>\n",
       "      <td>0.019605</td>\n",
       "      <td>0.289345</td>\n",
       "      <td>0.177354</td>\n",
       "      <td>0.083278</td>\n",
       "      <td>0.412188</td>\n",
       "      <td>0.000000</td>\n",
       "      <td>1.000000e+00</td>\n",
       "    </tr>\n",
       "  </tbody>\n",
       "</table>\n",
       "<p>1288 rows × 12 columns</p>\n",
       "</div>"
      ],
      "text/plain": [
       "                source               target ligand_complex receptor_complex  \\\n",
       "1092    CD14+ Monocyte             CD56+ NK          TIMP1             CD63   \n",
       "1106          CD56+ NK             CD56+ NK          SPON2            ITGB2   \n",
       "898           CD56+ NK       CD14+ Monocyte          SPON2            ITGB2   \n",
       "1088    CD14+ Monocyte             CD56+ NK         S100A9            ITGB2   \n",
       "847     CD14+ Monocyte       CD14+ Monocyte         S100A9            ITGB2   \n",
       "...                ...                  ...            ...              ...   \n",
       "317    CD4+/CD25 T Reg  CD4+/CD45RO+ Memory       HLA-DQA2              CD4   \n",
       "318    CD4+/CD25 T Reg  CD4+/CD45RO+ Memory       HLA-DQA1              CD4   \n",
       "321    CD4+/CD25 T Reg  CD4+/CD45RO+ Memory       HLA-DPB1              CD4   \n",
       "54    CD8+ Cytotoxic T      CD4+/CD25 T Reg          TIMP1             CD63   \n",
       "1287         Dendritic            Dendritic           C1QA             CD33   \n",
       "\n",
       "      lr_means  expr_prod  scaled_weight  lr_logfc  spec_weight   lrscore  \\\n",
       "1092  0.572534   0.327786       0.966945  0.441389     0.060475  0.741422   \n",
       "1106  0.559032   0.310813       1.867714  0.536629     0.121522  0.736293   \n",
       "898   0.539100   0.290173       1.789968  0.530844     0.113452  0.729568   \n",
       "1088  0.526580   0.271852       0.835955  0.360086     0.097511  0.723086   \n",
       "847   0.506648   0.253799       0.758209  0.354301     0.091035  0.716154   \n",
       "...        ...        ...            ...       ...          ...       ...   \n",
       "317   0.146821   0.012269      -0.181963 -0.185860     0.006765  0.356802   \n",
       "318   0.150066   0.013847      -0.193747 -0.201353     0.007197  0.370807   \n",
       "321   0.163064   0.020170      -0.294756 -0.227968     0.007606  0.415635   \n",
       "54    0.143827   0.020458      -0.534240 -0.267517     0.003774  0.417359   \n",
       "1287  0.194047   0.019605       0.289345  0.177354     0.083278  0.412188   \n",
       "\n",
       "      lr_probs  magnitude_rank  \n",
       "1092  0.441381    1.867635e-08  \n",
       "1106  0.403199    1.492927e-07  \n",
       "898   0.387321    9.332889e-07  \n",
       "1088  0.383827    3.816054e-06  \n",
       "847   0.368241    3.642492e-05  \n",
       "...        ...             ...  \n",
       "317   0.000000    1.000000e+00  \n",
       "318   0.000000    1.000000e+00  \n",
       "321   0.000000    1.000000e+00  \n",
       "54    0.015612    1.000000e+00  \n",
       "1287  0.000000    1.000000e+00  \n",
       "\n",
       "[1288 rows x 12 columns]"
      ]
     },
     "execution_count": 13,
     "metadata": {},
     "output_type": "execute_result"
    }
   ],
   "source": [
    "mdata.uns['liana_res']"
   ]
  },
  {
   "cell_type": "code",
   "execution_count": null,
   "metadata": {},
   "outputs": [],
   "source": []
  },
  {
   "attachments": {},
   "cell_type": "markdown",
   "metadata": {},
   "source": [
    "## Check Transporters"
   ]
  },
  {
   "attachments": {},
   "cell_type": "markdown",
   "metadata": {},
   "source": [
    "Transporter estimate\n",
    "\n",
    "(Note worth it for this part)"
   ]
  },
  {
   "cell_type": "code",
   "execution_count": null,
   "metadata": {},
   "outputs": [],
   "source": [
    "t_net = pd.read_csv(\"liana/resource/transporter_sets.csv\")"
   ]
  },
  {
   "cell_type": "code",
   "execution_count": null,
   "metadata": {},
   "outputs": [],
   "source": [
    "# when revirsible == True, else False\n",
    "t_net['reversibility'] = t_net['reversibility']=='reversible'"
   ]
  },
  {
   "cell_type": "code",
   "execution_count": null,
   "metadata": {},
   "outputs": [],
   "source": [
    "in_net = t_net[(t_net['transport_direction'] == 'in') | (t_net['reversibility'])]\n",
    "in_net"
   ]
  },
  {
   "cell_type": "code",
   "execution_count": null,
   "metadata": {},
   "outputs": [],
   "source": [
    "\n",
    "out_net = t_net[(t_net['transport_direction'] == 'out') | (t_net['reversibility'])]\n",
    "out_net"
   ]
  },
  {
   "cell_type": "code",
   "execution_count": null,
   "metadata": {},
   "outputs": [],
   "source": []
  },
  {
   "cell_type": "code",
   "execution_count": null,
   "metadata": {},
   "outputs": [],
   "source": [
    "dc.run_ulm(adata, net=out_net, source='HMDB', target='GENE', weight='direction', use_raw=False, min_n=3)"
   ]
  },
  {
   "cell_type": "code",
   "execution_count": null,
   "metadata": {},
   "outputs": [],
   "source": []
  }
 ],
 "metadata": {
  "kernelspec": {
   "display_name": "spiana",
   "language": "python",
   "name": "python3"
  },
  "language_info": {
   "codemirror_mode": {
    "name": "ipython",
    "version": 3
   },
   "file_extension": ".py",
   "mimetype": "text/x-python",
   "name": "python",
   "nbconvert_exporter": "python",
   "pygments_lexer": "ipython3",
   "version": "3.10.10"
  },
  "orig_nbformat": 4
 },
 "nbformat": 4,
 "nbformat_minor": 2
}
