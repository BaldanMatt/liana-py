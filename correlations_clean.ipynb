{
 "cells": [
  {
   "cell_type": "code",
   "execution_count": null,
   "id": "153e7944-adbb-401e-914b-09c227dcfdea",
   "metadata": {},
   "outputs": [],
   "source": [
    "import squidpy as sq\n",
    "import scanpy as sc\n",
    "import pandas as pd\n",
    "import numpy as np\n",
    "from scipy.sparse import csr_matrix, isspmatrix_csr"
   ]
  },
  {
   "cell_type": "code",
   "execution_count": null,
   "id": "cbb22f08-505c-4087-af67-84577d421f60",
   "metadata": {},
   "outputs": [],
   "source": [
    "import liana as li"
   ]
  },
  {
   "cell_type": "code",
   "execution_count": null,
   "id": "4f0fe90c-bf2b-44b3-8798-8aaad0e402f1",
   "metadata": {},
   "outputs": [],
   "source": [
    "from matplotlib.pyplot import hist"
   ]
  },
  {
   "cell_type": "code",
   "execution_count": null,
   "id": "b9f16311-988d-4b04-b544-3b9ae80f0b71",
   "metadata": {},
   "outputs": [],
   "source": [
    "counts = pd.read_csv(\"data/counts_mat.csv\")\n",
    "weights = pd.read_csv(\"data/weight_mat.csv\")"
   ]
  },
  {
   "cell_type": "code",
   "execution_count": null,
   "id": "1caf6c62-a727-40c5-94a9-5d6dcd535c48",
   "metadata": {},
   "outputs": [],
   "source": [
    "var = pd.DataFrame(counts[['Unnamed: 0']]).set_index('Unnamed: 0')\n",
    "var.index.name = None"
   ]
  },
  {
   "cell_type": "code",
   "execution_count": null,
   "id": "740b5fad-7447-4eef-ba35-6ef5e028da17",
   "metadata": {},
   "outputs": [],
   "source": [
    "adata = sc.AnnData(X=csr_matrix(counts.drop(counts.columns[0], axis=1), dtype=np.float32).T, var=var)"
   ]
  },
  {
   "cell_type": "code",
   "execution_count": null,
   "id": "bb9f37d6-da59-44ca-b304-222329b21237",
   "metadata": {},
   "outputs": [],
   "source": [
    "adata.obsm['proximity'] = csr_matrix(weights)"
   ]
  },
  {
   "cell_type": "code",
   "execution_count": null,
   "id": "10c311ac-b3a1-49fe-a054-83fb41aeb5e3",
   "metadata": {},
   "outputs": [],
   "source": []
  },
  {
   "cell_type": "code",
   "execution_count": null,
   "id": "22a8de43-4ff7-4e93-9056-e27ba4a0afef",
   "metadata": {},
   "outputs": [],
   "source": [
    "from liana.method._global_lr_pipe import _global_lr_pipe\n",
    "from liana.method.sp._spatialdm import _get_ordered_matrix, _standardize_matrix"
   ]
  },
  {
   "cell_type": "code",
   "execution_count": null,
   "id": "76f1b690-891f-4949-9517-1957108b80e9",
   "metadata": {},
   "outputs": [],
   "source": []
  },
  {
   "cell_type": "code",
   "execution_count": null,
   "id": "34109760-a362-41ca-8931-6658aa6d0223",
   "metadata": {},
   "outputs": [],
   "source": [
    "adata.write_h5ad(\"test_spatial.h5ad\")"
   ]
  },
  {
   "cell_type": "code",
   "execution_count": null,
   "id": "25ee1279",
   "metadata": {},
   "outputs": [],
   "source": []
  },
  {
   "cell_type": "code",
   "execution_count": null,
   "id": "c8fee01a-7e7a-4556-9c54-77a671b0a735",
   "metadata": {},
   "outputs": [],
   "source": [
    "resource = pd.DataFrame({\"ligand\":[\"Dnm1l\", \"Arrb1\", \"Igf2\"], \"receptor\":[\"Gucy1b3\", \"Mtor\", \"Tuba1a\"]})"
   ]
  },
  {
   "cell_type": "code",
   "execution_count": null,
   "id": "43b18c02-ee7c-4980-8ec7-9da7418b0676",
   "metadata": {},
   "outputs": [],
   "source": []
  },
  {
   "cell_type": "code",
   "execution_count": null,
   "id": "9b2eae96-cedb-44e6-b9b1-e122bba505bb",
   "metadata": {},
   "outputs": [],
   "source": [
    "temp, lr_res, ligand_pos, receptor_pos = _global_lr_pipe(adata=adata,\n",
    "                                                         resource=resource,\n",
    "                                                         expr_prop=0.05,\n",
    "                                                         use_raw=False,\n",
    "                                                         verbose=True,\n",
    "                                                         layer=None,\n",
    "                                                         _key_cols=['ligand_complex', 'receptor_complex'],\n",
    "                                                         _complex_cols=['ligand_means', 'receptor_means'],\n",
    "                                                         _obms_keys=['proximity'],\n",
    "                                                         resource_name=None\n",
    "                                                         )"
   ]
  },
  {
   "cell_type": "code",
   "execution_count": null,
   "id": "5801b031-bfdc-4712-8191-26c88d7d6d59",
   "metadata": {},
   "outputs": [],
   "source": [
    "lr_res"
   ]
  },
  {
   "cell_type": "code",
   "execution_count": null,
   "id": "79c3025f-5d31-475b-85fb-8228c82fc7da",
   "metadata": {},
   "outputs": [],
   "source": []
  },
  {
   "cell_type": "markdown",
   "id": "f9b53bf1-be2e-4441-9833-99a17a48c3f7",
   "metadata": {},
   "source": [
    "Correlations"
   ]
  },
  {
   "cell_type": "code",
   "execution_count": null,
   "id": "09576b07-eb28-4dab-84f4-0917ac4ebb8e",
   "metadata": {},
   "outputs": [],
   "source": [
    "ligand_mat = _get_ordered_matrix(temp.X, ligand_pos, lr_res.ligand)\n",
    "receptor_mat = _get_ordered_matrix(temp.X, receptor_pos, lr_res.receptor)"
   ]
  },
  {
   "cell_type": "code",
   "execution_count": null,
   "id": "387a8e8d-f051-49b3-b7ef-c2990d247d83",
   "metadata": {},
   "outputs": [],
   "source": [
    "x, y = ligand_mat[0, :].A.flatten(), receptor_mat[0, :].A.flatten()"
   ]
  },
  {
   "cell_type": "code",
   "execution_count": null,
   "id": "1b518623-87e5-448c-87f2-18360735fe35",
   "metadata": {},
   "outputs": [],
   "source": [
    "from scipy.stats import spearmanr, pearsonr, pointbiserialr, kendalltau"
   ]
  },
  {
   "cell_type": "code",
   "execution_count": null,
   "id": "3568c25e-3ef5-45e1-b24c-1dd25f88a7ef",
   "metadata": {},
   "outputs": [],
   "source": [
    "pearsonr(x, y)"
   ]
  },
  {
   "cell_type": "code",
   "execution_count": null,
   "id": "bcde7882-060a-46c7-a9e0-e71fabed248c",
   "metadata": {},
   "outputs": [],
   "source": []
  },
  {
   "cell_type": "markdown",
   "id": "27734c88-857b-46fe-8e67-3e47e964509b",
   "metadata": {},
   "source": [
    "One by One"
   ]
  },
  {
   "cell_type": "code",
   "execution_count": null,
   "id": "1f465b2e-56c7-45f3-9e34-e33a338de7ac",
   "metadata": {},
   "outputs": [],
   "source": [
    "def wcor(x, y, weight):\n",
    "    weight_sum = np.sum(weight)\n",
    "    \n",
    "    numerator = weight_sum * np.sum(weight * x * y) - np.sum(weight * x) * np.sum(weight * y)\n",
    "    denominator_x = weight_sum * np.sum(weight * (x**2)) - np.sum(weight * x)**2\n",
    "    denominator_y = weight_sum * np.sum(weight * (y**2)) - np.sum(weight * y)**2\n",
    "    \n",
    "    wcor = numerator / np.sqrt(denominator_x * denominator_y)\n",
    "    \n",
    "    return wcor"
   ]
  },
  {
   "cell_type": "code",
   "execution_count": null,
   "id": "789f9ba8-3df6-4c99-9309-2fdeced50505",
   "metadata": {},
   "outputs": [],
   "source": [
    "adata.obsm['proximity']"
   ]
  },
  {
   "cell_type": "code",
   "execution_count": null,
   "id": "09fc5ee7-681e-485c-a60c-db203ae0df85",
   "metadata": {},
   "outputs": [],
   "source": []
  },
  {
   "cell_type": "code",
   "execution_count": null,
   "id": "2ba43bf5-801a-47b7-a879-94ef695e699a",
   "metadata": {},
   "outputs": [],
   "source": [
    "i = 0"
   ]
  },
  {
   "cell_type": "code",
   "execution_count": null,
   "id": "06da56e4-35e4-4280-bf41-042318665a11",
   "metadata": {},
   "outputs": [],
   "source": [
    "# all weights = 1 (i.e. pearsonr)\n",
    "wcor(x, y, np.repeat(1, x.shape[0]))"
   ]
  },
  {
   "cell_type": "code",
   "execution_count": null,
   "id": "3e260853-40fe-46dd-9969-0b7c6a4a8e6c",
   "metadata": {},
   "outputs": [],
   "source": []
  },
  {
   "cell_type": "code",
   "execution_count": null,
   "id": "454f7738-17ee-4542-9bc5-95a4adb4cad1",
   "metadata": {},
   "outputs": [],
   "source": [
    "weight = adata.obsm['proximity']"
   ]
  },
  {
   "cell_type": "code",
   "execution_count": null,
   "id": "c6547abd-49ef-4ff6-a16e-3d1ef4f4d002",
   "metadata": {},
   "outputs": [],
   "source": [
    "# calculate all local correlations\n",
    "# technically, if we take i (a spot), x and y (e.g. genes),\n",
    "# we go over all rows in w (i.e. every spot)\n",
    "# and we re-calculate PC with the spatial weights \n",
    "# for the spots i to any other spot (j)\n",
    "local_corrs = []\n",
    "for i in range(weight.shape[0]):\n",
    "    local_corrs.append(wcor(x, y, weight[i, :].A))\n",
    "local_corrs = np.array(local_corrs)"
   ]
  },
  {
   "cell_type": "code",
   "execution_count": null,
   "id": "440cf97a-fca9-4809-8072-8b5899f732de",
   "metadata": {},
   "outputs": [],
   "source": [
    "hist(local_corrs)"
   ]
  },
  {
   "cell_type": "code",
   "execution_count": null,
   "id": "883ae786-b729-4cd7-aa00-364eb1b1f009",
   "metadata": {},
   "outputs": [],
   "source": [
    "local_corrs[0:5]"
   ]
  },
  {
   "cell_type": "code",
   "execution_count": null,
   "id": "7a604eb8-3f1d-4a2f-a03b-6a3baba26c39",
   "metadata": {},
   "outputs": [],
   "source": []
  },
  {
   "cell_type": "code",
   "execution_count": null,
   "id": "1ca72509-eefb-45c5-931d-cf201f162d02",
   "metadata": {},
   "outputs": [],
   "source": [
    "weight = weight[0, :].A"
   ]
  },
  {
   "cell_type": "code",
   "execution_count": null,
   "id": "0146f46b-7d75-498b-b574-465382b22364",
   "metadata": {},
   "outputs": [],
   "source": [
    "weight_sum = np.sum(weight)\n",
    "\n",
    "numerator = weight_sum * np.sum(weight * x * y) - np.sum(weight * x) * np.sum(weight * y)\n",
    "denominator_x = weight_sum * np.sum(weight * (x**2)) - np.sum(weight * x)**2\n",
    "denominator_y = weight_sum * np.sum(weight * (y**2)) - np.sum(weight * y)**2\n",
    "\n",
    "# wcov\n",
    "numerator / np.sqrt(denominator_x * denominator_y)"
   ]
  },
  {
   "cell_type": "code",
   "execution_count": null,
   "id": "e430485e-00f6-46fe-8279-f653314506a1",
   "metadata": {},
   "outputs": [],
   "source": [
    "numerator"
   ]
  },
  {
   "cell_type": "code",
   "execution_count": null,
   "id": "fb38fd3f-af8f-416b-8bd2-afdf800b7f7d",
   "metadata": {},
   "outputs": [],
   "source": [
    "denominator_x"
   ]
  },
  {
   "cell_type": "code",
   "execution_count": null,
   "id": "eabd8be0-760e-40c2-a778-54a6992e6220",
   "metadata": {},
   "outputs": [],
   "source": [
    "denominator_y"
   ]
  },
  {
   "cell_type": "code",
   "execution_count": null,
   "id": "4f342b13-9b77-416b-af27-cc36f56aef53",
   "metadata": {},
   "outputs": [],
   "source": []
  },
  {
   "cell_type": "code",
   "execution_count": null,
   "id": "39b825d7-b5c7-4708-b827-4b560c5e92af",
   "metadata": {},
   "outputs": [],
   "source": [
    "weight_sum * np.sum(weight * x * y)"
   ]
  },
  {
   "cell_type": "code",
   "execution_count": null,
   "id": "2b756b18-0bc5-4f00-9d3f-14daeb8ead59",
   "metadata": {},
   "outputs": [],
   "source": [
    "np.sum(weight * x) * np.sum(weight * y)"
   ]
  },
  {
   "cell_type": "code",
   "execution_count": null,
   "id": "1253f3a7-56c0-419a-8f2c-48e94635cec0",
   "metadata": {},
   "outputs": [],
   "source": []
  },
  {
   "cell_type": "code",
   "execution_count": null,
   "id": "63e6753c-d63a-47fb-9adc-947fcb14a540",
   "metadata": {},
   "outputs": [],
   "source": [
    "(weight * x)[0][0:5]"
   ]
  },
  {
   "cell_type": "code",
   "execution_count": null,
   "id": "23e49926-024a-4e7f-9db0-9be089459776",
   "metadata": {},
   "outputs": [],
   "source": []
  },
  {
   "cell_type": "markdown",
   "id": "6c541874-43de-4f95-8dd3-fcf5f6c5df24",
   "metadata": {},
   "source": [
    "Vectorize"
   ]
  },
  {
   "cell_type": "markdown",
   "id": "ba744e9d-5461-4ddb-a68b-9534806acf93",
   "metadata": {},
   "source": [
    "For one interaction at a time:"
   ]
  },
  {
   "cell_type": "code",
   "execution_count": null,
   "id": "c2b9c4c9-0d5a-48e6-b628-1068b55db89e",
   "metadata": {},
   "outputs": [],
   "source": [
    "weight = adata.obsm[\"proximity\"].A ## does it really need to be A?"
   ]
  },
  {
   "cell_type": "code",
   "execution_count": null,
   "id": "40bd0b01-0678-4176-abd2-c601ed10b1b6",
   "metadata": {},
   "outputs": [],
   "source": [
    "weight_sums = np.sum(weight, axis = 1).flatten()"
   ]
  },
  {
   "cell_type": "code",
   "execution_count": null,
   "id": "6d360577-ea12-46e3-a7b9-70a9dc568cd5",
   "metadata": {},
   "outputs": [],
   "source": [
    "n1 = (weight_sums * np.sum(np.multiply(weight, x) * y, axis=1))\n",
    "n1"
   ]
  },
  {
   "cell_type": "code",
   "execution_count": null,
   "id": "f2e5e269-5495-4336-a6ef-0dc751dffb46",
   "metadata": {},
   "outputs": [],
   "source": [
    "n2 = np.sum(np.multiply(weight, x), axis=1) * np.sum(np.multiply(weight, y), axis=1)\n",
    "n2"
   ]
  },
  {
   "cell_type": "code",
   "execution_count": null,
   "id": "5e78743b-e212-49a9-b5f4-306b9f50abab",
   "metadata": {},
   "outputs": [],
   "source": [
    "numerator = n1 - n2"
   ]
  },
  {
   "cell_type": "code",
   "execution_count": null,
   "id": "2a9d6ed7",
   "metadata": {},
   "outputs": [],
   "source": [
    "numerator[0:5]"
   ]
  },
  {
   "cell_type": "code",
   "execution_count": null,
   "id": "dd6df074-1b77-44fc-8bd0-ba92529a16ce",
   "metadata": {},
   "outputs": [],
   "source": []
  },
  {
   "cell_type": "code",
   "execution_count": null,
   "id": "566d64f2-ad7c-4acb-b49e-7daac2ba428e",
   "metadata": {},
   "outputs": [],
   "source": [
    "denominator_x = weight_sum * np.sum(np.multiply(weight, (x**2)), axis = 1) - np.sum(np.multiply(weight,  x), axis=1)**2\n",
    "denominator_y = weight_sum * np.sum(np.multiply(weight, (y**2)), axis = 1) - np.sum(np.multiply(weight,  y), axis=1)**2"
   ]
  },
  {
   "cell_type": "code",
   "execution_count": null,
   "id": "dee94a5d-e7ed-41aa-b457-c842dadaa472",
   "metadata": {},
   "outputs": [],
   "source": [
    "denominator_x.shape"
   ]
  },
  {
   "cell_type": "code",
   "execution_count": null,
   "id": "68f146bd-6a93-4799-9f1d-5267dd93b851",
   "metadata": {},
   "outputs": [],
   "source": []
  },
  {
   "cell_type": "code",
   "execution_count": null,
   "id": "c763af5a-23f8-4bf6-a4b8-dc06b2b4e752",
   "metadata": {},
   "outputs": [],
   "source": [
    "denominator_x[0:5]"
   ]
  },
  {
   "cell_type": "code",
   "execution_count": null,
   "id": "cf5b4f16-c3f5-4e2c-9a85-f57694cfa8fe",
   "metadata": {},
   "outputs": [],
   "source": [
    "denominator_y[0:5]"
   ]
  },
  {
   "cell_type": "code",
   "execution_count": null,
   "id": "8bcfb4ca-105a-42c1-847c-8a2a7d8ccd83",
   "metadata": {},
   "outputs": [],
   "source": [
    "local_corrs = numerator / np.sqrt(denominator_x * denominator_y)"
   ]
  },
  {
   "cell_type": "code",
   "execution_count": null,
   "id": "32ee796f-713b-4980-b766-abbca1cdf775",
   "metadata": {},
   "outputs": [],
   "source": [
    "hist(local_corrs)"
   ]
  },
  {
   "cell_type": "code",
   "execution_count": null,
   "id": "b7a71beb-5cf0-4d85-992a-4e4c394985e2",
   "metadata": {},
   "outputs": [],
   "source": []
  },
  {
   "cell_type": "code",
   "execution_count": null,
   "id": "72091ea9-730d-4c65-9208-74a77b5b7e94",
   "metadata": {},
   "outputs": [],
   "source": []
  },
  {
   "cell_type": "markdown",
   "id": "d4a4f75e-dc99-4563-817b-e158a18abf28",
   "metadata": {},
   "source": [
    "All local corrs for all interactions"
   ]
  },
  {
   "cell_type": "code",
   "execution_count": null,
   "id": "1edce62b-dabe-4c36-86db-0e10ca425f09",
   "metadata": {},
   "outputs": [],
   "source": [
    "ligand_mat"
   ]
  },
  {
   "cell_type": "code",
   "execution_count": null,
   "id": "a8df29a7-8dfa-46d4-8b99-bbb7fd694fc0",
   "metadata": {},
   "outputs": [],
   "source": [
    "receptor_mat"
   ]
  },
  {
   "cell_type": "code",
   "execution_count": null,
   "id": "48696316-b3ec-436a-9415-d8faf1991226",
   "metadata": {},
   "outputs": [],
   "source": []
  },
  {
   "cell_type": "code",
   "execution_count": null,
   "id": "e290d38d-33f8-4c10-8e08-99bf519d7e2f",
   "metadata": {},
   "outputs": [],
   "source": [
    "weight = adata.obsm[\"proximity\"].A.T ## does it really need to be A?"
   ]
  },
  {
   "cell_type": "code",
   "execution_count": null,
   "id": "02e1dded-4858-4cee-9a4f-41b22c4494f0",
   "metadata": {},
   "outputs": [],
   "source": [
    "weight_sums = np.sum(weight, axis = 0).flatten()"
   ]
  },
  {
   "cell_type": "code",
   "execution_count": null,
   "id": "44ab4a9c-413d-4684-84fa-0a341715dac9",
   "metadata": {},
   "outputs": [],
   "source": [
    "x_mat = ligand_mat.A.T\n",
    "y_mat = receptor_mat.A.T"
   ]
  },
  {
   "cell_type": "code",
   "execution_count": null,
   "id": "ec508ba1",
   "metadata": {},
   "outputs": [],
   "source": [
    "from scipy.stats import rankdata"
   ]
  },
  {
   "cell_type": "code",
   "execution_count": null,
   "id": "a2266316",
   "metadata": {},
   "outputs": [],
   "source": [
    "# x_mat = rankdata(x_mat, axis=0)\n",
    "# y_mat = rankdata(y_mat, axis=0)"
   ]
  },
  {
   "cell_type": "code",
   "execution_count": null,
   "id": "cbe0dd74",
   "metadata": {},
   "outputs": [],
   "source": []
  },
  {
   "cell_type": "code",
   "execution_count": null,
   "id": "4946f4a8-ef66-4136-92e4-34f495e454ac",
   "metadata": {},
   "outputs": [],
   "source": [
    "n1 = (((x_mat * y_mat).T @ weight) * weight_sums.T)"
   ]
  },
  {
   "cell_type": "code",
   "execution_count": null,
   "id": "6cd8a1f5",
   "metadata": {},
   "outputs": [],
   "source": [
    "n1[0:5, 0]"
   ]
  },
  {
   "cell_type": "code",
   "execution_count": null,
   "id": "2d85c7c2-a647-4821-8887-54fe860151a1",
   "metadata": {},
   "outputs": [],
   "source": [
    "n2 = (x_mat.T @ weight) * (y_mat.T @ weight)"
   ]
  },
  {
   "cell_type": "code",
   "execution_count": null,
   "id": "fc138f8c-7feb-4a06-ab5f-4625ba563d06",
   "metadata": {},
   "outputs": [],
   "source": []
  },
  {
   "cell_type": "code",
   "execution_count": null,
   "id": "cfec59cd-3dd7-4455-9894-3a2471dae55d",
   "metadata": {},
   "outputs": [],
   "source": [
    "numerator = n1 - n2"
   ]
  },
  {
   "cell_type": "code",
   "execution_count": null,
   "id": "64e96a37-7f32-4897-877a-37c800c36335",
   "metadata": {},
   "outputs": [],
   "source": [
    "numerator[0,0:5]"
   ]
  },
  {
   "cell_type": "code",
   "execution_count": null,
   "id": "ba30449e-7478-44ad-abda-f31922cb844e",
   "metadata": {},
   "outputs": [],
   "source": []
  },
  {
   "cell_type": "code",
   "execution_count": null,
   "id": "742ce22f-6a27-420f-adf2-e3e78628adde",
   "metadata": {},
   "outputs": [],
   "source": [
    "denominator_x = (weight_sums * (x_mat ** 2).T @ weight) - (x_mat.T @ weight)**2\n",
    "denominator_y = (weight_sums * (y_mat ** 2).T @ weight) - (y_mat.T @ weight)**2"
   ]
  },
  {
   "cell_type": "code",
   "execution_count": null,
   "id": "c4426886-4b7d-43fe-8547-99ff8a78dcae",
   "metadata": {},
   "outputs": [],
   "source": [
    "denominator_x[0, 0:5]"
   ]
  },
  {
   "cell_type": "code",
   "execution_count": null,
   "id": "fd57e99d-bb33-48da-94ed-a0adeff0f91b",
   "metadata": {},
   "outputs": [],
   "source": [
    "denominator_y[0, 0:5]"
   ]
  },
  {
   "cell_type": "code",
   "execution_count": null,
   "id": "09b3a4a2-1bf9-48ab-8cd9-0b080d3cc99b",
   "metadata": {},
   "outputs": [],
   "source": [
    "local_corrs = (numerator / np.sqrt(denominator_x * denominator_y)).T"
   ]
  },
  {
   "cell_type": "code",
   "execution_count": null,
   "id": "dee4ebbf-1541-4ba0-93f9-d70282a127ef",
   "metadata": {},
   "outputs": [],
   "source": [
    "hist(local_corrs[:,0])"
   ]
  },
  {
   "cell_type": "code",
   "execution_count": null,
   "id": "69cb7ee2",
   "metadata": {},
   "outputs": [],
   "source": [
    "local_corrs[0:5,0]"
   ]
  },
  {
   "cell_type": "code",
   "execution_count": null,
   "id": "dc85144e",
   "metadata": {},
   "outputs": [],
   "source": []
  },
  {
   "attachments": {},
   "cell_type": "markdown",
   "id": "0afdf754",
   "metadata": {},
   "source": [
    "Clean"
   ]
  },
  {
   "cell_type": "code",
   "execution_count": 30,
   "id": "153e7944-adbb-401e-914b-09c227dcfdea",
   "metadata": {},
   "outputs": [],
   "source": [
    "import squidpy as sq\n",
    "import scanpy as sc\n",
    "import pandas as pd\n",
    "import numpy as np\n",
    "from scipy.sparse import csr_matrix, isspmatrix_csr"
   ]
  },
  {
   "cell_type": "code",
   "execution_count": 31,
   "id": "cbb22f08-505c-4087-af67-84577d421f60",
   "metadata": {},
   "outputs": [],
   "source": [
    "import liana as li"
   ]
  },
  {
   "cell_type": "code",
   "execution_count": 32,
   "id": "4f0fe90c-bf2b-44b3-8798-8aaad0e402f1",
   "metadata": {},
   "outputs": [],
   "source": [
    "from matplotlib.pyplot import hist"
   ]
  },
  {
   "cell_type": "code",
   "execution_count": 33,
   "id": "5e601378",
   "metadata": {},
   "outputs": [],
   "source": [
    "from liana.method._global_lr_pipe import _global_lr_pipe\n",
    "from liana.method.sp._spatialdm import _get_ordered_matrix, _standardize_matrix"
   ]
  },
  {
   "cell_type": "code",
   "execution_count": 34,
   "id": "d8c4f241",
   "metadata": {},
   "outputs": [],
   "source": [
    "from scipy.stats import rankdata"
   ]
  },
  {
   "cell_type": "code",
   "execution_count": null,
   "id": "9860d383",
   "metadata": {},
   "outputs": [],
   "source": []
  },
  {
   "cell_type": "code",
   "execution_count": 35,
   "id": "18fb86d6",
   "metadata": {},
   "outputs": [],
   "source": [
    "# toy data and toy resource\n",
    "adata = sc.read_h5ad(\"test_spatial.h5ad\")\n",
    "resource = pd.DataFrame({\"ligand\":[\"Dnm1l\", \"Arrb1\", \"Igf2\"], \"receptor\":[\"Gucy1b3\", \"Mtor\", \"Tuba1a\"]})"
   ]
  },
  {
   "cell_type": "code",
   "execution_count": null,
   "id": "2cf8984e",
   "metadata": {},
   "outputs": [],
   "source": []
  },
  {
   "cell_type": "code",
   "execution_count": 36,
   "id": "503f54d4",
   "metadata": {},
   "outputs": [
    {
     "name": "stdout",
     "output_type": "stream",
     "text": [
      "Using `.X`!\n",
      "Converting mat to CSR format\n"
     ]
    }
   ],
   "source": [
    "temp, lr_res, ligand_pos, receptor_pos = _global_lr_pipe(adata=adata,\n",
    "                                                         resource=resource,\n",
    "                                                         expr_prop=0.05,\n",
    "                                                         use_raw=False,\n",
    "                                                         verbose=True,\n",
    "                                                         layer=None,\n",
    "                                                         _key_cols=['ligand_complex', 'receptor_complex'],\n",
    "                                                         _complex_cols=['ligand_means', 'receptor_means'],\n",
    "                                                         _obms_keys=['proximity'],\n",
    "                                                         resource_name=None\n",
    "                                                         )"
   ]
  },
  {
   "cell_type": "code",
   "execution_count": null,
   "id": "fd4708ad",
   "metadata": {},
   "outputs": [],
   "source": []
  },
  {
   "cell_type": "code",
   "execution_count": 242,
   "id": "0e95b8ba",
   "metadata": {},
   "outputs": [],
   "source": [
    "# ligand-receptor mats\n",
    "ligand_mat = _get_ordered_matrix(temp.X, ligand_pos, lr_res.ligand)\n",
    "receptor_mat = _get_ordered_matrix(temp.X, receptor_pos, lr_res.receptor)"
   ]
  },
  {
   "cell_type": "code",
   "execution_count": 243,
   "id": "09d88faa",
   "metadata": {},
   "outputs": [],
   "source": [
    "x_mat = ligand_mat.A\n",
    "y_mat = receptor_mat.A"
   ]
  },
  {
   "cell_type": "code",
   "execution_count": 244,
   "id": "9133666e",
   "metadata": {},
   "outputs": [],
   "source": [
    "dist = adata.obsm['proximity']"
   ]
  },
  {
   "cell_type": "code",
   "execution_count": 266,
   "id": "3573cd36",
   "metadata": {},
   "outputs": [],
   "source": [
    "def calculate_local_correlations(x_mat, y_mat, dist, method=\"pearson\"):\n",
    "    if method not in [\"pearson\", \"spearman\", \"spearman_nz\"]:\n",
    "        raise ValueError(\"method must be one of 'pearson', 'spearman', 'spearman_nz'\")\n",
    "    \n",
    "    weight = dist.A.T ## does it really need to be A?\n",
    "    weight_sums = np.sum(weight, axis = 0).flatten()\n",
    "        \n",
    "    if method==\"spearman\":\n",
    "        x_mat = rankdata(x_mat, axis=1)\n",
    "        y_mat = rankdata(y_mat, axis=1)\n",
    "    \n",
    "    # standard pearson\n",
    "    n1 = (((x_mat * y_mat).dot(weight)) * weight_sums)\n",
    "    n2 = (x_mat.dot(weight)) * (y_mat.dot(weight))\n",
    "    numerator = n1 - n2\n",
    "    \n",
    "    denominator_x = (weight_sums * (x_mat ** 2).dot(weight)) - (x_mat.dot(weight))**2\n",
    "    denominator_y = (weight_sums * (y_mat ** 2).dot(weight)) - (y_mat.dot(weight))**2\n",
    "    \n",
    "    local_corrs = (numerator / np.sqrt(denominator_x * denominator_y))\n",
    "    \n",
    "    return local_corrs"
   ]
  },
  {
   "cell_type": "code",
   "execution_count": 267,
   "id": "297b3e2d",
   "metadata": {},
   "outputs": [],
   "source": [
    "local_pc = calculate_local_correlations(x_mat, y_mat, dist, method=\"pearson\")\n",
    "local_sp = calculate_local_correlations(x_mat, y_mat, dist, method=\"spearman\")\n",
    "local_spnz = calculate_local_correlations(x_mat, y_mat, dist, method=\"spearman_nz\")"
   ]
  },
  {
   "cell_type": "code",
   "execution_count": null,
   "id": "8f6786f7",
   "metadata": {},
   "outputs": [],
   "source": []
  },
  {
   "cell_type": "code",
   "execution_count": null,
   "id": "d2d14e23",
   "metadata": {},
   "outputs": [],
   "source": [
    "rankdata()"
   ]
  },
  {
   "cell_type": "code",
   "execution_count": 272,
   "id": "0cc126f6",
   "metadata": {},
   "outputs": [],
   "source": [
    "weight = dist.A.T ## does it really need to be A?"
   ]
  },
  {
   "cell_type": "code",
   "execution_count": 343,
   "id": "41e77e49",
   "metadata": {},
   "outputs": [
    {
     "data": {
      "text/plain": [
       "15.733572500753096"
      ]
     },
     "execution_count": 343,
     "metadata": {},
     "output_type": "execute_result"
    }
   ],
   "source": [
    "np.mean(x_mat.dot(weight))"
   ]
  },
  {
   "cell_type": "code",
   "execution_count": 344,
   "id": "663b3b97",
   "metadata": {},
   "outputs": [],
   "source": [
    "msk = np.int16(weight==0)"
   ]
  },
  {
   "cell_type": "code",
   "execution_count": 363,
   "id": "9008a298",
   "metadata": {},
   "outputs": [],
   "source": [
    "weight2 = np.ma.masked_array(data = weight, mask=msk, fill_value=np.nan)"
   ]
  },
  {
   "cell_type": "code",
   "execution_count": 355,
   "id": "abae78a5",
   "metadata": {},
   "outputs": [],
   "source": [
    "x_mat2 = np.ma.masked_array(x_mat, mask=np.isnan(x_mat))"
   ]
  },
  {
   "cell_type": "code",
   "execution_count": 351,
   "id": "d112e5d9",
   "metadata": {},
   "outputs": [
    {
     "data": {
      "text/plain": [
       "(3, 260)"
      ]
     },
     "execution_count": 351,
     "metadata": {},
     "output_type": "execute_result"
    }
   ],
   "source": [
    "x_mat.shape"
   ]
  },
  {
   "cell_type": "code",
   "execution_count": 352,
   "id": "411f334b",
   "metadata": {},
   "outputs": [],
   "source": [
    "xx = np.ma.masked_array.dot(x_mat2, weight2)"
   ]
  },
  {
   "cell_type": "code",
   "execution_count": 369,
   "id": "5a486280",
   "metadata": {},
   "outputs": [
    {
     "data": {
      "text/plain": [
       "masked_array(\n",
       "  data=[[2.0, --, 1.333333333333334, ..., --, --, 1.166666666666666],\n",
       "        [1.0, 2.0, 1.833333333333334, ..., --, --, 1.333333333333334],\n",
       "        [1.666666666666666, 1.833333333333334, 2.0, ..., --, --,\n",
       "         1.666666666666666],\n",
       "        ...,\n",
       "        [--, --, --, ..., 2.0, --, --],\n",
       "        [--, --, --, ..., --, 2.0, --],\n",
       "        [1.333333333333334, 1.166666666666666, 1.666666666666666, ...,\n",
       "         --, --, 2.0]],\n",
       "  mask=[[False,  True, False, ...,  True,  True, False],\n",
       "        [False, False, False, ...,  True,  True, False],\n",
       "        [False, False, False, ...,  True,  True, False],\n",
       "        ...,\n",
       "        [ True,  True,  True, ..., False,  True,  True],\n",
       "        [ True,  True,  True, ...,  True, False,  True],\n",
       "        [False, False, False, ...,  True,  True, False]],\n",
       "  fill_value=nan)"
      ]
     },
     "execution_count": 369,
     "metadata": {},
     "output_type": "execute_result"
    }
   ],
   "source": [
    "weight2 * 2"
   ]
  },
  {
   "cell_type": "code",
   "execution_count": 353,
   "id": "70399a35",
   "metadata": {},
   "outputs": [
    {
     "data": {
      "text/plain": [
       "masked"
      ]
     },
     "execution_count": 353,
     "metadata": {},
     "output_type": "execute_result"
    }
   ],
   "source": [
    "np.mean(xx)"
   ]
  },
  {
   "cell_type": "code",
   "execution_count": null,
   "id": "6b1a6a64",
   "metadata": {},
   "outputs": [],
   "source": []
  },
  {
   "cell_type": "code",
   "execution_count": 268,
   "id": "9af0767d",
   "metadata": {},
   "outputs": [
    {
     "data": {
      "text/plain": [
       "(array([ 3., 12., 20., 38., 36., 50., 36., 37., 23.,  5.]),\n",
       " array([-0.70673671, -0.57224594, -0.43775517, -0.30326441, -0.16877364,\n",
       "        -0.03428288,  0.10020789,  0.23469865,  0.36918942,  0.50368018,\n",
       "         0.63817095]),\n",
       " <BarContainer object of 10 artists>)"
      ]
     },
     "execution_count": 268,
     "metadata": {},
     "output_type": "execute_result"
    },
    {
     "data": {
      "image/png": "[encoded data removed]",
      "text/plain": [
       "<Figure size 432x288 with 1 Axes>"
      ]
     },
     "metadata": {
      "needs_background": "light"
     },
     "output_type": "display_data"
    }
   ],
   "source": [
    "hist(local_spnz[0,:])"
   ]
  },
  {
   "cell_type": "code",
   "execution_count": 269,
   "id": "2b130315",
   "metadata": {},
   "outputs": [],
   "source": [
    "from scipy.stats import spearmanr, pearsonr"
   ]
  },
  {
   "cell_type": "code",
   "execution_count": 271,
   "id": "55b3f299",
   "metadata": {},
   "outputs": [
    {
     "data": {
      "text/plain": [
       "(1.0, 0.0)"
      ]
     },
     "execution_count": 271,
     "metadata": {},
     "output_type": "execute_result"
    }
   ],
   "source": [
    "pearsonr(local_spnz[0,:], local_sp[0,:])"
   ]
  },
  {
   "cell_type": "code",
   "execution_count": null,
   "id": "7f732c19",
   "metadata": {},
   "outputs": [],
   "source": []
  },
  {
   "attachments": {},
   "cell_type": "markdown",
   "id": "20c66314",
   "metadata": {},
   "source": [
    "local p-values"
   ]
  },
  {
   "cell_type": "code",
   "execution_count": 108,
   "id": "2d2a26c4",
   "metadata": {},
   "outputs": [],
   "source": [
    "from numpy import random\n",
    "from tqdm import tqdm"
   ]
  },
  {
   "cell_type": "code",
   "execution_count": 109,
   "id": "af430595",
   "metadata": {},
   "outputs": [],
   "source": [
    "rng = random.default_rng()\n",
    "n_perm = 1000\n",
    "positive_only = True # remove this option?"
   ]
  },
  {
   "cell_type": "code",
   "execution_count": 110,
   "id": "8bb8d8c3",
   "metadata": {},
   "outputs": [
    {
     "data": {
      "text/plain": [
       "(3, 260)"
      ]
     },
     "execution_count": 110,
     "metadata": {},
     "output_type": "execute_result"
    }
   ],
   "source": [
    "local_pc.shape"
   ]
  },
  {
   "cell_type": "code",
   "execution_count": 131,
   "id": "b9f0a2a7",
   "metadata": {},
   "outputs": [],
   "source": [
    "def _get_local_permutation_pvals(x_mat, y_mat, truth, function, dist, n_perm, positive_only=True, **kwargs):\n",
    "    xy_n = truth.shape[0]\n",
    "    spot_n = truth.shape[1]\n",
    "    \n",
    "    # permutation cubes to be populated\n",
    "    local_pvals = np.zeros((xy_n, spot_n))\n",
    "    \n",
    "    # shuffle the matrix\n",
    "    for i in tqdm(range(n_perm)):\n",
    "        _idx = rng.permutation(spot_n)\n",
    "        perm_r = function(x_mat = x_mat[:, _idx], y_mat=y_mat, dist=dist, **kwargs)\n",
    "        if positive_only:\n",
    "            local_pvals += np.array(perm_r >= truth, dtype=int)\n",
    "        else:\n",
    "            local_pvals += (np.array(np.abs(perm_r) >= np.abs(truth), dtype=int))\n",
    "\n",
    "    local_pvals = local_pvals / n_perm\n",
    "    \n",
    "    return local_pvals\n",
    "    "
   ]
  },
  {
   "cell_type": "code",
   "execution_count": 132,
   "id": "ff308c66",
   "metadata": {},
   "outputs": [
    {
     "name": "stderr",
     "output_type": "stream",
     "text": [
      "100%|██████████| 1000/1000 [00:00<00:00, 1839.79it/s]\n"
     ]
    }
   ],
   "source": [
    "local_pvals = _get_local_permutation_pvals(x_mat, y_mat, local_pc, calculate_local_correlations, dist, n_perm, positive_only=True)"
   ]
  },
  {
   "cell_type": "code",
   "execution_count": 133,
   "id": "7c8b5359",
   "metadata": {},
   "outputs": [
    {
     "data": {
      "text/plain": [
       "260"
      ]
     },
     "execution_count": 133,
     "metadata": {},
     "output_type": "execute_result"
    }
   ],
   "source": [
    "local_pc.shape[1]"
   ]
  },
  {
   "cell_type": "code",
   "execution_count": 135,
   "id": "4e5f6f90",
   "metadata": {},
   "outputs": [
    {
     "data": {
      "text/plain": [
       "array([[0.488, 0.207, 0.006],\n",
       "       [0.265, 0.098, 0.018],\n",
       "       [0.471, 0.156, 0.009],\n",
       "       [0.501, 0.292, 0.202],\n",
       "       [0.714, 0.397, 0.591],\n",
       "       [0.505, 0.111, 0.628],\n",
       "       [0.526, 0.172, 0.306],\n",
       "       [0.563, 0.213, 0.467],\n",
       "       [0.587, 0.595, 0.341],\n",
       "       [0.279, 0.183, 0.638],\n",
       "       [0.464, 0.652, 0.201],\n",
       "       [0.52 , 0.015, 0.739],\n",
       "       [0.27 , 0.027, 0.038],\n",
       "       [0.134, 0.018, 0.004],\n",
       "       [0.122, 0.096, 0.01 ],\n",
       "       [0.44 , 0.076, 0.402],\n",
       "       [0.279, 0.005, 0.086],\n",
       "       [0.034, 0.142, 0.216],\n",
       "       [0.21 , 0.411, 0.506],\n",
       "       [0.209, 0.24 , 0.266],\n",
       "       [0.342, 0.082, 0.525],\n",
       "       [0.536, 0.031, 0.465],\n",
       "       [0.186, 0.749, 0.194],\n",
       "       [0.149, 0.668, 0.426],\n",
       "       [0.102, 0.661, 0.127],\n",
       "       [0.121, 0.326, 0.316],\n",
       "       [0.143, 0.427, 0.515],\n",
       "       [0.283, 0.368, 0.77 ],\n",
       "       [0.889, 0.346, 0.963],\n",
       "       [0.324, 0.394, 0.543],\n",
       "       [0.378, 0.683, 0.097],\n",
       "       [0.196, 0.66 , 0.475],\n",
       "       [0.379, 0.41 , 0.704],\n",
       "       [0.595, 0.878, 0.476],\n",
       "       [0.621, 0.593, 0.538],\n",
       "       [0.347, 0.423, 0.902],\n",
       "       [0.376, 0.193, 0.96 ],\n",
       "       [0.302, 0.282, 0.902],\n",
       "       [0.278, 0.595, 0.481],\n",
       "       [0.79 , 0.626, 0.804],\n",
       "       [0.671, 0.84 , 0.958],\n",
       "       [0.104, 0.839, 0.44 ],\n",
       "       [0.849, 0.557, 0.536],\n",
       "       [0.09 , 0.342, 0.911],\n",
       "       [0.755, 0.597, 0.335],\n",
       "       [0.18 , 0.534, 0.855],\n",
       "       [0.026, 0.743, 0.972],\n",
       "       [0.119, 0.102, 0.906],\n",
       "       [0.008, 0.894, 0.129],\n",
       "       [0.006, 0.945, 0.547],\n",
       "       [0.886, 0.354, 0.462],\n",
       "       [0.522, 0.584, 0.204],\n",
       "       [0.025, 0.336, 0.917],\n",
       "       [0.121, 0.188, 0.008],\n",
       "       [0.197, 0.3  , 0.173],\n",
       "       [0.142, 0.466, 0.061],\n",
       "       [0.219, 0.205, 0.1  ],\n",
       "       [0.48 , 0.714, 0.085],\n",
       "       [0.122, 0.945, 0.009],\n",
       "       [0.466, 0.902, 0.157],\n",
       "       [0.686, 0.939, 0.142],\n",
       "       [0.414, 0.457, 0.223],\n",
       "       [0.447, 0.843, 0.1  ],\n",
       "       [0.533, 0.276, 0.194],\n",
       "       [0.475, 0.508, 0.021],\n",
       "       [0.208, 0.182, 0.17 ],\n",
       "       [0.643, 0.233, 0.403],\n",
       "       [0.351, 0.118, 0.383],\n",
       "       [0.161, 0.386, 0.022],\n",
       "       [0.579, 0.592, 0.819],\n",
       "       [0.888, 0.57 , 0.681],\n",
       "       [0.339, 0.088, 0.672],\n",
       "       [0.314, 0.099, 0.424],\n",
       "       [0.296, 0.272, 0.638],\n",
       "       [0.574, 0.347, 0.337],\n",
       "       [0.249, 0.341, 0.576],\n",
       "       [0.216, 0.129, 0.283],\n",
       "       [0.334, 0.482, 0.248],\n",
       "       [0.296, 0.287, 0.256],\n",
       "       [0.251, 0.051, 0.52 ],\n",
       "       [0.138, 0.491, 0.495],\n",
       "       [0.105, 0.341, 0.15 ],\n",
       "       [0.686, 0.325, 0.251],\n",
       "       [0.725, 0.46 , 0.255],\n",
       "       [0.734, 0.856, 0.275],\n",
       "       [0.871, 0.203, 0.317],\n",
       "       [0.111, 0.446, 0.042],\n",
       "       [0.046, 0.297, 0.04 ],\n",
       "       [0.05 , 0.437, 0.054],\n",
       "       [0.125, 0.921, 0.026],\n",
       "       [0.102, 0.085, 0.568],\n",
       "       [0.736, 0.789, 0.55 ],\n",
       "       [0.257, 0.36 , 0.707],\n",
       "       [0.366, 0.018, 0.702],\n",
       "       [0.182, 0.147, 0.779],\n",
       "       [0.101, 0.942, 0.218],\n",
       "       [0.11 , 0.66 , 0.365],\n",
       "       [0.648, 0.051, 0.87 ],\n",
       "       [0.05 , 0.39 , 0.905],\n",
       "       [0.182, 0.036, 0.834],\n",
       "       [0.12 , 0.921, 0.075],\n",
       "       [0.012, 0.853, 0.335],\n",
       "       [0.314, 0.967, 0.035],\n",
       "       [0.037, 0.68 , 0.035],\n",
       "       [0.03 , 0.784, 0.03 ],\n",
       "       [0.147, 0.988, 0.158],\n",
       "       [0.753, 0.164, 0.387],\n",
       "       [0.659, 0.787, 0.498],\n",
       "       [0.803, 0.408, 0.466],\n",
       "       [0.737, 0.094, 0.347],\n",
       "       [0.041, 0.451, 0.154],\n",
       "       [0.636, 0.846, 0.017],\n",
       "       [0.113, 0.547, 0.043],\n",
       "       [0.677, 0.066, 0.21 ],\n",
       "       [0.721, 0.201, 0.11 ],\n",
       "       [0.574, 0.007, 0.386],\n",
       "       [0.834, 0.507, 0.074],\n",
       "       [0.613, 0.513, 0.062],\n",
       "       [0.563, 0.022, 0.172],\n",
       "       [0.241, 0.027, 0.284],\n",
       "       [0.715, 0.397, 0.34 ],\n",
       "       [0.629, 0.267, 0.086],\n",
       "       [0.756, 0.593, 0.021],\n",
       "       [0.685, 0.454, 0.37 ],\n",
       "       [0.6  , 0.393, 0.267],\n",
       "       [0.905, 0.613, 0.045],\n",
       "       [0.726, 0.417, 0.924],\n",
       "       [0.777, 0.532, 0.914],\n",
       "       [0.877, 0.334, 0.812],\n",
       "       [0.869, 0.25 , 0.833],\n",
       "       [0.793, 0.302, 0.493],\n",
       "       [0.88 , 0.454, 0.795],\n",
       "       [0.85 , 0.453, 0.344],\n",
       "       [0.616, 0.381, 0.085],\n",
       "       [0.906, 0.63 , 0.551],\n",
       "       [0.779, 0.861, 0.881],\n",
       "       [0.85 , 0.529, 0.101],\n",
       "       [0.603, 0.847, 0.398],\n",
       "       [0.217, 0.65 , 0.379],\n",
       "       [0.263, 0.706, 0.225],\n",
       "       [0.604, 0.416, 0.06 ],\n",
       "       [0.407, 0.133, 0.195],\n",
       "       [0.393, 0.015, 0.834],\n",
       "       [0.648, 0.097, 0.603],\n",
       "       [0.572, 0.255, 0.895],\n",
       "       [0.408, 0.634, 0.601],\n",
       "       [0.048, 0.807, 0.087],\n",
       "       [0.078, 0.891, 0.168],\n",
       "       [0.501, 0.541, 0.636],\n",
       "       [0.305, 0.905, 0.281],\n",
       "       [0.185, 0.695, 0.355],\n",
       "       [0.03 , 0.789, 0.656],\n",
       "       [0.03 , 0.619, 0.527],\n",
       "       [0.095, 0.879, 0.404],\n",
       "       [0.175, 0.634, 0.575],\n",
       "       [0.583, 0.484, 0.189],\n",
       "       [0.425, 0.851, 0.202],\n",
       "       [0.208, 0.504, 0.458],\n",
       "       [0.937, 0.453, 0.733],\n",
       "       [0.855, 0.508, 0.34 ],\n",
       "       [0.726, 0.893, 0.03 ],\n",
       "       [0.624, 0.667, 0.441],\n",
       "       [0.057, 0.47 , 0.098],\n",
       "       [0.18 , 0.333, 0.85 ],\n",
       "       [0.119, 0.536, 0.933],\n",
       "       [0.103, 0.649, 0.504],\n",
       "       [0.676, 0.482, 0.066],\n",
       "       [0.861, 0.522, 0.48 ],\n",
       "       [0.113, 0.523, 0.084],\n",
       "       [0.811, 0.645, 0.342],\n",
       "       [0.059, 0.764, 0.026],\n",
       "       [0.711, 0.183, 0.059],\n",
       "       [0.333, 0.815, 0.703],\n",
       "       [0.884, 0.391, 0.417],\n",
       "       [0.768, 0.55 , 0.385],\n",
       "       [0.188, 0.41 , 0.367],\n",
       "       [0.996, 0.589, 0.182],\n",
       "       [0.146, 0.927, 0.233],\n",
       "       [0.363, 1.   , 0.099],\n",
       "       [0.335, 0.963, 0.328],\n",
       "       [0.266, 1.   , 0.165],\n",
       "       [0.361, 0.999, 0.404],\n",
       "       [0.233, 0.972, 0.136],\n",
       "       [0.283, 0.963, 0.218],\n",
       "       [0.075, 0.52 , 0.356],\n",
       "       [0.342, 0.973, 0.421],\n",
       "       [0.32 , 0.426, 0.284],\n",
       "       [0.096, 0.92 , 0.171],\n",
       "       [0.269, 0.097, 0.227],\n",
       "       [0.398, 0.896, 0.407],\n",
       "       [0.226, 0.22 , 0.123],\n",
       "       [0.068, 0.195, 0.092],\n",
       "       [0.263, 0.551, 0.848],\n",
       "       [0.515, 0.482, 0.814],\n",
       "       [0.342, 0.368, 0.859],\n",
       "       [0.03 , 0.413, 0.09 ],\n",
       "       [0.902, 0.294, 0.401],\n",
       "       [0.794, 0.7  , 0.234],\n",
       "       [0.811, 0.134, 0.495],\n",
       "       [0.869, 0.174, 0.324],\n",
       "       [0.676, 0.878, 0.044],\n",
       "       [0.243, 0.862, 0.071],\n",
       "       [0.692, 0.894, 0.117],\n",
       "       [0.899, 0.196, 0.433],\n",
       "       [0.838, 0.778, 0.201],\n",
       "       [0.894, 0.43 , 0.385],\n",
       "       [0.822, 0.428, 0.084],\n",
       "       [0.85 , 0.963, 0.348],\n",
       "       [0.961, 0.695, 0.409],\n",
       "       [0.23 , 0.989, 0.167],\n",
       "       [0.187, 1.   , 0.165],\n",
       "       [0.081, 0.829, 0.05 ],\n",
       "       [0.422, 0.379, 0.098],\n",
       "       [0.658, 0.077, 0.25 ],\n",
       "       [0.507, 0.059, 0.241],\n",
       "       [0.535, 0.206, 0.445],\n",
       "       [0.031, 0.025, 0.327],\n",
       "       [0.086, 0.122, 0.517],\n",
       "       [0.778, 0.34 , 0.072],\n",
       "       [0.937, 0.632, 0.011],\n",
       "       [0.899, 0.705, 0.019],\n",
       "       [0.665, 0.585, 0.028],\n",
       "       [0.641, 0.256, 0.038],\n",
       "       [0.14 , 0.237, 0.558],\n",
       "       [0.762, 0.367, 0.147],\n",
       "       [0.898, 0.329, 0.487],\n",
       "       [0.826, 0.367, 0.679],\n",
       "       [0.693, 0.336, 0.336],\n",
       "       [0.915, 0.253, 0.452],\n",
       "       [0.106, 0.475, 0.055],\n",
       "       [0.38 , 0.599, 0.084],\n",
       "       [0.233, 0.603, 0.43 ],\n",
       "       [0.405, 0.524, 0.223],\n",
       "       [0.83 , 0.509, 0.096],\n",
       "       [0.799, 0.287, 0.112],\n",
       "       [0.337, 0.548, 0.03 ],\n",
       "       [0.6  , 0.491, 0.047],\n",
       "       [0.646, 0.822, 0.133],\n",
       "       [0.125, 0.592, 0.083],\n",
       "       [0.401, 0.62 , 0.068],\n",
       "       [0.181, 0.533, 0.096],\n",
       "       [0.378, 0.915, 0.233],\n",
       "       [0.266, 0.825, 0.596],\n",
       "       [0.218, 0.198, 0.026],\n",
       "       [0.097, 0.122, 0.028],\n",
       "       [0.351, 0.162, 0.282],\n",
       "       [0.419, 0.272, 0.278],\n",
       "       [0.218, 0.422, 0.115],\n",
       "       [0.201, 0.192, 0.192],\n",
       "       [0.099, 0.234, 0.058],\n",
       "       [0.154, 0.662, 0.128],\n",
       "       [0.232, 0.961, 0.075],\n",
       "       [0.653, 0.965, 0.293],\n",
       "       [0.131, 0.87 , 0.051],\n",
       "       [0.14 , 0.848, 0.204],\n",
       "       [0.163, 0.896, 0.193],\n",
       "       [0.22 , 0.97 , 0.031],\n",
       "       [0.354, 0.969, 0.047],\n",
       "       [0.947, 0.442, 0.271],\n",
       "       [0.683, 0.223, 0.01 ]])"
      ]
     },
     "execution_count": 135,
     "metadata": {},
     "output_type": "execute_result"
    }
   ],
   "source": [
    "local_pvals.T"
   ]
  },
  {
   "cell_type": "code",
   "execution_count": null,
   "id": "1f30255c",
   "metadata": {},
   "outputs": [],
   "source": [
    "spot_n = pc.shape[1]  # n of 1:1 edges \n",
    "xy_n = pc.shape[0] # n of x-y pairs (e.g. lrs)\n",
    "\n",
    "# permutation cubes to be populated\n",
    "local_pvals = np.zeros((xy_n, spot_n))"
   ]
  },
  {
   "cell_type": "code",
   "execution_count": null,
   "id": "5625143f",
   "metadata": {},
   "outputs": [],
   "source": [
    "\n",
    "for i in tqdm(range(n_perm)):\n",
    "    _idx = rng.permutation(x_mat.shape[0])\n",
    "    perm_r = calculate_local_correlations(x_mat[_idx, :], y_mat, dist)\n",
    "    if positive_only:\n",
    "        local_pvals += np.array(perm_r >= pc, dtype=int)\n",
    "    else:\n",
    "        local_pvals += (np.array(np.abs(perm_r) >= np.abs(pc), dtype=int))\n",
    "\n",
    "local_pvals = local_pvals / n_perm"
   ]
  },
  {
   "cell_type": "code",
   "execution_count": null,
   "id": "55cfd4e0",
   "metadata": {},
   "outputs": [],
   "source": [
    "local_pvals.shape"
   ]
  }
 ],
 "metadata": {
  "kernelspec": {
   "display_name": "liana-py",
   "language": "python",
   "name": "liana-py"
  },
  "language_info": {
   "codemirror_mode": {
    "name": "ipython",
    "version": 3
   },
   "file_extension": ".py",
   "mimetype": "text/x-python",
   "name": "python",
   "nbconvert_exporter": "python",
   "pygments_lexer": "ipython3",
   "version": "3.8.8"
  }
 },
 "nbformat": 4,
 "nbformat_minor": 5
}
