{
 "cells": [
  {
   "cell_type": "code",
   "execution_count": 60,
   "id": "afe4cf0d",
   "metadata": {},
   "outputs": [],
   "source": [
    "import numba as nb"
   ]
  },
  {
   "cell_type": "code",
   "execution_count": 61,
   "id": "153e7944-adbb-401e-914b-09c227dcfdea",
   "metadata": {},
   "outputs": [],
   "source": [
    "import squidpy as sq\n",
    "import scanpy as sc\n",
    "import pandas as pd\n",
    "import numpy as np\n",
    "from scipy.sparse import csr_matrix, isspmatrix_csr"
   ]
  },
  {
   "cell_type": "code",
   "execution_count": 62,
   "id": "cbb22f08-505c-4087-af67-84577d421f60",
   "metadata": {},
   "outputs": [],
   "source": [
    "import liana as li"
   ]
  },
  {
   "cell_type": "code",
   "execution_count": 63,
   "id": "4f0fe90c-bf2b-44b3-8798-8aaad0e402f1",
   "metadata": {},
   "outputs": [],
   "source": [
    "from matplotlib.pyplot import hist"
   ]
  },
  {
   "cell_type": "code",
   "execution_count": 64,
   "id": "22a8de43-4ff7-4e93-9056-e27ba4a0afef",
   "metadata": {},
   "outputs": [],
   "source": [
    "from liana.method._global_lr_pipe import _global_lr_pipe\n",
    "from liana.method.sp._spatialdm import _get_ordered_matrix, _standardize_matrix"
   ]
  },
  {
   "cell_type": "code",
   "execution_count": null,
   "id": "b9f16311-988d-4b04-b544-3b9ae80f0b71",
   "metadata": {},
   "outputs": [],
   "source": []
  },
  {
   "cell_type": "code",
   "execution_count": 6,
   "id": "1caf6c62-a727-40c5-94a9-5d6dcd535c48",
   "metadata": {},
   "outputs": [],
   "source": [
    "# # scHOT data\n",
    "# counts = pd.read_csv(\"data/counts_mat.csv\")\n",
    "# weights = pd.read_csv(\"data/weight_mat.csv\")\n",
    "# var = pd.DataFrame(counts[['Unnamed: 0']]).set_index('Unnamed: 0')\n",
    "# var.index.name = None\n",
    "# adata = sc.AnnData(X=csr_matrix(counts.drop(counts.columns[0], axis=1), dtype=np.float32).T, var=var)\n",
    "# adata.obsm['proximity'] = csr_matrix(weights)"
   ]
  },
  {
   "cell_type": "code",
   "execution_count": null,
   "id": "a9f07752",
   "metadata": {},
   "outputs": [],
   "source": []
  },
  {
   "cell_type": "code",
   "execution_count": 7,
   "id": "3b30f85e",
   "metadata": {},
   "outputs": [],
   "source": [
    "# scHOT data test\n",
    "adata = sc.read_h5ad(\"test_spatial.h5ad\")\n",
    "resource = pd.DataFrame({\"ligand\":[\"Dnm1l\", \"Arrb1\", \"Igf2\", \"Dnm1l\"], \"receptor\":[\"Gucy1b3\", \"Mtor\", \"Tuba1a\", \"Fam63b\"]})\n",
    "dist = adata.obsm['proximity']"
   ]
  },
  {
   "cell_type": "code",
   "execution_count": 8,
   "id": "e6020530",
   "metadata": {},
   "outputs": [],
   "source": [
    "n_perm = 100\n",
    "seed = 0"
   ]
  },
  {
   "cell_type": "code",
   "execution_count": null,
   "id": "58cb788f",
   "metadata": {},
   "outputs": [],
   "source": []
  },
  {
   "cell_type": "code",
   "execution_count": 9,
   "id": "442d2fdf",
   "metadata": {},
   "outputs": [],
   "source": [
    "# full visium slide\n",
    "# load the pre-processed dataset\n",
    "img = sq.datasets.visium_hne_image()\n",
    "adata = sq.datasets.visium_hne_adata()\n",
    "\n",
    "li.mt.get_spatial_proximity(adata=adata, parameter=200, bypass_diagonal=False, cutoff=0.1)\n",
    "dist = adata.obsm['proximity']\n",
    "\n",
    "my_p = li.pl.proximity_plot(adata, idx=100)\n",
    "resource = li.resource.select_resource(\"mouseconsensus\")"
   ]
  },
  {
   "cell_type": "code",
   "execution_count": null,
   "id": "a4aac8f6",
   "metadata": {},
   "outputs": [],
   "source": []
  },
  {
   "cell_type": "code",
   "execution_count": 10,
   "id": "9b2eae96-cedb-44e6-b9b1-e122bba505bb",
   "metadata": {},
   "outputs": [
    {
     "name": "stdout",
     "output_type": "stream",
     "text": [
      "Using `.X`!\n"
     ]
    }
   ],
   "source": [
    "temp, lr_res, ligand_pos, receptor_pos = _global_lr_pipe(adata=adata,\n",
    "                                                         resource=resource,\n",
    "                                                         expr_prop=0.05,\n",
    "                                                         use_raw=False,\n",
    "                                                         verbose=True,\n",
    "                                                         layer=None,\n",
    "                                                         _key_cols=['ligand_complex', 'receptor_complex'],\n",
    "                                                         _complex_cols=['ligand_means', 'receptor_means'],\n",
    "                                                         _obms_keys=['proximity'],\n",
    "                                                         resource_name=None\n",
    "                                                         )"
   ]
  },
  {
   "cell_type": "code",
   "execution_count": 11,
   "id": "22989614",
   "metadata": {},
   "outputs": [],
   "source": [
    "# lr_res = lr_res.head(50)"
   ]
  },
  {
   "cell_type": "code",
   "execution_count": 189,
   "id": "76acd258",
   "metadata": {},
   "outputs": [],
   "source": [
    "x_mat = _get_ordered_matrix(temp.X, ligand_pos, lr_res.ligand).A.astype(np.float32).T\n",
    "y_mat = _get_ordered_matrix(temp.X, receptor_pos, lr_res.receptor).A.astype(np.float32).T"
   ]
  },
  {
   "cell_type": "code",
   "execution_count": 190,
   "id": "ee5c3bc9",
   "metadata": {},
   "outputs": [
    {
     "data": {
      "text/html": [
       "<div>\n",
       "<style scoped>\n",
       "    .dataframe tbody tr th:only-of-type {\n",
       "        vertical-align: middle;\n",
       "    }\n",
       "\n",
       "    .dataframe tbody tr th {\n",
       "        vertical-align: top;\n",
       "    }\n",
       "\n",
       "    .dataframe thead th {\n",
       "        text-align: right;\n",
       "    }\n",
       "</style>\n",
       "<table border=\"1\" class=\"dataframe\">\n",
       "  <thead>\n",
       "    <tr style=\"text-align: right;\">\n",
       "      <th></th>\n",
       "      <th>interaction</th>\n",
       "      <th>ligand</th>\n",
       "      <th>receptor</th>\n",
       "      <th>ligand_complex</th>\n",
       "      <th>receptor_complex</th>\n",
       "      <th>ligand_means</th>\n",
       "      <th>ligand_props</th>\n",
       "      <th>receptor_means</th>\n",
       "      <th>receptor_props</th>\n",
       "      <th>prop_min</th>\n",
       "    </tr>\n",
       "  </thead>\n",
       "  <tbody>\n",
       "    <tr>\n",
       "      <th>0</th>\n",
       "      <td>Dll1&amp;Notch1</td>\n",
       "      <td>Dll1</td>\n",
       "      <td>Notch1</td>\n",
       "      <td>Dll1</td>\n",
       "      <td>Notch1</td>\n",
       "      <td>0.037283</td>\n",
       "      <td>0.057292</td>\n",
       "      <td>0.216689</td>\n",
       "      <td>0.276786</td>\n",
       "      <td>0.057292</td>\n",
       "    </tr>\n",
       "    <tr>\n",
       "      <th>1</th>\n",
       "      <td>Adam10&amp;Notch1</td>\n",
       "      <td>Adam10</td>\n",
       "      <td>Notch1</td>\n",
       "      <td>Adam10</td>\n",
       "      <td>Notch1</td>\n",
       "      <td>0.623617</td>\n",
       "      <td>0.651786</td>\n",
       "      <td>0.216689</td>\n",
       "      <td>0.276786</td>\n",
       "      <td>0.276786</td>\n",
       "    </tr>\n",
       "    <tr>\n",
       "      <th>2</th>\n",
       "      <td>Jag1&amp;Notch1</td>\n",
       "      <td>Jag1</td>\n",
       "      <td>Notch1</td>\n",
       "      <td>Jag1</td>\n",
       "      <td>Notch1</td>\n",
       "      <td>0.051299</td>\n",
       "      <td>0.075893</td>\n",
       "      <td>0.216689</td>\n",
       "      <td>0.276786</td>\n",
       "      <td>0.075893</td>\n",
       "    </tr>\n",
       "    <tr>\n",
       "      <th>3</th>\n",
       "      <td>Adam17&amp;Notch1</td>\n",
       "      <td>Adam17</td>\n",
       "      <td>Notch1</td>\n",
       "      <td>Adam17</td>\n",
       "      <td>Notch1</td>\n",
       "      <td>0.121026</td>\n",
       "      <td>0.167783</td>\n",
       "      <td>0.216689</td>\n",
       "      <td>0.276786</td>\n",
       "      <td>0.167783</td>\n",
       "    </tr>\n",
       "    <tr>\n",
       "      <th>4</th>\n",
       "      <td>Dlk1&amp;Notch1</td>\n",
       "      <td>Dlk1</td>\n",
       "      <td>Notch1</td>\n",
       "      <td>Dlk1</td>\n",
       "      <td>Notch1</td>\n",
       "      <td>0.236641</td>\n",
       "      <td>0.213542</td>\n",
       "      <td>0.216689</td>\n",
       "      <td>0.276786</td>\n",
       "      <td>0.213542</td>\n",
       "    </tr>\n",
       "  </tbody>\n",
       "</table>\n",
       "</div>"
      ],
      "text/plain": [
       "     interaction  ligand receptor ligand_complex receptor_complex  \\\n",
       "0    Dll1&Notch1    Dll1   Notch1           Dll1           Notch1   \n",
       "1  Adam10&Notch1  Adam10   Notch1         Adam10           Notch1   \n",
       "2    Jag1&Notch1    Jag1   Notch1           Jag1           Notch1   \n",
       "3  Adam17&Notch1  Adam17   Notch1         Adam17           Notch1   \n",
       "4    Dlk1&Notch1    Dlk1   Notch1           Dlk1           Notch1   \n",
       "\n",
       "   ligand_means  ligand_props  receptor_means  receptor_props  prop_min  \n",
       "0      0.037283      0.057292        0.216689        0.276786  0.057292  \n",
       "1      0.623617      0.651786        0.216689        0.276786  0.276786  \n",
       "2      0.051299      0.075893        0.216689        0.276786  0.075893  \n",
       "3      0.121026      0.167783        0.216689        0.276786  0.167783  \n",
       "4      0.236641      0.213542        0.216689        0.276786  0.213542  "
      ]
     },
     "execution_count": 190,
     "metadata": {},
     "output_type": "execute_result"
    }
   ],
   "source": [
    "lr_res.head()"
   ]
  },
  {
   "cell_type": "code",
   "execution_count": null,
   "id": "5b7c9963",
   "metadata": {},
   "outputs": [],
   "source": []
  },
  {
   "cell_type": "code",
   "execution_count": 14,
   "id": "0441e374",
   "metadata": {},
   "outputs": [],
   "source": [
    "@nb.njit(nb.f4(nb.f4[:], nb.f4[:], nb.f4[:], nb.f4, nb.boolean), cache=True)\n",
    "def wcor(x, y, w, wsum, rank):\n",
    "    \n",
    "    if rank:\n",
    "        x = np.argsort(x).argsort().astype(nb.f4)\n",
    "        y = np.argsort(y).argsort().astype(nb.f4)\n",
    "    \n",
    "    wx = w * x\n",
    "    wy = w * y\n",
    "    \n",
    "    numerator = wsum * np.sum(wx * y) - np.sum(wx) * np.sum(wy)\n",
    "    \n",
    "    denominator_x = wsum * np.sum(w * (x**2)) - np.sum(wx)**2\n",
    "    denominator_y = wsum * np.sum(w * (y**2)) - np.sum(wy)**2\n",
    "    denominator = np.sqrt(denominator_x * denominator_y + 1.0e-20) # avoid division by zero\n",
    "    \n",
    "    return numerator / denominator"
   ]
  },
  {
   "cell_type": "code",
   "execution_count": 15,
   "id": "be0c2eec",
   "metadata": {},
   "outputs": [],
   "source": [
    "@nb.njit(nb.f4(nb.f4[:], nb.f4[:], nb.f4[:]), cache=True)\n",
    "def _wjaccard(x, y , w):\n",
    "    x = (x > 0).astype(np.int8)\n",
    "    y = (y > 0).astype(np.int8)\n",
    "    \n",
    "    # intersect and union\n",
    "    numerator = np.sum(np.minimum(x, y) * w)\n",
    "    denominator = np.sum(np.maximum(x, y) * w)\n",
    "    \n",
    "    if denominator == 0:\n",
    "        return 0.0\n",
    "    \n",
    "    return numerator / denominator"
   ]
  },
  {
   "cell_type": "code",
   "execution_count": 16,
   "id": "2235d159",
   "metadata": {},
   "outputs": [],
   "source": [
    "@nb.njit(nb.f4(nb.f4[:], nb.f4[:], nb.f4[:]), cache=True)\n",
    "def _wcossim(x, y , w):\n",
    "    dot = np.dot(x * w, y)\n",
    "    x_dot = np.dot(x * w, x)\n",
    "    y_dot = np.dot(y * w, y)\n",
    "    denominator = (x_dot * y_dot)\n",
    "    \n",
    "    if denominator == 0:\n",
    "        return 0.0\n",
    "    \n",
    "    return dot / (denominator**0.5)"
   ]
  },
  {
   "cell_type": "code",
   "execution_count": 17,
   "id": "4a1eae8d",
   "metadata": {},
   "outputs": [],
   "source": [
    "@nb.njit(nb.f4(nb.f4[:], nb.f4[:], nb.f4[:], nb.f4, nb.int8), cache=True)\n",
    "def _wcoex(x, y, w, wsum, method):\n",
    "        if method == 0: # pearson\n",
    "            c = wcor(x, y, w, wsum, False)\n",
    "        elif method == 1: # spearman\n",
    "            c = wcor(x, y, w, wsum, True)\n",
    "        elif method == 2: # jaccard\n",
    "            c = _wjaccard(x, y, w)\n",
    "        elif method == 3: # cosine\n",
    "            c = _wcossim(x, y, w)\n",
    "        else: \n",
    "            raise ValueError(\"method not supported\")\n",
    "        return c"
   ]
  },
  {
   "cell_type": "code",
   "execution_count": 18,
   "id": "afdcff2f",
   "metadata": {},
   "outputs": [],
   "source": [
    "# 0 = pearson, 1 = spearman\n",
    "@nb.njit(nb.f4[:,:](nb.f4[:,:], nb.f4[:,:], nb.f4[:,:], nb.f4, nb.int8, nb.f4), cache=True, parallel=True)\n",
    "def masked_coexpression(x_mat, y_mat, weight, wsum, method, weight_thr):\n",
    "    spot_n = x_mat.shape[0]\n",
    "    xy_n = x_mat.shape[1]\n",
    "    \n",
    "    local_correlations = np.zeros((spot_n, xy_n), dtype=nb.f4) # nb.f4\n",
    "    \n",
    "    for i in nb.prange(spot_n):\n",
    "        w = weight[i, :]\n",
    "        msk = w > weight_thr\n",
    "        \n",
    "        for j in range(xy_n):\n",
    "            x = x_mat[:, j][msk]\n",
    "            y = y_mat[:, j][msk]\n",
    "            \n",
    "            local_correlations[i, j] = _wcoex(x, y, w[msk], wsum, method)\n",
    "    \n",
    "    return local_correlations"
   ]
  },
  {
   "cell_type": "code",
   "execution_count": 19,
   "id": "bbc70571",
   "metadata": {},
   "outputs": [],
   "source": [
    "dist = adata.obsm['proximity']\n",
    "weight = dist.A.astype(np.float32)\n",
    "wsum = np.sum(weight[0,:])"
   ]
  },
  {
   "cell_type": "code",
   "execution_count": 20,
   "id": "58a369b7",
   "metadata": {},
   "outputs": [
    {
     "name": "stdout",
     "output_type": "stream",
     "text": [
      "CPU times: user 57.1 s, sys: 664 ms, total: 57.8 s\n",
      "Wall time: 5.78 s\n"
     ]
    }
   ],
   "source": [
    "%%time\n",
    "local_pc = masked_coexpression(x_mat, y_mat, weight, wsum, method=0, weight_thr=0)"
   ]
  },
  {
   "cell_type": "code",
   "execution_count": 21,
   "id": "fbf64fd8",
   "metadata": {},
   "outputs": [
    {
     "data": {
      "text/plain": [
       "array([[ 0.117755  , -0.19442835, -0.14684229, ..., -0.11232399,\n",
       "         0.07182601,  0.        ],\n",
       "       [ 0.        ,  0.080853  , -0.05427799, ..., -0.23333478,\n",
       "        -0.13238111,  0.23010302],\n",
       "       [ 0.02571407, -0.31918997, -0.3443697 , ..., -0.46065855,\n",
       "         0.03413666,  0.04124185],\n",
       "       ...,\n",
       "       [ 0.3057408 ,  0.21924528, -0.2982757 , ...,  0.15543087,\n",
       "        -0.20192774,  0.13837363],\n",
       "       [ 0.06430519, -0.54283893,  0.0998208 , ..., -0.02045712,\n",
       "         0.6465301 ,  0.        ],\n",
       "       [ 0.        , -0.29874232,  0.46295607, ...,  0.14961113,\n",
       "        -0.05767659,  0.        ]], dtype=float32)"
      ]
     },
     "execution_count": 21,
     "metadata": {},
     "output_type": "execute_result"
    }
   ],
   "source": [
    "local_pc"
   ]
  },
  {
   "cell_type": "code",
   "execution_count": 22,
   "id": "6b0f1714",
   "metadata": {},
   "outputs": [
    {
     "name": "stdout",
     "output_type": "stream",
     "text": [
      "CPU times: user 2min 44s, sys: 229 ms, total: 2min 44s\n",
      "Wall time: 15.1 s\n"
     ]
    }
   ],
   "source": [
    "%%time\n",
    "local_sp = masked_coexpression(x_mat, y_mat, weight, wsum, method=1, weight_thr=0)"
   ]
  },
  {
   "cell_type": "code",
   "execution_count": 23,
   "id": "d928a639",
   "metadata": {},
   "outputs": [
    {
     "data": {
      "text/plain": [
       "array([[ 0.24194688, -0.07148522,  0.1429437 , ...,  0.36770657,\n",
       "         0.26095694,  0.15096213],\n",
       "       [ 0.5237845 ,  0.06520993,  0.51952165, ...,  0.63994974,\n",
       "         0.5838346 ,  0.24281792],\n",
       "       [-0.44582912, -1.5251493 , -1.0786409 , ..., -2.3390338 ,\n",
       "        -0.6437703 , -1.3178389 ],\n",
       "       ...,\n",
       "       [-0.448252  , -0.61211634, -1.0975016 , ..., -0.67011935,\n",
       "        -2.4174755 ,  0.2697524 ],\n",
       "       [-0.05192441, -1.1924374 ,  0.09808166, ..., -1.310565  ,\n",
       "         0.08902387, -1.0331533 ],\n",
       "       [-0.03718835, -0.94827324,  0.23098512, ..., -0.3824148 ,\n",
       "        -0.2658236 ,  0.00775319]], dtype=float32)"
      ]
     },
     "execution_count": 23,
     "metadata": {},
     "output_type": "execute_result"
    }
   ],
   "source": [
    "local_sp"
   ]
  },
  {
   "cell_type": "code",
   "execution_count": 24,
   "id": "a1098672",
   "metadata": {},
   "outputs": [
    {
     "name": "stdout",
     "output_type": "stream",
     "text": [
      "CPU times: user 1min 10s, sys: 127 ms, total: 1min 11s\n",
      "Wall time: 6.53 s\n"
     ]
    }
   ],
   "source": [
    "%%time\n",
    "local_jc = masked_coexpression(x_mat, y_mat, weight, wsum, method=2, weight_thr=0)"
   ]
  },
  {
   "cell_type": "code",
   "execution_count": 25,
   "id": "dd5194b1",
   "metadata": {},
   "outputs": [
    {
     "data": {
      "text/plain": [
       "array([[0.16999356, 0.32563385, 0.        , ..., 0.        , 0.03914943,\n",
       "        0.        ],\n",
       "       [0.        , 0.14585169, 0.        , ..., 0.        , 0.        ,\n",
       "        0.12763652],\n",
       "       [0.14640486, 0.45679104, 0.        , ..., 0.05793051, 0.4916278 ,\n",
       "        0.10502105],\n",
       "       ...,\n",
       "       [0.09550774, 0.40108907, 0.        , ..., 0.21680813, 0.04271584,\n",
       "        0.21501966],\n",
       "       [0.06584294, 0.30835396, 0.05195678, ..., 0.12773621, 0.4549307 ,\n",
       "        0.        ],\n",
       "       [0.        , 0.26405674, 0.35999528, ..., 0.18800312, 0.14165509,\n",
       "        0.        ]], dtype=float32)"
      ]
     },
     "execution_count": 25,
     "metadata": {},
     "output_type": "execute_result"
    }
   ],
   "source": [
    "local_jc"
   ]
  },
  {
   "cell_type": "code",
   "execution_count": 26,
   "id": "771b65e1",
   "metadata": {},
   "outputs": [
    {
     "name": "stdout",
     "output_type": "stream",
     "text": [
      "CPU times: user 1min 10s, sys: 179 ms, total: 1min 10s\n",
      "Wall time: 6.99 s\n"
     ]
    }
   ],
   "source": [
    "%%time\n",
    "local_cos = masked_coexpression(x_mat, y_mat, weight, wsum, method=3, weight_thr=0)"
   ]
  },
  {
   "cell_type": "code",
   "execution_count": 27,
   "id": "2084a8d5",
   "metadata": {},
   "outputs": [
    {
     "data": {
      "text/plain": [
       "array([[0.2757257 , 0.31930378, 0.        , ..., 0.        , 0.1663052 ,\n",
       "        0.        ],\n",
       "       [0.        , 0.32796076, 0.        , ..., 0.        , 0.        ,\n",
       "        0.30168733],\n",
       "       [0.2556982 , 0.42359215, 0.        , ..., 0.06526156, 0.58937234,\n",
       "        0.21915889],\n",
       "       ...,\n",
       "       [0.36441803, 0.5661081 , 0.        , ..., 0.384288  , 0.09428672,\n",
       "        0.27216113],\n",
       "       [0.17220944, 0.42217103, 0.1826283 , ..., 0.33179152, 0.72309417,\n",
       "        0.        ],\n",
       "       [0.        , 0.42969874, 0.59261453, ..., 0.3744975 , 0.21072412,\n",
       "        0.        ]], dtype=float32)"
      ]
     },
     "execution_count": 27,
     "metadata": {},
     "output_type": "execute_result"
    }
   ],
   "source": [
    "local_cos"
   ]
  },
  {
   "cell_type": "code",
   "execution_count": null,
   "id": "0479d485",
   "metadata": {},
   "outputs": [],
   "source": []
  },
  {
   "cell_type": "code",
   "execution_count": 28,
   "id": "27b959bd",
   "metadata": {},
   "outputs": [],
   "source": [
    "from scipy.spatial.distance import jaccard, cosine"
   ]
  },
  {
   "cell_type": "code",
   "execution_count": 29,
   "id": "5c0ccbbf",
   "metadata": {},
   "outputs": [],
   "source": [
    "# binary 0 or 1 x, y arrays\n",
    "x = np.array"
   ]
  },
  {
   "cell_type": "code",
   "execution_count": 30,
   "id": "80547255",
   "metadata": {},
   "outputs": [],
   "source": [
    "x = np.random.randint(2, size=10).astype(np.float32)\n",
    "y = np.random.randint(2, size=10).astype(np.float32)\n",
    "w = np.ones(10).astype(np.float32)"
   ]
  },
  {
   "cell_type": "code",
   "execution_count": 31,
   "id": "7ce1fba2",
   "metadata": {},
   "outputs": [
    {
     "data": {
      "text/plain": [
       "0.3333333432674408"
      ]
     },
     "execution_count": 31,
     "metadata": {},
     "output_type": "execute_result"
    }
   ],
   "source": [
    "_wjaccard(x, y, w)"
   ]
  },
  {
   "cell_type": "code",
   "execution_count": 32,
   "id": "6d86d6aa",
   "metadata": {},
   "outputs": [
    {
     "data": {
      "text/plain": [
       "0.33333333333333337"
      ]
     },
     "execution_count": 32,
     "metadata": {},
     "output_type": "execute_result"
    }
   ],
   "source": [
    "1 - jaccard(x, y, w)"
   ]
  },
  {
   "cell_type": "code",
   "execution_count": 33,
   "id": "7d1ddb2b",
   "metadata": {},
   "outputs": [
    {
     "data": {
      "text/plain": [
       "0.5"
      ]
     },
     "execution_count": 33,
     "metadata": {},
     "output_type": "execute_result"
    }
   ],
   "source": [
    "_wcossim(x, y, w)"
   ]
  },
  {
   "cell_type": "code",
   "execution_count": 34,
   "id": "ef89493c",
   "metadata": {},
   "outputs": [
    {
     "data": {
      "text/plain": [
       "0.5"
      ]
     },
     "execution_count": 34,
     "metadata": {},
     "output_type": "execute_result"
    }
   ],
   "source": [
    "1 - cosine(x, y, w)"
   ]
  },
  {
   "cell_type": "code",
   "execution_count": 35,
   "id": "22e9e1c4",
   "metadata": {},
   "outputs": [
    {
     "data": {
      "text/plain": [
       "array([1., 1., 0., 1., 1., 1., 0., 1., 0., 0.], dtype=float32)"
      ]
     },
     "execution_count": 35,
     "metadata": {},
     "output_type": "execute_result"
    }
   ],
   "source": [
    "y"
   ]
  },
  {
   "cell_type": "code",
   "execution_count": null,
   "id": "41b1781a",
   "metadata": {},
   "outputs": [],
   "source": []
  },
  {
   "cell_type": "code",
   "execution_count": 188,
   "id": "caef93bc",
   "metadata": {},
   "outputs": [
    {
     "ename": "IndexError",
     "evalue": "boolean index did not match indexed array along dimension 0; dimension is 1409 but corresponding boolean dimension is 2688",
     "output_type": "error",
     "traceback": [
      "\u001b[0;31m---------------------------------------------------------------------------\u001b[0m",
      "\u001b[0;31mIndexError\u001b[0m                                Traceback (most recent call last)",
      "Cell \u001b[0;32mIn[188], line 3\u001b[0m\n\u001b[1;32m      1\u001b[0m w \u001b[39m=\u001b[39m weight[\u001b[39m0\u001b[39m, :]\n\u001b[1;32m      2\u001b[0m msk \u001b[39m=\u001b[39m w \u001b[39m>\u001b[39m \u001b[39m0\u001b[39m\n\u001b[0;32m----> 3\u001b[0m x \u001b[39m=\u001b[39m x_mat[:, \u001b[39m0\u001b[39;49m][msk]\n\u001b[1;32m      4\u001b[0m y \u001b[39m=\u001b[39m y_mat[:, \u001b[39m0\u001b[39m][msk]\n",
      "\u001b[0;31mIndexError\u001b[0m: boolean index did not match indexed array along dimension 0; dimension is 1409 but corresponding boolean dimension is 2688"
     ]
    }
   ],
   "source": [
    "w = weight[0, :]\n",
    "msk = w > 0\n",
    "x = x_mat[:, 0][msk]\n",
    "y = y_mat[:, 0][msk]"
   ]
  },
  {
   "cell_type": "code",
   "execution_count": 172,
   "id": "81b2d9c5",
   "metadata": {},
   "outputs": [
    {
     "data": {
      "text/plain": [
       "(2688,)"
      ]
     },
     "execution_count": 172,
     "metadata": {},
     "output_type": "execute_result"
    }
   ],
   "source": [
    "x.shape"
   ]
  },
  {
   "cell_type": "code",
   "execution_count": 187,
   "id": "2a90d79b",
   "metadata": {},
   "outputs": [
    {
     "ename": "ValueError",
     "evalue": "operands could not be broadcast together with shapes (28,) (2688,) ",
     "output_type": "error",
     "traceback": [
      "\u001b[0;31m---------------------------------------------------------------------------\u001b[0m",
      "\u001b[0;31mValueError\u001b[0m                                Traceback (most recent call last)",
      "Cell \u001b[0;32mIn[187], line 1\u001b[0m\n\u001b[0;32m----> 1\u001b[0m \u001b[39m1\u001b[39m \u001b[39m-\u001b[39m jaccard((x \u001b[39m>\u001b[39;49m \u001b[39m0\u001b[39;49m)\u001b[39m.\u001b[39;49mastype(np\u001b[39m.\u001b[39;49mint8),(y \u001b[39m>\u001b[39;49m \u001b[39m0\u001b[39;49m)\u001b[39m.\u001b[39;49mastype(np\u001b[39m.\u001b[39;49mint8), w[msk])\n",
      "File \u001b[0;32m~/anaconda3/envs/liana-spatial/lib/python3.10/site-packages/scipy/spatial/distance.py:794\u001b[0m, in \u001b[0;36mjaccard\u001b[0;34m(u, v, w)\u001b[0m\n\u001b[1;32m    792\u001b[0m \u001b[39mif\u001b[39;00m w \u001b[39mis\u001b[39;00m \u001b[39mnot\u001b[39;00m \u001b[39mNone\u001b[39;00m:\n\u001b[1;32m    793\u001b[0m     w \u001b[39m=\u001b[39m _validate_weights(w)\n\u001b[0;32m--> 794\u001b[0m     nonzero \u001b[39m=\u001b[39m w \u001b[39m*\u001b[39;49m nonzero\n\u001b[1;32m    795\u001b[0m     unequal_nonzero \u001b[39m=\u001b[39m w \u001b[39m*\u001b[39m unequal_nonzero\n\u001b[1;32m    796\u001b[0m a \u001b[39m=\u001b[39m np\u001b[39m.\u001b[39mdouble(unequal_nonzero\u001b[39m.\u001b[39msum())\n",
      "\u001b[0;31mValueError\u001b[0m: operands could not be broadcast together with shapes (28,) (2688,) "
     ]
    }
   ],
   "source": [
    "1 - jaccard((x > 0).astype(np.int8),(y > 0).astype(np.int8), w[msk])"
   ]
  },
  {
   "cell_type": "code",
   "execution_count": 77,
   "id": "b3cd80d3",
   "metadata": {},
   "outputs": [
    {
     "data": {
      "text/plain": [
       "0.1699935644865036"
      ]
     },
     "execution_count": 77,
     "metadata": {},
     "output_type": "execute_result"
    }
   ],
   "source": [
    "_wjaccard(x, y, w[msk])"
   ]
  },
  {
   "cell_type": "code",
   "execution_count": 78,
   "id": "05849dc3",
   "metadata": {},
   "outputs": [
    {
     "data": {
      "text/plain": [
       "0.275725681422597"
      ]
     },
     "execution_count": 78,
     "metadata": {},
     "output_type": "execute_result"
    }
   ],
   "source": [
    "1 - cosine(x, y, w[msk])"
   ]
  },
  {
   "cell_type": "code",
   "execution_count": 79,
   "id": "794848b6",
   "metadata": {},
   "outputs": [
    {
     "data": {
      "text/plain": [
       "0.27572569251060486"
      ]
     },
     "execution_count": 79,
     "metadata": {},
     "output_type": "execute_result"
    }
   ],
   "source": [
    "_wcossim(x, y, w[msk])"
   ]
  },
  {
   "cell_type": "code",
   "execution_count": null,
   "id": "a5dfc3a5",
   "metadata": {},
   "outputs": [],
   "source": []
  },
  {
   "attachments": {},
   "cell_type": "markdown",
   "id": "0afdf754",
   "metadata": {},
   "source": [
    "Fully-vectorized"
   ]
  },
  {
   "cell_type": "code",
   "execution_count": 43,
   "id": "153e7944-adbb-401e-914b-09c227dcfdea",
   "metadata": {},
   "outputs": [],
   "source": [
    "import squidpy as sq\n",
    "import scanpy as sc\n",
    "import pandas as pd\n",
    "import numpy as np\n",
    "from scipy.sparse import csr_matrix, isspmatrix_csr"
   ]
  },
  {
   "cell_type": "code",
   "execution_count": 44,
   "id": "cbb22f08-505c-4087-af67-84577d421f60",
   "metadata": {},
   "outputs": [],
   "source": [
    "import liana as li"
   ]
  },
  {
   "cell_type": "code",
   "execution_count": 45,
   "id": "4f0fe90c-bf2b-44b3-8798-8aaad0e402f1",
   "metadata": {},
   "outputs": [],
   "source": [
    "from matplotlib.pyplot import hist\n",
    "from scipy.stats import spearmanr, pearsonr"
   ]
  },
  {
   "cell_type": "code",
   "execution_count": 46,
   "id": "5e601378",
   "metadata": {},
   "outputs": [],
   "source": [
    "from liana.method._global_lr_pipe import _global_lr_pipe\n",
    "from liana.method.sp._spatialdm import _get_ordered_matrix, _standardize_matrix"
   ]
  },
  {
   "cell_type": "code",
   "execution_count": 47,
   "id": "d8c4f241",
   "metadata": {},
   "outputs": [],
   "source": [
    "from scipy.stats import rankdata"
   ]
  },
  {
   "cell_type": "code",
   "execution_count": null,
   "id": "9860d383",
   "metadata": {},
   "outputs": [],
   "source": []
  },
  {
   "cell_type": "code",
   "execution_count": 48,
   "id": "0e95b8ba",
   "metadata": {},
   "outputs": [],
   "source": [
    "# ligand-receptor mats\n",
    "ligand_mat = _get_ordered_matrix(temp.X, ligand_pos, lr_res.ligand).T\n",
    "receptor_mat = _get_ordered_matrix(temp.X, receptor_pos, lr_res.receptor).T"
   ]
  },
  {
   "cell_type": "code",
   "execution_count": null,
   "id": "a833b105",
   "metadata": {},
   "outputs": [],
   "source": []
  },
  {
   "cell_type": "code",
   "execution_count": 55,
   "id": "3573cd36",
   "metadata": {},
   "outputs": [],
   "source": [
    "def _vectorized_correlations(x_mat, y_mat, dist, method=\"pearson\"):\n",
    "    if method not in [\"pearson\", \"spearman\"]:\n",
    "        raise ValueError(\"method must be one of 'pearson', 'spearman'\")\n",
    "    \n",
    "    # transpose\n",
    "    x_mat, y_mat = x_mat.T, y_mat.T\n",
    "    \n",
    "    weight = dist.A.T\n",
    "    weight_sums = np.sum(weight, axis = 0).flatten()\n",
    "        \n",
    "    if method==\"spearman\":\n",
    "        x_mat = rankdata(x_mat, axis=1)\n",
    "        y_mat = rankdata(y_mat, axis=1)\n",
    "    \n",
    "    # standard pearson\n",
    "    n1 = (((x_mat * y_mat).dot(weight)) * weight_sums)\n",
    "    n2 = (x_mat.dot(weight)) * (y_mat.dot(weight))\n",
    "    numerator = n1 - n2\n",
    "    \n",
    "    denominator_x = (weight_sums * (x_mat ** 2).dot(weight)) - (x_mat.dot(weight))**2\n",
    "    denominator_y = (weight_sums * (y_mat ** 2).dot(weight)) - (y_mat.dot(weight))**2\n",
    "    denominator = np.sqrt(denominator_x * denominator_y)\n",
    "    denominator[denominator == 0] = np.finfo(np.float32).eps # add noise to avoid division by zero\n",
    "    \n",
    "    local_corrs = (numerator / denominator)\n",
    "    \n",
    "    return local_corrs"
   ]
  },
  {
   "cell_type": "code",
   "execution_count": 56,
   "id": "58b651b6",
   "metadata": {},
   "outputs": [],
   "source": [
    "dist = adata.obsm['proximity']"
   ]
  },
  {
   "cell_type": "code",
   "execution_count": 57,
   "id": "297b3e2d",
   "metadata": {},
   "outputs": [],
   "source": [
    "local_pc = _vectorized_correlations(x_mat = ligand_mat.A, y_mat=receptor_mat.A, dist=dist, method=\"pearson\")"
   ]
  },
  {
   "cell_type": "code",
   "execution_count": 58,
   "id": "b37b960a",
   "metadata": {},
   "outputs": [],
   "source": [
    "local_sp = _vectorized_correlations(x_mat = ligand_mat.A, y_mat=receptor_mat.A, dist=dist, method=\"spearman\")"
   ]
  },
  {
   "cell_type": "code",
   "execution_count": 59,
   "id": "245c0cc9",
   "metadata": {},
   "outputs": [
    {
     "data": {
      "text/plain": [
       "array([[ 0.11775495,  0.        ,  0.07320522, ...,  0.31679758,\n",
       "         0.08614511,  0.        ],\n",
       "       [-0.19442862, -0.00572051, -0.10251832, ...,  0.31816354,\n",
       "        -0.19816568, -0.01154072],\n",
       "       [-0.14684229, -0.06664198, -0.2709753 , ..., -0.23486906,\n",
       "         0.11611345,  0.49061623],\n",
       "       ...,\n",
       "       [-0.11232401, -0.2953236 , -0.34604046, ...,  0.20728923,\n",
       "         0.06490986,  0.20051171],\n",
       "       [ 0.071826  , -0.1637877 ,  0.19777067, ..., -0.11512091,\n",
       "         0.6614117 ,  0.0007559 ],\n",
       "       [ 0.        ,  0.21222384,  0.0748205 , ...,  0.16439405,\n",
       "         0.        ,  0.        ]], dtype=float32)"
      ]
     },
     "execution_count": 59,
     "metadata": {},
     "output_type": "execute_result"
    }
   ],
   "source": [
    "local_pc"
   ]
  },
  {
   "cell_type": "code",
   "execution_count": 214,
   "id": "a0e229bd",
   "metadata": {},
   "outputs": [
    {
     "data": {
      "text/plain": [
       "(1409, 2688)"
      ]
     },
     "execution_count": 214,
     "metadata": {},
     "output_type": "execute_result"
    }
   ],
   "source": [
    "local_sp.shape"
   ]
  },
  {
   "cell_type": "code",
   "execution_count": 182,
   "id": "1292040e",
   "metadata": {},
   "outputs": [],
   "source": [
    "def _vectorized_wcosine(x_mat, y_mat, dist):\n",
    "    \n",
    "    # transpose\n",
    "    x_mat, y_mat = x_mat.T, y_mat.T    \n",
    "    weight = dist.A.T\n",
    "    \n",
    "    xy_dot = (x_mat * y_mat).dot(weight)\n",
    "    x_dot = (x_mat ** 2).dot(weight.T)\n",
    "    y_dot = (y_mat ** 2).dot(weight.T)\n",
    "    denominator = (x_dot * y_dot) + np.finfo(np.float32).eps\n",
    "    \n",
    "    return xy_dot / (denominator**0.5)"
   ]
  },
  {
   "cell_type": "code",
   "execution_count": 183,
   "id": "49c6a9ce",
   "metadata": {},
   "outputs": [],
   "source": [
    "local_cos = _vectorized_wcosine(x_mat = ligand_mat.A, y_mat=receptor_mat.A, dist=dist)"
   ]
  },
  {
   "cell_type": "code",
   "execution_count": 213,
   "id": "9999eb86",
   "metadata": {},
   "outputs": [
    {
     "data": {
      "text/plain": [
       "(1409, 2688)"
      ]
     },
     "execution_count": 213,
     "metadata": {},
     "output_type": "execute_result"
    }
   ],
   "source": [
    "local_cos.shape"
   ]
  },
  {
   "cell_type": "code",
   "execution_count": null,
   "id": "17554173",
   "metadata": {},
   "outputs": [],
   "source": []
  },
  {
   "cell_type": "code",
   "execution_count": null,
   "id": "2a05c0d4",
   "metadata": {},
   "outputs": [],
   "source": []
  },
  {
   "cell_type": "code",
   "execution_count": null,
   "id": "4a5d4935",
   "metadata": {},
   "outputs": [],
   "source": []
  },
  {
   "cell_type": "code",
   "execution_count": null,
   "id": "5a18436e",
   "metadata": {},
   "outputs": [],
   "source": []
  },
  {
   "cell_type": "code",
   "execution_count": 203,
   "id": "6a1dd503",
   "metadata": {},
   "outputs": [
    {
     "data": {
      "text/plain": [
       "0.1699935644865036"
      ]
     },
     "execution_count": 203,
     "metadata": {},
     "output_type": "execute_result"
    }
   ],
   "source": [
    "_wjaccard(x_mat[:, 0], y_mat[:, 0], weight[:, 0])"
   ]
  },
  {
   "cell_type": "code",
   "execution_count": null,
   "id": "bdcc4c32",
   "metadata": {},
   "outputs": [],
   "source": []
  },
  {
   "cell_type": "code",
   "execution_count": 219,
   "id": "78e9d657",
   "metadata": {},
   "outputs": [],
   "source": [
    "def _vectorized_jaccard(x_mat, y_mat, dist):\n",
    "    # binarize\n",
    "    x_mat, y_mat = x_mat > 0, y_mat > 0\n",
    "    # transpose\n",
    "    x_mat, y_mat = x_mat.T, y_mat.T    \n",
    "    weight = dist.A.T\n",
    "    \n",
    "    # intersect and union\n",
    "    numerator = np.dot(np.minimum(x_mat, y_mat), weight)\n",
    "    denominator = np.dot(np.maximum(x_mat, y_mat), weight)\n",
    "    \n",
    "    return numerator / denominator"
   ]
  },
  {
   "cell_type": "code",
   "execution_count": 220,
   "id": "3691d7fa",
   "metadata": {},
   "outputs": [
    {
     "name": "stderr",
     "output_type": "stream",
     "text": [
      "/tmp/ipykernel_123100/232376726.py:12: RuntimeWarning: invalid value encountered in true_divide\n"
     ]
    },
    {
     "data": {
      "text/plain": [
       "array([[0.16999356, 0.        , 0.14640486, ..., 0.09550774, 0.06584294,\n",
       "        0.        ],\n",
       "       [0.32563385, 0.14585169, 0.45679104, ..., 0.40108907, 0.30835396,\n",
       "        0.26405674],\n",
       "       [0.        , 0.        , 0.        , ..., 0.        , 0.05195678,\n",
       "        0.35999528],\n",
       "       ...,\n",
       "       [0.        , 0.        , 0.05793051, ..., 0.21680813, 0.12773621,\n",
       "        0.18800312],\n",
       "       [0.03914943, 0.        , 0.4916278 , ..., 0.04271584, 0.4549307 ,\n",
       "        0.14165509],\n",
       "       [0.        , 0.12763652, 0.10502105, ..., 0.21501966, 0.        ,\n",
       "        0.        ]], dtype=float32)"
      ]
     },
     "execution_count": 220,
     "metadata": {},
     "output_type": "execute_result"
    }
   ],
   "source": [
    "_vectorized_jaccard(x_mat = ligand_mat.A, y_mat=receptor_mat.A, dist=dist)"
   ]
  },
  {
   "cell_type": "code",
   "execution_count": null,
   "id": "d539cdf9",
   "metadata": {},
   "outputs": [],
   "source": []
  },
  {
   "cell_type": "code",
   "execution_count": null,
   "id": "175ca989",
   "metadata": {},
   "outputs": [],
   "source": []
  },
  {
   "cell_type": "code",
   "execution_count": 65,
   "id": "dac4ba2a",
   "metadata": {},
   "outputs": [],
   "source": [
    "from liana.method.sp._spatial_utils import _local_permutation_pvals"
   ]
  },
  {
   "cell_type": "code",
   "execution_count": 66,
   "id": "ff308c66",
   "metadata": {},
   "outputs": [
    {
     "name": "stderr",
     "output_type": "stream",
     "text": [
      "100%|██████████| 100/100 [01:39<00:00,  1.00it/s]\n"
     ]
    }
   ],
   "source": [
    "local_pvals = _local_permutation_pvals(x_mat = ligand_mat.A, \n",
    "                                       y_mat = receptor_mat.A, \n",
    "                                       local_truth=local_pc,\n",
    "                                       local_fun=_vectorized_correlations,\n",
    "                                       dist=dist, \n",
    "                                       n_perm=n_perm, \n",
    "                                       positive_only=False,\n",
    "                                       seed=seed)"
   ]
  },
  {
   "cell_type": "code",
   "execution_count": 67,
   "id": "7d34d9f6",
   "metadata": {},
   "outputs": [
    {
     "data": {
      "text/plain": [
       "array([[0.53, 1.  , 0.72, ..., 0.06, 0.69, 1.  ],\n",
       "       [0.42, 0.96, 0.67, ..., 0.11, 0.3 , 0.93],\n",
       "       [0.51, 0.69, 0.13, ..., 0.11, 0.52, 0.  ],\n",
       "       ...,\n",
       "       [0.66, 0.19, 0.1 , ..., 0.31, 0.85, 0.5 ],\n",
       "       [0.71, 0.59, 0.33, ..., 0.32, 0.  , 1.  ],\n",
       "       [1.  , 0.33, 0.69, ..., 0.14, 1.  , 1.  ]])"
      ]
     },
     "execution_count": 67,
     "metadata": {},
     "output_type": "execute_result"
    }
   ],
   "source": [
    "local_pvals"
   ]
  },
  {
   "cell_type": "code",
   "execution_count": null,
   "id": "b4a05f78",
   "metadata": {},
   "outputs": [],
   "source": []
  },
  {
   "cell_type": "code",
   "execution_count": 68,
   "id": "74a63b84",
   "metadata": {},
   "outputs": [],
   "source": [
    "local_sp = _vectorized_correlations(x_mat = ligand_mat.A, y_mat=receptor_mat.A, dist=dist, method=\"spearman\")"
   ]
  },
  {
   "cell_type": "code",
   "execution_count": 69,
   "id": "95ed049d",
   "metadata": {},
   "outputs": [
    {
     "name": "stderr",
     "output_type": "stream",
     "text": [
      "100%|██████████| 100/100 [04:26<00:00,  2.66s/it]\n"
     ]
    }
   ],
   "source": [
    "local_sp_pvals = _local_permutation_pvals(x_mat = ligand_mat.A, \n",
    "                                          y_mat = receptor_mat.A, \n",
    "                                          local_truth=local_sp,\n",
    "                                          local_fun=_vectorized_correlations,\n",
    "                                          dist=dist, \n",
    "                                          n_perm=n_perm, \n",
    "                                          positive_only=False,\n",
    "                                          seed=seed,\n",
    "                                          method=\"spearman\"\n",
    "                                          )"
   ]
  },
  {
   "cell_type": "code",
   "execution_count": 70,
   "id": "03c9a907",
   "metadata": {},
   "outputs": [
    {
     "data": {
      "text/plain": [
       "(1409, 2688)"
      ]
     },
     "execution_count": 70,
     "metadata": {},
     "output_type": "execute_result"
    }
   ],
   "source": [
    "local_pvals.shape"
   ]
  },
  {
   "cell_type": "code",
   "execution_count": 71,
   "id": "4467f81f",
   "metadata": {},
   "outputs": [
    {
     "data": {
      "text/plain": [
       "(1409, 2688)"
      ]
     },
     "execution_count": 71,
     "metadata": {},
     "output_type": "execute_result"
    }
   ],
   "source": [
    "local_sp_pvals.shape"
   ]
  },
  {
   "cell_type": "code",
   "execution_count": 72,
   "id": "1dfb8b1c",
   "metadata": {},
   "outputs": [
    {
     "data": {
      "text/plain": [
       "SignificanceResult(statistic=0.9086609733687256, pvalue=0.0)"
      ]
     },
     "execution_count": 72,
     "metadata": {},
     "output_type": "execute_result"
    }
   ],
   "source": [
    "spearmanr(local_sp_pvals[1,:], local_pvals[1,:])"
   ]
  },
  {
   "cell_type": "code",
   "execution_count": null,
   "id": "3c9b42c0",
   "metadata": {},
   "outputs": [],
   "source": []
  },
  {
   "cell_type": "code",
   "execution_count": null,
   "id": "5c15a179",
   "metadata": {},
   "outputs": [],
   "source": []
  },
  {
   "cell_type": "code",
   "execution_count": null,
   "id": "3c0dd963",
   "metadata": {},
   "outputs": [],
   "source": []
  },
  {
   "attachments": {},
   "cell_type": "markdown",
   "id": "2ab31991",
   "metadata": {},
   "source": [
    "Global summary of the local scores:"
   ]
  },
  {
   "cell_type": "code",
   "execution_count": null,
   "id": "b07ef553",
   "metadata": {},
   "outputs": [],
   "source": [
    "lr_res.loc[:,['pearson_mean','pearson_sd']] = np.vstack([np.mean(local_pc, axis=1), np.std(local_pc, axis=1)]).T"
   ]
  },
  {
   "cell_type": "code",
   "execution_count": null,
   "id": "4575407e",
   "metadata": {},
   "outputs": [],
   "source": [
    "lr_res.sort_values(by='pearson_mean', ascending=False)"
   ]
  },
  {
   "cell_type": "code",
   "execution_count": null,
   "id": "559a56f7",
   "metadata": {},
   "outputs": [],
   "source": []
  },
  {
   "cell_type": "code",
   "execution_count": null,
   "id": "3ef6c695",
   "metadata": {},
   "outputs": [],
   "source": []
  },
  {
   "attachments": {},
   "cell_type": "markdown",
   "id": "20c66314",
   "metadata": {},
   "source": [
    "local p-values"
   ]
  },
  {
   "cell_type": "code",
   "execution_count": null,
   "id": "2d2a26c4",
   "metadata": {},
   "outputs": [],
   "source": [
    "from numpy import random\n",
    "from tqdm import tqdm"
   ]
  },
  {
   "cell_type": "code",
   "execution_count": null,
   "id": "af430595",
   "metadata": {},
   "outputs": [],
   "source": [
    "rng = random.default_rng(0)\n",
    "n_perm = 100\n",
    "positive_only = True # remove this option?"
   ]
  },
  {
   "cell_type": "code",
   "execution_count": null,
   "id": "f47617b7",
   "metadata": {},
   "outputs": [],
   "source": [
    "dist = adata.obsm['proximity']"
   ]
  },
  {
   "cell_type": "code",
   "execution_count": null,
   "id": "8bb8d8c3",
   "metadata": {},
   "outputs": [],
   "source": [
    "local_pc.shape"
   ]
  },
  {
   "cell_type": "code",
   "execution_count": null,
   "id": "825b981e",
   "metadata": {},
   "outputs": [],
   "source": []
  },
  {
   "cell_type": "code",
   "execution_count": null,
   "id": "b9f0a2a7",
   "metadata": {},
   "outputs": [],
   "source": [
    "def _get_local_permutation_pvals(x_mat, y_mat, local_truth, local_fun, dist, n_perm, positive_only=True, **kwargs):\n",
    "    xy_n = local_truth.shape[0]\n",
    "    spot_n = local_truth.shape[1]\n",
    "    \n",
    "    print(spot_n)\n",
    "    \n",
    "    # permutation cubes to be populated\n",
    "    local_pvals = np.zeros((xy_n, spot_n))\n",
    "    \n",
    "    # shuffle the matrix\n",
    "    for i in tqdm(range(n_perm)):\n",
    "        _idx = rng.permutation(spot_n)\n",
    "        perm_score = local_fun(x_mat = x_mat[_idx, :], y_mat=y_mat, dist=dist, **kwargs) ## TODO switch to shuffle rows, not columns\n",
    "        if positive_only:\n",
    "            local_pvals += np.array(perm_score >= local_truth, dtype=int)\n",
    "        else:\n",
    "            local_pvals += (np.array(np.abs(perm_score) >= np.abs(local_truth), dtype=int))\n",
    "\n",
    "    local_pvals = local_pvals / n_perm\n",
    "    \n",
    "    return local_pvals\n",
    "    "
   ]
  },
  {
   "cell_type": "code",
   "execution_count": null,
   "id": "1a714ac7",
   "metadata": {},
   "outputs": [],
   "source": []
  },
  {
   "cell_type": "code",
   "execution_count": null,
   "id": "dac4ba2a",
   "metadata": {},
   "outputs": [],
   "source": [
    "from liana.method.sp._spatial_utils import _local_permutation_pvals"
   ]
  },
  {
   "cell_type": "code",
   "execution_count": null,
   "id": "ff308c66",
   "metadata": {},
   "outputs": [],
   "source": [
    "local_pvals = _local_permutation_pvals(x_mat = ligand_mat.A, \n",
    "                                       y_mat = receptor_mat.A, \n",
    "                                       local_truth=local_pc,\n",
    "                                       local_fun=calculate_local_correlations,\n",
    "                                       dist=dist, \n",
    "                                       n_perm=n_perm, \n",
    "                                       positive_only=False,\n",
    "                                       seed=0)"
   ]
  },
  {
   "cell_type": "code",
   "execution_count": null,
   "id": "7d34d9f6",
   "metadata": {},
   "outputs": [],
   "source": [
    "local_pvals"
   ]
  },
  {
   "cell_type": "code",
   "execution_count": null,
   "id": "4806c532",
   "metadata": {},
   "outputs": [],
   "source": []
  },
  {
   "cell_type": "code",
   "execution_count": null,
   "id": "b08fb539",
   "metadata": {},
   "outputs": [],
   "source": [
    "local_pvals"
   ]
  },
  {
   "cell_type": "code",
   "execution_count": null,
   "id": "160df845",
   "metadata": {},
   "outputs": [],
   "source": [
    "from  scipy.sparse import csr_matrix"
   ]
  },
  {
   "cell_type": "code",
   "execution_count": null,
   "id": "f0d4453b",
   "metadata": {},
   "outputs": [],
   "source": [
    "local_pvals.shape"
   ]
  },
  {
   "cell_type": "code",
   "execution_count": null,
   "id": "fe424bbc",
   "metadata": {},
   "outputs": [],
   "source": [
    "local_pvals"
   ]
  },
  {
   "cell_type": "code",
   "execution_count": null,
   "id": "808dac55",
   "metadata": {},
   "outputs": [],
   "source": []
  },
  {
   "cell_type": "code",
   "execution_count": null,
   "id": "7c8b5359",
   "metadata": {},
   "outputs": [],
   "source": [
    "local_pc.shape"
   ]
  },
  {
   "cell_type": "code",
   "execution_count": null,
   "id": "4e5f6f90",
   "metadata": {},
   "outputs": [],
   "source": [
    "local_pvals.shape"
   ]
  },
  {
   "cell_type": "code",
   "execution_count": null,
   "id": "6ca94d98",
   "metadata": {},
   "outputs": [],
   "source": [
    "local_masked_pvals = _get_local_permutation_pvals(x_mat = ligand_mat.A,\n",
    "                                                  y_mat = receptor_mat.A,\n",
    "                                                  local_truth = masked_sp,\n",
    "                                                  local_fun=calculate_masked_correlations,\n",
    "                                                  dist=dist,\n",
    "                                                  n_perm=n_perm,\n",
    "                                                  positive_only=False)"
   ]
  },
  {
   "cell_type": "code",
   "execution_count": null,
   "id": "82286380",
   "metadata": {},
   "outputs": [],
   "source": [
    "local_masked_pvals"
   ]
  },
  {
   "cell_type": "code",
   "execution_count": null,
   "id": "693c03cb",
   "metadata": {},
   "outputs": [],
   "source": [
    "local_masked_pvals.shape"
   ]
  },
  {
   "cell_type": "code",
   "execution_count": null,
   "id": "46d37697",
   "metadata": {},
   "outputs": [],
   "source": [
    "from scipy.stats import spearmanr,  pearsonr"
   ]
  },
  {
   "cell_type": "code",
   "execution_count": null,
   "id": "e8f4e9ec",
   "metadata": {},
   "outputs": [],
   "source": [
    "pearsonr(local_masked_pvals[0,:], local_pvals[0,:])"
   ]
  },
  {
   "cell_type": "code",
   "execution_count": null,
   "id": "d1b942d7",
   "metadata": {},
   "outputs": [],
   "source": []
  }
 ],
 "metadata": {
  "kernelspec": {
   "display_name": "liana-spatial",
   "language": "python",
   "name": "python3"
  },
  "language_info": {
   "codemirror_mode": {
    "name": "ipython",
    "version": 3
   },
   "file_extension": ".py",
   "mimetype": "text/x-python",
   "name": "python",
   "nbconvert_exporter": "python",
   "pygments_lexer": "ipython3",
   "version": "3.10.9"
  },
  "vscode": {
   "interpreter": {
    "hash": "f753bcce54bffd886a1918c0ed127797462060055a319cf64929de73ccbfe1e9"
   }
  }
 },
 "nbformat": 4,
 "nbformat_minor": 5
}
