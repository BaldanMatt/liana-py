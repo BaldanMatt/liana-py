{
 "cells": [
  {
   "cell_type": "code",
   "execution_count": 1,
   "id": "153e7944-adbb-401e-914b-09c227dcfdea",
   "metadata": {},
   "outputs": [
    {
     "name": "stderr",
     "output_type": "stream",
     "text": [
      "/home/dbdimitrov/anaconda3/lib/python3.8/site-packages/paramiko/transport.py:219: CryptographyDeprecationWarning: Blowfish has been deprecated\n",
      "  \"class\": algorithms.Blowfish,\n"
     ]
    }
   ],
   "source": [
    "import squidpy as sq\n",
    "import scanpy as sc\n",
    "import pandas as pd\n",
    "import numpy as np\n",
    "from scipy.sparse import csr_matrix, isspmatrix_csr"
   ]
  },
  {
   "cell_type": "code",
   "execution_count": 2,
   "id": "cbb22f08-505c-4087-af67-84577d421f60",
   "metadata": {},
   "outputs": [],
   "source": [
    "import liana as li"
   ]
  },
  {
   "cell_type": "code",
   "execution_count": 3,
   "id": "4f0fe90c-bf2b-44b3-8798-8aaad0e402f1",
   "metadata": {},
   "outputs": [],
   "source": [
    "from matplotlib.pyplot import hist"
   ]
  },
  {
   "cell_type": "code",
   "execution_count": null,
   "id": "26a5283a-40e1-4441-828f-729247354e00",
   "metadata": {},
   "outputs": [],
   "source": []
  },
  {
   "cell_type": "code",
   "execution_count": 4,
   "id": "b9f16311-988d-4b04-b544-3b9ae80f0b71",
   "metadata": {},
   "outputs": [],
   "source": [
    "counts = pd.read_csv(\"data/counts_mat.csv\")\n",
    "weights = pd.read_csv(\"data/weight_mat.csv\")"
   ]
  },
  {
   "cell_type": "code",
   "execution_count": 5,
   "id": "1caf6c62-a727-40c5-94a9-5d6dcd535c48",
   "metadata": {},
   "outputs": [],
   "source": [
    "var = pd.DataFrame(counts[['Unnamed: 0']]).set_index('Unnamed: 0')\n",
    "var.index.name = None"
   ]
  },
  {
   "cell_type": "code",
   "execution_count": 6,
   "id": "740b5fad-7447-4eef-ba35-6ef5e028da17",
   "metadata": {},
   "outputs": [],
   "source": [
    "adata = sc.AnnData(X=csr_matrix(counts.drop(counts.columns[0], axis=1), dtype=np.float32).T, var=var)"
   ]
  },
  {
   "cell_type": "code",
   "execution_count": 7,
   "id": "bb9f37d6-da59-44ca-b304-222329b21237",
   "metadata": {},
   "outputs": [],
   "source": [
    "adata.obsm['proximity'] = csr_matrix(weights)"
   ]
  },
  {
   "cell_type": "code",
   "execution_count": null,
   "id": "10c311ac-b3a1-49fe-a054-83fb41aeb5e3",
   "metadata": {},
   "outputs": [],
   "source": []
  },
  {
   "cell_type": "code",
   "execution_count": 8,
   "id": "22a8de43-4ff7-4e93-9056-e27ba4a0afef",
   "metadata": {},
   "outputs": [],
   "source": [
    "from liana.method._global_lr_pipe import _global_lr_pipe\n",
    "from liana.method.sp._spatialdm import _get_ordered_matrix, _standardize_matrix"
   ]
  },
  {
   "cell_type": "code",
   "execution_count": null,
   "id": "76f1b690-891f-4949-9517-1957108b80e9",
   "metadata": {},
   "outputs": [],
   "source": []
  },
  {
   "cell_type": "code",
   "execution_count": 9,
   "id": "34109760-a362-41ca-8931-6658aa6d0223",
   "metadata": {},
   "outputs": [
    {
     "data": {
      "text/plain": [
       "AnnData object with n_obs × n_vars = 260 × 43\n",
       "    obsm: 'proximity'"
      ]
     },
     "execution_count": 9,
     "metadata": {},
     "output_type": "execute_result"
    }
   ],
   "source": [
    "adata"
   ]
  },
  {
   "cell_type": "code",
   "execution_count": 10,
   "id": "c8fee01a-7e7a-4556-9c54-77a671b0a735",
   "metadata": {},
   "outputs": [],
   "source": [
    "resource = pd.DataFrame({\"ligand\":[\"Dnm1l\", \"Arrb1\", \"Igf2\"], \"receptor\":[\"Gucy1b3\", \"Mtor\", \"Tuba1a\"]})"
   ]
  },
  {
   "cell_type": "code",
   "execution_count": null,
   "id": "43b18c02-ee7c-4980-8ec7-9da7418b0676",
   "metadata": {},
   "outputs": [],
   "source": []
  },
  {
   "cell_type": "code",
   "execution_count": 11,
   "id": "9b2eae96-cedb-44e6-b9b1-e122bba505bb",
   "metadata": {},
   "outputs": [
    {
     "name": "stdout",
     "output_type": "stream",
     "text": [
      "Using `.X`!\n",
      "Converting mat to CSR format\n"
     ]
    }
   ],
   "source": [
    "temp, lr_res, ligand_pos, receptor_pos = _global_lr_pipe(adata=adata,\n",
    "                                                         resource=resource,\n",
    "                                                         expr_prop=0.05,\n",
    "                                                         use_raw=False,\n",
    "                                                         verbose=True,\n",
    "                                                         layer=None,\n",
    "                                                         _key_cols=['ligand_complex', 'receptor_complex'],\n",
    "                                                         _complex_cols=['ligand_means', 'receptor_means'],\n",
    "                                                         _obms_keys=['proximity'],\n",
    "                                                         resource_name=None\n",
    "                                                         )"
   ]
  },
  {
   "cell_type": "code",
   "execution_count": 12,
   "id": "5801b031-bfdc-4712-8191-26c88d7d6d59",
   "metadata": {},
   "outputs": [
    {
     "data": {
      "text/html": [
       "<div>\n",
       "<style scoped>\n",
       "    .dataframe tbody tr th:only-of-type {\n",
       "        vertical-align: middle;\n",
       "    }\n",
       "\n",
       "    .dataframe tbody tr th {\n",
       "        vertical-align: top;\n",
       "    }\n",
       "\n",
       "    .dataframe thead th {\n",
       "        text-align: right;\n",
       "    }\n",
       "</style>\n",
       "<table border=\"1\" class=\"dataframe\">\n",
       "  <thead>\n",
       "    <tr style=\"text-align: right;\">\n",
       "      <th></th>\n",
       "      <th>interaction</th>\n",
       "      <th>ligand</th>\n",
       "      <th>receptor</th>\n",
       "      <th>ligand_complex</th>\n",
       "      <th>receptor_complex</th>\n",
       "      <th>ligand_means</th>\n",
       "      <th>ligand_props</th>\n",
       "      <th>receptor_means</th>\n",
       "      <th>receptor_props</th>\n",
       "      <th>prop_min</th>\n",
       "    </tr>\n",
       "  </thead>\n",
       "  <tbody>\n",
       "    <tr>\n",
       "      <th>0</th>\n",
       "      <td>Dnm1l&amp;Gucy1b3</td>\n",
       "      <td>Dnm1l</td>\n",
       "      <td>Gucy1b3</td>\n",
       "      <td>Dnm1l</td>\n",
       "      <td>Gucy1b3</td>\n",
       "      <td>2.682889</td>\n",
       "      <td>0.950000</td>\n",
       "      <td>3.117442</td>\n",
       "      <td>0.976923</td>\n",
       "      <td>0.950000</td>\n",
       "    </tr>\n",
       "    <tr>\n",
       "      <th>1</th>\n",
       "      <td>Arrb1&amp;Mtor</td>\n",
       "      <td>Arrb1</td>\n",
       "      <td>Mtor</td>\n",
       "      <td>Arrb1</td>\n",
       "      <td>Mtor</td>\n",
       "      <td>2.665413</td>\n",
       "      <td>0.957692</td>\n",
       "      <td>2.298451</td>\n",
       "      <td>0.907692</td>\n",
       "      <td>0.907692</td>\n",
       "    </tr>\n",
       "    <tr>\n",
       "      <th>2</th>\n",
       "      <td>Igf2&amp;Tuba1a</td>\n",
       "      <td>Igf2</td>\n",
       "      <td>Tuba1a</td>\n",
       "      <td>Igf2</td>\n",
       "      <td>Tuba1a</td>\n",
       "      <td>1.924077</td>\n",
       "      <td>0.892308</td>\n",
       "      <td>6.466562</td>\n",
       "      <td>1.000000</td>\n",
       "      <td>0.892308</td>\n",
       "    </tr>\n",
       "  </tbody>\n",
       "</table>\n",
       "</div>"
      ],
      "text/plain": [
       "     interaction ligand receptor ligand_complex receptor_complex  \\\n",
       "0  Dnm1l&Gucy1b3  Dnm1l  Gucy1b3          Dnm1l          Gucy1b3   \n",
       "1     Arrb1&Mtor  Arrb1     Mtor          Arrb1             Mtor   \n",
       "2    Igf2&Tuba1a   Igf2   Tuba1a           Igf2           Tuba1a   \n",
       "\n",
       "   ligand_means  ligand_props  receptor_means  receptor_props  prop_min  \n",
       "0      2.682889      0.950000        3.117442        0.976923  0.950000  \n",
       "1      2.665413      0.957692        2.298451        0.907692  0.907692  \n",
       "2      1.924077      0.892308        6.466562        1.000000  0.892308  "
      ]
     },
     "execution_count": 12,
     "metadata": {},
     "output_type": "execute_result"
    }
   ],
   "source": [
    "lr_res"
   ]
  },
  {
   "cell_type": "code",
   "execution_count": null,
   "id": "79c3025f-5d31-475b-85fb-8228c82fc7da",
   "metadata": {},
   "outputs": [],
   "source": []
  },
  {
   "cell_type": "markdown",
   "id": "f9b53bf1-be2e-4441-9833-99a17a48c3f7",
   "metadata": {},
   "source": [
    "Correlations"
   ]
  },
  {
   "cell_type": "code",
   "execution_count": 13,
   "id": "09576b07-eb28-4dab-84f4-0917ac4ebb8e",
   "metadata": {},
   "outputs": [],
   "source": [
    "ligand_mat = _get_ordered_matrix(temp.X, ligand_pos, lr_res.ligand)\n",
    "receptor_mat = _get_ordered_matrix(temp.X, receptor_pos, lr_res.receptor)"
   ]
  },
  {
   "cell_type": "code",
   "execution_count": 14,
   "id": "387a8e8d-f051-49b3-b7ef-c2990d247d83",
   "metadata": {},
   "outputs": [],
   "source": [
    "x, y = ligand_mat[0, :].A.flatten(), receptor_mat[0, :].A.flatten()"
   ]
  },
  {
   "cell_type": "code",
   "execution_count": 15,
   "id": "1b518623-87e5-448c-87f2-18360735fe35",
   "metadata": {},
   "outputs": [],
   "source": [
    "from scipy.stats import spearmanr, pearsonr, pointbiserialr, kendalltau"
   ]
  },
  {
   "cell_type": "code",
   "execution_count": 16,
   "id": "3568c25e-3ef5-45e1-b24c-1dd25f88a7ef",
   "metadata": {},
   "outputs": [
    {
     "data": {
      "text/plain": [
       "(0.12061560721706954, 0.05206512033238492)"
      ]
     },
     "execution_count": 16,
     "metadata": {},
     "output_type": "execute_result"
    }
   ],
   "source": [
    "pearsonr(x, y)"
   ]
  },
  {
   "cell_type": "code",
   "execution_count": null,
   "id": "bcde7882-060a-46c7-a9e0-e71fabed248c",
   "metadata": {},
   "outputs": [],
   "source": []
  },
  {
   "cell_type": "markdown",
   "id": "27734c88-857b-46fe-8e67-3e47e964509b",
   "metadata": {},
   "source": [
    "One by One"
   ]
  },
  {
   "cell_type": "code",
   "execution_count": 17,
   "id": "1f465b2e-56c7-45f3-9e34-e33a338de7ac",
   "metadata": {},
   "outputs": [],
   "source": [
    "def wcor(x, y, weight):\n",
    "    weight_sum = np.sum(weight)\n",
    "    \n",
    "    numerator = weight_sum * np.sum(weight * x * y) - np.sum(weight * x) * np.sum(weight * y)\n",
    "    denominator_x = weight_sum * np.sum(weight * (x**2)) - np.sum(weight * x)**2\n",
    "    denominator_y = weight_sum * np.sum(weight * (y**2)) - np.sum(weight * y)**2\n",
    "    \n",
    "    wcor = numerator / np.sqrt(denominator_x * denominator_y)\n",
    "    \n",
    "    return wcor"
   ]
  },
  {
   "cell_type": "code",
   "execution_count": 18,
   "id": "789f9ba8-3df6-4c99-9309-2fdeced50505",
   "metadata": {},
   "outputs": [
    {
     "data": {
      "text/plain": [
       "<260x260 sparse matrix of type '<class 'numpy.float64'>'\n",
       "\twith 3120 stored elements in Compressed Sparse Row format>"
      ]
     },
     "execution_count": 18,
     "metadata": {},
     "output_type": "execute_result"
    }
   ],
   "source": [
    "adata.obsm['proximity']"
   ]
  },
  {
   "cell_type": "code",
   "execution_count": null,
   "id": "09fc5ee7-681e-485c-a60c-db203ae0df85",
   "metadata": {},
   "outputs": [],
   "source": []
  },
  {
   "cell_type": "code",
   "execution_count": 19,
   "id": "2ba43bf5-801a-47b7-a879-94ef695e699a",
   "metadata": {},
   "outputs": [],
   "source": [
    "i = 0"
   ]
  },
  {
   "cell_type": "code",
   "execution_count": 20,
   "id": "06da56e4-35e4-4280-bf41-042318665a11",
   "metadata": {},
   "outputs": [
    {
     "data": {
      "text/plain": [
       "0.12061560565466811"
      ]
     },
     "execution_count": 20,
     "metadata": {},
     "output_type": "execute_result"
    }
   ],
   "source": [
    "# all weights = 1 (i.e. pearsonr)\n",
    "wcor(x, y, np.repeat(1, x.shape[0]))"
   ]
  },
  {
   "cell_type": "code",
   "execution_count": null,
   "id": "3e260853-40fe-46dd-9969-0b7c6a4a8e6c",
   "metadata": {},
   "outputs": [],
   "source": []
  },
  {
   "cell_type": "code",
   "execution_count": 21,
   "id": "454f7738-17ee-4542-9bc5-95a4adb4cad1",
   "metadata": {},
   "outputs": [],
   "source": [
    "weight = adata.obsm['proximity']"
   ]
  },
  {
   "cell_type": "code",
   "execution_count": 22,
   "id": "c6547abd-49ef-4ff6-a16e-3d1ef4f4d002",
   "metadata": {},
   "outputs": [],
   "source": [
    "# calculate all local correlations\n",
    "# technically, if we take i (a spot), x and y (e.g. genes),\n",
    "# we go over all rows in w (i.e. every spot)\n",
    "# and we re-calculate PC with the spatial weights \n",
    "# for the spots i to any other spot (j)\n",
    "local_corrs = []\n",
    "for i in range(weight.shape[0]):\n",
    "    local_corrs.append(wcor(x, y, weight[i, :].A))\n",
    "local_corrs = np.array(local_corrs)"
   ]
  },
  {
   "cell_type": "code",
   "execution_count": 23,
   "id": "440cf97a-fca9-4809-8072-8b5899f732de",
   "metadata": {},
   "outputs": [
    {
     "data": {
      "text/plain": [
       "(array([ 9., 25., 27., 37., 26., 43., 37., 35., 14.,  7.]),\n",
       " array([-0.58677481, -0.45093227, -0.31508972, -0.17924717, -0.04340463,\n",
       "         0.09243792,  0.22828047,  0.36412302,  0.49996556,  0.63580811,\n",
       "         0.77165066]),\n",
       " <BarContainer object of 10 artists>)"
      ]
     },
     "execution_count": 23,
     "metadata": {},
     "output_type": "execute_result"
    },
    {
     "data": {
      "image/png": "[encoded data removed]",
      "text/plain": [
       "<Figure size 432x288 with 1 Axes>"
      ]
     },
     "metadata": {
      "needs_background": "light"
     },
     "output_type": "display_data"
    }
   ],
   "source": [
    "hist(local_corrs)"
   ]
  },
  {
   "cell_type": "code",
   "execution_count": 24,
   "id": "883ae786-b729-4cd7-aa00-364eb1b1f009",
   "metadata": {},
   "outputs": [
    {
     "data": {
      "text/plain": [
       "array([-0.00132965,  0.17837803, -0.0006992 ,  0.0007183 , -0.21403439])"
      ]
     },
     "execution_count": 24,
     "metadata": {},
     "output_type": "execute_result"
    }
   ],
   "source": [
    "local_corrs[0:5]"
   ]
  },
  {
   "cell_type": "code",
   "execution_count": null,
   "id": "7a604eb8-3f1d-4a2f-a03b-6a3baba26c39",
   "metadata": {},
   "outputs": [],
   "source": []
  },
  {
   "cell_type": "code",
   "execution_count": 25,
   "id": "1ca72509-eefb-45c5-931d-cf201f162d02",
   "metadata": {},
   "outputs": [],
   "source": [
    "weight = weight[0, :].A"
   ]
  },
  {
   "cell_type": "code",
   "execution_count": 26,
   "id": "0146f46b-7d75-498b-b574-465382b22364",
   "metadata": {},
   "outputs": [
    {
     "data": {
      "text/plain": [
       "-0.0013296463642543616"
      ]
     },
     "execution_count": 26,
     "metadata": {},
     "output_type": "execute_result"
    }
   ],
   "source": [
    "weight_sum = np.sum(weight)\n",
    "\n",
    "numerator = weight_sum * np.sum(weight * x * y) - np.sum(weight * x) * np.sum(weight * y)\n",
    "denominator_x = weight_sum * np.sum(weight * (x**2)) - np.sum(weight * x)**2\n",
    "denominator_y = weight_sum * np.sum(weight * (y**2)) - np.sum(weight * y)**2\n",
    "\n",
    "# wcov\n",
    "numerator / np.sqrt(denominator_x * denominator_y)"
   ]
  },
  {
   "cell_type": "code",
   "execution_count": 27,
   "id": "e430485e-00f6-46fe-8279-f653314506a1",
   "metadata": {},
   "outputs": [
    {
     "data": {
      "text/plain": [
       "-0.02042462054362204"
      ]
     },
     "execution_count": 27,
     "metadata": {},
     "output_type": "execute_result"
    }
   ],
   "source": [
    "numerator"
   ]
  },
  {
   "cell_type": "code",
   "execution_count": 28,
   "id": "fb38fd3f-af8f-416b-8bd2-afdf800b7f7d",
   "metadata": {},
   "outputs": [
    {
     "data": {
      "text/plain": [
       "27.1080042154029"
      ]
     },
     "execution_count": 28,
     "metadata": {},
     "output_type": "execute_result"
    }
   ],
   "source": [
    "denominator_x"
   ]
  },
  {
   "cell_type": "code",
   "execution_count": 29,
   "id": "eabd8be0-760e-40c2-a778-54a6992e6220",
   "metadata": {},
   "outputs": [
    {
     "data": {
      "text/plain": [
       "8.70438613109468"
      ]
     },
     "execution_count": 29,
     "metadata": {},
     "output_type": "execute_result"
    }
   ],
   "source": [
    "denominator_y"
   ]
  },
  {
   "cell_type": "code",
   "execution_count": null,
   "id": "4f342b13-9b77-416b-af27-cc36f56aef53",
   "metadata": {},
   "outputs": [],
   "source": []
  },
  {
   "cell_type": "code",
   "execution_count": 30,
   "id": "39b825d7-b5c7-4708-b827-4b560c5e92af",
   "metadata": {},
   "outputs": [
    {
     "data": {
      "text/plain": [
       "413.32909518769986"
      ]
     },
     "execution_count": 30,
     "metadata": {},
     "output_type": "execute_result"
    }
   ],
   "source": [
    "weight_sum * np.sum(weight * x * y)"
   ]
  },
  {
   "cell_type": "code",
   "execution_count": 31,
   "id": "2b756b18-0bc5-4f00-9d3f-14daeb8ead59",
   "metadata": {},
   "outputs": [
    {
     "data": {
      "text/plain": [
       "413.3495198082435"
      ]
     },
     "execution_count": 31,
     "metadata": {},
     "output_type": "execute_result"
    }
   ],
   "source": [
    "np.sum(weight * x) * np.sum(weight * y)"
   ]
  },
  {
   "cell_type": "code",
   "execution_count": null,
   "id": "1253f3a7-56c0-419a-8f2c-48e94635cec0",
   "metadata": {},
   "outputs": [],
   "source": []
  },
  {
   "cell_type": "code",
   "execution_count": 32,
   "id": "63e6753c-d63a-47fb-9adc-947fcb14a540",
   "metadata": {},
   "outputs": [
    {
     "data": {
      "text/plain": [
       "array([1.37200415, 1.59062576, 2.52672255, 0.        , 0.        ])"
      ]
     },
     "execution_count": 32,
     "metadata": {},
     "output_type": "execute_result"
    }
   ],
   "source": [
    "(weight * x)[0][0:5]"
   ]
  },
  {
   "cell_type": "code",
   "execution_count": null,
   "id": "23e49926-024a-4e7f-9db0-9be089459776",
   "metadata": {},
   "outputs": [],
   "source": []
  },
  {
   "cell_type": "markdown",
   "id": "6c541874-43de-4f95-8dd3-fcf5f6c5df24",
   "metadata": {},
   "source": [
    "Vectorize"
   ]
  },
  {
   "cell_type": "markdown",
   "id": "ba744e9d-5461-4ddb-a68b-9534806acf93",
   "metadata": {},
   "source": [
    "For one interaction at a time:"
   ]
  },
  {
   "cell_type": "code",
   "execution_count": 469,
   "id": "c2b9c4c9-0d5a-48e6-b628-1068b55db89e",
   "metadata": {},
   "outputs": [],
   "source": [
    "weight = adata.obsm[\"proximity\"].A ## does it really need to be A?"
   ]
  },
  {
   "cell_type": "code",
   "execution_count": 470,
   "id": "40bd0b01-0678-4176-abd2-c601ed10b1b6",
   "metadata": {},
   "outputs": [],
   "source": [
    "weight_sums = np.sum(weight, axis = 1).flatten()"
   ]
  },
  {
   "cell_type": "code",
   "execution_count": 471,
   "id": "6d360577-ea12-46e3-a7b9-70a9dc568cd5",
   "metadata": {},
   "outputs": [
    {
     "data": {
      "text/plain": [
       "array([413.32909519, 367.77565144, 384.96345094, 311.83233116,\n",
       "       291.88845544, 229.55259411, 296.81639637, 244.39191989,\n",
       "       262.03291758, 328.88626754, 286.1400844 , 440.94925182,\n",
       "       449.77804841, 435.79750052, 464.84357456, 501.5987323 ,\n",
       "       487.38977621, 444.22556469, 374.05188673, 427.45398769,\n",
       "       404.17177861, 461.60641588, 434.8602097 , 353.04691204,\n",
       "       424.64731557, 410.36329255, 400.67118665, 440.19714239,\n",
       "       428.75038268, 370.82554049, 284.38660824, 327.77410411,\n",
       "       351.00389891, 284.86294048, 262.02274057, 271.69670533,\n",
       "       339.12686273, 322.29733764, 382.79244195, 337.56200154,\n",
       "       317.97494821, 316.86057578, 412.93638871, 323.17805427,\n",
       "       445.28981302, 321.29055645, 376.04829516, 303.24661213,\n",
       "       437.39817712, 427.12560128, 381.02628954, 351.91516238,\n",
       "       387.05688626, 323.46438147, 329.92737548, 393.12573454,\n",
       "       282.36045012, 479.19658545, 435.22576729, 458.45570385,\n",
       "       448.43811821, 368.06214603, 397.19390292, 417.46072092,\n",
       "       430.75614965, 275.40423551, 419.77387057, 325.1062886 ,\n",
       "       357.99091467, 397.86136816, 391.9420932 , 379.80152574,\n",
       "       427.39192053, 402.90254532, 390.29861137, 376.1776775 ,\n",
       "       398.74278288, 346.31428356, 352.83794945, 373.26674377,\n",
       "       401.73752091, 351.98824755, 378.85815235, 336.23230484,\n",
       "       403.91593771, 431.06884123, 372.97426195, 342.10618042,\n",
       "       365.17444464, 387.51631014, 317.97191758, 373.85204351,\n",
       "       348.18414675, 337.10036276, 340.90441686, 327.1170248 ,\n",
       "       370.15146958, 348.77192781, 374.91114484, 333.33939231,\n",
       "       413.08155971, 426.98197999, 344.04569995, 320.62816844,\n",
       "       290.70408003, 288.09473814, 400.23067339, 432.04805078,\n",
       "       366.38458011, 377.12641222, 363.97069108, 410.23783638,\n",
       "       370.15404791, 386.60769473, 341.13952702, 410.90071587,\n",
       "       280.96584587, 356.07003859, 422.77368332, 415.16528867,\n",
       "       260.00489321, 258.76073639, 256.55242745, 279.14964785,\n",
       "       371.55523199, 260.37952442, 351.10545134, 295.28525713,\n",
       "       394.13787338, 241.10099139, 251.67348051, 264.95541956,\n",
       "       211.3342177 , 235.96842844, 223.81288188, 287.6156022 ,\n",
       "       228.29706645, 306.78257821, 389.97228086, 375.80206674,\n",
       "       309.18030233, 388.59277716, 443.62779815, 433.67556611,\n",
       "       425.93524731, 442.6376315 , 455.24244764, 430.99359019,\n",
       "       365.18681607, 357.99906235, 470.08515915, 410.34780853,\n",
       "       425.55866529, 432.91583008, 311.31688612, 306.46841645,\n",
       "       295.75898981, 312.75285108, 377.74556389, 296.39411299,\n",
       "       288.91523877, 358.97927459, 316.38124035, 358.9047131 ,\n",
       "       348.55147235, 352.55671157, 440.0886252 , 314.43511086,\n",
       "       391.23200612, 426.33055387, 320.59555544, 345.03266893,\n",
       "       485.05754777, 523.07393874, 508.80890761, 478.27143453,\n",
       "       489.22923683, 443.85246939, 291.69702531, 397.24626593,\n",
       "       292.49464197, 386.60821807, 370.47942376, 407.01141742,\n",
       "       352.94576174, 399.50393316, 297.89968872, 333.5726962 ,\n",
       "       357.21792203, 375.29408395, 300.74888579, 329.01782028,\n",
       "       272.80739357, 253.76692866, 310.72381056, 340.32370616,\n",
       "       375.76319316, 376.91071921, 353.1519768 , 369.42764172,\n",
       "       351.66356163, 344.66046006, 350.75314483, 368.89871362,\n",
       "       366.54724799, 372.2678303 , 448.05294803, 337.55200891,\n",
       "       302.71169011, 306.19354697, 327.59030957, 451.04321193,\n",
       "       479.84984675, 340.14497219, 322.84476919, 319.21793811,\n",
       "       353.91673286, 331.12274432, 305.45600513, 245.19594609,\n",
       "       243.56996297, 286.04954151, 295.93740608, 319.5256086 ,\n",
       "       332.54690855, 349.29857584, 375.03933785, 338.45168366,\n",
       "       337.994384  , 275.14269249, 243.4886792 , 345.30526177,\n",
       "       304.02150214, 248.36778205, 289.04693204, 286.48819954,\n",
       "       240.55188735, 400.44165945, 464.97477561, 399.71624057,\n",
       "       429.79425212, 459.88459837, 402.57487873, 458.8527077 ,\n",
       "       455.83359892, 336.60912223, 355.44464216, 372.86690304,\n",
       "       335.28301516, 411.38379782, 429.51513863, 417.77448225,\n",
       "       479.25022869, 387.50038494, 398.72056583, 413.40311844,\n",
       "       422.95997676, 453.62984068, 284.14356619, 336.34738216])"
      ]
     },
     "execution_count": 471,
     "metadata": {},
     "output_type": "execute_result"
    }
   ],
   "source": [
    "n1 = (weight_sums * np.sum(np.multiply(weight, x) * y, axis=1))\n",
    "n1"
   ]
  },
  {
   "cell_type": "code",
   "execution_count": 472,
   "id": "f2e5e269-5495-4336-a6ef-0dc751dffb46",
   "metadata": {},
   "outputs": [
    {
     "data": {
      "text/plain": [
       "array([413.34951981, 364.04993142, 384.97718615, 311.80720578,\n",
       "       300.28635934, 230.84554091, 296.87001313, 247.64965657,\n",
       "       265.26917936, 321.00243712, 284.98079694, 442.18041878,\n",
       "       446.46225784, 431.27686073, 460.09720436, 500.91631453,\n",
       "       484.67684591, 433.53421394, 358.39917712, 413.99378104,\n",
       "       398.84212871, 463.8748456 , 423.9611496 , 332.43945387,\n",
       "       405.44214778, 388.24231756, 392.95986166, 436.65139367,\n",
       "       435.16721534, 366.75796276, 280.72670949, 317.25634725,\n",
       "       347.50209925, 286.74913205, 266.23794642, 267.34788731,\n",
       "       335.37092245, 316.73109636, 377.03185749, 343.24745157,\n",
       "       320.89120283, 299.1494663 , 421.02189612, 291.23769656,\n",
       "       451.95757341, 308.21391039, 317.24875795, 275.26719015,\n",
       "       409.69580539, 373.36623128, 386.43741098, 352.44718267,\n",
       "       347.99258824, 304.70799884, 316.6128232 , 379.31939856,\n",
       "       268.91057482, 478.91300641, 424.35484693, 458.16672364,\n",
       "       451.10119935, 366.54643861, 396.65551842, 417.58304057,\n",
       "       430.78859181, 264.36887952, 422.36994747, 322.04676974,\n",
       "       346.01368099, 398.41807225, 395.96632364, 377.46916767,\n",
       "       424.76909942, 399.47573738, 391.13277276, 367.92659258,\n",
       "       393.44735393, 342.88574695, 348.79613244, 366.70198996,\n",
       "       396.08834156, 340.39429811, 381.54082389, 339.22008893,\n",
       "       405.99620923, 436.23505562, 356.72766591, 320.85976441,\n",
       "       339.18552431, 378.24761843, 308.63391117, 376.22030981,\n",
       "       344.91035542, 328.24246572, 317.47734301, 314.64755051,\n",
       "       348.46314263, 354.79012728, 323.7021109 , 313.186791  ,\n",
       "       401.80009543, 380.89852683, 340.61159285, 303.94321112,\n",
       "       275.1332663 , 280.67384644, 403.33316711, 433.85119849,\n",
       "       369.57209102, 379.14314377, 338.64798917, 411.86209539,\n",
       "       354.30833943, 391.28551357, 350.71892135, 414.10811162,\n",
       "       292.52485443, 361.73691079, 426.09504336, 405.6493567 ,\n",
       "       269.58560027, 264.29367499, 265.66265158, 285.99331404,\n",
       "       373.16903348, 273.38879036, 362.55911614, 307.39023558,\n",
       "       403.38916225, 270.66727506, 272.76839108, 280.88665   ,\n",
       "       235.58244929, 240.99887262, 255.89535111, 306.47506697,\n",
       "       246.10506188, 313.15372051, 380.8410151 , 368.48177048,\n",
       "       316.44091973, 385.23448223, 441.12023358, 437.75126621,\n",
       "       428.43399514, 441.5397856 , 446.33021054, 422.53209238,\n",
       "       365.48205525, 353.32746934, 463.41629219, 397.31683037,\n",
       "       408.90248281, 422.77226508, 277.79255119, 309.41233761,\n",
       "       292.59297203, 290.87532201, 386.3051604 , 309.89399392,\n",
       "       301.86896313, 362.04201927, 306.9810678 , 352.34832051,\n",
       "       339.35732693, 340.64892569, 446.08892844, 334.72146015,\n",
       "       378.41719596, 436.71251306, 310.34455329, 354.41948294,\n",
       "       481.01594003, 528.84633852, 513.37293515, 470.26924707,\n",
       "       498.22899246, 430.99600111, 285.65007976, 394.64037649,\n",
       "       282.93402324, 382.22488823, 357.59022346, 402.41785562,\n",
       "       340.25905421, 396.89728689, 291.70030186, 323.97856789,\n",
       "       354.7788696 , 373.11521392, 291.02495273, 317.16690937,\n",
       "       266.06714472, 253.87568645, 305.63927057, 313.62830184,\n",
       "       381.65219049, 382.86077638, 355.16540419, 372.74342896,\n",
       "       354.83406274, 337.18827591, 354.47859594, 373.65500937,\n",
       "       372.82577076, 378.63839426, 455.40782777, 355.91323308,\n",
       "       327.22552276, 299.02582185, 312.94036512, 443.37555671,\n",
       "       479.21406867, 341.46018415, 322.97043063, 319.65427933,\n",
       "       319.778022  , 288.33013969, 315.35052649, 260.94767625,\n",
       "       256.20497472, 290.60545307, 300.93345787, 277.46028379,\n",
       "       342.91307066, 365.44845097, 382.43986585, 345.70089941,\n",
       "       356.63529192, 265.80406209, 239.98891905, 339.08426942,\n",
       "       300.13162105, 264.88522611, 303.76097582, 282.88948486,\n",
       "       244.39957269, 404.55943602, 457.49827789, 397.58557461,\n",
       "       422.05575722, 458.54734305, 398.50146863, 454.94399857,\n",
       "       446.36597227, 335.15903804, 354.43784132, 368.55800805,\n",
       "       331.6177962 , 402.00886079, 422.61281632, 413.03017417,\n",
       "       480.75395489, 381.99123285, 391.31713612, 407.53930698,\n",
       "       419.36597271, 452.27008263, 311.19953038, 341.87879717])"
      ]
     },
     "execution_count": 472,
     "metadata": {},
     "output_type": "execute_result"
    }
   ],
   "source": [
    "n2 = np.sum(np.multiply(weight, x), axis=1) * np.sum(np.multiply(weight, y), axis=1)\n",
    "n2"
   ]
  },
  {
   "cell_type": "code",
   "execution_count": 473,
   "id": "5e78743b-e212-49a9-b5f4-306b9f50abab",
   "metadata": {},
   "outputs": [],
   "source": [
    "numerator = n1 - n2"
   ]
  },
  {
   "cell_type": "code",
   "execution_count": null,
   "id": "dd6df074-1b77-44fc-8bd0-ba92529a16ce",
   "metadata": {},
   "outputs": [],
   "source": []
  },
  {
   "cell_type": "code",
   "execution_count": 474,
   "id": "566d64f2-ad7c-4acb-b49e-7daac2ba428e",
   "metadata": {},
   "outputs": [],
   "source": [
    "denominator_x = weight_sum * np.sum(np.multiply(weight, (x**2)), axis = 1) - np.sum(np.multiply(weight,  x), axis=1)**2\n",
    "denominator_y = weight_sum * np.sum(np.multiply(weight, (y**2)), axis = 1) - np.sum(np.multiply(weight,  y), axis=1)**2"
   ]
  },
  {
   "cell_type": "code",
   "execution_count": 475,
   "id": "dee94a5d-e7ed-41aa-b457-c842dadaa472",
   "metadata": {},
   "outputs": [
    {
     "data": {
      "text/plain": [
       "(260,)"
      ]
     },
     "execution_count": 475,
     "metadata": {},
     "output_type": "execute_result"
    }
   ],
   "source": [
    "denominator_x.shape"
   ]
  },
  {
   "cell_type": "code",
   "execution_count": null,
   "id": "68f146bd-6a93-4799-9f1d-5267dd93b851",
   "metadata": {},
   "outputs": [],
   "source": []
  },
  {
   "cell_type": "code",
   "execution_count": 476,
   "id": "c763af5a-23f8-4bf6-a4b8-dc06b2b4e752",
   "metadata": {},
   "outputs": [
    {
     "data": {
      "text/plain": [
       "array([27.10800422, 25.21338601, 29.18442814, 27.59649804, 26.70265811])"
      ]
     },
     "execution_count": 476,
     "metadata": {},
     "output_type": "execute_result"
    }
   ],
   "source": [
    "denominator_x[0:5]"
   ]
  },
  {
   "cell_type": "code",
   "execution_count": 450,
   "id": "cf5b4f16-c3f5-4e2c-9a85-f57694cfa8fe",
   "metadata": {},
   "outputs": [
    {
     "data": {
      "text/plain": [
       "array([ 8.70438613, 17.30240674, 13.22245209, 44.33641497, 57.65276927])"
      ]
     },
     "execution_count": 450,
     "metadata": {},
     "output_type": "execute_result"
    }
   ],
   "source": [
    "denominator_y[0:5]"
   ]
  },
  {
   "cell_type": "code",
   "execution_count": 428,
   "id": "8bcfb4ca-105a-42c1-847c-8a2a7d8ccd83",
   "metadata": {},
   "outputs": [],
   "source": [
    "local_corrs = numerator / np.sqrt(denominator_x * denominator_y)"
   ]
  },
  {
   "cell_type": "code",
   "execution_count": 429,
   "id": "32ee796f-713b-4980-b766-abbca1cdf775",
   "metadata": {},
   "outputs": [
    {
     "data": {
      "text/plain": [
       "(array([ 9., 25., 27., 37., 26., 43., 37., 35., 14.,  7.]),\n",
       " array([-0.58677481, -0.45093227, -0.31508972, -0.17924717, -0.04340463,\n",
       "         0.09243792,  0.22828047,  0.36412302,  0.49996556,  0.63580811,\n",
       "         0.77165066]),\n",
       " <BarContainer object of 10 artists>)"
      ]
     },
     "execution_count": 429,
     "metadata": {},
     "output_type": "execute_result"
    },
    {
     "data": {
      "image/png": "[encoded data removed]",
      "text/plain": [
       "<Figure size 432x288 with 1 Axes>"
      ]
     },
     "metadata": {
      "needs_background": "light"
     },
     "output_type": "display_data"
    }
   ],
   "source": [
    "hist(local_corrs)"
   ]
  },
  {
   "cell_type": "code",
   "execution_count": null,
   "id": "b7a71beb-5cf0-4d85-992a-4e4c394985e2",
   "metadata": {},
   "outputs": [],
   "source": []
  },
  {
   "cell_type": "code",
   "execution_count": null,
   "id": "72091ea9-730d-4c65-9208-74a77b5b7e94",
   "metadata": {},
   "outputs": [],
   "source": []
  },
  {
   "cell_type": "markdown",
   "id": "d4a4f75e-dc99-4563-817b-e158a18abf28",
   "metadata": {},
   "source": [
    "All local corrs for all interactions"
   ]
  },
  {
   "cell_type": "code",
   "execution_count": 430,
   "id": "1edce62b-dabe-4c36-86db-0e10ca425f09",
   "metadata": {},
   "outputs": [
    {
     "data": {
      "text/plain": [
       "<3x260 sparse matrix of type '<class 'numpy.float32'>'\n",
       "\twith 728 stored elements in Compressed Sparse Column format>"
      ]
     },
     "execution_count": 430,
     "metadata": {},
     "output_type": "execute_result"
    }
   ],
   "source": [
    "ligand_mat"
   ]
  },
  {
   "cell_type": "code",
   "execution_count": 431,
   "id": "a8df29a7-8dfa-46d4-8b99-bbb7fd694fc0",
   "metadata": {},
   "outputs": [
    {
     "data": {
      "text/plain": [
       "<3x260 sparse matrix of type '<class 'numpy.float32'>'\n",
       "\twith 750 stored elements in Compressed Sparse Column format>"
      ]
     },
     "execution_count": 431,
     "metadata": {},
     "output_type": "execute_result"
    }
   ],
   "source": [
    "receptor_mat"
   ]
  },
  {
   "cell_type": "code",
   "execution_count": null,
   "id": "48696316-b3ec-436a-9415-d8faf1991226",
   "metadata": {},
   "outputs": [],
   "source": []
  },
  {
   "cell_type": "code",
   "execution_count": 432,
   "id": "e290d38d-33f8-4c10-8e08-99bf519d7e2f",
   "metadata": {},
   "outputs": [],
   "source": [
    "weight = adata.obsm[\"proximity\"].A.T ## does it really need to be A?"
   ]
  },
  {
   "cell_type": "code",
   "execution_count": 433,
   "id": "02e1dded-4858-4cee-9a4f-41b22c4494f0",
   "metadata": {},
   "outputs": [],
   "source": [
    "weight_sums = np.sum(weight, axis = 0).flatten()"
   ]
  },
  {
   "cell_type": "code",
   "execution_count": null,
   "id": "373842cc-9208-427e-bed5-2a074fdf6fa5",
   "metadata": {},
   "outputs": [],
   "source": []
  },
  {
   "cell_type": "code",
   "execution_count": 434,
   "id": "44ab4a9c-413d-4684-84fa-0a341715dac9",
   "metadata": {},
   "outputs": [],
   "source": [
    "x_mat = ligand_mat.A.T\n",
    "y_mat = receptor_mat.A.T"
   ]
  },
  {
   "cell_type": "code",
   "execution_count": 435,
   "id": "4946f4a8-ef66-4136-92e4-34f495e454ac",
   "metadata": {},
   "outputs": [],
   "source": [
    "n1 = (((x_mat * y_mat).T @ weight) * weight_sums.T)"
   ]
  },
  {
   "cell_type": "code",
   "execution_count": 436,
   "id": "2d85c7c2-a647-4821-8887-54fe860151a1",
   "metadata": {},
   "outputs": [],
   "source": [
    "n2 = (x_mat.T @ weight) * (y_mat.T @ weight)"
   ]
  },
  {
   "cell_type": "code",
   "execution_count": null,
   "id": "fc138f8c-7feb-4a06-ab5f-4625ba563d06",
   "metadata": {},
   "outputs": [],
   "source": []
  },
  {
   "cell_type": "code",
   "execution_count": 437,
   "id": "cfec59cd-3dd7-4455-9894-3a2471dae55d",
   "metadata": {},
   "outputs": [],
   "source": [
    "numerator = n1 - n2"
   ]
  },
  {
   "cell_type": "code",
   "execution_count": 438,
   "id": "64e96a37-7f32-4897-877a-37c800c36335",
   "metadata": {},
   "outputs": [
    {
     "data": {
      "text/plain": [
       "array([-0.02042609,  6.73935457, 11.02068448])"
      ]
     },
     "execution_count": 438,
     "metadata": {},
     "output_type": "execute_result"
    }
   ],
   "source": [
    "numerator[0:5,0]"
   ]
  },
  {
   "cell_type": "code",
   "execution_count": null,
   "id": "ba30449e-7478-44ad-abda-f31922cb844e",
   "metadata": {},
   "outputs": [],
   "source": []
  },
  {
   "cell_type": "code",
   "execution_count": 492,
   "id": "742ce22f-6a27-420f-adf2-e3e78628adde",
   "metadata": {},
   "outputs": [],
   "source": [
    "denominator_x = (weight_sums * (x_mat ** 2).T @ weight.T) - (x_mat.T @ weight.T)**2\n",
    "denominator_y = (weight_sums * (y_mat ** 2).T @ weight.T) - (y_mat.T @ weight.T)**2"
   ]
  },
  {
   "cell_type": "code",
   "execution_count": 497,
   "id": "c4426886-4b7d-43fe-8547-99ff8a78dcae",
   "metadata": {},
   "outputs": [
    {
     "data": {
      "text/plain": [
       "array([27.10800422, 48.55611783, 40.57299122])"
      ]
     },
     "execution_count": 497,
     "metadata": {},
     "output_type": "execute_result"
    }
   ],
   "source": [
    "denominator_x[0:5, 0]"
   ]
  },
  {
   "cell_type": "code",
   "execution_count": 498,
   "id": "fd57e99d-bb33-48da-94ed-a0adeff0f91b",
   "metadata": {},
   "outputs": [
    {
     "data": {
      "text/plain": [
       "array([ 8.70438613, 15.51988565,  5.81770928])"
      ]
     },
     "execution_count": 498,
     "metadata": {},
     "output_type": "execute_result"
    }
   ],
   "source": [
    "denominator_y[0:5, 0]"
   ]
  },
  {
   "cell_type": "code",
   "execution_count": null,
   "id": "0ec476fc-42cb-446b-b7cb-5c8046f19976",
   "metadata": {},
   "outputs": [],
   "source": []
  },
  {
   "cell_type": "code",
   "execution_count": 502,
   "id": "09b3a4a2-1bf9-48ab-8cd9-0b080d3cc99b",
   "metadata": {},
   "outputs": [
    {
     "data": {
      "text/plain": [
       "array([[-1.32964636e-03, -7.44025396e-04, -1.32941164e-03],\n",
       "       [ 1.78378033e-01,  8.23801241e-02,  2.27667277e-01],\n",
       "       [-6.99203744e-04, -4.05243078e-04, -8.28894628e-04],\n",
       "       [ 7.18299187e-04,  4.63759229e-04,  1.82021006e-03],\n",
       "       [-2.14034393e-01, -1.43758622e-01, -6.55591630e-01],\n",
       "       [-2.15510184e-02, -2.50781196e-02, -8.61222311e-02],\n",
       "       [-2.38989051e-03, -1.69042134e-03, -4.35988196e-03],\n",
       "       [-7.09542255e-02, -9.20042004e-02, -2.39684021e-01],\n",
       "       [-7.78087740e-02, -1.24464015e-01, -3.26511141e-01],\n",
       "       [ 2.09318414e-01,  1.22121436e-01,  6.42143761e-01],\n",
       "       [ 2.81858651e-02,  3.68535169e-02,  1.05325491e-01],\n",
       "       [-5.68777218e-02, -1.69444177e-02, -2.02398310e-01],\n",
       "       [ 1.82043598e-01,  5.48797925e-02,  3.42675614e-01],\n",
       "       [ 3.44058245e-01,  8.66559036e-02,  3.86301038e-01],\n",
       "       [ 3.75013963e-01,  1.42187328e-01,  4.27786506e-01],\n",
       "       [ 4.18542795e-02,  2.13102464e-02,  7.04318973e-02],\n",
       "       [ 1.68156230e-01,  5.53615795e-02,  3.42838273e-01],\n",
       "       [ 6.15738202e-01,  2.81714494e-01,  8.51631920e-01],\n",
       "       [ 3.02646253e-01,  3.20221519e-01,  1.48036797e+00],\n",
       "       [ 2.82138089e-01,  3.64105879e-01,  1.49285429e+00],\n",
       "       [ 1.59544917e-01,  7.77453158e-02,  5.44374968e-01],\n",
       "       [-8.49139453e-02, -3.65818026e-02, -2.57026365e-01],\n",
       "       [ 3.12473112e-01,  7.03891975e-01,  1.98942429e+00],\n",
       "       [ 4.09399035e-01,  4.55571971e-01,  2.49246657e+00],\n",
       "       [ 4.52031150e-01,  6.67324679e-01,  2.48747689e+00],\n",
       "       [ 4.61461128e-01,  8.63020910e-01,  2.37564433e+00],\n",
       "       [ 3.49804439e-01,  2.33879436e-01,  7.58550817e-01],\n",
       "       [ 1.68055224e-01,  1.80940662e-01,  3.79010681e-01],\n",
       "       [-3.54433375e-01, -3.44843632e-01, -1.22781108e+00],\n",
       "       [ 1.44093762e-01,  1.17540805e-01,  5.58222846e-01],\n",
       "       [ 1.01623378e-01,  1.20944236e-01,  3.91430146e-01],\n",
       "       [ 3.10269403e-01,  1.96099058e-01,  1.09368272e+00],\n",
       "       [ 1.07867065e-01,  7.64130608e-02,  3.42666964e-01],\n",
       "       [-8.87894317e-02, -6.10688904e-02, -2.31109982e-01],\n",
       "       [-1.03981598e-01, -1.65085138e-01, -3.80375999e-01],\n",
       "       [ 1.35644097e-01,  2.35505396e-01,  3.54379295e-01],\n",
       "       [ 1.05247473e-01,  1.91932210e-01,  3.03383411e-01],\n",
       "       [ 1.91265777e-01,  2.60035258e-01,  3.69474796e-01],\n",
       "       [ 1.85502205e-01,  1.39177295e-01,  7.64856707e-01],\n",
       "       [-2.60868345e-01, -2.11535516e-01, -7.97231087e-01],\n",
       "       [-1.78722430e-01, -1.03978499e-01, -3.77446566e-01],\n",
       "       [ 4.82366112e-01,  3.32143109e-01,  2.53673650e+00],\n",
       "       [-3.72962447e-01, -2.79468688e-01, -1.39095609e+00],\n",
       "       [ 5.03809260e-01,  1.18247171e+00,  4.40784117e+00],\n",
       "       [-2.66589328e-01, -1.84640037e-01, -1.06179058e+00],\n",
       "       [ 2.77417567e-01,  4.07597013e-01,  2.18218193e+00],\n",
       "       [ 6.98883674e-01,  5.00656489e+00,  6.60827115e+00],\n",
       "       [ 4.20123467e-01,  2.34832593e+00,  3.83038220e+00],\n",
       "       [ 6.91857338e-01,  6.88296437e-01,  2.90858235e+00],\n",
       "       [ 7.71650657e-01,  2.14062567e+00,  4.67648049e+00],\n",
       "       [-3.79685627e-01, -2.81355198e-01, -8.06649100e-01],\n",
       "       [-3.32504202e-02, -3.06575524e-02, -7.38268222e-02],\n",
       "       [ 6.59314392e-01,  1.40474808e+00,  5.64772692e+00],\n",
       "       [ 4.17716107e-01,  8.73219779e-01,  2.88913007e+00],\n",
       "       [ 3.01893658e-01,  3.80262020e-01,  2.73530248e+00],\n",
       "       [ 3.84708963e-01,  5.66935738e-01,  2.76033267e+00],\n",
       "       [ 2.67949183e-01,  4.82884424e-01,  1.91863793e+00],\n",
       "       [ 1.43490511e-02,  1.21146260e-02,  4.63853458e-02],\n",
       "       [ 4.44106074e-01,  5.06378826e-01,  1.82915505e+00],\n",
       "       [ 1.51855589e-02,  1.50162034e-02,  5.66623731e-02],\n",
       "       [-1.69036807e-01, -1.27939710e-01, -5.02340736e-01],\n",
       "       [ 8.58603401e-02,  9.40733853e-02,  2.98396656e-01],\n",
       "       [ 3.96255929e-02,  2.94361013e-02,  8.24563141e-02],\n",
       "       [-6.04152199e-03, -4.73883629e-03, -2.80881114e-02],\n",
       "       [-2.08881605e-03, -9.68362794e-04, -5.88433899e-03],\n",
       "       [ 2.66357466e-01,  4.99812841e-01,  1.83645106e+00],\n",
       "       [-1.28222214e-01, -9.53358057e-02, -1.00685305e+00],\n",
       "       [ 1.24538324e-01,  1.26819006e-01,  5.47888088e-01],\n",
       "       [ 3.31879469e-01,  3.80282039e-01,  2.30799409e+00],\n",
       "       [-5.44297943e-02, -2.81488028e-02, -9.15641887e-02],\n",
       "       [-4.18955313e-01, -1.93293170e-01, -6.91014965e-01],\n",
       "       [ 1.42167195e-01,  1.18413779e-01,  3.85948384e-01],\n",
       "       [ 1.76010734e-01,  1.32374702e-01,  8.14949574e-01],\n",
       "       [ 2.11191822e-01,  1.64758509e-01,  8.14772203e-01],\n",
       "       [-5.77697951e-02, -3.31671066e-02, -1.28862696e-01],\n",
       "       [ 2.68851542e-01,  3.77537146e-01,  2.50411519e+00],\n",
       "       [ 3.08287831e-01,  3.35816938e-01,  8.86557501e-01],\n",
       "       [ 1.51347608e-01,  2.35745438e-01,  7.01266504e-01],\n",
       "       [ 1.96679767e-01,  3.21064343e-01,  5.32898594e-01],\n",
       "       [ 2.63920171e-01,  4.29738281e-01,  1.35277235e+00],\n",
       "       [ 3.74149718e-01,  3.70784341e-01,  9.51807451e-01],\n",
       "       [ 4.40352504e-01,  5.30472116e-01,  1.38644835e+00],\n",
       "       [-1.43983861e-01, -2.07029654e-01, -3.93988583e-01],\n",
       "       [-1.78046029e-01, -3.18785446e-01, -4.00551424e-01],\n",
       "       [-2.15217143e-01, -1.69433520e-01, -3.63849011e-01],\n",
       "       [-3.79207281e-01, -2.50043796e-01, -8.78486118e-01],\n",
       "       [ 4.48509142e-01,  6.30887878e-01,  1.46453573e+00],\n",
       "       [ 5.99298161e-01,  1.01879988e+00,  4.74661222e+00],\n",
       "       [ 6.28508434e-01,  1.30544810e+00,  4.11471716e+00],\n",
       "       [ 4.07268612e-01,  2.61306521e-01,  1.32344589e+00],\n",
       "       [ 4.47704454e-01,  3.69357239e-01,  1.08478499e+00],\n",
       "       [-2.46822559e-01, -1.47556040e-01, -3.96731848e-01],\n",
       "       [ 2.22374645e-01,  1.55617261e-01,  4.68218619e-01],\n",
       "       [ 1.35586753e-01,  6.56708777e-01,  7.03733321e-01],\n",
       "       [ 3.39622852e-01,  1.39779944e+00,  2.51155142e+00],\n",
       "       [ 4.06957959e-01,  4.49392057e-01,  1.54446834e+00],\n",
       "       [ 4.06800004e-01,  8.88744865e-01,  2.50437390e+00],\n",
       "       [-1.50664781e-01, -3.81638502e-01, -4.04852093e-01],\n",
       "       [ 5.98063867e-01,  3.58354800e+00,  4.78333655e+00],\n",
       "       [ 2.86113015e-01,  1.43620478e+00,  1.75585487e+00],\n",
       "       [ 4.25901045e-01,  3.36929671e-01,  1.35589507e+00],\n",
       "       [ 6.91429951e-01,  1.86274496e+00,  4.62178869e+00],\n",
       "       [ 1.81045459e-01,  1.15840968e-01,  6.07232340e-01],\n",
       "       [ 5.42629598e-01,  8.31135467e-01,  3.73077061e+00],\n",
       "       [ 5.64700953e-01,  7.45721605e-01,  3.22915462e+00],\n",
       "       [ 3.48492339e-01,  2.92053657e-01,  1.15446933e+00],\n",
       "       [-2.02739483e-01, -5.88622735e-02, -2.94327804e-01],\n",
       "       [-1.21990673e-01, -4.37291967e-02, -3.66263702e-01],\n",
       "       [-2.87622585e-01, -1.26209823e-01, -3.35578446e-01],\n",
       "       [-1.90305681e-01, -5.87562879e-02, -1.39203793e-01],\n",
       "       [ 6.09180915e-01,  9.82002582e-01,  2.97884297e+00],\n",
       "       [-8.61860444e-02, -3.73586147e-02, -2.03350994e-01],\n",
       "       [ 4.27680012e-01,  4.71741376e-01,  1.44159422e+00],\n",
       "       [-1.40253923e-01, -3.85192749e-01, -4.92109644e-01],\n",
       "       [-2.20742550e-01, -8.37023223e-01, -8.37958205e-01],\n",
       "       [-7.89585769e-02, -2.02254954e-01, -3.20327739e-01],\n",
       "       [-3.24871134e-01, -4.99751382e-01, -9.61496590e-01],\n",
       "       [-1.02433302e-01, -2.13703524e-01, -4.61085869e-01],\n",
       "       [-8.20172939e-02, -1.76857832e-01, -2.49130413e-01],\n",
       "       [ 2.35405755e-01,  3.67759871e-01,  6.96718219e-01],\n",
       "       [-2.21540249e-01, -1.69113182e-01, -7.53278717e-01],\n",
       "       [-1.34632250e-01, -1.28782774e-01, -3.06580503e-01],\n",
       "       [-2.51318106e-01, -2.31760688e-01, -5.28730226e-01],\n",
       "       [-2.05011108e-01, -1.69685439e-01, -6.08893178e-01],\n",
       "       [-5.80420529e-02, -7.00573949e-02, -1.69292431e-01],\n",
       "       [-4.51496817e-01, -4.21040055e-01, -9.60710322e-01],\n",
       "       [-2.51572036e-01, -5.96631987e-01, -1.16085777e+00],\n",
       "       [-2.79582504e-01, -2.87648111e-01, -1.21170003e+00],\n",
       "       [-4.38373413e-01, -5.62408529e-01, -1.02444758e+00],\n",
       "       [-4.48703619e-01, -9.64049124e-01, -2.68268939e+00],\n",
       "       [-3.35892399e-01, -4.75453911e-01, -1.71293485e+00],\n",
       "       [-4.30461553e-01, -2.67350107e-01, -1.55311012e+00],\n",
       "       [-3.76730051e-01, -5.07775666e-01, -1.91719981e+00],\n",
       "       [-1.16754224e-01, -1.27891523e-01, -3.78443599e-01],\n",
       "       [-4.56496514e-01, -8.04909327e-01, -2.92124770e+00],\n",
       "       [-3.29762617e-01, -7.95997969e-01, -2.30993386e+00],\n",
       "       [-3.79297229e-01, -3.71735424e-01, -1.38598892e+00],\n",
       "       [-1.37145216e-01, -1.52083101e-01, -6.15747198e-01],\n",
       "       [ 2.85920843e-01,  2.98301136e-01,  1.25422305e+00],\n",
       "       [ 2.27971722e-01,  2.67597978e-01,  9.40679710e-01],\n",
       "       [-1.33712718e-01, -2.91730801e-01, -7.52176062e-01],\n",
       "       [ 7.37441082e-02,  1.76567080e-01,  3.57098679e-01],\n",
       "       [ 7.55274639e-02,  1.05998969e-01,  3.79722395e-01],\n",
       "       [-1.47913590e-01, -2.84384112e-01, -4.96383658e-01],\n",
       "       [-1.03667884e-01, -1.64712094e-01, -2.62329497e-01],\n",
       "       [ 3.34518358e-02,  4.83974132e-02,  1.34374793e-01],\n",
       "       [ 5.07038496e-01,  2.85630529e-01,  1.10852313e+00],\n",
       "       [ 4.36261377e-01,  2.72866869e-01,  8.07810322e-01],\n",
       "       [-8.67019808e-03, -1.06610225e-02, -3.39369116e-02],\n",
       "       [ 1.80171024e-01,  1.06677656e-01,  4.00798519e-01],\n",
       "       [ 3.09209595e-01,  1.66811238e-01,  6.31893124e-01],\n",
       "       [ 6.08077283e-01,  3.40450154e-01,  2.07293878e+00],\n",
       "       [ 6.42030650e-01,  3.36094300e-01,  1.81120010e+00],\n",
       "       [ 4.88635767e-01,  2.56454370e-01,  1.13244234e+00],\n",
       "       [ 3.84399827e-01,  8.01540219e-01,  1.87830095e+00],\n",
       "       [-6.13450953e-02, -3.56033044e-02, -2.39453938e-01],\n",
       "       [ 5.02173227e-02,  5.75829280e-02,  2.31032484e-01],\n",
       "       [ 3.04850308e-01,  3.11636747e-01,  1.38259249e+00],\n",
       "       [-4.31863377e-01, -1.53156650e-01, -1.69263630e+00],\n",
       "       [-3.50954437e-01, -1.84557767e-01, -1.80483980e+00],\n",
       "       [-2.64580864e-01, -3.86306055e-01, -1.33678782e+00],\n",
       "       [-1.16494108e-01, -1.29826801e-01, -5.78060811e-01],\n",
       "       [ 4.89694696e-01,  1.20313538e-01,  6.70004233e-01],\n",
       "       [ 2.86694179e-01,  9.72152592e-02,  7.17011728e-01],\n",
       "       [ 3.97898440e-01,  1.87244597e-01,  1.49858201e+00],\n",
       "       [ 4.25635511e-01,  2.19714578e-01,  1.24931074e+00],\n",
       "       [-1.62519680e-01, -1.95685864e-01, -6.34518592e-01],\n",
       "       [-4.18082253e-01, -1.07037550e+00, -1.89359193e+00],\n",
       "       [ 4.17390088e-01,  3.37847698e-01,  1.04733430e+00],\n",
       "       [-3.10835279e-01, -3.99349361e-01, -9.01849796e-01],\n",
       "       [ 4.47266841e-01,  2.38840822e-01,  6.44338642e-01],\n",
       "       [-2.48913199e-01, -3.50992524e-01, -6.20326601e-01],\n",
       "       [ 1.27978697e-01,  1.29289232e-01,  8.14434031e-01],\n",
       "       [-4.08402976e-01, -2.20104901e-01, -6.57936034e-01],\n",
       "       [-2.38498486e-01, -1.99847101e-01, -5.20283162e-01],\n",
       "       [ 3.33322194e-01,  2.07479867e-01,  8.31777557e-01],\n",
       "       [-5.86774815e-01, -3.83633747e-01, -9.54982883e-01],\n",
       "       [ 4.25113525e-01,  4.44757101e-01,  1.58787875e+00],\n",
       "       [ 1.17259187e-01,  1.54920095e-01,  8.47160985e-01],\n",
       "       [ 1.31899650e-01,  5.26206967e-02,  1.72992456e-01],\n",
       "       [ 2.08303014e-01,  2.84187981e-01,  1.08841711e+00],\n",
       "       [ 1.22075035e-01,  1.15212548e-01,  4.10534351e-01],\n",
       "       [ 2.66362000e-01,  3.31707126e-01,  1.33463391e+00],\n",
       "       [ 1.89544891e-01,  1.43946449e-01,  3.24912547e-01],\n",
       "       [ 5.17055039e-01,  3.29637075e-01,  1.26577479e+00],\n",
       "       [ 1.36685993e-01,  6.32467413e-02,  2.53119341e-01],\n",
       "       [ 1.47798413e-01,  1.60843853e-01,  4.93627750e-01],\n",
       "       [ 3.48661061e-01,  3.28399370e-01,  1.01401089e+00],\n",
       "       [ 2.01044103e-01,  1.11920128e-01,  2.24401041e-01],\n",
       "       [ 7.31497646e-02,  4.23201431e-02,  1.71188076e-01],\n",
       "       [ 3.29748364e-01,  2.90844191e-01,  8.43709705e-01],\n",
       "       [ 5.86986155e-01,  4.80388255e-01,  1.28779280e+00],\n",
       "       [ 2.15517007e-01,  2.75430196e-01,  4.47803157e-01],\n",
       "       [-2.72746015e-03, -4.55529432e-03, -9.99880718e-03],\n",
       "       [ 1.47860340e-01,  1.95867639e-01,  2.88394907e-01],\n",
       "       [ 6.54522061e-01,  1.45968242e+00,  5.79259583e+00],\n",
       "       [-4.25641855e-01, -1.06020729e-01, -4.10044357e-01],\n",
       "       [-3.27251599e-01, -9.42858807e-02, -5.12604939e-01],\n",
       "       [-2.39121360e-01, -7.27949294e-02, -1.74572537e-01],\n",
       "       [-3.34926319e-01, -8.84988826e-02, -2.22907494e-01],\n",
       "       [-1.54007688e-01, -5.70642573e-02, -2.65645991e-01],\n",
       "       [ 2.41401976e-01,  1.51003612e-01,  6.51041412e-01],\n",
       "       [-1.86685868e-01, -7.47167648e-02, -3.00725240e-01],\n",
       "       [-4.24051537e-01, -1.30210517e-01, -3.30900419e-01],\n",
       "       [-3.64764689e-01, -1.18679026e-01, -4.46457501e-01],\n",
       "       [-4.54025467e-01, -1.29930886e-01, -4.39032233e-01],\n",
       "       [-2.83353780e-01, -5.71610045e-01, -6.20009653e-01],\n",
       "       [-3.76203905e-01, -1.69053858e+00, -1.49485150e+00],\n",
       "       [-5.21117461e-01, -1.58292313e+00, -1.86450055e+00],\n",
       "       [ 2.11504698e-01,  2.62960821e-01,  1.12367881e+00],\n",
       "       [ 3.21276141e-01,  5.03983301e-01,  2.30839407e+00],\n",
       "       [ 4.46792392e-01,  3.15632786e-01,  7.19051613e-01],\n",
       "       [ 5.51378187e-02,  3.62229135e-02,  5.05845991e-02],\n",
       "       [-1.42056946e-01, -4.97900221e-02, -1.42821612e-01],\n",
       "       [-1.05283452e-02, -4.45289480e-03, -8.91911038e-03],\n",
       "       [-2.49399174e-02, -2.04330094e-02, -5.27636352e-02],\n",
       "       [ 6.11144865e-01,  1.28361216e+00,  2.52639214e+00],\n",
       "       [ 5.48508514e-01,  1.39132435e+00,  2.56164445e+00],\n",
       "       [-2.74726036e-01, -4.23296918e-01, -7.81029425e-01],\n",
       "       [-5.48706985e-01, -5.18674495e-01, -1.33309434e+00],\n",
       "       [-4.44056146e-01, -4.05251209e-01, -9.74843091e-01],\n",
       "       [-1.67543222e-01, -1.13790172e-01, -2.18107718e-01],\n",
       "       [-1.42954642e-01, -1.19167242e-01, -2.27564383e-01],\n",
       "       [ 4.64571054e-01,  1.02516269e+00,  2.24639892e+00],\n",
       "       [-2.64389287e-01, -1.06544341e-01, -1.08313571e+00],\n",
       "       [-4.69526640e-01, -1.51225127e-01, -1.38812806e+00],\n",
       "       [-3.09206883e-01, -8.93559043e-02, -7.61853765e-01],\n",
       "       [-2.25946349e-01, -7.91250865e-02, -4.10250787e-01],\n",
       "       [-4.91792460e-01, -1.73730725e-01, -2.35498577e+00],\n",
       "       [ 4.05884230e-01,  1.21466228e-01,  3.66373753e-01],\n",
       "       [ 9.43691491e-02,  4.46865736e-02,  1.09636600e-01],\n",
       "       [ 2.70138104e-01,  8.38235336e-02,  3.71473360e-01],\n",
       "       [ 1.07284036e-01,  4.39963991e-02,  1.69107990e-01],\n",
       "       [-3.45683423e-01, -5.18188422e-01, -6.02727441e-01],\n",
       "       [-3.13425107e-01, -4.10397344e-01, -7.43275846e-01],\n",
       "       [ 1.35787228e-01,  6.69738717e-02,  1.57113821e-01],\n",
       "       [-1.07934342e-01, -7.69318737e-02, -1.24028819e-01],\n",
       "       [-1.21285103e-01, -4.86190003e-01, -3.46440578e-01],\n",
       "       [ 4.31928617e-01,  5.70699932e-01,  7.59547615e-01],\n",
       "       [ 7.67755283e-02,  2.64068945e-01,  2.63758604e-01],\n",
       "       [ 3.52219425e-01,  7.31664227e-01,  9.21402793e-01],\n",
       "       [ 9.25476571e-02,  6.56765103e-02,  2.77519273e-01],\n",
       "       [ 2.04033051e-01,  2.74941287e-01,  7.89105697e-01],\n",
       "       [ 2.90956375e-01,  2.36977015e-01,  3.93561767e-01],\n",
       "       [ 4.90045135e-01,  5.43622205e-01,  8.78470687e-01],\n",
       "       [ 1.00465483e-01,  4.14779152e-02,  8.14811028e-02],\n",
       "       [ 5.13869478e-02,  3.61071205e-02,  7.00083814e-02],\n",
       "       [ 2.55300481e-01,  1.66551565e-01,  2.54785621e-01],\n",
       "       [ 2.54407571e-01,  1.06441573e-01,  1.92531295e-01],\n",
       "       [ 4.25067338e-01,  6.93752294e-01,  9.76380172e-01],\n",
       "       [ 3.88393876e-01,  2.50881373e-01,  9.24271630e-01],\n",
       "       [ 2.57660667e-01,  1.99906960e-01,  4.69353432e-01],\n",
       "       [-1.33042886e-01, -4.60384186e-02, -2.43847232e-01],\n",
       "       [ 3.80505195e-01,  1.53340518e-01,  3.63210317e-01],\n",
       "       [ 3.39671396e-01,  3.08475909e-01,  1.00588516e+00],\n",
       "       [ 3.43265405e-01,  1.69184299e-01,  8.69636597e-01],\n",
       "       [ 2.74393068e-01,  1.01001490e-01,  3.02145574e-01],\n",
       "       [ 1.11669688e-01,  3.57708098e-02,  1.61821746e-01],\n",
       "       [-5.49594288e-01, -1.35341292e+00, -2.01118578e+00],\n",
       "       [-1.99039025e-01, -1.65295342e-01, -2.37501039e-01]])"
      ]
     },
     "execution_count": 502,
     "metadata": {},
     "output_type": "execute_result"
    }
   ],
   "source": [
    "(numerator / np.sqrt(denominator_x * denominator_y)).T"
   ]
  },
  {
   "cell_type": "code",
   "execution_count": null,
   "id": "dee4ebbf-1541-4ba0-93f9-d70282a127ef",
   "metadata": {},
   "outputs": [],
   "source": []
  }
 ],
 "metadata": {
  "kernelspec": {
   "display_name": "liana-py",
   "language": "python",
   "name": "liana-py"
  },
  "language_info": {
   "codemirror_mode": {
    "name": "ipython",
    "version": 3
   },
   "file_extension": ".py",
   "mimetype": "text/x-python",
   "name": "python",
   "nbconvert_exporter": "python",
   "pygments_lexer": "ipython3",
   "version": "3.8.8"
  }
 },
 "nbformat": 4,
 "nbformat_minor": 5
}
