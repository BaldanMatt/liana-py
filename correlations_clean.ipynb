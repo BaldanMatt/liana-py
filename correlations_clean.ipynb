{
 "cells": [
  {
   "cell_type": "code",
   "execution_count": null,
   "id": "153e7944-adbb-401e-914b-09c227dcfdea",
   "metadata": {},
   "outputs": [],
   "source": [
    "import squidpy as sq\n",
    "import scanpy as sc\n",
    "import pandas as pd\n",
    "import numpy as np\n",
    "from scipy.sparse import csr_matrix, isspmatrix_csr"
   ]
  },
  {
   "cell_type": "code",
   "execution_count": null,
   "id": "cbb22f08-505c-4087-af67-84577d421f60",
   "metadata": {},
   "outputs": [],
   "source": [
    "import liana as li"
   ]
  },
  {
   "cell_type": "code",
   "execution_count": null,
   "id": "4f0fe90c-bf2b-44b3-8798-8aaad0e402f1",
   "metadata": {},
   "outputs": [],
   "source": [
    "from matplotlib.pyplot import hist"
   ]
  },
  {
   "cell_type": "code",
   "execution_count": null,
   "id": "b9f16311-988d-4b04-b544-3b9ae80f0b71",
   "metadata": {},
   "outputs": [],
   "source": [
    "counts = pd.read_csv(\"data/counts_mat.csv\")\n",
    "weights = pd.read_csv(\"data/weight_mat.csv\")"
   ]
  },
  {
   "cell_type": "code",
   "execution_count": null,
   "id": "1caf6c62-a727-40c5-94a9-5d6dcd535c48",
   "metadata": {},
   "outputs": [],
   "source": [
    "var = pd.DataFrame(counts[['Unnamed: 0']]).set_index('Unnamed: 0')\n",
    "var.index.name = None"
   ]
  },
  {
   "cell_type": "code",
   "execution_count": null,
   "id": "740b5fad-7447-4eef-ba35-6ef5e028da17",
   "metadata": {},
   "outputs": [],
   "source": [
    "adata = sc.AnnData(X=csr_matrix(counts.drop(counts.columns[0], axis=1), dtype=np.float32).T, var=var)"
   ]
  },
  {
   "cell_type": "code",
   "execution_count": null,
   "id": "bb9f37d6-da59-44ca-b304-222329b21237",
   "metadata": {},
   "outputs": [],
   "source": [
    "adata.obsm['proximity'] = csr_matrix(weights)"
   ]
  },
  {
   "cell_type": "code",
   "execution_count": null,
   "id": "10c311ac-b3a1-49fe-a054-83fb41aeb5e3",
   "metadata": {},
   "outputs": [],
   "source": []
  },
  {
   "cell_type": "code",
   "execution_count": null,
   "id": "22a8de43-4ff7-4e93-9056-e27ba4a0afef",
   "metadata": {},
   "outputs": [],
   "source": [
    "from liana.method._global_lr_pipe import _global_lr_pipe\n",
    "from liana.method.sp._spatialdm import _get_ordered_matrix, _standardize_matrix"
   ]
  },
  {
   "cell_type": "code",
   "execution_count": null,
   "id": "76f1b690-891f-4949-9517-1957108b80e9",
   "metadata": {},
   "outputs": [],
   "source": []
  },
  {
   "cell_type": "code",
   "execution_count": null,
   "id": "34109760-a362-41ca-8931-6658aa6d0223",
   "metadata": {},
   "outputs": [],
   "source": [
    "adata.write_h5ad(\"test_spatial.h5ad\")"
   ]
  },
  {
   "cell_type": "code",
   "execution_count": null,
   "id": "25ee1279",
   "metadata": {},
   "outputs": [],
   "source": []
  },
  {
   "cell_type": "code",
   "execution_count": null,
   "id": "c8fee01a-7e7a-4556-9c54-77a671b0a735",
   "metadata": {},
   "outputs": [],
   "source": [
    "resource = pd.DataFrame({\"ligand\":[\"Dnm1l\", \"Arrb1\", \"Igf2\"], \"receptor\":[\"Gucy1b3\", \"Mtor\", \"Tuba1a\"]})"
   ]
  },
  {
   "cell_type": "code",
   "execution_count": null,
   "id": "43b18c02-ee7c-4980-8ec7-9da7418b0676",
   "metadata": {},
   "outputs": [],
   "source": []
  },
  {
   "cell_type": "code",
   "execution_count": null,
   "id": "9b2eae96-cedb-44e6-b9b1-e122bba505bb",
   "metadata": {},
   "outputs": [],
   "source": [
    "temp, lr_res, ligand_pos, receptor_pos = _global_lr_pipe(adata=adata,\n",
    "                                                         resource=resource,\n",
    "                                                         expr_prop=0.05,\n",
    "                                                         use_raw=False,\n",
    "                                                         verbose=True,\n",
    "                                                         layer=None,\n",
    "                                                         _key_cols=['ligand_complex', 'receptor_complex'],\n",
    "                                                         _complex_cols=['ligand_means', 'receptor_means'],\n",
    "                                                         _obms_keys=['proximity'],\n",
    "                                                         resource_name=None\n",
    "                                                         )"
   ]
  },
  {
   "cell_type": "code",
   "execution_count": null,
   "id": "5801b031-bfdc-4712-8191-26c88d7d6d59",
   "metadata": {},
   "outputs": [],
   "source": [
    "lr_res"
   ]
  },
  {
   "cell_type": "code",
   "execution_count": null,
   "id": "79c3025f-5d31-475b-85fb-8228c82fc7da",
   "metadata": {},
   "outputs": [],
   "source": []
  },
  {
   "cell_type": "markdown",
   "id": "f9b53bf1-be2e-4441-9833-99a17a48c3f7",
   "metadata": {},
   "source": [
    "Correlations"
   ]
  },
  {
   "cell_type": "code",
   "execution_count": 756,
   "id": "09576b07-eb28-4dab-84f4-0917ac4ebb8e",
   "metadata": {},
   "outputs": [],
   "source": [
    "ligand_mat = _get_ordered_matrix(temp.X, ligand_pos, lr_res.ligand)\n",
    "receptor_mat = _get_ordered_matrix(temp.X, receptor_pos, lr_res.receptor)"
   ]
  },
  {
   "cell_type": "code",
   "execution_count": 757,
   "id": "387a8e8d-f051-49b3-b7ef-c2990d247d83",
   "metadata": {},
   "outputs": [],
   "source": [
    "x, y = ligand_mat[0, :].A.flatten(), receptor_mat[0, :].A.flatten()"
   ]
  },
  {
   "cell_type": "code",
   "execution_count": 758,
   "id": "1b518623-87e5-448c-87f2-18360735fe35",
   "metadata": {},
   "outputs": [],
   "source": [
    "from scipy.stats import spearmanr, pearsonr, pointbiserialr, kendalltau"
   ]
  },
  {
   "cell_type": "code",
   "execution_count": 759,
   "id": "3568c25e-3ef5-45e1-b24c-1dd25f88a7ef",
   "metadata": {},
   "outputs": [
    {
     "data": {
      "text/plain": [
       "(0.12061560721706954, 0.05206512033238492)"
      ]
     },
     "execution_count": 759,
     "metadata": {},
     "output_type": "execute_result"
    }
   ],
   "source": [
    "pearsonr(x, y)"
   ]
  },
  {
   "cell_type": "code",
   "execution_count": null,
   "id": "bcde7882-060a-46c7-a9e0-e71fabed248c",
   "metadata": {},
   "outputs": [],
   "source": []
  },
  {
   "cell_type": "markdown",
   "id": "27734c88-857b-46fe-8e67-3e47e964509b",
   "metadata": {},
   "source": [
    "One by One"
   ]
  },
  {
   "cell_type": "code",
   "execution_count": 1043,
   "id": "1f465b2e-56c7-45f3-9e34-e33a338de7ac",
   "metadata": {},
   "outputs": [],
   "source": [
    "def wcor(x, y, weight):\n",
    "    weight_sum = np.sum(weight)\n",
    "    \n",
    "    numerator = weight_sum * np.sum(weight * x * y) - np.sum(weight * x) * np.sum(weight * y)\n",
    "    denominator_x = weight_sum * np.sum(weight * (x**2)) - np.sum(weight * x)**2\n",
    "    denominator_y = weight_sum * np.sum(weight * (y**2)) - np.sum(weight * y)**2\n",
    "    \n",
    "    wcor = numerator / np.sqrt(denominator_x * denominator_y)\n",
    "    \n",
    "    return wcor"
   ]
  },
  {
   "cell_type": "code",
   "execution_count": 1044,
   "id": "789f9ba8-3df6-4c99-9309-2fdeced50505",
   "metadata": {},
   "outputs": [
    {
     "data": {
      "text/plain": [
       "<260x260 sparse matrix of type '<class 'numpy.float64'>'\n",
       "\twith 3120 stored elements in Compressed Sparse Row format>"
      ]
     },
     "execution_count": 1044,
     "metadata": {},
     "output_type": "execute_result"
    }
   ],
   "source": [
    "adata.obsm['proximity']"
   ]
  },
  {
   "cell_type": "code",
   "execution_count": null,
   "id": "2ba43bf5-801a-47b7-a879-94ef695e699a",
   "metadata": {},
   "outputs": [],
   "source": [
    "i = 0"
   ]
  },
  {
   "cell_type": "code",
   "execution_count": 1049,
   "id": "06da56e4-35e4-4280-bf41-042318665a11",
   "metadata": {},
   "outputs": [
    {
     "data": {
      "text/plain": [
       "-0.0013296463642543616"
      ]
     },
     "execution_count": 1049,
     "metadata": {},
     "output_type": "execute_result"
    }
   ],
   "source": [
    "# all weights = 1 (i.e. pearsonr)\n",
    "wcor(x, y, np.repeat(1, x.shape[0]))"
   ]
  },
  {
   "cell_type": "code",
   "execution_count": null,
   "id": "4cb13ae1",
   "metadata": {},
   "outputs": [],
   "source": []
  },
  {
   "cell_type": "code",
   "execution_count": null,
   "id": "3e260853-40fe-46dd-9969-0b7c6a4a8e6c",
   "metadata": {},
   "outputs": [],
   "source": []
  },
  {
   "cell_type": "code",
   "execution_count": 1078,
   "id": "454f7738-17ee-4542-9bc5-95a4adb4cad1",
   "metadata": {},
   "outputs": [],
   "source": [
    "weight = adata.obsm['proximity']"
   ]
  },
  {
   "cell_type": "code",
   "execution_count": 1079,
   "id": "c6547abd-49ef-4ff6-a16e-3d1ef4f4d002",
   "metadata": {},
   "outputs": [],
   "source": [
    "# calculate all local correlations\n",
    "# technically, if we take i (a spot), x and y (e.g. genes),\n",
    "# we go over all rows in w (i.e. every spot)\n",
    "# and we re-calculate PC with the spatial weights \n",
    "# for the spots i to any other spot (j)\n",
    "local_corrs = []\n",
    "for i in range(weight.shape[0]):\n",
    "    local_corrs.append(wcor(x, y, weight[i, :].A))\n",
    "local_corrs = np.array(local_corrs)"
   ]
  },
  {
   "cell_type": "code",
   "execution_count": 1080,
   "id": "440cf97a-fca9-4809-8072-8b5899f732de",
   "metadata": {},
   "outputs": [
    {
     "data": {
      "text/plain": [
       "(array([ 9., 25., 27., 37., 26., 43., 37., 35., 14.,  7.]),\n",
       " array([-0.58677481, -0.45093227, -0.31508972, -0.17924717, -0.04340463,\n",
       "         0.09243792,  0.22828047,  0.36412302,  0.49996556,  0.63580811,\n",
       "         0.77165066]),\n",
       " <BarContainer object of 10 artists>)"
      ]
     },
     "execution_count": 1080,
     "metadata": {},
     "output_type": "execute_result"
    },
    {
     "data": {
      "image/png": "[encoded data removed]",
      "text/plain": [
       "<Figure size 432x288 with 1 Axes>"
      ]
     },
     "metadata": {
      "needs_background": "light"
     },
     "output_type": "display_data"
    }
   ],
   "source": [
    "hist(local_corrs)"
   ]
  },
  {
   "cell_type": "code",
   "execution_count": 1081,
   "id": "883ae786-b729-4cd7-aa00-364eb1b1f009",
   "metadata": {},
   "outputs": [
    {
     "data": {
      "text/plain": [
       "array([-0.00132965,  0.17837803, -0.0006992 ,  0.0007183 , -0.21403439])"
      ]
     },
     "execution_count": 1081,
     "metadata": {},
     "output_type": "execute_result"
    }
   ],
   "source": [
    "local_corrs[0:5]"
   ]
  },
  {
   "cell_type": "code",
   "execution_count": null,
   "id": "bceb78b3",
   "metadata": {},
   "outputs": [],
   "source": []
  },
  {
   "attachments": {},
   "cell_type": "markdown",
   "id": "612f9ee3",
   "metadata": {},
   "source": [
    "masked"
   ]
  },
  {
   "cell_type": "code",
   "execution_count": 1082,
   "id": "21932112",
   "metadata": {},
   "outputs": [],
   "source": [
    "weight = adata.obsm['proximity'].A"
   ]
  },
  {
   "cell_type": "code",
   "execution_count": 1083,
   "id": "c04b3dac",
   "metadata": {},
   "outputs": [],
   "source": [
    "# msk = np.isnan(weight)\n",
    "msk = np.logical_not(weight>0).astype(np.int16)"
   ]
  },
  {
   "cell_type": "code",
   "execution_count": 1084,
   "id": "89e719f3",
   "metadata": {},
   "outputs": [],
   "source": [
    "weight = np.ma.masked_array(weight, mask=msk)"
   ]
  },
  {
   "cell_type": "code",
   "execution_count": 1085,
   "id": "c177f7a3",
   "metadata": {},
   "outputs": [],
   "source": [
    "xy_n = len(x)"
   ]
  },
  {
   "cell_type": "code",
   "execution_count": 1086,
   "id": "23af2dbd",
   "metadata": {},
   "outputs": [],
   "source": [
    "x_ma = np.reshape(np.repeat(x, xy_n), newshape=(xy_n, xy_n))\n",
    "y_ma = np.reshape(np.repeat(y, xy_n), newshape=(xy_n, xy_n))\n",
    "\n",
    "x_ma = np.ma.masked_array(x_ma, mask=msk, fill_value=np.nan).T\n",
    "y_ma = np.ma.masked_array(y_ma, mask=msk, fill_value=np.nan).T"
   ]
  },
  {
   "cell_type": "code",
   "execution_count": 1088,
   "id": "ed97d393",
   "metadata": {},
   "outputs": [],
   "source": [
    "local_corrs = []\n",
    "for i in range(weight.shape[0]):\n",
    "    local_corrs.append(wcor(x_ma[i, :], y_ma[i, :], weight[i, :]))\n",
    "local_corrs = np.array(local_corrs)"
   ]
  },
  {
   "cell_type": "code",
   "execution_count": 1090,
   "id": "02a6ec83",
   "metadata": {},
   "outputs": [
    {
     "data": {
      "text/plain": [
       "(array([ 3., 15., 23., 30., 32., 42., 44., 31., 27., 13.]),\n",
       " array([-0.58677481, -0.43853581, -0.29029681, -0.14205781,  0.0061812 ,\n",
       "         0.1544202 ,  0.3026592 ,  0.4508982 ,  0.59913721,  0.74737621,\n",
       "         0.89561521]),\n",
       " <BarContainer object of 10 artists>)"
      ]
     },
     "execution_count": 1090,
     "metadata": {},
     "output_type": "execute_result"
    },
    {
     "data": {
      "image/png": "[encoded data removed]",
      "text/plain": [
       "<Figure size 432x288 with 1 Axes>"
      ]
     },
     "metadata": {
      "needs_background": "light"
     },
     "output_type": "display_data"
    }
   ],
   "source": [
    "hist(local_corrs)"
   ]
  },
  {
   "cell_type": "code",
   "execution_count": null,
   "id": "7a604eb8-3f1d-4a2f-a03b-6a3baba26c39",
   "metadata": {},
   "outputs": [],
   "source": []
  },
  {
   "cell_type": "code",
   "execution_count": null,
   "id": "1ca72509-eefb-45c5-931d-cf201f162d02",
   "metadata": {},
   "outputs": [],
   "source": [
    "weight = weight[0, :].A"
   ]
  },
  {
   "cell_type": "code",
   "execution_count": null,
   "id": "0146f46b-7d75-498b-b574-465382b22364",
   "metadata": {},
   "outputs": [],
   "source": [
    "weight_sum = np.sum(weight)\n",
    "\n",
    "numerator = weight_sum * np.sum(weight * x * y) - np.sum(weight * x) * np.sum(weight * y)\n",
    "denominator_x = weight_sum * np.sum(weight * (x**2)) - np.sum(weight * x)**2\n",
    "denominator_y = weight_sum * np.sum(weight * (y**2)) - np.sum(weight * y)**2\n",
    "\n",
    "# wcov\n",
    "numerator / np.sqrt(denominator_x * denominator_y)"
   ]
  },
  {
   "cell_type": "code",
   "execution_count": null,
   "id": "e430485e-00f6-46fe-8279-f653314506a1",
   "metadata": {},
   "outputs": [],
   "source": [
    "numerator"
   ]
  },
  {
   "cell_type": "code",
   "execution_count": null,
   "id": "fb38fd3f-af8f-416b-8bd2-afdf800b7f7d",
   "metadata": {},
   "outputs": [],
   "source": [
    "denominator_x"
   ]
  },
  {
   "cell_type": "code",
   "execution_count": null,
   "id": "eabd8be0-760e-40c2-a778-54a6992e6220",
   "metadata": {},
   "outputs": [],
   "source": [
    "denominator_y"
   ]
  },
  {
   "cell_type": "code",
   "execution_count": null,
   "id": "4f342b13-9b77-416b-af27-cc36f56aef53",
   "metadata": {},
   "outputs": [],
   "source": []
  },
  {
   "cell_type": "code",
   "execution_count": null,
   "id": "39b825d7-b5c7-4708-b827-4b560c5e92af",
   "metadata": {},
   "outputs": [],
   "source": [
    "weight_sum * np.sum(weight * x * y)"
   ]
  },
  {
   "cell_type": "code",
   "execution_count": null,
   "id": "2b756b18-0bc5-4f00-9d3f-14daeb8ead59",
   "metadata": {},
   "outputs": [],
   "source": [
    "np.sum(weight * x) * np.sum(weight * y)"
   ]
  },
  {
   "cell_type": "code",
   "execution_count": null,
   "id": "1253f3a7-56c0-419a-8f2c-48e94635cec0",
   "metadata": {},
   "outputs": [],
   "source": []
  },
  {
   "cell_type": "code",
   "execution_count": null,
   "id": "63e6753c-d63a-47fb-9adc-947fcb14a540",
   "metadata": {},
   "outputs": [],
   "source": [
    "(weight * x)[0][0:5]"
   ]
  },
  {
   "cell_type": "code",
   "execution_count": null,
   "id": "23e49926-024a-4e7f-9db0-9be089459776",
   "metadata": {},
   "outputs": [],
   "source": []
  },
  {
   "cell_type": "markdown",
   "id": "6c541874-43de-4f95-8dd3-fcf5f6c5df24",
   "metadata": {},
   "source": [
    "Vectorize"
   ]
  },
  {
   "cell_type": "markdown",
   "id": "ba744e9d-5461-4ddb-a68b-9534806acf93",
   "metadata": {},
   "source": [
    "For one interaction at a time:"
   ]
  },
  {
   "cell_type": "code",
   "execution_count": 994,
   "id": "89ea1080",
   "metadata": {},
   "outputs": [],
   "source": [
    "x, y = ligand_mat[0, :].A.flatten(), receptor_mat[0, :].A.flatten()"
   ]
  },
  {
   "cell_type": "code",
   "execution_count": 960,
   "id": "c2b9c4c9-0d5a-48e6-b628-1068b55db89e",
   "metadata": {},
   "outputs": [],
   "source": [
    "weight = adata.obsm[\"proximity\"].A ## does it really need to be A?"
   ]
  },
  {
   "cell_type": "code",
   "execution_count": 961,
   "id": "40bd0b01-0678-4176-abd2-c601ed10b1b6",
   "metadata": {},
   "outputs": [],
   "source": [
    "weight_sum = np.sum(weight, axis = 1).flatten()"
   ]
  },
  {
   "cell_type": "code",
   "execution_count": 962,
   "id": "6d360577-ea12-46e3-a7b9-70a9dc568cd5",
   "metadata": {},
   "outputs": [
    {
     "data": {
      "text/plain": [
       "array([413.32909519, 367.77565144, 384.96345094, 311.83233116,\n",
       "       291.88845544])"
      ]
     },
     "execution_count": 962,
     "metadata": {},
     "output_type": "execute_result"
    }
   ],
   "source": [
    "n1 = (weight_sum * np.sum(np.multiply(weight, x) * y, axis=1))\n",
    "n1[0:5]"
   ]
  },
  {
   "cell_type": "code",
   "execution_count": 440,
   "id": "f2e5e269-5495-4336-a6ef-0dc751dffb46",
   "metadata": {},
   "outputs": [
    {
     "data": {
      "text/plain": [
       "array([413.34951981, 364.04993142, 384.97718615, 311.80720578,\n",
       "       300.28635934])"
      ]
     },
     "execution_count": 440,
     "metadata": {},
     "output_type": "execute_result"
    }
   ],
   "source": [
    "n2 = np.sum(np.multiply(weight, x), axis=1) * np.sum(np.multiply(weight, y), axis=1)\n",
    "n2[0:5]"
   ]
  },
  {
   "cell_type": "code",
   "execution_count": 441,
   "id": "5e78743b-e212-49a9-b5f4-306b9f50abab",
   "metadata": {},
   "outputs": [],
   "source": [
    "numerator = n1 - n2"
   ]
  },
  {
   "cell_type": "code",
   "execution_count": 442,
   "id": "2a9d6ed7",
   "metadata": {},
   "outputs": [
    {
     "data": {
      "text/plain": [
       "array([-0.02042462,  3.72572002, -0.01373521,  0.02512538, -8.3979039 ])"
      ]
     },
     "execution_count": 442,
     "metadata": {},
     "output_type": "execute_result"
    }
   ],
   "source": [
    "numerator[0:5]"
   ]
  },
  {
   "cell_type": "code",
   "execution_count": null,
   "id": "dd6df074-1b77-44fc-8bd0-ba92529a16ce",
   "metadata": {},
   "outputs": [],
   "source": []
  },
  {
   "cell_type": "code",
   "execution_count": 443,
   "id": "566d64f2-ad7c-4acb-b49e-7daac2ba428e",
   "metadata": {},
   "outputs": [],
   "source": [
    "denominator_x = weight_sum * np.sum(np.multiply(weight, (x**2)), axis = 1) - np.sum(np.multiply(weight,  x), axis=1)**2\n",
    "denominator_y = weight_sum * np.sum(np.multiply(weight, (y**2)), axis = 1) - np.sum(np.multiply(weight,  y), axis=1)**2"
   ]
  },
  {
   "cell_type": "code",
   "execution_count": 444,
   "id": "dee94a5d-e7ed-41aa-b457-c842dadaa472",
   "metadata": {},
   "outputs": [
    {
     "data": {
      "text/plain": [
       "(260,)"
      ]
     },
     "execution_count": 444,
     "metadata": {},
     "output_type": "execute_result"
    }
   ],
   "source": [
    "denominator_x.shape"
   ]
  },
  {
   "cell_type": "code",
   "execution_count": null,
   "id": "68f146bd-6a93-4799-9f1d-5267dd93b851",
   "metadata": {},
   "outputs": [],
   "source": []
  },
  {
   "cell_type": "code",
   "execution_count": 445,
   "id": "c763af5a-23f8-4bf6-a4b8-dc06b2b4e752",
   "metadata": {},
   "outputs": [
    {
     "data": {
      "text/plain": [
       "array([27.10800422, 25.21338601, 29.18442814, 27.59649804, 26.70265811])"
      ]
     },
     "execution_count": 445,
     "metadata": {},
     "output_type": "execute_result"
    }
   ],
   "source": [
    "denominator_x[0:5]"
   ]
  },
  {
   "cell_type": "code",
   "execution_count": 446,
   "id": "cf5b4f16-c3f5-4e2c-9a85-f57694cfa8fe",
   "metadata": {},
   "outputs": [
    {
     "data": {
      "text/plain": [
       "array([ 8.70438613, 17.30240674, 13.22245209, 44.33641497, 57.65276927])"
      ]
     },
     "execution_count": 446,
     "metadata": {},
     "output_type": "execute_result"
    }
   ],
   "source": [
    "denominator_y[0:5]"
   ]
  },
  {
   "cell_type": "code",
   "execution_count": 447,
   "id": "8bcfb4ca-105a-42c1-847c-8a2a7d8ccd83",
   "metadata": {},
   "outputs": [],
   "source": [
    "local_corrs = numerator / np.sqrt(denominator_x * denominator_y)"
   ]
  },
  {
   "cell_type": "code",
   "execution_count": 448,
   "id": "32ee796f-713b-4980-b766-abbca1cdf775",
   "metadata": {},
   "outputs": [
    {
     "data": {
      "text/plain": [
       "(array([ 9., 25., 27., 37., 26., 43., 37., 35., 14.,  7.]),\n",
       " array([-0.58677481, -0.45093227, -0.31508972, -0.17924717, -0.04340463,\n",
       "         0.09243792,  0.22828047,  0.36412302,  0.49996556,  0.63580811,\n",
       "         0.77165066]),\n",
       " <BarContainer object of 10 artists>)"
      ]
     },
     "execution_count": 448,
     "metadata": {},
     "output_type": "execute_result"
    },
    {
     "data": {
      "image/png": "[encoded data removed]",
      "text/plain": [
       "<Figure size 432x288 with 1 Axes>"
      ]
     },
     "metadata": {
      "needs_background": "light"
     },
     "output_type": "display_data"
    }
   ],
   "source": [
    "hist(local_corrs)"
   ]
  },
  {
   "cell_type": "code",
   "execution_count": null,
   "id": "9f303e6f",
   "metadata": {},
   "outputs": [],
   "source": []
  },
  {
   "cell_type": "code",
   "execution_count": 1040,
   "id": "55890bfd",
   "metadata": {},
   "outputs": [],
   "source": [
    "def _calculate_local_correlations(x, y, weight):\n",
    "    weight_sum = np.sum(weight, axis = 1).flatten()\n",
    "    \n",
    "    numerator = weight_sum * np.sum(np.multiply(weight, x) * y, axis=1) - np.sum(np.multiply(weight, x), axis=1) * np.sum(np.multiply(weight, y), axis=1)\n",
    "    denominator_x = weight_sum * np.sum(np.multiply(weight, (x**2)), axis = 1) - np.sum(np.multiply(weight,  x), axis=1)**2\n",
    "    denominator_y = weight_sum * np.sum(np.multiply(weight, (y**2)), axis = 1) - np.sum(np.multiply(weight,  y), axis=1)**2\n",
    "    \n",
    "    local_corrs = numerator / np.sqrt(denominator_x * denominator_y)\n",
    "    \n",
    "    return local_corrs"
   ]
  },
  {
   "cell_type": "code",
   "execution_count": 1007,
   "id": "1ed30283",
   "metadata": {},
   "outputs": [],
   "source": [
    "x, y = ligand_mat[0, :].A.flatten(), receptor_mat[0, :].A.flatten()"
   ]
  },
  {
   "cell_type": "code",
   "execution_count": 1042,
   "id": "5a68be00",
   "metadata": {},
   "outputs": [
    {
     "data": {
      "text/plain": [
       "masked_array(data=[-0.0013296463642543616, 0.17837803274453945,\n",
       "                   -0.0006992037436245069, 0.0007182991872224397,\n",
       "                   -0.2140343934456279, -0.021551018358946118,\n",
       "                   -0.0023898905141143444, -0.0709542255040695,\n",
       "                   -0.07780877403970567, 0.20931841391807432,\n",
       "                   0.02818586514187108, -0.056877721754768795,\n",
       "                   0.18204359762700678, 0.34405824530618023,\n",
       "                   0.3750139626215644, 0.04185427952343566,\n",
       "                   0.16815623011323214, 0.6157382023493547,\n",
       "                   0.30264625252291527, 0.28213808945298274,\n",
       "                   0.1595449167188581, -0.08491394531201424,\n",
       "                   0.312473112467803, 0.4093990352560375,\n",
       "                   0.4520311504761577, 0.46146112775158005,\n",
       "                   0.34980443904777797, 0.16805522369143244,\n",
       "                   -0.3544333750268271, 0.1440937616898399,\n",
       "                   0.10162337826080263, 0.31026940258049246,\n",
       "                   0.1078670652169219, -0.08878943167266669,\n",
       "                   -0.10398159758218799, 0.1356440969212667,\n",
       "                   0.10524747326565052, 0.19126577719899435,\n",
       "                   0.185502205373353, -0.2608683453763788,\n",
       "                   -0.17872243032805546, 0.48236611235551735,\n",
       "                   -0.3729624469092591, 0.5038092599663824,\n",
       "                   -0.26658932794866746, 0.2774175671800384,\n",
       "                   0.6988836737165919, 0.4201234674300447,\n",
       "                   0.6918573381995405, 0.7716506566483993,\n",
       "                   -0.37968562737212364, -0.033250420189820766,\n",
       "                   0.6593143918700964, 0.41771610697024564,\n",
       "                   0.3018936575860312, 0.3847089632283243,\n",
       "                   0.26794918285076924, 0.014349051056923752,\n",
       "                   0.44410607370582617, 0.015185558933091474,\n",
       "                   -0.1690368067049775, 0.08586034014169328,\n",
       "                   0.03962559294946903, -0.0060415219854426635,\n",
       "                   -0.00208881605390977, 0.26635746565750645,\n",
       "                   -0.12822221367342904, 0.12453832376258428,\n",
       "                   0.3318794685327472, -0.054429794307359315,\n",
       "                   -0.4189553131200652, 0.14216719540808037,\n",
       "                   0.176010733827543, 0.2111918215817593,\n",
       "                   -0.05776979513232288, 0.26885154175242343,\n",
       "                   0.30828783074003246, 0.1513476079265276,\n",
       "                   0.19667976652101601, 0.2639201712148484,\n",
       "                   0.37414971796868424, 0.4403525036229852,\n",
       "                   -0.14398386127561133, -0.17804602924566013,\n",
       "                   -0.21521714264706795, -0.37920728142906596,\n",
       "                   0.4485091423452083, 0.5992981611079816,\n",
       "                   0.6285084336304403, 0.4072686118483107,\n",
       "                   0.4477044539930259, -0.24682255859097546,\n",
       "                   0.22237464518155775, 0.13558675263005465,\n",
       "                   0.33962285238716733, 0.40695795858879735,\n",
       "                   0.4068000040531752, -0.1506647813594122,\n",
       "                   0.5980638670449802, 0.286113015336903,\n",
       "                   0.4259010445646127, 0.6914299506094557,\n",
       "                   0.1810454590066563, 0.5426295982111371,\n",
       "                   0.5647009531945593, 0.3484923394810485,\n",
       "                   -0.20273948276494808, -0.12199067336739605,\n",
       "                   -0.28762258466165286, -0.1903056806401822,\n",
       "                   0.6091809149395218, -0.08618604435570848,\n",
       "                   0.4276800124976708, -0.14025392302232811,\n",
       "                   -0.2207425496588769, -0.07895857688956404,\n",
       "                   -0.32487113355272096, -0.1024333019317144,\n",
       "                   -0.0820172938660006, 0.23540575543137815,\n",
       "                   -0.2215402490758928, -0.1346322496763033,\n",
       "                   -0.25131810580777586, -0.20501110771179987,\n",
       "                   -0.0580420528847284, -0.45149681683902926,\n",
       "                   -0.25157203644655673, -0.2795825038637656,\n",
       "                   -0.43837341337242236, -0.4487036194660092,\n",
       "                   -0.33589239926705655, -0.43046155261574176,\n",
       "                   -0.37673005109378366, -0.11675422394885136,\n",
       "                   -0.4564965142815729, -0.3297626165521511,\n",
       "                   -0.379297228739529, -0.1371452157604769,\n",
       "                   0.2859208432466165, 0.2279717219999121,\n",
       "                   -0.13371271841640606, 0.07374410821724574,\n",
       "                   0.07552746390335036, -0.14791359022641615,\n",
       "                   -0.10366788371102732, 0.033451835790514965,\n",
       "                   0.5070384958523694, 0.43626137724006353,\n",
       "                   -0.008670198076033605, 0.18017102380493588,\n",
       "                   0.30920959501766726, 0.6080772830094835,\n",
       "                   0.6420306499694362, 0.4886357669879483,\n",
       "                   0.38439982665757044, -0.06134509530675061,\n",
       "                   0.05021732265605738, 0.3048503078110496,\n",
       "                   -0.4318633765074039, -0.3509544374807988,\n",
       "                   -0.26458086421960675, -0.11649410841692653,\n",
       "                   0.48969469604950094, 0.286694178675595,\n",
       "                   0.3978984398640364, 0.4256355110633187,\n",
       "                   -0.16251968025936836, -0.4180822529801227,\n",
       "                   0.41739008842345965, -0.3108352790878996,\n",
       "                   0.44726684081975154, -0.24891319892846356,\n",
       "                   0.12797869727246217, -0.40840297613630566,\n",
       "                   -0.2384984864994716, 0.33332219447476186,\n",
       "                   -0.5867748146180014, 0.4251135248640245,\n",
       "                   0.11725918745455173, 0.13189965005316015,\n",
       "                   0.20830301423759132, 0.12207503456028683,\n",
       "                   0.2663620000347282, 0.18954489101961144,\n",
       "                   0.5170550391694377, 0.13668599319207797,\n",
       "                   0.14779841291245124, 0.34866106077732856,\n",
       "                   0.2010441034545679, 0.07314976462334107,\n",
       "                   0.3297483638498082, 0.586986154521043,\n",
       "                   0.21551700666595394, -0.0027274601519726455,\n",
       "                   0.1478603398985148, 0.6545220610089533,\n",
       "                   -0.42564185489169387, -0.32725159860598424,\n",
       "                   -0.23912135970413728, -0.3349263187850988,\n",
       "                   -0.15400768783892801, 0.2414019761102464,\n",
       "                   -0.1866858680151866, -0.42405153734116685,\n",
       "                   -0.3647646885265352, -0.4540254671411432,\n",
       "                   -0.2833537802686421, -0.37620390519646796,\n",
       "                   -0.5211174614977736, 0.21150469798368018,\n",
       "                   0.3212761407507004, 0.44679239248131036,\n",
       "                   0.05513781873770425, -0.14205694611786998,\n",
       "                   -0.010528345209700979, -0.02493991736423867,\n",
       "                   0.6111448645421148, 0.5485085135186487,\n",
       "                   -0.2747260356728262, -0.5487069846192806,\n",
       "                   -0.44405614580191094, -0.16754322231504998,\n",
       "                   -0.14295464172667827, 0.4645710537046784,\n",
       "                   -0.2643892869752853, -0.4695266397958257,\n",
       "                   -0.30920688271906166, -0.22594634945652559,\n",
       "                   -0.49179245963019896, 0.40588422986182665,\n",
       "                   0.09436914913620068, 0.2701381044788643,\n",
       "                   0.10728403634021089, -0.34568342312352657,\n",
       "                   -0.31342510665397433, 0.13578722840733531,\n",
       "                   -0.10793434154869844, -0.12128510281793567,\n",
       "                   0.4319286165868116, 0.07677552833834983,\n",
       "                   0.3522194250972818, 0.09254765712707064,\n",
       "                   0.204033050592143, 0.290956374674374,\n",
       "                   0.4900451353699446, 0.10046548330427274,\n",
       "                   0.051386947848912935, 0.2553004806096046,\n",
       "                   0.25440757093802324, 0.42506733761734045,\n",
       "                   0.38839387621607946, 0.2576606671360636,\n",
       "                   -0.13304288616903903, 0.3805051950023808,\n",
       "                   0.3396713962988813, 0.34326540501523845,\n",
       "                   0.27439306799637786, 0.11166968847730842,\n",
       "                   -0.5495942882257532, -0.1990390246492125],\n",
       "             mask=[False, False, False, False, False, False, False, False,\n",
       "                   False, False, False, False, False, False, False, False,\n",
       "                   False, False, False, False, False, False, False, False,\n",
       "                   False, False, False, False, False, False, False, False,\n",
       "                   False, False, False, False, False, False, False, False,\n",
       "                   False, False, False, False, False, False, False, False,\n",
       "                   False, False, False, False, False, False, False, False,\n",
       "                   False, False, False, False, False, False, False, False,\n",
       "                   False, False, False, False, False, False, False, False,\n",
       "                   False, False, False, False, False, False, False, False,\n",
       "                   False, False, False, False, False, False, False, False,\n",
       "                   False, False, False, False, False, False, False, False,\n",
       "                   False, False, False, False, False, False, False, False,\n",
       "                   False, False, False, False, False, False, False, False,\n",
       "                   False, False, False, False, False, False, False, False,\n",
       "                   False, False, False, False, False, False, False, False,\n",
       "                   False, False, False, False, False, False, False, False,\n",
       "                   False, False, False, False, False, False, False, False,\n",
       "                   False, False, False, False, False, False, False, False,\n",
       "                   False, False, False, False, False, False, False, False,\n",
       "                   False, False, False, False, False, False, False, False,\n",
       "                   False, False, False, False, False, False, False, False,\n",
       "                   False, False, False, False, False, False, False, False,\n",
       "                   False, False, False, False, False, False, False, False,\n",
       "                   False, False, False, False, False, False, False, False,\n",
       "                   False, False, False, False, False, False, False, False,\n",
       "                   False, False, False, False, False, False, False, False,\n",
       "                   False, False, False, False, False, False, False, False,\n",
       "                   False, False, False, False, False, False, False, False,\n",
       "                   False, False, False, False, False, False, False, False,\n",
       "                   False, False, False, False, False, False, False, False,\n",
       "                   False, False, False, False, False, False, False, False,\n",
       "                   False, False, False, False],\n",
       "       fill_value=1e+20)"
      ]
     },
     "execution_count": 1042,
     "metadata": {},
     "output_type": "execute_result"
    }
   ],
   "source": [
    "_calculate_local_correlations(x, y, weight)"
   ]
  },
  {
   "cell_type": "code",
   "execution_count": 1009,
   "id": "6a361093",
   "metadata": {},
   "outputs": [],
   "source": [
    "import scipy.stats as stats"
   ]
  },
  {
   "cell_type": "code",
   "execution_count": 1010,
   "id": "8a5dada6",
   "metadata": {},
   "outputs": [],
   "source": [
    "weight = adata.obsm[\"proximity\"].A\n",
    "weight_sum = np.sum(weight, axis = 1).flatten()"
   ]
  },
  {
   "cell_type": "code",
   "execution_count": 1011,
   "id": "501018f9",
   "metadata": {},
   "outputs": [],
   "source": [
    "msk = np.isnan(weight)\n",
    "# msk = np.logical_not(weight>0).astype(np.int16)"
   ]
  },
  {
   "cell_type": "code",
   "execution_count": 1012,
   "id": "acbd25a7",
   "metadata": {},
   "outputs": [],
   "source": [
    "weight = np.ma.masked_array(weight, mask=msk)"
   ]
  },
  {
   "cell_type": "code",
   "execution_count": 1013,
   "id": "c589be4f",
   "metadata": {},
   "outputs": [],
   "source": [
    "xy_n = len(x)"
   ]
  },
  {
   "cell_type": "code",
   "execution_count": 1027,
   "id": "17184cc7",
   "metadata": {},
   "outputs": [],
   "source": [
    "x_ma = np.reshape(np.repeat(x, xy_n), newshape=(xy_n, xy_n))\n",
    "y_ma = np.reshape(np.repeat(y, xy_n), newshape=(xy_n, xy_n))\n",
    "\n",
    "x_ma = np.ma.masked_array(x_ma, mask=msk, fill_value=np.nan).T\n",
    "y_ma = np.ma.masked_array(y_ma, mask=msk, fill_value=np.nan).T"
   ]
  },
  {
   "cell_type": "code",
   "execution_count": 1028,
   "id": "28f73a96",
   "metadata": {},
   "outputs": [
    {
     "data": {
      "text/plain": [
       "masked_array(\n",
       "  data=[[1.3720041513442993, 3.1812515258789062, 3.032067060470581,\n",
       "         1.2108688354492188, 2.0713627338409424],\n",
       "        [1.3720041513442993, 3.1812515258789062, 3.032067060470581,\n",
       "         1.2108688354492188, 2.0713627338409424],\n",
       "        [1.3720041513442993, 3.1812515258789062, 3.032067060470581,\n",
       "         1.2108688354492188, 2.0713627338409424],\n",
       "        [1.3720041513442993, 3.1812515258789062, 3.032067060470581,\n",
       "         1.2108688354492188, 2.0713627338409424],\n",
       "        [1.3720041513442993, 3.1812515258789062, 3.032067060470581,\n",
       "         1.2108688354492188, 2.0713627338409424]],\n",
       "  mask=[[False, False, False, False, False],\n",
       "        [False, False, False, False, False],\n",
       "        [False, False, False, False, False],\n",
       "        [False, False, False, False, False],\n",
       "        [False, False, False, False, False]],\n",
       "  fill_value=nan,\n",
       "  dtype=float32)"
      ]
     },
     "execution_count": 1028,
     "metadata": {},
     "output_type": "execute_result"
    }
   ],
   "source": [
    "x_ma[0:5, 0:5]"
   ]
  },
  {
   "cell_type": "code",
   "execution_count": 1029,
   "id": "60be5a87",
   "metadata": {},
   "outputs": [],
   "source": [
    "# x_ma = np.ma.masked_array(stats.mstats.rankdata(x_ma, axis=0), msk)\n",
    "# y_ma = np.ma.masked_array(stats.mstats.rankdata(y_ma, axis=0), msk)"
   ]
  },
  {
   "cell_type": "code",
   "execution_count": null,
   "id": "3a67cef4",
   "metadata": {},
   "outputs": [],
   "source": []
  },
  {
   "cell_type": "code",
   "execution_count": 1030,
   "id": "f17f78c5",
   "metadata": {},
   "outputs": [],
   "source": [
    "# vector\n",
    "n1 = (((x_ma * y_ma).dot(weight.T)) * weight_sum)\n",
    "n2 = (x_ma.dot(weight.T)) * (y_ma.dot(weight.T))\n",
    "numerator = n1 - n2\n",
    "\n",
    "denominator_x = (weight_sum * (x_ma ** 2).dot(weight.T)) - (x_ma.dot(weight.T))**2\n",
    "denominator_y = (weight_sum * (y_ma ** 2).dot(weight.T)) - (y_ma.dot(weight.T))**2\n",
    "\n",
    "local_corrs = (numerator / np.sqrt(denominator_x * denominator_y))\n"
   ]
  },
  {
   "cell_type": "code",
   "execution_count": 1026,
   "id": "6d8e527d",
   "metadata": {},
   "outputs": [
    {
     "data": {
      "text/plain": [
       "masked_array(\n",
       "  data=[[3.753620205770858e-06, 3.753620148927439e-06,\n",
       "         3.7536201773491484e-06, ..., 3.7536201205057296e-06,\n",
       "         3.753620148927439e-06, 3.753620148927439e-06],\n",
       "        [1.2458526782666013e-05, 1.2458526668979175e-05,\n",
       "         1.2458526839509432e-05, ..., 1.2458526725822594e-05,\n",
       "         1.2458526725822594e-05, 1.2458526839509432e-05],\n",
       "        [1.9075276895819115e-05, 1.907527712319279e-05,\n",
       "         1.9075277066349372e-05, ..., 1.9075277009505953e-05,\n",
       "         1.9075277009505953e-05, 1.9075277009505953e-05],\n",
       "        ...,\n",
       "        [-4.882652547166799e-06, -4.882652604010218e-06,\n",
       "         -4.882652604010218e-06, ..., -4.882652604010218e-06,\n",
       "         -4.882652604010218e-06, -4.882652547166799e-06],\n",
       "        [-3.0245607831602683e-06, -3.0245607831602683e-06,\n",
       "         -3.0245607831602683e-06, ..., -3.0245607831602683e-06,\n",
       "         -3.0245607263168495e-06, -3.0245607831602683e-06],\n",
       "        [-3.0252716101131227e-06, -3.0252716669565416e-06,\n",
       "         -3.025271553269704e-06, ..., -3.0252716669565416e-06,\n",
       "         -3.0252717237999605e-06, -3.0252716669565416e-06]],\n",
       "  mask=[[False, False, False, ..., False, False, False],\n",
       "        [False, False, False, ..., False, False, False],\n",
       "        [False, False, False, ..., False, False, False],\n",
       "        ...,\n",
       "        [False, False, False, ..., False, False, False],\n",
       "        [False, False, False, ..., False, False, False],\n",
       "        [False, False, False, ..., False, False, False]],\n",
       "  fill_value=1e+20)"
      ]
     },
     "execution_count": 1026,
     "metadata": {},
     "output_type": "execute_result"
    }
   ],
   "source": [
    "numerator"
   ]
  },
  {
   "cell_type": "code",
   "execution_count": null,
   "id": "b39db77e",
   "metadata": {},
   "outputs": [],
   "source": []
  },
  {
   "cell_type": "code",
   "execution_count": null,
   "id": "92c43ec9",
   "metadata": {},
   "outputs": [],
   "source": []
  },
  {
   "cell_type": "code",
   "execution_count": 1018,
   "id": "c2133459",
   "metadata": {},
   "outputs": [
    {
     "data": {
      "text/plain": [
       "masked_array(data=[3.7380960975497146e-06, 9.88419554914799e-06,\n",
       "                   -1.61501870934444e-05, 3.6054849488209584e-06,\n",
       "                   1.972582447251625e-05],\n",
       "             mask=[False, False, False, False, False],\n",
       "       fill_value=1e+20)"
      ]
     },
     "execution_count": 1018,
     "metadata": {},
     "output_type": "execute_result"
    }
   ],
   "source": [
    "denominator_y[0:5,0]"
   ]
  },
  {
   "cell_type": "code",
   "execution_count": 1019,
   "id": "6eb68e5f",
   "metadata": {},
   "outputs": [],
   "source": [
    "# one by one\n",
    "weight_sum = np.sum(weight, axis = 1).flatten()\n",
    "\n",
    "numerator = weight_sum * np.sum(np.multiply(weight, x) * y, axis=1) - np.sum(np.multiply(weight, x), axis=1) * np.sum(np.multiply(weight, y), axis=1)\n",
    "denominator_x = weight_sum * np.sum(np.multiply(weight, (x**2)), axis = 1) - np.sum(np.multiply(weight,  x), axis=1)**2\n",
    "denominator_y = weight_sum * np.sum(np.multiply(weight, (y**2)), axis = 1) - np.sum(np.multiply(weight,  y), axis=1)**2\n",
    "\n",
    "local_corrs = numerator / np.sqrt(denominator_x * denominator_y)"
   ]
  },
  {
   "cell_type": "code",
   "execution_count": null,
   "id": "d958fd3c",
   "metadata": {},
   "outputs": [],
   "source": []
  },
  {
   "cell_type": "code",
   "execution_count": null,
   "id": "927bcf8c",
   "metadata": {},
   "outputs": [],
   "source": []
  },
  {
   "cell_type": "code",
   "execution_count": null,
   "id": "3af7d75c",
   "metadata": {},
   "outputs": [],
   "source": []
  },
  {
   "cell_type": "code",
   "execution_count": 1020,
   "id": "bd576254",
   "metadata": {},
   "outputs": [
    {
     "data": {
      "text/plain": [
       "masked_array(data=[8.70438613109468, 17.302406742871028,\n",
       "                   13.222452090727131, 44.33641497189302,\n",
       "                   57.65276927205707],\n",
       "             mask=[False, False, False, False, False],\n",
       "       fill_value=1e+20)"
      ]
     },
     "execution_count": 1020,
     "metadata": {},
     "output_type": "execute_result"
    }
   ],
   "source": [
    "denominator_y[0:5]"
   ]
  },
  {
   "cell_type": "code",
   "execution_count": 1021,
   "id": "389dffb8",
   "metadata": {},
   "outputs": [
    {
     "data": {
      "text/plain": [
       "(260,)"
      ]
     },
     "execution_count": 1021,
     "metadata": {},
     "output_type": "execute_result"
    }
   ],
   "source": [
    "denominator_x.shape"
   ]
  },
  {
   "cell_type": "code",
   "execution_count": 1023,
   "id": "8921db96",
   "metadata": {},
   "outputs": [
    {
     "data": {
      "text/plain": [
       "(260,)"
      ]
     },
     "execution_count": 1023,
     "metadata": {},
     "output_type": "execute_result"
    }
   ],
   "source": [
    "local_corrs.shape"
   ]
  },
  {
   "cell_type": "code",
   "execution_count": null,
   "id": "c26f05a0",
   "metadata": {},
   "outputs": [],
   "source": []
  },
  {
   "cell_type": "code",
   "execution_count": 809,
   "id": "de418b9e",
   "metadata": {},
   "outputs": [
    {
     "data": {
      "text/plain": [
       "(260, 260)"
      ]
     },
     "execution_count": 809,
     "metadata": {},
     "output_type": "execute_result"
    }
   ],
   "source": [
    "local_corrs.shape"
   ]
  },
  {
   "cell_type": "code",
   "execution_count": 703,
   "id": "de024dff",
   "metadata": {},
   "outputs": [
    {
     "data": {
      "text/plain": [
       "10.061205419854609"
      ]
     },
     "execution_count": 703,
     "metadata": {},
     "output_type": "execute_result"
    }
   ],
   "source": [
    "np.max(local_corrs)"
   ]
  },
  {
   "cell_type": "code",
   "execution_count": 844,
   "id": "37e36438",
   "metadata": {},
   "outputs": [
    {
     "data": {
      "text/plain": [
       "masked_array(\n",
       "  data=[[75.7497886830726, 271.62248807542704, 219.46520940319812, ...,\n",
       "         136.1027212689521, 177.7668196165905, 136.10272126895214],\n",
       "        [141.45279494243564, 507.21937018516695, 409.8224932691665, ...,\n",
       "         254.1539805914565, 331.9562195480249, 254.1539805914566],\n",
       "        [158.2514248769902, 567.4556525353737, 458.49213183012125, ...,\n",
       "         284.33676113027366, 371.3786267823983, 284.33676113027377],\n",
       "        ...,\n",
       "        [173.7869291218481, 623.16263719971, 503.50219392477504, ...,\n",
       "         312.2500324511613, 407.8367770790678, 312.25003245116136],\n",
       "        [123.15534811429066, 441.6086520657751, 356.8104245955004, ...,\n",
       "         221.27821487805335, 289.0164439223555, 221.27821487805343],\n",
       "        [96.69241948496503, 346.71826832974574, 280.1410071089978, ...,\n",
       "         173.73119643993945, 226.9142157582883, 173.73119643993948]],\n",
       "  mask=[[False, False, False, ..., False, False, False],\n",
       "        [False, False, False, ..., False, False, False],\n",
       "        [False, False, False, ..., False, False, False],\n",
       "        ...,\n",
       "        [False, False, False, ..., False, False, False],\n",
       "        [False, False, False, ..., False, False, False],\n",
       "        [False, False, False, ..., False, False, False]],\n",
       "  fill_value=1e+20)"
      ]
     },
     "execution_count": 844,
     "metadata": {},
     "output_type": "execute_result"
    }
   ],
   "source": [
    "(x_ma.dot(weight)) * (y_ma.dot(weight))"
   ]
  },
  {
   "cell_type": "code",
   "execution_count": null,
   "id": "72091ea9-730d-4c65-9208-74a77b5b7e94",
   "metadata": {},
   "outputs": [],
   "source": []
  },
  {
   "cell_type": "markdown",
   "id": "d4a4f75e-dc99-4563-817b-e158a18abf28",
   "metadata": {},
   "source": [
    "All local corrs for all interactions"
   ]
  },
  {
   "cell_type": "code",
   "execution_count": null,
   "id": "1edce62b-dabe-4c36-86db-0e10ca425f09",
   "metadata": {},
   "outputs": [],
   "source": [
    "ligand_mat"
   ]
  },
  {
   "cell_type": "code",
   "execution_count": null,
   "id": "a8df29a7-8dfa-46d4-8b99-bbb7fd694fc0",
   "metadata": {},
   "outputs": [],
   "source": [
    "receptor_mat"
   ]
  },
  {
   "cell_type": "code",
   "execution_count": null,
   "id": "48696316-b3ec-436a-9415-d8faf1991226",
   "metadata": {},
   "outputs": [],
   "source": []
  },
  {
   "cell_type": "code",
   "execution_count": null,
   "id": "e290d38d-33f8-4c10-8e08-99bf519d7e2f",
   "metadata": {},
   "outputs": [],
   "source": [
    "weight = adata.obsm[\"proximity\"].A.T ## does it really need to be A?"
   ]
  },
  {
   "cell_type": "code",
   "execution_count": null,
   "id": "02e1dded-4858-4cee-9a4f-41b22c4494f0",
   "metadata": {},
   "outputs": [],
   "source": [
    "weight_sums = np.sum(weight, axis = 0).flatten()"
   ]
  },
  {
   "cell_type": "code",
   "execution_count": null,
   "id": "44ab4a9c-413d-4684-84fa-0a341715dac9",
   "metadata": {},
   "outputs": [],
   "source": [
    "x_mat = ligand_mat.A.T\n",
    "y_mat = receptor_mat.A.T"
   ]
  },
  {
   "cell_type": "code",
   "execution_count": null,
   "id": "ec508ba1",
   "metadata": {},
   "outputs": [],
   "source": [
    "from scipy.stats import rankdata"
   ]
  },
  {
   "cell_type": "code",
   "execution_count": null,
   "id": "a2266316",
   "metadata": {},
   "outputs": [],
   "source": [
    "# x_mat = rankdata(x_mat, axis=0)\n",
    "# y_mat = rankdata(y_mat, axis=0)"
   ]
  },
  {
   "cell_type": "code",
   "execution_count": null,
   "id": "cbe0dd74",
   "metadata": {},
   "outputs": [],
   "source": []
  },
  {
   "cell_type": "code",
   "execution_count": null,
   "id": "4946f4a8-ef66-4136-92e4-34f495e454ac",
   "metadata": {},
   "outputs": [],
   "source": [
    "n1 = (((x_mat * y_mat).T @ weight) * weight_sums.T)"
   ]
  },
  {
   "cell_type": "code",
   "execution_count": null,
   "id": "6cd8a1f5",
   "metadata": {},
   "outputs": [],
   "source": [
    "n1[0:5, 0]"
   ]
  },
  {
   "cell_type": "code",
   "execution_count": null,
   "id": "2d85c7c2-a647-4821-8887-54fe860151a1",
   "metadata": {},
   "outputs": [],
   "source": [
    "n2 = (x_mat.T @ weight) * (y_mat.T @ weight)"
   ]
  },
  {
   "cell_type": "code",
   "execution_count": null,
   "id": "fc138f8c-7feb-4a06-ab5f-4625ba563d06",
   "metadata": {},
   "outputs": [],
   "source": []
  },
  {
   "cell_type": "code",
   "execution_count": null,
   "id": "cfec59cd-3dd7-4455-9894-3a2471dae55d",
   "metadata": {},
   "outputs": [],
   "source": [
    "numerator = n1 - n2"
   ]
  },
  {
   "cell_type": "code",
   "execution_count": null,
   "id": "64e96a37-7f32-4897-877a-37c800c36335",
   "metadata": {},
   "outputs": [],
   "source": [
    "numerator[0,0:5]"
   ]
  },
  {
   "cell_type": "code",
   "execution_count": null,
   "id": "ba30449e-7478-44ad-abda-f31922cb844e",
   "metadata": {},
   "outputs": [],
   "source": []
  },
  {
   "cell_type": "code",
   "execution_count": null,
   "id": "742ce22f-6a27-420f-adf2-e3e78628adde",
   "metadata": {},
   "outputs": [],
   "source": [
    "denominator_x = (weight_sums * (x_mat ** 2).T @ weight) - (x_mat.T @ weight)**2\n",
    "denominator_y = (weight_sums * (y_mat ** 2).T @ weight) - (y_mat.T @ weight)**2"
   ]
  },
  {
   "cell_type": "code",
   "execution_count": null,
   "id": "c4426886-4b7d-43fe-8547-99ff8a78dcae",
   "metadata": {},
   "outputs": [],
   "source": [
    "denominator_x[0, 0:5]"
   ]
  },
  {
   "cell_type": "code",
   "execution_count": null,
   "id": "fd57e99d-bb33-48da-94ed-a0adeff0f91b",
   "metadata": {},
   "outputs": [],
   "source": [
    "denominator_y[0, 0:5]"
   ]
  },
  {
   "cell_type": "code",
   "execution_count": null,
   "id": "09b3a4a2-1bf9-48ab-8cd9-0b080d3cc99b",
   "metadata": {},
   "outputs": [],
   "source": [
    "local_corrs = (numerator / np.sqrt(denominator_x * denominator_y)).T"
   ]
  },
  {
   "cell_type": "code",
   "execution_count": null,
   "id": "dee4ebbf-1541-4ba0-93f9-d70282a127ef",
   "metadata": {},
   "outputs": [],
   "source": [
    "hist(local_corrs[:,0])"
   ]
  },
  {
   "cell_type": "code",
   "execution_count": null,
   "id": "69cb7ee2",
   "metadata": {},
   "outputs": [],
   "source": [
    "local_corrs[0:5,0]"
   ]
  },
  {
   "cell_type": "code",
   "execution_count": null,
   "id": "dc85144e",
   "metadata": {},
   "outputs": [],
   "source": []
  },
  {
   "attachments": {},
   "cell_type": "markdown",
   "id": "0afdf754",
   "metadata": {},
   "source": [
    "Clean"
   ]
  },
  {
   "cell_type": "code",
   "execution_count": 30,
   "id": "153e7944-adbb-401e-914b-09c227dcfdea",
   "metadata": {},
   "outputs": [],
   "source": [
    "import squidpy as sq\n",
    "import scanpy as sc\n",
    "import pandas as pd\n",
    "import numpy as np\n",
    "from scipy.sparse import csr_matrix, isspmatrix_csr"
   ]
  },
  {
   "cell_type": "code",
   "execution_count": 31,
   "id": "cbb22f08-505c-4087-af67-84577d421f60",
   "metadata": {},
   "outputs": [],
   "source": [
    "import liana as li"
   ]
  },
  {
   "cell_type": "code",
   "execution_count": 32,
   "id": "4f0fe90c-bf2b-44b3-8798-8aaad0e402f1",
   "metadata": {},
   "outputs": [],
   "source": [
    "from matplotlib.pyplot import hist"
   ]
  },
  {
   "cell_type": "code",
   "execution_count": 33,
   "id": "5e601378",
   "metadata": {},
   "outputs": [],
   "source": [
    "from liana.method._global_lr_pipe import _global_lr_pipe\n",
    "from liana.method.sp._spatialdm import _get_ordered_matrix, _standardize_matrix"
   ]
  },
  {
   "cell_type": "code",
   "execution_count": 34,
   "id": "d8c4f241",
   "metadata": {},
   "outputs": [],
   "source": [
    "from scipy.stats import rankdata"
   ]
  },
  {
   "cell_type": "code",
   "execution_count": null,
   "id": "9860d383",
   "metadata": {},
   "outputs": [],
   "source": []
  },
  {
   "cell_type": "code",
   "execution_count": 35,
   "id": "18fb86d6",
   "metadata": {},
   "outputs": [],
   "source": [
    "# toy data and toy resource\n",
    "adata = sc.read_h5ad(\"test_spatial.h5ad\")\n",
    "resource = pd.DataFrame({\"ligand\":[\"Dnm1l\", \"Arrb1\", \"Igf2\"], \"receptor\":[\"Gucy1b3\", \"Mtor\", \"Tuba1a\"]})"
   ]
  },
  {
   "cell_type": "code",
   "execution_count": null,
   "id": "2cf8984e",
   "metadata": {},
   "outputs": [],
   "source": []
  },
  {
   "cell_type": "code",
   "execution_count": 36,
   "id": "503f54d4",
   "metadata": {},
   "outputs": [
    {
     "name": "stdout",
     "output_type": "stream",
     "text": [
      "Using `.X`!\n",
      "Converting mat to CSR format\n"
     ]
    }
   ],
   "source": [
    "temp, lr_res, ligand_pos, receptor_pos = _global_lr_pipe(adata=adata,\n",
    "                                                         resource=resource,\n",
    "                                                         expr_prop=0.05,\n",
    "                                                         use_raw=False,\n",
    "                                                         verbose=True,\n",
    "                                                         layer=None,\n",
    "                                                         _key_cols=['ligand_complex', 'receptor_complex'],\n",
    "                                                         _complex_cols=['ligand_means', 'receptor_means'],\n",
    "                                                         _obms_keys=['proximity'],\n",
    "                                                         resource_name=None\n",
    "                                                         )"
   ]
  },
  {
   "cell_type": "code",
   "execution_count": null,
   "id": "fd4708ad",
   "metadata": {},
   "outputs": [],
   "source": []
  },
  {
   "cell_type": "code",
   "execution_count": 242,
   "id": "0e95b8ba",
   "metadata": {},
   "outputs": [],
   "source": [
    "# ligand-receptor mats\n",
    "ligand_mat = _get_ordered_matrix(temp.X, ligand_pos, lr_res.ligand)\n",
    "receptor_mat = _get_ordered_matrix(temp.X, receptor_pos, lr_res.receptor)"
   ]
  },
  {
   "cell_type": "code",
   "execution_count": 243,
   "id": "09d88faa",
   "metadata": {},
   "outputs": [],
   "source": [
    "x_mat = ligand_mat.A\n",
    "y_mat = receptor_mat.A"
   ]
  },
  {
   "cell_type": "code",
   "execution_count": 244,
   "id": "9133666e",
   "metadata": {},
   "outputs": [],
   "source": [
    "dist = adata.obsm['proximity']"
   ]
  },
  {
   "cell_type": "code",
   "execution_count": 266,
   "id": "3573cd36",
   "metadata": {},
   "outputs": [],
   "source": [
    "def calculate_local_correlations(x_mat, y_mat, dist, method=\"pearson\"):\n",
    "    if method not in [\"pearson\", \"spearman\", \"spearman_nz\"]:\n",
    "        raise ValueError(\"method must be one of 'pearson', 'spearman', 'spearman_nz'\")\n",
    "    \n",
    "    weight = dist.A.T ## does it really need to be A?\n",
    "    weight_sums = np.sum(weight, axis = 0).flatten()\n",
    "        \n",
    "    if method==\"spearman\":\n",
    "        x_mat = rankdata(x_mat, axis=1)\n",
    "        y_mat = rankdata(y_mat, axis=1)\n",
    "    \n",
    "    # standard pearson\n",
    "    n1 = (((x_mat * y_mat).dot(weight)) * weight_sums)\n",
    "    n2 = (x_mat.dot(weight)) * (y_mat.dot(weight))\n",
    "    numerator = n1 - n2\n",
    "    \n",
    "    denominator_x = (weight_sums * (x_mat ** 2).dot(weight)) - (x_mat.dot(weight))**2\n",
    "    denominator_y = (weight_sums * (y_mat ** 2).dot(weight)) - (y_mat.dot(weight))**2\n",
    "    \n",
    "    local_corrs = (numerator / np.sqrt(denominator_x * denominator_y))\n",
    "    \n",
    "    return local_corrs"
   ]
  },
  {
   "cell_type": "code",
   "execution_count": 267,
   "id": "297b3e2d",
   "metadata": {},
   "outputs": [],
   "source": [
    "local_pc = calculate_local_correlations(x_mat, y_mat, dist, method=\"pearson\")\n",
    "local_sp = calculate_local_correlations(x_mat, y_mat, dist, method=\"spearman\")"
   ]
  },
  {
   "cell_type": "code",
   "execution_count": null,
   "id": "8f6786f7",
   "metadata": {},
   "outputs": [],
   "source": []
  },
  {
   "cell_type": "code",
   "execution_count": 370,
   "id": "0cc126f6",
   "metadata": {},
   "outputs": [],
   "source": [
    "weight = dist.A.T ## does it really need to be A?"
   ]
  },
  {
   "cell_type": "code",
   "execution_count": 371,
   "id": "41e77e49",
   "metadata": {},
   "outputs": [
    {
     "data": {
      "text/plain": [
       "15.733572500753096"
      ]
     },
     "execution_count": 371,
     "metadata": {},
     "output_type": "execute_result"
    }
   ],
   "source": [
    "np.mean(x_mat.dot(weight))"
   ]
  },
  {
   "cell_type": "code",
   "execution_count": null,
   "id": "6aa2b4c6",
   "metadata": {},
   "outputs": [],
   "source": []
  },
  {
   "cell_type": "code",
   "execution_count": 529,
   "id": "663b3b97",
   "metadata": {},
   "outputs": [],
   "source": [
    "msk = np.int16(weight==0)"
   ]
  },
  {
   "cell_type": "code",
   "execution_count": 530,
   "id": "9008a298",
   "metadata": {},
   "outputs": [],
   "source": [
    "weight2 = np.ma.masked_array(data = weight, mask=msk, fill_value=np.nan)"
   ]
  },
  {
   "cell_type": "code",
   "execution_count": 531,
   "id": "abae78a5",
   "metadata": {},
   "outputs": [],
   "source": [
    "x_mat2 = np.ma.masked_array(x_mat, mask=np.isnan(x_mat))"
   ]
  },
  {
   "cell_type": "code",
   "execution_count": 532,
   "id": "d112e5d9",
   "metadata": {},
   "outputs": [
    {
     "data": {
      "text/plain": [
       "(3, 260)"
      ]
     },
     "execution_count": 532,
     "metadata": {},
     "output_type": "execute_result"
    }
   ],
   "source": [
    "x_mat.shape"
   ]
  },
  {
   "cell_type": "code",
   "execution_count": 533,
   "id": "411f334b",
   "metadata": {},
   "outputs": [],
   "source": [
    "xx = np.ma.masked_array.dot(x_mat2, weight2)"
   ]
  },
  {
   "cell_type": "code",
   "execution_count": 377,
   "id": "5a486280",
   "metadata": {},
   "outputs": [
    {
     "data": {
      "text/plain": [
       "masked_array(\n",
       "  data=[[2.0, --, 1.333333333333334, ..., --, --, 1.166666666666666],\n",
       "        [1.0, 2.0, 1.833333333333334, ..., --, --, 1.333333333333334],\n",
       "        [1.666666666666666, 1.833333333333334, 2.0, ..., --, --,\n",
       "         1.666666666666666],\n",
       "        ...,\n",
       "        [--, --, --, ..., 2.0, --, --],\n",
       "        [--, --, --, ..., --, 2.0, --],\n",
       "        [1.333333333333334, 1.166666666666666, 1.666666666666666, ...,\n",
       "         --, --, 2.0]],\n",
       "  mask=[[False,  True, False, ...,  True,  True, False],\n",
       "        [False, False, False, ...,  True,  True, False],\n",
       "        [False, False, False, ...,  True,  True, False],\n",
       "        ...,\n",
       "        [ True,  True,  True, ..., False,  True,  True],\n",
       "        [ True,  True,  True, ...,  True, False,  True],\n",
       "        [False, False, False, ...,  True,  True, False]],\n",
       "  fill_value=nan)"
      ]
     },
     "execution_count": 377,
     "metadata": {},
     "output_type": "execute_result"
    }
   ],
   "source": [
    "weight2 * 2"
   ]
  },
  {
   "cell_type": "code",
   "execution_count": 378,
   "id": "70399a35",
   "metadata": {},
   "outputs": [
    {
     "data": {
      "text/plain": [
       "15.733572500753096"
      ]
     },
     "execution_count": 378,
     "metadata": {},
     "output_type": "execute_result"
    }
   ],
   "source": [
    "np.mean(xx)"
   ]
  },
  {
   "cell_type": "code",
   "execution_count": null,
   "id": "6b1a6a64",
   "metadata": {},
   "outputs": [],
   "source": []
  },
  {
   "cell_type": "code",
   "execution_count": 268,
   "id": "9af0767d",
   "metadata": {},
   "outputs": [
    {
     "data": {
      "text/plain": [
       "(array([ 3., 12., 20., 38., 36., 50., 36., 37., 23.,  5.]),\n",
       " array([-0.70673671, -0.57224594, -0.43775517, -0.30326441, -0.16877364,\n",
       "        -0.03428288,  0.10020789,  0.23469865,  0.36918942,  0.50368018,\n",
       "         0.63817095]),\n",
       " <BarContainer object of 10 artists>)"
      ]
     },
     "execution_count": 268,
     "metadata": {},
     "output_type": "execute_result"
    },
    {
     "data": {
      "image/png": "[encoded data removed]",
      "text/plain": [
       "<Figure size 432x288 with 1 Axes>"
      ]
     },
     "metadata": {
      "needs_background": "light"
     },
     "output_type": "display_data"
    }
   ],
   "source": [
    "hist(local_spnz[0,:])"
   ]
  },
  {
   "cell_type": "code",
   "execution_count": 269,
   "id": "2b130315",
   "metadata": {},
   "outputs": [],
   "source": [
    "from scipy.stats import spearmanr, pearsonr"
   ]
  },
  {
   "cell_type": "code",
   "execution_count": 271,
   "id": "55b3f299",
   "metadata": {},
   "outputs": [
    {
     "data": {
      "text/plain": [
       "(1.0, 0.0)"
      ]
     },
     "execution_count": 271,
     "metadata": {},
     "output_type": "execute_result"
    }
   ],
   "source": [
    "pearsonr(local_spnz[0,:], local_sp[0,:])"
   ]
  },
  {
   "cell_type": "code",
   "execution_count": null,
   "id": "7f732c19",
   "metadata": {},
   "outputs": [],
   "source": []
  },
  {
   "attachments": {},
   "cell_type": "markdown",
   "id": "20c66314",
   "metadata": {},
   "source": [
    "local p-values"
   ]
  },
  {
   "cell_type": "code",
   "execution_count": 108,
   "id": "2d2a26c4",
   "metadata": {},
   "outputs": [],
   "source": [
    "from numpy import random\n",
    "from tqdm import tqdm"
   ]
  },
  {
   "cell_type": "code",
   "execution_count": 109,
   "id": "af430595",
   "metadata": {},
   "outputs": [],
   "source": [
    "rng = random.default_rng()\n",
    "n_perm = 1000\n",
    "positive_only = True # remove this option?"
   ]
  },
  {
   "cell_type": "code",
   "execution_count": 110,
   "id": "8bb8d8c3",
   "metadata": {},
   "outputs": [
    {
     "data": {
      "text/plain": [
       "(3, 260)"
      ]
     },
     "execution_count": 110,
     "metadata": {},
     "output_type": "execute_result"
    }
   ],
   "source": [
    "local_pc.shape"
   ]
  },
  {
   "cell_type": "code",
   "execution_count": 131,
   "id": "b9f0a2a7",
   "metadata": {},
   "outputs": [],
   "source": [
    "def _get_local_permutation_pvals(x_mat, y_mat, truth, function, dist, n_perm, positive_only=True, **kwargs):\n",
    "    xy_n = truth.shape[0]\n",
    "    spot_n = truth.shape[1]\n",
    "    \n",
    "    # permutation cubes to be populated\n",
    "    local_pvals = np.zeros((xy_n, spot_n))\n",
    "    \n",
    "    # shuffle the matrix\n",
    "    for i in tqdm(range(n_perm)):\n",
    "        _idx = rng.permutation(spot_n)\n",
    "        perm_r = function(x_mat = x_mat[:, _idx], y_mat=y_mat, dist=dist, **kwargs)\n",
    "        if positive_only:\n",
    "            local_pvals += np.array(perm_r >= truth, dtype=int)\n",
    "        else:\n",
    "            local_pvals += (np.array(np.abs(perm_r) >= np.abs(truth), dtype=int))\n",
    "\n",
    "    local_pvals = local_pvals / n_perm\n",
    "    \n",
    "    return local_pvals\n",
    "    "
   ]
  },
  {
   "cell_type": "code",
   "execution_count": 132,
   "id": "ff308c66",
   "metadata": {},
   "outputs": [
    {
     "name": "stderr",
     "output_type": "stream",
     "text": [
      "100%|██████████| 1000/1000 [00:00<00:00, 1839.79it/s]\n"
     ]
    }
   ],
   "source": [
    "local_pvals = _get_local_permutation_pvals(x_mat, y_mat, local_pc, calculate_local_correlations, dist, n_perm, positive_only=True)"
   ]
  },
  {
   "cell_type": "code",
   "execution_count": 133,
   "id": "7c8b5359",
   "metadata": {},
   "outputs": [
    {
     "data": {
      "text/plain": [
       "260"
      ]
     },
     "execution_count": 133,
     "metadata": {},
     "output_type": "execute_result"
    }
   ],
   "source": [
    "local_pc.shape[1]"
   ]
  },
  {
   "cell_type": "code",
   "execution_count": 135,
   "id": "4e5f6f90",
   "metadata": {},
   "outputs": [
    {
     "data": {
      "text/plain": [
       "array([[0.488, 0.207, 0.006],\n",
       "       [0.265, 0.098, 0.018],\n",
       "       [0.471, 0.156, 0.009],\n",
       "       [0.501, 0.292, 0.202],\n",
       "       [0.714, 0.397, 0.591],\n",
       "       [0.505, 0.111, 0.628],\n",
       "       [0.526, 0.172, 0.306],\n",
       "       [0.563, 0.213, 0.467],\n",
       "       [0.587, 0.595, 0.341],\n",
       "       [0.279, 0.183, 0.638],\n",
       "       [0.464, 0.652, 0.201],\n",
       "       [0.52 , 0.015, 0.739],\n",
       "       [0.27 , 0.027, 0.038],\n",
       "       [0.134, 0.018, 0.004],\n",
       "       [0.122, 0.096, 0.01 ],\n",
       "       [0.44 , 0.076, 0.402],\n",
       "       [0.279, 0.005, 0.086],\n",
       "       [0.034, 0.142, 0.216],\n",
       "       [0.21 , 0.411, 0.506],\n",
       "       [0.209, 0.24 , 0.266],\n",
       "       [0.342, 0.082, 0.525],\n",
       "       [0.536, 0.031, 0.465],\n",
       "       [0.186, 0.749, 0.194],\n",
       "       [0.149, 0.668, 0.426],\n",
       "       [0.102, 0.661, 0.127],\n",
       "       [0.121, 0.326, 0.316],\n",
       "       [0.143, 0.427, 0.515],\n",
       "       [0.283, 0.368, 0.77 ],\n",
       "       [0.889, 0.346, 0.963],\n",
       "       [0.324, 0.394, 0.543],\n",
       "       [0.378, 0.683, 0.097],\n",
       "       [0.196, 0.66 , 0.475],\n",
       "       [0.379, 0.41 , 0.704],\n",
       "       [0.595, 0.878, 0.476],\n",
       "       [0.621, 0.593, 0.538],\n",
       "       [0.347, 0.423, 0.902],\n",
       "       [0.376, 0.193, 0.96 ],\n",
       "       [0.302, 0.282, 0.902],\n",
       "       [0.278, 0.595, 0.481],\n",
       "       [0.79 , 0.626, 0.804],\n",
       "       [0.671, 0.84 , 0.958],\n",
       "       [0.104, 0.839, 0.44 ],\n",
       "       [0.849, 0.557, 0.536],\n",
       "       [0.09 , 0.342, 0.911],\n",
       "       [0.755, 0.597, 0.335],\n",
       "       [0.18 , 0.534, 0.855],\n",
       "       [0.026, 0.743, 0.972],\n",
       "       [0.119, 0.102, 0.906],\n",
       "       [0.008, 0.894, 0.129],\n",
       "       [0.006, 0.945, 0.547],\n",
       "       [0.886, 0.354, 0.462],\n",
       "       [0.522, 0.584, 0.204],\n",
       "       [0.025, 0.336, 0.917],\n",
       "       [0.121, 0.188, 0.008],\n",
       "       [0.197, 0.3  , 0.173],\n",
       "       [0.142, 0.466, 0.061],\n",
       "       [0.219, 0.205, 0.1  ],\n",
       "       [0.48 , 0.714, 0.085],\n",
       "       [0.122, 0.945, 0.009],\n",
       "       [0.466, 0.902, 0.157],\n",
       "       [0.686, 0.939, 0.142],\n",
       "       [0.414, 0.457, 0.223],\n",
       "       [0.447, 0.843, 0.1  ],\n",
       "       [0.533, 0.276, 0.194],\n",
       "       [0.475, 0.508, 0.021],\n",
       "       [0.208, 0.182, 0.17 ],\n",
       "       [0.643, 0.233, 0.403],\n",
       "       [0.351, 0.118, 0.383],\n",
       "       [0.161, 0.386, 0.022],\n",
       "       [0.579, 0.592, 0.819],\n",
       "       [0.888, 0.57 , 0.681],\n",
       "       [0.339, 0.088, 0.672],\n",
       "       [0.314, 0.099, 0.424],\n",
       "       [0.296, 0.272, 0.638],\n",
       "       [0.574, 0.347, 0.337],\n",
       "       [0.249, 0.341, 0.576],\n",
       "       [0.216, 0.129, 0.283],\n",
       "       [0.334, 0.482, 0.248],\n",
       "       [0.296, 0.287, 0.256],\n",
       "       [0.251, 0.051, 0.52 ],\n",
       "       [0.138, 0.491, 0.495],\n",
       "       [0.105, 0.341, 0.15 ],\n",
       "       [0.686, 0.325, 0.251],\n",
       "       [0.725, 0.46 , 0.255],\n",
       "       [0.734, 0.856, 0.275],\n",
       "       [0.871, 0.203, 0.317],\n",
       "       [0.111, 0.446, 0.042],\n",
       "       [0.046, 0.297, 0.04 ],\n",
       "       [0.05 , 0.437, 0.054],\n",
       "       [0.125, 0.921, 0.026],\n",
       "       [0.102, 0.085, 0.568],\n",
       "       [0.736, 0.789, 0.55 ],\n",
       "       [0.257, 0.36 , 0.707],\n",
       "       [0.366, 0.018, 0.702],\n",
       "       [0.182, 0.147, 0.779],\n",
       "       [0.101, 0.942, 0.218],\n",
       "       [0.11 , 0.66 , 0.365],\n",
       "       [0.648, 0.051, 0.87 ],\n",
       "       [0.05 , 0.39 , 0.905],\n",
       "       [0.182, 0.036, 0.834],\n",
       "       [0.12 , 0.921, 0.075],\n",
       "       [0.012, 0.853, 0.335],\n",
       "       [0.314, 0.967, 0.035],\n",
       "       [0.037, 0.68 , 0.035],\n",
       "       [0.03 , 0.784, 0.03 ],\n",
       "       [0.147, 0.988, 0.158],\n",
       "       [0.753, 0.164, 0.387],\n",
       "       [0.659, 0.787, 0.498],\n",
       "       [0.803, 0.408, 0.466],\n",
       "       [0.737, 0.094, 0.347],\n",
       "       [0.041, 0.451, 0.154],\n",
       "       [0.636, 0.846, 0.017],\n",
       "       [0.113, 0.547, 0.043],\n",
       "       [0.677, 0.066, 0.21 ],\n",
       "       [0.721, 0.201, 0.11 ],\n",
       "       [0.574, 0.007, 0.386],\n",
       "       [0.834, 0.507, 0.074],\n",
       "       [0.613, 0.513, 0.062],\n",
       "       [0.563, 0.022, 0.172],\n",
       "       [0.241, 0.027, 0.284],\n",
       "       [0.715, 0.397, 0.34 ],\n",
       "       [0.629, 0.267, 0.086],\n",
       "       [0.756, 0.593, 0.021],\n",
       "       [0.685, 0.454, 0.37 ],\n",
       "       [0.6  , 0.393, 0.267],\n",
       "       [0.905, 0.613, 0.045],\n",
       "       [0.726, 0.417, 0.924],\n",
       "       [0.777, 0.532, 0.914],\n",
       "       [0.877, 0.334, 0.812],\n",
       "       [0.869, 0.25 , 0.833],\n",
       "       [0.793, 0.302, 0.493],\n",
       "       [0.88 , 0.454, 0.795],\n",
       "       [0.85 , 0.453, 0.344],\n",
       "       [0.616, 0.381, 0.085],\n",
       "       [0.906, 0.63 , 0.551],\n",
       "       [0.779, 0.861, 0.881],\n",
       "       [0.85 , 0.529, 0.101],\n",
       "       [0.603, 0.847, 0.398],\n",
       "       [0.217, 0.65 , 0.379],\n",
       "       [0.263, 0.706, 0.225],\n",
       "       [0.604, 0.416, 0.06 ],\n",
       "       [0.407, 0.133, 0.195],\n",
       "       [0.393, 0.015, 0.834],\n",
       "       [0.648, 0.097, 0.603],\n",
       "       [0.572, 0.255, 0.895],\n",
       "       [0.408, 0.634, 0.601],\n",
       "       [0.048, 0.807, 0.087],\n",
       "       [0.078, 0.891, 0.168],\n",
       "       [0.501, 0.541, 0.636],\n",
       "       [0.305, 0.905, 0.281],\n",
       "       [0.185, 0.695, 0.355],\n",
       "       [0.03 , 0.789, 0.656],\n",
       "       [0.03 , 0.619, 0.527],\n",
       "       [0.095, 0.879, 0.404],\n",
       "       [0.175, 0.634, 0.575],\n",
       "       [0.583, 0.484, 0.189],\n",
       "       [0.425, 0.851, 0.202],\n",
       "       [0.208, 0.504, 0.458],\n",
       "       [0.937, 0.453, 0.733],\n",
       "       [0.855, 0.508, 0.34 ],\n",
       "       [0.726, 0.893, 0.03 ],\n",
       "       [0.624, 0.667, 0.441],\n",
       "       [0.057, 0.47 , 0.098],\n",
       "       [0.18 , 0.333, 0.85 ],\n",
       "       [0.119, 0.536, 0.933],\n",
       "       [0.103, 0.649, 0.504],\n",
       "       [0.676, 0.482, 0.066],\n",
       "       [0.861, 0.522, 0.48 ],\n",
       "       [0.113, 0.523, 0.084],\n",
       "       [0.811, 0.645, 0.342],\n",
       "       [0.059, 0.764, 0.026],\n",
       "       [0.711, 0.183, 0.059],\n",
       "       [0.333, 0.815, 0.703],\n",
       "       [0.884, 0.391, 0.417],\n",
       "       [0.768, 0.55 , 0.385],\n",
       "       [0.188, 0.41 , 0.367],\n",
       "       [0.996, 0.589, 0.182],\n",
       "       [0.146, 0.927, 0.233],\n",
       "       [0.363, 1.   , 0.099],\n",
       "       [0.335, 0.963, 0.328],\n",
       "       [0.266, 1.   , 0.165],\n",
       "       [0.361, 0.999, 0.404],\n",
       "       [0.233, 0.972, 0.136],\n",
       "       [0.283, 0.963, 0.218],\n",
       "       [0.075, 0.52 , 0.356],\n",
       "       [0.342, 0.973, 0.421],\n",
       "       [0.32 , 0.426, 0.284],\n",
       "       [0.096, 0.92 , 0.171],\n",
       "       [0.269, 0.097, 0.227],\n",
       "       [0.398, 0.896, 0.407],\n",
       "       [0.226, 0.22 , 0.123],\n",
       "       [0.068, 0.195, 0.092],\n",
       "       [0.263, 0.551, 0.848],\n",
       "       [0.515, 0.482, 0.814],\n",
       "       [0.342, 0.368, 0.859],\n",
       "       [0.03 , 0.413, 0.09 ],\n",
       "       [0.902, 0.294, 0.401],\n",
       "       [0.794, 0.7  , 0.234],\n",
       "       [0.811, 0.134, 0.495],\n",
       "       [0.869, 0.174, 0.324],\n",
       "       [0.676, 0.878, 0.044],\n",
       "       [0.243, 0.862, 0.071],\n",
       "       [0.692, 0.894, 0.117],\n",
       "       [0.899, 0.196, 0.433],\n",
       "       [0.838, 0.778, 0.201],\n",
       "       [0.894, 0.43 , 0.385],\n",
       "       [0.822, 0.428, 0.084],\n",
       "       [0.85 , 0.963, 0.348],\n",
       "       [0.961, 0.695, 0.409],\n",
       "       [0.23 , 0.989, 0.167],\n",
       "       [0.187, 1.   , 0.165],\n",
       "       [0.081, 0.829, 0.05 ],\n",
       "       [0.422, 0.379, 0.098],\n",
       "       [0.658, 0.077, 0.25 ],\n",
       "       [0.507, 0.059, 0.241],\n",
       "       [0.535, 0.206, 0.445],\n",
       "       [0.031, 0.025, 0.327],\n",
       "       [0.086, 0.122, 0.517],\n",
       "       [0.778, 0.34 , 0.072],\n",
       "       [0.937, 0.632, 0.011],\n",
       "       [0.899, 0.705, 0.019],\n",
       "       [0.665, 0.585, 0.028],\n",
       "       [0.641, 0.256, 0.038],\n",
       "       [0.14 , 0.237, 0.558],\n",
       "       [0.762, 0.367, 0.147],\n",
       "       [0.898, 0.329, 0.487],\n",
       "       [0.826, 0.367, 0.679],\n",
       "       [0.693, 0.336, 0.336],\n",
       "       [0.915, 0.253, 0.452],\n",
       "       [0.106, 0.475, 0.055],\n",
       "       [0.38 , 0.599, 0.084],\n",
       "       [0.233, 0.603, 0.43 ],\n",
       "       [0.405, 0.524, 0.223],\n",
       "       [0.83 , 0.509, 0.096],\n",
       "       [0.799, 0.287, 0.112],\n",
       "       [0.337, 0.548, 0.03 ],\n",
       "       [0.6  , 0.491, 0.047],\n",
       "       [0.646, 0.822, 0.133],\n",
       "       [0.125, 0.592, 0.083],\n",
       "       [0.401, 0.62 , 0.068],\n",
       "       [0.181, 0.533, 0.096],\n",
       "       [0.378, 0.915, 0.233],\n",
       "       [0.266, 0.825, 0.596],\n",
       "       [0.218, 0.198, 0.026],\n",
       "       [0.097, 0.122, 0.028],\n",
       "       [0.351, 0.162, 0.282],\n",
       "       [0.419, 0.272, 0.278],\n",
       "       [0.218, 0.422, 0.115],\n",
       "       [0.201, 0.192, 0.192],\n",
       "       [0.099, 0.234, 0.058],\n",
       "       [0.154, 0.662, 0.128],\n",
       "       [0.232, 0.961, 0.075],\n",
       "       [0.653, 0.965, 0.293],\n",
       "       [0.131, 0.87 , 0.051],\n",
       "       [0.14 , 0.848, 0.204],\n",
       "       [0.163, 0.896, 0.193],\n",
       "       [0.22 , 0.97 , 0.031],\n",
       "       [0.354, 0.969, 0.047],\n",
       "       [0.947, 0.442, 0.271],\n",
       "       [0.683, 0.223, 0.01 ]])"
      ]
     },
     "execution_count": 135,
     "metadata": {},
     "output_type": "execute_result"
    }
   ],
   "source": [
    "local_pvals.T"
   ]
  },
  {
   "cell_type": "code",
   "execution_count": null,
   "id": "1f30255c",
   "metadata": {},
   "outputs": [],
   "source": [
    "spot_n = pc.shape[1]  # n of 1:1 edges \n",
    "xy_n = pc.shape[0] # n of x-y pairs (e.g. lrs)\n",
    "\n",
    "# permutation cubes to be populated\n",
    "local_pvals = np.zeros((xy_n, spot_n))"
   ]
  },
  {
   "cell_type": "code",
   "execution_count": null,
   "id": "5625143f",
   "metadata": {},
   "outputs": [],
   "source": [
    "\n",
    "for i in tqdm(range(n_perm)):\n",
    "    _idx = rng.permutation(x_mat.shape[0])\n",
    "    perm_r = calculate_local_correlations(x_mat[_idx, :], y_mat, dist)\n",
    "    if positive_only:\n",
    "        local_pvals += np.array(perm_r >= pc, dtype=int)\n",
    "    else:\n",
    "        local_pvals += (np.array(np.abs(perm_r) >= np.abs(pc), dtype=int))\n",
    "\n",
    "local_pvals = local_pvals / n_perm"
   ]
  },
  {
   "cell_type": "code",
   "execution_count": null,
   "id": "55cfd4e0",
   "metadata": {},
   "outputs": [],
   "source": [
    "local_pvals.shape"
   ]
  }
 ],
 "metadata": {
  "kernelspec": {
   "display_name": "liana-py",
   "language": "python",
   "name": "liana-py"
  },
  "language_info": {
   "codemirror_mode": {
    "name": "ipython",
    "version": 3
   },
   "file_extension": ".py",
   "mimetype": "text/x-python",
   "name": "python",
   "nbconvert_exporter": "python",
   "pygments_lexer": "ipython3",
   "version": "3.8.8"
  }
 },
 "nbformat": 4,
 "nbformat_minor": 5
}
