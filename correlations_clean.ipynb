{
 "cells": [
  {
   "cell_type": "code",
   "execution_count": 3,
   "id": "afe4cf0d",
   "metadata": {},
   "outputs": [],
   "source": [
    "import numba as nb"
   ]
  },
  {
   "cell_type": "code",
   "execution_count": 4,
   "id": "153e7944-adbb-401e-914b-09c227dcfdea",
   "metadata": {},
   "outputs": [],
   "source": [
    "import squidpy as sq\n",
    "import scanpy as sc\n",
    "import pandas as pd\n",
    "import numpy as np\n",
    "from scipy.sparse import csr_matrix, isspmatrix_csr"
   ]
  },
  {
   "cell_type": "code",
   "execution_count": 5,
   "id": "cbb22f08-505c-4087-af67-84577d421f60",
   "metadata": {},
   "outputs": [],
   "source": [
    "import liana as li"
   ]
  },
  {
   "cell_type": "code",
   "execution_count": 6,
   "id": "4f0fe90c-bf2b-44b3-8798-8aaad0e402f1",
   "metadata": {},
   "outputs": [],
   "source": [
    "from matplotlib.pyplot import hist"
   ]
  },
  {
   "cell_type": "code",
   "execution_count": 7,
   "id": "22a8de43-4ff7-4e93-9056-e27ba4a0afef",
   "metadata": {},
   "outputs": [],
   "source": [
    "from liana.method.sp._spatial_pipe import _global_lr_pipe\n",
    "from liana.method.sp._spatialdm import _get_ordered_matrix, _standardize_matrix"
   ]
  },
  {
   "cell_type": "code",
   "execution_count": null,
   "id": "f29e53f0",
   "metadata": {},
   "outputs": [],
   "source": []
  },
  {
   "cell_type": "code",
   "execution_count": 8,
   "id": "a833a72a",
   "metadata": {},
   "outputs": [],
   "source": [
    "from liana.method.sp._bivariate_funs import _masked_coexpressions, _vectorized_correlations, _vectorized_wcosine, _vectorized_jaccard, _masked_spearman, _masked_pearson"
   ]
  },
  {
   "cell_type": "code",
   "execution_count": 9,
   "id": "8a5790dd",
   "metadata": {},
   "outputs": [],
   "source": [
    "from liana.method.sp._spatialdm import _local_morans, _standardize_matrix"
   ]
  },
  {
   "cell_type": "code",
   "execution_count": null,
   "id": "10a244df",
   "metadata": {},
   "outputs": [],
   "source": []
  },
  {
   "cell_type": "code",
   "execution_count": null,
   "id": "b9f16311-988d-4b04-b544-3b9ae80f0b71",
   "metadata": {},
   "outputs": [],
   "source": []
  },
  {
   "cell_type": "code",
   "execution_count": null,
   "id": "1caf6c62-a727-40c5-94a9-5d6dcd535c48",
   "metadata": {},
   "outputs": [],
   "source": [
    "# # scHOT data\n",
    "# counts = pd.read_csv(\"data/counts_mat.csv\")\n",
    "# weights = pd.read_csv(\"data/weight_mat.csv\")\n",
    "# var = pd.DataFrame(counts[['Unnamed: 0']]).set_index('Unnamed: 0')\n",
    "# var.index.name = None\n",
    "# adata = sc.AnnData(X=csr_matrix(counts.drop(counts.columns[0], axis=1), dtype=np.float32).T, var=var)\n",
    "# adata.obsm['proximity'] = csr_matrix(weights)"
   ]
  },
  {
   "cell_type": "code",
   "execution_count": null,
   "id": "a9f07752",
   "metadata": {},
   "outputs": [],
   "source": []
  },
  {
   "cell_type": "code",
   "execution_count": 10,
   "id": "3b30f85e",
   "metadata": {},
   "outputs": [],
   "source": [
    "# scHOT data test\n",
    "adata = sc.read_h5ad(\"test_spatial.h5ad\")\n",
    "resource = pd.DataFrame({\"ligand\":[\"Dnm1l\", \"Arrb1\", \"Igf2\", \"Dnm1l\"], \"receptor\":[\"Gucy1b3\", \"Mtor\", \"Tuba1a\", \"Fam63b\"]})\n",
    "dist = adata.obsm['proximity']"
   ]
  },
  {
   "cell_type": "code",
   "execution_count": 11,
   "id": "e6020530",
   "metadata": {},
   "outputs": [],
   "source": [
    "n_perm = 100\n",
    "seed = 0"
   ]
  },
  {
   "cell_type": "code",
   "execution_count": null,
   "id": "58cb788f",
   "metadata": {},
   "outputs": [],
   "source": []
  },
  {
   "cell_type": "code",
   "execution_count": 12,
   "id": "442d2fdf",
   "metadata": {},
   "outputs": [],
   "source": [
    "# full visium slide\n",
    "# load the pre-processed dataset\n",
    "img = sq.datasets.visium_hne_image()\n",
    "adata = sq.datasets.visium_hne_adata()\n",
    "\n",
    "li.mt.get_spatial_proximity(adata=adata, parameter=200, bypass_diagonal=False, cutoff=0.1, family=\"exponential\")\n",
    "dist = adata.obsm['proximity']\n",
    "\n",
    "my_p = li.pl.proximity_plot(adata, idx=100)\n",
    "resource = li.resource.select_resource(\"mouseconsensus\")"
   ]
  },
  {
   "cell_type": "code",
   "execution_count": null,
   "id": "a4aac8f6",
   "metadata": {},
   "outputs": [],
   "source": []
  },
  {
   "cell_type": "code",
   "execution_count": 13,
   "id": "9b2eae96-cedb-44e6-b9b1-e122bba505bb",
   "metadata": {},
   "outputs": [
    {
     "name": "stdout",
     "output_type": "stream",
     "text": [
      "Using `.X`!\n"
     ]
    }
   ],
   "source": [
    "temp, lr_res, ligand_pos, receptor_pos = _global_lr_pipe(adata=adata,\n",
    "                                                         resource=resource,\n",
    "                                                         expr_prop=0.05,\n",
    "                                                         use_raw=False,\n",
    "                                                         verbose=True,\n",
    "                                                         layer=None,\n",
    "                                                         _key_cols=['ligand_complex', 'receptor_complex'],\n",
    "                                                         _complex_cols=['ligand_means', 'receptor_means'],\n",
    "                                                         _obms_keys=['proximity'],\n",
    "                                                         resource_name=None\n",
    "                                                         )"
   ]
  },
  {
   "cell_type": "code",
   "execution_count": 14,
   "id": "22989614",
   "metadata": {},
   "outputs": [],
   "source": [
    "# lr_res = lr_res.head(50)"
   ]
  },
  {
   "cell_type": "code",
   "execution_count": 15,
   "id": "76acd258",
   "metadata": {},
   "outputs": [],
   "source": [
    "x_mat = _get_ordered_matrix(temp.X, ligand_pos, lr_res.ligand).A.astype(np.float32).T\n",
    "y_mat = _get_ordered_matrix(temp.X, receptor_pos, lr_res.receptor).A.astype(np.float32).T"
   ]
  },
  {
   "cell_type": "code",
   "execution_count": 16,
   "id": "ee5c3bc9",
   "metadata": {},
   "outputs": [
    {
     "data": {
      "text/html": [
       "<div>\n",
       "<style scoped>\n",
       "    .dataframe tbody tr th:only-of-type {\n",
       "        vertical-align: middle;\n",
       "    }\n",
       "\n",
       "    .dataframe tbody tr th {\n",
       "        vertical-align: top;\n",
       "    }\n",
       "\n",
       "    .dataframe thead th {\n",
       "        text-align: right;\n",
       "    }\n",
       "</style>\n",
       "<table border=\"1\" class=\"dataframe\">\n",
       "  <thead>\n",
       "    <tr style=\"text-align: right;\">\n",
       "      <th></th>\n",
       "      <th>interaction</th>\n",
       "      <th>ligand</th>\n",
       "      <th>receptor</th>\n",
       "      <th>ligand_complex</th>\n",
       "      <th>receptor_complex</th>\n",
       "      <th>ligand_means</th>\n",
       "      <th>ligand_props</th>\n",
       "      <th>receptor_means</th>\n",
       "      <th>receptor_props</th>\n",
       "      <th>prop_min</th>\n",
       "    </tr>\n",
       "  </thead>\n",
       "  <tbody>\n",
       "    <tr>\n",
       "      <th>0</th>\n",
       "      <td>Dll1&amp;Notch1</td>\n",
       "      <td>Dll1</td>\n",
       "      <td>Notch1</td>\n",
       "      <td>Dll1</td>\n",
       "      <td>Notch1</td>\n",
       "      <td>0.037283</td>\n",
       "      <td>0.057292</td>\n",
       "      <td>0.216689</td>\n",
       "      <td>0.276786</td>\n",
       "      <td>0.057292</td>\n",
       "    </tr>\n",
       "    <tr>\n",
       "      <th>1</th>\n",
       "      <td>Adam10&amp;Notch1</td>\n",
       "      <td>Adam10</td>\n",
       "      <td>Notch1</td>\n",
       "      <td>Adam10</td>\n",
       "      <td>Notch1</td>\n",
       "      <td>0.623617</td>\n",
       "      <td>0.651786</td>\n",
       "      <td>0.216689</td>\n",
       "      <td>0.276786</td>\n",
       "      <td>0.276786</td>\n",
       "    </tr>\n",
       "    <tr>\n",
       "      <th>2</th>\n",
       "      <td>Jag1&amp;Notch1</td>\n",
       "      <td>Jag1</td>\n",
       "      <td>Notch1</td>\n",
       "      <td>Jag1</td>\n",
       "      <td>Notch1</td>\n",
       "      <td>0.051299</td>\n",
       "      <td>0.075893</td>\n",
       "      <td>0.216689</td>\n",
       "      <td>0.276786</td>\n",
       "      <td>0.075893</td>\n",
       "    </tr>\n",
       "    <tr>\n",
       "      <th>3</th>\n",
       "      <td>Adam17&amp;Notch1</td>\n",
       "      <td>Adam17</td>\n",
       "      <td>Notch1</td>\n",
       "      <td>Adam17</td>\n",
       "      <td>Notch1</td>\n",
       "      <td>0.121026</td>\n",
       "      <td>0.167783</td>\n",
       "      <td>0.216689</td>\n",
       "      <td>0.276786</td>\n",
       "      <td>0.167783</td>\n",
       "    </tr>\n",
       "    <tr>\n",
       "      <th>4</th>\n",
       "      <td>Dlk1&amp;Notch1</td>\n",
       "      <td>Dlk1</td>\n",
       "      <td>Notch1</td>\n",
       "      <td>Dlk1</td>\n",
       "      <td>Notch1</td>\n",
       "      <td>0.236641</td>\n",
       "      <td>0.213542</td>\n",
       "      <td>0.216689</td>\n",
       "      <td>0.276786</td>\n",
       "      <td>0.213542</td>\n",
       "    </tr>\n",
       "  </tbody>\n",
       "</table>\n",
       "</div>"
      ],
      "text/plain": [
       "     interaction  ligand receptor ligand_complex receptor_complex  \\\n",
       "0    Dll1&Notch1    Dll1   Notch1           Dll1           Notch1   \n",
       "1  Adam10&Notch1  Adam10   Notch1         Adam10           Notch1   \n",
       "2    Jag1&Notch1    Jag1   Notch1           Jag1           Notch1   \n",
       "3  Adam17&Notch1  Adam17   Notch1         Adam17           Notch1   \n",
       "4    Dlk1&Notch1    Dlk1   Notch1           Dlk1           Notch1   \n",
       "\n",
       "   ligand_means  ligand_props  receptor_means  receptor_props  prop_min  \n",
       "0      0.037283      0.057292        0.216689        0.276786  0.057292  \n",
       "1      0.623617      0.651786        0.216689        0.276786  0.276786  \n",
       "2      0.051299      0.075893        0.216689        0.276786  0.075893  \n",
       "3      0.121026      0.167783        0.216689        0.276786  0.167783  \n",
       "4      0.236641      0.213542        0.216689        0.276786  0.213542  "
      ]
     },
     "execution_count": 16,
     "metadata": {},
     "output_type": "execute_result"
    }
   ],
   "source": [
    "lr_res.head()"
   ]
  },
  {
   "cell_type": "code",
   "execution_count": null,
   "id": "5b7c9963",
   "metadata": {},
   "outputs": [],
   "source": []
  },
  {
   "cell_type": "code",
   "execution_count": 17,
   "id": "bbc70571",
   "metadata": {},
   "outputs": [],
   "source": [
    "dist = adata.obsm['proximity']\n",
    "weight = dist.A.astype(np.float32)"
   ]
  },
  {
   "cell_type": "code",
   "execution_count": null,
   "id": "c8ef8003",
   "metadata": {},
   "outputs": [],
   "source": []
  },
  {
   "cell_type": "code",
   "execution_count": 19,
   "id": "58a369b7",
   "metadata": {},
   "outputs": [
    {
     "name": "stdout",
     "output_type": "stream",
     "text": [
      "CPU times: user 1min 7s, sys: 97 ms, total: 1min 7s\n",
      "Wall time: 6.57 s\n"
     ]
    }
   ],
   "source": [
    "%%time\n",
    "masked_pc = _masked_pearson(x_mat, y_mat, weight, weight_thr=0.0)"
   ]
  },
  {
   "cell_type": "code",
   "execution_count": 20,
   "id": "be73ea4e",
   "metadata": {},
   "outputs": [
    {
     "name": "stdout",
     "output_type": "stream",
     "text": [
      "CPU times: user 3min 9s, sys: 418 ms, total: 3min 10s\n",
      "Wall time: 17.4 s\n"
     ]
    }
   ],
   "source": [
    "%%time\n",
    "masked_sp = _masked_spearman(x_mat, y_mat, weight, weight_thr=0.0)"
   ]
  },
  {
   "cell_type": "code",
   "execution_count": 21,
   "id": "86eb5c2b",
   "metadata": {},
   "outputs": [
    {
     "data": {
      "text/plain": [
       "array([[ 0.08149756, -0.25916123, -0.14290628, ..., -0.10626076,\n",
       "         0.08216916,  0.        ],\n",
       "       [ 0.        ,  0.07690792, -0.07125933, ..., -0.30776626,\n",
       "        -0.1647764 ,  0.19228509],\n",
       "       [ 0.03793216, -0.08338802, -0.27273718, ..., -0.34547132,\n",
       "         0.15676172,  0.08250511],\n",
       "       ...,\n",
       "       [ 0.26313928,  0.32310468, -0.22683044, ...,  0.21042919,\n",
       "        -0.1380716 ,  0.19210997],\n",
       "       [ 0.0876326 , -0.18898553,  0.13564353, ..., -0.01432045,\n",
       "         0.6279468 ,  0.        ],\n",
       "       [ 0.        , -0.01092029,  0.48072618, ...,  0.20706737,\n",
       "        -0.00277106,  0.        ]], dtype=float32)"
      ]
     },
     "execution_count": 21,
     "metadata": {},
     "output_type": "execute_result"
    }
   ],
   "source": [
    "masked_pc"
   ]
  },
  {
   "cell_type": "code",
   "execution_count": 22,
   "id": "0d7362ee",
   "metadata": {},
   "outputs": [
    {
     "data": {
      "text/plain": [
       "array([[ 0.18781684, -0.11848656,  0.12627968, ...,  0.34751382,\n",
       "         0.24387598,  0.1599317 ],\n",
       "       [ 0.30682617, -0.2751629 ,  0.29463288, ...,  0.507999  ,\n",
       "         0.39533183, -0.1267864 ],\n",
       "       [ 0.33031335, -0.09867558,  0.13571519, ..., -0.41641706,\n",
       "         0.2175387 ,  0.04966684],\n",
       "       ...,\n",
       "       [ 0.31701288,  0.25899726, -0.01386184, ...,  0.37027845,\n",
       "        -0.32945094,  0.6252148 ],\n",
       "       [ 0.43997544,  0.0042903 ,  0.4969458 , ..., -0.04243322,\n",
       "         0.517518  ,  0.0436135 ],\n",
       "       [ 0.42425486,  0.01879715,  0.55392396, ...,  0.26318154,\n",
       "         0.3640542 ,  0.43966317]], dtype=float32)"
      ]
     },
     "execution_count": 22,
     "metadata": {},
     "output_type": "execute_result"
    }
   ],
   "source": [
    "masked_sp"
   ]
  },
  {
   "cell_type": "code",
   "execution_count": null,
   "metadata": {},
   "outputs": [],
   "source": []
  },
  {
   "cell_type": "code",
   "execution_count": null,
   "id": "ce113f67",
   "metadata": {},
   "outputs": [],
   "source": []
  },
  {
   "cell_type": "code",
   "execution_count": null,
   "id": "90c00b3d",
   "metadata": {},
   "outputs": [],
   "source": [
    "_masked_pearson(x_mat, y_mat, weight, 0.0)"
   ]
  },
  {
   "cell_type": "code",
   "execution_count": null,
   "id": "523a1a57",
   "metadata": {},
   "outputs": [],
   "source": []
  },
  {
   "cell_type": "code",
   "execution_count": null,
   "metadata": {},
   "outputs": [],
   "source": []
  },
  {
   "cell_type": "code",
   "execution_count": null,
   "id": "de5cd3ce",
   "metadata": {},
   "outputs": [],
   "source": []
  },
  {
   "attachments": {},
   "cell_type": "markdown",
   "id": "0afdf754",
   "metadata": {},
   "source": [
    "Fully-vectorized"
   ]
  },
  {
   "cell_type": "code",
   "execution_count": null,
   "id": "153e7944-adbb-401e-914b-09c227dcfdea",
   "metadata": {},
   "outputs": [],
   "source": [
    "import squidpy as sq\n",
    "import scanpy as sc\n",
    "import pandas as pd\n",
    "import numpy as np\n",
    "from scipy.sparse import csr_matrix, isspmatrix_csr"
   ]
  },
  {
   "cell_type": "code",
   "execution_count": null,
   "id": "cbb22f08-505c-4087-af67-84577d421f60",
   "metadata": {},
   "outputs": [],
   "source": [
    "import liana as li"
   ]
  },
  {
   "cell_type": "code",
   "execution_count": null,
   "id": "4f0fe90c-bf2b-44b3-8798-8aaad0e402f1",
   "metadata": {},
   "outputs": [],
   "source": [
    "from matplotlib.pyplot import hist\n",
    "from scipy.stats import spearmanr, pearsonr"
   ]
  },
  {
   "cell_type": "code",
   "execution_count": null,
   "id": "5e601378",
   "metadata": {},
   "outputs": [],
   "source": [
    "from liana.method._global_lr_pipe import _global_lr_pipe\n",
    "from liana.method.sp._spatialdm import _get_ordered_matrix, _standardize_matrix"
   ]
  },
  {
   "cell_type": "code",
   "execution_count": null,
   "id": "9860d383",
   "metadata": {},
   "outputs": [],
   "source": []
  },
  {
   "cell_type": "code",
   "execution_count": null,
   "id": "0e95b8ba",
   "metadata": {},
   "outputs": [],
   "source": [
    "# ligand-receptor mats\n",
    "ligand_mat = _get_ordered_matrix(temp.X, ligand_pos, lr_res.ligand).T\n",
    "receptor_mat = _get_ordered_matrix(temp.X, receptor_pos, lr_res.receptor).T"
   ]
  },
  {
   "cell_type": "code",
   "execution_count": null,
   "id": "12525e47",
   "metadata": {},
   "outputs": [],
   "source": []
  },
  {
   "cell_type": "code",
   "execution_count": null,
   "id": "58b651b6",
   "metadata": {},
   "outputs": [],
   "source": [
    "dist = adata.obsm['proximity']"
   ]
  },
  {
   "cell_type": "code",
   "execution_count": null,
   "id": "297b3e2d",
   "metadata": {},
   "outputs": [],
   "source": [
    "local_pc = _vectorized_correlations(x_mat = ligand_mat.A, y_mat=receptor_mat.A, dist=dist, method=\"pearson\")"
   ]
  },
  {
   "cell_type": "code",
   "execution_count": null,
   "id": "b37b960a",
   "metadata": {},
   "outputs": [],
   "source": [
    "local_sp = _vectorized_correlations(x_mat = ligand_mat.A, y_mat=receptor_mat.A, dist=dist, method=\"spearman\")"
   ]
  },
  {
   "cell_type": "code",
   "execution_count": null,
   "id": "49c6a9ce",
   "metadata": {},
   "outputs": [],
   "source": [
    "local_cos = _vectorized_wcosine(x_mat = ligand_mat.A, y_mat=receptor_mat.A, dist=dist)"
   ]
  },
  {
   "cell_type": "code",
   "execution_count": null,
   "id": "3691d7fa",
   "metadata": {},
   "outputs": [],
   "source": [
    "local_jc = _vectorized_jaccard(x_mat = ligand_mat.A, y_mat=receptor_mat.A, dist=dist)"
   ]
  },
  {
   "cell_type": "code",
   "execution_count": null,
   "id": "8aba5c1c",
   "metadata": {},
   "outputs": [],
   "source": []
  },
  {
   "cell_type": "code",
   "execution_count": null,
   "id": "77656e41",
   "metadata": {},
   "outputs": [],
   "source": []
  },
  {
   "cell_type": "code",
   "execution_count": null,
   "id": "1a607463",
   "metadata": {},
   "outputs": [],
   "source": [
    "ligand_mat = _get_ordered_matrix(temp.X, ligand_pos, lr_res.ligand).T\n",
    "receptor_mat = _get_ordered_matrix(temp.X, receptor_pos, lr_res.receptor).T"
   ]
  },
  {
   "cell_type": "code",
   "execution_count": null,
   "id": "3478efdc",
   "metadata": {},
   "outputs": [],
   "source": [
    "# if spatial DM: standardize & calculate norm factor\n",
    "ligand_mat = _standardize_matrix(ligand_mat, local=True)\n",
    "receptor_mat = _standardize_matrix(receptor_mat, local=True)"
   ]
  },
  {
   "cell_type": "code",
   "execution_count": null,
   "id": "f7b300cb",
   "metadata": {},
   "outputs": [],
   "source": [
    "norm_factor = temp.obsm['proximity'].shape[0] / temp.obsm['proximity'].sum()\n",
    "dist = csr_matrix(norm_factor * temp.obsm['proximity'])"
   ]
  },
  {
   "cell_type": "code",
   "execution_count": null,
   "id": "d539cdf9",
   "metadata": {},
   "outputs": [],
   "source": [
    "local_r = _local_morans(x_mat = ligand_mat, y_mat=receptor_mat, dist=dist)"
   ]
  },
  {
   "cell_type": "code",
   "execution_count": null,
   "id": "a9362aae",
   "metadata": {},
   "outputs": [],
   "source": [
    "local_r"
   ]
  },
  {
   "cell_type": "code",
   "execution_count": null,
   "id": "70c11ead",
   "metadata": {},
   "outputs": [],
   "source": []
  },
  {
   "cell_type": "code",
   "execution_count": null,
   "id": "bb444ddf",
   "metadata": {},
   "outputs": [],
   "source": []
  },
  {
   "cell_type": "code",
   "execution_count": null,
   "id": "cd6ff575",
   "metadata": {},
   "outputs": [],
   "source": [
    "local_r"
   ]
  },
  {
   "cell_type": "code",
   "execution_count": null,
   "id": "9767868f",
   "metadata": {},
   "outputs": [],
   "source": []
  },
  {
   "cell_type": "code",
   "execution_count": null,
   "id": "dac4ba2a",
   "metadata": {},
   "outputs": [],
   "source": [
    "from liana.method.sp._spatial_utils import _local_permutation_pvals"
   ]
  },
  {
   "cell_type": "code",
   "execution_count": null,
   "id": "ff308c66",
   "metadata": {},
   "outputs": [],
   "source": [
    "%%time\n",
    "local_pc_pvals = _local_permutation_pvals(x_mat = ligand_mat.A, \n",
    "                                          y_mat = receptor_mat.A, \n",
    "                                          local_truth=local_pc,\n",
    "                                          local_fun=_vectorized_correlations,\n",
    "                                          dist=dist, \n",
    "                                          n_perm=n_perm, \n",
    "                                          positive_only=False,\n",
    "                                          seed=seed)"
   ]
  },
  {
   "cell_type": "code",
   "execution_count": null,
   "id": "7d34d9f6",
   "metadata": {},
   "outputs": [],
   "source": [
    "local_pc_pvals"
   ]
  },
  {
   "cell_type": "code",
   "execution_count": null,
   "id": "b4a05f78",
   "metadata": {},
   "outputs": [],
   "source": []
  },
  {
   "cell_type": "code",
   "execution_count": null,
   "id": "74a63b84",
   "metadata": {},
   "outputs": [],
   "source": [
    "local_sp = _vectorized_correlations(x_mat = ligand_mat.A, y_mat=receptor_mat.A, dist=dist, method=\"spearman\")"
   ]
  },
  {
   "cell_type": "code",
   "execution_count": null,
   "id": "95ed049d",
   "metadata": {},
   "outputs": [],
   "source": [
    "local_sp_pvals = _local_permutation_pvals(x_mat = ligand_mat.A, \n",
    "                                          y_mat = receptor_mat.A, \n",
    "                                          local_truth=local_sp,\n",
    "                                          local_fun=_vectorized_correlations,\n",
    "                                          dist=dist, \n",
    "                                          n_perm=n_perm, \n",
    "                                          positive_only=False,\n",
    "                                          seed=seed,\n",
    "                                          method=\"spearman\"\n",
    "                                          )"
   ]
  },
  {
   "cell_type": "code",
   "execution_count": null,
   "id": "03c9a907",
   "metadata": {},
   "outputs": [],
   "source": [
    "local_sp_pvals.shape"
   ]
  },
  {
   "cell_type": "code",
   "execution_count": null,
   "id": "1dfb8b1c",
   "metadata": {},
   "outputs": [],
   "source": [
    "spearmanr(local_sp_pvals[1,:], local_pc_pvals[1,:])"
   ]
  },
  {
   "cell_type": "code",
   "execution_count": null,
   "id": "5c15a179",
   "metadata": {},
   "outputs": [],
   "source": []
  },
  {
   "cell_type": "code",
   "execution_count": null,
   "id": "3c0dd963",
   "metadata": {},
   "outputs": [],
   "source": []
  },
  {
   "attachments": {},
   "cell_type": "markdown",
   "id": "2ab31991",
   "metadata": {},
   "source": [
    "Global summary of the local scores:"
   ]
  },
  {
   "cell_type": "code",
   "execution_count": null,
   "id": "b07ef553",
   "metadata": {},
   "outputs": [],
   "source": [
    "lr_res.loc[:,['pearson_mean','pearson_sd']] = np.vstack([np.mean(local_pc, axis=1), np.std(local_pc, axis=1)]).T"
   ]
  },
  {
   "cell_type": "code",
   "execution_count": null,
   "id": "4575407e",
   "metadata": {},
   "outputs": [],
   "source": [
    "lr_res.sort_values(by='pearson_mean', ascending=False)"
   ]
  },
  {
   "cell_type": "code",
   "execution_count": null,
   "id": "559a56f7",
   "metadata": {},
   "outputs": [],
   "source": []
  },
  {
   "attachments": {},
   "cell_type": "markdown",
   "id": "e642e142",
   "metadata": {},
   "source": [
    "Plot to check the distribution of the local scores:"
   ]
  },
  {
   "cell_type": "code",
   "execution_count": null,
   "id": "a7c74f36",
   "metadata": {},
   "outputs": [],
   "source": [
    "from liana.method.sp._spatialdm import spatialdm"
   ]
  },
  {
   "cell_type": "code",
   "execution_count": null,
   "id": "31228a8d",
   "metadata": {},
   "outputs": [],
   "source": [
    "spatialdm(adata=adata, resource_name=\"MouseConsensus\", pvalue_method='analytical', verbose=True, use_raw=False)"
   ]
  },
  {
   "cell_type": "code",
   "execution_count": null,
   "id": "f472d541",
   "metadata": {},
   "outputs": [],
   "source": [
    "local_pvals = li.ut.obsm_to_adata(adata, obsm_key='local_pvals')"
   ]
  },
  {
   "cell_type": "code",
   "execution_count": null,
   "id": "f2ed715f",
   "metadata": {},
   "outputs": [],
   "source": [
    "local_r = li.ut.obsm_to_adata(adata, obsm_key='local_r')"
   ]
  },
  {
   "cell_type": "code",
   "execution_count": null,
   "id": "ebdedf3f",
   "metadata": {},
   "outputs": [],
   "source": [
    "sc.pl.spatial(local_pvals, color=['Sema4d&Plxnb3'])"
   ]
  },
  {
   "cell_type": "code",
   "execution_count": null,
   "id": "db96374a",
   "metadata": {},
   "outputs": [],
   "source": [
    "sc.pl.spatial(local_r, color=['Sema4d&Plxnb3'])"
   ]
  },
  {
   "cell_type": "code",
   "execution_count": null,
   "id": "07bcb9a8",
   "metadata": {},
   "outputs": [],
   "source": [
    "adata.obsm['local_r']"
   ]
  },
  {
   "cell_type": "code",
   "execution_count": null,
   "id": "2b9a57dc",
   "metadata": {},
   "outputs": [],
   "source": [
    "def embed_score_to_adata(adata, score, score_name):\n",
    "    score =  pd.DataFrame(score,\n",
    "                          columns=adata.obsm['local_r'].columns,\n",
    "                          index=adata.obsm['local_r'].index)\n",
    "    adata.obsm[score_name] = score"
   ]
  },
  {
   "cell_type": "code",
   "execution_count": null,
   "id": "99d53858",
   "metadata": {},
   "outputs": [],
   "source": [
    "# Masked Pearson correlation\n",
    "embed_score_to_adata(adata, masked_pc, 'masked_pc')\n",
    "\n",
    "# Vectorized Pearson correlation\n",
    "embed_score_to_adata(adata, local_pc.T, 'local_pc')"
   ]
  },
  {
   "cell_type": "code",
   "execution_count": null,
   "id": "5b4b0d32",
   "metadata": {},
   "outputs": [],
   "source": [
    "# Masked Spearman correlation\n",
    "embed_score_to_adata(adata, masked_sp, 'masked_sp')\n",
    "# Vectorized Spearman correlation\n",
    "embed_score_to_adata(adata, local_sp.T, 'local_sp')"
   ]
  },
  {
   "cell_type": "code",
   "execution_count": null,
   "id": "480b66d9",
   "metadata": {},
   "outputs": [],
   "source": [
    "# Vectorized Jaccard index\n",
    "embed_score_to_adata(adata, local_jc.T, 'local_jc')"
   ]
  },
  {
   "cell_type": "code",
   "execution_count": null,
   "id": "8059438a",
   "metadata": {},
   "outputs": [],
   "source": [
    "# Vectorized Cosine similarity\n",
    "embed_score_to_adata(adata, local_cos.T, 'local_cos')"
   ]
  },
  {
   "attachments": {},
   "cell_type": "markdown",
   "id": "10626cec",
   "metadata": {},
   "source": [
    "Plot to check the distribution of the local scores:"
   ]
  },
  {
   "cell_type": "code",
   "execution_count": null,
   "id": "18b35893",
   "metadata": {},
   "outputs": [],
   "source": [
    "sc.pl.spatial(adata, color=['Sema4d', 'Plxnb3'], use_raw=False)"
   ]
  },
  {
   "cell_type": "code",
   "execution_count": null,
   "id": "175b0e5f",
   "metadata": {},
   "outputs": [],
   "source": [
    "local_r = li.ut.obsm_to_adata(adata, obsm_key='local_r')\n",
    "sc.pl.spatial(local_r, color=['Sema4d&Plxnb3'])"
   ]
  },
  {
   "cell_type": "code",
   "execution_count": null,
   "id": "10687298",
   "metadata": {},
   "outputs": [],
   "source": [
    "sc.pl.spatial(local_pvals, color=['Sema4d&Plxnb3'], cmap='viridis_r')"
   ]
  },
  {
   "cell_type": "code",
   "execution_count": null,
   "id": "8e8e032c",
   "metadata": {},
   "outputs": [],
   "source": []
  },
  {
   "attachments": {},
   "cell_type": "markdown",
   "id": "4c508200",
   "metadata": {},
   "source": [
    "Pearson"
   ]
  },
  {
   "cell_type": "code",
   "execution_count": null,
   "id": "5f232164",
   "metadata": {},
   "outputs": [],
   "source": [
    "masked_pc = li.ut.obsm_to_adata(adata, obsm_key='masked_pc')\n",
    "sc.pl.spatial(masked_pc, color=['Sema4d&Plxnb3'])"
   ]
  },
  {
   "cell_type": "code",
   "execution_count": null,
   "id": "c9169ec0",
   "metadata": {},
   "outputs": [],
   "source": [
    "np.average(masked_pc.X)"
   ]
  },
  {
   "cell_type": "code",
   "execution_count": null,
   "id": "98dfd551",
   "metadata": {},
   "outputs": [],
   "source": [
    "local_pc = li.ut.obsm_to_adata(adata, obsm_key='local_pc')\n",
    "sc.pl.spatial(local_pc, color=['Sema4d&Plxnb3'])"
   ]
  },
  {
   "cell_type": "code",
   "execution_count": null,
   "id": "c0f7d5ff",
   "metadata": {},
   "outputs": [],
   "source": [
    "np.average(local_pc.X)"
   ]
  },
  {
   "cell_type": "code",
   "execution_count": null,
   "id": "2d241405",
   "metadata": {},
   "outputs": [],
   "source": []
  },
  {
   "cell_type": "code",
   "execution_count": null,
   "id": "664c739f",
   "metadata": {},
   "outputs": [],
   "source": [
    "local_sp = li.ut.obsm_to_adata(adata, obsm_key='local_sp')\n",
    "sc.pl.spatial(local_sp, color=['Sema4d&Plxnb3'])"
   ]
  },
  {
   "cell_type": "code",
   "execution_count": null,
   "id": "6effa790",
   "metadata": {},
   "outputs": [],
   "source": [
    "masked_sp = li.ut.obsm_to_adata(adata, obsm_key='masked_sp')\n",
    "sc.pl.spatial(masked_sp, color=['Sema4d&Plxnb3'])"
   ]
  },
  {
   "cell_type": "code",
   "execution_count": null,
   "id": "be5c7f43",
   "metadata": {},
   "outputs": [],
   "source": []
  },
  {
   "attachments": {},
   "cell_type": "markdown",
   "id": "9464fdf2",
   "metadata": {},
   "source": [
    "Jaccard"
   ]
  },
  {
   "cell_type": "code",
   "execution_count": null,
   "id": "a5f60835",
   "metadata": {},
   "outputs": [],
   "source": [
    "local_jc = li.ut.obsm_to_adata(adata, obsm_key='local_jc')\n",
    "sc.pl.spatial(local_jc, color=['Sema4d&Plxnb3'])"
   ]
  },
  {
   "cell_type": "code",
   "execution_count": null,
   "id": "724183aa",
   "metadata": {},
   "outputs": [],
   "source": []
  },
  {
   "attachments": {},
   "cell_type": "markdown",
   "id": "da8a171a",
   "metadata": {},
   "source": [
    "Cosine"
   ]
  },
  {
   "cell_type": "code",
   "execution_count": null,
   "id": "3c6aa06c",
   "metadata": {},
   "outputs": [],
   "source": [
    "local_cos = li.ut.obsm_to_adata(adata, obsm_key='local_cos')\n",
    "sc.pl.spatial(local_cos, color=['Sema4d&Plxnb3'])"
   ]
  },
  {
   "cell_type": "code",
   "execution_count": null,
   "id": "2178ce30",
   "metadata": {},
   "outputs": [],
   "source": []
  },
  {
   "attachments": {},
   "cell_type": "markdown",
   "id": "dadc00ff",
   "metadata": {},
   "source": [
    "Pvals"
   ]
  },
  {
   "cell_type": "code",
   "execution_count": null,
   "id": "8a7ab7f4",
   "metadata": {},
   "outputs": [],
   "source": [
    "embed_score_to_adata(adata, local_pc_pvals.T, 'local_pc_pvals')\n",
    "local_pc_pvals = li.ut.obsm_to_adata(adata, obsm_key='local_pc_pvals')"
   ]
  },
  {
   "cell_type": "code",
   "execution_count": null,
   "id": "8d5062ec",
   "metadata": {},
   "outputs": [],
   "source": [
    "sc.pl.spatial(local_pc_pvals, color=['Sema4d&Plxnb3'], cmap='viridis_r')"
   ]
  },
  {
   "cell_type": "code",
   "execution_count": null,
   "id": "afe30172",
   "metadata": {},
   "outputs": [],
   "source": [
    "# LASSO regression on each spot?"
   ]
  },
  {
   "cell_type": "code",
   "execution_count": null,
   "id": "a13027f3",
   "metadata": {},
   "outputs": [],
   "source": []
  }
 ],
 "metadata": {
  "kernelspec": {
   "display_name": "liana-spatial",
   "language": "python",
   "name": "python3"
  },
  "language_info": {
   "codemirror_mode": {
    "name": "ipython",
    "version": 3
   },
   "file_extension": ".py",
   "mimetype": "text/x-python",
   "name": "python",
   "nbconvert_exporter": "python",
   "pygments_lexer": "ipython3",
   "version": "3.10.9"
  },
  "vscode": {
   "interpreter": {
    "hash": "f753bcce54bffd886a1918c0ed127797462060055a319cf64929de73ccbfe1e9"
   }
  }
 },
 "nbformat": 4,
 "nbformat_minor": 5
}
