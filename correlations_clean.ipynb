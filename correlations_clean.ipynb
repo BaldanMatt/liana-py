{
 "cells": [
  {
   "cell_type": "code",
   "execution_count": 65,
   "id": "153e7944-adbb-401e-914b-09c227dcfdea",
   "metadata": {},
   "outputs": [],
   "source": [
    "import squidpy as sq\n",
    "import scanpy as sc\n",
    "import pandas as pd\n",
    "import numpy as np\n",
    "from scipy.sparse import csr_matrix, isspmatrix_csr"
   ]
  },
  {
   "cell_type": "code",
   "execution_count": 3,
   "id": "cbb22f08-505c-4087-af67-84577d421f60",
   "metadata": {},
   "outputs": [],
   "source": [
    "import liana as li"
   ]
  },
  {
   "cell_type": "code",
   "execution_count": 4,
   "id": "4f0fe90c-bf2b-44b3-8798-8aaad0e402f1",
   "metadata": {},
   "outputs": [],
   "source": [
    "from matplotlib.pyplot import hist"
   ]
  },
  {
   "cell_type": "code",
   "execution_count": 5,
   "id": "22a8de43-4ff7-4e93-9056-e27ba4a0afef",
   "metadata": {},
   "outputs": [],
   "source": [
    "from liana.method._global_lr_pipe import _global_lr_pipe\n",
    "from liana.method.sp._spatialdm import _get_ordered_matrix, _standardize_matrix"
   ]
  },
  {
   "cell_type": "code",
   "execution_count": 6,
   "id": "afe4cf0d",
   "metadata": {},
   "outputs": [],
   "source": [
    "import numba as nb"
   ]
  },
  {
   "cell_type": "code",
   "execution_count": null,
   "id": "8ec68aaf",
   "metadata": {},
   "outputs": [],
   "source": []
  },
  {
   "cell_type": "code",
   "execution_count": null,
   "id": "b9f16311-988d-4b04-b544-3b9ae80f0b71",
   "metadata": {},
   "outputs": [],
   "source": [
    "counts = pd.read_csv(\"data/counts_mat.csv\")\n",
    "weights = pd.read_csv(\"data/weight_mat.csv\")"
   ]
  },
  {
   "cell_type": "code",
   "execution_count": null,
   "id": "1caf6c62-a727-40c5-94a9-5d6dcd535c48",
   "metadata": {},
   "outputs": [],
   "source": [
    "var = pd.DataFrame(counts[['Unnamed: 0']]).set_index('Unnamed: 0')\n",
    "var.index.name = None"
   ]
  },
  {
   "cell_type": "code",
   "execution_count": null,
   "id": "740b5fad-7447-4eef-ba35-6ef5e028da17",
   "metadata": {},
   "outputs": [],
   "source": [
    "adata = sc.AnnData(X=csr_matrix(counts.drop(counts.columns[0], axis=1), dtype=np.float32).T, var=var)"
   ]
  },
  {
   "cell_type": "code",
   "execution_count": null,
   "id": "bb9f37d6-da59-44ca-b304-222329b21237",
   "metadata": {},
   "outputs": [],
   "source": [
    "adata.obsm['proximity'] = csr_matrix(weights)"
   ]
  },
  {
   "cell_type": "code",
   "execution_count": null,
   "id": "a9f07752",
   "metadata": {},
   "outputs": [],
   "source": []
  },
  {
   "cell_type": "code",
   "execution_count": 11,
   "id": "3b30f85e",
   "metadata": {},
   "outputs": [],
   "source": [
    "# scHOT data test\n",
    "adata = sc.read_h5ad(\"test_spatial.h5ad\")\n",
    "resource = pd.DataFrame({\"ligand\":[\"Dnm1l\", \"Arrb1\", \"Igf2\", \"Dnm1l\"], \"receptor\":[\"Gucy1b3\", \"Mtor\", \"Tuba1a\", \"Fam63b\"]})\n",
    "dist = adata.obsm['proximity']"
   ]
  },
  {
   "cell_type": "code",
   "execution_count": 12,
   "id": "e6020530",
   "metadata": {},
   "outputs": [],
   "source": [
    "n_perm = 100\n",
    "seed = 0"
   ]
  },
  {
   "cell_type": "code",
   "execution_count": null,
   "id": "58cb788f",
   "metadata": {},
   "outputs": [],
   "source": []
  },
  {
   "cell_type": "code",
   "execution_count": 30,
   "id": "442d2fdf",
   "metadata": {},
   "outputs": [],
   "source": [
    "# full visium slide\n",
    "# load the pre-processed dataset\n",
    "img = sq.datasets.visium_hne_image()\n",
    "adata = sq.datasets.visium_hne_adata()\n",
    "\n",
    "li.mt.get_spatial_proximity(adata=adata, parameter=200, bypass_diagonal=False, cutoff=0.1)\n",
    "dist = adata.obsm['proximity']\n",
    "\n",
    "my_p = li.pl.proximity_plot(adata, idx=100)\n",
    "resource = li.resource.select_resource(\"mouseconsensus\")"
   ]
  },
  {
   "cell_type": "code",
   "execution_count": null,
   "id": "a4aac8f6",
   "metadata": {},
   "outputs": [],
   "source": []
  },
  {
   "cell_type": "code",
   "execution_count": 66,
   "id": "9b2eae96-cedb-44e6-b9b1-e122bba505bb",
   "metadata": {},
   "outputs": [
    {
     "name": "stdout",
     "output_type": "stream",
     "text": [
      "Using `.X`!\n"
     ]
    }
   ],
   "source": [
    "temp, lr_res, ligand_pos, receptor_pos = _global_lr_pipe(adata=adata,\n",
    "                                                         resource=resource,\n",
    "                                                         expr_prop=0.05,\n",
    "                                                         use_raw=False,\n",
    "                                                         verbose=True,\n",
    "                                                         layer=None,\n",
    "                                                         _key_cols=['ligand_complex', 'receptor_complex'],\n",
    "                                                         _complex_cols=['ligand_means', 'receptor_means'],\n",
    "                                                         _obms_keys=['proximity'],\n",
    "                                                         resource_name=None\n",
    "                                                         )"
   ]
  },
  {
   "cell_type": "code",
   "execution_count": 33,
   "id": "22989614",
   "metadata": {},
   "outputs": [],
   "source": [
    "lr_res = lr_res.head(50)"
   ]
  },
  {
   "cell_type": "code",
   "execution_count": null,
   "id": "7d586e56",
   "metadata": {},
   "outputs": [],
   "source": []
  },
  {
   "cell_type": "code",
   "execution_count": null,
   "id": "30a2f5a2",
   "metadata": {},
   "outputs": [],
   "source": []
  },
  {
   "cell_type": "code",
   "execution_count": 67,
   "id": "76acd258",
   "metadata": {},
   "outputs": [],
   "source": [
    "x_mat = _get_ordered_matrix(temp.X, ligand_pos, lr_res.ligand).A.astype(np.float32).T\n",
    "y_mat = _get_ordered_matrix(temp.X, receptor_pos, lr_res.receptor).A.astype(np.float32).T"
   ]
  },
  {
   "cell_type": "code",
   "execution_count": null,
   "id": "949e79f6",
   "metadata": {},
   "outputs": [],
   "source": []
  },
  {
   "cell_type": "code",
   "execution_count": null,
   "id": "ee5c3bc9",
   "metadata": {},
   "outputs": [],
   "source": []
  },
  {
   "cell_type": "code",
   "execution_count": 35,
   "id": "0441e374",
   "metadata": {},
   "outputs": [],
   "source": [
    "@nb.njit(nb.f4(nb.f4[:], nb.f4[:], nb.f4[:], nb.f4), cache=True)\n",
    "def wcor(x, y, w, wsum):\n",
    "    \n",
    "    wx = w * x\n",
    "    wy = w * y\n",
    "    \n",
    "    numerator = wsum * np.sum(wx * y) - np.sum(wx) * np.sum(wy)\n",
    "    \n",
    "    denominator_x = wsum * np.sum(w * (x**2)) - np.sum(wx)**2\n",
    "    denominator_y = wsum * np.sum(w * (y**2)) - np.sum(wy)**2\n",
    "    denominator = np.sqrt(denominator_x * denominator_y) + 1.0e-20  # avoid division by zero, do if wegihts are all zero return 0? np.finfo(np.float64).eps\n",
    "    \n",
    "    wcor = numerator / denominator\n",
    "    \n",
    "    return wcor"
   ]
  },
  {
   "cell_type": "code",
   "execution_count": null,
   "id": "1c4fcea8",
   "metadata": {},
   "outputs": [],
   "source": []
  },
  {
   "cell_type": "code",
   "execution_count": null,
   "id": "bbc70571",
   "metadata": {},
   "outputs": [],
   "source": [
    "i = 0\n",
    "dist = adata.obsm['proximity']\n",
    "weight = dist.A.astype(np.float32)"
   ]
  },
  {
   "cell_type": "code",
   "execution_count": null,
   "id": "6b0f1714",
   "metadata": {},
   "outputs": [],
   "source": [
    "wsum = np.sum(weight[0,:])"
   ]
  },
  {
   "cell_type": "code",
   "execution_count": null,
   "id": "a13f4c24",
   "metadata": {},
   "outputs": [],
   "source": []
  },
  {
   "cell_type": "code",
   "execution_count": null,
   "id": "0f704fa1",
   "metadata": {},
   "outputs": [],
   "source": [
    "x, y = x_mat[:,i].astype(np.float32), y_mat[:,i].astype(np.float32)"
   ]
  },
  {
   "cell_type": "code",
   "execution_count": null,
   "id": "a14181d8",
   "metadata": {},
   "outputs": [],
   "source": [
    "w = weight[i,:].astype(np.float32)"
   ]
  },
  {
   "cell_type": "code",
   "execution_count": null,
   "id": "d1a03bcf",
   "metadata": {},
   "outputs": [],
   "source": [
    "wx = w * x\n",
    "yw = w * y"
   ]
  },
  {
   "cell_type": "code",
   "execution_count": null,
   "id": "2e0a34f1",
   "metadata": {},
   "outputs": [],
   "source": [
    "numerator = wsum * np.sum(wx * y) - np.sum(wx) * np.sum(yw)"
   ]
  },
  {
   "cell_type": "code",
   "execution_count": null,
   "id": "ad0b73cc",
   "metadata": {},
   "outputs": [],
   "source": [
    "wsum * np.sum(wx * y)"
   ]
  },
  {
   "cell_type": "code",
   "execution_count": null,
   "id": "a6fe219b",
   "metadata": {},
   "outputs": [],
   "source": [
    "np.sum(wx) * np.sum(yw)"
   ]
  },
  {
   "cell_type": "code",
   "execution_count": null,
   "id": "a656ae39",
   "metadata": {},
   "outputs": [],
   "source": [
    "numerator"
   ]
  },
  {
   "cell_type": "code",
   "execution_count": null,
   "id": "9928198b",
   "metadata": {},
   "outputs": [],
   "source": [
    "denominator_x = wsum * np.sum(w * (x**2)) - np.sum(wx)**2\n",
    "denominator_y = wsum * np.sum(w * (y**2)) - np.sum(yw)**2\n",
    "denominator = np.sqrt(denominator_x * denominator_y) + 1.0e-20  # avoid division by zero, do if wegihts are all zero return 0? np.finfo(np.float64).eps\n"
   ]
  },
  {
   "cell_type": "code",
   "execution_count": null,
   "id": "a4398b27",
   "metadata": {},
   "outputs": [],
   "source": [
    "wcor = numerator / denominator"
   ]
  },
  {
   "cell_type": "code",
   "execution_count": null,
   "id": "b71e388e",
   "metadata": {},
   "outputs": [],
   "source": [
    "wcor"
   ]
  },
  {
   "cell_type": "code",
   "execution_count": null,
   "id": "e65ad298",
   "metadata": {},
   "outputs": [],
   "source": []
  },
  {
   "cell_type": "code",
   "execution_count": null,
   "id": "0cfe7ec1",
   "metadata": {},
   "outputs": [],
   "source": [
    "# all weights = 1 (i.e. pearsonr)\n",
    "wcor(x=x, y=y, w=weight[i,:], wsum=wsum)"
   ]
  },
  {
   "cell_type": "code",
   "execution_count": null,
   "id": "908f0f91",
   "metadata": {},
   "outputs": [],
   "source": []
  },
  {
   "cell_type": "code",
   "execution_count": null,
   "id": "afdcff2f",
   "metadata": {},
   "outputs": [],
   "source": [
    "@nb.njit(nb.f4[:,:](nb.f4[:,:], nb.f4[:,:], nb.f4[:,:], nb.f4), cache=True, parallel=True)\n",
    "def calculate_wcor(x_mat, y_mat, weight, wsum):\n",
    "    spot_n = x_mat.shape[0]\n",
    "    xy_n = x_mat.shape[1]\n",
    "    \n",
    "    local_correlations = np.zeros((spot_n, xy_n), dtype=nb.f4) # nb.f4\n",
    "    \n",
    "    for i in nb.prange(spot_n):\n",
    "        w = weight[i, :]\n",
    "        # if w sum is zero, return 0\n",
    "        for j in range(xy_n):\n",
    "            local_correlations[i, j] = wcor(x_mat[:, j], y_mat[:, j], w, wsum)\n",
    "    \n",
    "    return local_correlations"
   ]
  },
  {
   "cell_type": "code",
   "execution_count": null,
   "id": "5d040540",
   "metadata": {},
   "outputs": [],
   "source": [
    "%%time\n",
    "calculate_wcor(x_mat, y_mat, weight, wsum)"
   ]
  },
  {
   "cell_type": "code",
   "execution_count": null,
   "id": "6c567030",
   "metadata": {},
   "outputs": [],
   "source": []
  },
  {
   "cell_type": "code",
   "execution_count": 1,
   "id": "9aa58def",
   "metadata": {},
   "outputs": [
    {
     "ename": "NameError",
     "evalue": "name 'np' is not defined",
     "output_type": "error",
     "traceback": [
      "\u001b[0;31m---------------------------------------------------------------------------\u001b[0m",
      "\u001b[0;31mNameError\u001b[0m                                 Traceback (most recent call last)",
      "\u001b[0;32m<ipython-input-1-b5884a5597ca>\u001b[0m in \u001b[0;36m<module>\u001b[0;34m\u001b[0m\n\u001b[0;32m----> 1\u001b[0;31m \u001b[0mnp\u001b[0m\u001b[0;34m.\u001b[0m\u001b[0mfinfo\u001b[0m\u001b[0;34m(\u001b[0m\u001b[0mnb\u001b[0m\u001b[0;34m.\u001b[0m\u001b[0mfloat32\u001b[0m\u001b[0;34m)\u001b[0m\u001b[0;34m.\u001b[0m\u001b[0meps\u001b[0m\u001b[0;34m\u001b[0m\u001b[0;34m\u001b[0m\u001b[0m\n\u001b[0m",
      "\u001b[0;31mNameError\u001b[0m: name 'np' is not defined"
     ]
    }
   ],
   "source": []
  },
  {
   "attachments": {},
   "cell_type": "markdown",
   "id": "6d22233f",
   "metadata": {},
   "source": [
    "Semi-vectorized"
   ]
  },
  {
   "cell_type": "code",
   "execution_count": 36,
   "id": "b57ad2f8",
   "metadata": {},
   "outputs": [
    {
     "data": {
      "text/plain": [
       "(2688, 50)"
      ]
     },
     "execution_count": 36,
     "metadata": {},
     "output_type": "execute_result"
    }
   ],
   "source": [
    "x_mat.shape"
   ]
  },
  {
   "cell_type": "code",
   "execution_count": 68,
   "id": "5111e074",
   "metadata": {},
   "outputs": [],
   "source": [
    "# @nb.njit(nb.f4[::1](nb.f4[:,::1], nb.f4[:,::1], nb.f4[::1], nb.f4), cache=True)\n",
    "# def wcov_vec(x_mat, y_mat, w, wsum):\n",
    "    \n",
    "#     n1 = wsum * (x_mat * y_mat).T.dot(w)\n",
    "#     n2 = x_mat.T.dot(w) * y_mat.T.dot(w)\n",
    "#     numerator = n1 - n2\n",
    "    \n",
    "#     denominator_x = wsum * w.dot(x_mat**2) - x_mat.T.dot(w)**2\n",
    "#     denominator_y = wsum * w.dot(y_mat**2) - y_mat.T.dot(w)**2\n",
    "#     denominator = np.sqrt(denominator_x * denominator_y + np.finfo(nb.f4).eps)\n",
    "    \n",
    "#     wcov = numerator / (denominator)\n",
    "    \n",
    "#     return wcov"
   ]
  },
  {
   "cell_type": "code",
   "execution_count": 80,
   "id": "a86f4263",
   "metadata": {},
   "outputs": [],
   "source": [
    "@nb.njit(nb.float32[:,:](nb.float32[:,::1], nb.float32[:,::1], nb.float32[:,::1], nb.float32), cache=True)\n",
    "def calc_local_correlations(x_mat, y_mat, weight, wsum):\n",
    "    \n",
    "    def wcov_vec(x_mat, y_mat, w, wsum):\n",
    "        n1 = wsum * (x_mat * y_mat).T.dot(w)\n",
    "        n2 = x_mat.T.dot(w) * y_mat.T.dot(w)\n",
    "        numerator = n1 - n2\n",
    "        \n",
    "        denominator_x = wsum * w.dot(x_mat**2) - x_mat.T.dot(w)**2\n",
    "        denominator_y = wsum * w.dot(y_mat**2) - y_mat.T.dot(w)**2\n",
    "        denominator = np.sqrt(denominator_x * denominator_y + np.finfo(nb.float32).eps)\n",
    "        \n",
    "        wcov = numerator / (denominator)\n",
    "        \n",
    "        return wcov\n",
    "    \n",
    "    local_correlations = np.zeros((x_mat.shape[0], x_mat.shape[1]), dtype=nb.float32)\n",
    "    \n",
    "    for i in range(weight.shape[0]):\n",
    "        w = weight[i, :]\n",
    "        local_correlations[i,:] = wcov_vec(x_mat, y_mat, w, wsum)\n",
    "        \n",
    "    return local_correlations"
   ]
  },
  {
   "cell_type": "code",
   "execution_count": null,
   "id": "08b0d914",
   "metadata": {},
   "outputs": [],
   "source": []
  },
  {
   "cell_type": "code",
   "execution_count": null,
   "id": "9e21618e",
   "metadata": {},
   "outputs": [],
   "source": []
  },
  {
   "cell_type": "code",
   "execution_count": 70,
   "id": "77b87c90",
   "metadata": {},
   "outputs": [],
   "source": [
    "x_mat = _get_ordered_matrix(temp.X, ligand_pos, lr_res.ligand).A.astype(np.float32).T\n",
    "y_mat = _get_ordered_matrix(temp.X, receptor_pos, lr_res.receptor).A.astype(np.float32).T"
   ]
  },
  {
   "cell_type": "code",
   "execution_count": 71,
   "id": "f6b129b8",
   "metadata": {},
   "outputs": [],
   "source": [
    "i = 0"
   ]
  },
  {
   "cell_type": "code",
   "execution_count": 72,
   "id": "bdbe349f",
   "metadata": {},
   "outputs": [],
   "source": [
    "dist = adata.obsm['proximity']\n",
    "weight = dist.A.astype(np.float32)\n",
    "weight = np.asarray(weight, dtype=np.float32)\n",
    "w = weight[i,:].astype(np.float32)\n",
    "wsum = np.sum(w)"
   ]
  },
  {
   "cell_type": "code",
   "execution_count": 73,
   "id": "7402beb2",
   "metadata": {},
   "outputs": [],
   "source": [
    "x_mat = np.ascontiguousarray(x_mat)\n",
    "y_mat = np.ascontiguousarray(y_mat)\n",
    "weight = np.ascontiguousarray(weight)"
   ]
  },
  {
   "cell_type": "code",
   "execution_count": 74,
   "id": "1d54387e",
   "metadata": {},
   "outputs": [
    {
     "data": {
      "text/plain": [
       "(2688, 1409)"
      ]
     },
     "execution_count": 74,
     "metadata": {},
     "output_type": "execute_result"
    }
   ],
   "source": [
    "x_mat.shape"
   ]
  },
  {
   "cell_type": "code",
   "execution_count": 81,
   "id": "9cb9a1ba",
   "metadata": {},
   "outputs": [
    {
     "ename": "ValueError",
     "evalue": "data type <class 'numpy.object_'> not inexact",
     "output_type": "error",
     "traceback": [
      "\u001b[0;31m---------------------------------------------------------------------------\u001b[0m",
      "\u001b[0;31mValueError\u001b[0m                                Traceback (most recent call last)",
      "\u001b[0;32m<ipython-input-81-632e3706a418>\u001b[0m in \u001b[0;36m<module>\u001b[0;34m\u001b[0m\n\u001b[0;32m----> 1\u001b[0;31m \u001b[0mwcov_vec\u001b[0m\u001b[0;34m(\u001b[0m\u001b[0mx_mat\u001b[0m\u001b[0;34m,\u001b[0m \u001b[0my_mat\u001b[0m\u001b[0;34m,\u001b[0m \u001b[0mw\u001b[0m\u001b[0;34m,\u001b[0m \u001b[0mwsum\u001b[0m\u001b[0;34m)\u001b[0m\u001b[0;34m\u001b[0m\u001b[0;34m\u001b[0m\u001b[0m\n\u001b[0m",
      "\u001b[0;32m<ipython-input-68-4bb3590af4f8>\u001b[0m in \u001b[0;36mwcov_vec\u001b[0;34m(x_mat, y_mat, w, wsum)\u001b[0m\n\u001b[1;32m     10\u001b[0m     \u001b[0mdenominator\u001b[0m \u001b[0;34m=\u001b[0m \u001b[0mnp\u001b[0m\u001b[0;34m.\u001b[0m\u001b[0msqrt\u001b[0m\u001b[0;34m(\u001b[0m\u001b[0mdenominator_x\u001b[0m \u001b[0;34m*\u001b[0m \u001b[0mdenominator_y\u001b[0m\u001b[0;34m)\u001b[0m\u001b[0;34m\u001b[0m\u001b[0;34m\u001b[0m\u001b[0m\n\u001b[1;32m     11\u001b[0m \u001b[0;34m\u001b[0m\u001b[0m\n\u001b[0;32m---> 12\u001b[0;31m     \u001b[0mwcov\u001b[0m \u001b[0;34m=\u001b[0m \u001b[0mnumerator\u001b[0m \u001b[0;34m/\u001b[0m \u001b[0;34m(\u001b[0m\u001b[0mdenominator\u001b[0m \u001b[0;34m+\u001b[0m \u001b[0mnp\u001b[0m\u001b[0;34m.\u001b[0m\u001b[0mfinfo\u001b[0m\u001b[0;34m(\u001b[0m\u001b[0mnb\u001b[0m\u001b[0;34m.\u001b[0m\u001b[0mfloat32\u001b[0m\u001b[0;34m)\u001b[0m\u001b[0;34m.\u001b[0m\u001b[0meps\u001b[0m\u001b[0;34m)\u001b[0m\u001b[0;34m\u001b[0m\u001b[0;34m\u001b[0m\u001b[0m\n\u001b[0m\u001b[1;32m     13\u001b[0m \u001b[0;34m\u001b[0m\u001b[0m\n\u001b[1;32m     14\u001b[0m     \u001b[0;32mreturn\u001b[0m \u001b[0mwcov\u001b[0m\u001b[0;34m\u001b[0m\u001b[0;34m\u001b[0m\u001b[0m\n",
      "\u001b[0;32m~/anaconda3/lib/python3.8/site-packages/numpy/core/getlimits.py\u001b[0m in \u001b[0;36m__new__\u001b[0;34m(cls, dtype)\u001b[0m\n\u001b[1;32m    472\u001b[0m             \u001b[0mdtype\u001b[0m \u001b[0;34m=\u001b[0m \u001b[0mnewdtype\u001b[0m\u001b[0;34m\u001b[0m\u001b[0;34m\u001b[0m\u001b[0m\n\u001b[1;32m    473\u001b[0m         \u001b[0;32mif\u001b[0m \u001b[0;32mnot\u001b[0m \u001b[0missubclass\u001b[0m\u001b[0;34m(\u001b[0m\u001b[0mdtype\u001b[0m\u001b[0;34m,\u001b[0m \u001b[0mnumeric\u001b[0m\u001b[0;34m.\u001b[0m\u001b[0minexact\u001b[0m\u001b[0;34m)\u001b[0m\u001b[0;34m:\u001b[0m\u001b[0;34m\u001b[0m\u001b[0;34m\u001b[0m\u001b[0m\n\u001b[0;32m--> 474\u001b[0;31m             \u001b[0;32mraise\u001b[0m \u001b[0mValueError\u001b[0m\u001b[0;34m(\u001b[0m\u001b[0;34m\"data type %r not inexact\"\u001b[0m \u001b[0;34m%\u001b[0m \u001b[0;34m(\u001b[0m\u001b[0mdtype\u001b[0m\u001b[0;34m)\u001b[0m\u001b[0;34m)\u001b[0m\u001b[0;34m\u001b[0m\u001b[0;34m\u001b[0m\u001b[0m\n\u001b[0m\u001b[1;32m    475\u001b[0m         \u001b[0mobj\u001b[0m \u001b[0;34m=\u001b[0m \u001b[0mcls\u001b[0m\u001b[0;34m.\u001b[0m\u001b[0m_finfo_cache\u001b[0m\u001b[0;34m.\u001b[0m\u001b[0mget\u001b[0m\u001b[0;34m(\u001b[0m\u001b[0mdtype\u001b[0m\u001b[0;34m,\u001b[0m \u001b[0;32mNone\u001b[0m\u001b[0;34m)\u001b[0m\u001b[0;34m\u001b[0m\u001b[0;34m\u001b[0m\u001b[0m\n\u001b[1;32m    476\u001b[0m         \u001b[0;32mif\u001b[0m \u001b[0mobj\u001b[0m \u001b[0;32mis\u001b[0m \u001b[0;32mnot\u001b[0m \u001b[0;32mNone\u001b[0m\u001b[0;34m:\u001b[0m\u001b[0;34m\u001b[0m\u001b[0;34m\u001b[0m\u001b[0m\n",
      "\u001b[0;31mValueError\u001b[0m: data type <class 'numpy.object_'> not inexact"
     ]
    }
   ],
   "source": [
    "wcov_vec(x_mat, y_mat, w, wsum)"
   ]
  },
  {
   "cell_type": "code",
   "execution_count": null,
   "id": "e079146f",
   "metadata": {},
   "outputs": [],
   "source": [
    "%%time\n",
    "calc_local_correlations(x_mat=x_mat, y_mat=y_mat, weight=weight, wsum=wsum)"
   ]
  },
  {
   "cell_type": "code",
   "execution_count": null,
   "id": "08108fc9",
   "metadata": {},
   "outputs": [],
   "source": []
  },
  {
   "cell_type": "code",
   "execution_count": null,
   "id": "817d7079",
   "metadata": {},
   "outputs": [],
   "source": []
  },
  {
   "cell_type": "code",
   "execution_count": null,
   "id": "a935b560",
   "metadata": {},
   "outputs": [],
   "source": []
  },
  {
   "cell_type": "code",
   "execution_count": null,
   "id": "64f00c1c",
   "metadata": {},
   "outputs": [],
   "source": []
  },
  {
   "cell_type": "code",
   "execution_count": null,
   "id": "b16c00b4",
   "metadata": {},
   "outputs": [],
   "source": [
    "def convert2(x, dtype=np.float64):\n",
    "    try:\n",
    "        # Try and convert x to a Numpy array. If this succeeds\n",
    "        # then we have reached the end of the nesting-depth.\n",
    "        y = np.asarray(x, dtype=dtype)\n",
    "    except:\n",
    "        # If the conversion to a Numpy array fails, then it can\n",
    "        # be because not all elements of x can be converted to\n",
    "        # the given dtype. There is currently no way to distinguish\n",
    "        # if this is because x is a nested list, or just a list\n",
    "        # of simple elements with incompatible types.\n",
    "\n",
    "        # Recursively call this function on all elements of x.\n",
    "        y = [convert2(x_, dtype=dtype) for x_ in x]\n",
    "\n",
    "        # Convert Python list to Numba list.\n",
    "        y = numba.typed.List(y)\n",
    "\n",
    "    return y"
   ]
  },
  {
   "cell_type": "code",
   "execution_count": null,
   "id": "e0d7d8d6",
   "metadata": {},
   "outputs": [],
   "source": [
    "print(calc_local_correations.inspect_types())"
   ]
  },
  {
   "cell_type": "code",
   "execution_count": null,
   "id": "eb76e095",
   "metadata": {},
   "outputs": [],
   "source": []
  },
  {
   "cell_type": "code",
   "execution_count": null,
   "id": "09157f86",
   "metadata": {},
   "outputs": [],
   "source": [
    "convert2(y_mat)"
   ]
  },
  {
   "cell_type": "code",
   "execution_count": null,
   "id": "bc14692c",
   "metadata": {},
   "outputs": [],
   "source": []
  },
  {
   "cell_type": "code",
   "execution_count": null,
   "id": "51729288",
   "metadata": {},
   "outputs": [],
   "source": []
  },
  {
   "cell_type": "code",
   "execution_count": null,
   "id": "caa76860",
   "metadata": {},
   "outputs": [],
   "source": [
    "weight"
   ]
  },
  {
   "cell_type": "code",
   "execution_count": null,
   "id": "47914fff",
   "metadata": {},
   "outputs": [],
   "source": [
    "wsum"
   ]
  },
  {
   "cell_type": "code",
   "execution_count": null,
   "id": "81831e2e",
   "metadata": {},
   "outputs": [],
   "source": []
  },
  {
   "cell_type": "code",
   "execution_count": null,
   "id": "514ccc0d",
   "metadata": {},
   "outputs": [],
   "source": [
    "# @nb.njit(nb.f4[:,:](nb.f4[:,:], nb.f4[:,:], nb.f4[:,:], nb.f4), cache=True, parallel=True)\n",
    "def calculate_wcor(x_mat, y_mat, weight, wsum):\n",
    "    spot_n = x_mat.shape[0]\n",
    "    xy_n = x_mat.shape[1]\n",
    "    \n",
    "    local_correlations = np.zeros((spot_n, xy_n), dtype=np.float32) # nb.f4\n",
    "    \n",
    "    for i in nb.prange(spot_n):\n",
    "        w = weight[i, :]\n",
    "        # if w sum is zero, return 0\n",
    "        local_correlations[i, :] = wcov_vec(x_mat, y_mat, w, wsum)\n",
    "    \n",
    "    return local_correlations"
   ]
  },
  {
   "cell_type": "code",
   "execution_count": null,
   "id": "e3759951",
   "metadata": {},
   "outputs": [],
   "source": []
  },
  {
   "cell_type": "code",
   "execution_count": null,
   "id": "c6d174b5",
   "metadata": {},
   "outputs": [],
   "source": []
  },
  {
   "cell_type": "code",
   "execution_count": null,
   "id": "7edc103a",
   "metadata": {},
   "outputs": [],
   "source": []
  },
  {
   "cell_type": "code",
   "execution_count": null,
   "id": "ce63c2db",
   "metadata": {},
   "outputs": [],
   "source": []
  },
  {
   "cell_type": "code",
   "execution_count": null,
   "id": "15fbdedf",
   "metadata": {},
   "outputs": [],
   "source": [
    "numerator = np.zeros((x_mat.shape[0], x_mat.shape[1]), dtype=np.float32)\n",
    "for i in range(weight.shape[0]):\n",
    "    w = weight[i, :]\n",
    "    \n",
    "    numerator[:,i] = wcov_vec(x_mat, y_mat, w, wsum)\n",
    "    "
   ]
  },
  {
   "cell_type": "code",
   "execution_count": null,
   "id": "146cb52a",
   "metadata": {},
   "outputs": [],
   "source": []
  },
  {
   "cell_type": "code",
   "execution_count": null,
   "id": "d5b8af8a",
   "metadata": {},
   "outputs": [],
   "source": []
  },
  {
   "cell_type": "code",
   "execution_count": null,
   "id": "545f717c",
   "metadata": {},
   "outputs": [],
   "source": []
  },
  {
   "cell_type": "code",
   "execution_count": null,
   "id": "7822b2bb",
   "metadata": {},
   "outputs": [],
   "source": [
    "def wcov_vec(x, y, w, wsum):\n",
    "    \n",
    "    wx = w * x\n",
    "    yw = w * y\n",
    "    \n",
    "    numerator = wsum * np.sum(wx * y) - np.sum(wx) * np.sum(yw)\n",
    "    \n",
    "    denominator_x = wsum * np.sum(w * (x**2)) - np.sum(wx)**2\n",
    "    denominator_y = wsum * np.sum(w * (y**2)) - np.sum(yw)**2\n",
    "    denominator = np.sqrt(denominator_x * denominator_y) + 1.0e-20  # avoid division by zero, do if wegihts are all zero return 0? np.finfo(np.float64).eps\n",
    "    \n",
    "    wcov = numerator / denominator\n",
    "    \n",
    "    return wcov"
   ]
  },
  {
   "cell_type": "code",
   "execution_count": null,
   "id": "f95ff81f",
   "metadata": {},
   "outputs": [],
   "source": []
  },
  {
   "cell_type": "code",
   "execution_count": null,
   "id": "302e5a46",
   "metadata": {},
   "outputs": [],
   "source": []
  },
  {
   "cell_type": "code",
   "execution_count": null,
   "id": "08942ad8",
   "metadata": {},
   "outputs": [],
   "source": []
  },
  {
   "cell_type": "code",
   "execution_count": null,
   "id": "ad63e3c7",
   "metadata": {},
   "outputs": [],
   "source": []
  },
  {
   "cell_type": "markdown",
   "id": "f9b53bf1-be2e-4441-9833-99a17a48c3f7",
   "metadata": {},
   "source": [
    "Correlations"
   ]
  },
  {
   "cell_type": "code",
   "execution_count": null,
   "id": "4c8584b5",
   "metadata": {},
   "outputs": [],
   "source": []
  },
  {
   "attachments": {},
   "cell_type": "markdown",
   "id": "0afdf754",
   "metadata": {},
   "source": [
    "Fully-vectorized"
   ]
  },
  {
   "cell_type": "code",
   "execution_count": null,
   "id": "153e7944-adbb-401e-914b-09c227dcfdea",
   "metadata": {},
   "outputs": [],
   "source": [
    "import squidpy as sq\n",
    "import scanpy as sc\n",
    "import pandas as pd\n",
    "import numpy as np\n",
    "from scipy.sparse import csr_matrix, isspmatrix_csr"
   ]
  },
  {
   "cell_type": "code",
   "execution_count": null,
   "id": "cbb22f08-505c-4087-af67-84577d421f60",
   "metadata": {},
   "outputs": [],
   "source": [
    "import liana as li"
   ]
  },
  {
   "cell_type": "code",
   "execution_count": null,
   "id": "4f0fe90c-bf2b-44b3-8798-8aaad0e402f1",
   "metadata": {},
   "outputs": [],
   "source": [
    "from matplotlib.pyplot import hist\n",
    "from scipy.stats import spearmanr, pearsonr"
   ]
  },
  {
   "cell_type": "code",
   "execution_count": null,
   "id": "5e601378",
   "metadata": {},
   "outputs": [],
   "source": [
    "from liana.method._global_lr_pipe import _global_lr_pipe\n",
    "from liana.method.sp._spatialdm import _get_ordered_matrix, _standardize_matrix"
   ]
  },
  {
   "cell_type": "code",
   "execution_count": null,
   "id": "d8c4f241",
   "metadata": {},
   "outputs": [],
   "source": [
    "from scipy.stats import rankdata"
   ]
  },
  {
   "cell_type": "code",
   "execution_count": null,
   "id": "9860d383",
   "metadata": {},
   "outputs": [],
   "source": []
  },
  {
   "cell_type": "code",
   "execution_count": null,
   "id": "0e95b8ba",
   "metadata": {},
   "outputs": [],
   "source": [
    "# ligand-receptor mats\n",
    "ligand_mat = _get_ordered_matrix(temp.X, ligand_pos, lr_res.ligand).T\n",
    "receptor_mat = _get_ordered_matrix(temp.X, receptor_pos, lr_res.receptor).T"
   ]
  },
  {
   "cell_type": "code",
   "execution_count": null,
   "id": "a833b105",
   "metadata": {},
   "outputs": [],
   "source": []
  },
  {
   "cell_type": "code",
   "execution_count": null,
   "id": "3573cd36",
   "metadata": {},
   "outputs": [],
   "source": [
    "def calculate_local_correlations(x_mat, y_mat, dist, method=\"pearson\"):\n",
    "    if method not in [\"pearson\", \"spearman\"]:\n",
    "        raise ValueError(\"method must be one of 'pearson', 'spearman'\")\n",
    "    \n",
    "    # transpose\n",
    "    x_mat, y_mat = x_mat.T, y_mat.T\n",
    "    \n",
    "    weight = dist.A.T\n",
    "    weight_sums = np.sum(weight, axis = 0).flatten()\n",
    "        \n",
    "    if method==\"spearman\":\n",
    "        x_mat = rankdata(x_mat, axis=1)\n",
    "        y_mat = rankdata(y_mat, axis=1)\n",
    "    \n",
    "    # standard pearson\n",
    "    n1 = (((x_mat * y_mat).dot(weight)) * weight_sums)\n",
    "    n2 = (x_mat.dot(weight)) * (y_mat.dot(weight))\n",
    "    numerator = n1 - n2\n",
    "    \n",
    "    denominator_x = (weight_sums * (x_mat ** 2).dot(weight)) - (x_mat.dot(weight))**2\n",
    "    denominator_y = (weight_sums * (y_mat ** 2).dot(weight)) - (y_mat.dot(weight))**2\n",
    "    denominator = np.sqrt(denominator_x * denominator_y)\n",
    "    denominator[denominator == 0] = np.finfo(float).eps # add noise to avoid division by zero\n",
    "    \n",
    "    local_corrs = (numerator / denominator)\n",
    "    \n",
    "    return local_corrs"
   ]
  },
  {
   "cell_type": "code",
   "execution_count": null,
   "id": "58b651b6",
   "metadata": {},
   "outputs": [],
   "source": [
    "dist = adata.obsm['proximity']"
   ]
  },
  {
   "cell_type": "code",
   "execution_count": null,
   "id": "297b3e2d",
   "metadata": {},
   "outputs": [],
   "source": [
    "local_pc = calculate_local_correlations(x_mat = ligand_mat.A, y_mat=receptor_mat.A, dist=dist, method=\"pearson\")"
   ]
  },
  {
   "cell_type": "code",
   "execution_count": null,
   "id": "245c0cc9",
   "metadata": {},
   "outputs": [],
   "source": [
    "local_pc.shape"
   ]
  },
  {
   "cell_type": "code",
   "execution_count": null,
   "id": "a0e229bd",
   "metadata": {},
   "outputs": [],
   "source": [
    "local_pc"
   ]
  },
  {
   "cell_type": "code",
   "execution_count": null,
   "id": "175ca989",
   "metadata": {},
   "outputs": [],
   "source": []
  },
  {
   "cell_type": "code",
   "execution_count": null,
   "id": "dac4ba2a",
   "metadata": {},
   "outputs": [],
   "source": [
    "from liana.method.sp._spatial_utils import _local_permutation_pvals"
   ]
  },
  {
   "cell_type": "code",
   "execution_count": null,
   "id": "ff308c66",
   "metadata": {},
   "outputs": [],
   "source": [
    "local_pvals = _local_permutation_pvals(x_mat = ligand_mat.A, \n",
    "                                       y_mat = receptor_mat.A, \n",
    "                                       local_truth=local_pc,\n",
    "                                       local_fun=calculate_local_correlations,\n",
    "                                       dist=dist, \n",
    "                                       n_perm=n_perm, \n",
    "                                       positive_only=False,\n",
    "                                       seed=seed)"
   ]
  },
  {
   "cell_type": "code",
   "execution_count": null,
   "id": "7d34d9f6",
   "metadata": {},
   "outputs": [],
   "source": [
    "local_pvals"
   ]
  },
  {
   "cell_type": "code",
   "execution_count": null,
   "id": "b4a05f78",
   "metadata": {},
   "outputs": [],
   "source": []
  },
  {
   "cell_type": "code",
   "execution_count": null,
   "id": "74a63b84",
   "metadata": {},
   "outputs": [],
   "source": [
    "local_sp = calculate_local_correlations(x_mat = ligand_mat.A, y_mat=receptor_mat.A, dist=dist, method=\"spearman\")"
   ]
  },
  {
   "cell_type": "code",
   "execution_count": null,
   "id": "95ed049d",
   "metadata": {},
   "outputs": [],
   "source": [
    "local_sp_pvals = _local_permutation_pvals(x_mat = ligand_mat.A, \n",
    "                                          y_mat = receptor_mat.A, \n",
    "                                          local_truth=local_sp,\n",
    "                                          local_fun=calculate_local_correlations,\n",
    "                                          dist=dist, \n",
    "                                          n_perm=n_perm, \n",
    "                                          positive_only=False,\n",
    "                                          seed=seed,\n",
    "                                          method=\"spearman\"\n",
    "                                          )"
   ]
  },
  {
   "cell_type": "code",
   "execution_count": null,
   "id": "03c9a907",
   "metadata": {},
   "outputs": [],
   "source": [
    "local_pvals.shape"
   ]
  },
  {
   "cell_type": "code",
   "execution_count": null,
   "id": "4467f81f",
   "metadata": {},
   "outputs": [],
   "source": [
    "local_sp_pvals.shape"
   ]
  },
  {
   "cell_type": "code",
   "execution_count": null,
   "id": "1dfb8b1c",
   "metadata": {},
   "outputs": [],
   "source": [
    "spearmanr(local_sp_pvals[1,:], local_pvals[1,:])"
   ]
  },
  {
   "cell_type": "code",
   "execution_count": null,
   "id": "3c0dd963",
   "metadata": {},
   "outputs": [],
   "source": []
  },
  {
   "attachments": {},
   "cell_type": "markdown",
   "id": "2ab31991",
   "metadata": {},
   "source": [
    "Global summary of the local scores:"
   ]
  },
  {
   "cell_type": "code",
   "execution_count": null,
   "id": "b07ef553",
   "metadata": {},
   "outputs": [],
   "source": [
    "lr_res.loc[:,['pearson_mean','pearson_sd']] = np.vstack([np.mean(local_pc, axis=1), np.std(local_pc, axis=1)]).T"
   ]
  },
  {
   "cell_type": "code",
   "execution_count": null,
   "id": "4575407e",
   "metadata": {},
   "outputs": [],
   "source": [
    "lr_res.sort_values(by='pearson_mean', ascending=False)"
   ]
  },
  {
   "cell_type": "code",
   "execution_count": null,
   "id": "5f440879",
   "metadata": {},
   "outputs": [],
   "source": []
  },
  {
   "cell_type": "code",
   "execution_count": null,
   "id": "d4e9f6fe",
   "metadata": {},
   "outputs": [],
   "source": []
  },
  {
   "attachments": {},
   "cell_type": "markdown",
   "id": "612f9ee3",
   "metadata": {},
   "source": [
    "masked"
   ]
  },
  {
   "cell_type": "code",
   "execution_count": null,
   "id": "fb1e22fb",
   "metadata": {},
   "outputs": [],
   "source": [
    "# ligand-receptor mats\n",
    "ligand_mat = _get_ordered_matrix(temp.X, ligand_pos, lr_res.ligand)\n",
    "receptor_mat = _get_ordered_matrix(temp.X, receptor_pos, lr_res.receptor)"
   ]
  },
  {
   "cell_type": "code",
   "execution_count": null,
   "id": "11ffaef1",
   "metadata": {},
   "outputs": [],
   "source": [
    "import scipy.stats as stats"
   ]
  },
  {
   "cell_type": "code",
   "execution_count": null,
   "id": "2148aa22",
   "metadata": {},
   "outputs": [],
   "source": [
    "def masked_wcor(x, y, weight, method='spearman_nzw'):\n",
    "    spot_n = x.shape[0]\n",
    "    \n",
    "    # reshape x and y to be the same shape as weight\n",
    "    x = np.reshape(np.repeat(x, spot_n), newshape=(spot_n, spot_n)).T\n",
    "    y = np.reshape(np.repeat(y, spot_n), newshape=(spot_n, spot_n)).T\n",
    "    \n",
    "    # mask x and y with the same mask as weight\n",
    "    x_masked = np.ma.array(x, mask = weight.mask, fill_value=np.nan)\n",
    "    y_masked = np.ma.array(y, mask = weight.mask, fill_value=np.nan)\n",
    "    \n",
    "    if method == 'spearman_nzw':\n",
    "        x_masked = stats.mstats.rankdata(x_masked, axis=1)\n",
    "        y_masked = stats.mstats.rankdata(y_masked, axis=1)\n",
    "        \n",
    "    \n",
    "    # calculate weighted pearson correlation\n",
    "    wsum = np.ma.sum(weight, axis=1)\n",
    "    xws = np.ma.sum(weight * x_masked, axis=1)\n",
    "    yws = np.ma.sum(weight * y_masked, axis=1)\n",
    "    \n",
    "    n1 = wsum * np.ma.sum(weight * x_masked * y_masked, axis=1)\n",
    "    n2 = xws * yws\n",
    "    numerator = n1 - n2\n",
    "    \n",
    "    denominator_x = wsum * np.ma.sum(weight * (x_masked**2), axis=1) - xws**2\n",
    "    denominator_y = wsum * np.ma.sum(weight * (y_masked**2), axis=1) - yws**2\n",
    "    wcor = numerator / np.ma.sqrt(denominator_x * denominator_y)\n",
    "    \n",
    "    return wcor.data"
   ]
  },
  {
   "cell_type": "code",
   "execution_count": null,
   "id": "5bc646e0",
   "metadata": {},
   "outputs": [],
   "source": [
    "def calculate_masked_correlations(x_mat, y_mat, dist, method='spearman_nzw'):\n",
    "    weight = dist.A\n",
    "    msk = np.logical_not(weight>0).astype(np.int16)\n",
    "    weight = np.ma.masked_array(weight, mask=msk)\n",
    "    # calculate for each x and y combination\n",
    "    local_correlations = []\n",
    "    \n",
    "    for i in range(x_mat.shape[0]):\n",
    "        local_correlations.append(masked_wcor(x_mat[i, :], y_mat[i, :], weight=weight))\n",
    "    local_correlations = np.array(local_correlations)\n",
    "    \n",
    "    return local_correlations\n"
   ]
  },
  {
   "cell_type": "code",
   "execution_count": null,
   "id": "ea2cec37",
   "metadata": {},
   "outputs": [],
   "source": [
    "ligand_mat.shape"
   ]
  },
  {
   "cell_type": "code",
   "execution_count": null,
   "id": "be8de259",
   "metadata": {},
   "outputs": [],
   "source": [
    "%%time\n",
    "\n",
    "dist = adata.obsm['proximity']\n",
    "\n",
    "masked_sp = calculate_masked_correlations(ligand_mat[0:10,:].A, receptor_mat[0:10,:].A, dist=dist, method='spearman_nzw')"
   ]
  },
  {
   "cell_type": "code",
   "execution_count": null,
   "id": "7a53aaf7",
   "metadata": {},
   "outputs": [],
   "source": [
    "masked_sp[0:10,0:10]"
   ]
  },
  {
   "cell_type": "code",
   "execution_count": null,
   "id": "700b6b47",
   "metadata": {},
   "outputs": [],
   "source": [
    "hist(masked_sp[0,:])"
   ]
  },
  {
   "cell_type": "markdown",
   "id": "1f0d16d4",
   "metadata": {},
   "source": []
  },
  {
   "cell_type": "code",
   "execution_count": null,
   "id": "dd6b5b6f",
   "metadata": {},
   "outputs": [],
   "source": [
    "spot_n = x.shape[1]"
   ]
  },
  {
   "cell_type": "code",
   "execution_count": null,
   "id": "3ce7bdd6",
   "metadata": {},
   "outputs": [],
   "source": [
    "weight = dist.A\n",
    "msk = np.logical_not(weight>0).astype(np.int16)\n",
    "weight = np.ma.masked_array(weight, mask=msk)"
   ]
  },
  {
   "cell_type": "code",
   "execution_count": null,
   "id": "ff196baa",
   "metadata": {},
   "outputs": [],
   "source": [
    "x, y = ligand_mat[0,:].A, receptor_mat[0,:].A"
   ]
  },
  {
   "cell_type": "code",
   "execution_count": null,
   "id": "f72f3fa5",
   "metadata": {},
   "outputs": [],
   "source": [
    "spot_n\n"
   ]
  },
  {
   "cell_type": "code",
   "execution_count": null,
   "id": "6832f8b9",
   "metadata": {},
   "outputs": [],
   "source": [
    "# reshape x and y to be the same shape as weight\n",
    "x = np.reshape(np.repeat(x, spot_n), newshape=(spot_n, spot_n)).T\n",
    "y = np.reshape(np.repeat(y, spot_n), newshape=(spot_n, spot_n)).T"
   ]
  },
  {
   "cell_type": "code",
   "execution_count": null,
   "id": "1748cf55",
   "metadata": {},
   "outputs": [],
   "source": [
    "# mask x and y with the same mask as weight\n",
    "x_masked = np.ma.array(x, mask = weight.mask, fill_value=np.nan)\n",
    "y_masked = np.ma.array(y, mask = weight.mask, fill_value=np.nan)"
   ]
  },
  {
   "cell_type": "code",
   "execution_count": null,
   "id": "962f5057",
   "metadata": {},
   "outputs": [],
   "source": []
  },
  {
   "cell_type": "code",
   "execution_count": null,
   "id": "bc42b447",
   "metadata": {},
   "outputs": [],
   "source": [
    "x_masked = stats.mstats.rankdata(x_masked, axis=1)\n",
    "y_masked = stats.mstats.rankdata(y_masked, axis=1)"
   ]
  },
  {
   "cell_type": "code",
   "execution_count": null,
   "id": "ffde320a",
   "metadata": {},
   "outputs": [],
   "source": []
  },
  {
   "cell_type": "code",
   "execution_count": null,
   "id": "559a56f7",
   "metadata": {},
   "outputs": [],
   "source": []
  },
  {
   "cell_type": "code",
   "execution_count": null,
   "id": "3ef6c695",
   "metadata": {},
   "outputs": [],
   "source": []
  },
  {
   "attachments": {},
   "cell_type": "markdown",
   "id": "20c66314",
   "metadata": {},
   "source": [
    "local p-values"
   ]
  },
  {
   "cell_type": "code",
   "execution_count": null,
   "id": "2d2a26c4",
   "metadata": {},
   "outputs": [],
   "source": [
    "from numpy import random\n",
    "from tqdm import tqdm"
   ]
  },
  {
   "cell_type": "code",
   "execution_count": null,
   "id": "af430595",
   "metadata": {},
   "outputs": [],
   "source": [
    "rng = random.default_rng(0)\n",
    "n_perm = 100\n",
    "positive_only = True # remove this option?"
   ]
  },
  {
   "cell_type": "code",
   "execution_count": null,
   "id": "f47617b7",
   "metadata": {},
   "outputs": [],
   "source": [
    "dist = adata.obsm['proximity']"
   ]
  },
  {
   "cell_type": "code",
   "execution_count": null,
   "id": "8bb8d8c3",
   "metadata": {},
   "outputs": [],
   "source": [
    "local_pc.shape"
   ]
  },
  {
   "cell_type": "code",
   "execution_count": null,
   "id": "825b981e",
   "metadata": {},
   "outputs": [],
   "source": []
  },
  {
   "cell_type": "code",
   "execution_count": null,
   "id": "b9f0a2a7",
   "metadata": {},
   "outputs": [],
   "source": [
    "def _get_local_permutation_pvals(x_mat, y_mat, local_truth, local_fun, dist, n_perm, positive_only=True, **kwargs):\n",
    "    xy_n = local_truth.shape[0]\n",
    "    spot_n = local_truth.shape[1]\n",
    "    \n",
    "    print(spot_n)\n",
    "    \n",
    "    # permutation cubes to be populated\n",
    "    local_pvals = np.zeros((xy_n, spot_n))\n",
    "    \n",
    "    # shuffle the matrix\n",
    "    for i in tqdm(range(n_perm)):\n",
    "        _idx = rng.permutation(spot_n)\n",
    "        perm_score = local_fun(x_mat = x_mat[_idx, :], y_mat=y_mat, dist=dist, **kwargs) ## TODO switch to shuffle rows, not columns\n",
    "        if positive_only:\n",
    "            local_pvals += np.array(perm_score >= local_truth, dtype=int)\n",
    "        else:\n",
    "            local_pvals += (np.array(np.abs(perm_score) >= np.abs(local_truth), dtype=int))\n",
    "\n",
    "    local_pvals = local_pvals / n_perm\n",
    "    \n",
    "    return local_pvals\n",
    "    "
   ]
  },
  {
   "cell_type": "code",
   "execution_count": null,
   "id": "1a714ac7",
   "metadata": {},
   "outputs": [],
   "source": []
  },
  {
   "cell_type": "code",
   "execution_count": null,
   "id": "fe1187a9",
   "metadata": {},
   "outputs": [],
   "source": []
  },
  {
   "cell_type": "code",
   "execution_count": null,
   "id": "6f051d13",
   "metadata": {},
   "outputs": [],
   "source": []
  },
  {
   "cell_type": "code",
   "execution_count": null,
   "metadata": {},
   "outputs": [],
   "source": []
  },
  {
   "cell_type": "code",
   "execution_count": null,
   "id": "dac4ba2a",
   "metadata": {},
   "outputs": [],
   "source": [
    "from liana.method.sp._spatial_utils import _local_permutation_pvals"
   ]
  },
  {
   "cell_type": "code",
   "execution_count": null,
   "id": "ff308c66",
   "metadata": {},
   "outputs": [],
   "source": [
    "local_pvals = _local_permutation_pvals(x_mat = ligand_mat.A, \n",
    "                                       y_mat = receptor_mat.A, \n",
    "                                       local_truth=local_pc,\n",
    "                                       local_fun=calculate_local_correlations,\n",
    "                                       dist=dist, \n",
    "                                       n_perm=n_perm, \n",
    "                                       positive_only=False,\n",
    "                                       seed=0)"
   ]
  },
  {
   "cell_type": "code",
   "execution_count": null,
   "id": "7d34d9f6",
   "metadata": {},
   "outputs": [],
   "source": [
    "local_pvals"
   ]
  },
  {
   "cell_type": "code",
   "execution_count": null,
   "id": "4806c532",
   "metadata": {},
   "outputs": [],
   "source": []
  },
  {
   "cell_type": "code",
   "execution_count": null,
   "id": "b08fb539",
   "metadata": {},
   "outputs": [],
   "source": [
    "local_pvals"
   ]
  },
  {
   "cell_type": "code",
   "execution_count": null,
   "id": "160df845",
   "metadata": {},
   "outputs": [],
   "source": [
    "from  scipy.sparse import csr_matrix"
   ]
  },
  {
   "cell_type": "code",
   "execution_count": null,
   "id": "f0d4453b",
   "metadata": {},
   "outputs": [],
   "source": [
    "local_pvals.shape"
   ]
  },
  {
   "cell_type": "code",
   "execution_count": null,
   "id": "fe424bbc",
   "metadata": {},
   "outputs": [],
   "source": [
    "local_pvals"
   ]
  },
  {
   "cell_type": "code",
   "execution_count": null,
   "id": "808dac55",
   "metadata": {},
   "outputs": [],
   "source": []
  },
  {
   "cell_type": "code",
   "execution_count": null,
   "id": "7c8b5359",
   "metadata": {},
   "outputs": [],
   "source": [
    "local_pc.shape"
   ]
  },
  {
   "cell_type": "code",
   "execution_count": null,
   "id": "4e5f6f90",
   "metadata": {},
   "outputs": [],
   "source": [
    "local_pvals.shape"
   ]
  },
  {
   "cell_type": "code",
   "execution_count": null,
   "id": "6ca94d98",
   "metadata": {},
   "outputs": [],
   "source": [
    "local_masked_pvals = _get_local_permutation_pvals(x_mat = ligand_mat.A,\n",
    "                                                  y_mat = receptor_mat.A,\n",
    "                                                  local_truth = masked_sp,\n",
    "                                                  local_fun=calculate_masked_correlations,\n",
    "                                                  dist=dist,\n",
    "                                                  n_perm=n_perm,\n",
    "                                                  positive_only=False)"
   ]
  },
  {
   "cell_type": "code",
   "execution_count": null,
   "id": "82286380",
   "metadata": {},
   "outputs": [],
   "source": [
    "local_masked_pvals"
   ]
  },
  {
   "cell_type": "code",
   "execution_count": null,
   "id": "693c03cb",
   "metadata": {},
   "outputs": [],
   "source": [
    "local_masked_pvals.shape"
   ]
  },
  {
   "cell_type": "code",
   "execution_count": null,
   "id": "46d37697",
   "metadata": {},
   "outputs": [],
   "source": [
    "from scipy.stats import spearmanr,  pearsonr"
   ]
  },
  {
   "cell_type": "code",
   "execution_count": null,
   "id": "e8f4e9ec",
   "metadata": {},
   "outputs": [],
   "source": [
    "pearsonr(local_masked_pvals[0,:], local_pvals[0,:])"
   ]
  },
  {
   "cell_type": "code",
   "execution_count": null,
   "id": "d1b942d7",
   "metadata": {},
   "outputs": [],
   "source": []
  }
 ],
 "metadata": {
  "kernelspec": {
   "display_name": "liana-py",
   "language": "python",
   "name": "liana-py"
  },
  "language_info": {
   "codemirror_mode": {
    "name": "ipython",
    "version": 3
   },
   "file_extension": ".py",
   "mimetype": "text/x-python",
   "name": "python",
   "nbconvert_exporter": "python",
   "pygments_lexer": "ipython3",
   "version": "3.8.8"
  }
 },
 "nbformat": 4,
 "nbformat_minor": 5
}
