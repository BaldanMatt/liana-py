{
 "cells": [
  {
   "cell_type": "code",
   "execution_count": 10,
   "id": "153e7944-adbb-401e-914b-09c227dcfdea",
   "metadata": {},
   "outputs": [],
   "source": [
    "import squidpy as sq\n",
    "import scanpy as sc\n",
    "import pandas as pd\n",
    "import numpy as np\n",
    "from scipy.sparse import csr_matrix, isspmatrix_csr"
   ]
  },
  {
   "cell_type": "code",
   "execution_count": 11,
   "id": "cbb22f08-505c-4087-af67-84577d421f60",
   "metadata": {},
   "outputs": [],
   "source": [
    "import liana as li"
   ]
  },
  {
   "cell_type": "code",
   "execution_count": 12,
   "id": "4f0fe90c-bf2b-44b3-8798-8aaad0e402f1",
   "metadata": {},
   "outputs": [],
   "source": [
    "from matplotlib.pyplot import hist"
   ]
  },
  {
   "cell_type": "code",
   "execution_count": null,
   "id": "26a5283a-40e1-4441-828f-729247354e00",
   "metadata": {},
   "outputs": [],
   "source": []
  },
  {
   "cell_type": "code",
   "execution_count": 13,
   "id": "b9f16311-988d-4b04-b544-3b9ae80f0b71",
   "metadata": {},
   "outputs": [],
   "source": [
    "counts = pd.read_csv(\"data/counts_mat.csv\")\n",
    "weights = pd.read_csv(\"data/weight_mat.csv\")"
   ]
  },
  {
   "cell_type": "code",
   "execution_count": 14,
   "id": "1caf6c62-a727-40c5-94a9-5d6dcd535c48",
   "metadata": {},
   "outputs": [],
   "source": [
    "var = pd.DataFrame(counts[['Unnamed: 0']]).set_index('Unnamed: 0')\n",
    "var.index.name = None"
   ]
  },
  {
   "cell_type": "code",
   "execution_count": 15,
   "id": "740b5fad-7447-4eef-ba35-6ef5e028da17",
   "metadata": {},
   "outputs": [],
   "source": [
    "adata = sc.AnnData(X=csr_matrix(counts.drop(counts.columns[0], axis=1), dtype=np.float32).T, var=var)"
   ]
  },
  {
   "cell_type": "code",
   "execution_count": 16,
   "id": "bb9f37d6-da59-44ca-b304-222329b21237",
   "metadata": {},
   "outputs": [],
   "source": [
    "adata.obsm['proximity'] = csr_matrix(weights)"
   ]
  },
  {
   "cell_type": "code",
   "execution_count": null,
   "id": "10c311ac-b3a1-49fe-a054-83fb41aeb5e3",
   "metadata": {},
   "outputs": [],
   "source": []
  },
  {
   "cell_type": "code",
   "execution_count": 17,
   "id": "22a8de43-4ff7-4e93-9056-e27ba4a0afef",
   "metadata": {},
   "outputs": [],
   "source": [
    "from liana.method._global_lr_pipe import _global_lr_pipe\n",
    "from liana.method.sp._spatialdm import _get_ordered_matrix, _standardize_matrix"
   ]
  },
  {
   "cell_type": "code",
   "execution_count": null,
   "id": "76f1b690-891f-4949-9517-1957108b80e9",
   "metadata": {},
   "outputs": [],
   "source": []
  },
  {
   "cell_type": "code",
   "execution_count": 18,
   "id": "34109760-a362-41ca-8931-6658aa6d0223",
   "metadata": {},
   "outputs": [
    {
     "data": {
      "text/plain": [
       "AnnData object with n_obs × n_vars = 260 × 43\n",
       "    obsm: 'proximity'"
      ]
     },
     "execution_count": 18,
     "metadata": {},
     "output_type": "execute_result"
    }
   ],
   "source": [
    "adata"
   ]
  },
  {
   "cell_type": "code",
   "execution_count": 65,
   "id": "c8fee01a-7e7a-4556-9c54-77a671b0a735",
   "metadata": {},
   "outputs": [],
   "source": [
    "resource = pd.DataFrame({\"ligand\":[\"Dnm1l\", \"Arrb1\", \"Igf2\"], \"receptor\":[\"Gucy1b3\", \"Mtor\", \"Tuba1a\"]})"
   ]
  },
  {
   "cell_type": "code",
   "execution_count": null,
   "id": "43b18c02-ee7c-4980-8ec7-9da7418b0676",
   "metadata": {},
   "outputs": [],
   "source": []
  },
  {
   "cell_type": "code",
   "execution_count": 66,
   "id": "9b2eae96-cedb-44e6-b9b1-e122bba505bb",
   "metadata": {},
   "outputs": [
    {
     "name": "stdout",
     "output_type": "stream",
     "text": [
      "Using `.X`!\n",
      "Converting mat to CSR format\n"
     ]
    }
   ],
   "source": [
    "temp, lr_res, ligand_pos, receptor_pos = _global_lr_pipe(adata=adata,\n",
    "                                                         resource=resource,\n",
    "                                                         expr_prop=0.05,\n",
    "                                                         use_raw=False,\n",
    "                                                         verbose=True,\n",
    "                                                         layer=None,\n",
    "                                                         _key_cols=['ligand_complex', 'receptor_complex'],\n",
    "                                                         _complex_cols=['ligand_means', 'receptor_means'],\n",
    "                                                         _obms_keys=['proximity'],\n",
    "                                                         resource_name=None\n",
    "                                                         )"
   ]
  },
  {
   "cell_type": "code",
   "execution_count": 67,
   "id": "5801b031-bfdc-4712-8191-26c88d7d6d59",
   "metadata": {},
   "outputs": [
    {
     "data": {
      "text/html": [
       "<div>\n",
       "<style scoped>\n",
       "    .dataframe tbody tr th:only-of-type {\n",
       "        vertical-align: middle;\n",
       "    }\n",
       "\n",
       "    .dataframe tbody tr th {\n",
       "        vertical-align: top;\n",
       "    }\n",
       "\n",
       "    .dataframe thead th {\n",
       "        text-align: right;\n",
       "    }\n",
       "</style>\n",
       "<table border=\"1\" class=\"dataframe\">\n",
       "  <thead>\n",
       "    <tr style=\"text-align: right;\">\n",
       "      <th></th>\n",
       "      <th>interaction</th>\n",
       "      <th>ligand</th>\n",
       "      <th>receptor</th>\n",
       "      <th>ligand_complex</th>\n",
       "      <th>receptor_complex</th>\n",
       "      <th>ligand_means</th>\n",
       "      <th>ligand_props</th>\n",
       "      <th>receptor_means</th>\n",
       "      <th>receptor_props</th>\n",
       "      <th>prop_min</th>\n",
       "    </tr>\n",
       "  </thead>\n",
       "  <tbody>\n",
       "    <tr>\n",
       "      <th>0</th>\n",
       "      <td>Dnm1l&amp;Gucy1b3</td>\n",
       "      <td>Dnm1l</td>\n",
       "      <td>Gucy1b3</td>\n",
       "      <td>Dnm1l</td>\n",
       "      <td>Gucy1b3</td>\n",
       "      <td>2.682889</td>\n",
       "      <td>0.950000</td>\n",
       "      <td>3.117442</td>\n",
       "      <td>0.976923</td>\n",
       "      <td>0.950000</td>\n",
       "    </tr>\n",
       "    <tr>\n",
       "      <th>1</th>\n",
       "      <td>Arrb1&amp;Mtor</td>\n",
       "      <td>Arrb1</td>\n",
       "      <td>Mtor</td>\n",
       "      <td>Arrb1</td>\n",
       "      <td>Mtor</td>\n",
       "      <td>2.665413</td>\n",
       "      <td>0.957692</td>\n",
       "      <td>2.298451</td>\n",
       "      <td>0.907692</td>\n",
       "      <td>0.907692</td>\n",
       "    </tr>\n",
       "    <tr>\n",
       "      <th>2</th>\n",
       "      <td>Igf2&amp;Tuba1a</td>\n",
       "      <td>Igf2</td>\n",
       "      <td>Tuba1a</td>\n",
       "      <td>Igf2</td>\n",
       "      <td>Tuba1a</td>\n",
       "      <td>1.924077</td>\n",
       "      <td>0.892308</td>\n",
       "      <td>6.466562</td>\n",
       "      <td>1.000000</td>\n",
       "      <td>0.892308</td>\n",
       "    </tr>\n",
       "  </tbody>\n",
       "</table>\n",
       "</div>"
      ],
      "text/plain": [
       "     interaction ligand receptor ligand_complex receptor_complex  \\\n",
       "0  Dnm1l&Gucy1b3  Dnm1l  Gucy1b3          Dnm1l          Gucy1b3   \n",
       "1     Arrb1&Mtor  Arrb1     Mtor          Arrb1             Mtor   \n",
       "2    Igf2&Tuba1a   Igf2   Tuba1a           Igf2           Tuba1a   \n",
       "\n",
       "   ligand_means  ligand_props  receptor_means  receptor_props  prop_min  \n",
       "0      2.682889      0.950000        3.117442        0.976923  0.950000  \n",
       "1      2.665413      0.957692        2.298451        0.907692  0.907692  \n",
       "2      1.924077      0.892308        6.466562        1.000000  0.892308  "
      ]
     },
     "execution_count": 67,
     "metadata": {},
     "output_type": "execute_result"
    }
   ],
   "source": [
    "lr_res"
   ]
  },
  {
   "cell_type": "code",
   "execution_count": null,
   "id": "79c3025f-5d31-475b-85fb-8228c82fc7da",
   "metadata": {},
   "outputs": [],
   "source": []
  },
  {
   "cell_type": "markdown",
   "id": "f9b53bf1-be2e-4441-9833-99a17a48c3f7",
   "metadata": {},
   "source": [
    "Correlations"
   ]
  },
  {
   "cell_type": "code",
   "execution_count": 68,
   "id": "09576b07-eb28-4dab-84f4-0917ac4ebb8e",
   "metadata": {},
   "outputs": [],
   "source": [
    "ligand_mat = _get_ordered_matrix(temp.X, ligand_pos, lr_res.ligand)\n",
    "receptor_mat = _get_ordered_matrix(temp.X, receptor_pos, lr_res.receptor)"
   ]
  },
  {
   "cell_type": "code",
   "execution_count": 69,
   "id": "387a8e8d-f051-49b3-b7ef-c2990d247d83",
   "metadata": {},
   "outputs": [],
   "source": [
    "x, y = ligand_mat[0, :].A.flatten(), receptor_mat[0, :].A.flatten()"
   ]
  },
  {
   "cell_type": "code",
   "execution_count": 70,
   "id": "1b518623-87e5-448c-87f2-18360735fe35",
   "metadata": {},
   "outputs": [],
   "source": [
    "from scipy.stats import spearmanr, pearsonr, pointbiserialr, kendalltau"
   ]
  },
  {
   "cell_type": "code",
   "execution_count": 71,
   "id": "3568c25e-3ef5-45e1-b24c-1dd25f88a7ef",
   "metadata": {},
   "outputs": [
    {
     "data": {
      "text/plain": [
       "(0.12061560721706954, 0.05206512033238492)"
      ]
     },
     "execution_count": 71,
     "metadata": {},
     "output_type": "execute_result"
    }
   ],
   "source": [
    "pearsonr(x, y)"
   ]
  },
  {
   "cell_type": "code",
   "execution_count": null,
   "id": "bcde7882-060a-46c7-a9e0-e71fabed248c",
   "metadata": {},
   "outputs": [],
   "source": []
  },
  {
   "cell_type": "markdown",
   "id": "27734c88-857b-46fe-8e67-3e47e964509b",
   "metadata": {},
   "source": [
    "One by One"
   ]
  },
  {
   "cell_type": "code",
   "execution_count": 72,
   "id": "1f465b2e-56c7-45f3-9e34-e33a338de7ac",
   "metadata": {},
   "outputs": [],
   "source": [
    "def wcor(x, y, weight):\n",
    "    weight_sum = np.sum(weight)\n",
    "    \n",
    "    numerator = weight_sum * np.sum(weight * x * y) - np.sum(weight * x) * np.sum(weight * y)\n",
    "    denominator_x = weight_sum * np.sum(weight * (x**2)) - np.sum(weight * x)**2\n",
    "    denominator_y = weight_sum * np.sum(weight * (y**2)) - np.sum(weight * y)**2\n",
    "    \n",
    "    wcor = numerator / np.sqrt(denominator_x * denominator_y)\n",
    "    \n",
    "    return wcor"
   ]
  },
  {
   "cell_type": "code",
   "execution_count": 73,
   "id": "789f9ba8-3df6-4c99-9309-2fdeced50505",
   "metadata": {},
   "outputs": [
    {
     "data": {
      "text/plain": [
       "<260x260 sparse matrix of type '<class 'numpy.float64'>'\n",
       "\twith 3120 stored elements in Compressed Sparse Row format>"
      ]
     },
     "execution_count": 73,
     "metadata": {},
     "output_type": "execute_result"
    }
   ],
   "source": [
    "adata.obsm['proximity']"
   ]
  },
  {
   "cell_type": "code",
   "execution_count": null,
   "id": "09fc5ee7-681e-485c-a60c-db203ae0df85",
   "metadata": {},
   "outputs": [],
   "source": []
  },
  {
   "cell_type": "code",
   "execution_count": 74,
   "id": "2ba43bf5-801a-47b7-a879-94ef695e699a",
   "metadata": {},
   "outputs": [],
   "source": [
    "i = 0"
   ]
  },
  {
   "cell_type": "code",
   "execution_count": 75,
   "id": "06da56e4-35e4-4280-bf41-042318665a11",
   "metadata": {},
   "outputs": [
    {
     "data": {
      "text/plain": [
       "0.12061560565466811"
      ]
     },
     "execution_count": 75,
     "metadata": {},
     "output_type": "execute_result"
    }
   ],
   "source": [
    "# all weights = 1 (i.e. pearsonr)\n",
    "wcor(x, y, np.repeat(1, x.shape[0]))"
   ]
  },
  {
   "cell_type": "code",
   "execution_count": null,
   "id": "3e260853-40fe-46dd-9969-0b7c6a4a8e6c",
   "metadata": {},
   "outputs": [],
   "source": []
  },
  {
   "cell_type": "code",
   "execution_count": 76,
   "id": "454f7738-17ee-4542-9bc5-95a4adb4cad1",
   "metadata": {},
   "outputs": [],
   "source": [
    "weight = adata.obsm['proximity']"
   ]
  },
  {
   "cell_type": "code",
   "execution_count": 77,
   "id": "c6547abd-49ef-4ff6-a16e-3d1ef4f4d002",
   "metadata": {},
   "outputs": [],
   "source": [
    "# calculate all local correlations\n",
    "# technically, if we take i (a spot), x and y (e.g. genes),\n",
    "# we go over all rows in w (i.e. every spot)\n",
    "# and we re-calculate PC with the spatial weights \n",
    "# for the spots i to any other spot (j)\n",
    "local_corrs = []\n",
    "for i in range(weight.shape[0]):\n",
    "    local_corrs.append(wcor(x, y, weight[i, :].A))\n",
    "local_corrs = np.array(local_corrs)"
   ]
  },
  {
   "cell_type": "code",
   "execution_count": 78,
   "id": "440cf97a-fca9-4809-8072-8b5899f732de",
   "metadata": {},
   "outputs": [
    {
     "data": {
      "text/plain": [
       "(array([ 9., 25., 27., 37., 26., 43., 37., 35., 14.,  7.]),\n",
       " array([-0.58677481, -0.45093227, -0.31508972, -0.17924717, -0.04340463,\n",
       "         0.09243792,  0.22828047,  0.36412302,  0.49996556,  0.63580811,\n",
       "         0.77165066]),\n",
       " <BarContainer object of 10 artists>)"
      ]
     },
     "execution_count": 78,
     "metadata": {},
     "output_type": "execute_result"
    },
    {
     "data": {
      "image/png": "[encoded data removed]",
      "text/plain": [
       "<Figure size 432x288 with 1 Axes>"
      ]
     },
     "metadata": {
      "needs_background": "light"
     },
     "output_type": "display_data"
    }
   ],
   "source": [
    "hist(local_corrs)"
   ]
  },
  {
   "cell_type": "code",
   "execution_count": 79,
   "id": "883ae786-b729-4cd7-aa00-364eb1b1f009",
   "metadata": {},
   "outputs": [
    {
     "data": {
      "text/plain": [
       "array([-1.32964636e-03,  1.78378033e-01, -6.99203744e-04,  7.18299187e-04,\n",
       "       -2.14034393e-01, -2.15510184e-02, -2.38989051e-03, -7.09542255e-02,\n",
       "       -7.78087740e-02,  2.09318414e-01,  2.81858651e-02, -5.68777218e-02,\n",
       "        1.82043598e-01,  3.44058245e-01,  3.75013963e-01,  4.18542795e-02,\n",
       "        1.68156230e-01,  6.15738202e-01,  3.02646253e-01,  2.82138089e-01,\n",
       "        1.59544917e-01, -8.49139453e-02,  3.12473112e-01,  4.09399035e-01,\n",
       "        4.52031150e-01,  4.61461128e-01,  3.49804439e-01,  1.68055224e-01,\n",
       "       -3.54433375e-01,  1.44093762e-01,  1.01623378e-01,  3.10269403e-01,\n",
       "        1.07867065e-01, -8.87894317e-02, -1.03981598e-01,  1.35644097e-01,\n",
       "        1.05247473e-01,  1.91265777e-01,  1.85502205e-01, -2.60868345e-01,\n",
       "       -1.78722430e-01,  4.82366112e-01, -3.72962447e-01,  5.03809260e-01,\n",
       "       -2.66589328e-01,  2.77417567e-01,  6.98883674e-01,  4.20123467e-01,\n",
       "        6.91857338e-01,  7.71650657e-01, -3.79685627e-01, -3.32504202e-02,\n",
       "        6.59314392e-01,  4.17716107e-01,  3.01893658e-01,  3.84708963e-01,\n",
       "        2.67949183e-01,  1.43490511e-02,  4.44106074e-01,  1.51855589e-02,\n",
       "       -1.69036807e-01,  8.58603401e-02,  3.96255929e-02, -6.04152199e-03,\n",
       "       -2.08881605e-03,  2.66357466e-01, -1.28222214e-01,  1.24538324e-01,\n",
       "        3.31879469e-01, -5.44297943e-02, -4.18955313e-01,  1.42167195e-01,\n",
       "        1.76010734e-01,  2.11191822e-01, -5.77697951e-02,  2.68851542e-01,\n",
       "        3.08287831e-01,  1.51347608e-01,  1.96679767e-01,  2.63920171e-01,\n",
       "        3.74149718e-01,  4.40352504e-01, -1.43983861e-01, -1.78046029e-01,\n",
       "       -2.15217143e-01, -3.79207281e-01,  4.48509142e-01,  5.99298161e-01,\n",
       "        6.28508434e-01,  4.07268612e-01,  4.47704454e-01, -2.46822559e-01,\n",
       "        2.22374645e-01,  1.35586753e-01,  3.39622852e-01,  4.06957959e-01,\n",
       "        4.06800004e-01, -1.50664781e-01,  5.98063867e-01,  2.86113015e-01,\n",
       "        4.25901045e-01,  6.91429951e-01,  1.81045459e-01,  5.42629598e-01,\n",
       "        5.64700953e-01,  3.48492339e-01, -2.02739483e-01, -1.21990673e-01,\n",
       "       -2.87622585e-01, -1.90305681e-01,  6.09180915e-01, -8.61860444e-02,\n",
       "        4.27680012e-01, -1.40253923e-01, -2.20742550e-01, -7.89585769e-02,\n",
       "       -3.24871134e-01, -1.02433302e-01, -8.20172939e-02,  2.35405755e-01,\n",
       "       -2.21540249e-01, -1.34632250e-01, -2.51318106e-01, -2.05011108e-01,\n",
       "       -5.80420529e-02, -4.51496817e-01, -2.51572036e-01, -2.79582504e-01,\n",
       "       -4.38373413e-01, -4.48703619e-01, -3.35892399e-01, -4.30461553e-01,\n",
       "       -3.76730051e-01, -1.16754224e-01, -4.56496514e-01, -3.29762617e-01,\n",
       "       -3.79297229e-01, -1.37145216e-01,  2.85920843e-01,  2.27971722e-01,\n",
       "       -1.33712718e-01,  7.37441082e-02,  7.55274639e-02, -1.47913590e-01,\n",
       "       -1.03667884e-01,  3.34518358e-02,  5.07038496e-01,  4.36261377e-01,\n",
       "       -8.67019808e-03,  1.80171024e-01,  3.09209595e-01,  6.08077283e-01,\n",
       "        6.42030650e-01,  4.88635767e-01,  3.84399827e-01, -6.13450953e-02,\n",
       "        5.02173227e-02,  3.04850308e-01, -4.31863377e-01, -3.50954437e-01,\n",
       "       -2.64580864e-01, -1.16494108e-01,  4.89694696e-01,  2.86694179e-01,\n",
       "        3.97898440e-01,  4.25635511e-01, -1.62519680e-01, -4.18082253e-01,\n",
       "        4.17390088e-01, -3.10835279e-01,  4.47266841e-01, -2.48913199e-01,\n",
       "        1.27978697e-01, -4.08402976e-01, -2.38498486e-01,  3.33322194e-01,\n",
       "       -5.86774815e-01,  4.25113525e-01,  1.17259187e-01,  1.31899650e-01,\n",
       "        2.08303014e-01,  1.22075035e-01,  2.66362000e-01,  1.89544891e-01,\n",
       "        5.17055039e-01,  1.36685993e-01,  1.47798413e-01,  3.48661061e-01,\n",
       "        2.01044103e-01,  7.31497646e-02,  3.29748364e-01,  5.86986155e-01,\n",
       "        2.15517007e-01, -2.72746015e-03,  1.47860340e-01,  6.54522061e-01,\n",
       "       -4.25641855e-01, -3.27251599e-01, -2.39121360e-01, -3.34926319e-01,\n",
       "       -1.54007688e-01,  2.41401976e-01, -1.86685868e-01, -4.24051537e-01,\n",
       "       -3.64764689e-01, -4.54025467e-01, -2.83353780e-01, -3.76203905e-01,\n",
       "       -5.21117461e-01,  2.11504698e-01,  3.21276141e-01,  4.46792392e-01,\n",
       "        5.51378187e-02, -1.42056946e-01, -1.05283452e-02, -2.49399174e-02,\n",
       "        6.11144865e-01,  5.48508514e-01, -2.74726036e-01, -5.48706985e-01,\n",
       "       -4.44056146e-01, -1.67543222e-01, -1.42954642e-01,  4.64571054e-01,\n",
       "       -2.64389287e-01, -4.69526640e-01, -3.09206883e-01, -2.25946349e-01,\n",
       "       -4.91792460e-01,  4.05884230e-01,  9.43691491e-02,  2.70138104e-01,\n",
       "        1.07284036e-01, -3.45683423e-01, -3.13425107e-01,  1.35787228e-01,\n",
       "       -1.07934342e-01, -1.21285103e-01,  4.31928617e-01,  7.67755283e-02,\n",
       "        3.52219425e-01,  9.25476571e-02,  2.04033051e-01,  2.90956375e-01,\n",
       "        4.90045135e-01,  1.00465483e-01,  5.13869478e-02,  2.55300481e-01,\n",
       "        2.54407571e-01,  4.25067338e-01,  3.88393876e-01,  2.57660667e-01,\n",
       "       -1.33042886e-01,  3.80505195e-01,  3.39671396e-01,  3.43265405e-01,\n",
       "        2.74393068e-01,  1.11669688e-01, -5.49594288e-01, -1.99039025e-01])"
      ]
     },
     "execution_count": 79,
     "metadata": {},
     "output_type": "execute_result"
    }
   ],
   "source": [
    "local_corrs"
   ]
  },
  {
   "cell_type": "code",
   "execution_count": null,
   "id": "39b825d7-b5c7-4708-b827-4b560c5e92af",
   "metadata": {},
   "outputs": [],
   "source": []
  },
  {
   "cell_type": "markdown",
   "id": "6c541874-43de-4f95-8dd3-fcf5f6c5df24",
   "metadata": {},
   "source": [
    "Vectorize"
   ]
  },
  {
   "cell_type": "code",
   "execution_count": null,
   "id": "396d0f18-e223-467a-8bfd-6e3778557c14",
   "metadata": {},
   "outputs": [],
   "source": []
  }
 ],
 "metadata": {
  "kernelspec": {
   "display_name": "liana-py",
   "language": "python",
   "name": "liana-py"
  },
  "language_info": {
   "codemirror_mode": {
    "name": "ipython",
    "version": 3
   },
   "file_extension": ".py",
   "mimetype": "text/x-python",
   "name": "python",
   "nbconvert_exporter": "python",
   "pygments_lexer": "ipython3",
   "version": "3.8.8"
  }
 },
 "nbformat": 4,
 "nbformat_minor": 5
}
