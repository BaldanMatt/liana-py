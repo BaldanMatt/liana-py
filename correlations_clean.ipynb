{
 "cells": [
  {
   "cell_type": "code",
   "execution_count": 1,
   "id": "153e7944-adbb-401e-914b-09c227dcfdea",
   "metadata": {},
   "outputs": [
    {
     "name": "stderr",
     "output_type": "stream",
     "text": [
      "/home/dbdimitrov/anaconda3/lib/python3.8/site-packages/paramiko/transport.py:219: CryptographyDeprecationWarning: Blowfish has been deprecated\n",
      "  \"class\": algorithms.Blowfish,\n",
      "/home/dbdimitrov/anaconda3/lib/python3.8/site-packages/numpydoc/docscrape.py:449: UserWarning: potentially wrong underline length... \n",
      "Extended Summary \n",
      "---------- in \n",
      "Add a Points layer to the layer list. \n",
      "...\n",
      "  warn(msg)\n",
      "/home/dbdimitrov/anaconda3/lib/python3.8/site-packages/numpydoc/docscrape.py:449: UserWarning: potentially wrong underline length... \n",
      "Extended Summary \n",
      "---------- in \n",
      "Add a Labels layer to the layer list. \n",
      "...\n",
      "  warn(msg)\n",
      "/home/dbdimitrov/anaconda3/lib/python3.8/site-packages/numpydoc/docscrape.py:449: UserWarning: potentially wrong underline length... \n",
      "Extended Summary \n",
      "---------- in \n",
      "Add a Shapes layer to the layer list. \n",
      "...\n",
      "  warn(msg)\n",
      "/home/dbdimitrov/anaconda3/lib/python3.8/site-packages/numpydoc/docscrape.py:449: UserWarning: potentially wrong underline length... \n",
      "Extended Summary \n",
      "---------- in \n",
      "Add a Surface layer to the layer list. \n",
      "...\n",
      "  warn(msg)\n",
      "/home/dbdimitrov/anaconda3/lib/python3.8/site-packages/numpydoc/docscrape.py:449: UserWarning: potentially wrong underline length... \n",
      "Extended Summary \n",
      "---------- in \n",
      "Add a Vectors layer to the layer list. \n",
      "...\n",
      "  warn(msg)\n"
     ]
    }
   ],
   "source": [
    "import squidpy as sq\n",
    "import scanpy as sc\n",
    "import pandas as pd\n",
    "import numpy as np\n",
    "from scipy.sparse import csr_matrix, isspmatrix_csr"
   ]
  },
  {
   "cell_type": "code",
   "execution_count": 2,
   "id": "cbb22f08-505c-4087-af67-84577d421f60",
   "metadata": {},
   "outputs": [],
   "source": [
    "import liana as li"
   ]
  },
  {
   "cell_type": "code",
   "execution_count": 3,
   "id": "4f0fe90c-bf2b-44b3-8798-8aaad0e402f1",
   "metadata": {},
   "outputs": [],
   "source": [
    "from matplotlib.pyplot import hist"
   ]
  },
  {
   "cell_type": "code",
   "execution_count": 4,
   "id": "22a8de43-4ff7-4e93-9056-e27ba4a0afef",
   "metadata": {},
   "outputs": [],
   "source": [
    "from liana.method._global_lr_pipe import _global_lr_pipe\n",
    "from liana.method.sp._spatialdm import _get_ordered_matrix, _standardize_matrix"
   ]
  },
  {
   "cell_type": "code",
   "execution_count": null,
   "id": "943a8965",
   "metadata": {},
   "outputs": [],
   "source": []
  },
  {
   "cell_type": "code",
   "execution_count": null,
   "id": "b9f16311-988d-4b04-b544-3b9ae80f0b71",
   "metadata": {},
   "outputs": [],
   "source": [
    "counts = pd.read_csv(\"data/counts_mat.csv\")\n",
    "weights = pd.read_csv(\"data/weight_mat.csv\")"
   ]
  },
  {
   "cell_type": "code",
   "execution_count": null,
   "id": "1caf6c62-a727-40c5-94a9-5d6dcd535c48",
   "metadata": {},
   "outputs": [],
   "source": [
    "var = pd.DataFrame(counts[['Unnamed: 0']]).set_index('Unnamed: 0')\n",
    "var.index.name = None"
   ]
  },
  {
   "cell_type": "code",
   "execution_count": null,
   "id": "740b5fad-7447-4eef-ba35-6ef5e028da17",
   "metadata": {},
   "outputs": [],
   "source": [
    "adata = sc.AnnData(X=csr_matrix(counts.drop(counts.columns[0], axis=1), dtype=np.float32).T, var=var)"
   ]
  },
  {
   "cell_type": "code",
   "execution_count": null,
   "id": "bb9f37d6-da59-44ca-b304-222329b21237",
   "metadata": {},
   "outputs": [],
   "source": [
    "adata.obsm['proximity'] = csr_matrix(weights)"
   ]
  },
  {
   "cell_type": "code",
   "execution_count": null,
   "id": "a9f07752",
   "metadata": {},
   "outputs": [],
   "source": []
  },
  {
   "cell_type": "code",
   "execution_count": 5,
   "id": "3b30f85e",
   "metadata": {},
   "outputs": [],
   "source": [
    "# scHOT data test\n",
    "adata = sc.read_h5ad(\"test_spatial.h5ad\")\n",
    "resource = pd.DataFrame({\"ligand\":[\"Dnm1l\", \"Arrb1\", \"Igf2\", \"Dnm1l\"], \"receptor\":[\"Gucy1b3\", \"Mtor\", \"Tuba1a\", \"Fam63b\"]})\n",
    "dist = adata.obsm['proximity']"
   ]
  },
  {
   "cell_type": "code",
   "execution_count": null,
   "id": "58cb788f",
   "metadata": {},
   "outputs": [],
   "source": []
  },
  {
   "cell_type": "code",
   "execution_count": null,
   "id": "442d2fdf",
   "metadata": {},
   "outputs": [],
   "source": [
    "# full visium slide\n",
    "# load the pre-processed dataset\n",
    "img = sq.datasets.visium_hne_image()\n",
    "adata = sq.datasets.visium_hne_adata()\n",
    "\n",
    "li.mt.get_spatial_proximity(adata=adata, parameter=200, bypass_diagonal=False, cutoff=0.1)\n",
    "dist = adata.obsm['proximity']\n",
    "\n",
    "my_p = li.pl.proximity_plot(adata, idx=100)\n",
    "resource = li.resource.select_resource(\"mouseconsensus\")"
   ]
  },
  {
   "cell_type": "code",
   "execution_count": null,
   "id": "a4aac8f6",
   "metadata": {},
   "outputs": [],
   "source": []
  },
  {
   "cell_type": "code",
   "execution_count": 6,
   "id": "9b2eae96-cedb-44e6-b9b1-e122bba505bb",
   "metadata": {},
   "outputs": [
    {
     "name": "stdout",
     "output_type": "stream",
     "text": [
      "Using `.X`!\n",
      "Converting mat to CSR format\n"
     ]
    }
   ],
   "source": [
    "temp, lr_res, ligand_pos, receptor_pos = _global_lr_pipe(adata=adata,\n",
    "                                                         resource=resource,\n",
    "                                                         expr_prop=0.05,\n",
    "                                                         use_raw=False,\n",
    "                                                         verbose=True,\n",
    "                                                         layer=None,\n",
    "                                                         _key_cols=['ligand_complex', 'receptor_complex'],\n",
    "                                                         _complex_cols=['ligand_means', 'receptor_means'],\n",
    "                                                         _obms_keys=['proximity'],\n",
    "                                                         resource_name=None\n",
    "                                                         )"
   ]
  },
  {
   "cell_type": "code",
   "execution_count": null,
   "id": "79c3025f-5d31-475b-85fb-8228c82fc7da",
   "metadata": {},
   "outputs": [],
   "source": []
  },
  {
   "cell_type": "markdown",
   "id": "f9b53bf1-be2e-4441-9833-99a17a48c3f7",
   "metadata": {},
   "source": [
    "Correlations"
   ]
  },
  {
   "cell_type": "code",
   "execution_count": 11,
   "id": "1de34477",
   "metadata": {},
   "outputs": [],
   "source": [
    "# ligand-receptor mats\n",
    "ligand_mat = _get_ordered_matrix(temp.X, ligand_pos, lr_res.ligand)\n",
    "receptor_mat = _get_ordered_matrix(temp.X, receptor_pos, lr_res.receptor)"
   ]
  },
  {
   "cell_type": "code",
   "execution_count": 12,
   "id": "64accb8e",
   "metadata": {},
   "outputs": [],
   "source": [
    "ligand_mat, receptor_mat = ligand_mat.T, receptor_mat.T"
   ]
  },
  {
   "cell_type": "code",
   "execution_count": null,
   "id": "4c8584b5",
   "metadata": {},
   "outputs": [],
   "source": []
  },
  {
   "attachments": {},
   "cell_type": "markdown",
   "id": "612f9ee3",
   "metadata": {},
   "source": [
    "masked"
   ]
  },
  {
   "cell_type": "code",
   "execution_count": 13,
   "id": "11ffaef1",
   "metadata": {},
   "outputs": [],
   "source": [
    "import scipy.stats as stats"
   ]
  },
  {
   "cell_type": "code",
   "execution_count": null,
   "id": "2148aa22",
   "metadata": {},
   "outputs": [],
   "source": [
    "def masked_wcor(x, y, weight, method='spearman_nzw'):\n",
    "    spot_n = x.shape[1]\n",
    "    \n",
    "    # reshape x and y to be the same shape as weight\n",
    "    x = np.reshape(np.repeat(x, spot_n), newshape=(spot_n, spot_n)).T\n",
    "    y = np.reshape(np.repeat(y, spot_n), newshape=(spot_n, spot_n)).T\n",
    "    \n",
    "    # mask x and y with the same mask as weight\n",
    "    x_masked = np.ma.array(x, mask = weight.mask, fill_value=np.nan)\n",
    "    y_masked = np.ma.array(y, mask = weight.mask, fill_value=np.nan)\n",
    "    \n",
    "    if method == 'spearman_nzw':\n",
    "        x_masked = stats.mstats.rankdata(x_masked, axis=1)\n",
    "        y_masked = stats.mstats.rankdata(y_masked, axis=1)\n",
    "        \n",
    "    \n",
    "    # calculate weighted pearson correlation\n",
    "    wsum = np.ma.sum(weight, axis=1)\n",
    "    \n",
    "    n1 = wsum * np.ma.sum(weight * x_masked * y_masked, axis=1)\n",
    "    n2 = np.ma.sum(weight * x_masked, axis=1) * np.ma.sum(weight * y_masked, axis=1)\n",
    "    numerator = n1 - n2\n",
    "    \n",
    "    denominator_x = wsum * np.ma.sum(weight * (x_masked**2), axis=1) - np.ma.sum(weight * x_masked, axis=1)**2\n",
    "    denominator_y = wsum * np.ma.sum(weight * (y_masked**2), axis=1) - np.ma.sum(weight * y_masked, axis=1)**2\n",
    "    wcor = numerator / np.ma.sqrt(denominator_x * denominator_y)\n",
    "    \n",
    "    return wcor.data"
   ]
  },
  {
   "cell_type": "code",
   "execution_count": null,
   "id": "5bc646e0",
   "metadata": {},
   "outputs": [],
   "source": [
    "def calculate_masked_correlations(x_mat, y_mat, dist, method='spearman_nzw'):\n",
    "    weight = dist.A\n",
    "    msk = np.logical_not(weight>0).astype(np.int16)\n",
    "    weight = np.ma.masked_array(weight, mask=msk)\n",
    "    # calculate for each x and y combination\n",
    "    local_correlations = []\n",
    "    for i in range(x_mat.shape[0]):\n",
    "        local_correlations.append(masked_wcor(x_mat[i, :], y_mat[i, :], weight=weight))\n",
    "    local_correlations = np.array(local_correlations)\n",
    "    \n",
    "    return local_correlations\n"
   ]
  },
  {
   "cell_type": "code",
   "execution_count": null,
   "id": "be8de259",
   "metadata": {},
   "outputs": [],
   "source": [
    "%%time\n",
    "\n",
    "dist = adata.obsm['proximity']\n",
    "\n",
    "masked_sp = calculate_masked_correlations(ligand_mat.A[0:10,:], receptor_mat.A[0:10,:], dist=dist, method='spearman_nzw')"
   ]
  },
  {
   "cell_type": "code",
   "execution_count": null,
   "id": "c903b740",
   "metadata": {},
   "outputs": [],
   "source": [
    "masked_sp"
   ]
  },
  {
   "cell_type": "code",
   "execution_count": null,
   "id": "8970c639",
   "metadata": {},
   "outputs": [],
   "source": []
  },
  {
   "cell_type": "code",
   "execution_count": null,
   "id": "76dec0ee",
   "metadata": {},
   "outputs": [],
   "source": []
  },
  {
   "attachments": {},
   "cell_type": "markdown",
   "id": "0afdf754",
   "metadata": {},
   "source": [
    "Fully-vectorized"
   ]
  },
  {
   "cell_type": "code",
   "execution_count": null,
   "id": "153e7944-adbb-401e-914b-09c227dcfdea",
   "metadata": {},
   "outputs": [],
   "source": [
    "import squidpy as sq\n",
    "import scanpy as sc\n",
    "import pandas as pd\n",
    "import numpy as np\n",
    "from scipy.sparse import csr_matrix, isspmatrix_csr"
   ]
  },
  {
   "cell_type": "code",
   "execution_count": null,
   "id": "cbb22f08-505c-4087-af67-84577d421f60",
   "metadata": {},
   "outputs": [],
   "source": [
    "import liana as li"
   ]
  },
  {
   "cell_type": "code",
   "execution_count": null,
   "id": "4f0fe90c-bf2b-44b3-8798-8aaad0e402f1",
   "metadata": {},
   "outputs": [],
   "source": [
    "from matplotlib.pyplot import hist"
   ]
  },
  {
   "cell_type": "code",
   "execution_count": null,
   "id": "5e601378",
   "metadata": {},
   "outputs": [],
   "source": [
    "from liana.method._global_lr_pipe import _global_lr_pipe\n",
    "from liana.method.sp._spatialdm import _get_ordered_matrix, _standardize_matrix"
   ]
  },
  {
   "cell_type": "code",
   "execution_count": null,
   "id": "d8c4f241",
   "metadata": {},
   "outputs": [],
   "source": [
    "from scipy.stats import rankdata"
   ]
  },
  {
   "cell_type": "code",
   "execution_count": null,
   "id": "9860d383",
   "metadata": {},
   "outputs": [],
   "source": []
  },
  {
   "cell_type": "code",
   "execution_count": null,
   "id": "0e95b8ba",
   "metadata": {},
   "outputs": [],
   "source": [
    "# ligand-receptor mats\n",
    "ligand_mat = _get_ordered_matrix(temp.X, ligand_pos, lr_res.ligand)\n",
    "receptor_mat = _get_ordered_matrix(temp.X, receptor_pos, lr_res.receptor)"
   ]
  },
  {
   "cell_type": "code",
   "execution_count": null,
   "id": "3573cd36",
   "metadata": {},
   "outputs": [],
   "source": [
    "def calculate_local_correlations(x_mat, y_mat, dist, method=\"pearson\"):\n",
    "    if method not in [\"pearson\", \"spearman\"]:\n",
    "        raise ValueError(\"method must be one of 'pearson', 'spearman'\")\n",
    "    \n",
    "    weight = dist.A.T\n",
    "    weight_sums = np.sum(weight, axis = 0).flatten()\n",
    "        \n",
    "    if method==\"spearman\":\n",
    "        x_mat = rankdata(x_mat, axis=1)\n",
    "        y_mat = rankdata(y_mat, axis=1)\n",
    "    \n",
    "    # standard pearson\n",
    "    n1 = (((x_mat * y_mat).dot(weight)) * weight_sums)\n",
    "    n2 = (x_mat.dot(weight)) * (y_mat.dot(weight))\n",
    "    numerator = n1 - n2\n",
    "    \n",
    "    denominator_x = (weight_sums * (x_mat ** 2).dot(weight)) - (x_mat.dot(weight))**2\n",
    "    denominator_y = (weight_sums * (y_mat ** 2).dot(weight)) - (y_mat.dot(weight))**2\n",
    "    denominator = np.sqrt(denominator_x * denominator_y)\n",
    "    denominator[denominator == 0] = np.finfo(float).eps # add noise to avoid division by zero\n",
    "    \n",
    "    local_corrs = (numerator / denominator)\n",
    "    \n",
    "    return local_corrs"
   ]
  },
  {
   "cell_type": "code",
   "execution_count": null,
   "id": "58b651b6",
   "metadata": {},
   "outputs": [],
   "source": [
    "dist = adata.obsm['proximity']"
   ]
  },
  {
   "cell_type": "code",
   "execution_count": null,
   "id": "297b3e2d",
   "metadata": {},
   "outputs": [],
   "source": [
    "local_pc = calculate_local_correlations(x_mat = ligand_mat.A, y_mat=receptor_mat.A, dist=dist, method=\"pearson\")\n",
    "local_sp = calculate_local_correlations(x_mat = ligand_mat.A, y_mat=receptor_mat.A, dist=dist, method=\"spearman\")"
   ]
  },
  {
   "cell_type": "code",
   "execution_count": null,
   "id": "245c0cc9",
   "metadata": {},
   "outputs": [],
   "source": [
    "local_pc"
   ]
  },
  {
   "cell_type": "code",
   "execution_count": null,
   "id": "6ced6c81",
   "metadata": {},
   "outputs": [],
   "source": []
  },
  {
   "cell_type": "code",
   "execution_count": null,
   "id": "2d2a7c25",
   "metadata": {},
   "outputs": [],
   "source": [
    "from scipy.stats import spearmanr,  pearsonr"
   ]
  },
  {
   "cell_type": "code",
   "execution_count": null,
   "id": "700b6b47",
   "metadata": {},
   "outputs": [],
   "source": [
    "hist(local_sp[0,:])"
   ]
  },
  {
   "cell_type": "code",
   "execution_count": null,
   "id": "3ef6c695",
   "metadata": {},
   "outputs": [],
   "source": []
  },
  {
   "attachments": {},
   "cell_type": "markdown",
   "id": "20c66314",
   "metadata": {},
   "source": [
    "local p-values"
   ]
  },
  {
   "cell_type": "code",
   "execution_count": null,
   "id": "2d2a26c4",
   "metadata": {},
   "outputs": [],
   "source": [
    "from numpy import random\n",
    "from tqdm import tqdm"
   ]
  },
  {
   "cell_type": "code",
   "execution_count": null,
   "id": "af430595",
   "metadata": {},
   "outputs": [],
   "source": [
    "rng = random.default_rng(0)\n",
    "n_perm = 100\n",
    "positive_only = True # remove this option?"
   ]
  },
  {
   "cell_type": "code",
   "execution_count": null,
   "id": "f47617b7",
   "metadata": {},
   "outputs": [],
   "source": [
    "dist = adata.obsm['proximity']"
   ]
  },
  {
   "cell_type": "code",
   "execution_count": null,
   "id": "8bb8d8c3",
   "metadata": {},
   "outputs": [],
   "source": [
    "local_pc.shape"
   ]
  },
  {
   "cell_type": "code",
   "execution_count": null,
   "id": "825b981e",
   "metadata": {},
   "outputs": [],
   "source": []
  },
  {
   "cell_type": "code",
   "execution_count": null,
   "id": "b9f0a2a7",
   "metadata": {},
   "outputs": [],
   "source": [
    "def _get_local_permutation_pvals(x_mat, y_mat, local_truth, local_fun, dist, n_perm, positive_only=True, **kwargs):\n",
    "    xy_n = local_truth.shape[0]\n",
    "    spot_n = local_truth.shape[1]\n",
    "    \n",
    "    # permutation cubes to be populated\n",
    "    local_pvals = np.zeros((xy_n, spot_n))\n",
    "    \n",
    "    # shuffle the matrix\n",
    "    for i in tqdm(range(n_perm)):\n",
    "        _idx = rng.permutation(spot_n)\n",
    "        perm_score = local_fun(x_mat = x_mat[_idx, :], y_mat=y_mat, dist=dist, **kwargs) ## TODO switch to shuffle rows, not columns\n",
    "        if positive_only:\n",
    "            local_pvals += np.array(perm_score >= local_truth, dtype=int)\n",
    "        else:\n",
    "            local_pvals += (np.array(np.abs(perm_score) >= np.abs(local_truth), dtype=int))\n",
    "\n",
    "    local_pvals = local_pvals / n_perm\n",
    "    \n",
    "    return local_pvals\n",
    "    "
   ]
  },
  {
   "cell_type": "code",
   "execution_count": null,
   "id": "ff308c66",
   "metadata": {},
   "outputs": [],
   "source": [
    "local_pvals = _get_local_permutation_pvals(ligand_mat.A, \n",
    "                                           receptor_mat.A, \n",
    "                                           local_pc,\n",
    "                                           calculate_local_correlations,\n",
    "                                           dist, \n",
    "                                           n_perm, \n",
    "                                           positive_only=False)"
   ]
  },
  {
   "cell_type": "code",
   "execution_count": null,
   "id": "160df845",
   "metadata": {},
   "outputs": [],
   "source": [
    "from  scipy.sparse import csr_matrix"
   ]
  },
  {
   "cell_type": "code",
   "execution_count": null,
   "id": "f0d4453b",
   "metadata": {},
   "outputs": [],
   "source": [
    "local_pvals.shape"
   ]
  },
  {
   "cell_type": "code",
   "execution_count": null,
   "id": "fe424bbc",
   "metadata": {},
   "outputs": [],
   "source": [
    "local_pvals"
   ]
  },
  {
   "cell_type": "code",
   "execution_count": null,
   "id": "808dac55",
   "metadata": {},
   "outputs": [],
   "source": []
  },
  {
   "cell_type": "code",
   "execution_count": null,
   "id": "7c8b5359",
   "metadata": {},
   "outputs": [],
   "source": [
    "local_pc.shape"
   ]
  },
  {
   "cell_type": "code",
   "execution_count": null,
   "id": "4e5f6f90",
   "metadata": {},
   "outputs": [],
   "source": [
    "local_pvals.shape"
   ]
  },
  {
   "cell_type": "code",
   "execution_count": null,
   "id": "6ca94d98",
   "metadata": {},
   "outputs": [],
   "source": [
    "local_masked_pvals = _get_local_permutation_pvals(x_mat = ligand_mat.A,\n",
    "                                                  y_mat = receptor_mat.A,\n",
    "                                                  local_truth = masked_sp,\n",
    "                                                  local_fun=calculate_masked_correlations,\n",
    "                                                  dist=dist,\n",
    "                                                  n_perm=n_perm,\n",
    "                                                  positive_only=False)"
   ]
  },
  {
   "cell_type": "code",
   "execution_count": null,
   "id": "82286380",
   "metadata": {},
   "outputs": [],
   "source": [
    "local_masked_pvals"
   ]
  },
  {
   "cell_type": "code",
   "execution_count": null,
   "id": "693c03cb",
   "metadata": {},
   "outputs": [],
   "source": [
    "local_masked_pvals.shape"
   ]
  },
  {
   "cell_type": "code",
   "execution_count": null,
   "id": "46d37697",
   "metadata": {},
   "outputs": [],
   "source": [
    "from scipy.stats import spearmanr,  pearsonr"
   ]
  },
  {
   "cell_type": "code",
   "execution_count": null,
   "id": "e8f4e9ec",
   "metadata": {},
   "outputs": [],
   "source": [
    "pearsonr(local_masked_pvals[0,:], local_pvals[0,:])"
   ]
  },
  {
   "cell_type": "code",
   "execution_count": null,
   "id": "d1b942d7",
   "metadata": {},
   "outputs": [],
   "source": []
  }
 ],
 "metadata": {
  "kernelspec": {
   "display_name": "liana-py",
   "language": "python",
   "name": "liana-py"
  },
  "language_info": {
   "codemirror_mode": {
    "name": "ipython",
    "version": 3
   },
   "file_extension": ".py",
   "mimetype": "text/x-python",
   "name": "python",
   "nbconvert_exporter": "python",
   "pygments_lexer": "ipython3",
   "version": "3.8.8"
  }
 },
 "nbformat": 4,
 "nbformat_minor": 5
}
