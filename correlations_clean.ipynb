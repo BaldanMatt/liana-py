{
 "cells": [
  {
   "cell_type": "code",
   "execution_count": 1,
   "id": "153e7944-adbb-401e-914b-09c227dcfdea",
   "metadata": {},
   "outputs": [
    {
     "name": "stderr",
     "output_type": "stream",
     "text": [
      "/home/dbdimitrov/anaconda3/lib/python3.8/site-packages/paramiko/transport.py:219: CryptographyDeprecationWarning: Blowfish has been deprecated\n",
      "  \"class\": algorithms.Blowfish,\n",
      "/home/dbdimitrov/anaconda3/lib/python3.8/site-packages/numpydoc/docscrape.py:449: UserWarning: potentially wrong underline length... \n",
      "Extended Summary \n",
      "---------- in \n",
      "Add a Points layer to the layer list. \n",
      "...\n",
      "  warn(msg)\n",
      "/home/dbdimitrov/anaconda3/lib/python3.8/site-packages/numpydoc/docscrape.py:449: UserWarning: potentially wrong underline length... \n",
      "Extended Summary \n",
      "---------- in \n",
      "Add a Labels layer to the layer list. \n",
      "...\n",
      "  warn(msg)\n",
      "/home/dbdimitrov/anaconda3/lib/python3.8/site-packages/numpydoc/docscrape.py:449: UserWarning: potentially wrong underline length... \n",
      "Extended Summary \n",
      "---------- in \n",
      "Add a Shapes layer to the layer list. \n",
      "...\n",
      "  warn(msg)\n",
      "/home/dbdimitrov/anaconda3/lib/python3.8/site-packages/numpydoc/docscrape.py:449: UserWarning: potentially wrong underline length... \n",
      "Extended Summary \n",
      "---------- in \n",
      "Add a Surface layer to the layer list. \n",
      "...\n",
      "  warn(msg)\n",
      "/home/dbdimitrov/anaconda3/lib/python3.8/site-packages/numpydoc/docscrape.py:449: UserWarning: potentially wrong underline length... \n",
      "Extended Summary \n",
      "---------- in \n",
      "Add a Vectors layer to the layer list. \n",
      "...\n",
      "  warn(msg)\n"
     ]
    }
   ],
   "source": [
    "import squidpy as sq\n",
    "import scanpy as sc\n",
    "import pandas as pd\n",
    "import numpy as np\n",
    "from scipy.sparse import csr_matrix, isspmatrix_csr"
   ]
  },
  {
   "cell_type": "code",
   "execution_count": 2,
   "id": "cbb22f08-505c-4087-af67-84577d421f60",
   "metadata": {},
   "outputs": [],
   "source": [
    "import liana as li"
   ]
  },
  {
   "cell_type": "code",
   "execution_count": 3,
   "id": "4f0fe90c-bf2b-44b3-8798-8aaad0e402f1",
   "metadata": {},
   "outputs": [],
   "source": [
    "from matplotlib.pyplot import hist"
   ]
  },
  {
   "cell_type": "code",
   "execution_count": 9,
   "id": "22a8de43-4ff7-4e93-9056-e27ba4a0afef",
   "metadata": {},
   "outputs": [],
   "source": [
    "from liana.method._global_lr_pipe import _global_lr_pipe\n",
    "from liana.method.sp._spatialdm import _get_ordered_matrix, _standardize_matrix"
   ]
  },
  {
   "cell_type": "code",
   "execution_count": null,
   "id": "943a8965",
   "metadata": {},
   "outputs": [],
   "source": []
  },
  {
   "cell_type": "code",
   "execution_count": 4,
   "id": "b9f16311-988d-4b04-b544-3b9ae80f0b71",
   "metadata": {},
   "outputs": [],
   "source": [
    "counts = pd.read_csv(\"data/counts_mat.csv\")\n",
    "weights = pd.read_csv(\"data/weight_mat.csv\")"
   ]
  },
  {
   "cell_type": "code",
   "execution_count": 5,
   "id": "1caf6c62-a727-40c5-94a9-5d6dcd535c48",
   "metadata": {},
   "outputs": [],
   "source": [
    "var = pd.DataFrame(counts[['Unnamed: 0']]).set_index('Unnamed: 0')\n",
    "var.index.name = None"
   ]
  },
  {
   "cell_type": "code",
   "execution_count": 6,
   "id": "740b5fad-7447-4eef-ba35-6ef5e028da17",
   "metadata": {},
   "outputs": [],
   "source": [
    "adata = sc.AnnData(X=csr_matrix(counts.drop(counts.columns[0], axis=1), dtype=np.float32).T, var=var)"
   ]
  },
  {
   "cell_type": "code",
   "execution_count": 7,
   "id": "bb9f37d6-da59-44ca-b304-222329b21237",
   "metadata": {},
   "outputs": [],
   "source": [
    "adata.obsm['proximity'] = csr_matrix(weights)"
   ]
  },
  {
   "cell_type": "code",
   "execution_count": null,
   "id": "10c311ac-b3a1-49fe-a054-83fb41aeb5e3",
   "metadata": {},
   "outputs": [],
   "source": []
  },
  {
   "cell_type": "code",
   "execution_count": 12,
   "id": "c8fee01a-7e7a-4556-9c54-77a671b0a735",
   "metadata": {},
   "outputs": [],
   "source": [
    "resource = pd.DataFrame({\"ligand\":[\"Dnm1l\", \"Arrb1\", \"Igf2\", \"Dnm1l\"], \"receptor\":[\"Gucy1b3\", \"Mtor\", \"Tuba1a\", \"Fam63b\"]})"
   ]
  },
  {
   "cell_type": "code",
   "execution_count": null,
   "id": "43b18c02-ee7c-4980-8ec7-9da7418b0676",
   "metadata": {},
   "outputs": [],
   "source": []
  },
  {
   "cell_type": "code",
   "execution_count": 13,
   "id": "9b2eae96-cedb-44e6-b9b1-e122bba505bb",
   "metadata": {},
   "outputs": [
    {
     "name": "stdout",
     "output_type": "stream",
     "text": [
      "Using `.X`!\n",
      "Converting mat to CSR format\n"
     ]
    }
   ],
   "source": [
    "temp, lr_res, ligand_pos, receptor_pos = _global_lr_pipe(adata=adata,\n",
    "                                                         resource=resource,\n",
    "                                                         expr_prop=0.05,\n",
    "                                                         use_raw=False,\n",
    "                                                         verbose=True,\n",
    "                                                         layer=None,\n",
    "                                                         _key_cols=['ligand_complex', 'receptor_complex'],\n",
    "                                                         _complex_cols=['ligand_means', 'receptor_means'],\n",
    "                                                         _obms_keys=['proximity'],\n",
    "                                                         resource_name=None\n",
    "                                                         )"
   ]
  },
  {
   "cell_type": "code",
   "execution_count": 14,
   "id": "5801b031-bfdc-4712-8191-26c88d7d6d59",
   "metadata": {},
   "outputs": [
    {
     "data": {
      "text/html": [
       "<div>\n",
       "<style scoped>\n",
       "    .dataframe tbody tr th:only-of-type {\n",
       "        vertical-align: middle;\n",
       "    }\n",
       "\n",
       "    .dataframe tbody tr th {\n",
       "        vertical-align: top;\n",
       "    }\n",
       "\n",
       "    .dataframe thead th {\n",
       "        text-align: right;\n",
       "    }\n",
       "</style>\n",
       "<table border=\"1\" class=\"dataframe\">\n",
       "  <thead>\n",
       "    <tr style=\"text-align: right;\">\n",
       "      <th></th>\n",
       "      <th>interaction</th>\n",
       "      <th>ligand</th>\n",
       "      <th>receptor</th>\n",
       "      <th>ligand_complex</th>\n",
       "      <th>receptor_complex</th>\n",
       "      <th>ligand_means</th>\n",
       "      <th>ligand_props</th>\n",
       "      <th>receptor_means</th>\n",
       "      <th>receptor_props</th>\n",
       "      <th>prop_min</th>\n",
       "    </tr>\n",
       "  </thead>\n",
       "  <tbody>\n",
       "    <tr>\n",
       "      <th>0</th>\n",
       "      <td>Dnm1l&amp;Gucy1b3</td>\n",
       "      <td>Dnm1l</td>\n",
       "      <td>Gucy1b3</td>\n",
       "      <td>Dnm1l</td>\n",
       "      <td>Gucy1b3</td>\n",
       "      <td>2.682889</td>\n",
       "      <td>0.950000</td>\n",
       "      <td>3.117442</td>\n",
       "      <td>0.976923</td>\n",
       "      <td>0.950000</td>\n",
       "    </tr>\n",
       "    <tr>\n",
       "      <th>1</th>\n",
       "      <td>Dnm1l&amp;Fam63b</td>\n",
       "      <td>Dnm1l</td>\n",
       "      <td>Fam63b</td>\n",
       "      <td>Dnm1l</td>\n",
       "      <td>Fam63b</td>\n",
       "      <td>2.682889</td>\n",
       "      <td>0.950000</td>\n",
       "      <td>1.781250</td>\n",
       "      <td>0.830769</td>\n",
       "      <td>0.830769</td>\n",
       "    </tr>\n",
       "    <tr>\n",
       "      <th>2</th>\n",
       "      <td>Arrb1&amp;Mtor</td>\n",
       "      <td>Arrb1</td>\n",
       "      <td>Mtor</td>\n",
       "      <td>Arrb1</td>\n",
       "      <td>Mtor</td>\n",
       "      <td>2.665413</td>\n",
       "      <td>0.957692</td>\n",
       "      <td>2.298451</td>\n",
       "      <td>0.907692</td>\n",
       "      <td>0.907692</td>\n",
       "    </tr>\n",
       "    <tr>\n",
       "      <th>3</th>\n",
       "      <td>Igf2&amp;Tuba1a</td>\n",
       "      <td>Igf2</td>\n",
       "      <td>Tuba1a</td>\n",
       "      <td>Igf2</td>\n",
       "      <td>Tuba1a</td>\n",
       "      <td>1.924077</td>\n",
       "      <td>0.892308</td>\n",
       "      <td>6.466562</td>\n",
       "      <td>1.000000</td>\n",
       "      <td>0.892308</td>\n",
       "    </tr>\n",
       "  </tbody>\n",
       "</table>\n",
       "</div>"
      ],
      "text/plain": [
       "     interaction ligand receptor ligand_complex receptor_complex  \\\n",
       "0  Dnm1l&Gucy1b3  Dnm1l  Gucy1b3          Dnm1l          Gucy1b3   \n",
       "1   Dnm1l&Fam63b  Dnm1l   Fam63b          Dnm1l           Fam63b   \n",
       "2     Arrb1&Mtor  Arrb1     Mtor          Arrb1             Mtor   \n",
       "3    Igf2&Tuba1a   Igf2   Tuba1a           Igf2           Tuba1a   \n",
       "\n",
       "   ligand_means  ligand_props  receptor_means  receptor_props  prop_min  \n",
       "0      2.682889      0.950000        3.117442        0.976923  0.950000  \n",
       "1      2.682889      0.950000        1.781250        0.830769  0.830769  \n",
       "2      2.665413      0.957692        2.298451        0.907692  0.907692  \n",
       "3      1.924077      0.892308        6.466562        1.000000  0.892308  "
      ]
     },
     "execution_count": 14,
     "metadata": {},
     "output_type": "execute_result"
    }
   ],
   "source": [
    "lr_res"
   ]
  },
  {
   "cell_type": "code",
   "execution_count": null,
   "id": "79c3025f-5d31-475b-85fb-8228c82fc7da",
   "metadata": {},
   "outputs": [],
   "source": []
  },
  {
   "cell_type": "markdown",
   "id": "f9b53bf1-be2e-4441-9833-99a17a48c3f7",
   "metadata": {},
   "source": [
    "Correlations"
   ]
  },
  {
   "cell_type": "code",
   "execution_count": null,
   "id": "09576b07-eb28-4dab-84f4-0917ac4ebb8e",
   "metadata": {},
   "outputs": [],
   "source": [
    "ligand_mat = _get_ordered_matrix(temp.X, ligand_pos, lr_res.ligand)\n",
    "receptor_mat = _get_ordered_matrix(temp.X, receptor_pos, lr_res.receptor)"
   ]
  },
  {
   "cell_type": "code",
   "execution_count": null,
   "id": "387a8e8d-f051-49b3-b7ef-c2990d247d83",
   "metadata": {},
   "outputs": [],
   "source": [
    "x, y = ligand_mat[0, :].A.flatten(), receptor_mat[0, :].A.flatten()"
   ]
  },
  {
   "cell_type": "code",
   "execution_count": null,
   "id": "1b518623-87e5-448c-87f2-18360735fe35",
   "metadata": {},
   "outputs": [],
   "source": [
    "from scipy.stats import spearmanr, pearsonr, pointbiserialr, kendalltau"
   ]
  },
  {
   "cell_type": "code",
   "execution_count": null,
   "id": "3568c25e-3ef5-45e1-b24c-1dd25f88a7ef",
   "metadata": {},
   "outputs": [],
   "source": [
    "pearsonr(x, y)"
   ]
  },
  {
   "cell_type": "code",
   "execution_count": null,
   "id": "bcde7882-060a-46c7-a9e0-e71fabed248c",
   "metadata": {},
   "outputs": [],
   "source": []
  },
  {
   "cell_type": "markdown",
   "id": "27734c88-857b-46fe-8e67-3e47e964509b",
   "metadata": {},
   "source": [
    "One by One"
   ]
  },
  {
   "cell_type": "code",
   "execution_count": null,
   "id": "1f465b2e-56c7-45f3-9e34-e33a338de7ac",
   "metadata": {},
   "outputs": [],
   "source": [
    "def wcor(x, y, weight):\n",
    "    weight_sum = np.sum(weight)\n",
    "    \n",
    "    numerator = weight_sum * np.sum(weight * x * y) - np.sum(weight * x) * np.sum(weight * y)\n",
    "    denominator_x = weight_sum * np.sum(weight * (x**2)) - np.sum(weight * x)**2\n",
    "    denominator_y = weight_sum * np.sum(weight * (y**2)) - np.sum(weight * y)**2\n",
    "    \n",
    "    wcor = numerator / np.sqrt(denominator_x * denominator_y)\n",
    "    \n",
    "    return wcor"
   ]
  },
  {
   "cell_type": "code",
   "execution_count": null,
   "id": "789f9ba8-3df6-4c99-9309-2fdeced50505",
   "metadata": {},
   "outputs": [],
   "source": [
    "adata.obsm['proximity']"
   ]
  },
  {
   "cell_type": "code",
   "execution_count": null,
   "id": "2ba43bf5-801a-47b7-a879-94ef695e699a",
   "metadata": {},
   "outputs": [],
   "source": [
    "i = 0"
   ]
  },
  {
   "cell_type": "code",
   "execution_count": null,
   "id": "06da56e4-35e4-4280-bf41-042318665a11",
   "metadata": {},
   "outputs": [],
   "source": [
    "# all weights = 1 (i.e. pearsonr)\n",
    "wcor(x, y, np.repeat(1, x.shape[0]))"
   ]
  },
  {
   "cell_type": "code",
   "execution_count": null,
   "id": "4cb13ae1",
   "metadata": {},
   "outputs": [],
   "source": []
  },
  {
   "cell_type": "code",
   "execution_count": null,
   "id": "3e260853-40fe-46dd-9969-0b7c6a4a8e6c",
   "metadata": {},
   "outputs": [],
   "source": []
  },
  {
   "cell_type": "code",
   "execution_count": null,
   "id": "454f7738-17ee-4542-9bc5-95a4adb4cad1",
   "metadata": {},
   "outputs": [],
   "source": [
    "weight = adata.obsm['proximity']"
   ]
  },
  {
   "cell_type": "code",
   "execution_count": null,
   "id": "c6547abd-49ef-4ff6-a16e-3d1ef4f4d002",
   "metadata": {},
   "outputs": [],
   "source": [
    "# calculate all local correlations\n",
    "# technically, if we take i (a spot), x and y (e.g. genes),\n",
    "# we go over all rows in w (i.e. every spot)\n",
    "# and we re-calculate PC with the spatial weights \n",
    "# for the spots i to any other spot (j)\n",
    "local_corrs = []\n",
    "for i in range(weight.shape[0]):\n",
    "    local_corrs.append(wcor(x, y, weight[i, :].A))\n",
    "local_corrs = np.array(local_corrs)"
   ]
  },
  {
   "cell_type": "code",
   "execution_count": null,
   "id": "440cf97a-fca9-4809-8072-8b5899f732de",
   "metadata": {},
   "outputs": [],
   "source": [
    "hist(local_corrs)"
   ]
  },
  {
   "cell_type": "code",
   "execution_count": null,
   "id": "883ae786-b729-4cd7-aa00-364eb1b1f009",
   "metadata": {},
   "outputs": [],
   "source": [
    "local_corrs[0:5]"
   ]
  },
  {
   "cell_type": "code",
   "execution_count": null,
   "id": "bceb78b3",
   "metadata": {},
   "outputs": [],
   "source": []
  },
  {
   "attachments": {},
   "cell_type": "markdown",
   "id": "612f9ee3",
   "metadata": {},
   "source": [
    "masked"
   ]
  },
  {
   "cell_type": "code",
   "execution_count": 72,
   "id": "11ffaef1",
   "metadata": {},
   "outputs": [],
   "source": [
    "import scipy.stats as stats"
   ]
  },
  {
   "cell_type": "code",
   "execution_count": 73,
   "id": "bb1a8e28",
   "metadata": {},
   "outputs": [],
   "source": [
    "ligand_mat = _get_ordered_matrix(temp.X, ligand_pos, lr_res.ligand)\n",
    "receptor_mat = _get_ordered_matrix(temp.X, receptor_pos, lr_res.receptor)\n",
    "x, y = ligand_mat[0, :].A.flatten(), receptor_mat[0, :].A.flatten()"
   ]
  },
  {
   "cell_type": "code",
   "execution_count": 74,
   "id": "e192110f",
   "metadata": {},
   "outputs": [],
   "source": [
    "def wcor_ma(x, y, weight):\n",
    "    weight_sum = np.sum(weight)\n",
    "    \n",
    "    n1 = weight_sum * np.dot(weight, x * y)\n",
    "    n2 = np.dot(weight, x) * np.dot(weight, y)\n",
    "    numerator = n1 - n2\n",
    "    \n",
    "    denominator_x = weight_sum * np.dot(weight, x**2) - np.dot(weight, x)**2\n",
    "    denominator_y = weight_sum * np.dot(weight, y**2) - np.dot(weight, y)**2\n",
    "    \n",
    "    corr = numerator / np.sqrt(denominator_x * denominator_y)\n",
    "    \n",
    "    return corr"
   ]
  },
  {
   "cell_type": "code",
   "execution_count": null,
   "id": "7838d06f",
   "metadata": {},
   "outputs": [],
   "source": []
  },
  {
   "cell_type": "code",
   "execution_count": 75,
   "id": "21932112",
   "metadata": {},
   "outputs": [],
   "source": [
    "weight = adata.obsm['proximity'].A"
   ]
  },
  {
   "cell_type": "code",
   "execution_count": 76,
   "id": "c04b3dac",
   "metadata": {},
   "outputs": [],
   "source": [
    "# msk = np.isnan(weight)\n",
    "msk = np.logical_not(weight>0).astype(np.int16)"
   ]
  },
  {
   "cell_type": "code",
   "execution_count": 77,
   "id": "89e719f3",
   "metadata": {},
   "outputs": [],
   "source": [
    "weight = np.ma.masked_array(weight, mask=msk)"
   ]
  },
  {
   "cell_type": "code",
   "execution_count": 78,
   "id": "c177f7a3",
   "metadata": {},
   "outputs": [],
   "source": [
    "xy_n = len(x)"
   ]
  },
  {
   "cell_type": "code",
   "execution_count": 79,
   "id": "23af2dbd",
   "metadata": {},
   "outputs": [],
   "source": [
    "x_ma = np.reshape(np.repeat(x, xy_n), newshape=(xy_n, xy_n))\n",
    "y_ma = np.reshape(np.repeat(y, xy_n), newshape=(xy_n, xy_n))\n",
    "\n",
    "x_ma = np.ma.masked_array(x_ma, mask=msk.T, fill_value=np.nan).T\n",
    "y_ma = np.ma.masked_array(y_ma, mask=msk.T, fill_value=np.nan).T"
   ]
  },
  {
   "cell_type": "code",
   "execution_count": 80,
   "id": "512ea1d8",
   "metadata": {},
   "outputs": [],
   "source": [
    "x_ma = np.ma.masked_array(stats.mstats.rankdata(x_ma, axis=1), msk)\n",
    "y_ma = np.ma.masked_array(stats.mstats.rankdata(y_ma, axis=1), msk)"
   ]
  },
  {
   "cell_type": "code",
   "execution_count": 85,
   "id": "ed97d393",
   "metadata": {},
   "outputs": [],
   "source": [
    "local_corrs = []\n",
    "for i in range(weight.shape[0]):\n",
    "    local_corrs.append(wcor_ma(x_ma[i, :], y_ma[i, :], weight[i, :]))\n",
    "local_corrs = np.array(local_corrs)"
   ]
  },
  {
   "cell_type": "code",
   "execution_count": 93,
   "id": "312bb157",
   "metadata": {},
   "outputs": [
    {
     "data": {
      "text/plain": [
       "array([ 0.14309412,  0.05121768,  0.25515995, -0.07335744, -0.30798529])"
      ]
     },
     "execution_count": 93,
     "metadata": {},
     "output_type": "execute_result"
    }
   ],
   "source": [
    "local_corrs[0:5]"
   ]
  },
  {
   "cell_type": "code",
   "execution_count": 105,
   "id": "c72984fe",
   "metadata": {},
   "outputs": [],
   "source": [
    "def wcor_ma_vec(weight, x, y):\n",
    "    weight_sum = np.sum(weight)\n",
    "    \n",
    "    n1 = weight_sum * np.dot(weight, x * y)\n",
    "    n2 = np.dot(weight, x) * np.dot(weight, y)\n",
    "    numerator = n1 - n2\n",
    "    \n",
    "    denominator_x = weight_sum * np.dot(weight, x**2) - np.dot(weight, x)**2\n",
    "    denominator_y = weight_sum * np.dot(weight, y**2) - np.dot(weight, y)**2\n",
    "    \n",
    "    corr = numerator / np.sqrt(denominator_x * denominator_y)\n",
    "    \n",
    "    return corr"
   ]
  },
  {
   "cell_type": "code",
   "execution_count": 141,
   "id": "80983536",
   "metadata": {},
   "outputs": [],
   "source": [
    "result = np.apply_along_axis(lambda w, x, y: wcor_ma(w, x, y), axis=1, arr=weight, x=x_ma, y=y_ma)"
   ]
  },
  {
   "cell_type": "code",
   "execution_count": 148,
   "id": "2148aa22",
   "metadata": {},
   "outputs": [],
   "source": [
    "def wcor_ma_2Dweights_vectorized_with_mask(x, y, weight):\n",
    "    x_masked = np.ma.array(x, mask = weight.mask)\n",
    "    y_masked = np.ma.array(y, mask = weight.mask)\n",
    "    numerator = np.ma.sum(weight, axis=1) * np.ma.sum(weight * x_masked * y_masked, axis=1) - np.ma.sum(weight * x_masked, axis=1) * np.ma.sum(weight * y_masked, axis=1)\n",
    "    \n",
    "    denominator_x = np.ma.sum(weight, axis=1) * np.ma.sum(weight * x_masked**2, axis=1) - np.ma.sum(weight * x_masked, axis=1)**2\n",
    "    denominator_y = np.ma.sum(weight, axis=1) * np.ma.sum(weight * y_masked**2, axis=1) - np.ma.sum(weight * y_masked, axis=1)**2\n",
    "    wcor = numerator / np.ma.sqrt(denominator_x * denominator_y)\n",
    "    \n",
    "    return wcor.data"
   ]
  },
  {
   "cell_type": "code",
   "execution_count": 149,
   "id": "fe407213",
   "metadata": {},
   "outputs": [
    {
     "data": {
      "text/plain": [
       "array([ 1.43094117e-01,  5.12176843e-02,  2.55159949e-01, -7.33574366e-02,\n",
       "       -3.07985292e-01, -1.02216035e-01, -1.39744467e-01, -1.80062597e-01,\n",
       "       -2.07501403e-01,  1.05940134e-03, -1.20739368e-01, -9.96016202e-02,\n",
       "        1.42116000e-01,  2.45454775e-01,  3.18804011e-01, -9.18780746e-02,\n",
       "        1.13869262e-01,  5.10605709e-01, -6.54328027e-04, -9.61228225e-02,\n",
       "        8.14484790e-02, -1.25280036e-01, -5.44812077e-02,  9.03697124e-02,\n",
       "        1.36173821e-02, -1.29646395e-01,  9.11031099e-02,  2.09629867e-02,\n",
       "       -5.15903309e-01, -1.64407021e-01, -6.43307472e-02, -3.53961308e-03,\n",
       "       -7.52505261e-02, -2.11863265e-01, -1.55859029e-01,  1.06481763e-01,\n",
       "       -1.48631081e-01,  1.32627652e-01, -1.79798104e-01, -2.37704435e-01,\n",
       "       -1.32265266e-01,  3.68056026e-02, -4.23005980e-01,  1.60880271e-01,\n",
       "       -3.85151275e-01, -8.33032654e-04,  3.04441955e-01,  1.09246788e-01,\n",
       "        5.89446566e-01,  5.34232563e-01, -3.06996592e-01, -1.58774990e-01,\n",
       "        3.78709653e-01,  1.21168298e-01, -8.90229552e-02,  4.12753811e-02,\n",
       "        1.50633588e-01, -1.65431026e-01,  1.13219626e-01,  6.61984644e-02,\n",
       "       -1.93062152e-01,  1.52048780e-01,  9.06002221e-02,  6.53255650e-02,\n",
       "        1.22852893e-01,  6.42905465e-02,  1.22240385e-01,  7.65996921e-02,\n",
       "        1.84099652e-01, -2.59579182e-01, -3.33548724e-01, -8.45125419e-02,\n",
       "        9.23825289e-02,  1.74579819e-01, -9.06770085e-02,  3.85427740e-01,\n",
       "        1.12962981e-01,  2.54817531e-01,  3.27148211e-01,  1.92679202e-01,\n",
       "        4.39989303e-01, -6.38230009e-02, -1.09256472e-01, -2.82845507e-01,\n",
       "       -1.15013536e-01, -1.53276571e-01, -3.31992893e-02,  2.53239667e-01,\n",
       "        3.19925250e-01,  2.67337781e-01,  1.31537263e-01, -3.90812989e-01,\n",
       "       -2.78151770e-01, -1.98892208e-01,  8.35294277e-02,  5.47751312e-01,\n",
       "        2.82341940e-01, -2.01239266e-01,  2.70507434e-01, -2.66488704e-02,\n",
       "        5.46426856e-01,  4.16055991e-01,  4.03865687e-01,  4.24920761e-01,\n",
       "        6.27439456e-01,  4.87121152e-01, -3.00647798e-01, -1.38654661e-01,\n",
       "       -3.64877951e-01, -3.43594570e-01,  3.34731273e-01, -2.59085611e-03,\n",
       "        1.43925345e-01, -4.63011152e-02, -1.73767462e-02,  6.82998500e-02,\n",
       "       -1.11858279e-02,  6.11332568e-02,  2.90233872e-02,  6.86463152e-02,\n",
       "       -1.19530202e-01, -4.48684910e-04, -3.48058832e-02, -1.94758990e-01,\n",
       "        1.53478129e-02, -1.95950863e-01, -2.12976767e-01, -4.10648287e-01,\n",
       "       -5.64673581e-01, -6.62722835e-01, -3.98254605e-01, -5.53470849e-01,\n",
       "       -5.17843723e-01, -7.58724468e-02, -5.21353108e-01, -3.25406611e-01,\n",
       "       -3.97951714e-01,  2.01993654e-01,  3.56015846e-01,  2.57330222e-01,\n",
       "        1.11682150e-01,  2.26974020e-01,  1.32557457e-01, -1.34034835e-01,\n",
       "       -7.08522465e-02,  1.73597039e-01,  5.81225719e-01,  5.83242652e-01,\n",
       "        5.79276844e-02,  3.88005319e-01,  2.78819869e-01,  3.13812826e-01,\n",
       "        6.44281505e-01,  4.77802850e-01,  1.29585789e-01, -5.71625747e-02,\n",
       "       -2.90022382e-02,  1.13324929e-01, -5.67128557e-01, -4.82733197e-01,\n",
       "       -2.00576434e-01, -2.44889809e-01,  4.90873564e-01,  2.14540232e-01,\n",
       "        3.37903799e-01,  4.12994634e-01,  8.76326822e-03, -1.14181120e-01,\n",
       "        4.81619160e-01, -1.71153114e-01,  5.23285257e-01,  5.22241486e-02,\n",
       "       -3.70066359e-01, -3.36942587e-01, -2.70646549e-01,  2.40952025e-01,\n",
       "       -6.93924085e-01, -2.10154940e-01, -2.86863587e-02,  2.30523820e-01,\n",
       "        2.17536769e-01, -1.22277331e-01, -5.28096902e-02,  1.06433574e-01,\n",
       "        3.89203982e-01,  2.42301724e-01,  9.82050526e-02,  3.73547754e-01,\n",
       "        3.23305414e-01,  2.66415519e-01,  1.76010021e-01,  1.55841168e-01,\n",
       "        1.65281652e-01,  1.90726070e-02,  6.23873305e-03,  4.97466330e-01,\n",
       "       -5.10044785e-01, -2.17861100e-01, -4.42206991e-01, -5.49210899e-01,\n",
       "       -1.24459520e-01,  1.37340224e-01, -2.49649588e-01, -6.21981670e-01,\n",
       "       -4.26491786e-01, -4.45240837e-01, -2.11408644e-01, -4.04780180e-01,\n",
       "       -5.92885347e-01,  1.42010926e-01,  2.74083937e-01,  5.98071214e-03,\n",
       "       -5.73099515e-03,  9.63204279e-02,  1.94581245e-01, -6.10494721e-02,\n",
       "        2.67451615e-01,  2.07347484e-01, -6.21946210e-02, -2.01705163e-01,\n",
       "       -2.27815853e-01, -5.42469206e-02,  3.33357335e-02,  1.75416812e-01,\n",
       "       -1.28880166e-01, -2.36913654e-01, -1.47184359e-01,  2.26073555e-02,\n",
       "       -2.97582258e-01,  4.03837992e-01,  1.08488738e-01,  2.88674866e-01,\n",
       "        2.68102934e-01, -1.77402161e-01, -1.49576278e-01,  2.56595146e-01,\n",
       "       -4.83035817e-02,  3.30978914e-02,  6.00018570e-01,  2.15026637e-01,\n",
       "        6.32390600e-01, -1.52139473e-01,  2.07568227e-02,  2.18329562e-01,\n",
       "        5.96024233e-01,  3.14324239e-01,  4.71816317e-02,  2.58830033e-01,\n",
       "        4.37134988e-01,  5.02748282e-01,  3.54775426e-01,  6.03928415e-02,\n",
       "       -3.07043565e-01,  3.38039347e-01,  3.71092276e-01,  2.56501189e-01,\n",
       "        1.41437195e-01, -6.16564926e-02, -4.36387040e-01,  1.77370771e-03])"
      ]
     },
     "execution_count": 149,
     "metadata": {},
     "output_type": "execute_result"
    }
   ],
   "source": [
    "wcor_ma_2Dweights_vectorized_with_mask(x_ma, y_ma, weight)"
   ]
  },
  {
   "cell_type": "code",
   "execution_count": null,
   "id": "7f11eaec",
   "metadata": {},
   "outputs": [],
   "source": []
  },
  {
   "cell_type": "code",
   "execution_count": 142,
   "id": "3965b038",
   "metadata": {},
   "outputs": [
    {
     "data": {
      "text/plain": [
       "masked_array(\n",
       "  data=[[[1.8563998400418653, 0.9578353225128343, 1.1964108244682299,\n",
       "          ..., --, --, 1.018786250744946],\n",
       "         [--, 1.0762790358996812, 1.0552461193959062, ..., --, --,\n",
       "          1.005783335875203],\n",
       "         [1.8307869649133215, 1.0274049628368787, 1.2464688892833775,\n",
       "          ..., --, --, 1.0279688465781507],\n",
       "         ...,\n",
       "         [--, --, --, ..., --, --, --],\n",
       "         [--, --, --, ..., --, --, --],\n",
       "         [1.8212707848406253, 1.0374673805785108, 1.1899297423745943,\n",
       "          ..., --, --, 1.0403285159903184]],\n",
       "\n",
       "        [[-0.0018994726238753701, 1.49944027645516, 1.486613168075623,\n",
       "          ..., --, --, 0.8613331381317845],\n",
       "         [--, 1.6849042610764604, 1.3111345983132747, ..., --, --,\n",
       "          0.8503456400238297],\n",
       "         [-0.0018573312855537185, 1.6083726698159255, 1.548838768134609,\n",
       "          ..., --, --, 0.8690334859542935],\n",
       "         ...,\n",
       "         [--, --, --, ..., --, --, --],\n",
       "         [--, --, --, ..., --, --, --],\n",
       "         [-0.001821439483732449, 1.624128636352792, 1.4785586596512716,\n",
       "          ..., --, --, 0.8794585682606276]],\n",
       "\n",
       "        [[1.33720256140689, 1.3810619944452343, 1.4160067800758425, ...,\n",
       "          --, --, 1.1307021745564658],\n",
       "         [--, 1.5518989488868067, 1.2489037105104168, ..., --, --,\n",
       "          1.116269651042144],\n",
       "         [1.3187563688134165, 1.4814023606204858, 1.4752626215871896,\n",
       "          ..., --, --, 1.140906609741245],\n",
       "         ...,\n",
       "         [--, --, --, ..., --, --, --],\n",
       "         [--, --, --, ..., --, --, --],\n",
       "         [1.311907058408962, 1.4959156408822736, 1.408335593395509, ...,\n",
       "          --, --, 1.154629088370335]],\n",
       "\n",
       "        ...,\n",
       "\n",
       "        [[--, --, --, ..., --, --, --],\n",
       "         [--, --, --, ..., --, --, --],\n",
       "         [--, --, --, ..., --, --, --],\n",
       "         ...,\n",
       "         [--, --, --, ..., 1.3940398624671704, --, --],\n",
       "         [--, --, --, ..., --, --, --],\n",
       "         [--, --, --, ..., --, --, --]],\n",
       "\n",
       "        [[--, --, --, ..., --, --, --],\n",
       "         [--, --, --, ..., --, --, --],\n",
       "         [--, --, --, ..., --, --, --],\n",
       "         ...,\n",
       "         [--, --, --, ..., --, --, --],\n",
       "         [--, --, --, ..., --, 1.5417683211093518, --],\n",
       "         [--, --, --, ..., --, --, --]],\n",
       "\n",
       "        [[1.2124120866417558, 1.001764528801498, 1.2366531952451376,\n",
       "          ..., --, --, 1.377161606752364],\n",
       "         [--, 1.1256495838717906, 1.0907147943148585, ..., --, --,\n",
       "          1.3595752753103736],\n",
       "         [1.1956864031695242, 1.0745297140651644, 1.288403901862209,\n",
       "          ..., --, --, 1.389676439817321],\n",
       "         ...,\n",
       "         [--, --, --, ..., --, --, --],\n",
       "         [--, --, --, ..., --, --, --],\n",
       "         [1.1894747623818893, 1.0850543678168663, 1.2299536365966404,\n",
       "          ..., --, --, 1.406423333259569]]],\n",
       "  mask=[[[False, False, False, ...,  True,  True, False],\n",
       "         [ True, False, False, ...,  True,  True, False],\n",
       "         [False, False, False, ...,  True,  True, False],\n",
       "         ...,\n",
       "         [ True,  True,  True, ...,  True,  True,  True],\n",
       "         [ True,  True,  True, ...,  True,  True,  True],\n",
       "         [False, False, False, ...,  True,  True, False]],\n",
       "\n",
       "        [[False, False, False, ...,  True,  True, False],\n",
       "         [ True, False, False, ...,  True,  True, False],\n",
       "         [False, False, False, ...,  True,  True, False],\n",
       "         ...,\n",
       "         [ True,  True,  True, ...,  True,  True,  True],\n",
       "         [ True,  True,  True, ...,  True,  True,  True],\n",
       "         [False, False, False, ...,  True,  True, False]],\n",
       "\n",
       "        [[False, False, False, ...,  True,  True, False],\n",
       "         [ True, False, False, ...,  True,  True, False],\n",
       "         [False, False, False, ...,  True,  True, False],\n",
       "         ...,\n",
       "         [ True,  True,  True, ...,  True,  True,  True],\n",
       "         [ True,  True,  True, ...,  True,  True,  True],\n",
       "         [False, False, False, ...,  True,  True, False]],\n",
       "\n",
       "        ...,\n",
       "\n",
       "        [[ True,  True,  True, ...,  True,  True,  True],\n",
       "         [ True,  True,  True, ...,  True,  True,  True],\n",
       "         [ True,  True,  True, ...,  True,  True,  True],\n",
       "         ...,\n",
       "         [ True,  True,  True, ..., False,  True,  True],\n",
       "         [ True,  True,  True, ...,  True,  True,  True],\n",
       "         [ True,  True,  True, ...,  True,  True,  True]],\n",
       "\n",
       "        [[ True,  True,  True, ...,  True,  True,  True],\n",
       "         [ True,  True,  True, ...,  True,  True,  True],\n",
       "         [ True,  True,  True, ...,  True,  True,  True],\n",
       "         ...,\n",
       "         [ True,  True,  True, ...,  True,  True,  True],\n",
       "         [ True,  True,  True, ...,  True, False,  True],\n",
       "         [ True,  True,  True, ...,  True,  True,  True]],\n",
       "\n",
       "        [[False, False, False, ...,  True,  True, False],\n",
       "         [ True, False, False, ...,  True,  True, False],\n",
       "         [False, False, False, ...,  True,  True, False],\n",
       "         ...,\n",
       "         [ True,  True,  True, ...,  True,  True,  True],\n",
       "         [ True,  True,  True, ...,  True,  True,  True],\n",
       "         [False, False, False, ...,  True,  True, False]]],\n",
       "  fill_value=1e+20)"
      ]
     },
     "execution_count": 142,
     "metadata": {},
     "output_type": "execute_result"
    }
   ],
   "source": [
    "result"
   ]
  },
  {
   "cell_type": "code",
   "execution_count": null,
   "id": "f0d2f6ae",
   "metadata": {},
   "outputs": [],
   "source": []
  },
  {
   "cell_type": "code",
   "execution_count": null,
   "id": "cf678403",
   "metadata": {},
   "outputs": [],
   "source": []
  },
  {
   "cell_type": "code",
   "execution_count": 83,
   "id": "120c0d80",
   "metadata": {},
   "outputs": [
    {
     "data": {
      "text/plain": [
       "(260, 260)"
      ]
     },
     "execution_count": 83,
     "metadata": {},
     "output_type": "execute_result"
    }
   ],
   "source": [
    "x_ma.shape"
   ]
  },
  {
   "cell_type": "code",
   "execution_count": 59,
   "id": "922a70ed",
   "metadata": {},
   "outputs": [
    {
     "data": {
      "text/plain": [
       "array([ 1.43094117e-01,  5.12176843e-02,  2.55159949e-01, -7.33574366e-02,\n",
       "       -3.07985292e-01, -1.02216035e-01, -1.39744467e-01, -1.80062597e-01,\n",
       "       -2.07501403e-01,  1.05940134e-03, -1.20739368e-01, -9.96016202e-02,\n",
       "        1.42116000e-01,  2.45454775e-01,  3.18804011e-01, -9.18780746e-02,\n",
       "        1.13869262e-01,  5.10605709e-01, -6.54328027e-04, -9.61228225e-02,\n",
       "        8.14484790e-02, -1.25280036e-01, -5.44812077e-02,  9.03697124e-02,\n",
       "        1.36173821e-02, -1.29646395e-01,  9.11031099e-02,  2.09629867e-02,\n",
       "       -5.15903309e-01, -1.64407021e-01, -6.43307472e-02, -3.53961308e-03,\n",
       "       -7.52505261e-02, -2.11863265e-01, -1.55859029e-01,  1.06481763e-01,\n",
       "       -1.48631081e-01,  1.32627652e-01, -1.79798104e-01, -2.37704435e-01,\n",
       "       -1.32265266e-01,  3.68056026e-02, -4.23005980e-01,  1.60880271e-01,\n",
       "       -3.85151275e-01, -8.33032654e-04,  3.04441955e-01,  1.09246788e-01,\n",
       "        5.89446566e-01,  5.34232563e-01, -3.06996592e-01, -1.58774990e-01,\n",
       "        3.78709653e-01,  1.21168298e-01, -8.90229552e-02,  4.12753811e-02,\n",
       "        1.50633588e-01, -1.65431026e-01,  1.13219626e-01,  6.61984644e-02,\n",
       "       -1.93062152e-01,  1.52048780e-01,  9.06002221e-02,  6.53255650e-02,\n",
       "        1.22852893e-01,  6.42905465e-02,  1.22240385e-01,  7.65996921e-02,\n",
       "        1.84099652e-01, -2.59579182e-01, -3.33548724e-01, -8.45125419e-02,\n",
       "        9.23825289e-02,  1.74579819e-01, -9.06770085e-02,  3.85427740e-01,\n",
       "        1.12962981e-01,  2.54817531e-01,  3.27148211e-01,  1.92679202e-01,\n",
       "        4.39989303e-01, -6.38230009e-02, -1.09256472e-01, -2.82845507e-01,\n",
       "       -1.15013536e-01, -1.53276571e-01, -3.31992893e-02,  2.53239667e-01,\n",
       "        3.19925250e-01,  2.67337781e-01,  1.31537263e-01, -3.90812989e-01,\n",
       "       -2.78151770e-01, -1.98892208e-01,  8.35294277e-02,  5.47751312e-01,\n",
       "        2.82341940e-01, -2.01239266e-01,  2.70507434e-01, -2.66488704e-02,\n",
       "        5.46426856e-01,  4.16055991e-01,  4.03865687e-01,  4.24920761e-01,\n",
       "        6.27439456e-01,  4.87121152e-01, -3.00647798e-01, -1.38654661e-01,\n",
       "       -3.64877951e-01, -3.43594570e-01,  3.34731273e-01, -2.59085611e-03,\n",
       "        1.43925345e-01, -4.63011152e-02, -1.73767462e-02,  6.82998500e-02,\n",
       "       -1.11858279e-02,  6.11332568e-02,  2.90233872e-02,  6.86463152e-02,\n",
       "       -1.19530202e-01, -4.48684910e-04, -3.48058832e-02, -1.94758990e-01,\n",
       "        1.53478129e-02, -1.95950863e-01, -2.12976767e-01, -4.10648287e-01,\n",
       "       -5.64673581e-01, -6.62722835e-01, -3.98254605e-01, -5.53470849e-01,\n",
       "       -5.17843723e-01, -7.58724468e-02, -5.21353108e-01, -3.25406611e-01,\n",
       "       -3.97951714e-01,  2.01993654e-01,  3.56015846e-01,  2.57330222e-01,\n",
       "        1.11682150e-01,  2.26974020e-01,  1.32557457e-01, -1.34034835e-01,\n",
       "       -7.08522465e-02,  1.73597039e-01,  5.81225719e-01,  5.83242652e-01,\n",
       "        5.79276844e-02,  3.88005319e-01,  2.78819869e-01,  3.13812826e-01,\n",
       "        6.44281505e-01,  4.77802850e-01,  1.29585789e-01, -5.71625747e-02,\n",
       "       -2.90022382e-02,  1.13324929e-01, -5.67128557e-01, -4.82733197e-01,\n",
       "       -2.00576434e-01, -2.44889809e-01,  4.90873564e-01,  2.14540232e-01,\n",
       "        3.37903799e-01,  4.12994634e-01,  8.76326822e-03, -1.14181120e-01,\n",
       "        4.81619160e-01, -1.71153114e-01,  5.23285257e-01,  5.22241486e-02,\n",
       "       -3.70066359e-01, -3.36942587e-01, -2.70646549e-01,  2.40952025e-01,\n",
       "       -6.93924085e-01, -2.10154940e-01, -2.86863587e-02,  2.30523820e-01,\n",
       "        2.17536769e-01, -1.22277331e-01, -5.28096902e-02,  1.06433574e-01,\n",
       "        3.89203982e-01,  2.42301724e-01,  9.82050526e-02,  3.73547754e-01,\n",
       "        3.23305414e-01,  2.66415519e-01,  1.76010021e-01,  1.55841168e-01,\n",
       "        1.65281652e-01,  1.90726070e-02,  6.23873305e-03,  4.97466330e-01,\n",
       "       -5.10044785e-01, -2.17861100e-01, -4.42206991e-01, -5.49210899e-01,\n",
       "       -1.24459520e-01,  1.37340224e-01, -2.49649588e-01, -6.21981670e-01,\n",
       "       -4.26491786e-01, -4.45240837e-01, -2.11408644e-01, -4.04780180e-01,\n",
       "       -5.92885347e-01,  1.42010926e-01,  2.74083937e-01,  5.98071214e-03,\n",
       "       -5.73099515e-03,  9.63204279e-02,  1.94581245e-01, -6.10494721e-02,\n",
       "        2.67451615e-01,  2.07347484e-01, -6.21946210e-02, -2.01705163e-01,\n",
       "       -2.27815853e-01, -5.42469206e-02,  3.33357335e-02,  1.75416812e-01,\n",
       "       -1.28880166e-01, -2.36913654e-01, -1.47184359e-01,  2.26073555e-02,\n",
       "       -2.97582258e-01,  4.03837992e-01,  1.08488738e-01,  2.88674866e-01,\n",
       "        2.68102934e-01, -1.77402161e-01, -1.49576278e-01,  2.56595146e-01,\n",
       "       -4.83035817e-02,  3.30978914e-02,  6.00018570e-01,  2.15026637e-01,\n",
       "        6.32390600e-01, -1.52139473e-01,  2.07568227e-02,  2.18329562e-01,\n",
       "        5.96024233e-01,  3.14324239e-01,  4.71816317e-02,  2.58830033e-01,\n",
       "        4.37134988e-01,  5.02748282e-01,  3.54775426e-01,  6.03928415e-02,\n",
       "       -3.07043565e-01,  3.38039347e-01,  3.71092276e-01,  2.56501189e-01,\n",
       "        1.41437195e-01, -6.16564926e-02, -4.36387040e-01,  1.77370771e-03])"
      ]
     },
     "execution_count": 59,
     "metadata": {},
     "output_type": "execute_result"
    }
   ],
   "source": [
    "local_corrs"
   ]
  },
  {
   "cell_type": "code",
   "execution_count": null,
   "id": "2e6c573e",
   "metadata": {},
   "outputs": [],
   "source": []
  },
  {
   "cell_type": "code",
   "execution_count": null,
   "id": "5582231a",
   "metadata": {},
   "outputs": [],
   "source": []
  },
  {
   "cell_type": "code",
   "execution_count": null,
   "id": "5c5b0e81",
   "metadata": {},
   "outputs": [],
   "source": []
  },
  {
   "cell_type": "code",
   "execution_count": 41,
   "id": "1bbf8fc7",
   "metadata": {},
   "outputs": [],
   "source": [
    "i = 0 "
   ]
  },
  {
   "cell_type": "code",
   "execution_count": 42,
   "id": "b316d9b8",
   "metadata": {},
   "outputs": [],
   "source": [
    "x, y, weight = x_ma[i, :], y_ma[i, :], weight[i, :]"
   ]
  },
  {
   "cell_type": "code",
   "execution_count": null,
   "id": "63a5e5bf",
   "metadata": {},
   "outputs": [],
   "source": []
  },
  {
   "cell_type": "code",
   "execution_count": null,
   "id": "2a20d419",
   "metadata": {},
   "outputs": [],
   "source": [
    "weight_sum = np.sum(weight)\n",
    "\n",
    "n1 = weight_sum * np.sum(weight * x * y)\n",
    "n2 = np.sum(weight * x) * np.sum(weight * y)\n",
    "numerator = n1 - n2\n",
    "\n",
    "denominator_x = weight_sum * np.sum(weight * (x**2)) - np.sum(weight * x)**2\n",
    "denominator_y = weight_sum * np.sum(weight * (y**2)) - np.sum(weight * y)**2\n",
    "\n",
    "wcor = numerator / np.sqrt(denominator_x * denominator_y)"
   ]
  },
  {
   "cell_type": "code",
   "execution_count": null,
   "id": "cf8e62e1",
   "metadata": {},
   "outputs": [],
   "source": [
    "local_corrs[0:5]"
   ]
  },
  {
   "cell_type": "code",
   "execution_count": null,
   "id": "ccb84436",
   "metadata": {},
   "outputs": [],
   "source": [
    "hist(local_corrs)"
   ]
  },
  {
   "cell_type": "code",
   "execution_count": null,
   "id": "c112d06b",
   "metadata": {},
   "outputs": [],
   "source": [
    "x_ma[i, :]"
   ]
  },
  {
   "cell_type": "code",
   "execution_count": null,
   "id": "e43d5b80",
   "metadata": {},
   "outputs": [],
   "source": [
    "y_ma[i, :]"
   ]
  },
  {
   "cell_type": "code",
   "execution_count": null,
   "id": "4982e820",
   "metadata": {},
   "outputs": [],
   "source": []
  },
  {
   "cell_type": "code",
   "execution_count": null,
   "id": "02a6ec83",
   "metadata": {},
   "outputs": [],
   "source": [
    "hist(local_corrs)"
   ]
  },
  {
   "cell_type": "code",
   "execution_count": null,
   "id": "d62e1c80",
   "metadata": {},
   "outputs": [],
   "source": []
  },
  {
   "cell_type": "code",
   "execution_count": null,
   "id": "302e04b1",
   "metadata": {},
   "outputs": [],
   "source": []
  },
  {
   "cell_type": "code",
   "execution_count": null,
   "id": "397b12cf",
   "metadata": {},
   "outputs": [],
   "source": []
  },
  {
   "cell_type": "code",
   "execution_count": null,
   "id": "6b35d847",
   "metadata": {},
   "outputs": [],
   "source": [
    "wcor(x_ma[i,:], y_ma[i, :], weight[i, :])"
   ]
  },
  {
   "cell_type": "code",
   "execution_count": null,
   "id": "5dd26e6e",
   "metadata": {},
   "outputs": [],
   "source": []
  },
  {
   "cell_type": "code",
   "execution_count": null,
   "id": "77edd4c0",
   "metadata": {},
   "outputs": [],
   "source": [
    "local_corrs.shape"
   ]
  },
  {
   "cell_type": "code",
   "execution_count": null,
   "id": "7a604eb8-3f1d-4a2f-a03b-6a3baba26c39",
   "metadata": {},
   "outputs": [],
   "source": []
  },
  {
   "cell_type": "code",
   "execution_count": null,
   "id": "23e49926-024a-4e7f-9db0-9be089459776",
   "metadata": {},
   "outputs": [],
   "source": []
  },
  {
   "cell_type": "markdown",
   "id": "6c541874-43de-4f95-8dd3-fcf5f6c5df24",
   "metadata": {},
   "source": [
    "Vectorize"
   ]
  },
  {
   "cell_type": "markdown",
   "id": "ba744e9d-5461-4ddb-a68b-9534806acf93",
   "metadata": {},
   "source": [
    "For one interaction at a time:"
   ]
  },
  {
   "cell_type": "code",
   "execution_count": null,
   "id": "89ea1080",
   "metadata": {},
   "outputs": [],
   "source": [
    "x, y = ligand_mat[0, :].A.flatten(), receptor_mat[0, :].A.flatten()"
   ]
  },
  {
   "cell_type": "code",
   "execution_count": null,
   "id": "c2b9c4c9-0d5a-48e6-b628-1068b55db89e",
   "metadata": {},
   "outputs": [],
   "source": [
    "weight = adata.obsm[\"proximity\"].A ## does it really need to be A?"
   ]
  },
  {
   "cell_type": "code",
   "execution_count": null,
   "id": "40bd0b01-0678-4176-abd2-c601ed10b1b6",
   "metadata": {},
   "outputs": [],
   "source": [
    "weight_sum = np.sum(weight, axis = 1).flatten()"
   ]
  },
  {
   "cell_type": "code",
   "execution_count": null,
   "id": "6d360577-ea12-46e3-a7b9-70a9dc568cd5",
   "metadata": {},
   "outputs": [],
   "source": [
    "n1 = (weight_sum * np.sum(np.multiply(weight, x) * y, axis=1))\n",
    "n1[0:5]"
   ]
  },
  {
   "cell_type": "code",
   "execution_count": null,
   "id": "f2e5e269-5495-4336-a6ef-0dc751dffb46",
   "metadata": {},
   "outputs": [],
   "source": [
    "n2 = np.sum(np.multiply(weight, x), axis=1) * np.sum(np.multiply(weight, y), axis=1)\n",
    "n2[0:5]"
   ]
  },
  {
   "cell_type": "code",
   "execution_count": null,
   "id": "5e78743b-e212-49a9-b5f4-306b9f50abab",
   "metadata": {},
   "outputs": [],
   "source": [
    "numerator = n1 - n2"
   ]
  },
  {
   "cell_type": "code",
   "execution_count": null,
   "id": "2a9d6ed7",
   "metadata": {},
   "outputs": [],
   "source": [
    "numerator[0:5]"
   ]
  },
  {
   "cell_type": "code",
   "execution_count": null,
   "id": "dd6df074-1b77-44fc-8bd0-ba92529a16ce",
   "metadata": {},
   "outputs": [],
   "source": []
  },
  {
   "cell_type": "code",
   "execution_count": null,
   "id": "566d64f2-ad7c-4acb-b49e-7daac2ba428e",
   "metadata": {},
   "outputs": [],
   "source": [
    "denominator_x = weight_sum * np.sum(np.multiply(weight, (x**2)), axis = 1) - np.sum(np.multiply(weight,  x), axis=1)**2\n",
    "denominator_y = weight_sum * np.sum(np.multiply(weight, (y**2)), axis = 1) - np.sum(np.multiply(weight,  y), axis=1)**2"
   ]
  },
  {
   "cell_type": "code",
   "execution_count": null,
   "id": "dee94a5d-e7ed-41aa-b457-c842dadaa472",
   "metadata": {},
   "outputs": [],
   "source": [
    "denominator_x.shape"
   ]
  },
  {
   "cell_type": "code",
   "execution_count": null,
   "id": "68f146bd-6a93-4799-9f1d-5267dd93b851",
   "metadata": {},
   "outputs": [],
   "source": []
  },
  {
   "cell_type": "code",
   "execution_count": null,
   "id": "c763af5a-23f8-4bf6-a4b8-dc06b2b4e752",
   "metadata": {},
   "outputs": [],
   "source": [
    "denominator_x[0:5]"
   ]
  },
  {
   "cell_type": "code",
   "execution_count": null,
   "id": "cf5b4f16-c3f5-4e2c-9a85-f57694cfa8fe",
   "metadata": {},
   "outputs": [],
   "source": [
    "denominator_y[0:5]"
   ]
  },
  {
   "cell_type": "code",
   "execution_count": null,
   "id": "8bcfb4ca-105a-42c1-847c-8a2a7d8ccd83",
   "metadata": {},
   "outputs": [],
   "source": [
    "local_corrs = numerator / np.sqrt(denominator_x * denominator_y)"
   ]
  },
  {
   "cell_type": "code",
   "execution_count": null,
   "id": "32ee796f-713b-4980-b766-abbca1cdf775",
   "metadata": {},
   "outputs": [],
   "source": [
    "hist(local_corrs)"
   ]
  },
  {
   "cell_type": "code",
   "execution_count": null,
   "id": "9f303e6f",
   "metadata": {},
   "outputs": [],
   "source": []
  },
  {
   "cell_type": "code",
   "execution_count": null,
   "id": "55890bfd",
   "metadata": {},
   "outputs": [],
   "source": [
    "def _calculate_local_correlations(x, y, weight):\n",
    "    weight_sum = np.sum(weight, axis = 1).flatten()\n",
    "    \n",
    "    numerator = weight_sum * np.sum(np.multiply(weight, x) * y, axis=1) - np.sum(np.multiply(weight, x), axis=1) * np.sum(np.multiply(weight, y), axis=1)\n",
    "    denominator_x = weight_sum * np.sum(np.multiply(weight, (x**2)), axis = 1) - np.sum(np.multiply(weight,  x), axis=1)**2\n",
    "    denominator_y = weight_sum * np.sum(np.multiply(weight, (y**2)), axis = 1) - np.sum(np.multiply(weight,  y), axis=1)**2\n",
    "    \n",
    "    local_corrs = numerator / np.sqrt(denominator_x * denominator_y)\n",
    "    \n",
    "    return local_corrs"
   ]
  },
  {
   "cell_type": "code",
   "execution_count": null,
   "id": "1ed30283",
   "metadata": {},
   "outputs": [],
   "source": [
    "x, y = ligand_mat[0, :].A.flatten(), receptor_mat[0, :].A.flatten()"
   ]
  },
  {
   "cell_type": "code",
   "execution_count": null,
   "id": "5a68be00",
   "metadata": {},
   "outputs": [],
   "source": [
    "_calculate_local_correlations(x, y, weight)"
   ]
  },
  {
   "cell_type": "code",
   "execution_count": null,
   "id": "6a361093",
   "metadata": {},
   "outputs": [],
   "source": [
    "import scipy.stats as stats"
   ]
  },
  {
   "cell_type": "code",
   "execution_count": null,
   "id": "8a5dada6",
   "metadata": {},
   "outputs": [],
   "source": [
    "weight = adata.obsm[\"proximity\"].A\n",
    "weight_sum = np.sum(weight, axis = 1).flatten()"
   ]
  },
  {
   "cell_type": "code",
   "execution_count": null,
   "id": "501018f9",
   "metadata": {},
   "outputs": [],
   "source": [
    "msk = np.isnan(weight)\n",
    "# msk = np.logical_not(weight>0).astype(np.int16)"
   ]
  },
  {
   "cell_type": "code",
   "execution_count": null,
   "id": "acbd25a7",
   "metadata": {},
   "outputs": [],
   "source": [
    "weight = np.ma.masked_array(weight, mask=msk)"
   ]
  },
  {
   "cell_type": "code",
   "execution_count": null,
   "id": "c589be4f",
   "metadata": {},
   "outputs": [],
   "source": [
    "xy_n = len(x)"
   ]
  },
  {
   "cell_type": "code",
   "execution_count": null,
   "id": "17184cc7",
   "metadata": {},
   "outputs": [],
   "source": [
    "x_ma = np.reshape(np.repeat(x, xy_n), newshape=(xy_n, xy_n))\n",
    "y_ma = np.reshape(np.repeat(y, xy_n), newshape=(xy_n, xy_n))\n",
    "\n",
    "x_ma = np.ma.masked_array(x_ma, mask=msk, fill_value=np.nan).T\n",
    "y_ma = np.ma.masked_array(y_ma, mask=msk, fill_value=np.nan).T"
   ]
  },
  {
   "cell_type": "code",
   "execution_count": null,
   "id": "28f73a96",
   "metadata": {},
   "outputs": [],
   "source": [
    "x_ma[0:5, 0:5]"
   ]
  },
  {
   "cell_type": "code",
   "execution_count": null,
   "id": "60be5a87",
   "metadata": {},
   "outputs": [],
   "source": [
    "# x_ma = np.ma.masked_array(stats.mstats.rankdata(x_ma, axis=0), msk)\n",
    "# y_ma = np.ma.masked_array(stats.mstats.rankdata(y_ma, axis=0), msk)"
   ]
  },
  {
   "cell_type": "code",
   "execution_count": null,
   "id": "3a67cef4",
   "metadata": {},
   "outputs": [],
   "source": []
  },
  {
   "cell_type": "code",
   "execution_count": null,
   "id": "f17f78c5",
   "metadata": {},
   "outputs": [],
   "source": [
    "# vector\n",
    "n1 = (((x_ma * y_ma).dot(weight.T)) * weight_sum)\n",
    "n2 = (x_ma.dot(weight.T)) * (y_ma.dot(weight.T))\n",
    "numerator = n1 - n2\n",
    "\n",
    "denominator_x = (weight_sum * (x_ma ** 2).dot(weight.T)) - (x_ma.dot(weight.T))**2\n",
    "denominator_y = (weight_sum * (y_ma ** 2).dot(weight.T)) - (y_ma.dot(weight.T))**2\n",
    "\n",
    "local_corrs = (numerator / np.sqrt(denominator_x * denominator_y))\n"
   ]
  },
  {
   "cell_type": "code",
   "execution_count": null,
   "id": "6d8e527d",
   "metadata": {},
   "outputs": [],
   "source": [
    "numerator"
   ]
  },
  {
   "cell_type": "code",
   "execution_count": null,
   "id": "b39db77e",
   "metadata": {},
   "outputs": [],
   "source": []
  },
  {
   "cell_type": "code",
   "execution_count": null,
   "id": "92c43ec9",
   "metadata": {},
   "outputs": [],
   "source": []
  },
  {
   "cell_type": "code",
   "execution_count": null,
   "id": "c2133459",
   "metadata": {},
   "outputs": [],
   "source": [
    "denominator_y[0:5,0]"
   ]
  },
  {
   "cell_type": "code",
   "execution_count": null,
   "id": "6eb68e5f",
   "metadata": {},
   "outputs": [],
   "source": [
    "# one by one\n",
    "weight_sum = np.sum(weight, axis = 1).flatten()\n",
    "\n",
    "numerator = weight_sum * np.sum(np.multiply(weight, x) * y, axis=1) - np.sum(np.multiply(weight, x), axis=1) * np.sum(np.multiply(weight, y), axis=1)\n",
    "denominator_x = weight_sum * np.sum(np.multiply(weight, (x**2)), axis = 1) - np.sum(np.multiply(weight,  x), axis=1)**2\n",
    "denominator_y = weight_sum * np.sum(np.multiply(weight, (y**2)), axis = 1) - np.sum(np.multiply(weight,  y), axis=1)**2\n",
    "\n",
    "local_corrs = numerator / np.sqrt(denominator_x * denominator_y)"
   ]
  },
  {
   "cell_type": "code",
   "execution_count": null,
   "id": "d958fd3c",
   "metadata": {},
   "outputs": [],
   "source": []
  },
  {
   "cell_type": "code",
   "execution_count": null,
   "id": "927bcf8c",
   "metadata": {},
   "outputs": [],
   "source": []
  },
  {
   "cell_type": "code",
   "execution_count": null,
   "id": "3af7d75c",
   "metadata": {},
   "outputs": [],
   "source": []
  },
  {
   "cell_type": "code",
   "execution_count": null,
   "id": "bd576254",
   "metadata": {},
   "outputs": [],
   "source": [
    "denominator_y[0:5]"
   ]
  },
  {
   "cell_type": "code",
   "execution_count": null,
   "id": "389dffb8",
   "metadata": {},
   "outputs": [],
   "source": [
    "denominator_x.shape"
   ]
  },
  {
   "cell_type": "code",
   "execution_count": null,
   "id": "8921db96",
   "metadata": {},
   "outputs": [],
   "source": [
    "local_corrs.shape"
   ]
  },
  {
   "cell_type": "code",
   "execution_count": null,
   "id": "c26f05a0",
   "metadata": {},
   "outputs": [],
   "source": []
  },
  {
   "cell_type": "code",
   "execution_count": null,
   "id": "de418b9e",
   "metadata": {},
   "outputs": [],
   "source": [
    "local_corrs.shape"
   ]
  },
  {
   "cell_type": "code",
   "execution_count": null,
   "id": "de024dff",
   "metadata": {},
   "outputs": [],
   "source": [
    "np.max(local_corrs)"
   ]
  },
  {
   "cell_type": "code",
   "execution_count": null,
   "id": "37e36438",
   "metadata": {},
   "outputs": [],
   "source": [
    "(x_ma.dot(weight)) * (y_ma.dot(weight))"
   ]
  },
  {
   "cell_type": "code",
   "execution_count": null,
   "id": "72091ea9-730d-4c65-9208-74a77b5b7e94",
   "metadata": {},
   "outputs": [],
   "source": []
  },
  {
   "cell_type": "markdown",
   "id": "d4a4f75e-dc99-4563-817b-e158a18abf28",
   "metadata": {},
   "source": [
    "All local corrs for all interactions"
   ]
  },
  {
   "cell_type": "code",
   "execution_count": null,
   "id": "1edce62b-dabe-4c36-86db-0e10ca425f09",
   "metadata": {},
   "outputs": [],
   "source": [
    "ligand_mat"
   ]
  },
  {
   "cell_type": "code",
   "execution_count": null,
   "id": "a8df29a7-8dfa-46d4-8b99-bbb7fd694fc0",
   "metadata": {},
   "outputs": [],
   "source": [
    "receptor_mat"
   ]
  },
  {
   "cell_type": "code",
   "execution_count": null,
   "id": "48696316-b3ec-436a-9415-d8faf1991226",
   "metadata": {},
   "outputs": [],
   "source": []
  },
  {
   "cell_type": "code",
   "execution_count": null,
   "id": "e290d38d-33f8-4c10-8e08-99bf519d7e2f",
   "metadata": {},
   "outputs": [],
   "source": [
    "weight = adata.obsm[\"proximity\"].A.T ## does it really need to be A?"
   ]
  },
  {
   "cell_type": "code",
   "execution_count": null,
   "id": "02e1dded-4858-4cee-9a4f-41b22c4494f0",
   "metadata": {},
   "outputs": [],
   "source": [
    "weight_sums = np.sum(weight, axis = 0).flatten()"
   ]
  },
  {
   "cell_type": "code",
   "execution_count": null,
   "id": "44ab4a9c-413d-4684-84fa-0a341715dac9",
   "metadata": {},
   "outputs": [],
   "source": [
    "x_mat = ligand_mat.A.T\n",
    "y_mat = receptor_mat.A.T"
   ]
  },
  {
   "cell_type": "code",
   "execution_count": null,
   "id": "ec508ba1",
   "metadata": {},
   "outputs": [],
   "source": [
    "from scipy.stats import rankdata"
   ]
  },
  {
   "cell_type": "code",
   "execution_count": null,
   "id": "a2266316",
   "metadata": {},
   "outputs": [],
   "source": [
    "# x_mat = rankdata(x_mat, axis=0)\n",
    "# y_mat = rankdata(y_mat, axis=0)"
   ]
  },
  {
   "cell_type": "code",
   "execution_count": null,
   "id": "cbe0dd74",
   "metadata": {},
   "outputs": [],
   "source": []
  },
  {
   "cell_type": "code",
   "execution_count": null,
   "id": "4946f4a8-ef66-4136-92e4-34f495e454ac",
   "metadata": {},
   "outputs": [],
   "source": [
    "n1 = (((x_mat * y_mat).T @ weight) * weight_sums.T)"
   ]
  },
  {
   "cell_type": "code",
   "execution_count": null,
   "id": "6cd8a1f5",
   "metadata": {},
   "outputs": [],
   "source": [
    "n1[0:5, 0]"
   ]
  },
  {
   "cell_type": "code",
   "execution_count": null,
   "id": "2d85c7c2-a647-4821-8887-54fe860151a1",
   "metadata": {},
   "outputs": [],
   "source": [
    "n2 = (x_mat.T @ weight) * (y_mat.T @ weight)"
   ]
  },
  {
   "cell_type": "code",
   "execution_count": null,
   "id": "fc138f8c-7feb-4a06-ab5f-4625ba563d06",
   "metadata": {},
   "outputs": [],
   "source": []
  },
  {
   "cell_type": "code",
   "execution_count": null,
   "id": "cfec59cd-3dd7-4455-9894-3a2471dae55d",
   "metadata": {},
   "outputs": [],
   "source": [
    "numerator = n1 - n2"
   ]
  },
  {
   "cell_type": "code",
   "execution_count": null,
   "id": "64e96a37-7f32-4897-877a-37c800c36335",
   "metadata": {},
   "outputs": [],
   "source": [
    "numerator[0,0:5]"
   ]
  },
  {
   "cell_type": "code",
   "execution_count": null,
   "id": "ba30449e-7478-44ad-abda-f31922cb844e",
   "metadata": {},
   "outputs": [],
   "source": []
  },
  {
   "cell_type": "code",
   "execution_count": null,
   "id": "742ce22f-6a27-420f-adf2-e3e78628adde",
   "metadata": {},
   "outputs": [],
   "source": [
    "denominator_x = (weight_sums * (x_mat ** 2).T @ weight) - (x_mat.T @ weight)**2\n",
    "denominator_y = (weight_sums * (y_mat ** 2).T @ weight) - (y_mat.T @ weight)**2"
   ]
  },
  {
   "cell_type": "code",
   "execution_count": null,
   "id": "c4426886-4b7d-43fe-8547-99ff8a78dcae",
   "metadata": {},
   "outputs": [],
   "source": [
    "denominator_x[0, 0:5]"
   ]
  },
  {
   "cell_type": "code",
   "execution_count": null,
   "id": "fd57e99d-bb33-48da-94ed-a0adeff0f91b",
   "metadata": {},
   "outputs": [],
   "source": [
    "denominator_y[0, 0:5]"
   ]
  },
  {
   "cell_type": "code",
   "execution_count": null,
   "id": "09b3a4a2-1bf9-48ab-8cd9-0b080d3cc99b",
   "metadata": {},
   "outputs": [],
   "source": [
    "local_corrs = (numerator / np.sqrt(denominator_x * denominator_y)).T"
   ]
  },
  {
   "cell_type": "code",
   "execution_count": null,
   "id": "dee4ebbf-1541-4ba0-93f9-d70282a127ef",
   "metadata": {},
   "outputs": [],
   "source": [
    "hist(local_corrs[:,0])"
   ]
  },
  {
   "cell_type": "code",
   "execution_count": null,
   "id": "69cb7ee2",
   "metadata": {},
   "outputs": [],
   "source": [
    "local_corrs[0:5,0]"
   ]
  },
  {
   "cell_type": "code",
   "execution_count": null,
   "id": "dc85144e",
   "metadata": {},
   "outputs": [],
   "source": []
  },
  {
   "attachments": {},
   "cell_type": "markdown",
   "id": "0afdf754",
   "metadata": {},
   "source": [
    "Clean"
   ]
  },
  {
   "cell_type": "code",
   "execution_count": null,
   "id": "153e7944-adbb-401e-914b-09c227dcfdea",
   "metadata": {},
   "outputs": [],
   "source": [
    "import squidpy as sq\n",
    "import scanpy as sc\n",
    "import pandas as pd\n",
    "import numpy as np\n",
    "from scipy.sparse import csr_matrix, isspmatrix_csr"
   ]
  },
  {
   "cell_type": "code",
   "execution_count": null,
   "id": "cbb22f08-505c-4087-af67-84577d421f60",
   "metadata": {},
   "outputs": [],
   "source": [
    "import liana as li"
   ]
  },
  {
   "cell_type": "code",
   "execution_count": null,
   "id": "4f0fe90c-bf2b-44b3-8798-8aaad0e402f1",
   "metadata": {},
   "outputs": [],
   "source": [
    "from matplotlib.pyplot import hist"
   ]
  },
  {
   "cell_type": "code",
   "execution_count": null,
   "id": "5e601378",
   "metadata": {},
   "outputs": [],
   "source": [
    "from liana.method._global_lr_pipe import _global_lr_pipe\n",
    "from liana.method.sp._spatialdm import _get_ordered_matrix, _standardize_matrix"
   ]
  },
  {
   "cell_type": "code",
   "execution_count": null,
   "id": "d8c4f241",
   "metadata": {},
   "outputs": [],
   "source": [
    "from scipy.stats import rankdata"
   ]
  },
  {
   "cell_type": "code",
   "execution_count": null,
   "id": "9860d383",
   "metadata": {},
   "outputs": [],
   "source": []
  },
  {
   "cell_type": "code",
   "execution_count": null,
   "id": "18fb86d6",
   "metadata": {},
   "outputs": [],
   "source": [
    "# toy data and toy resource\n",
    "adata = sc.read_h5ad(\"test_spatial.h5ad\")\n",
    "resource = pd.DataFrame({\"ligand\":[\"Dnm1l\", \"Arrb1\", \"Igf2\"],\n",
    "                         \"receptor\":[\"Gucy1b3\", \"Mtor\", \"Tuba1a\"]}\n",
    "                        )"
   ]
  },
  {
   "cell_type": "code",
   "execution_count": null,
   "id": "2cf8984e",
   "metadata": {},
   "outputs": [],
   "source": []
  },
  {
   "cell_type": "code",
   "execution_count": null,
   "id": "503f54d4",
   "metadata": {},
   "outputs": [],
   "source": [
    "temp, lr_res, ligand_pos, receptor_pos = _global_lr_pipe(adata=adata,\n",
    "                                                         resource=resource,\n",
    "                                                         expr_prop=0.05,\n",
    "                                                         use_raw=False,\n",
    "                                                         verbose=True,\n",
    "                                                         layer=None,\n",
    "                                                         _key_cols=['ligand_complex', 'receptor_complex'],\n",
    "                                                         _complex_cols=['ligand_means', 'receptor_means'],\n",
    "                                                         _obms_keys=['proximity'],\n",
    "                                                         resource_name=None\n",
    "                                                         )"
   ]
  },
  {
   "cell_type": "code",
   "execution_count": null,
   "id": "fd4708ad",
   "metadata": {},
   "outputs": [],
   "source": []
  },
  {
   "cell_type": "code",
   "execution_count": null,
   "id": "0e95b8ba",
   "metadata": {},
   "outputs": [],
   "source": [
    "# ligand-receptor mats\n",
    "ligand_mat = _get_ordered_matrix(temp.X, ligand_pos, lr_res.ligand)\n",
    "receptor_mat = _get_ordered_matrix(temp.X, receptor_pos, lr_res.receptor)"
   ]
  },
  {
   "cell_type": "code",
   "execution_count": null,
   "id": "09d88faa",
   "metadata": {},
   "outputs": [],
   "source": [
    "x_mat = ligand_mat.A\n",
    "y_mat = receptor_mat.A"
   ]
  },
  {
   "cell_type": "code",
   "execution_count": null,
   "id": "9133666e",
   "metadata": {},
   "outputs": [],
   "source": [
    "dist = adata.obsm['proximity']"
   ]
  },
  {
   "cell_type": "code",
   "execution_count": null,
   "id": "3573cd36",
   "metadata": {},
   "outputs": [],
   "source": [
    "def calculate_local_correlations(x_mat, y_mat, dist, method=\"pearson\"):\n",
    "    if method not in [\"pearson\", \"spearman\", \"spearman_nz\"]:\n",
    "        raise ValueError(\"method must be one of 'pearson', 'spearman', 'spearman_nz'\")\n",
    "    \n",
    "    weight = dist.A.T ## does it really need to be A?\n",
    "    weight_sums = np.sum(weight, axis = 0).flatten()\n",
    "        \n",
    "    if method==\"spearman\":\n",
    "        x_mat = rankdata(x_mat, axis=1)\n",
    "        y_mat = rankdata(y_mat, axis=1)\n",
    "    \n",
    "    # standard pearson\n",
    "    n1 = (((x_mat * y_mat).dot(weight)) * weight_sums)\n",
    "    n2 = (x_mat.dot(weight)) * (y_mat.dot(weight))\n",
    "    numerator = n1 - n2\n",
    "    \n",
    "    denominator_x = (weight_sums * (x_mat ** 2).dot(weight)) - (x_mat.dot(weight))**2\n",
    "    denominator_y = (weight_sums * (y_mat ** 2).dot(weight)) - (y_mat.dot(weight))**2\n",
    "    \n",
    "    local_corrs = (numerator / np.sqrt(denominator_x * denominator_y))\n",
    "    \n",
    "    return local_corrs"
   ]
  },
  {
   "cell_type": "code",
   "execution_count": null,
   "id": "297b3e2d",
   "metadata": {},
   "outputs": [],
   "source": [
    "local_pc = calculate_local_correlations(x_mat, y_mat, dist, method=\"pearson\")\n",
    "local_sp = calculate_local_correlations(x_mat, y_mat, dist, method=\"spearman\")"
   ]
  },
  {
   "cell_type": "code",
   "execution_count": null,
   "id": "700b6b47",
   "metadata": {},
   "outputs": [],
   "source": [
    "hist(local_pc[0,:])"
   ]
  },
  {
   "cell_type": "code",
   "execution_count": null,
   "id": "a7b6af6c",
   "metadata": {},
   "outputs": [],
   "source": []
  },
  {
   "cell_type": "code",
   "execution_count": null,
   "id": "2f609013",
   "metadata": {},
   "outputs": [],
   "source": []
  },
  {
   "cell_type": "code",
   "execution_count": null,
   "id": "0cc126f6",
   "metadata": {},
   "outputs": [],
   "source": [
    "weight = dist.A.T ## does it really need to be A?"
   ]
  },
  {
   "cell_type": "code",
   "execution_count": null,
   "id": "41e77e49",
   "metadata": {},
   "outputs": [],
   "source": [
    "np.mean(x_mat.dot(weight))"
   ]
  },
  {
   "cell_type": "code",
   "execution_count": null,
   "id": "6aa2b4c6",
   "metadata": {},
   "outputs": [],
   "source": []
  },
  {
   "cell_type": "code",
   "execution_count": null,
   "id": "663b3b97",
   "metadata": {},
   "outputs": [],
   "source": [
    "msk = np.int16(weight==0)"
   ]
  },
  {
   "cell_type": "code",
   "execution_count": null,
   "id": "9008a298",
   "metadata": {},
   "outputs": [],
   "source": [
    "weight2 = np.ma.masked_array(data = weight, mask=msk, fill_value=np.nan)"
   ]
  },
  {
   "cell_type": "code",
   "execution_count": null,
   "id": "abae78a5",
   "metadata": {},
   "outputs": [],
   "source": [
    "x_mat2 = np.ma.masked_array(x_mat, mask=np.isnan(x_mat))"
   ]
  },
  {
   "cell_type": "code",
   "execution_count": null,
   "id": "d112e5d9",
   "metadata": {},
   "outputs": [],
   "source": [
    "x_mat.shape"
   ]
  },
  {
   "cell_type": "code",
   "execution_count": null,
   "id": "411f334b",
   "metadata": {},
   "outputs": [],
   "source": [
    "xx = np.ma.masked_array.dot(x_mat2, weight2)"
   ]
  },
  {
   "cell_type": "code",
   "execution_count": null,
   "id": "5a486280",
   "metadata": {},
   "outputs": [],
   "source": [
    "weight2 * 2"
   ]
  },
  {
   "cell_type": "code",
   "execution_count": null,
   "id": "70399a35",
   "metadata": {},
   "outputs": [],
   "source": [
    "np.mean(xx)"
   ]
  },
  {
   "cell_type": "code",
   "execution_count": null,
   "id": "6b1a6a64",
   "metadata": {},
   "outputs": [],
   "source": []
  },
  {
   "cell_type": "code",
   "execution_count": null,
   "id": "9af0767d",
   "metadata": {},
   "outputs": [],
   "source": [
    "hist(local_spnz[0,:])"
   ]
  },
  {
   "cell_type": "code",
   "execution_count": null,
   "id": "2b130315",
   "metadata": {},
   "outputs": [],
   "source": [
    "from scipy.stats import spearmanr, pearsonr"
   ]
  },
  {
   "cell_type": "code",
   "execution_count": null,
   "id": "55b3f299",
   "metadata": {},
   "outputs": [],
   "source": [
    "pearsonr(local_spnz[0,:], local_sp[0,:])"
   ]
  },
  {
   "cell_type": "code",
   "execution_count": null,
   "id": "7f732c19",
   "metadata": {},
   "outputs": [],
   "source": []
  },
  {
   "attachments": {},
   "cell_type": "markdown",
   "id": "20c66314",
   "metadata": {},
   "source": [
    "local p-values"
   ]
  },
  {
   "cell_type": "code",
   "execution_count": null,
   "id": "2d2a26c4",
   "metadata": {},
   "outputs": [],
   "source": [
    "from numpy import random\n",
    "from tqdm import tqdm"
   ]
  },
  {
   "cell_type": "code",
   "execution_count": null,
   "id": "af430595",
   "metadata": {},
   "outputs": [],
   "source": [
    "rng = random.default_rng()\n",
    "n_perm = 1000\n",
    "positive_only = True # remove this option?"
   ]
  },
  {
   "cell_type": "code",
   "execution_count": null,
   "id": "8bb8d8c3",
   "metadata": {},
   "outputs": [],
   "source": [
    "local_pc.shape"
   ]
  },
  {
   "cell_type": "code",
   "execution_count": null,
   "id": "b9f0a2a7",
   "metadata": {},
   "outputs": [],
   "source": [
    "def _get_local_permutation_pvals(x_mat, y_mat, truth, function, dist, n_perm, positive_only=True, **kwargs):\n",
    "    xy_n = truth.shape[0]\n",
    "    spot_n = truth.shape[1]\n",
    "    \n",
    "    # permutation cubes to be populated\n",
    "    local_pvals = np.zeros((xy_n, spot_n))\n",
    "    \n",
    "    # shuffle the matrix\n",
    "    for i in tqdm(range(n_perm)):\n",
    "        _idx = rng.permutation(spot_n)\n",
    "        perm_r = function(x_mat = x_mat[:, _idx], y_mat=y_mat, dist=dist, **kwargs)\n",
    "        if positive_only:\n",
    "            local_pvals += np.array(perm_r >= truth, dtype=int)\n",
    "        else:\n",
    "            local_pvals += (np.array(np.abs(perm_r) >= np.abs(truth), dtype=int))\n",
    "\n",
    "    local_pvals = local_pvals / n_perm\n",
    "    \n",
    "    return local_pvals\n",
    "    "
   ]
  },
  {
   "cell_type": "code",
   "execution_count": null,
   "id": "ff308c66",
   "metadata": {},
   "outputs": [],
   "source": [
    "local_pvals = _get_local_permutation_pvals(x_mat, y_mat, local_pc, calculate_local_correlations, dist, n_perm, positive_only=True)"
   ]
  },
  {
   "cell_type": "code",
   "execution_count": null,
   "id": "7c8b5359",
   "metadata": {},
   "outputs": [],
   "source": [
    "local_pc.shape[1]"
   ]
  },
  {
   "cell_type": "code",
   "execution_count": null,
   "id": "4e5f6f90",
   "metadata": {},
   "outputs": [],
   "source": [
    "local_pvals.T"
   ]
  },
  {
   "cell_type": "code",
   "execution_count": null,
   "id": "1f30255c",
   "metadata": {},
   "outputs": [],
   "source": [
    "spot_n = pc.shape[1]  # n of 1:1 edges \n",
    "xy_n = pc.shape[0] # n of x-y pairs (e.g. lrs)\n",
    "\n",
    "# permutation cubes to be populated\n",
    "local_pvals = np.zeros((xy_n, spot_n))"
   ]
  },
  {
   "cell_type": "code",
   "execution_count": null,
   "id": "5625143f",
   "metadata": {},
   "outputs": [],
   "source": [
    "\n",
    "for i in tqdm(range(n_perm)):\n",
    "    _idx = rng.permutation(x_mat.shape[0])\n",
    "    perm_r = calculate_local_correlations(x_mat[_idx, :], y_mat, dist)\n",
    "    if positive_only:\n",
    "        local_pvals += np.array(perm_r >= pc, dtype=int)\n",
    "    else:\n",
    "        local_pvals += (np.array(np.abs(perm_r) >= np.abs(pc), dtype=int))\n",
    "\n",
    "local_pvals = local_pvals / n_perm"
   ]
  },
  {
   "cell_type": "code",
   "execution_count": null,
   "id": "55cfd4e0",
   "metadata": {},
   "outputs": [],
   "source": [
    "local_pvals.shape"
   ]
  }
 ],
 "metadata": {
  "kernelspec": {
   "display_name": "liana-py",
   "language": "python",
   "name": "liana-py"
  },
  "language_info": {
   "codemirror_mode": {
    "name": "ipython",
    "version": 3
   },
   "file_extension": ".py",
   "mimetype": "text/x-python",
   "name": "python",
   "nbconvert_exporter": "python",
   "pygments_lexer": "ipython3",
   "version": "3.8.8"
  }
 },
 "nbformat": 4,
 "nbformat_minor": 5
}
