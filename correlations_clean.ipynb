{
 "cells": [
  {
   "cell_type": "code",
   "execution_count": null,
   "id": "153e7944-adbb-401e-914b-09c227dcfdea",
   "metadata": {},
   "outputs": [],
   "source": [
    "import squidpy as sq\n",
    "import scanpy as sc\n",
    "import pandas as pd\n",
    "import numpy as np\n",
    "from scipy.sparse import csr_matrix, isspmatrix_csr"
   ]
  },
  {
   "cell_type": "code",
   "execution_count": null,
   "id": "cbb22f08-505c-4087-af67-84577d421f60",
   "metadata": {},
   "outputs": [],
   "source": [
    "import liana as li"
   ]
  },
  {
   "cell_type": "code",
   "execution_count": null,
   "id": "4f0fe90c-bf2b-44b3-8798-8aaad0e402f1",
   "metadata": {},
   "outputs": [],
   "source": [
    "from matplotlib.pyplot import hist"
   ]
  },
  {
   "cell_type": "code",
   "execution_count": null,
   "id": "b9f16311-988d-4b04-b544-3b9ae80f0b71",
   "metadata": {},
   "outputs": [],
   "source": [
    "counts = pd.read_csv(\"data/counts_mat.csv\")\n",
    "weights = pd.read_csv(\"data/weight_mat.csv\")"
   ]
  },
  {
   "cell_type": "code",
   "execution_count": null,
   "id": "1caf6c62-a727-40c5-94a9-5d6dcd535c48",
   "metadata": {},
   "outputs": [],
   "source": [
    "var = pd.DataFrame(counts[['Unnamed: 0']]).set_index('Unnamed: 0')\n",
    "var.index.name = None"
   ]
  },
  {
   "cell_type": "code",
   "execution_count": null,
   "id": "740b5fad-7447-4eef-ba35-6ef5e028da17",
   "metadata": {},
   "outputs": [],
   "source": [
    "adata = sc.AnnData(X=csr_matrix(counts.drop(counts.columns[0], axis=1), dtype=np.float32).T, var=var)"
   ]
  },
  {
   "cell_type": "code",
   "execution_count": null,
   "id": "bb9f37d6-da59-44ca-b304-222329b21237",
   "metadata": {},
   "outputs": [],
   "source": [
    "adata.obsm['proximity'] = csr_matrix(weights)"
   ]
  },
  {
   "cell_type": "code",
   "execution_count": null,
   "id": "10c311ac-b3a1-49fe-a054-83fb41aeb5e3",
   "metadata": {},
   "outputs": [],
   "source": []
  },
  {
   "cell_type": "code",
   "execution_count": null,
   "id": "22a8de43-4ff7-4e93-9056-e27ba4a0afef",
   "metadata": {},
   "outputs": [],
   "source": [
    "from liana.method._global_lr_pipe import _global_lr_pipe\n",
    "from liana.method.sp._spatialdm import _get_ordered_matrix, _standardize_matrix"
   ]
  },
  {
   "cell_type": "code",
   "execution_count": null,
   "id": "76f1b690-891f-4949-9517-1957108b80e9",
   "metadata": {},
   "outputs": [],
   "source": []
  },
  {
   "cell_type": "code",
   "execution_count": null,
   "id": "34109760-a362-41ca-8931-6658aa6d0223",
   "metadata": {},
   "outputs": [],
   "source": [
    "adata.write_h5ad(\"test_spatial.h5ad\")"
   ]
  },
  {
   "cell_type": "code",
   "execution_count": null,
   "id": "25ee1279",
   "metadata": {},
   "outputs": [],
   "source": []
  },
  {
   "cell_type": "code",
   "execution_count": null,
   "id": "c8fee01a-7e7a-4556-9c54-77a671b0a735",
   "metadata": {},
   "outputs": [],
   "source": [
    "resource = pd.DataFrame({\"ligand\":[\"Dnm1l\", \"Arrb1\", \"Igf2\"], \"receptor\":[\"Gucy1b3\", \"Mtor\", \"Tuba1a\"]})"
   ]
  },
  {
   "cell_type": "code",
   "execution_count": null,
   "id": "43b18c02-ee7c-4980-8ec7-9da7418b0676",
   "metadata": {},
   "outputs": [],
   "source": []
  },
  {
   "cell_type": "code",
   "execution_count": null,
   "id": "9b2eae96-cedb-44e6-b9b1-e122bba505bb",
   "metadata": {},
   "outputs": [],
   "source": [
    "temp, lr_res, ligand_pos, receptor_pos = _global_lr_pipe(adata=adata,\n",
    "                                                         resource=resource,\n",
    "                                                         expr_prop=0.05,\n",
    "                                                         use_raw=False,\n",
    "                                                         verbose=True,\n",
    "                                                         layer=None,\n",
    "                                                         _key_cols=['ligand_complex', 'receptor_complex'],\n",
    "                                                         _complex_cols=['ligand_means', 'receptor_means'],\n",
    "                                                         _obms_keys=['proximity'],\n",
    "                                                         resource_name=None\n",
    "                                                         )"
   ]
  },
  {
   "cell_type": "code",
   "execution_count": null,
   "id": "5801b031-bfdc-4712-8191-26c88d7d6d59",
   "metadata": {},
   "outputs": [],
   "source": [
    "lr_res"
   ]
  },
  {
   "cell_type": "code",
   "execution_count": null,
   "id": "79c3025f-5d31-475b-85fb-8228c82fc7da",
   "metadata": {},
   "outputs": [],
   "source": []
  },
  {
   "cell_type": "markdown",
   "id": "f9b53bf1-be2e-4441-9833-99a17a48c3f7",
   "metadata": {},
   "source": [
    "Correlations"
   ]
  },
  {
   "cell_type": "code",
   "execution_count": null,
   "id": "09576b07-eb28-4dab-84f4-0917ac4ebb8e",
   "metadata": {},
   "outputs": [],
   "source": [
    "ligand_mat = _get_ordered_matrix(temp.X, ligand_pos, lr_res.ligand)\n",
    "receptor_mat = _get_ordered_matrix(temp.X, receptor_pos, lr_res.receptor)"
   ]
  },
  {
   "cell_type": "code",
   "execution_count": null,
   "id": "387a8e8d-f051-49b3-b7ef-c2990d247d83",
   "metadata": {},
   "outputs": [],
   "source": [
    "x, y = ligand_mat[0, :].A.flatten(), receptor_mat[0, :].A.flatten()"
   ]
  },
  {
   "cell_type": "code",
   "execution_count": null,
   "id": "1b518623-87e5-448c-87f2-18360735fe35",
   "metadata": {},
   "outputs": [],
   "source": [
    "from scipy.stats import spearmanr, pearsonr, pointbiserialr, kendalltau"
   ]
  },
  {
   "cell_type": "code",
   "execution_count": null,
   "id": "3568c25e-3ef5-45e1-b24c-1dd25f88a7ef",
   "metadata": {},
   "outputs": [],
   "source": [
    "pearsonr(x, y)"
   ]
  },
  {
   "cell_type": "code",
   "execution_count": null,
   "id": "bcde7882-060a-46c7-a9e0-e71fabed248c",
   "metadata": {},
   "outputs": [],
   "source": []
  },
  {
   "cell_type": "markdown",
   "id": "27734c88-857b-46fe-8e67-3e47e964509b",
   "metadata": {},
   "source": [
    "One by One"
   ]
  },
  {
   "cell_type": "code",
   "execution_count": null,
   "id": "1f465b2e-56c7-45f3-9e34-e33a338de7ac",
   "metadata": {},
   "outputs": [],
   "source": [
    "def wcor(x, y, weight):\n",
    "    weight_sum = np.sum(weight)\n",
    "    \n",
    "    numerator = weight_sum * np.sum(weight * x * y) - np.sum(weight * x) * np.sum(weight * y)\n",
    "    denominator_x = weight_sum * np.sum(weight * (x**2)) - np.sum(weight * x)**2\n",
    "    denominator_y = weight_sum * np.sum(weight * (y**2)) - np.sum(weight * y)**2\n",
    "    \n",
    "    wcor = numerator / np.sqrt(denominator_x * denominator_y)\n",
    "    \n",
    "    return wcor"
   ]
  },
  {
   "cell_type": "code",
   "execution_count": null,
   "id": "789f9ba8-3df6-4c99-9309-2fdeced50505",
   "metadata": {},
   "outputs": [],
   "source": [
    "adata.obsm['proximity']"
   ]
  },
  {
   "cell_type": "code",
   "execution_count": null,
   "id": "09fc5ee7-681e-485c-a60c-db203ae0df85",
   "metadata": {},
   "outputs": [],
   "source": []
  },
  {
   "cell_type": "code",
   "execution_count": null,
   "id": "2ba43bf5-801a-47b7-a879-94ef695e699a",
   "metadata": {},
   "outputs": [],
   "source": [
    "i = 0"
   ]
  },
  {
   "cell_type": "code",
   "execution_count": null,
   "id": "06da56e4-35e4-4280-bf41-042318665a11",
   "metadata": {},
   "outputs": [],
   "source": [
    "# all weights = 1 (i.e. pearsonr)\n",
    "wcor(x, y, np.repeat(1, x.shape[0]))"
   ]
  },
  {
   "cell_type": "code",
   "execution_count": null,
   "id": "3e260853-40fe-46dd-9969-0b7c6a4a8e6c",
   "metadata": {},
   "outputs": [],
   "source": []
  },
  {
   "cell_type": "code",
   "execution_count": null,
   "id": "454f7738-17ee-4542-9bc5-95a4adb4cad1",
   "metadata": {},
   "outputs": [],
   "source": [
    "weight = adata.obsm['proximity']"
   ]
  },
  {
   "cell_type": "code",
   "execution_count": null,
   "id": "c6547abd-49ef-4ff6-a16e-3d1ef4f4d002",
   "metadata": {},
   "outputs": [],
   "source": [
    "# calculate all local correlations\n",
    "# technically, if we take i (a spot), x and y (e.g. genes),\n",
    "# we go over all rows in w (i.e. every spot)\n",
    "# and we re-calculate PC with the spatial weights \n",
    "# for the spots i to any other spot (j)\n",
    "local_corrs = []\n",
    "for i in range(weight.shape[0]):\n",
    "    local_corrs.append(wcor(x, y, weight[i, :].A))\n",
    "local_corrs = np.array(local_corrs)"
   ]
  },
  {
   "cell_type": "code",
   "execution_count": null,
   "id": "440cf97a-fca9-4809-8072-8b5899f732de",
   "metadata": {},
   "outputs": [],
   "source": [
    "hist(local_corrs)"
   ]
  },
  {
   "cell_type": "code",
   "execution_count": null,
   "id": "883ae786-b729-4cd7-aa00-364eb1b1f009",
   "metadata": {},
   "outputs": [],
   "source": [
    "local_corrs[0:5]"
   ]
  },
  {
   "cell_type": "code",
   "execution_count": null,
   "id": "7a604eb8-3f1d-4a2f-a03b-6a3baba26c39",
   "metadata": {},
   "outputs": [],
   "source": []
  },
  {
   "cell_type": "code",
   "execution_count": null,
   "id": "1ca72509-eefb-45c5-931d-cf201f162d02",
   "metadata": {},
   "outputs": [],
   "source": [
    "weight = weight[0, :].A"
   ]
  },
  {
   "cell_type": "code",
   "execution_count": null,
   "id": "0146f46b-7d75-498b-b574-465382b22364",
   "metadata": {},
   "outputs": [],
   "source": [
    "weight_sum = np.sum(weight)\n",
    "\n",
    "numerator = weight_sum * np.sum(weight * x * y) - np.sum(weight * x) * np.sum(weight * y)\n",
    "denominator_x = weight_sum * np.sum(weight * (x**2)) - np.sum(weight * x)**2\n",
    "denominator_y = weight_sum * np.sum(weight * (y**2)) - np.sum(weight * y)**2\n",
    "\n",
    "# wcov\n",
    "numerator / np.sqrt(denominator_x * denominator_y)"
   ]
  },
  {
   "cell_type": "code",
   "execution_count": null,
   "id": "e430485e-00f6-46fe-8279-f653314506a1",
   "metadata": {},
   "outputs": [],
   "source": [
    "numerator"
   ]
  },
  {
   "cell_type": "code",
   "execution_count": null,
   "id": "fb38fd3f-af8f-416b-8bd2-afdf800b7f7d",
   "metadata": {},
   "outputs": [],
   "source": [
    "denominator_x"
   ]
  },
  {
   "cell_type": "code",
   "execution_count": null,
   "id": "eabd8be0-760e-40c2-a778-54a6992e6220",
   "metadata": {},
   "outputs": [],
   "source": [
    "denominator_y"
   ]
  },
  {
   "cell_type": "code",
   "execution_count": null,
   "id": "4f342b13-9b77-416b-af27-cc36f56aef53",
   "metadata": {},
   "outputs": [],
   "source": []
  },
  {
   "cell_type": "code",
   "execution_count": null,
   "id": "39b825d7-b5c7-4708-b827-4b560c5e92af",
   "metadata": {},
   "outputs": [],
   "source": [
    "weight_sum * np.sum(weight * x * y)"
   ]
  },
  {
   "cell_type": "code",
   "execution_count": null,
   "id": "2b756b18-0bc5-4f00-9d3f-14daeb8ead59",
   "metadata": {},
   "outputs": [],
   "source": [
    "np.sum(weight * x) * np.sum(weight * y)"
   ]
  },
  {
   "cell_type": "code",
   "execution_count": null,
   "id": "1253f3a7-56c0-419a-8f2c-48e94635cec0",
   "metadata": {},
   "outputs": [],
   "source": []
  },
  {
   "cell_type": "code",
   "execution_count": null,
   "id": "63e6753c-d63a-47fb-9adc-947fcb14a540",
   "metadata": {},
   "outputs": [],
   "source": [
    "(weight * x)[0][0:5]"
   ]
  },
  {
   "cell_type": "code",
   "execution_count": null,
   "id": "23e49926-024a-4e7f-9db0-9be089459776",
   "metadata": {},
   "outputs": [],
   "source": []
  },
  {
   "cell_type": "markdown",
   "id": "6c541874-43de-4f95-8dd3-fcf5f6c5df24",
   "metadata": {},
   "source": [
    "Vectorize"
   ]
  },
  {
   "cell_type": "markdown",
   "id": "ba744e9d-5461-4ddb-a68b-9534806acf93",
   "metadata": {},
   "source": [
    "For one interaction at a time:"
   ]
  },
  {
   "cell_type": "code",
   "execution_count": null,
   "id": "c2b9c4c9-0d5a-48e6-b628-1068b55db89e",
   "metadata": {},
   "outputs": [],
   "source": [
    "weight = adata.obsm[\"proximity\"].A ## does it really need to be A?"
   ]
  },
  {
   "cell_type": "code",
   "execution_count": null,
   "id": "40bd0b01-0678-4176-abd2-c601ed10b1b6",
   "metadata": {},
   "outputs": [],
   "source": [
    "weight_sums = np.sum(weight, axis = 1).flatten()"
   ]
  },
  {
   "cell_type": "code",
   "execution_count": null,
   "id": "6d360577-ea12-46e3-a7b9-70a9dc568cd5",
   "metadata": {},
   "outputs": [],
   "source": [
    "n1 = (weight_sums * np.sum(np.multiply(weight, x) * y, axis=1))\n",
    "n1"
   ]
  },
  {
   "cell_type": "code",
   "execution_count": null,
   "id": "f2e5e269-5495-4336-a6ef-0dc751dffb46",
   "metadata": {},
   "outputs": [],
   "source": [
    "n2 = np.sum(np.multiply(weight, x), axis=1) * np.sum(np.multiply(weight, y), axis=1)\n",
    "n2"
   ]
  },
  {
   "cell_type": "code",
   "execution_count": null,
   "id": "5e78743b-e212-49a9-b5f4-306b9f50abab",
   "metadata": {},
   "outputs": [],
   "source": [
    "numerator = n1 - n2"
   ]
  },
  {
   "cell_type": "code",
   "execution_count": null,
   "id": "2a9d6ed7",
   "metadata": {},
   "outputs": [],
   "source": [
    "numerator[0:5]"
   ]
  },
  {
   "cell_type": "code",
   "execution_count": null,
   "id": "dd6df074-1b77-44fc-8bd0-ba92529a16ce",
   "metadata": {},
   "outputs": [],
   "source": []
  },
  {
   "cell_type": "code",
   "execution_count": null,
   "id": "566d64f2-ad7c-4acb-b49e-7daac2ba428e",
   "metadata": {},
   "outputs": [],
   "source": [
    "denominator_x = weight_sum * np.sum(np.multiply(weight, (x**2)), axis = 1) - np.sum(np.multiply(weight,  x), axis=1)**2\n",
    "denominator_y = weight_sum * np.sum(np.multiply(weight, (y**2)), axis = 1) - np.sum(np.multiply(weight,  y), axis=1)**2"
   ]
  },
  {
   "cell_type": "code",
   "execution_count": null,
   "id": "dee94a5d-e7ed-41aa-b457-c842dadaa472",
   "metadata": {},
   "outputs": [],
   "source": [
    "denominator_x.shape"
   ]
  },
  {
   "cell_type": "code",
   "execution_count": null,
   "id": "68f146bd-6a93-4799-9f1d-5267dd93b851",
   "metadata": {},
   "outputs": [],
   "source": []
  },
  {
   "cell_type": "code",
   "execution_count": null,
   "id": "c763af5a-23f8-4bf6-a4b8-dc06b2b4e752",
   "metadata": {},
   "outputs": [],
   "source": [
    "denominator_x[0:5]"
   ]
  },
  {
   "cell_type": "code",
   "execution_count": null,
   "id": "cf5b4f16-c3f5-4e2c-9a85-f57694cfa8fe",
   "metadata": {},
   "outputs": [],
   "source": [
    "denominator_y[0:5]"
   ]
  },
  {
   "cell_type": "code",
   "execution_count": null,
   "id": "8bcfb4ca-105a-42c1-847c-8a2a7d8ccd83",
   "metadata": {},
   "outputs": [],
   "source": [
    "local_corrs = numerator / np.sqrt(denominator_x * denominator_y)"
   ]
  },
  {
   "cell_type": "code",
   "execution_count": null,
   "id": "32ee796f-713b-4980-b766-abbca1cdf775",
   "metadata": {},
   "outputs": [],
   "source": [
    "hist(local_corrs)"
   ]
  },
  {
   "cell_type": "code",
   "execution_count": null,
   "id": "b7a71beb-5cf0-4d85-992a-4e4c394985e2",
   "metadata": {},
   "outputs": [],
   "source": []
  },
  {
   "cell_type": "code",
   "execution_count": null,
   "id": "72091ea9-730d-4c65-9208-74a77b5b7e94",
   "metadata": {},
   "outputs": [],
   "source": []
  },
  {
   "cell_type": "markdown",
   "id": "d4a4f75e-dc99-4563-817b-e158a18abf28",
   "metadata": {},
   "source": [
    "All local corrs for all interactions"
   ]
  },
  {
   "cell_type": "code",
   "execution_count": null,
   "id": "1edce62b-dabe-4c36-86db-0e10ca425f09",
   "metadata": {},
   "outputs": [],
   "source": [
    "ligand_mat"
   ]
  },
  {
   "cell_type": "code",
   "execution_count": null,
   "id": "a8df29a7-8dfa-46d4-8b99-bbb7fd694fc0",
   "metadata": {},
   "outputs": [],
   "source": [
    "receptor_mat"
   ]
  },
  {
   "cell_type": "code",
   "execution_count": null,
   "id": "48696316-b3ec-436a-9415-d8faf1991226",
   "metadata": {},
   "outputs": [],
   "source": []
  },
  {
   "cell_type": "code",
   "execution_count": null,
   "id": "e290d38d-33f8-4c10-8e08-99bf519d7e2f",
   "metadata": {},
   "outputs": [],
   "source": [
    "weight = adata.obsm[\"proximity\"].A.T ## does it really need to be A?"
   ]
  },
  {
   "cell_type": "code",
   "execution_count": null,
   "id": "02e1dded-4858-4cee-9a4f-41b22c4494f0",
   "metadata": {},
   "outputs": [],
   "source": [
    "weight_sums = np.sum(weight, axis = 0).flatten()"
   ]
  },
  {
   "cell_type": "code",
   "execution_count": null,
   "id": "44ab4a9c-413d-4684-84fa-0a341715dac9",
   "metadata": {},
   "outputs": [],
   "source": [
    "x_mat = ligand_mat.A.T\n",
    "y_mat = receptor_mat.A.T"
   ]
  },
  {
   "cell_type": "code",
   "execution_count": null,
   "id": "ec508ba1",
   "metadata": {},
   "outputs": [],
   "source": [
    "from scipy.stats import rankdata"
   ]
  },
  {
   "cell_type": "code",
   "execution_count": null,
   "id": "a2266316",
   "metadata": {},
   "outputs": [],
   "source": [
    "# x_mat = rankdata(x_mat, axis=0)\n",
    "# y_mat = rankdata(y_mat, axis=0)"
   ]
  },
  {
   "cell_type": "code",
   "execution_count": null,
   "id": "cbe0dd74",
   "metadata": {},
   "outputs": [],
   "source": []
  },
  {
   "cell_type": "code",
   "execution_count": null,
   "id": "4946f4a8-ef66-4136-92e4-34f495e454ac",
   "metadata": {},
   "outputs": [],
   "source": [
    "n1 = (((x_mat * y_mat).T @ weight) * weight_sums.T)"
   ]
  },
  {
   "cell_type": "code",
   "execution_count": null,
   "id": "6cd8a1f5",
   "metadata": {},
   "outputs": [],
   "source": [
    "n1[0:5, 0]"
   ]
  },
  {
   "cell_type": "code",
   "execution_count": null,
   "id": "2d85c7c2-a647-4821-8887-54fe860151a1",
   "metadata": {},
   "outputs": [],
   "source": [
    "n2 = (x_mat.T @ weight) * (y_mat.T @ weight)"
   ]
  },
  {
   "cell_type": "code",
   "execution_count": null,
   "id": "fc138f8c-7feb-4a06-ab5f-4625ba563d06",
   "metadata": {},
   "outputs": [],
   "source": []
  },
  {
   "cell_type": "code",
   "execution_count": null,
   "id": "cfec59cd-3dd7-4455-9894-3a2471dae55d",
   "metadata": {},
   "outputs": [],
   "source": [
    "numerator = n1 - n2"
   ]
  },
  {
   "cell_type": "code",
   "execution_count": null,
   "id": "64e96a37-7f32-4897-877a-37c800c36335",
   "metadata": {},
   "outputs": [],
   "source": [
    "numerator[0,0:5]"
   ]
  },
  {
   "cell_type": "code",
   "execution_count": null,
   "id": "ba30449e-7478-44ad-abda-f31922cb844e",
   "metadata": {},
   "outputs": [],
   "source": []
  },
  {
   "cell_type": "code",
   "execution_count": null,
   "id": "742ce22f-6a27-420f-adf2-e3e78628adde",
   "metadata": {},
   "outputs": [],
   "source": [
    "denominator_x = (weight_sums * (x_mat ** 2).T @ weight) - (x_mat.T @ weight)**2\n",
    "denominator_y = (weight_sums * (y_mat ** 2).T @ weight) - (y_mat.T @ weight)**2"
   ]
  },
  {
   "cell_type": "code",
   "execution_count": null,
   "id": "c4426886-4b7d-43fe-8547-99ff8a78dcae",
   "metadata": {},
   "outputs": [],
   "source": [
    "denominator_x[0, 0:5]"
   ]
  },
  {
   "cell_type": "code",
   "execution_count": null,
   "id": "fd57e99d-bb33-48da-94ed-a0adeff0f91b",
   "metadata": {},
   "outputs": [],
   "source": [
    "denominator_y[0, 0:5]"
   ]
  },
  {
   "cell_type": "code",
   "execution_count": null,
   "id": "09b3a4a2-1bf9-48ab-8cd9-0b080d3cc99b",
   "metadata": {},
   "outputs": [],
   "source": [
    "local_corrs = (numerator / np.sqrt(denominator_x * denominator_y)).T"
   ]
  },
  {
   "cell_type": "code",
   "execution_count": null,
   "id": "dee4ebbf-1541-4ba0-93f9-d70282a127ef",
   "metadata": {},
   "outputs": [],
   "source": [
    "hist(local_corrs[:,0])"
   ]
  },
  {
   "cell_type": "code",
   "execution_count": null,
   "id": "69cb7ee2",
   "metadata": {},
   "outputs": [],
   "source": [
    "local_corrs[0:5,0]"
   ]
  },
  {
   "cell_type": "code",
   "execution_count": null,
   "id": "dc85144e",
   "metadata": {},
   "outputs": [],
   "source": []
  },
  {
   "attachments": {},
   "cell_type": "markdown",
   "id": "0afdf754",
   "metadata": {},
   "source": [
    "Clean"
   ]
  },
  {
   "cell_type": "code",
   "execution_count": 1,
   "id": "153e7944-adbb-401e-914b-09c227dcfdea",
   "metadata": {},
   "outputs": [
    {
     "name": "stderr",
     "output_type": "stream",
     "text": [
      "/home/dbdimitrov/anaconda3/lib/python3.8/site-packages/paramiko/transport.py:219: CryptographyDeprecationWarning: Blowfish has been deprecated\n",
      "  \"class\": algorithms.Blowfish,\n",
      "/home/dbdimitrov/anaconda3/lib/python3.8/site-packages/numpydoc/docscrape.py:449: UserWarning: potentially wrong underline length... \n",
      "Extended Summary \n",
      "---------- in \n",
      "Add a Points layer to the layer list. \n",
      "...\n",
      "  warn(msg)\n",
      "/home/dbdimitrov/anaconda3/lib/python3.8/site-packages/numpydoc/docscrape.py:449: UserWarning: potentially wrong underline length... \n",
      "Extended Summary \n",
      "---------- in \n",
      "Add a Labels layer to the layer list. \n",
      "...\n",
      "  warn(msg)\n",
      "/home/dbdimitrov/anaconda3/lib/python3.8/site-packages/numpydoc/docscrape.py:449: UserWarning: potentially wrong underline length... \n",
      "Extended Summary \n",
      "---------- in \n",
      "Add a Shapes layer to the layer list. \n",
      "...\n",
      "  warn(msg)\n",
      "/home/dbdimitrov/anaconda3/lib/python3.8/site-packages/numpydoc/docscrape.py:449: UserWarning: potentially wrong underline length... \n",
      "Extended Summary \n",
      "---------- in \n",
      "Add a Surface layer to the layer list. \n",
      "...\n",
      "  warn(msg)\n",
      "/home/dbdimitrov/anaconda3/lib/python3.8/site-packages/numpydoc/docscrape.py:449: UserWarning: potentially wrong underline length... \n",
      "Extended Summary \n",
      "---------- in \n",
      "Add a Vectors layer to the layer list. \n",
      "...\n",
      "  warn(msg)\n"
     ]
    }
   ],
   "source": [
    "import squidpy as sq\n",
    "import scanpy as sc\n",
    "import pandas as pd\n",
    "import numpy as np\n",
    "from scipy.sparse import csr_matrix, isspmatrix_csr"
   ]
  },
  {
   "cell_type": "code",
   "execution_count": 2,
   "id": "cbb22f08-505c-4087-af67-84577d421f60",
   "metadata": {},
   "outputs": [],
   "source": [
    "import liana as li"
   ]
  },
  {
   "cell_type": "code",
   "execution_count": 3,
   "id": "4f0fe90c-bf2b-44b3-8798-8aaad0e402f1",
   "metadata": {},
   "outputs": [],
   "source": [
    "from matplotlib.pyplot import hist"
   ]
  },
  {
   "cell_type": "code",
   "execution_count": 4,
   "id": "5e601378",
   "metadata": {},
   "outputs": [],
   "source": [
    "from liana.method._global_lr_pipe import _global_lr_pipe\n",
    "from liana.method.sp._spatialdm import _get_ordered_matrix, _standardize_matrix"
   ]
  },
  {
   "cell_type": "code",
   "execution_count": 5,
   "id": "d8c4f241",
   "metadata": {},
   "outputs": [],
   "source": [
    "from scipy.stats import rankdata"
   ]
  },
  {
   "cell_type": "code",
   "execution_count": null,
   "id": "9860d383",
   "metadata": {},
   "outputs": [],
   "source": []
  },
  {
   "cell_type": "code",
   "execution_count": 6,
   "id": "18fb86d6",
   "metadata": {},
   "outputs": [],
   "source": [
    "# toy data and toy resource\n",
    "adata = sc.read_h5ad(\"test_spatial.h5ad\")\n",
    "resource = pd.DataFrame({\"ligand\":[\"Dnm1l\", \"Arrb1\", \"Igf2\"], \"receptor\":[\"Gucy1b3\", \"Mtor\", \"Tuba1a\"]})"
   ]
  },
  {
   "cell_type": "code",
   "execution_count": null,
   "id": "2cf8984e",
   "metadata": {},
   "outputs": [],
   "source": []
  },
  {
   "cell_type": "code",
   "execution_count": 7,
   "id": "503f54d4",
   "metadata": {},
   "outputs": [
    {
     "name": "stdout",
     "output_type": "stream",
     "text": [
      "Using `.X`!\n",
      "Converting mat to CSR format\n"
     ]
    }
   ],
   "source": [
    "temp, lr_res, ligand_pos, receptor_pos = _global_lr_pipe(adata=adata,\n",
    "                                                         resource=resource,\n",
    "                                                         expr_prop=0.05,\n",
    "                                                         use_raw=False,\n",
    "                                                         verbose=True,\n",
    "                                                         layer=None,\n",
    "                                                         _key_cols=['ligand_complex', 'receptor_complex'],\n",
    "                                                         _complex_cols=['ligand_means', 'receptor_means'],\n",
    "                                                         _obms_keys=['proximity'],\n",
    "                                                         resource_name=None\n",
    "                                                         )"
   ]
  },
  {
   "cell_type": "code",
   "execution_count": null,
   "id": "fd4708ad",
   "metadata": {},
   "outputs": [],
   "source": []
  },
  {
   "cell_type": "code",
   "execution_count": 8,
   "id": "0e95b8ba",
   "metadata": {},
   "outputs": [],
   "source": [
    "# ligand-receptor mats\n",
    "ligand_mat = _get_ordered_matrix(temp.X, ligand_pos, lr_res.ligand)\n",
    "receptor_mat = _get_ordered_matrix(temp.X, receptor_pos, lr_res.receptor)"
   ]
  },
  {
   "cell_type": "code",
   "execution_count": 9,
   "id": "09d88faa",
   "metadata": {},
   "outputs": [],
   "source": [
    "x_mat = ligand_mat.A\n",
    "y_mat = receptor_mat.A"
   ]
  },
  {
   "cell_type": "code",
   "execution_count": 10,
   "id": "9133666e",
   "metadata": {},
   "outputs": [],
   "source": [
    "dist = adata.obsm['proximity']"
   ]
  },
  {
   "cell_type": "code",
   "execution_count": 11,
   "id": "3573cd36",
   "metadata": {},
   "outputs": [],
   "source": [
    "def calculate_local_correlations(x_mat, y_mat, dist, method=\"pearson\"):\n",
    "    if method==\"spearman\":\n",
    "        x_mat = rankdata(x_mat, axis=1)\n",
    "        y_mat = rankdata(y_mat, axis=1)\n",
    "        \n",
    "    weight = dist.A.T ## does it really need to be A?\n",
    "    weight_sums = np.sum(weight, axis = 0).flatten()\n",
    "\n",
    "    n1 = (((x_mat * y_mat) @ weight) * weight_sums)\n",
    "    n2 = (x_mat @ weight) * (y_mat @ weight)\n",
    "    numerator = n1 - n2\n",
    "\n",
    "    denominator_x = (weight_sums * (x_mat ** 2) @ weight) - (x_mat @ weight)**2\n",
    "    denominator_y = (weight_sums * (y_mat ** 2) @ weight) - (y_mat @ weight)**2\n",
    "\n",
    "    local_corrs = (numerator / np.sqrt(denominator_x * denominator_y))\n",
    "    \n",
    "    return local_corrs"
   ]
  },
  {
   "cell_type": "code",
   "execution_count": 26,
   "id": "297b3e2d",
   "metadata": {},
   "outputs": [],
   "source": [
    "local_pc = calculate_local_correlations(x_mat, y_mat, dist, method=\"pearson\")\n",
    "local_sp = calculate_local_correlations(x_mat, y_mat, dist, method=\"spearman\")"
   ]
  },
  {
   "cell_type": "code",
   "execution_count": 27,
   "id": "4c8cb29b",
   "metadata": {},
   "outputs": [],
   "source": [
    "weight = dist.A.T ## does it really need to be A?\n",
    "weight_sums = np.sum(weight, axis = 0).flatten()\n",
    "\n",
    "n1 = (((x_mat * y_mat) @ weight) * weight_sums)\n",
    "n2 = (x_mat @ weight) * (y_mat @ weight)\n",
    "numerator = n1 - n2\n",
    "\n",
    "denominator_x = (weight_sums * (x_mat ** 2) @ weight) - (x_mat @ weight)**2\n",
    "denominator_y = (weight_sums * (y_mat ** 2) @ weight) - (y_mat @ weight)**2\n",
    "\n",
    "local_corrs = (numerator / np.sqrt(denominator_x * denominator_y))"
   ]
  },
  {
   "cell_type": "code",
   "execution_count": null,
   "id": "dfa17ace",
   "metadata": {},
   "outputs": [],
   "source": []
  },
  {
   "cell_type": "code",
   "execution_count": 29,
   "id": "9af0767d",
   "metadata": {},
   "outputs": [
    {
     "data": {
      "text/plain": [
       "(array([ 9., 25., 27., 37., 26., 43., 37., 35., 14.,  7.]),\n",
       " array([-0.58677485, -0.4509323 , -0.31508976, -0.17924721, -0.04340467,\n",
       "         0.09243788,  0.22828043,  0.36412297,  0.49996552,  0.63580806,\n",
       "         0.77165061]),\n",
       " <BarContainer object of 10 artists>)"
      ]
     },
     "execution_count": 29,
     "metadata": {},
     "output_type": "execute_result"
    },
    {
     "data": {
      "image/png": "[encoded data removed]",
      "text/plain": [
       "<Figure size 432x288 with 1 Axes>"
      ]
     },
     "metadata": {
      "needs_background": "light"
     },
     "output_type": "display_data"
    }
   ],
   "source": [
    "hist(local_pc[0,])"
   ]
  },
  {
   "cell_type": "code",
   "execution_count": null,
   "id": "22d2a5df",
   "metadata": {},
   "outputs": [],
   "source": []
  },
  {
   "cell_type": "code",
   "execution_count": null,
   "id": "ba6e9206",
   "metadata": {},
   "outputs": [],
   "source": []
  },
  {
   "cell_type": "code",
   "execution_count": null,
   "id": "a17d07f9",
   "metadata": {},
   "outputs": [],
   "source": [
    "from scipy.stats import spearmanr, pearsonr"
   ]
  },
  {
   "cell_type": "code",
   "execution_count": null,
   "id": "e1616296",
   "metadata": {},
   "outputs": [],
   "source": [
    "pearsonr(pc[:,0], sp[:,0])"
   ]
  },
  {
   "cell_type": "code",
   "execution_count": null,
   "id": "587b1803",
   "metadata": {},
   "outputs": [],
   "source": []
  },
  {
   "cell_type": "code",
   "execution_count": null,
   "id": "4c54cc39",
   "metadata": {},
   "outputs": [],
   "source": [
    "hist(pc[:,0])"
   ]
  },
  {
   "cell_type": "code",
   "execution_count": null,
   "id": "69d32423",
   "metadata": {},
   "outputs": [],
   "source": [
    "hist(sp[:,0])"
   ]
  },
  {
   "cell_type": "code",
   "execution_count": null,
   "id": "60eb76c1",
   "metadata": {},
   "outputs": [],
   "source": []
  },
  {
   "attachments": {},
   "cell_type": "markdown",
   "id": "20c66314",
   "metadata": {},
   "source": [
    "local p-values"
   ]
  },
  {
   "cell_type": "code",
   "execution_count": null,
   "id": "2d2a26c4",
   "metadata": {},
   "outputs": [],
   "source": [
    "from numpy import random\n",
    "from tqdm import tqdm"
   ]
  },
  {
   "cell_type": "code",
   "execution_count": null,
   "id": "af430595",
   "metadata": {},
   "outputs": [],
   "source": [
    "rng = random.default_rng()\n",
    "dist = adata.obsm['proximity']\n",
    "n_perm = 1000\n",
    "positive_only = True"
   ]
  },
  {
   "cell_type": "code",
   "execution_count": null,
   "id": "6eb911e0",
   "metadata": {},
   "outputs": [],
   "source": [
    "pc = pc.T"
   ]
  },
  {
   "cell_type": "code",
   "execution_count": null,
   "id": "76d2dcc1",
   "metadata": {},
   "outputs": [],
   "source": [
    "pc.shape"
   ]
  },
  {
   "cell_type": "code",
   "execution_count": null,
   "id": "cc93b70f",
   "metadata": {},
   "outputs": [],
   "source": [
    "x_mat.shape"
   ]
  },
  {
   "cell_type": "code",
   "execution_count": null,
   "id": "1f30255c",
   "metadata": {},
   "outputs": [],
   "source": [
    "spot_n = pc.shape[1]  # n of 1:1 edges \n",
    "xy_n = pc.shape[0] # n of x-y pairs (e.g. lrs)\n",
    "\n",
    "# permutation cubes to be populated\n",
    "local_pvals = np.zeros((xy_n, spot_n))"
   ]
  },
  {
   "cell_type": "code",
   "execution_count": null,
   "id": "5625143f",
   "metadata": {},
   "outputs": [],
   "source": [
    "\n",
    "for i in tqdm(range(n_perm)):\n",
    "    _idx = rng.permutation(x_mat.shape[0])\n",
    "    perm_r = calculate_local_correlations(x_mat[_idx, :], y_mat, weight).T\n",
    "    if positive_only:\n",
    "        local_pvals += np.array(perm_r >= pc, dtype=int)\n",
    "    else:\n",
    "        local_pvals += (np.array(np.abs(perm_r) >= np.abs(pc), dtype=int))\n",
    "\n",
    "local_pvals = local_pvals / n_perm"
   ]
  },
  {
   "cell_type": "code",
   "execution_count": null,
   "id": "55cfd4e0",
   "metadata": {},
   "outputs": [],
   "source": [
    "local_pvals.shape"
   ]
  }
 ],
 "metadata": {
  "kernelspec": {
   "display_name": "liana-py",
   "language": "python",
   "name": "liana-py"
  },
  "language_info": {
   "codemirror_mode": {
    "name": "ipython",
    "version": 3
   },
   "file_extension": ".py",
   "mimetype": "text/x-python",
   "name": "python",
   "nbconvert_exporter": "python",
   "pygments_lexer": "ipython3",
   "version": "3.8.8"
  }
 },
 "nbformat": 4,
 "nbformat_minor": 5
}
