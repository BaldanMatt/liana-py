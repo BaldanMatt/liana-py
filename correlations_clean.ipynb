{
 "cells": [
  {
   "cell_type": "code",
   "execution_count": 114,
   "id": "afe4cf0d",
   "metadata": {},
   "outputs": [],
   "source": [
    "import numba as nb"
   ]
  },
  {
   "cell_type": "code",
   "execution_count": 115,
   "id": "153e7944-adbb-401e-914b-09c227dcfdea",
   "metadata": {},
   "outputs": [],
   "source": [
    "import squidpy as sq\n",
    "import scanpy as sc\n",
    "import pandas as pd\n",
    "import numpy as np\n",
    "from scipy.sparse import csr_matrix, isspmatrix_csr"
   ]
  },
  {
   "cell_type": "code",
   "execution_count": 116,
   "id": "cbb22f08-505c-4087-af67-84577d421f60",
   "metadata": {},
   "outputs": [],
   "source": [
    "import liana as li"
   ]
  },
  {
   "cell_type": "code",
   "execution_count": 117,
   "id": "4f0fe90c-bf2b-44b3-8798-8aaad0e402f1",
   "metadata": {},
   "outputs": [],
   "source": [
    "from matplotlib.pyplot import hist"
   ]
  },
  {
   "cell_type": "code",
   "execution_count": 118,
   "id": "22a8de43-4ff7-4e93-9056-e27ba4a0afef",
   "metadata": {},
   "outputs": [],
   "source": [
    "from liana.method._global_lr_pipe import _global_lr_pipe\n",
    "from liana.method.sp._spatialdm import _get_ordered_matrix, _standardize_matrix"
   ]
  },
  {
   "cell_type": "code",
   "execution_count": null,
   "id": "b9f16311-988d-4b04-b544-3b9ae80f0b71",
   "metadata": {},
   "outputs": [],
   "source": []
  },
  {
   "cell_type": "code",
   "execution_count": null,
   "id": "1caf6c62-a727-40c5-94a9-5d6dcd535c48",
   "metadata": {},
   "outputs": [],
   "source": [
    "# # scHOT data\n",
    "# counts = pd.read_csv(\"data/counts_mat.csv\")\n",
    "# weights = pd.read_csv(\"data/weight_mat.csv\")\n",
    "# var = pd.DataFrame(counts[['Unnamed: 0']]).set_index('Unnamed: 0')\n",
    "# var.index.name = None\n",
    "# adata = sc.AnnData(X=csr_matrix(counts.drop(counts.columns[0], axis=1), dtype=np.float32).T, var=var)\n",
    "# adata.obsm['proximity'] = csr_matrix(weights)"
   ]
  },
  {
   "cell_type": "code",
   "execution_count": null,
   "id": "a9f07752",
   "metadata": {},
   "outputs": [],
   "source": []
  },
  {
   "cell_type": "code",
   "execution_count": null,
   "id": "3b30f85e",
   "metadata": {},
   "outputs": [],
   "source": [
    "# scHOT data test\n",
    "adata = sc.read_h5ad(\"test_spatial.h5ad\")\n",
    "resource = pd.DataFrame({\"ligand\":[\"Dnm1l\", \"Arrb1\", \"Igf2\", \"Dnm1l\"], \"receptor\":[\"Gucy1b3\", \"Mtor\", \"Tuba1a\", \"Fam63b\"]})\n",
    "dist = adata.obsm['proximity']"
   ]
  },
  {
   "cell_type": "code",
   "execution_count": null,
   "id": "e6020530",
   "metadata": {},
   "outputs": [],
   "source": [
    "n_perm = 100\n",
    "seed = 0"
   ]
  },
  {
   "cell_type": "code",
   "execution_count": null,
   "id": "58cb788f",
   "metadata": {},
   "outputs": [],
   "source": []
  },
  {
   "cell_type": "code",
   "execution_count": 119,
   "id": "442d2fdf",
   "metadata": {},
   "outputs": [],
   "source": [
    "# full visium slide\n",
    "# load the pre-processed dataset\n",
    "img = sq.datasets.visium_hne_image()\n",
    "adata = sq.datasets.visium_hne_adata()\n",
    "\n",
    "li.mt.get_spatial_proximity(adata=adata, parameter=200, bypass_diagonal=True, cutoff=0.1)\n",
    "dist = adata.obsm['proximity']\n",
    "\n",
    "my_p = li.pl.proximity_plot(adata, idx=100)\n",
    "resource = li.resource.select_resource(\"mouseconsensus\")"
   ]
  },
  {
   "cell_type": "code",
   "execution_count": null,
   "id": "a4aac8f6",
   "metadata": {},
   "outputs": [],
   "source": []
  },
  {
   "cell_type": "code",
   "execution_count": 120,
   "id": "9b2eae96-cedb-44e6-b9b1-e122bba505bb",
   "metadata": {},
   "outputs": [
    {
     "name": "stdout",
     "output_type": "stream",
     "text": [
      "Using `.X`!\n"
     ]
    }
   ],
   "source": [
    "temp, lr_res, ligand_pos, receptor_pos = _global_lr_pipe(adata=adata,\n",
    "                                                         resource=resource,\n",
    "                                                         expr_prop=0.05,\n",
    "                                                         use_raw=False,\n",
    "                                                         verbose=True,\n",
    "                                                         layer=None,\n",
    "                                                         _key_cols=['ligand_complex', 'receptor_complex'],\n",
    "                                                         _complex_cols=['ligand_means', 'receptor_means'],\n",
    "                                                         _obms_keys=['proximity'],\n",
    "                                                         resource_name=None\n",
    "                                                         )"
   ]
  },
  {
   "cell_type": "code",
   "execution_count": 121,
   "id": "22989614",
   "metadata": {},
   "outputs": [],
   "source": [
    "# lr_res = lr_res.head(50)"
   ]
  },
  {
   "cell_type": "code",
   "execution_count": 122,
   "id": "76acd258",
   "metadata": {},
   "outputs": [],
   "source": [
    "x_mat = _get_ordered_matrix(temp.X, ligand_pos, lr_res.ligand).A.astype(np.float32).T\n",
    "y_mat = _get_ordered_matrix(temp.X, receptor_pos, lr_res.receptor).A.astype(np.float32).T"
   ]
  },
  {
   "cell_type": "code",
   "execution_count": 123,
   "id": "ee5c3bc9",
   "metadata": {},
   "outputs": [
    {
     "data": {
      "text/html": [
       "<div>\n",
       "<style scoped>\n",
       "    .dataframe tbody tr th:only-of-type {\n",
       "        vertical-align: middle;\n",
       "    }\n",
       "\n",
       "    .dataframe tbody tr th {\n",
       "        vertical-align: top;\n",
       "    }\n",
       "\n",
       "    .dataframe thead th {\n",
       "        text-align: right;\n",
       "    }\n",
       "</style>\n",
       "<table border=\"1\" class=\"dataframe\">\n",
       "  <thead>\n",
       "    <tr style=\"text-align: right;\">\n",
       "      <th></th>\n",
       "      <th>interaction</th>\n",
       "      <th>ligand</th>\n",
       "      <th>receptor</th>\n",
       "      <th>ligand_complex</th>\n",
       "      <th>receptor_complex</th>\n",
       "      <th>ligand_means</th>\n",
       "      <th>ligand_props</th>\n",
       "      <th>receptor_means</th>\n",
       "      <th>receptor_props</th>\n",
       "      <th>prop_min</th>\n",
       "    </tr>\n",
       "  </thead>\n",
       "  <tbody>\n",
       "    <tr>\n",
       "      <th>0</th>\n",
       "      <td>Dll1&amp;Notch1</td>\n",
       "      <td>Dll1</td>\n",
       "      <td>Notch1</td>\n",
       "      <td>Dll1</td>\n",
       "      <td>Notch1</td>\n",
       "      <td>0.037283</td>\n",
       "      <td>0.057292</td>\n",
       "      <td>0.216689</td>\n",
       "      <td>0.276786</td>\n",
       "      <td>0.057292</td>\n",
       "    </tr>\n",
       "    <tr>\n",
       "      <th>1</th>\n",
       "      <td>Adam10&amp;Notch1</td>\n",
       "      <td>Adam10</td>\n",
       "      <td>Notch1</td>\n",
       "      <td>Adam10</td>\n",
       "      <td>Notch1</td>\n",
       "      <td>0.623617</td>\n",
       "      <td>0.651786</td>\n",
       "      <td>0.216689</td>\n",
       "      <td>0.276786</td>\n",
       "      <td>0.276786</td>\n",
       "    </tr>\n",
       "    <tr>\n",
       "      <th>2</th>\n",
       "      <td>Jag1&amp;Notch1</td>\n",
       "      <td>Jag1</td>\n",
       "      <td>Notch1</td>\n",
       "      <td>Jag1</td>\n",
       "      <td>Notch1</td>\n",
       "      <td>0.051299</td>\n",
       "      <td>0.075893</td>\n",
       "      <td>0.216689</td>\n",
       "      <td>0.276786</td>\n",
       "      <td>0.075893</td>\n",
       "    </tr>\n",
       "    <tr>\n",
       "      <th>3</th>\n",
       "      <td>Adam17&amp;Notch1</td>\n",
       "      <td>Adam17</td>\n",
       "      <td>Notch1</td>\n",
       "      <td>Adam17</td>\n",
       "      <td>Notch1</td>\n",
       "      <td>0.121026</td>\n",
       "      <td>0.167783</td>\n",
       "      <td>0.216689</td>\n",
       "      <td>0.276786</td>\n",
       "      <td>0.167783</td>\n",
       "    </tr>\n",
       "    <tr>\n",
       "      <th>4</th>\n",
       "      <td>Dlk1&amp;Notch1</td>\n",
       "      <td>Dlk1</td>\n",
       "      <td>Notch1</td>\n",
       "      <td>Dlk1</td>\n",
       "      <td>Notch1</td>\n",
       "      <td>0.236641</td>\n",
       "      <td>0.213542</td>\n",
       "      <td>0.216689</td>\n",
       "      <td>0.276786</td>\n",
       "      <td>0.213542</td>\n",
       "    </tr>\n",
       "  </tbody>\n",
       "</table>\n",
       "</div>"
      ],
      "text/plain": [
       "     interaction  ligand receptor ligand_complex receptor_complex  \\\n",
       "0    Dll1&Notch1    Dll1   Notch1           Dll1           Notch1   \n",
       "1  Adam10&Notch1  Adam10   Notch1         Adam10           Notch1   \n",
       "2    Jag1&Notch1    Jag1   Notch1           Jag1           Notch1   \n",
       "3  Adam17&Notch1  Adam17   Notch1         Adam17           Notch1   \n",
       "4    Dlk1&Notch1    Dlk1   Notch1           Dlk1           Notch1   \n",
       "\n",
       "   ligand_means  ligand_props  receptor_means  receptor_props  prop_min  \n",
       "0      0.037283      0.057292        0.216689        0.276786  0.057292  \n",
       "1      0.623617      0.651786        0.216689        0.276786  0.276786  \n",
       "2      0.051299      0.075893        0.216689        0.276786  0.075893  \n",
       "3      0.121026      0.167783        0.216689        0.276786  0.167783  \n",
       "4      0.236641      0.213542        0.216689        0.276786  0.213542  "
      ]
     },
     "execution_count": 123,
     "metadata": {},
     "output_type": "execute_result"
    }
   ],
   "source": [
    "lr_res.head()"
   ]
  },
  {
   "cell_type": "code",
   "execution_count": null,
   "id": "5b7c9963",
   "metadata": {},
   "outputs": [],
   "source": []
  },
  {
   "cell_type": "code",
   "execution_count": 167,
   "id": "0441e374",
   "metadata": {},
   "outputs": [],
   "source": [
    "@nb.njit(nb.f4(nb.f4[:], nb.f4[:], nb.f4[:], nb.f4, nb.boolean), cache=True)\n",
    "def wcor(x, y, w, wsum, rank):\n",
    "    \n",
    "    if rank:\n",
    "        x = np.argsort(x).argsort().astype(nb.f4)\n",
    "        y = np.argsort(y).argsort().astype(nb.f4)\n",
    "    \n",
    "    wx = w * x\n",
    "    wy = w * y\n",
    "    \n",
    "    numerator = wsum * np.sum(wx * y) - np.sum(wx) * np.sum(wy)\n",
    "    \n",
    "    denominator_x = wsum * np.sum(w * (x**2)) - np.sum(wx)**2\n",
    "    denominator_y = wsum * np.sum(w * (y**2)) - np.sum(wy)**2\n",
    "    denominator = (denominator_x * denominator_y)\n",
    "    \n",
    "    if (denominator == 0) or (numerator == 0):\n",
    "        return 0\n",
    "    \n",
    "    return numerator / (denominator**0.5)"
   ]
  },
  {
   "cell_type": "code",
   "execution_count": 168,
   "id": "be0c2eec",
   "metadata": {},
   "outputs": [],
   "source": [
    "@nb.njit(nb.f4(nb.f4[:], nb.f4[:], nb.f4[:]), cache=True)\n",
    "def _wjaccard(x, y , w):\n",
    "    x = (x > 0).astype(np.int8)\n",
    "    y = (y > 0).astype(np.int8)\n",
    "    \n",
    "    # intersect and union\n",
    "    numerator = np.sum(np.minimum(x, y) * w)\n",
    "    denominator = np.sum(np.maximum(x, y) * w)\n",
    "    \n",
    "    if denominator == 0:\n",
    "        return 0.0\n",
    "    \n",
    "    return numerator / denominator"
   ]
  },
  {
   "cell_type": "code",
   "execution_count": 169,
   "id": "2235d159",
   "metadata": {},
   "outputs": [],
   "source": [
    "@nb.njit(nb.f4(nb.f4[:], nb.f4[:], nb.f4[:]), cache=True)\n",
    "def _wcossim(x, y , w):\n",
    "    dot = np.dot(x * w, y)\n",
    "    x_dot = np.dot(x * w, x)\n",
    "    y_dot = np.dot(y * w, y)\n",
    "    denominator = (x_dot * y_dot)\n",
    "    \n",
    "    if denominator == 0:\n",
    "        return 0.0\n",
    "    \n",
    "    return dot / (denominator**0.5)"
   ]
  },
  {
   "cell_type": "code",
   "execution_count": 170,
   "id": "4a1eae8d",
   "metadata": {},
   "outputs": [],
   "source": [
    "@nb.njit(nb.f4(nb.f4[:], nb.f4[:], nb.f4[:], nb.f4, nb.int8), cache=True)\n",
    "def _wcoex(x, y, w, wsum, method):\n",
    "        if method == 0: # pearson\n",
    "            c = wcor(x, y, w, wsum, False)\n",
    "        elif method == 1: # spearman\n",
    "            c = wcor(x, y, w, wsum, True)\n",
    "        elif method == 2: # jaccard\n",
    "            c = _wjaccard(x, y, w)\n",
    "        elif method == 3: # cosine\n",
    "            c = _wcossim(x, y, w)\n",
    "        else: \n",
    "            raise ValueError(\"method not supported\")\n",
    "        return c"
   ]
  },
  {
   "cell_type": "code",
   "execution_count": 171,
   "id": "afdcff2f",
   "metadata": {},
   "outputs": [],
   "source": [
    "# 0 = pearson, 1 = spearman\n",
    "@nb.njit(nb.f4[:,:](nb.f4[:,:], nb.f4[:,:], nb.f4[:,:], nb.f4, nb.int8, nb.f4), cache=True, parallel=True)\n",
    "def masked_coexpression(x_mat, y_mat, weight, wsum, method, weight_thr):\n",
    "    spot_n = x_mat.shape[0]\n",
    "    xy_n = x_mat.shape[1]\n",
    "    \n",
    "    local_correlations = np.zeros((spot_n, xy_n), dtype=nb.f4) # nb.f4\n",
    "    \n",
    "    for i in nb.prange(spot_n):\n",
    "        w = weight[i, :]\n",
    "        msk = w > weight_thr\n",
    "        \n",
    "        for j in range(xy_n):\n",
    "            x = x_mat[:, j][msk]\n",
    "            y = y_mat[:, j][msk]\n",
    "            \n",
    "            local_correlations[i, j] = _wcoex(x, y, w[msk], wsum, method)\n",
    "    \n",
    "    return local_correlations"
   ]
  },
  {
   "cell_type": "code",
   "execution_count": 129,
   "id": "bbc70571",
   "metadata": {},
   "outputs": [],
   "source": [
    "dist = adata.obsm['proximity']\n",
    "weight = dist.A.astype(np.float32)\n",
    "wsum = np.sum(weight[0,:])"
   ]
  },
  {
   "cell_type": "code",
   "execution_count": 130,
   "id": "58a369b7",
   "metadata": {},
   "outputs": [
    {
     "name": "stdout",
     "output_type": "stream",
     "text": [
      "CPU times: user 55.1 s, sys: 17.6 ms, total: 55.1 s\n",
      "Wall time: 5.56 s\n"
     ]
    }
   ],
   "source": [
    "%%time\n",
    "masked_pc = masked_coexpression(x_mat, y_mat, weight, wsum, method=0, weight_thr=0)"
   ]
  },
  {
   "cell_type": "code",
   "execution_count": 145,
   "id": "57a67dd2",
   "metadata": {},
   "outputs": [
    {
     "data": {
      "text/plain": [
       "array([[ 0.09826311,  0.        ,  0.08721767, ...,  0.29930848,\n",
       "         0.04978303,  0.        ],\n",
       "       [-0.1635023 ,  0.04346964, -0.33987418, ...,  0.14606072,\n",
       "        -0.5928406 , -0.32859018],\n",
       "       [-0.16473134, -0.05994885, -0.3344265 , ..., -0.33696443,\n",
       "         0.08912473,  0.44609275],\n",
       "       ...,\n",
       "       [-0.12529875, -0.20152366, -0.41333967, ...,  0.12269165,\n",
       "         0.22780639,  0.11751314],\n",
       "       [ 0.06025517, -0.14673103,  0.05746137, ..., -0.19184436,\n",
       "         0.6369634 , -0.0936611 ],\n",
       "       [ 0.        ,  0.2219938 ,  0.01828931, ...,  0.12309346,\n",
       "         0.        ,  0.        ]], dtype=float32)"
      ]
     },
     "execution_count": 145,
     "metadata": {},
     "output_type": "execute_result"
    }
   ],
   "source": [
    "masked_pc.T"
   ]
  },
  {
   "cell_type": "code",
   "execution_count": 154,
   "id": "ce85ba04",
   "metadata": {},
   "outputs": [
    {
     "data": {
      "text/plain": [
       "(array([   2,    2,    2, ..., 2687, 2687, 2687]),\n",
       " array([   5,   11,   17, ..., 1402, 1404, 1405]))"
      ]
     },
     "execution_count": 154,
     "metadata": {},
     "output_type": "execute_result"
    }
   ],
   "source": [
    "np.where(np.isnan(masked_pc))"
   ]
  },
  {
   "cell_type": "code",
   "execution_count": 175,
   "id": "5a653d4e",
   "metadata": {},
   "outputs": [
    {
     "data": {
      "text/plain": [
       "(2688, 1409)"
      ]
     },
     "execution_count": 175,
     "metadata": {},
     "output_type": "execute_result"
    }
   ],
   "source": [
    "masked_pc.shape"
   ]
  },
  {
   "cell_type": "code",
   "execution_count": 188,
   "id": "61357a1e",
   "metadata": {},
   "outputs": [
    {
     "data": {
      "text/plain": [
       "nan"
      ]
     },
     "execution_count": 188,
     "metadata": {},
     "output_type": "execute_result"
    }
   ],
   "source": [
    "masked_pc[2,0:10]"
   ]
  },
  {
   "cell_type": "code",
   "execution_count": 189,
   "id": "245c0cc9",
   "metadata": {},
   "outputs": [
    {
     "data": {
      "text/plain": [
       "0.12891324"
      ]
     },
     "execution_count": 189,
     "metadata": {},
     "output_type": "execute_result"
    }
   ],
   "source": [
    "local_pc[5,0:10]"
   ]
  },
  {
   "cell_type": "code",
   "execution_count": null,
   "id": "cc97ccdf",
   "metadata": {},
   "outputs": [],
   "source": []
  },
  {
   "cell_type": "code",
   "execution_count": 177,
   "id": "cf7ff2af",
   "metadata": {},
   "outputs": [],
   "source": [
    "x = x_mat[:, 5]\n",
    "w = weight[5, :]\n",
    "y = y_mat[:, 1]"
   ]
  },
  {
   "cell_type": "code",
   "execution_count": 178,
   "id": "dbd3aac5",
   "metadata": {},
   "outputs": [
    {
     "data": {
      "text/plain": [
       "nan"
      ]
     },
     "execution_count": 178,
     "metadata": {},
     "output_type": "execute_result"
    }
   ],
   "source": [
    "wcor(x, y, weight[5, :], wsum, False)"
   ]
  },
  {
   "cell_type": "code",
   "execution_count": 179,
   "id": "c686be75",
   "metadata": {},
   "outputs": [],
   "source": [
    "wx = w * x\n",
    "wy = w * y\n",
    "\n",
    "numerator = wsum * np.sum(wx * y) - np.sum(wx) * np.sum(wy)\n",
    "\n",
    "denominator_x = wsum * np.sum(w * (x**2)) - np.sum(wx)**2\n",
    "denominator_y = wsum * np.sum(w * (y**2)) - np.sum(wy)**2\n",
    "denominator = (denominator_x * denominator_y)"
   ]
  },
  {
   "cell_type": "code",
   "execution_count": 185,
   "id": "00dbac39",
   "metadata": {},
   "outputs": [
    {
     "name": "stderr",
     "output_type": "stream",
     "text": [
      "/tmp/ipykernel_138597/60933672.py:1: RuntimeWarning: invalid value encountered in double_scalars\n"
     ]
    },
    {
     "data": {
      "text/plain": [
       "nan"
      ]
     },
     "execution_count": 185,
     "metadata": {},
     "output_type": "execute_result"
    }
   ],
   "source": [
    "numerator / (denominator**0.5)"
   ]
  },
  {
   "cell_type": "code",
   "execution_count": null,
   "id": "90c8a9f2",
   "metadata": {},
   "outputs": [],
   "source": []
  },
  {
   "cell_type": "code",
   "execution_count": 187,
   "id": "43d70383",
   "metadata": {},
   "outputs": [
    {
     "data": {
      "text/plain": [
       "PearsonRResult(statistic=-0.0798658503658069, pvalue=3.391974049134917e-05)"
      ]
     },
     "execution_count": 187,
     "metadata": {},
     "output_type": "execute_result"
    }
   ],
   "source": [
    "pearsonr(x, y)"
   ]
  },
  {
   "cell_type": "code",
   "execution_count": 198,
   "id": "f4621754",
   "metadata": {},
   "outputs": [],
   "source": [
    "w = np.ones(y.shape[0]).astype(np.float32)\n",
    "wsum = np.sum(w).astype(np.float32)"
   ]
  },
  {
   "cell_type": "code",
   "execution_count": 199,
   "id": "3cfa6e60",
   "metadata": {},
   "outputs": [
    {
     "data": {
      "text/plain": [
       "-0.0798661932349205"
      ]
     },
     "execution_count": 199,
     "metadata": {},
     "output_type": "execute_result"
    }
   ],
   "source": [
    "wcor(x, y, w, wsum, False)"
   ]
  },
  {
   "cell_type": "code",
   "execution_count": 200,
   "id": "c6b50d29",
   "metadata": {},
   "outputs": [],
   "source": [
    "# WSUM is the issue????"
   ]
  },
  {
   "cell_type": "code",
   "execution_count": null,
   "id": "97531452",
   "metadata": {},
   "outputs": [],
   "source": []
  },
  {
   "cell_type": "code",
   "execution_count": null,
   "id": "6b0f1714",
   "metadata": {},
   "outputs": [],
   "source": [
    "%%time\n",
    "masked_sp = masked_coexpression(x_mat, y_mat, weight, wsum, method=1, weight_thr=0)"
   ]
  },
  {
   "cell_type": "code",
   "execution_count": null,
   "id": "d928a639",
   "metadata": {},
   "outputs": [],
   "source": [
    "masked_sp"
   ]
  },
  {
   "cell_type": "code",
   "execution_count": null,
   "id": "a1098672",
   "metadata": {},
   "outputs": [],
   "source": [
    "%%time\n",
    "masked_jc = masked_coexpression(x_mat, y_mat, weight, wsum, method=2, weight_thr=0)"
   ]
  },
  {
   "cell_type": "code",
   "execution_count": null,
   "id": "dd5194b1",
   "metadata": {},
   "outputs": [],
   "source": [
    "masked_jc"
   ]
  },
  {
   "cell_type": "code",
   "execution_count": null,
   "id": "771b65e1",
   "metadata": {},
   "outputs": [],
   "source": [
    "%%time\n",
    "masked_cos = masked_coexpression(x_mat, y_mat, weight, wsum, method=3, weight_thr=0)"
   ]
  },
  {
   "cell_type": "code",
   "execution_count": null,
   "id": "2084a8d5",
   "metadata": {},
   "outputs": [],
   "source": [
    "masked_cos"
   ]
  },
  {
   "cell_type": "code",
   "execution_count": null,
   "id": "0479d485",
   "metadata": {},
   "outputs": [],
   "source": []
  },
  {
   "cell_type": "code",
   "execution_count": null,
   "id": "08f2814e",
   "metadata": {},
   "outputs": [],
   "source": []
  },
  {
   "cell_type": "code",
   "execution_count": null,
   "id": "27b959bd",
   "metadata": {},
   "outputs": [],
   "source": [
    "from scipy.spatial.distance import jaccard, cosine"
   ]
  },
  {
   "cell_type": "code",
   "execution_count": null,
   "id": "5c0ccbbf",
   "metadata": {},
   "outputs": [],
   "source": [
    "# binary 0 or 1 x, y arrays\n",
    "x = np.array"
   ]
  },
  {
   "cell_type": "code",
   "execution_count": null,
   "id": "80547255",
   "metadata": {},
   "outputs": [],
   "source": [
    "x = np.random.randint(2, size=10).astype(np.float32)\n",
    "y = np.random.randint(2, size=10).astype(np.float32)\n",
    "w = np.ones(10).astype(np.float32)"
   ]
  },
  {
   "cell_type": "code",
   "execution_count": null,
   "id": "7ce1fba2",
   "metadata": {},
   "outputs": [],
   "source": [
    "_wjaccard(x, y, w)"
   ]
  },
  {
   "cell_type": "code",
   "execution_count": null,
   "id": "6d86d6aa",
   "metadata": {},
   "outputs": [],
   "source": [
    "1 - jaccard(x, y, w)"
   ]
  },
  {
   "cell_type": "code",
   "execution_count": null,
   "id": "7d1ddb2b",
   "metadata": {},
   "outputs": [],
   "source": [
    "_wcossim(x, y, w)"
   ]
  },
  {
   "cell_type": "code",
   "execution_count": null,
   "id": "ef89493c",
   "metadata": {},
   "outputs": [],
   "source": [
    "1 - cosine(x, y, w)"
   ]
  },
  {
   "cell_type": "code",
   "execution_count": null,
   "id": "41b1781a",
   "metadata": {},
   "outputs": [],
   "source": []
  },
  {
   "cell_type": "code",
   "execution_count": null,
   "id": "a5dfc3a5",
   "metadata": {},
   "outputs": [],
   "source": []
  },
  {
   "attachments": {},
   "cell_type": "markdown",
   "id": "0afdf754",
   "metadata": {},
   "source": [
    "Fully-vectorized"
   ]
  },
  {
   "cell_type": "code",
   "execution_count": 132,
   "id": "153e7944-adbb-401e-914b-09c227dcfdea",
   "metadata": {},
   "outputs": [],
   "source": [
    "import squidpy as sq\n",
    "import scanpy as sc\n",
    "import pandas as pd\n",
    "import numpy as np\n",
    "from scipy.sparse import csr_matrix, isspmatrix_csr"
   ]
  },
  {
   "cell_type": "code",
   "execution_count": 133,
   "id": "cbb22f08-505c-4087-af67-84577d421f60",
   "metadata": {},
   "outputs": [],
   "source": [
    "import liana as li"
   ]
  },
  {
   "cell_type": "code",
   "execution_count": 134,
   "id": "4f0fe90c-bf2b-44b3-8798-8aaad0e402f1",
   "metadata": {},
   "outputs": [],
   "source": [
    "from matplotlib.pyplot import hist\n",
    "from scipy.stats import spearmanr, pearsonr"
   ]
  },
  {
   "cell_type": "code",
   "execution_count": 135,
   "id": "5e601378",
   "metadata": {},
   "outputs": [],
   "source": [
    "from liana.method._global_lr_pipe import _global_lr_pipe\n",
    "from liana.method.sp._spatialdm import _get_ordered_matrix, _standardize_matrix"
   ]
  },
  {
   "cell_type": "code",
   "execution_count": 136,
   "id": "d8c4f241",
   "metadata": {},
   "outputs": [],
   "source": [
    "from scipy.stats import rankdata"
   ]
  },
  {
   "cell_type": "code",
   "execution_count": null,
   "id": "9860d383",
   "metadata": {},
   "outputs": [],
   "source": []
  },
  {
   "cell_type": "code",
   "execution_count": 137,
   "id": "0e95b8ba",
   "metadata": {},
   "outputs": [],
   "source": [
    "# ligand-receptor mats\n",
    "ligand_mat = _get_ordered_matrix(temp.X, ligand_pos, lr_res.ligand).T\n",
    "receptor_mat = _get_ordered_matrix(temp.X, receptor_pos, lr_res.receptor).T"
   ]
  },
  {
   "cell_type": "code",
   "execution_count": null,
   "id": "a833b105",
   "metadata": {},
   "outputs": [],
   "source": []
  },
  {
   "cell_type": "code",
   "execution_count": 138,
   "id": "3573cd36",
   "metadata": {},
   "outputs": [],
   "source": [
    "def _vectorized_correlations(x_mat, y_mat, dist, method=\"pearson\"):\n",
    "    if method not in [\"pearson\", \"spearman\"]:\n",
    "        raise ValueError(\"method must be one of 'pearson', 'spearman'\")\n",
    "    \n",
    "    # transpose\n",
    "    x_mat, y_mat = x_mat.T, y_mat.T\n",
    "    \n",
    "    weight = dist.A.T\n",
    "    weight_sums = np.sum(weight, axis = 0).flatten()\n",
    "        \n",
    "    if method==\"spearman\":\n",
    "        x_mat = rankdata(x_mat, axis=1)\n",
    "        y_mat = rankdata(y_mat, axis=1)\n",
    "    \n",
    "    # standard pearson\n",
    "    n1 = (((x_mat * y_mat).dot(weight)) * weight_sums)\n",
    "    n2 = (x_mat.dot(weight)) * (y_mat.dot(weight))\n",
    "    numerator = n1 - n2\n",
    "    \n",
    "    denominator_x = (weight_sums * (x_mat ** 2).dot(weight)) - (x_mat.dot(weight))**2\n",
    "    denominator_y = (weight_sums * (y_mat ** 2).dot(weight)) - (y_mat.dot(weight))**2\n",
    "    denominator = np.sqrt(denominator_x * denominator_y)\n",
    "    denominator[denominator == 0] = np.finfo(np.float32).eps # add noise to avoid division by zero\n",
    "    \n",
    "    local_corrs = (numerator / denominator)\n",
    "    \n",
    "    return local_corrs"
   ]
  },
  {
   "cell_type": "code",
   "execution_count": 139,
   "id": "58b651b6",
   "metadata": {},
   "outputs": [],
   "source": [
    "dist = adata.obsm['proximity']"
   ]
  },
  {
   "cell_type": "code",
   "execution_count": 140,
   "id": "297b3e2d",
   "metadata": {},
   "outputs": [],
   "source": [
    "local_pc = _vectorized_correlations(x_mat = ligand_mat.A, y_mat=receptor_mat.A, dist=dist, method=\"pearson\")"
   ]
  },
  {
   "cell_type": "code",
   "execution_count": 141,
   "id": "b37b960a",
   "metadata": {},
   "outputs": [],
   "source": [
    "local_sp = _vectorized_correlations(x_mat = ligand_mat.A, y_mat=receptor_mat.A, dist=dist, method=\"spearman\")"
   ]
  },
  {
   "cell_type": "code",
   "execution_count": null,
   "id": "e4b9b22c",
   "metadata": {},
   "outputs": [],
   "source": []
  },
  {
   "cell_type": "code",
   "execution_count": null,
   "id": "a0e229bd",
   "metadata": {},
   "outputs": [],
   "source": [
    "local_sp"
   ]
  },
  {
   "cell_type": "code",
   "execution_count": null,
   "id": "1292040e",
   "metadata": {},
   "outputs": [],
   "source": [
    "def _vectorized_wcosine(x_mat, y_mat, dist):\n",
    "    \n",
    "    # transpose\n",
    "    x_mat, y_mat = x_mat.T, y_mat.T    \n",
    "    weight = dist.A.T\n",
    "    \n",
    "    xy_dot = (x_mat * y_mat).dot(weight)\n",
    "    x_dot = (x_mat ** 2).dot(weight.T)\n",
    "    y_dot = (y_mat ** 2).dot(weight.T)\n",
    "    denominator = (x_dot * y_dot) + np.finfo(np.float32).eps\n",
    "    \n",
    "    return xy_dot / (denominator**0.5)"
   ]
  },
  {
   "cell_type": "code",
   "execution_count": null,
   "id": "49c6a9ce",
   "metadata": {},
   "outputs": [],
   "source": [
    "local_cos = _vectorized_wcosine(x_mat = ligand_mat.A, y_mat=receptor_mat.A, dist=dist)"
   ]
  },
  {
   "cell_type": "code",
   "execution_count": null,
   "id": "2c873c9b",
   "metadata": {},
   "outputs": [],
   "source": [
    "local_cos"
   ]
  },
  {
   "cell_type": "code",
   "execution_count": null,
   "id": "9999eb86",
   "metadata": {},
   "outputs": [],
   "source": [
    "local_cos.shape"
   ]
  },
  {
   "cell_type": "code",
   "execution_count": null,
   "id": "4a5d4935",
   "metadata": {},
   "outputs": [],
   "source": []
  },
  {
   "cell_type": "code",
   "execution_count": null,
   "id": "6a1dd503",
   "metadata": {},
   "outputs": [],
   "source": [
    "_wjaccard(x_mat[:, 0], y_mat[:, 0], weight[:, 0])"
   ]
  },
  {
   "cell_type": "code",
   "execution_count": null,
   "id": "78e9d657",
   "metadata": {},
   "outputs": [],
   "source": [
    "def _vectorized_jaccard(x_mat, y_mat, dist):\n",
    "    # binarize\n",
    "    x_mat, y_mat = x_mat > 0, y_mat > 0\n",
    "    # transpose\n",
    "    x_mat, y_mat = x_mat.T, y_mat.T    \n",
    "    weight = dist.A.T\n",
    "    \n",
    "    # intersect and union\n",
    "    numerator = np.dot(np.minimum(x_mat, y_mat), weight)\n",
    "    denominator = np.dot(np.maximum(x_mat, y_mat), weight) + np.finfo(np.float32).eps\n",
    "    \n",
    "    return numerator / denominator"
   ]
  },
  {
   "cell_type": "code",
   "execution_count": null,
   "id": "3691d7fa",
   "metadata": {},
   "outputs": [],
   "source": [
    "local_jc = _vectorized_jaccard(x_mat = ligand_mat.A, y_mat=receptor_mat.A, dist=dist)"
   ]
  },
  {
   "cell_type": "code",
   "execution_count": null,
   "id": "ee9e606d",
   "metadata": {},
   "outputs": [],
   "source": [
    "local_jc"
   ]
  },
  {
   "cell_type": "code",
   "execution_count": null,
   "id": "d539cdf9",
   "metadata": {},
   "outputs": [],
   "source": []
  },
  {
   "cell_type": "code",
   "execution_count": null,
   "id": "dac4ba2a",
   "metadata": {},
   "outputs": [],
   "source": [
    "from liana.method.sp._spatial_utils import _local_permutation_pvals"
   ]
  },
  {
   "cell_type": "code",
   "execution_count": null,
   "id": "ff308c66",
   "metadata": {},
   "outputs": [],
   "source": [
    "local_pvals = _local_permutation_pvals(x_mat = ligand_mat.A, \n",
    "                                       y_mat = receptor_mat.A, \n",
    "                                       local_truth=local_pc,\n",
    "                                       local_fun=_vectorized_correlations,\n",
    "                                       dist=dist, \n",
    "                                       n_perm=n_perm, \n",
    "                                       positive_only=False,\n",
    "                                       seed=seed)"
   ]
  },
  {
   "cell_type": "code",
   "execution_count": null,
   "id": "7d34d9f6",
   "metadata": {},
   "outputs": [],
   "source": [
    "local_pvals"
   ]
  },
  {
   "cell_type": "code",
   "execution_count": null,
   "id": "b4a05f78",
   "metadata": {},
   "outputs": [],
   "source": []
  },
  {
   "cell_type": "code",
   "execution_count": null,
   "id": "74a63b84",
   "metadata": {},
   "outputs": [],
   "source": [
    "local_sp = _vectorized_correlations(x_mat = ligand_mat.A, y_mat=receptor_mat.A, dist=dist, method=\"spearman\")"
   ]
  },
  {
   "cell_type": "code",
   "execution_count": null,
   "id": "95ed049d",
   "metadata": {},
   "outputs": [],
   "source": [
    "local_sp_pvals = _local_permutation_pvals(x_mat = ligand_mat.A, \n",
    "                                          y_mat = receptor_mat.A, \n",
    "                                          local_truth=local_sp,\n",
    "                                          local_fun=_vectorized_correlations,\n",
    "                                          dist=dist, \n",
    "                                          n_perm=n_perm, \n",
    "                                          positive_only=False,\n",
    "                                          seed=seed,\n",
    "                                          method=\"spearman\"\n",
    "                                          )"
   ]
  },
  {
   "cell_type": "code",
   "execution_count": null,
   "id": "03c9a907",
   "metadata": {},
   "outputs": [],
   "source": [
    "local_pvals.shape"
   ]
  },
  {
   "cell_type": "code",
   "execution_count": null,
   "id": "4467f81f",
   "metadata": {},
   "outputs": [],
   "source": [
    "local_sp_pvals.shape"
   ]
  },
  {
   "cell_type": "code",
   "execution_count": null,
   "id": "1dfb8b1c",
   "metadata": {},
   "outputs": [],
   "source": [
    "spearmanr(local_sp_pvals[1,:], local_pvals[1,:])"
   ]
  },
  {
   "cell_type": "code",
   "execution_count": null,
   "id": "5c15a179",
   "metadata": {},
   "outputs": [],
   "source": []
  },
  {
   "cell_type": "code",
   "execution_count": null,
   "id": "3c0dd963",
   "metadata": {},
   "outputs": [],
   "source": []
  },
  {
   "attachments": {},
   "cell_type": "markdown",
   "id": "2ab31991",
   "metadata": {},
   "source": [
    "Global summary of the local scores:"
   ]
  },
  {
   "cell_type": "code",
   "execution_count": null,
   "id": "b07ef553",
   "metadata": {},
   "outputs": [],
   "source": [
    "lr_res.loc[:,['pearson_mean','pearson_sd']] = np.vstack([np.mean(local_pc, axis=1), np.std(local_pc, axis=1)]).T"
   ]
  },
  {
   "cell_type": "code",
   "execution_count": null,
   "id": "4575407e",
   "metadata": {},
   "outputs": [],
   "source": [
    "lr_res.sort_values(by='pearson_mean', ascending=False)"
   ]
  },
  {
   "cell_type": "code",
   "execution_count": null,
   "id": "559a56f7",
   "metadata": {},
   "outputs": [],
   "source": []
  },
  {
   "cell_type": "code",
   "execution_count": null,
   "id": "3ef6c695",
   "metadata": {},
   "outputs": [],
   "source": []
  },
  {
   "attachments": {},
   "cell_type": "markdown",
   "id": "20c66314",
   "metadata": {},
   "source": [
    "local p-values"
   ]
  },
  {
   "cell_type": "code",
   "execution_count": null,
   "id": "2d2a26c4",
   "metadata": {},
   "outputs": [],
   "source": [
    "from numpy import random\n",
    "from tqdm import tqdm"
   ]
  },
  {
   "cell_type": "code",
   "execution_count": null,
   "id": "af430595",
   "metadata": {},
   "outputs": [],
   "source": [
    "rng = random.default_rng(0)\n",
    "n_perm = 100\n",
    "positive_only = True # remove this option?"
   ]
  },
  {
   "cell_type": "code",
   "execution_count": null,
   "id": "f47617b7",
   "metadata": {},
   "outputs": [],
   "source": [
    "dist = adata.obsm['proximity']"
   ]
  },
  {
   "cell_type": "code",
   "execution_count": null,
   "id": "8bb8d8c3",
   "metadata": {},
   "outputs": [],
   "source": [
    "local_pc.shape"
   ]
  },
  {
   "cell_type": "code",
   "execution_count": null,
   "id": "825b981e",
   "metadata": {},
   "outputs": [],
   "source": []
  },
  {
   "cell_type": "code",
   "execution_count": null,
   "id": "b9f0a2a7",
   "metadata": {},
   "outputs": [],
   "source": [
    "def _get_local_permutation_pvals(x_mat, y_mat, local_truth, local_fun, dist, n_perm, positive_only=True, **kwargs):\n",
    "    xy_n = local_truth.shape[0]\n",
    "    spot_n = local_truth.shape[1]\n",
    "    \n",
    "    print(spot_n)\n",
    "    \n",
    "    # permutation cubes to be populated\n",
    "    local_pvals = np.zeros((xy_n, spot_n))\n",
    "    \n",
    "    # shuffle the matrix\n",
    "    for i in tqdm(range(n_perm)):\n",
    "        _idx = rng.permutation(spot_n)\n",
    "        perm_score = local_fun(x_mat = x_mat[_idx, :], y_mat=y_mat, dist=dist, **kwargs) ## TODO switch to shuffle rows, not columns\n",
    "        if positive_only:\n",
    "            local_pvals += np.array(perm_score >= local_truth, dtype=int)\n",
    "        else:\n",
    "            local_pvals += (np.array(np.abs(perm_score) >= np.abs(local_truth), dtype=int))\n",
    "\n",
    "    local_pvals = local_pvals / n_perm\n",
    "    \n",
    "    return local_pvals\n",
    "    "
   ]
  },
  {
   "cell_type": "code",
   "execution_count": null,
   "id": "1a714ac7",
   "metadata": {},
   "outputs": [],
   "source": []
  },
  {
   "cell_type": "code",
   "execution_count": null,
   "id": "dac4ba2a",
   "metadata": {},
   "outputs": [],
   "source": [
    "from liana.method.sp._spatial_utils import _local_permutation_pvals"
   ]
  },
  {
   "cell_type": "code",
   "execution_count": null,
   "id": "ff308c66",
   "metadata": {},
   "outputs": [],
   "source": [
    "local_pvals = _local_permutation_pvals(x_mat = ligand_mat.A, \n",
    "                                       y_mat = receptor_mat.A, \n",
    "                                       local_truth=local_pc,\n",
    "                                       local_fun=calculate_local_correlations,\n",
    "                                       dist=dist, \n",
    "                                       n_perm=n_perm, \n",
    "                                       positive_only=False,\n",
    "                                       seed=0)"
   ]
  },
  {
   "cell_type": "code",
   "execution_count": null,
   "id": "7d34d9f6",
   "metadata": {},
   "outputs": [],
   "source": [
    "local_pvals"
   ]
  },
  {
   "cell_type": "code",
   "execution_count": null,
   "id": "4806c532",
   "metadata": {},
   "outputs": [],
   "source": []
  },
  {
   "cell_type": "code",
   "execution_count": null,
   "id": "b08fb539",
   "metadata": {},
   "outputs": [],
   "source": [
    "local_pvals"
   ]
  },
  {
   "cell_type": "code",
   "execution_count": null,
   "id": "160df845",
   "metadata": {},
   "outputs": [],
   "source": [
    "from  scipy.sparse import csr_matrix"
   ]
  },
  {
   "cell_type": "code",
   "execution_count": null,
   "id": "f0d4453b",
   "metadata": {},
   "outputs": [],
   "source": [
    "local_pvals.shape"
   ]
  },
  {
   "cell_type": "code",
   "execution_count": null,
   "id": "fe424bbc",
   "metadata": {},
   "outputs": [],
   "source": [
    "local_pvals"
   ]
  },
  {
   "cell_type": "code",
   "execution_count": null,
   "id": "808dac55",
   "metadata": {},
   "outputs": [],
   "source": []
  },
  {
   "cell_type": "code",
   "execution_count": null,
   "id": "7c8b5359",
   "metadata": {},
   "outputs": [],
   "source": [
    "local_pc.shape"
   ]
  },
  {
   "cell_type": "code",
   "execution_count": null,
   "id": "4e5f6f90",
   "metadata": {},
   "outputs": [],
   "source": [
    "local_pvals.shape"
   ]
  },
  {
   "cell_type": "code",
   "execution_count": null,
   "id": "6ca94d98",
   "metadata": {},
   "outputs": [],
   "source": [
    "local_masked_pvals = _get_local_permutation_pvals(x_mat = ligand_mat.A,\n",
    "                                                  y_mat = receptor_mat.A,\n",
    "                                                  local_truth = masked_sp,\n",
    "                                                  local_fun=calculate_masked_correlations,\n",
    "                                                  dist=dist,\n",
    "                                                  n_perm=n_perm,\n",
    "                                                  positive_only=False)"
   ]
  },
  {
   "cell_type": "code",
   "execution_count": null,
   "id": "82286380",
   "metadata": {},
   "outputs": [],
   "source": [
    "local_masked_pvals"
   ]
  },
  {
   "cell_type": "code",
   "execution_count": null,
   "id": "693c03cb",
   "metadata": {},
   "outputs": [],
   "source": [
    "local_masked_pvals.shape"
   ]
  },
  {
   "cell_type": "code",
   "execution_count": null,
   "id": "46d37697",
   "metadata": {},
   "outputs": [],
   "source": [
    "from scipy.stats import spearmanr,  pearsonr"
   ]
  },
  {
   "cell_type": "code",
   "execution_count": null,
   "id": "e8f4e9ec",
   "metadata": {},
   "outputs": [],
   "source": [
    "pearsonr(local_masked_pvals[0,:], local_pvals[0,:])"
   ]
  },
  {
   "cell_type": "code",
   "execution_count": null,
   "id": "d1b942d7",
   "metadata": {},
   "outputs": [],
   "source": []
  },
  {
   "cell_type": "code",
   "execution_count": null,
   "id": "5889d9aa",
   "metadata": {},
   "outputs": [],
   "source": []
  },
  {
   "attachments": {},
   "cell_type": "markdown",
   "id": "e642e142",
   "metadata": {},
   "source": [
    "Plot to check the distribution of the local scores:"
   ]
  },
  {
   "cell_type": "code",
   "execution_count": null,
   "id": "a7c74f36",
   "metadata": {},
   "outputs": [],
   "source": [
    "from liana.method.sp._spatialdm import spatialdm"
   ]
  },
  {
   "cell_type": "code",
   "execution_count": null,
   "id": "31228a8d",
   "metadata": {},
   "outputs": [],
   "source": [
    "spatialdm(adata=adata, resource_name=\"MouseConsensus\", pvalue_method='analytical', verbose=True, use_raw=False)"
   ]
  },
  {
   "cell_type": "code",
   "execution_count": null,
   "id": "f472d541",
   "metadata": {},
   "outputs": [],
   "source": [
    "local_pvals = li.ut.obsm_to_adata(adata, obsm_key='local_pvals')"
   ]
  },
  {
   "cell_type": "code",
   "execution_count": null,
   "id": "f2ed715f",
   "metadata": {},
   "outputs": [],
   "source": [
    "local_r = li.ut.obsm_to_adata(adata, obsm_key='local_r')"
   ]
  },
  {
   "cell_type": "code",
   "execution_count": null,
   "id": "ebdedf3f",
   "metadata": {},
   "outputs": [],
   "source": [
    "sc.pl.spatial(local_pvals, color=['Sema4d&Plxnb3'])"
   ]
  },
  {
   "cell_type": "code",
   "execution_count": null,
   "id": "db96374a",
   "metadata": {},
   "outputs": [],
   "source": [
    "sc.pl.spatial(local_r, color=['Sema4d&Plxnb3'])"
   ]
  },
  {
   "cell_type": "code",
   "execution_count": null,
   "id": "07bcb9a8",
   "metadata": {},
   "outputs": [],
   "source": [
    "adata.obsm['local_r']"
   ]
  },
  {
   "cell_type": "code",
   "execution_count": null,
   "id": "2b9a57dc",
   "metadata": {},
   "outputs": [],
   "source": [
    "def embed_score_to_adata(adata, score, score_name):\n",
    "    score =  pd.DataFrame(score,\n",
    "                          columns=adata.obsm['local_r'].columns,\n",
    "                          index=adata.obsm['local_r'].index)\n",
    "    adata.obsm[score_name] = score"
   ]
  },
  {
   "cell_type": "code",
   "execution_count": null,
   "id": "99d53858",
   "metadata": {},
   "outputs": [],
   "source": [
    "# Masked Pearson correlation\n",
    "embed_score_to_adata(adata, masked_pc, 'masked_pc')\n",
    "\n",
    "# Vectorized Pearson correlation\n",
    "embed_score_to_adata(adata, local_pc.T, 'local_pc')"
   ]
  },
  {
   "cell_type": "code",
   "execution_count": null,
   "id": "5b4b0d32",
   "metadata": {},
   "outputs": [],
   "source": [
    "# Masked Spearman correlation\n",
    "embed_score_to_adata(adata, masked_sp, 'masked_sp')\n",
    "# Vectorized Spearman correlation\n",
    "embed_score_to_adata(adata, local_sp.T, 'local_sp')"
   ]
  },
  {
   "cell_type": "code",
   "execution_count": null,
   "id": "480b66d9",
   "metadata": {},
   "outputs": [],
   "source": [
    "# Masked Jaccard index\n",
    "embed_score_to_adata(adata, masked_jc, 'masked_jc')\n",
    "# Vectorized Jaccard index\n",
    "embed_score_to_adata(adata, local_jc.T, 'local_jc')"
   ]
  },
  {
   "cell_type": "code",
   "execution_count": null,
   "id": "8059438a",
   "metadata": {},
   "outputs": [],
   "source": [
    "# Masked Cosine similarity\n",
    "embed_score_to_adata(adata, masked_cos, 'masked_cos')\n",
    "# Vectorized Cosine similarity\n",
    "embed_score_to_adata(adata, local_cos.T, 'local_cos')"
   ]
  },
  {
   "attachments": {},
   "cell_type": "markdown",
   "id": "10626cec",
   "metadata": {},
   "source": [
    "Plot to check the distribution of the local scores:"
   ]
  },
  {
   "cell_type": "code",
   "execution_count": null,
   "id": "18b35893",
   "metadata": {},
   "outputs": [],
   "source": [
    "sc.pl.spatial(adata, color=['Sema4d', 'Plxnb3'], use_raw=False)"
   ]
  },
  {
   "cell_type": "code",
   "execution_count": null,
   "id": "175b0e5f",
   "metadata": {},
   "outputs": [],
   "source": [
    "local_r = li.ut.obsm_to_adata(adata, obsm_key='local_r')\n",
    "sc.pl.spatial(local_r, color=['Sema4d&Plxnb3'])"
   ]
  },
  {
   "cell_type": "code",
   "execution_count": null,
   "id": "10687298",
   "metadata": {},
   "outputs": [],
   "source": [
    "sc.pl.spatial(local_pvals, color=['Sema4d&Plxnb3'])"
   ]
  },
  {
   "cell_type": "code",
   "execution_count": null,
   "id": "8e8e032c",
   "metadata": {},
   "outputs": [],
   "source": []
  },
  {
   "attachments": {},
   "cell_type": "markdown",
   "id": "4c508200",
   "metadata": {},
   "source": [
    "Pearson"
   ]
  },
  {
   "cell_type": "code",
   "execution_count": null,
   "id": "5f232164",
   "metadata": {},
   "outputs": [],
   "source": [
    "masked_pc = li.ut.obsm_to_adata(adata, obsm_key='masked_pc')\n",
    "sc.pl.spatial(masked_pc, color=['Sema4d&Plxnb3'])"
   ]
  },
  {
   "cell_type": "code",
   "execution_count": null,
   "id": "98dfd551",
   "metadata": {},
   "outputs": [],
   "source": [
    "local_pc = li.ut.obsm_to_adata(adata, obsm_key='local_pc')\n",
    "sc.pl.spatial(local_pc, color=['Sema4d&Plxnb3'])"
   ]
  },
  {
   "cell_type": "markdown",
   "id": "daab91f8",
   "metadata": {},
   "source": []
  },
  {
   "cell_type": "code",
   "execution_count": null,
   "id": "664c739f",
   "metadata": {},
   "outputs": [],
   "source": [
    "local_sp = li.ut.obsm_to_adata(adata, obsm_key='local_sp')\n",
    "sc.pl.spatial(local_sp, color=['Sema4d&Plxnb3'])"
   ]
  },
  {
   "cell_type": "code",
   "execution_count": null,
   "id": "6effa790",
   "metadata": {},
   "outputs": [],
   "source": [
    "masked_sp = li.ut.obsm_to_adata(adata, obsm_key='masked_sp')\n",
    "sc.pl.spatial(masked_sp, color=['Sema4d&Plxnb3'])"
   ]
  },
  {
   "cell_type": "code",
   "execution_count": null,
   "id": "361c9782",
   "metadata": {},
   "outputs": [],
   "source": []
  },
  {
   "cell_type": "code",
   "execution_count": null,
   "id": "4add214d",
   "metadata": {},
   "outputs": [],
   "source": [
    "masked_jc = li.ut.obsm_to_adata(adata, obsm_key='masked_jc')\n",
    "sc.pl.spatial(masked_jc, color=['Sema4d&Plxnb3'])"
   ]
  },
  {
   "cell_type": "code",
   "execution_count": null,
   "id": "a5f60835",
   "metadata": {},
   "outputs": [],
   "source": [
    "local_jc = li.ut.obsm_to_adata(adata, obsm_key='local_jc')\n",
    "sc.pl.spatial(local_jc, color=['Sema4d&Plxnb3'])"
   ]
  },
  {
   "cell_type": "code",
   "execution_count": null,
   "id": "724183aa",
   "metadata": {},
   "outputs": [],
   "source": []
  },
  {
   "attachments": {},
   "cell_type": "markdown",
   "id": "da8a171a",
   "metadata": {},
   "source": [
    "Cosine"
   ]
  },
  {
   "cell_type": "code",
   "execution_count": null,
   "id": "82818d91",
   "metadata": {},
   "outputs": [],
   "source": [
    "masked_cos = li.ut.obsm_to_adata(adata, obsm_key='masked_cos')\n",
    "sc.pl.spatial(masked_cos, color=['Sema4d&Plxnb3'])"
   ]
  },
  {
   "cell_type": "code",
   "execution_count": null,
   "id": "3c6aa06c",
   "metadata": {},
   "outputs": [],
   "source": [
    "local_cos = li.ut.obsm_to_adata(adata, obsm_key='local_cos')\n",
    "sc.pl.spatial(local_cos, color=['Sema4d&Plxnb3'])"
   ]
  },
  {
   "cell_type": "code",
   "execution_count": null,
   "id": "8a7ab7f4",
   "metadata": {},
   "outputs": [],
   "source": [
    "embed_score_to_adata(adata, local_sp_pvals.T, 'local_sp_pvals')\n",
    "local_sp_pvals = li.ut.obsm_to_adata(adata, obsm_key='local_sp_pvals')"
   ]
  },
  {
   "cell_type": "code",
   "execution_count": null,
   "id": "8d5062ec",
   "metadata": {},
   "outputs": [],
   "source": [
    "sc.pl.spatial(local_sp_pvals, color=['Sema4d&Plxnb3'], cmap='viridis_r')"
   ]
  },
  {
   "cell_type": "code",
   "execution_count": null,
   "id": "afe30172",
   "metadata": {},
   "outputs": [],
   "source": []
  }
 ],
 "metadata": {
  "kernelspec": {
   "display_name": "liana-spatial",
   "language": "python",
   "name": "python3"
  },
  "language_info": {
   "codemirror_mode": {
    "name": "ipython",
    "version": 3
   },
   "file_extension": ".py",
   "mimetype": "text/x-python",
   "name": "python",
   "nbconvert_exporter": "python",
   "pygments_lexer": "ipython3",
   "version": "3.10.9"
  },
  "vscode": {
   "interpreter": {
    "hash": "f753bcce54bffd886a1918c0ed127797462060055a319cf64929de73ccbfe1e9"
   }
  }
 },
 "nbformat": 4,
 "nbformat_minor": 5
}
