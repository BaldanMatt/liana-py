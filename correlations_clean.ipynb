{
 "cells": [
  {
   "cell_type": "code",
   "execution_count": 1,
   "id": "153e7944-adbb-401e-914b-09c227dcfdea",
   "metadata": {},
   "outputs": [
    {
     "name": "stderr",
     "output_type": "stream",
     "text": [
      "/home/dbdimitrov/anaconda3/lib/python3.8/site-packages/paramiko/transport.py:219: CryptographyDeprecationWarning: Blowfish has been deprecated\n",
      "  \"class\": algorithms.Blowfish,\n",
      "/home/dbdimitrov/anaconda3/lib/python3.8/site-packages/numpydoc/docscrape.py:449: UserWarning: potentially wrong underline length... \n",
      "Extended Summary \n",
      "---------- in \n",
      "Add a Points layer to the layer list. \n",
      "...\n",
      "  warn(msg)\n",
      "/home/dbdimitrov/anaconda3/lib/python3.8/site-packages/numpydoc/docscrape.py:449: UserWarning: potentially wrong underline length... \n",
      "Extended Summary \n",
      "---------- in \n",
      "Add a Labels layer to the layer list. \n",
      "...\n",
      "  warn(msg)\n",
      "/home/dbdimitrov/anaconda3/lib/python3.8/site-packages/numpydoc/docscrape.py:449: UserWarning: potentially wrong underline length... \n",
      "Extended Summary \n",
      "---------- in \n",
      "Add a Shapes layer to the layer list. \n",
      "...\n",
      "  warn(msg)\n",
      "/home/dbdimitrov/anaconda3/lib/python3.8/site-packages/numpydoc/docscrape.py:449: UserWarning: potentially wrong underline length... \n",
      "Extended Summary \n",
      "---------- in \n",
      "Add a Surface layer to the layer list. \n",
      "...\n",
      "  warn(msg)\n",
      "/home/dbdimitrov/anaconda3/lib/python3.8/site-packages/numpydoc/docscrape.py:449: UserWarning: potentially wrong underline length... \n",
      "Extended Summary \n",
      "---------- in \n",
      "Add a Vectors layer to the layer list. \n",
      "...\n",
      "  warn(msg)\n"
     ]
    }
   ],
   "source": [
    "import squidpy as sq\n",
    "import scanpy as sc\n",
    "import pandas as pd\n",
    "import numpy as np\n",
    "from scipy.sparse import csr_matrix, isspmatrix_csr"
   ]
  },
  {
   "cell_type": "code",
   "execution_count": 2,
   "id": "cbb22f08-505c-4087-af67-84577d421f60",
   "metadata": {},
   "outputs": [],
   "source": [
    "import liana as li"
   ]
  },
  {
   "cell_type": "code",
   "execution_count": 3,
   "id": "4f0fe90c-bf2b-44b3-8798-8aaad0e402f1",
   "metadata": {},
   "outputs": [],
   "source": [
    "from matplotlib.pyplot import hist"
   ]
  },
  {
   "cell_type": "code",
   "execution_count": 4,
   "id": "22a8de43-4ff7-4e93-9056-e27ba4a0afef",
   "metadata": {},
   "outputs": [],
   "source": [
    "from liana.method._global_lr_pipe import _global_lr_pipe\n",
    "from liana.method.sp._spatialdm import _get_ordered_matrix, _standardize_matrix"
   ]
  },
  {
   "cell_type": "code",
   "execution_count": null,
   "id": "943a8965",
   "metadata": {},
   "outputs": [],
   "source": []
  },
  {
   "cell_type": "code",
   "execution_count": 5,
   "id": "b9f16311-988d-4b04-b544-3b9ae80f0b71",
   "metadata": {},
   "outputs": [],
   "source": [
    "counts = pd.read_csv(\"data/counts_mat.csv\")\n",
    "weights = pd.read_csv(\"data/weight_mat.csv\")"
   ]
  },
  {
   "cell_type": "code",
   "execution_count": 6,
   "id": "1caf6c62-a727-40c5-94a9-5d6dcd535c48",
   "metadata": {},
   "outputs": [],
   "source": [
    "var = pd.DataFrame(counts[['Unnamed: 0']]).set_index('Unnamed: 0')\n",
    "var.index.name = None"
   ]
  },
  {
   "cell_type": "code",
   "execution_count": 7,
   "id": "740b5fad-7447-4eef-ba35-6ef5e028da17",
   "metadata": {},
   "outputs": [],
   "source": [
    "adata = sc.AnnData(X=csr_matrix(counts.drop(counts.columns[0], axis=1), dtype=np.float32).T, var=var)"
   ]
  },
  {
   "cell_type": "code",
   "execution_count": 8,
   "id": "bb9f37d6-da59-44ca-b304-222329b21237",
   "metadata": {},
   "outputs": [],
   "source": [
    "adata.obsm['proximity'] = csr_matrix(weights)"
   ]
  },
  {
   "cell_type": "code",
   "execution_count": null,
   "id": "10c311ac-b3a1-49fe-a054-83fb41aeb5e3",
   "metadata": {},
   "outputs": [],
   "source": []
  },
  {
   "cell_type": "code",
   "execution_count": 9,
   "id": "c8fee01a-7e7a-4556-9c54-77a671b0a735",
   "metadata": {},
   "outputs": [],
   "source": [
    "resource = pd.DataFrame({\"ligand\":[\"Dnm1l\", \"Arrb1\", \"Igf2\", \"Dnm1l\"], \"receptor\":[\"Gucy1b3\", \"Mtor\", \"Tuba1a\", \"Fam63b\"]})"
   ]
  },
  {
   "cell_type": "code",
   "execution_count": 32,
   "id": "9133666e",
   "metadata": {},
   "outputs": [],
   "source": [
    "dist = adata.obsm['proximity']"
   ]
  },
  {
   "cell_type": "code",
   "execution_count": null,
   "id": "43b18c02-ee7c-4980-8ec7-9da7418b0676",
   "metadata": {},
   "outputs": [],
   "source": []
  },
  {
   "cell_type": "code",
   "execution_count": 10,
   "id": "9b2eae96-cedb-44e6-b9b1-e122bba505bb",
   "metadata": {},
   "outputs": [
    {
     "name": "stdout",
     "output_type": "stream",
     "text": [
      "Using `.X`!\n",
      "Converting mat to CSR format\n"
     ]
    }
   ],
   "source": [
    "temp, lr_res, ligand_pos, receptor_pos = _global_lr_pipe(adata=adata,\n",
    "                                                         resource=resource,\n",
    "                                                         expr_prop=0.05,\n",
    "                                                         use_raw=False,\n",
    "                                                         verbose=True,\n",
    "                                                         layer=None,\n",
    "                                                         _key_cols=['ligand_complex', 'receptor_complex'],\n",
    "                                                         _complex_cols=['ligand_means', 'receptor_means'],\n",
    "                                                         _obms_keys=['proximity'],\n",
    "                                                         resource_name=None\n",
    "                                                         )"
   ]
  },
  {
   "cell_type": "code",
   "execution_count": 11,
   "id": "5801b031-bfdc-4712-8191-26c88d7d6d59",
   "metadata": {},
   "outputs": [
    {
     "data": {
      "text/html": [
       "<div>\n",
       "<style scoped>\n",
       "    .dataframe tbody tr th:only-of-type {\n",
       "        vertical-align: middle;\n",
       "    }\n",
       "\n",
       "    .dataframe tbody tr th {\n",
       "        vertical-align: top;\n",
       "    }\n",
       "\n",
       "    .dataframe thead th {\n",
       "        text-align: right;\n",
       "    }\n",
       "</style>\n",
       "<table border=\"1\" class=\"dataframe\">\n",
       "  <thead>\n",
       "    <tr style=\"text-align: right;\">\n",
       "      <th></th>\n",
       "      <th>interaction</th>\n",
       "      <th>ligand</th>\n",
       "      <th>receptor</th>\n",
       "      <th>ligand_complex</th>\n",
       "      <th>receptor_complex</th>\n",
       "      <th>ligand_means</th>\n",
       "      <th>ligand_props</th>\n",
       "      <th>receptor_means</th>\n",
       "      <th>receptor_props</th>\n",
       "      <th>prop_min</th>\n",
       "    </tr>\n",
       "  </thead>\n",
       "  <tbody>\n",
       "    <tr>\n",
       "      <th>0</th>\n",
       "      <td>Dnm1l&amp;Gucy1b3</td>\n",
       "      <td>Dnm1l</td>\n",
       "      <td>Gucy1b3</td>\n",
       "      <td>Dnm1l</td>\n",
       "      <td>Gucy1b3</td>\n",
       "      <td>2.682889</td>\n",
       "      <td>0.950000</td>\n",
       "      <td>3.117442</td>\n",
       "      <td>0.976923</td>\n",
       "      <td>0.950000</td>\n",
       "    </tr>\n",
       "    <tr>\n",
       "      <th>1</th>\n",
       "      <td>Dnm1l&amp;Fam63b</td>\n",
       "      <td>Dnm1l</td>\n",
       "      <td>Fam63b</td>\n",
       "      <td>Dnm1l</td>\n",
       "      <td>Fam63b</td>\n",
       "      <td>2.682889</td>\n",
       "      <td>0.950000</td>\n",
       "      <td>1.781250</td>\n",
       "      <td>0.830769</td>\n",
       "      <td>0.830769</td>\n",
       "    </tr>\n",
       "    <tr>\n",
       "      <th>2</th>\n",
       "      <td>Arrb1&amp;Mtor</td>\n",
       "      <td>Arrb1</td>\n",
       "      <td>Mtor</td>\n",
       "      <td>Arrb1</td>\n",
       "      <td>Mtor</td>\n",
       "      <td>2.665413</td>\n",
       "      <td>0.957692</td>\n",
       "      <td>2.298451</td>\n",
       "      <td>0.907692</td>\n",
       "      <td>0.907692</td>\n",
       "    </tr>\n",
       "    <tr>\n",
       "      <th>3</th>\n",
       "      <td>Igf2&amp;Tuba1a</td>\n",
       "      <td>Igf2</td>\n",
       "      <td>Tuba1a</td>\n",
       "      <td>Igf2</td>\n",
       "      <td>Tuba1a</td>\n",
       "      <td>1.924077</td>\n",
       "      <td>0.892308</td>\n",
       "      <td>6.466562</td>\n",
       "      <td>1.000000</td>\n",
       "      <td>0.892308</td>\n",
       "    </tr>\n",
       "  </tbody>\n",
       "</table>\n",
       "</div>"
      ],
      "text/plain": [
       "     interaction ligand receptor ligand_complex receptor_complex  \\\n",
       "0  Dnm1l&Gucy1b3  Dnm1l  Gucy1b3          Dnm1l          Gucy1b3   \n",
       "1   Dnm1l&Fam63b  Dnm1l   Fam63b          Dnm1l           Fam63b   \n",
       "2     Arrb1&Mtor  Arrb1     Mtor          Arrb1             Mtor   \n",
       "3    Igf2&Tuba1a   Igf2   Tuba1a           Igf2           Tuba1a   \n",
       "\n",
       "   ligand_means  ligand_props  receptor_means  receptor_props  prop_min  \n",
       "0      2.682889      0.950000        3.117442        0.976923  0.950000  \n",
       "1      2.682889      0.950000        1.781250        0.830769  0.830769  \n",
       "2      2.665413      0.957692        2.298451        0.907692  0.907692  \n",
       "3      1.924077      0.892308        6.466562        1.000000  0.892308  "
      ]
     },
     "execution_count": 11,
     "metadata": {},
     "output_type": "execute_result"
    }
   ],
   "source": [
    "lr_res"
   ]
  },
  {
   "cell_type": "code",
   "execution_count": null,
   "id": "79c3025f-5d31-475b-85fb-8228c82fc7da",
   "metadata": {},
   "outputs": [],
   "source": []
  },
  {
   "cell_type": "markdown",
   "id": "f9b53bf1-be2e-4441-9833-99a17a48c3f7",
   "metadata": {},
   "source": [
    "Correlations"
   ]
  },
  {
   "attachments": {},
   "cell_type": "markdown",
   "id": "612f9ee3",
   "metadata": {},
   "source": [
    "masked"
   ]
  },
  {
   "cell_type": "code",
   "execution_count": 20,
   "id": "11ffaef1",
   "metadata": {},
   "outputs": [],
   "source": [
    "import scipy.stats as stats"
   ]
  },
  {
   "cell_type": "code",
   "execution_count": 21,
   "id": "bb1a8e28",
   "metadata": {},
   "outputs": [],
   "source": [
    "ligand_mat = _get_ordered_matrix(temp.X, ligand_pos, lr_res.ligand)\n",
    "receptor_mat = _get_ordered_matrix(temp.X, receptor_pos, lr_res.receptor)\n",
    "# x, y = ligand_mat[0, :].A.flatten(), receptor_mat[0, :].A.flatten()"
   ]
  },
  {
   "cell_type": "code",
   "execution_count": null,
   "id": "b914ee70",
   "metadata": {},
   "outputs": [],
   "source": []
  },
  {
   "cell_type": "code",
   "execution_count": 22,
   "id": "2148aa22",
   "metadata": {},
   "outputs": [],
   "source": [
    "def masked_wcor(x, y, weight, method='spearman_nzw'):\n",
    "    spot_n = x.shape[0]\n",
    "    \n",
    "    # reshape x and y to be the same shape as weight\n",
    "    x = np.reshape(np.repeat(x, spot_n), newshape=(spot_n, spot_n)).T\n",
    "    y = np.reshape(np.repeat(y, spot_n), newshape=(spot_n, spot_n)).T\n",
    "    \n",
    "    # mask x and y with the same mask as weight\n",
    "    x_masked = np.ma.array(x, mask = weight.mask, fill_value=np.nan)\n",
    "    y_masked = np.ma.array(y, mask = weight.mask, fill_value=np.nan)\n",
    "    \n",
    "    if method == 'spearman_nzw':\n",
    "        x_masked = stats.mstats.rankdata(x_masked, axis=1)\n",
    "        y_masked = stats.mstats.rankdata(y_masked, axis=1)\n",
    "    \n",
    "    # calculate weighted pearson correlation\n",
    "    n1 = np.ma.sum(weight, axis=1) * np.ma.sum(weight * x_masked * y_masked, axis=1)\n",
    "    n2 = np.ma.sum(weight * x_masked, axis=1) * np.ma.sum(weight * y_masked, axis=1)\n",
    "    numerator = n1 - n2\n",
    "    \n",
    "    denominator_x = np.ma.sum(weight, axis=1) * np.ma.sum(weight * x_masked**2, axis=1) - np.ma.sum(weight * x_masked, axis=1)**2\n",
    "    denominator_y = np.ma.sum(weight, axis=1) * np.ma.sum(weight * y_masked**2, axis=1) - np.ma.sum(weight * y_masked, axis=1)**2\n",
    "    wcor = numerator / np.ma.sqrt(denominator_x * denominator_y)\n",
    "    \n",
    "    return wcor.data"
   ]
  },
  {
   "cell_type": "code",
   "execution_count": null,
   "id": "ba2d1611",
   "metadata": {},
   "outputs": [],
   "source": []
  },
  {
   "cell_type": "code",
   "execution_count": 67,
   "id": "5bc646e0",
   "metadata": {},
   "outputs": [],
   "source": [
    "def calculate_masked_correlations(x_mat, y_mat, dist, method='spearman_nzw'):\n",
    "    weight = dist.A\n",
    "    msk = np.logical_not(weight>0).astype(np.int16)\n",
    "    weight = np.ma.masked_array(dist.A, mask=msk)\n",
    "    \n",
    "    # calculate for each x and y combination\n",
    "    local_correlations = []\n",
    "    for i in range(x_mat.shape[0]):\n",
    "        local_correlations.append(masked_wcor(x_mat[i, :], y_mat[i, :], weight))\n",
    "    local_correlations = np.array(local_correlations)\n",
    "    \n",
    "    return local_correlations"
   ]
  },
  {
   "cell_type": "code",
   "execution_count": 47,
   "id": "be8de259",
   "metadata": {},
   "outputs": [],
   "source": [
    "masked_sp = calculate_masked_correlations(ligand_mat, receptor_mat, adata.obsm['proximity'], method='spearman_nzw')[0:5]"
   ]
  },
  {
   "cell_type": "code",
   "execution_count": null,
   "id": "ec1ab144",
   "metadata": {},
   "outputs": [],
   "source": []
  },
  {
   "cell_type": "code",
   "execution_count": null,
   "id": "a7718885",
   "metadata": {},
   "outputs": [],
   "source": []
  },
  {
   "attachments": {},
   "cell_type": "markdown",
   "id": "0afdf754",
   "metadata": {},
   "source": [
    "Fully-vectorized"
   ]
  },
  {
   "cell_type": "code",
   "execution_count": 26,
   "id": "153e7944-adbb-401e-914b-09c227dcfdea",
   "metadata": {},
   "outputs": [],
   "source": [
    "import squidpy as sq\n",
    "import scanpy as sc\n",
    "import pandas as pd\n",
    "import numpy as np\n",
    "from scipy.sparse import csr_matrix, isspmatrix_csr"
   ]
  },
  {
   "cell_type": "code",
   "execution_count": 27,
   "id": "cbb22f08-505c-4087-af67-84577d421f60",
   "metadata": {},
   "outputs": [],
   "source": [
    "import liana as li"
   ]
  },
  {
   "cell_type": "code",
   "execution_count": 28,
   "id": "4f0fe90c-bf2b-44b3-8798-8aaad0e402f1",
   "metadata": {},
   "outputs": [],
   "source": [
    "from matplotlib.pyplot import hist"
   ]
  },
  {
   "cell_type": "code",
   "execution_count": 29,
   "id": "5e601378",
   "metadata": {},
   "outputs": [],
   "source": [
    "from liana.method._global_lr_pipe import _global_lr_pipe\n",
    "from liana.method.sp._spatialdm import _get_ordered_matrix, _standardize_matrix"
   ]
  },
  {
   "cell_type": "code",
   "execution_count": 30,
   "id": "d8c4f241",
   "metadata": {},
   "outputs": [],
   "source": [
    "from scipy.stats import rankdata"
   ]
  },
  {
   "cell_type": "code",
   "execution_count": null,
   "id": "9860d383",
   "metadata": {},
   "outputs": [],
   "source": []
  },
  {
   "cell_type": "code",
   "execution_count": 31,
   "id": "0e95b8ba",
   "metadata": {},
   "outputs": [],
   "source": [
    "# ligand-receptor mats\n",
    "ligand_mat = _get_ordered_matrix(temp.X, ligand_pos, lr_res.ligand)\n",
    "receptor_mat = _get_ordered_matrix(temp.X, receptor_pos, lr_res.receptor)"
   ]
  },
  {
   "cell_type": "code",
   "execution_count": 33,
   "id": "3573cd36",
   "metadata": {},
   "outputs": [],
   "source": [
    "def calculate_local_correlations(x_mat, y_mat, dist, method=\"pearson\"):\n",
    "    if method not in [\"pearson\", \"spearman\"]:\n",
    "        raise ValueError(\"method must be one of 'pearson', 'spearman'\")\n",
    "    \n",
    "    weight = dist.A.T ## does it really need to be A?\n",
    "    weight_sums = np.sum(weight, axis = 0).flatten()\n",
    "        \n",
    "    if method==\"spearman\":\n",
    "        x_mat = rankdata(x_mat, axis=1)\n",
    "        y_mat = rankdata(y_mat, axis=1)\n",
    "    \n",
    "    # standard pearson\n",
    "    n1 = (((x_mat * y_mat).dot(weight)) * weight_sums)\n",
    "    n2 = (x_mat.dot(weight)) * (y_mat.dot(weight))\n",
    "    numerator = n1 - n2\n",
    "    \n",
    "    denominator_x = (weight_sums * (x_mat ** 2).dot(weight)) - (x_mat.dot(weight))**2\n",
    "    denominator_y = (weight_sums * (y_mat ** 2).dot(weight)) - (y_mat.dot(weight))**2\n",
    "    \n",
    "    local_corrs = (numerator / np.sqrt(denominator_x * denominator_y))\n",
    "    \n",
    "    return local_corrs"
   ]
  },
  {
   "cell_type": "code",
   "execution_count": 34,
   "id": "297b3e2d",
   "metadata": {},
   "outputs": [],
   "source": [
    "local_pc = calculate_local_correlations(x_mat = ligand_mat.A, y_mat=receptor_mat.A, dist=dist, method=\"pearson\")\n",
    "local_sp = calculate_local_correlations(x_mat = ligand_mat.A, y_mat=receptor_mat.A, dist=dist, method=\"spearman\")"
   ]
  },
  {
   "cell_type": "code",
   "execution_count": 35,
   "id": "0eeb9d50",
   "metadata": {},
   "outputs": [
    {
     "data": {
      "text/plain": [
       "(4, 260)"
      ]
     },
     "execution_count": 35,
     "metadata": {},
     "output_type": "execute_result"
    }
   ],
   "source": [
    "local_pc.shape"
   ]
  },
  {
   "cell_type": "code",
   "execution_count": 36,
   "id": "700b6b47",
   "metadata": {},
   "outputs": [
    {
     "data": {
      "text/plain": [
       "(array([ 9., 25., 27., 37., 26., 43., 37., 35., 14.,  7.]),\n",
       " array([-0.58677485, -0.4509323 , -0.31508976, -0.17924721, -0.04340467,\n",
       "         0.09243788,  0.22828043,  0.36412297,  0.49996552,  0.63580806,\n",
       "         0.77165061]),\n",
       " <BarContainer object of 10 artists>)"
      ]
     },
     "execution_count": 36,
     "metadata": {},
     "output_type": "execute_result"
    },
    {
     "data": {
      "image/png": "[encoded data removed]",
      "text/plain": [
       "<Figure size 432x288 with 1 Axes>"
      ]
     },
     "metadata": {
      "needs_background": "light"
     },
     "output_type": "display_data"
    }
   ],
   "source": [
    "hist(local_pc[0,:])"
   ]
  },
  {
   "cell_type": "code",
   "execution_count": null,
   "id": "a7b6af6c",
   "metadata": {},
   "outputs": [],
   "source": []
  },
  {
   "cell_type": "code",
   "execution_count": null,
   "id": "2f609013",
   "metadata": {},
   "outputs": [],
   "source": []
  },
  {
   "attachments": {},
   "cell_type": "markdown",
   "id": "20c66314",
   "metadata": {},
   "source": [
    "local p-values"
   ]
  },
  {
   "cell_type": "code",
   "execution_count": 37,
   "id": "2d2a26c4",
   "metadata": {},
   "outputs": [],
   "source": [
    "from numpy import random\n",
    "from tqdm import tqdm"
   ]
  },
  {
   "cell_type": "code",
   "execution_count": 100,
   "id": "af430595",
   "metadata": {},
   "outputs": [],
   "source": [
    "rng = random.default_rng(0)\n",
    "n_perm = 1000\n",
    "positive_only = True # remove this option?"
   ]
  },
  {
   "cell_type": "code",
   "execution_count": 101,
   "id": "8bb8d8c3",
   "metadata": {},
   "outputs": [
    {
     "data": {
      "text/plain": [
       "(4, 260)"
      ]
     },
     "execution_count": 101,
     "metadata": {},
     "output_type": "execute_result"
    }
   ],
   "source": [
    "local_pc.shape"
   ]
  },
  {
   "cell_type": "code",
   "execution_count": 114,
   "id": "b9f0a2a7",
   "metadata": {},
   "outputs": [],
   "source": [
    "def _get_local_permutation_pvals(x_mat, y_mat, local_truth, function, dist, n_perm, positive_only=True, **kwargs):\n",
    "    xy_n = local_truth.shape[0]\n",
    "    spot_n = local_truth.shape[1]\n",
    "    \n",
    "    # permutation cubes to be populated\n",
    "    local_pvals = np.zeros((xy_n, spot_n))\n",
    "    \n",
    "    # shuffle the matrix\n",
    "    for i in tqdm(range(n_perm)):\n",
    "        _idx = rng.permutation(spot_n)\n",
    "        perm_r = function(x_mat = x_mat[:, _idx], y_mat=y_mat, dist=dist, **kwargs)\n",
    "        if positive_only:\n",
    "            local_pvals += np.array(perm_r >= local_truth, dtype=int)\n",
    "        else:\n",
    "            local_pvals += (np.array(np.abs(perm_r) >= np.abs(local_truth), dtype=int))\n",
    "\n",
    "    local_pvals = local_pvals / n_perm\n",
    "    \n",
    "    return local_pvals\n",
    "    "
   ]
  },
  {
   "cell_type": "code",
   "execution_count": 106,
   "id": "ff308c66",
   "metadata": {},
   "outputs": [
    {
     "name": "stderr",
     "output_type": "stream",
     "text": [
      "100%|██████████| 1000/1000 [00:01<00:00, 534.37it/s]\n"
     ]
    }
   ],
   "source": [
    "local_pvals = _get_local_permutation_pvals(ligand_mat.A, receptor_mat.A, local_pc, calculate_local_correlations, dist, n_perm, positive_only=True)"
   ]
  },
  {
   "cell_type": "code",
   "execution_count": 123,
   "id": "160df845",
   "metadata": {},
   "outputs": [],
   "source": [
    "from  scipy.sparse import csr_matrix"
   ]
  },
  {
   "cell_type": "code",
   "execution_count": null,
   "id": "f0d4453b",
   "metadata": {},
   "outputs": [],
   "source": []
  },
  {
   "cell_type": "code",
   "execution_count": null,
   "id": "fe424bbc",
   "metadata": {},
   "outputs": [],
   "source": []
  },
  {
   "cell_type": "code",
   "execution_count": 82,
   "id": "7c8b5359",
   "metadata": {},
   "outputs": [
    {
     "data": {
      "text/plain": [
       "(4, 260)"
      ]
     },
     "execution_count": 82,
     "metadata": {},
     "output_type": "execute_result"
    }
   ],
   "source": [
    "local_pc.shape"
   ]
  },
  {
   "cell_type": "code",
   "execution_count": 83,
   "id": "4e5f6f90",
   "metadata": {},
   "outputs": [
    {
     "data": {
      "text/plain": [
       "(4, 260)"
      ]
     },
     "execution_count": 83,
     "metadata": {},
     "output_type": "execute_result"
    }
   ],
   "source": [
    "local_pvals.shape"
   ]
  },
  {
   "cell_type": "code",
   "execution_count": null,
   "id": "89e44bc4",
   "metadata": {},
   "outputs": [],
   "source": []
  },
  {
   "cell_type": "code",
   "execution_count": 108,
   "id": "6ca94d98",
   "metadata": {},
   "outputs": [
    {
     "name": "stderr",
     "output_type": "stream",
     "text": [
      "100%|██████████| 100/100 [00:29<00:00,  3.43it/s]\n"
     ]
    }
   ],
   "source": [
    "local_masked_pvals = _get_local_permutation_pvals(ligand_mat.A, receptor_mat.A, masked_sp, calculate_masked_correlations, dist, 100, positive_only=True)"
   ]
  },
  {
   "cell_type": "code",
   "execution_count": 116,
   "id": "82286380",
   "metadata": {},
   "outputs": [
    {
     "data": {
      "text/plain": [
       "array([[ 0.14309412,  0.05121768,  0.25515995, ..., -0.06165649,\n",
       "        -0.43638704,  0.00177371],\n",
       "       [-0.10581333,  0.29360736,  0.04407926, ...,  0.14110754,\n",
       "         0.66784794,  0.14062116],\n",
       "       [ 0.22754111,  0.4422745 ,  0.23457444, ..., -0.52143721,\n",
       "         0.03018619,  0.27545886],\n",
       "       [ 0.85488609,  0.78266451,  0.85818871, ...,  0.45052658,\n",
       "         0.38507613,  0.84839006]])"
      ]
     },
     "execution_count": 116,
     "metadata": {},
     "output_type": "execute_result"
    }
   ],
   "source": [
    "masked_sp"
   ]
  },
  {
   "cell_type": "code",
   "execution_count": 110,
   "id": "693c03cb",
   "metadata": {},
   "outputs": [
    {
     "data": {
      "text/plain": [
       "(4, 260)"
      ]
     },
     "execution_count": 110,
     "metadata": {},
     "output_type": "execute_result"
    }
   ],
   "source": [
    "local_masked_pvals.shape"
   ]
  },
  {
   "cell_type": "code",
   "execution_count": null,
   "id": "46d37697",
   "metadata": {},
   "outputs": [],
   "source": []
  }
 ],
 "metadata": {
  "kernelspec": {
   "display_name": "liana-py",
   "language": "python",
   "name": "liana-py"
  },
  "language_info": {
   "codemirror_mode": {
    "name": "ipython",
    "version": 3
   },
   "file_extension": ".py",
   "mimetype": "text/x-python",
   "name": "python",
   "nbconvert_exporter": "python",
   "pygments_lexer": "ipython3",
   "version": "3.8.8"
  }
 },
 "nbformat": 4,
 "nbformat_minor": 5
}
