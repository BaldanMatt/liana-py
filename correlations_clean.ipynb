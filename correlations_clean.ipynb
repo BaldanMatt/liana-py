{
 "cells": [
  {
   "cell_type": "code",
   "execution_count": 32,
   "id": "afe4cf0d",
   "metadata": {},
   "outputs": [],
   "source": [
    "import numba as nb"
   ]
  },
  {
   "cell_type": "code",
   "execution_count": 33,
   "id": "153e7944-adbb-401e-914b-09c227dcfdea",
   "metadata": {},
   "outputs": [],
   "source": [
    "import squidpy as sq\n",
    "import scanpy as sc\n",
    "import pandas as pd\n",
    "import numpy as np\n",
    "from scipy.sparse import csr_matrix, isspmatrix_csr"
   ]
  },
  {
   "cell_type": "code",
   "execution_count": 34,
   "id": "cbb22f08-505c-4087-af67-84577d421f60",
   "metadata": {},
   "outputs": [],
   "source": [
    "import liana as li"
   ]
  },
  {
   "cell_type": "code",
   "execution_count": 35,
   "id": "4f0fe90c-bf2b-44b3-8798-8aaad0e402f1",
   "metadata": {},
   "outputs": [],
   "source": [
    "from matplotlib.pyplot import hist"
   ]
  },
  {
   "cell_type": "code",
   "execution_count": 36,
   "id": "22a8de43-4ff7-4e93-9056-e27ba4a0afef",
   "metadata": {},
   "outputs": [],
   "source": [
    "from liana.method._global_lr_pipe import _global_lr_pipe\n",
    "from liana.method.sp._spatialdm import _get_ordered_matrix, _standardize_matrix"
   ]
  },
  {
   "cell_type": "code",
   "execution_count": null,
   "id": "f29e53f0",
   "metadata": {},
   "outputs": [],
   "source": []
  },
  {
   "cell_type": "code",
   "execution_count": 37,
   "id": "a833a72a",
   "metadata": {},
   "outputs": [],
   "source": [
    "from liana.method.sp._bivariate_funs import _masked_coexpressions, _vectorized_correlations, _vectorized_wcosine, _vectorized_jaccard"
   ]
  },
  {
   "cell_type": "code",
   "execution_count": 38,
   "id": "8a5790dd",
   "metadata": {},
   "outputs": [],
   "source": [
    "from liana.method.sp._spatialdm import _local_morans, _standardize_matrix"
   ]
  },
  {
   "cell_type": "code",
   "execution_count": null,
   "id": "10a244df",
   "metadata": {},
   "outputs": [],
   "source": []
  },
  {
   "cell_type": "code",
   "execution_count": null,
   "id": "b9f16311-988d-4b04-b544-3b9ae80f0b71",
   "metadata": {},
   "outputs": [],
   "source": []
  },
  {
   "cell_type": "code",
   "execution_count": null,
   "id": "1caf6c62-a727-40c5-94a9-5d6dcd535c48",
   "metadata": {},
   "outputs": [],
   "source": [
    "# # scHOT data\n",
    "# counts = pd.read_csv(\"data/counts_mat.csv\")\n",
    "# weights = pd.read_csv(\"data/weight_mat.csv\")\n",
    "# var = pd.DataFrame(counts[['Unnamed: 0']]).set_index('Unnamed: 0')\n",
    "# var.index.name = None\n",
    "# adata = sc.AnnData(X=csr_matrix(counts.drop(counts.columns[0], axis=1), dtype=np.float32).T, var=var)\n",
    "# adata.obsm['proximity'] = csr_matrix(weights)"
   ]
  },
  {
   "cell_type": "code",
   "execution_count": null,
   "id": "a9f07752",
   "metadata": {},
   "outputs": [],
   "source": []
  },
  {
   "cell_type": "code",
   "execution_count": null,
   "id": "3b30f85e",
   "metadata": {},
   "outputs": [],
   "source": [
    "# scHOT data test\n",
    "adata = sc.read_h5ad(\"test_spatial.h5ad\")\n",
    "resource = pd.DataFrame({\"ligand\":[\"Dnm1l\", \"Arrb1\", \"Igf2\", \"Dnm1l\"], \"receptor\":[\"Gucy1b3\", \"Mtor\", \"Tuba1a\", \"Fam63b\"]})\n",
    "dist = adata.obsm['proximity']"
   ]
  },
  {
   "cell_type": "code",
   "execution_count": null,
   "id": "e6020530",
   "metadata": {},
   "outputs": [],
   "source": [
    "n_perm = 100\n",
    "seed = 0"
   ]
  },
  {
   "cell_type": "code",
   "execution_count": null,
   "id": "58cb788f",
   "metadata": {},
   "outputs": [],
   "source": []
  },
  {
   "cell_type": "code",
   "execution_count": null,
   "id": "442d2fdf",
   "metadata": {},
   "outputs": [],
   "source": [
    "# full visium slide\n",
    "# load the pre-processed dataset\n",
    "img = sq.datasets.visium_hne_image()\n",
    "adata = sq.datasets.visium_hne_adata()\n",
    "\n",
    "li.mt.get_spatial_proximity(adata=adata, parameter=200, bypass_diagonal=False, cutoff=0.1, family=\"exponential\")\n",
    "dist = adata.obsm['proximity']\n",
    "\n",
    "my_p = li.pl.proximity_plot(adata, idx=100)\n",
    "resource = li.resource.select_resource(\"mouseconsensus\")"
   ]
  },
  {
   "cell_type": "code",
   "execution_count": null,
   "id": "a4aac8f6",
   "metadata": {},
   "outputs": [],
   "source": []
  },
  {
   "cell_type": "code",
   "execution_count": null,
   "id": "9b2eae96-cedb-44e6-b9b1-e122bba505bb",
   "metadata": {},
   "outputs": [],
   "source": [
    "temp, lr_res, ligand_pos, receptor_pos = _global_lr_pipe(adata=adata,\n",
    "                                                         resource=resource,\n",
    "                                                         expr_prop=0.05,\n",
    "                                                         use_raw=False,\n",
    "                                                         verbose=True,\n",
    "                                                         layer=None,\n",
    "                                                         _key_cols=['ligand_complex', 'receptor_complex'],\n",
    "                                                         _complex_cols=['ligand_means', 'receptor_means'],\n",
    "                                                         _obms_keys=['proximity'],\n",
    "                                                         resource_name=None\n",
    "                                                         )"
   ]
  },
  {
   "cell_type": "code",
   "execution_count": null,
   "id": "22989614",
   "metadata": {},
   "outputs": [],
   "source": [
    "# lr_res = lr_res.head(50)"
   ]
  },
  {
   "cell_type": "code",
   "execution_count": null,
   "id": "76acd258",
   "metadata": {},
   "outputs": [],
   "source": [
    "x_mat = _get_ordered_matrix(temp.X, ligand_pos, lr_res.ligand).A.astype(np.float64).T\n",
    "y_mat = _get_ordered_matrix(temp.X, receptor_pos, lr_res.receptor).A.astype(np.float64).T"
   ]
  },
  {
   "cell_type": "code",
   "execution_count": null,
   "id": "ee5c3bc9",
   "metadata": {},
   "outputs": [],
   "source": [
    "lr_res.head()"
   ]
  },
  {
   "cell_type": "code",
   "execution_count": null,
   "id": "5b7c9963",
   "metadata": {},
   "outputs": [],
   "source": []
  },
  {
   "cell_type": "code",
   "execution_count": null,
   "id": "bbc70571",
   "metadata": {},
   "outputs": [],
   "source": [
    "dist = adata.obsm['proximity']\n",
    "weight = dist.A.astype(np.float64)"
   ]
  },
  {
   "cell_type": "code",
   "execution_count": null,
   "id": "c8ef8003",
   "metadata": {},
   "outputs": [],
   "source": []
  },
  {
   "cell_type": "code",
   "execution_count": null,
   "id": "58a369b7",
   "metadata": {},
   "outputs": [],
   "source": [
    "%%time\n",
    "masked_pc = _masked_coexpressions(x_mat, y_mat, weight, weight_thr=0.0, method=0)"
   ]
  },
  {
   "cell_type": "code",
   "execution_count": null,
   "id": "be73ea4e",
   "metadata": {},
   "outputs": [],
   "source": [
    "%%time\n",
    "masked_sp = _masked_coexpressions(x_mat, y_mat, weight, weight_thr=0.0, method=1)"
   ]
  },
  {
   "cell_type": "code",
   "execution_count": null,
   "id": "86eb5c2b",
   "metadata": {},
   "outputs": [],
   "source": [
    "masked_pc"
   ]
  },
  {
   "cell_type": "code",
   "execution_count": null,
   "id": "0d7362ee",
   "metadata": {},
   "outputs": [],
   "source": [
    "masked_sp"
   ]
  },
  {
   "cell_type": "code",
   "execution_count": null,
   "metadata": {},
   "outputs": [],
   "source": []
  },
  {
   "cell_type": "code",
   "execution_count": null,
   "id": "de5cd3ce",
   "metadata": {},
   "outputs": [],
   "source": []
  },
  {
   "attachments": {},
   "cell_type": "markdown",
   "id": "0afdf754",
   "metadata": {},
   "source": [
    "Fully-vectorized"
   ]
  },
  {
   "cell_type": "code",
   "execution_count": 39,
   "id": "153e7944-adbb-401e-914b-09c227dcfdea",
   "metadata": {},
   "outputs": [],
   "source": [
    "import squidpy as sq\n",
    "import scanpy as sc\n",
    "import pandas as pd\n",
    "import numpy as np\n",
    "from scipy.sparse import csr_matrix, isspmatrix_csr"
   ]
  },
  {
   "cell_type": "code",
   "execution_count": 40,
   "id": "cbb22f08-505c-4087-af67-84577d421f60",
   "metadata": {},
   "outputs": [],
   "source": [
    "import liana as li"
   ]
  },
  {
   "cell_type": "code",
   "execution_count": 41,
   "id": "4f0fe90c-bf2b-44b3-8798-8aaad0e402f1",
   "metadata": {},
   "outputs": [],
   "source": [
    "from matplotlib.pyplot import hist\n",
    "from scipy.stats import spearmanr, pearsonr"
   ]
  },
  {
   "cell_type": "code",
   "execution_count": 42,
   "id": "5e601378",
   "metadata": {},
   "outputs": [],
   "source": [
    "from liana.method._global_lr_pipe import _global_lr_pipe\n",
    "from liana.method.sp._spatialdm import _get_ordered_matrix, _standardize_matrix"
   ]
  },
  {
   "cell_type": "code",
   "execution_count": null,
   "id": "9860d383",
   "metadata": {},
   "outputs": [],
   "source": []
  },
  {
   "cell_type": "code",
   "execution_count": 43,
   "id": "0e95b8ba",
   "metadata": {},
   "outputs": [],
   "source": [
    "# ligand-receptor mats\n",
    "ligand_mat = _get_ordered_matrix(temp.X, ligand_pos, lr_res.ligand).T\n",
    "receptor_mat = _get_ordered_matrix(temp.X, receptor_pos, lr_res.receptor).T"
   ]
  },
  {
   "cell_type": "code",
   "execution_count": null,
   "id": "12525e47",
   "metadata": {},
   "outputs": [],
   "source": []
  },
  {
   "cell_type": "code",
   "execution_count": 44,
   "id": "58b651b6",
   "metadata": {},
   "outputs": [],
   "source": [
    "dist = adata.obsm['proximity']"
   ]
  },
  {
   "cell_type": "code",
   "execution_count": 45,
   "id": "297b3e2d",
   "metadata": {},
   "outputs": [],
   "source": [
    "local_pc = _vectorized_correlations(x_mat = ligand_mat.A, y_mat=receptor_mat.A, dist=dist, method=\"pearson\")"
   ]
  },
  {
   "cell_type": "code",
   "execution_count": 46,
   "id": "b37b960a",
   "metadata": {},
   "outputs": [],
   "source": [
    "local_sp = _vectorized_correlations(x_mat = ligand_mat.A, y_mat=receptor_mat.A, dist=dist, method=\"spearman\")"
   ]
  },
  {
   "cell_type": "code",
   "execution_count": 47,
   "id": "49c6a9ce",
   "metadata": {},
   "outputs": [],
   "source": [
    "local_cos = _vectorized_wcosine(x_mat = ligand_mat.A, y_mat=receptor_mat.A, dist=dist)"
   ]
  },
  {
   "cell_type": "code",
   "execution_count": 48,
   "id": "3691d7fa",
   "metadata": {},
   "outputs": [],
   "source": [
    "local_jc = _vectorized_jaccard(x_mat = ligand_mat.A, y_mat=receptor_mat.A, dist=dist)"
   ]
  },
  {
   "cell_type": "code",
   "execution_count": null,
   "id": "8aba5c1c",
   "metadata": {},
   "outputs": [],
   "source": []
  },
  {
   "cell_type": "code",
   "execution_count": null,
   "id": "77656e41",
   "metadata": {},
   "outputs": [],
   "source": []
  },
  {
   "cell_type": "code",
   "execution_count": 66,
   "id": "1a607463",
   "metadata": {},
   "outputs": [],
   "source": [
    "ligand_mat = _get_ordered_matrix(temp.X, ligand_pos, lr_res.ligand).T\n",
    "receptor_mat = _get_ordered_matrix(temp.X, receptor_pos, lr_res.receptor).T"
   ]
  },
  {
   "cell_type": "code",
   "execution_count": 67,
   "id": "3478efdc",
   "metadata": {},
   "outputs": [],
   "source": [
    "# if spatial DM: standardize & calculate norm factor\n",
    "ligand_mat = _standardize_matrix(ligand_mat, local=True)\n",
    "receptor_mat = _standardize_matrix(receptor_mat, local=True)"
   ]
  },
  {
   "cell_type": "code",
   "execution_count": 68,
   "id": "f7b300cb",
   "metadata": {},
   "outputs": [],
   "source": [
    "norm_factor = temp.obsm['proximity'].shape[0] / temp.obsm['proximity'].sum()\n",
    "dist = csr_matrix(norm_factor * temp.obsm['proximity'])"
   ]
  },
  {
   "cell_type": "code",
   "execution_count": 69,
   "id": "d539cdf9",
   "metadata": {},
   "outputs": [],
   "source": [
    "local_r = _local_morans(x_mat = ligand_mat, y_mat=receptor_mat, dist=dist)"
   ]
  },
  {
   "cell_type": "code",
   "execution_count": 76,
   "id": "a9362aae",
   "metadata": {},
   "outputs": [
    {
     "data": {
      "text/plain": [
       "array([[-1.31601786,  0.09108513,  0.19667045, ...,  0.01102248,\n",
       "         0.02195861,  0.01416014],\n",
       "       [-1.41772597,  0.10259609,  0.32585438, ...,  0.00552196,\n",
       "        -0.02893247, -0.83329622],\n",
       "       [-1.66266239,  0.52212755,  1.58267848, ...,  0.21773563,\n",
       "         0.30884862, -1.12790739],\n",
       "       [ 0.11439858, -0.01571357,  0.04996999, ..., -0.10334864,\n",
       "        -0.0432732 , -0.00971188]])"
      ]
     },
     "execution_count": 76,
     "metadata": {},
     "output_type": "execute_result"
    }
   ],
   "source": [
    "local_r"
   ]
  },
  {
   "cell_type": "code",
   "execution_count": null,
   "id": "70c11ead",
   "metadata": {},
   "outputs": [],
   "source": []
  },
  {
   "cell_type": "code",
   "execution_count": null,
   "id": "bb444ddf",
   "metadata": {},
   "outputs": [],
   "source": []
  },
  {
   "cell_type": "code",
   "execution_count": null,
   "id": "cd6ff575",
   "metadata": {},
   "outputs": [],
   "source": [
    "local_r"
   ]
  },
  {
   "cell_type": "code",
   "execution_count": null,
   "id": "9767868f",
   "metadata": {},
   "outputs": [],
   "source": []
  },
  {
   "cell_type": "code",
   "execution_count": null,
   "id": "dac4ba2a",
   "metadata": {},
   "outputs": [],
   "source": [
    "from liana.method.sp._spatial_utils import _local_permutation_pvals"
   ]
  },
  {
   "cell_type": "code",
   "execution_count": null,
   "id": "ff308c66",
   "metadata": {},
   "outputs": [],
   "source": [
    "%%time\n",
    "local_pc_pvals = _local_permutation_pvals(x_mat = ligand_mat.A, \n",
    "                                          y_mat = receptor_mat.A, \n",
    "                                          local_truth=local_pc,\n",
    "                                          local_fun=_vectorized_correlations,\n",
    "                                          dist=dist, \n",
    "                                          n_perm=n_perm, \n",
    "                                          positive_only=False,\n",
    "                                          seed=seed)"
   ]
  },
  {
   "cell_type": "code",
   "execution_count": null,
   "id": "7d34d9f6",
   "metadata": {},
   "outputs": [],
   "source": [
    "local_pc_pvals"
   ]
  },
  {
   "cell_type": "code",
   "execution_count": null,
   "id": "b4a05f78",
   "metadata": {},
   "outputs": [],
   "source": []
  },
  {
   "cell_type": "code",
   "execution_count": null,
   "id": "74a63b84",
   "metadata": {},
   "outputs": [],
   "source": [
    "local_sp = _vectorized_correlations(x_mat = ligand_mat.A, y_mat=receptor_mat.A, dist=dist, method=\"spearman\")"
   ]
  },
  {
   "cell_type": "code",
   "execution_count": null,
   "id": "95ed049d",
   "metadata": {},
   "outputs": [],
   "source": [
    "local_sp_pvals = _local_permutation_pvals(x_mat = ligand_mat.A, \n",
    "                                          y_mat = receptor_mat.A, \n",
    "                                          local_truth=local_sp,\n",
    "                                          local_fun=_vectorized_correlations,\n",
    "                                          dist=dist, \n",
    "                                          n_perm=n_perm, \n",
    "                                          positive_only=False,\n",
    "                                          seed=seed,\n",
    "                                          method=\"spearman\"\n",
    "                                          )"
   ]
  },
  {
   "cell_type": "code",
   "execution_count": null,
   "id": "03c9a907",
   "metadata": {},
   "outputs": [],
   "source": [
    "local_sp_pvals.shape"
   ]
  },
  {
   "cell_type": "code",
   "execution_count": null,
   "id": "1dfb8b1c",
   "metadata": {},
   "outputs": [],
   "source": [
    "spearmanr(local_sp_pvals[1,:], local_pc_pvals[1,:])"
   ]
  },
  {
   "cell_type": "code",
   "execution_count": null,
   "id": "5c15a179",
   "metadata": {},
   "outputs": [],
   "source": []
  },
  {
   "cell_type": "code",
   "execution_count": null,
   "id": "3c0dd963",
   "metadata": {},
   "outputs": [],
   "source": []
  },
  {
   "attachments": {},
   "cell_type": "markdown",
   "id": "2ab31991",
   "metadata": {},
   "source": [
    "Global summary of the local scores:"
   ]
  },
  {
   "cell_type": "code",
   "execution_count": null,
   "id": "b07ef553",
   "metadata": {},
   "outputs": [],
   "source": [
    "lr_res.loc[:,['pearson_mean','pearson_sd']] = np.vstack([np.mean(local_pc, axis=1), np.std(local_pc, axis=1)]).T"
   ]
  },
  {
   "cell_type": "code",
   "execution_count": null,
   "id": "4575407e",
   "metadata": {},
   "outputs": [],
   "source": [
    "lr_res.sort_values(by='pearson_mean', ascending=False)"
   ]
  },
  {
   "cell_type": "code",
   "execution_count": null,
   "id": "559a56f7",
   "metadata": {},
   "outputs": [],
   "source": []
  },
  {
   "attachments": {},
   "cell_type": "markdown",
   "id": "e642e142",
   "metadata": {},
   "source": [
    "Plot to check the distribution of the local scores:"
   ]
  },
  {
   "cell_type": "code",
   "execution_count": null,
   "id": "a7c74f36",
   "metadata": {},
   "outputs": [],
   "source": [
    "from liana.method.sp._spatialdm import spatialdm"
   ]
  },
  {
   "cell_type": "code",
   "execution_count": null,
   "id": "31228a8d",
   "metadata": {},
   "outputs": [],
   "source": [
    "spatialdm(adata=adata, resource_name=\"MouseConsensus\", pvalue_method='analytical', verbose=True, use_raw=False)"
   ]
  },
  {
   "cell_type": "code",
   "execution_count": null,
   "id": "f472d541",
   "metadata": {},
   "outputs": [],
   "source": [
    "local_pvals = li.ut.obsm_to_adata(adata, obsm_key='local_pvals')"
   ]
  },
  {
   "cell_type": "code",
   "execution_count": null,
   "id": "f2ed715f",
   "metadata": {},
   "outputs": [],
   "source": [
    "local_r = li.ut.obsm_to_adata(adata, obsm_key='local_r')"
   ]
  },
  {
   "cell_type": "code",
   "execution_count": null,
   "id": "ebdedf3f",
   "metadata": {},
   "outputs": [],
   "source": [
    "sc.pl.spatial(local_pvals, color=['Sema4d&Plxnb3'])"
   ]
  },
  {
   "cell_type": "code",
   "execution_count": null,
   "id": "db96374a",
   "metadata": {},
   "outputs": [],
   "source": [
    "sc.pl.spatial(local_r, color=['Sema4d&Plxnb3'])"
   ]
  },
  {
   "cell_type": "code",
   "execution_count": null,
   "id": "07bcb9a8",
   "metadata": {},
   "outputs": [],
   "source": [
    "adata.obsm['local_r']"
   ]
  },
  {
   "cell_type": "code",
   "execution_count": null,
   "id": "2b9a57dc",
   "metadata": {},
   "outputs": [],
   "source": [
    "def embed_score_to_adata(adata, score, score_name):\n",
    "    score =  pd.DataFrame(score,\n",
    "                          columns=adata.obsm['local_r'].columns,\n",
    "                          index=adata.obsm['local_r'].index)\n",
    "    adata.obsm[score_name] = score"
   ]
  },
  {
   "cell_type": "code",
   "execution_count": null,
   "id": "99d53858",
   "metadata": {},
   "outputs": [],
   "source": [
    "# Masked Pearson correlation\n",
    "embed_score_to_adata(adata, masked_pc, 'masked_pc')\n",
    "\n",
    "# Vectorized Pearson correlation\n",
    "embed_score_to_adata(adata, local_pc.T, 'local_pc')"
   ]
  },
  {
   "cell_type": "code",
   "execution_count": null,
   "id": "5b4b0d32",
   "metadata": {},
   "outputs": [],
   "source": [
    "# Masked Spearman correlation\n",
    "embed_score_to_adata(adata, masked_sp, 'masked_sp')\n",
    "# Vectorized Spearman correlation\n",
    "embed_score_to_adata(adata, local_sp.T, 'local_sp')"
   ]
  },
  {
   "cell_type": "code",
   "execution_count": null,
   "id": "480b66d9",
   "metadata": {},
   "outputs": [],
   "source": [
    "# Vectorized Jaccard index\n",
    "embed_score_to_adata(adata, local_jc.T, 'local_jc')"
   ]
  },
  {
   "cell_type": "code",
   "execution_count": null,
   "id": "8059438a",
   "metadata": {},
   "outputs": [],
   "source": [
    "# Vectorized Cosine similarity\n",
    "embed_score_to_adata(adata, local_cos.T, 'local_cos')"
   ]
  },
  {
   "attachments": {},
   "cell_type": "markdown",
   "id": "10626cec",
   "metadata": {},
   "source": [
    "Plot to check the distribution of the local scores:"
   ]
  },
  {
   "cell_type": "code",
   "execution_count": null,
   "id": "18b35893",
   "metadata": {},
   "outputs": [],
   "source": [
    "sc.pl.spatial(adata, color=['Sema4d', 'Plxnb3'], use_raw=False)"
   ]
  },
  {
   "cell_type": "code",
   "execution_count": null,
   "id": "175b0e5f",
   "metadata": {},
   "outputs": [],
   "source": [
    "local_r = li.ut.obsm_to_adata(adata, obsm_key='local_r')\n",
    "sc.pl.spatial(local_r, color=['Sema4d&Plxnb3'])"
   ]
  },
  {
   "cell_type": "code",
   "execution_count": null,
   "id": "10687298",
   "metadata": {},
   "outputs": [],
   "source": [
    "sc.pl.spatial(local_pvals, color=['Sema4d&Plxnb3'], cmap='viridis_r')"
   ]
  },
  {
   "cell_type": "code",
   "execution_count": null,
   "id": "8e8e032c",
   "metadata": {},
   "outputs": [],
   "source": []
  },
  {
   "attachments": {},
   "cell_type": "markdown",
   "id": "4c508200",
   "metadata": {},
   "source": [
    "Pearson"
   ]
  },
  {
   "cell_type": "code",
   "execution_count": null,
   "id": "5f232164",
   "metadata": {},
   "outputs": [],
   "source": [
    "masked_pc = li.ut.obsm_to_adata(adata, obsm_key='masked_pc')\n",
    "sc.pl.spatial(masked_pc, color=['Sema4d&Plxnb3'])"
   ]
  },
  {
   "cell_type": "code",
   "execution_count": null,
   "id": "c9169ec0",
   "metadata": {},
   "outputs": [],
   "source": [
    "np.average(masked_pc.X)"
   ]
  },
  {
   "cell_type": "code",
   "execution_count": null,
   "id": "98dfd551",
   "metadata": {},
   "outputs": [],
   "source": [
    "local_pc = li.ut.obsm_to_adata(adata, obsm_key='local_pc')\n",
    "sc.pl.spatial(local_pc, color=['Sema4d&Plxnb3'])"
   ]
  },
  {
   "cell_type": "code",
   "execution_count": null,
   "id": "c0f7d5ff",
   "metadata": {},
   "outputs": [],
   "source": [
    "np.average(local_pc.X)"
   ]
  },
  {
   "cell_type": "code",
   "execution_count": null,
   "id": "2d241405",
   "metadata": {},
   "outputs": [],
   "source": []
  },
  {
   "cell_type": "code",
   "execution_count": null,
   "id": "664c739f",
   "metadata": {},
   "outputs": [],
   "source": [
    "local_sp = li.ut.obsm_to_adata(adata, obsm_key='local_sp')\n",
    "sc.pl.spatial(local_sp, color=['Sema4d&Plxnb3'])"
   ]
  },
  {
   "cell_type": "code",
   "execution_count": null,
   "id": "6effa790",
   "metadata": {},
   "outputs": [],
   "source": [
    "masked_sp = li.ut.obsm_to_adata(adata, obsm_key='masked_sp')\n",
    "sc.pl.spatial(masked_sp, color=['Sema4d&Plxnb3'])"
   ]
  },
  {
   "cell_type": "code",
   "execution_count": null,
   "id": "be5c7f43",
   "metadata": {},
   "outputs": [],
   "source": []
  },
  {
   "attachments": {},
   "cell_type": "markdown",
   "id": "9464fdf2",
   "metadata": {},
   "source": [
    "Jaccard"
   ]
  },
  {
   "cell_type": "code",
   "execution_count": null,
   "id": "a5f60835",
   "metadata": {},
   "outputs": [],
   "source": [
    "local_jc = li.ut.obsm_to_adata(adata, obsm_key='local_jc')\n",
    "sc.pl.spatial(local_jc, color=['Sema4d&Plxnb3'])"
   ]
  },
  {
   "cell_type": "code",
   "execution_count": null,
   "id": "724183aa",
   "metadata": {},
   "outputs": [],
   "source": []
  },
  {
   "attachments": {},
   "cell_type": "markdown",
   "id": "da8a171a",
   "metadata": {},
   "source": [
    "Cosine"
   ]
  },
  {
   "cell_type": "code",
   "execution_count": null,
   "id": "3c6aa06c",
   "metadata": {},
   "outputs": [],
   "source": [
    "local_cos = li.ut.obsm_to_adata(adata, obsm_key='local_cos')\n",
    "sc.pl.spatial(local_cos, color=['Sema4d&Plxnb3'])"
   ]
  },
  {
   "cell_type": "code",
   "execution_count": null,
   "id": "2178ce30",
   "metadata": {},
   "outputs": [],
   "source": []
  },
  {
   "attachments": {},
   "cell_type": "markdown",
   "id": "dadc00ff",
   "metadata": {},
   "source": [
    "Pvals"
   ]
  },
  {
   "cell_type": "code",
   "execution_count": null,
   "id": "8a7ab7f4",
   "metadata": {},
   "outputs": [],
   "source": [
    "embed_score_to_adata(adata, local_pc_pvals.T, 'local_pc_pvals')\n",
    "local_pc_pvals = li.ut.obsm_to_adata(adata, obsm_key='local_pc_pvals')"
   ]
  },
  {
   "cell_type": "code",
   "execution_count": null,
   "id": "8d5062ec",
   "metadata": {},
   "outputs": [],
   "source": [
    "sc.pl.spatial(local_pc_pvals, color=['Sema4d&Plxnb3'], cmap='viridis_r')"
   ]
  },
  {
   "cell_type": "code",
   "execution_count": null,
   "id": "afe30172",
   "metadata": {},
   "outputs": [],
   "source": [
    "# LASSO regression on each spot?"
   ]
  },
  {
   "cell_type": "code",
   "execution_count": null,
   "id": "a13027f3",
   "metadata": {},
   "outputs": [],
   "source": []
  }
 ],
 "metadata": {
  "kernelspec": {
   "display_name": "liana-spatial",
   "language": "python",
   "name": "python3"
  },
  "language_info": {
   "codemirror_mode": {
    "name": "ipython",
    "version": 3
   },
   "file_extension": ".py",
   "mimetype": "text/x-python",
   "name": "python",
   "nbconvert_exporter": "python",
   "pygments_lexer": "ipython3",
   "version": "3.10.9"
  },
  "vscode": {
   "interpreter": {
    "hash": "f753bcce54bffd886a1918c0ed127797462060055a319cf64929de73ccbfe1e9"
   }
  }
 },
 "nbformat": 4,
 "nbformat_minor": 5
}
