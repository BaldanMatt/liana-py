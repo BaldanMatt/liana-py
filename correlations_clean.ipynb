{
 "cells": [
  {
   "cell_type": "code",
   "execution_count": 90,
   "id": "153e7944-adbb-401e-914b-09c227dcfdea",
   "metadata": {},
   "outputs": [],
   "source": [
    "import squidpy as sq\n",
    "import scanpy as sc\n",
    "import pandas as pd\n",
    "import numpy as np\n",
    "from scipy.sparse import csr_matrix, isspmatrix_csr"
   ]
  },
  {
   "cell_type": "code",
   "execution_count": 91,
   "id": "cbb22f08-505c-4087-af67-84577d421f60",
   "metadata": {},
   "outputs": [],
   "source": [
    "import liana as li"
   ]
  },
  {
   "cell_type": "code",
   "execution_count": 92,
   "id": "4f0fe90c-bf2b-44b3-8798-8aaad0e402f1",
   "metadata": {},
   "outputs": [],
   "source": [
    "from matplotlib.pyplot import hist"
   ]
  },
  {
   "cell_type": "code",
   "execution_count": null,
   "id": "26a5283a-40e1-4441-828f-729247354e00",
   "metadata": {},
   "outputs": [],
   "source": []
  },
  {
   "cell_type": "code",
   "execution_count": 93,
   "id": "b9f16311-988d-4b04-b544-3b9ae80f0b71",
   "metadata": {},
   "outputs": [],
   "source": [
    "counts = pd.read_csv(\"data/counts_mat.csv\")\n",
    "weights = pd.read_csv(\"data/weight_mat.csv\")"
   ]
  },
  {
   "cell_type": "code",
   "execution_count": 94,
   "id": "1caf6c62-a727-40c5-94a9-5d6dcd535c48",
   "metadata": {},
   "outputs": [],
   "source": [
    "var = pd.DataFrame(counts[['Unnamed: 0']]).set_index('Unnamed: 0')\n",
    "var.index.name = None"
   ]
  },
  {
   "cell_type": "code",
   "execution_count": 95,
   "id": "740b5fad-7447-4eef-ba35-6ef5e028da17",
   "metadata": {},
   "outputs": [],
   "source": [
    "adata = sc.AnnData(X=csr_matrix(counts.drop(counts.columns[0], axis=1), dtype=np.float32).T, var=var)"
   ]
  },
  {
   "cell_type": "code",
   "execution_count": 96,
   "id": "bb9f37d6-da59-44ca-b304-222329b21237",
   "metadata": {},
   "outputs": [],
   "source": [
    "adata.obsm['proximity'] = csr_matrix(weights)"
   ]
  },
  {
   "cell_type": "code",
   "execution_count": null,
   "id": "10c311ac-b3a1-49fe-a054-83fb41aeb5e3",
   "metadata": {},
   "outputs": [],
   "source": []
  },
  {
   "cell_type": "code",
   "execution_count": 97,
   "id": "22a8de43-4ff7-4e93-9056-e27ba4a0afef",
   "metadata": {},
   "outputs": [],
   "source": [
    "from liana.method._global_lr_pipe import _global_lr_pipe\n",
    "from liana.method.sp._spatialdm import _get_ordered_matrix, _standardize_matrix"
   ]
  },
  {
   "cell_type": "code",
   "execution_count": null,
   "id": "76f1b690-891f-4949-9517-1957108b80e9",
   "metadata": {},
   "outputs": [],
   "source": []
  },
  {
   "cell_type": "code",
   "execution_count": 98,
   "id": "34109760-a362-41ca-8931-6658aa6d0223",
   "metadata": {},
   "outputs": [
    {
     "data": {
      "text/plain": [
       "AnnData object with n_obs × n_vars = 260 × 43\n",
       "    obsm: 'proximity'"
      ]
     },
     "execution_count": 98,
     "metadata": {},
     "output_type": "execute_result"
    }
   ],
   "source": [
    "adata"
   ]
  },
  {
   "cell_type": "code",
   "execution_count": 99,
   "id": "c8fee01a-7e7a-4556-9c54-77a671b0a735",
   "metadata": {},
   "outputs": [],
   "source": [
    "resource = pd.DataFrame({\"ligand\":[\"Dnm1l\", \"Arrb1\", \"Igf2\"], \"receptor\":[\"Gucy1b3\", \"Mtor\", \"Tuba1a\"]})"
   ]
  },
  {
   "cell_type": "code",
   "execution_count": null,
   "id": "43b18c02-ee7c-4980-8ec7-9da7418b0676",
   "metadata": {},
   "outputs": [],
   "source": []
  },
  {
   "cell_type": "code",
   "execution_count": 100,
   "id": "9b2eae96-cedb-44e6-b9b1-e122bba505bb",
   "metadata": {},
   "outputs": [
    {
     "name": "stdout",
     "output_type": "stream",
     "text": [
      "Using `.X`!\n",
      "Converting mat to CSR format\n"
     ]
    }
   ],
   "source": [
    "temp, lr_res, ligand_pos, receptor_pos = _global_lr_pipe(adata=adata,\n",
    "                                                         resource=resource,\n",
    "                                                         expr_prop=0.05,\n",
    "                                                         use_raw=False,\n",
    "                                                         verbose=True,\n",
    "                                                         layer=None,\n",
    "                                                         _key_cols=['ligand_complex', 'receptor_complex'],\n",
    "                                                         _complex_cols=['ligand_means', 'receptor_means'],\n",
    "                                                         _obms_keys=['proximity'],\n",
    "                                                         resource_name=None\n",
    "                                                         )"
   ]
  },
  {
   "cell_type": "code",
   "execution_count": 101,
   "id": "5801b031-bfdc-4712-8191-26c88d7d6d59",
   "metadata": {},
   "outputs": [
    {
     "data": {
      "text/html": [
       "<div>\n",
       "<style scoped>\n",
       "    .dataframe tbody tr th:only-of-type {\n",
       "        vertical-align: middle;\n",
       "    }\n",
       "\n",
       "    .dataframe tbody tr th {\n",
       "        vertical-align: top;\n",
       "    }\n",
       "\n",
       "    .dataframe thead th {\n",
       "        text-align: right;\n",
       "    }\n",
       "</style>\n",
       "<table border=\"1\" class=\"dataframe\">\n",
       "  <thead>\n",
       "    <tr style=\"text-align: right;\">\n",
       "      <th></th>\n",
       "      <th>interaction</th>\n",
       "      <th>ligand</th>\n",
       "      <th>receptor</th>\n",
       "      <th>ligand_complex</th>\n",
       "      <th>receptor_complex</th>\n",
       "      <th>ligand_means</th>\n",
       "      <th>ligand_props</th>\n",
       "      <th>receptor_means</th>\n",
       "      <th>receptor_props</th>\n",
       "      <th>prop_min</th>\n",
       "    </tr>\n",
       "  </thead>\n",
       "  <tbody>\n",
       "    <tr>\n",
       "      <th>0</th>\n",
       "      <td>Dnm1l&amp;Gucy1b3</td>\n",
       "      <td>Dnm1l</td>\n",
       "      <td>Gucy1b3</td>\n",
       "      <td>Dnm1l</td>\n",
       "      <td>Gucy1b3</td>\n",
       "      <td>2.682889</td>\n",
       "      <td>0.950000</td>\n",
       "      <td>3.117442</td>\n",
       "      <td>0.976923</td>\n",
       "      <td>0.950000</td>\n",
       "    </tr>\n",
       "    <tr>\n",
       "      <th>1</th>\n",
       "      <td>Arrb1&amp;Mtor</td>\n",
       "      <td>Arrb1</td>\n",
       "      <td>Mtor</td>\n",
       "      <td>Arrb1</td>\n",
       "      <td>Mtor</td>\n",
       "      <td>2.665413</td>\n",
       "      <td>0.957692</td>\n",
       "      <td>2.298451</td>\n",
       "      <td>0.907692</td>\n",
       "      <td>0.907692</td>\n",
       "    </tr>\n",
       "    <tr>\n",
       "      <th>2</th>\n",
       "      <td>Igf2&amp;Tuba1a</td>\n",
       "      <td>Igf2</td>\n",
       "      <td>Tuba1a</td>\n",
       "      <td>Igf2</td>\n",
       "      <td>Tuba1a</td>\n",
       "      <td>1.924077</td>\n",
       "      <td>0.892308</td>\n",
       "      <td>6.466562</td>\n",
       "      <td>1.000000</td>\n",
       "      <td>0.892308</td>\n",
       "    </tr>\n",
       "  </tbody>\n",
       "</table>\n",
       "</div>"
      ],
      "text/plain": [
       "     interaction ligand receptor ligand_complex receptor_complex  \\\n",
       "0  Dnm1l&Gucy1b3  Dnm1l  Gucy1b3          Dnm1l          Gucy1b3   \n",
       "1     Arrb1&Mtor  Arrb1     Mtor          Arrb1             Mtor   \n",
       "2    Igf2&Tuba1a   Igf2   Tuba1a           Igf2           Tuba1a   \n",
       "\n",
       "   ligand_means  ligand_props  receptor_means  receptor_props  prop_min  \n",
       "0      2.682889      0.950000        3.117442        0.976923  0.950000  \n",
       "1      2.665413      0.957692        2.298451        0.907692  0.907692  \n",
       "2      1.924077      0.892308        6.466562        1.000000  0.892308  "
      ]
     },
     "execution_count": 101,
     "metadata": {},
     "output_type": "execute_result"
    }
   ],
   "source": [
    "lr_res"
   ]
  },
  {
   "cell_type": "code",
   "execution_count": null,
   "id": "79c3025f-5d31-475b-85fb-8228c82fc7da",
   "metadata": {},
   "outputs": [],
   "source": []
  },
  {
   "cell_type": "markdown",
   "id": "f9b53bf1-be2e-4441-9833-99a17a48c3f7",
   "metadata": {},
   "source": [
    "Correlations"
   ]
  },
  {
   "cell_type": "code",
   "execution_count": 102,
   "id": "09576b07-eb28-4dab-84f4-0917ac4ebb8e",
   "metadata": {},
   "outputs": [],
   "source": [
    "ligand_mat = _get_ordered_matrix(temp.X, ligand_pos, lr_res.ligand)\n",
    "receptor_mat = _get_ordered_matrix(temp.X, receptor_pos, lr_res.receptor)"
   ]
  },
  {
   "cell_type": "code",
   "execution_count": 103,
   "id": "387a8e8d-f051-49b3-b7ef-c2990d247d83",
   "metadata": {},
   "outputs": [],
   "source": [
    "x, y = ligand_mat[0, :].A.flatten(), receptor_mat[0, :].A.flatten()"
   ]
  },
  {
   "cell_type": "code",
   "execution_count": 104,
   "id": "1b518623-87e5-448c-87f2-18360735fe35",
   "metadata": {},
   "outputs": [],
   "source": [
    "from scipy.stats import spearmanr, pearsonr, pointbiserialr, kendalltau"
   ]
  },
  {
   "cell_type": "code",
   "execution_count": 105,
   "id": "3568c25e-3ef5-45e1-b24c-1dd25f88a7ef",
   "metadata": {},
   "outputs": [
    {
     "data": {
      "text/plain": [
       "(0.12061560721706954, 0.05206512033238492)"
      ]
     },
     "execution_count": 105,
     "metadata": {},
     "output_type": "execute_result"
    }
   ],
   "source": [
    "pearsonr(x, y)"
   ]
  },
  {
   "cell_type": "code",
   "execution_count": null,
   "id": "bcde7882-060a-46c7-a9e0-e71fabed248c",
   "metadata": {},
   "outputs": [],
   "source": []
  },
  {
   "cell_type": "markdown",
   "id": "27734c88-857b-46fe-8e67-3e47e964509b",
   "metadata": {},
   "source": [
    "One by One"
   ]
  },
  {
   "cell_type": "code",
   "execution_count": 106,
   "id": "1f465b2e-56c7-45f3-9e34-e33a338de7ac",
   "metadata": {},
   "outputs": [],
   "source": [
    "def wcor(x, y, weight):\n",
    "    weight_sum = np.sum(weight)\n",
    "    \n",
    "    numerator = weight_sum * np.sum(weight * x * y) - np.sum(weight * x) * np.sum(weight * y)\n",
    "    denominator_x = weight_sum * np.sum(weight * (x**2)) - np.sum(weight * x)**2\n",
    "    denominator_y = weight_sum * np.sum(weight * (y**2)) - np.sum(weight * y)**2\n",
    "    \n",
    "    wcor = numerator / np.sqrt(denominator_x * denominator_y)\n",
    "    \n",
    "    return wcor"
   ]
  },
  {
   "cell_type": "code",
   "execution_count": 107,
   "id": "789f9ba8-3df6-4c99-9309-2fdeced50505",
   "metadata": {},
   "outputs": [
    {
     "data": {
      "text/plain": [
       "<260x260 sparse matrix of type '<class 'numpy.float64'>'\n",
       "\twith 3120 stored elements in Compressed Sparse Row format>"
      ]
     },
     "execution_count": 107,
     "metadata": {},
     "output_type": "execute_result"
    }
   ],
   "source": [
    "adata.obsm['proximity']"
   ]
  },
  {
   "cell_type": "code",
   "execution_count": null,
   "id": "09fc5ee7-681e-485c-a60c-db203ae0df85",
   "metadata": {},
   "outputs": [],
   "source": []
  },
  {
   "cell_type": "code",
   "execution_count": 108,
   "id": "2ba43bf5-801a-47b7-a879-94ef695e699a",
   "metadata": {},
   "outputs": [],
   "source": [
    "i = 0"
   ]
  },
  {
   "cell_type": "code",
   "execution_count": 109,
   "id": "06da56e4-35e4-4280-bf41-042318665a11",
   "metadata": {},
   "outputs": [
    {
     "data": {
      "text/plain": [
       "0.12061560565466811"
      ]
     },
     "execution_count": 109,
     "metadata": {},
     "output_type": "execute_result"
    }
   ],
   "source": [
    "# all weights = 1 (i.e. pearsonr)\n",
    "wcor(x, y, np.repeat(1, x.shape[0]))"
   ]
  },
  {
   "cell_type": "code",
   "execution_count": null,
   "id": "3e260853-40fe-46dd-9969-0b7c6a4a8e6c",
   "metadata": {},
   "outputs": [],
   "source": []
  },
  {
   "cell_type": "code",
   "execution_count": 110,
   "id": "454f7738-17ee-4542-9bc5-95a4adb4cad1",
   "metadata": {},
   "outputs": [],
   "source": [
    "weight = adata.obsm['proximity']"
   ]
  },
  {
   "cell_type": "code",
   "execution_count": 111,
   "id": "c6547abd-49ef-4ff6-a16e-3d1ef4f4d002",
   "metadata": {},
   "outputs": [],
   "source": [
    "# calculate all local correlations\n",
    "# technically, if we take i (a spot), x and y (e.g. genes),\n",
    "# we go over all rows in w (i.e. every spot)\n",
    "# and we re-calculate PC with the spatial weights \n",
    "# for the spots i to any other spot (j)\n",
    "local_corrs = []\n",
    "for i in range(weight.shape[0]):\n",
    "    local_corrs.append(wcor(x, y, weight[i, :].A))\n",
    "local_corrs = np.array(local_corrs)"
   ]
  },
  {
   "cell_type": "code",
   "execution_count": 112,
   "id": "440cf97a-fca9-4809-8072-8b5899f732de",
   "metadata": {},
   "outputs": [
    {
     "data": {
      "text/plain": [
       "(array([ 9., 25., 27., 37., 26., 43., 37., 35., 14.,  7.]),\n",
       " array([-0.58677481, -0.45093227, -0.31508972, -0.17924717, -0.04340463,\n",
       "         0.09243792,  0.22828047,  0.36412302,  0.49996556,  0.63580811,\n",
       "         0.77165066]),\n",
       " <BarContainer object of 10 artists>)"
      ]
     },
     "execution_count": 112,
     "metadata": {},
     "output_type": "execute_result"
    },
    {
     "data": {
      "image/png": "[encoded data removed]",
      "text/plain": [
       "<Figure size 432x288 with 1 Axes>"
      ]
     },
     "metadata": {
      "needs_background": "light"
     },
     "output_type": "display_data"
    }
   ],
   "source": [
    "hist(local_corrs)"
   ]
  },
  {
   "cell_type": "code",
   "execution_count": 113,
   "id": "883ae786-b729-4cd7-aa00-364eb1b1f009",
   "metadata": {},
   "outputs": [
    {
     "data": {
      "text/plain": [
       "array([-0.00132965,  0.17837803, -0.0006992 ,  0.0007183 , -0.21403439])"
      ]
     },
     "execution_count": 113,
     "metadata": {},
     "output_type": "execute_result"
    }
   ],
   "source": [
    "local_corrs[0:5]"
   ]
  },
  {
   "cell_type": "code",
   "execution_count": null,
   "id": "7a604eb8-3f1d-4a2f-a03b-6a3baba26c39",
   "metadata": {},
   "outputs": [],
   "source": []
  },
  {
   "cell_type": "code",
   "execution_count": 114,
   "id": "1ca72509-eefb-45c5-931d-cf201f162d02",
   "metadata": {},
   "outputs": [],
   "source": [
    "weight = weight[0, :].A"
   ]
  },
  {
   "cell_type": "code",
   "execution_count": 115,
   "id": "0146f46b-7d75-498b-b574-465382b22364",
   "metadata": {},
   "outputs": [
    {
     "data": {
      "text/plain": [
       "-0.0013296463642543616"
      ]
     },
     "execution_count": 115,
     "metadata": {},
     "output_type": "execute_result"
    }
   ],
   "source": [
    "weight_sum = np.sum(weight)\n",
    "\n",
    "numerator = weight_sum * np.sum(weight * x * y) - np.sum(weight * x) * np.sum(weight * y)\n",
    "denominator_x = weight_sum * np.sum(weight * (x**2)) - np.sum(weight * x)**2\n",
    "denominator_y = weight_sum * np.sum(weight * (y**2)) - np.sum(weight * y)**2\n",
    "\n",
    "# wcov\n",
    "numerator / np.sqrt(denominator_x * denominator_y)"
   ]
  },
  {
   "cell_type": "code",
   "execution_count": 116,
   "id": "e430485e-00f6-46fe-8279-f653314506a1",
   "metadata": {},
   "outputs": [
    {
     "data": {
      "text/plain": [
       "-0.02042462054362204"
      ]
     },
     "execution_count": 116,
     "metadata": {},
     "output_type": "execute_result"
    }
   ],
   "source": [
    "numerator"
   ]
  },
  {
   "cell_type": "code",
   "execution_count": 117,
   "id": "fb38fd3f-af8f-416b-8bd2-afdf800b7f7d",
   "metadata": {},
   "outputs": [
    {
     "data": {
      "text/plain": [
       "27.1080042154029"
      ]
     },
     "execution_count": 117,
     "metadata": {},
     "output_type": "execute_result"
    }
   ],
   "source": [
    "denominator_x"
   ]
  },
  {
   "cell_type": "code",
   "execution_count": 118,
   "id": "eabd8be0-760e-40c2-a778-54a6992e6220",
   "metadata": {},
   "outputs": [
    {
     "data": {
      "text/plain": [
       "8.70438613109468"
      ]
     },
     "execution_count": 118,
     "metadata": {},
     "output_type": "execute_result"
    }
   ],
   "source": [
    "denominator_y"
   ]
  },
  {
   "cell_type": "code",
   "execution_count": null,
   "id": "4f342b13-9b77-416b-af27-cc36f56aef53",
   "metadata": {},
   "outputs": [],
   "source": []
  },
  {
   "cell_type": "code",
   "execution_count": 119,
   "id": "39b825d7-b5c7-4708-b827-4b560c5e92af",
   "metadata": {},
   "outputs": [
    {
     "data": {
      "text/plain": [
       "413.32909518769986"
      ]
     },
     "execution_count": 119,
     "metadata": {},
     "output_type": "execute_result"
    }
   ],
   "source": [
    "weight_sum * np.sum(weight * x * y)"
   ]
  },
  {
   "cell_type": "code",
   "execution_count": 120,
   "id": "2b756b18-0bc5-4f00-9d3f-14daeb8ead59",
   "metadata": {},
   "outputs": [
    {
     "data": {
      "text/plain": [
       "413.3495198082435"
      ]
     },
     "execution_count": 120,
     "metadata": {},
     "output_type": "execute_result"
    }
   ],
   "source": [
    "np.sum(weight * x) * np.sum(weight * y)"
   ]
  },
  {
   "cell_type": "code",
   "execution_count": null,
   "id": "1253f3a7-56c0-419a-8f2c-48e94635cec0",
   "metadata": {},
   "outputs": [],
   "source": []
  },
  {
   "cell_type": "code",
   "execution_count": 121,
   "id": "63e6753c-d63a-47fb-9adc-947fcb14a540",
   "metadata": {},
   "outputs": [
    {
     "data": {
      "text/plain": [
       "array([1.37200415, 1.59062576, 2.52672255, 0.        , 0.        ])"
      ]
     },
     "execution_count": 121,
     "metadata": {},
     "output_type": "execute_result"
    }
   ],
   "source": [
    "(weight * x)[0][0:5]"
   ]
  },
  {
   "cell_type": "code",
   "execution_count": null,
   "id": "23e49926-024a-4e7f-9db0-9be089459776",
   "metadata": {},
   "outputs": [],
   "source": []
  },
  {
   "cell_type": "markdown",
   "id": "6c541874-43de-4f95-8dd3-fcf5f6c5df24",
   "metadata": {},
   "source": [
    "Vectorize"
   ]
  },
  {
   "cell_type": "markdown",
   "id": "ba744e9d-5461-4ddb-a68b-9534806acf93",
   "metadata": {},
   "source": [
    "For one interaction at a time:"
   ]
  },
  {
   "cell_type": "code",
   "execution_count": 122,
   "id": "c2b9c4c9-0d5a-48e6-b628-1068b55db89e",
   "metadata": {},
   "outputs": [],
   "source": [
    "weight = adata.obsm[\"proximity\"].A ## does it really need to be A?"
   ]
  },
  {
   "cell_type": "code",
   "execution_count": 123,
   "id": "40bd0b01-0678-4176-abd2-c601ed10b1b6",
   "metadata": {},
   "outputs": [],
   "source": [
    "weight_sums = np.sum(weight, axis = 1).flatten()"
   ]
  },
  {
   "cell_type": "code",
   "execution_count": 124,
   "id": "6d360577-ea12-46e3-a7b9-70a9dc568cd5",
   "metadata": {},
   "outputs": [
    {
     "data": {
      "text/plain": [
       "array([413.32909519, 367.77565144, 384.96345094, 311.83233116,\n",
       "       291.88845544, 229.55259411, 296.81639637, 244.39191989,\n",
       "       262.03291758, 328.88626754, 286.1400844 , 440.94925182,\n",
       "       449.77804841, 435.79750052, 464.84357456, 501.5987323 ,\n",
       "       487.38977621, 444.22556469, 374.05188673, 427.45398769,\n",
       "       404.17177861, 461.60641588, 434.8602097 , 353.04691204,\n",
       "       424.64731557, 410.36329255, 400.67118665, 440.19714239,\n",
       "       428.75038268, 370.82554049, 284.38660824, 327.77410411,\n",
       "       351.00389891, 284.86294048, 262.02274057, 271.69670533,\n",
       "       339.12686273, 322.29733764, 382.79244195, 337.56200154,\n",
       "       317.97494821, 316.86057578, 412.93638871, 323.17805427,\n",
       "       445.28981302, 321.29055645, 376.04829516, 303.24661213,\n",
       "       437.39817712, 427.12560128, 381.02628954, 351.91516238,\n",
       "       387.05688626, 323.46438147, 329.92737548, 393.12573454,\n",
       "       282.36045012, 479.19658545, 435.22576729, 458.45570385,\n",
       "       448.43811821, 368.06214603, 397.19390292, 417.46072092,\n",
       "       430.75614965, 275.40423551, 419.77387057, 325.1062886 ,\n",
       "       357.99091467, 397.86136816, 391.9420932 , 379.80152574,\n",
       "       427.39192053, 402.90254532, 390.29861137, 376.1776775 ,\n",
       "       398.74278288, 346.31428356, 352.83794945, 373.26674377,\n",
       "       401.73752091, 351.98824755, 378.85815235, 336.23230484,\n",
       "       403.91593771, 431.06884123, 372.97426195, 342.10618042,\n",
       "       365.17444464, 387.51631014, 317.97191758, 373.85204351,\n",
       "       348.18414675, 337.10036276, 340.90441686, 327.1170248 ,\n",
       "       370.15146958, 348.77192781, 374.91114484, 333.33939231,\n",
       "       413.08155971, 426.98197999, 344.04569995, 320.62816844,\n",
       "       290.70408003, 288.09473814, 400.23067339, 432.04805078,\n",
       "       366.38458011, 377.12641222, 363.97069108, 410.23783638,\n",
       "       370.15404791, 386.60769473, 341.13952702, 410.90071587,\n",
       "       280.96584587, 356.07003859, 422.77368332, 415.16528867,\n",
       "       260.00489321, 258.76073639, 256.55242745, 279.14964785,\n",
       "       371.55523199, 260.37952442, 351.10545134, 295.28525713,\n",
       "       394.13787338, 241.10099139, 251.67348051, 264.95541956,\n",
       "       211.3342177 , 235.96842844, 223.81288188, 287.6156022 ,\n",
       "       228.29706645, 306.78257821, 389.97228086, 375.80206674,\n",
       "       309.18030233, 388.59277716, 443.62779815, 433.67556611,\n",
       "       425.93524731, 442.6376315 , 455.24244764, 430.99359019,\n",
       "       365.18681607, 357.99906235, 470.08515915, 410.34780853,\n",
       "       425.55866529, 432.91583008, 311.31688612, 306.46841645,\n",
       "       295.75898981, 312.75285108, 377.74556389, 296.39411299,\n",
       "       288.91523877, 358.97927459, 316.38124035, 358.9047131 ,\n",
       "       348.55147235, 352.55671157, 440.0886252 , 314.43511086,\n",
       "       391.23200612, 426.33055387, 320.59555544, 345.03266893,\n",
       "       485.05754777, 523.07393874, 508.80890761, 478.27143453,\n",
       "       489.22923683, 443.85246939, 291.69702531, 397.24626593,\n",
       "       292.49464197, 386.60821807, 370.47942376, 407.01141742,\n",
       "       352.94576174, 399.50393316, 297.89968872, 333.5726962 ,\n",
       "       357.21792203, 375.29408395, 300.74888579, 329.01782028,\n",
       "       272.80739357, 253.76692866, 310.72381056, 340.32370616,\n",
       "       375.76319316, 376.91071921, 353.1519768 , 369.42764172,\n",
       "       351.66356163, 344.66046006, 350.75314483, 368.89871362,\n",
       "       366.54724799, 372.2678303 , 448.05294803, 337.55200891,\n",
       "       302.71169011, 306.19354697, 327.59030957, 451.04321193,\n",
       "       479.84984675, 340.14497219, 322.84476919, 319.21793811,\n",
       "       353.91673286, 331.12274432, 305.45600513, 245.19594609,\n",
       "       243.56996297, 286.04954151, 295.93740608, 319.5256086 ,\n",
       "       332.54690855, 349.29857584, 375.03933785, 338.45168366,\n",
       "       337.994384  , 275.14269249, 243.4886792 , 345.30526177,\n",
       "       304.02150214, 248.36778205, 289.04693204, 286.48819954,\n",
       "       240.55188735, 400.44165945, 464.97477561, 399.71624057,\n",
       "       429.79425212, 459.88459837, 402.57487873, 458.8527077 ,\n",
       "       455.83359892, 336.60912223, 355.44464216, 372.86690304,\n",
       "       335.28301516, 411.38379782, 429.51513863, 417.77448225,\n",
       "       479.25022869, 387.50038494, 398.72056583, 413.40311844,\n",
       "       422.95997676, 453.62984068, 284.14356619, 336.34738216])"
      ]
     },
     "execution_count": 124,
     "metadata": {},
     "output_type": "execute_result"
    }
   ],
   "source": [
    "n1 = (weight_sums * np.sum(np.multiply(weight, x) * y, axis=1))\n",
    "n1"
   ]
  },
  {
   "cell_type": "code",
   "execution_count": 125,
   "id": "f2e5e269-5495-4336-a6ef-0dc751dffb46",
   "metadata": {},
   "outputs": [
    {
     "data": {
      "text/plain": [
       "array([413.34951981, 364.04993142, 384.97718615, 311.80720578,\n",
       "       300.28635934, 230.84554091, 296.87001313, 247.64965657,\n",
       "       265.26917936, 321.00243712, 284.98079694, 442.18041878,\n",
       "       446.46225784, 431.27686073, 460.09720436, 500.91631453,\n",
       "       484.67684591, 433.53421394, 358.39917712, 413.99378104,\n",
       "       398.84212871, 463.8748456 , 423.9611496 , 332.43945387,\n",
       "       405.44214778, 388.24231756, 392.95986166, 436.65139367,\n",
       "       435.16721534, 366.75796276, 280.72670949, 317.25634725,\n",
       "       347.50209925, 286.74913205, 266.23794642, 267.34788731,\n",
       "       335.37092245, 316.73109636, 377.03185749, 343.24745157,\n",
       "       320.89120283, 299.1494663 , 421.02189612, 291.23769656,\n",
       "       451.95757341, 308.21391039, 317.24875795, 275.26719015,\n",
       "       409.69580539, 373.36623128, 386.43741098, 352.44718267,\n",
       "       347.99258824, 304.70799884, 316.6128232 , 379.31939856,\n",
       "       268.91057482, 478.91300641, 424.35484693, 458.16672364,\n",
       "       451.10119935, 366.54643861, 396.65551842, 417.58304057,\n",
       "       430.78859181, 264.36887952, 422.36994747, 322.04676974,\n",
       "       346.01368099, 398.41807225, 395.96632364, 377.46916767,\n",
       "       424.76909942, 399.47573738, 391.13277276, 367.92659258,\n",
       "       393.44735393, 342.88574695, 348.79613244, 366.70198996,\n",
       "       396.08834156, 340.39429811, 381.54082389, 339.22008893,\n",
       "       405.99620923, 436.23505562, 356.72766591, 320.85976441,\n",
       "       339.18552431, 378.24761843, 308.63391117, 376.22030981,\n",
       "       344.91035542, 328.24246572, 317.47734301, 314.64755051,\n",
       "       348.46314263, 354.79012728, 323.7021109 , 313.186791  ,\n",
       "       401.80009543, 380.89852683, 340.61159285, 303.94321112,\n",
       "       275.1332663 , 280.67384644, 403.33316711, 433.85119849,\n",
       "       369.57209102, 379.14314377, 338.64798917, 411.86209539,\n",
       "       354.30833943, 391.28551357, 350.71892135, 414.10811162,\n",
       "       292.52485443, 361.73691079, 426.09504336, 405.6493567 ,\n",
       "       269.58560027, 264.29367499, 265.66265158, 285.99331404,\n",
       "       373.16903348, 273.38879036, 362.55911614, 307.39023558,\n",
       "       403.38916225, 270.66727506, 272.76839108, 280.88665   ,\n",
       "       235.58244929, 240.99887262, 255.89535111, 306.47506697,\n",
       "       246.10506188, 313.15372051, 380.8410151 , 368.48177048,\n",
       "       316.44091973, 385.23448223, 441.12023358, 437.75126621,\n",
       "       428.43399514, 441.5397856 , 446.33021054, 422.53209238,\n",
       "       365.48205525, 353.32746934, 463.41629219, 397.31683037,\n",
       "       408.90248281, 422.77226508, 277.79255119, 309.41233761,\n",
       "       292.59297203, 290.87532201, 386.3051604 , 309.89399392,\n",
       "       301.86896313, 362.04201927, 306.9810678 , 352.34832051,\n",
       "       339.35732693, 340.64892569, 446.08892844, 334.72146015,\n",
       "       378.41719596, 436.71251306, 310.34455329, 354.41948294,\n",
       "       481.01594003, 528.84633852, 513.37293515, 470.26924707,\n",
       "       498.22899246, 430.99600111, 285.65007976, 394.64037649,\n",
       "       282.93402324, 382.22488823, 357.59022346, 402.41785562,\n",
       "       340.25905421, 396.89728689, 291.70030186, 323.97856789,\n",
       "       354.7788696 , 373.11521392, 291.02495273, 317.16690937,\n",
       "       266.06714472, 253.87568645, 305.63927057, 313.62830184,\n",
       "       381.65219049, 382.86077638, 355.16540419, 372.74342896,\n",
       "       354.83406274, 337.18827591, 354.47859594, 373.65500937,\n",
       "       372.82577076, 378.63839426, 455.40782777, 355.91323308,\n",
       "       327.22552276, 299.02582185, 312.94036512, 443.37555671,\n",
       "       479.21406867, 341.46018415, 322.97043063, 319.65427933,\n",
       "       319.778022  , 288.33013969, 315.35052649, 260.94767625,\n",
       "       256.20497472, 290.60545307, 300.93345787, 277.46028379,\n",
       "       342.91307066, 365.44845097, 382.43986585, 345.70089941,\n",
       "       356.63529192, 265.80406209, 239.98891905, 339.08426942,\n",
       "       300.13162105, 264.88522611, 303.76097582, 282.88948486,\n",
       "       244.39957269, 404.55943602, 457.49827789, 397.58557461,\n",
       "       422.05575722, 458.54734305, 398.50146863, 454.94399857,\n",
       "       446.36597227, 335.15903804, 354.43784132, 368.55800805,\n",
       "       331.6177962 , 402.00886079, 422.61281632, 413.03017417,\n",
       "       480.75395489, 381.99123285, 391.31713612, 407.53930698,\n",
       "       419.36597271, 452.27008263, 311.19953038, 341.87879717])"
      ]
     },
     "execution_count": 125,
     "metadata": {},
     "output_type": "execute_result"
    }
   ],
   "source": [
    "n2 = np.sum(np.multiply(weight, x), axis=1) * np.sum(np.multiply(weight, y), axis=1)\n",
    "n2"
   ]
  },
  {
   "cell_type": "code",
   "execution_count": 126,
   "id": "5e78743b-e212-49a9-b5f4-306b9f50abab",
   "metadata": {},
   "outputs": [],
   "source": [
    "numerator = n1 - n2"
   ]
  },
  {
   "cell_type": "code",
   "execution_count": 127,
   "id": "2a9d6ed7",
   "metadata": {},
   "outputs": [
    {
     "data": {
      "text/plain": [
       "array([-0.02042462,  3.72572002, -0.01373521,  0.02512538, -8.3979039 ])"
      ]
     },
     "execution_count": 127,
     "metadata": {},
     "output_type": "execute_result"
    }
   ],
   "source": [
    "numerator[0:5]"
   ]
  },
  {
   "cell_type": "code",
   "execution_count": null,
   "id": "dd6df074-1b77-44fc-8bd0-ba92529a16ce",
   "metadata": {},
   "outputs": [],
   "source": []
  },
  {
   "cell_type": "code",
   "execution_count": 128,
   "id": "566d64f2-ad7c-4acb-b49e-7daac2ba428e",
   "metadata": {},
   "outputs": [],
   "source": [
    "denominator_x = weight_sum * np.sum(np.multiply(weight, (x**2)), axis = 1) - np.sum(np.multiply(weight,  x), axis=1)**2\n",
    "denominator_y = weight_sum * np.sum(np.multiply(weight, (y**2)), axis = 1) - np.sum(np.multiply(weight,  y), axis=1)**2"
   ]
  },
  {
   "cell_type": "code",
   "execution_count": 129,
   "id": "dee94a5d-e7ed-41aa-b457-c842dadaa472",
   "metadata": {},
   "outputs": [
    {
     "data": {
      "text/plain": [
       "(260,)"
      ]
     },
     "execution_count": 129,
     "metadata": {},
     "output_type": "execute_result"
    }
   ],
   "source": [
    "denominator_x.shape"
   ]
  },
  {
   "cell_type": "code",
   "execution_count": null,
   "id": "68f146bd-6a93-4799-9f1d-5267dd93b851",
   "metadata": {},
   "outputs": [],
   "source": []
  },
  {
   "cell_type": "code",
   "execution_count": 130,
   "id": "c763af5a-23f8-4bf6-a4b8-dc06b2b4e752",
   "metadata": {},
   "outputs": [
    {
     "data": {
      "text/plain": [
       "array([27.10800422, 25.21338601, 29.18442814, 27.59649804, 26.70265811])"
      ]
     },
     "execution_count": 130,
     "metadata": {},
     "output_type": "execute_result"
    }
   ],
   "source": [
    "denominator_x[0:5]"
   ]
  },
  {
   "cell_type": "code",
   "execution_count": 131,
   "id": "cf5b4f16-c3f5-4e2c-9a85-f57694cfa8fe",
   "metadata": {},
   "outputs": [
    {
     "data": {
      "text/plain": [
       "array([ 8.70438613, 17.30240674, 13.22245209, 44.33641497, 57.65276927])"
      ]
     },
     "execution_count": 131,
     "metadata": {},
     "output_type": "execute_result"
    }
   ],
   "source": [
    "denominator_y[0:5]"
   ]
  },
  {
   "cell_type": "code",
   "execution_count": 132,
   "id": "8bcfb4ca-105a-42c1-847c-8a2a7d8ccd83",
   "metadata": {},
   "outputs": [],
   "source": [
    "local_corrs = numerator / np.sqrt(denominator_x * denominator_y)"
   ]
  },
  {
   "cell_type": "code",
   "execution_count": 133,
   "id": "32ee796f-713b-4980-b766-abbca1cdf775",
   "metadata": {},
   "outputs": [
    {
     "data": {
      "text/plain": [
       "(array([ 9., 25., 27., 37., 26., 43., 37., 35., 14.,  7.]),\n",
       " array([-0.58677481, -0.45093227, -0.31508972, -0.17924717, -0.04340463,\n",
       "         0.09243792,  0.22828047,  0.36412302,  0.49996556,  0.63580811,\n",
       "         0.77165066]),\n",
       " <BarContainer object of 10 artists>)"
      ]
     },
     "execution_count": 133,
     "metadata": {},
     "output_type": "execute_result"
    },
    {
     "data": {
      "image/png": "[encoded data removed]",
      "text/plain": [
       "<Figure size 432x288 with 1 Axes>"
      ]
     },
     "metadata": {
      "needs_background": "light"
     },
     "output_type": "display_data"
    }
   ],
   "source": [
    "hist(local_corrs)"
   ]
  },
  {
   "cell_type": "code",
   "execution_count": null,
   "id": "b7a71beb-5cf0-4d85-992a-4e4c394985e2",
   "metadata": {},
   "outputs": [],
   "source": []
  },
  {
   "cell_type": "code",
   "execution_count": null,
   "id": "72091ea9-730d-4c65-9208-74a77b5b7e94",
   "metadata": {},
   "outputs": [],
   "source": []
  },
  {
   "cell_type": "markdown",
   "id": "d4a4f75e-dc99-4563-817b-e158a18abf28",
   "metadata": {},
   "source": [
    "All local corrs for all interactions"
   ]
  },
  {
   "cell_type": "code",
   "execution_count": 134,
   "id": "1edce62b-dabe-4c36-86db-0e10ca425f09",
   "metadata": {},
   "outputs": [
    {
     "data": {
      "text/plain": [
       "<3x260 sparse matrix of type '<class 'numpy.float32'>'\n",
       "\twith 728 stored elements in Compressed Sparse Column format>"
      ]
     },
     "execution_count": 134,
     "metadata": {},
     "output_type": "execute_result"
    }
   ],
   "source": [
    "ligand_mat"
   ]
  },
  {
   "cell_type": "code",
   "execution_count": 135,
   "id": "a8df29a7-8dfa-46d4-8b99-bbb7fd694fc0",
   "metadata": {},
   "outputs": [
    {
     "data": {
      "text/plain": [
       "<3x260 sparse matrix of type '<class 'numpy.float32'>'\n",
       "\twith 750 stored elements in Compressed Sparse Column format>"
      ]
     },
     "execution_count": 135,
     "metadata": {},
     "output_type": "execute_result"
    }
   ],
   "source": [
    "receptor_mat"
   ]
  },
  {
   "cell_type": "code",
   "execution_count": null,
   "id": "48696316-b3ec-436a-9415-d8faf1991226",
   "metadata": {},
   "outputs": [],
   "source": []
  },
  {
   "cell_type": "code",
   "execution_count": 144,
   "id": "e290d38d-33f8-4c10-8e08-99bf519d7e2f",
   "metadata": {},
   "outputs": [],
   "source": [
    "weight = adata.obsm[\"proximity\"].A.T ## does it really need to be A?"
   ]
  },
  {
   "cell_type": "code",
   "execution_count": 145,
   "id": "02e1dded-4858-4cee-9a4f-41b22c4494f0",
   "metadata": {},
   "outputs": [],
   "source": [
    "weight_sums = np.sum(weight, axis = 0).flatten()"
   ]
  },
  {
   "cell_type": "code",
   "execution_count": 146,
   "id": "44ab4a9c-413d-4684-84fa-0a341715dac9",
   "metadata": {},
   "outputs": [],
   "source": [
    "x_mat = ligand_mat.A.T\n",
    "y_mat = receptor_mat.A.T"
   ]
  },
  {
   "cell_type": "code",
   "execution_count": 147,
   "id": "4946f4a8-ef66-4136-92e4-34f495e454ac",
   "metadata": {},
   "outputs": [],
   "source": [
    "n1 = (((x_mat * y_mat).T @ weight) * weight_sums.T)"
   ]
  },
  {
   "cell_type": "code",
   "execution_count": 148,
   "id": "6cd8a1f5",
   "metadata": {},
   "outputs": [
    {
     "data": {
      "text/plain": [
       "array([413.32909371, 365.15943805, 524.96514881])"
      ]
     },
     "execution_count": 148,
     "metadata": {},
     "output_type": "execute_result"
    }
   ],
   "source": [
    "n1[0:5, 0]"
   ]
  },
  {
   "cell_type": "code",
   "execution_count": 149,
   "id": "2d85c7c2-a647-4821-8887-54fe860151a1",
   "metadata": {},
   "outputs": [],
   "source": [
    "n2 = (x_mat.T @ weight) * (y_mat.T @ weight)"
   ]
  },
  {
   "cell_type": "code",
   "execution_count": null,
   "id": "fc138f8c-7feb-4a06-ab5f-4625ba563d06",
   "metadata": {},
   "outputs": [],
   "source": []
  },
  {
   "cell_type": "code",
   "execution_count": 150,
   "id": "cfec59cd-3dd7-4455-9894-3a2471dae55d",
   "metadata": {},
   "outputs": [],
   "source": [
    "numerator = n1 - n2"
   ]
  },
  {
   "cell_type": "code",
   "execution_count": 152,
   "id": "64e96a37-7f32-4897-877a-37c800c36335",
   "metadata": {},
   "outputs": [
    {
     "data": {
      "text/plain": [
       "array([-0.02042609,  3.72572379, -0.01373214,  0.02512774, -8.39790343])"
      ]
     },
     "execution_count": 152,
     "metadata": {},
     "output_type": "execute_result"
    }
   ],
   "source": [
    "numerator[0,0:5]"
   ]
  },
  {
   "cell_type": "code",
   "execution_count": null,
   "id": "ba30449e-7478-44ad-abda-f31922cb844e",
   "metadata": {},
   "outputs": [],
   "source": []
  },
  {
   "cell_type": "code",
   "execution_count": 160,
   "id": "742ce22f-6a27-420f-adf2-e3e78628adde",
   "metadata": {},
   "outputs": [],
   "source": [
    "denominator_x = (weight_sums * (x_mat ** 2).T @ weight) - (x_mat.T @ weight)**2\n",
    "denominator_y = (weight_sums * (y_mat ** 2).T @ weight) - (y_mat.T @ weight)**2"
   ]
  },
  {
   "cell_type": "code",
   "execution_count": 161,
   "id": "c4426886-4b7d-43fe-8547-99ff8a78dcae",
   "metadata": {},
   "outputs": [
    {
     "data": {
      "text/plain": [
       "array([27.10800422, 48.55611783, 40.57299122])"
      ]
     },
     "execution_count": 161,
     "metadata": {},
     "output_type": "execute_result"
    }
   ],
   "source": [
    "denominator_x[0:5, 0]"
   ]
  },
  {
   "cell_type": "code",
   "execution_count": 162,
   "id": "fd57e99d-bb33-48da-94ed-a0adeff0f91b",
   "metadata": {},
   "outputs": [
    {
     "data": {
      "text/plain": [
       "array([ 8.70438613, 15.51988565,  5.81770928])"
      ]
     },
     "execution_count": 162,
     "metadata": {},
     "output_type": "execute_result"
    }
   ],
   "source": [
    "denominator_y[0:5, 0]"
   ]
  },
  {
   "cell_type": "code",
   "execution_count": 163,
   "id": "0ec476fc-42cb-446b-b7cb-5c8046f19976",
   "metadata": {},
   "outputs": [
    {
     "data": {
      "text/plain": [
       "array([[ 27.10800422,  25.21338601,  29.18442814,  27.59649804,\n",
       "         26.70265811,  55.3537035 ,  30.12125141,  47.01578326,\n",
       "         81.41142478,  62.15862898,  82.58646053,  16.36128015,\n",
       "         19.11291709,  21.96501953,  17.65254864,  27.90325532,\n",
       "         16.33641846,  24.13317626,  68.89712128,  64.50301159,\n",
       "         34.39160405,  21.31441263,  59.86198289,  87.71780448,\n",
       "         72.17459772,  86.43500933,  32.93801658,  36.93016169,\n",
       "         26.08452288,  33.9621673 ,  75.64319151,  59.76099   ,\n",
       "         47.8184806 ,  42.4506858 ,  76.00439238,  59.94939124,\n",
       "         39.54584709,  44.44433833,  66.32344809,  36.63889649,\n",
       "         27.1356769 ,  72.51309054,  20.71949336,  57.97152828,\n",
       "         32.66195055,  51.31448421,  86.26886712,  72.18837821,\n",
       "         39.2540309 ,  66.53619097,  11.24734811,  20.75931426,\n",
       "         51.33368218,  62.97410768,  58.75022332,  45.9802889 ,\n",
       "         65.41522456,  18.9716925 ,  27.52364134,  18.66183331,\n",
       "         12.69264782,  33.58681862,  13.32173869,  32.61583627,\n",
       "         16.62779164,  60.94373378,  23.74192985,  40.32980031,\n",
       "         57.580518  ,   6.30138498,   6.61758636,  15.25847619,\n",
       "         11.62714066,  10.51224647,   9.28748411,  42.78859402,\n",
       "         11.32555799,  40.44120799,  26.28163137,  23.76821014,\n",
       "         11.24369785,  31.8905604 ,  20.8488239 ,  26.9490532 ,\n",
       "          6.86322387,  13.95406515,  52.69635561,  48.46761575,\n",
       "         68.61938525,  26.93516302,  19.50060039,   6.32424816,\n",
       "         10.78965186,  60.67410906,  63.55239665,  35.74642487,\n",
       "         52.81677823,  51.62066659,  85.23915978,  72.99461481,\n",
       "         32.59496418,  69.6710117 ,  22.50518326,  48.70716962,\n",
       "         46.42680135,  26.22027771,  20.17090595,  16.55389076,\n",
       "         12.51010915,  17.62868092,  67.26139059,  26.37954904,\n",
       "         53.75870309,  50.45563592,  64.33355216,  59.52482616,\n",
       "         55.97675472,  91.10630642,  71.57190582,  40.2905807 ,\n",
       "         26.96320362,  28.84367864,  30.30402396,  19.65575525,\n",
       "         41.46877757,  51.68477163,  41.51991423,  25.8805542 ,\n",
       "         12.18714589,  63.56626462,  50.91295033,  14.3127754 ,\n",
       "         70.15081391,  68.24242521,  87.2171981 ,  70.74678875,\n",
       "         81.13601374,  59.59451434,  64.05308892,  47.7292382 ,\n",
       "         83.98414031,  72.81866628,  49.18447414,  25.43929496,\n",
       "         13.47117522,  37.64571581,  15.97257286,  15.75717483,\n",
       "         28.72182224,  20.0523345 ,  23.11573426,  26.53389076,\n",
       "         26.41111313,  28.7171101 ,  91.02665911,  47.63938733,\n",
       "         67.35484005,  64.04817607,  18.70072422,  36.43467749,\n",
       "         66.26223498,  25.25700467,  33.10132624,  25.11399345,\n",
       "         30.54403848,  28.96099437,  24.50525438,  36.34502935,\n",
       "         33.908121  ,  18.7057033 ,  33.10303801,  25.95483483,\n",
       "         17.64930487,  15.80419424,  16.47385104,  28.43860113,\n",
       "          8.80049691,  12.76509283,  34.96026453,  13.70456128,\n",
       "         34.71330031,  33.23900397,  33.20405498,  21.62436207,\n",
       "         26.09284619,  24.01292894,  50.87011447,  28.49339171,\n",
       "         12.4001667 ,  25.608973  ,  34.392186  ,  15.58267417,\n",
       "         56.85581583,  73.16204758,  61.55259428,  69.3841362 ,\n",
       "         20.75119348,  25.21311927,  12.41215297,  17.5084705 ,\n",
       "         28.62571113,  46.19398674,  26.16604495,  16.39887882,\n",
       "         23.13856723,  20.28351104,  14.06926023,  35.68244526,\n",
       "         39.32827916,  24.67240013,  28.22830436,   7.08792077,\n",
       "          7.83887006,   9.28543549,  13.81496464,  23.92707459,\n",
       "         56.55807572,  85.66168394,  50.09224228,  40.7315117 ,\n",
       "         39.17733444,  21.28624202,  27.47296569,  94.29513509,\n",
       "         38.28071527,  24.00329616,  17.75623959,  24.86266524,\n",
       "         30.70380643,  46.61303651,  56.91835181,  19.31164408,\n",
       "         38.62687084,  67.32608123,  49.02664234,  52.7978229 ,\n",
       "         69.87120958,  28.56562824,  13.67580748,  31.22101699,\n",
       "         22.09405496,  20.97812474,  21.4023907 ,   9.20371849,\n",
       "         14.54324988,  10.99414219,  14.96767763,  10.53954808,\n",
       "         10.69010511,  23.95460157,  18.52702579,  13.44286396,\n",
       "         10.73367638,   7.67268293,  26.60292855,  21.14482427,\n",
       "          7.35437676,  13.05763432,  39.51715571,  28.89889669],\n",
       "       [ 48.55611783,  51.31730258,  49.23970663,  37.33988681,\n",
       "         48.24993835,  68.80061772,  21.66657103,  37.23416939,\n",
       "         18.78958038,  60.50112352,  19.22968331,  80.28600498,\n",
       "         71.821736  ,  64.1641079 ,  46.1500069 ,  40.24001475,\n",
       "         57.10341169,  55.90167847,  45.23704929,  44.76065335,\n",
       "         77.94700122,  72.30985031,  22.24758272,  44.68493562,\n",
       "         34.78215477,  42.95677929,  29.67515988,  25.14080171,\n",
       "         18.51839455,  27.78863215,  16.73586306,  38.5956673 ,\n",
       "         32.92269512,  18.49249782,  20.82732719,  14.14579324,\n",
       "          7.5107817 ,  10.25225179,  35.94074336,  20.22475917,\n",
       "         18.2417746 ,  41.20890256,  11.95836045,  12.63030993,\n",
       "         17.73347038,  20.19364322,   5.68675118,   3.05952546,\n",
       "         33.90668843,  15.38028654,   7.79207643,  15.16619294,\n",
       "         15.87191319,   8.95785987,  26.7460771 ,  14.82242374,\n",
       "         14.6679181 ,  11.96876795,  10.2785002 ,  10.1431223 ,\n",
       "          9.65266191,  17.67085451,  11.09557405,  25.37138659,\n",
       "         24.0068455 ,   9.93968806,  30.37017346,  22.92721422,\n",
       "         17.08223269,  15.44300357,  13.03553687,  19.79621873,\n",
       "         25.08059208,  14.96381555,  12.63629625,  20.53162597,\n",
       "          5.93554919,  14.44933133,   7.24026207,   6.70799199,\n",
       "          9.95573227,  15.59974276,  12.69933524,  15.15255111,\n",
       "         18.11347972,  13.96440979,  15.07724728,  10.03870586,\n",
       "          7.7728869 ,  30.28733505,  20.13441037,  12.03846459,\n",
       "         17.10657152,   2.84694148,   5.21077866,  17.40948661,\n",
       "         11.28355144,   3.55803557,   4.40212824,   3.1679587 ,\n",
       "         22.05806468,  13.74681146,  20.46099821,   8.52873491,\n",
       "         10.17297039,  15.65324927,  45.95030703,  38.58271115,\n",
       "         17.43810237,  25.51702124,  12.47107435,  35.49023873,\n",
       "         20.58688353,   9.98044546,  15.42797623,  19.56729769,\n",
       "         49.55054157,  45.79002135,  26.03159568,  46.6136858 ,\n",
       "         48.28975463,  24.22451524,  32.82274081,  33.2846938 ,\n",
       "         22.10907557,  53.05839619,  21.74853891,  60.94420564,\n",
       "         13.6078996 ,  66.01900754,  67.77732651,  73.22650681,\n",
       "         51.08080739,  31.89907138,  55.13591819,  20.95403708,\n",
       "         39.39932808,  37.11190677,  47.93025929,  48.4239175 ,\n",
       "         31.20360445,  28.29241097,  26.35844518,  10.72079782,\n",
       "         10.91765714,  25.08974731,  37.6929011 ,  49.42390873,\n",
       "         28.83245068,  53.11783599,  83.02684131,  62.55657145,\n",
       "         76.08850697,  81.42601587,  73.95940523,  96.81261565,\n",
       "         67.85113902,  91.77485302,  58.88876896,  70.73433434,\n",
       "         33.49002726,  17.18317273,  56.44530684,  69.20864469,\n",
       "         40.08955058,  41.15621204,  26.1698406 ,  12.26298143,\n",
       "         30.37746145,  14.50450892,  21.57077245,  17.55384213,\n",
       "         23.988116  ,  19.62511073,  57.06933468,  58.80154921,\n",
       "         14.38341202,  18.12317583,  30.25491344,  56.31749892,\n",
       "         27.65002563,  33.97408475,  38.85145472,  44.51052273,\n",
       "         37.45168743,  42.65604639,  28.58412229,  29.68741218,\n",
       "         26.33534509,  53.72226483,  25.18609835,  18.80988633,\n",
       "         15.05517293,  19.39498072,  12.71666228,   6.39786836,\n",
       "         68.10468822,  68.51872091,  24.17431789,  45.68552976,\n",
       "         51.6981594 ,  38.1075242 ,  48.15587164,  48.71114284,\n",
       "         57.35795321,  59.71121341,   6.91314937,   6.41266453,\n",
       "          9.11543229,  19.56125305,  19.8734453 ,  19.1100187 ,\n",
       "         12.99780072,  26.8322904 ,  28.40022199,  17.83750643,\n",
       "         55.28643797,  67.1335198 ,  56.29985865,  64.71197549,\n",
       "         61.9905823 ,  46.89116216,  38.34141242,  76.30762349,\n",
       "        104.81902524, 110.72155255,  92.4414205 ,  93.50432958,\n",
       "        112.44790571,  61.8276598 ,  72.24242706,  90.90387417,\n",
       "         93.74284141,  18.12073589,  22.1024552 ,  36.62834107,\n",
       "         30.16979194,   4.2732231 ,   7.52442976,   2.92681582,\n",
       "          4.36885   ,  16.15481211,  11.52937205,  18.54078251,\n",
       "         13.65534919,  35.29706323,  23.59827073,  25.96477277,\n",
       "         37.21993938,  13.72486949,  22.74289449,  19.58924539,\n",
       "         24.21221533,  32.6851673 ,  15.17655949,  25.07767885,\n",
       "         27.67244779,  27.25427959,  12.35166766,  47.25134952],\n",
       "       [ 40.57299122,  39.5926672 ,  41.08562933,  54.09830194,\n",
       "         49.08033344,  60.62903241,  51.5300416 ,  57.87346542,\n",
       "         44.7442604 ,  72.72924073,  47.42905846,  25.21837732,\n",
       "         35.80694847,  41.62301076,  26.12213949,  23.69232418,\n",
       "         19.63991354,  28.67225101,  34.17793973,  18.97818539,\n",
       "         47.81976414,  29.82729937,  11.94341556,  22.9256079 ,\n",
       "         20.80541604,  22.09721567,  27.29486952,  22.39030009,\n",
       "         16.33649699,  26.28695504,  42.84765109,  49.4552828 ,\n",
       "         62.31168024,  43.71438508,  48.57809669,  52.70829892,\n",
       "         57.74781141,  69.78568695,  25.23150393,  30.59843866,\n",
       "         32.01018584,  23.54564752,  24.88621975,  37.94506949,\n",
       "         18.64919397,  19.85407135,  32.59068205,  35.98032426,\n",
       "         22.28983294,  32.45143159,  20.3060579 ,  18.26581478,\n",
       "         40.00383406,  20.36479622,  15.05403963,  13.16274469,\n",
       "         19.84065214,  16.52892201,  17.55947017,  13.81154553,\n",
       "         13.96293222,  10.58755835,  16.201962  ,   9.73515938,\n",
       "         16.27660621,  13.4539796 ,   9.35820731,  13.48776271,\n",
       "         14.75930424,  26.89299263,  30.89830825,  19.61689895,\n",
       "         11.27862317,  16.64053302,  20.51835906,   5.44144608,\n",
       "         11.73609836,  10.32061162,  17.22001474,   9.91827497,\n",
       "         12.65702951,  21.0899842 ,  17.9130723 ,  21.00742733,\n",
       "         15.53523114,  21.02634278,  29.21672605,   6.13139385,\n",
       "         11.11697112,  12.4624651 ,  30.0296233 ,  27.74931816,\n",
       "         24.84987609,  34.85691771,  21.18101623,  11.75644592,\n",
       "         15.77651041,  68.4496904 ,  26.79579304,  39.3648986 ,\n",
       "         15.68045409,  22.04807702,   8.73088499,   6.14405039,\n",
       "          6.86630691,   9.27462362,  36.58781303,  13.62548774,\n",
       "         76.63864112,  91.51519557,  20.40211483,  36.86358883,\n",
       "         32.35391847,  38.96057924,  49.71638873,  38.70135308,\n",
       "         74.50686716,  32.19540465,  49.38324667,  60.36745395,\n",
       "         49.08355484,  68.27630306,  95.48787   ,  57.63691738,\n",
       "         45.90286491,  82.8466732 ,  51.45430789,  53.06977855,\n",
       "         48.97840625,  69.66094825,  75.97527675,  58.67956968,\n",
       "         82.51755956,  75.55933151,  75.90243406,  35.10492514,\n",
       "         76.06056554,  50.38273624,  30.27905403,  41.16869071,\n",
       "         30.92658762,  39.48491535,  27.48985425,  33.04191289,\n",
       "         44.01606622,  30.04572156,  28.9480793 ,  39.09667427,\n",
       "         41.22115274,  55.3935383 ,  35.56509633,  53.3236012 ,\n",
       "         59.97869855,  39.40084004,  59.31602693,  60.39550215,\n",
       "         48.51110464,  66.05640994,  34.77319263,  42.7471682 ,\n",
       "         31.58049523,  35.76095971,  80.13175406,  48.34010755,\n",
       "         64.6241058 ,  76.57816217,  29.7194538 ,  15.97218467,\n",
       "         53.77176049,  24.25290409,  53.70006205,  32.24075413,\n",
       "          5.97349762,  21.08393796,  22.89062066,  39.50372747,\n",
       "         20.5535875 ,  16.42923984,  18.9121746 ,  63.75812674,\n",
       "         31.83024097,  34.71419976,  22.77882432,  46.35231416,\n",
       "         74.04160056,  59.34643696,  74.20949119,  46.0484947 ,\n",
       "         64.41955662,  61.90421811,  64.61998397,  58.73619865,\n",
       "         69.49947872,  54.5958194 ,  80.71069581,   7.30819036,\n",
       "         78.58620286,  53.28341605, 138.15393132, 126.17180088,\n",
       "         72.65197388,  48.5434414 ,  73.56266557, 131.4877684 ,\n",
       "         85.21808878, 107.4486584 ,  34.55961517,  32.17176464,\n",
       "         28.30019392,  21.29285695,  17.14268187,  29.02774486,\n",
       "         33.14245655,  38.76935024,  90.68868977,  49.07291487,\n",
       "         55.59636812,  66.42477579,  70.04707424,  95.34784097,\n",
       "         86.38443647,  87.58369149,  67.02197632,  69.82438093,\n",
       "         55.56380499,  41.10145251,  26.64252303,  56.10503943,\n",
       "         45.73039698, 136.50969625, 140.30993661,  62.13761707,\n",
       "         83.66409566, 100.60958967,  50.56426983, 105.87349072,\n",
       "        140.84503994,  47.21430883,  41.94799687,  49.42064796,\n",
       "         44.15411629,  22.87287462,  27.55053759,  31.53612753,\n",
       "         32.29704188, 116.79909892,  92.77745667, 130.9101739 ,\n",
       "        134.57973729,  32.94101675,  23.64845703,  83.57297856,\n",
       "         34.50686485, 137.82081219,  25.81538144,  26.15715994,\n",
       "        116.43272219,  62.06139472,  22.87120587,  71.04058173]])"
      ]
     },
     "execution_count": 163,
     "metadata": {},
     "output_type": "execute_result"
    }
   ],
   "source": [
    "denominator_x"
   ]
  },
  {
   "cell_type": "code",
   "execution_count": 164,
   "id": "09b3a4a2-1bf9-48ab-8cd9-0b080d3cc99b",
   "metadata": {},
   "outputs": [],
   "source": [
    "corrs = (numerator / np.sqrt(denominator_x * denominator_y)).T"
   ]
  },
  {
   "cell_type": "code",
   "execution_count": 165,
   "id": "dee4ebbf-1541-4ba0-93f9-d70282a127ef",
   "metadata": {},
   "outputs": [
    {
     "data": {
      "text/plain": [
       "(array([ 9., 25., 27., 37., 26., 43., 37., 35., 14.,  7.]),\n",
       " array([-0.58677485, -0.4509323 , -0.31508976, -0.17924721, -0.04340467,\n",
       "         0.09243788,  0.22828043,  0.36412297,  0.49996552,  0.63580806,\n",
       "         0.77165061]),\n",
       " <BarContainer object of 10 artists>)"
      ]
     },
     "execution_count": 165,
     "metadata": {},
     "output_type": "execute_result"
    },
    {
     "data": {
      "image/png": "[encoded data removed]",
      "text/plain": [
       "<Figure size 432x288 with 1 Axes>"
      ]
     },
     "metadata": {
      "needs_background": "light"
     },
     "output_type": "display_data"
    }
   ],
   "source": [
    "hist(corrs[:,0])"
   ]
  },
  {
   "cell_type": "code",
   "execution_count": null,
   "id": "6a3ca465",
   "metadata": {},
   "outputs": [],
   "source": []
  }
 ],
 "metadata": {
  "kernelspec": {
   "display_name": "liana-py",
   "language": "python",
   "name": "liana-py"
  },
  "language_info": {
   "codemirror_mode": {
    "name": "ipython",
    "version": 3
   },
   "file_extension": ".py",
   "mimetype": "text/x-python",
   "name": "python",
   "nbconvert_exporter": "python",
   "pygments_lexer": "ipython3",
   "version": "3.8.8"
  }
 },
 "nbformat": 4,
 "nbformat_minor": 5
}
