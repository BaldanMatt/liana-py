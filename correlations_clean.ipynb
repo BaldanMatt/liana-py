{
 "cells": [
  {
   "cell_type": "code",
   "execution_count": null,
   "id": "153e7944-adbb-401e-914b-09c227dcfdea",
   "metadata": {},
   "outputs": [],
   "source": [
    "import squidpy as sq\n",
    "import scanpy as sc\n",
    "import pandas as pd\n",
    "import numpy as np\n",
    "from scipy.sparse import csr_matrix, isspmatrix_csr"
   ]
  },
  {
   "cell_type": "code",
   "execution_count": null,
   "id": "cbb22f08-505c-4087-af67-84577d421f60",
   "metadata": {},
   "outputs": [],
   "source": [
    "import liana as li"
   ]
  },
  {
   "cell_type": "code",
   "execution_count": null,
   "id": "4f0fe90c-bf2b-44b3-8798-8aaad0e402f1",
   "metadata": {},
   "outputs": [],
   "source": [
    "from matplotlib.pyplot import hist"
   ]
  },
  {
   "cell_type": "code",
   "execution_count": null,
   "id": "22a8de43-4ff7-4e93-9056-e27ba4a0afef",
   "metadata": {},
   "outputs": [],
   "source": [
    "from liana.method._global_lr_pipe import _global_lr_pipe\n",
    "from liana.method.sp._spatialdm import _get_ordered_matrix, _standardize_matrix"
   ]
  },
  {
   "cell_type": "code",
   "execution_count": null,
   "id": "943a8965",
   "metadata": {},
   "outputs": [],
   "source": []
  },
  {
   "cell_type": "code",
   "execution_count": null,
   "id": "b9f16311-988d-4b04-b544-3b9ae80f0b71",
   "metadata": {},
   "outputs": [],
   "source": [
    "counts = pd.read_csv(\"data/counts_mat.csv\")\n",
    "weights = pd.read_csv(\"data/weight_mat.csv\")"
   ]
  },
  {
   "cell_type": "code",
   "execution_count": null,
   "id": "1caf6c62-a727-40c5-94a9-5d6dcd535c48",
   "metadata": {},
   "outputs": [],
   "source": [
    "var = pd.DataFrame(counts[['Unnamed: 0']]).set_index('Unnamed: 0')\n",
    "var.index.name = None"
   ]
  },
  {
   "cell_type": "code",
   "execution_count": null,
   "id": "740b5fad-7447-4eef-ba35-6ef5e028da17",
   "metadata": {},
   "outputs": [],
   "source": [
    "adata = sc.AnnData(X=csr_matrix(counts.drop(counts.columns[0], axis=1), dtype=np.float32).T, var=var)"
   ]
  },
  {
   "cell_type": "code",
   "execution_count": null,
   "id": "bb9f37d6-da59-44ca-b304-222329b21237",
   "metadata": {},
   "outputs": [],
   "source": [
    "adata.obsm['proximity'] = csr_matrix(weights)"
   ]
  },
  {
   "cell_type": "code",
   "execution_count": null,
   "id": "10c311ac-b3a1-49fe-a054-83fb41aeb5e3",
   "metadata": {},
   "outputs": [],
   "source": []
  },
  {
   "cell_type": "code",
   "execution_count": null,
   "id": "c8fee01a-7e7a-4556-9c54-77a671b0a735",
   "metadata": {},
   "outputs": [],
   "source": [
    "resource = pd.DataFrame({\"ligand\":[\"Dnm1l\", \"Arrb1\", \"Igf2\", \"Dnm1l\"], \"receptor\":[\"Gucy1b3\", \"Mtor\", \"Tuba1a\", \"Fam63b\"]})"
   ]
  },
  {
   "cell_type": "code",
   "execution_count": null,
   "id": "43b18c02-ee7c-4980-8ec7-9da7418b0676",
   "metadata": {},
   "outputs": [],
   "source": []
  },
  {
   "cell_type": "code",
   "execution_count": null,
   "id": "9b2eae96-cedb-44e6-b9b1-e122bba505bb",
   "metadata": {},
   "outputs": [],
   "source": [
    "temp, lr_res, ligand_pos, receptor_pos = _global_lr_pipe(adata=adata,\n",
    "                                                         resource=resource,\n",
    "                                                         expr_prop=0.05,\n",
    "                                                         use_raw=False,\n",
    "                                                         verbose=True,\n",
    "                                                         layer=None,\n",
    "                                                         _key_cols=['ligand_complex', 'receptor_complex'],\n",
    "                                                         _complex_cols=['ligand_means', 'receptor_means'],\n",
    "                                                         _obms_keys=['proximity'],\n",
    "                                                         resource_name=None\n",
    "                                                         )"
   ]
  },
  {
   "cell_type": "code",
   "execution_count": null,
   "id": "5801b031-bfdc-4712-8191-26c88d7d6d59",
   "metadata": {},
   "outputs": [],
   "source": [
    "lr_res"
   ]
  },
  {
   "cell_type": "code",
   "execution_count": null,
   "id": "79c3025f-5d31-475b-85fb-8228c82fc7da",
   "metadata": {},
   "outputs": [],
   "source": []
  },
  {
   "cell_type": "markdown",
   "id": "f9b53bf1-be2e-4441-9833-99a17a48c3f7",
   "metadata": {},
   "source": [
    "Correlations"
   ]
  },
  {
   "cell_type": "code",
   "execution_count": null,
   "id": "09576b07-eb28-4dab-84f4-0917ac4ebb8e",
   "metadata": {},
   "outputs": [],
   "source": [
    "ligand_mat = _get_ordered_matrix(temp.X, ligand_pos, lr_res.ligand)\n",
    "receptor_mat = _get_ordered_matrix(temp.X, receptor_pos, lr_res.receptor)"
   ]
  },
  {
   "cell_type": "code",
   "execution_count": null,
   "id": "387a8e8d-f051-49b3-b7ef-c2990d247d83",
   "metadata": {},
   "outputs": [],
   "source": [
    "x, y = ligand_mat[0, :].A.flatten(), receptor_mat[0, :].A.flatten()"
   ]
  },
  {
   "cell_type": "code",
   "execution_count": null,
   "id": "1b518623-87e5-448c-87f2-18360735fe35",
   "metadata": {},
   "outputs": [],
   "source": [
    "from scipy.stats import spearmanr, pearsonr, pointbiserialr, kendalltau"
   ]
  },
  {
   "cell_type": "code",
   "execution_count": null,
   "id": "3568c25e-3ef5-45e1-b24c-1dd25f88a7ef",
   "metadata": {},
   "outputs": [],
   "source": [
    "pearsonr(x, y)"
   ]
  },
  {
   "cell_type": "code",
   "execution_count": null,
   "id": "bcde7882-060a-46c7-a9e0-e71fabed248c",
   "metadata": {},
   "outputs": [],
   "source": []
  },
  {
   "cell_type": "markdown",
   "id": "27734c88-857b-46fe-8e67-3e47e964509b",
   "metadata": {},
   "source": [
    "One by One"
   ]
  },
  {
   "cell_type": "code",
   "execution_count": null,
   "id": "1f465b2e-56c7-45f3-9e34-e33a338de7ac",
   "metadata": {},
   "outputs": [],
   "source": [
    "def wcor(x, y, weight):\n",
    "    weight_sum = np.sum(weight)\n",
    "    \n",
    "    numerator = weight_sum * np.sum(weight * x * y) - np.sum(weight * x) * np.sum(weight * y)\n",
    "    denominator_x = weight_sum * np.sum(weight * (x**2)) - np.sum(weight * x)**2\n",
    "    denominator_y = weight_sum * np.sum(weight * (y**2)) - np.sum(weight * y)**2\n",
    "    \n",
    "    wcor = numerator / np.sqrt(denominator_x * denominator_y)\n",
    "    \n",
    "    return wcor"
   ]
  },
  {
   "cell_type": "code",
   "execution_count": null,
   "id": "789f9ba8-3df6-4c99-9309-2fdeced50505",
   "metadata": {},
   "outputs": [],
   "source": [
    "adata.obsm['proximity']"
   ]
  },
  {
   "cell_type": "code",
   "execution_count": null,
   "id": "2ba43bf5-801a-47b7-a879-94ef695e699a",
   "metadata": {},
   "outputs": [],
   "source": [
    "i = 0"
   ]
  },
  {
   "cell_type": "code",
   "execution_count": null,
   "id": "06da56e4-35e4-4280-bf41-042318665a11",
   "metadata": {},
   "outputs": [],
   "source": [
    "# all weights = 1 (i.e. pearsonr)\n",
    "wcor(x, y, np.repeat(1, x.shape[0]))"
   ]
  },
  {
   "cell_type": "code",
   "execution_count": null,
   "id": "4cb13ae1",
   "metadata": {},
   "outputs": [],
   "source": []
  },
  {
   "cell_type": "code",
   "execution_count": null,
   "id": "3e260853-40fe-46dd-9969-0b7c6a4a8e6c",
   "metadata": {},
   "outputs": [],
   "source": []
  },
  {
   "cell_type": "code",
   "execution_count": null,
   "id": "454f7738-17ee-4542-9bc5-95a4adb4cad1",
   "metadata": {},
   "outputs": [],
   "source": [
    "weight = adata.obsm['proximity']"
   ]
  },
  {
   "cell_type": "code",
   "execution_count": null,
   "id": "c6547abd-49ef-4ff6-a16e-3d1ef4f4d002",
   "metadata": {},
   "outputs": [],
   "source": [
    "# calculate all local correlations\n",
    "# technically, if we take i (a spot), x and y (e.g. genes),\n",
    "# we go over all rows in w (i.e. every spot)\n",
    "# and we re-calculate PC with the spatial weights \n",
    "# for the spots i to any other spot (j)\n",
    "local_corrs = []\n",
    "for i in range(weight.shape[0]):\n",
    "    local_corrs.append(wcor(x, y, weight[i, :].A))\n",
    "local_corrs = np.array(local_corrs)"
   ]
  },
  {
   "cell_type": "code",
   "execution_count": null,
   "id": "440cf97a-fca9-4809-8072-8b5899f732de",
   "metadata": {},
   "outputs": [],
   "source": [
    "hist(local_corrs)"
   ]
  },
  {
   "cell_type": "code",
   "execution_count": null,
   "id": "883ae786-b729-4cd7-aa00-364eb1b1f009",
   "metadata": {},
   "outputs": [],
   "source": [
    "local_corrs[0:5]"
   ]
  },
  {
   "cell_type": "code",
   "execution_count": null,
   "id": "bceb78b3",
   "metadata": {},
   "outputs": [],
   "source": []
  },
  {
   "attachments": {},
   "cell_type": "markdown",
   "id": "612f9ee3",
   "metadata": {},
   "source": [
    "masked"
   ]
  },
  {
   "cell_type": "code",
   "execution_count": null,
   "id": "11ffaef1",
   "metadata": {},
   "outputs": [],
   "source": [
    "import scipy.stats as stats"
   ]
  },
  {
   "cell_type": "code",
   "execution_count": null,
   "id": "bb1a8e28",
   "metadata": {},
   "outputs": [],
   "source": [
    "ligand_mat = _get_ordered_matrix(temp.X, ligand_pos, lr_res.ligand)\n",
    "receptor_mat = _get_ordered_matrix(temp.X, receptor_pos, lr_res.receptor)\n",
    "x, y = ligand_mat[0, :].A.flatten(), receptor_mat[0, :].A.flatten()"
   ]
  },
  {
   "cell_type": "code",
   "execution_count": null,
   "id": "e192110f",
   "metadata": {},
   "outputs": [],
   "source": [
    "def wcor_ma(x, y, weight):\n",
    "    weight_sum = np.sum(weight)\n",
    "    \n",
    "    n1 = weight_sum * np.dot(weight, x * y)\n",
    "    n2 = np.dot(weight, x) * np.dot(weight, y)\n",
    "    numerator = n1 - n2\n",
    "    \n",
    "    denominator_x = weight_sum * np.dot(weight, x**2) - np.dot(weight, x)**2\n",
    "    denominator_y = weight_sum * np.dot(weight, y**2) - np.dot(weight, y)**2\n",
    "    \n",
    "    corr = numerator / np.sqrt(denominator_x * denominator_y)\n",
    "    \n",
    "    return corr"
   ]
  },
  {
   "cell_type": "code",
   "execution_count": null,
   "id": "7838d06f",
   "metadata": {},
   "outputs": [],
   "source": []
  },
  {
   "cell_type": "code",
   "execution_count": null,
   "id": "21932112",
   "metadata": {},
   "outputs": [],
   "source": [
    "weight = adata.obsm['proximity'].A"
   ]
  },
  {
   "cell_type": "code",
   "execution_count": null,
   "id": "c04b3dac",
   "metadata": {},
   "outputs": [],
   "source": [
    "# msk = np.isnan(weight)\n",
    "msk = np.logical_not(weight>0).astype(np.int16)"
   ]
  },
  {
   "cell_type": "code",
   "execution_count": null,
   "id": "89e719f3",
   "metadata": {},
   "outputs": [],
   "source": [
    "weight = np.ma.masked_array(weight, mask=msk)"
   ]
  },
  {
   "cell_type": "code",
   "execution_count": null,
   "id": "c177f7a3",
   "metadata": {},
   "outputs": [],
   "source": [
    "xy_n = len(x)"
   ]
  },
  {
   "cell_type": "code",
   "execution_count": null,
   "id": "23af2dbd",
   "metadata": {},
   "outputs": [],
   "source": [
    "x_ma = np.reshape(np.repeat(x, xy_n), newshape=(xy_n, xy_n)).T\n",
    "y_ma = np.reshape(np.repeat(y, xy_n), newshape=(xy_n, xy_n)).T\n",
    "\n",
    "# x_ma = np.ma.masked_array(x_ma, mask=msk.T, fill_value=np.nan).T\n",
    "# y_ma = np.ma.masked_array(y_ma, mask=msk.T, fill_value=np.nan).T"
   ]
  },
  {
   "cell_type": "code",
   "execution_count": null,
   "id": "512ea1d8",
   "metadata": {},
   "outputs": [],
   "source": [
    "# x_ma = np.ma.masked_array(stats.mstats.rankdata(x_ma, axis=1), msk)\n",
    "# y_ma = np.ma.masked_array(stats.mstats.rankdata(y_ma, axis=1), msk)"
   ]
  },
  {
   "cell_type": "code",
   "execution_count": null,
   "id": "ed97d393",
   "metadata": {},
   "outputs": [],
   "source": [
    "local_corrs = []\n",
    "for i in range(weight.shape[0]):\n",
    "    local_corrs.append(wcor_ma(x_ma[i, :], y_ma[i, :], weight[i, :]))\n",
    "local_corrs = np.array(local_corrs)"
   ]
  },
  {
   "cell_type": "code",
   "execution_count": null,
   "id": "312bb157",
   "metadata": {},
   "outputs": [],
   "source": [
    "local_corrs[0:5]"
   ]
  },
  {
   "cell_type": "code",
   "execution_count": null,
   "id": "e00214b8",
   "metadata": {},
   "outputs": [],
   "source": []
  },
  {
   "cell_type": "code",
   "execution_count": null,
   "id": "2148aa22",
   "metadata": {},
   "outputs": [],
   "source": [
    "def masked_wcor(x, y, weight, method='spearman_nzw'):\n",
    "    spot_n = x.shape[0]\n",
    "    \n",
    "    # reshape x and y to be the same shape as weight\n",
    "    x = np.reshape(np.repeat(x, spot_n), newshape=(xy_n, spot_n)).T\n",
    "    y = np.reshape(np.repeat(y, spot_n), newshape=(xy_n, spot_n)).T\n",
    "    \n",
    "    # mask x and y with the same mask as weight\n",
    "    x_masked = np.ma.array(x, mask = weight.mask, fill_value=np.nan)\n",
    "    y_masked = np.ma.array(y, mask = weight.mask, fill_value=np.nan)\n",
    "    \n",
    "    if method == 'spearman_nzw':\n",
    "        x_masked = stats.mstats.rankdata(x_masked, axis=1)\n",
    "        y_masked = stats.mstats.rankdata(y_masked, axis=1)\n",
    "    \n",
    "    # calculate weighted pearson correlation\n",
    "    n1 = np.ma.sum(weight, axis=1) * np.ma.sum(weight * x_masked * y_masked, axis=1)\n",
    "    n2 = np.ma.sum(weight * x_masked, axis=1) * np.ma.sum(weight * y_masked, axis=1)\n",
    "    numerator = n1 - n2\n",
    "    \n",
    "    denominator_x = np.ma.sum(weight, axis=1) * np.ma.sum(weight * x_masked**2, axis=1) - np.ma.sum(weight * x_masked, axis=1)**2\n",
    "    denominator_y = np.ma.sum(weight, axis=1) * np.ma.sum(weight * y_masked**2, axis=1) - np.ma.sum(weight * y_masked, axis=1)**2\n",
    "    wcor = numerator / np.ma.sqrt(denominator_x * denominator_y)\n",
    "    \n",
    "    return wcor.data"
   ]
  },
  {
   "cell_type": "code",
   "execution_count": null,
   "id": "6d1b88d1",
   "metadata": {},
   "outputs": [],
   "source": [
    "masked_wcor(x, y, weight, method='spearman_nzw')[0:5]"
   ]
  },
  {
   "cell_type": "code",
   "execution_count": null,
   "id": "ba2d1611",
   "metadata": {},
   "outputs": [],
   "source": []
  },
  {
   "cell_type": "code",
   "execution_count": null,
   "id": "372c8f49",
   "metadata": {},
   "outputs": [],
   "source": [
    "local_correlations = []\n",
    "for i in range(ligand_mat.shape[0]):\n",
    "    local_correlations.append(masked_wcor(ligand_mat.A[i, :], receptor_mat.A[i, :], weight))\n",
    "local_correlations = np.array(local_correlations)"
   ]
  },
  {
   "cell_type": "code",
   "execution_count": null,
   "id": "02e676c4",
   "metadata": {},
   "outputs": [],
   "source": [
    "local_correlations"
   ]
  },
  {
   "cell_type": "code",
   "execution_count": null,
   "id": "3c6a6313",
   "metadata": {},
   "outputs": [],
   "source": []
  },
  {
   "attachments": {},
   "cell_type": "markdown",
   "id": "0afdf754",
   "metadata": {},
   "source": [
    "Clean"
   ]
  },
  {
   "cell_type": "code",
   "execution_count": null,
   "id": "153e7944-adbb-401e-914b-09c227dcfdea",
   "metadata": {},
   "outputs": [],
   "source": [
    "import squidpy as sq\n",
    "import scanpy as sc\n",
    "import pandas as pd\n",
    "import numpy as np\n",
    "from scipy.sparse import csr_matrix, isspmatrix_csr"
   ]
  },
  {
   "cell_type": "code",
   "execution_count": null,
   "id": "cbb22f08-505c-4087-af67-84577d421f60",
   "metadata": {},
   "outputs": [],
   "source": [
    "import liana as li"
   ]
  },
  {
   "cell_type": "code",
   "execution_count": null,
   "id": "4f0fe90c-bf2b-44b3-8798-8aaad0e402f1",
   "metadata": {},
   "outputs": [],
   "source": [
    "from matplotlib.pyplot import hist"
   ]
  },
  {
   "cell_type": "code",
   "execution_count": null,
   "id": "5e601378",
   "metadata": {},
   "outputs": [],
   "source": [
    "from liana.method._global_lr_pipe import _global_lr_pipe\n",
    "from liana.method.sp._spatialdm import _get_ordered_matrix, _standardize_matrix"
   ]
  },
  {
   "cell_type": "code",
   "execution_count": null,
   "id": "d8c4f241",
   "metadata": {},
   "outputs": [],
   "source": [
    "from scipy.stats import rankdata"
   ]
  },
  {
   "cell_type": "code",
   "execution_count": null,
   "id": "9860d383",
   "metadata": {},
   "outputs": [],
   "source": []
  },
  {
   "cell_type": "code",
   "execution_count": null,
   "id": "18fb86d6",
   "metadata": {},
   "outputs": [],
   "source": [
    "# toy data and toy resource\n",
    "adata = sc.read_h5ad(\"test_spatial.h5ad\")\n",
    "resource = pd.DataFrame({\"ligand\":[\"Dnm1l\", \"Arrb1\", \"Igf2\"],\n",
    "                         \"receptor\":[\"Gucy1b3\", \"Mtor\", \"Tuba1a\"]}\n",
    "                        )"
   ]
  },
  {
   "cell_type": "code",
   "execution_count": null,
   "id": "2cf8984e",
   "metadata": {},
   "outputs": [],
   "source": []
  },
  {
   "cell_type": "code",
   "execution_count": null,
   "id": "503f54d4",
   "metadata": {},
   "outputs": [],
   "source": [
    "temp, lr_res, ligand_pos, receptor_pos = _global_lr_pipe(adata=adata,\n",
    "                                                         resource=resource,\n",
    "                                                         expr_prop=0.05,\n",
    "                                                         use_raw=False,\n",
    "                                                         verbose=True,\n",
    "                                                         layer=None,\n",
    "                                                         _key_cols=['ligand_complex', 'receptor_complex'],\n",
    "                                                         _complex_cols=['ligand_means', 'receptor_means'],\n",
    "                                                         _obms_keys=['proximity'],\n",
    "                                                         resource_name=None\n",
    "                                                         )"
   ]
  },
  {
   "cell_type": "code",
   "execution_count": null,
   "id": "fd4708ad",
   "metadata": {},
   "outputs": [],
   "source": []
  },
  {
   "cell_type": "code",
   "execution_count": null,
   "id": "0e95b8ba",
   "metadata": {},
   "outputs": [],
   "source": [
    "# ligand-receptor mats\n",
    "ligand_mat = _get_ordered_matrix(temp.X, ligand_pos, lr_res.ligand)\n",
    "receptor_mat = _get_ordered_matrix(temp.X, receptor_pos, lr_res.receptor)"
   ]
  },
  {
   "cell_type": "code",
   "execution_count": null,
   "id": "09d88faa",
   "metadata": {},
   "outputs": [],
   "source": [
    "x_mat = ligand_mat.A\n",
    "y_mat = receptor_mat.A"
   ]
  },
  {
   "cell_type": "code",
   "execution_count": null,
   "id": "9133666e",
   "metadata": {},
   "outputs": [],
   "source": [
    "dist = adata.obsm['proximity']"
   ]
  },
  {
   "cell_type": "code",
   "execution_count": null,
   "id": "3573cd36",
   "metadata": {},
   "outputs": [],
   "source": [
    "def calculate_local_correlations(x_mat, y_mat, dist, method=\"pearson\"):\n",
    "    if method not in [\"pearson\", \"spearman\", \"spearman_nz\"]:\n",
    "        raise ValueError(\"method must be one of 'pearson', 'spearman', 'spearman_nz'\")\n",
    "    \n",
    "    weight = dist.A.T ## does it really need to be A?\n",
    "    weight_sums = np.sum(weight, axis = 0).flatten()\n",
    "        \n",
    "    if method==\"spearman\":\n",
    "        x_mat = rankdata(x_mat, axis=1)\n",
    "        y_mat = rankdata(y_mat, axis=1)\n",
    "    \n",
    "    # standard pearson\n",
    "    n1 = (((x_mat * y_mat).dot(weight)) * weight_sums)\n",
    "    n2 = (x_mat.dot(weight)) * (y_mat.dot(weight))\n",
    "    numerator = n1 - n2\n",
    "    \n",
    "    denominator_x = (weight_sums * (x_mat ** 2).dot(weight)) - (x_mat.dot(weight))**2\n",
    "    denominator_y = (weight_sums * (y_mat ** 2).dot(weight)) - (y_mat.dot(weight))**2\n",
    "    \n",
    "    local_corrs = (numerator / np.sqrt(denominator_x * denominator_y))\n",
    "    \n",
    "    return local_corrs"
   ]
  },
  {
   "cell_type": "code",
   "execution_count": null,
   "id": "297b3e2d",
   "metadata": {},
   "outputs": [],
   "source": [
    "local_pc = calculate_local_correlations(x_mat, y_mat, dist, method=\"pearson\")\n",
    "local_sp = calculate_local_correlations(x_mat, y_mat, dist, method=\"spearman\")"
   ]
  },
  {
   "cell_type": "code",
   "execution_count": null,
   "id": "700b6b47",
   "metadata": {},
   "outputs": [],
   "source": [
    "hist(local_pc[0,:])"
   ]
  },
  {
   "cell_type": "code",
   "execution_count": null,
   "id": "a7b6af6c",
   "metadata": {},
   "outputs": [],
   "source": []
  },
  {
   "cell_type": "code",
   "execution_count": null,
   "id": "2f609013",
   "metadata": {},
   "outputs": [],
   "source": []
  },
  {
   "cell_type": "code",
   "execution_count": null,
   "id": "0cc126f6",
   "metadata": {},
   "outputs": [],
   "source": [
    "weight = dist.A.T ## does it really need to be A?"
   ]
  },
  {
   "cell_type": "code",
   "execution_count": null,
   "id": "41e77e49",
   "metadata": {},
   "outputs": [],
   "source": [
    "np.mean(x_mat.dot(weight))"
   ]
  },
  {
   "cell_type": "code",
   "execution_count": null,
   "id": "6aa2b4c6",
   "metadata": {},
   "outputs": [],
   "source": []
  },
  {
   "cell_type": "code",
   "execution_count": null,
   "id": "663b3b97",
   "metadata": {},
   "outputs": [],
   "source": [
    "msk = np.int16(weight==0)"
   ]
  },
  {
   "cell_type": "code",
   "execution_count": null,
   "id": "9008a298",
   "metadata": {},
   "outputs": [],
   "source": [
    "weight2 = np.ma.masked_array(data = weight, mask=msk, fill_value=np.nan)"
   ]
  },
  {
   "cell_type": "code",
   "execution_count": null,
   "id": "abae78a5",
   "metadata": {},
   "outputs": [],
   "source": [
    "x_mat2 = np.ma.masked_array(x_mat, mask=np.isnan(x_mat))"
   ]
  },
  {
   "cell_type": "code",
   "execution_count": null,
   "id": "d112e5d9",
   "metadata": {},
   "outputs": [],
   "source": [
    "x_mat.shape"
   ]
  },
  {
   "cell_type": "code",
   "execution_count": null,
   "id": "411f334b",
   "metadata": {},
   "outputs": [],
   "source": [
    "xx = np.ma.masked_array.dot(x_mat2, weight2)"
   ]
  },
  {
   "cell_type": "code",
   "execution_count": null,
   "id": "5a486280",
   "metadata": {},
   "outputs": [],
   "source": [
    "weight2 * 2"
   ]
  },
  {
   "cell_type": "code",
   "execution_count": null,
   "id": "70399a35",
   "metadata": {},
   "outputs": [],
   "source": [
    "np.mean(xx)"
   ]
  },
  {
   "cell_type": "code",
   "execution_count": null,
   "id": "6b1a6a64",
   "metadata": {},
   "outputs": [],
   "source": []
  },
  {
   "cell_type": "code",
   "execution_count": null,
   "id": "9af0767d",
   "metadata": {},
   "outputs": [],
   "source": [
    "hist(local_spnz[0,:])"
   ]
  },
  {
   "cell_type": "code",
   "execution_count": null,
   "id": "2b130315",
   "metadata": {},
   "outputs": [],
   "source": [
    "from scipy.stats import spearmanr, pearsonr"
   ]
  },
  {
   "cell_type": "code",
   "execution_count": null,
   "id": "55b3f299",
   "metadata": {},
   "outputs": [],
   "source": [
    "pearsonr(local_spnz[0,:], local_sp[0,:])"
   ]
  },
  {
   "cell_type": "code",
   "execution_count": null,
   "id": "7f732c19",
   "metadata": {},
   "outputs": [],
   "source": []
  },
  {
   "attachments": {},
   "cell_type": "markdown",
   "id": "20c66314",
   "metadata": {},
   "source": [
    "local p-values"
   ]
  },
  {
   "cell_type": "code",
   "execution_count": null,
   "id": "2d2a26c4",
   "metadata": {},
   "outputs": [],
   "source": [
    "from numpy import random\n",
    "from tqdm import tqdm"
   ]
  },
  {
   "cell_type": "code",
   "execution_count": null,
   "id": "af430595",
   "metadata": {},
   "outputs": [],
   "source": [
    "rng = random.default_rng()\n",
    "n_perm = 1000\n",
    "positive_only = True # remove this option?"
   ]
  },
  {
   "cell_type": "code",
   "execution_count": null,
   "id": "8bb8d8c3",
   "metadata": {},
   "outputs": [],
   "source": [
    "local_pc.shape"
   ]
  },
  {
   "cell_type": "code",
   "execution_count": null,
   "id": "b9f0a2a7",
   "metadata": {},
   "outputs": [],
   "source": [
    "def _get_local_permutation_pvals(x_mat, y_mat, truth, function, dist, n_perm, positive_only=True, **kwargs):\n",
    "    xy_n = truth.shape[0]\n",
    "    spot_n = truth.shape[1]\n",
    "    \n",
    "    # permutation cubes to be populated\n",
    "    local_pvals = np.zeros((xy_n, spot_n))\n",
    "    \n",
    "    # shuffle the matrix\n",
    "    for i in tqdm(range(n_perm)):\n",
    "        _idx = rng.permutation(spot_n)\n",
    "        perm_r = function(x_mat = x_mat[:, _idx], y_mat=y_mat, dist=dist, **kwargs)\n",
    "        if positive_only:\n",
    "            local_pvals += np.array(perm_r >= truth, dtype=int)\n",
    "        else:\n",
    "            local_pvals += (np.array(np.abs(perm_r) >= np.abs(truth), dtype=int))\n",
    "\n",
    "    local_pvals = local_pvals / n_perm\n",
    "    \n",
    "    return local_pvals\n",
    "    "
   ]
  },
  {
   "cell_type": "code",
   "execution_count": null,
   "id": "ff308c66",
   "metadata": {},
   "outputs": [],
   "source": [
    "local_pvals = _get_local_permutation_pvals(x_mat, y_mat, local_pc, calculate_local_correlations, dist, n_perm, positive_only=True)"
   ]
  },
  {
   "cell_type": "code",
   "execution_count": null,
   "id": "7c8b5359",
   "metadata": {},
   "outputs": [],
   "source": [
    "local_pc.shape[1]"
   ]
  },
  {
   "cell_type": "code",
   "execution_count": null,
   "id": "4e5f6f90",
   "metadata": {},
   "outputs": [],
   "source": [
    "local_pvals.T"
   ]
  },
  {
   "cell_type": "code",
   "execution_count": null,
   "id": "1f30255c",
   "metadata": {},
   "outputs": [],
   "source": [
    "spot_n = pc.shape[1]  # n of 1:1 edges \n",
    "xy_n = pc.shape[0] # n of x-y pairs (e.g. lrs)\n",
    "\n",
    "# permutation cubes to be populated\n",
    "local_pvals = np.zeros((xy_n, spot_n))"
   ]
  },
  {
   "cell_type": "code",
   "execution_count": null,
   "id": "5625143f",
   "metadata": {},
   "outputs": [],
   "source": [
    "\n",
    "for i in tqdm(range(n_perm)):\n",
    "    _idx = rng.permutation(x_mat.shape[0])\n",
    "    perm_r = calculate_local_correlations(x_mat[_idx, :], y_mat, dist)\n",
    "    if positive_only:\n",
    "        local_pvals += np.array(perm_r >= pc, dtype=int)\n",
    "    else:\n",
    "        local_pvals += (np.array(np.abs(perm_r) >= np.abs(pc), dtype=int))\n",
    "\n",
    "local_pvals = local_pvals / n_perm"
   ]
  },
  {
   "cell_type": "code",
   "execution_count": null,
   "id": "55cfd4e0",
   "metadata": {},
   "outputs": [],
   "source": [
    "local_pvals.shape"
   ]
  }
 ],
 "metadata": {
  "kernelspec": {
   "display_name": "liana-py",
   "language": "python",
   "name": "liana-py"
  },
  "language_info": {
   "codemirror_mode": {
    "name": "ipython",
    "version": 3
   },
   "file_extension": ".py",
   "mimetype": "text/x-python",
   "name": "python",
   "nbconvert_exporter": "python",
   "pygments_lexer": "ipython3",
   "version": "3.8.8"
  }
 },
 "nbformat": 4,
 "nbformat_minor": 5
}
