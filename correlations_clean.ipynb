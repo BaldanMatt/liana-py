{
 "cells": [
  {
   "cell_type": "code",
   "execution_count": 74,
   "id": "afe4cf0d",
   "metadata": {},
   "outputs": [],
   "source": [
    "import numba as nb"
   ]
  },
  {
   "cell_type": "code",
   "execution_count": 75,
   "id": "153e7944-adbb-401e-914b-09c227dcfdea",
   "metadata": {},
   "outputs": [],
   "source": [
    "import squidpy as sq\n",
    "import scanpy as sc\n",
    "import pandas as pd\n",
    "import numpy as np\n",
    "from scipy.sparse import csr_matrix, isspmatrix_csr"
   ]
  },
  {
   "cell_type": "code",
   "execution_count": 76,
   "id": "cbb22f08-505c-4087-af67-84577d421f60",
   "metadata": {},
   "outputs": [],
   "source": [
    "import liana as li"
   ]
  },
  {
   "cell_type": "code",
   "execution_count": 77,
   "id": "4f0fe90c-bf2b-44b3-8798-8aaad0e402f1",
   "metadata": {},
   "outputs": [],
   "source": [
    "from matplotlib.pyplot import hist"
   ]
  },
  {
   "cell_type": "code",
   "execution_count": 78,
   "id": "22a8de43-4ff7-4e93-9056-e27ba4a0afef",
   "metadata": {},
   "outputs": [],
   "source": [
    "from liana.method._global_lr_pipe import _global_lr_pipe\n",
    "from liana.method.sp._spatialdm import _get_ordered_matrix, _standardize_matrix"
   ]
  },
  {
   "cell_type": "code",
   "execution_count": null,
   "id": "b9f16311-988d-4b04-b544-3b9ae80f0b71",
   "metadata": {},
   "outputs": [],
   "source": []
  },
  {
   "cell_type": "code",
   "execution_count": 6,
   "id": "1caf6c62-a727-40c5-94a9-5d6dcd535c48",
   "metadata": {},
   "outputs": [],
   "source": [
    "# # scHOT data\n",
    "# counts = pd.read_csv(\"data/counts_mat.csv\")\n",
    "# weights = pd.read_csv(\"data/weight_mat.csv\")\n",
    "# var = pd.DataFrame(counts[['Unnamed: 0']]).set_index('Unnamed: 0')\n",
    "# var.index.name = None\n",
    "# adata = sc.AnnData(X=csr_matrix(counts.drop(counts.columns[0], axis=1), dtype=np.float32).T, var=var)\n",
    "# adata.obsm['proximity'] = csr_matrix(weights)"
   ]
  },
  {
   "cell_type": "code",
   "execution_count": null,
   "id": "a9f07752",
   "metadata": {},
   "outputs": [],
   "source": []
  },
  {
   "cell_type": "code",
   "execution_count": 202,
   "id": "3b30f85e",
   "metadata": {},
   "outputs": [],
   "source": [
    "# scHOT data test\n",
    "adata = sc.read_h5ad(\"test_spatial.h5ad\")\n",
    "resource = pd.DataFrame({\"ligand\":[\"Dnm1l\", \"Arrb1\", \"Igf2\", \"Dnm1l\"], \"receptor\":[\"Gucy1b3\", \"Mtor\", \"Tuba1a\", \"Fam63b\"]})\n",
    "dist = adata.obsm['proximity']"
   ]
  },
  {
   "cell_type": "code",
   "execution_count": 203,
   "id": "e6020530",
   "metadata": {},
   "outputs": [],
   "source": [
    "n_perm = 100\n",
    "seed = 0"
   ]
  },
  {
   "cell_type": "code",
   "execution_count": null,
   "id": "58cb788f",
   "metadata": {},
   "outputs": [],
   "source": []
  },
  {
   "cell_type": "code",
   "execution_count": 163,
   "id": "442d2fdf",
   "metadata": {},
   "outputs": [],
   "source": [
    "# full visium slide\n",
    "# load the pre-processed dataset\n",
    "img = sq.datasets.visium_hne_image()\n",
    "adata = sq.datasets.visium_hne_adata()\n",
    "\n",
    "li.mt.get_spatial_proximity(adata=adata, parameter=200, bypass_diagonal=False, cutoff=0.1)\n",
    "dist = adata.obsm['proximity']\n",
    "\n",
    "my_p = li.pl.proximity_plot(adata, idx=100)\n",
    "resource = li.resource.select_resource(\"mouseconsensus\")"
   ]
  },
  {
   "cell_type": "code",
   "execution_count": null,
   "id": "a4aac8f6",
   "metadata": {},
   "outputs": [],
   "source": []
  },
  {
   "cell_type": "code",
   "execution_count": 204,
   "id": "9b2eae96-cedb-44e6-b9b1-e122bba505bb",
   "metadata": {},
   "outputs": [
    {
     "name": "stdout",
     "output_type": "stream",
     "text": [
      "Using `.X`!\n",
      "Converting mat to CSR format\n"
     ]
    }
   ],
   "source": [
    "temp, lr_res, ligand_pos, receptor_pos = _global_lr_pipe(adata=adata,\n",
    "                                                         resource=resource,\n",
    "                                                         expr_prop=0.05,\n",
    "                                                         use_raw=False,\n",
    "                                                         verbose=True,\n",
    "                                                         layer=None,\n",
    "                                                         _key_cols=['ligand_complex', 'receptor_complex'],\n",
    "                                                         _complex_cols=['ligand_means', 'receptor_means'],\n",
    "                                                         _obms_keys=['proximity'],\n",
    "                                                         resource_name=None\n",
    "                                                         )"
   ]
  },
  {
   "cell_type": "code",
   "execution_count": 205,
   "id": "22989614",
   "metadata": {},
   "outputs": [],
   "source": [
    "# lr_res = lr_res.head(50)"
   ]
  },
  {
   "cell_type": "code",
   "execution_count": 206,
   "id": "76acd258",
   "metadata": {},
   "outputs": [],
   "source": [
    "x_mat = _get_ordered_matrix(temp.X, ligand_pos, lr_res.ligand).A.astype(np.float32).T\n",
    "y_mat = _get_ordered_matrix(temp.X, receptor_pos, lr_res.receptor).A.astype(np.float32).T"
   ]
  },
  {
   "cell_type": "code",
   "execution_count": 207,
   "id": "ee5c3bc9",
   "metadata": {},
   "outputs": [
    {
     "data": {
      "text/html": [
       "<div>\n",
       "<style scoped>\n",
       "    .dataframe tbody tr th:only-of-type {\n",
       "        vertical-align: middle;\n",
       "    }\n",
       "\n",
       "    .dataframe tbody tr th {\n",
       "        vertical-align: top;\n",
       "    }\n",
       "\n",
       "    .dataframe thead th {\n",
       "        text-align: right;\n",
       "    }\n",
       "</style>\n",
       "<table border=\"1\" class=\"dataframe\">\n",
       "  <thead>\n",
       "    <tr style=\"text-align: right;\">\n",
       "      <th></th>\n",
       "      <th>interaction</th>\n",
       "      <th>ligand</th>\n",
       "      <th>receptor</th>\n",
       "      <th>ligand_complex</th>\n",
       "      <th>receptor_complex</th>\n",
       "      <th>ligand_means</th>\n",
       "      <th>ligand_props</th>\n",
       "      <th>receptor_means</th>\n",
       "      <th>receptor_props</th>\n",
       "      <th>prop_min</th>\n",
       "    </tr>\n",
       "  </thead>\n",
       "  <tbody>\n",
       "    <tr>\n",
       "      <th>0</th>\n",
       "      <td>Dnm1l&amp;Gucy1b3</td>\n",
       "      <td>Dnm1l</td>\n",
       "      <td>Gucy1b3</td>\n",
       "      <td>Dnm1l</td>\n",
       "      <td>Gucy1b3</td>\n",
       "      <td>2.682889</td>\n",
       "      <td>0.950000</td>\n",
       "      <td>3.117442</td>\n",
       "      <td>0.976923</td>\n",
       "      <td>0.950000</td>\n",
       "    </tr>\n",
       "    <tr>\n",
       "      <th>1</th>\n",
       "      <td>Dnm1l&amp;Fam63b</td>\n",
       "      <td>Dnm1l</td>\n",
       "      <td>Fam63b</td>\n",
       "      <td>Dnm1l</td>\n",
       "      <td>Fam63b</td>\n",
       "      <td>2.682889</td>\n",
       "      <td>0.950000</td>\n",
       "      <td>1.781250</td>\n",
       "      <td>0.830769</td>\n",
       "      <td>0.830769</td>\n",
       "    </tr>\n",
       "    <tr>\n",
       "      <th>2</th>\n",
       "      <td>Arrb1&amp;Mtor</td>\n",
       "      <td>Arrb1</td>\n",
       "      <td>Mtor</td>\n",
       "      <td>Arrb1</td>\n",
       "      <td>Mtor</td>\n",
       "      <td>2.665413</td>\n",
       "      <td>0.957692</td>\n",
       "      <td>2.298451</td>\n",
       "      <td>0.907692</td>\n",
       "      <td>0.907692</td>\n",
       "    </tr>\n",
       "    <tr>\n",
       "      <th>3</th>\n",
       "      <td>Igf2&amp;Tuba1a</td>\n",
       "      <td>Igf2</td>\n",
       "      <td>Tuba1a</td>\n",
       "      <td>Igf2</td>\n",
       "      <td>Tuba1a</td>\n",
       "      <td>1.924077</td>\n",
       "      <td>0.892308</td>\n",
       "      <td>6.466562</td>\n",
       "      <td>1.000000</td>\n",
       "      <td>0.892308</td>\n",
       "    </tr>\n",
       "  </tbody>\n",
       "</table>\n",
       "</div>"
      ],
      "text/plain": [
       "     interaction ligand receptor ligand_complex receptor_complex  \\\n",
       "0  Dnm1l&Gucy1b3  Dnm1l  Gucy1b3          Dnm1l          Gucy1b3   \n",
       "1   Dnm1l&Fam63b  Dnm1l   Fam63b          Dnm1l           Fam63b   \n",
       "2     Arrb1&Mtor  Arrb1     Mtor          Arrb1             Mtor   \n",
       "3    Igf2&Tuba1a   Igf2   Tuba1a           Igf2           Tuba1a   \n",
       "\n",
       "   ligand_means  ligand_props  receptor_means  receptor_props  prop_min  \n",
       "0      2.682889      0.950000        3.117442        0.976923  0.950000  \n",
       "1      2.682889      0.950000        1.781250        0.830769  0.830769  \n",
       "2      2.665413      0.957692        2.298451        0.907692  0.907692  \n",
       "3      1.924077      0.892308        6.466562        1.000000  0.892308  "
      ]
     },
     "execution_count": 207,
     "metadata": {},
     "output_type": "execute_result"
    }
   ],
   "source": [
    "lr_res.head()"
   ]
  },
  {
   "cell_type": "code",
   "execution_count": null,
   "id": "d217d151",
   "metadata": {},
   "outputs": [],
   "source": []
  },
  {
   "cell_type": "code",
   "execution_count": null,
   "id": "5b7c9963",
   "metadata": {},
   "outputs": [],
   "source": []
  },
  {
   "cell_type": "code",
   "execution_count": 208,
   "id": "0441e374",
   "metadata": {},
   "outputs": [],
   "source": [
    "@nb.njit(nb.f4(nb.f4[:], nb.f4[:], nb.f4[:], nb.f4, nb.boolean), cache=True)\n",
    "def wcor(x, y, w, wsum, rank):\n",
    "    \n",
    "    if rank:\n",
    "        x = np.argsort(x).argsort().astype(nb.f4)\n",
    "        y = np.argsort(y).argsort().astype(nb.f4)\n",
    "    \n",
    "    wx = w * x\n",
    "    wy = w * y\n",
    "    \n",
    "    numerator = wsum * np.sum(wx * y) - np.sum(wx) * np.sum(wy)\n",
    "    \n",
    "    denominator_x = wsum * np.sum(w * (x**2)) - np.sum(wx)**2\n",
    "    denominator_y = wsum * np.sum(w * (y**2)) - np.sum(wy)**2\n",
    "    denominator = np.sqrt(denominator_x * denominator_y + 1.0e-20) # avoid division by zero\n",
    "    \n",
    "    return numerator / denominator"
   ]
  },
  {
   "cell_type": "code",
   "execution_count": 209,
   "id": "4a1eae8d",
   "metadata": {},
   "outputs": [],
   "source": [
    "@nb.njit(nb.f4(nb.f4[:], nb.f4[:], nb.f4[:], nb.f4, nb.int8), cache=True)\n",
    "def _wcoex(x, y, w, wsum, method):\n",
    "        if method == 0: # pearson\n",
    "            c = wcor(x, y, w, wsum, False)\n",
    "        if method == 1: # spearman\n",
    "            c = wcor(x, y, w, wsum, True)\n",
    "        return c"
   ]
  },
  {
   "cell_type": "code",
   "execution_count": 210,
   "id": "afdcff2f",
   "metadata": {},
   "outputs": [],
   "source": [
    "# 0 = pearson, 1 = spearman\n",
    "@nb.njit(nb.f4[:,:](nb.f4[:,:], nb.f4[:,:], nb.f4[:,:], nb.f4, nb.int8, nb.f4), cache=True, parallel=True)\n",
    "def weighted_coexpression(x_mat, y_mat, weight, wsum, method, msk_thr):\n",
    "    spot_n = x_mat.shape[0]\n",
    "    xy_n = x_mat.shape[1]\n",
    "    \n",
    "    local_correlations = np.zeros((spot_n, xy_n), dtype=nb.f4) # nb.f4\n",
    "    \n",
    "    for i in nb.prange(spot_n):\n",
    "        w = weight[i, :]\n",
    "        msk = w > msk_thr\n",
    "        \n",
    "        for j in range(xy_n):\n",
    "            x = x_mat[:, j][msk]\n",
    "            y = y_mat[:, j][msk]\n",
    "            \n",
    "            local_correlations[i, j] = _wcoex(x, y, w[msk], wsum, method)\n",
    "    \n",
    "    return local_correlations"
   ]
  },
  {
   "cell_type": "code",
   "execution_count": 211,
   "id": "bbc70571",
   "metadata": {},
   "outputs": [],
   "source": [
    "dist = adata.obsm['proximity']\n",
    "weight = dist.A.astype(np.float32)\n",
    "wsum = np.sum(weight[0,:])"
   ]
  },
  {
   "cell_type": "code",
   "execution_count": 212,
   "id": "58a369b7",
   "metadata": {},
   "outputs": [
    {
     "name": "stdout",
     "output_type": "stream",
     "text": [
      "CPU times: user 248 ms, sys: 4 µs, total: 248 ms\n",
      "Wall time: 24.1 ms\n"
     ]
    }
   ],
   "source": [
    "%%time\n",
    "local_pc = weighted_coexpression(x_mat, y_mat, weight, wsum, method=0, msk_thr=0)"
   ]
  },
  {
   "cell_type": "code",
   "execution_count": 213,
   "id": "fbf64fd8",
   "metadata": {},
   "outputs": [
    {
     "data": {
      "text/plain": [
       "array([[-1.3271085e-03,  3.9822362e-02,  2.4550273e-01,  7.1733451e-01],\n",
       "       [ 1.7837617e-01,  3.2363278e-01,  4.4977826e-01,  6.3835293e-01],\n",
       "       [-7.0064294e-04,  2.5916928e-01,  3.0881086e-01,  7.2371179e-01],\n",
       "       ...,\n",
       "       [ 1.1166877e-01,  2.4904940e-02, -6.1331499e-01,  5.1184511e-01],\n",
       "       [-5.4959452e-01,  4.4820198e-01,  6.4821437e-02,  2.5075829e-01],\n",
       "       [-1.9903824e-01,  3.0093941e-01,  2.7269343e-01,  7.2044134e-01]],\n",
       "      dtype=float32)"
      ]
     },
     "execution_count": 213,
     "metadata": {},
     "output_type": "execute_result"
    }
   ],
   "source": [
    "local_pc"
   ]
  },
  {
   "cell_type": "code",
   "execution_count": 214,
   "id": "6b0f1714",
   "metadata": {},
   "outputs": [
    {
     "name": "stdout",
     "output_type": "stream",
     "text": [
      "CPU times: user 133 ms, sys: 0 ns, total: 133 ms\n",
      "Wall time: 17.3 ms\n"
     ]
    }
   ],
   "source": [
    "%%time\n",
    "local_sp = weighted_coexpression(x_mat, y_mat, weight, wsum, method=1, msk_thr=0)"
   ]
  },
  {
   "cell_type": "code",
   "execution_count": 215,
   "id": "d928a639",
   "metadata": {},
   "outputs": [
    {
     "data": {
      "text/plain": [
       "array([[ 0.14309415, -0.10581391,  0.22754101,  0.8548867 ],\n",
       "       [ 0.05121762,  0.29360715,  0.44227427,  0.77065367],\n",
       "       [ 0.25516036,  0.04407905,  0.23457415,  0.85224676],\n",
       "       ...,\n",
       "       [-0.06165615,  0.14110777, -0.5214374 ,  0.4505265 ],\n",
       "       [-0.43638706,  0.66784775,  0.03018612,  0.38507667],\n",
       "       [ 0.00177394,  0.12166166,  0.27545825,  0.8435311 ]],\n",
       "      dtype=float32)"
      ]
     },
     "execution_count": 215,
     "metadata": {},
     "output_type": "execute_result"
    }
   ],
   "source": [
    "local_sp"
   ]
  },
  {
   "cell_type": "code",
   "execution_count": null,
   "id": "dc6f4457",
   "metadata": {},
   "outputs": [],
   "source": []
  },
  {
   "cell_type": "code",
   "execution_count": null,
   "id": "a3d955be",
   "metadata": {},
   "outputs": [],
   "source": []
  },
  {
   "attachments": {},
   "cell_type": "markdown",
   "id": "136195ce",
   "metadata": {},
   "source": [
    "pass as fun"
   ]
  },
  {
   "cell_type": "code",
   "execution_count": 168,
   "id": "bd286409",
   "metadata": {},
   "outputs": [],
   "source": [
    "# @nb.njit(nb.f4(nb.f4[:], nb.f4[:], nb.f4[:], nb.f4, nb.boolean), cache=True)\n",
    "def wcor(x, y, w, wsum, spearman):\n",
    "    \n",
    "    if spearman:\n",
    "        x = np.argsort(x).argsort().astype(np.float32)\n",
    "        y = np.argsort(y).argsort().astype(np.float32)\n",
    "    \n",
    "    wx = w * x\n",
    "    wy = w * y\n",
    "    \n",
    "    numerator = wsum * np.sum(wx * y) - np.sum(wx) * np.sum(wy)\n",
    "    \n",
    "    denominator_x = wsum * np.sum(w * (x**2)) - np.sum(wx)**2\n",
    "    denominator_y = wsum * np.sum(w * (y**2)) - np.sum(wy)**2\n",
    "    denominator = np.sqrt(denominator_x * denominator_y + 1.0e-20) # avoid division by zero\n",
    "    \n",
    "    return numerator / denominator"
   ]
  },
  {
   "cell_type": "code",
   "execution_count": 169,
   "id": "aba87bae",
   "metadata": {},
   "outputs": [],
   "source": [
    "@nb.njit(nb.f4[:,:](nb.f4[:,:], nb.f4[:,:], nb.f4[:,:], nb.f4, nb.boolean, nb.f4), cache=True, parallel=True)\n",
    "def calculate_wcor(x_mat, y_mat, weight, wsum, spearman, msk_thr):\n",
    "    spot_n = x_mat.shape[0]\n",
    "    xy_n = x_mat.shape[1]\n",
    "    \n",
    "    local_correlations = np.zeros((spot_n, xy_n), dtype=nb.f4) # nb.f4\n",
    "    \n",
    "    for i in nb.prange(spot_n):\n",
    "        w = weight[i, :]\n",
    "        msk = w > msk_thr\n",
    "        \n",
    "        for j in range(xy_n):\n",
    "            x = x_mat[:, j][msk]\n",
    "            y = y_mat[:, j][msk]\n",
    "            \n",
    "            local_correlations[i, j] = wcor(x, y, w[msk], wsum, spearman)\n",
    "    \n",
    "    return local_correlations"
   ]
  },
  {
   "cell_type": "code",
   "execution_count": null,
   "id": "caef93bc",
   "metadata": {},
   "outputs": [],
   "source": []
  },
  {
   "cell_type": "code",
   "execution_count": null,
   "id": "b3cd80d3",
   "metadata": {},
   "outputs": [],
   "source": []
  },
  {
   "cell_type": "code",
   "execution_count": null,
   "id": "1d40575e",
   "metadata": {},
   "outputs": [],
   "source": []
  },
  {
   "attachments": {},
   "cell_type": "markdown",
   "id": "0afdf754",
   "metadata": {},
   "source": [
    "Fully-vectorized"
   ]
  },
  {
   "cell_type": "code",
   "execution_count": 133,
   "id": "153e7944-adbb-401e-914b-09c227dcfdea",
   "metadata": {},
   "outputs": [],
   "source": [
    "import squidpy as sq\n",
    "import scanpy as sc\n",
    "import pandas as pd\n",
    "import numpy as np\n",
    "from scipy.sparse import csr_matrix, isspmatrix_csr"
   ]
  },
  {
   "cell_type": "code",
   "execution_count": 134,
   "id": "cbb22f08-505c-4087-af67-84577d421f60",
   "metadata": {},
   "outputs": [],
   "source": [
    "import liana as li"
   ]
  },
  {
   "cell_type": "code",
   "execution_count": 135,
   "id": "4f0fe90c-bf2b-44b3-8798-8aaad0e402f1",
   "metadata": {},
   "outputs": [],
   "source": [
    "from matplotlib.pyplot import hist\n",
    "from scipy.stats import spearmanr, pearsonr"
   ]
  },
  {
   "cell_type": "code",
   "execution_count": 136,
   "id": "5e601378",
   "metadata": {},
   "outputs": [],
   "source": [
    "from liana.method._global_lr_pipe import _global_lr_pipe\n",
    "from liana.method.sp._spatialdm import _get_ordered_matrix, _standardize_matrix"
   ]
  },
  {
   "cell_type": "code",
   "execution_count": 137,
   "id": "d8c4f241",
   "metadata": {},
   "outputs": [],
   "source": [
    "from scipy.stats import rankdata"
   ]
  },
  {
   "cell_type": "code",
   "execution_count": null,
   "id": "9860d383",
   "metadata": {},
   "outputs": [],
   "source": []
  },
  {
   "cell_type": "code",
   "execution_count": 138,
   "id": "0e95b8ba",
   "metadata": {},
   "outputs": [],
   "source": [
    "# ligand-receptor mats\n",
    "ligand_mat = _get_ordered_matrix(temp.X, ligand_pos, lr_res.ligand).T\n",
    "receptor_mat = _get_ordered_matrix(temp.X, receptor_pos, lr_res.receptor).T"
   ]
  },
  {
   "cell_type": "code",
   "execution_count": null,
   "id": "a833b105",
   "metadata": {},
   "outputs": [],
   "source": []
  },
  {
   "cell_type": "code",
   "execution_count": 150,
   "id": "3573cd36",
   "metadata": {},
   "outputs": [],
   "source": [
    "def calculate_local_correlations(x_mat, y_mat, dist, method=\"pearson\"):\n",
    "    if method not in [\"pearson\", \"spearman\"]:\n",
    "        raise ValueError(\"method must be one of 'pearson', 'spearman'\")\n",
    "    \n",
    "    # transpose\n",
    "    x_mat, y_mat = x_mat.T, y_mat.T\n",
    "    \n",
    "    weight = dist.A.T\n",
    "    weight_sums = np.sum(weight, axis = 0).flatten()\n",
    "        \n",
    "    if method==\"spearman\":\n",
    "        x_mat = rankdata(x_mat, axis=1)\n",
    "        y_mat = rankdata(y_mat, axis=1)\n",
    "    \n",
    "    # standard pearson\n",
    "    n1 = (((x_mat * y_mat).dot(weight)) * weight_sums)\n",
    "    n2 = (x_mat.dot(weight)) * (y_mat.dot(weight))\n",
    "    numerator = n1 - n2\n",
    "    \n",
    "    denominator_x = (weight_sums * (x_mat ** 2).dot(weight)) - (x_mat.dot(weight))**2\n",
    "    denominator_y = (weight_sums * (y_mat ** 2).dot(weight)) - (y_mat.dot(weight))**2\n",
    "    denominator = np.sqrt(denominator_x * denominator_y)\n",
    "    denominator[denominator == 0] = np.finfo(np.float32).eps # add noise to avoid division by zero\n",
    "    \n",
    "    local_corrs = (numerator / denominator)\n",
    "    \n",
    "    return local_corrs"
   ]
  },
  {
   "cell_type": "code",
   "execution_count": 151,
   "id": "58b651b6",
   "metadata": {},
   "outputs": [],
   "source": [
    "dist = adata.obsm['proximity']"
   ]
  },
  {
   "cell_type": "code",
   "execution_count": 152,
   "id": "297b3e2d",
   "metadata": {},
   "outputs": [],
   "source": [
    "local_pc = calculate_local_correlations(x_mat = ligand_mat.A, y_mat=receptor_mat.A, dist=dist, method=\"pearson\")"
   ]
  },
  {
   "cell_type": "code",
   "execution_count": 153,
   "id": "b37b960a",
   "metadata": {},
   "outputs": [],
   "source": [
    "local_sp = calculate_local_correlations(x_mat = ligand_mat.A, y_mat=receptor_mat.A, dist=dist, method=\"spearman\")"
   ]
  },
  {
   "cell_type": "code",
   "execution_count": 154,
   "id": "245c0cc9",
   "metadata": {},
   "outputs": [
    {
     "data": {
      "text/plain": [
       "array([[-1.32974227e-03,  1.78378213e-01, -6.99047437e-04, ...,\n",
       "         1.11669926e-01, -5.49594345e-01, -1.99038894e-01],\n",
       "       [ 3.98228109e-02,  3.23634089e-01,  2.59169939e-01, ...,\n",
       "         2.49048467e-02,  4.48201488e-01,  3.00939823e-01],\n",
       "       [ 2.45500324e-01,  4.49778688e-01,  3.08810443e-01, ...,\n",
       "        -6.13314098e-01,  6.48224085e-02,  2.72694903e-01],\n",
       "       [ 7.17321830e-01,  6.38337093e-01,  7.23703539e-01, ...,\n",
       "         5.11895209e-01,  2.50760443e-01,  7.20444154e-01]])"
      ]
     },
     "execution_count": 154,
     "metadata": {},
     "output_type": "execute_result"
    }
   ],
   "source": [
    "local_pc"
   ]
  },
  {
   "cell_type": "code",
   "execution_count": null,
   "id": "7a7c9474",
   "metadata": {},
   "outputs": [],
   "source": []
  },
  {
   "cell_type": "code",
   "execution_count": 155,
   "id": "a0e229bd",
   "metadata": {},
   "outputs": [
    {
     "data": {
      "text/plain": [
       "array([[ 0.02745524,  0.16780172,  0.02950179, ...,  0.05846293,\n",
       "        -0.47176155, -0.16618834],\n",
       "       [ 0.06676514,  0.38843465,  0.29575594, ...,  0.05419157,\n",
       "         0.48301053,  0.33821676],\n",
       "       [ 0.25214086,  0.51057389,  0.31465863, ..., -0.57736091,\n",
       "        -0.06078281,  0.33525634],\n",
       "       [ 0.85249697,  0.7571208 ,  0.85231423, ...,  0.40853417,\n",
       "         0.36100299,  0.87528304]])"
      ]
     },
     "execution_count": 155,
     "metadata": {},
     "output_type": "execute_result"
    }
   ],
   "source": [
    "local_sp"
   ]
  },
  {
   "cell_type": "code",
   "execution_count": null,
   "id": "49c6a9ce",
   "metadata": {},
   "outputs": [],
   "source": []
  },
  {
   "cell_type": "code",
   "execution_count": null,
   "id": "175ca989",
   "metadata": {},
   "outputs": [],
   "source": []
  },
  {
   "cell_type": "code",
   "execution_count": null,
   "id": "dac4ba2a",
   "metadata": {},
   "outputs": [],
   "source": [
    "from liana.method.sp._spatial_utils import _local_permutation_pvals"
   ]
  },
  {
   "cell_type": "code",
   "execution_count": null,
   "id": "ff308c66",
   "metadata": {},
   "outputs": [],
   "source": [
    "local_pvals = _local_permutation_pvals(x_mat = ligand_mat.A, \n",
    "                                       y_mat = receptor_mat.A, \n",
    "                                       local_truth=local_pc,\n",
    "                                       local_fun=calculate_local_correlations,\n",
    "                                       dist=dist, \n",
    "                                       n_perm=n_perm, \n",
    "                                       positive_only=False,\n",
    "                                       seed=seed)"
   ]
  },
  {
   "cell_type": "code",
   "execution_count": null,
   "id": "7d34d9f6",
   "metadata": {},
   "outputs": [],
   "source": [
    "local_pvals"
   ]
  },
  {
   "cell_type": "code",
   "execution_count": null,
   "id": "b4a05f78",
   "metadata": {},
   "outputs": [],
   "source": []
  },
  {
   "cell_type": "code",
   "execution_count": null,
   "id": "74a63b84",
   "metadata": {},
   "outputs": [],
   "source": [
    "local_sp = calculate_local_correlations(x_mat = ligand_mat.A, y_mat=receptor_mat.A, dist=dist, method=\"spearman\")"
   ]
  },
  {
   "cell_type": "code",
   "execution_count": null,
   "id": "95ed049d",
   "metadata": {},
   "outputs": [],
   "source": [
    "local_sp_pvals = _local_permutation_pvals(x_mat = ligand_mat.A, \n",
    "                                          y_mat = receptor_mat.A, \n",
    "                                          local_truth=local_sp,\n",
    "                                          local_fun=calculate_local_correlations,\n",
    "                                          dist=dist, \n",
    "                                          n_perm=n_perm, \n",
    "                                          positive_only=False,\n",
    "                                          seed=seed,\n",
    "                                          method=\"spearman\"\n",
    "                                          )"
   ]
  },
  {
   "cell_type": "code",
   "execution_count": null,
   "id": "03c9a907",
   "metadata": {},
   "outputs": [],
   "source": [
    "local_pvals.shape"
   ]
  },
  {
   "cell_type": "code",
   "execution_count": null,
   "id": "4467f81f",
   "metadata": {},
   "outputs": [],
   "source": [
    "local_sp_pvals.shape"
   ]
  },
  {
   "cell_type": "code",
   "execution_count": null,
   "id": "1dfb8b1c",
   "metadata": {},
   "outputs": [],
   "source": [
    "spearmanr(local_sp_pvals[1,:], local_pvals[1,:])"
   ]
  },
  {
   "cell_type": "code",
   "execution_count": null,
   "id": "3c0dd963",
   "metadata": {},
   "outputs": [],
   "source": []
  },
  {
   "attachments": {},
   "cell_type": "markdown",
   "id": "2ab31991",
   "metadata": {},
   "source": [
    "Global summary of the local scores:"
   ]
  },
  {
   "cell_type": "code",
   "execution_count": null,
   "id": "b07ef553",
   "metadata": {},
   "outputs": [],
   "source": [
    "lr_res.loc[:,['pearson_mean','pearson_sd']] = np.vstack([np.mean(local_pc, axis=1), np.std(local_pc, axis=1)]).T"
   ]
  },
  {
   "cell_type": "code",
   "execution_count": null,
   "id": "4575407e",
   "metadata": {},
   "outputs": [],
   "source": [
    "lr_res.sort_values(by='pearson_mean', ascending=False)"
   ]
  },
  {
   "cell_type": "code",
   "execution_count": null,
   "id": "5f440879",
   "metadata": {},
   "outputs": [],
   "source": []
  },
  {
   "cell_type": "code",
   "execution_count": null,
   "id": "d4e9f6fe",
   "metadata": {},
   "outputs": [],
   "source": []
  },
  {
   "attachments": {},
   "cell_type": "markdown",
   "id": "612f9ee3",
   "metadata": {},
   "source": [
    "masked"
   ]
  },
  {
   "cell_type": "code",
   "execution_count": null,
   "id": "fb1e22fb",
   "metadata": {},
   "outputs": [],
   "source": [
    "# ligand-receptor mats\n",
    "ligand_mat = _get_ordered_matrix(temp.X, ligand_pos, lr_res.ligand)\n",
    "receptor_mat = _get_ordered_matrix(temp.X, receptor_pos, lr_res.receptor)"
   ]
  },
  {
   "cell_type": "code",
   "execution_count": null,
   "id": "11ffaef1",
   "metadata": {},
   "outputs": [],
   "source": [
    "import scipy.stats as stats"
   ]
  },
  {
   "cell_type": "code",
   "execution_count": null,
   "id": "2148aa22",
   "metadata": {},
   "outputs": [],
   "source": [
    "def masked_wcor(x, y, weight, method='spearman_nzw'):\n",
    "    spot_n = x.shape[0]\n",
    "    \n",
    "    # reshape x and y to be the same shape as weight\n",
    "    x = np.reshape(np.repeat(x, spot_n), newshape=(spot_n, spot_n)).T\n",
    "    y = np.reshape(np.repeat(y, spot_n), newshape=(spot_n, spot_n)).T\n",
    "    \n",
    "    # mask x and y with the same mask as weight\n",
    "    x_masked = np.ma.array(x, mask = weight.mask, fill_value=np.nan)\n",
    "    y_masked = np.ma.array(y, mask = weight.mask, fill_value=np.nan)\n",
    "    \n",
    "    if method == 'spearman_nzw':\n",
    "        x_masked = stats.mstats.rankdata(x_masked, axis=1)\n",
    "        y_masked = stats.mstats.rankdata(y_masked, axis=1)\n",
    "        \n",
    "    \n",
    "    # calculate weighted pearson correlation\n",
    "    wsum = np.ma.sum(weight, axis=1)\n",
    "    xws = np.ma.sum(weight * x_masked, axis=1)\n",
    "    yws = np.ma.sum(weight * y_masked, axis=1)\n",
    "    \n",
    "    n1 = wsum * np.ma.sum(weight * x_masked * y_masked, axis=1)\n",
    "    n2 = xws * yws\n",
    "    numerator = n1 - n2\n",
    "    \n",
    "    denominator_x = wsum * np.ma.sum(weight * (x_masked**2), axis=1) - xws**2\n",
    "    denominator_y = wsum * np.ma.sum(weight * (y_masked**2), axis=1) - yws**2\n",
    "    wcor = numerator / np.ma.sqrt(denominator_x * denominator_y)\n",
    "    \n",
    "    return wcor.data"
   ]
  },
  {
   "cell_type": "code",
   "execution_count": null,
   "id": "5bc646e0",
   "metadata": {},
   "outputs": [],
   "source": [
    "def calculate_masked_correlations(x_mat, y_mat, dist, method='spearman_nzw'):\n",
    "    weight = dist.A\n",
    "    msk = np.logical_not(weight>0).astype(np.int16)\n",
    "    weight = np.ma.masked_array(weight, mask=msk)\n",
    "    # calculate for each x and y combination\n",
    "    local_correlations = []\n",
    "    \n",
    "    for i in range(x_mat.shape[0]):\n",
    "        local_correlations.append(masked_wcor(x_mat[i, :], y_mat[i, :], weight=weight))\n",
    "    local_correlations = np.array(local_correlations)\n",
    "    \n",
    "    return local_correlations\n"
   ]
  },
  {
   "cell_type": "code",
   "execution_count": null,
   "id": "ea2cec37",
   "metadata": {},
   "outputs": [],
   "source": [
    "ligand_mat.shape"
   ]
  },
  {
   "cell_type": "code",
   "execution_count": null,
   "id": "be8de259",
   "metadata": {},
   "outputs": [],
   "source": [
    "%%time\n",
    "\n",
    "dist = adata.obsm['proximity']\n",
    "\n",
    "masked_sp = calculate_masked_correlations(ligand_mat[0:10,:].A, receptor_mat[0:10,:].A, dist=dist, method='spearman_nzw')"
   ]
  },
  {
   "cell_type": "code",
   "execution_count": null,
   "id": "7a53aaf7",
   "metadata": {},
   "outputs": [],
   "source": [
    "masked_sp[0:10,0:10]"
   ]
  },
  {
   "cell_type": "code",
   "execution_count": null,
   "id": "700b6b47",
   "metadata": {},
   "outputs": [],
   "source": [
    "hist(masked_sp[0,:])"
   ]
  },
  {
   "cell_type": "markdown",
   "id": "1f0d16d4",
   "metadata": {},
   "source": []
  },
  {
   "cell_type": "code",
   "execution_count": null,
   "id": "dd6b5b6f",
   "metadata": {},
   "outputs": [],
   "source": [
    "spot_n = x.shape[1]"
   ]
  },
  {
   "cell_type": "code",
   "execution_count": null,
   "id": "3ce7bdd6",
   "metadata": {},
   "outputs": [],
   "source": [
    "weight = dist.A\n",
    "msk = np.logical_not(weight>0).astype(np.int16)\n",
    "weight = np.ma.masked_array(weight, mask=msk)"
   ]
  },
  {
   "cell_type": "code",
   "execution_count": null,
   "id": "ff196baa",
   "metadata": {},
   "outputs": [],
   "source": [
    "x, y = ligand_mat[0,:].A, receptor_mat[0,:].A"
   ]
  },
  {
   "cell_type": "code",
   "execution_count": null,
   "id": "f72f3fa5",
   "metadata": {},
   "outputs": [],
   "source": [
    "spot_n\n"
   ]
  },
  {
   "cell_type": "code",
   "execution_count": null,
   "id": "6832f8b9",
   "metadata": {},
   "outputs": [],
   "source": [
    "# reshape x and y to be the same shape as weight\n",
    "x = np.reshape(np.repeat(x, spot_n), newshape=(spot_n, spot_n)).T\n",
    "y = np.reshape(np.repeat(y, spot_n), newshape=(spot_n, spot_n)).T"
   ]
  },
  {
   "cell_type": "code",
   "execution_count": null,
   "id": "1748cf55",
   "metadata": {},
   "outputs": [],
   "source": [
    "# mask x and y with the same mask as weight\n",
    "x_masked = np.ma.array(x, mask = weight.mask, fill_value=np.nan)\n",
    "y_masked = np.ma.array(y, mask = weight.mask, fill_value=np.nan)"
   ]
  },
  {
   "cell_type": "code",
   "execution_count": null,
   "id": "962f5057",
   "metadata": {},
   "outputs": [],
   "source": []
  },
  {
   "cell_type": "code",
   "execution_count": null,
   "id": "bc42b447",
   "metadata": {},
   "outputs": [],
   "source": [
    "x_masked = stats.mstats.rankdata(x_masked, axis=1)\n",
    "y_masked = stats.mstats.rankdata(y_masked, axis=1)"
   ]
  },
  {
   "cell_type": "code",
   "execution_count": null,
   "id": "ffde320a",
   "metadata": {},
   "outputs": [],
   "source": []
  },
  {
   "cell_type": "code",
   "execution_count": null,
   "id": "559a56f7",
   "metadata": {},
   "outputs": [],
   "source": []
  },
  {
   "cell_type": "code",
   "execution_count": null,
   "id": "3ef6c695",
   "metadata": {},
   "outputs": [],
   "source": []
  },
  {
   "attachments": {},
   "cell_type": "markdown",
   "id": "20c66314",
   "metadata": {},
   "source": [
    "local p-values"
   ]
  },
  {
   "cell_type": "code",
   "execution_count": null,
   "id": "2d2a26c4",
   "metadata": {},
   "outputs": [],
   "source": [
    "from numpy import random\n",
    "from tqdm import tqdm"
   ]
  },
  {
   "cell_type": "code",
   "execution_count": null,
   "id": "af430595",
   "metadata": {},
   "outputs": [],
   "source": [
    "rng = random.default_rng(0)\n",
    "n_perm = 100\n",
    "positive_only = True # remove this option?"
   ]
  },
  {
   "cell_type": "code",
   "execution_count": null,
   "id": "f47617b7",
   "metadata": {},
   "outputs": [],
   "source": [
    "dist = adata.obsm['proximity']"
   ]
  },
  {
   "cell_type": "code",
   "execution_count": null,
   "id": "8bb8d8c3",
   "metadata": {},
   "outputs": [],
   "source": [
    "local_pc.shape"
   ]
  },
  {
   "cell_type": "code",
   "execution_count": null,
   "id": "825b981e",
   "metadata": {},
   "outputs": [],
   "source": []
  },
  {
   "cell_type": "code",
   "execution_count": null,
   "id": "b9f0a2a7",
   "metadata": {},
   "outputs": [],
   "source": [
    "def _get_local_permutation_pvals(x_mat, y_mat, local_truth, local_fun, dist, n_perm, positive_only=True, **kwargs):\n",
    "    xy_n = local_truth.shape[0]\n",
    "    spot_n = local_truth.shape[1]\n",
    "    \n",
    "    print(spot_n)\n",
    "    \n",
    "    # permutation cubes to be populated\n",
    "    local_pvals = np.zeros((xy_n, spot_n))\n",
    "    \n",
    "    # shuffle the matrix\n",
    "    for i in tqdm(range(n_perm)):\n",
    "        _idx = rng.permutation(spot_n)\n",
    "        perm_score = local_fun(x_mat = x_mat[_idx, :], y_mat=y_mat, dist=dist, **kwargs) ## TODO switch to shuffle rows, not columns\n",
    "        if positive_only:\n",
    "            local_pvals += np.array(perm_score >= local_truth, dtype=int)\n",
    "        else:\n",
    "            local_pvals += (np.array(np.abs(perm_score) >= np.abs(local_truth), dtype=int))\n",
    "\n",
    "    local_pvals = local_pvals / n_perm\n",
    "    \n",
    "    return local_pvals\n",
    "    "
   ]
  },
  {
   "cell_type": "code",
   "execution_count": null,
   "id": "1a714ac7",
   "metadata": {},
   "outputs": [],
   "source": []
  },
  {
   "cell_type": "code",
   "execution_count": null,
   "id": "fe1187a9",
   "metadata": {},
   "outputs": [],
   "source": []
  },
  {
   "cell_type": "code",
   "execution_count": null,
   "id": "6f051d13",
   "metadata": {},
   "outputs": [],
   "source": []
  },
  {
   "cell_type": "code",
   "execution_count": null,
   "metadata": {},
   "outputs": [],
   "source": []
  },
  {
   "cell_type": "code",
   "execution_count": null,
   "id": "dac4ba2a",
   "metadata": {},
   "outputs": [],
   "source": [
    "from liana.method.sp._spatial_utils import _local_permutation_pvals"
   ]
  },
  {
   "cell_type": "code",
   "execution_count": null,
   "id": "ff308c66",
   "metadata": {},
   "outputs": [],
   "source": [
    "local_pvals = _local_permutation_pvals(x_mat = ligand_mat.A, \n",
    "                                       y_mat = receptor_mat.A, \n",
    "                                       local_truth=local_pc,\n",
    "                                       local_fun=calculate_local_correlations,\n",
    "                                       dist=dist, \n",
    "                                       n_perm=n_perm, \n",
    "                                       positive_only=False,\n",
    "                                       seed=0)"
   ]
  },
  {
   "cell_type": "code",
   "execution_count": null,
   "id": "7d34d9f6",
   "metadata": {},
   "outputs": [],
   "source": [
    "local_pvals"
   ]
  },
  {
   "cell_type": "code",
   "execution_count": null,
   "id": "4806c532",
   "metadata": {},
   "outputs": [],
   "source": []
  },
  {
   "cell_type": "code",
   "execution_count": null,
   "id": "b08fb539",
   "metadata": {},
   "outputs": [],
   "source": [
    "local_pvals"
   ]
  },
  {
   "cell_type": "code",
   "execution_count": null,
   "id": "160df845",
   "metadata": {},
   "outputs": [],
   "source": [
    "from  scipy.sparse import csr_matrix"
   ]
  },
  {
   "cell_type": "code",
   "execution_count": null,
   "id": "f0d4453b",
   "metadata": {},
   "outputs": [],
   "source": [
    "local_pvals.shape"
   ]
  },
  {
   "cell_type": "code",
   "execution_count": null,
   "id": "fe424bbc",
   "metadata": {},
   "outputs": [],
   "source": [
    "local_pvals"
   ]
  },
  {
   "cell_type": "code",
   "execution_count": null,
   "id": "808dac55",
   "metadata": {},
   "outputs": [],
   "source": []
  },
  {
   "cell_type": "code",
   "execution_count": null,
   "id": "7c8b5359",
   "metadata": {},
   "outputs": [],
   "source": [
    "local_pc.shape"
   ]
  },
  {
   "cell_type": "code",
   "execution_count": null,
   "id": "4e5f6f90",
   "metadata": {},
   "outputs": [],
   "source": [
    "local_pvals.shape"
   ]
  },
  {
   "cell_type": "code",
   "execution_count": null,
   "id": "6ca94d98",
   "metadata": {},
   "outputs": [],
   "source": [
    "local_masked_pvals = _get_local_permutation_pvals(x_mat = ligand_mat.A,\n",
    "                                                  y_mat = receptor_mat.A,\n",
    "                                                  local_truth = masked_sp,\n",
    "                                                  local_fun=calculate_masked_correlations,\n",
    "                                                  dist=dist,\n",
    "                                                  n_perm=n_perm,\n",
    "                                                  positive_only=False)"
   ]
  },
  {
   "cell_type": "code",
   "execution_count": null,
   "id": "82286380",
   "metadata": {},
   "outputs": [],
   "source": [
    "local_masked_pvals"
   ]
  },
  {
   "cell_type": "code",
   "execution_count": null,
   "id": "693c03cb",
   "metadata": {},
   "outputs": [],
   "source": [
    "local_masked_pvals.shape"
   ]
  },
  {
   "cell_type": "code",
   "execution_count": null,
   "id": "46d37697",
   "metadata": {},
   "outputs": [],
   "source": [
    "from scipy.stats import spearmanr,  pearsonr"
   ]
  },
  {
   "cell_type": "code",
   "execution_count": null,
   "id": "e8f4e9ec",
   "metadata": {},
   "outputs": [],
   "source": [
    "pearsonr(local_masked_pvals[0,:], local_pvals[0,:])"
   ]
  },
  {
   "cell_type": "code",
   "execution_count": null,
   "id": "d1b942d7",
   "metadata": {},
   "outputs": [],
   "source": []
  }
 ],
 "metadata": {
  "kernelspec": {
   "display_name": "liana-spatial",
   "language": "python",
   "name": "python3"
  },
  "language_info": {
   "codemirror_mode": {
    "name": "ipython",
    "version": 3
   },
   "file_extension": ".py",
   "mimetype": "text/x-python",
   "name": "python",
   "nbconvert_exporter": "python",
   "pygments_lexer": "ipython3",
   "version": "3.10.9"
  },
  "vscode": {
   "interpreter": {
    "hash": "f753bcce54bffd886a1918c0ed127797462060055a319cf64929de73ccbfe1e9"
   }
  }
 },
 "nbformat": 4,
 "nbformat_minor": 5
}
