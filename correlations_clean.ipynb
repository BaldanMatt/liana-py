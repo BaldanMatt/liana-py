{
 "cells": [
  {
   "cell_type": "code",
   "execution_count": 28,
   "id": "153e7944-adbb-401e-914b-09c227dcfdea",
   "metadata": {},
   "outputs": [],
   "source": [
    "import squidpy as sq\n",
    "import scanpy as sc\n",
    "import pandas as pd\n",
    "import numpy as np\n",
    "from scipy.sparse import csr_matrix, isspmatrix_csr"
   ]
  },
  {
   "cell_type": "code",
   "execution_count": 29,
   "id": "cbb22f08-505c-4087-af67-84577d421f60",
   "metadata": {},
   "outputs": [],
   "source": [
    "import liana as li"
   ]
  },
  {
   "cell_type": "code",
   "execution_count": 30,
   "id": "4f0fe90c-bf2b-44b3-8798-8aaad0e402f1",
   "metadata": {},
   "outputs": [],
   "source": [
    "from matplotlib.pyplot import hist"
   ]
  },
  {
   "cell_type": "code",
   "execution_count": 31,
   "id": "22a8de43-4ff7-4e93-9056-e27ba4a0afef",
   "metadata": {},
   "outputs": [],
   "source": [
    "from liana.method._global_lr_pipe import _global_lr_pipe\n",
    "from liana.method.sp._spatialdm import _get_ordered_matrix, _standardize_matrix"
   ]
  },
  {
   "cell_type": "code",
   "execution_count": null,
   "id": "943a8965",
   "metadata": {},
   "outputs": [],
   "source": []
  },
  {
   "cell_type": "code",
   "execution_count": 32,
   "id": "b9f16311-988d-4b04-b544-3b9ae80f0b71",
   "metadata": {},
   "outputs": [],
   "source": [
    "counts = pd.read_csv(\"data/counts_mat.csv\")\n",
    "weights = pd.read_csv(\"data/weight_mat.csv\")"
   ]
  },
  {
   "cell_type": "code",
   "execution_count": 33,
   "id": "1caf6c62-a727-40c5-94a9-5d6dcd535c48",
   "metadata": {},
   "outputs": [],
   "source": [
    "var = pd.DataFrame(counts[['Unnamed: 0']]).set_index('Unnamed: 0')\n",
    "var.index.name = None"
   ]
  },
  {
   "cell_type": "code",
   "execution_count": 34,
   "id": "740b5fad-7447-4eef-ba35-6ef5e028da17",
   "metadata": {},
   "outputs": [],
   "source": [
    "adata = sc.AnnData(X=csr_matrix(counts.drop(counts.columns[0], axis=1), dtype=np.float32).T, var=var)"
   ]
  },
  {
   "cell_type": "code",
   "execution_count": 35,
   "id": "bb9f37d6-da59-44ca-b304-222329b21237",
   "metadata": {},
   "outputs": [],
   "source": [
    "adata.obsm['proximity'] = csr_matrix(weights)"
   ]
  },
  {
   "cell_type": "code",
   "execution_count": null,
   "id": "a9f07752",
   "metadata": {},
   "outputs": [],
   "source": []
  },
  {
   "cell_type": "code",
   "execution_count": 36,
   "id": "3b30f85e",
   "metadata": {},
   "outputs": [],
   "source": [
    "# scHOT data test\n",
    "adata = sc.read_h5ad(\"test_spatial.h5ad\")\n",
    "resource = pd.DataFrame({\"ligand\":[\"Dnm1l\", \"Arrb1\", \"Igf2\", \"Dnm1l\"], \"receptor\":[\"Gucy1b3\", \"Mtor\", \"Tuba1a\", \"Fam63b\"]})\n",
    "dist = adata.obsm['proximity']"
   ]
  },
  {
   "cell_type": "code",
   "execution_count": null,
   "id": "58cb788f",
   "metadata": {},
   "outputs": [],
   "source": []
  },
  {
   "cell_type": "code",
   "execution_count": 37,
   "id": "442d2fdf",
   "metadata": {},
   "outputs": [],
   "source": [
    "# full visium slide\n",
    "# load the pre-processed dataset\n",
    "img = sq.datasets.visium_hne_image()\n",
    "adata = sq.datasets.visium_hne_adata()\n",
    "\n",
    "li.mt.get_spatial_proximity(adata=adata, parameter=200, bypass_diagonal=False, cutoff=0.1)\n",
    "dist = adata.obsm['proximity']\n",
    "\n",
    "my_p = li.pl.proximity_plot(adata, idx=100)\n",
    "resource = li.resource.select_resource(\"mouseconsensus\")"
   ]
  },
  {
   "cell_type": "code",
   "execution_count": null,
   "id": "a4aac8f6",
   "metadata": {},
   "outputs": [],
   "source": []
  },
  {
   "cell_type": "code",
   "execution_count": 38,
   "id": "9b2eae96-cedb-44e6-b9b1-e122bba505bb",
   "metadata": {},
   "outputs": [
    {
     "name": "stdout",
     "output_type": "stream",
     "text": [
      "Using `.X`!\n"
     ]
    }
   ],
   "source": [
    "temp, lr_res, ligand_pos, receptor_pos = _global_lr_pipe(adata=adata,\n",
    "                                                         resource=resource,\n",
    "                                                         expr_prop=0.05,\n",
    "                                                         use_raw=False,\n",
    "                                                         verbose=True,\n",
    "                                                         layer=None,\n",
    "                                                         _key_cols=['ligand_complex', 'receptor_complex'],\n",
    "                                                         _complex_cols=['ligand_means', 'receptor_means'],\n",
    "                                                         _obms_keys=['proximity'],\n",
    "                                                         resource_name=None\n",
    "                                                         )"
   ]
  },
  {
   "cell_type": "code",
   "execution_count": 55,
   "id": "e6020530",
   "metadata": {},
   "outputs": [],
   "source": [
    "n_perm = 100\n",
    "seed = 0"
   ]
  },
  {
   "cell_type": "code",
   "execution_count": null,
   "id": "79c3025f-5d31-475b-85fb-8228c82fc7da",
   "metadata": {},
   "outputs": [],
   "source": []
  },
  {
   "cell_type": "code",
   "execution_count": null,
   "id": "ad63e3c7",
   "metadata": {},
   "outputs": [],
   "source": []
  },
  {
   "cell_type": "markdown",
   "id": "f9b53bf1-be2e-4441-9833-99a17a48c3f7",
   "metadata": {},
   "source": [
    "Correlations"
   ]
  },
  {
   "cell_type": "code",
   "execution_count": 39,
   "id": "1de34477",
   "metadata": {},
   "outputs": [],
   "source": [
    "# ligand-receptor mats\n",
    "ligand_mat = _get_ordered_matrix(temp.X, ligand_pos, lr_res.ligand)\n",
    "receptor_mat = _get_ordered_matrix(temp.X, receptor_pos, lr_res.receptor)"
   ]
  },
  {
   "cell_type": "code",
   "execution_count": null,
   "id": "4c8584b5",
   "metadata": {},
   "outputs": [],
   "source": []
  },
  {
   "attachments": {},
   "cell_type": "markdown",
   "id": "0afdf754",
   "metadata": {},
   "source": [
    "Fully-vectorized"
   ]
  },
  {
   "cell_type": "code",
   "execution_count": 40,
   "id": "153e7944-adbb-401e-914b-09c227dcfdea",
   "metadata": {},
   "outputs": [],
   "source": [
    "import squidpy as sq\n",
    "import scanpy as sc\n",
    "import pandas as pd\n",
    "import numpy as np\n",
    "from scipy.sparse import csr_matrix, isspmatrix_csr"
   ]
  },
  {
   "cell_type": "code",
   "execution_count": 41,
   "id": "cbb22f08-505c-4087-af67-84577d421f60",
   "metadata": {},
   "outputs": [],
   "source": [
    "import liana as li"
   ]
  },
  {
   "cell_type": "code",
   "execution_count": 69,
   "id": "4f0fe90c-bf2b-44b3-8798-8aaad0e402f1",
   "metadata": {},
   "outputs": [],
   "source": [
    "from matplotlib.pyplot import hist\n",
    "from scipy.stats import spearmanr, pearsonr"
   ]
  },
  {
   "cell_type": "code",
   "execution_count": 43,
   "id": "5e601378",
   "metadata": {},
   "outputs": [],
   "source": [
    "from liana.method._global_lr_pipe import _global_lr_pipe\n",
    "from liana.method.sp._spatialdm import _get_ordered_matrix, _standardize_matrix"
   ]
  },
  {
   "cell_type": "code",
   "execution_count": 44,
   "id": "d8c4f241",
   "metadata": {},
   "outputs": [],
   "source": [
    "from scipy.stats import rankdata"
   ]
  },
  {
   "cell_type": "code",
   "execution_count": null,
   "id": "9860d383",
   "metadata": {},
   "outputs": [],
   "source": []
  },
  {
   "cell_type": "code",
   "execution_count": 45,
   "id": "0e95b8ba",
   "metadata": {},
   "outputs": [],
   "source": [
    "# ligand-receptor mats\n",
    "ligand_mat = _get_ordered_matrix(temp.X, ligand_pos, lr_res.ligand).T\n",
    "receptor_mat = _get_ordered_matrix(temp.X, receptor_pos, lr_res.receptor).T"
   ]
  },
  {
   "cell_type": "code",
   "execution_count": null,
   "id": "a833b105",
   "metadata": {},
   "outputs": [],
   "source": []
  },
  {
   "cell_type": "code",
   "execution_count": 21,
   "id": "3573cd36",
   "metadata": {},
   "outputs": [],
   "source": [
    "def calculate_local_correlations(x_mat, y_mat, dist, method=\"pearson\"):\n",
    "    if method not in [\"pearson\", \"spearman\"]:\n",
    "        raise ValueError(\"method must be one of 'pearson', 'spearman'\")\n",
    "    \n",
    "    # transpose\n",
    "    x_mat, y_mat = x_mat.T, y_mat.T\n",
    "    \n",
    "    weight = dist.A.T\n",
    "    weight_sums = np.sum(weight, axis = 0).flatten()\n",
    "        \n",
    "    if method==\"spearman\":\n",
    "        x_mat = rankdata(x_mat, axis=1)\n",
    "        y_mat = rankdata(y_mat, axis=1)\n",
    "    \n",
    "    # standard pearson\n",
    "    n1 = (((x_mat * y_mat).dot(weight)) * weight_sums)\n",
    "    n2 = (x_mat.dot(weight)) * (y_mat.dot(weight))\n",
    "    numerator = n1 - n2\n",
    "    \n",
    "    denominator_x = (weight_sums * (x_mat ** 2).dot(weight)) - (x_mat.dot(weight))**2\n",
    "    denominator_y = (weight_sums * (y_mat ** 2).dot(weight)) - (y_mat.dot(weight))**2\n",
    "    denominator = np.sqrt(denominator_x * denominator_y)\n",
    "    denominator[denominator == 0] = np.finfo(float).eps # add noise to avoid division by zero\n",
    "    \n",
    "    local_corrs = (numerator / denominator)\n",
    "    \n",
    "    return local_corrs"
   ]
  },
  {
   "cell_type": "code",
   "execution_count": 22,
   "id": "58b651b6",
   "metadata": {},
   "outputs": [],
   "source": [
    "dist = adata.obsm['proximity']"
   ]
  },
  {
   "cell_type": "code",
   "execution_count": 25,
   "id": "297b3e2d",
   "metadata": {},
   "outputs": [],
   "source": [
    "local_pc = calculate_local_correlations(x_mat = ligand_mat.A, y_mat=receptor_mat.A, dist=dist, method=\"pearson\")"
   ]
  },
  {
   "cell_type": "code",
   "execution_count": 26,
   "id": "245c0cc9",
   "metadata": {},
   "outputs": [
    {
     "data": {
      "text/plain": [
       "array([[ 0.11775495,  0.        ,  0.07320522, ...,  0.31679758,\n",
       "         0.08614511,  0.        ],\n",
       "       [-0.19442862, -0.00572051, -0.10251832, ...,  0.31816354,\n",
       "        -0.19816568, -0.01154072],\n",
       "       [-0.14684229, -0.06664198, -0.2709753 , ..., -0.23486906,\n",
       "         0.11611345,  0.49061623],\n",
       "       ...,\n",
       "       [-0.11232401, -0.2953236 , -0.34604046, ...,  0.20728923,\n",
       "         0.06490986,  0.20051171],\n",
       "       [ 0.071826  , -0.1637877 ,  0.19777067, ..., -0.11512091,\n",
       "         0.6614117 ,  0.0007559 ],\n",
       "       [ 0.        ,  0.21222384,  0.0748205 , ...,  0.16439405,\n",
       "         0.        ,  0.        ]], dtype=float32)"
      ]
     },
     "execution_count": 26,
     "metadata": {},
     "output_type": "execute_result"
    }
   ],
   "source": [
    "local_pc"
   ]
  },
  {
   "cell_type": "code",
   "execution_count": null,
   "id": "a0e229bd",
   "metadata": {},
   "outputs": [],
   "source": []
  },
  {
   "cell_type": "code",
   "execution_count": 46,
   "id": "dac4ba2a",
   "metadata": {},
   "outputs": [],
   "source": [
    "from liana.method.sp._spatial_utils import _local_permutation_pvals"
   ]
  },
  {
   "cell_type": "code",
   "execution_count": 56,
   "id": "ff308c66",
   "metadata": {},
   "outputs": [
    {
     "name": "stderr",
     "output_type": "stream",
     "text": [
      "100%|██████████| 100/100 [02:00<00:00,  1.21s/it]\n"
     ]
    }
   ],
   "source": [
    "local_pvals = _local_permutation_pvals(x_mat = ligand_mat.A, \n",
    "                                       y_mat = receptor_mat.A, \n",
    "                                       local_truth=local_pc,\n",
    "                                       local_fun=calculate_local_correlations,\n",
    "                                       dist=dist, \n",
    "                                       n_perm=n_perm, \n",
    "                                       positive_only=False,\n",
    "                                       seed=seed)"
   ]
  },
  {
   "cell_type": "code",
   "execution_count": 117,
   "id": "7d34d9f6",
   "metadata": {},
   "outputs": [
    {
     "data": {
      "text/plain": [
       "array([[0.53, 1.  , 0.72, ..., 0.06, 0.69, 1.  ],\n",
       "       [0.42, 0.96, 0.67, ..., 0.11, 0.3 , 0.93],\n",
       "       [0.51, 0.69, 0.13, ..., 0.11, 0.52, 0.  ],\n",
       "       ...,\n",
       "       [0.66, 0.19, 0.1 , ..., 0.31, 0.85, 0.5 ],\n",
       "       [0.71, 0.59, 0.33, ..., 0.32, 0.  , 1.  ],\n",
       "       [1.  , 0.33, 0.69, ..., 0.14, 1.  , 1.  ]])"
      ]
     },
     "execution_count": 117,
     "metadata": {},
     "output_type": "execute_result"
    }
   ],
   "source": [
    "local_pvals"
   ]
  },
  {
   "cell_type": "code",
   "execution_count": null,
   "id": "b4a05f78",
   "metadata": {},
   "outputs": [],
   "source": []
  },
  {
   "cell_type": "code",
   "execution_count": 57,
   "id": "74a63b84",
   "metadata": {},
   "outputs": [],
   "source": [
    "local_sp = calculate_local_correlations(x_mat = ligand_mat.A, y_mat=receptor_mat.A, dist=dist, method=\"spearman\")"
   ]
  },
  {
   "cell_type": "code",
   "execution_count": 60,
   "id": "95ed049d",
   "metadata": {},
   "outputs": [
    {
     "name": "stderr",
     "output_type": "stream",
     "text": [
      "100%|██████████| 100/100 [05:23<00:00,  3.23s/it]\n"
     ]
    }
   ],
   "source": [
    "local_sp_pvals = _local_permutation_pvals(x_mat = ligand_mat.A, \n",
    "                                          y_mat = receptor_mat.A, \n",
    "                                          local_truth=local_sp,\n",
    "                                          local_fun=calculate_local_correlations,\n",
    "                                          dist=dist, \n",
    "                                          n_perm=n_perm, \n",
    "                                          positive_only=False,\n",
    "                                          seed=seed,\n",
    "                                          method=\"spearman\"\n",
    "                                          )"
   ]
  },
  {
   "cell_type": "code",
   "execution_count": 63,
   "id": "03c9a907",
   "metadata": {},
   "outputs": [
    {
     "data": {
      "text/plain": [
       "(1409, 2688)"
      ]
     },
     "execution_count": 63,
     "metadata": {},
     "output_type": "execute_result"
    }
   ],
   "source": [
    "local_pvals.shape"
   ]
  },
  {
   "cell_type": "code",
   "execution_count": 64,
   "id": "4467f81f",
   "metadata": {},
   "outputs": [
    {
     "data": {
      "text/plain": [
       "(1409, 2688)"
      ]
     },
     "execution_count": 64,
     "metadata": {},
     "output_type": "execute_result"
    }
   ],
   "source": [
    "local_sp_pvals.shape"
   ]
  },
  {
   "cell_type": "code",
   "execution_count": 73,
   "id": "1dfb8b1c",
   "metadata": {},
   "outputs": [
    {
     "data": {
      "text/plain": [
       "SpearmanrResult(correlation=0.9086609733687256, pvalue=0.0)"
      ]
     },
     "execution_count": 73,
     "metadata": {},
     "output_type": "execute_result"
    }
   ],
   "source": [
    "spearmanr(local_sp_pvals[1,:], local_pvals[1,:])"
   ]
  },
  {
   "cell_type": "code",
   "execution_count": null,
   "id": "3c0dd963",
   "metadata": {},
   "outputs": [],
   "source": []
  },
  {
   "attachments": {},
   "cell_type": "markdown",
   "id": "2ab31991",
   "metadata": {},
   "source": [
    "Global summary of the local scores:"
   ]
  },
  {
   "cell_type": "code",
   "execution_count": 97,
   "id": "b07ef553",
   "metadata": {},
   "outputs": [],
   "source": [
    "lr_res.loc[:,['pearson_mean','pearson_sd']] = np.vstack([np.mean(local_pc, axis=1), np.std(local_pc, axis=1)]).T"
   ]
  },
  {
   "cell_type": "code",
   "execution_count": 99,
   "id": "4575407e",
   "metadata": {},
   "outputs": [
    {
     "data": {
      "text/html": [
       "<div>\n",
       "<style scoped>\n",
       "    .dataframe tbody tr th:only-of-type {\n",
       "        vertical-align: middle;\n",
       "    }\n",
       "\n",
       "    .dataframe tbody tr th {\n",
       "        vertical-align: top;\n",
       "    }\n",
       "\n",
       "    .dataframe thead th {\n",
       "        text-align: right;\n",
       "    }\n",
       "</style>\n",
       "<table border=\"1\" class=\"dataframe\">\n",
       "  <thead>\n",
       "    <tr style=\"text-align: right;\">\n",
       "      <th></th>\n",
       "      <th>interaction</th>\n",
       "      <th>ligand</th>\n",
       "      <th>receptor</th>\n",
       "      <th>ligand_complex</th>\n",
       "      <th>receptor_complex</th>\n",
       "      <th>ligand_means</th>\n",
       "      <th>ligand_props</th>\n",
       "      <th>receptor_means</th>\n",
       "      <th>receptor_props</th>\n",
       "      <th>prop_min</th>\n",
       "      <th>pearson_mean</th>\n",
       "      <th>pearson_sd</th>\n",
       "    </tr>\n",
       "  </thead>\n",
       "  <tbody>\n",
       "    <tr>\n",
       "      <th>752</th>\n",
       "      <td>App&amp;Aplp1</td>\n",
       "      <td>App</td>\n",
       "      <td>Aplp1</td>\n",
       "      <td>App</td>\n",
       "      <td>Aplp1</td>\n",
       "      <td>3.040105</td>\n",
       "      <td>0.998140</td>\n",
       "      <td>3.126448</td>\n",
       "      <td>0.999628</td>\n",
       "      <td>0.998140</td>\n",
       "      <td>0.313378</td>\n",
       "      <td>0.239281</td>\n",
       "    </tr>\n",
       "    <tr>\n",
       "      <th>1720</th>\n",
       "      <td>Nptx1&amp;Nptxr</td>\n",
       "      <td>Nptx1</td>\n",
       "      <td>Nptxr</td>\n",
       "      <td>Nptx1</td>\n",
       "      <td>Nptxr</td>\n",
       "      <td>1.045611</td>\n",
       "      <td>0.723586</td>\n",
       "      <td>1.783589</td>\n",
       "      <td>0.889509</td>\n",
       "      <td>0.723586</td>\n",
       "      <td>0.179267</td>\n",
       "      <td>0.251400</td>\n",
       "    </tr>\n",
       "    <tr>\n",
       "      <th>1687</th>\n",
       "      <td>Rtn4&amp;Lingo1</td>\n",
       "      <td>Rtn4</td>\n",
       "      <td>Lingo1</td>\n",
       "      <td>Rtn4</td>\n",
       "      <td>Lingo1</td>\n",
       "      <td>2.446542</td>\n",
       "      <td>0.992188</td>\n",
       "      <td>1.553612</td>\n",
       "      <td>0.893601</td>\n",
       "      <td>0.893601</td>\n",
       "      <td>0.169330</td>\n",
       "      <td>0.251384</td>\n",
       "    </tr>\n",
       "    <tr>\n",
       "      <th>1222</th>\n",
       "      <td>Sema4d&amp;Plxnb3</td>\n",
       "      <td>Sema4d</td>\n",
       "      <td>Plxnb3</td>\n",
       "      <td>Sema4d</td>\n",
       "      <td>Plxnb3</td>\n",
       "      <td>0.544131</td>\n",
       "      <td>0.524554</td>\n",
       "      <td>0.190867</td>\n",
       "      <td>0.219866</td>\n",
       "      <td>0.219866</td>\n",
       "      <td>0.166959</td>\n",
       "      <td>0.248774</td>\n",
       "    </tr>\n",
       "    <tr>\n",
       "      <th>550</th>\n",
       "      <td>App&amp;Aplp2</td>\n",
       "      <td>App</td>\n",
       "      <td>Aplp2</td>\n",
       "      <td>App</td>\n",
       "      <td>Aplp2</td>\n",
       "      <td>3.040105</td>\n",
       "      <td>0.998140</td>\n",
       "      <td>2.031858</td>\n",
       "      <td>0.985119</td>\n",
       "      <td>0.985119</td>\n",
       "      <td>0.162170</td>\n",
       "      <td>0.223698</td>\n",
       "    </tr>\n",
       "    <tr>\n",
       "      <th>...</th>\n",
       "      <td>...</td>\n",
       "      <td>...</td>\n",
       "      <td>...</td>\n",
       "      <td>...</td>\n",
       "      <td>...</td>\n",
       "      <td>...</td>\n",
       "      <td>...</td>\n",
       "      <td>...</td>\n",
       "      <td>...</td>\n",
       "      <td>...</td>\n",
       "      <td>...</td>\n",
       "      <td>...</td>\n",
       "    </tr>\n",
       "    <tr>\n",
       "      <th>1034</th>\n",
       "      <td>L1cam&amp;Ptprz1</td>\n",
       "      <td>L1cam</td>\n",
       "      <td>Ptprz1</td>\n",
       "      <td>L1cam</td>\n",
       "      <td>Ptprz1</td>\n",
       "      <td>0.788955</td>\n",
       "      <td>0.692708</td>\n",
       "      <td>1.292046</td>\n",
       "      <td>0.919643</td>\n",
       "      <td>0.692708</td>\n",
       "      <td>-0.101769</td>\n",
       "      <td>0.213972</td>\n",
       "    </tr>\n",
       "    <tr>\n",
       "      <th>1102</th>\n",
       "      <td>L1cam&amp;Cd9</td>\n",
       "      <td>L1cam</td>\n",
       "      <td>Cd9</td>\n",
       "      <td>L1cam</td>\n",
       "      <td>Cd9</td>\n",
       "      <td>0.788955</td>\n",
       "      <td>0.692708</td>\n",
       "      <td>0.870121</td>\n",
       "      <td>0.682292</td>\n",
       "      <td>0.682292</td>\n",
       "      <td>-0.102461</td>\n",
       "      <td>0.242683</td>\n",
       "    </tr>\n",
       "    <tr>\n",
       "      <th>1551</th>\n",
       "      <td>Apoe&amp;Chrna4</td>\n",
       "      <td>Apoe</td>\n",
       "      <td>Chrna4</td>\n",
       "      <td>Apoe</td>\n",
       "      <td>Chrna4</td>\n",
       "      <td>4.075930</td>\n",
       "      <td>1.000000</td>\n",
       "      <td>0.445172</td>\n",
       "      <td>0.465774</td>\n",
       "      <td>0.465774</td>\n",
       "      <td>-0.116608</td>\n",
       "      <td>0.223021</td>\n",
       "    </tr>\n",
       "    <tr>\n",
       "      <th>1679</th>\n",
       "      <td>Psap&amp;Gpr37l1</td>\n",
       "      <td>Psap</td>\n",
       "      <td>Gpr37l1</td>\n",
       "      <td>Psap</td>\n",
       "      <td>Gpr37l1</td>\n",
       "      <td>3.318095</td>\n",
       "      <td>0.999628</td>\n",
       "      <td>1.765455</td>\n",
       "      <td>0.977307</td>\n",
       "      <td>0.977307</td>\n",
       "      <td>-0.120717</td>\n",
       "      <td>0.229645</td>\n",
       "    </tr>\n",
       "    <tr>\n",
       "      <th>742</th>\n",
       "      <td>App&amp;Rpsa</td>\n",
       "      <td>App</td>\n",
       "      <td>Rpsa</td>\n",
       "      <td>App</td>\n",
       "      <td>Rpsa</td>\n",
       "      <td>3.040105</td>\n",
       "      <td>0.998140</td>\n",
       "      <td>3.452008</td>\n",
       "      <td>1.000000</td>\n",
       "      <td>0.998140</td>\n",
       "      <td>-0.122791</td>\n",
       "      <td>0.273761</td>\n",
       "    </tr>\n",
       "  </tbody>\n",
       "</table>\n",
       "<p>1409 rows × 12 columns</p>\n",
       "</div>"
      ],
      "text/plain": [
       "        interaction  ligand receptor ligand_complex receptor_complex  \\\n",
       "752       App&Aplp1     App    Aplp1            App            Aplp1   \n",
       "1720    Nptx1&Nptxr   Nptx1    Nptxr          Nptx1            Nptxr   \n",
       "1687    Rtn4&Lingo1    Rtn4   Lingo1           Rtn4           Lingo1   \n",
       "1222  Sema4d&Plxnb3  Sema4d   Plxnb3         Sema4d           Plxnb3   \n",
       "550       App&Aplp2     App    Aplp2            App            Aplp2   \n",
       "...             ...     ...      ...            ...              ...   \n",
       "1034   L1cam&Ptprz1   L1cam   Ptprz1          L1cam           Ptprz1   \n",
       "1102      L1cam&Cd9   L1cam      Cd9          L1cam              Cd9   \n",
       "1551    Apoe&Chrna4    Apoe   Chrna4           Apoe           Chrna4   \n",
       "1679   Psap&Gpr37l1    Psap  Gpr37l1           Psap          Gpr37l1   \n",
       "742        App&Rpsa     App     Rpsa            App             Rpsa   \n",
       "\n",
       "      ligand_means  ligand_props  receptor_means  receptor_props  prop_min  \\\n",
       "752       3.040105      0.998140        3.126448        0.999628  0.998140   \n",
       "1720      1.045611      0.723586        1.783589        0.889509  0.723586   \n",
       "1687      2.446542      0.992188        1.553612        0.893601  0.893601   \n",
       "1222      0.544131      0.524554        0.190867        0.219866  0.219866   \n",
       "550       3.040105      0.998140        2.031858        0.985119  0.985119   \n",
       "...            ...           ...             ...             ...       ...   \n",
       "1034      0.788955      0.692708        1.292046        0.919643  0.692708   \n",
       "1102      0.788955      0.692708        0.870121        0.682292  0.682292   \n",
       "1551      4.075930      1.000000        0.445172        0.465774  0.465774   \n",
       "1679      3.318095      0.999628        1.765455        0.977307  0.977307   \n",
       "742       3.040105      0.998140        3.452008        1.000000  0.998140   \n",
       "\n",
       "      pearson_mean  pearson_sd  \n",
       "752       0.313378    0.239281  \n",
       "1720      0.179267    0.251400  \n",
       "1687      0.169330    0.251384  \n",
       "1222      0.166959    0.248774  \n",
       "550       0.162170    0.223698  \n",
       "...            ...         ...  \n",
       "1034     -0.101769    0.213972  \n",
       "1102     -0.102461    0.242683  \n",
       "1551     -0.116608    0.223021  \n",
       "1679     -0.120717    0.229645  \n",
       "742      -0.122791    0.273761  \n",
       "\n",
       "[1409 rows x 12 columns]"
      ]
     },
     "execution_count": 99,
     "metadata": {},
     "output_type": "execute_result"
    }
   ],
   "source": [
    "lr_res.sort_values(by='pearson_mean', ascending=False)"
   ]
  },
  {
   "cell_type": "code",
   "execution_count": null,
   "id": "5f440879",
   "metadata": {},
   "outputs": [],
   "source": []
  },
  {
   "cell_type": "code",
   "execution_count": null,
   "id": "d4e9f6fe",
   "metadata": {},
   "outputs": [],
   "source": []
  },
  {
   "attachments": {},
   "cell_type": "markdown",
   "id": "612f9ee3",
   "metadata": {},
   "source": [
    "masked"
   ]
  },
  {
   "cell_type": "code",
   "execution_count": 119,
   "id": "fb1e22fb",
   "metadata": {},
   "outputs": [],
   "source": [
    "# ligand-receptor mats\n",
    "ligand_mat = _get_ordered_matrix(temp.X, ligand_pos, lr_res.ligand)\n",
    "receptor_mat = _get_ordered_matrix(temp.X, receptor_pos, lr_res.receptor)"
   ]
  },
  {
   "cell_type": "code",
   "execution_count": 120,
   "id": "11ffaef1",
   "metadata": {},
   "outputs": [],
   "source": [
    "import scipy.stats as stats"
   ]
  },
  {
   "cell_type": "code",
   "execution_count": 130,
   "id": "2148aa22",
   "metadata": {},
   "outputs": [],
   "source": [
    "def masked_wcor(x, y, weight, method='spearman_nzw'):\n",
    "    spot_n = x.shape[0]\n",
    "    \n",
    "    # reshape x and y to be the same shape as weight\n",
    "    x = np.reshape(np.repeat(x, spot_n), newshape=(spot_n, spot_n)).T\n",
    "    y = np.reshape(np.repeat(y, spot_n), newshape=(spot_n, spot_n)).T\n",
    "    \n",
    "    # mask x and y with the same mask as weight\n",
    "    x_masked = np.ma.array(x, mask = weight.mask, fill_value=np.nan)\n",
    "    y_masked = np.ma.array(y, mask = weight.mask, fill_value=np.nan)\n",
    "    \n",
    "    if method == 'spearman_nzw':\n",
    "        x_masked = stats.mstats.rankdata(x_masked, axis=1)\n",
    "        y_masked = stats.mstats.rankdata(y_masked, axis=1)\n",
    "        \n",
    "    \n",
    "    # calculate weighted pearson correlation\n",
    "    wsum = np.ma.sum(weight, axis=1)\n",
    "    xws = np.ma.sum(weight * x_masked, axis=1)\n",
    "    yws = np.ma.sum(weight * y_masked, axis=1)\n",
    "    \n",
    "    n1 = wsum * np.ma.sum(weight * x_masked * y_masked, axis=1)\n",
    "    n2 = xws * yws\n",
    "    numerator = n1 - n2\n",
    "    \n",
    "    denominator_x = wsum * np.ma.sum(weight * (x_masked**2), axis=1) - xws**2\n",
    "    denominator_y = wsum * np.ma.sum(weight * (y_masked**2), axis=1) - yws**2\n",
    "    wcor = numerator / np.ma.sqrt(denominator_x * denominator_y)\n",
    "    \n",
    "    return wcor.data"
   ]
  },
  {
   "cell_type": "code",
   "execution_count": 134,
   "id": "5bc646e0",
   "metadata": {},
   "outputs": [],
   "source": [
    "def calculate_masked_correlations(x_mat, y_mat, dist, method='spearman_nzw'):\n",
    "    weight = dist.A\n",
    "    msk = np.logical_not(weight>0).astype(np.int16)\n",
    "    weight = np.ma.masked_array(weight, mask=msk)\n",
    "    # calculate for each x and y combination\n",
    "    local_correlations = []\n",
    "    \n",
    "    for i in range(x_mat.shape[0]):\n",
    "        local_correlations.append(masked_wcor(x_mat[i, :], y_mat[i, :], weight=weight))\n",
    "    local_correlations = np.array(local_correlations)\n",
    "    \n",
    "    return local_correlations\n"
   ]
  },
  {
   "cell_type": "code",
   "execution_count": 135,
   "id": "ea2cec37",
   "metadata": {},
   "outputs": [
    {
     "data": {
      "text/plain": [
       "(1409, 2688)"
      ]
     },
     "execution_count": 135,
     "metadata": {},
     "output_type": "execute_result"
    }
   ],
   "source": [
    "ligand_mat.shape"
   ]
  },
  {
   "cell_type": "code",
   "execution_count": 136,
   "id": "be8de259",
   "metadata": {},
   "outputs": [
    {
     "name": "stdout",
     "output_type": "stream",
     "text": [
      "CPU times: user 21.1 s, sys: 7.98 s, total: 29.1 s\n",
      "Wall time: 29.3 s\n"
     ]
    }
   ],
   "source": [
    "%%time\n",
    "\n",
    "dist = adata.obsm['proximity']\n",
    "\n",
    "masked_sp = calculate_masked_correlations(ligand_mat[0:10,:].A, receptor_mat[0:10,:].A, dist=dist, method='spearman_nzw')"
   ]
  },
  {
   "cell_type": "code",
   "execution_count": 137,
   "id": "7a53aaf7",
   "metadata": {},
   "outputs": [
    {
     "data": {
      "text/plain": [
       "array([[ 0.12049729,  0.        ,  0.11016797, -0.20608103,  0.21943871,\n",
       "        -0.11546491,  0.25134708, -0.17371267,  0.19082757, -0.10393814],\n",
       "       [-0.15209161, -0.04359862, -0.14015451, -0.49015079, -0.0669737 ,\n",
       "        -0.07049859, -0.16523511, -0.39150574,  0.14699451, -0.13722149],\n",
       "       [-0.16374455, -0.0682216 , -0.28411074, -0.19172075,  0.25262793,\n",
       "         0.3837503 ,  0.14866258, -0.02761892,  0.28759654, -0.11783624],\n",
       "       [-0.09075614, -0.09892519, -0.14883346,  0.34355083,  0.3604052 ,\n",
       "         0.37844732,  0.06048634,  0.13773981,  0.15850836, -0.14208299],\n",
       "       [-0.20395358, -0.05371625, -0.16289518,  0.        ,  0.06958576,\n",
       "         0.13323865,  0.09405656, -0.08858841, -0.01459214, -0.05856382],\n",
       "       [ 0.06149178, -0.34234225, -0.03447092, -0.10714982, -0.44833954,\n",
       "         0.03704983,  0.01411414,  0.0226737 ,  0.15963833, -0.17996375],\n",
       "       [ 0.13048961, -0.22678031, -0.03650709,  0.32043352, -0.12093551,\n",
       "         0.02076594,  0.15750812,  0.29120851,  0.01892143, -0.08452428],\n",
       "       [ 0.1873477 ,  0.08615574,  0.12911922,  0.38569983, -0.15419076,\n",
       "        -0.24399927,  0.14695476, -0.20255969, -0.02696458, -0.24067253],\n",
       "       [ 0.0915068 , -0.13555389, -0.21473576, -0.29685285, -0.11702685,\n",
       "         0.02709555,  0.06594073, -0.07475414,  0.1034118 ,  0.25823123],\n",
       "       [ 0.38110789, -0.11794219, -0.15113036,  0.42079408, -0.19342035,\n",
       "         0.        , -0.13227521, -0.06682049,  0.33141627, -0.03220234]])"
      ]
     },
     "execution_count": 137,
     "metadata": {},
     "output_type": "execute_result"
    }
   ],
   "source": [
    "masked_sp[0:10,0:10]"
   ]
  },
  {
   "cell_type": "code",
   "execution_count": 129,
   "id": "700b6b47",
   "metadata": {},
   "outputs": [
    {
     "data": {
      "text/plain": [
       "(array([ 15.,  69., 445., 818., 676., 246., 221., 135.,  49.,  14.]),\n",
       " array([-0.48527399, -0.37078336, -0.25629273, -0.1418021 , -0.02731147,\n",
       "         0.08717916,  0.20166979,  0.31616042,  0.43065105,  0.54514168,\n",
       "         0.65963231]),\n",
       " <BarContainer object of 10 artists>)"
      ]
     },
     "execution_count": 129,
     "metadata": {},
     "output_type": "execute_result"
    },
    {
     "data": {
      "image/png": "[encoded data removed]",
      "text/plain": [
       "<Figure size 432x288 with 1 Axes>"
      ]
     },
     "metadata": {
      "needs_background": "light"
     },
     "output_type": "display_data"
    }
   ],
   "source": [
    "hist(masked_sp[0,:])"
   ]
  },
  {
   "cell_type": "code",
   "execution_count": 158,
   "id": "dd6b5b6f",
   "metadata": {},
   "outputs": [],
   "source": [
    "spot_n = x.shape[1]"
   ]
  },
  {
   "cell_type": "code",
   "execution_count": 159,
   "id": "3ce7bdd6",
   "metadata": {},
   "outputs": [],
   "source": [
    "weight = dist.A\n",
    "msk = np.logical_not(weight>0).astype(np.int16)\n",
    "weight = np.ma.masked_array(weight, mask=msk)"
   ]
  },
  {
   "cell_type": "code",
   "execution_count": 160,
   "id": "ff196baa",
   "metadata": {},
   "outputs": [],
   "source": [
    "x, y = ligand_mat[0,:].A, receptor_mat[0,:].A"
   ]
  },
  {
   "cell_type": "code",
   "execution_count": 161,
   "id": "f72f3fa5",
   "metadata": {},
   "outputs": [
    {
     "data": {
      "text/plain": [
       "2688"
      ]
     },
     "execution_count": 161,
     "metadata": {},
     "output_type": "execute_result"
    }
   ],
   "source": [
    "spot_n\n"
   ]
  },
  {
   "cell_type": "code",
   "execution_count": 162,
   "id": "6832f8b9",
   "metadata": {},
   "outputs": [],
   "source": [
    "# reshape x and y to be the same shape as weight\n",
    "x = np.reshape(np.repeat(x, spot_n), newshape=(spot_n, spot_n)).T\n",
    "y = np.reshape(np.repeat(y, spot_n), newshape=(spot_n, spot_n)).T"
   ]
  },
  {
   "cell_type": "code",
   "execution_count": 167,
   "id": "1748cf55",
   "metadata": {},
   "outputs": [],
   "source": [
    "# mask x and y with the same mask as weight\n",
    "x_masked = np.ma.array(x, mask = weight.mask, fill_value=np.nan)\n",
    "y_masked = np.ma.array(y, mask = weight.mask, fill_value=np.nan)"
   ]
  },
  {
   "cell_type": "code",
   "execution_count": null,
   "id": "962f5057",
   "metadata": {},
   "outputs": [],
   "source": []
  },
  {
   "cell_type": "code",
   "execution_count": 164,
   "id": "bc42b447",
   "metadata": {},
   "outputs": [],
   "source": [
    "x_masked = stats.mstats.rankdata(x_masked, axis=1)\n",
    "y_masked = stats.mstats.rankdata(y_masked, axis=1)"
   ]
  },
  {
   "cell_type": "code",
   "execution_count": null,
   "id": "ffde320a",
   "metadata": {},
   "outputs": [],
   "source": []
  },
  {
   "cell_type": "code",
   "execution_count": null,
   "id": "559a56f7",
   "metadata": {},
   "outputs": [],
   "source": []
  },
  {
   "cell_type": "code",
   "execution_count": null,
   "id": "3ef6c695",
   "metadata": {},
   "outputs": [],
   "source": []
  },
  {
   "attachments": {},
   "cell_type": "markdown",
   "id": "20c66314",
   "metadata": {},
   "source": [
    "local p-values"
   ]
  },
  {
   "cell_type": "code",
   "execution_count": null,
   "id": "2d2a26c4",
   "metadata": {},
   "outputs": [],
   "source": [
    "from numpy import random\n",
    "from tqdm import tqdm"
   ]
  },
  {
   "cell_type": "code",
   "execution_count": null,
   "id": "af430595",
   "metadata": {},
   "outputs": [],
   "source": [
    "rng = random.default_rng(0)\n",
    "n_perm = 100\n",
    "positive_only = True # remove this option?"
   ]
  },
  {
   "cell_type": "code",
   "execution_count": null,
   "id": "f47617b7",
   "metadata": {},
   "outputs": [],
   "source": [
    "dist = adata.obsm['proximity']"
   ]
  },
  {
   "cell_type": "code",
   "execution_count": null,
   "id": "8bb8d8c3",
   "metadata": {},
   "outputs": [],
   "source": [
    "local_pc.shape"
   ]
  },
  {
   "cell_type": "code",
   "execution_count": null,
   "id": "825b981e",
   "metadata": {},
   "outputs": [],
   "source": []
  },
  {
   "cell_type": "code",
   "execution_count": null,
   "id": "b9f0a2a7",
   "metadata": {},
   "outputs": [],
   "source": [
    "def _get_local_permutation_pvals(x_mat, y_mat, local_truth, local_fun, dist, n_perm, positive_only=True, **kwargs):\n",
    "    xy_n = local_truth.shape[0]\n",
    "    spot_n = local_truth.shape[1]\n",
    "    \n",
    "    print(spot_n)\n",
    "    \n",
    "    # permutation cubes to be populated\n",
    "    local_pvals = np.zeros((xy_n, spot_n))\n",
    "    \n",
    "    # shuffle the matrix\n",
    "    for i in tqdm(range(n_perm)):\n",
    "        _idx = rng.permutation(spot_n)\n",
    "        perm_score = local_fun(x_mat = x_mat[_idx, :], y_mat=y_mat, dist=dist, **kwargs) ## TODO switch to shuffle rows, not columns\n",
    "        if positive_only:\n",
    "            local_pvals += np.array(perm_score >= local_truth, dtype=int)\n",
    "        else:\n",
    "            local_pvals += (np.array(np.abs(perm_score) >= np.abs(local_truth), dtype=int))\n",
    "\n",
    "    local_pvals = local_pvals / n_perm\n",
    "    \n",
    "    return local_pvals\n",
    "    "
   ]
  },
  {
   "cell_type": "code",
   "execution_count": null,
   "id": "1a714ac7",
   "metadata": {},
   "outputs": [],
   "source": []
  },
  {
   "cell_type": "code",
   "execution_count": null,
   "id": "fe1187a9",
   "metadata": {},
   "outputs": [],
   "source": []
  },
  {
   "cell_type": "code",
   "execution_count": null,
   "id": "6f051d13",
   "metadata": {},
   "outputs": [],
   "source": []
  },
  {
   "cell_type": "code",
   "execution_count": null,
   "metadata": {},
   "outputs": [],
   "source": []
  },
  {
   "cell_type": "code",
   "execution_count": null,
   "id": "dac4ba2a",
   "metadata": {},
   "outputs": [],
   "source": [
    "from liana.method.sp._spatial_utils import _local_permutation_pvals"
   ]
  },
  {
   "cell_type": "code",
   "execution_count": null,
   "id": "ff308c66",
   "metadata": {},
   "outputs": [],
   "source": [
    "local_pvals = _local_permutation_pvals(x_mat = ligand_mat.A, \n",
    "                                       y_mat = receptor_mat.A, \n",
    "                                       local_truth=local_pc,\n",
    "                                       local_fun=calculate_local_correlations,\n",
    "                                       dist=dist, \n",
    "                                       n_perm=n_perm, \n",
    "                                       positive_only=False,\n",
    "                                       seed=0)"
   ]
  },
  {
   "cell_type": "code",
   "execution_count": null,
   "id": "7d34d9f6",
   "metadata": {},
   "outputs": [],
   "source": [
    "local_pvals"
   ]
  },
  {
   "cell_type": "code",
   "execution_count": null,
   "id": "4806c532",
   "metadata": {},
   "outputs": [],
   "source": []
  },
  {
   "cell_type": "code",
   "execution_count": null,
   "id": "b08fb539",
   "metadata": {},
   "outputs": [],
   "source": [
    "local_pvals"
   ]
  },
  {
   "cell_type": "code",
   "execution_count": null,
   "id": "160df845",
   "metadata": {},
   "outputs": [],
   "source": [
    "from  scipy.sparse import csr_matrix"
   ]
  },
  {
   "cell_type": "code",
   "execution_count": null,
   "id": "f0d4453b",
   "metadata": {},
   "outputs": [],
   "source": [
    "local_pvals.shape"
   ]
  },
  {
   "cell_type": "code",
   "execution_count": null,
   "id": "fe424bbc",
   "metadata": {},
   "outputs": [],
   "source": [
    "local_pvals"
   ]
  },
  {
   "cell_type": "code",
   "execution_count": null,
   "id": "808dac55",
   "metadata": {},
   "outputs": [],
   "source": []
  },
  {
   "cell_type": "code",
   "execution_count": null,
   "id": "7c8b5359",
   "metadata": {},
   "outputs": [],
   "source": [
    "local_pc.shape"
   ]
  },
  {
   "cell_type": "code",
   "execution_count": null,
   "id": "4e5f6f90",
   "metadata": {},
   "outputs": [],
   "source": [
    "local_pvals.shape"
   ]
  },
  {
   "cell_type": "code",
   "execution_count": null,
   "id": "6ca94d98",
   "metadata": {},
   "outputs": [],
   "source": [
    "local_masked_pvals = _get_local_permutation_pvals(x_mat = ligand_mat.A,\n",
    "                                                  y_mat = receptor_mat.A,\n",
    "                                                  local_truth = masked_sp,\n",
    "                                                  local_fun=calculate_masked_correlations,\n",
    "                                                  dist=dist,\n",
    "                                                  n_perm=n_perm,\n",
    "                                                  positive_only=False)"
   ]
  },
  {
   "cell_type": "code",
   "execution_count": null,
   "id": "82286380",
   "metadata": {},
   "outputs": [],
   "source": [
    "local_masked_pvals"
   ]
  },
  {
   "cell_type": "code",
   "execution_count": null,
   "id": "693c03cb",
   "metadata": {},
   "outputs": [],
   "source": [
    "local_masked_pvals.shape"
   ]
  },
  {
   "cell_type": "code",
   "execution_count": null,
   "id": "46d37697",
   "metadata": {},
   "outputs": [],
   "source": [
    "from scipy.stats import spearmanr,  pearsonr"
   ]
  },
  {
   "cell_type": "code",
   "execution_count": null,
   "id": "e8f4e9ec",
   "metadata": {},
   "outputs": [],
   "source": [
    "pearsonr(local_masked_pvals[0,:], local_pvals[0,:])"
   ]
  },
  {
   "cell_type": "code",
   "execution_count": null,
   "id": "d1b942d7",
   "metadata": {},
   "outputs": [],
   "source": []
  }
 ],
 "metadata": {
  "kernelspec": {
   "display_name": "liana-py",
   "language": "python",
   "name": "liana-py"
  },
  "language_info": {
   "codemirror_mode": {
    "name": "ipython",
    "version": 3
   },
   "file_extension": ".py",
   "mimetype": "text/x-python",
   "name": "python",
   "nbconvert_exporter": "python",
   "pygments_lexer": "ipython3",
   "version": "3.8.8"
  }
 },
 "nbformat": 4,
 "nbformat_minor": 5
}
