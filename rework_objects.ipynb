{
 "cells": [
  {
   "cell_type": "code",
   "execution_count": null,
   "metadata": {},
   "outputs": [],
   "source": [
    "import scanpy as sc\n",
    "import decoupler as dc\n",
    "\n",
    "# Only needed for processing and plotting\n",
    "import numpy as np\n",
    "import pandas as pd\n",
    "import matplotlib.pyplot as plt\n",
    "import seaborn as sns"
   ]
  },
  {
   "cell_type": "code",
   "execution_count": null,
   "metadata": {},
   "outputs": [],
   "source": [
    "import liana as li"
   ]
  },
  {
   "cell_type": "code",
   "execution_count": null,
   "metadata": {},
   "outputs": [],
   "source": []
  },
  {
   "attachments": {},
   "cell_type": "markdown",
   "metadata": {},
   "source": [
    "#### Pre-process"
   ]
  },
  {
   "cell_type": "code",
   "execution_count": null,
   "metadata": {},
   "outputs": [],
   "source": [
    "adata = sc.datasets.visium_sge(sample_id=\"V1_Human_Lymph_Node\")\n",
    "adata.var_names_make_unique()\n",
    "adata"
   ]
  },
  {
   "cell_type": "code",
   "execution_count": null,
   "metadata": {},
   "outputs": [],
   "source": [
    "# Basic filtering\n",
    "sc.pp.filter_cells(adata, min_genes=200)\n",
    "sc.pp.filter_genes(adata, min_cells=10)\n",
    "\n",
    "# Annotate the group of mitochondrial genes as 'mt'\n",
    "adata.var['mt'] = adata.var_names.str.startswith('MT-')\n",
    "sc.pp.calculate_qc_metrics(adata, qc_vars=['mt'], percent_top=None, log1p=False, inplace=True)\n",
    "\n",
    "# Filter cells following standard QC criteria.\n",
    "adata = adata[adata.obs.pct_counts_mt < 20, :]\n",
    "\n",
    "# Normalize the data\n",
    "sc.pp.normalize_total(adata, target_sum=1e4)\n",
    "sc.pp.log1p(adata)\n",
    "\n",
    "# Identify highly variable genes\n",
    "sc.pp.highly_variable_genes(adata)\n",
    "\n",
    "# Filter higly variable genes\n",
    "adata.raw = adata\n",
    "adata = adata[:, adata.var.highly_variable]\n",
    "\n",
    "# Scale the data\n",
    "sc.pp.scale(adata, max_value=10)"
   ]
  },
  {
   "cell_type": "code",
   "execution_count": null,
   "metadata": {},
   "outputs": [],
   "source": [
    "# Generate PCA features\n",
    "sc.tl.pca(adata, svd_solver='arpack')\n",
    "\n",
    "# Compute distances in the PCA space, and find spot neighbors\n",
    "sc.pp.neighbors(adata)\n",
    "\n",
    "# Run leiden clustering algorithm\n",
    "sc.tl.leiden(adata)\n",
    "\n",
    "# Visualize\n",
    "sc.pl.spatial(adata, color=[None, 'leiden'], size=1.5, wspace=0)"
   ]
  },
  {
   "cell_type": "code",
   "execution_count": null,
   "metadata": {},
   "outputs": [],
   "source": [
    "adata.write_h5ad(\"processed_visium.h5ad\")"
   ]
  },
  {
   "cell_type": "code",
   "execution_count": null,
   "metadata": {},
   "outputs": [],
   "source": []
  },
  {
   "cell_type": "code",
   "execution_count": null,
   "metadata": {},
   "outputs": [],
   "source": [
    "model = dc.get_progeny(organism='human', top=1000)\n",
    "model"
   ]
  },
  {
   "cell_type": "code",
   "execution_count": null,
   "metadata": {},
   "outputs": [],
   "source": [
    "dc.run_mlm(mat=adata, net=model, source='source', target='target', weight='weight', verbose=True)\n",
    "\n",
    "# Store them in a different key\n",
    "adata.obsm['progeny_mlm_estimate'] = adata.obsm['mlm_estimate'].copy()\n",
    "adata.obsm['progeny_mlm_pvals'] = adata.obsm['mlm_pvals'].copy()"
   ]
  },
  {
   "cell_type": "code",
   "execution_count": null,
   "metadata": {},
   "outputs": [],
   "source": [
    "acts = dc.get_acts(adata, obsm_key='progeny_mlm_estimate')\n",
    "acts"
   ]
  },
  {
   "cell_type": "code",
   "execution_count": null,
   "metadata": {},
   "outputs": [],
   "source": [
    "acts.write_h5ad('progeny_acts.h5ad')"
   ]
  },
  {
   "cell_type": "code",
   "execution_count": null,
   "metadata": {},
   "outputs": [],
   "source": []
  },
  {
   "cell_type": "code",
   "execution_count": null,
   "metadata": {},
   "outputs": [],
   "source": [
    "model = dc.get_dorothea(organism='human')"
   ]
  },
  {
   "cell_type": "code",
   "execution_count": null,
   "metadata": {},
   "outputs": [],
   "source": [
    "dc.run_mlm(mat=adata, net=model, source='source', target='target', weight='weight', verbose=True)\n",
    "\n",
    "# Store them in a different key\n",
    "adata.obsm['dorothea_mlm_estimate'] = adata.obsm['mlm_estimate'].copy()\n",
    "adata.obsm['dorothea_mlm_pvals'] = adata.obsm['mlm_pvals'].copy()"
   ]
  },
  {
   "cell_type": "code",
   "execution_count": null,
   "metadata": {},
   "outputs": [],
   "source": [
    "acts = dc.get_acts(adata, obsm_key='dorothea_mlm_estimate')\n",
    "acts"
   ]
  },
  {
   "cell_type": "code",
   "execution_count": null,
   "metadata": {},
   "outputs": [],
   "source": [
    "acts.write_h5ad('dorothea_acts.h5ad')"
   ]
  },
  {
   "cell_type": "code",
   "execution_count": null,
   "metadata": {},
   "outputs": [],
   "source": [
    "acts"
   ]
  },
  {
   "cell_type": "code",
   "execution_count": null,
   "metadata": {},
   "outputs": [],
   "source": []
  },
  {
   "attachments": {},
   "cell_type": "markdown",
   "metadata": {},
   "source": [
    "## Any X,Y combo"
   ]
  },
  {
   "attachments": {},
   "cell_type": "markdown",
   "metadata": {},
   "source": [
    "SpatialDM becomes SpatialLRMethod\n",
    "\n",
    "SpatialMethod is any X,Y"
   ]
  },
  {
   "cell_type": "code",
   "execution_count": 1,
   "metadata": {},
   "outputs": [],
   "source": [
    "import liana as li"
   ]
  },
  {
   "cell_type": "code",
   "execution_count": 2,
   "metadata": {},
   "outputs": [],
   "source": [
    "import scanpy as sc\n",
    "import pandas as pd\n",
    "import numpy as np"
   ]
  },
  {
   "cell_type": "code",
   "execution_count": 3,
   "metadata": {},
   "outputs": [],
   "source": [
    "from mudata import MuData"
   ]
  },
  {
   "cell_type": "code",
   "execution_count": 4,
   "metadata": {},
   "outputs": [],
   "source": [
    "from liana.utils._utils import _get_props\n",
    "from scipy.sparse import csr_matrix"
   ]
  },
  {
   "cell_type": "code",
   "execution_count": null,
   "metadata": {},
   "outputs": [],
   "source": []
  },
  {
   "cell_type": "code",
   "execution_count": 5,
   "metadata": {},
   "outputs": [],
   "source": [
    "adata = sc.read_h5ad(\"processed_visium.h5ad\")"
   ]
  },
  {
   "cell_type": "code",
   "execution_count": 6,
   "metadata": {},
   "outputs": [],
   "source": [
    "progeny = sc.read_h5ad('progeny_acts.h5ad')"
   ]
  },
  {
   "cell_type": "code",
   "execution_count": 7,
   "metadata": {},
   "outputs": [],
   "source": [
    "dorothea = sc.read_h5ad('dorothea_acts.h5ad')"
   ]
  },
  {
   "cell_type": "code",
   "execution_count": 8,
   "metadata": {},
   "outputs": [
    {
     "name": "stderr",
     "output_type": "stream",
     "text": [
      "/home/dbdimitrov/anaconda3/envs/liana-py/lib/python3.10/site-packages/mudata/_core/mudata.py:458: UserWarning: Cannot join columns with the same name because var_names are intersecting.\n"
     ]
    }
   ],
   "source": [
    "mdata = MuData({\"expr\": adata, 'progeny': progeny, 'dorothea': dorothea})"
   ]
  },
  {
   "cell_type": "code",
   "execution_count": 9,
   "metadata": {},
   "outputs": [],
   "source": [
    "# transfer coordinates\n",
    "mdata.obsm[\"spatial\"] = adata.obsm[\"spatial\"]"
   ]
  },
  {
   "cell_type": "code",
   "execution_count": 10,
   "metadata": {},
   "outputs": [],
   "source": [
    "li.mt.get_spatial_proximity(adata=mdata, parameter=100, bypass_diagonal=False, cutoff=0.1)"
   ]
  },
  {
   "cell_type": "code",
   "execution_count": null,
   "metadata": {},
   "outputs": [],
   "source": []
  },
  {
   "cell_type": "markdown",
   "metadata": {},
   "source": []
  },
  {
   "cell_type": "code",
   "execution_count": 11,
   "metadata": {},
   "outputs": [],
   "source": [
    "from liana.method.sp._spatialdm import _global_spatialdm, _local_to_dataframe, _local_spatialdm, _local_morans"
   ]
  },
  {
   "cell_type": "code",
   "execution_count": 12,
   "metadata": {},
   "outputs": [],
   "source": [
    "from liana.method.sp._spatial_pipe import global_bivariate_pipe, _get_ordered_matrix"
   ]
  },
  {
   "cell_type": "code",
   "execution_count": 13,
   "metadata": {},
   "outputs": [],
   "source": [
    "from liana.method.sp._bivariate_funs import _vectorized_spearman, _vectorized_pearson, _vectorized_wcosine, _vectorized_jaccard, _masked_pearson, _masked_spearman"
   ]
  },
  {
   "cell_type": "code",
   "execution_count": 27,
   "metadata": {},
   "outputs": [],
   "source": [
    "from liana.method.sp._spatial_utils import _local_permutation_pvals"
   ]
  },
  {
   "cell_type": "code",
   "execution_count": null,
   "metadata": {},
   "outputs": [],
   "source": []
  },
  {
   "cell_type": "code",
   "execution_count": null,
   "metadata": {},
   "outputs": [],
   "source": []
  },
  {
   "cell_type": "code",
   "execution_count": 16,
   "metadata": {},
   "outputs": [],
   "source": [
    "mdata = global_bivariate_pipe(mdata,\n",
    "                              local_fun = _vectorized_jaccard,\n",
    "                              x_mod = 'progeny', \n",
    "                              y_mod = 'dorothea',\n",
    "                              dist=mdata.obsm['proximity']\n",
    "                              )"
   ]
  },
  {
   "cell_type": "code",
   "execution_count": 22,
   "metadata": {},
   "outputs": [],
   "source": [
    "mdata.mod['local_jacc'] = li.ut.obsm_to_adata(mdata, 'local_score')"
   ]
  },
  {
   "cell_type": "code",
   "execution_count": null,
   "metadata": {},
   "outputs": [],
   "source": []
  },
  {
   "cell_type": "code",
   "execution_count": null,
   "metadata": {},
   "outputs": [],
   "source": []
  },
  {
   "cell_type": "code",
   "execution_count": null,
   "metadata": {},
   "outputs": [],
   "source": []
  },
  {
   "cell_type": "code",
   "execution_count": null,
   "metadata": {},
   "outputs": [],
   "source": [
    "x_mod = 'progeny'\n",
    "y_mod = 'dorothea'"
   ]
  },
  {
   "cell_type": "code",
   "execution_count": null,
   "metadata": {},
   "outputs": [],
   "source": [
    "xy_stats, x_pos, y_pos = global_bivariate_pipe(mdata, x_mod=x_mod, y_mod=y_mod, nz_threshold=0)"
   ]
  },
  {
   "cell_type": "code",
   "execution_count": null,
   "metadata": {},
   "outputs": [],
   "source": [
    "xy_stats"
   ]
  },
  {
   "cell_type": "code",
   "execution_count": null,
   "metadata": {},
   "outputs": [],
   "source": []
  },
  {
   "attachments": {},
   "cell_type": "markdown",
   "metadata": {},
   "source": [
    "To SpatialMethod--->"
   ]
  },
  {
   "cell_type": "code",
   "execution_count": null,
   "metadata": {},
   "outputs": [],
   "source": [
    "dist = mdata.obsm['proximity']\n",
    "weight = dist.A.astype(np.float32)"
   ]
  },
  {
   "cell_type": "code",
   "execution_count": null,
   "metadata": {},
   "outputs": [],
   "source": [
    "# weight = dist.A.T"
   ]
  },
  {
   "cell_type": "code",
   "execution_count": null,
   "metadata": {},
   "outputs": [],
   "source": []
  },
  {
   "cell_type": "code",
   "execution_count": null,
   "metadata": {},
   "outputs": [],
   "source": [
    "# convert to spot_n x lr_n matrices\n",
    "x_mat = _get_ordered_matrix(mat=mdata[x_mod].X,\n",
    "                            pos=x_pos,\n",
    "                            order=xy_stats['x_entity'])\n",
    "y_mat = _get_ordered_matrix(mat=mdata[y_mod].X,\n",
    "                            pos=y_pos,\n",
    "                            order=xy_stats['y_entity'])"
   ]
  },
  {
   "cell_type": "code",
   "execution_count": null,
   "metadata": {},
   "outputs": [],
   "source": [
    "import numba as nb"
   ]
  },
  {
   "cell_type": "code",
   "execution_count": null,
   "metadata": {},
   "outputs": [],
   "source": [
    "local_pc = _vectorized_pearson(x_mat.T.A, y_mat.T.A, weight)"
   ]
  },
  {
   "cell_type": "code",
   "execution_count": null,
   "metadata": {},
   "outputs": [],
   "source": [
    "local_sp = _vectorized_spearman(x_mat.T.A, y_mat.T.A, weight)"
   ]
  },
  {
   "cell_type": "code",
   "execution_count": null,
   "metadata": {},
   "outputs": [],
   "source": [
    "local_wcos = _vectorized_wcosine(x_mat.T.A, y_mat.T.A, weight)"
   ]
  },
  {
   "cell_type": "code",
   "execution_count": null,
   "metadata": {},
   "outputs": [],
   "source": [
    "local_wjac = _vectorized_jaccard(x_mat.T.A, y_mat.T.A, weight)"
   ]
  },
  {
   "cell_type": "code",
   "execution_count": null,
   "metadata": {},
   "outputs": [],
   "source": [
    "norm_factor = dist.shape[0] / dist.sum()\n",
    "dist_norm = csr_matrix(norm_factor * dist)\n",
    "\n",
    "local_morans = _local_morans(x_mat.T.A, y_mat.T.A, dist_norm)"
   ]
  },
  {
   "cell_type": "code",
   "execution_count": null,
   "metadata": {},
   "outputs": [],
   "source": [
    "local_sp"
   ]
  },
  {
   "cell_type": "code",
   "execution_count": null,
   "metadata": {},
   "outputs": [],
   "source": [
    "score_fun = _local_morans"
   ]
  },
  {
   "cell_type": "code",
   "execution_count": null,
   "metadata": {},
   "outputs": [],
   "source": [
    "score_fun.__name__"
   ]
  },
  {
   "cell_type": "code",
   "execution_count": null,
   "metadata": {},
   "outputs": [],
   "source": []
  },
  {
   "cell_type": "code",
   "execution_count": null,
   "metadata": {},
   "outputs": [],
   "source": [
    "None is None"
   ]
  },
  {
   "cell_type": "code",
   "execution_count": null,
   "metadata": {},
   "outputs": [],
   "source": []
  },
  {
   "cell_type": "code",
   "execution_count": null,
   "metadata": {},
   "outputs": [],
   "source": [
    "from liana.method.sp import spatialdm"
   ]
  },
  {
   "cell_type": "code",
   "execution_count": null,
   "metadata": {},
   "outputs": [],
   "source": []
  },
  {
   "cell_type": "code",
   "execution_count": null,
   "metadata": {},
   "outputs": [],
   "source": []
  },
  {
   "cell_type": "code",
   "execution_count": null,
   "metadata": {},
   "outputs": [],
   "source": [
    "local_sp_pvals = _local_permutation_pvals(x_mat = x_mat.A.T, \n",
    "                                          y_mat = y_mat.A.T,\n",
    "                                          local_truth=local_pc,\n",
    "                                          local_fun=_vectorized_pearson,\n",
    "                                          dist=weight, \n",
    "                                          n_perm=20, \n",
    "                                          positive_only=False,\n",
    "                                          seed=0\n",
    "                                          )"
   ]
  },
  {
   "cell_type": "code",
   "execution_count": null,
   "metadata": {},
   "outputs": [],
   "source": []
  },
  {
   "cell_type": "code",
   "execution_count": null,
   "metadata": {},
   "outputs": [],
   "source": [
    "from matplotlib.pyplot import hist"
   ]
  },
  {
   "cell_type": "code",
   "execution_count": null,
   "metadata": {},
   "outputs": [],
   "source": []
  },
  {
   "cell_type": "code",
   "execution_count": null,
   "metadata": {},
   "outputs": [],
   "source": []
  },
  {
   "cell_type": "code",
   "execution_count": null,
   "metadata": {},
   "outputs": [],
   "source": []
  },
  {
   "attachments": {},
   "cell_type": "markdown",
   "metadata": {},
   "source": [
    "THEN LASSO Regularization on each spot\n",
    "\n",
    "where we try to see which variables explain the best the rest of the variables in that spot?\n",
    "\n",
    "(considering each spot a center of signalling in the perphery)"
   ]
  },
  {
   "cell_type": "code",
   "execution_count": null,
   "metadata": {},
   "outputs": [],
   "source": []
  },
  {
   "cell_type": "code",
   "execution_count": null,
   "metadata": {},
   "outputs": [],
   "source": []
  },
  {
   "cell_type": "code",
   "execution_count": null,
   "metadata": {},
   "outputs": [],
   "source": []
  },
  {
   "attachments": {},
   "cell_type": "markdown",
   "metadata": {},
   "source": [
    "Categorize"
   ]
  },
  {
   "cell_type": "code",
   "execution_count": null,
   "metadata": {},
   "outputs": [],
   "source": [
    "# create two matrices\n",
    "x = np.array([[1, 0, -1, -1], [1, 0, 1, -1]])\n",
    "y = np.array([[1, 0, 1, -1], [-1, -1, 0, -1]])"
   ]
  },
  {
   "cell_type": "code",
   "execution_count": null,
   "metadata": {},
   "outputs": [],
   "source": [
    "def _encode_as_char(a):\n",
    "    a = np.where(a > 0, 'P', np.where(a<0, 'N', 'Z'))\n",
    "    return a"
   ]
  },
  {
   "cell_type": "code",
   "execution_count": null,
   "metadata": {},
   "outputs": [],
   "source": [
    "def _categorize(x, y):\n",
    "    cat = np.core.defchararray.add(x, y)\n",
    "    return cat"
   ]
  },
  {
   "cell_type": "code",
   "execution_count": null,
   "metadata": {},
   "outputs": [],
   "source": [
    "def _simplify_cats(a):\n",
    "    result = np.where(np.char.find(a, 'Z') >= 0, 'U',\n",
    "              np.where(a == 'PP', 'P',\n",
    "                       np.where(a == 'NN', 'P*',\n",
    "                                np.where(np.char.find(a, 'N') >= 0, 'N', a))))\n",
    "    return result"
   ]
  },
  {
   "cell_type": "code",
   "execution_count": null,
   "metadata": {},
   "outputs": [],
   "source": [
    "cats = _categorize(_encode_as_char(x), _encode_as_char(y))"
   ]
  },
  {
   "cell_type": "code",
   "execution_count": null,
   "metadata": {},
   "outputs": [],
   "source": [
    "cats"
   ]
  },
  {
   "cell_type": "code",
   "execution_count": null,
   "metadata": {},
   "outputs": [],
   "source": [
    "_simplify_cats(cats)"
   ]
  },
  {
   "cell_type": "code",
   "execution_count": null,
   "metadata": {},
   "outputs": [],
   "source": []
  },
  {
   "cell_type": "code",
   "execution_count": null,
   "metadata": {},
   "outputs": [],
   "source": [
    "cats = _categorize(_encode_as_char(x_mat.A), _encode_as_char(y_mat.A))"
   ]
  },
  {
   "cell_type": "code",
   "execution_count": null,
   "metadata": {},
   "outputs": [],
   "source": [
    "_simplify_cats(cats)"
   ]
  },
  {
   "cell_type": "code",
   "execution_count": null,
   "metadata": {},
   "outputs": [],
   "source": []
  },
  {
   "cell_type": "code",
   "execution_count": null,
   "metadata": {},
   "outputs": [],
   "source": []
  },
  {
   "cell_type": "code",
   "execution_count": null,
   "metadata": {},
   "outputs": [],
   "source": [
    "x_mat"
   ]
  },
  {
   "cell_type": "code",
   "execution_count": null,
   "metadata": {},
   "outputs": [],
   "source": []
  },
  {
   "cell_type": "code",
   "execution_count": null,
   "metadata": {},
   "outputs": [],
   "source": []
  },
  {
   "cell_type": "code",
   "execution_count": null,
   "metadata": {},
   "outputs": [],
   "source": []
  },
  {
   "attachments": {},
   "cell_type": "markdown",
   "metadata": {},
   "source": [
    "Test Analytical Solution"
   ]
  },
  {
   "cell_type": "code",
   "execution_count": null,
   "metadata": {},
   "outputs": [],
   "source": [
    "from liana.method.sp._spatialdm import _get_local_var, _standardize_matrix"
   ]
  },
  {
   "cell_type": "code",
   "execution_count": null,
   "metadata": {},
   "outputs": [],
   "source": [
    "from scipy.stats import norm"
   ]
  },
  {
   "cell_type": "code",
   "execution_count": null,
   "metadata": {},
   "outputs": [],
   "source": [
    "def _local_zscore_pvals(x_mat, y_mat, local_r, dist, positive_only):\n",
    "    spot_n = dist.shape[0]\n",
    "\n",
    "    x_norm = np.apply_along_axis(norm.fit, axis=0, arr=x_mat)\n",
    "    y_norm = np.apply_along_axis(norm.fit, axis=0, arr=y_mat)\n",
    "\n",
    "    # get x,y std\n",
    "    x_sigma, y_sigma = x_norm[1, :], y_norm[1, :]\n",
    "\n",
    "    x_sigma = x_sigma * spot_n / (spot_n - 1)\n",
    "    y_sigma = y_sigma * spot_n / (spot_n - 1)\n",
    "\n",
    "    std = _get_local_var(x_sigma, y_sigma, dist, spot_n)\n",
    "    local_zscores = local_r / std\n",
    "\n",
    "    if positive_only:\n",
    "        local_zpvals = norm.sf(local_zscores)\n",
    "        pos_msk = ((x_mat > 0) + (y_mat > 0)).T  # mask?\n",
    "        local_zpvals[~pos_msk] = 1\n",
    "    else:\n",
    "        local_zpvals = norm.sf(np.abs(local_zscores))\n",
    "\n",
    "    return local_zpvals"
   ]
  },
  {
   "cell_type": "code",
   "execution_count": null,
   "metadata": {},
   "outputs": [],
   "source": [
    "x_norm, y_norm = _standardize_matrix(x_mat), _standardize_matrix(y_mat)"
   ]
  },
  {
   "cell_type": "code",
   "execution_count": null,
   "metadata": {},
   "outputs": [],
   "source": [
    "local_zpvals = _local_zscore_pvals(x_norm.T, y_norm.T, masked_pc, dist, True)"
   ]
  },
  {
   "cell_type": "code",
   "execution_count": null,
   "metadata": {},
   "outputs": [],
   "source": [
    "np.min(local_zpvals)"
   ]
  },
  {
   "cell_type": "code",
   "execution_count": null,
   "metadata": {},
   "outputs": [],
   "source": [
    "hist(local_zpvals[0,:])"
   ]
  },
  {
   "cell_type": "code",
   "execution_count": null,
   "metadata": {},
   "outputs": [],
   "source": []
  },
  {
   "cell_type": "code",
   "execution_count": null,
   "metadata": {},
   "outputs": [],
   "source": []
  },
  {
   "cell_type": "markdown",
   "metadata": {},
   "source": []
  },
  {
   "cell_type": "code",
   "execution_count": null,
   "metadata": {},
   "outputs": [],
   "source": [
    "masked_pc"
   ]
  },
  {
   "cell_type": "code",
   "execution_count": null,
   "metadata": {},
   "outputs": [],
   "source": []
  },
  {
   "cell_type": "code",
   "execution_count": null,
   "metadata": {},
   "outputs": [],
   "source": [
    "# n / sum(W) for Moran's I\n",
    "norm_factor = mdata.obsm['proximity'].shape[0] / mdata.obsm['proximity'].sum()\n",
    "dist = csr_matrix(norm_factor * mdata.obsm['proximity'])"
   ]
  },
  {
   "cell_type": "code",
   "execution_count": null,
   "metadata": {},
   "outputs": [],
   "source": []
  },
  {
   "cell_type": "code",
   "execution_count": null,
   "metadata": {},
   "outputs": [],
   "source": []
  },
  {
   "cell_type": "code",
   "execution_count": null,
   "metadata": {},
   "outputs": [],
   "source": []
  },
  {
   "cell_type": "code",
   "execution_count": null,
   "metadata": {},
   "outputs": [],
   "source": []
  },
  {
   "cell_type": "code",
   "execution_count": null,
   "metadata": {},
   "outputs": [],
   "source": []
  },
  {
   "cell_type": "code",
   "execution_count": null,
   "metadata": {},
   "outputs": [],
   "source": [
    "# we use the same gene expression matrix for both x and y\n",
    "xy_stats['global_r'], xy_stats['global_pvals'] = \\\n",
    "    _global_spatialdm(x_mat=progeny.X,\n",
    "                      y_mat=dorothea.X,\n",
    "                      x_pos=x_pos,\n",
    "                      y_pos=y_pos,\n",
    "                      xy_dataframe=xy_stats,\n",
    "                      dist=dist,\n",
    "                      seed=0,\n",
    "                      n_perm=1000,\n",
    "                      pvalue_method=\"analytical\",\n",
    "                      positive_only=False,\n",
    "                      x_key = 'x_entity',\n",
    "                      y_key = 'y_entity'\n",
    "                      )\n",
    "local_r, local_pvals = _local_spatialdm(x_mat=progeny.X,\n",
    "                                        y_mat=dorothea.X,\n",
    "                                        x_pos=x_pos,\n",
    "                                        y_pos=y_pos,\n",
    "                                        xy_dataframe=xy_stats,\n",
    "                                        dist=dist,  # TODO msq?\n",
    "                                        seed=0,\n",
    "                                        n_perm=1000,\n",
    "                                        pvalue_method=\"analytical\",\n",
    "                                        positive_only=False,\n",
    "                                        x_key = 'x_entity',\n",
    "                                        y_key = 'y_entity'\n",
    "                                        )"
   ]
  },
  {
   "cell_type": "code",
   "execution_count": null,
   "metadata": {},
   "outputs": [],
   "source": [
    "# convert to dataframes\n",
    "local_r = _local_to_dataframe(array=local_r,\n",
    "                              idx=adata.obs.index,\n",
    "                              columns=xy_res.interaction)\n",
    "local_pvals = _local_to_dataframe(array=local_pvals,\n",
    "                                  idx=adata.obs.index,\n",
    "                                  columns=xy_res.interaction)"
   ]
  },
  {
   "cell_type": "code",
   "execution_count": null,
   "metadata": {},
   "outputs": [],
   "source": []
  },
  {
   "cell_type": "code",
   "execution_count": null,
   "metadata": {},
   "outputs": [],
   "source": [
    "adata.uns['global_res'] = xy_res\n",
    "adata.obsm['local_r'] = local_r\n",
    "adata.obsm['local_pvals'] = local_pvals"
   ]
  },
  {
   "cell_type": "code",
   "execution_count": null,
   "metadata": {},
   "outputs": [],
   "source": [
    "xy_res.sort_values(by='global_r', ascending=False).head(10)"
   ]
  },
  {
   "cell_type": "code",
   "execution_count": null,
   "metadata": {},
   "outputs": [],
   "source": [
    "local_pvals = li.ut.obsm_to_adata(adata, obsm_key='local_pvals')\n",
    "local_rs = li.ut.obsm_to_adata(adata, obsm_key='local_r')"
   ]
  },
  {
   "cell_type": "code",
   "execution_count": null,
   "metadata": {},
   "outputs": [],
   "source": [
    "sc.pl.spatial(local_rs, color=['JAK-STAT&STAT2'], cmap='coolwarm', vmax=5)"
   ]
  },
  {
   "cell_type": "code",
   "execution_count": null,
   "metadata": {},
   "outputs": [],
   "source": [
    "sc.pl.spatial(local_pvals, color=['JAK-STAT&STAT2'], cmap='coolwarm_r')"
   ]
  },
  {
   "cell_type": "code",
   "execution_count": null,
   "metadata": {},
   "outputs": [],
   "source": [
    "sc.pl.spatial(progeny, color=['JAK-STAT'], use_raw=False, cmap='coolwarm', vmax=5)"
   ]
  },
  {
   "cell_type": "code",
   "execution_count": null,
   "metadata": {},
   "outputs": [],
   "source": [
    "sc.pl.spatial(dorothea, color=['STAT2'], use_raw=False, cmap='coolwarm', vmax=5)"
   ]
  },
  {
   "cell_type": "code",
   "execution_count": null,
   "metadata": {},
   "outputs": [],
   "source": [
    "adata"
   ]
  },
  {
   "cell_type": "code",
   "execution_count": null,
   "metadata": {},
   "outputs": [],
   "source": []
  },
  {
   "cell_type": "code",
   "execution_count": null,
   "metadata": {},
   "outputs": [],
   "source": []
  },
  {
   "attachments": {},
   "cell_type": "markdown",
   "metadata": {},
   "source": [
    "Run SpatialDM"
   ]
  },
  {
   "cell_type": "code",
   "execution_count": null,
   "metadata": {},
   "outputs": [],
   "source": [
    "from liana.method."
   ]
  },
  {
   "cell_type": "code",
   "execution_count": null,
   "metadata": {},
   "outputs": [],
   "source": []
  },
  {
   "cell_type": "code",
   "execution_count": null,
   "metadata": {},
   "outputs": [],
   "source": []
  },
  {
   "cell_type": "markdown",
   "metadata": {},
   "source": []
  }
 ],
 "metadata": {
  "kernelspec": {
   "display_name": "liana-py",
   "language": "python",
   "name": "python3"
  },
  "language_info": {
   "codemirror_mode": {
    "name": "ipython",
    "version": 3
   },
   "file_extension": ".py",
   "mimetype": "text/x-python",
   "name": "python",
   "nbconvert_exporter": "python",
   "pygments_lexer": "ipython3",
   "version": "3.10.6"
  },
  "orig_nbformat": 4,
  "vscode": {
   "interpreter": {
    "hash": "80a99255e5b17beb6f8c8dc403ec70687184f3f6557a2c5fe71e16aa6505930d"
   }
  }
 },
 "nbformat": 4,
 "nbformat_minor": 2
}
