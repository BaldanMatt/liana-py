{
 "cells": [
  {
   "cell_type": "code",
   "execution_count": null,
   "metadata": {},
   "outputs": [],
   "source": [
    "import scanpy as sc\n",
    "import decoupler as dc\n",
    "\n",
    "# Only needed for processing and plotting\n",
    "import numpy as np\n",
    "import pandas as pd\n",
    "import matplotlib.pyplot as plt\n",
    "import seaborn as sns"
   ]
  },
  {
   "cell_type": "code",
   "execution_count": null,
   "metadata": {},
   "outputs": [],
   "source": [
    "import liana as li"
   ]
  },
  {
   "cell_type": "code",
   "execution_count": null,
   "metadata": {},
   "outputs": [],
   "source": []
  },
  {
   "cell_type": "code",
   "execution_count": null,
   "metadata": {},
   "outputs": [],
   "source": []
  },
  {
   "attachments": {},
   "cell_type": "markdown",
   "metadata": {},
   "source": [
    "#### Pre-process"
   ]
  },
  {
   "cell_type": "code",
   "execution_count": null,
   "metadata": {},
   "outputs": [],
   "source": [
    "adata = sc.datasets.visium_sge(sample_id=\"V1_Human_Lymph_Node\")\n",
    "adata.var_names_make_unique()\n",
    "adata"
   ]
  },
  {
   "cell_type": "code",
   "execution_count": null,
   "metadata": {},
   "outputs": [],
   "source": [
    "# Basic filtering\n",
    "sc.pp.filter_cells(adata, min_genes=200)\n",
    "sc.pp.filter_genes(adata, min_cells=10)\n",
    "\n",
    "# Annotate the group of mitochondrial genes as 'mt'\n",
    "adata.var['mt'] = adata.var_names.str.startswith('MT-')\n",
    "sc.pp.calculate_qc_metrics(adata, qc_vars=['mt'], percent_top=None, log1p=False, inplace=True)\n",
    "\n",
    "# Filter cells following standard QC criteria.\n",
    "adata = adata[adata.obs.pct_counts_mt < 20, :]\n",
    "\n",
    "# Normalize the data\n",
    "sc.pp.normalize_total(adata, target_sum=1e4)\n",
    "sc.pp.log1p(adata)\n",
    "\n",
    "# Identify highly variable genes\n",
    "sc.pp.highly_variable_genes(adata)\n",
    "\n",
    "# Filter higly variable genes\n",
    "adata.raw = adata\n",
    "adata = adata[:, adata.var.highly_variable]\n",
    "\n",
    "# Scale the data\n",
    "sc.pp.scale(adata, max_value=10)"
   ]
  },
  {
   "cell_type": "code",
   "execution_count": null,
   "metadata": {},
   "outputs": [],
   "source": [
    "# Generate PCA features\n",
    "sc.tl.pca(adata, svd_solver='arpack')\n",
    "\n",
    "# Compute distances in the PCA space, and find spot neighbors\n",
    "sc.pp.neighbors(adata)\n",
    "\n",
    "# Run leiden clustering algorithm\n",
    "sc.tl.leiden(adata)\n",
    "\n",
    "# Visualize\n",
    "sc.pl.spatial(adata, color=[None, 'leiden'], size=1.5, wspace=0)"
   ]
  },
  {
   "cell_type": "code",
   "execution_count": null,
   "metadata": {},
   "outputs": [],
   "source": [
    "adata.write_h5ad(\"processed_visium.h5ad\")"
   ]
  },
  {
   "cell_type": "code",
   "execution_count": null,
   "metadata": {},
   "outputs": [],
   "source": []
  },
  {
   "cell_type": "code",
   "execution_count": null,
   "metadata": {},
   "outputs": [],
   "source": [
    "model = dc.get_progeny(organism='human', top=1000)\n",
    "model"
   ]
  },
  {
   "cell_type": "code",
   "execution_count": null,
   "metadata": {},
   "outputs": [],
   "source": [
    "dc.run_mlm(mat=adata, net=model, source='source', target='target', weight='weight', verbose=True)\n",
    "\n",
    "# Store them in a different key\n",
    "adata.obsm['progeny_mlm_estimate'] = adata.obsm['mlm_estimate'].copy()\n",
    "adata.obsm['progeny_mlm_pvals'] = adata.obsm['mlm_pvals'].copy()"
   ]
  },
  {
   "cell_type": "code",
   "execution_count": null,
   "metadata": {},
   "outputs": [],
   "source": [
    "acts = dc.get_acts(adata, obsm_key='progeny_mlm_estimate')\n",
    "acts"
   ]
  },
  {
   "cell_type": "code",
   "execution_count": null,
   "metadata": {},
   "outputs": [],
   "source": [
    "acts.write_h5ad('progeny_acts.h5ad')"
   ]
  },
  {
   "cell_type": "code",
   "execution_count": null,
   "metadata": {},
   "outputs": [],
   "source": []
  },
  {
   "cell_type": "code",
   "execution_count": null,
   "metadata": {},
   "outputs": [],
   "source": [
    "model = dc.get_dorothea(organism='human')"
   ]
  },
  {
   "cell_type": "code",
   "execution_count": null,
   "metadata": {},
   "outputs": [],
   "source": [
    "dc.run_mlm(mat=adata, net=model, source='source', target='target', weight='weight', verbose=True)\n",
    "\n",
    "# Store them in a different key\n",
    "adata.obsm['dorothea_mlm_estimate'] = adata.obsm['mlm_estimate'].copy()\n",
    "adata.obsm['dorothea_mlm_pvals'] = adata.obsm['mlm_pvals'].copy()"
   ]
  },
  {
   "cell_type": "code",
   "execution_count": null,
   "metadata": {},
   "outputs": [],
   "source": [
    "acts = dc.get_acts(adata, obsm_key='dorothea_mlm_estimate')\n",
    "acts"
   ]
  },
  {
   "cell_type": "code",
   "execution_count": null,
   "metadata": {},
   "outputs": [],
   "source": [
    "acts.write_h5ad('dorothea_acts.h5ad')"
   ]
  },
  {
   "cell_type": "code",
   "execution_count": null,
   "metadata": {},
   "outputs": [],
   "source": [
    "acts"
   ]
  },
  {
   "cell_type": "code",
   "execution_count": null,
   "metadata": {},
   "outputs": [],
   "source": []
  },
  {
   "attachments": {},
   "cell_type": "markdown",
   "metadata": {},
   "source": [
    "## Any X,Y combo"
   ]
  },
  {
   "attachments": {},
   "cell_type": "markdown",
   "metadata": {},
   "source": [
    "SpatialDM becomes SpatialLRMethod\n",
    "\n",
    "SpatialMethod is any X,Y"
   ]
  },
  {
   "cell_type": "code",
   "execution_count": 4,
   "metadata": {},
   "outputs": [],
   "source": [
    "import liana as li"
   ]
  },
  {
   "cell_type": "code",
   "execution_count": 5,
   "metadata": {},
   "outputs": [],
   "source": [
    "\n",
    "import scanpy as sc\n",
    "import pandas as pd\n",
    "import numpy as np"
   ]
  },
  {
   "cell_type": "code",
   "execution_count": 6,
   "metadata": {},
   "outputs": [],
   "source": [
    "from mudata import MuData"
   ]
  },
  {
   "cell_type": "code",
   "execution_count": 7,
   "metadata": {},
   "outputs": [],
   "source": [
    "from liana.utils._utils import _get_props\n",
    "from scipy.sparse import csr_matrix"
   ]
  },
  {
   "cell_type": "code",
   "execution_count": null,
   "metadata": {},
   "outputs": [],
   "source": []
  },
  {
   "cell_type": "code",
   "execution_count": 8,
   "metadata": {},
   "outputs": [],
   "source": [
    "adata = sc.read_h5ad(\"processed_visium.h5ad\")"
   ]
  },
  {
   "cell_type": "code",
   "execution_count": 9,
   "metadata": {},
   "outputs": [],
   "source": [
    "progeny = sc.read_h5ad('progeny_acts.h5ad')"
   ]
  },
  {
   "cell_type": "code",
   "execution_count": 10,
   "metadata": {},
   "outputs": [],
   "source": [
    "dorothea = sc.read_h5ad('dorothea_acts.h5ad')"
   ]
  },
  {
   "cell_type": "code",
   "execution_count": 11,
   "metadata": {},
   "outputs": [
    {
     "name": "stderr",
     "output_type": "stream",
     "text": [
      "/home/dbdimitrov/anaconda3/envs/liana-py/lib/python3.10/site-packages/mudata/_core/mudata.py:458: UserWarning: Cannot join columns with the same name because var_names are intersecting.\n"
     ]
    }
   ],
   "source": [
    "mdata = MuData({\"expr\": adata, 'progeny': progeny, 'dorothea': dorothea})"
   ]
  },
  {
   "cell_type": "code",
   "execution_count": 12,
   "metadata": {},
   "outputs": [],
   "source": [
    "# transfer coordinates\n",
    "mdata.obsm[\"spatial\"] = adata.obsm[\"spatial\"]"
   ]
  },
  {
   "cell_type": "code",
   "execution_count": 13,
   "metadata": {},
   "outputs": [],
   "source": [
    "li.mt.get_spatial_proximity(adata=mdata, parameter=100, bypass_diagonal=True, cutoff=0.1)"
   ]
  },
  {
   "cell_type": "code",
   "execution_count": null,
   "metadata": {},
   "outputs": [],
   "source": []
  },
  {
   "cell_type": "markdown",
   "metadata": {},
   "source": []
  },
  {
   "cell_type": "code",
   "execution_count": 1,
   "metadata": {},
   "outputs": [],
   "source": [
    "from liana.method.sp._spatialdm import _global_spatialdm, _local_to_dataframe"
   ]
  },
  {
   "cell_type": "code",
   "execution_count": 2,
   "metadata": {},
   "outputs": [],
   "source": [
    "from liana.method.sp._spatial_pipe import global_bivariate_pipe, _get_ordered_matrix"
   ]
  },
  {
   "cell_type": "code",
   "execution_count": 14,
   "metadata": {},
   "outputs": [],
   "source": [
    "xy_stats, x_pos, y_pos = global_bivariate_pipe(mdata, x_mod='progeny', y_mod='dorothea', nz_threshold=0)"
   ]
  },
  {
   "cell_type": "code",
   "execution_count": null,
   "metadata": {},
   "outputs": [],
   "source": []
  },
  {
   "attachments": {},
   "cell_type": "markdown",
   "metadata": {},
   "source": [
    "To SpatialMethod--->"
   ]
  },
  {
   "cell_type": "code",
   "execution_count": 16,
   "metadata": {},
   "outputs": [],
   "source": [
    "# convert to spot_n x lr_n matrices\n",
    "x_mat = _get_ordered_matrix(mat=progeny.X,\n",
    "                            pos=x_pos,\n",
    "                            order=xy_stats['x_entity'])\n",
    "y_mat = _get_ordered_matrix(mat=dorothea.X,\n",
    "                            pos=y_pos,\n",
    "                            order=xy_stats['y_entity'])"
   ]
  },
  {
   "cell_type": "code",
   "execution_count": null,
   "metadata": {},
   "outputs": [],
   "source": []
  },
  {
   "cell_type": "code",
   "execution_count": 18,
   "metadata": {},
   "outputs": [],
   "source": [
    "# n / sum(W) for Moran's I\n",
    "norm_factor = mdata.obsm['proximity'].shape[0] / mdata.obsm['proximity'].sum()\n",
    "dist = csr_matrix(norm_factor * mdata.obsm['proximity'])"
   ]
  },
  {
   "cell_type": "code",
   "execution_count": null,
   "metadata": {},
   "outputs": [],
   "source": []
  },
  {
   "cell_type": "code",
   "execution_count": 19,
   "metadata": {},
   "outputs": [],
   "source": [
    "###  -> bivar metrics (later spatiadm)\n",
    "\n"
   ]
  },
  {
   "cell_type": "code",
   "execution_count": null,
   "metadata": {},
   "outputs": [],
   "source": []
  },
  {
   "cell_type": "code",
   "execution_count": null,
   "metadata": {},
   "outputs": [],
   "source": []
  },
  {
   "cell_type": "code",
   "execution_count": null,
   "metadata": {},
   "outputs": [],
   "source": []
  },
  {
   "cell_type": "code",
   "execution_count": 20,
   "metadata": {},
   "outputs": [
    {
     "ename": "NameError",
     "evalue": "name '_local_spatialdm' is not defined",
     "output_type": "error",
     "traceback": [
      "\u001b[0;31m---------------------------------------------------------------------------\u001b[0m",
      "\u001b[0;31mNameError\u001b[0m                                 Traceback (most recent call last)",
      "Cell \u001b[0;32mIn [20], line 16\u001b[0m\n\u001b[1;32m      1\u001b[0m \u001b[39m# we use the same gene expression matrix for both x and y\u001b[39;00m\n\u001b[1;32m      2\u001b[0m xy_res[\u001b[39m'\u001b[39m\u001b[39mglobal_r\u001b[39m\u001b[39m'\u001b[39m], xy_res[\u001b[39m'\u001b[39m\u001b[39mglobal_pvals\u001b[39m\u001b[39m'\u001b[39m] \u001b[39m=\u001b[39m \\\n\u001b[1;32m      3\u001b[0m     _global_spatialdm(x_mat\u001b[39m=\u001b[39mprogeny\u001b[39m.\u001b[39mX,\n\u001b[1;32m      4\u001b[0m                       y_mat\u001b[39m=\u001b[39mdorothea\u001b[39m.\u001b[39mX,\n\u001b[0;32m   (...)\u001b[0m\n\u001b[1;32m     14\u001b[0m                       y_key \u001b[39m=\u001b[39m \u001b[39m'\u001b[39m\u001b[39my_entity\u001b[39m\u001b[39m'\u001b[39m\n\u001b[1;32m     15\u001b[0m                       )\n\u001b[0;32m---> 16\u001b[0m local_r, local_pvals \u001b[39m=\u001b[39m _local_spatialdm(x_mat\u001b[39m=\u001b[39mprogeny\u001b[39m.\u001b[39mX,\n\u001b[1;32m     17\u001b[0m                                         y_mat\u001b[39m=\u001b[39mdorothea\u001b[39m.\u001b[39mX,\n\u001b[1;32m     18\u001b[0m                                         x_pos\u001b[39m=\u001b[39mx_pos,\n\u001b[1;32m     19\u001b[0m                                         y_pos\u001b[39m=\u001b[39my_pos,\n\u001b[1;32m     20\u001b[0m                                         xy_dataframe\u001b[39m=\u001b[39mxy_res,\n\u001b[1;32m     21\u001b[0m                                         dist\u001b[39m=\u001b[39mdist,  \u001b[39m# TODO msq?\u001b[39;00m\n\u001b[1;32m     22\u001b[0m                                         seed\u001b[39m=\u001b[39m\u001b[39m0\u001b[39m,\n\u001b[1;32m     23\u001b[0m                                         n_perm\u001b[39m=\u001b[39m\u001b[39m1000\u001b[39m,\n\u001b[1;32m     24\u001b[0m                                         pvalue_method\u001b[39m=\u001b[39m\u001b[39m\"\u001b[39m\u001b[39manalytical\u001b[39m\u001b[39m\"\u001b[39m,\n\u001b[1;32m     25\u001b[0m                                         positive_only\u001b[39m=\u001b[39m\u001b[39mFalse\u001b[39;00m,\n\u001b[1;32m     26\u001b[0m                                         x_key \u001b[39m=\u001b[39m \u001b[39m'\u001b[39m\u001b[39mx_entity\u001b[39m\u001b[39m'\u001b[39m,\n\u001b[1;32m     27\u001b[0m                                         y_key \u001b[39m=\u001b[39m \u001b[39m'\u001b[39m\u001b[39my_entity\u001b[39m\u001b[39m'\u001b[39m\n\u001b[1;32m     28\u001b[0m                                         )\n",
      "\u001b[0;31mNameError\u001b[0m: name '_local_spatialdm' is not defined"
     ]
    }
   ],
   "source": [
    "# we use the same gene expression matrix for both x and y\n",
    "xy_res['global_r'], xy_res['global_pvals'] = \\\n",
    "    _global_spatialdm(x_mat=progeny.X,\n",
    "                      y_mat=dorothea.X,\n",
    "                      x_pos=x_pos,\n",
    "                      y_pos=y_pos,\n",
    "                      xy_dataframe=xy_res,\n",
    "                      dist=dist,\n",
    "                      seed=0,\n",
    "                      n_perm=1000,\n",
    "                      pvalue_method=\"analytical\",\n",
    "                      positive_only=False,\n",
    "                      x_key = 'x_entity',\n",
    "                      y_key = 'y_entity'\n",
    "                      )\n",
    "local_r, local_pvals = _local_spatialdm(x_mat=progeny.X,\n",
    "                                        y_mat=dorothea.X,\n",
    "                                        x_pos=x_pos,\n",
    "                                        y_pos=y_pos,\n",
    "                                        xy_dataframe=xy_res,\n",
    "                                        dist=dist,  # TODO msq?\n",
    "                                        seed=0,\n",
    "                                        n_perm=1000,\n",
    "                                        pvalue_method=\"analytical\",\n",
    "                                        positive_only=False,\n",
    "                                        x_key = 'x_entity',\n",
    "                                        y_key = 'y_entity'\n",
    "                                        )"
   ]
  },
  {
   "cell_type": "code",
   "execution_count": null,
   "metadata": {},
   "outputs": [],
   "source": [
    "# convert to dataframes\n",
    "local_r = _local_to_dataframe(array=local_r,\n",
    "                              idx=adata.obs.index,\n",
    "                              columns=xy_res.interaction)\n",
    "local_pvals = _local_to_dataframe(array=local_pvals,\n",
    "                                  idx=adata.obs.index,\n",
    "                                  columns=xy_res.interaction)"
   ]
  },
  {
   "cell_type": "code",
   "execution_count": null,
   "metadata": {},
   "outputs": [],
   "source": []
  },
  {
   "cell_type": "code",
   "execution_count": null,
   "metadata": {},
   "outputs": [],
   "source": [
    "adata.uns['global_res'] = xy_res\n",
    "adata.obsm['local_r'] = local_r\n",
    "adata.obsm['local_pvals'] = local_pvals"
   ]
  },
  {
   "cell_type": "code",
   "execution_count": null,
   "metadata": {},
   "outputs": [],
   "source": [
    "xy_res.sort_values(by='global_r', ascending=False).head(10)"
   ]
  },
  {
   "cell_type": "code",
   "execution_count": null,
   "metadata": {},
   "outputs": [],
   "source": [
    "local_pvals = li.ut.obsm_to_adata(adata, obsm_key='local_pvals')\n",
    "local_rs = li.ut.obsm_to_adata(adata, obsm_key='local_r')"
   ]
  },
  {
   "cell_type": "code",
   "execution_count": null,
   "metadata": {},
   "outputs": [],
   "source": [
    "sc.pl.spatial(local_rs, color=['JAK-STAT&STAT2'], cmap='coolwarm', vmax=5)"
   ]
  },
  {
   "cell_type": "code",
   "execution_count": null,
   "metadata": {},
   "outputs": [],
   "source": [
    "sc.pl.spatial(local_pvals, color=['JAK-STAT&STAT2'], cmap='coolwarm_r')"
   ]
  },
  {
   "cell_type": "code",
   "execution_count": null,
   "metadata": {},
   "outputs": [],
   "source": [
    "sc.pl.spatial(progeny, color=['JAK-STAT'], use_raw=False, cmap='coolwarm', vmax=5)"
   ]
  },
  {
   "cell_type": "code",
   "execution_count": null,
   "metadata": {},
   "outputs": [],
   "source": [
    "sc.pl.spatial(dorothea, color=['STAT2'], use_raw=False, cmap='coolwarm', vmax=5)"
   ]
  },
  {
   "cell_type": "code",
   "execution_count": null,
   "metadata": {},
   "outputs": [],
   "source": [
    "adata"
   ]
  },
  {
   "cell_type": "code",
   "execution_count": null,
   "metadata": {},
   "outputs": [],
   "source": []
  },
  {
   "cell_type": "code",
   "execution_count": null,
   "metadata": {},
   "outputs": [],
   "source": []
  },
  {
   "attachments": {},
   "cell_type": "markdown",
   "metadata": {},
   "source": [
    "## Rework SpatialMethod"
   ]
  },
  {
   "cell_type": "code",
   "execution_count": null,
   "metadata": {},
   "outputs": [],
   "source": [
    "import weakref\n",
    "from anndata import AnnData\n",
    "from pandas import DataFrame, concat\n",
    "from typing import Optional"
   ]
  },
  {
   "cell_type": "code",
   "execution_count": null,
   "metadata": {},
   "outputs": [],
   "source": [
    "# TODO MethodMeta class to generalizable, SpatialMethod & SingleCellMethod should inherit and extend\n",
    "class SpatialMethod:\n",
    "    \"\"\"\n",
    "    A SpatialMethod Class\n",
    "    \"\"\"\n",
    "\n",
    "    def __init__(self,\n",
    "                 method_name: str,\n",
    "                 key_cols: list,  # note that this is defined here but not in Method\n",
    "                 reference: str,\n",
    "                 local_function: callable,\n",
    "                 global_function: callable,\n",
    "                 ):\n",
    "        \"\"\"\n",
    "        Parameters\n",
    "        ----------\n",
    "        method_name\n",
    "            Name of the Method\n",
    "        key_cols\n",
    "            columns which make every interaction unique (i.e. PK).\n",
    "        reference\n",
    "            Publication reference in Harvard style\n",
    "        \"\"\"\n",
    "        self.method_name = method_name\n",
    "        self.key_cols = key_cols\n",
    "        self.reference = reference\n",
    "\n",
    "    def describe(self):\n",
    "        \"\"\"Briefly described the method\"\"\"\n",
    "        print(f\"{ self.method_name } does XYZ\")\n",
    "\n",
    "    def reference(self):\n",
    "        \"\"\"Prints out reference in Harvard format\"\"\"\n",
    "        print(self.reference)\n",
    "\n",
    "    def get_meta(self):\n",
    "        \"\"\"Returns method metadata as pandas row\"\"\"\n",
    "        meta = DataFrame([{\"Method Name\": self.method_name,\n",
    "                           \"Reference\": self.reference\n",
    "                           }])\n",
    "        return meta\n"
   ]
  },
  {
   "cell_type": "code",
   "execution_count": null,
   "metadata": {},
   "outputs": [],
   "source": []
  },
  {
   "cell_type": "code",
   "execution_count": null,
   "metadata": {},
   "outputs": [],
   "source": []
  },
  {
   "cell_type": "code",
   "execution_count": null,
   "metadata": {},
   "outputs": [],
   "source": []
  },
  {
   "cell_type": "code",
   "execution_count": null,
   "metadata": {},
   "outputs": [],
   "source": []
  },
  {
   "cell_type": "code",
   "execution_count": null,
   "metadata": {},
   "outputs": [],
   "source": []
  },
  {
   "cell_type": "code",
   "execution_count": null,
   "metadata": {},
   "outputs": [],
   "source": [
    "## SpatialMethod Class should have the x, y matrix as input, not ligand and receptor"
   ]
  },
  {
   "cell_type": "code",
   "execution_count": null,
   "metadata": {},
   "outputs": [],
   "source": []
  },
  {
   "cell_type": "code",
   "execution_count": null,
   "metadata": {},
   "outputs": [],
   "source": []
  },
  {
   "cell_type": "code",
   "execution_count": null,
   "metadata": {},
   "outputs": [],
   "source": [
    "## This should become the SpatialLRMethod class, which extends SpatialMethod\n",
    "class SpatialDM(SpatialMethod):\n",
    "    def __init__(self, _method, _complex_cols, _obsm_keys): # _complex_cols is only for LR\n",
    "        super().__init__(method_name=_method.method_name,\n",
    "                         key_cols=_method.key_cols,\n",
    "                         reference=_method.reference,\n",
    "                         )\n",
    "\n",
    "        self.complex_cols = _complex_cols\n",
    "        self.obsm_keys = _obsm_keys\n",
    "        self._method = _method\n",
    "\n",
    "    def __call__(self,\n",
    "                 adata: AnnData,\n",
    "                 resource_name: str = 'consensus',\n",
    "                 expr_prop: float = 0.05,\n",
    "                 pvalue_method: str = 'analytical', # to global_kwargs and local_kwargs\n",
    "                 n_perm: int = 1000,\n",
    "                 positive_only: bool = True,\n",
    "                 use_raw: Optional[bool] = True,\n",
    "                 layer: Optional[str] = None,\n",
    "                 verbose: Optional[bool] = False,\n",
    "                 seed: int = 1337,\n",
    "                 resource: Optional[DataFrame] = None,\n",
    "                 inplace=True\n",
    "                 ):\n",
    "        \"\"\"\n",
    "        Parameters\n",
    "        ----------\n",
    "        adata\n",
    "            Annotated data object.\n",
    "        resource_name\n",
    "            Name of the resource to be loaded and use for ligand-receptor inference.\n",
    "        expr_prop\n",
    "            Minimum expression proportion for the ligands/receptors (and their subunits).\n",
    "             Set to `0` to return unfiltered results.\n",
    "        pvalue_method\n",
    "            Method to obtain P-values: One out of ['permutation', 'analytical'];\n",
    "            'analytical' by default.\n",
    "        n_perm\n",
    "            Number of permutations to be performed if `pvalue_method`=='permutation'\n",
    "        positive_only\n",
    "            Whether to calculate p-values only for positive correlations. `True` by default.\n",
    "        use_raw\n",
    "            Use raw attribute of adata if present.\n",
    "        layer\n",
    "            Layer in anndata.AnnData.layers to use. If None, use anndata.AnnData.X.\n",
    "        verbose\n",
    "            Verbosity flag\n",
    "        seed\n",
    "            Random seed for reproducibility.\n",
    "        resource\n",
    "            Parameter to enable external resources to be passed. Expects a pandas dataframe\n",
    "            with [`ligand`, `receptor`] columns. None by default. If provided will overrule\n",
    "            the resource requested via `resource_name`\n",
    "        inplace\n",
    "            If true return `DataFrame` with results, else assign to `.uns`.\n",
    "\n",
    "        Returns\n",
    "        -------\n",
    "        If ``inplace = False``, returns:\n",
    "        - 1) a `DataFrame` with ligand-receptor correlations for the whole slide (global)\n",
    "        - 2) a `DataFrame` with ligand-receptor Moran's I for each spot\n",
    "        - 3) a `DataFrame` with ligand-receptor correlations p-values for each spot\n",
    "        Otherwise, modifies the ``adata`` object with the following keys:\n",
    "        - :attr:`anndata.AnnData.uns` ``['global_res']`` with `1)`\n",
    "        - :attr:`anndata.AnnData.obsm` ``['local_r']`` with  `2)`\n",
    "        - :attr:`anndata.AnnData.obsm` ``['local_pvals']`` with  `3)`\n",
    "\n",
    "        \"\"\"\n",
    "        assert pvalue_method in ['analytical', 'permutation']\n",
    "\n",
    "        temp, lr_res, ligand_pos, receptor_pos = _global_lr_pipe(adata=adata,\n",
    "                                                                 resource_name=resource_name,\n",
    "                                                                 resource=resource,\n",
    "                                                                 expr_prop=expr_prop,\n",
    "                                                                 use_raw=use_raw,\n",
    "                                                                 layer=layer,\n",
    "                                                                 verbose=verbose,\n",
    "                                                                 _key_cols=self.key_cols,\n",
    "                                                                 _complex_cols=self.complex_cols,\n",
    "                                                                 _obms_keys=self.obsm_keys\n",
    "                                                                 )\n",
    "\n",
    "        # n / sum(W) for Moran's I\n",
    "        norm_factor = temp.obsm['proximity'].shape[0] / temp.obsm['proximity'].sum()\n",
    "        dist = csr_matrix(norm_factor * temp.obsm['proximity'])\n",
    "\n",
    "        # we use the same gene expression matrix for both x and y\n",
    "        lr_res['global_r'], lr_res['global_pvals'] = \\\n",
    "            _global_spatialdm(x_mat=temp.X,\n",
    "                              y_mat=temp.X,\n",
    "                              x_pos=ligand_pos,\n",
    "                              y_pos=receptor_pos,\n",
    "                              xy_dataframe=lr_res,\n",
    "                              dist=dist,\n",
    "                              seed=seed,\n",
    "                              n_perm=n_perm,\n",
    "                              pvalue_method=pvalue_method,\n",
    "                              positive_only=positive_only\n",
    "                              )\n",
    "        local_r, local_pvals = _local_spatialdm(x_mat=temp.X,\n",
    "                                                y_mat=temp.X,\n",
    "                                                x_pos=ligand_pos,\n",
    "                                                y_pos=receptor_pos,\n",
    "                                                xy_dataframe=lr_res,\n",
    "                                                dist=dist,  # TODO msq?\n",
    "                                                seed=seed,\n",
    "                                                n_perm=n_perm,\n",
    "                                                pvalue_method=pvalue_method,\n",
    "                                                positive_only=positive_only\n",
    "                                                )\n",
    "\n",
    "        # convert to dataframes\n",
    "        local_r = _local_to_dataframe(array=local_r,\n",
    "                                      idx=temp.obs.index,\n",
    "                                      columns=lr_res.interaction)\n",
    "        local_pvals = _local_to_dataframe(array=local_pvals,\n",
    "                                          idx=temp.obs.index,\n",
    "                                          columns=lr_res.interaction)\n",
    "\n",
    "        if inplace:\n",
    "            adata.uns['global_res'] = lr_res\n",
    "            adata.obsm['local_r'] = local_r\n",
    "            adata.obsm['local_pvals'] = local_pvals\n",
    "\n",
    "        return None if inplace else (lr_res, local_r, local_pvals)"
   ]
  },
  {
   "cell_type": "markdown",
   "metadata": {},
   "source": []
  }
 ],
 "metadata": {
  "kernelspec": {
   "display_name": "liana-py",
   "language": "python",
   "name": "python3"
  },
  "language_info": {
   "codemirror_mode": {
    "name": "ipython",
    "version": 3
   },
   "file_extension": ".py",
   "mimetype": "text/x-python",
   "name": "python",
   "nbconvert_exporter": "python",
   "pygments_lexer": "ipython3",
   "version": "3.10.6"
  },
  "orig_nbformat": 4,
  "vscode": {
   "interpreter": {
    "hash": "80a99255e5b17beb6f8c8dc403ec70687184f3f6557a2c5fe71e16aa6505930d"
   }
  }
 },
 "nbformat": 4,
 "nbformat_minor": 2
}
