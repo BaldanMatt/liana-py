{
 "cells": [
  {
   "cell_type": "code",
   "execution_count": null,
   "metadata": {},
   "outputs": [],
   "source": [
    "import scanpy as sc\n",
    "import decoupler as dc\n",
    "\n",
    "# Only needed for processing and plotting\n",
    "import numpy as np\n",
    "import pandas as pd\n",
    "import matplotlib.pyplot as plt\n",
    "import seaborn as sns"
   ]
  },
  {
   "cell_type": "code",
   "execution_count": null,
   "metadata": {},
   "outputs": [],
   "source": [
    "import liana as li"
   ]
  },
  {
   "cell_type": "code",
   "execution_count": null,
   "metadata": {},
   "outputs": [],
   "source": []
  },
  {
   "cell_type": "code",
   "execution_count": null,
   "metadata": {},
   "outputs": [],
   "source": []
  },
  {
   "attachments": {},
   "cell_type": "markdown",
   "metadata": {},
   "source": [
    "#### Pre-process"
   ]
  },
  {
   "cell_type": "code",
   "execution_count": null,
   "metadata": {},
   "outputs": [],
   "source": [
    "adata = sc.datasets.visium_sge(sample_id=\"V1_Human_Lymph_Node\")\n",
    "adata.var_names_make_unique()\n",
    "adata"
   ]
  },
  {
   "cell_type": "code",
   "execution_count": null,
   "metadata": {},
   "outputs": [],
   "source": [
    "# Basic filtering\n",
    "sc.pp.filter_cells(adata, min_genes=200)\n",
    "sc.pp.filter_genes(adata, min_cells=10)\n",
    "\n",
    "# Annotate the group of mitochondrial genes as 'mt'\n",
    "adata.var['mt'] = adata.var_names.str.startswith('MT-')\n",
    "sc.pp.calculate_qc_metrics(adata, qc_vars=['mt'], percent_top=None, log1p=False, inplace=True)\n",
    "\n",
    "# Filter cells following standard QC criteria.\n",
    "adata = adata[adata.obs.pct_counts_mt < 20, :]\n",
    "\n",
    "# Normalize the data\n",
    "sc.pp.normalize_total(adata, target_sum=1e4)\n",
    "sc.pp.log1p(adata)\n",
    "\n",
    "# Identify highly variable genes\n",
    "sc.pp.highly_variable_genes(adata)\n",
    "\n",
    "# Filter higly variable genes\n",
    "adata.raw = adata\n",
    "adata = adata[:, adata.var.highly_variable]\n",
    "\n",
    "# Scale the data\n",
    "sc.pp.scale(adata, max_value=10)"
   ]
  },
  {
   "cell_type": "code",
   "execution_count": null,
   "metadata": {},
   "outputs": [],
   "source": [
    "# Generate PCA features\n",
    "sc.tl.pca(adata, svd_solver='arpack')\n",
    "\n",
    "# Compute distances in the PCA space, and find spot neighbors\n",
    "sc.pp.neighbors(adata)\n",
    "\n",
    "# Run leiden clustering algorithm\n",
    "sc.tl.leiden(adata)\n",
    "\n",
    "# Visualize\n",
    "sc.pl.spatial(adata, color=[None, 'leiden'], size=1.5, wspace=0)"
   ]
  },
  {
   "cell_type": "code",
   "execution_count": null,
   "metadata": {},
   "outputs": [],
   "source": [
    "adata.write_h5ad(\"processed_visium.h5ad\")"
   ]
  },
  {
   "cell_type": "code",
   "execution_count": null,
   "metadata": {},
   "outputs": [],
   "source": []
  },
  {
   "cell_type": "code",
   "execution_count": null,
   "metadata": {},
   "outputs": [],
   "source": [
    "model = dc.get_progeny(organism='human', top=1000)\n",
    "model"
   ]
  },
  {
   "cell_type": "code",
   "execution_count": null,
   "metadata": {},
   "outputs": [],
   "source": [
    "dc.run_mlm(mat=adata, net=model, source='source', target='target', weight='weight', verbose=True)\n",
    "\n",
    "# Store them in a different key\n",
    "adata.obsm['progeny_mlm_estimate'] = adata.obsm['mlm_estimate'].copy()\n",
    "adata.obsm['progeny_mlm_pvals'] = adata.obsm['mlm_pvals'].copy()"
   ]
  },
  {
   "cell_type": "code",
   "execution_count": null,
   "metadata": {},
   "outputs": [],
   "source": [
    "acts = dc.get_acts(adata, obsm_key='progeny_mlm_estimate')\n",
    "acts"
   ]
  },
  {
   "cell_type": "code",
   "execution_count": null,
   "metadata": {},
   "outputs": [],
   "source": [
    "acts.write_h5ad('progeny_acts.h5ad')"
   ]
  },
  {
   "cell_type": "code",
   "execution_count": null,
   "metadata": {},
   "outputs": [],
   "source": []
  },
  {
   "cell_type": "code",
   "execution_count": null,
   "metadata": {},
   "outputs": [],
   "source": [
    "model = dc.get_dorothea(organism='human')"
   ]
  },
  {
   "cell_type": "code",
   "execution_count": null,
   "metadata": {},
   "outputs": [],
   "source": [
    "dc.run_mlm(mat=adata, net=model, source='source', target='target', weight='weight', verbose=True)\n",
    "\n",
    "# Store them in a different key\n",
    "adata.obsm['dorothea_mlm_estimate'] = adata.obsm['mlm_estimate'].copy()\n",
    "adata.obsm['dorothea_mlm_pvals'] = adata.obsm['mlm_pvals'].copy()"
   ]
  },
  {
   "cell_type": "code",
   "execution_count": null,
   "metadata": {},
   "outputs": [],
   "source": [
    "acts = dc.get_acts(adata, obsm_key='dorothea_mlm_estimate')\n",
    "acts"
   ]
  },
  {
   "cell_type": "code",
   "execution_count": null,
   "metadata": {},
   "outputs": [],
   "source": [
    "acts.write_h5ad('dorothea_acts.h5ad')"
   ]
  },
  {
   "cell_type": "code",
   "execution_count": null,
   "metadata": {},
   "outputs": [],
   "source": [
    "acts"
   ]
  },
  {
   "cell_type": "code",
   "execution_count": null,
   "metadata": {},
   "outputs": [],
   "source": []
  },
  {
   "attachments": {},
   "cell_type": "markdown",
   "metadata": {},
   "source": [
    "## Any X,Y combo"
   ]
  },
  {
   "attachments": {},
   "cell_type": "markdown",
   "metadata": {},
   "source": [
    "SpatialDM becomes SpatialLRMethod\n",
    "\n",
    "SpatialMethod is any X,Y"
   ]
  },
  {
   "cell_type": "code",
   "execution_count": 1,
   "metadata": {},
   "outputs": [],
   "source": [
    "import liana as li"
   ]
  },
  {
   "cell_type": "code",
   "execution_count": 2,
   "metadata": {},
   "outputs": [],
   "source": [
    "\n",
    "import scanpy as sc\n",
    "import pandas as pd\n",
    "import numpy as np"
   ]
  },
  {
   "cell_type": "code",
   "execution_count": 3,
   "metadata": {},
   "outputs": [],
   "source": [
    "from mudata import MuData"
   ]
  },
  {
   "cell_type": "code",
   "execution_count": 4,
   "metadata": {},
   "outputs": [],
   "source": [
    "from liana.utils._utils import _get_props\n",
    "from scipy.sparse import csr_matrix"
   ]
  },
  {
   "cell_type": "code",
   "execution_count": null,
   "metadata": {},
   "outputs": [],
   "source": []
  },
  {
   "cell_type": "code",
   "execution_count": 5,
   "metadata": {},
   "outputs": [],
   "source": [
    "adata = sc.read_h5ad(\"processed_visium.h5ad\")"
   ]
  },
  {
   "cell_type": "code",
   "execution_count": 6,
   "metadata": {},
   "outputs": [],
   "source": [
    "progeny = sc.read_h5ad('progeny_acts.h5ad')"
   ]
  },
  {
   "cell_type": "code",
   "execution_count": 7,
   "metadata": {},
   "outputs": [],
   "source": [
    "dorothea = sc.read_h5ad('dorothea_acts.h5ad')"
   ]
  },
  {
   "cell_type": "code",
   "execution_count": 8,
   "metadata": {},
   "outputs": [
    {
     "name": "stderr",
     "output_type": "stream",
     "text": [
      "/home/dbdimitrov/anaconda3/envs/liana-py/lib/python3.10/site-packages/mudata/_core/mudata.py:458: UserWarning: Cannot join columns with the same name because var_names are intersecting.\n"
     ]
    }
   ],
   "source": [
    "mdata = MuData({\"expr\": adata, 'progeny': progeny, 'dorothea': dorothea})"
   ]
  },
  {
   "cell_type": "code",
   "execution_count": 9,
   "metadata": {},
   "outputs": [],
   "source": [
    "# transfer coordinates\n",
    "mdata.obsm[\"spatial\"] = adata.obsm[\"spatial\"]"
   ]
  },
  {
   "cell_type": "code",
   "execution_count": 31,
   "metadata": {},
   "outputs": [],
   "source": [
    "li.mt.get_spatial_proximity(adata=mdata, parameter=100, bypass_diagonal=False, cutoff=0.1)"
   ]
  },
  {
   "cell_type": "code",
   "execution_count": null,
   "metadata": {},
   "outputs": [],
   "source": []
  },
  {
   "cell_type": "markdown",
   "metadata": {},
   "source": []
  },
  {
   "cell_type": "code",
   "execution_count": 32,
   "metadata": {},
   "outputs": [],
   "source": [
    "from liana.method.sp._spatialdm import _global_spatialdm, _local_to_dataframe, _local_spatialdm"
   ]
  },
  {
   "cell_type": "code",
   "execution_count": 33,
   "metadata": {},
   "outputs": [],
   "source": [
    "from liana.method.sp._spatial_pipe import global_bivariate_pipe, _get_ordered_matrix"
   ]
  },
  {
   "cell_type": "code",
   "execution_count": 34,
   "metadata": {},
   "outputs": [],
   "source": [
    "from liana.method.sp._bivariate_funs import _masked_coexpressions, _vectorized_correlations, _vectorized_wcosine, _vectorized_jaccard"
   ]
  },
  {
   "cell_type": "code",
   "execution_count": 35,
   "metadata": {},
   "outputs": [],
   "source": [
    "x_mod = 'progeny'\n",
    "y_mod = 'dorothea'"
   ]
  },
  {
   "cell_type": "code",
   "execution_count": 36,
   "metadata": {},
   "outputs": [],
   "source": [
    "xy_stats, x_pos, y_pos = global_bivariate_pipe(mdata, x_mod=x_mod, y_mod=y_mod, nz_threshold=0)"
   ]
  },
  {
   "cell_type": "code",
   "execution_count": 37,
   "metadata": {},
   "outputs": [
    {
     "data": {
      "text/html": [
       "<div>\n",
       "<style scoped>\n",
       "    .dataframe tbody tr th:only-of-type {\n",
       "        vertical-align: middle;\n",
       "    }\n",
       "\n",
       "    .dataframe tbody tr th {\n",
       "        vertical-align: top;\n",
       "    }\n",
       "\n",
       "    .dataframe thead th {\n",
       "        text-align: right;\n",
       "    }\n",
       "</style>\n",
       "<table border=\"1\" class=\"dataframe\">\n",
       "  <thead>\n",
       "    <tr style=\"text-align: right;\">\n",
       "      <th></th>\n",
       "      <th>interaction</th>\n",
       "      <th>x_entity</th>\n",
       "      <th>x_means</th>\n",
       "      <th>x_non_zero</th>\n",
       "      <th>y_entity</th>\n",
       "      <th>y_means</th>\n",
       "      <th>y_non_zero</th>\n",
       "    </tr>\n",
       "  </thead>\n",
       "  <tbody>\n",
       "    <tr>\n",
       "      <th>0</th>\n",
       "      <td>Androgen&amp;AHR</td>\n",
       "      <td>Androgen</td>\n",
       "      <td>1.055404</td>\n",
       "      <td>1.0</td>\n",
       "      <td>AHR</td>\n",
       "      <td>-0.134946</td>\n",
       "      <td>1.0</td>\n",
       "    </tr>\n",
       "    <tr>\n",
       "      <th>1</th>\n",
       "      <td>EGFR&amp;AHR</td>\n",
       "      <td>EGFR</td>\n",
       "      <td>0.913506</td>\n",
       "      <td>1.0</td>\n",
       "      <td>AHR</td>\n",
       "      <td>-0.134946</td>\n",
       "      <td>1.0</td>\n",
       "    </tr>\n",
       "    <tr>\n",
       "      <th>2</th>\n",
       "      <td>Estrogen&amp;AHR</td>\n",
       "      <td>Estrogen</td>\n",
       "      <td>-2.512781</td>\n",
       "      <td>1.0</td>\n",
       "      <td>AHR</td>\n",
       "      <td>-0.134946</td>\n",
       "      <td>1.0</td>\n",
       "    </tr>\n",
       "    <tr>\n",
       "      <th>3</th>\n",
       "      <td>Hypoxia&amp;AHR</td>\n",
       "      <td>Hypoxia</td>\n",
       "      <td>1.044591</td>\n",
       "      <td>1.0</td>\n",
       "      <td>AHR</td>\n",
       "      <td>-0.134946</td>\n",
       "      <td>1.0</td>\n",
       "    </tr>\n",
       "    <tr>\n",
       "      <th>4</th>\n",
       "      <td>JAK-STAT&amp;AHR</td>\n",
       "      <td>JAK-STAT</td>\n",
       "      <td>6.993168</td>\n",
       "      <td>1.0</td>\n",
       "      <td>AHR</td>\n",
       "      <td>-0.134946</td>\n",
       "      <td>1.0</td>\n",
       "    </tr>\n",
       "    <tr>\n",
       "      <th>...</th>\n",
       "      <td>...</td>\n",
       "      <td>...</td>\n",
       "      <td>...</td>\n",
       "      <td>...</td>\n",
       "      <td>...</td>\n",
       "      <td>...</td>\n",
       "      <td>...</td>\n",
       "    </tr>\n",
       "    <tr>\n",
       "      <th>4111</th>\n",
       "      <td>TNFa&amp;ZNF740</td>\n",
       "      <td>TNFa</td>\n",
       "      <td>5.252833</td>\n",
       "      <td>1.0</td>\n",
       "      <td>ZNF740</td>\n",
       "      <td>0.856168</td>\n",
       "      <td>1.0</td>\n",
       "    </tr>\n",
       "    <tr>\n",
       "      <th>4112</th>\n",
       "      <td>Trail&amp;ZNF740</td>\n",
       "      <td>Trail</td>\n",
       "      <td>-2.640625</td>\n",
       "      <td>1.0</td>\n",
       "      <td>ZNF740</td>\n",
       "      <td>0.856168</td>\n",
       "      <td>1.0</td>\n",
       "    </tr>\n",
       "    <tr>\n",
       "      <th>4113</th>\n",
       "      <td>VEGF&amp;ZNF740</td>\n",
       "      <td>VEGF</td>\n",
       "      <td>0.928763</td>\n",
       "      <td>1.0</td>\n",
       "      <td>ZNF740</td>\n",
       "      <td>0.856168</td>\n",
       "      <td>1.0</td>\n",
       "    </tr>\n",
       "    <tr>\n",
       "      <th>4114</th>\n",
       "      <td>WNT&amp;ZNF740</td>\n",
       "      <td>WNT</td>\n",
       "      <td>-0.208129</td>\n",
       "      <td>1.0</td>\n",
       "      <td>ZNF740</td>\n",
       "      <td>0.856168</td>\n",
       "      <td>1.0</td>\n",
       "    </tr>\n",
       "    <tr>\n",
       "      <th>4115</th>\n",
       "      <td>p53&amp;ZNF740</td>\n",
       "      <td>p53</td>\n",
       "      <td>-4.037091</td>\n",
       "      <td>1.0</td>\n",
       "      <td>ZNF740</td>\n",
       "      <td>0.856168</td>\n",
       "      <td>1.0</td>\n",
       "    </tr>\n",
       "  </tbody>\n",
       "</table>\n",
       "<p>4116 rows × 7 columns</p>\n",
       "</div>"
      ],
      "text/plain": [
       "       interaction  x_entity   x_means  x_non_zero y_entity   y_means  \\\n",
       "0     Androgen&AHR  Androgen  1.055404         1.0      AHR -0.134946   \n",
       "1         EGFR&AHR      EGFR  0.913506         1.0      AHR -0.134946   \n",
       "2     Estrogen&AHR  Estrogen -2.512781         1.0      AHR -0.134946   \n",
       "3      Hypoxia&AHR   Hypoxia  1.044591         1.0      AHR -0.134946   \n",
       "4     JAK-STAT&AHR  JAK-STAT  6.993168         1.0      AHR -0.134946   \n",
       "...            ...       ...       ...         ...      ...       ...   \n",
       "4111   TNFa&ZNF740      TNFa  5.252833         1.0   ZNF740  0.856168   \n",
       "4112  Trail&ZNF740     Trail -2.640625         1.0   ZNF740  0.856168   \n",
       "4113   VEGF&ZNF740      VEGF  0.928763         1.0   ZNF740  0.856168   \n",
       "4114    WNT&ZNF740       WNT -0.208129         1.0   ZNF740  0.856168   \n",
       "4115    p53&ZNF740       p53 -4.037091         1.0   ZNF740  0.856168   \n",
       "\n",
       "      y_non_zero  \n",
       "0            1.0  \n",
       "1            1.0  \n",
       "2            1.0  \n",
       "3            1.0  \n",
       "4            1.0  \n",
       "...          ...  \n",
       "4111         1.0  \n",
       "4112         1.0  \n",
       "4113         1.0  \n",
       "4114         1.0  \n",
       "4115         1.0  \n",
       "\n",
       "[4116 rows x 7 columns]"
      ]
     },
     "execution_count": 37,
     "metadata": {},
     "output_type": "execute_result"
    }
   ],
   "source": [
    "xy_stats"
   ]
  },
  {
   "cell_type": "code",
   "execution_count": null,
   "metadata": {},
   "outputs": [],
   "source": []
  },
  {
   "attachments": {},
   "cell_type": "markdown",
   "metadata": {},
   "source": [
    "To SpatialMethod--->"
   ]
  },
  {
   "cell_type": "code",
   "execution_count": 38,
   "metadata": {},
   "outputs": [],
   "source": [
    "dist = mdata.obsm['proximity']\n",
    "weight = dist.A.astype(np.float64)"
   ]
  },
  {
   "cell_type": "code",
   "execution_count": null,
   "metadata": {},
   "outputs": [],
   "source": []
  },
  {
   "cell_type": "code",
   "execution_count": 39,
   "metadata": {},
   "outputs": [],
   "source": [
    "# convert to spot_n x lr_n matrices\n",
    "x_mat = _get_ordered_matrix(mat=mdata[x_mod].X,\n",
    "                            pos=x_pos,\n",
    "                            order=xy_stats['x_entity'])\n",
    "y_mat = _get_ordered_matrix(mat=mdata[y_mod].X,\n",
    "                            pos=y_pos,\n",
    "                            order=xy_stats['y_entity'])"
   ]
  },
  {
   "cell_type": "code",
   "execution_count": 40,
   "metadata": {},
   "outputs": [
    {
     "data": {
      "text/plain": [
       "dtype('float64')"
      ]
     },
     "execution_count": 40,
     "metadata": {},
     "output_type": "execute_result"
    }
   ],
   "source": [
    "weight.dtype"
   ]
  },
  {
   "cell_type": "code",
   "execution_count": 127,
   "metadata": {},
   "outputs": [],
   "source": [
    "def _vectorized_correlations(x_mat, y_mat, dist, method=\"pearson\"):\n",
    "    if method not in [\"pearson\", \"spearman\"]:\n",
    "        raise ValueError(\"method must be one of 'pearson', 'spearman'\")\n",
    "    \n",
    "    # transpose\n",
    "    x_mat, y_mat = x_mat.T, y_mat.T\n",
    "    \n",
    "    weight = dist.A.T\n",
    "    weight_sums = np.sum(weight, axis = 0).flatten()\n",
    "        \n",
    "    if method==\"spearman\":\n",
    "        x_mat = rankdata(x_mat, axis=1)\n",
    "        y_mat = rankdata(y_mat, axis=1)\n",
    "    \n",
    "    # standard pearson\n",
    "    n1 = (((x_mat * y_mat).dot(weight)) * weight_sums)\n",
    "    n2 = (x_mat.dot(weight)) * (y_mat.dot(weight))\n",
    "    numerator = n1 - n2\n",
    "    \n",
    "    denominator_x = (weight_sums * (x_mat ** 2).dot(weight)) - (x_mat.dot(weight))**2\n",
    "    denominator_y = (weight_sums * (y_mat ** 2).dot(weight)) - (y_mat.dot(weight))**2\n",
    "    denominator = (denominator_x * denominator_y)\n",
    "    \n",
    "    # numpy sum is unstable below 1e-6?\n",
    "    denominator[denominator < 1e-6] = 0\n",
    "    denominator = denominator ** 0.5\n",
    "    \n",
    "    zeros = np.zeros(numerator.shape)\n",
    "    local_corrs = np.divide(numerator, denominator, out=zeros, where=denominator!=0)\n",
    "    \n",
    "    # fix numpy imprecision TODO related to numba rounding issue?\n",
    "    local_corrs = np.clip(local_corrs, -1, 1, out=local_corrs)\n",
    "    \n",
    "    return local_corrs"
   ]
  },
  {
   "cell_type": "code",
   "execution_count": 128,
   "metadata": {},
   "outputs": [],
   "source": [
    "masked_pc = _vectorized_correlations(x_mat.T.A, y_mat.T.A, dist, method='pearson')"
   ]
  },
  {
   "cell_type": "markdown",
   "metadata": {},
   "source": []
  },
  {
   "cell_type": "code",
   "execution_count": 129,
   "metadata": {},
   "outputs": [],
   "source": [
    "masked_pc = np.nan_to_num(masked_pc, nan=0)"
   ]
  },
  {
   "cell_type": "code",
   "execution_count": 131,
   "metadata": {},
   "outputs": [
    {
     "data": {
      "text/plain": [
       "1.0"
      ]
     },
     "execution_count": 131,
     "metadata": {},
     "output_type": "execute_result"
    }
   ],
   "source": [
    "np.max(masked_pc)"
   ]
  },
  {
   "cell_type": "code",
   "execution_count": null,
   "metadata": {},
   "outputs": [],
   "source": []
  },
  {
   "cell_type": "code",
   "execution_count": 132,
   "metadata": {},
   "outputs": [
    {
     "data": {
      "text/plain": [
       "1.0"
      ]
     },
     "execution_count": 132,
     "metadata": {},
     "output_type": "execute_result"
    }
   ],
   "source": [
    "masked_pc[140, 2720]"
   ]
  },
  {
   "cell_type": "code",
   "execution_count": 133,
   "metadata": {},
   "outputs": [
    {
     "data": {
      "text/plain": [
       "-1.0"
      ]
     },
     "execution_count": 133,
     "metadata": {},
     "output_type": "execute_result"
    }
   ],
   "source": [
    "np.min(masked_pc)"
   ]
  },
  {
   "cell_type": "code",
   "execution_count": 135,
   "metadata": {},
   "outputs": [],
   "source": [
    "from wcorr import WeightedCorr"
   ]
  },
  {
   "cell_type": "code",
   "execution_count": 136,
   "metadata": {},
   "outputs": [],
   "source": [
    "x = x_mat.A[3446,:]"
   ]
  },
  {
   "cell_type": "code",
   "execution_count": 137,
   "metadata": {},
   "outputs": [],
   "source": [
    "y = y_mat.A[3446,:]"
   ]
  },
  {
   "cell_type": "code",
   "execution_count": 138,
   "metadata": {},
   "outputs": [],
   "source": [
    "w = weight[:, 5]"
   ]
  },
  {
   "cell_type": "code",
   "execution_count": null,
   "metadata": {},
   "outputs": [],
   "source": []
  },
  {
   "cell_type": "code",
   "execution_count": 139,
   "metadata": {},
   "outputs": [],
   "source": [
    "my_data = pd.DataFrame({'x': x, 'y': y, 'w': w})"
   ]
  },
  {
   "cell_type": "code",
   "execution_count": 140,
   "metadata": {},
   "outputs": [
    {
     "data": {
      "text/plain": [
       "0.0926351278505682"
      ]
     },
     "execution_count": 140,
     "metadata": {},
     "output_type": "execute_result"
    }
   ],
   "source": [
    "WeightedCorr(xyw=my_data[['x', 'y', 'w']])(method='pearson')"
   ]
  },
  {
   "cell_type": "code",
   "execution_count": 141,
   "metadata": {},
   "outputs": [
    {
     "data": {
      "text/plain": [
       "0.09263724088668823"
      ]
     },
     "execution_count": 141,
     "metadata": {},
     "output_type": "execute_result"
    }
   ],
   "source": [
    "masked_pc[3446, 5]"
   ]
  },
  {
   "cell_type": "code",
   "execution_count": null,
   "metadata": {},
   "outputs": [],
   "source": []
  },
  {
   "cell_type": "code",
   "execution_count": null,
   "metadata": {},
   "outputs": [],
   "source": []
  },
  {
   "cell_type": "code",
   "execution_count": null,
   "metadata": {},
   "outputs": [],
   "source": []
  },
  {
   "cell_type": "code",
   "execution_count": null,
   "metadata": {},
   "outputs": [],
   "source": [
    "# transpose\n",
    "x_mat, y_mat = x_mat.A, y_mat.A\n",
    "\n",
    "weight = dist.A.T\n",
    "weight_sums = np.sum(weight, axis = 0).flatten()"
   ]
  },
  {
   "cell_type": "code",
   "execution_count": null,
   "metadata": {},
   "outputs": [],
   "source": [
    "\n",
    "\n",
    "# standard pearson\n",
    "n1 = (((x_mat * y_mat) @ weight) * weight_sums)\n",
    "n2 = (x_mat @ weight) * (y_mat @ weight)\n",
    "numerator = n1 - n2\n",
    "\n",
    "denominator_x = (weight_sums * ((x_mat ** 2) @ weight)) - (x_mat @ weight)**2\n",
    "denominator_y = (weight_sums * ((y_mat ** 2) @ weight)) - (y_mat @ weight)**2\n",
    "denominator = (denominator_x * denominator_y)**0.5\n",
    "\n",
    "zeros = np.zeros(numerator.shape)\n",
    "local_corrs = np.divide(numerator, denominator, out=zeros, where=denominator!=0)\n"
   ]
  },
  {
   "cell_type": "code",
   "execution_count": null,
   "metadata": {},
   "outputs": [],
   "source": [
    "from matplotlib.pyplot import hist"
   ]
  },
  {
   "cell_type": "code",
   "execution_count": null,
   "metadata": {},
   "outputs": [],
   "source": [
    "hist(weight_sums)"
   ]
  },
  {
   "cell_type": "code",
   "execution_count": null,
   "metadata": {},
   "outputs": [],
   "source": []
  },
  {
   "cell_type": "code",
   "execution_count": null,
   "metadata": {},
   "outputs": [],
   "source": [
    "import squidpy as sq"
   ]
  },
  {
   "cell_type": "code",
   "execution_count": null,
   "metadata": {},
   "outputs": [],
   "source": [
    "# load the pre-processed dataset\n",
    "img = sq.datasets.visium_hne_image()\n",
    "adata = sq.datasets.visium_hne_adata()"
   ]
  },
  {
   "cell_type": "code",
   "execution_count": null,
   "metadata": {},
   "outputs": [],
   "source": [
    "li.method.sp.get_spatial_proximity(adata=adata, parameter=100, bypass_diagonal=True, cutoff=0.1)"
   ]
  },
  {
   "cell_type": "code",
   "execution_count": null,
   "metadata": {},
   "outputs": [],
   "source": [
    "adata.obsm[\"proximity\"].sum(axis=0)"
   ]
  },
  {
   "cell_type": "code",
   "execution_count": null,
   "metadata": {},
   "outputs": [],
   "source": [
    "hist()"
   ]
  },
  {
   "cell_type": "code",
   "execution_count": null,
   "metadata": {},
   "outputs": [],
   "source": []
  },
  {
   "cell_type": "code",
   "execution_count": null,
   "metadata": {},
   "outputs": [],
   "source": [
    "from scipy.stats import rankdata"
   ]
  },
  {
   "cell_type": "code",
   "execution_count": null,
   "metadata": {},
   "outputs": [],
   "source": []
  },
  {
   "cell_type": "code",
   "execution_count": null,
   "metadata": {},
   "outputs": [],
   "source": [
    "masked_pc[np.isnan(masked_pc)] = 0"
   ]
  },
  {
   "cell_type": "code",
   "execution_count": null,
   "metadata": {},
   "outputs": [],
   "source": []
  },
  {
   "cell_type": "code",
   "execution_count": null,
   "metadata": {},
   "outputs": [],
   "source": [
    "np.where(np.min(masked_pc) == masked_pc)"
   ]
  },
  {
   "cell_type": "code",
   "execution_count": null,
   "metadata": {},
   "outputs": [],
   "source": [
    "from matplotlib.pyplot import hist"
   ]
  },
  {
   "cell_type": "code",
   "execution_count": null,
   "metadata": {},
   "outputs": [],
   "source": [
    "dist.shape"
   ]
  },
  {
   "cell_type": "code",
   "execution_count": null,
   "metadata": {},
   "outputs": [],
   "source": [
    "masked_pc.shape"
   ]
  },
  {
   "cell_type": "code",
   "execution_count": null,
   "metadata": {},
   "outputs": [],
   "source": [
    "np.zeros_like(denominator)"
   ]
  },
  {
   "cell_type": "code",
   "execution_count": null,
   "metadata": {},
   "outputs": [],
   "source": [
    "hist(masked_pc[:,908])"
   ]
  },
  {
   "cell_type": "code",
   "execution_count": null,
   "metadata": {},
   "outputs": [],
   "source": []
  },
  {
   "cell_type": "code",
   "execution_count": null,
   "metadata": {},
   "outputs": [],
   "source": [
    "# n / sum(W) for Moran's I\n",
    "norm_factor = mdata.obsm['proximity'].shape[0] / mdata.obsm['proximity'].sum()\n",
    "dist = csr_matrix(norm_factor * mdata.obsm['proximity'])"
   ]
  },
  {
   "cell_type": "code",
   "execution_count": null,
   "metadata": {},
   "outputs": [],
   "source": []
  },
  {
   "cell_type": "code",
   "execution_count": null,
   "metadata": {},
   "outputs": [],
   "source": []
  },
  {
   "cell_type": "code",
   "execution_count": null,
   "metadata": {},
   "outputs": [],
   "source": []
  },
  {
   "cell_type": "code",
   "execution_count": null,
   "metadata": {},
   "outputs": [],
   "source": []
  },
  {
   "cell_type": "code",
   "execution_count": null,
   "metadata": {},
   "outputs": [],
   "source": [
    "###  -> bivar metrics (later spatiadm)\n",
    "\n"
   ]
  },
  {
   "cell_type": "code",
   "execution_count": null,
   "metadata": {},
   "outputs": [],
   "source": []
  },
  {
   "cell_type": "code",
   "execution_count": null,
   "metadata": {},
   "outputs": [],
   "source": []
  },
  {
   "cell_type": "code",
   "execution_count": null,
   "metadata": {},
   "outputs": [],
   "source": []
  },
  {
   "cell_type": "code",
   "execution_count": null,
   "metadata": {},
   "outputs": [],
   "source": [
    "# we use the same gene expression matrix for both x and y\n",
    "xy_stats['global_r'], xy_stats['global_pvals'] = \\\n",
    "    _global_spatialdm(x_mat=progeny.X,\n",
    "                      y_mat=dorothea.X,\n",
    "                      x_pos=x_pos,\n",
    "                      y_pos=y_pos,\n",
    "                      xy_dataframe=xy_stats,\n",
    "                      dist=dist,\n",
    "                      seed=0,\n",
    "                      n_perm=1000,\n",
    "                      pvalue_method=\"analytical\",\n",
    "                      positive_only=False,\n",
    "                      x_key = 'x_entity',\n",
    "                      y_key = 'y_entity'\n",
    "                      )\n",
    "local_r, local_pvals = _local_spatialdm(x_mat=progeny.X,\n",
    "                                        y_mat=dorothea.X,\n",
    "                                        x_pos=x_pos,\n",
    "                                        y_pos=y_pos,\n",
    "                                        xy_dataframe=xy_stats,\n",
    "                                        dist=dist,  # TODO msq?\n",
    "                                        seed=0,\n",
    "                                        n_perm=1000,\n",
    "                                        pvalue_method=\"analytical\",\n",
    "                                        positive_only=False,\n",
    "                                        x_key = 'x_entity',\n",
    "                                        y_key = 'y_entity'\n",
    "                                        )"
   ]
  },
  {
   "cell_type": "code",
   "execution_count": null,
   "metadata": {},
   "outputs": [],
   "source": [
    "# convert to dataframes\n",
    "local_r = _local_to_dataframe(array=local_r,\n",
    "                              idx=adata.obs.index,\n",
    "                              columns=xy_res.interaction)\n",
    "local_pvals = _local_to_dataframe(array=local_pvals,\n",
    "                                  idx=adata.obs.index,\n",
    "                                  columns=xy_res.interaction)"
   ]
  },
  {
   "cell_type": "code",
   "execution_count": null,
   "metadata": {},
   "outputs": [],
   "source": []
  },
  {
   "cell_type": "code",
   "execution_count": null,
   "metadata": {},
   "outputs": [],
   "source": [
    "adata.uns['global_res'] = xy_res\n",
    "adata.obsm['local_r'] = local_r\n",
    "adata.obsm['local_pvals'] = local_pvals"
   ]
  },
  {
   "cell_type": "code",
   "execution_count": null,
   "metadata": {},
   "outputs": [],
   "source": [
    "xy_res.sort_values(by='global_r', ascending=False).head(10)"
   ]
  },
  {
   "cell_type": "code",
   "execution_count": null,
   "metadata": {},
   "outputs": [],
   "source": [
    "local_pvals = li.ut.obsm_to_adata(adata, obsm_key='local_pvals')\n",
    "local_rs = li.ut.obsm_to_adata(adata, obsm_key='local_r')"
   ]
  },
  {
   "cell_type": "code",
   "execution_count": null,
   "metadata": {},
   "outputs": [],
   "source": [
    "sc.pl.spatial(local_rs, color=['JAK-STAT&STAT2'], cmap='coolwarm', vmax=5)"
   ]
  },
  {
   "cell_type": "code",
   "execution_count": null,
   "metadata": {},
   "outputs": [],
   "source": [
    "sc.pl.spatial(local_pvals, color=['JAK-STAT&STAT2'], cmap='coolwarm_r')"
   ]
  },
  {
   "cell_type": "code",
   "execution_count": null,
   "metadata": {},
   "outputs": [],
   "source": [
    "sc.pl.spatial(progeny, color=['JAK-STAT'], use_raw=False, cmap='coolwarm', vmax=5)"
   ]
  },
  {
   "cell_type": "code",
   "execution_count": null,
   "metadata": {},
   "outputs": [],
   "source": [
    "sc.pl.spatial(dorothea, color=['STAT2'], use_raw=False, cmap='coolwarm', vmax=5)"
   ]
  },
  {
   "cell_type": "code",
   "execution_count": null,
   "metadata": {},
   "outputs": [],
   "source": [
    "adata"
   ]
  },
  {
   "cell_type": "code",
   "execution_count": null,
   "metadata": {},
   "outputs": [],
   "source": []
  },
  {
   "cell_type": "code",
   "execution_count": null,
   "metadata": {},
   "outputs": [],
   "source": []
  },
  {
   "cell_type": "markdown",
   "metadata": {},
   "source": []
  }
 ],
 "metadata": {
  "kernelspec": {
   "display_name": "liana-py",
   "language": "python",
   "name": "python3"
  },
  "language_info": {
   "codemirror_mode": {
    "name": "ipython",
    "version": 3
   },
   "file_extension": ".py",
   "mimetype": "text/x-python",
   "name": "python",
   "nbconvert_exporter": "python",
   "pygments_lexer": "ipython3",
   "version": "3.10.6"
  },
  "orig_nbformat": 4,
  "vscode": {
   "interpreter": {
    "hash": "80a99255e5b17beb6f8c8dc403ec70687184f3f6557a2c5fe71e16aa6505930d"
   }
  }
 },
 "nbformat": 4,
 "nbformat_minor": 2
}
