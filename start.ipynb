{
 "cells": [
  {
   "cell_type": "code",
   "execution_count": 1,
   "id": "4a6561fa-18d6-459b-a010-51b7d9fae1d4",
   "metadata": {},
   "outputs": [],
   "source": [
    "import scanpy as sc\n",
    "import pandas as pd\n",
    "import numpy as np"
   ]
  },
  {
   "cell_type": "code",
   "execution_count": null,
   "id": "d333ea8e-aeca-4746-887b-33ec6b6b1b17",
   "metadata": {},
   "outputs": [],
   "source": []
  },
  {
   "cell_type": "markdown",
   "id": "f65dcb30-df9e-4ab9-a2f5-b2cb30ba58c0",
   "metadata": {},
   "source": [
    "Load anndata"
   ]
  },
  {
   "cell_type": "code",
   "execution_count": 2,
   "id": "3be28d50-be89-46ae-b3ec-e8878844a0ab",
   "metadata": {},
   "outputs": [],
   "source": [
    "adata = sc.read_h5ad(\"test.h5ad\")"
   ]
  },
  {
   "cell_type": "code",
   "execution_count": 3,
   "id": "72dce8c7-08ec-473c-be56-7eadb814c846",
   "metadata": {},
   "outputs": [],
   "source": [
    "# # lognorm should be the default (expected)\n",
    "adata.X = adata.layers['logcounts']"
   ]
  },
  {
   "cell_type": "code",
   "execution_count": null,
   "id": "43a8eda0-bdb4-4c26-83f1-0443c3c82732",
   "metadata": {},
   "outputs": [],
   "source": []
  },
  {
   "cell_type": "code",
   "execution_count": null,
   "id": "8ebb9f68-0009-42c0-afe1-4a2963664aa1",
   "metadata": {},
   "outputs": [],
   "source": []
  },
  {
   "cell_type": "markdown",
   "id": "04043a54-1480-41be-b134-b55911ff9027",
   "metadata": {},
   "source": [
    "Parameters"
   ]
  },
  {
   "cell_type": "code",
   "execution_count": null,
   "id": "8749bb33-5c01-49b3-8fe1-cb8b167a8b28",
   "metadata": {},
   "outputs": [],
   "source": [
    "groupby='label'\n",
    "de_method='wilcoxon'\n",
    "resource_name = 'consensus'\n",
    "complex_policy = 'min'\n",
    "key_cols = ['source', 'target', 'ligand_complex', 'receptor_complex']\n",
    "verbose = False"
   ]
  },
  {
   "cell_type": "code",
   "execution_count": null,
   "id": "6581703e-86e5-4f50-ab07-2f1791be9e67",
   "metadata": {},
   "outputs": [],
   "source": [
    "# only relevant if perms are done\n",
    "n_perms = 1000\n",
    "seed = 69"
   ]
  },
  {
   "cell_type": "code",
   "execution_count": null,
   "id": "9dabcf57-ad50-4fa5-a102-408b893cf6d7",
   "metadata": {},
   "outputs": [],
   "source": []
  },
  {
   "cell_type": "markdown",
   "id": "309ef0d7-3696-485d-a169-743774b2e2a4",
   "metadata": {},
   "source": [
    "Run LIANA PIPE"
   ]
  },
  {
   "cell_type": "code",
   "execution_count": 4,
   "id": "101f0bdd-c6a0-400b-b64e-b6ba21df9ae5",
   "metadata": {},
   "outputs": [],
   "source": [
    "from liana import liana_pipe"
   ]
  },
  {
   "cell_type": "code",
   "execution_count": 5,
   "id": "1bdd36ab-1ce6-4842-8b8f-d9a5f74ac660",
   "metadata": {},
   "outputs": [
    {
     "ename": "NameError",
     "evalue": "name 'groupby' is not defined",
     "output_type": "error",
     "traceback": [
      "\u001b[0;31m---------------------------------------------------------------------------\u001b[0m",
      "\u001b[0;31mNameError\u001b[0m                                 Traceback (most recent call last)",
      "\u001b[0;32m<ipython-input-5-3cbfab23a46b>\u001b[0m in \u001b[0;36m<module>\u001b[0;34m\u001b[0m\n\u001b[1;32m      1\u001b[0m lr_res = liana_pipe(adata=adata, \n\u001b[0;32m----> 2\u001b[0;31m                     \u001b[0mgroupby\u001b[0m\u001b[0;34m=\u001b[0m\u001b[0mgroupby\u001b[0m\u001b[0;34m,\u001b[0m\u001b[0;34m\u001b[0m\u001b[0;34m\u001b[0m\u001b[0m\n\u001b[0m\u001b[1;32m      3\u001b[0m                     \u001b[0mresource_name\u001b[0m\u001b[0;34m=\u001b[0m\u001b[0mresource_name\u001b[0m\u001b[0;34m,\u001b[0m\u001b[0;34m\u001b[0m\u001b[0;34m\u001b[0m\u001b[0m\n\u001b[1;32m      4\u001b[0m                     \u001b[0mde_method\u001b[0m\u001b[0;34m=\u001b[0m\u001b[0mde_method\u001b[0m\u001b[0;34m,\u001b[0m\u001b[0;34m\u001b[0m\u001b[0;34m\u001b[0m\u001b[0m\n\u001b[1;32m      5\u001b[0m                     \u001b[0mn_perms\u001b[0m\u001b[0;34m=\u001b[0m\u001b[0mn_perms\u001b[0m\u001b[0;34m,\u001b[0m\u001b[0;34m\u001b[0m\u001b[0;34m\u001b[0m\u001b[0m\n",
      "\u001b[0;31mNameError\u001b[0m: name 'groupby' is not defined"
     ]
    }
   ],
   "source": [
    "lr_res = liana_pipe(adata=adata, \n",
    "                    groupby=groupby, \n",
    "                    resource_name=resource_name,\n",
    "                    de_method=de_method,\n",
    "                    n_perms=n_perms,\n",
    "                    seed=seed,\n",
    "                    verbose=verbose,\n",
    "                    _key_cols=key_cols,\n",
    "                    resource=None)"
   ]
  },
  {
   "cell_type": "code",
   "execution_count": null,
   "id": "18e522eb-d6b2-4dab-acfd-9877065fb167",
   "metadata": {},
   "outputs": [],
   "source": [
    "lr_res.sort_values('ligand_means')"
   ]
  },
  {
   "cell_type": "code",
   "execution_count": null,
   "id": "7f3835c3-72fe-40c5-9b17-a2efc0bba160",
   "metadata": {},
   "outputs": [],
   "source": []
  },
  {
   "cell_type": "code",
   "execution_count": null,
   "id": "4fa5b454-1dae-47ce-9455-9d88e91988fb",
   "metadata": {},
   "outputs": [],
   "source": []
  },
  {
   "cell_type": "code",
   "execution_count": null,
   "id": "7025b66e-88e8-4b6b-a6e1-1ea4bce8ef2e",
   "metadata": {},
   "outputs": [],
   "source": []
  },
  {
   "cell_type": "markdown",
   "id": "bbc202fb-8b2a-4659-821f-b52a2f957269",
   "metadata": {},
   "source": [
    "CellPhoneDB"
   ]
  },
  {
   "cell_type": "code",
   "execution_count": null,
   "id": "f34a6a93-f823-4c50-a716-6d9f7aa873a2",
   "metadata": {},
   "outputs": [],
   "source": [
    "from liana import cellphonedb"
   ]
  },
  {
   "cell_type": "code",
   "execution_count": null,
   "id": "ae10eb86-43f0-49eb-a2ce-bc4ef2b4a030",
   "metadata": {},
   "outputs": [],
   "source": [
    "%%time\n",
    "adata = cellphonedb(adata, groupby='label', n_perms=1000)"
   ]
  },
  {
   "cell_type": "code",
   "execution_count": null,
   "id": "5da48042-4f6a-463f-9900-35cf075e8157",
   "metadata": {},
   "outputs": [],
   "source": [
    "lr_res = adata.uns['liana_res']"
   ]
  },
  {
   "cell_type": "code",
   "execution_count": null,
   "id": "5fe86072-35f7-488d-8902-edb88dbea50c",
   "metadata": {},
   "outputs": [],
   "source": [
    "lr_res[lr_res['receptor_complex']=='CD8A_CD8B']"
   ]
  },
  {
   "cell_type": "code",
   "execution_count": null,
   "id": "05070b28-53a6-457f-b8ee-f776ccde22e6",
   "metadata": {},
   "outputs": [],
   "source": []
  },
  {
   "cell_type": "code",
   "execution_count": null,
   "id": "6fadac1c-d620-45be-9659-d863ec129fad",
   "metadata": {},
   "outputs": [],
   "source": []
  },
  {
   "cell_type": "markdown",
   "id": "ac370eac-2c34-462b-a84a-f571c6627e4b",
   "metadata": {},
   "source": [
    "NATMI"
   ]
  },
  {
   "cell_type": "code",
   "execution_count": null,
   "id": "2a67dd14-3e89-40fa-a6d1-a27d9acaba59",
   "metadata": {},
   "outputs": [],
   "source": [
    "from liana import natmi"
   ]
  },
  {
   "cell_type": "code",
   "execution_count": null,
   "id": "bb3017ab-1d8e-4704-9012-2bceb959dc13",
   "metadata": {},
   "outputs": [],
   "source": [
    "adata = natmi(adata, groupby='label')"
   ]
  },
  {
   "cell_type": "code",
   "execution_count": null,
   "id": "7e53c204-d252-4d19-aa94-20d19e9e41f1",
   "metadata": {},
   "outputs": [],
   "source": [
    "adata.uns['liana_res']"
   ]
  },
  {
   "cell_type": "code",
   "execution_count": null,
   "id": "278f0447-3ad6-4a85-97ec-1274fbf18a45",
   "metadata": {},
   "outputs": [],
   "source": []
  },
  {
   "cell_type": "code",
   "execution_count": null,
   "id": "7727dc8a-1205-4e29-85e9-a0cf1571098c",
   "metadata": {},
   "outputs": [],
   "source": []
  },
  {
   "cell_type": "markdown",
   "id": "7ec44baa-0cd3-4eb6-9f7b-a5e325b6f692",
   "metadata": {},
   "source": [
    "SCA"
   ]
  },
  {
   "cell_type": "code",
   "execution_count": null,
   "id": "f57a9a05-689c-44df-9915-50c5dfc3a494",
   "metadata": {},
   "outputs": [],
   "source": [
    "from liana import singlecellsignalr as sca"
   ]
  },
  {
   "cell_type": "code",
   "execution_count": null,
   "id": "fdb9b416-7e42-4c76-bac0-32f148e28fb7",
   "metadata": {},
   "outputs": [],
   "source": [
    "adata = sca(adata, groupby='label')"
   ]
  },
  {
   "cell_type": "code",
   "execution_count": null,
   "id": "ba4b4d5a-f417-440c-a88d-68ef92aa658b",
   "metadata": {},
   "outputs": [],
   "source": [
    "adata.uns['liana_res'].sort_values('lr_means', ascending=True)"
   ]
  },
  {
   "cell_type": "code",
   "execution_count": null,
   "id": "a4c5e360-0560-4e5f-8d52-696ee1bd2a84",
   "metadata": {},
   "outputs": [],
   "source": []
  },
  {
   "cell_type": "code",
   "execution_count": null,
   "id": "b0af474f-281c-44d7-ab79-fef31d354c9d",
   "metadata": {},
   "outputs": [],
   "source": []
  },
  {
   "cell_type": "markdown",
   "id": "d0fcd85f-2505-4f9e-ae47-069432720f74",
   "metadata": {},
   "source": [
    "Connectome"
   ]
  },
  {
   "cell_type": "code",
   "execution_count": null,
   "id": "1a2e6124-01e6-411c-b1e1-669bded091dd",
   "metadata": {},
   "outputs": [],
   "source": [
    "from liana import connectome"
   ]
  },
  {
   "cell_type": "code",
   "execution_count": null,
   "id": "6c74db4a-cd6b-4db1-bee7-58f4a4375e7a",
   "metadata": {},
   "outputs": [],
   "source": [
    "adata = connectome(adata, groupby='label')"
   ]
  },
  {
   "cell_type": "code",
   "execution_count": null,
   "id": "1a9ea8d6-b1e1-4fc3-976e-ded3d73f9547",
   "metadata": {},
   "outputs": [],
   "source": [
    "adata.uns['liana_res'].sort_values('scaled_weight', ascending=False)"
   ]
  },
  {
   "cell_type": "code",
   "execution_count": null,
   "id": "71db5fc9-e45a-4f15-b339-7de86f7ddd8a",
   "metadata": {},
   "outputs": [],
   "source": []
  },
  {
   "cell_type": "markdown",
   "id": "0e0a4897-21fb-4f94-96ee-ec7157a9081a",
   "metadata": {},
   "source": [
    "logFC"
   ]
  },
  {
   "cell_type": "code",
   "execution_count": null,
   "id": "6ee26c82-df43-40c9-b4cf-be0c5b08bb2f",
   "metadata": {},
   "outputs": [],
   "source": [
    "from liana import logfc"
   ]
  },
  {
   "cell_type": "code",
   "execution_count": null,
   "id": "5910e6bc-c3ff-44a7-867c-e59c3f3a9091",
   "metadata": {},
   "outputs": [],
   "source": [
    "adata = logfc(adata, groupby='label')"
   ]
  },
  {
   "cell_type": "code",
   "execution_count": null,
   "id": "8e83c7fa-2ee8-42a9-bf8f-f5065a5ce21f",
   "metadata": {},
   "outputs": [],
   "source": [
    "adata.uns['liana_res'].sort_values('lr_logfc', ascending=False)"
   ]
  },
  {
   "cell_type": "code",
   "execution_count": null,
   "id": "dbb28aa4-8f20-45e1-a041-6796dd1f045f",
   "metadata": {},
   "outputs": [],
   "source": [
    "np.exp(1)"
   ]
  },
  {
   "cell_type": "code",
   "execution_count": null,
   "id": "23bd8ff5-b9bf-4718-a8af-ee9225e76d7a",
   "metadata": {},
   "outputs": [],
   "source": []
  },
  {
   "cell_type": "code",
   "execution_count": null,
   "id": "8b083646-d111-4f0c-a2bd-dbc6c7415e82",
   "metadata": {},
   "outputs": [],
   "source": []
  },
  {
   "cell_type": "markdown",
   "id": "2b1733cb-cb90-4bd8-a331-ba42d119669e",
   "metadata": {
    "tags": []
   },
   "source": [
    "try w/ real data"
   ]
  },
  {
   "cell_type": "code",
   "execution_count": null,
   "id": "410040b2-fb80-4b5c-8525-a5195e3d507e",
   "metadata": {},
   "outputs": [],
   "source": [
    "adata = sc.datasets.pbmc3k_processed()\n",
    "labels = adata.obs.louvain\n",
    "cells = adata.obs_names"
   ]
  },
  {
   "cell_type": "code",
   "execution_count": null,
   "id": "948b33f6-e0c9-411c-bd65-00e114139844",
   "metadata": {},
   "outputs": [],
   "source": [
    "adata = sc.datasets.pbmc3k()"
   ]
  },
  {
   "cell_type": "code",
   "execution_count": null,
   "id": "fe5ffa6c-c547-47d2-a382-61aa812db2c7",
   "metadata": {},
   "outputs": [],
   "source": [
    "adata = adata[[x in cells for x in adata.obs_names]]"
   ]
  },
  {
   "cell_type": "code",
   "execution_count": null,
   "id": "d18fd93f-560e-4ced-8b50-bfbbf5278c31",
   "metadata": {},
   "outputs": [],
   "source": [
    "adata.obs['label'] = labels"
   ]
  },
  {
   "cell_type": "code",
   "execution_count": null,
   "id": "6c7fb31f-bac7-4e63-9406-c02c947c6e9a",
   "metadata": {},
   "outputs": [],
   "source": [
    "sc.pp.log1p(adata)"
   ]
  },
  {
   "cell_type": "code",
   "execution_count": null,
   "id": "254f0ae3-0a63-4874-884a-c2d3c49db8ae",
   "metadata": {},
   "outputs": [],
   "source": [
    "%%time\n",
    "adata = cellphonedb(adata, groupby='label', n_perms=1000)"
   ]
  },
  {
   "cell_type": "code",
   "execution_count": null,
   "id": "c823a041-4775-4d50-b0da-e7dea5bbf295",
   "metadata": {},
   "outputs": [],
   "source": []
  },
  {
   "cell_type": "code",
   "execution_count": null,
   "id": "90791727-f674-4689-8c9c-34ed441c70b9",
   "metadata": {},
   "outputs": [],
   "source": []
  },
  {
   "cell_type": "code",
   "execution_count": null,
   "id": "c92c76c4-5af2-4077-8c13-291d0456e3d8",
   "metadata": {},
   "outputs": [],
   "source": []
  },
  {
   "cell_type": "code",
   "execution_count": null,
   "id": "487ce8fb-831c-46f4-ab34-b0c82e7297ce",
   "metadata": {},
   "outputs": [],
   "source": []
  },
  {
   "cell_type": "code",
   "execution_count": null,
   "id": "72aed386-0871-4e94-a736-0cccd36e146a",
   "metadata": {},
   "outputs": [],
   "source": []
  },
  {
   "cell_type": "code",
   "execution_count": null,
   "id": "23af3d2b-9de0-4d57-9246-25dfdcb55f6f",
   "metadata": {},
   "outputs": [],
   "source": []
  },
  {
   "cell_type": "markdown",
   "id": "9de09e66-10e4-4958-872c-f526da9ea99a",
   "metadata": {},
   "source": [
    "Calculate means_sums for NATMI"
   ]
  },
  {
   "cell_type": "code",
   "execution_count": null,
   "id": "9550bd42-7277-49cc-8327-760e9de11a9e",
   "metadata": {},
   "outputs": [],
   "source": [
    "def _sum_means(lr_res, what, on):\n",
    "    return lr_res.join(lr_res.groupby(on)[what].sum(), on=on, rsuffix='_sums')"
   ]
  },
  {
   "cell_type": "code",
   "execution_count": null,
   "id": "7dc0a1b9-8cf7-4c5e-bc00-c2120688f332",
   "metadata": {},
   "outputs": [],
   "source": [
    "lr_res = _sum_means(lr_res, what='ligand_means', on=['ligand_complex', 'receptor_complex', 'target'])\n",
    "lr_res = _sum_means(lr_res, what='receptor_means', on=['ligand_complex', 'receptor_complex', 'source'])"
   ]
  },
  {
   "cell_type": "code",
   "execution_count": null,
   "id": "c3c7ee5c-eb77-4d85-8ec6-937310f57c68",
   "metadata": {},
   "outputs": [],
   "source": [
    "lr_res"
   ]
  },
  {
   "cell_type": "code",
   "execution_count": null,
   "id": "f43b6354-5112-4745-9ca9-0333db52e8e7",
   "metadata": {},
   "outputs": [],
   "source": []
  },
  {
   "cell_type": "code",
   "execution_count": null,
   "id": "0ae3dac3-1d23-46d8-9cc8-5535869a9132",
   "metadata": {},
   "outputs": [],
   "source": []
  },
  {
   "cell_type": "markdown",
   "id": "798da5c0-6810-47de-a870-2817d06d4c23",
   "metadata": {},
   "source": [
    "NATMI fun"
   ]
  },
  {
   "cell_type": "markdown",
   "id": "289c1f51-58b7-4837-82dc-49f83f04cf03",
   "metadata": {},
   "source": [
    "Both magnitude and specificity! Returned to unpack!!!"
   ]
  },
  {
   "cell_type": "code",
   "execution_count": null,
   "id": "85c847f1-2462-4bf2-ac61-bb52f45e7bcd",
   "metadata": {},
   "outputs": [],
   "source": []
  },
  {
   "cell_type": "code",
   "execution_count": null,
   "id": "abe9762f-2491-46d8-88eb-143750d83fe6",
   "metadata": {},
   "outputs": [],
   "source": [
    "lr_res[['expr_prod','spec_weight']] = lr_res.apply(_natmi_score, axis=1, result_type=\"expand\")"
   ]
  },
  {
   "cell_type": "code",
   "execution_count": null,
   "id": "62988853-9c20-4fa6-a0fc-1bbb75e17026",
   "metadata": {},
   "outputs": [],
   "source": [
    "lr_res[lr_res['edge_specificity']==1].sort_values('ligand')"
   ]
  },
  {
   "cell_type": "code",
   "execution_count": null,
   "id": "49ce11cf-603c-405d-9045-6541ff13c355",
   "metadata": {},
   "outputs": [],
   "source": []
  },
  {
   "cell_type": "code",
   "execution_count": null,
   "id": "da9a4e47-86aa-438c-9198-5ed0ff85b542",
   "metadata": {},
   "outputs": [],
   "source": []
  },
  {
   "cell_type": "code",
   "execution_count": null,
   "id": "a10d9a48-c50b-413d-a56c-5484a9ba6e99",
   "metadata": {},
   "outputs": [],
   "source": []
  },
  {
   "cell_type": "code",
   "execution_count": null,
   "id": "c26f6257-50f4-451b-bb01-9b7a64ced5b5",
   "metadata": {},
   "outputs": [],
   "source": []
  },
  {
   "cell_type": "code",
   "execution_count": null,
   "id": "9960bcad-69b4-4950-b6b0-523c15fc2dfa",
   "metadata": {},
   "outputs": [],
   "source": []
  },
  {
   "cell_type": "markdown",
   "id": "c4586fde-464c-4867-86d1-1ce1feadf798",
   "metadata": {},
   "source": [
    "#### LIANA PIPE LINE BY LINE"
   ]
  },
  {
   "cell_type": "code",
   "execution_count": null,
   "id": "edb1a040-d1e1-4a0b-b973-02be0bb8cd61",
   "metadata": {},
   "outputs": [],
   "source": [
    "# I get this from the score object\n",
    "_complex_cols = ['ligand_means', 'receptor_means']\n",
    "# change to full list and move to _var\n",
    "_add_cols = ['ligand', 'receptor',\n",
    "             'ligand_means_sums', 'receptor_means_sums',\n",
    "             'ligand_zscores', 'receptor_zscores',\n",
    "             'ligand_logfoldchanges', 'receptor_logfoldchanges',\n",
    "             'ligand_logfc', 'receptor_logfc'\n",
    "             'mat_mean',\n",
    "             ]\n",
    "\n",
    "_key_cols = ['source', 'target', 'ligand_complex', 'receptor_complex']"
   ]
  },
  {
   "cell_type": "code",
   "execution_count": null,
   "id": "677ce5db-7b4e-4727-880c-2715dde979a7",
   "metadata": {},
   "outputs": [],
   "source": [
    "from liana.utils.pre import check_adata, check_if_covered, format_vars, filter_resource\n",
    "from liana.resource import select_resource\n",
    "from liana.resource.select_resource import explode_complexes\n",
    "from liana.steady.liana_pipe import _get_lr\n",
    "from liana.utils.reassemble_complexes import reassemble_complexes\n",
    "from scipy.sparse import csr_matrix\n",
    "from liana.steady._permutations import get_means_perms"
   ]
  },
  {
   "cell_type": "code",
   "execution_count": null,
   "id": "66ba6d05-d067-4558-a879-87394a6d866a",
   "metadata": {},
   "outputs": [],
   "source": []
  },
  {
   "cell_type": "markdown",
   "id": "e5f74ea3-9847-43e3-bd9b-cb1c312520ee",
   "metadata": {},
   "source": [
    "I need to double check if every step makes sense, as I build unit tests!!!\n",
    "\n",
    "For example, are there any duplicated rows (source, target, ligand_complex, receptor_complex)\n",
    "\n",
    "Double check again if correct subunit is kept, etc"
   ]
  },
  {
   "cell_type": "code",
   "execution_count": null,
   "id": "a62b0165-a084-4979-9110-a18fc6da2c0e",
   "metadata": {},
   "outputs": [],
   "source": [
    "adata = check_adata(adata, True)"
   ]
  },
  {
   "cell_type": "code",
   "execution_count": null,
   "id": "67ad1ece-1a1a-4bf9-b284-25764d7cb858",
   "metadata": {},
   "outputs": [],
   "source": []
  },
  {
   "cell_type": "code",
   "execution_count": null,
   "id": "19df65eb-c6d2-4866-bc22-9b320deae6e1",
   "metadata": {},
   "outputs": [],
   "source": [
    "# Define idents col name\n",
    "adata.obs.label = adata.obs[groupby]"
   ]
  },
  {
   "cell_type": "code",
   "execution_count": null,
   "id": "ff3885f0-ba02-43ae-ad3b-c9bbb742e196",
   "metadata": {},
   "outputs": [],
   "source": []
  },
  {
   "cell_type": "markdown",
   "id": "4ccdd879-64e2-4339-9b00-0adcea5edfbc",
   "metadata": {},
   "source": [
    "Load resource"
   ]
  },
  {
   "cell_type": "code",
   "execution_count": null,
   "id": "a2c2c0b2-d792-45d2-9d2a-35daa9f16842",
   "metadata": {},
   "outputs": [],
   "source": [
    "resource = select_resource(resource_name='consensus')"
   ]
  },
  {
   "cell_type": "code",
   "execution_count": null,
   "id": "8252d9a7-5445-4d61-8ed8-ab34af871ccb",
   "metadata": {},
   "outputs": [],
   "source": [
    "# Decomplexify\n",
    "resource = explode_complexes(resource)"
   ]
  },
  {
   "cell_type": "code",
   "execution_count": null,
   "id": "4a9a67d4-1e21-4a58-9965-ffc87aed78d2",
   "metadata": {},
   "outputs": [],
   "source": [
    "# Filter Resource\n",
    "resource = filter_resource(resource, adata.var_names)"
   ]
  },
  {
   "cell_type": "code",
   "execution_count": null,
   "id": "cdd684e0-9b50-4c62-8b6b-6f1ff1b24a4e",
   "metadata": {},
   "outputs": [],
   "source": []
  },
  {
   "cell_type": "markdown",
   "id": "d7f020fe-ce4e-43e5-a65a-c500256e38b6",
   "metadata": {},
   "source": [
    "Create entities"
   ]
  },
  {
   "cell_type": "code",
   "execution_count": null,
   "id": "f0af1ebc-c5d4-4fd1-9c95-45cf6081cfcf",
   "metadata": {},
   "outputs": [],
   "source": [
    "entities = np.union1d(np.unique(resource[\"ligand\"]), np.unique(resource[\"receptor\"]))"
   ]
  },
  {
   "cell_type": "code",
   "execution_count": null,
   "id": "bb4303e7-9e8b-4d07-b91a-ce70f4a3da0b",
   "metadata": {},
   "outputs": [],
   "source": []
  },
  {
   "cell_type": "markdown",
   "id": "777dd11b-34db-4cc9-b7d4-3e7600bbbd8e",
   "metadata": {},
   "source": [
    "Check overlap between resource and adata"
   ]
  },
  {
   "cell_type": "code",
   "execution_count": null,
   "id": "d2d31c65-84a2-4bd6-a034-0a64935d063d",
   "metadata": {},
   "outputs": [],
   "source": [
    "check_if_covered(entities, adata.var_keys)"
   ]
  },
  {
   "cell_type": "code",
   "execution_count": null,
   "id": "45763bd4-cb43-4500-a912-b2eaa6ae653e",
   "metadata": {},
   "outputs": [],
   "source": []
  },
  {
   "cell_type": "markdown",
   "id": "2b70f1f0-af71-4348-95bc-bfcd16bf7ca7",
   "metadata": {},
   "source": [
    "Get global mean for SCA before filtering"
   ]
  },
  {
   "cell_type": "code",
   "execution_count": null,
   "id": "46bb2ab6-c9e1-4d4d-b33f-bf81cbd88525",
   "metadata": {},
   "outputs": [],
   "source": [
    "if 'mat_mean' in _add_cols: # SHOULD BE METHOD NAME!\n",
    "    adata.uns['mat_mean'] = np.mean(adata.X)"
   ]
  },
  {
   "cell_type": "code",
   "execution_count": null,
   "id": "0773f2a3-862d-4ac5-8299-84c5e6fef47f",
   "metadata": {},
   "outputs": [],
   "source": []
  },
  {
   "cell_type": "code",
   "execution_count": null,
   "id": "b37b2a52-7e37-4be1-ac32-457690f5bb54",
   "metadata": {},
   "outputs": [],
   "source": [
    "# Filter to only include the relevant genes\n",
    "adata = adata[:,np.intersect1d(entities, adata.var.index)]\n",
    "adata"
   ]
  },
  {
   "cell_type": "code",
   "execution_count": null,
   "id": "33212579-8762-4c83-b7ef-dc2fd8875bdb",
   "metadata": {},
   "outputs": [],
   "source": []
  },
  {
   "cell_type": "markdown",
   "id": "86cf9a4c-1693-4470-99f8-02bd60beb367",
   "metadata": {
    "tags": []
   },
   "source": [
    "Get Stats"
   ]
  },
  {
   "cell_type": "code",
   "execution_count": null,
   "id": "27042d96-a874-457e-ad75-3c312b73301b",
   "metadata": {},
   "outputs": [],
   "source": [
    "lr_res = _get_lr(adata, resource, key_cols + _complex_cols + _add_cols, de_method)"
   ]
  },
  {
   "cell_type": "code",
   "execution_count": null,
   "id": "9afdd672-e818-410e-84e0-6fb9ba6fd6be",
   "metadata": {},
   "outputs": [],
   "source": [
    "lr_res"
   ]
  },
  {
   "cell_type": "code",
   "execution_count": null,
   "id": "bddca5f6-6913-49f0-8c06-630677a6ba45",
   "metadata": {},
   "outputs": [],
   "source": []
  },
  {
   "cell_type": "code",
   "execution_count": null,
   "id": "e6bf23dc-c6eb-4ac3-aa8f-f3ce27d910d8",
   "metadata": {},
   "outputs": [],
   "source": []
  },
  {
   "cell_type": "code",
   "execution_count": null,
   "id": "795ae60d-921c-4f2c-98fc-52f33d09f26e",
   "metadata": {},
   "outputs": [],
   "source": []
  },
  {
   "cell_type": "markdown",
   "id": "6d1326e7-4437-40ed-9d65-c93ef5c1e33d",
   "metadata": {},
   "source": [
    "Recomplexify"
   ]
  },
  {
   "cell_type": "code",
   "execution_count": null,
   "id": "2e39a9e4-77ae-4e2b-ab0b-579d508f1347",
   "metadata": {},
   "outputs": [],
   "source": [
    "# If I want to implement anything else but the min as complex policy, I would need to change this:\n",
    "# temp = temp[[x==\"INHBA_INHBB\" for x in temp['ligand_complex']]].sort_values('receptor_complex')\n",
    "# temp = temp[[x==\"ACVR1B_ACVR2A\" for x in temp['receptor_complex']]]"
   ]
  },
  {
   "cell_type": "code",
   "execution_count": null,
   "id": "a78ea33f-4eca-47ef-bca1-af01ca844810",
   "metadata": {},
   "outputs": [],
   "source": [
    "lr_res = reassemble_complexes(lr_res, _key_cols, _complex_cols)"
   ]
  },
  {
   "cell_type": "code",
   "execution_count": null,
   "id": "db1b04d4-f354-43a1-bf92-2bc84556e7ba",
   "metadata": {},
   "outputs": [],
   "source": [
    "lr_res"
   ]
  },
  {
   "cell_type": "code",
   "execution_count": null,
   "id": "13246735-7446-41f9-b4d2-ee84d7514ead",
   "metadata": {},
   "outputs": [],
   "source": []
  },
  {
   "cell_type": "code",
   "execution_count": null,
   "id": "a0911c89-4141-4449-aaba-5d08be4ed2de",
   "metadata": {},
   "outputs": [],
   "source": []
  },
  {
   "cell_type": "code",
   "execution_count": null,
   "id": "45209cd9-4cd1-4a8c-879a-f681bf92210b",
   "metadata": {},
   "outputs": [],
   "source": []
  },
  {
   "cell_type": "markdown",
   "id": "efbeae9b-4df7-42ca-9b2c-9a1e7bedba08",
   "metadata": {},
   "source": [
    "### SCORES"
   ]
  },
  {
   "cell_type": "code",
   "execution_count": null,
   "id": "1061bfc5-ddfa-46dc-a39c-39e6042b215f",
   "metadata": {},
   "outputs": [],
   "source": [
    "from liana.steady.Method import Method, MethodMeta\n",
    "from liana.steady.scores.cellphonedb import _cpdb_score"
   ]
  },
  {
   "cell_type": "code",
   "execution_count": null,
   "id": "675c2240-c993-4fdd-92da-7d2ed4ee0228",
   "metadata": {},
   "outputs": [],
   "source": []
  },
  {
   "cell_type": "markdown",
   "id": "941603a4-9eaf-4bcd-a8b8-4f6a6574ebe5",
   "metadata": {},
   "source": [
    "CELLPHONEDB"
   ]
  },
  {
   "cell_type": "code",
   "execution_count": null,
   "id": "4284a51c-55a5-47b4-ab9b-ba3b3ba93aac",
   "metadata": {},
   "outputs": [],
   "source": [
    "_cellphonedb = MethodMeta(method_name = \"cellphonedb\",\n",
    "                          complex_cols = ['ligand_means', 'receptor_means'], \n",
    "                          add_cols = ['ligand', 'receptor'],\n",
    "                          fun = _cpdb_score,\n",
    "                          magnitude = 'lr_means',\n",
    "                          specificity = 'pvals',\n",
    "                          permute = True,\n",
    "                          reference = 'Efremova et al., 2020')"
   ]
  },
  {
   "cell_type": "code",
   "execution_count": null,
   "id": "79fc87a0-4d92-4adc-a3a3-e611c7f3b3b8",
   "metadata": {},
   "outputs": [],
   "source": [
    "cellphonedb = Method(_SCORE=_cellphonedb)"
   ]
  },
  {
   "cell_type": "code",
   "execution_count": null,
   "id": "d2d39d47-ae35-4109-b413-52d1caadda1c",
   "metadata": {},
   "outputs": [],
   "source": [
    "adata = cellphonedb(adata, groupby, seed=666)"
   ]
  },
  {
   "cell_type": "code",
   "execution_count": null,
   "id": "25e905eb-af83-4259-8e18-6b31ebb543c5",
   "metadata": {},
   "outputs": [],
   "source": [
    "adata.uns['liana_res']"
   ]
  },
  {
   "cell_type": "code",
   "execution_count": null,
   "id": "e7801646-121c-413a-be5a-aef31b5b35ee",
   "metadata": {},
   "outputs": [],
   "source": []
  },
  {
   "cell_type": "code",
   "execution_count": null,
   "id": "fd6d8272-289c-42c5-9f96-7ba76587b80b",
   "metadata": {},
   "outputs": [],
   "source": []
  },
  {
   "cell_type": "code",
   "execution_count": null,
   "id": "49686ceb-dd20-48ee-a0ad-20ac3646a809",
   "metadata": {},
   "outputs": [],
   "source": []
  },
  {
   "cell_type": "markdown",
   "id": "a67d9786-388a-4c8d-b868-5539a3602f5c",
   "metadata": {},
   "source": [
    "logFC re-implement"
   ]
  },
  {
   "cell_type": "markdown",
   "id": "194266ec-e8cf-4f65-963f-a3f9e2939f67",
   "metadata": {},
   "source": [
    "Magnitude as None"
   ]
  },
  {
   "cell_type": "code",
   "execution_count": null,
   "id": "c4f096b2-d4bd-4581-8f41-4774f14c6f0a",
   "metadata": {},
   "outputs": [],
   "source": []
  },
  {
   "cell_type": "code",
   "execution_count": null,
   "id": "0201fba8-13b0-4923-9539-fd1cbe27e2e0",
   "metadata": {},
   "outputs": [],
   "source": []
  },
  {
   "cell_type": "code",
   "execution_count": null,
   "id": "0699d6ec-68cb-4b49-84c0-d2722d40e90e",
   "metadata": {},
   "outputs": [],
   "source": [
    "lr_res['logfc'] = lr_res[['ligand_logfoldchanges', 'receptor_logfoldchanges']].mean(1)"
   ]
  },
  {
   "cell_type": "code",
   "execution_count": null,
   "id": "51064b93-983f-4c16-adb9-ca54a2e1cb62",
   "metadata": {},
   "outputs": [],
   "source": []
  },
  {
   "cell_type": "code",
   "execution_count": null,
   "id": "b3482e1c-c433-4712-bf1d-ba0494c0a314",
   "metadata": {},
   "outputs": [],
   "source": [
    "lr_res.sort_values(by='logfc', key=abs, ascending=False)"
   ]
  },
  {
   "cell_type": "code",
   "execution_count": null,
   "id": "fab2e516-7f93-4850-9907-2deaa2650c73",
   "metadata": {},
   "outputs": [],
   "source": []
  },
  {
   "cell_type": "markdown",
   "id": "7fb95f6b-db28-494b-83f8-de6b7c9b2048",
   "metadata": {},
   "source": [
    "Re-implement Connectome"
   ]
  },
  {
   "cell_type": "markdown",
   "id": "e50d075c-f537-4677-b1b0-e2837e29a5f8",
   "metadata": {},
   "source": [
    "Both Specificity and Magnitude"
   ]
  },
  {
   "cell_type": "code",
   "execution_count": null,
   "id": "a3d0a012-69e9-47c6-bb48-66641647cea8",
   "metadata": {},
   "outputs": [],
   "source": [
    "lr_res['edge_weight'] = lr_res[['ligand_zscores', 'receptor_zscores']].mean(1)"
   ]
  },
  {
   "cell_type": "code",
   "execution_count": null,
   "id": "c95a783e-52d8-44e8-b735-bbe54bef1972",
   "metadata": {},
   "outputs": [],
   "source": []
  }
 ],
 "metadata": {
  "kernelspec": {
   "display_name": "liana-py",
   "language": "python",
   "name": "liana-py"
  },
  "language_info": {
   "codemirror_mode": {
    "name": "ipython",
    "version": 3
   },
   "file_extension": ".py",
   "mimetype": "text/x-python",
   "name": "python",
   "nbconvert_exporter": "python",
   "pygments_lexer": "ipython3",
   "version": "3.8.8"
  }
 },
 "nbformat": 4,
 "nbformat_minor": 5
}
