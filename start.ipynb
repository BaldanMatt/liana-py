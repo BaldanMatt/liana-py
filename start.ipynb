{
 "cells": [
  {
   "cell_type": "code",
   "execution_count": 1,
   "id": "4a6561fa-18d6-459b-a010-51b7d9fae1d4",
   "metadata": {},
   "outputs": [],
   "source": [
    "import scanpy as sc\n",
    "import pandas as pd\n",
    "import numpy as np"
   ]
  },
  {
   "cell_type": "code",
   "execution_count": null,
   "id": "d333ea8e-aeca-4746-887b-33ec6b6b1b17",
   "metadata": {},
   "outputs": [],
   "source": []
  },
  {
   "cell_type": "markdown",
   "id": "f65dcb30-df9e-4ab9-a2f5-b2cb30ba58c0",
   "metadata": {},
   "source": [
    "Load anndata"
   ]
  },
  {
   "cell_type": "code",
   "execution_count": 2,
   "id": "3be28d50-be89-46ae-b3ec-e8878844a0ab",
   "metadata": {},
   "outputs": [],
   "source": [
    "adata = sc.read_h5ad(\"test.h5ad\")"
   ]
  },
  {
   "cell_type": "code",
   "execution_count": 3,
   "id": "72dce8c7-08ec-473c-be56-7eadb814c846",
   "metadata": {},
   "outputs": [],
   "source": [
    "# lognorm should be the default (expected)\n",
    "adata.X = adata.layers['logcounts']"
   ]
  },
  {
   "cell_type": "code",
   "execution_count": null,
   "id": "8ebb9f68-0009-42c0-afe1-4a2963664aa1",
   "metadata": {},
   "outputs": [],
   "source": []
  },
  {
   "cell_type": "markdown",
   "id": "04043a54-1480-41be-b134-b55911ff9027",
   "metadata": {},
   "source": [
    "Parameters"
   ]
  },
  {
   "cell_type": "code",
   "execution_count": 4,
   "id": "8749bb33-5c01-49b3-8fe1-cb8b167a8b28",
   "metadata": {},
   "outputs": [],
   "source": [
    "groupby='label'\n",
    "de_method='wilcoxon'\n",
    "resource_name = 'consensus'\n",
    "complex_policy = 'min'\n",
    "key_cols = ['source', 'target', 'ligand_complex', 'receptor_complex']\n",
    "verbose = False"
   ]
  },
  {
   "cell_type": "code",
   "execution_count": 5,
   "id": "6581703e-86e5-4f50-ab07-2f1791be9e67",
   "metadata": {},
   "outputs": [],
   "source": [
    "# only relevant if perms are done\n",
    "n_perms = 1000\n",
    "seed = 69"
   ]
  },
  {
   "cell_type": "code",
   "execution_count": null,
   "id": "9dabcf57-ad50-4fa5-a102-408b893cf6d7",
   "metadata": {},
   "outputs": [],
   "source": []
  },
  {
   "cell_type": "markdown",
   "id": "309ef0d7-3696-485d-a169-743774b2e2a4",
   "metadata": {},
   "source": [
    "Run LIANA PIPE"
   ]
  },
  {
   "cell_type": "code",
   "execution_count": 6,
   "id": "101f0bdd-c6a0-400b-b64e-b6ba21df9ae5",
   "metadata": {},
   "outputs": [],
   "source": [
    "from liana import liana_pipe"
   ]
  },
  {
   "cell_type": "code",
   "execution_count": 7,
   "id": "1bdd36ab-1ce6-4842-8b8f-d9a5f74ac660",
   "metadata": {},
   "outputs": [
    {
     "name": "stderr",
     "output_type": "stream",
     "text": [
      "/home/dbdimitrov/anaconda3/lib/python3.8/site-packages/anndata/compat/_overloaded_dict.py:106: ImplicitModificationWarning: Trying to modify attribute `._uns` of view, initializing view as actual.\n",
      "  self.data[key] = value\n",
      "/home/dbdimitrov/anaconda3/lib/python3.8/contextlib.py:120: FutureWarning: X.dtype being converted to np.float32 from float64. In the next version of anndata (0.9) conversion will not be automatic. Pass dtype explicitly to avoid this warning. Pass `AnnData(X, dtype=X.dtype, ...)` to get the future behavour.\n",
      "  next(self.gen)\n"
     ]
    }
   ],
   "source": [
    "lr_res = liana_pipe(adata=adata, \n",
    "                    groupby=groupby, \n",
    "                    resource_name=resource_name,\n",
    "                    de_method=de_method,\n",
    "                    n_perms=n_perms,\n",
    "                    seed=seed,\n",
    "                    verbose=verbose,\n",
    "                    _key_cols=key_cols,\n",
    "                    resource=None)"
   ]
  },
  {
   "cell_type": "code",
   "execution_count": 8,
   "id": "18e522eb-d6b2-4dab-acfd-9877065fb167",
   "metadata": {},
   "outputs": [
    {
     "data": {
      "text/html": [
       "<div>\n",
       "<style scoped>\n",
       "    .dataframe tbody tr th:only-of-type {\n",
       "        vertical-align: middle;\n",
       "    }\n",
       "\n",
       "    .dataframe tbody tr th {\n",
       "        vertical-align: top;\n",
       "    }\n",
       "\n",
       "    .dataframe thead th {\n",
       "        text-align: right;\n",
       "    }\n",
       "</style>\n",
       "<table border=\"1\" class=\"dataframe\">\n",
       "  <thead>\n",
       "    <tr style=\"text-align: right;\">\n",
       "      <th></th>\n",
       "      <th>ligand</th>\n",
       "      <th>ligand_complex</th>\n",
       "      <th>ligand_logfc</th>\n",
       "      <th>ligand_means</th>\n",
       "      <th>ligand_zscores</th>\n",
       "      <th>mat_mean</th>\n",
       "      <th>receptor</th>\n",
       "      <th>receptor_complex</th>\n",
       "      <th>receptor_logfc</th>\n",
       "      <th>receptor_means</th>\n",
       "      <th>receptor_zscores</th>\n",
       "      <th>source</th>\n",
       "      <th>target</th>\n",
       "      <th>ligand_means_sums</th>\n",
       "      <th>receptor_means_sums</th>\n",
       "    </tr>\n",
       "  </thead>\n",
       "  <tbody>\n",
       "    <tr>\n",
       "      <th>2288</th>\n",
       "      <td>CSF1</td>\n",
       "      <td>CSF1</td>\n",
       "      <td>-0.044315</td>\n",
       "      <td>0.000000</td>\n",
       "      <td>-0.105409</td>\n",
       "      <td>0.199056</td>\n",
       "      <td>CSF2RA</td>\n",
       "      <td>CSF2RA</td>\n",
       "      <td>-0.055999</td>\n",
       "      <td>0.000000</td>\n",
       "      <td>-0.105409</td>\n",
       "      <td>CD8 T</td>\n",
       "      <td>CD8 T</td>\n",
       "      <td>0.035162</td>\n",
       "      <td>0.040544</td>\n",
       "    </tr>\n",
       "    <tr>\n",
       "      <th>2096</th>\n",
       "      <td>BTLA</td>\n",
       "      <td>BTLA</td>\n",
       "      <td>-0.048226</td>\n",
       "      <td>0.000000</td>\n",
       "      <td>-0.105409</td>\n",
       "      <td>0.199056</td>\n",
       "      <td>TNFRSF14</td>\n",
       "      <td>TNFRSF14</td>\n",
       "      <td>-0.520295</td>\n",
       "      <td>0.294117</td>\n",
       "      <td>-0.250196</td>\n",
       "      <td>CD8 T</td>\n",
       "      <td>CD8 T</td>\n",
       "      <td>0.037057</td>\n",
       "      <td>1.424242</td>\n",
       "    </tr>\n",
       "    <tr>\n",
       "      <th>2087</th>\n",
       "      <td>IL18BP</td>\n",
       "      <td>IL18BP</td>\n",
       "      <td>-0.132456</td>\n",
       "      <td>0.000000</td>\n",
       "      <td>-0.145695</td>\n",
       "      <td>0.199056</td>\n",
       "      <td>IL6R</td>\n",
       "      <td>IL6R</td>\n",
       "      <td>-0.068199</td>\n",
       "      <td>0.000000</td>\n",
       "      <td>-0.105409</td>\n",
       "      <td>CD8 T</td>\n",
       "      <td>CD8 T</td>\n",
       "      <td>0.087242</td>\n",
       "      <td>0.045404</td>\n",
       "    </tr>\n",
       "    <tr>\n",
       "      <th>2086</th>\n",
       "      <td>IL6</td>\n",
       "      <td>IL6</td>\n",
       "      <td>-0.315346</td>\n",
       "      <td>0.000000</td>\n",
       "      <td>-0.149471</td>\n",
       "      <td>0.199056</td>\n",
       "      <td>IL6ST</td>\n",
       "      <td>IL6R_IL6ST</td>\n",
       "      <td>-0.121447</td>\n",
       "      <td>0.000000</td>\n",
       "      <td>-0.146079</td>\n",
       "      <td>CD8 T</td>\n",
       "      <td>CD8 T</td>\n",
       "      <td>0.140459</td>\n",
       "      <td>0.083360</td>\n",
       "    </tr>\n",
       "    <tr>\n",
       "      <th>2085</th>\n",
       "      <td>IL6</td>\n",
       "      <td>IL6</td>\n",
       "      <td>-0.315346</td>\n",
       "      <td>0.000000</td>\n",
       "      <td>-0.149471</td>\n",
       "      <td>0.199056</td>\n",
       "      <td>IL6R</td>\n",
       "      <td>IL6R_IL6ST</td>\n",
       "      <td>-0.068199</td>\n",
       "      <td>0.000000</td>\n",
       "      <td>-0.105409</td>\n",
       "      <td>CD8 T</td>\n",
       "      <td>CD8 T</td>\n",
       "      <td>0.140459</td>\n",
       "      <td>0.045404</td>\n",
       "    </tr>\n",
       "    <tr>\n",
       "      <th>...</th>\n",
       "      <td>...</td>\n",
       "      <td>...</td>\n",
       "      <td>...</td>\n",
       "      <td>...</td>\n",
       "      <td>...</td>\n",
       "      <td>...</td>\n",
       "      <td>...</td>\n",
       "      <td>...</td>\n",
       "      <td>...</td>\n",
       "      <td>...</td>\n",
       "      <td>...</td>\n",
       "      <td>...</td>\n",
       "      <td>...</td>\n",
       "      <td>...</td>\n",
       "      <td>...</td>\n",
       "    </tr>\n",
       "    <tr>\n",
       "      <th>1345</th>\n",
       "      <td>B2M</td>\n",
       "      <td>B2M</td>\n",
       "      <td>0.595277</td>\n",
       "      <td>5.810702</td>\n",
       "      <td>0.728883</td>\n",
       "      <td>0.199056</td>\n",
       "      <td>CD247</td>\n",
       "      <td>CD247</td>\n",
       "      <td>-2.154735</td>\n",
       "      <td>0.269538</td>\n",
       "      <td>-0.764050</td>\n",
       "      <td>NK</td>\n",
       "      <td>B</td>\n",
       "      <td>16.490938</td>\n",
       "      <td>3.277351</td>\n",
       "    </tr>\n",
       "    <tr>\n",
       "      <th>4178</th>\n",
       "      <td>B2M</td>\n",
       "      <td>B2M</td>\n",
       "      <td>0.595277</td>\n",
       "      <td>5.810702</td>\n",
       "      <td>0.728883</td>\n",
       "      <td>0.199056</td>\n",
       "      <td>CD3G</td>\n",
       "      <td>CD3G</td>\n",
       "      <td>-0.160309</td>\n",
       "      <td>0.196046</td>\n",
       "      <td>-0.106673</td>\n",
       "      <td>NK</td>\n",
       "      <td>NK</td>\n",
       "      <td>16.490938</td>\n",
       "      <td>0.797412</td>\n",
       "    </tr>\n",
       "    <tr>\n",
       "      <th>4332</th>\n",
       "      <td>B2M</td>\n",
       "      <td>B2M</td>\n",
       "      <td>0.595277</td>\n",
       "      <td>5.810702</td>\n",
       "      <td>0.728883</td>\n",
       "      <td>0.199056</td>\n",
       "      <td>KLRC1</td>\n",
       "      <td>KLRC1</td>\n",
       "      <td>1.285116</td>\n",
       "      <td>0.642471</td>\n",
       "      <td>0.494169</td>\n",
       "      <td>NK</td>\n",
       "      <td>NK</td>\n",
       "      <td>16.490938</td>\n",
       "      <td>0.893647</td>\n",
       "    </tr>\n",
       "    <tr>\n",
       "      <th>2647</th>\n",
       "      <td>B2M</td>\n",
       "      <td>B2M</td>\n",
       "      <td>0.595277</td>\n",
       "      <td>5.810702</td>\n",
       "      <td>0.728883</td>\n",
       "      <td>0.199056</td>\n",
       "      <td>CD3D</td>\n",
       "      <td>CD3D</td>\n",
       "      <td>2.097606</td>\n",
       "      <td>2.190063</td>\n",
       "      <td>0.951525</td>\n",
       "      <td>NK</td>\n",
       "      <td>CD8 T</td>\n",
       "      <td>16.490938</td>\n",
       "      <td>3.070996</td>\n",
       "    </tr>\n",
       "    <tr>\n",
       "      <th>4333</th>\n",
       "      <td>B2M</td>\n",
       "      <td>B2M</td>\n",
       "      <td>0.595277</td>\n",
       "      <td>5.810702</td>\n",
       "      <td>0.728883</td>\n",
       "      <td>0.199056</td>\n",
       "      <td>KLRC2</td>\n",
       "      <td>KLRC2</td>\n",
       "      <td>0.097159</td>\n",
       "      <td>0.055034</td>\n",
       "      <td>0.078263</td>\n",
       "      <td>NK</td>\n",
       "      <td>NK</td>\n",
       "      <td>16.490938</td>\n",
       "      <td>0.108470</td>\n",
       "    </tr>\n",
       "  </tbody>\n",
       "</table>\n",
       "<p>4287 rows × 15 columns</p>\n",
       "</div>"
      ],
      "text/plain": [
       "      ligand ligand_complex  ligand_logfc  ligand_means  ligand_zscores  \\\n",
       "2288    CSF1           CSF1     -0.044315      0.000000       -0.105409   \n",
       "2096    BTLA           BTLA     -0.048226      0.000000       -0.105409   \n",
       "2087  IL18BP         IL18BP     -0.132456      0.000000       -0.145695   \n",
       "2086     IL6            IL6     -0.315346      0.000000       -0.149471   \n",
       "2085     IL6            IL6     -0.315346      0.000000       -0.149471   \n",
       "...      ...            ...           ...           ...             ...   \n",
       "1345     B2M            B2M      0.595277      5.810702        0.728883   \n",
       "4178     B2M            B2M      0.595277      5.810702        0.728883   \n",
       "4332     B2M            B2M      0.595277      5.810702        0.728883   \n",
       "2647     B2M            B2M      0.595277      5.810702        0.728883   \n",
       "4333     B2M            B2M      0.595277      5.810702        0.728883   \n",
       "\n",
       "      mat_mean  receptor receptor_complex  receptor_logfc  receptor_means  \\\n",
       "2288  0.199056    CSF2RA           CSF2RA       -0.055999        0.000000   \n",
       "2096  0.199056  TNFRSF14         TNFRSF14       -0.520295        0.294117   \n",
       "2087  0.199056      IL6R             IL6R       -0.068199        0.000000   \n",
       "2086  0.199056     IL6ST       IL6R_IL6ST       -0.121447        0.000000   \n",
       "2085  0.199056      IL6R       IL6R_IL6ST       -0.068199        0.000000   \n",
       "...        ...       ...              ...             ...             ...   \n",
       "1345  0.199056     CD247            CD247       -2.154735        0.269538   \n",
       "4178  0.199056      CD3G             CD3G       -0.160309        0.196046   \n",
       "4332  0.199056     KLRC1            KLRC1        1.285116        0.642471   \n",
       "2647  0.199056      CD3D             CD3D        2.097606        2.190063   \n",
       "4333  0.199056     KLRC2            KLRC2        0.097159        0.055034   \n",
       "\n",
       "      receptor_zscores source target  ligand_means_sums  receptor_means_sums  \n",
       "2288         -0.105409  CD8 T  CD8 T           0.035162             0.040544  \n",
       "2096         -0.250196  CD8 T  CD8 T           0.037057             1.424242  \n",
       "2087         -0.105409  CD8 T  CD8 T           0.087242             0.045404  \n",
       "2086         -0.146079  CD8 T  CD8 T           0.140459             0.083360  \n",
       "2085         -0.105409  CD8 T  CD8 T           0.140459             0.045404  \n",
       "...                ...    ...    ...                ...                  ...  \n",
       "1345         -0.764050     NK      B          16.490938             3.277351  \n",
       "4178         -0.106673     NK     NK          16.490938             0.797412  \n",
       "4332          0.494169     NK     NK          16.490938             0.893647  \n",
       "2647          0.951525     NK  CD8 T          16.490938             3.070996  \n",
       "4333          0.078263     NK     NK          16.490938             0.108470  \n",
       "\n",
       "[4287 rows x 15 columns]"
      ]
     },
     "execution_count": 8,
     "metadata": {},
     "output_type": "execute_result"
    }
   ],
   "source": [
    "lr_res.sort_values('ligand_means')"
   ]
  },
  {
   "cell_type": "code",
   "execution_count": null,
   "id": "bb98ac72-17a6-406e-b72d-dd2111dca2f5",
   "metadata": {},
   "outputs": [],
   "source": []
  },
  {
   "cell_type": "code",
   "execution_count": null,
   "id": "7f3835c3-72fe-40c5-9b17-a2efc0bba160",
   "metadata": {},
   "outputs": [],
   "source": []
  },
  {
   "cell_type": "markdown",
   "id": "7c12716f-6115-4c36-8751-0c8f45b771a2",
   "metadata": {},
   "source": [
    "Consensus"
   ]
  },
  {
   "cell_type": "code",
   "execution_count": 9,
   "id": "70668179-5ff8-4036-9e01-6fe252323499",
   "metadata": {},
   "outputs": [],
   "source": [
    "from liana.steady.scores.consensus import consensus"
   ]
  },
  {
   "cell_type": "code",
   "execution_count": 10,
   "id": "5ac91949-ffcd-4aaf-a577-69723d08e732",
   "metadata": {},
   "outputs": [],
   "source": [
    "from functools import reduce\n",
    "from scipy.stats import rankdata, beta"
   ]
  },
  {
   "cell_type": "code",
   "execution_count": 11,
   "id": "3735af80-8007-48a3-bc11-070dac65972e",
   "metadata": {},
   "outputs": [],
   "source": [
    "from liana.steady import cellphonedb, natmi, connectome, logfc, singlecellsignalr as sca"
   ]
  },
  {
   "cell_type": "code",
   "execution_count": 12,
   "id": "f5cb53cf-9f76-4a02-bcca-20c96da69882",
   "metadata": {},
   "outputs": [],
   "source": [
    "from liana.steady.aggregate import _robust_rank_aggregate, _rank_aggregate"
   ]
  },
  {
   "cell_type": "code",
   "execution_count": null,
   "id": "04e1a887-6be7-4506-b21e-da090e1f2804",
   "metadata": {},
   "outputs": [],
   "source": []
  },
  {
   "cell_type": "code",
   "execution_count": 13,
   "id": "d37bc726-c1a0-40ca-b6bc-a12b50bb832e",
   "metadata": {},
   "outputs": [],
   "source": [
    "_methods = [cellphonedb, connectome, logfc, natmi, sca]"
   ]
  },
  {
   "cell_type": "code",
   "execution_count": 14,
   "id": "3e434926-0352-4865-90e9-745c6a566491",
   "metadata": {},
   "outputs": [
    {
     "name": "stderr",
     "output_type": "stream",
     "text": [
      "/home/dbdimitrov/anaconda3/lib/python3.8/site-packages/anndata/compat/_overloaded_dict.py:106: ImplicitModificationWarning: Trying to modify attribute `._uns` of view, initializing view as actual.\n",
      "  self.data[key] = value\n",
      "/home/dbdimitrov/anaconda3/lib/python3.8/contextlib.py:120: FutureWarning: X.dtype being converted to np.float32 from float64. In the next version of anndata (0.9) conversion will not be automatic. Pass dtype explicitly to avoid this warning. Pass `AnnData(X, dtype=X.dtype, ...)` to get the future behavour.\n",
      "  next(self.gen)\n"
     ]
    },
    {
     "name": "stdout",
     "output_type": "stream",
     "text": [
      "CellPhoneDB\n",
      "Connectome\n",
      "log2FC\n",
      "NATMI\n",
      "SingleCellSignalR\n"
     ]
    }
   ],
   "source": [
    "adata = consensus(adata, groupby='label')"
   ]
  },
  {
   "cell_type": "code",
   "execution_count": 15,
   "id": "d42c0ca1-f2e2-4b26-a365-06fbd2614887",
   "metadata": {},
   "outputs": [
    {
     "data": {
      "text/html": [
       "<div>\n",
       "<style scoped>\n",
       "    .dataframe tbody tr th:only-of-type {\n",
       "        vertical-align: middle;\n",
       "    }\n",
       "\n",
       "    .dataframe tbody tr th {\n",
       "        vertical-align: top;\n",
       "    }\n",
       "\n",
       "    .dataframe thead th {\n",
       "        text-align: right;\n",
       "    }\n",
       "</style>\n",
       "<table border=\"1\" class=\"dataframe\">\n",
       "  <thead>\n",
       "    <tr style=\"text-align: right;\">\n",
       "      <th></th>\n",
       "      <th>source</th>\n",
       "      <th>target</th>\n",
       "      <th>ligand_complex</th>\n",
       "      <th>receptor_complex</th>\n",
       "      <th>lr_means</th>\n",
       "      <th>pvals</th>\n",
       "      <th>expr_prod</th>\n",
       "      <th>scaled_weight</th>\n",
       "      <th>lr_logfc</th>\n",
       "      <th>expr_prod_duplicated</th>\n",
       "      <th>spec_weight</th>\n",
       "      <th>lrscore</th>\n",
       "      <th>ranked_magnitude</th>\n",
       "      <th>ranked_specificity</th>\n",
       "      <th>ranked_steady</th>\n",
       "    </tr>\n",
       "  </thead>\n",
       "  <tbody>\n",
       "    <tr>\n",
       "      <th>1589</th>\n",
       "      <td>B</td>\n",
       "      <td>CD8 T</td>\n",
       "      <td>HLA-DPB1</td>\n",
       "      <td>LAG3</td>\n",
       "      <td>2.009922</td>\n",
       "      <td>0.0</td>\n",
       "      <td>2.556716</td>\n",
       "      <td>0.918130</td>\n",
       "      <td>2.194075</td>\n",
       "      <td>2.556716</td>\n",
       "      <td>0.623592</td>\n",
       "      <td>0.889292</td>\n",
       "      <td>0.013062</td>\n",
       "      <td>0.000017</td>\n",
       "      <td>9.862040e-07</td>\n",
       "    </tr>\n",
       "    <tr>\n",
       "      <th>4009</th>\n",
       "      <td>NK</td>\n",
       "      <td>NK</td>\n",
       "      <td>SPON2</td>\n",
       "      <td>ITGB2</td>\n",
       "      <td>1.910813</td>\n",
       "      <td>0.0</td>\n",
       "      <td>3.563785</td>\n",
       "      <td>0.900085</td>\n",
       "      <td>2.289385</td>\n",
       "      <td>3.563785</td>\n",
       "      <td>0.514403</td>\n",
       "      <td>0.904614</td>\n",
       "      <td>0.023017</td>\n",
       "      <td>0.000017</td>\n",
       "      <td>9.862040e-07</td>\n",
       "    </tr>\n",
       "    <tr>\n",
       "      <th>1591</th>\n",
       "      <td>B</td>\n",
       "      <td>CD8 T</td>\n",
       "      <td>HLA-DRB5</td>\n",
       "      <td>LAG3</td>\n",
       "      <td>1.337915</td>\n",
       "      <td>0.0</td>\n",
       "      <td>1.492111</td>\n",
       "      <td>0.886746</td>\n",
       "      <td>2.004025</td>\n",
       "      <td>1.492111</td>\n",
       "      <td>0.723478</td>\n",
       "      <td>0.859876</td>\n",
       "      <td>0.083432</td>\n",
       "      <td>0.000017</td>\n",
       "      <td>9.862040e-07</td>\n",
       "    </tr>\n",
       "    <tr>\n",
       "      <th>1590</th>\n",
       "      <td>B</td>\n",
       "      <td>CD8 T</td>\n",
       "      <td>HLA-DPA1</td>\n",
       "      <td>LAG3</td>\n",
       "      <td>1.807187</td>\n",
       "      <td>0.0</td>\n",
       "      <td>2.235539</td>\n",
       "      <td>0.929952</td>\n",
       "      <td>2.229908</td>\n",
       "      <td>2.235539</td>\n",
       "      <td>0.649385</td>\n",
       "      <td>0.882509</td>\n",
       "      <td>0.032666</td>\n",
       "      <td>0.000017</td>\n",
       "      <td>9.862040e-07</td>\n",
       "    </tr>\n",
       "    <tr>\n",
       "      <th>1588</th>\n",
       "      <td>B</td>\n",
       "      <td>CD8 T</td>\n",
       "      <td>HLA-DQB1</td>\n",
       "      <td>LAG3</td>\n",
       "      <td>1.282576</td>\n",
       "      <td>0.0</td>\n",
       "      <td>1.404443</td>\n",
       "      <td>0.902600</td>\n",
       "      <td>2.235832</td>\n",
       "      <td>1.404443</td>\n",
       "      <td>0.808777</td>\n",
       "      <td>0.856189</td>\n",
       "      <td>0.088410</td>\n",
       "      <td>0.000017</td>\n",
       "      <td>9.862040e-07</td>\n",
       "    </tr>\n",
       "    <tr>\n",
       "      <th>...</th>\n",
       "      <td>...</td>\n",
       "      <td>...</td>\n",
       "      <td>...</td>\n",
       "      <td>...</td>\n",
       "      <td>...</td>\n",
       "      <td>...</td>\n",
       "      <td>...</td>\n",
       "      <td>...</td>\n",
       "      <td>...</td>\n",
       "      <td>...</td>\n",
       "      <td>...</td>\n",
       "      <td>...</td>\n",
       "      <td>...</td>\n",
       "      <td>...</td>\n",
       "      <td>...</td>\n",
       "    </tr>\n",
       "    <tr>\n",
       "      <th>1758</th>\n",
       "      <td>B</td>\n",
       "      <td>CD8 T</td>\n",
       "      <td>TNFSF13B</td>\n",
       "      <td>TNFRSF13C</td>\n",
       "      <td>1.000000</td>\n",
       "      <td>1.0</td>\n",
       "      <td>0.000000</td>\n",
       "      <td>-0.063277</td>\n",
       "      <td>-0.058579</td>\n",
       "      <td>0.000000</td>\n",
       "      <td>0.000000</td>\n",
       "      <td>0.000000</td>\n",
       "      <td>0.866153</td>\n",
       "      <td>1.000000</td>\n",
       "      <td>1.000000e+00</td>\n",
       "    </tr>\n",
       "    <tr>\n",
       "      <th>1759</th>\n",
       "      <td>B</td>\n",
       "      <td>CD8 T</td>\n",
       "      <td>TGFB1</td>\n",
       "      <td>TGFBR1_TGFBR2</td>\n",
       "      <td>1.000000</td>\n",
       "      <td>1.0</td>\n",
       "      <td>0.000000</td>\n",
       "      <td>-0.196001</td>\n",
       "      <td>-0.534732</td>\n",
       "      <td>0.000000</td>\n",
       "      <td>0.000000</td>\n",
       "      <td>0.000000</td>\n",
       "      <td>0.866153</td>\n",
       "      <td>1.000000</td>\n",
       "      <td>1.000000e+00</td>\n",
       "    </tr>\n",
       "    <tr>\n",
       "      <th>1760</th>\n",
       "      <td>B</td>\n",
       "      <td>CD8 T</td>\n",
       "      <td>TGFB1</td>\n",
       "      <td>ACVR1_TGFBR1_TGFBR2</td>\n",
       "      <td>1.000000</td>\n",
       "      <td>1.0</td>\n",
       "      <td>0.000000</td>\n",
       "      <td>-0.196001</td>\n",
       "      <td>-0.534732</td>\n",
       "      <td>0.000000</td>\n",
       "      <td>0.000000</td>\n",
       "      <td>0.000000</td>\n",
       "      <td>0.866153</td>\n",
       "      <td>1.000000</td>\n",
       "      <td>1.000000e+00</td>\n",
       "    </tr>\n",
       "    <tr>\n",
       "      <th>1730</th>\n",
       "      <td>B</td>\n",
       "      <td>CD8 T</td>\n",
       "      <td>NRG1</td>\n",
       "      <td>SIGLEC7</td>\n",
       "      <td>1.000000</td>\n",
       "      <td>1.0</td>\n",
       "      <td>0.000000</td>\n",
       "      <td>-0.144956</td>\n",
       "      <td>-0.173359</td>\n",
       "      <td>0.000000</td>\n",
       "      <td>0.000000</td>\n",
       "      <td>0.000000</td>\n",
       "      <td>0.866153</td>\n",
       "      <td>1.000000</td>\n",
       "      <td>1.000000e+00</td>\n",
       "    </tr>\n",
       "    <tr>\n",
       "      <th>4274</th>\n",
       "      <td>NK</td>\n",
       "      <td>NK</td>\n",
       "      <td>GDF11</td>\n",
       "      <td>ACTR2</td>\n",
       "      <td>1.000000</td>\n",
       "      <td>1.0</td>\n",
       "      <td>0.000000</td>\n",
       "      <td>-0.026316</td>\n",
       "      <td>0.095183</td>\n",
       "      <td>0.000000</td>\n",
       "      <td>0.000000</td>\n",
       "      <td>0.000000</td>\n",
       "      <td>0.866153</td>\n",
       "      <td>1.000000</td>\n",
       "      <td>1.000000e+00</td>\n",
       "    </tr>\n",
       "  </tbody>\n",
       "</table>\n",
       "<p>4275 rows × 15 columns</p>\n",
       "</div>"
      ],
      "text/plain": [
       "     source target ligand_complex     receptor_complex  lr_means  pvals  \\\n",
       "1589      B  CD8 T       HLA-DPB1                 LAG3  2.009922    0.0   \n",
       "4009     NK     NK          SPON2                ITGB2  1.910813    0.0   \n",
       "1591      B  CD8 T       HLA-DRB5                 LAG3  1.337915    0.0   \n",
       "1590      B  CD8 T       HLA-DPA1                 LAG3  1.807187    0.0   \n",
       "1588      B  CD8 T       HLA-DQB1                 LAG3  1.282576    0.0   \n",
       "...     ...    ...            ...                  ...       ...    ...   \n",
       "1758      B  CD8 T       TNFSF13B            TNFRSF13C  1.000000    1.0   \n",
       "1759      B  CD8 T          TGFB1        TGFBR1_TGFBR2  1.000000    1.0   \n",
       "1760      B  CD8 T          TGFB1  ACVR1_TGFBR1_TGFBR2  1.000000    1.0   \n",
       "1730      B  CD8 T           NRG1              SIGLEC7  1.000000    1.0   \n",
       "4274     NK     NK          GDF11                ACTR2  1.000000    1.0   \n",
       "\n",
       "      expr_prod  scaled_weight  lr_logfc  expr_prod_duplicated  spec_weight  \\\n",
       "1589   2.556716       0.918130  2.194075              2.556716     0.623592   \n",
       "4009   3.563785       0.900085  2.289385              3.563785     0.514403   \n",
       "1591   1.492111       0.886746  2.004025              1.492111     0.723478   \n",
       "1590   2.235539       0.929952  2.229908              2.235539     0.649385   \n",
       "1588   1.404443       0.902600  2.235832              1.404443     0.808777   \n",
       "...         ...            ...       ...                   ...          ...   \n",
       "1758   0.000000      -0.063277 -0.058579              0.000000     0.000000   \n",
       "1759   0.000000      -0.196001 -0.534732              0.000000     0.000000   \n",
       "1760   0.000000      -0.196001 -0.534732              0.000000     0.000000   \n",
       "1730   0.000000      -0.144956 -0.173359              0.000000     0.000000   \n",
       "4274   0.000000      -0.026316  0.095183              0.000000     0.000000   \n",
       "\n",
       "       lrscore  ranked_magnitude  ranked_specificity  ranked_steady  \n",
       "1589  0.889292          0.013062            0.000017   9.862040e-07  \n",
       "4009  0.904614          0.023017            0.000017   9.862040e-07  \n",
       "1591  0.859876          0.083432            0.000017   9.862040e-07  \n",
       "1590  0.882509          0.032666            0.000017   9.862040e-07  \n",
       "1588  0.856189          0.088410            0.000017   9.862040e-07  \n",
       "...        ...               ...                 ...            ...  \n",
       "1758  0.000000          0.866153            1.000000   1.000000e+00  \n",
       "1759  0.000000          0.866153            1.000000   1.000000e+00  \n",
       "1760  0.000000          0.866153            1.000000   1.000000e+00  \n",
       "1730  0.000000          0.866153            1.000000   1.000000e+00  \n",
       "4274  0.000000          0.866153            1.000000   1.000000e+00  \n",
       "\n",
       "[4275 rows x 15 columns]"
      ]
     },
     "execution_count": 15,
     "metadata": {},
     "output_type": "execute_result"
    }
   ],
   "source": [
    "adata.uns['liana_res']"
   ]
  },
  {
   "cell_type": "code",
   "execution_count": null,
   "id": "c6789b36-b510-46bd-88b0-a7f9eeb34ab4",
   "metadata": {},
   "outputs": [],
   "source": []
  },
  {
   "cell_type": "code",
   "execution_count": 17,
   "id": "42265d58-41be-41bb-956a-cce00b402bc6",
   "metadata": {},
   "outputs": [
    {
     "data": {
      "text/html": [
       "<div>\n",
       "<style scoped>\n",
       "    .dataframe tbody tr th:only-of-type {\n",
       "        vertical-align: middle;\n",
       "    }\n",
       "\n",
       "    .dataframe tbody tr th {\n",
       "        vertical-align: top;\n",
       "    }\n",
       "\n",
       "    .dataframe thead th {\n",
       "        text-align: right;\n",
       "    }\n",
       "</style>\n",
       "<table border=\"1\" class=\"dataframe\">\n",
       "  <thead>\n",
       "    <tr style=\"text-align: right;\">\n",
       "      <th></th>\n",
       "      <th>source</th>\n",
       "      <th>target</th>\n",
       "      <th>ligand_complex</th>\n",
       "      <th>receptor_complex</th>\n",
       "      <th>lr_means</th>\n",
       "      <th>pvals</th>\n",
       "      <th>expr_prod</th>\n",
       "      <th>scaled_weight</th>\n",
       "      <th>lr_logfc</th>\n",
       "      <th>expr_prod_duplicated</th>\n",
       "      <th>spec_weight</th>\n",
       "      <th>lrscore</th>\n",
       "      <th>ranked_magnitude</th>\n",
       "      <th>ranked_specificity</th>\n",
       "      <th>ranked_steady</th>\n",
       "    </tr>\n",
       "  </thead>\n",
       "  <tbody>\n",
       "    <tr>\n",
       "      <th>1584</th>\n",
       "      <td>B</td>\n",
       "      <td>CD8 T</td>\n",
       "      <td>HLA-DRA</td>\n",
       "      <td>LAG3</td>\n",
       "      <td>2.358596</td>\n",
       "      <td>0.000</td>\n",
       "      <td>3.109091</td>\n",
       "      <td>1.009779</td>\n",
       "      <td>2.698093</td>\n",
       "      <td>3.109091</td>\n",
       "      <td>0.737411</td>\n",
       "      <td>0.898561</td>\n",
       "      <td>0.004563</td>\n",
       "      <td>0.000001</td>\n",
       "      <td>9.862040e-07</td>\n",
       "    </tr>\n",
       "    <tr>\n",
       "      <th>1586</th>\n",
       "      <td>B</td>\n",
       "      <td>CD8 T</td>\n",
       "      <td>HLA-DQA1</td>\n",
       "      <td>LAG3</td>\n",
       "      <td>1.504316</td>\n",
       "      <td>0.000</td>\n",
       "      <td>1.755726</td>\n",
       "      <td>1.005434</td>\n",
       "      <td>2.494080</td>\n",
       "      <td>1.755726</td>\n",
       "      <td>0.894548</td>\n",
       "      <td>0.869394</td>\n",
       "      <td>0.065202</td>\n",
       "      <td>0.000005</td>\n",
       "      <td>9.862040e-07</td>\n",
       "    </tr>\n",
       "    <tr>\n",
       "      <th>1585</th>\n",
       "      <td>B</td>\n",
       "      <td>CD8 T</td>\n",
       "      <td>HLA-DQA2</td>\n",
       "      <td>LAG3</td>\n",
       "      <td>1.030748</td>\n",
       "      <td>0.000</td>\n",
       "      <td>1.005493</td>\n",
       "      <td>0.904647</td>\n",
       "      <td>2.088210</td>\n",
       "      <td>1.005493</td>\n",
       "      <td>0.966528</td>\n",
       "      <td>0.834368</td>\n",
       "      <td>0.128734</td>\n",
       "      <td>0.000014</td>\n",
       "      <td>2.747713e-06</td>\n",
       "    </tr>\n",
       "    <tr>\n",
       "      <th>316</th>\n",
       "      <td>B</td>\n",
       "      <td>B</td>\n",
       "      <td>BTLA</td>\n",
       "      <td>CD79A</td>\n",
       "      <td>1.485253</td>\n",
       "      <td>0.000</td>\n",
       "      <td>0.108705</td>\n",
       "      <td>0.752452</td>\n",
       "      <td>2.123316</td>\n",
       "      <td>0.108705</td>\n",
       "      <td>0.934813</td>\n",
       "      <td>0.623542</td>\n",
       "      <td>0.435257</td>\n",
       "      <td>0.000016</td>\n",
       "      <td>4.903092e-05</td>\n",
       "    </tr>\n",
       "    <tr>\n",
       "      <th>1592</th>\n",
       "      <td>B</td>\n",
       "      <td>CD8 T</td>\n",
       "      <td>HLA-DQB2</td>\n",
       "      <td>LAG3</td>\n",
       "      <td>0.459785</td>\n",
       "      <td>0.000</td>\n",
       "      <td>0.100964</td>\n",
       "      <td>0.543476</td>\n",
       "      <td>1.015481</td>\n",
       "      <td>0.100964</td>\n",
       "      <td>0.745453</td>\n",
       "      <td>0.614832</td>\n",
       "      <td>1.000000</td>\n",
       "      <td>0.000017</td>\n",
       "      <td>1.041830e-04</td>\n",
       "    </tr>\n",
       "    <tr>\n",
       "      <th>...</th>\n",
       "      <td>...</td>\n",
       "      <td>...</td>\n",
       "      <td>...</td>\n",
       "      <td>...</td>\n",
       "      <td>...</td>\n",
       "      <td>...</td>\n",
       "      <td>...</td>\n",
       "      <td>...</td>\n",
       "      <td>...</td>\n",
       "      <td>...</td>\n",
       "      <td>...</td>\n",
       "      <td>...</td>\n",
       "      <td>...</td>\n",
       "      <td>...</td>\n",
       "      <td>...</td>\n",
       "    </tr>\n",
       "    <tr>\n",
       "      <th>3618</th>\n",
       "      <td>CD8 T</td>\n",
       "      <td>NK</td>\n",
       "      <td>EFNA3</td>\n",
       "      <td>EPHA1</td>\n",
       "      <td>1.000000</td>\n",
       "      <td>1.000</td>\n",
       "      <td>0.000000</td>\n",
       "      <td>-0.127536</td>\n",
       "      <td>-0.116640</td>\n",
       "      <td>0.000000</td>\n",
       "      <td>0.000000</td>\n",
       "      <td>0.000000</td>\n",
       "      <td>0.866153</td>\n",
       "      <td>1.000000</td>\n",
       "      <td>1.000000e+00</td>\n",
       "    </tr>\n",
       "    <tr>\n",
       "      <th>3619</th>\n",
       "      <td>CD8 T</td>\n",
       "      <td>NK</td>\n",
       "      <td>EFNA4</td>\n",
       "      <td>EPHA4</td>\n",
       "      <td>1.000000</td>\n",
       "      <td>1.000</td>\n",
       "      <td>0.000000</td>\n",
       "      <td>-0.169616</td>\n",
       "      <td>-0.201252</td>\n",
       "      <td>0.000000</td>\n",
       "      <td>0.000000</td>\n",
       "      <td>0.000000</td>\n",
       "      <td>0.866153</td>\n",
       "      <td>1.000000</td>\n",
       "      <td>1.000000e+00</td>\n",
       "    </tr>\n",
       "    <tr>\n",
       "      <th>3139</th>\n",
       "      <td>B</td>\n",
       "      <td>NK</td>\n",
       "      <td>LTA</td>\n",
       "      <td>RIPK1</td>\n",
       "      <td>0.044245</td>\n",
       "      <td>0.925</td>\n",
       "      <td>0.001933</td>\n",
       "      <td>-0.132416</td>\n",
       "      <td>-0.287311</td>\n",
       "      <td>0.001933</td>\n",
       "      <td>0.023367</td>\n",
       "      <td>0.180919</td>\n",
       "      <td>1.000000</td>\n",
       "      <td>1.000000</td>\n",
       "      <td>1.000000e+00</td>\n",
       "    </tr>\n",
       "    <tr>\n",
       "      <th>3143</th>\n",
       "      <td>B</td>\n",
       "      <td>NK</td>\n",
       "      <td>EFNA3</td>\n",
       "      <td>EPHA1</td>\n",
       "      <td>1.000000</td>\n",
       "      <td>1.000</td>\n",
       "      <td>0.000000</td>\n",
       "      <td>-0.127536</td>\n",
       "      <td>-0.116640</td>\n",
       "      <td>0.000000</td>\n",
       "      <td>0.000000</td>\n",
       "      <td>0.000000</td>\n",
       "      <td>0.866153</td>\n",
       "      <td>1.000000</td>\n",
       "      <td>1.000000e+00</td>\n",
       "    </tr>\n",
       "    <tr>\n",
       "      <th>4274</th>\n",
       "      <td>NK</td>\n",
       "      <td>NK</td>\n",
       "      <td>GDF11</td>\n",
       "      <td>ACTR2</td>\n",
       "      <td>1.000000</td>\n",
       "      <td>1.000</td>\n",
       "      <td>0.000000</td>\n",
       "      <td>-0.026316</td>\n",
       "      <td>0.095183</td>\n",
       "      <td>0.000000</td>\n",
       "      <td>0.000000</td>\n",
       "      <td>0.000000</td>\n",
       "      <td>0.866153</td>\n",
       "      <td>1.000000</td>\n",
       "      <td>1.000000e+00</td>\n",
       "    </tr>\n",
       "  </tbody>\n",
       "</table>\n",
       "<p>4275 rows × 15 columns</p>\n",
       "</div>"
      ],
      "text/plain": [
       "     source target ligand_complex receptor_complex  lr_means  pvals  \\\n",
       "1584      B  CD8 T        HLA-DRA             LAG3  2.358596  0.000   \n",
       "1586      B  CD8 T       HLA-DQA1             LAG3  1.504316  0.000   \n",
       "1585      B  CD8 T       HLA-DQA2             LAG3  1.030748  0.000   \n",
       "316       B      B           BTLA            CD79A  1.485253  0.000   \n",
       "1592      B  CD8 T       HLA-DQB2             LAG3  0.459785  0.000   \n",
       "...     ...    ...            ...              ...       ...    ...   \n",
       "3618  CD8 T     NK          EFNA3            EPHA1  1.000000  1.000   \n",
       "3619  CD8 T     NK          EFNA4            EPHA4  1.000000  1.000   \n",
       "3139      B     NK            LTA            RIPK1  0.044245  0.925   \n",
       "3143      B     NK          EFNA3            EPHA1  1.000000  1.000   \n",
       "4274     NK     NK          GDF11            ACTR2  1.000000  1.000   \n",
       "\n",
       "      expr_prod  scaled_weight  lr_logfc  expr_prod_duplicated  spec_weight  \\\n",
       "1584   3.109091       1.009779  2.698093              3.109091     0.737411   \n",
       "1586   1.755726       1.005434  2.494080              1.755726     0.894548   \n",
       "1585   1.005493       0.904647  2.088210              1.005493     0.966528   \n",
       "316    0.108705       0.752452  2.123316              0.108705     0.934813   \n",
       "1592   0.100964       0.543476  1.015481              0.100964     0.745453   \n",
       "...         ...            ...       ...                   ...          ...   \n",
       "3618   0.000000      -0.127536 -0.116640              0.000000     0.000000   \n",
       "3619   0.000000      -0.169616 -0.201252              0.000000     0.000000   \n",
       "3139   0.001933      -0.132416 -0.287311              0.001933     0.023367   \n",
       "3143   0.000000      -0.127536 -0.116640              0.000000     0.000000   \n",
       "4274   0.000000      -0.026316  0.095183              0.000000     0.000000   \n",
       "\n",
       "       lrscore  ranked_magnitude  ranked_specificity  ranked_steady  \n",
       "1584  0.898561          0.004563            0.000001   9.862040e-07  \n",
       "1586  0.869394          0.065202            0.000005   9.862040e-07  \n",
       "1585  0.834368          0.128734            0.000014   2.747713e-06  \n",
       "316   0.623542          0.435257            0.000016   4.903092e-05  \n",
       "1592  0.614832          1.000000            0.000017   1.041830e-04  \n",
       "...        ...               ...                 ...            ...  \n",
       "3618  0.000000          0.866153            1.000000   1.000000e+00  \n",
       "3619  0.000000          0.866153            1.000000   1.000000e+00  \n",
       "3139  0.180919          1.000000            1.000000   1.000000e+00  \n",
       "3143  0.000000          0.866153            1.000000   1.000000e+00  \n",
       "4274  0.000000          0.866153            1.000000   1.000000e+00  \n",
       "\n",
       "[4275 rows x 15 columns]"
      ]
     },
     "execution_count": 17,
     "metadata": {},
     "output_type": "execute_result"
    }
   ],
   "source": [
    "adata.uns['liana_res'].sort_values('ranked_magnitude')"
   ]
  },
  {
   "cell_type": "code",
   "execution_count": null,
   "id": "e2d10f1b-ca06-4ff2-8f56-e64a36673bd0",
   "metadata": {},
   "outputs": [],
   "source": []
  },
  {
   "cell_type": "code",
   "execution_count": null,
   "id": "1a3606a9-be21-4add-b21b-46dccc894dd7",
   "metadata": {},
   "outputs": [],
   "source": [
    "if False is not False:\n",
    "    print(1)"
   ]
  },
  {
   "cell_type": "code",
   "execution_count": null,
   "id": "96a0e79a-268f-40c3-a8a8-bc1824cdff8c",
   "metadata": {},
   "outputs": [],
   "source": []
  },
  {
   "cell_type": "code",
   "execution_count": null,
   "id": "a3bc73a2-1336-4094-9ad7-ed3d34817d98",
   "metadata": {},
   "outputs": [],
   "source": []
  },
  {
   "cell_type": "code",
   "execution_count": null,
   "id": "6a29bfa8-d08b-4f73-a97a-63ff8a306e39",
   "metadata": {},
   "outputs": [],
   "source": []
  },
  {
   "cell_type": "code",
   "execution_count": null,
   "id": "ccf39350-02ad-4e01-8040-708e9e308fa4",
   "metadata": {},
   "outputs": [],
   "source": [
    "adata.uns['liana_res']['CellPhoneDB']"
   ]
  },
  {
   "cell_type": "code",
   "execution_count": null,
   "id": "2dd804ba-5abd-40f7-bceb-717ffcf90252",
   "metadata": {},
   "outputs": [],
   "source": [
    "_key_cols = key_cols"
   ]
  },
  {
   "cell_type": "code",
   "execution_count": null,
   "id": "378e362a-420a-4b31-b5b9-46af0b44abc3",
   "metadata": {},
   "outputs": [],
   "source": []
  },
  {
   "cell_type": "code",
   "execution_count": null,
   "id": "47a7aacb-d097-468b-96b8-05675e6354a7",
   "metadata": {},
   "outputs": [],
   "source": [
    "lr_res = adata.uns['liana_res'].copy()"
   ]
  },
  {
   "cell_type": "code",
   "execution_count": null,
   "id": "b7aa45e8-d65f-4038-9f72-990dcc6bc05b",
   "metadata": {},
   "outputs": [],
   "source": []
  },
  {
   "cell_type": "code",
   "execution_count": null,
   "id": "2190e45d-d0f0-421a-b77b-64cd37449e9f",
   "metadata": {},
   "outputs": [],
   "source": []
  },
  {
   "cell_type": "code",
   "execution_count": null,
   "id": "40731fd2-ad31-426c-9f07-ec80517a309c",
   "metadata": {},
   "outputs": [],
   "source": [
    "def aggregate(lr_res, _methods,\n",
    "              _key_cols = ['source', 'target','ligand_complex', 'receptor_complex'],\n",
    "              aggregate_method = 'rra',\n",
    "              consensus_opts = ['Magnitude', 'Specificity', 'Steady']):\n",
    "    # join the scores to the whole universe between the methods\n",
    "    shared_keys = [\n",
    "        lr_res[method.method_name].drop_duplicates(keep='first') for method in _methods\n",
    "    ]\n",
    "    # reduce to a df with the shared keys + all relevant scores\n",
    "    lr_res = reduce(\n",
    "        lambda left, right: \n",
    "        pd.merge(left, right, how='outer', on=_key_cols, suffixes=('', '_duplicated')), shared_keys\n",
    "    )\n",
    "    if 'Magnitude' in consensus_opts:\n",
    "        lr_res[consensus.magnitude] = _rank_aggregate(lr_res.copy(),\n",
    "                                                      consensus.magnitude_specs,\n",
    "                                                      _key_cols,\n",
    "                                                      aggregate_method=aggregate_method)\n",
    "        order_col = consensus.magnitude\n",
    "    if 'Specificity' in consensus_opts:\n",
    "        lr_res[consensus.specificity] = _rank_aggregate(lr_res.copy(),\n",
    "                                                        consensus.specificity_specs,\n",
    "                                                        _key_cols,\n",
    "                                                        aggregate_method=aggregate_method)\n",
    "        order_col = consensus.specificity\n",
    "    if 'Steady' in consensus_opts:\n",
    "        lr_res[consensus.steady] = _rank_aggregate(lr_res.copy(),\n",
    "                                                   consensus.steady_specs,\n",
    "                                                   _key_cols,\n",
    "                                                   aggregate_method=aggregate_method)\n",
    "        order_col = consensus.steady\n",
    "        \n",
    "    lr_res = lr_res.sort_values(order_col)\n",
    "    \n",
    "    return lr_res"
   ]
  },
  {
   "cell_type": "code",
   "execution_count": null,
   "id": "5ec21e68-f207-4b27-9594-377cf1ded924",
   "metadata": {},
   "outputs": [],
   "source": []
  },
  {
   "cell_type": "code",
   "execution_count": null,
   "id": "20ae6597-cc6e-4a2d-b689-080c9dc3421a",
   "metadata": {},
   "outputs": [],
   "source": [
    "aggregate(lr_res, consensus.methods, _key_cols)"
   ]
  },
  {
   "cell_type": "code",
   "execution_count": null,
   "id": "85c93c8f-76ff-4bd7-9254-28586987b399",
   "metadata": {},
   "outputs": [],
   "source": []
  },
  {
   "cell_type": "code",
   "execution_count": null,
   "id": "64db7ecc-1dd3-47d2-aca9-51e86638e19f",
   "metadata": {},
   "outputs": [],
   "source": []
  },
  {
   "cell_type": "code",
   "execution_count": null,
   "id": "d6dfe11a-247c-46a7-9583-bbb481828297",
   "metadata": {},
   "outputs": [],
   "source": []
  },
  {
   "cell_type": "code",
   "execution_count": null,
   "id": "a3ecaf71-a12c-4da4-9d8a-dee00f3ec3e5",
   "metadata": {},
   "outputs": [],
   "source": [
    "shared_keys = [\n",
    "    lr_res[method.method_name].drop_duplicates(keep='first') for method in _methods\n",
    "]\n",
    "# reduce to a df with the shared keys + all relevant scores\n",
    "lr_res = reduce(\n",
    "    lambda left, right: \n",
    "    pd.merge(left, right, how='outer', on=_key_cols, suffixes=('', '_duplicated')), shared_keys\n",
    ")"
   ]
  },
  {
   "cell_type": "code",
   "execution_count": null,
   "id": "de333a43-d5d8-4dea-9ab2-3fcdc9127cb5",
   "metadata": {},
   "outputs": [],
   "source": [
    "lr_res[consensus.steady] = _rank_aggregate(lr_res.copy(),\n",
    "                                           consensus.steady_specs,\n",
    "                                           _key_cols,\n",
    "                                           aggregate_method='rra')"
   ]
  },
  {
   "cell_type": "code",
   "execution_count": null,
   "id": "60a11c71-ee61-4dcf-9441-640c9a540683",
   "metadata": {},
   "outputs": [],
   "source": [
    "lr_res.sort_values('ranked_steady')"
   ]
  },
  {
   "cell_type": "code",
   "execution_count": null,
   "id": "e63bd7fc-7aee-459e-929c-413d8a8d3c52",
   "metadata": {},
   "outputs": [],
   "source": []
  },
  {
   "cell_type": "code",
   "execution_count": null,
   "id": "a3e457b2-8c6f-49f3-b98d-c026fc835902",
   "metadata": {},
   "outputs": [],
   "source": [
    "lr_res.sort_values('ranked_steady')\n",
    "# Drop duplicated"
   ]
  },
  {
   "cell_type": "code",
   "execution_count": null,
   "id": "7054b545-ba55-4b21-b763-1aaf5628e2c9",
   "metadata": {},
   "outputs": [],
   "source": []
  },
  {
   "cell_type": "code",
   "execution_count": null,
   "id": "73e03e74-0ef0-42f6-892b-647b290c5f4e",
   "metadata": {},
   "outputs": [],
   "source": [
    "rmat = _rank_aggregate(lr_res.copy(),\n",
    "                       consensus.specificity_specs,\n",
    "                       _key_cols,\n",
    "                       aggregate_method='xx')"
   ]
  },
  {
   "cell_type": "code",
   "execution_count": null,
   "id": "1a34f56f-61b5-4f0d-aecb-80c44d6064f1",
   "metadata": {},
   "outputs": [],
   "source": [
    "rmat.shape"
   ]
  },
  {
   "cell_type": "code",
   "execution_count": null,
   "id": "3fed46ef-4d94-4cc3-a661-5c4f415edbfb",
   "metadata": {},
   "outputs": [],
   "source": [
    "consensus.specificity_specs"
   ]
  },
  {
   "cell_type": "code",
   "execution_count": null,
   "id": "32d33cae-93ad-49d7-bf9f-d3fcae24f3c9",
   "metadata": {},
   "outputs": [],
   "source": []
  },
  {
   "cell_type": "code",
   "execution_count": null,
   "id": "d26e8ed0-89fc-40bc-98f2-c5409b7ae1ec",
   "metadata": {},
   "outputs": [],
   "source": []
  },
  {
   "cell_type": "code",
   "execution_count": null,
   "id": "eda469bc-ba67-46e5-a3a2-dd6687eaa531",
   "metadata": {},
   "outputs": [],
   "source": [
    "list({consensus.magnitude_specs[s][0] for s in consensus.magnitude_specs })"
   ]
  },
  {
   "cell_type": "code",
   "execution_count": null,
   "id": "7120b6b1-6331-4245-9bf3-f02af5fc53b7",
   "metadata": {},
   "outputs": [],
   "source": []
  },
  {
   "cell_type": "code",
   "execution_count": null,
   "id": "908ef69c-4187-460c-9c37-3ae15219dca3",
   "metadata": {},
   "outputs": [],
   "source": [
    "aggregate(lr_res, _methods, _key_cols, consensus_opts=['Steady'])"
   ]
  },
  {
   "cell_type": "code",
   "execution_count": null,
   "id": "650dd758-4607-49cc-a7b5-07f3862bd4ef",
   "metadata": {},
   "outputs": [],
   "source": []
  },
  {
   "cell_type": "code",
   "execution_count": null,
   "id": "9dc1b18a-bca7-482e-9033-abe39b9061e3",
   "metadata": {},
   "outputs": [],
   "source": []
  },
  {
   "cell_type": "code",
   "execution_count": null,
   "id": "d4a0875d-45b6-404b-b924-448815da79de",
   "metadata": {},
   "outputs": [],
   "source": []
  },
  {
   "cell_type": "code",
   "execution_count": null,
   "id": "f3b6a5ae-e707-4ba6-8841-a872f526ca4f",
   "metadata": {},
   "outputs": [],
   "source": [
    "# join the scores to the whole universe between the methods\n",
    "shared_keys = [\n",
    "    lr_res[method.method_name].drop_duplicates(keep='first') for method in _methods]\n",
    "# reduce to a df with the shared keys + all relevant scores\n",
    "lr_res = reduce(\n",
    "    lambda left, right: pd.merge(left, right, how='outer', on=_key_cols, suffixes=('', '_duplicated')), shared_keys\n",
    ")"
   ]
  },
  {
   "cell_type": "code",
   "execution_count": null,
   "id": "2d894e9e-14e2-483c-8b0e-96ea507ba741",
   "metadata": {},
   "outputs": [],
   "source": []
  },
  {
   "cell_type": "code",
   "execution_count": null,
   "id": "9fd4e4d8-2d88-4601-9fd6-84b897682737",
   "metadata": {},
   "outputs": [],
   "source": [
    "consensus.steady_specs"
   ]
  },
  {
   "cell_type": "code",
   "execution_count": null,
   "id": "8eaabed4-8baf-46b3-b5b0-3a563dda7812",
   "metadata": {},
   "outputs": [],
   "source": []
  },
  {
   "cell_type": "code",
   "execution_count": null,
   "id": "0d3c3ee2-96b9-4bbf-ae90-5b9fd5d321bd",
   "metadata": {},
   "outputs": [],
   "source": []
  },
  {
   "cell_type": "code",
   "execution_count": null,
   "id": "acc5820b-2a0f-410f-8f4e-eea2ebe91804",
   "metadata": {},
   "outputs": [],
   "source": [
    "# Set up the scores to be used (method_name:(score_name, desc))\n",
    "spec_specs = {method.method_name: (\n",
    "method.specificity, method.specificity_desc) for method in _methods\n",
    "         if method.specificity is not None}\n",
    "mag_specs = {method.method_name: method.magnitude for method in _methods\n",
    "        if method.magnitude is not None}\n",
    "steady_specs = spec_specs.copy()\n",
    "steady_specs[sca.method_name]=(sca.magnitude, sca.magnitude_desc)"
   ]
  },
  {
   "cell_type": "code",
   "execution_count": null,
   "id": "224b5497-f9f1-4a57-a583-03a376ed324d",
   "metadata": {},
   "outputs": [],
   "source": []
  },
  {
   "cell_type": "code",
   "execution_count": null,
   "id": "037ced82-85c8-4be2-a013-58970169bb62",
   "metadata": {},
   "outputs": [],
   "source": []
  },
  {
   "cell_type": "code",
   "execution_count": null,
   "id": "2215817a-d8c9-452b-ae2d-d2aa556a3c79",
   "metadata": {},
   "outputs": [],
   "source": [
    "_rank_aggregate(lr_res.copy(), steady_specs, _key_cols, aggregate_method='rra')"
   ]
  },
  {
   "cell_type": "code",
   "execution_count": null,
   "id": "be7521e7-3618-486d-932c-37de7d592c6a",
   "metadata": {},
   "outputs": [],
   "source": []
  },
  {
   "cell_type": "code",
   "execution_count": null,
   "id": "c5e4d1d8-ba81-40a3-afb1-0555303089b7",
   "metadata": {},
   "outputs": [],
   "source": []
  },
  {
   "cell_type": "code",
   "execution_count": null,
   "id": "584780c7-5936-4dd2-b9f9-3de5a4670d2e",
   "metadata": {},
   "outputs": [],
   "source": []
  },
  {
   "cell_type": "code",
   "execution_count": null,
   "id": "c59caef5-03bb-477e-a5d6-9afa2043ab5d",
   "metadata": {},
   "outputs": [],
   "source": [
    "specs = steady_specs"
   ]
  },
  {
   "cell_type": "code",
   "execution_count": null,
   "id": "cfd3ac15-c207-4f8f-8a4b-29f6b9f2a545",
   "metadata": {},
   "outputs": [],
   "source": [
    "# Convert specs columns to ranks\n",
    "for spec in specs:\n",
    "    score_name = specs[spec][0]\n",
    "    desc = specs[spec][1]\n",
    "\n",
    "    if desc:\n",
    "        lr_res[score_name] = rankdata(lr_res[score_name] * -1, method='average')\n",
    "    else: \n",
    "        lr_res[score_name] = rankdata(lr_res[score_name], method='average')\n"
   ]
  },
  {
   "cell_type": "code",
   "execution_count": null,
   "id": "5aa90d95-e925-4e40-81d5-93bf7007efda",
   "metadata": {},
   "outputs": [],
   "source": [
    "lr_res"
   ]
  },
  {
   "cell_type": "code",
   "execution_count": null,
   "id": "54b2e4b9-7709-4038-9c2b-4d281e20ed1a",
   "metadata": {},
   "outputs": [],
   "source": [
    "\n",
    "# keep only the ranks (joins order the keys)\n",
    "rmat = lr_res.drop(_key_cols, axis=1).values"
   ]
  },
  {
   "cell_type": "code",
   "execution_count": null,
   "id": "4bb670ad-d7f7-413d-9bec-ddf29a67864d",
   "metadata": {},
   "outputs": [],
   "source": []
  },
  {
   "cell_type": "code",
   "execution_count": null,
   "id": "83f7d566-7aef-434f-8c02-40b3f5d0afb0",
   "metadata": {},
   "outputs": [],
   "source": []
  },
  {
   "cell_type": "code",
   "execution_count": null,
   "id": "c56de791-5932-468c-adc3-2a1dc5e980dc",
   "metadata": {},
   "outputs": [],
   "source": [
    "np.mean(rmat, axis=1)"
   ]
  },
  {
   "cell_type": "code",
   "execution_count": null,
   "id": "95c59b91-67a1-41a2-b82b-275e7e01cb8e",
   "metadata": {},
   "outputs": [],
   "source": []
  },
  {
   "cell_type": "code",
   "execution_count": null,
   "id": "cf34bf27-f833-482e-a9fb-bca5cd29f11e",
   "metadata": {},
   "outputs": [],
   "source": []
  },
  {
   "cell_type": "code",
   "execution_count": null,
   "id": "bc9ce1c1-d7ad-434b-9239-35a689e6db4a",
   "metadata": {
    "tags": []
   },
   "outputs": [],
   "source": []
  },
  {
   "cell_type": "code",
   "execution_count": null,
   "id": "b16f7c2f-c4ee-4cd0-83f0-237a47d3192e",
   "metadata": {},
   "outputs": [],
   "source": []
  },
  {
   "cell_type": "code",
   "execution_count": null,
   "id": "2e729e1b-186d-489e-9747-38296526f201",
   "metadata": {},
   "outputs": [],
   "source": []
  },
  {
   "cell_type": "code",
   "execution_count": null,
   "id": "e4f2fc89-cf6a-4071-857b-2714486f40fe",
   "metadata": {},
   "outputs": [],
   "source": []
  },
  {
   "cell_type": "code",
   "execution_count": null,
   "id": "f1324f05-ca6b-4f5e-ae7e-ac7beca6d4bf",
   "metadata": {},
   "outputs": [],
   "source": []
  },
  {
   "cell_type": "code",
   "execution_count": null,
   "id": "259bdd96-e13a-452f-af88-ec4f0b25f1c7",
   "metadata": {},
   "outputs": [],
   "source": []
  },
  {
   "cell_type": "markdown",
   "id": "99a21a70-1835-44c8-8f20-f3c9eb5570b4",
   "metadata": {},
   "source": [
    "Robust rank aggregate"
   ]
  },
  {
   "cell_type": "code",
   "execution_count": null,
   "id": "c59def41-9c1b-4017-acaa-991f7151ec2e",
   "metadata": {},
   "outputs": [],
   "source": [
    "keys = ['source', 'target', 'ligand_complex', 'receptor_complex']"
   ]
  },
  {
   "cell_type": "code",
   "execution_count": null,
   "id": "3e8c0033-a533-40a3-a6ce-1f5c511a2d2e",
   "metadata": {},
   "outputs": [],
   "source": [
    "# Duplicates arrise due to the explode of complexes, in which subunits have the same min expression\n",
    "# these are kept when returning the result from each method but are discarded \n",
    "# when working with the consensus because duplicated interactions are assigned the same score"
   ]
  },
  {
   "cell_type": "code",
   "execution_count": null,
   "id": "6b012cc8-43da-45b1-848b-d3ed18243255",
   "metadata": {},
   "outputs": [],
   "source": []
  },
  {
   "cell_type": "code",
   "execution_count": null,
   "id": "675d4e35-e629-4e6f-af4b-2666c1648dc0",
   "metadata": {},
   "outputs": [],
   "source": [
    "from functools import reduce"
   ]
  },
  {
   "cell_type": "code",
   "execution_count": null,
   "id": "a4c3fbfb-1400-40aa-959f-0aa2d4b1d600",
   "metadata": {},
   "outputs": [],
   "source": [
    "from scipy.stats import rankdata"
   ]
  },
  {
   "cell_type": "code",
   "execution_count": null,
   "id": "6d57d0a3-71fc-4e9a-ac62-d01b6814a947",
   "metadata": {},
   "outputs": [],
   "source": [
    "from scipy.stats import beta"
   ]
  },
  {
   "cell_type": "code",
   "execution_count": null,
   "id": "d761bac2-7425-42db-889e-1c5a550c690d",
   "metadata": {},
   "outputs": [],
   "source": []
  },
  {
   "cell_type": "code",
   "execution_count": null,
   "id": "02f662ed-8615-4750-a865-cf70c171be4e",
   "metadata": {},
   "outputs": [],
   "source": []
  },
  {
   "cell_type": "code",
   "execution_count": null,
   "id": "bcc63932-bf72-48b7-9b7b-b1c667c8f8e7",
   "metadata": {},
   "outputs": [],
   "source": []
  },
  {
   "cell_type": "code",
   "execution_count": null,
   "id": "ebecbb0b-01b1-411c-83d0-9c1aacc97dd2",
   "metadata": {},
   "outputs": [],
   "source": [
    "def _rho_scores(rmat, dist_a, dist_b):\n",
    "    # Sort values by sources (rows)\n",
    "    rmat = np.sort(rmat, axis=1)\n",
    "    # Calc beta cdf across rows\n",
    "    p = beta.cdf(rmat, dist_a, dist_b)\n",
    "    # get min pval per row \n",
    "    p = np.min(p, axis=1)\n",
    "    # correct p-vals \n",
    "    rho = _corr_beta_pvals(p, k = rmat.shape[1])\n",
    "    \n",
    "    return rho"
   ]
  },
  {
   "cell_type": "code",
   "execution_count": null,
   "id": "8c6bdf0a-be59-4c93-b0c5-42a454d8ed2e",
   "metadata": {},
   "outputs": [],
   "source": [
    "def _corr_beta_pvals(p, k):\n",
    "    p = np.clip(p * k, a_min=0, a_max=1)\n",
    "    return p"
   ]
  },
  {
   "cell_type": "code",
   "execution_count": null,
   "id": "c078f15b-5a8b-4268-8051-27a71a63c73d",
   "metadata": {},
   "outputs": [],
   "source": []
  },
  {
   "cell_type": "code",
   "execution_count": null,
   "id": "60c2babe-ff4c-4ecb-b33b-31023d255539",
   "metadata": {},
   "outputs": [],
   "source": []
  },
  {
   "cell_type": "code",
   "execution_count": null,
   "id": "1fe52496-d05b-4b20-9844-4fdbd1cb404b",
   "metadata": {},
   "outputs": [],
   "source": [
    "# 1. Get all keys"
   ]
  },
  {
   "cell_type": "code",
   "execution_count": null,
   "id": "84cd564a-ab80-43e6-ab5f-590498f85079",
   "metadata": {},
   "outputs": [],
   "source": [
    "# get all shared keys\n",
    "shared_keys = [lr_res[method.method_name][keys].drop_duplicates(keep='first') for method in _methods]\n",
    "# outer join all from different methods to keep all possibilities\n",
    "shared_keys = reduce(lambda left, right: pd.merge(left, right, how='outer', on=keys), shared_keys)"
   ]
  },
  {
   "cell_type": "code",
   "execution_count": null,
   "id": "5d870045-291a-4119-9e04-e7f46266a2e3",
   "metadata": {},
   "outputs": [],
   "source": []
  },
  {
   "cell_type": "code",
   "execution_count": null,
   "id": "98de82ba-c29e-4f7e-8414-6c7dba2b80f2",
   "metadata": {},
   "outputs": [],
   "source": [
    "# 2. Set-up the scores to be used (method_name:(score_name, desc))\n",
    "specs = {method.method_name:(method.specificity, method.specificity_desc) for method in _methods if method.specificity is not None}\n",
    "mags = {method.method_name:method.magnitude for method in _methods if method.magnitude is not None}\n",
    "steady = specs + {sca.method_name:sca.magnitude}"
   ]
  },
  {
   "cell_type": "code",
   "execution_count": null,
   "id": "09cd4524-0134-4a29-a822-86027bf0527a",
   "metadata": {},
   "outputs": [],
   "source": [
    "# steady\n",
    "specs[sca.method_name]=(sca.magnitude, sca.magnitude_desc)"
   ]
  },
  {
   "cell_type": "code",
   "execution_count": null,
   "id": "1ef097b9-eff7-45cf-a245-9442463c49e3",
   "metadata": {},
   "outputs": [],
   "source": [
    "specs"
   ]
  },
  {
   "cell_type": "code",
   "execution_count": null,
   "id": "84c85565-2dc6-460b-973d-f81f08c7f3f4",
   "metadata": {},
   "outputs": [],
   "source": []
  },
  {
   "cell_type": "markdown",
   "id": "5708d42e-f75c-4a33-a227-273678f75d09",
   "metadata": {},
   "source": [
    "^ Up to here in liana-pipe"
   ]
  },
  {
   "cell_type": "code",
   "execution_count": null,
   "id": "1e374a07-f19c-4755-919b-95e2bb165103",
   "metadata": {},
   "outputs": [],
   "source": []
  },
  {
   "cell_type": "code",
   "execution_count": null,
   "id": "cecdbe0a-2d0a-4beb-a191-66409eafeb08",
   "metadata": {},
   "outputs": [],
   "source": [
    "# 3. To them join the scores"
   ]
  },
  {
   "cell_type": "code",
   "execution_count": null,
   "id": "c10ab7e3-ac2e-45a8-bb84-8429c373bef9",
   "metadata": {},
   "outputs": [],
   "source": []
  },
  {
   "cell_type": "code",
   "execution_count": null,
   "id": "62743b62-5ced-4b4e-9a3f-7a658c47c14b",
   "metadata": {},
   "outputs": [],
   "source": []
  },
  {
   "cell_type": "code",
   "execution_count": null,
   "id": "d5cc8cdc-fac3-4cbe-95ad-30a53cb19787",
   "metadata": {},
   "outputs": [],
   "source": []
  },
  {
   "cell_type": "code",
   "execution_count": null,
   "id": "60006661-a548-4744-bd54-a636e593ea4b",
   "metadata": {},
   "outputs": [],
   "source": []
  },
  {
   "cell_type": "code",
   "execution_count": null,
   "id": "2960a2cd-3932-4179-8501-6c0fdd52231e",
   "metadata": {},
   "outputs": [],
   "source": []
  },
  {
   "cell_type": "code",
   "execution_count": null,
   "id": "bf958098-edc1-4546-b055-f9942f34fdc7",
   "metadata": {},
   "outputs": [],
   "source": []
  },
  {
   "cell_type": "code",
   "execution_count": null,
   "id": "9f0032d7-2717-4141-ae94-a490fa3e90e9",
   "metadata": {},
   "outputs": [],
   "source": []
  },
  {
   "cell_type": "code",
   "execution_count": null,
   "id": "3699e295-dcd4-4513-b5d4-37cd3fee2784",
   "metadata": {},
   "outputs": [],
   "source": []
  },
  {
   "cell_type": "code",
   "execution_count": null,
   "id": "2b443ea0-6b6e-437f-84f5-4e99091842dd",
   "metadata": {},
   "outputs": [],
   "source": [
    "res = [ lr_res[spec][keys + [specs[spec][0]]].drop_duplicates(keep='first') for spec in specs ]"
   ]
  },
  {
   "cell_type": "code",
   "execution_count": null,
   "id": "1ccc2149-f785-43a0-85e2-0c59abcd33ac",
   "metadata": {},
   "outputs": [],
   "source": [
    "# reduce to a df with the shared keys + all relevant scores\n",
    "res = reduce(lambda left, right: pd.merge(left, right, how='left', on=keys), [shared_keys] + res)"
   ]
  },
  {
   "cell_type": "code",
   "execution_count": null,
   "id": "a3dbd7a8-76aa-41a6-a3b7-8ea3465f2fa1",
   "metadata": {},
   "outputs": [],
   "source": [
    "res"
   ]
  },
  {
   "cell_type": "code",
   "execution_count": null,
   "id": "4a93cc5e-c411-4afd-90f2-634d0489be76",
   "metadata": {},
   "outputs": [],
   "source": []
  },
  {
   "cell_type": "code",
   "execution_count": null,
   "id": "fba5274c-8936-4c3c-bf35-0e8a98bfe6dd",
   "metadata": {},
   "outputs": [],
   "source": []
  },
  {
   "cell_type": "code",
   "execution_count": null,
   "id": "8f2a18ee-d4f8-4db3-af79-221b59686103",
   "metadata": {},
   "outputs": [],
   "source": [
    "# 4. Calculate Ranks"
   ]
  },
  {
   "cell_type": "code",
   "execution_count": null,
   "id": "9dcd81c8-d72f-45e8-a529-4722938c6e4d",
   "metadata": {},
   "outputs": [],
   "source": [
    "# Convert specs columns to ranks\n",
    "for spec in specs:\n",
    "    score_name = specs[spec][0]\n",
    "    desc = specs[spec][1]\n",
    "    \n",
    "    if desc:\n",
    "        res[score_name] = rankdata(res[score_name] * -1, method='average')\n",
    "    else: \n",
    "        res[score_name] = rankdata(res[score_name], method='average')\n"
   ]
  },
  {
   "cell_type": "code",
   "execution_count": null,
   "id": "77c77ab8-0613-428f-9078-6b528008e464",
   "metadata": {},
   "outputs": [],
   "source": []
  },
  {
   "cell_type": "code",
   "execution_count": null,
   "id": "1392b9e9-d42c-4b7c-b4a3-bd3b7126b172",
   "metadata": {},
   "outputs": [],
   "source": []
  },
  {
   "cell_type": "code",
   "execution_count": null,
   "id": "5dc07367-f5da-49d3-b73c-fe6d8eb74d9c",
   "metadata": {},
   "outputs": [],
   "source": []
  },
  {
   "cell_type": "code",
   "execution_count": null,
   "id": "3f3e3ff3-1f15-45f9-b7f7-8fb2f33cc55f",
   "metadata": {},
   "outputs": [],
   "source": []
  },
  {
   "cell_type": "markdown",
   "id": "27281985-7390-427f-bc3c-9a8a545fb30d",
   "metadata": {},
   "source": [
    "Get Ranked Matrix"
   ]
  },
  {
   "cell_type": "code",
   "execution_count": null,
   "id": "a452991b-4516-43e4-a634-8daff6ec0030",
   "metadata": {},
   "outputs": [],
   "source": [
    "rmat = res.drop(keys, axis=1).values"
   ]
  },
  {
   "cell_type": "code",
   "execution_count": null,
   "id": "cda92251-cb49-46d8-bf88-b54afecac2a4",
   "metadata": {},
   "outputs": [],
   "source": []
  },
  {
   "cell_type": "markdown",
   "id": "30904bc1-2364-4019-8728-0df4bc8ec42f",
   "metadata": {},
   "source": [
    "Mean rank"
   ]
  },
  {
   "cell_type": "code",
   "execution_count": null,
   "id": "815445ad-96ce-40e0-beaf-e16dd4140e1c",
   "metadata": {},
   "outputs": [],
   "source": [
    "def _mean_rank(rmat):\n",
    "    return np.mean(rmat, axis=1)"
   ]
  },
  {
   "cell_type": "code",
   "execution_count": null,
   "id": "8150f479-2c9a-4a94-bca9-7aafae2e29f6",
   "metadata": {},
   "outputs": [],
   "source": []
  },
  {
   "cell_type": "code",
   "execution_count": null,
   "id": "05c0029c-e3d6-4933-8bf0-d68773cdbd53",
   "metadata": {},
   "outputs": [],
   "source": []
  },
  {
   "cell_type": "markdown",
   "id": "116ca18b-d6ca-45bc-8db8-c691f98b5eb1",
   "metadata": {},
   "source": [
    "Re-implement robust rank"
   ]
  },
  {
   "cell_type": "code",
   "execution_count": null,
   "id": "21a20831-a5e1-4945-8e8e-ee0406d4d84b",
   "metadata": {},
   "outputs": [],
   "source": [
    "def _robust_rank_aggregate(rmat):\n",
    "    # 0-1 values depending on releative rank of\n",
    "    # each interaction divided by the max of each method\n",
    "    # due to max diffs due to ties\n",
    "    rmat = rmat / np.max(rmat, axis=0)\n",
    "    # generate dist_a/b with same row size as rmat\n",
    "    dist_a = np.repeat([np.arange(rmat.shape[1])], rmat.shape[0], axis=0) + 1\n",
    "    dist_b = rmat.shape[1] - dist_a + 1\n",
    "    \n",
    "    return _rho_scores(rmat, dist_a, dist_b)"
   ]
  },
  {
   "cell_type": "code",
   "execution_count": null,
   "id": "8ca7944d-eda1-4742-8c41-83a4f6dbd65c",
   "metadata": {},
   "outputs": [],
   "source": []
  },
  {
   "cell_type": "code",
   "execution_count": null,
   "id": "1f1efc22-9035-4b25-b216-5d6bbe1a507b",
   "metadata": {},
   "outputs": [],
   "source": [
    "_robust_rank_aggregate(rmat)"
   ]
  },
  {
   "cell_type": "code",
   "execution_count": null,
   "id": "c40bb954-a531-459b-a285-6eba21a53eff",
   "metadata": {},
   "outputs": [],
   "source": []
  },
  {
   "cell_type": "code",
   "execution_count": null,
   "id": "8549516b-a911-4673-bfbd-53deded48007",
   "metadata": {},
   "outputs": [],
   "source": [
    "\n",
    "rmat = res.drop(keys, axis=1).values / np.max(rmat, axis=0) ## DIVIDE BY THE MAX OF EACH NOT BY THE LENGTH (to deal /w min_rank stuff)"
   ]
  },
  {
   "cell_type": "code",
   "execution_count": null,
   "id": "cc9880b3-4256-4017-8071-4b926d0d1efa",
   "metadata": {},
   "outputs": [],
   "source": [
    "rmat"
   ]
  },
  {
   "cell_type": "code",
   "execution_count": null,
   "id": "6168574b-3304-4e63-8ac7-f0d198a72140",
   "metadata": {},
   "outputs": [],
   "source": []
  },
  {
   "cell_type": "code",
   "execution_count": null,
   "id": "e8d90058-c44e-4758-a716-0a7378a6b1f9",
   "metadata": {},
   "outputs": [],
   "source": [
    "dist_a = np.repeat([np.arange(rmat.shape[1])], rmat.shape[0], axis=0) + 1"
   ]
  },
  {
   "cell_type": "code",
   "execution_count": null,
   "id": "de926303-e290-4c42-821e-7a7884e57188",
   "metadata": {},
   "outputs": [],
   "source": [
    "dist_b = rmat.shape[1] - dist_a + 1"
   ]
  },
  {
   "cell_type": "code",
   "execution_count": null,
   "id": "95d5e8d2-c80e-4db5-9d26-b862b68f8b1b",
   "metadata": {},
   "outputs": [],
   "source": []
  },
  {
   "cell_type": "code",
   "execution_count": null,
   "id": "4371c508-77a1-422f-b4af-5806bda02fac",
   "metadata": {},
   "outputs": [],
   "source": []
  },
  {
   "cell_type": "code",
   "execution_count": null,
   "id": "36256f4b-7db4-42bc-b91e-029262baebcf",
   "metadata": {},
   "outputs": [],
   "source": [
    "np.sort(rmat[2474])"
   ]
  },
  {
   "cell_type": "code",
   "execution_count": null,
   "id": "a4514a71-8a5d-42a5-b983-76f6c69e2777",
   "metadata": {},
   "outputs": [],
   "source": []
  },
  {
   "cell_type": "code",
   "execution_count": null,
   "id": "809d35cd-6de6-4fdb-a3b4-21c8b4a862eb",
   "metadata": {},
   "outputs": [],
   "source": [
    "# for 1 row (interaction)\n",
    "corr_beta_pvals(np.min(beta.cdf(np.sort(rmat[2474]), dist_a[1], dist_b[1]), axis=0), k = rmat.shape[1])"
   ]
  },
  {
   "cell_type": "code",
   "execution_count": null,
   "id": "04e70443-8c21-42b1-a815-da281318d89d",
   "metadata": {},
   "outputs": [],
   "source": []
  },
  {
   "cell_type": "code",
   "execution_count": null,
   "id": "c20f5e06-0401-40d7-9d6a-d3cc6e503b03",
   "metadata": {},
   "outputs": [],
   "source": [
    "_rho_scores(rmat, dist_a, dist_b)"
   ]
  },
  {
   "cell_type": "code",
   "execution_count": null,
   "id": "a918a5f8-ad54-4001-9f24-3ed541ce4824",
   "metadata": {},
   "outputs": [],
   "source": [
    "rmat[2474]"
   ]
  },
  {
   "cell_type": "code",
   "execution_count": null,
   "id": "99ab80de-db74-4166-9461-076741fecfbc",
   "metadata": {},
   "outputs": [],
   "source": []
  },
  {
   "cell_type": "code",
   "execution_count": null,
   "id": "fcb00d4c-79cb-4fe0-9085-4d157e04b9bb",
   "metadata": {},
   "outputs": [],
   "source": [
    "res.iloc[2474]"
   ]
  },
  {
   "cell_type": "code",
   "execution_count": null,
   "id": "2b2cf00a-ab1a-4f2e-9da9-2f95f46ed5d4",
   "metadata": {},
   "outputs": [],
   "source": []
  },
  {
   "cell_type": "code",
   "execution_count": null,
   "id": "1531d0d2-1e9b-4eda-951c-eaf472d5b846",
   "metadata": {},
   "outputs": [],
   "source": [
    "shared_keys['aggregate_rank'] = rho"
   ]
  },
  {
   "cell_type": "code",
   "execution_count": null,
   "id": "70959fc1-4832-4cdb-a9cd-d792c8168ac8",
   "metadata": {},
   "outputs": [],
   "source": [
    "shared_keys[(shared_keys['ligand_complex']=='COL18A1') & (shared_keys['receptor_complex']=='ITGA5') ].sort_values('mean_rank')"
   ]
  },
  {
   "cell_type": "code",
   "execution_count": null,
   "id": "c3680c2f-8112-4562-a155-aa869478622f",
   "metadata": {},
   "outputs": [],
   "source": []
  },
  {
   "cell_type": "code",
   "execution_count": null,
   "id": "71df2afd-5c71-4649-b7e7-1d12a917d8df",
   "metadata": {},
   "outputs": [],
   "source": []
  },
  {
   "cell_type": "code",
   "execution_count": null,
   "id": "320cfa60-d3a7-490d-8b9d-a9a2983dcdcb",
   "metadata": {},
   "outputs": [],
   "source": [
    "shared_keys[shared_keys['aggregate_rank']==0]"
   ]
  },
  {
   "cell_type": "code",
   "execution_count": null,
   "id": "a3b869b7-958d-4a02-bc53-3108527634d6",
   "metadata": {},
   "outputs": [],
   "source": [
    "shared_keys.sort_values('aggregate_rank')"
   ]
  },
  {
   "cell_type": "code",
   "execution_count": null,
   "id": "73f13a4c-a296-48d8-9924-4c6ff4e7fa79",
   "metadata": {},
   "outputs": [],
   "source": []
  },
  {
   "cell_type": "code",
   "execution_count": null,
   "id": "c9d35261-63a2-474e-a43a-e7b3850ba4e0",
   "metadata": {},
   "outputs": [],
   "source": [
    "# test rho_scores\n",
    "a = np.array([0.1, 0.3, 0.5, 0.1, 0.3])\n",
    "x = beta.cdf(np.sort(a), dist_a[1], dist_b[1])\n",
    "corr_beta_pvals(np.min(x), 5)\n",
    "# lianaR = .rho_scores(c(0.1, 0.3, 0.5, 0.1, 0.3))"
   ]
  },
  {
   "cell_type": "code",
   "execution_count": null,
   "id": "42c7a45d-d974-4dc6-b4b9-12697ed18c96",
   "metadata": {},
   "outputs": [],
   "source": []
  },
  {
   "cell_type": "code",
   "execution_count": null,
   "id": "3c2856b6-a317-499b-bf37-503ec9389199",
   "metadata": {},
   "outputs": [],
   "source": []
  },
  {
   "cell_type": "code",
   "execution_count": null,
   "id": "eaa6cecd-03ce-46f2-8293-54bacd70fb15",
   "metadata": {},
   "outputs": [],
   "source": []
  },
  {
   "cell_type": "code",
   "execution_count": null,
   "id": "45475145-6f77-4fe7-a12d-8ab1b0f2a8f6",
   "metadata": {},
   "outputs": [],
   "source": [
    "import numpy as np\n",
    "import pandas as pd\n",
    "\n",
    "from numpy.random import default_rng\n",
    "\n",
    "from scipy.stats import beta\n",
    "\n",
    "\n",
    "def beta_scores(rmat):\n",
    "    rmat = np.sort(rmat, axis=0)\n",
    "    n = rmat.shape[0]\n",
    "    dist_a = np.repeat([np.repeat([np.arange(n)], rmat.shape[1], axis=0)], rmat.shape[2], axis=0).T + 1\n",
    "    dist_b = n - dist_a + 1\n",
    "    p = beta.cdf(np.sort(rmat, axis=0), dist_a, dist_b)\n",
    "    return p\n",
    "\n",
    "\n",
    "def corr_beta_pvals(p, k):\n",
    "    p = np.clip(p * k, a_min=0, a_max=1)\n",
    "    return p"
   ]
  },
  {
   "cell_type": "code",
   "execution_count": null,
   "id": "4b5d4d36-51b8-40c8-9a53-e68b28163811",
   "metadata": {},
   "outputs": [],
   "source": []
  },
  {
   "cell_type": "code",
   "execution_count": null,
   "id": "f39b48ba-54ec-46d2-8175-42a29731247b",
   "metadata": {},
   "outputs": [],
   "source": []
  },
  {
   "cell_type": "code",
   "execution_count": null,
   "id": "714c634e-6258-4f65-b690-6adb2b34d316",
   "metadata": {},
   "outputs": [],
   "source": []
  },
  {
   "cell_type": "code",
   "execution_count": null,
   "id": "f6db115a-64fc-4dc3-a0c0-d2c72748e1f1",
   "metadata": {},
   "outputs": [],
   "source": []
  },
  {
   "cell_type": "code",
   "execution_count": null,
   "id": "d5be3f7d-2fd0-485f-ae3f-d6351ab786a5",
   "metadata": {},
   "outputs": [],
   "source": [
    "for method in _methods:\n",
    "    if method.specificity is not None:\n",
    "        # relevant_cols = [x for x in keys + [method.specificity, method.magnitude] if x is not None]\n",
    "        lr = lr_res[method.method_name][keys + [method.specificity]]\n",
    "        # discard any duplicates\n",
    "        # this occurs when e.g. multiple subunits with expr. of 0 exist\n",
    "        lr = lr.drop_duplicates(keep='first')\n",
    "        lr_ranks[method.method_name] = lr\n",
    "        # order = array.argsort()\n",
    "        # ranks = order.argsort()\n",
    "        # lr_ranks[method.method_name] = ranks\n"
   ]
  },
  {
   "cell_type": "code",
   "execution_count": null,
   "id": "c518c619-4426-4b20-8ac7-0356a5213380",
   "metadata": {},
   "outputs": [],
   "source": [
    "joined = reduce(lambda left, right: pd.merge(left, right, how='outer', on=keys), lr_ranks.values())\n",
    "specs = joined[['pvals', 'scaled_weight', 'lr_logfc', 'spec_weight']].values.T"
   ]
  },
  {
   "cell_type": "code",
   "execution_count": null,
   "id": "e6ce439a-3910-4b2d-b2de-35228de5e8a7",
   "metadata": {},
   "outputs": [],
   "source": [
    "# Rank thing\n",
    "rmat1 = ((specs.shape[1] - np.argsort(np.argsort(specs))) / (specs.shape[1])).T"
   ]
  },
  {
   "cell_type": "code",
   "execution_count": null,
   "id": "1a74d109-38c3-4191-8efd-2a82258d21b7",
   "metadata": {},
   "outputs": [],
   "source": [
    "rmat"
   ]
  },
  {
   "cell_type": "code",
   "execution_count": null,
   "id": "fb6b8342-1e13-499c-b0e0-79c7e75729a6",
   "metadata": {},
   "outputs": [],
   "source": []
  },
  {
   "cell_type": "code",
   "execution_count": null,
   "id": "d5fea6c0-eab3-4d30-b362-a119f4af3419",
   "metadata": {},
   "outputs": [],
   "source": []
  },
  {
   "cell_type": "code",
   "execution_count": null,
   "id": "13f8eced-34c2-4410-b597-bebd8ac9241d",
   "metadata": {},
   "outputs": [],
   "source": [
    "# Desc:True/False; Method_name:Score, specificity, magnitude, steady (specificity + sca)"
   ]
  },
  {
   "cell_type": "code",
   "execution_count": null,
   "id": "0963fa13-985e-4ac0-9661-039423b23d3a",
   "metadata": {},
   "outputs": [],
   "source": []
  },
  {
   "cell_type": "code",
   "execution_count": null,
   "id": "046c78bb-c9b9-4a02-84b2-3f434cbe452e",
   "metadata": {},
   "outputs": [],
   "source": []
  },
  {
   "cell_type": "code",
   "execution_count": null,
   "id": "eacf65ca-844c-462e-85e7-bc097371e114",
   "metadata": {},
   "outputs": [],
   "source": [
    "lr_ranks={}"
   ]
  },
  {
   "cell_type": "code",
   "execution_count": null,
   "id": "75585ea9-4753-4982-99b7-2998171275b0",
   "metadata": {},
   "outputs": [],
   "source": [
    "for method in _methods:\n",
    "    if method.magnitude is not None:\n",
    "        # relevant_cols = [x for x in keys + [method.specificity, method.magnitude] if x is not None]\n",
    "        lr = lr_res[method.method_name][keys + [method.magnitude]]\n",
    "        # discard any duplicates\n",
    "        # this occurs when e.g. multiple subunits with expr. of 0 exist\n",
    "        lr = lr.drop_duplicates(keep='first')\n",
    "        lr_ranks[method.method_name] = lr\n",
    "        # order = array.argsort()\n",
    "        # ranks = order.argsort()\n",
    "        # lr_ranks[method.method_name] = ranks"
   ]
  },
  {
   "cell_type": "code",
   "execution_count": null,
   "id": "e82f3980-c5b3-4aaf-9c97-c5d32333e164",
   "metadata": {},
   "outputs": [],
   "source": [
    "joined = reduce(lambda left, right: pd.merge(left, right, how='outer', on=keys), lr_ranks.values())"
   ]
  },
  {
   "cell_type": "code",
   "execution_count": null,
   "id": "1d048812-ceb5-4912-8b85-6293cd191e1e",
   "metadata": {},
   "outputs": [],
   "source": []
  },
  {
   "cell_type": "code",
   "execution_count": null,
   "id": "38e14cc6-e52b-4caf-a848-e14b9c57069d",
   "metadata": {},
   "outputs": [],
   "source": [
    "joined # issue with non-unique: should iterateve over unique scores, not methods"
   ]
  },
  {
   "cell_type": "code",
   "execution_count": null,
   "id": "4e0fea35-e740-467b-a242-bce93f6be287",
   "metadata": {},
   "outputs": [],
   "source": []
  },
  {
   "cell_type": "code",
   "execution_count": null,
   "id": "38a1e673-0901-427a-ae30-3dfadf3cbe0e",
   "metadata": {},
   "outputs": [],
   "source": [
    "mags = joined[['lr_means_x', 'expr_prod_x', 'expr_prod_y','lr_means_y']].values.T\n",
    "# Rank thing\n",
    "rmat2 = ((mags.shape[1] - np.argsort(np.argsort(mags))) / (mags.shape[1])).T"
   ]
  },
  {
   "cell_type": "code",
   "execution_count": null,
   "id": "0fcc0d09-1f69-419e-92f6-8f05b74621aa",
   "metadata": {},
   "outputs": [],
   "source": []
  },
  {
   "cell_type": "code",
   "execution_count": null,
   "id": "0931bec9-949d-46d4-bb40-3c973f699e1f",
   "metadata": {},
   "outputs": [],
   "source": [
    "rmat = np.sort(rmat, axis=0)\n",
    "n = rmat.shape[0]"
   ]
  },
  {
   "cell_type": "code",
   "execution_count": null,
   "id": "2841a9cd-7e48-4b26-9d45-4f7da2e7ea9e",
   "metadata": {},
   "outputs": [],
   "source": []
  },
  {
   "cell_type": "code",
   "execution_count": null,
   "id": "d14cdb8c-7bde-4992-bc9c-c90927080037",
   "metadata": {},
   "outputs": [],
   "source": [
    "np.repeat(np.empty(1), 100)"
   ]
  },
  {
   "cell_type": "code",
   "execution_count": null,
   "id": "dabdba6b-a5ad-4b91-8497-4e8e743bf9a9",
   "metadata": {},
   "outputs": [],
   "source": []
  },
  {
   "cell_type": "code",
   "execution_count": null,
   "id": "fd95d4ff-ccdb-4c7c-82d6-8b707e18b907",
   "metadata": {},
   "outputs": [],
   "source": [
    "?np.repeat"
   ]
  },
  {
   "cell_type": "code",
   "execution_count": null,
   "id": "edbd041f-8725-4683-b37b-70a55d06c6c9",
   "metadata": {},
   "outputs": [],
   "source": []
  },
  {
   "cell_type": "code",
   "execution_count": null,
   "id": "c30f1de9-77ba-42e2-ac5d-3185c3ef6655",
   "metadata": {},
   "outputs": [],
   "source": []
  },
  {
   "cell_type": "code",
   "execution_count": null,
   "id": "c4eb3258-342a-4386-8583-64c77c7d9700",
   "metadata": {},
   "outputs": [],
   "source": [
    "any(lr_res['CellPhoneDB'][keys].duplicated())"
   ]
  },
  {
   "cell_type": "code",
   "execution_count": null,
   "id": "40a1b00f-409f-475f-8e29-07613a4c587f",
   "metadata": {},
   "outputs": [],
   "source": [
    "any(joined.duplicated())"
   ]
  },
  {
   "cell_type": "code",
   "execution_count": null,
   "id": "32eecc20-3abb-417f-92b0-739423035998",
   "metadata": {},
   "outputs": [],
   "source": []
  },
  {
   "cell_type": "code",
   "execution_count": null,
   "id": "c1e7b14d-5309-4184-9a05-1bf87ece6d9b",
   "metadata": {},
   "outputs": [],
   "source": []
  },
  {
   "cell_type": "code",
   "execution_count": null,
   "id": "51b554d6-5e4f-45ea-8442-18d25872094b",
   "metadata": {},
   "outputs": [],
   "source": [
    "lr_ranks['CellPhoneDB'][lr_ranks['CellPhoneDB'][keys].duplicated()]"
   ]
  },
  {
   "cell_type": "code",
   "execution_count": null,
   "id": "08828082-0d0d-4eac-a49c-72f34f9e2ac3",
   "metadata": {},
   "outputs": [],
   "source": []
  },
  {
   "cell_type": "code",
   "execution_count": null,
   "id": "aed1a365-71fd-426c-81fc-7e8619da78d8",
   "metadata": {},
   "outputs": [],
   "source": []
  },
  {
   "cell_type": "code",
   "execution_count": null,
   "id": "c331cb17-e0d6-44d7-8719-7a06ec063179",
   "metadata": {},
   "outputs": [],
   "source": []
  },
  {
   "cell_type": "code",
   "execution_count": null,
   "id": "8968a28f-401d-49c7-a579-432edeb9312c",
   "metadata": {},
   "outputs": [],
   "source": [
    "any(joined.duplicated())"
   ]
  },
  {
   "cell_type": "code",
   "execution_count": null,
   "id": "4b51b406-5774-4fb6-a46a-a4efa9478639",
   "metadata": {},
   "outputs": [],
   "source": []
  },
  {
   "cell_type": "code",
   "execution_count": null,
   "id": "eb525524-38ec-48e9-9a4b-1b1d5d8ea877",
   "metadata": {},
   "outputs": [],
   "source": [
    "joined.drop_duplicates(keep='first', inplace=False)"
   ]
  },
  {
   "cell_type": "code",
   "execution_count": null,
   "id": "7e0e1232-2953-4e91-ac15-4d0f03dd191d",
   "metadata": {},
   "outputs": [],
   "source": [
    "joined"
   ]
  },
  {
   "cell_type": "code",
   "execution_count": null,
   "id": "57e366c2-3ac2-4d05-abc3-4232dda759c0",
   "metadata": {},
   "outputs": [],
   "source": []
  },
  {
   "cell_type": "code",
   "execution_count": null,
   "id": "54107f1f-7fd9-4172-9d87-584775f5e1b4",
   "metadata": {},
   "outputs": [],
   "source": [
    "lr_res['CellPhoneDB']['x'] = 1"
   ]
  },
  {
   "cell_type": "code",
   "execution_count": null,
   "id": "dfbbc16d-4250-4716-a25f-b4c6eadedece",
   "metadata": {},
   "outputs": [],
   "source": []
  },
  {
   "cell_type": "code",
   "execution_count": null,
   "id": "939eb5d7-4ec3-4276-9815-113b2eca3da4",
   "metadata": {},
   "outputs": [],
   "source": [
    "all(joined.merge(lr_res['CellPhoneDB'], how='left')['x']==1)"
   ]
  },
  {
   "cell_type": "code",
   "execution_count": null,
   "id": "f9342d88-4edf-41ea-a7e9-f974094a242d",
   "metadata": {},
   "outputs": [],
   "source": []
  },
  {
   "cell_type": "code",
   "execution_count": null,
   "id": "b36d14f3-e75c-421f-afcd-0bd21b2a232c",
   "metadata": {},
   "outputs": [],
   "source": [
    "any(lr_res['CellPhoneDB'].duplicated())"
   ]
  },
  {
   "cell_type": "code",
   "execution_count": null,
   "id": "511668b3-0e52-4176-b18a-4145aab6616e",
   "metadata": {},
   "outputs": [],
   "source": []
  },
  {
   "cell_type": "code",
   "execution_count": null,
   "id": "6ed43849-cc75-4454-a4cc-46ef3563aa1e",
   "metadata": {},
   "outputs": [],
   "source": [
    "joined[joined[keys].duplicated()]"
   ]
  },
  {
   "cell_type": "code",
   "execution_count": null,
   "id": "1407b38a-072c-4416-b34b-d58ceef339f1",
   "metadata": {},
   "outputs": [],
   "source": []
  },
  {
   "cell_type": "code",
   "execution_count": null,
   "id": "3f8f27af-2697-4d7d-bcdc-4cc0b4d688e8",
   "metadata": {},
   "outputs": [],
   "source": []
  },
  {
   "cell_type": "code",
   "execution_count": null,
   "id": "144d1b87-d205-46e7-9cd3-f82d3c07f308",
   "metadata": {},
   "outputs": [],
   "source": [
    "any(np.isnan(joined['scaled_weight']))"
   ]
  },
  {
   "cell_type": "code",
   "execution_count": null,
   "id": "11f720f8-f2fd-47e9-ab40-a0efa2d19958",
   "metadata": {},
   "outputs": [],
   "source": []
  },
  {
   "cell_type": "code",
   "execution_count": null,
   "id": "2d5d8fbc-aeb0-4514-952c-913337d340df",
   "metadata": {},
   "outputs": [],
   "source": []
  },
  {
   "cell_type": "code",
   "execution_count": null,
   "id": "9e62386a-bf7e-4816-aa0d-5a18afc3209d",
   "metadata": {},
   "outputs": [],
   "source": []
  },
  {
   "cell_type": "code",
   "execution_count": null,
   "id": "a90b1beb-6d8b-4eed-9e0c-d4c8b025bad3",
   "metadata": {},
   "outputs": [],
   "source": [
    "lr_ranks.values"
   ]
  },
  {
   "cell_type": "code",
   "execution_count": null,
   "id": "fa811f3b-73e6-45df-b9dc-d43de66fa48f",
   "metadata": {},
   "outputs": [],
   "source": []
  },
  {
   "cell_type": "code",
   "execution_count": null,
   "id": "4f580c4f-178e-42bd-8f28-f1eebbc657d0",
   "metadata": {},
   "outputs": [],
   "source": []
  },
  {
   "cell_type": "code",
   "execution_count": null,
   "id": "39c7ff5a-289f-4ab7-808b-ef449252ee1d",
   "metadata": {},
   "outputs": [],
   "source": [
    "lr_ranks['CellPhoneDB']"
   ]
  },
  {
   "cell_type": "code",
   "execution_count": null,
   "id": "698938fa-bc3d-4aa5-9f3c-364a5b85661e",
   "metadata": {},
   "outputs": [],
   "source": []
  },
  {
   "cell_type": "code",
   "execution_count": null,
   "id": "0437ad08-7bd9-4c1f-902d-075b726d02db",
   "metadata": {},
   "outputs": [],
   "source": []
  },
  {
   "cell_type": "code",
   "execution_count": null,
   "id": "d7304d2d-60d3-4d50-85f9-ebe8fb39ca70",
   "metadata": {},
   "outputs": [],
   "source": []
  },
  {
   "cell_type": "code",
   "execution_count": null,
   "id": "6706ec2e-7a44-4692-ba7a-e9cef5cf9fde",
   "metadata": {},
   "outputs": [],
   "source": []
  },
  {
   "cell_type": "code",
   "execution_count": null,
   "id": "f808c546-d4d4-414d-8804-389649f4a94f",
   "metadata": {},
   "outputs": [],
   "source": []
  },
  {
   "cell_type": "code",
   "execution_count": null,
   "id": "612d3807-f646-4947-9d56-cc92582a8e45",
   "metadata": {},
   "outputs": [],
   "source": [
    "lr_ranks = {}"
   ]
  },
  {
   "cell_type": "code",
   "execution_count": null,
   "id": "0ad68687-e022-4951-acd2-c703ba19a312",
   "metadata": {},
   "outputs": [],
   "source": [
    "np.zeros([5, 1000, 1000])"
   ]
  },
  {
   "cell_type": "code",
   "execution_count": null,
   "id": "3d45c597-2c7f-4961-bcab-86c341c2bac8",
   "metadata": {},
   "outputs": [],
   "source": []
  },
  {
   "cell_type": "code",
   "execution_count": null,
   "id": "ab6337e5-809c-4769-b45a-30c1d7375eb2",
   "metadata": {},
   "outputs": [],
   "source": []
  },
  {
   "cell_type": "code",
   "execution_count": null,
   "id": "ac3d5dad-23b3-4270-b3a8-81bc7e57e0f7",
   "metadata": {},
   "outputs": [],
   "source": [
    "for method in _methods:\n",
    "    if method.specificity is not None:\n",
    "        lr_ranks['specs'][method.method_name] = lr_res[method.method_name][method.specificity].values\n",
    "    if method.magnitude is not None:\n",
    "        lr_ranks['mags'][method.method_name] = lr_res[method.method_name][method.specificity].values"
   ]
  },
  {
   "cell_type": "code",
   "execution_count": null,
   "id": "849fb0d7-1c1b-4a79-8ae7-1c7ffc0e8d7d",
   "metadata": {},
   "outputs": [],
   "source": [
    "lr_ranks"
   ]
  },
  {
   "cell_type": "code",
   "execution_count": null,
   "id": "2740de10-1b90-4425-9700-c03cf1ba46bd",
   "metadata": {},
   "outputs": [],
   "source": []
  },
  {
   "cell_type": "code",
   "execution_count": null,
   "id": "83e172e8-56c8-4034-ab2d-58db4a2a8674",
   "metadata": {},
   "outputs": [],
   "source": [
    "l"
   ]
  },
  {
   "cell_type": "code",
   "execution_count": null,
   "id": "42fa7d59-96e4-4557-b5a0-687b958b2137",
   "metadata": {},
   "outputs": [],
   "source": []
  },
  {
   "cell_type": "code",
   "execution_count": null,
   "id": "7219a335-dedc-4146-90e5-4e84da9999c5",
   "metadata": {},
   "outputs": [],
   "source": []
  },
  {
   "cell_type": "code",
   "execution_count": null,
   "id": "6625c69d-69fd-412a-b692-28d1b502cd60",
   "metadata": {},
   "outputs": [],
   "source": []
  },
  {
   "cell_type": "code",
   "execution_count": null,
   "id": "3a03808a-6192-4632-b0e2-a01c432cff62",
   "metadata": {},
   "outputs": [],
   "source": []
  },
  {
   "cell_type": "code",
   "execution_count": null,
   "id": "63ca7251-effe-48cd-bd43-36f14b040318",
   "metadata": {},
   "outputs": [],
   "source": []
  },
  {
   "cell_type": "code",
   "execution_count": null,
   "id": "c3f48fcb-1a83-4c0f-8d03-8b26dca618fe",
   "metadata": {},
   "outputs": [],
   "source": []
  },
  {
   "cell_type": "code",
   "execution_count": null,
   "id": "58b97d49-2636-4604-ac09-7319257f4bcb",
   "metadata": {},
   "outputs": [],
   "source": []
  },
  {
   "cell_type": "markdown",
   "id": "81286b5b-869d-4c45-a57c-4ab6d3fb39a5",
   "metadata": {
    "tags": []
   },
   "source": [
    "## Each Method"
   ]
  },
  {
   "cell_type": "markdown",
   "id": "bbc202fb-8b2a-4659-821f-b52a2f957269",
   "metadata": {},
   "source": [
    "CellPhoneDB"
   ]
  },
  {
   "cell_type": "code",
   "execution_count": null,
   "id": "f34a6a93-f823-4c50-a716-6d9f7aa873a2",
   "metadata": {},
   "outputs": [],
   "source": [
    "from liana import cellphonedb"
   ]
  },
  {
   "cell_type": "code",
   "execution_count": null,
   "id": "ae10eb86-43f0-49eb-a2ce-bc4ef2b4a030",
   "metadata": {},
   "outputs": [],
   "source": [
    "%%time\n",
    "adata = cellphonedb(adata, groupby='label', n_perms=1000)"
   ]
  },
  {
   "cell_type": "code",
   "execution_count": null,
   "id": "5da48042-4f6a-463f-9900-35cf075e8157",
   "metadata": {},
   "outputs": [],
   "source": [
    "lr_res = adata.uns['liana_res']"
   ]
  },
  {
   "cell_type": "code",
   "execution_count": null,
   "id": "5fe86072-35f7-488d-8902-edb88dbea50c",
   "metadata": {},
   "outputs": [],
   "source": [
    "lr_res[lr_res['receptor_complex']=='CD8A_CD8B']"
   ]
  },
  {
   "cell_type": "code",
   "execution_count": null,
   "id": "05070b28-53a6-457f-b8ee-f776ccde22e6",
   "metadata": {},
   "outputs": [],
   "source": []
  },
  {
   "cell_type": "code",
   "execution_count": null,
   "id": "6fadac1c-d620-45be-9659-d863ec129fad",
   "metadata": {},
   "outputs": [],
   "source": []
  },
  {
   "cell_type": "markdown",
   "id": "ac370eac-2c34-462b-a84a-f571c6627e4b",
   "metadata": {},
   "source": [
    "NATMI"
   ]
  },
  {
   "cell_type": "code",
   "execution_count": null,
   "id": "2a67dd14-3e89-40fa-a6d1-a27d9acaba59",
   "metadata": {},
   "outputs": [],
   "source": [
    "from liana import natmi"
   ]
  },
  {
   "cell_type": "code",
   "execution_count": null,
   "id": "bb3017ab-1d8e-4704-9012-2bceb959dc13",
   "metadata": {},
   "outputs": [],
   "source": [
    "adata = natmi(adata, groupby='label')"
   ]
  },
  {
   "cell_type": "code",
   "execution_count": null,
   "id": "7e53c204-d252-4d19-aa94-20d19e9e41f1",
   "metadata": {},
   "outputs": [],
   "source": [
    "adata.uns['liana_res']"
   ]
  },
  {
   "cell_type": "code",
   "execution_count": null,
   "id": "278f0447-3ad6-4a85-97ec-1274fbf18a45",
   "metadata": {},
   "outputs": [],
   "source": []
  },
  {
   "cell_type": "code",
   "execution_count": null,
   "id": "7727dc8a-1205-4e29-85e9-a0cf1571098c",
   "metadata": {},
   "outputs": [],
   "source": []
  },
  {
   "cell_type": "markdown",
   "id": "7ec44baa-0cd3-4eb6-9f7b-a5e325b6f692",
   "metadata": {},
   "source": [
    "SCA"
   ]
  },
  {
   "cell_type": "code",
   "execution_count": null,
   "id": "f57a9a05-689c-44df-9915-50c5dfc3a494",
   "metadata": {},
   "outputs": [],
   "source": [
    "from liana import singlecellsignalr as sca"
   ]
  },
  {
   "cell_type": "code",
   "execution_count": null,
   "id": "fdb9b416-7e42-4c76-bac0-32f148e28fb7",
   "metadata": {},
   "outputs": [],
   "source": [
    "adata = sca(adata, groupby='label')"
   ]
  },
  {
   "cell_type": "code",
   "execution_count": null,
   "id": "ba4b4d5a-f417-440c-a88d-68ef92aa658b",
   "metadata": {},
   "outputs": [],
   "source": [
    "adata.uns['liana_res'].sort_values('lr_means', ascending=True)"
   ]
  },
  {
   "cell_type": "code",
   "execution_count": null,
   "id": "a4c5e360-0560-4e5f-8d52-696ee1bd2a84",
   "metadata": {},
   "outputs": [],
   "source": []
  },
  {
   "cell_type": "code",
   "execution_count": null,
   "id": "b0af474f-281c-44d7-ab79-fef31d354c9d",
   "metadata": {},
   "outputs": [],
   "source": []
  },
  {
   "cell_type": "markdown",
   "id": "d0fcd85f-2505-4f9e-ae47-069432720f74",
   "metadata": {},
   "source": [
    "Connectome"
   ]
  },
  {
   "cell_type": "code",
   "execution_count": null,
   "id": "1a2e6124-01e6-411c-b1e1-669bded091dd",
   "metadata": {},
   "outputs": [],
   "source": [
    "from liana import connectome"
   ]
  },
  {
   "cell_type": "code",
   "execution_count": null,
   "id": "6c74db4a-cd6b-4db1-bee7-58f4a4375e7a",
   "metadata": {},
   "outputs": [],
   "source": [
    "adata = connectome(adata, groupby='label')"
   ]
  },
  {
   "cell_type": "code",
   "execution_count": null,
   "id": "1a9ea8d6-b1e1-4fc3-976e-ded3d73f9547",
   "metadata": {},
   "outputs": [],
   "source": [
    "adata.uns['liana_res'].sort_values('scaled_weight', ascending=False)"
   ]
  },
  {
   "cell_type": "code",
   "execution_count": null,
   "id": "a76721f0-632a-4015-a347-c5f8aa54ceb4",
   "metadata": {},
   "outputs": [],
   "source": []
  },
  {
   "cell_type": "code",
   "execution_count": null,
   "id": "f7ebe9e3-5dc5-4d93-b558-1c45e289cd47",
   "metadata": {},
   "outputs": [],
   "source": []
  },
  {
   "cell_type": "code",
   "execution_count": null,
   "id": "71db5fc9-e45a-4f15-b339-7de86f7ddd8a",
   "metadata": {},
   "outputs": [],
   "source": []
  },
  {
   "cell_type": "markdown",
   "id": "0e0a4897-21fb-4f94-96ee-ec7157a9081a",
   "metadata": {},
   "source": [
    "logFC"
   ]
  },
  {
   "cell_type": "code",
   "execution_count": null,
   "id": "6ee26c82-df43-40c9-b4cf-be0c5b08bb2f",
   "metadata": {},
   "outputs": [],
   "source": [
    "from liana import logfc"
   ]
  },
  {
   "cell_type": "code",
   "execution_count": null,
   "id": "5910e6bc-c3ff-44a7-867c-e59c3f3a9091",
   "metadata": {},
   "outputs": [],
   "source": [
    "adata = logfc(adata, groupby='label')"
   ]
  },
  {
   "cell_type": "code",
   "execution_count": null,
   "id": "8e83c7fa-2ee8-42a9-bf8f-f5065a5ce21f",
   "metadata": {},
   "outputs": [],
   "source": [
    "adata.uns['liana_res'].sort_values('lr_logfc', ascending=False)"
   ]
  },
  {
   "cell_type": "code",
   "execution_count": null,
   "id": "dbb28aa4-8f20-45e1-a041-6796dd1f045f",
   "metadata": {},
   "outputs": [],
   "source": [
    "np.exp(1)"
   ]
  },
  {
   "cell_type": "code",
   "execution_count": null,
   "id": "23bd8ff5-b9bf-4718-a8af-ee9225e76d7a",
   "metadata": {},
   "outputs": [],
   "source": []
  },
  {
   "cell_type": "code",
   "execution_count": null,
   "id": "8b083646-d111-4f0c-a2bd-dbc6c7415e82",
   "metadata": {},
   "outputs": [],
   "source": []
  },
  {
   "cell_type": "markdown",
   "id": "2b1733cb-cb90-4bd8-a331-ba42d119669e",
   "metadata": {
    "tags": []
   },
   "source": [
    "try w/ real data"
   ]
  },
  {
   "cell_type": "code",
   "execution_count": null,
   "id": "410040b2-fb80-4b5c-8525-a5195e3d507e",
   "metadata": {},
   "outputs": [],
   "source": [
    "adata = sc.datasets.pbmc3k_processed()\n",
    "labels = adata.obs.louvain\n",
    "cells = adata.obs_names"
   ]
  },
  {
   "cell_type": "code",
   "execution_count": null,
   "id": "948b33f6-e0c9-411c-bd65-00e114139844",
   "metadata": {},
   "outputs": [],
   "source": [
    "adata = sc.datasets.pbmc3k()"
   ]
  },
  {
   "cell_type": "code",
   "execution_count": null,
   "id": "fe5ffa6c-c547-47d2-a382-61aa812db2c7",
   "metadata": {},
   "outputs": [],
   "source": [
    "adata = adata[[x in cells for x in adata.obs_names]]"
   ]
  },
  {
   "cell_type": "code",
   "execution_count": null,
   "id": "d18fd93f-560e-4ced-8b50-bfbbf5278c31",
   "metadata": {},
   "outputs": [],
   "source": [
    "adata.obs['label'] = labels"
   ]
  },
  {
   "cell_type": "code",
   "execution_count": null,
   "id": "6c7fb31f-bac7-4e63-9406-c02c947c6e9a",
   "metadata": {},
   "outputs": [],
   "source": [
    "sc.pp.log1p(adata)"
   ]
  },
  {
   "cell_type": "code",
   "execution_count": null,
   "id": "254f0ae3-0a63-4874-884a-c2d3c49db8ae",
   "metadata": {},
   "outputs": [],
   "source": [
    "%%time\n",
    "adata = cellphonedb(adata, groupby='label', n_perms=1000)"
   ]
  },
  {
   "cell_type": "code",
   "execution_count": null,
   "id": "c823a041-4775-4d50-b0da-e7dea5bbf295",
   "metadata": {},
   "outputs": [],
   "source": []
  },
  {
   "cell_type": "code",
   "execution_count": null,
   "id": "90791727-f674-4689-8c9c-34ed441c70b9",
   "metadata": {},
   "outputs": [],
   "source": []
  },
  {
   "cell_type": "code",
   "execution_count": null,
   "id": "c92c76c4-5af2-4077-8c13-291d0456e3d8",
   "metadata": {},
   "outputs": [],
   "source": []
  },
  {
   "cell_type": "code",
   "execution_count": null,
   "id": "c26f6257-50f4-451b-bb01-9b7a64ced5b5",
   "metadata": {},
   "outputs": [],
   "source": []
  },
  {
   "cell_type": "code",
   "execution_count": null,
   "id": "9960bcad-69b4-4950-b6b0-523c15fc2dfa",
   "metadata": {},
   "outputs": [],
   "source": []
  },
  {
   "cell_type": "markdown",
   "id": "c4586fde-464c-4867-86d1-1ce1feadf798",
   "metadata": {
    "jp-MarkdownHeadingCollapsed": true,
    "tags": []
   },
   "source": [
    "## LIANA PIPE LINE BY LINE"
   ]
  },
  {
   "cell_type": "code",
   "execution_count": null,
   "id": "edb1a040-d1e1-4a0b-b973-02be0bb8cd61",
   "metadata": {},
   "outputs": [],
   "source": [
    "# I get this from the score object\n",
    "_complex_cols = ['ligand_means', 'receptor_means']\n",
    "# change to full list and move to _var\n",
    "_add_cols = ['ligand', 'receptor',\n",
    "             'ligand_means_sums', 'receptor_means_sums',\n",
    "             'ligand_zscores', 'receptor_zscores',\n",
    "             'ligand_logfoldchanges', 'receptor_logfoldchanges',\n",
    "             'ligand_logfc', 'receptor_logfc'\n",
    "             'mat_mean',\n",
    "             ]\n",
    "\n",
    "_key_cols = ['source', 'target', 'ligand_complex', 'receptor_complex']"
   ]
  },
  {
   "cell_type": "code",
   "execution_count": null,
   "id": "677ce5db-7b4e-4727-880c-2715dde979a7",
   "metadata": {},
   "outputs": [],
   "source": [
    "from liana.utils.pre import check_adata, check_if_covered, format_vars, filter_resource\n",
    "from liana.resource import select_resource\n",
    "from liana.resource.select_resource import explode_complexes\n",
    "from liana.steady.liana_pipe import _get_lr\n",
    "from liana.utils.reassemble_complexes import reassemble_complexes\n",
    "from scipy.sparse import csr_matrix\n",
    "from liana.steady._permutations import get_means_perms"
   ]
  },
  {
   "cell_type": "code",
   "execution_count": null,
   "id": "66ba6d05-d067-4558-a879-87394a6d866a",
   "metadata": {},
   "outputs": [],
   "source": []
  },
  {
   "cell_type": "markdown",
   "id": "e5f74ea3-9847-43e3-bd9b-cb1c312520ee",
   "metadata": {},
   "source": [
    "I need to double check if every step makes sense, as I build unit tests!!!\n",
    "\n",
    "For example, are there any duplicated rows (source, target, ligand_complex, receptor_complex)\n",
    "\n",
    "Double check again if correct subunit is kept, etc"
   ]
  },
  {
   "cell_type": "code",
   "execution_count": null,
   "id": "a62b0165-a084-4979-9110-a18fc6da2c0e",
   "metadata": {},
   "outputs": [],
   "source": [
    "adata = check_adata(adata, True)"
   ]
  },
  {
   "cell_type": "code",
   "execution_count": null,
   "id": "67ad1ece-1a1a-4bf9-b284-25764d7cb858",
   "metadata": {},
   "outputs": [],
   "source": []
  },
  {
   "cell_type": "code",
   "execution_count": null,
   "id": "19df65eb-c6d2-4866-bc22-9b320deae6e1",
   "metadata": {},
   "outputs": [],
   "source": [
    "# Define idents col name\n",
    "adata.obs.label = adata.obs[groupby]"
   ]
  },
  {
   "cell_type": "code",
   "execution_count": null,
   "id": "ff3885f0-ba02-43ae-ad3b-c9bbb742e196",
   "metadata": {},
   "outputs": [],
   "source": []
  },
  {
   "cell_type": "markdown",
   "id": "4ccdd879-64e2-4339-9b00-0adcea5edfbc",
   "metadata": {},
   "source": [
    "Load resource"
   ]
  },
  {
   "cell_type": "code",
   "execution_count": null,
   "id": "a2c2c0b2-d792-45d2-9d2a-35daa9f16842",
   "metadata": {},
   "outputs": [],
   "source": [
    "resource = select_resource(resource_name='consensus')"
   ]
  },
  {
   "cell_type": "code",
   "execution_count": null,
   "id": "8252d9a7-5445-4d61-8ed8-ab34af871ccb",
   "metadata": {},
   "outputs": [],
   "source": [
    "# Decomplexify\n",
    "resource = explode_complexes(resource)"
   ]
  },
  {
   "cell_type": "code",
   "execution_count": null,
   "id": "4a9a67d4-1e21-4a58-9965-ffc87aed78d2",
   "metadata": {},
   "outputs": [],
   "source": [
    "# Filter Resource\n",
    "resource = filter_resource(resource, adata.var_names)"
   ]
  },
  {
   "cell_type": "code",
   "execution_count": null,
   "id": "cdd684e0-9b50-4c62-8b6b-6f1ff1b24a4e",
   "metadata": {},
   "outputs": [],
   "source": []
  },
  {
   "cell_type": "markdown",
   "id": "d7f020fe-ce4e-43e5-a65a-c500256e38b6",
   "metadata": {},
   "source": [
    "Create entities"
   ]
  },
  {
   "cell_type": "code",
   "execution_count": null,
   "id": "f0af1ebc-c5d4-4fd1-9c95-45cf6081cfcf",
   "metadata": {},
   "outputs": [],
   "source": [
    "entities = np.union1d(np.unique(resource[\"ligand\"]), np.unique(resource[\"receptor\"]))"
   ]
  },
  {
   "cell_type": "code",
   "execution_count": null,
   "id": "bb4303e7-9e8b-4d07-b91a-ce70f4a3da0b",
   "metadata": {},
   "outputs": [],
   "source": []
  },
  {
   "cell_type": "markdown",
   "id": "777dd11b-34db-4cc9-b7d4-3e7600bbbd8e",
   "metadata": {},
   "source": [
    "Check overlap between resource and adata"
   ]
  },
  {
   "cell_type": "code",
   "execution_count": null,
   "id": "d2d31c65-84a2-4bd6-a034-0a64935d063d",
   "metadata": {},
   "outputs": [],
   "source": [
    "check_if_covered(entities, adata.var_keys)"
   ]
  },
  {
   "cell_type": "code",
   "execution_count": null,
   "id": "45763bd4-cb43-4500-a912-b2eaa6ae653e",
   "metadata": {},
   "outputs": [],
   "source": []
  },
  {
   "cell_type": "markdown",
   "id": "2b70f1f0-af71-4348-95bc-bfcd16bf7ca7",
   "metadata": {},
   "source": [
    "Get global mean for SCA before filtering"
   ]
  },
  {
   "cell_type": "code",
   "execution_count": null,
   "id": "46bb2ab6-c9e1-4d4d-b33f-bf81cbd88525",
   "metadata": {},
   "outputs": [],
   "source": [
    "if 'mat_mean' in _add_cols: # SHOULD BE METHOD NAME!\n",
    "    adata.uns['mat_mean'] = np.mean(adata.X)"
   ]
  },
  {
   "cell_type": "code",
   "execution_count": null,
   "id": "0773f2a3-862d-4ac5-8299-84c5e6fef47f",
   "metadata": {},
   "outputs": [],
   "source": []
  },
  {
   "cell_type": "code",
   "execution_count": null,
   "id": "b37b2a52-7e37-4be1-ac32-457690f5bb54",
   "metadata": {},
   "outputs": [],
   "source": [
    "# Filter to only include the relevant genes\n",
    "adata = adata[:,np.intersect1d(entities, adata.var.index)]\n",
    "adata"
   ]
  },
  {
   "cell_type": "code",
   "execution_count": null,
   "id": "33212579-8762-4c83-b7ef-dc2fd8875bdb",
   "metadata": {},
   "outputs": [],
   "source": []
  },
  {
   "cell_type": "markdown",
   "id": "86cf9a4c-1693-4470-99f8-02bd60beb367",
   "metadata": {
    "tags": []
   },
   "source": [
    "Get Stats"
   ]
  },
  {
   "cell_type": "code",
   "execution_count": null,
   "id": "27042d96-a874-457e-ad75-3c312b73301b",
   "metadata": {},
   "outputs": [],
   "source": [
    "lr_res = _get_lr(adata, resource, key_cols + _complex_cols + _add_cols, de_method)"
   ]
  },
  {
   "cell_type": "code",
   "execution_count": null,
   "id": "9afdd672-e818-410e-84e0-6fb9ba6fd6be",
   "metadata": {},
   "outputs": [],
   "source": [
    "lr_res"
   ]
  },
  {
   "cell_type": "code",
   "execution_count": null,
   "id": "bddca5f6-6913-49f0-8c06-630677a6ba45",
   "metadata": {},
   "outputs": [],
   "source": []
  },
  {
   "cell_type": "code",
   "execution_count": null,
   "id": "e6bf23dc-c6eb-4ac3-aa8f-f3ce27d910d8",
   "metadata": {},
   "outputs": [],
   "source": []
  },
  {
   "cell_type": "code",
   "execution_count": null,
   "id": "795ae60d-921c-4f2c-98fc-52f33d09f26e",
   "metadata": {},
   "outputs": [],
   "source": []
  },
  {
   "cell_type": "markdown",
   "id": "6d1326e7-4437-40ed-9d65-c93ef5c1e33d",
   "metadata": {},
   "source": [
    "Recomplexify"
   ]
  },
  {
   "cell_type": "code",
   "execution_count": null,
   "id": "2e39a9e4-77ae-4e2b-ab0b-579d508f1347",
   "metadata": {},
   "outputs": [],
   "source": [
    "# If I want to implement anything else but the min as complex policy, I would need to change this:\n",
    "# temp = temp[[x==\"INHBA_INHBB\" for x in temp['ligand_complex']]].sort_values('receptor_complex')\n",
    "# temp = temp[[x==\"ACVR1B_ACVR2A\" for x in temp['receptor_complex']]]"
   ]
  },
  {
   "cell_type": "code",
   "execution_count": null,
   "id": "a78ea33f-4eca-47ef-bca1-af01ca844810",
   "metadata": {},
   "outputs": [],
   "source": [
    "lr_res = reassemble_complexes(lr_res, _key_cols, _complex_cols)"
   ]
  },
  {
   "cell_type": "code",
   "execution_count": null,
   "id": "db1b04d4-f354-43a1-bf92-2bc84556e7ba",
   "metadata": {},
   "outputs": [],
   "source": [
    "lr_res"
   ]
  },
  {
   "cell_type": "code",
   "execution_count": null,
   "id": "13246735-7446-41f9-b4d2-ee84d7514ead",
   "metadata": {},
   "outputs": [],
   "source": []
  },
  {
   "cell_type": "code",
   "execution_count": null,
   "id": "a0911c89-4141-4449-aaba-5d08be4ed2de",
   "metadata": {},
   "outputs": [],
   "source": []
  },
  {
   "cell_type": "code",
   "execution_count": null,
   "id": "45209cd9-4cd1-4a8c-879a-f681bf92210b",
   "metadata": {},
   "outputs": [],
   "source": []
  },
  {
   "cell_type": "markdown",
   "id": "efbeae9b-4df7-42ca-9b2c-9a1e7bedba08",
   "metadata": {},
   "source": [
    "### SCORES"
   ]
  },
  {
   "cell_type": "code",
   "execution_count": null,
   "id": "1061bfc5-ddfa-46dc-a39c-39e6042b215f",
   "metadata": {},
   "outputs": [],
   "source": [
    "from liana.steady.Method import Method, MethodMeta\n",
    "from liana.steady.scores.cellphonedb import _cpdb_score"
   ]
  },
  {
   "cell_type": "code",
   "execution_count": null,
   "id": "675c2240-c993-4fdd-92da-7d2ed4ee0228",
   "metadata": {},
   "outputs": [],
   "source": []
  },
  {
   "cell_type": "markdown",
   "id": "941603a4-9eaf-4bcd-a8b8-4f6a6574ebe5",
   "metadata": {},
   "source": [
    "CELLPHONEDB"
   ]
  },
  {
   "cell_type": "code",
   "execution_count": null,
   "id": "4284a51c-55a5-47b4-ab9b-ba3b3ba93aac",
   "metadata": {},
   "outputs": [],
   "source": [
    "_cellphonedb = MethodMeta(method_name = \"cellphonedb\",\n",
    "                          complex_cols = ['ligand_means', 'receptor_means'], \n",
    "                          add_cols = ['ligand', 'receptor'],\n",
    "                          fun = _cpdb_score,\n",
    "                          magnitude = 'lr_means',\n",
    "                          specificity = 'pvals',\n",
    "                          permute = True,\n",
    "                          reference = 'Efremova et al., 2020')"
   ]
  },
  {
   "cell_type": "code",
   "execution_count": null,
   "id": "79fc87a0-4d92-4adc-a3a3-e611c7f3b3b8",
   "metadata": {},
   "outputs": [],
   "source": [
    "cellphonedb = Method(_SCORE=_cellphonedb)"
   ]
  },
  {
   "cell_type": "code",
   "execution_count": null,
   "id": "d2d39d47-ae35-4109-b413-52d1caadda1c",
   "metadata": {},
   "outputs": [],
   "source": [
    "adata = cellphonedb(adata, groupby, seed=666)"
   ]
  },
  {
   "cell_type": "code",
   "execution_count": null,
   "id": "25e905eb-af83-4259-8e18-6b31ebb543c5",
   "metadata": {},
   "outputs": [],
   "source": [
    "adata.uns['liana_res']"
   ]
  },
  {
   "cell_type": "code",
   "execution_count": null,
   "id": "e7801646-121c-413a-be5a-aef31b5b35ee",
   "metadata": {},
   "outputs": [],
   "source": []
  },
  {
   "cell_type": "code",
   "execution_count": null,
   "id": "fd6d8272-289c-42c5-9f96-7ba76587b80b",
   "metadata": {},
   "outputs": [],
   "source": []
  },
  {
   "cell_type": "code",
   "execution_count": null,
   "id": "49686ceb-dd20-48ee-a0ad-20ac3646a809",
   "metadata": {},
   "outputs": [],
   "source": []
  },
  {
   "cell_type": "markdown",
   "id": "a67d9786-388a-4c8d-b868-5539a3602f5c",
   "metadata": {},
   "source": [
    "logFC re-implement"
   ]
  },
  {
   "cell_type": "markdown",
   "id": "194266ec-e8cf-4f65-963f-a3f9e2939f67",
   "metadata": {},
   "source": [
    "Magnitude as None"
   ]
  },
  {
   "cell_type": "code",
   "execution_count": null,
   "id": "c4f096b2-d4bd-4581-8f41-4774f14c6f0a",
   "metadata": {},
   "outputs": [],
   "source": []
  },
  {
   "cell_type": "code",
   "execution_count": null,
   "id": "0201fba8-13b0-4923-9539-fd1cbe27e2e0",
   "metadata": {},
   "outputs": [],
   "source": []
  },
  {
   "cell_type": "code",
   "execution_count": null,
   "id": "0699d6ec-68cb-4b49-84c0-d2722d40e90e",
   "metadata": {},
   "outputs": [],
   "source": [
    "lr_res['logfc'] = lr_res[['ligand_logfoldchanges', 'receptor_logfoldchanges']].mean(1)"
   ]
  },
  {
   "cell_type": "code",
   "execution_count": null,
   "id": "51064b93-983f-4c16-adb9-ca54a2e1cb62",
   "metadata": {},
   "outputs": [],
   "source": []
  },
  {
   "cell_type": "code",
   "execution_count": null,
   "id": "b3482e1c-c433-4712-bf1d-ba0494c0a314",
   "metadata": {},
   "outputs": [],
   "source": [
    "lr_res.sort_values(by='logfc', key=abs, ascending=False)"
   ]
  },
  {
   "cell_type": "code",
   "execution_count": null,
   "id": "fab2e516-7f93-4850-9907-2deaa2650c73",
   "metadata": {},
   "outputs": [],
   "source": []
  },
  {
   "cell_type": "markdown",
   "id": "7fb95f6b-db28-494b-83f8-de6b7c9b2048",
   "metadata": {},
   "source": [
    "Re-implement Connectome"
   ]
  },
  {
   "cell_type": "markdown",
   "id": "e50d075c-f537-4677-b1b0-e2837e29a5f8",
   "metadata": {},
   "source": [
    "Both Specificity and Magnitude"
   ]
  },
  {
   "cell_type": "code",
   "execution_count": null,
   "id": "a3d0a012-69e9-47c6-bb48-66641647cea8",
   "metadata": {},
   "outputs": [],
   "source": [
    "lr_res['edge_weight'] = lr_res[['ligand_zscores', 'receptor_zscores']].mean(1)"
   ]
  },
  {
   "cell_type": "code",
   "execution_count": null,
   "id": "c95a783e-52d8-44e8-b735-bbe54bef1972",
   "metadata": {},
   "outputs": [],
   "source": []
  }
 ],
 "metadata": {
  "kernelspec": {
   "display_name": "liana-py",
   "language": "python",
   "name": "liana-py"
  },
  "language_info": {
   "codemirror_mode": {
    "name": "ipython",
    "version": 3
   },
   "file_extension": ".py",
   "mimetype": "text/x-python",
   "name": "python",
   "nbconvert_exporter": "python",
   "pygments_lexer": "ipython3",
   "version": "3.8.8"
  }
 },
 "nbformat": 4,
 "nbformat_minor": 5
}
