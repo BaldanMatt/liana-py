{
 "cells": [
  {
   "cell_type": "code",
   "execution_count": 1,
   "id": "4a6561fa-18d6-459b-a010-51b7d9fae1d4",
   "metadata": {},
   "outputs": [],
   "source": [
    "import scanpy as sc\n",
    "import pandas as pd\n",
    "import numpy as np"
   ]
  },
  {
   "cell_type": "code",
   "execution_count": null,
   "id": "d333ea8e-aeca-4746-887b-33ec6b6b1b17",
   "metadata": {},
   "outputs": [],
   "source": []
  },
  {
   "cell_type": "markdown",
   "id": "f65dcb30-df9e-4ab9-a2f5-b2cb30ba58c0",
   "metadata": {},
   "source": [
    "Load anndata"
   ]
  },
  {
   "cell_type": "code",
   "execution_count": 2,
   "id": "3be28d50-be89-46ae-b3ec-e8878844a0ab",
   "metadata": {},
   "outputs": [],
   "source": [
    "adata = sc.read_h5ad(\"test.h5ad\")\n",
    "# lognorm should be the default (expected)\n",
    "adata.X = adata.layers['logcounts']"
   ]
  },
  {
   "cell_type": "code",
   "execution_count": null,
   "id": "329c949e-98a6-4928-b9b7-1a7b548b2974",
   "metadata": {},
   "outputs": [],
   "source": []
  },
  {
   "cell_type": "markdown",
   "id": "04043a54-1480-41be-b134-b55911ff9027",
   "metadata": {},
   "source": [
    "Parameters"
   ]
  },
  {
   "cell_type": "code",
   "execution_count": null,
   "id": "8749bb33-5c01-49b3-8fe1-cb8b167a8b28",
   "metadata": {},
   "outputs": [],
   "source": [
    "groupby='label'"
   ]
  },
  {
   "cell_type": "code",
   "execution_count": null,
   "id": "6581703e-86e5-4f50-ab07-2f1791be9e67",
   "metadata": {},
   "outputs": [],
   "source": [
    "de_method='wilcoxon'"
   ]
  },
  {
   "cell_type": "code",
   "execution_count": null,
   "id": "9dabcf57-ad50-4fa5-a102-408b893cf6d7",
   "metadata": {},
   "outputs": [],
   "source": [
    "resource_name = 'consensus'"
   ]
  },
  {
   "cell_type": "code",
   "execution_count": null,
   "id": "27f090b0-0d3e-44d6-a705-625377881521",
   "metadata": {},
   "outputs": [],
   "source": [
    "complex_policy = 'min'"
   ]
  },
  {
   "cell_type": "code",
   "execution_count": null,
   "id": "8d955c4f-f6f7-4a08-82d4-d668bcec7caf",
   "metadata": {},
   "outputs": [],
   "source": [
    "complex_cols = ['ligand_means' , 'receptor_means'] # specific for every method"
   ]
  },
  {
   "cell_type": "code",
   "execution_count": null,
   "id": "7093e116-584c-43e9-a341-486139b18b1e",
   "metadata": {},
   "outputs": [],
   "source": [
    "add_cols = ['ligand', 'receptor'] # additional columns to return"
   ]
  },
  {
   "cell_type": "code",
   "execution_count": null,
   "id": "027cefb7-e362-49c4-906b-55a05cae3583",
   "metadata": {},
   "outputs": [],
   "source": [
    "key_cols = ['source', 'target', 'ligand_complex', 'receptor_complex']"
   ]
  },
  {
   "cell_type": "code",
   "execution_count": null,
   "id": "e9ec3893-12f9-408f-9fae-6fd2b1bffffc",
   "metadata": {},
   "outputs": [],
   "source": [
    "verbose = False"
   ]
  },
  {
   "cell_type": "code",
   "execution_count": null,
   "id": "2fd7640e-4b33-4725-b114-7bfd260677cf",
   "metadata": {},
   "outputs": [],
   "source": [
    "# need to figure out when to define this\n",
    "relevant_cols = key_cols + complex_cols + add_cols"
   ]
  },
  {
   "cell_type": "code",
   "execution_count": null,
   "id": "6093e816-563e-4ff6-9c18-a7080bf3f864",
   "metadata": {},
   "outputs": [],
   "source": [
    "# only relevant if perms are done\n",
    "n_perms = 1000\n",
    "seed = 69"
   ]
  },
  {
   "cell_type": "code",
   "execution_count": null,
   "id": "7b1bae2b-461c-49ae-9344-ee8146aa5fab",
   "metadata": {},
   "outputs": [],
   "source": []
  },
  {
   "cell_type": "markdown",
   "id": "309ef0d7-3696-485d-a169-743774b2e2a4",
   "metadata": {},
   "source": [
    "Run LIANA PIPE"
   ]
  },
  {
   "cell_type": "code",
   "execution_count": 3,
   "id": "101f0bdd-c6a0-400b-b64e-b6ba21df9ae5",
   "metadata": {},
   "outputs": [],
   "source": [
    "from liana import liana_pipe"
   ]
  },
  {
   "cell_type": "code",
   "execution_count": null,
   "id": "1bdd36ab-1ce6-4842-8b8f-d9a5f74ac660",
   "metadata": {},
   "outputs": [],
   "source": [
    "lr_res = liana_pipe(adata=adata, \n",
    "                    groupby=groupby, \n",
    "                    resource_name=resource_name,\n",
    "                    de_method=de_method,\n",
    "                    n_perms=n_perms,\n",
    "                    seed=seed,\n",
    "                    verbose=verbose,\n",
    "                    _key_cols=key_cols,\n",
    "                    _complex_cols=complex_cols,\n",
    "                    _add_cols=add_cols,\n",
    "                    resource=None)"
   ]
  },
  {
   "cell_type": "code",
   "execution_count": null,
   "id": "d29abe41-f62b-415c-b5b8-653f1df6bdd5",
   "metadata": {},
   "outputs": [],
   "source": [
    "lr_res"
   ]
  },
  {
   "cell_type": "code",
   "execution_count": null,
   "id": "9960bcad-69b4-4950-b6b0-523c15fc2dfa",
   "metadata": {},
   "outputs": [],
   "source": []
  },
  {
   "cell_type": "markdown",
   "id": "c4586fde-464c-4867-86d1-1ce1feadf798",
   "metadata": {},
   "source": [
    "#### LIANA PIPE LINE BY LINE"
   ]
  },
  {
   "cell_type": "code",
   "execution_count": null,
   "id": "677ce5db-7b4e-4727-880c-2715dde979a7",
   "metadata": {},
   "outputs": [],
   "source": [
    "from liana.utils.pre import check_mat, check_if_covered, format_vars, filter_resource\n",
    "from liana.resource import select_resource\n",
    "from liana.resource.select_resource import explode_complexes\n",
    "from liana.steady.liana_pipe import _get_lr\n",
    "from liana.utils.reassemble_complexes import reassemble_complexes\n",
    "from scipy.sparse import csr_matrix\n",
    "from liana.scores import get_means_perms"
   ]
  },
  {
   "cell_type": "code",
   "execution_count": null,
   "id": "66ba6d05-d067-4558-a879-87394a6d866a",
   "metadata": {},
   "outputs": [],
   "source": []
  },
  {
   "cell_type": "markdown",
   "id": "e5f74ea3-9847-43e3-bd9b-cb1c312520ee",
   "metadata": {},
   "source": [
    "I need to double check if every step makes sense, as I build unit tests!!!\n",
    "\n",
    "For example, are there any duplicated rows (source, target, ligand_complex, receptor_complex)\n",
    "\n",
    "Double check again if correct subunit is kept, etc"
   ]
  },
  {
   "cell_type": "code",
   "execution_count": null,
   "id": "a62b0165-a084-4979-9110-a18fc6da2c0e",
   "metadata": {},
   "outputs": [],
   "source": [
    "adata.X = check_mat(adata.X, True)"
   ]
  },
  {
   "cell_type": "code",
   "execution_count": null,
   "id": "67ad1ece-1a1a-4bf9-b284-25764d7cb858",
   "metadata": {},
   "outputs": [],
   "source": []
  },
  {
   "cell_type": "code",
   "execution_count": null,
   "id": "19df65eb-c6d2-4866-bc22-9b320deae6e1",
   "metadata": {},
   "outputs": [],
   "source": [
    "# Define idents col name\n",
    "adata.obs.label = adata.obs[groupby]"
   ]
  },
  {
   "cell_type": "code",
   "execution_count": null,
   "id": "ff3885f0-ba02-43ae-ad3b-c9bbb742e196",
   "metadata": {},
   "outputs": [],
   "source": []
  },
  {
   "cell_type": "markdown",
   "id": "4ccdd879-64e2-4339-9b00-0adcea5edfbc",
   "metadata": {},
   "source": [
    "Load resource"
   ]
  },
  {
   "cell_type": "code",
   "execution_count": null,
   "id": "a2c2c0b2-d792-45d2-9d2a-35daa9f16842",
   "metadata": {},
   "outputs": [],
   "source": [
    "resource = select_resource(resource_name='consensus')"
   ]
  },
  {
   "cell_type": "code",
   "execution_count": null,
   "id": "8252d9a7-5445-4d61-8ed8-ab34af871ccb",
   "metadata": {},
   "outputs": [],
   "source": [
    "# Decomplexify\n",
    "resource = explode_complexes(resource)"
   ]
  },
  {
   "cell_type": "code",
   "execution_count": null,
   "id": "4a9a67d4-1e21-4a58-9965-ffc87aed78d2",
   "metadata": {},
   "outputs": [],
   "source": [
    "# Filter Resource\n",
    "resource = filter_resource(resource, adata.var_names)"
   ]
  },
  {
   "cell_type": "code",
   "execution_count": null,
   "id": "cdd684e0-9b50-4c62-8b6b-6f1ff1b24a4e",
   "metadata": {},
   "outputs": [],
   "source": []
  },
  {
   "cell_type": "markdown",
   "id": "d7f020fe-ce4e-43e5-a65a-c500256e38b6",
   "metadata": {},
   "source": [
    "Create entities"
   ]
  },
  {
   "cell_type": "code",
   "execution_count": null,
   "id": "f0af1ebc-c5d4-4fd1-9c95-45cf6081cfcf",
   "metadata": {},
   "outputs": [],
   "source": [
    "entities = np.union1d(np.unique(resource[\"ligand\"]), np.unique(resource[\"receptor\"]))"
   ]
  },
  {
   "cell_type": "code",
   "execution_count": null,
   "id": "bb4303e7-9e8b-4d07-b91a-ce70f4a3da0b",
   "metadata": {},
   "outputs": [],
   "source": []
  },
  {
   "cell_type": "markdown",
   "id": "777dd11b-34db-4cc9-b7d4-3e7600bbbd8e",
   "metadata": {},
   "source": [
    "Check overlap between resource and adata"
   ]
  },
  {
   "cell_type": "code",
   "execution_count": null,
   "id": "d2d31c65-84a2-4bd6-a034-0a64935d063d",
   "metadata": {},
   "outputs": [],
   "source": [
    "check_if_covered(entities, adata.var_keys)"
   ]
  },
  {
   "cell_type": "code",
   "execution_count": null,
   "id": "45763bd4-cb43-4500-a912-b2eaa6ae653e",
   "metadata": {},
   "outputs": [],
   "source": []
  },
  {
   "cell_type": "markdown",
   "id": "2b70f1f0-af71-4348-95bc-bfcd16bf7ca7",
   "metadata": {},
   "source": [
    "Get global mean for SCA before filtering"
   ]
  },
  {
   "cell_type": "code",
   "execution_count": null,
   "id": "46bb2ab6-c9e1-4d4d-b33f-bf81cbd88525",
   "metadata": {},
   "outputs": [],
   "source": [
    "if 'mat_mean' in add_cols: # SHOULD BE METHOD NAME!\n",
    "    adata.uns['mat_mean'] = np.mean(adata.X)"
   ]
  },
  {
   "cell_type": "code",
   "execution_count": null,
   "id": "0773f2a3-862d-4ac5-8299-84c5e6fef47f",
   "metadata": {},
   "outputs": [],
   "source": []
  },
  {
   "cell_type": "code",
   "execution_count": null,
   "id": "b37b2a52-7e37-4be1-ac32-457690f5bb54",
   "metadata": {},
   "outputs": [],
   "source": [
    "# Filter to only include the relevant genes\n",
    "adata = adata[:,np.intersect1d(entities, adata.var.index)]\n",
    "adata"
   ]
  },
  {
   "cell_type": "code",
   "execution_count": null,
   "id": "33212579-8762-4c83-b7ef-dc2fd8875bdb",
   "metadata": {},
   "outputs": [],
   "source": []
  },
  {
   "cell_type": "markdown",
   "id": "86cf9a4c-1693-4470-99f8-02bd60beb367",
   "metadata": {
    "tags": []
   },
   "source": [
    "Get Stats"
   ]
  },
  {
   "cell_type": "code",
   "execution_count": null,
   "id": "27042d96-a874-457e-ad75-3c312b73301b",
   "metadata": {},
   "outputs": [],
   "source": [
    "lr_res = _get_lr(adata, resource, key_cols + complex_cols + add_cols, de_method)"
   ]
  },
  {
   "cell_type": "code",
   "execution_count": null,
   "id": "9afdd672-e818-410e-84e0-6fb9ba6fd6be",
   "metadata": {},
   "outputs": [],
   "source": [
    "lr_res"
   ]
  },
  {
   "cell_type": "code",
   "execution_count": null,
   "id": "795ae60d-921c-4f2c-98fc-52f33d09f26e",
   "metadata": {},
   "outputs": [],
   "source": []
  },
  {
   "cell_type": "markdown",
   "id": "6d1326e7-4437-40ed-9d65-c93ef5c1e33d",
   "metadata": {},
   "source": [
    "Recomplexify"
   ]
  },
  {
   "cell_type": "code",
   "execution_count": null,
   "id": "2e39a9e4-77ae-4e2b-ab0b-579d508f1347",
   "metadata": {},
   "outputs": [],
   "source": [
    "# If I want to implement anything else but the min as complex policy, I would need to change this:\n",
    "# temp = temp[[x==\"INHBA_INHBB\" for x in temp['ligand_complex']]].sort_values('receptor_complex')\n",
    "# temp = temp[[x==\"ACVR1B_ACVR2A\" for x in temp['receptor_complex']]]"
   ]
  },
  {
   "cell_type": "code",
   "execution_count": null,
   "id": "a78ea33f-4eca-47ef-bca1-af01ca844810",
   "metadata": {},
   "outputs": [],
   "source": [
    "lr_res = reassemble_complexes(lr_res, key_cols, complex_cols, complex_policy)"
   ]
  },
  {
   "cell_type": "code",
   "execution_count": null,
   "id": "671994a8-5607-4538-a19f-22fea792fdfd",
   "metadata": {},
   "outputs": [],
   "source": []
  },
  {
   "cell_type": "code",
   "execution_count": null,
   "id": "b2c17e9f-dde8-4e82-bc00-466f137e83cb",
   "metadata": {},
   "outputs": [],
   "source": []
  },
  {
   "cell_type": "markdown",
   "id": "efbeae9b-4df7-42ca-9b2c-9a1e7bedba08",
   "metadata": {},
   "source": [
    "### SCORES"
   ]
  },
  {
   "cell_type": "markdown",
   "id": "e117208d-fdce-4de6-8962-1326cdd20bf7",
   "metadata": {},
   "source": [
    "CellPhoneDB re-implement"
   ]
  },
  {
   "cell_type": "code",
   "execution_count": 9,
   "id": "1e678877-bac0-4190-b5e5-3bce32d85f5c",
   "metadata": {},
   "outputs": [],
   "source": [
    "from statsmodels.distributions.empirical_distribution import ECDF"
   ]
  },
  {
   "cell_type": "code",
   "execution_count": 10,
   "id": "6604af4c-0394-438c-aa82-4a252470500c",
   "metadata": {},
   "outputs": [],
   "source": [
    "def _simple_mean(x, y): return(x + y)/2\n",
    "\n",
    "def _cpdb_score(x, perms, ligand_pos, receptor_pos, labels_pos):\n",
    "    if((x.ligand_means==0) | (x.receptor_means==0)): return 1\n",
    "\n",
    "    # Permutations lr mean\n",
    "    ligand_perms = perms[:, labels_pos[x.source], ligand_pos[x.ligand]]\n",
    "    receptor_perms = perms[:, labels_pos[x.target], receptor_pos[x.receptor]]\n",
    "    lr_perms = _simple_mean(ligand_perms, receptor_perms)\n",
    "    \n",
    "    # actual lr_mean\n",
    "    lr_mean = _simple_mean(x.ligand_means, x.receptor_means)\n",
    "    \n",
    "    return (lr_mean, (1 - ECDF(lr_perms)(lr_mean)))"
   ]
  },
  {
   "cell_type": "code",
   "execution_count": null,
   "id": "1061bfc5-ddfa-46dc-a39c-39e6042b215f",
   "metadata": {},
   "outputs": [],
   "source": []
  },
  {
   "cell_type": "markdown",
   "id": "941603a4-9eaf-4bcd-a8b8-4f6a6574ebe5",
   "metadata": {},
   "source": [
    "SCORE CLASS"
   ]
  },
  {
   "cell_type": "code",
   "execution_count": 11,
   "id": "b42b5a08-eb0d-4827-818b-731717b5c4cf",
   "metadata": {},
   "outputs": [],
   "source": [
    "class ScoreClass:\n",
    "    def __init__(self, method_name, complex_cols, add_cols, fun, magnitude, specificity, permute, reference):\n",
    "        self.method_name = method_name # method name\n",
    "        self.complex_cols = complex_cols # complex-relevant columns\n",
    "        self.add_colls = add_cols # additional columns\n",
    "        self.fun = fun # Function to run\n",
    "        self.magnitude = magnitude # Name of the col\n",
    "        self.specificity = specificity # Name of the col\n",
    "        self.permute = permute # True/False\n",
    "        self.reference = reference # Publication\n",
    "    \n",
    "    # describe self\n",
    "    def describe(self):\n",
    "        print(f\"{self.method_name} uses `{self.magnitude}` and `{self.specificity}` as measures of expression strength and interaction specificity, respectively\")\n",
    "    \n",
    "    def reference(self):\n",
    "        print(reference)"
   ]
  },
  {
   "cell_type": "code",
   "execution_count": null,
   "id": "2ff19776-2e47-4747-8a36-9fa5fcfc7256",
   "metadata": {},
   "outputs": [],
   "source": []
  },
  {
   "cell_type": "code",
   "execution_count": null,
   "id": "ca460edd-2f83-4d49-9730-d3002428e2aa",
   "metadata": {},
   "outputs": [],
   "source": []
  },
  {
   "cell_type": "code",
   "execution_count": 12,
   "id": "4284a51c-55a5-47b4-ab9b-ba3b3ba93aac",
   "metadata": {},
   "outputs": [],
   "source": [
    "cpdb_score = ScoreClass(method_name = \"cellphonedb\",\n",
    "                        complex_cols = ['ligand_means', 'receptor_means'], \n",
    "                        add_cols = ['ligand', 'receptor'],\n",
    "                        fun = _cpdb_score,\n",
    "                        magnitude = 'lr_means',\n",
    "                        specificity = 'pvals',\n",
    "                        permute = True,\n",
    "                        reference = 'Efremova et al., 2020')"
   ]
  },
  {
   "cell_type": "code",
   "execution_count": 13,
   "id": "cb80734e-f619-4803-84af-4677a73d7e00",
   "metadata": {},
   "outputs": [],
   "source": [
    "def cellphonedb(adata, groupby, resource_name='consensus', resource=None, n_perms=1000, seed=69, de_method='wilcoxon', verbose=False):\n",
    "    \n",
    "    adata.uns['liana_res'] = liana_pipe(adata=adata,\n",
    "                                        groupby=groupby,\n",
    "                                        resource_name=resource_name,\n",
    "                                        resource=resource,\n",
    "                                        de_method=de_method,\n",
    "                                        verbose=verbose,\n",
    "                                        _complex_cols=cpdb_score.complex_cols,\n",
    "                                        _add_cols=cpdb_score.add_colls,\n",
    "                                        _score = cpdb_score,\n",
    "                                        n_perms = n_perms,\n",
    "                                        seed=seed,\n",
    "                                       )\n",
    "    \n",
    "    return adata"
   ]
  },
  {
   "cell_type": "code",
   "execution_count": null,
   "id": "61fbe650-a30f-493e-aa93-c6041d1aa65b",
   "metadata": {},
   "outputs": [],
   "source": []
  },
  {
   "cell_type": "code",
   "execution_count": null,
   "id": "fd6d8272-289c-42c5-9f96-7ba76587b80b",
   "metadata": {},
   "outputs": [],
   "source": []
  },
  {
   "cell_type": "code",
   "execution_count": null,
   "id": "4ed5e964-801e-41fc-b518-9431df3f10c2",
   "metadata": {},
   "outputs": [],
   "source": []
  },
  {
   "cell_type": "code",
   "execution_count": 22,
   "id": "49686ceb-dd20-48ee-a0ad-20ac3646a809",
   "metadata": {},
   "outputs": [
    {
     "name": "stdout",
     "output_type": "stream",
     "text": [
      "CPU times: user 3.79 s, sys: 54.3 ms, total: 3.84 s\n",
      "Wall time: 3.73 s\n"
     ]
    }
   ],
   "source": [
    "%%time\n",
    "adata = cellphonedb(adata, groupby='label', n_perms=1000)"
   ]
  },
  {
   "cell_type": "code",
   "execution_count": null,
   "id": "502b7a40-ba21-4fb1-8066-f3fd2e92a527",
   "metadata": {},
   "outputs": [],
   "source": []
  },
  {
   "cell_type": "code",
   "execution_count": null,
   "id": "f6594536-7532-4735-82c7-549d68f44590",
   "metadata": {},
   "outputs": [],
   "source": []
  },
  {
   "cell_type": "markdown",
   "id": "2b1733cb-cb90-4bd8-a331-ba42d119669e",
   "metadata": {},
   "source": [
    "try w/ real data"
   ]
  },
  {
   "cell_type": "code",
   "execution_count": 30,
   "id": "410040b2-fb80-4b5c-8525-a5195e3d507e",
   "metadata": {},
   "outputs": [],
   "source": [
    "adata = sc.datasets.pbmc3k_processed()\n",
    "labels = adata.obs.louvain\n",
    "cells = adata.obs_names"
   ]
  },
  {
   "cell_type": "code",
   "execution_count": 31,
   "id": "948b33f6-e0c9-411c-bd65-00e114139844",
   "metadata": {},
   "outputs": [],
   "source": [
    "adata = sc.datasets.pbmc3k()"
   ]
  },
  {
   "cell_type": "code",
   "execution_count": 41,
   "id": "fe5ffa6c-c547-47d2-a382-61aa812db2c7",
   "metadata": {},
   "outputs": [],
   "source": [
    "adata = adata[[x in cells for x in adata.obs_names]]"
   ]
  },
  {
   "cell_type": "code",
   "execution_count": 43,
   "id": "d18fd93f-560e-4ced-8b50-bfbbf5278c31",
   "metadata": {},
   "outputs": [
    {
     "name": "stderr",
     "output_type": "stream",
     "text": [
      "<ipython-input-43-bac5665cac6c>:1: ImplicitModificationWarning: Trying to modify attribute `.obs` of view, initializing view as actual.\n",
      "  adata.obs['label'] = labels\n"
     ]
    }
   ],
   "source": [
    "adata.obs['label'] = labels"
   ]
  },
  {
   "cell_type": "code",
   "execution_count": 45,
   "id": "254f0ae3-0a63-4874-884a-c2d3c49db8ae",
   "metadata": {},
   "outputs": [
    {
     "ename": "ValueError",
     "evalue": "Data matrix has wrong shape (2638, 16579), need to be (2638, 32738).",
     "output_type": "error",
     "traceback": [
      "\u001b[0;31m---------------------------------------------------------------------------\u001b[0m",
      "\u001b[0;31mValueError\u001b[0m                                Traceback (most recent call last)",
      "\u001b[0;32m<ipython-input-45-31ca01100010>\u001b[0m in \u001b[0;36m<module>\u001b[0;34m\u001b[0m\n\u001b[0;32m----> 1\u001b[0;31m \u001b[0madata\u001b[0m \u001b[0;34m=\u001b[0m \u001b[0mcellphonedb\u001b[0m\u001b[0;34m(\u001b[0m\u001b[0madata\u001b[0m\u001b[0;34m,\u001b[0m \u001b[0mgroupby\u001b[0m\u001b[0;34m=\u001b[0m\u001b[0;34m'label'\u001b[0m\u001b[0;34m,\u001b[0m \u001b[0mn_perms\u001b[0m\u001b[0;34m=\u001b[0m\u001b[0;36m1000\u001b[0m\u001b[0;34m)\u001b[0m\u001b[0;34m\u001b[0m\u001b[0;34m\u001b[0m\u001b[0m\n\u001b[0m",
      "\u001b[0;32m<ipython-input-13-ed27ff341bce>\u001b[0m in \u001b[0;36mcellphonedb\u001b[0;34m(adata, groupby, resource_name, resource, n_perms, seed, de_method, verbose)\u001b[0m\n\u001b[1;32m      1\u001b[0m \u001b[0;32mdef\u001b[0m \u001b[0mcellphonedb\u001b[0m\u001b[0;34m(\u001b[0m\u001b[0madata\u001b[0m\u001b[0;34m,\u001b[0m \u001b[0mgroupby\u001b[0m\u001b[0;34m,\u001b[0m \u001b[0mresource_name\u001b[0m\u001b[0;34m=\u001b[0m\u001b[0;34m'consensus'\u001b[0m\u001b[0;34m,\u001b[0m \u001b[0mresource\u001b[0m\u001b[0;34m=\u001b[0m\u001b[0;32mNone\u001b[0m\u001b[0;34m,\u001b[0m \u001b[0mn_perms\u001b[0m\u001b[0;34m=\u001b[0m\u001b[0;36m1000\u001b[0m\u001b[0;34m,\u001b[0m \u001b[0mseed\u001b[0m\u001b[0;34m=\u001b[0m\u001b[0;36m69\u001b[0m\u001b[0;34m,\u001b[0m \u001b[0mde_method\u001b[0m\u001b[0;34m=\u001b[0m\u001b[0;34m'wilcoxon'\u001b[0m\u001b[0;34m,\u001b[0m \u001b[0mverbose\u001b[0m\u001b[0;34m=\u001b[0m\u001b[0;32mFalse\u001b[0m\u001b[0;34m)\u001b[0m\u001b[0;34m:\u001b[0m\u001b[0;34m\u001b[0m\u001b[0;34m\u001b[0m\u001b[0m\n\u001b[1;32m      2\u001b[0m \u001b[0;34m\u001b[0m\u001b[0m\n\u001b[0;32m----> 3\u001b[0;31m     adata.uns['liana_res'] = liana_pipe(adata=adata,\n\u001b[0m\u001b[1;32m      4\u001b[0m                                         \u001b[0mgroupby\u001b[0m\u001b[0;34m=\u001b[0m\u001b[0mgroupby\u001b[0m\u001b[0;34m,\u001b[0m\u001b[0;34m\u001b[0m\u001b[0;34m\u001b[0m\u001b[0m\n\u001b[1;32m      5\u001b[0m                                         \u001b[0mresource_name\u001b[0m\u001b[0;34m=\u001b[0m\u001b[0mresource_name\u001b[0m\u001b[0;34m,\u001b[0m\u001b[0;34m\u001b[0m\u001b[0;34m\u001b[0m\u001b[0m\n",
      "\u001b[0;32m~/Repos/liana-py/liana/steady/liana_pipe.py\u001b[0m in \u001b[0;36mliana_pipe\u001b[0;34m(adata, groupby, resource_name, resource, de_method, n_perms, seed, verbose, _complex_cols, _add_cols, _key_cols, _score)\u001b[0m\n\u001b[1;32m     16\u001b[0m \u001b[0;34m\u001b[0m\u001b[0m\n\u001b[1;32m     17\u001b[0m     \u001b[0;31m# Check and Reformat Mat if needed\u001b[0m\u001b[0;34m\u001b[0m\u001b[0;34m\u001b[0m\u001b[0;34m\u001b[0m\u001b[0m\n\u001b[0;32m---> 18\u001b[0;31m     \u001b[0madata\u001b[0m\u001b[0;34m.\u001b[0m\u001b[0mX\u001b[0m \u001b[0;34m=\u001b[0m \u001b[0mcheck_mat\u001b[0m\u001b[0;34m(\u001b[0m\u001b[0madata\u001b[0m\u001b[0;34m.\u001b[0m\u001b[0mX\u001b[0m\u001b[0;34m,\u001b[0m \u001b[0mverbose\u001b[0m\u001b[0;34m=\u001b[0m\u001b[0mverbose\u001b[0m\u001b[0;34m)\u001b[0m\u001b[0;34m\u001b[0m\u001b[0;34m\u001b[0m\u001b[0m\n\u001b[0m\u001b[1;32m     19\u001b[0m \u001b[0;34m\u001b[0m\u001b[0m\n\u001b[1;32m     20\u001b[0m     \u001b[0;31m# Define idents col name\u001b[0m\u001b[0;34m\u001b[0m\u001b[0;34m\u001b[0m\u001b[0;34m\u001b[0m\u001b[0m\n",
      "\u001b[0;32m~/anaconda3/lib/python3.8/site-packages/anndata/_core/anndata.py\u001b[0m in \u001b[0;36mX\u001b[0;34m(self, value)\u001b[0m\n\u001b[1;32m    690\u001b[0m                     \u001b[0mself\u001b[0m\u001b[0;34m.\u001b[0m\u001b[0m_X\u001b[0m \u001b[0;34m=\u001b[0m \u001b[0mvalue\u001b[0m\u001b[0;34m\u001b[0m\u001b[0;34m\u001b[0m\u001b[0m\n\u001b[1;32m    691\u001b[0m         \u001b[0;32melse\u001b[0m\u001b[0;34m:\u001b[0m\u001b[0;34m\u001b[0m\u001b[0;34m\u001b[0m\u001b[0m\n\u001b[0;32m--> 692\u001b[0;31m             raise ValueError(\n\u001b[0m\u001b[1;32m    693\u001b[0m                 \u001b[0;34mf\"Data matrix has wrong shape {value.shape}, \"\u001b[0m\u001b[0;34m\u001b[0m\u001b[0;34m\u001b[0m\u001b[0m\n\u001b[1;32m    694\u001b[0m                 \u001b[0;34mf\"need to be {self.shape}.\"\u001b[0m\u001b[0;34m\u001b[0m\u001b[0;34m\u001b[0m\u001b[0m\n",
      "\u001b[0;31mValueError\u001b[0m: Data matrix has wrong shape (2638, 16579), need to be (2638, 32738)."
     ]
    }
   ],
   "source": [
    "adata = cellphonedb(adata, groupby='label', n_perms=1000)"
   ]
  },
  {
   "cell_type": "code",
   "execution_count": null,
   "id": "bd0b147f-253b-4d09-8da8-6ec6ec8617ff",
   "metadata": {},
   "outputs": [],
   "source": []
  },
  {
   "cell_type": "code",
   "execution_count": null,
   "id": "63905c73-4155-4364-a618-fccb3a1f2c07",
   "metadata": {},
   "outputs": [],
   "source": []
  },
  {
   "cell_type": "code",
   "execution_count": null,
   "id": "0d7a2993-795e-431b-95a3-ed0eff778b43",
   "metadata": {},
   "outputs": [],
   "source": [
    "# ScoreClass(method_name='cellphonedb',\n",
    "#           method_cols = ['ligand_means', 'receptor_means'],\n",
    "#           score_fun = )"
   ]
  },
  {
   "cell_type": "code",
   "execution_count": null,
   "id": "b9230dd4-346c-4b6f-9157-d8ec78cf60b5",
   "metadata": {},
   "outputs": [],
   "source": []
  },
  {
   "cell_type": "code",
   "execution_count": null,
   "id": "48f9a15c-f5ae-4ef8-9338-87ec69b21329",
   "metadata": {},
   "outputs": [],
   "source": [
    "if cpdb_score.permute:\n",
    "    perms, ligand_pos, receptor_pos, labels_pos = get_means_perms(adata=adata, lr_res=lr_res, n_perms=1000, seed=69)"
   ]
  },
  {
   "cell_type": "code",
   "execution_count": null,
   "id": "1ad3c919-7577-4d24-bd73-647da67c73d2",
   "metadata": {},
   "outputs": [],
   "source": [
    "%%time\n",
    "lr_res[[cpdb_score.magnitude, cpdb_score.specificity]] = lr_res.apply(cpdb_score.fun, axis=1, result_type=\"expand\", perms=perms, ligand_pos=ligand_pos, receptor_pos=receptor_pos, labels_pos=labels_pos)"
   ]
  },
  {
   "cell_type": "code",
   "execution_count": null,
   "id": "43b278ec-17d9-4986-941e-afcdcb6bc8d7",
   "metadata": {},
   "outputs": [],
   "source": []
  },
  {
   "cell_type": "code",
   "execution_count": null,
   "id": "726e220e-8faf-49f8-98b7-3474d251bb83",
   "metadata": {},
   "outputs": [],
   "source": [
    "lr_res"
   ]
  },
  {
   "cell_type": "code",
   "execution_count": null,
   "id": "1fcfff99-d1cb-44ce-b639-dd4621ab0089",
   "metadata": {},
   "outputs": [],
   "source": [
    "lr_res"
   ]
  },
  {
   "cell_type": "code",
   "execution_count": null,
   "id": "1e43e6bd-c8a9-4d42-bb48-0a88a3cb88c4",
   "metadata": {},
   "outputs": [],
   "source": []
  },
  {
   "cell_type": "code",
   "execution_count": null,
   "id": "6884747b-3d72-459f-bb32-5c9b580f8293",
   "metadata": {},
   "outputs": [],
   "source": []
  },
  {
   "cell_type": "code",
   "execution_count": null,
   "id": "1b41aa78-6f6e-409f-a196-bda8c5bf2465",
   "metadata": {},
   "outputs": [],
   "source": []
  },
  {
   "cell_type": "markdown",
   "id": "a5f0368a-580d-4626-919b-6a56f5c22c2c",
   "metadata": {},
   "source": [
    "Vectorize this thing"
   ]
  },
  {
   "cell_type": "code",
   "execution_count": null,
   "id": "86ae1946-18e9-4f9e-be54-6a621e1d8e90",
   "metadata": {},
   "outputs": [],
   "source": [
    "def _cpdb_score(x):\n",
    "    if((x.ligand_means==0) | (x.receptor_means==0)): return 1\n",
    "\n",
    "    # Permutations lr mean\n",
    "    ligand_perms = perms[:, labels_pos[x.source], ligand_pos[x.ligand]]\n",
    "    receptor_perms = perms[:, labels_pos[x.target], receptor_pos[x.receptor]]\n",
    "    lr_perms = _simple_mean(ligand_perms, receptor_perms)\n",
    "    \n",
    "    # actual lr_mean\n",
    "    lr_mean = _simple_mean(x.ligand_means, x.receptor_means)\n",
    "    \n",
    "    return (lr_mean, (1 - ECDF(lr_perms)(lr_mean)))"
   ]
  },
  {
   "cell_type": "code",
   "execution_count": null,
   "id": "f68b225d-720d-4c23-bf45-8b72fbb62ad8",
   "metadata": {},
   "outputs": [],
   "source": []
  },
  {
   "cell_type": "markdown",
   "id": "af777f3d-ab87-4d5d-b971-4626e473f9ad",
   "metadata": {},
   "source": [
    "Calculate means_sums for NATMI"
   ]
  },
  {
   "cell_type": "code",
   "execution_count": null,
   "id": "9550bd42-7277-49cc-8327-760e9de11a9e",
   "metadata": {},
   "outputs": [],
   "source": [
    "def _sum_means(lr_res, what, on):\n",
    "    return lr_res.join(lr_res.groupby(on)[what].sum(), on=on, rsuffix='_sums')"
   ]
  },
  {
   "cell_type": "code",
   "execution_count": null,
   "id": "7dc0a1b9-8cf7-4c5e-bc00-c2120688f332",
   "metadata": {},
   "outputs": [],
   "source": [
    "lr_res = _sum_means(lr_res, what='ligand_means', on=['ligand_complex', 'receptor_complex', 'target'])\n",
    "lr_res = _sum_means(lr_res, what='receptor_means', on=['ligand_complex', 'receptor_complex', 'source'])"
   ]
  },
  {
   "cell_type": "code",
   "execution_count": null,
   "id": "c3c7ee5c-eb77-4d85-8ec6-937310f57c68",
   "metadata": {},
   "outputs": [],
   "source": [
    "lr_res"
   ]
  },
  {
   "cell_type": "code",
   "execution_count": null,
   "id": "0ae3dac3-1d23-46d8-9cc8-5535869a9132",
   "metadata": {},
   "outputs": [],
   "source": []
  },
  {
   "cell_type": "markdown",
   "id": "17ecacf8-69af-4374-abef-980eb8907213",
   "metadata": {},
   "source": [
    "NATMI fun"
   ]
  },
  {
   "cell_type": "markdown",
   "id": "e1a141c1-3282-4fdd-be27-773815db84c2",
   "metadata": {},
   "source": [
    "Both magnitude and specificity! Returned to unpack!!!"
   ]
  },
  {
   "cell_type": "code",
   "execution_count": null,
   "id": "b0de08ef-c0eb-4c9c-8ee0-7764e54b5bb4",
   "metadata": {},
   "outputs": [],
   "source": [
    "def _natmi_score(x):\n",
    "    lig = (x.ligand_means / x.ligand_means_sums)\n",
    "    rec = (x.receptor_means / x.receptor_means_sums)\n",
    "    return  lig * rec"
   ]
  },
  {
   "cell_type": "code",
   "execution_count": null,
   "id": "abe9762f-2491-46d8-88eb-143750d83fe6",
   "metadata": {},
   "outputs": [],
   "source": [
    "lr_res['edge_specificity'] = lr_res.apply(_natmi_score, axis=1)"
   ]
  },
  {
   "cell_type": "code",
   "execution_count": null,
   "id": "62988853-9c20-4fa6-a0fc-1bbb75e17026",
   "metadata": {},
   "outputs": [],
   "source": [
    "lr_res.sort_values('edge_specificity', ascending=False)"
   ]
  },
  {
   "cell_type": "code",
   "execution_count": null,
   "id": "9aa1ecbb-c2d0-48fa-848a-c9d6320f1875",
   "metadata": {},
   "outputs": [],
   "source": []
  },
  {
   "cell_type": "markdown",
   "id": "7ec44baa-0cd3-4eb6-9f7b-a5e325b6f692",
   "metadata": {},
   "source": [
    "SCA re-implement"
   ]
  },
  {
   "cell_type": "markdown",
   "id": "3c929a95-d14e-41ac-975c-52bba1269210",
   "metadata": {},
   "source": [
    "return Specificity as None"
   ]
  },
  {
   "cell_type": "code",
   "execution_count": null,
   "id": "dd211f7b-5e44-40f1-9cd7-763a4e5126a4",
   "metadata": {},
   "outputs": [],
   "source": [
    "def _sca_score(x):\n",
    "    lr_sqrt = np.sqrt(x.ligand_means) * np.sqrt(x.receptor_means)\n",
    "    return lr_sqrt / (lr_sqrt + x.mat_mean)"
   ]
  },
  {
   "cell_type": "code",
   "execution_count": null,
   "id": "bcc99224-be25-4436-bf8a-91feb025f6b2",
   "metadata": {},
   "outputs": [],
   "source": [
    "lr_res['lrscore'] = lr_res.apply(_sca_score, axis=1)"
   ]
  },
  {
   "cell_type": "code",
   "execution_count": null,
   "id": "b13f13c6-950b-4b25-a97b-b3f70d324fd2",
   "metadata": {},
   "outputs": [],
   "source": [
    "lr_res.sort_values('lrscore', ascending=False)"
   ]
  },
  {
   "cell_type": "code",
   "execution_count": null,
   "id": "79a80f33-f767-454c-80aa-d70f70901311",
   "metadata": {},
   "outputs": [],
   "source": []
  },
  {
   "cell_type": "code",
   "execution_count": null,
   "id": "624f4e28-2df5-4ed5-b393-7dc4b487d48a",
   "metadata": {},
   "outputs": [],
   "source": [
    "lr_res[(lr_res.ligand_complex=='TGFB1') & (lr_res.receptor_complex=='ACVR1_TGFBR1_TGFBR2')].sort_values('lrscore', ascending=False)"
   ]
  },
  {
   "cell_type": "code",
   "execution_count": null,
   "id": "6d371de9-7e14-4518-b252-a0ba7f65ebcc",
   "metadata": {},
   "outputs": [],
   "source": []
  },
  {
   "cell_type": "code",
   "execution_count": null,
   "id": "d7d09934-aeec-429c-8a93-a8d1950896c4",
   "metadata": {},
   "outputs": [],
   "source": []
  },
  {
   "cell_type": "code",
   "execution_count": null,
   "id": "5bd80a15-628a-404f-bd03-e8023f8d06d3",
   "metadata": {},
   "outputs": [],
   "source": []
  },
  {
   "cell_type": "code",
   "execution_count": null,
   "id": "4a340009-5dfc-4056-9228-6e47530955c8",
   "metadata": {},
   "outputs": [],
   "source": []
  },
  {
   "cell_type": "markdown",
   "id": "a67d9786-388a-4c8d-b868-5539a3602f5c",
   "metadata": {},
   "source": [
    "logFC re-implement"
   ]
  },
  {
   "cell_type": "markdown",
   "id": "194266ec-e8cf-4f65-963f-a3f9e2939f67",
   "metadata": {},
   "source": [
    "Magnitude as None"
   ]
  },
  {
   "cell_type": "code",
   "execution_count": null,
   "id": "0699d6ec-68cb-4b49-84c0-d2722d40e90e",
   "metadata": {},
   "outputs": [],
   "source": [
    "lr_res['logfc'] = lr_res[['ligand_logfoldchanges', 'receptor_logfoldchanges']].mean(1)"
   ]
  },
  {
   "cell_type": "code",
   "execution_count": null,
   "id": "51064b93-983f-4c16-adb9-ca54a2e1cb62",
   "metadata": {},
   "outputs": [],
   "source": []
  },
  {
   "cell_type": "code",
   "execution_count": null,
   "id": "b3482e1c-c433-4712-bf1d-ba0494c0a314",
   "metadata": {},
   "outputs": [],
   "source": [
    "lr_res.sort_values(by='logfc', key=abs, ascending=False)"
   ]
  },
  {
   "cell_type": "code",
   "execution_count": null,
   "id": "fab2e516-7f93-4850-9907-2deaa2650c73",
   "metadata": {},
   "outputs": [],
   "source": []
  },
  {
   "cell_type": "markdown",
   "id": "7fb95f6b-db28-494b-83f8-de6b7c9b2048",
   "metadata": {},
   "source": [
    "Re-implement Connectome"
   ]
  },
  {
   "cell_type": "markdown",
   "id": "e50d075c-f537-4677-b1b0-e2837e29a5f8",
   "metadata": {},
   "source": [
    "Both Specificity and Magnitude"
   ]
  },
  {
   "cell_type": "code",
   "execution_count": null,
   "id": "a3d0a012-69e9-47c6-bb48-66641647cea8",
   "metadata": {},
   "outputs": [],
   "source": [
    "lr_res['edge_weight'] = lr_res[['ligand_zscores', 'receptor_zscores']].mean(1)"
   ]
  },
  {
   "cell_type": "code",
   "execution_count": null,
   "id": "c95a783e-52d8-44e8-b735-bbe54bef1972",
   "metadata": {},
   "outputs": [],
   "source": []
  }
 ],
 "metadata": {
  "kernelspec": {
   "display_name": "liana-py",
   "language": "python",
   "name": "liana-py"
  },
  "language_info": {
   "codemirror_mode": {
    "name": "ipython",
    "version": 3
   },
   "file_extension": ".py",
   "mimetype": "text/x-python",
   "name": "python",
   "nbconvert_exporter": "python",
   "pygments_lexer": "ipython3",
   "version": "3.8.8"
  }
 },
 "nbformat": 4,
 "nbformat_minor": 5
}
