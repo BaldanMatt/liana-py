{
 "cells": [
  {
   "cell_type": "code",
   "execution_count": 1,
   "id": "4a6561fa-18d6-459b-a010-51b7d9fae1d4",
   "metadata": {},
   "outputs": [],
   "source": [
    "import scanpy as sc\n",
    "import pandas as pd\n",
    "import numpy as np"
   ]
  },
  {
   "cell_type": "code",
   "execution_count": null,
   "id": "d333ea8e-aeca-4746-887b-33ec6b6b1b17",
   "metadata": {},
   "outputs": [],
   "source": []
  },
  {
   "cell_type": "markdown",
   "id": "f65dcb30-df9e-4ab9-a2f5-b2cb30ba58c0",
   "metadata": {},
   "source": [
    "Load anndata"
   ]
  },
  {
   "cell_type": "code",
   "execution_count": 2,
   "id": "3be28d50-be89-46ae-b3ec-e8878844a0ab",
   "metadata": {},
   "outputs": [],
   "source": [
    "adata = sc.read_h5ad(\"test.h5ad\")\n",
    "# lognorm should be the default (expected)\n",
    "adata.X = adata.layers['logcounts']"
   ]
  },
  {
   "cell_type": "code",
   "execution_count": null,
   "id": "329c949e-98a6-4928-b9b7-1a7b548b2974",
   "metadata": {},
   "outputs": [],
   "source": []
  },
  {
   "cell_type": "markdown",
   "id": "04043a54-1480-41be-b134-b55911ff9027",
   "metadata": {},
   "source": [
    "Parameters"
   ]
  },
  {
   "cell_type": "code",
   "execution_count": 3,
   "id": "8749bb33-5c01-49b3-8fe1-cb8b167a8b28",
   "metadata": {},
   "outputs": [],
   "source": [
    "groupby='label'"
   ]
  },
  {
   "cell_type": "code",
   "execution_count": 4,
   "id": "6581703e-86e5-4f50-ab07-2f1791be9e67",
   "metadata": {},
   "outputs": [],
   "source": [
    "de_method='wilcoxon'"
   ]
  },
  {
   "cell_type": "code",
   "execution_count": 5,
   "id": "9dabcf57-ad50-4fa5-a102-408b893cf6d7",
   "metadata": {},
   "outputs": [],
   "source": [
    "resource_name = 'consensus'"
   ]
  },
  {
   "cell_type": "code",
   "execution_count": 6,
   "id": "27f090b0-0d3e-44d6-a705-625377881521",
   "metadata": {},
   "outputs": [],
   "source": [
    "complex_policy = 'min'"
   ]
  },
  {
   "cell_type": "code",
   "execution_count": 7,
   "id": "8d955c4f-f6f7-4a08-82d4-d668bcec7caf",
   "metadata": {},
   "outputs": [],
   "source": [
    "complex_cols = ['ligand_means' , 'receptor_means'] # specific for every method"
   ]
  },
  {
   "cell_type": "code",
   "execution_count": 8,
   "id": "7093e116-584c-43e9-a341-486139b18b1e",
   "metadata": {},
   "outputs": [],
   "source": [
    "add_cols = ['ligand', 'receptor'] # additional columns to return"
   ]
  },
  {
   "cell_type": "code",
   "execution_count": 9,
   "id": "027cefb7-e362-49c4-906b-55a05cae3583",
   "metadata": {},
   "outputs": [],
   "source": [
    "key_cols = ['source', 'target', 'ligand_complex', 'receptor_complex']"
   ]
  },
  {
   "cell_type": "code",
   "execution_count": 10,
   "id": "e9ec3893-12f9-408f-9fae-6fd2b1bffffc",
   "metadata": {},
   "outputs": [],
   "source": [
    "verbose = False"
   ]
  },
  {
   "cell_type": "code",
   "execution_count": 11,
   "id": "2fd7640e-4b33-4725-b114-7bfd260677cf",
   "metadata": {},
   "outputs": [],
   "source": [
    "# need to figure out when to define this\n",
    "relevant_cols = key_cols + complex_cols + add_cols"
   ]
  },
  {
   "cell_type": "code",
   "execution_count": null,
   "id": "598d3138-0fad-4cca-a79c-bd3dd8c2218c",
   "metadata": {},
   "outputs": [],
   "source": []
  },
  {
   "cell_type": "code",
   "execution_count": null,
   "id": "19a4dbd6-5df3-4701-aeba-80dd9488e09f",
   "metadata": {},
   "outputs": [],
   "source": []
  },
  {
   "cell_type": "markdown",
   "id": "309ef0d7-3696-485d-a169-743774b2e2a4",
   "metadata": {},
   "source": [
    "Run LIANA PIPE"
   ]
  },
  {
   "cell_type": "code",
   "execution_count": null,
   "id": "101f0bdd-c6a0-400b-b64e-b6ba21df9ae5",
   "metadata": {},
   "outputs": [],
   "source": [
    "from liana import liana_pipe"
   ]
  },
  {
   "cell_type": "code",
   "execution_count": null,
   "id": "1bdd36ab-1ce6-4842-8b8f-d9a5f74ac660",
   "metadata": {},
   "outputs": [],
   "source": [
    "lr_res = liana_pipe(adata=adata, \n",
    "                    groupby=groupby, \n",
    "                    resource_name=resource_name,\n",
    "                    de_method=de_method,\n",
    "                    verbose=verbose,\n",
    "                    _key_cols=key_cols,\n",
    "                    _complex_cols=complex_cols,\n",
    "                    _add_cols=add_cols,\n",
    "                    complex_policy=complex_policy,\n",
    "                    resource=None)"
   ]
  },
  {
   "cell_type": "code",
   "execution_count": null,
   "id": "33625675-9c28-4f22-a869-71211157318f",
   "metadata": {},
   "outputs": [],
   "source": []
  },
  {
   "cell_type": "code",
   "execution_count": null,
   "id": "d29abe41-f62b-415c-b5b8-653f1df6bdd5",
   "metadata": {},
   "outputs": [],
   "source": []
  },
  {
   "cell_type": "code",
   "execution_count": null,
   "id": "9960bcad-69b4-4950-b6b0-523c15fc2dfa",
   "metadata": {},
   "outputs": [],
   "source": []
  },
  {
   "cell_type": "markdown",
   "id": "c4586fde-464c-4867-86d1-1ce1feadf798",
   "metadata": {},
   "source": [
    "#### LIANA PIPE LINE BY LINE"
   ]
  },
  {
   "cell_type": "code",
   "execution_count": null,
   "id": "5fe6b5eb-eec9-4356-98c3-9f63ebc81031",
   "metadata": {},
   "outputs": [],
   "source": []
  },
  {
   "cell_type": "code",
   "execution_count": 12,
   "id": "677ce5db-7b4e-4727-880c-2715dde979a7",
   "metadata": {},
   "outputs": [],
   "source": [
    "from liana.utils.pre import check_mat, check_if_covered, format_vars, filter_resource\n",
    "from liana.resource import select_resource\n",
    "from liana.resource.select_resource import explode_complexes\n",
    "from liana.steady.liana_pipe import _get_lr\n",
    "from liana.utils.reassemble_complexes import reassemble_complexes\n",
    "from scipy.sparse import csr_matrix\n",
    "from statsmodels.distributions.empirical_distribution import ECDF"
   ]
  },
  {
   "cell_type": "code",
   "execution_count": null,
   "id": "66ba6d05-d067-4558-a879-87394a6d866a",
   "metadata": {},
   "outputs": [],
   "source": []
  },
  {
   "cell_type": "markdown",
   "id": "e5f74ea3-9847-43e3-bd9b-cb1c312520ee",
   "metadata": {},
   "source": [
    "I need to double check if every step makes sense, as I build unit tests!!!\n",
    "\n",
    "For example, are there any duplicated rows (source, target, ligand_complex, receptor_complex)\n",
    "\n",
    "Double check again if correct subunit is kept, etc"
   ]
  },
  {
   "cell_type": "code",
   "execution_count": 13,
   "id": "a62b0165-a084-4979-9110-a18fc6da2c0e",
   "metadata": {},
   "outputs": [
    {
     "name": "stdout",
     "output_type": "stream",
     "text": [
      "Converting mat to CSR format\n"
     ]
    }
   ],
   "source": [
    "adata.X = check_mat(adata.X, True)"
   ]
  },
  {
   "cell_type": "code",
   "execution_count": null,
   "id": "67ad1ece-1a1a-4bf9-b284-25764d7cb858",
   "metadata": {},
   "outputs": [],
   "source": []
  },
  {
   "cell_type": "code",
   "execution_count": 14,
   "id": "19df65eb-c6d2-4866-bc22-9b320deae6e1",
   "metadata": {},
   "outputs": [],
   "source": [
    "# Define idents col name\n",
    "adata.obs.label = adata.obs[groupby]"
   ]
  },
  {
   "cell_type": "code",
   "execution_count": null,
   "id": "ff3885f0-ba02-43ae-ad3b-c9bbb742e196",
   "metadata": {},
   "outputs": [],
   "source": []
  },
  {
   "cell_type": "markdown",
   "id": "4ccdd879-64e2-4339-9b00-0adcea5edfbc",
   "metadata": {},
   "source": [
    "Load resource"
   ]
  },
  {
   "cell_type": "code",
   "execution_count": 15,
   "id": "a2c2c0b2-d792-45d2-9d2a-35daa9f16842",
   "metadata": {},
   "outputs": [],
   "source": [
    "resource = select_resource(resource_name='consensus')"
   ]
  },
  {
   "cell_type": "code",
   "execution_count": 16,
   "id": "8252d9a7-5445-4d61-8ed8-ab34af871ccb",
   "metadata": {},
   "outputs": [],
   "source": [
    "# Decomplexify\n",
    "resource = explode_complexes(resource)"
   ]
  },
  {
   "cell_type": "code",
   "execution_count": 17,
   "id": "4a9a67d4-1e21-4a58-9965-ffc87aed78d2",
   "metadata": {},
   "outputs": [],
   "source": [
    "# Filter Resource\n",
    "resource = filter_resource(resource, adata.var_names)"
   ]
  },
  {
   "cell_type": "code",
   "execution_count": null,
   "id": "cdd684e0-9b50-4c62-8b6b-6f1ff1b24a4e",
   "metadata": {},
   "outputs": [],
   "source": []
  },
  {
   "cell_type": "markdown",
   "id": "d7f020fe-ce4e-43e5-a65a-c500256e38b6",
   "metadata": {},
   "source": [
    "Create entities"
   ]
  },
  {
   "cell_type": "code",
   "execution_count": 18,
   "id": "f0af1ebc-c5d4-4fd1-9c95-45cf6081cfcf",
   "metadata": {},
   "outputs": [],
   "source": [
    "entities = np.union1d(np.unique(resource[\"ligand\"]), np.unique(resource[\"receptor\"]))"
   ]
  },
  {
   "cell_type": "code",
   "execution_count": null,
   "id": "bb4303e7-9e8b-4d07-b91a-ce70f4a3da0b",
   "metadata": {},
   "outputs": [],
   "source": []
  },
  {
   "cell_type": "markdown",
   "id": "777dd11b-34db-4cc9-b7d4-3e7600bbbd8e",
   "metadata": {},
   "source": [
    "Check overlap between resource and adata"
   ]
  },
  {
   "cell_type": "code",
   "execution_count": 19,
   "id": "d2d31c65-84a2-4bd6-a034-0a64935d063d",
   "metadata": {},
   "outputs": [],
   "source": [
    "check_if_covered(entities, adata.var_keys)"
   ]
  },
  {
   "cell_type": "code",
   "execution_count": null,
   "id": "45763bd4-cb43-4500-a912-b2eaa6ae653e",
   "metadata": {},
   "outputs": [],
   "source": []
  },
  {
   "cell_type": "markdown",
   "id": "2b70f1f0-af71-4348-95bc-bfcd16bf7ca7",
   "metadata": {},
   "source": [
    "Get global mean for SCA before filtering"
   ]
  },
  {
   "cell_type": "code",
   "execution_count": 20,
   "id": "46bb2ab6-c9e1-4d4d-b33f-bf81cbd88525",
   "metadata": {},
   "outputs": [],
   "source": [
    "if 'mat_mean' in add_cols: # SHOULD BE METHOD NAME!\n",
    "    adata.uns['mat_mean'] = np.mean(adata.X)"
   ]
  },
  {
   "cell_type": "code",
   "execution_count": null,
   "id": "0773f2a3-862d-4ac5-8299-84c5e6fef47f",
   "metadata": {},
   "outputs": [],
   "source": []
  },
  {
   "cell_type": "code",
   "execution_count": 21,
   "id": "b37b2a52-7e37-4be1-ac32-457690f5bb54",
   "metadata": {},
   "outputs": [
    {
     "data": {
      "text/plain": [
       "View of AnnData object with n_obs × n_vars = 90 × 375\n",
       "    obs: 'label'\n",
       "    uns: 'X_name', 'nCount_RNA', 'nFeature_RNA', 'orig.ident', 'seurat_annotations'\n",
       "    layers: 'logcounts'"
      ]
     },
     "execution_count": 21,
     "metadata": {},
     "output_type": "execute_result"
    }
   ],
   "source": [
    "# Filter to only include the relevant genes\n",
    "adata = adata[:,np.intersect1d(entities, adata.var.index)]\n",
    "adata"
   ]
  },
  {
   "cell_type": "code",
   "execution_count": null,
   "id": "33212579-8762-4c83-b7ef-dc2fd8875bdb",
   "metadata": {},
   "outputs": [],
   "source": []
  },
  {
   "cell_type": "markdown",
   "id": "86cf9a4c-1693-4470-99f8-02bd60beb367",
   "metadata": {
    "tags": []
   },
   "source": [
    "Get Stats"
   ]
  },
  {
   "cell_type": "code",
   "execution_count": 22,
   "id": "27042d96-a874-457e-ad75-3c312b73301b",
   "metadata": {},
   "outputs": [
    {
     "name": "stderr",
     "output_type": "stream",
     "text": [
      "/home/dbdimitrov/anaconda3/lib/python3.8/site-packages/anndata/compat/_overloaded_dict.py:106: ImplicitModificationWarning: Trying to modify attribute `._uns` of view, initializing view as actual.\n",
      "  self.data[key] = value\n",
      "/home/dbdimitrov/anaconda3/lib/python3.8/contextlib.py:120: FutureWarning: X.dtype being converted to np.float32 from float64. In the next version of anndata (0.9) conversion will not be automatic. Pass dtype explicitly to avoid this warning. Pass `AnnData(X, dtype=X.dtype, ...)` to get the future behavour.\n",
      "  next(self.gen)\n"
     ]
    }
   ],
   "source": [
    "lr_res = _get_lr(adata, resource, key_cols + complex_cols + add_cols, de_method)"
   ]
  },
  {
   "cell_type": "code",
   "execution_count": 23,
   "id": "9afdd672-e818-410e-84e0-6fb9ba6fd6be",
   "metadata": {},
   "outputs": [
    {
     "data": {
      "text/html": [
       "<div>\n",
       "<style scoped>\n",
       "    .dataframe tbody tr th:only-of-type {\n",
       "        vertical-align: middle;\n",
       "    }\n",
       "\n",
       "    .dataframe tbody tr th {\n",
       "        vertical-align: top;\n",
       "    }\n",
       "\n",
       "    .dataframe thead th {\n",
       "        text-align: right;\n",
       "    }\n",
       "</style>\n",
       "<table border=\"1\" class=\"dataframe\">\n",
       "  <thead>\n",
       "    <tr style=\"text-align: right;\">\n",
       "      <th></th>\n",
       "      <th>source</th>\n",
       "      <th>target</th>\n",
       "      <th>ligand_complex</th>\n",
       "      <th>receptor_complex</th>\n",
       "      <th>ligand_means</th>\n",
       "      <th>receptor_means</th>\n",
       "      <th>ligand</th>\n",
       "      <th>receptor</th>\n",
       "    </tr>\n",
       "  </thead>\n",
       "  <tbody>\n",
       "    <tr>\n",
       "      <th>0</th>\n",
       "      <td>B</td>\n",
       "      <td>B</td>\n",
       "      <td>LGALS9</td>\n",
       "      <td>PTPRC</td>\n",
       "      <td>0.374320</td>\n",
       "      <td>0.761533</td>\n",
       "      <td>LGALS9</td>\n",
       "      <td>PTPRC</td>\n",
       "    </tr>\n",
       "    <tr>\n",
       "      <th>1</th>\n",
       "      <td>B</td>\n",
       "      <td>B</td>\n",
       "      <td>CD22</td>\n",
       "      <td>PTPRC</td>\n",
       "      <td>0.554265</td>\n",
       "      <td>0.761533</td>\n",
       "      <td>CD22</td>\n",
       "      <td>PTPRC</td>\n",
       "    </tr>\n",
       "    <tr>\n",
       "      <th>2</th>\n",
       "      <td>B</td>\n",
       "      <td>B</td>\n",
       "      <td>LGALS1</td>\n",
       "      <td>PTPRC</td>\n",
       "      <td>0.611330</td>\n",
       "      <td>0.761533</td>\n",
       "      <td>LGALS1</td>\n",
       "      <td>PTPRC</td>\n",
       "    </tr>\n",
       "    <tr>\n",
       "      <th>3</th>\n",
       "      <td>B</td>\n",
       "      <td>B</td>\n",
       "      <td>LGALS9</td>\n",
       "      <td>CD44</td>\n",
       "      <td>0.374320</td>\n",
       "      <td>0.655391</td>\n",
       "      <td>LGALS9</td>\n",
       "      <td>CD44</td>\n",
       "    </tr>\n",
       "    <tr>\n",
       "      <th>4</th>\n",
       "      <td>B</td>\n",
       "      <td>B</td>\n",
       "      <td>ADAM10</td>\n",
       "      <td>CD44</td>\n",
       "      <td>0.119797</td>\n",
       "      <td>0.655391</td>\n",
       "      <td>ADAM10</td>\n",
       "      <td>CD44</td>\n",
       "    </tr>\n",
       "    <tr>\n",
       "      <th>...</th>\n",
       "      <td>...</td>\n",
       "      <td>...</td>\n",
       "      <td>...</td>\n",
       "      <td>...</td>\n",
       "      <td>...</td>\n",
       "      <td>...</td>\n",
       "      <td>...</td>\n",
       "      <td>...</td>\n",
       "    </tr>\n",
       "    <tr>\n",
       "      <th>505</th>\n",
       "      <td>NK</td>\n",
       "      <td>NK</td>\n",
       "      <td>CALM1</td>\n",
       "      <td>KCNN4</td>\n",
       "      <td>2.516959</td>\n",
       "      <td>0.000000</td>\n",
       "      <td>CALM1</td>\n",
       "      <td>KCNN4</td>\n",
       "    </tr>\n",
       "    <tr>\n",
       "      <th>506</th>\n",
       "      <td>NK</td>\n",
       "      <td>NK</td>\n",
       "      <td>PTPN6</td>\n",
       "      <td>CD300LF</td>\n",
       "      <td>0.652221</td>\n",
       "      <td>0.000000</td>\n",
       "      <td>PTPN6</td>\n",
       "      <td>CD300LF</td>\n",
       "    </tr>\n",
       "    <tr>\n",
       "      <th>507</th>\n",
       "      <td>NK</td>\n",
       "      <td>NK</td>\n",
       "      <td>NUCB2</td>\n",
       "      <td>ERAP1</td>\n",
       "      <td>0.156951</td>\n",
       "      <td>0.162055</td>\n",
       "      <td>NUCB2</td>\n",
       "      <td>ERAP1</td>\n",
       "    </tr>\n",
       "    <tr>\n",
       "      <th>508</th>\n",
       "      <td>NK</td>\n",
       "      <td>NK</td>\n",
       "      <td>SOCS2</td>\n",
       "      <td>EPOR</td>\n",
       "      <td>0.230338</td>\n",
       "      <td>0.000000</td>\n",
       "      <td>SOCS2</td>\n",
       "      <td>EPOR</td>\n",
       "    </tr>\n",
       "    <tr>\n",
       "      <th>509</th>\n",
       "      <td>NK</td>\n",
       "      <td>NK</td>\n",
       "      <td>GDF11</td>\n",
       "      <td>ACTR2</td>\n",
       "      <td>0.000000</td>\n",
       "      <td>0.346738</td>\n",
       "      <td>GDF11</td>\n",
       "      <td>ACTR2</td>\n",
       "    </tr>\n",
       "  </tbody>\n",
       "</table>\n",
       "<p>4590 rows × 8 columns</p>\n",
       "</div>"
      ],
      "text/plain": [
       "    source target ligand_complex receptor_complex  ligand_means  \\\n",
       "0        B      B         LGALS9            PTPRC      0.374320   \n",
       "1        B      B           CD22            PTPRC      0.554265   \n",
       "2        B      B         LGALS1            PTPRC      0.611330   \n",
       "3        B      B         LGALS9             CD44      0.374320   \n",
       "4        B      B         ADAM10             CD44      0.119797   \n",
       "..     ...    ...            ...              ...           ...   \n",
       "505     NK     NK          CALM1            KCNN4      2.516959   \n",
       "506     NK     NK          PTPN6          CD300LF      0.652221   \n",
       "507     NK     NK          NUCB2            ERAP1      0.156951   \n",
       "508     NK     NK          SOCS2             EPOR      0.230338   \n",
       "509     NK     NK          GDF11            ACTR2      0.000000   \n",
       "\n",
       "     receptor_means  ligand receptor  \n",
       "0          0.761533  LGALS9    PTPRC  \n",
       "1          0.761533    CD22    PTPRC  \n",
       "2          0.761533  LGALS1    PTPRC  \n",
       "3          0.655391  LGALS9     CD44  \n",
       "4          0.655391  ADAM10     CD44  \n",
       "..              ...     ...      ...  \n",
       "505        0.000000   CALM1    KCNN4  \n",
       "506        0.000000   PTPN6  CD300LF  \n",
       "507        0.162055   NUCB2    ERAP1  \n",
       "508        0.000000   SOCS2     EPOR  \n",
       "509        0.346738   GDF11    ACTR2  \n",
       "\n",
       "[4590 rows x 8 columns]"
      ]
     },
     "execution_count": 23,
     "metadata": {},
     "output_type": "execute_result"
    }
   ],
   "source": [
    "lr_res"
   ]
  },
  {
   "cell_type": "code",
   "execution_count": null,
   "id": "795ae60d-921c-4f2c-98fc-52f33d09f26e",
   "metadata": {},
   "outputs": [],
   "source": []
  },
  {
   "cell_type": "markdown",
   "id": "6d1326e7-4437-40ed-9d65-c93ef5c1e33d",
   "metadata": {},
   "source": [
    "Recomplexify"
   ]
  },
  {
   "cell_type": "code",
   "execution_count": null,
   "id": "2e39a9e4-77ae-4e2b-ab0b-579d508f1347",
   "metadata": {},
   "outputs": [],
   "source": [
    "# If I want to implement anything else but the min as complex policy, I would need to change this:\n",
    "# temp = temp[[x==\"INHBA_INHBB\" for x in temp['ligand_complex']]].sort_values('receptor_complex')\n",
    "# temp = temp[[x==\"ACVR1B_ACVR2A\" for x in temp['receptor_complex']]]"
   ]
  },
  {
   "cell_type": "code",
   "execution_count": 24,
   "id": "a78ea33f-4eca-47ef-bca1-af01ca844810",
   "metadata": {},
   "outputs": [
    {
     "name": "stderr",
     "output_type": "stream",
     "text": [
      "/home/dbdimitrov/Repos/liana-py/liana/utils/reassemble_complexes.py:45: FutureWarning: In a future version of pandas all arguments of DataFrame.drop except for the argument 'labels' will be keyword-only\n",
      "  lr_res = lr_res.obj.merge(cols_dict[col], left_on=left_on,\n"
     ]
    }
   ],
   "source": [
    "lr_res = reassemble_complexes(lr_res, key_cols, complex_cols, complex_policy)"
   ]
  },
  {
   "cell_type": "code",
   "execution_count": null,
   "id": "671994a8-5607-4538-a19f-22fea792fdfd",
   "metadata": {},
   "outputs": [],
   "source": []
  },
  {
   "cell_type": "code",
   "execution_count": null,
   "id": "b2c17e9f-dde8-4e82-bc00-466f137e83cb",
   "metadata": {},
   "outputs": [],
   "source": []
  },
  {
   "cell_type": "markdown",
   "id": "efbeae9b-4df7-42ca-9b2c-9a1e7bedba08",
   "metadata": {},
   "source": [
    "### SCORES"
   ]
  },
  {
   "cell_type": "code",
   "execution_count": null,
   "id": "b42b5a08-eb0d-4827-818b-731717b5c4cf",
   "metadata": {},
   "outputs": [],
   "source": [
    "class ScoreClass:\n",
    "    def __init__(self, method_name, method_cols, score_fun, magnitude, specificity, permute, reference):\n",
    "        self.method_name = method_name\n",
    "        self.method_cols = method_cols\n",
    "        self.score_fun = score_fun\n",
    "        self.magnitude = magnitude\n",
    "        self.specificity = specificity\n",
    "        self.permute = permute\n",
    "        self.reference = reference\n",
    "    \n",
    "    # describe self\n",
    "    def description(self):\n",
    "        print(f\"{self.method_name} uses {self.specificity} and {self.magnitude}\")"
   ]
  },
  {
   "cell_type": "code",
   "execution_count": null,
   "id": "badaeb76-3e98-4dc9-91c6-1d560791d392",
   "metadata": {},
   "outputs": [],
   "source": []
  },
  {
   "cell_type": "code",
   "execution_count": null,
   "id": "0d7a2993-795e-431b-95a3-ed0eff778b43",
   "metadata": {},
   "outputs": [],
   "source": [
    "# ScoreClass(method_name='cellphonedb',\n",
    "#           method_cols = ['ligand_means', 'receptor_means'],\n",
    "#           score_fun = )"
   ]
  },
  {
   "cell_type": "code",
   "execution_count": null,
   "id": "b9230dd4-346c-4b6f-9157-d8ec78cf60b5",
   "metadata": {},
   "outputs": [],
   "source": []
  },
  {
   "cell_type": "markdown",
   "id": "e117208d-fdce-4de6-8962-1326cdd20bf7",
   "metadata": {},
   "source": [
    "CellPhoneDB re-implement"
   ]
  },
  {
   "cell_type": "code",
   "execution_count": 79,
   "id": "48f9a15c-f5ae-4ef8-9338-87ec69b21329",
   "metadata": {},
   "outputs": [],
   "source": [
    "perms, ligand_pos, receptor_pos, labels_pos = _get_means_perms(adata=adata, lr_res=lr_res, n_perms=1000, seed=69)"
   ]
  },
  {
   "cell_type": "code",
   "execution_count": 81,
   "id": "1ad3c919-7577-4d24-bd73-647da67c73d2",
   "metadata": {},
   "outputs": [],
   "source": [
    "lr_res[['lr_means', 'pvals']] = lr_res.apply(_build_ecdf, axis=1, result_type=\"expand\")"
   ]
  },
  {
   "cell_type": "code",
   "execution_count": null,
   "id": "7c2cbaf6-1b24-4c69-8b6a-8c0dc46108a2",
   "metadata": {},
   "outputs": [],
   "source": []
  },
  {
   "cell_type": "code",
   "execution_count": null,
   "id": "bbb87629-e604-497f-9bb2-8b02cc5ca73f",
   "metadata": {},
   "outputs": [],
   "source": []
  },
  {
   "cell_type": "code",
   "execution_count": 25,
   "id": "6604af4c-0394-438c-aa82-4a252470500c",
   "metadata": {},
   "outputs": [],
   "source": [
    "def _simple_mean(x, y): return(x + y)/2\n",
    "\n",
    "def _build_ecdf(x):\n",
    "    if((x.ligand_means==0) | (x.receptor_means==0)): return 1\n",
    "\n",
    "    # Permutations lr mean\n",
    "    ligand_perms = perms[:, labels_pos[x.source], ligand_pos[x.ligand]]\n",
    "    receptor_perms = perms[:, labels_pos[x.target], receptor_pos[x.receptor]]\n",
    "    lr_perms = _simple_mean(ligand_perms, receptor_perms)\n",
    "    \n",
    "    # actual lr_mean\n",
    "    lr_mean = _simple_mean(x.ligand_means, x.receptor_means)\n",
    "    \n",
    "    return (lr_mean, (1 - ECDF(lr_perms)(lr_mean)))"
   ]
  },
  {
   "cell_type": "code",
   "execution_count": null,
   "id": "2acb1ef1-aa79-48ac-adf3-b2ecf4054b10",
   "metadata": {},
   "outputs": [],
   "source": []
  },
  {
   "cell_type": "code",
   "execution_count": null,
   "id": "662b8d28-23c2-45ad-8607-1b26b3b8d2a6",
   "metadata": {},
   "outputs": [],
   "source": []
  },
  {
   "cell_type": "markdown",
   "id": "7b86f089-b7dc-49af-84be-9a123fa898bf",
   "metadata": {},
   "source": [
    "Permutations (Independent Fun)"
   ]
  },
  {
   "cell_type": "code",
   "execution_count": 84,
   "id": "2bb4c8b4-7e64-4773-8dfe-f73fbd6d0b12",
   "metadata": {},
   "outputs": [],
   "source": [
    "def _get_means_perms(adata, lr_res, n_perms, seed):\n",
    "    # initialize rng\n",
    "    rng = np.random.default_rng(seed=seed)\n",
    "    \n",
    "    # define labels and dict\n",
    "    labels = adata.obs.label.cat.categories\n",
    "    labels_dict = {label:adata.obs.label.isin([label]) for label in labels}\n",
    "    \n",
    "    # indexes to be shuffled\n",
    "    idx = np.arange(adata.X.shape[0])\n",
    "    \n",
    "    # Perm should be a cube /w dims (nperms x idents x ngenes)\n",
    "    perms = np.zeros((n_perms, labels.shape[0], adata.shape[1]))\n",
    "    \n",
    "    # Assign permuted matrix\n",
    "    for perm in range(n_perms):\n",
    "        perm_idx = rng.permutation(idx)\n",
    "        perm_mat = adata.X[perm_idx].copy()\n",
    "        # populate matrix /w permuted means\n",
    "        for cind in range(labels.shape[0]):\n",
    "            perms[perm, cind] = perm_mat[labels_dict[labels[cind]]].mean(0)\n",
    "    \n",
    "    # Get indeces for each gene and label in the permutations\n",
    "    ligand_pos = { entity:np.where(adata.var_names==entity)[0][0] for entity in lr_res['ligand'] }\n",
    "    receptor_pos = { entity:np.where(adata.var_names==entity)[0][0] for entity in lr_res['receptor'] }\n",
    "    labels_pos = { labels[pos]:pos for pos in range(labels.shape[0]) }\n",
    "    \n",
    "    return perms, ligand_pos, receptor_pos, labels_pos"
   ]
  },
  {
   "cell_type": "code",
   "execution_count": null,
   "id": "734ca732-c277-48cb-9376-57d9125569d8",
   "metadata": {},
   "outputs": [],
   "source": []
  },
  {
   "cell_type": "code",
   "execution_count": 82,
   "id": "cd775cd5-ebc7-4912-b097-86e3eacdf30c",
   "metadata": {},
   "outputs": [
    {
     "data": {
      "text/html": [
       "<div>\n",
       "<style scoped>\n",
       "    .dataframe tbody tr th:only-of-type {\n",
       "        vertical-align: middle;\n",
       "    }\n",
       "\n",
       "    .dataframe tbody tr th {\n",
       "        vertical-align: top;\n",
       "    }\n",
       "\n",
       "    .dataframe thead th {\n",
       "        text-align: right;\n",
       "    }\n",
       "</style>\n",
       "<table border=\"1\" class=\"dataframe\">\n",
       "  <thead>\n",
       "    <tr style=\"text-align: right;\">\n",
       "      <th></th>\n",
       "      <th>source</th>\n",
       "      <th>target</th>\n",
       "      <th>ligand_complex</th>\n",
       "      <th>receptor_complex</th>\n",
       "      <th>ligand_means</th>\n",
       "      <th>receptor_means</th>\n",
       "      <th>ligand</th>\n",
       "      <th>receptor</th>\n",
       "      <th>lr_means</th>\n",
       "      <th>pvals</th>\n",
       "    </tr>\n",
       "  </thead>\n",
       "  <tbody>\n",
       "    <tr>\n",
       "      <th>0</th>\n",
       "      <td>B</td>\n",
       "      <td>B</td>\n",
       "      <td>LGALS9</td>\n",
       "      <td>PTPRC</td>\n",
       "      <td>0.374320</td>\n",
       "      <td>0.761533</td>\n",
       "      <td>LGALS9</td>\n",
       "      <td>PTPRC</td>\n",
       "      <td>0.567927</td>\n",
       "      <td>0.890</td>\n",
       "    </tr>\n",
       "    <tr>\n",
       "      <th>1</th>\n",
       "      <td>B</td>\n",
       "      <td>B</td>\n",
       "      <td>CD22</td>\n",
       "      <td>PTPRC</td>\n",
       "      <td>0.554265</td>\n",
       "      <td>0.761533</td>\n",
       "      <td>CD22</td>\n",
       "      <td>PTPRC</td>\n",
       "      <td>0.657899</td>\n",
       "      <td>0.647</td>\n",
       "    </tr>\n",
       "    <tr>\n",
       "      <th>2</th>\n",
       "      <td>B</td>\n",
       "      <td>B</td>\n",
       "      <td>LGALS1</td>\n",
       "      <td>PTPRC</td>\n",
       "      <td>0.611330</td>\n",
       "      <td>0.761533</td>\n",
       "      <td>LGALS1</td>\n",
       "      <td>PTPRC</td>\n",
       "      <td>0.686431</td>\n",
       "      <td>1.000</td>\n",
       "    </tr>\n",
       "    <tr>\n",
       "      <th>3</th>\n",
       "      <td>B</td>\n",
       "      <td>B</td>\n",
       "      <td>LGALS9</td>\n",
       "      <td>CD44</td>\n",
       "      <td>0.374320</td>\n",
       "      <td>0.655391</td>\n",
       "      <td>LGALS9</td>\n",
       "      <td>CD44</td>\n",
       "      <td>0.514855</td>\n",
       "      <td>0.163</td>\n",
       "    </tr>\n",
       "    <tr>\n",
       "      <th>4</th>\n",
       "      <td>B</td>\n",
       "      <td>B</td>\n",
       "      <td>ADAM10</td>\n",
       "      <td>CD44</td>\n",
       "      <td>0.119797</td>\n",
       "      <td>0.655391</td>\n",
       "      <td>ADAM10</td>\n",
       "      <td>CD44</td>\n",
       "      <td>0.387594</td>\n",
       "      <td>0.613</td>\n",
       "    </tr>\n",
       "    <tr>\n",
       "      <th>...</th>\n",
       "      <td>...</td>\n",
       "      <td>...</td>\n",
       "      <td>...</td>\n",
       "      <td>...</td>\n",
       "      <td>...</td>\n",
       "      <td>...</td>\n",
       "      <td>...</td>\n",
       "      <td>...</td>\n",
       "      <td>...</td>\n",
       "      <td>...</td>\n",
       "    </tr>\n",
       "    <tr>\n",
       "      <th>4282</th>\n",
       "      <td>NK</td>\n",
       "      <td>NK</td>\n",
       "      <td>CALM1</td>\n",
       "      <td>KCNN4</td>\n",
       "      <td>2.516959</td>\n",
       "      <td>0.000000</td>\n",
       "      <td>CALM1</td>\n",
       "      <td>KCNN4</td>\n",
       "      <td>1.000000</td>\n",
       "      <td>1.000</td>\n",
       "    </tr>\n",
       "    <tr>\n",
       "      <th>4283</th>\n",
       "      <td>NK</td>\n",
       "      <td>NK</td>\n",
       "      <td>PTPN6</td>\n",
       "      <td>CD300LF</td>\n",
       "      <td>0.652221</td>\n",
       "      <td>0.000000</td>\n",
       "      <td>PTPN6</td>\n",
       "      <td>CD300LF</td>\n",
       "      <td>1.000000</td>\n",
       "      <td>1.000</td>\n",
       "    </tr>\n",
       "    <tr>\n",
       "      <th>4284</th>\n",
       "      <td>NK</td>\n",
       "      <td>NK</td>\n",
       "      <td>NUCB2</td>\n",
       "      <td>ERAP1</td>\n",
       "      <td>0.156951</td>\n",
       "      <td>0.162055</td>\n",
       "      <td>NUCB2</td>\n",
       "      <td>ERAP1</td>\n",
       "      <td>0.159503</td>\n",
       "      <td>0.066</td>\n",
       "    </tr>\n",
       "    <tr>\n",
       "      <th>4285</th>\n",
       "      <td>NK</td>\n",
       "      <td>NK</td>\n",
       "      <td>SOCS2</td>\n",
       "      <td>EPOR</td>\n",
       "      <td>0.230338</td>\n",
       "      <td>0.000000</td>\n",
       "      <td>SOCS2</td>\n",
       "      <td>EPOR</td>\n",
       "      <td>1.000000</td>\n",
       "      <td>1.000</td>\n",
       "    </tr>\n",
       "    <tr>\n",
       "      <th>4286</th>\n",
       "      <td>NK</td>\n",
       "      <td>NK</td>\n",
       "      <td>GDF11</td>\n",
       "      <td>ACTR2</td>\n",
       "      <td>0.000000</td>\n",
       "      <td>0.346738</td>\n",
       "      <td>GDF11</td>\n",
       "      <td>ACTR2</td>\n",
       "      <td>1.000000</td>\n",
       "      <td>1.000</td>\n",
       "    </tr>\n",
       "  </tbody>\n",
       "</table>\n",
       "<p>4287 rows × 10 columns</p>\n",
       "</div>"
      ],
      "text/plain": [
       "     source target ligand_complex receptor_complex  ligand_means  \\\n",
       "0         B      B         LGALS9            PTPRC      0.374320   \n",
       "1         B      B           CD22            PTPRC      0.554265   \n",
       "2         B      B         LGALS1            PTPRC      0.611330   \n",
       "3         B      B         LGALS9             CD44      0.374320   \n",
       "4         B      B         ADAM10             CD44      0.119797   \n",
       "...     ...    ...            ...              ...           ...   \n",
       "4282     NK     NK          CALM1            KCNN4      2.516959   \n",
       "4283     NK     NK          PTPN6          CD300LF      0.652221   \n",
       "4284     NK     NK          NUCB2            ERAP1      0.156951   \n",
       "4285     NK     NK          SOCS2             EPOR      0.230338   \n",
       "4286     NK     NK          GDF11            ACTR2      0.000000   \n",
       "\n",
       "      receptor_means  ligand receptor  lr_means  pvals  \n",
       "0           0.761533  LGALS9    PTPRC  0.567927  0.890  \n",
       "1           0.761533    CD22    PTPRC  0.657899  0.647  \n",
       "2           0.761533  LGALS1    PTPRC  0.686431  1.000  \n",
       "3           0.655391  LGALS9     CD44  0.514855  0.163  \n",
       "4           0.655391  ADAM10     CD44  0.387594  0.613  \n",
       "...              ...     ...      ...       ...    ...  \n",
       "4282        0.000000   CALM1    KCNN4  1.000000  1.000  \n",
       "4283        0.000000   PTPN6  CD300LF  1.000000  1.000  \n",
       "4284        0.162055   NUCB2    ERAP1  0.159503  0.066  \n",
       "4285        0.000000   SOCS2     EPOR  1.000000  1.000  \n",
       "4286        0.346738   GDF11    ACTR2  1.000000  1.000  \n",
       "\n",
       "[4287 rows x 10 columns]"
      ]
     },
     "execution_count": 82,
     "metadata": {},
     "output_type": "execute_result"
    }
   ],
   "source": [
    "lr_res"
   ]
  },
  {
   "cell_type": "code",
   "execution_count": null,
   "id": "d67bc0e0-0356-4d0e-865d-8e951a124109",
   "metadata": {},
   "outputs": [],
   "source": []
  },
  {
   "cell_type": "code",
   "execution_count": null,
   "id": "1e43e6bd-c8a9-4d42-bb48-0a88a3cb88c4",
   "metadata": {},
   "outputs": [],
   "source": []
  },
  {
   "cell_type": "markdown",
   "id": "af777f3d-ab87-4d5d-b971-4626e473f9ad",
   "metadata": {},
   "source": [
    "Calculate means_sums for NATMI"
   ]
  },
  {
   "cell_type": "code",
   "execution_count": null,
   "id": "9550bd42-7277-49cc-8327-760e9de11a9e",
   "metadata": {},
   "outputs": [],
   "source": [
    "def _sum_means(lr_res, what, on):\n",
    "    return lr_res.join(lr_res.groupby(on)[what].sum(), on=on, rsuffix='_sums')"
   ]
  },
  {
   "cell_type": "code",
   "execution_count": null,
   "id": "7dc0a1b9-8cf7-4c5e-bc00-c2120688f332",
   "metadata": {},
   "outputs": [],
   "source": [
    "lr_res = _sum_means(lr_res, what='ligand_means', on=['ligand_complex', 'receptor_complex', 'target'])\n",
    "lr_res = _sum_means(lr_res, what='receptor_means', on=['ligand_complex', 'receptor_complex', 'source'])"
   ]
  },
  {
   "cell_type": "code",
   "execution_count": null,
   "id": "c3c7ee5c-eb77-4d85-8ec6-937310f57c68",
   "metadata": {},
   "outputs": [],
   "source": [
    "lr_res"
   ]
  },
  {
   "cell_type": "code",
   "execution_count": null,
   "id": "4fec8680-eb70-45d4-b579-e50a52e2f1a0",
   "metadata": {},
   "outputs": [],
   "source": []
  },
  {
   "cell_type": "code",
   "execution_count": null,
   "id": "0ae3dac3-1d23-46d8-9cc8-5535869a9132",
   "metadata": {},
   "outputs": [],
   "source": []
  },
  {
   "cell_type": "markdown",
   "id": "17ecacf8-69af-4374-abef-980eb8907213",
   "metadata": {},
   "source": [
    "NATMI fun"
   ]
  },
  {
   "cell_type": "code",
   "execution_count": null,
   "id": "b0de08ef-c0eb-4c9c-8ee0-7764e54b5bb4",
   "metadata": {},
   "outputs": [],
   "source": [
    "def _natmi_score(x):\n",
    "    lig = (x.ligand_means / x.ligand_means_sums)\n",
    "    rec = (x.receptor_means / x.receptor_means_sums)\n",
    "    return  lig * rec"
   ]
  },
  {
   "cell_type": "code",
   "execution_count": null,
   "id": "abe9762f-2491-46d8-88eb-143750d83fe6",
   "metadata": {},
   "outputs": [],
   "source": [
    "lr_res['edge_specificity'] = lr_res.apply(_natmi_score, axis=1)"
   ]
  },
  {
   "cell_type": "code",
   "execution_count": null,
   "id": "62988853-9c20-4fa6-a0fc-1bbb75e17026",
   "metadata": {},
   "outputs": [],
   "source": [
    "lr_res.sort_values('edge_specificity', ascending=False)"
   ]
  },
  {
   "cell_type": "code",
   "execution_count": null,
   "id": "9aa1ecbb-c2d0-48fa-848a-c9d6320f1875",
   "metadata": {},
   "outputs": [],
   "source": []
  },
  {
   "cell_type": "markdown",
   "id": "7ec44baa-0cd3-4eb6-9f7b-a5e325b6f692",
   "metadata": {},
   "source": [
    "SCA re-implement"
   ]
  },
  {
   "cell_type": "code",
   "execution_count": null,
   "id": "dd211f7b-5e44-40f1-9cd7-763a4e5126a4",
   "metadata": {},
   "outputs": [],
   "source": [
    "def _sca_score(x):\n",
    "    lr_sqrt = np.sqrt(x.ligand_means) * np.sqrt(x.receptor_means)\n",
    "    return lr_sqrt / (lr_sqrt + x.mat_mean)"
   ]
  },
  {
   "cell_type": "code",
   "execution_count": null,
   "id": "bcc99224-be25-4436-bf8a-91feb025f6b2",
   "metadata": {},
   "outputs": [],
   "source": [
    "lr_res['lrscore'] = lr_res.apply(_sca_score, axis=1)"
   ]
  },
  {
   "cell_type": "code",
   "execution_count": null,
   "id": "b13f13c6-950b-4b25-a97b-b3f70d324fd2",
   "metadata": {},
   "outputs": [],
   "source": [
    "lr_res.sort_values('lrscore', ascending=False)"
   ]
  },
  {
   "cell_type": "code",
   "execution_count": null,
   "id": "79a80f33-f767-454c-80aa-d70f70901311",
   "metadata": {},
   "outputs": [],
   "source": []
  },
  {
   "cell_type": "code",
   "execution_count": null,
   "id": "624f4e28-2df5-4ed5-b393-7dc4b487d48a",
   "metadata": {},
   "outputs": [],
   "source": [
    "lr_res[(lr_res.ligand_complex=='TGFB1') & (lr_res.receptor_complex=='ACVR1_TGFBR1_TGFBR2')].sort_values('lrscore', ascending=False)"
   ]
  },
  {
   "cell_type": "code",
   "execution_count": null,
   "id": "6d371de9-7e14-4518-b252-a0ba7f65ebcc",
   "metadata": {},
   "outputs": [],
   "source": []
  },
  {
   "cell_type": "code",
   "execution_count": null,
   "id": "d7d09934-aeec-429c-8a93-a8d1950896c4",
   "metadata": {},
   "outputs": [],
   "source": []
  },
  {
   "cell_type": "code",
   "execution_count": null,
   "id": "5bd80a15-628a-404f-bd03-e8023f8d06d3",
   "metadata": {},
   "outputs": [],
   "source": []
  },
  {
   "cell_type": "code",
   "execution_count": null,
   "id": "4a340009-5dfc-4056-9228-6e47530955c8",
   "metadata": {},
   "outputs": [],
   "source": []
  },
  {
   "cell_type": "markdown",
   "id": "a67d9786-388a-4c8d-b868-5539a3602f5c",
   "metadata": {},
   "source": [
    "logFC re-implement"
   ]
  },
  {
   "cell_type": "code",
   "execution_count": null,
   "id": "0699d6ec-68cb-4b49-84c0-d2722d40e90e",
   "metadata": {},
   "outputs": [],
   "source": [
    "lr_res['logfc'] = lr_res[['ligand_logfoldchanges', 'receptor_logfoldchanges']].mean(1)"
   ]
  },
  {
   "cell_type": "code",
   "execution_count": null,
   "id": "51064b93-983f-4c16-adb9-ca54a2e1cb62",
   "metadata": {},
   "outputs": [],
   "source": []
  },
  {
   "cell_type": "code",
   "execution_count": null,
   "id": "b3482e1c-c433-4712-bf1d-ba0494c0a314",
   "metadata": {},
   "outputs": [],
   "source": [
    "lr_res.sort_values(by='logfc', key=abs, ascending=False)"
   ]
  },
  {
   "cell_type": "code",
   "execution_count": null,
   "id": "fab2e516-7f93-4850-9907-2deaa2650c73",
   "metadata": {},
   "outputs": [],
   "source": []
  },
  {
   "cell_type": "markdown",
   "id": "7fb95f6b-db28-494b-83f8-de6b7c9b2048",
   "metadata": {},
   "source": [
    "Re-implement Connectome"
   ]
  },
  {
   "cell_type": "code",
   "execution_count": null,
   "id": "a3d0a012-69e9-47c6-bb48-66641647cea8",
   "metadata": {},
   "outputs": [],
   "source": [
    "lr_res['edge_weight'] = lr_res[['ligand_zscores', 'receptor_zscores']].mean(1)"
   ]
  },
  {
   "cell_type": "code",
   "execution_count": null,
   "id": "c95a783e-52d8-44e8-b735-bbe54bef1972",
   "metadata": {},
   "outputs": [],
   "source": []
  }
 ],
 "metadata": {
  "kernelspec": {
   "display_name": "liana-py",
   "language": "python",
   "name": "liana-py"
  },
  "language_info": {
   "codemirror_mode": {
    "name": "ipython",
    "version": 3
   },
   "file_extension": ".py",
   "mimetype": "text/x-python",
   "name": "python",
   "nbconvert_exporter": "python",
   "pygments_lexer": "ipython3",
   "version": "3.8.8"
  }
 },
 "nbformat": 4,
 "nbformat_minor": 5
}
