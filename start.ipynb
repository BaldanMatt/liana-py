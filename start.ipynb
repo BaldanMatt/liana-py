{
 "cells": [
  {
   "cell_type": "code",
   "execution_count": 1,
   "id": "4a6561fa-18d6-459b-a010-51b7d9fae1d4",
   "metadata": {},
   "outputs": [],
   "source": [
    "import scanpy as sc\n",
    "import pandas as pd\n",
    "import numpy as np"
   ]
  },
  {
   "cell_type": "code",
   "execution_count": null,
   "id": "d333ea8e-aeca-4746-887b-33ec6b6b1b17",
   "metadata": {},
   "outputs": [],
   "source": []
  },
  {
   "cell_type": "markdown",
   "id": "f65dcb30-df9e-4ab9-a2f5-b2cb30ba58c0",
   "metadata": {},
   "source": [
    "Load anndata"
   ]
  },
  {
   "cell_type": "code",
   "execution_count": 2,
   "id": "3be28d50-be89-46ae-b3ec-e8878844a0ab",
   "metadata": {},
   "outputs": [],
   "source": [
    "adata = sc.read_h5ad(\"test.h5ad\")"
   ]
  },
  {
   "cell_type": "code",
   "execution_count": 3,
   "id": "72dce8c7-08ec-473c-be56-7eadb814c846",
   "metadata": {},
   "outputs": [],
   "source": [
    "# # lognorm should be the default (expected)\n",
    "# adata.X = adata.layers['logcounts']"
   ]
  },
  {
   "cell_type": "code",
   "execution_count": null,
   "id": "8ebb9f68-0009-42c0-afe1-4a2963664aa1",
   "metadata": {},
   "outputs": [],
   "source": []
  },
  {
   "cell_type": "markdown",
   "id": "04043a54-1480-41be-b134-b55911ff9027",
   "metadata": {},
   "source": [
    "Parameters"
   ]
  },
  {
   "cell_type": "code",
   "execution_count": 4,
   "id": "8749bb33-5c01-49b3-8fe1-cb8b167a8b28",
   "metadata": {},
   "outputs": [],
   "source": [
    "groupby='label'\n",
    "de_method='wilcoxon'\n",
    "resource_name = 'consensus'\n",
    "complex_policy = 'min'\n",
    "key_cols = ['source', 'target', 'ligand_complex', 'receptor_complex']\n",
    "verbose = False\n",
    "base=2.718281828459045"
   ]
  },
  {
   "cell_type": "code",
   "execution_count": 5,
   "id": "6581703e-86e5-4f50-ab07-2f1791be9e67",
   "metadata": {},
   "outputs": [],
   "source": [
    "# only relevant if perms are done\n",
    "n_perms = 1000\n",
    "seed = 69"
   ]
  },
  {
   "cell_type": "code",
   "execution_count": null,
   "id": "733320f8-d256-47d0-ad67-186328dd358a",
   "metadata": {},
   "outputs": [],
   "source": []
  },
  {
   "cell_type": "code",
   "execution_count": null,
   "id": "41f60829-618c-4ae6-8835-e44325a2fc6f",
   "metadata": {},
   "outputs": [],
   "source": []
  },
  {
   "cell_type": "markdown",
   "id": "309ef0d7-3696-485d-a169-743774b2e2a4",
   "metadata": {},
   "source": [
    "Run LIANA PIPE"
   ]
  },
  {
   "cell_type": "code",
   "execution_count": 22,
   "id": "101f0bdd-c6a0-400b-b64e-b6ba21df9ae5",
   "metadata": {},
   "outputs": [],
   "source": [
    "from liana import liana_pipe"
   ]
  },
  {
   "cell_type": "code",
   "execution_count": null,
   "id": "75a34030-5b87-4b34-96e3-18c350f8ba0a",
   "metadata": {},
   "outputs": [],
   "source": []
  },
  {
   "cell_type": "code",
   "execution_count": 28,
   "id": "1bdd36ab-1ce6-4842-8b8f-d9a5f74ac660",
   "metadata": {},
   "outputs": [
    {
     "name": "stderr",
     "output_type": "stream",
     "text": [
      "/home/dbdimitrov/Repos/liana-py/liana/steady/liana_pipe.py:67: ImplicitModificationWarning: Trying to modify attribute `.obs` of view, initializing view as actual.\n",
      "  adata.obs['label'] = adata.obs[groupby]\n",
      "/home/dbdimitrov/anaconda3/lib/python3.8/contextlib.py:120: FutureWarning: X.dtype being converted to np.float32 from float64. In the next version of anndata (0.9) conversion will not be automatic. Pass dtype explicitly to avoid this warning. Pass `AnnData(X, dtype=X.dtype, ...)` to get the future behavour.\n",
      "  next(self.gen)\n"
     ]
    }
   ],
   "source": [
    "lr_res = liana_pipe(adata=adata, \n",
    "                    groupby=groupby, \n",
    "                    resource_name=resource_name,\n",
    "                    expr_prop=0,\n",
    "                    de_method=de_method,\n",
    "                    base=base,\n",
    "                    n_perms=n_perms,\n",
    "                    seed=seed,\n",
    "                    verbose=verbose,\n",
    "                    _key_cols=key_cols,\n",
    "                    supp_cols=None,\n",
    "                    resource=None,\n",
    "                    use_raw=False,\n",
    "                    layer='logcounts', \n",
    "                    _return_subunits=True\n",
    "                   )"
   ]
  },
  {
   "cell_type": "code",
   "execution_count": 29,
   "id": "18e522eb-d6b2-4dab-acfd-9877065fb167",
   "metadata": {},
   "outputs": [
    {
     "data": {
      "text/html": [
       "<div>\n",
       "<style scoped>\n",
       "    .dataframe tbody tr th:only-of-type {\n",
       "        vertical-align: middle;\n",
       "    }\n",
       "\n",
       "    .dataframe tbody tr th {\n",
       "        vertical-align: top;\n",
       "    }\n",
       "\n",
       "    .dataframe thead th {\n",
       "        text-align: right;\n",
       "    }\n",
       "</style>\n",
       "<table border=\"1\" class=\"dataframe\">\n",
       "  <thead>\n",
       "    <tr style=\"text-align: right;\">\n",
       "      <th></th>\n",
       "      <th>ligand</th>\n",
       "      <th>ligand_complex</th>\n",
       "      <th>ligand_logfc</th>\n",
       "      <th>ligand_means</th>\n",
       "      <th>ligand_props</th>\n",
       "      <th>ligand_zscores</th>\n",
       "      <th>mat_mean</th>\n",
       "      <th>receptor</th>\n",
       "      <th>receptor_complex</th>\n",
       "      <th>receptor_logfc</th>\n",
       "      <th>receptor_means</th>\n",
       "      <th>receptor_props</th>\n",
       "      <th>receptor_zscores</th>\n",
       "      <th>source</th>\n",
       "      <th>target</th>\n",
       "      <th>ligand_means_sums</th>\n",
       "      <th>receptor_means_sums</th>\n",
       "    </tr>\n",
       "  </thead>\n",
       "  <tbody>\n",
       "    <tr>\n",
       "      <th>92</th>\n",
       "      <td>LCK</td>\n",
       "      <td>LCK</td>\n",
       "      <td>-0.016728</td>\n",
       "      <td>0.926794</td>\n",
       "      <td>0.533333</td>\n",
       "      <td>0.032533</td>\n",
       "      <td>0.199056</td>\n",
       "      <td>CD8A</td>\n",
       "      <td>CD8A_CD8B</td>\n",
       "      <td>-1.577132</td>\n",
       "      <td>0.081987</td>\n",
       "      <td>0.066667</td>\n",
       "      <td>-0.476677</td>\n",
       "      <td>NK</td>\n",
       "      <td>B</td>\n",
       "      <td>2.691222</td>\n",
       "      <td>1.490387</td>\n",
       "    </tr>\n",
       "    <tr>\n",
       "      <th>107</th>\n",
       "      <td>LCK</td>\n",
       "      <td>LCK</td>\n",
       "      <td>-0.016728</td>\n",
       "      <td>0.926794</td>\n",
       "      <td>0.533333</td>\n",
       "      <td>0.032533</td>\n",
       "      <td>0.199056</td>\n",
       "      <td>CD8B</td>\n",
       "      <td>CD8A_CD8B</td>\n",
       "      <td>-0.579049</td>\n",
       "      <td>0.209488</td>\n",
       "      <td>0.100000</td>\n",
       "      <td>-0.228442</td>\n",
       "      <td>NK</td>\n",
       "      <td>B</td>\n",
       "      <td>2.691222</td>\n",
       "      <td>1.199251</td>\n",
       "    </tr>\n",
       "  </tbody>\n",
       "</table>\n",
       "</div>"
      ],
      "text/plain": [
       "    ligand ligand_complex  ligand_logfc  ligand_means  ligand_props  \\\n",
       "92     LCK            LCK     -0.016728      0.926794      0.533333   \n",
       "107    LCK            LCK     -0.016728      0.926794      0.533333   \n",
       "\n",
       "     ligand_zscores  mat_mean receptor receptor_complex  receptor_logfc  \\\n",
       "92         0.032533  0.199056     CD8A        CD8A_CD8B       -1.577132   \n",
       "107        0.032533  0.199056     CD8B        CD8A_CD8B       -0.579049   \n",
       "\n",
       "     receptor_means  receptor_props  receptor_zscores source target  \\\n",
       "92         0.081987        0.066667         -0.476677     NK      B   \n",
       "107        0.209488        0.100000         -0.228442     NK      B   \n",
       "\n",
       "     ligand_means_sums  receptor_means_sums  \n",
       "92            2.691222             1.490387  \n",
       "107           2.691222             1.199251  "
      ]
     },
     "execution_count": 29,
     "metadata": {},
     "output_type": "execute_result"
    }
   ],
   "source": [
    "lr_res.sort_values('ligand_props', ascending=False).query(\"receptor_complex=='CD8A_CD8B' & source=='NK' & target=='B'\")"
   ]
  },
  {
   "cell_type": "code",
   "execution_count": null,
   "id": "9140ae27-d542-47d5-a58f-47253f7f9697",
   "metadata": {},
   "outputs": [],
   "source": []
  },
  {
   "cell_type": "code",
   "execution_count": 30,
   "id": "516715f3-8248-487a-9959-571ebfeb8b1b",
   "metadata": {},
   "outputs": [
    {
     "name": "stderr",
     "output_type": "stream",
     "text": [
      "/home/dbdimitrov/Repos/liana-py/liana/steady/liana_pipe.py:67: ImplicitModificationWarning: Trying to modify attribute `.obs` of view, initializing view as actual.\n",
      "  adata.obs['label'] = adata.obs[groupby]\n",
      "/home/dbdimitrov/anaconda3/lib/python3.8/contextlib.py:120: FutureWarning: X.dtype being converted to np.float32 from float64. In the next version of anndata (0.9) conversion will not be automatic. Pass dtype explicitly to avoid this warning. Pass `AnnData(X, dtype=X.dtype, ...)` to get the future behavour.\n",
      "  next(self.gen)\n"
     ]
    }
   ],
   "source": [
    "lr_res = liana_pipe(adata=adata, \n",
    "                    groupby=groupby, \n",
    "                    resource_name=resource_name,\n",
    "                    expr_prop=0.1,\n",
    "                    de_method=de_method,\n",
    "                    base=base,\n",
    "                    n_perms=n_perms,\n",
    "                    seed=seed,\n",
    "                    verbose=verbose,\n",
    "                    _key_cols=key_cols,\n",
    "                    supp_cols=None,\n",
    "                    resource=None,\n",
    "                    use_raw=False,\n",
    "                    layer='logcounts', \n",
    "                    _return_subunits=False\n",
    "                   )"
   ]
  },
  {
   "cell_type": "code",
   "execution_count": 32,
   "id": "126bad75-4311-4361-a2e1-ff2afb4650e6",
   "metadata": {},
   "outputs": [
    {
     "data": {
      "text/html": [
       "<div>\n",
       "<style scoped>\n",
       "    .dataframe tbody tr th:only-of-type {\n",
       "        vertical-align: middle;\n",
       "    }\n",
       "\n",
       "    .dataframe tbody tr th {\n",
       "        vertical-align: top;\n",
       "    }\n",
       "\n",
       "    .dataframe thead th {\n",
       "        text-align: right;\n",
       "    }\n",
       "</style>\n",
       "<table border=\"1\" class=\"dataframe\">\n",
       "  <thead>\n",
       "    <tr style=\"text-align: right;\">\n",
       "      <th></th>\n",
       "      <th>ligand</th>\n",
       "      <th>ligand_complex</th>\n",
       "      <th>ligand_logfc</th>\n",
       "      <th>ligand_means</th>\n",
       "      <th>ligand_props</th>\n",
       "      <th>ligand_zscores</th>\n",
       "      <th>mat_mean</th>\n",
       "      <th>receptor</th>\n",
       "      <th>receptor_complex</th>\n",
       "      <th>receptor_logfc</th>\n",
       "      <th>receptor_means</th>\n",
       "      <th>receptor_props</th>\n",
       "      <th>receptor_zscores</th>\n",
       "      <th>source</th>\n",
       "      <th>target</th>\n",
       "      <th>ligand_means_sums</th>\n",
       "      <th>receptor_means_sums</th>\n",
       "      <th>prop_min</th>\n",
       "    </tr>\n",
       "  </thead>\n",
       "  <tbody>\n",
       "  </tbody>\n",
       "</table>\n",
       "</div>"
      ],
      "text/plain": [
       "Empty DataFrame\n",
       "Columns: [ligand, ligand_complex, ligand_logfc, ligand_means, ligand_props, ligand_zscores, mat_mean, receptor, receptor_complex, receptor_logfc, receptor_means, receptor_props, receptor_zscores, source, target, ligand_means_sums, receptor_means_sums, prop_min]\n",
       "Index: []"
      ]
     },
     "execution_count": 32,
     "metadata": {},
     "output_type": "execute_result"
    }
   ],
   "source": [
    "lr_res.sort_values('ligand_props', ascending=False).query(\"receptor_complex=='CD8A_CD8B' & source=='NK' & target=='B'\")"
   ]
  },
  {
   "cell_type": "code",
   "execution_count": null,
   "id": "cf3efa14-841b-4acc-b258-ceebdc023e98",
   "metadata": {},
   "outputs": [],
   "source": []
  },
  {
   "cell_type": "code",
   "execution_count": null,
   "id": "1ff52c2c-1d7c-41da-afa3-e436b6751548",
   "metadata": {},
   "outputs": [],
   "source": []
  },
  {
   "cell_type": "code",
   "execution_count": null,
   "id": "3735af80-8007-48a3-bc11-070dac65972e",
   "metadata": {},
   "outputs": [],
   "source": [
    "from liana.steady import cellphonedb, natmi, connectome, logfc, singlecellsignalr as sca, consensus"
   ]
  },
  {
   "cell_type": "code",
   "execution_count": null,
   "id": "18463fc8-43d1-46f2-9537-55522e9974dd",
   "metadata": {},
   "outputs": [],
   "source": [
    "%%time\n",
    "adata = consensus(adata, groupby='label', layer='logcounts', base=2, expr_prop=0.01)"
   ]
  },
  {
   "cell_type": "code",
   "execution_count": null,
   "id": "8510a0e9-020f-450e-b05c-9464c47ac569",
   "metadata": {},
   "outputs": [],
   "source": [
    "res = adata.uns['liana_res'].copy()"
   ]
  },
  {
   "cell_type": "code",
   "execution_count": null,
   "id": "836f121a-5f43-44db-b0b9-8af96f1fe4f4",
   "metadata": {},
   "outputs": [],
   "source": [
    "res"
   ]
  },
  {
   "cell_type": "code",
   "execution_count": null,
   "id": "06b72283-60d6-444e-bd39-76ca5a13d444",
   "metadata": {},
   "outputs": [],
   "source": []
  },
  {
   "cell_type": "code",
   "execution_count": null,
   "id": "57243923-8d60-4de5-be60-eed16f74426b",
   "metadata": {},
   "outputs": [],
   "source": [
    "adata.uns['liana_res'].to_csv(\"agg.csv\", index=False)"
   ]
  },
  {
   "cell_type": "code",
   "execution_count": null,
   "id": "083b55a8-1b96-4da0-83ce-887174cd8ab5",
   "metadata": {},
   "outputs": [],
   "source": []
  },
  {
   "cell_type": "code",
   "execution_count": null,
   "id": "01a16b85-bf1b-4f94-89e5-c07e3836dc2f",
   "metadata": {},
   "outputs": [],
   "source": [
    "res.query(\"receptor_complex=='HCST_KLRK1' & source=='B' & target=='B'\")"
   ]
  },
  {
   "cell_type": "code",
   "execution_count": null,
   "id": "f614b333-36fd-4fc1-ab88-4a99e23446dd",
   "metadata": {},
   "outputs": [],
   "source": []
  },
  {
   "cell_type": "code",
   "execution_count": null,
   "id": "9e2c6c73-5b81-4ef8-8e0b-ff46587c9c01",
   "metadata": {},
   "outputs": [],
   "source": []
  },
  {
   "cell_type": "code",
   "execution_count": null,
   "id": "07de473d-ef2e-46bc-bc94-25b2f24bdacf",
   "metadata": {},
   "outputs": [],
   "source": []
  },
  {
   "cell_type": "markdown",
   "id": "066ac4e7-c58e-42e1-bd78-13be91be3377",
   "metadata": {},
   "source": [
    "Tests"
   ]
  },
  {
   "cell_type": "code",
   "execution_count": null,
   "id": "efabf240-41e1-4919-9384-d3e37bfe2fdc",
   "metadata": {},
   "outputs": [],
   "source": [
    "adata = sc.datasets.pbmc68k_reduced()"
   ]
  },
  {
   "cell_type": "code",
   "execution_count": null,
   "id": "62e9199f-bd01-4e34-a1c3-aa2be2011faa",
   "metadata": {},
   "outputs": [],
   "source": []
  },
  {
   "cell_type": "code",
   "execution_count": null,
   "id": "d72d5e2b-08b5-408d-8dac-77b05005fd73",
   "metadata": {},
   "outputs": [],
   "source": [
    "sc.tl.rank_genes_groups(adata, groupby='label', layer='logcounts')"
   ]
  },
  {
   "cell_type": "code",
   "execution_count": null,
   "id": "6196e01d-7d1a-42a1-9dd9-18570ad3c752",
   "metadata": {},
   "outputs": [],
   "source": [
    "sc.get.rank_genes_groups_df(adata, 'B')"
   ]
  },
  {
   "cell_type": "code",
   "execution_count": null,
   "id": "b59893e1-b2fd-4445-9b12-f9d51ac7489b",
   "metadata": {},
   "outputs": [],
   "source": [
    "labels = adata.obs.label.cat.categories"
   ]
  },
  {
   "cell_type": "code",
   "execution_count": null,
   "id": "206a4274-d3ca-4bc6-86f6-5023d887bbf8",
   "metadata": {},
   "outputs": [],
   "source": []
  },
  {
   "cell_type": "code",
   "execution_count": null,
   "id": "0f3e5949-6d77-4def-bc25-c47930354138",
   "metadata": {},
   "outputs": [],
   "source": []
  },
  {
   "cell_type": "code",
   "execution_count": null,
   "id": "d6a8ca60-441e-4397-97e6-5f0ecfcdf1ab",
   "metadata": {},
   "outputs": [],
   "source": [
    "# Function to get gene expr proportions\n",
    "def _get_props(X_mask):\n",
    "    return X_mask.getnnz(axis=0) / X_mask.shape[0]"
   ]
  },
  {
   "cell_type": "code",
   "execution_count": null,
   "id": "a4ee57fc-f7f4-4d1a-b4a1-772eec5875ed",
   "metadata": {},
   "outputs": [],
   "source": []
  },
  {
   "cell_type": "code",
   "execution_count": null,
   "id": "80bad3ee-3340-4e69-9d48-e9fd401378a6",
   "metadata": {},
   "outputs": [],
   "source": [
    "# Get Props\n",
    "dedict = {}\n",
    "for label in labels:\n",
    "    temp = adata[adata.obs.label == label, :]\n",
    "    a = _get_props(temp.X)\n",
    "    dedict[label] = pd.DataFrame({'names': temp.var_names, 'props': a}).\\\n",
    "        assign(label=label).sort_values('names')"
   ]
  },
  {
   "cell_type": "code",
   "execution_count": null,
   "id": "949dbb15-b7f6-4108-9ad5-11cb1caf1490",
   "metadata": {},
   "outputs": [],
   "source": []
  },
  {
   "cell_type": "code",
   "execution_count": null,
   "id": "b628f765-5b30-4643-ab4c-c173eb96d4e7",
   "metadata": {},
   "outputs": [],
   "source": []
  },
  {
   "cell_type": "code",
   "execution_count": null,
   "id": "97d32a7e-b8d3-4219-be39-e1e47150e944",
   "metadata": {},
   "outputs": [],
   "source": [
    "sc.tl.rank_genes_groups(adata, groupby='label',\n",
    "                        method=de_method, use_raw=False)\n",
    "# dedict = {label: sc.get.rank_genes_groups_df(adata, label).assign(\n",
    "#     label=label).sort_values('names') for label in labels}"
   ]
  },
  {
   "cell_type": "code",
   "execution_count": null,
   "id": "89ed0aa5-f388-48cf-8801-0218f596acb8",
   "metadata": {},
   "outputs": [],
   "source": []
  },
  {
   "cell_type": "code",
   "execution_count": null,
   "id": "600f4ace-49d5-4067-a3b9-0639aadf3844",
   "metadata": {},
   "outputs": [],
   "source": [
    "{label: sc.get.rank_genes_groups_df(adata, label).assign(label=label).sort_values('names') for label in labels}"
   ]
  },
  {
   "cell_type": "code",
   "execution_count": null,
   "id": "a6dad62f-9bba-46f3-8088-3d0e858633bc",
   "metadata": {},
   "outputs": [],
   "source": []
  },
  {
   "cell_type": "code",
   "execution_count": null,
   "id": "9a59dd83-2ac9-473c-80c2-ec5aeffb6903",
   "metadata": {},
   "outputs": [],
   "source": [
    "dedict['B'].merge(sc.get.rank_genes_groups_df(adata, 'B'))"
   ]
  },
  {
   "cell_type": "code",
   "execution_count": null,
   "id": "20149109-31f6-4748-9c2f-dbe1f230aaad",
   "metadata": {},
   "outputs": [],
   "source": []
  },
  {
   "cell_type": "code",
   "execution_count": null,
   "id": "fe71822a-9cea-4b79-81f2-7d40c145f363",
   "metadata": {},
   "outputs": [],
   "source": [
    "adata.uns['rank_genes_groups']['pts']"
   ]
  },
  {
   "cell_type": "code",
   "execution_count": null,
   "id": "e1638470-8a05-40a7-9969-407411b6c4f6",
   "metadata": {},
   "outputs": [],
   "source": []
  },
  {
   "cell_type": "code",
   "execution_count": null,
   "id": "ffee9b4d-721f-4949-b91c-50148de659ed",
   "metadata": {},
   "outputs": [],
   "source": [
    "np.count_nonzero(adata[adata.obs.label=='B',:].X)"
   ]
  },
  {
   "cell_type": "code",
   "execution_count": null,
   "id": "180c690e-75a9-4374-a2ce-e4cb17a206b9",
   "metadata": {},
   "outputs": [],
   "source": []
  },
  {
   "cell_type": "code",
   "execution_count": null,
   "id": "213f37f4-3049-4ed7-8947-e81accf4f8f8",
   "metadata": {},
   "outputs": [],
   "source": [
    "adata.X"
   ]
  },
  {
   "cell_type": "code",
   "execution_count": null,
   "id": "f0373666-064e-4a68-8210-556b705b660b",
   "metadata": {},
   "outputs": [],
   "source": []
  },
  {
   "cell_type": "code",
   "execution_count": null,
   "id": "774ad36b-b349-4843-afc7-289dd8469c16",
   "metadata": {},
   "outputs": [],
   "source": [
    "sc.get.rank_genes_groups_df(adata, group='B')"
   ]
  },
  {
   "cell_type": "code",
   "execution_count": null,
   "id": "f782eab7-d22a-4c55-9726-192b585c6f98",
   "metadata": {},
   "outputs": [],
   "source": []
  },
  {
   "cell_type": "code",
   "execution_count": null,
   "id": "aa416918-1e24-40ef-9849-9a6bb219c6df",
   "metadata": {},
   "outputs": [],
   "source": []
  },
  {
   "cell_type": "code",
   "execution_count": null,
   "id": "ed01af12-fcac-4063-bef6-b8417abde5cb",
   "metadata": {},
   "outputs": [],
   "source": [
    "for imask, mask in enumerate(self.groups_masks):\n",
    "    X_mask = self.X[mask]\n",
    "\n",
    "    if self.comp_pts:\n",
    "        self.pts[imask] = get_nonzeros(X_mask) / X_mask.shape[0]"
   ]
  },
  {
   "cell_type": "code",
   "execution_count": null,
   "id": "4ce27200-45f9-4f05-9ec8-875fcf8acaf5",
   "metadata": {},
   "outputs": [],
   "source": []
  },
  {
   "cell_type": "code",
   "execution_count": null,
   "id": "46fc319a-c3e0-4f05-898c-4fd9fc2a495f",
   "metadata": {},
   "outputs": [],
   "source": []
  },
  {
   "cell_type": "code",
   "execution_count": null,
   "id": "3855010b-6c6c-437d-a685-e7be24998171",
   "metadata": {},
   "outputs": [],
   "source": []
  },
  {
   "cell_type": "code",
   "execution_count": null,
   "id": "ee3d2e94-625a-4862-b1eb-891ec8622348",
   "metadata": {},
   "outputs": [],
   "source": []
  },
  {
   "cell_type": "code",
   "execution_count": null,
   "id": "f89e903f-38fc-46d5-8a7d-ab49b70140a8",
   "metadata": {},
   "outputs": [],
   "source": [
    "dedict = {label: sc.get.rank_genes_groups_df(adata, label).assign(\n",
    "    label=label).sort_values('names') for label in labels}"
   ]
  },
  {
   "cell_type": "code",
   "execution_count": null,
   "id": "27dbc7c6-7ddb-426f-a8d1-b7725c8e6708",
   "metadata": {},
   "outputs": [],
   "source": []
  },
  {
   "cell_type": "code",
   "execution_count": null,
   "id": "45e06a17-ca0b-4713-87dd-73e428585505",
   "metadata": {},
   "outputs": [],
   "source": []
  },
  {
   "cell_type": "code",
   "execution_count": null,
   "id": "631d1a0c-cc73-4f55-9d36-cc1e486cf2f5",
   "metadata": {},
   "outputs": [],
   "source": []
  },
  {
   "cell_type": "code",
   "execution_count": null,
   "id": "d578bc8b-3f44-4a04-986e-bb0921ed5271",
   "metadata": {},
   "outputs": [],
   "source": [
    "dedict"
   ]
  },
  {
   "cell_type": "code",
   "execution_count": null,
   "id": "06cd6057-0332-48ed-914d-0b2b44bad811",
   "metadata": {},
   "outputs": [],
   "source": []
  },
  {
   "cell_type": "code",
   "execution_count": null,
   "id": "102ff29b-650e-4ea0-a5eb-3f933ae2f2d4",
   "metadata": {},
   "outputs": [],
   "source": []
  },
  {
   "cell_type": "markdown",
   "id": "7c12716f-6115-4c36-8751-0c8f45b771a2",
   "metadata": {},
   "source": [
    "Consensus"
   ]
  },
  {
   "cell_type": "code",
   "execution_count": null,
   "id": "70668179-5ff8-4036-9e01-6fe252323499",
   "metadata": {},
   "outputs": [],
   "source": [
    "from liana.steady.scores.consensus import consensus"
   ]
  },
  {
   "cell_type": "code",
   "execution_count": null,
   "id": "5ac91949-ffcd-4aaf-a577-69723d08e732",
   "metadata": {},
   "outputs": [],
   "source": [
    "from functools import reduce\n",
    "from scipy.stats import rankdata, beta"
   ]
  },
  {
   "cell_type": "code",
   "execution_count": null,
   "id": "f5cb53cf-9f76-4a02-bcca-20c96da69882",
   "metadata": {},
   "outputs": [],
   "source": [
    "from liana.steady.aggregate import _robust_rank_aggregate, _rank_aggregate"
   ]
  },
  {
   "cell_type": "code",
   "execution_count": null,
   "id": "4ac03f73-67a9-4e37-a63a-b44f8bbc3820",
   "metadata": {},
   "outputs": [],
   "source": []
  },
  {
   "cell_type": "code",
   "execution_count": null,
   "id": "f6684810-660b-4243-8536-5768cc0a6b9f",
   "metadata": {},
   "outputs": [],
   "source": []
  },
  {
   "cell_type": "code",
   "execution_count": null,
   "id": "04e1a887-6be7-4506-b21e-da090e1f2804",
   "metadata": {},
   "outputs": [],
   "source": []
  },
  {
   "cell_type": "code",
   "execution_count": null,
   "id": "d37bc726-c1a0-40ca-b6bc-a12b50bb832e",
   "metadata": {},
   "outputs": [],
   "source": [
    "_methods = [cellphonedb, connectome, logfc, natmi, sca]"
   ]
  },
  {
   "cell_type": "code",
   "execution_count": null,
   "id": "94a5e64c-d191-4851-8948-062fd901e583",
   "metadata": {},
   "outputs": [],
   "source": []
  },
  {
   "cell_type": "code",
   "execution_count": null,
   "id": "3e434926-0352-4865-90e9-745c6a566491",
   "metadata": {},
   "outputs": [],
   "source": [
    "adata = consensus(adata, groupby='bulk_labels',\n",
    "                  use_raw=True\n",
    "                  #, consensus_opts=False\n",
    "                 )"
   ]
  },
  {
   "cell_type": "code",
   "execution_count": null,
   "id": "4c403ce5-ff81-472c-9de6-4a895b99acf7",
   "metadata": {},
   "outputs": [],
   "source": [
    "lr_res = adata.uns['liana_res']"
   ]
  },
  {
   "cell_type": "code",
   "execution_count": null,
   "id": "c2e5f88a-6b7a-4daf-b216-292bbf3d640a",
   "metadata": {},
   "outputs": [],
   "source": []
  },
  {
   "cell_type": "code",
   "execution_count": null,
   "id": "c0313584-8d09-4ac5-ba16-106bc063cac0",
   "metadata": {},
   "outputs": [],
   "source": [
    "lr_res[lr_res['receptor_complex']=='CD8A_CD8B'].sort_values('spec_weight')"
   ]
  },
  {
   "cell_type": "code",
   "execution_count": null,
   "id": "6c047547-aff8-4278-b7b1-506c285252f9",
   "metadata": {},
   "outputs": [],
   "source": []
  },
  {
   "cell_type": "code",
   "execution_count": null,
   "id": "ba6af2b7-d2f4-4d72-a549-22780fb2ae04",
   "metadata": {},
   "outputs": [],
   "source": []
  },
  {
   "cell_type": "code",
   "execution_count": null,
   "id": "accdb9a4-1e5c-4f1d-a713-2a1f6e14dc08",
   "metadata": {},
   "outputs": [],
   "source": []
  },
  {
   "cell_type": "code",
   "execution_count": null,
   "id": "c3f48fcb-1a83-4c0f-8d03-8b26dca618fe",
   "metadata": {},
   "outputs": [],
   "source": []
  },
  {
   "cell_type": "code",
   "execution_count": null,
   "id": "58b97d49-2636-4604-ac09-7319257f4bcb",
   "metadata": {},
   "outputs": [],
   "source": []
  },
  {
   "cell_type": "markdown",
   "id": "81286b5b-869d-4c45-a57c-4ab6d3fb39a5",
   "metadata": {
    "tags": []
   },
   "source": [
    "## Each Method"
   ]
  },
  {
   "cell_type": "markdown",
   "id": "bbc202fb-8b2a-4659-821f-b52a2f957269",
   "metadata": {},
   "source": [
    "CellPhoneDB"
   ]
  },
  {
   "cell_type": "code",
   "execution_count": null,
   "id": "f34a6a93-f823-4c50-a716-6d9f7aa873a2",
   "metadata": {},
   "outputs": [],
   "source": [
    "from liana import cellphonedb"
   ]
  },
  {
   "cell_type": "code",
   "execution_count": null,
   "id": "ae10eb86-43f0-49eb-a2ce-bc4ef2b4a030",
   "metadata": {},
   "outputs": [],
   "source": [
    "%%time\n",
    "adata = cellphonedb(adata, groupby='label', n_perms=1000)"
   ]
  },
  {
   "cell_type": "code",
   "execution_count": null,
   "id": "5da48042-4f6a-463f-9900-35cf075e8157",
   "metadata": {},
   "outputs": [],
   "source": [
    "lr_res = adata.uns['liana_res']"
   ]
  },
  {
   "cell_type": "code",
   "execution_count": null,
   "id": "5fe86072-35f7-488d-8902-edb88dbea50c",
   "metadata": {},
   "outputs": [],
   "source": [
    "lr_res[lr_res['receptor_complex']=='CD8A_CD8B']"
   ]
  },
  {
   "cell_type": "code",
   "execution_count": null,
   "id": "05070b28-53a6-457f-b8ee-f776ccde22e6",
   "metadata": {},
   "outputs": [],
   "source": []
  },
  {
   "cell_type": "code",
   "execution_count": null,
   "id": "6fadac1c-d620-45be-9659-d863ec129fad",
   "metadata": {},
   "outputs": [],
   "source": []
  },
  {
   "cell_type": "markdown",
   "id": "ac370eac-2c34-462b-a84a-f571c6627e4b",
   "metadata": {},
   "source": [
    "NATMI"
   ]
  },
  {
   "cell_type": "code",
   "execution_count": null,
   "id": "2a67dd14-3e89-40fa-a6d1-a27d9acaba59",
   "metadata": {},
   "outputs": [],
   "source": [
    "from liana import natmi"
   ]
  },
  {
   "cell_type": "code",
   "execution_count": null,
   "id": "bb3017ab-1d8e-4704-9012-2bceb959dc13",
   "metadata": {},
   "outputs": [],
   "source": [
    "adata = natmi(adata, groupby='label')"
   ]
  },
  {
   "cell_type": "code",
   "execution_count": null,
   "id": "7e53c204-d252-4d19-aa94-20d19e9e41f1",
   "metadata": {},
   "outputs": [],
   "source": [
    "adata.uns['liana_res']"
   ]
  },
  {
   "cell_type": "code",
   "execution_count": null,
   "id": "278f0447-3ad6-4a85-97ec-1274fbf18a45",
   "metadata": {},
   "outputs": [],
   "source": []
  },
  {
   "cell_type": "code",
   "execution_count": null,
   "id": "7727dc8a-1205-4e29-85e9-a0cf1571098c",
   "metadata": {},
   "outputs": [],
   "source": []
  },
  {
   "cell_type": "markdown",
   "id": "7ec44baa-0cd3-4eb6-9f7b-a5e325b6f692",
   "metadata": {},
   "source": [
    "SCA"
   ]
  },
  {
   "cell_type": "code",
   "execution_count": null,
   "id": "f57a9a05-689c-44df-9915-50c5dfc3a494",
   "metadata": {},
   "outputs": [],
   "source": [
    "from liana import singlecellsignalr as sca"
   ]
  },
  {
   "cell_type": "code",
   "execution_count": null,
   "id": "fdb9b416-7e42-4c76-bac0-32f148e28fb7",
   "metadata": {},
   "outputs": [],
   "source": [
    "adata = sca(adata, groupby='label')"
   ]
  },
  {
   "cell_type": "code",
   "execution_count": null,
   "id": "ba4b4d5a-f417-440c-a88d-68ef92aa658b",
   "metadata": {},
   "outputs": [],
   "source": [
    "adata.uns['liana_res'].sort_values('lr_means', ascending=True)"
   ]
  },
  {
   "cell_type": "code",
   "execution_count": null,
   "id": "a4c5e360-0560-4e5f-8d52-696ee1bd2a84",
   "metadata": {},
   "outputs": [],
   "source": []
  },
  {
   "cell_type": "code",
   "execution_count": null,
   "id": "b0af474f-281c-44d7-ab79-fef31d354c9d",
   "metadata": {},
   "outputs": [],
   "source": []
  },
  {
   "cell_type": "markdown",
   "id": "d0fcd85f-2505-4f9e-ae47-069432720f74",
   "metadata": {},
   "source": [
    "Connectome"
   ]
  },
  {
   "cell_type": "code",
   "execution_count": null,
   "id": "1a2e6124-01e6-411c-b1e1-669bded091dd",
   "metadata": {},
   "outputs": [],
   "source": [
    "from liana import connectome"
   ]
  },
  {
   "cell_type": "code",
   "execution_count": null,
   "id": "6c74db4a-cd6b-4db1-bee7-58f4a4375e7a",
   "metadata": {},
   "outputs": [],
   "source": [
    "adata = connectome(adata, groupby='label')"
   ]
  },
  {
   "cell_type": "code",
   "execution_count": null,
   "id": "1a9ea8d6-b1e1-4fc3-976e-ded3d73f9547",
   "metadata": {},
   "outputs": [],
   "source": [
    "adata.uns['liana_res'].sort_values('scaled_weight', ascending=False)"
   ]
  },
  {
   "cell_type": "code",
   "execution_count": null,
   "id": "a76721f0-632a-4015-a347-c5f8aa54ceb4",
   "metadata": {},
   "outputs": [],
   "source": []
  },
  {
   "cell_type": "code",
   "execution_count": null,
   "id": "f7ebe9e3-5dc5-4d93-b558-1c45e289cd47",
   "metadata": {},
   "outputs": [],
   "source": []
  },
  {
   "cell_type": "code",
   "execution_count": null,
   "id": "71db5fc9-e45a-4f15-b339-7de86f7ddd8a",
   "metadata": {},
   "outputs": [],
   "source": []
  },
  {
   "cell_type": "markdown",
   "id": "0e0a4897-21fb-4f94-96ee-ec7157a9081a",
   "metadata": {},
   "source": [
    "logFC"
   ]
  },
  {
   "cell_type": "code",
   "execution_count": null,
   "id": "6ee26c82-df43-40c9-b4cf-be0c5b08bb2f",
   "metadata": {},
   "outputs": [],
   "source": [
    "from liana import logfc"
   ]
  },
  {
   "cell_type": "code",
   "execution_count": null,
   "id": "5910e6bc-c3ff-44a7-867c-e59c3f3a9091",
   "metadata": {},
   "outputs": [],
   "source": [
    "adata = logfc(adata, groupby='label')"
   ]
  },
  {
   "cell_type": "code",
   "execution_count": null,
   "id": "8e83c7fa-2ee8-42a9-bf8f-f5065a5ce21f",
   "metadata": {},
   "outputs": [],
   "source": [
    "adata.uns['liana_res'].sort_values('lr_logfc', ascending=False)"
   ]
  },
  {
   "cell_type": "code",
   "execution_count": null,
   "id": "dbb28aa4-8f20-45e1-a041-6796dd1f045f",
   "metadata": {},
   "outputs": [],
   "source": [
    "np.exp(1)"
   ]
  },
  {
   "cell_type": "code",
   "execution_count": null,
   "id": "23bd8ff5-b9bf-4718-a8af-ee9225e76d7a",
   "metadata": {},
   "outputs": [],
   "source": []
  },
  {
   "cell_type": "code",
   "execution_count": null,
   "id": "8b083646-d111-4f0c-a2bd-dbc6c7415e82",
   "metadata": {},
   "outputs": [],
   "source": []
  },
  {
   "cell_type": "markdown",
   "id": "2b1733cb-cb90-4bd8-a331-ba42d119669e",
   "metadata": {
    "tags": []
   },
   "source": [
    "try w/ real data"
   ]
  },
  {
   "cell_type": "code",
   "execution_count": null,
   "id": "410040b2-fb80-4b5c-8525-a5195e3d507e",
   "metadata": {},
   "outputs": [],
   "source": [
    "adata = sc.datasets.pbmc3k_processed()\n",
    "labels = adata.obs.louvain\n",
    "cells = adata.obs_names"
   ]
  },
  {
   "cell_type": "code",
   "execution_count": null,
   "id": "948b33f6-e0c9-411c-bd65-00e114139844",
   "metadata": {},
   "outputs": [],
   "source": [
    "adata = sc.datasets.pbmc3k()"
   ]
  },
  {
   "cell_type": "code",
   "execution_count": null,
   "id": "fe5ffa6c-c547-47d2-a382-61aa812db2c7",
   "metadata": {},
   "outputs": [],
   "source": [
    "adata = adata[[x in cells for x in adata.obs_names]]"
   ]
  },
  {
   "cell_type": "code",
   "execution_count": null,
   "id": "d18fd93f-560e-4ced-8b50-bfbbf5278c31",
   "metadata": {},
   "outputs": [],
   "source": [
    "adata.obs['label'] = labels"
   ]
  },
  {
   "cell_type": "code",
   "execution_count": null,
   "id": "6c7fb31f-bac7-4e63-9406-c02c947c6e9a",
   "metadata": {},
   "outputs": [],
   "source": [
    "sc.pp.log1p(adata)"
   ]
  },
  {
   "cell_type": "code",
   "execution_count": null,
   "id": "254f0ae3-0a63-4874-884a-c2d3c49db8ae",
   "metadata": {},
   "outputs": [],
   "source": [
    "%%time\n",
    "adata = cellphonedb(adata, groupby='label', n_perms=1000)"
   ]
  },
  {
   "cell_type": "code",
   "execution_count": null,
   "id": "c823a041-4775-4d50-b0da-e7dea5bbf295",
   "metadata": {},
   "outputs": [],
   "source": []
  },
  {
   "cell_type": "code",
   "execution_count": null,
   "id": "90791727-f674-4689-8c9c-34ed441c70b9",
   "metadata": {},
   "outputs": [],
   "source": []
  },
  {
   "cell_type": "code",
   "execution_count": null,
   "id": "c92c76c4-5af2-4077-8c13-291d0456e3d8",
   "metadata": {},
   "outputs": [],
   "source": []
  },
  {
   "cell_type": "code",
   "execution_count": null,
   "id": "c26f6257-50f4-451b-bb01-9b7a64ced5b5",
   "metadata": {},
   "outputs": [],
   "source": []
  },
  {
   "cell_type": "code",
   "execution_count": null,
   "id": "9960bcad-69b4-4950-b6b0-523c15fc2dfa",
   "metadata": {},
   "outputs": [],
   "source": []
  },
  {
   "cell_type": "markdown",
   "id": "c4586fde-464c-4867-86d1-1ce1feadf798",
   "metadata": {
    "jp-MarkdownHeadingCollapsed": true,
    "tags": []
   },
   "source": [
    "## LIANA PIPE LINE BY LINE"
   ]
  },
  {
   "cell_type": "code",
   "execution_count": null,
   "id": "edb1a040-d1e1-4a0b-b973-02be0bb8cd61",
   "metadata": {},
   "outputs": [],
   "source": [
    "# I get this from the score object\n",
    "_complex_cols = ['ligand_means', 'receptor_means']\n",
    "# change to full list and move to _var\n",
    "_add_cols = ['ligand', 'receptor',\n",
    "             'ligand_means_sums', 'receptor_means_sums',\n",
    "             'ligand_zscores', 'receptor_zscores',\n",
    "             'ligand_logfoldchanges', 'receptor_logfoldchanges',\n",
    "             'ligand_logfc', 'receptor_logfc'\n",
    "             'mat_mean',\n",
    "             ]\n",
    "\n",
    "_key_cols = ['source', 'target', 'ligand_complex', 'receptor_complex']"
   ]
  },
  {
   "cell_type": "code",
   "execution_count": null,
   "id": "677ce5db-7b4e-4727-880c-2715dde979a7",
   "metadata": {},
   "outputs": [],
   "source": [
    "from liana.utils.pre import check_adata, check_if_covered, format_vars, filter_resource\n",
    "from liana.resource import select_resource\n",
    "from liana.resource.select_resource import explode_complexes\n",
    "from liana.steady.liana_pipe import _get_lr\n",
    "from liana.utils.reassemble_complexes import reassemble_complexes\n",
    "from scipy.sparse import csr_matrix\n",
    "from liana.steady._permutations import get_means_perms"
   ]
  },
  {
   "cell_type": "code",
   "execution_count": null,
   "id": "66ba6d05-d067-4558-a879-87394a6d866a",
   "metadata": {},
   "outputs": [],
   "source": []
  },
  {
   "cell_type": "markdown",
   "id": "e5f74ea3-9847-43e3-bd9b-cb1c312520ee",
   "metadata": {},
   "source": [
    "I need to double check if every step makes sense, as I build unit tests!!!\n",
    "\n",
    "For example, are there any duplicated rows (source, target, ligand_complex, receptor_complex)\n",
    "\n",
    "Double check again if correct subunit is kept, etc"
   ]
  },
  {
   "cell_type": "code",
   "execution_count": null,
   "id": "a62b0165-a084-4979-9110-a18fc6da2c0e",
   "metadata": {},
   "outputs": [],
   "source": [
    "adata = check_adata(adata, True)"
   ]
  },
  {
   "cell_type": "code",
   "execution_count": null,
   "id": "67ad1ece-1a1a-4bf9-b284-25764d7cb858",
   "metadata": {},
   "outputs": [],
   "source": []
  },
  {
   "cell_type": "code",
   "execution_count": null,
   "id": "19df65eb-c6d2-4866-bc22-9b320deae6e1",
   "metadata": {},
   "outputs": [],
   "source": [
    "# Define idents col name\n",
    "adata.obs.label = adata.obs[groupby]"
   ]
  },
  {
   "cell_type": "code",
   "execution_count": null,
   "id": "ff3885f0-ba02-43ae-ad3b-c9bbb742e196",
   "metadata": {},
   "outputs": [],
   "source": []
  },
  {
   "cell_type": "markdown",
   "id": "4ccdd879-64e2-4339-9b00-0adcea5edfbc",
   "metadata": {},
   "source": [
    "Load resource"
   ]
  },
  {
   "cell_type": "code",
   "execution_count": null,
   "id": "a2c2c0b2-d792-45d2-9d2a-35daa9f16842",
   "metadata": {},
   "outputs": [],
   "source": [
    "resource = select_resource(resource_name='consensus')"
   ]
  },
  {
   "cell_type": "code",
   "execution_count": null,
   "id": "8252d9a7-5445-4d61-8ed8-ab34af871ccb",
   "metadata": {},
   "outputs": [],
   "source": [
    "# Decomplexify\n",
    "resource = explode_complexes(resource)"
   ]
  },
  {
   "cell_type": "code",
   "execution_count": null,
   "id": "4a9a67d4-1e21-4a58-9965-ffc87aed78d2",
   "metadata": {},
   "outputs": [],
   "source": [
    "# Filter Resource\n",
    "resource = filter_resource(resource, adata.var_names)"
   ]
  },
  {
   "cell_type": "code",
   "execution_count": null,
   "id": "cdd684e0-9b50-4c62-8b6b-6f1ff1b24a4e",
   "metadata": {},
   "outputs": [],
   "source": []
  },
  {
   "cell_type": "markdown",
   "id": "d7f020fe-ce4e-43e5-a65a-c500256e38b6",
   "metadata": {},
   "source": [
    "Create entities"
   ]
  },
  {
   "cell_type": "code",
   "execution_count": null,
   "id": "f0af1ebc-c5d4-4fd1-9c95-45cf6081cfcf",
   "metadata": {},
   "outputs": [],
   "source": [
    "entities = np.union1d(np.unique(resource[\"ligand\"]), np.unique(resource[\"receptor\"]))"
   ]
  },
  {
   "cell_type": "code",
   "execution_count": null,
   "id": "bb4303e7-9e8b-4d07-b91a-ce70f4a3da0b",
   "metadata": {},
   "outputs": [],
   "source": []
  },
  {
   "cell_type": "markdown",
   "id": "777dd11b-34db-4cc9-b7d4-3e7600bbbd8e",
   "metadata": {},
   "source": [
    "Check overlap between resource and adata"
   ]
  },
  {
   "cell_type": "code",
   "execution_count": null,
   "id": "d2d31c65-84a2-4bd6-a034-0a64935d063d",
   "metadata": {},
   "outputs": [],
   "source": [
    "check_if_covered(entities, adata.var_keys)"
   ]
  },
  {
   "cell_type": "code",
   "execution_count": null,
   "id": "45763bd4-cb43-4500-a912-b2eaa6ae653e",
   "metadata": {},
   "outputs": [],
   "source": []
  },
  {
   "cell_type": "markdown",
   "id": "2b70f1f0-af71-4348-95bc-bfcd16bf7ca7",
   "metadata": {},
   "source": [
    "Get global mean for SCA before filtering"
   ]
  },
  {
   "cell_type": "code",
   "execution_count": null,
   "id": "46bb2ab6-c9e1-4d4d-b33f-bf81cbd88525",
   "metadata": {},
   "outputs": [],
   "source": [
    "if 'mat_mean' in _add_cols: # SHOULD BE METHOD NAME!\n",
    "    adata.uns['mat_mean'] = np.mean(adata.X)"
   ]
  },
  {
   "cell_type": "code",
   "execution_count": null,
   "id": "0773f2a3-862d-4ac5-8299-84c5e6fef47f",
   "metadata": {},
   "outputs": [],
   "source": []
  },
  {
   "cell_type": "code",
   "execution_count": null,
   "id": "b37b2a52-7e37-4be1-ac32-457690f5bb54",
   "metadata": {},
   "outputs": [],
   "source": [
    "# Filter to only include the relevant genes\n",
    "adata = adata[:,np.intersect1d(entities, adata.var.index)]\n",
    "adata"
   ]
  },
  {
   "cell_type": "code",
   "execution_count": null,
   "id": "33212579-8762-4c83-b7ef-dc2fd8875bdb",
   "metadata": {},
   "outputs": [],
   "source": []
  },
  {
   "cell_type": "markdown",
   "id": "86cf9a4c-1693-4470-99f8-02bd60beb367",
   "metadata": {
    "tags": []
   },
   "source": [
    "Get Stats"
   ]
  },
  {
   "cell_type": "code",
   "execution_count": null,
   "id": "27042d96-a874-457e-ad75-3c312b73301b",
   "metadata": {},
   "outputs": [],
   "source": [
    "lr_res = _get_lr(adata, resource, key_cols + _complex_cols + _add_cols, de_method)"
   ]
  },
  {
   "cell_type": "code",
   "execution_count": null,
   "id": "9afdd672-e818-410e-84e0-6fb9ba6fd6be",
   "metadata": {},
   "outputs": [],
   "source": [
    "lr_res"
   ]
  },
  {
   "cell_type": "code",
   "execution_count": null,
   "id": "bddca5f6-6913-49f0-8c06-630677a6ba45",
   "metadata": {},
   "outputs": [],
   "source": []
  },
  {
   "cell_type": "code",
   "execution_count": null,
   "id": "e6bf23dc-c6eb-4ac3-aa8f-f3ce27d910d8",
   "metadata": {},
   "outputs": [],
   "source": []
  },
  {
   "cell_type": "code",
   "execution_count": null,
   "id": "795ae60d-921c-4f2c-98fc-52f33d09f26e",
   "metadata": {},
   "outputs": [],
   "source": []
  },
  {
   "cell_type": "markdown",
   "id": "6d1326e7-4437-40ed-9d65-c93ef5c1e33d",
   "metadata": {},
   "source": [
    "Recomplexify"
   ]
  },
  {
   "cell_type": "code",
   "execution_count": null,
   "id": "2e39a9e4-77ae-4e2b-ab0b-579d508f1347",
   "metadata": {},
   "outputs": [],
   "source": [
    "# If I want to implement anything else but the min as complex policy, I would need to change this:\n",
    "# temp = temp[[x==\"INHBA_INHBB\" for x in temp['ligand_complex']]].sort_values('receptor_complex')\n",
    "# temp = temp[[x==\"ACVR1B_ACVR2A\" for x in temp['receptor_complex']]]"
   ]
  },
  {
   "cell_type": "code",
   "execution_count": null,
   "id": "a78ea33f-4eca-47ef-bca1-af01ca844810",
   "metadata": {},
   "outputs": [],
   "source": [
    "lr_res = reassemble_complexes(lr_res, _key_cols, _complex_cols)"
   ]
  },
  {
   "cell_type": "code",
   "execution_count": null,
   "id": "db1b04d4-f354-43a1-bf92-2bc84556e7ba",
   "metadata": {},
   "outputs": [],
   "source": [
    "lr_res"
   ]
  },
  {
   "cell_type": "code",
   "execution_count": null,
   "id": "13246735-7446-41f9-b4d2-ee84d7514ead",
   "metadata": {},
   "outputs": [],
   "source": []
  },
  {
   "cell_type": "code",
   "execution_count": null,
   "id": "a0911c89-4141-4449-aaba-5d08be4ed2de",
   "metadata": {},
   "outputs": [],
   "source": []
  },
  {
   "cell_type": "code",
   "execution_count": null,
   "id": "45209cd9-4cd1-4a8c-879a-f681bf92210b",
   "metadata": {},
   "outputs": [],
   "source": []
  },
  {
   "cell_type": "markdown",
   "id": "efbeae9b-4df7-42ca-9b2c-9a1e7bedba08",
   "metadata": {},
   "source": [
    "### SCORES"
   ]
  },
  {
   "cell_type": "code",
   "execution_count": null,
   "id": "1061bfc5-ddfa-46dc-a39c-39e6042b215f",
   "metadata": {},
   "outputs": [],
   "source": [
    "from liana.steady.Method import Method, MethodMeta\n",
    "from liana.steady.scores.cellphonedb import _cpdb_score"
   ]
  },
  {
   "cell_type": "code",
   "execution_count": null,
   "id": "675c2240-c993-4fdd-92da-7d2ed4ee0228",
   "metadata": {},
   "outputs": [],
   "source": []
  },
  {
   "cell_type": "markdown",
   "id": "941603a4-9eaf-4bcd-a8b8-4f6a6574ebe5",
   "metadata": {},
   "source": [
    "CELLPHONEDB"
   ]
  },
  {
   "cell_type": "code",
   "execution_count": null,
   "id": "4284a51c-55a5-47b4-ab9b-ba3b3ba93aac",
   "metadata": {},
   "outputs": [],
   "source": [
    "_cellphonedb = MethodMeta(method_name = \"cellphonedb\",\n",
    "                          complex_cols = ['ligand_means', 'receptor_means'], \n",
    "                          add_cols = ['ligand', 'receptor'],\n",
    "                          fun = _cpdb_score,\n",
    "                          magnitude = 'lr_means',\n",
    "                          specificity = 'pvals',\n",
    "                          permute = True,\n",
    "                          reference = 'Efremova et al., 2020')"
   ]
  },
  {
   "cell_type": "code",
   "execution_count": null,
   "id": "79fc87a0-4d92-4adc-a3a3-e611c7f3b3b8",
   "metadata": {},
   "outputs": [],
   "source": [
    "cellphonedb = Method(_SCORE=_cellphonedb)"
   ]
  },
  {
   "cell_type": "code",
   "execution_count": null,
   "id": "d2d39d47-ae35-4109-b413-52d1caadda1c",
   "metadata": {},
   "outputs": [],
   "source": [
    "adata = cellphonedb(adata, groupby, seed=666)"
   ]
  },
  {
   "cell_type": "code",
   "execution_count": null,
   "id": "25e905eb-af83-4259-8e18-6b31ebb543c5",
   "metadata": {},
   "outputs": [],
   "source": [
    "adata.uns['liana_res']"
   ]
  },
  {
   "cell_type": "code",
   "execution_count": null,
   "id": "e7801646-121c-413a-be5a-aef31b5b35ee",
   "metadata": {},
   "outputs": [],
   "source": []
  },
  {
   "cell_type": "code",
   "execution_count": null,
   "id": "fd6d8272-289c-42c5-9f96-7ba76587b80b",
   "metadata": {},
   "outputs": [],
   "source": []
  },
  {
   "cell_type": "code",
   "execution_count": null,
   "id": "49686ceb-dd20-48ee-a0ad-20ac3646a809",
   "metadata": {},
   "outputs": [],
   "source": []
  },
  {
   "cell_type": "markdown",
   "id": "a67d9786-388a-4c8d-b868-5539a3602f5c",
   "metadata": {},
   "source": [
    "logFC re-implement"
   ]
  },
  {
   "cell_type": "markdown",
   "id": "194266ec-e8cf-4f65-963f-a3f9e2939f67",
   "metadata": {},
   "source": [
    "Magnitude as None"
   ]
  },
  {
   "cell_type": "code",
   "execution_count": null,
   "id": "c4f096b2-d4bd-4581-8f41-4774f14c6f0a",
   "metadata": {},
   "outputs": [],
   "source": []
  },
  {
   "cell_type": "code",
   "execution_count": null,
   "id": "0201fba8-13b0-4923-9539-fd1cbe27e2e0",
   "metadata": {},
   "outputs": [],
   "source": []
  },
  {
   "cell_type": "code",
   "execution_count": null,
   "id": "0699d6ec-68cb-4b49-84c0-d2722d40e90e",
   "metadata": {},
   "outputs": [],
   "source": [
    "lr_res['logfc'] = lr_res[['ligand_logfoldchanges', 'receptor_logfoldchanges']].mean(1)"
   ]
  },
  {
   "cell_type": "code",
   "execution_count": null,
   "id": "51064b93-983f-4c16-adb9-ca54a2e1cb62",
   "metadata": {},
   "outputs": [],
   "source": []
  },
  {
   "cell_type": "code",
   "execution_count": null,
   "id": "b3482e1c-c433-4712-bf1d-ba0494c0a314",
   "metadata": {},
   "outputs": [],
   "source": [
    "lr_res.sort_values(by='logfc', key=abs, ascending=False)"
   ]
  },
  {
   "cell_type": "code",
   "execution_count": null,
   "id": "fab2e516-7f93-4850-9907-2deaa2650c73",
   "metadata": {},
   "outputs": [],
   "source": []
  },
  {
   "cell_type": "markdown",
   "id": "7fb95f6b-db28-494b-83f8-de6b7c9b2048",
   "metadata": {},
   "source": [
    "Re-implement Connectome"
   ]
  },
  {
   "cell_type": "markdown",
   "id": "e50d075c-f537-4677-b1b0-e2837e29a5f8",
   "metadata": {},
   "source": [
    "Both Specificity and Magnitude"
   ]
  },
  {
   "cell_type": "code",
   "execution_count": null,
   "id": "a3d0a012-69e9-47c6-bb48-66641647cea8",
   "metadata": {},
   "outputs": [],
   "source": [
    "lr_res['edge_weight'] = lr_res[['ligand_zscores', 'receptor_zscores']].mean(1)"
   ]
  },
  {
   "cell_type": "code",
   "execution_count": null,
   "id": "c95a783e-52d8-44e8-b735-bbe54bef1972",
   "metadata": {},
   "outputs": [],
   "source": []
  }
 ],
 "metadata": {
  "kernelspec": {
   "display_name": "liana-py",
   "language": "python",
   "name": "liana-py"
  },
  "language_info": {
   "codemirror_mode": {
    "name": "ipython",
    "version": 3
   },
   "file_extension": ".py",
   "mimetype": "text/x-python",
   "name": "python",
   "nbconvert_exporter": "python",
   "pygments_lexer": "ipython3",
   "version": "3.8.8"
  }
 },
 "nbformat": 4,
 "nbformat_minor": 5
}
