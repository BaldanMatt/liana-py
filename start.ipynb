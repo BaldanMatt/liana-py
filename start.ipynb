{
 "cells": [
  {
   "cell_type": "code",
   "execution_count": 1,
   "id": "4a6561fa-18d6-459b-a010-51b7d9fae1d4",
   "metadata": {},
   "outputs": [],
   "source": [
    "import scanpy as sc\n",
    "import pandas as pd\n",
    "import numpy as np"
   ]
  },
  {
   "cell_type": "code",
   "execution_count": null,
   "id": "d333ea8e-aeca-4746-887b-33ec6b6b1b17",
   "metadata": {},
   "outputs": [],
   "source": []
  },
  {
   "cell_type": "markdown",
   "id": "f65dcb30-df9e-4ab9-a2f5-b2cb30ba58c0",
   "metadata": {},
   "source": [
    "Load anndata"
   ]
  },
  {
   "cell_type": "code",
   "execution_count": 2,
   "id": "3be28d50-be89-46ae-b3ec-e8878844a0ab",
   "metadata": {},
   "outputs": [],
   "source": [
    "adata = sc.read_h5ad(\"test.h5ad\")"
   ]
  },
  {
   "cell_type": "code",
   "execution_count": 3,
   "id": "72dce8c7-08ec-473c-be56-7eadb814c846",
   "metadata": {},
   "outputs": [],
   "source": [
    "# lognorm should be the default (expected)\n",
    "adata.X = adata.layers['logcounts']"
   ]
  },
  {
   "cell_type": "code",
   "execution_count": null,
   "id": "8ebb9f68-0009-42c0-afe1-4a2963664aa1",
   "metadata": {},
   "outputs": [],
   "source": []
  },
  {
   "cell_type": "markdown",
   "id": "04043a54-1480-41be-b134-b55911ff9027",
   "metadata": {},
   "source": [
    "Parameters"
   ]
  },
  {
   "cell_type": "code",
   "execution_count": 4,
   "id": "8749bb33-5c01-49b3-8fe1-cb8b167a8b28",
   "metadata": {},
   "outputs": [],
   "source": [
    "groupby='label'\n",
    "de_method='wilcoxon'\n",
    "resource_name = 'consensus'\n",
    "complex_policy = 'min'\n",
    "key_cols = ['source', 'target', 'ligand_complex', 'receptor_complex']\n",
    "verbose = False"
   ]
  },
  {
   "cell_type": "code",
   "execution_count": 5,
   "id": "6581703e-86e5-4f50-ab07-2f1791be9e67",
   "metadata": {},
   "outputs": [],
   "source": [
    "# only relevant if perms are done\n",
    "n_perms = 1000\n",
    "seed = 69"
   ]
  },
  {
   "cell_type": "code",
   "execution_count": null,
   "id": "9dabcf57-ad50-4fa5-a102-408b893cf6d7",
   "metadata": {},
   "outputs": [],
   "source": []
  },
  {
   "cell_type": "markdown",
   "id": "309ef0d7-3696-485d-a169-743774b2e2a4",
   "metadata": {},
   "source": [
    "Run LIANA PIPE"
   ]
  },
  {
   "cell_type": "code",
   "execution_count": 6,
   "id": "101f0bdd-c6a0-400b-b64e-b6ba21df9ae5",
   "metadata": {},
   "outputs": [],
   "source": [
    "from liana import liana_pipe"
   ]
  },
  {
   "cell_type": "code",
   "execution_count": 7,
   "id": "1bdd36ab-1ce6-4842-8b8f-d9a5f74ac660",
   "metadata": {},
   "outputs": [
    {
     "name": "stderr",
     "output_type": "stream",
     "text": [
      "/home/dbdimitrov/anaconda3/lib/python3.8/site-packages/anndata/compat/_overloaded_dict.py:106: ImplicitModificationWarning: Trying to modify attribute `._uns` of view, initializing view as actual.\n",
      "  self.data[key] = value\n",
      "/home/dbdimitrov/anaconda3/lib/python3.8/contextlib.py:120: FutureWarning: X.dtype being converted to np.float32 from float64. In the next version of anndata (0.9) conversion will not be automatic. Pass dtype explicitly to avoid this warning. Pass `AnnData(X, dtype=X.dtype, ...)` to get the future behavour.\n",
      "  next(self.gen)\n"
     ]
    }
   ],
   "source": [
    "lr_res = liana_pipe(adata=adata, \n",
    "                    groupby=groupby, \n",
    "                    resource_name=resource_name,\n",
    "                    de_method=de_method,\n",
    "                    n_perms=n_perms,\n",
    "                    seed=seed,\n",
    "                    verbose=verbose,\n",
    "                    _key_cols=key_cols,\n",
    "                    resource=None)"
   ]
  },
  {
   "cell_type": "code",
   "execution_count": 8,
   "id": "18e522eb-d6b2-4dab-acfd-9877065fb167",
   "metadata": {},
   "outputs": [
    {
     "data": {
      "text/html": [
       "<div>\n",
       "<style scoped>\n",
       "    .dataframe tbody tr th:only-of-type {\n",
       "        vertical-align: middle;\n",
       "    }\n",
       "\n",
       "    .dataframe tbody tr th {\n",
       "        vertical-align: top;\n",
       "    }\n",
       "\n",
       "    .dataframe thead th {\n",
       "        text-align: right;\n",
       "    }\n",
       "</style>\n",
       "<table border=\"1\" class=\"dataframe\">\n",
       "  <thead>\n",
       "    <tr style=\"text-align: right;\">\n",
       "      <th></th>\n",
       "      <th>ligand</th>\n",
       "      <th>ligand_complex</th>\n",
       "      <th>ligand_logfc</th>\n",
       "      <th>ligand_means</th>\n",
       "      <th>ligand_zscores</th>\n",
       "      <th>mat_mean</th>\n",
       "      <th>receptor</th>\n",
       "      <th>receptor_complex</th>\n",
       "      <th>receptor_logfc</th>\n",
       "      <th>receptor_means</th>\n",
       "      <th>receptor_zscores</th>\n",
       "      <th>source</th>\n",
       "      <th>target</th>\n",
       "      <th>ligand_means_sums</th>\n",
       "      <th>receptor_means_sums</th>\n",
       "    </tr>\n",
       "  </thead>\n",
       "  <tbody>\n",
       "    <tr>\n",
       "      <th>2288</th>\n",
       "      <td>CSF1</td>\n",
       "      <td>CSF1</td>\n",
       "      <td>-0.044315</td>\n",
       "      <td>0.000000</td>\n",
       "      <td>-0.105409</td>\n",
       "      <td>0.199056</td>\n",
       "      <td>CSF2RA</td>\n",
       "      <td>CSF2RA</td>\n",
       "      <td>-0.055999</td>\n",
       "      <td>0.000000</td>\n",
       "      <td>-0.105409</td>\n",
       "      <td>CD8 T</td>\n",
       "      <td>CD8 T</td>\n",
       "      <td>0.035162</td>\n",
       "      <td>0.040544</td>\n",
       "    </tr>\n",
       "    <tr>\n",
       "      <th>2096</th>\n",
       "      <td>BTLA</td>\n",
       "      <td>BTLA</td>\n",
       "      <td>-0.048226</td>\n",
       "      <td>0.000000</td>\n",
       "      <td>-0.105409</td>\n",
       "      <td>0.199056</td>\n",
       "      <td>TNFRSF14</td>\n",
       "      <td>TNFRSF14</td>\n",
       "      <td>-0.520295</td>\n",
       "      <td>0.294117</td>\n",
       "      <td>-0.250196</td>\n",
       "      <td>CD8 T</td>\n",
       "      <td>CD8 T</td>\n",
       "      <td>0.037057</td>\n",
       "      <td>1.424242</td>\n",
       "    </tr>\n",
       "    <tr>\n",
       "      <th>2087</th>\n",
       "      <td>IL18BP</td>\n",
       "      <td>IL18BP</td>\n",
       "      <td>-0.132456</td>\n",
       "      <td>0.000000</td>\n",
       "      <td>-0.145695</td>\n",
       "      <td>0.199056</td>\n",
       "      <td>IL6R</td>\n",
       "      <td>IL6R</td>\n",
       "      <td>-0.068199</td>\n",
       "      <td>0.000000</td>\n",
       "      <td>-0.105409</td>\n",
       "      <td>CD8 T</td>\n",
       "      <td>CD8 T</td>\n",
       "      <td>0.087242</td>\n",
       "      <td>0.045404</td>\n",
       "    </tr>\n",
       "    <tr>\n",
       "      <th>2086</th>\n",
       "      <td>IL6</td>\n",
       "      <td>IL6</td>\n",
       "      <td>-0.315346</td>\n",
       "      <td>0.000000</td>\n",
       "      <td>-0.149471</td>\n",
       "      <td>0.199056</td>\n",
       "      <td>IL6ST</td>\n",
       "      <td>IL6R_IL6ST</td>\n",
       "      <td>-0.121447</td>\n",
       "      <td>0.000000</td>\n",
       "      <td>-0.146079</td>\n",
       "      <td>CD8 T</td>\n",
       "      <td>CD8 T</td>\n",
       "      <td>0.140459</td>\n",
       "      <td>0.083360</td>\n",
       "    </tr>\n",
       "    <tr>\n",
       "      <th>2085</th>\n",
       "      <td>IL6</td>\n",
       "      <td>IL6</td>\n",
       "      <td>-0.315346</td>\n",
       "      <td>0.000000</td>\n",
       "      <td>-0.149471</td>\n",
       "      <td>0.199056</td>\n",
       "      <td>IL6R</td>\n",
       "      <td>IL6R_IL6ST</td>\n",
       "      <td>-0.068199</td>\n",
       "      <td>0.000000</td>\n",
       "      <td>-0.105409</td>\n",
       "      <td>CD8 T</td>\n",
       "      <td>CD8 T</td>\n",
       "      <td>0.140459</td>\n",
       "      <td>0.045404</td>\n",
       "    </tr>\n",
       "    <tr>\n",
       "      <th>...</th>\n",
       "      <td>...</td>\n",
       "      <td>...</td>\n",
       "      <td>...</td>\n",
       "      <td>...</td>\n",
       "      <td>...</td>\n",
       "      <td>...</td>\n",
       "      <td>...</td>\n",
       "      <td>...</td>\n",
       "      <td>...</td>\n",
       "      <td>...</td>\n",
       "      <td>...</td>\n",
       "      <td>...</td>\n",
       "      <td>...</td>\n",
       "      <td>...</td>\n",
       "      <td>...</td>\n",
       "    </tr>\n",
       "    <tr>\n",
       "      <th>1345</th>\n",
       "      <td>B2M</td>\n",
       "      <td>B2M</td>\n",
       "      <td>0.595277</td>\n",
       "      <td>5.810702</td>\n",
       "      <td>0.728883</td>\n",
       "      <td>0.199056</td>\n",
       "      <td>CD247</td>\n",
       "      <td>CD247</td>\n",
       "      <td>-2.154735</td>\n",
       "      <td>0.269538</td>\n",
       "      <td>-0.764050</td>\n",
       "      <td>NK</td>\n",
       "      <td>B</td>\n",
       "      <td>16.490938</td>\n",
       "      <td>3.277351</td>\n",
       "    </tr>\n",
       "    <tr>\n",
       "      <th>4178</th>\n",
       "      <td>B2M</td>\n",
       "      <td>B2M</td>\n",
       "      <td>0.595277</td>\n",
       "      <td>5.810702</td>\n",
       "      <td>0.728883</td>\n",
       "      <td>0.199056</td>\n",
       "      <td>CD3G</td>\n",
       "      <td>CD3G</td>\n",
       "      <td>-0.160309</td>\n",
       "      <td>0.196046</td>\n",
       "      <td>-0.106673</td>\n",
       "      <td>NK</td>\n",
       "      <td>NK</td>\n",
       "      <td>16.490938</td>\n",
       "      <td>0.797412</td>\n",
       "    </tr>\n",
       "    <tr>\n",
       "      <th>4332</th>\n",
       "      <td>B2M</td>\n",
       "      <td>B2M</td>\n",
       "      <td>0.595277</td>\n",
       "      <td>5.810702</td>\n",
       "      <td>0.728883</td>\n",
       "      <td>0.199056</td>\n",
       "      <td>KLRC1</td>\n",
       "      <td>KLRC1</td>\n",
       "      <td>1.285116</td>\n",
       "      <td>0.642471</td>\n",
       "      <td>0.494169</td>\n",
       "      <td>NK</td>\n",
       "      <td>NK</td>\n",
       "      <td>16.490938</td>\n",
       "      <td>0.893647</td>\n",
       "    </tr>\n",
       "    <tr>\n",
       "      <th>2647</th>\n",
       "      <td>B2M</td>\n",
       "      <td>B2M</td>\n",
       "      <td>0.595277</td>\n",
       "      <td>5.810702</td>\n",
       "      <td>0.728883</td>\n",
       "      <td>0.199056</td>\n",
       "      <td>CD3D</td>\n",
       "      <td>CD3D</td>\n",
       "      <td>2.097606</td>\n",
       "      <td>2.190063</td>\n",
       "      <td>0.951525</td>\n",
       "      <td>NK</td>\n",
       "      <td>CD8 T</td>\n",
       "      <td>16.490938</td>\n",
       "      <td>3.070996</td>\n",
       "    </tr>\n",
       "    <tr>\n",
       "      <th>4333</th>\n",
       "      <td>B2M</td>\n",
       "      <td>B2M</td>\n",
       "      <td>0.595277</td>\n",
       "      <td>5.810702</td>\n",
       "      <td>0.728883</td>\n",
       "      <td>0.199056</td>\n",
       "      <td>KLRC2</td>\n",
       "      <td>KLRC2</td>\n",
       "      <td>0.097159</td>\n",
       "      <td>0.055034</td>\n",
       "      <td>0.078263</td>\n",
       "      <td>NK</td>\n",
       "      <td>NK</td>\n",
       "      <td>16.490938</td>\n",
       "      <td>0.108470</td>\n",
       "    </tr>\n",
       "  </tbody>\n",
       "</table>\n",
       "<p>4287 rows × 15 columns</p>\n",
       "</div>"
      ],
      "text/plain": [
       "      ligand ligand_complex  ligand_logfc  ligand_means  ligand_zscores  \\\n",
       "2288    CSF1           CSF1     -0.044315      0.000000       -0.105409   \n",
       "2096    BTLA           BTLA     -0.048226      0.000000       -0.105409   \n",
       "2087  IL18BP         IL18BP     -0.132456      0.000000       -0.145695   \n",
       "2086     IL6            IL6     -0.315346      0.000000       -0.149471   \n",
       "2085     IL6            IL6     -0.315346      0.000000       -0.149471   \n",
       "...      ...            ...           ...           ...             ...   \n",
       "1345     B2M            B2M      0.595277      5.810702        0.728883   \n",
       "4178     B2M            B2M      0.595277      5.810702        0.728883   \n",
       "4332     B2M            B2M      0.595277      5.810702        0.728883   \n",
       "2647     B2M            B2M      0.595277      5.810702        0.728883   \n",
       "4333     B2M            B2M      0.595277      5.810702        0.728883   \n",
       "\n",
       "      mat_mean  receptor receptor_complex  receptor_logfc  receptor_means  \\\n",
       "2288  0.199056    CSF2RA           CSF2RA       -0.055999        0.000000   \n",
       "2096  0.199056  TNFRSF14         TNFRSF14       -0.520295        0.294117   \n",
       "2087  0.199056      IL6R             IL6R       -0.068199        0.000000   \n",
       "2086  0.199056     IL6ST       IL6R_IL6ST       -0.121447        0.000000   \n",
       "2085  0.199056      IL6R       IL6R_IL6ST       -0.068199        0.000000   \n",
       "...        ...       ...              ...             ...             ...   \n",
       "1345  0.199056     CD247            CD247       -2.154735        0.269538   \n",
       "4178  0.199056      CD3G             CD3G       -0.160309        0.196046   \n",
       "4332  0.199056     KLRC1            KLRC1        1.285116        0.642471   \n",
       "2647  0.199056      CD3D             CD3D        2.097606        2.190063   \n",
       "4333  0.199056     KLRC2            KLRC2        0.097159        0.055034   \n",
       "\n",
       "      receptor_zscores source target  ligand_means_sums  receptor_means_sums  \n",
       "2288         -0.105409  CD8 T  CD8 T           0.035162             0.040544  \n",
       "2096         -0.250196  CD8 T  CD8 T           0.037057             1.424242  \n",
       "2087         -0.105409  CD8 T  CD8 T           0.087242             0.045404  \n",
       "2086         -0.146079  CD8 T  CD8 T           0.140459             0.083360  \n",
       "2085         -0.105409  CD8 T  CD8 T           0.140459             0.045404  \n",
       "...                ...    ...    ...                ...                  ...  \n",
       "1345         -0.764050     NK      B          16.490938             3.277351  \n",
       "4178         -0.106673     NK     NK          16.490938             0.797412  \n",
       "4332          0.494169     NK     NK          16.490938             0.893647  \n",
       "2647          0.951525     NK  CD8 T          16.490938             3.070996  \n",
       "4333          0.078263     NK     NK          16.490938             0.108470  \n",
       "\n",
       "[4287 rows x 15 columns]"
      ]
     },
     "execution_count": 8,
     "metadata": {},
     "output_type": "execute_result"
    }
   ],
   "source": [
    "lr_res.sort_values('ligand_means')"
   ]
  },
  {
   "cell_type": "code",
   "execution_count": null,
   "id": "7f3835c3-72fe-40c5-9b17-a2efc0bba160",
   "metadata": {},
   "outputs": [],
   "source": []
  },
  {
   "cell_type": "markdown",
   "id": "7c12716f-6115-4c36-8751-0c8f45b771a2",
   "metadata": {},
   "source": [
    "Consensus"
   ]
  },
  {
   "cell_type": "code",
   "execution_count": 9,
   "id": "47a774c0-6e90-45df-8957-e24a9c294cf1",
   "metadata": {},
   "outputs": [],
   "source": [
    "from liana.steady import cellphonedb"
   ]
  },
  {
   "cell_type": "code",
   "execution_count": 10,
   "id": "70668179-5ff8-4036-9e01-6fe252323499",
   "metadata": {},
   "outputs": [],
   "source": [
    "from liana.steady.scores.consensus import consensus"
   ]
  },
  {
   "cell_type": "code",
   "execution_count": null,
   "id": "ab61da83-5732-4812-9924-69f8e971ea53",
   "metadata": {},
   "outputs": [],
   "source": []
  },
  {
   "cell_type": "code",
   "execution_count": 11,
   "id": "675b60a9-6097-4494-be8d-227b89d2d661",
   "metadata": {},
   "outputs": [
    {
     "data": {
      "text/plain": [
       "['receptor_logfc',\n",
       " 'receptor_means',\n",
       " 'ligand_logfc',\n",
       " 'ligand_zscores',\n",
       " 'ligand_means',\n",
       " 'receptor_zscores']"
      ]
     },
     "execution_count": 11,
     "metadata": {},
     "output_type": "execute_result"
    }
   ],
   "source": [
    "consensus.complex_cols"
   ]
  },
  {
   "cell_type": "code",
   "execution_count": 12,
   "id": "3e434926-0352-4865-90e9-745c6a566491",
   "metadata": {},
   "outputs": [
    {
     "name": "stderr",
     "output_type": "stream",
     "text": [
      "/home/dbdimitrov/anaconda3/lib/python3.8/site-packages/anndata/compat/_overloaded_dict.py:106: ImplicitModificationWarning: Trying to modify attribute `._uns` of view, initializing view as actual.\n",
      "  self.data[key] = value\n",
      "/home/dbdimitrov/anaconda3/lib/python3.8/contextlib.py:120: FutureWarning: X.dtype being converted to np.float32 from float64. In the next version of anndata (0.9) conversion will not be automatic. Pass dtype explicitly to avoid this warning. Pass `AnnData(X, dtype=X.dtype, ...)` to get the future behavour.\n",
      "  next(self.gen)\n"
     ]
    },
    {
     "name": "stdout",
     "output_type": "stream",
     "text": [
      "CellPhoneDB\n",
      "Index(['ligand', 'ligand_complex', 'ligand_means', 'receptor',\n",
      "       'receptor_complex', 'receptor_means', 'source', 'target'],\n",
      "      dtype='object')\n",
      "Connectome\n",
      "Index(['ligand', 'ligand_complex', 'ligand_means', 'ligand_zscores',\n",
      "       'receptor', 'receptor_complex', 'receptor_means', 'receptor_zscores',\n",
      "       'source', 'target'],\n",
      "      dtype='object')\n",
      "log2FC\n",
      "Index(['ligand', 'ligand_complex', 'ligand_logfc', 'ligand_means', 'receptor',\n",
      "       'receptor_complex', 'receptor_logfc', 'receptor_means', 'source',\n",
      "       'target'],\n",
      "      dtype='object')\n",
      "NATMI\n",
      "Index(['ligand', 'ligand_complex', 'ligand_means', 'ligand_means_sums',\n",
      "       'receptor', 'receptor_complex', 'receptor_means', 'receptor_means_sums',\n",
      "       'source', 'target'],\n",
      "      dtype='object')\n",
      "SingleCellSignalR\n",
      "Index(['ligand', 'ligand_complex', 'ligand_means', 'mat_mean', 'receptor',\n",
      "       'receptor_complex', 'receptor_means', 'source', 'target'],\n",
      "      dtype='object')\n"
     ]
    }
   ],
   "source": [
    "adata = consensus(adata, groupby='label')"
   ]
  },
  {
   "cell_type": "code",
   "execution_count": 13,
   "id": "ccf39350-02ad-4e01-8040-708e9e308fa4",
   "metadata": {},
   "outputs": [
    {
     "data": {
      "text/html": [
       "<div>\n",
       "<style scoped>\n",
       "    .dataframe tbody tr th:only-of-type {\n",
       "        vertical-align: middle;\n",
       "    }\n",
       "\n",
       "    .dataframe tbody tr th {\n",
       "        vertical-align: top;\n",
       "    }\n",
       "\n",
       "    .dataframe thead th {\n",
       "        text-align: right;\n",
       "    }\n",
       "</style>\n",
       "<table border=\"1\" class=\"dataframe\">\n",
       "  <thead>\n",
       "    <tr style=\"text-align: right;\">\n",
       "      <th></th>\n",
       "      <th>ligand</th>\n",
       "      <th>ligand_complex</th>\n",
       "      <th>ligand_means</th>\n",
       "      <th>receptor</th>\n",
       "      <th>receptor_complex</th>\n",
       "      <th>receptor_means</th>\n",
       "      <th>source</th>\n",
       "      <th>target</th>\n",
       "      <th>lr_means</th>\n",
       "      <th>pvals</th>\n",
       "    </tr>\n",
       "  </thead>\n",
       "  <tbody>\n",
       "    <tr>\n",
       "      <th>0</th>\n",
       "      <td>LGALS9</td>\n",
       "      <td>LGALS9</td>\n",
       "      <td>0.374320</td>\n",
       "      <td>PTPRC</td>\n",
       "      <td>PTPRC</td>\n",
       "      <td>0.761533</td>\n",
       "      <td>B</td>\n",
       "      <td>B</td>\n",
       "      <td>0.567927</td>\n",
       "      <td>0.859</td>\n",
       "    </tr>\n",
       "    <tr>\n",
       "      <th>1</th>\n",
       "      <td>CD22</td>\n",
       "      <td>CD22</td>\n",
       "      <td>0.554265</td>\n",
       "      <td>PTPRC</td>\n",
       "      <td>PTPRC</td>\n",
       "      <td>0.761533</td>\n",
       "      <td>B</td>\n",
       "      <td>B</td>\n",
       "      <td>0.657899</td>\n",
       "      <td>0.595</td>\n",
       "    </tr>\n",
       "    <tr>\n",
       "      <th>2</th>\n",
       "      <td>LGALS1</td>\n",
       "      <td>LGALS1</td>\n",
       "      <td>0.611330</td>\n",
       "      <td>PTPRC</td>\n",
       "      <td>PTPRC</td>\n",
       "      <td>0.761533</td>\n",
       "      <td>B</td>\n",
       "      <td>B</td>\n",
       "      <td>0.686431</td>\n",
       "      <td>1.000</td>\n",
       "    </tr>\n",
       "    <tr>\n",
       "      <th>3</th>\n",
       "      <td>LGALS9</td>\n",
       "      <td>LGALS9</td>\n",
       "      <td>0.374320</td>\n",
       "      <td>CD44</td>\n",
       "      <td>CD44</td>\n",
       "      <td>0.655391</td>\n",
       "      <td>B</td>\n",
       "      <td>B</td>\n",
       "      <td>0.514855</td>\n",
       "      <td>0.141</td>\n",
       "    </tr>\n",
       "    <tr>\n",
       "      <th>4</th>\n",
       "      <td>ADAM10</td>\n",
       "      <td>ADAM10</td>\n",
       "      <td>0.119797</td>\n",
       "      <td>CD44</td>\n",
       "      <td>CD44</td>\n",
       "      <td>0.655391</td>\n",
       "      <td>B</td>\n",
       "      <td>B</td>\n",
       "      <td>0.387594</td>\n",
       "      <td>0.598</td>\n",
       "    </tr>\n",
       "    <tr>\n",
       "      <th>...</th>\n",
       "      <td>...</td>\n",
       "      <td>...</td>\n",
       "      <td>...</td>\n",
       "      <td>...</td>\n",
       "      <td>...</td>\n",
       "      <td>...</td>\n",
       "      <td>...</td>\n",
       "      <td>...</td>\n",
       "      <td>...</td>\n",
       "      <td>...</td>\n",
       "    </tr>\n",
       "    <tr>\n",
       "      <th>4576</th>\n",
       "      <td>CALM1</td>\n",
       "      <td>CALM1</td>\n",
       "      <td>2.516959</td>\n",
       "      <td>KCNN4</td>\n",
       "      <td>KCNN4</td>\n",
       "      <td>0.000000</td>\n",
       "      <td>NK</td>\n",
       "      <td>NK</td>\n",
       "      <td>1.000000</td>\n",
       "      <td>1.000</td>\n",
       "    </tr>\n",
       "    <tr>\n",
       "      <th>4577</th>\n",
       "      <td>PTPN6</td>\n",
       "      <td>PTPN6</td>\n",
       "      <td>0.652221</td>\n",
       "      <td>CD300LF</td>\n",
       "      <td>CD300LF</td>\n",
       "      <td>0.000000</td>\n",
       "      <td>NK</td>\n",
       "      <td>NK</td>\n",
       "      <td>1.000000</td>\n",
       "      <td>1.000</td>\n",
       "    </tr>\n",
       "    <tr>\n",
       "      <th>4578</th>\n",
       "      <td>NUCB2</td>\n",
       "      <td>NUCB2</td>\n",
       "      <td>0.156951</td>\n",
       "      <td>ERAP1</td>\n",
       "      <td>ERAP1</td>\n",
       "      <td>0.162055</td>\n",
       "      <td>NK</td>\n",
       "      <td>NK</td>\n",
       "      <td>0.159503</td>\n",
       "      <td>0.069</td>\n",
       "    </tr>\n",
       "    <tr>\n",
       "      <th>4579</th>\n",
       "      <td>SOCS2</td>\n",
       "      <td>SOCS2</td>\n",
       "      <td>0.230338</td>\n",
       "      <td>EPOR</td>\n",
       "      <td>EPOR</td>\n",
       "      <td>0.000000</td>\n",
       "      <td>NK</td>\n",
       "      <td>NK</td>\n",
       "      <td>1.000000</td>\n",
       "      <td>1.000</td>\n",
       "    </tr>\n",
       "    <tr>\n",
       "      <th>4580</th>\n",
       "      <td>GDF11</td>\n",
       "      <td>GDF11</td>\n",
       "      <td>0.000000</td>\n",
       "      <td>ACTR2</td>\n",
       "      <td>ACTR2</td>\n",
       "      <td>0.346738</td>\n",
       "      <td>NK</td>\n",
       "      <td>NK</td>\n",
       "      <td>1.000000</td>\n",
       "      <td>1.000</td>\n",
       "    </tr>\n",
       "  </tbody>\n",
       "</table>\n",
       "<p>4287 rows × 10 columns</p>\n",
       "</div>"
      ],
      "text/plain": [
       "      ligand ligand_complex  ligand_means receptor receptor_complex  \\\n",
       "0     LGALS9         LGALS9      0.374320    PTPRC            PTPRC   \n",
       "1       CD22           CD22      0.554265    PTPRC            PTPRC   \n",
       "2     LGALS1         LGALS1      0.611330    PTPRC            PTPRC   \n",
       "3     LGALS9         LGALS9      0.374320     CD44             CD44   \n",
       "4     ADAM10         ADAM10      0.119797     CD44             CD44   \n",
       "...      ...            ...           ...      ...              ...   \n",
       "4576   CALM1          CALM1      2.516959    KCNN4            KCNN4   \n",
       "4577   PTPN6          PTPN6      0.652221  CD300LF          CD300LF   \n",
       "4578   NUCB2          NUCB2      0.156951    ERAP1            ERAP1   \n",
       "4579   SOCS2          SOCS2      0.230338     EPOR             EPOR   \n",
       "4580   GDF11          GDF11      0.000000    ACTR2            ACTR2   \n",
       "\n",
       "      receptor_means source target  lr_means  pvals  \n",
       "0           0.761533      B      B  0.567927  0.859  \n",
       "1           0.761533      B      B  0.657899  0.595  \n",
       "2           0.761533      B      B  0.686431  1.000  \n",
       "3           0.655391      B      B  0.514855  0.141  \n",
       "4           0.655391      B      B  0.387594  0.598  \n",
       "...              ...    ...    ...       ...    ...  \n",
       "4576        0.000000     NK     NK  1.000000  1.000  \n",
       "4577        0.000000     NK     NK  1.000000  1.000  \n",
       "4578        0.162055     NK     NK  0.159503  0.069  \n",
       "4579        0.000000     NK     NK  1.000000  1.000  \n",
       "4580        0.346738     NK     NK  1.000000  1.000  \n",
       "\n",
       "[4287 rows x 10 columns]"
      ]
     },
     "execution_count": 13,
     "metadata": {},
     "output_type": "execute_result"
    }
   ],
   "source": [
    "adata.uns['liana_res']['CellPhoneDB']"
   ]
  },
  {
   "cell_type": "code",
   "execution_count": null,
   "id": "e4304a27-ca46-48ce-8bc3-8d6ec5a0b7c3",
   "metadata": {},
   "outputs": [],
   "source": []
  },
  {
   "cell_type": "code",
   "execution_count": 14,
   "id": "3735af80-8007-48a3-bc11-070dac65972e",
   "metadata": {},
   "outputs": [],
   "source": [
    "from liana.steady import cellphonedb, natmi, connectome, logfc, singlecellsignalr as sca"
   ]
  },
  {
   "cell_type": "code",
   "execution_count": 15,
   "id": "d37bc726-c1a0-40ca-b6bc-a12b50bb832e",
   "metadata": {},
   "outputs": [],
   "source": [
    "_methods = [cellphonedb, connectome, logfc, natmi, sca]"
   ]
  },
  {
   "cell_type": "code",
   "execution_count": null,
   "id": "bc9ce1c1-d7ad-434b-9239-35a689e6db4a",
   "metadata": {},
   "outputs": [],
   "source": []
  },
  {
   "cell_type": "code",
   "execution_count": null,
   "id": "bef97076-6057-497c-ad49-7c6c66c71cfd",
   "metadata": {},
   "outputs": [],
   "source": []
  },
  {
   "cell_type": "markdown",
   "id": "99a21a70-1835-44c8-8f20-f3c9eb5570b4",
   "metadata": {},
   "source": [
    "Robust rank aggregate"
   ]
  },
  {
   "cell_type": "code",
   "execution_count": null,
   "id": "e7eadb90-dd16-41f3-abd5-b06f7615da9f",
   "metadata": {},
   "outputs": [],
   "source": [
    "# 1. Get all keys\n",
    "# 2. To them join the scores (iteratate over scores, not the methods - remove redudant scores (e.g. prod_weight)\n",
    "# 3. Then for each specificity, magnitude, steady we make a rmat /w 0-1 ranks\n",
    "# 4. "
   ]
  },
  {
   "cell_type": "code",
   "execution_count": null,
   "id": "d4aa82cd-9675-46fd-8852-fd04fc8d97d8",
   "metadata": {},
   "outputs": [],
   "source": []
  },
  {
   "cell_type": "code",
   "execution_count": null,
   "id": "3e8c0033-a533-40a3-a6ce-1f5c511a2d2e",
   "metadata": {},
   "outputs": [],
   "source": [
    "# Duplicates arrise due to the explode of complexes, in which subunits have the same min expression\n",
    "# these are kept when returning the result from each method but are discarded \n",
    "# when working with the consensus because duplicated interactions are assigned the same score"
   ]
  },
  {
   "cell_type": "code",
   "execution_count": null,
   "id": "6b012cc8-43da-45b1-848b-d3ed18243255",
   "metadata": {},
   "outputs": [],
   "source": []
  },
  {
   "cell_type": "code",
   "execution_count": 548,
   "id": "675d4e35-e629-4e6f-af4b-2666c1648dc0",
   "metadata": {},
   "outputs": [],
   "source": [
    "from functools import reduce"
   ]
  },
  {
   "cell_type": "code",
   "execution_count": 549,
   "id": "a4c3fbfb-1400-40aa-959f-0aa2d4b1d600",
   "metadata": {},
   "outputs": [],
   "source": [
    "from scipy.stats import rankdata"
   ]
  },
  {
   "cell_type": "code",
   "execution_count": null,
   "id": "ebecbb0b-01b1-411c-83d0-9c1aacc97dd2",
   "metadata": {},
   "outputs": [],
   "source": []
  },
  {
   "cell_type": "code",
   "execution_count": 550,
   "id": "8f2a3618-5b86-4cd9-9b78-ab6c0b998635",
   "metadata": {},
   "outputs": [],
   "source": [
    "lr_res = adata.uns['liana_res'].copy()"
   ]
  },
  {
   "cell_type": "code",
   "execution_count": 551,
   "id": "c59def41-9c1b-4017-acaa-991f7151ec2e",
   "metadata": {},
   "outputs": [],
   "source": [
    "keys = ['source', 'target', 'ligand_complex', 'receptor_complex']"
   ]
  },
  {
   "cell_type": "code",
   "execution_count": 552,
   "id": "7674350e-49aa-432c-86e0-b880520db3f4",
   "metadata": {},
   "outputs": [],
   "source": [
    "lr_ranks = {}"
   ]
  },
  {
   "cell_type": "code",
   "execution_count": null,
   "id": "60c2babe-ff4c-4ecb-b33b-31023d255539",
   "metadata": {},
   "outputs": [],
   "source": []
  },
  {
   "cell_type": "code",
   "execution_count": 553,
   "id": "1fe52496-d05b-4b20-9844-4fdbd1cb404b",
   "metadata": {},
   "outputs": [],
   "source": [
    "# 1. Get all keys"
   ]
  },
  {
   "cell_type": "code",
   "execution_count": 616,
   "id": "84cd564a-ab80-43e6-ab5f-590498f85079",
   "metadata": {},
   "outputs": [],
   "source": [
    "# get all shared keys\n",
    "shared_keys = [lr_res[method.method_name][keys].drop_duplicates(keep='first') for method in _methods]\n",
    "# outer join all from different methods to keep all possibilities\n",
    "shared_keys = reduce(lambda left, right: pd.merge(left, right, how='outer', on=keys), shared_keys)"
   ]
  },
  {
   "cell_type": "code",
   "execution_count": null,
   "id": "5d870045-291a-4119-9e04-e7f46266a2e3",
   "metadata": {},
   "outputs": [],
   "source": []
  },
  {
   "cell_type": "code",
   "execution_count": 617,
   "id": "cecdbe0a-2d0a-4beb-a191-66409eafeb08",
   "metadata": {},
   "outputs": [],
   "source": [
    "# 2. To them join the scores"
   ]
  },
  {
   "cell_type": "code",
   "execution_count": 618,
   "id": "0b02b414-2615-46d6-81c6-a799ab657307",
   "metadata": {},
   "outputs": [],
   "source": [
    "# Keep only relevant scores from each method\n",
    "specs = [ lr_res[method.method_name][keys + [method.specificity]].drop_duplicates(keep='first') for method in _methods if method.specificity is not None]"
   ]
  },
  {
   "cell_type": "code",
   "execution_count": 619,
   "id": "1ccc2149-f785-43a0-85e2-0c59abcd33ac",
   "metadata": {},
   "outputs": [],
   "source": [
    "# reduce to a df with the shared keys + all relevant scores\n",
    "specs = reduce(lambda left, right: pd.merge(left, right, how='left', on=keys), [shared_keys] + specs)"
   ]
  },
  {
   "cell_type": "code",
   "execution_count": 620,
   "id": "a3dbd7a8-76aa-41a6-a3b7-8ea3465f2fa1",
   "metadata": {},
   "outputs": [
    {
     "data": {
      "text/html": [
       "<div>\n",
       "<style scoped>\n",
       "    .dataframe tbody tr th:only-of-type {\n",
       "        vertical-align: middle;\n",
       "    }\n",
       "\n",
       "    .dataframe tbody tr th {\n",
       "        vertical-align: top;\n",
       "    }\n",
       "\n",
       "    .dataframe thead th {\n",
       "        text-align: right;\n",
       "    }\n",
       "</style>\n",
       "<table border=\"1\" class=\"dataframe\">\n",
       "  <thead>\n",
       "    <tr style=\"text-align: right;\">\n",
       "      <th></th>\n",
       "      <th>source</th>\n",
       "      <th>target</th>\n",
       "      <th>ligand_complex</th>\n",
       "      <th>receptor_complex</th>\n",
       "      <th>pvals</th>\n",
       "      <th>scaled_weight</th>\n",
       "      <th>lr_logfc</th>\n",
       "      <th>spec_weight</th>\n",
       "    </tr>\n",
       "  </thead>\n",
       "  <tbody>\n",
       "    <tr>\n",
       "      <th>0</th>\n",
       "      <td>B</td>\n",
       "      <td>B</td>\n",
       "      <td>LGALS9</td>\n",
       "      <td>PTPRC</td>\n",
       "      <td>0.859</td>\n",
       "      <td>-0.018851</td>\n",
       "      <td>-0.128937</td>\n",
       "      <td>0.156310</td>\n",
       "    </tr>\n",
       "    <tr>\n",
       "      <th>1</th>\n",
       "      <td>B</td>\n",
       "      <td>B</td>\n",
       "      <td>CD22</td>\n",
       "      <td>PTPRC</td>\n",
       "      <td>0.595</td>\n",
       "      <td>0.101330</td>\n",
       "      <td>-0.031155</td>\n",
       "      <td>0.184109</td>\n",
       "    </tr>\n",
       "    <tr>\n",
       "      <th>2</th>\n",
       "      <td>B</td>\n",
       "      <td>B</td>\n",
       "      <td>LGALS1</td>\n",
       "      <td>PTPRC</td>\n",
       "      <td>1.000</td>\n",
       "      <td>-0.438067</td>\n",
       "      <td>-1.391997</td>\n",
       "      <td>0.038055</td>\n",
       "    </tr>\n",
       "    <tr>\n",
       "      <th>3</th>\n",
       "      <td>B</td>\n",
       "      <td>B</td>\n",
       "      <td>LGALS9</td>\n",
       "      <td>CD44</td>\n",
       "      <td>0.141</td>\n",
       "      <td>0.163107</td>\n",
       "      <td>0.267569</td>\n",
       "      <td>0.218076</td>\n",
       "    </tr>\n",
       "    <tr>\n",
       "      <th>4</th>\n",
       "      <td>B</td>\n",
       "      <td>B</td>\n",
       "      <td>ADAM10</td>\n",
       "      <td>CD44</td>\n",
       "      <td>0.598</td>\n",
       "      <td>-0.027165</td>\n",
       "      <td>-0.127467</td>\n",
       "      <td>0.102962</td>\n",
       "    </tr>\n",
       "    <tr>\n",
       "      <th>...</th>\n",
       "      <td>...</td>\n",
       "      <td>...</td>\n",
       "      <td>...</td>\n",
       "      <td>...</td>\n",
       "      <td>...</td>\n",
       "      <td>...</td>\n",
       "      <td>...</td>\n",
       "      <td>...</td>\n",
       "    </tr>\n",
       "    <tr>\n",
       "      <th>4270</th>\n",
       "      <td>NK</td>\n",
       "      <td>NK</td>\n",
       "      <td>CALM1</td>\n",
       "      <td>KCNN4</td>\n",
       "      <td>1.000</td>\n",
       "      <td>0.171759</td>\n",
       "      <td>0.344996</td>\n",
       "      <td>0.000000</td>\n",
       "    </tr>\n",
       "    <tr>\n",
       "      <th>4271</th>\n",
       "      <td>NK</td>\n",
       "      <td>NK</td>\n",
       "      <td>PTPN6</td>\n",
       "      <td>CD300LF</td>\n",
       "      <td>1.000</td>\n",
       "      <td>-0.152207</td>\n",
       "      <td>-0.361070</td>\n",
       "      <td>0.000000</td>\n",
       "    </tr>\n",
       "    <tr>\n",
       "      <th>4272</th>\n",
       "      <td>NK</td>\n",
       "      <td>NK</td>\n",
       "      <td>NUCB2</td>\n",
       "      <td>ERAP1</td>\n",
       "      <td>0.069</td>\n",
       "      <td>0.174068</td>\n",
       "      <td>0.281153</td>\n",
       "      <td>0.313999</td>\n",
       "    </tr>\n",
       "    <tr>\n",
       "      <th>4273</th>\n",
       "      <td>NK</td>\n",
       "      <td>NK</td>\n",
       "      <td>SOCS2</td>\n",
       "      <td>EPOR</td>\n",
       "      <td>1.000</td>\n",
       "      <td>0.068864</td>\n",
       "      <td>0.220448</td>\n",
       "      <td>0.000000</td>\n",
       "    </tr>\n",
       "    <tr>\n",
       "      <th>4274</th>\n",
       "      <td>NK</td>\n",
       "      <td>NK</td>\n",
       "      <td>GDF11</td>\n",
       "      <td>ACTR2</td>\n",
       "      <td>1.000</td>\n",
       "      <td>-0.026316</td>\n",
       "      <td>0.095183</td>\n",
       "      <td>0.000000</td>\n",
       "    </tr>\n",
       "  </tbody>\n",
       "</table>\n",
       "<p>4275 rows × 8 columns</p>\n",
       "</div>"
      ],
      "text/plain": [
       "     source target ligand_complex receptor_complex  pvals  scaled_weight  \\\n",
       "0         B      B         LGALS9            PTPRC  0.859      -0.018851   \n",
       "1         B      B           CD22            PTPRC  0.595       0.101330   \n",
       "2         B      B         LGALS1            PTPRC  1.000      -0.438067   \n",
       "3         B      B         LGALS9             CD44  0.141       0.163107   \n",
       "4         B      B         ADAM10             CD44  0.598      -0.027165   \n",
       "...     ...    ...            ...              ...    ...            ...   \n",
       "4270     NK     NK          CALM1            KCNN4  1.000       0.171759   \n",
       "4271     NK     NK          PTPN6          CD300LF  1.000      -0.152207   \n",
       "4272     NK     NK          NUCB2            ERAP1  0.069       0.174068   \n",
       "4273     NK     NK          SOCS2             EPOR  1.000       0.068864   \n",
       "4274     NK     NK          GDF11            ACTR2  1.000      -0.026316   \n",
       "\n",
       "      lr_logfc  spec_weight  \n",
       "0    -0.128937     0.156310  \n",
       "1    -0.031155     0.184109  \n",
       "2    -1.391997     0.038055  \n",
       "3     0.267569     0.218076  \n",
       "4    -0.127467     0.102962  \n",
       "...        ...          ...  \n",
       "4270  0.344996     0.000000  \n",
       "4271 -0.361070     0.000000  \n",
       "4272  0.281153     0.313999  \n",
       "4273  0.220448     0.000000  \n",
       "4274  0.095183     0.000000  \n",
       "\n",
       "[4275 rows x 8 columns]"
      ]
     },
     "execution_count": 620,
     "metadata": {},
     "output_type": "execute_result"
    }
   ],
   "source": [
    "specs"
   ]
  },
  {
   "cell_type": "code",
   "execution_count": null,
   "id": "42af9617-27d5-4040-a162-5ea06b436462",
   "metadata": {},
   "outputs": [],
   "source": []
  },
  {
   "cell_type": "code",
   "execution_count": 621,
   "id": "0368d1d2-8890-488d-9e5c-0a2abfa25592",
   "metadata": {},
   "outputs": [],
   "source": [
    "n = specs.shape[0]"
   ]
  },
  {
   "cell_type": "code",
   "execution_count": 622,
   "id": "3204e0ec-3c71-4bcd-90a2-824e2b4b5cd1",
   "metadata": {},
   "outputs": [],
   "source": [
    "# Convert specs columns to ranks\n",
    "for method in _methods:\n",
    "    if method.specificity is not None:\n",
    "        if method.specificity_desc:\n",
    "            specs[method.specificity] = n - rankdata(specs[method.specificity], method='min') # change to average\n",
    "        else: \n",
    "            specs[method.specificity] = rankdata(specs[method.specificity], method='min') # change to average"
   ]
  },
  {
   "cell_type": "code",
   "execution_count": 623,
   "id": "b106a2d5-460c-4db2-ad26-35f9d4fc227c",
   "metadata": {},
   "outputs": [
    {
     "data": {
      "text/html": [
       "<div>\n",
       "<style scoped>\n",
       "    .dataframe tbody tr th:only-of-type {\n",
       "        vertical-align: middle;\n",
       "    }\n",
       "\n",
       "    .dataframe tbody tr th {\n",
       "        vertical-align: top;\n",
       "    }\n",
       "\n",
       "    .dataframe thead th {\n",
       "        text-align: right;\n",
       "    }\n",
       "</style>\n",
       "<table border=\"1\" class=\"dataframe\">\n",
       "  <thead>\n",
       "    <tr style=\"text-align: right;\">\n",
       "      <th></th>\n",
       "      <th>source</th>\n",
       "      <th>target</th>\n",
       "      <th>ligand_complex</th>\n",
       "      <th>receptor_complex</th>\n",
       "      <th>pvals</th>\n",
       "      <th>scaled_weight</th>\n",
       "      <th>lr_logfc</th>\n",
       "      <th>spec_weight</th>\n",
       "    </tr>\n",
       "  </thead>\n",
       "  <tbody>\n",
       "    <tr>\n",
       "      <th>0</th>\n",
       "      <td>B</td>\n",
       "      <td>B</td>\n",
       "      <td>LGALS9</td>\n",
       "      <td>PTPRC</td>\n",
       "      <td>1757</td>\n",
       "      <td>2166</td>\n",
       "      <td>2752</td>\n",
       "      <td>1136</td>\n",
       "    </tr>\n",
       "    <tr>\n",
       "      <th>1</th>\n",
       "      <td>B</td>\n",
       "      <td>B</td>\n",
       "      <td>CD22</td>\n",
       "      <td>PTPRC</td>\n",
       "      <td>1464</td>\n",
       "      <td>1129</td>\n",
       "      <td>2110</td>\n",
       "      <td>956</td>\n",
       "    </tr>\n",
       "    <tr>\n",
       "      <th>2</th>\n",
       "      <td>B</td>\n",
       "      <td>B</td>\n",
       "      <td>LGALS1</td>\n",
       "      <td>PTPRC</td>\n",
       "      <td>2128</td>\n",
       "      <td>4139</td>\n",
       "      <td>4200</td>\n",
       "      <td>2091</td>\n",
       "    </tr>\n",
       "    <tr>\n",
       "      <th>3</th>\n",
       "      <td>B</td>\n",
       "      <td>B</td>\n",
       "      <td>LGALS9</td>\n",
       "      <td>CD44</td>\n",
       "      <td>793</td>\n",
       "      <td>773</td>\n",
       "      <td>723</td>\n",
       "      <td>807</td>\n",
       "    </tr>\n",
       "    <tr>\n",
       "      <th>4</th>\n",
       "      <td>B</td>\n",
       "      <td>B</td>\n",
       "      <td>ADAM10</td>\n",
       "      <td>CD44</td>\n",
       "      <td>1467</td>\n",
       "      <td>2258</td>\n",
       "      <td>2740</td>\n",
       "      <td>1499</td>\n",
       "    </tr>\n",
       "    <tr>\n",
       "      <th>...</th>\n",
       "      <td>...</td>\n",
       "      <td>...</td>\n",
       "      <td>...</td>\n",
       "      <td>...</td>\n",
       "      <td>...</td>\n",
       "      <td>...</td>\n",
       "      <td>...</td>\n",
       "      <td>...</td>\n",
       "    </tr>\n",
       "    <tr>\n",
       "      <th>4270</th>\n",
       "      <td>NK</td>\n",
       "      <td>NK</td>\n",
       "      <td>CALM1</td>\n",
       "      <td>KCNN4</td>\n",
       "      <td>2128</td>\n",
       "      <td>734</td>\n",
       "      <td>569</td>\n",
       "      <td>4274</td>\n",
       "    </tr>\n",
       "    <tr>\n",
       "      <th>4271</th>\n",
       "      <td>NK</td>\n",
       "      <td>NK</td>\n",
       "      <td>PTPN6</td>\n",
       "      <td>CD300LF</td>\n",
       "      <td>2128</td>\n",
       "      <td>3363</td>\n",
       "      <td>3511</td>\n",
       "      <td>4274</td>\n",
       "    </tr>\n",
       "    <tr>\n",
       "      <th>4272</th>\n",
       "      <td>NK</td>\n",
       "      <td>NK</td>\n",
       "      <td>NUCB2</td>\n",
       "      <td>ERAP1</td>\n",
       "      <td>631</td>\n",
       "      <td>717</td>\n",
       "      <td>699</td>\n",
       "      <td>450</td>\n",
       "    </tr>\n",
       "    <tr>\n",
       "      <th>4273</th>\n",
       "      <td>NK</td>\n",
       "      <td>NK</td>\n",
       "      <td>SOCS2</td>\n",
       "      <td>EPOR</td>\n",
       "      <td>2128</td>\n",
       "      <td>1377</td>\n",
       "      <td>823</td>\n",
       "      <td>4274</td>\n",
       "    </tr>\n",
       "    <tr>\n",
       "      <th>4274</th>\n",
       "      <td>NK</td>\n",
       "      <td>NK</td>\n",
       "      <td>GDF11</td>\n",
       "      <td>ACTR2</td>\n",
       "      <td>2128</td>\n",
       "      <td>2255</td>\n",
       "      <td>1305</td>\n",
       "      <td>4274</td>\n",
       "    </tr>\n",
       "  </tbody>\n",
       "</table>\n",
       "<p>4275 rows × 8 columns</p>\n",
       "</div>"
      ],
      "text/plain": [
       "     source target ligand_complex receptor_complex  pvals  scaled_weight  \\\n",
       "0         B      B         LGALS9            PTPRC   1757           2166   \n",
       "1         B      B           CD22            PTPRC   1464           1129   \n",
       "2         B      B         LGALS1            PTPRC   2128           4139   \n",
       "3         B      B         LGALS9             CD44    793            773   \n",
       "4         B      B         ADAM10             CD44   1467           2258   \n",
       "...     ...    ...            ...              ...    ...            ...   \n",
       "4270     NK     NK          CALM1            KCNN4   2128            734   \n",
       "4271     NK     NK          PTPN6          CD300LF   2128           3363   \n",
       "4272     NK     NK          NUCB2            ERAP1    631            717   \n",
       "4273     NK     NK          SOCS2             EPOR   2128           1377   \n",
       "4274     NK     NK          GDF11            ACTR2   2128           2255   \n",
       "\n",
       "      lr_logfc  spec_weight  \n",
       "0         2752         1136  \n",
       "1         2110          956  \n",
       "2         4200         2091  \n",
       "3          723          807  \n",
       "4         2740         1499  \n",
       "...        ...          ...  \n",
       "4270       569         4274  \n",
       "4271      3511         4274  \n",
       "4272       699          450  \n",
       "4273       823         4274  \n",
       "4274      1305         4274  \n",
       "\n",
       "[4275 rows x 8 columns]"
      ]
     },
     "execution_count": 623,
     "metadata": {},
     "output_type": "execute_result"
    }
   ],
   "source": [
    "specs"
   ]
  },
  {
   "cell_type": "code",
   "execution_count": null,
   "id": "fba5274c-8936-4c3c-bf35-0e8a98bfe6dd",
   "metadata": {},
   "outputs": [],
   "source": []
  },
  {
   "cell_type": "code",
   "execution_count": 624,
   "id": "6d57d0a3-71fc-4e9a-ac62-d01b6814a947",
   "metadata": {},
   "outputs": [],
   "source": [
    "from scipy.stats import beta"
   ]
  },
  {
   "cell_type": "code",
   "execution_count": 625,
   "id": "8c6bdf0a-be59-4c93-b0c5-42a454d8ed2e",
   "metadata": {},
   "outputs": [],
   "source": [
    "def corr_beta_pvals(p, k):\n",
    "    p = np.clip(p * k, a_min=0, a_max=1)\n",
    "    return p"
   ]
  },
  {
   "cell_type": "code",
   "execution_count": null,
   "id": "cda92251-cb49-46d8-bf88-b54afecac2a4",
   "metadata": {},
   "outputs": [],
   "source": []
  },
  {
   "cell_type": "markdown",
   "id": "30904bc1-2364-4019-8728-0df4bc8ec42f",
   "metadata": {},
   "source": [
    "Mean rank"
   ]
  },
  {
   "cell_type": "code",
   "execution_count": 626,
   "id": "7a235b65-e7b0-4baf-b1f3-c541c91d0a14",
   "metadata": {},
   "outputs": [],
   "source": [
    "rmat = specs.drop(keys, axis=1).values"
   ]
  },
  {
   "cell_type": "code",
   "execution_count": 627,
   "id": "d9a8cdcd-5b02-4969-ae8c-24e4ab39cf3e",
   "metadata": {},
   "outputs": [],
   "source": [
    "shared_keys['mean_rank'] = np.mean(rmat, axis=1)"
   ]
  },
  {
   "cell_type": "code",
   "execution_count": 628,
   "id": "30f05022-d027-4e50-817a-d30f7ed015c5",
   "metadata": {},
   "outputs": [
    {
     "data": {
      "text/html": [
       "<div>\n",
       "<style scoped>\n",
       "    .dataframe tbody tr th:only-of-type {\n",
       "        vertical-align: middle;\n",
       "    }\n",
       "\n",
       "    .dataframe tbody tr th {\n",
       "        vertical-align: top;\n",
       "    }\n",
       "\n",
       "    .dataframe thead th {\n",
       "        text-align: right;\n",
       "    }\n",
       "</style>\n",
       "<table border=\"1\" class=\"dataframe\">\n",
       "  <thead>\n",
       "    <tr style=\"text-align: right;\">\n",
       "      <th></th>\n",
       "      <th>source</th>\n",
       "      <th>target</th>\n",
       "      <th>ligand_complex</th>\n",
       "      <th>receptor_complex</th>\n",
       "      <th>mean_rank</th>\n",
       "    </tr>\n",
       "  </thead>\n",
       "  <tbody>\n",
       "    <tr>\n",
       "      <th>0</th>\n",
       "      <td>B</td>\n",
       "      <td>B</td>\n",
       "      <td>LGALS9</td>\n",
       "      <td>PTPRC</td>\n",
       "      <td>1952.75</td>\n",
       "    </tr>\n",
       "    <tr>\n",
       "      <th>1</th>\n",
       "      <td>B</td>\n",
       "      <td>B</td>\n",
       "      <td>CD22</td>\n",
       "      <td>PTPRC</td>\n",
       "      <td>1414.75</td>\n",
       "    </tr>\n",
       "    <tr>\n",
       "      <th>2</th>\n",
       "      <td>B</td>\n",
       "      <td>B</td>\n",
       "      <td>LGALS1</td>\n",
       "      <td>PTPRC</td>\n",
       "      <td>3139.50</td>\n",
       "    </tr>\n",
       "    <tr>\n",
       "      <th>3</th>\n",
       "      <td>B</td>\n",
       "      <td>B</td>\n",
       "      <td>LGALS9</td>\n",
       "      <td>CD44</td>\n",
       "      <td>774.00</td>\n",
       "    </tr>\n",
       "    <tr>\n",
       "      <th>4</th>\n",
       "      <td>B</td>\n",
       "      <td>B</td>\n",
       "      <td>ADAM10</td>\n",
       "      <td>CD44</td>\n",
       "      <td>1991.00</td>\n",
       "    </tr>\n",
       "    <tr>\n",
       "      <th>...</th>\n",
       "      <td>...</td>\n",
       "      <td>...</td>\n",
       "      <td>...</td>\n",
       "      <td>...</td>\n",
       "      <td>...</td>\n",
       "    </tr>\n",
       "    <tr>\n",
       "      <th>4270</th>\n",
       "      <td>NK</td>\n",
       "      <td>NK</td>\n",
       "      <td>CALM1</td>\n",
       "      <td>KCNN4</td>\n",
       "      <td>1926.25</td>\n",
       "    </tr>\n",
       "    <tr>\n",
       "      <th>4271</th>\n",
       "      <td>NK</td>\n",
       "      <td>NK</td>\n",
       "      <td>PTPN6</td>\n",
       "      <td>CD300LF</td>\n",
       "      <td>3319.00</td>\n",
       "    </tr>\n",
       "    <tr>\n",
       "      <th>4272</th>\n",
       "      <td>NK</td>\n",
       "      <td>NK</td>\n",
       "      <td>NUCB2</td>\n",
       "      <td>ERAP1</td>\n",
       "      <td>624.25</td>\n",
       "    </tr>\n",
       "    <tr>\n",
       "      <th>4273</th>\n",
       "      <td>NK</td>\n",
       "      <td>NK</td>\n",
       "      <td>SOCS2</td>\n",
       "      <td>EPOR</td>\n",
       "      <td>2150.50</td>\n",
       "    </tr>\n",
       "    <tr>\n",
       "      <th>4274</th>\n",
       "      <td>NK</td>\n",
       "      <td>NK</td>\n",
       "      <td>GDF11</td>\n",
       "      <td>ACTR2</td>\n",
       "      <td>2490.50</td>\n",
       "    </tr>\n",
       "  </tbody>\n",
       "</table>\n",
       "<p>4275 rows × 5 columns</p>\n",
       "</div>"
      ],
      "text/plain": [
       "     source target ligand_complex receptor_complex  mean_rank\n",
       "0         B      B         LGALS9            PTPRC    1952.75\n",
       "1         B      B           CD22            PTPRC    1414.75\n",
       "2         B      B         LGALS1            PTPRC    3139.50\n",
       "3         B      B         LGALS9             CD44     774.00\n",
       "4         B      B         ADAM10             CD44    1991.00\n",
       "...     ...    ...            ...              ...        ...\n",
       "4270     NK     NK          CALM1            KCNN4    1926.25\n",
       "4271     NK     NK          PTPN6          CD300LF    3319.00\n",
       "4272     NK     NK          NUCB2            ERAP1     624.25\n",
       "4273     NK     NK          SOCS2             EPOR    2150.50\n",
       "4274     NK     NK          GDF11            ACTR2    2490.50\n",
       "\n",
       "[4275 rows x 5 columns]"
      ]
     },
     "execution_count": 628,
     "metadata": {},
     "output_type": "execute_result"
    }
   ],
   "source": [
    "shared_keys"
   ]
  },
  {
   "cell_type": "code",
   "execution_count": null,
   "id": "8150f479-2c9a-4a94-bca9-7aafae2e29f6",
   "metadata": {},
   "outputs": [],
   "source": []
  },
  {
   "cell_type": "code",
   "execution_count": null,
   "id": "05c0029c-e3d6-4933-8bf0-d68773cdbd53",
   "metadata": {},
   "outputs": [],
   "source": []
  },
  {
   "cell_type": "markdown",
   "id": "116ca18b-d6ca-45bc-8db8-c691f98b5eb1",
   "metadata": {},
   "source": [
    "Re-implement robust rank"
   ]
  },
  {
   "cell_type": "code",
   "execution_count": 629,
   "id": "8549516b-a911-4673-bfbd-53deded48007",
   "metadata": {},
   "outputs": [],
   "source": [
    "rmat = specs.drop(keys, axis=1).values / n ## DIVIDE BY THE MAX OF EACH NOT BY THE LENGTH (to deal /w min_rank stuff)"
   ]
  },
  {
   "cell_type": "code",
   "execution_count": 630,
   "id": "b500ff3d-f931-46cc-8949-88d490c4f34f",
   "metadata": {},
   "outputs": [
    {
     "data": {
      "text/plain": [
       "array([[0.41099415, 0.50666667, 0.64374269, 0.26573099],\n",
       "       [0.34245614, 0.26409357, 0.49356725, 0.22362573],\n",
       "       [0.49777778, 0.96818713, 0.98245614, 0.48912281],\n",
       "       ...,\n",
       "       [0.14760234, 0.1677193 , 0.16350877, 0.10526316],\n",
       "       [0.49777778, 0.32210526, 0.19251462, 0.99976608],\n",
       "       [0.49777778, 0.52748538, 0.30526316, 0.99976608]])"
      ]
     },
     "execution_count": 630,
     "metadata": {},
     "output_type": "execute_result"
    }
   ],
   "source": [
    "rmat"
   ]
  },
  {
   "cell_type": "code",
   "execution_count": null,
   "id": "3b96ecf1-d103-4aa1-b511-b82cd42c4585",
   "metadata": {},
   "outputs": [],
   "source": []
  },
  {
   "cell_type": "code",
   "execution_count": null,
   "id": "7f16cca1-3991-4c11-b385-6e047b8b7930",
   "metadata": {},
   "outputs": [],
   "source": []
  },
  {
   "cell_type": "code",
   "execution_count": 633,
   "id": "e8d90058-c44e-4758-a716-0a7378a6b1f9",
   "metadata": {},
   "outputs": [],
   "source": [
    "dist_a = np.repeat([np.arange(rmat.shape[1])], rmat.shape[0], axis=0) + 1"
   ]
  },
  {
   "cell_type": "code",
   "execution_count": 634,
   "id": "de926303-e290-4c42-821e-7a7884e57188",
   "metadata": {},
   "outputs": [],
   "source": [
    "dist_b = rmat.shape[1] - dist_a + 1"
   ]
  },
  {
   "cell_type": "code",
   "execution_count": null,
   "id": "36256f4b-7db4-42bc-b91e-029262baebcf",
   "metadata": {},
   "outputs": [],
   "source": []
  },
  {
   "cell_type": "code",
   "execution_count": 632,
   "id": "809d35cd-6de6-4fdb-a3b4-21c8b4a862eb",
   "metadata": {},
   "outputs": [
    {
     "data": {
      "text/plain": [
       "0.23738066178566333"
      ]
     },
     "execution_count": 632,
     "metadata": {},
     "output_type": "execute_result"
    }
   ],
   "source": [
    "corr_beta_pvals(np.min(beta.cdf(np.sort(rmat[1]), dist_a[1], dist_b[1]), axis=0), k = rmat.shape[1])"
   ]
  },
  {
   "cell_type": "code",
   "execution_count": null,
   "id": "8b4e56ba-3e9f-4df2-be7e-ad271eaa4ed3",
   "metadata": {},
   "outputs": [],
   "source": []
  },
  {
   "cell_type": "code",
   "execution_count": 636,
   "id": "26fb6fc6-e4be-40d5-9c39-c67f02c5b426",
   "metadata": {},
   "outputs": [],
   "source": [
    "p = beta.cdf(np.sort(rmat, axis=1), dist_a, dist_b)"
   ]
  },
  {
   "cell_type": "code",
   "execution_count": 637,
   "id": "bd07256b-58c2-4e11-aebb-d850e991ae18",
   "metadata": {},
   "outputs": [
    {
     "data": {
      "text/plain": [
       "array([[7.09316228e-01, 5.43706659e-01, 3.22566068e-01, 1.71731215e-01],\n",
       "       [6.36683992e-01, 2.85711223e-01, 1.19386703e-01, 5.93451654e-02],\n",
       "       [9.31881346e-01, 6.84159281e-01, 9.94182149e-01, 9.31649779e-01],\n",
       "       ...,\n",
       "       [3.59113266e-01, 1.06416803e-01, 1.53414059e-02, 7.91283567e-04],\n",
       "       [5.74853438e-01, 3.87452104e-01, 3.09174096e-01, 9.99064656e-01],\n",
       "       [7.67040020e-01, 6.84159281e-01, 3.54818000e-01, 9.99064656e-01]])"
      ]
     },
     "execution_count": 637,
     "metadata": {},
     "output_type": "execute_result"
    }
   ],
   "source": [
    "p"
   ]
  },
  {
   "cell_type": "code",
   "execution_count": 649,
   "id": "386f86b3-e93a-4596-b7ad-064ecdda5ef5",
   "metadata": {},
   "outputs": [],
   "source": [
    "rho = corr_beta_pvals(np.min(p, axis=1), k = rmat.shape[1])"
   ]
  },
  {
   "cell_type": "code",
   "execution_count": 650,
   "id": "28d0e297-1478-46c8-9fe4-5562b4010c1d",
   "metadata": {},
   "outputs": [
    {
     "data": {
      "text/plain": [
       "array([0.68692486, 0.23738066, 1.        , ..., 0.00316513, 1.        ,\n",
       "       1.        ])"
      ]
     },
     "execution_count": 650,
     "metadata": {},
     "output_type": "execute_result"
    }
   ],
   "source": [
    "rho"
   ]
  },
  {
   "cell_type": "code",
   "execution_count": null,
   "id": "2b2cf00a-ab1a-4f2e-9da9-2f95f46ed5d4",
   "metadata": {},
   "outputs": [],
   "source": []
  },
  {
   "cell_type": "code",
   "execution_count": 651,
   "id": "1531d0d2-1e9b-4eda-951c-eaf472d5b846",
   "metadata": {},
   "outputs": [],
   "source": [
    "shared_keys['aggregate_rank'] = rho"
   ]
  },
  {
   "cell_type": "code",
   "execution_count": 652,
   "id": "70959fc1-4832-4cdb-a9cd-d792c8168ac8",
   "metadata": {},
   "outputs": [
    {
     "data": {
      "text/html": [
       "<div>\n",
       "<style scoped>\n",
       "    .dataframe tbody tr th:only-of-type {\n",
       "        vertical-align: middle;\n",
       "    }\n",
       "\n",
       "    .dataframe tbody tr th {\n",
       "        vertical-align: top;\n",
       "    }\n",
       "\n",
       "    .dataframe thead th {\n",
       "        text-align: right;\n",
       "    }\n",
       "</style>\n",
       "<table border=\"1\" class=\"dataframe\">\n",
       "  <thead>\n",
       "    <tr style=\"text-align: right;\">\n",
       "      <th></th>\n",
       "      <th>source</th>\n",
       "      <th>target</th>\n",
       "      <th>ligand_complex</th>\n",
       "      <th>receptor_complex</th>\n",
       "      <th>mean_rank</th>\n",
       "      <th>aggregate_rank</th>\n",
       "    </tr>\n",
       "  </thead>\n",
       "  <tbody>\n",
       "    <tr>\n",
       "      <th>3107</th>\n",
       "      <td>B</td>\n",
       "      <td>NK</td>\n",
       "      <td>COL18A1</td>\n",
       "      <td>ITGA5</td>\n",
       "      <td>378.25</td>\n",
       "      <td>0.002356</td>\n",
       "    </tr>\n",
       "    <tr>\n",
       "      <th>1682</th>\n",
       "      <td>B</td>\n",
       "      <td>CD8 T</td>\n",
       "      <td>COL18A1</td>\n",
       "      <td>ITGA5</td>\n",
       "      <td>1066.75</td>\n",
       "      <td>0.066836</td>\n",
       "    </tr>\n",
       "    <tr>\n",
       "      <th>3582</th>\n",
       "      <td>CD8 T</td>\n",
       "      <td>NK</td>\n",
       "      <td>COL18A1</td>\n",
       "      <td>ITGA5</td>\n",
       "      <td>2229.25</td>\n",
       "      <td>1.000000</td>\n",
       "    </tr>\n",
       "    <tr>\n",
       "      <th>4057</th>\n",
       "      <td>NK</td>\n",
       "      <td>NK</td>\n",
       "      <td>COL18A1</td>\n",
       "      <td>ITGA5</td>\n",
       "      <td>2229.25</td>\n",
       "      <td>1.000000</td>\n",
       "    </tr>\n",
       "    <tr>\n",
       "      <th>257</th>\n",
       "      <td>B</td>\n",
       "      <td>B</td>\n",
       "      <td>COL18A1</td>\n",
       "      <td>ITGA5</td>\n",
       "      <td>2602.50</td>\n",
       "      <td>1.000000</td>\n",
       "    </tr>\n",
       "    <tr>\n",
       "      <th>2157</th>\n",
       "      <td>CD8 T</td>\n",
       "      <td>CD8 T</td>\n",
       "      <td>COL18A1</td>\n",
       "      <td>ITGA5</td>\n",
       "      <td>2964.50</td>\n",
       "      <td>1.000000</td>\n",
       "    </tr>\n",
       "    <tr>\n",
       "      <th>2632</th>\n",
       "      <td>NK</td>\n",
       "      <td>CD8 T</td>\n",
       "      <td>COL18A1</td>\n",
       "      <td>ITGA5</td>\n",
       "      <td>2964.50</td>\n",
       "      <td>1.000000</td>\n",
       "    </tr>\n",
       "    <tr>\n",
       "      <th>732</th>\n",
       "      <td>CD8 T</td>\n",
       "      <td>B</td>\n",
       "      <td>COL18A1</td>\n",
       "      <td>ITGA5</td>\n",
       "      <td>3276.75</td>\n",
       "      <td>1.000000</td>\n",
       "    </tr>\n",
       "    <tr>\n",
       "      <th>1207</th>\n",
       "      <td>NK</td>\n",
       "      <td>B</td>\n",
       "      <td>COL18A1</td>\n",
       "      <td>ITGA5</td>\n",
       "      <td>3276.75</td>\n",
       "      <td>1.000000</td>\n",
       "    </tr>\n",
       "  </tbody>\n",
       "</table>\n",
       "</div>"
      ],
      "text/plain": [
       "     source target ligand_complex receptor_complex  mean_rank  aggregate_rank\n",
       "3107      B     NK        COL18A1            ITGA5     378.25        0.002356\n",
       "1682      B  CD8 T        COL18A1            ITGA5    1066.75        0.066836\n",
       "3582  CD8 T     NK        COL18A1            ITGA5    2229.25        1.000000\n",
       "4057     NK     NK        COL18A1            ITGA5    2229.25        1.000000\n",
       "257       B      B        COL18A1            ITGA5    2602.50        1.000000\n",
       "2157  CD8 T  CD8 T        COL18A1            ITGA5    2964.50        1.000000\n",
       "2632     NK  CD8 T        COL18A1            ITGA5    2964.50        1.000000\n",
       "732   CD8 T      B        COL18A1            ITGA5    3276.75        1.000000\n",
       "1207     NK      B        COL18A1            ITGA5    3276.75        1.000000"
      ]
     },
     "execution_count": 652,
     "metadata": {},
     "output_type": "execute_result"
    }
   ],
   "source": [
    "shared_keys[(shared_keys['ligand_complex']=='COL18A1') & (shared_keys['receptor_complex']=='ITGA5') ].sort_values('mean_rank')"
   ]
  },
  {
   "cell_type": "code",
   "execution_count": null,
   "id": "71df2afd-5c71-4649-b7e7-1d12a917d8df",
   "metadata": {},
   "outputs": [],
   "source": []
  },
  {
   "cell_type": "code",
   "execution_count": 653,
   "id": "320cfa60-d3a7-490d-8b9d-a9a2983dcdcb",
   "metadata": {},
   "outputs": [
    {
     "data": {
      "text/html": [
       "<div>\n",
       "<style scoped>\n",
       "    .dataframe tbody tr th:only-of-type {\n",
       "        vertical-align: middle;\n",
       "    }\n",
       "\n",
       "    .dataframe tbody tr th {\n",
       "        vertical-align: top;\n",
       "    }\n",
       "\n",
       "    .dataframe thead th {\n",
       "        text-align: right;\n",
       "    }\n",
       "</style>\n",
       "<table border=\"1\" class=\"dataframe\">\n",
       "  <thead>\n",
       "    <tr style=\"text-align: right;\">\n",
       "      <th></th>\n",
       "      <th>source</th>\n",
       "      <th>target</th>\n",
       "      <th>ligand_complex</th>\n",
       "      <th>receptor_complex</th>\n",
       "      <th>mean_rank</th>\n",
       "      <th>aggregate_rank</th>\n",
       "    </tr>\n",
       "  </thead>\n",
       "  <tbody>\n",
       "    <tr>\n",
       "      <th>1584</th>\n",
       "      <td>B</td>\n",
       "      <td>CD8 T</td>\n",
       "      <td>HLA-DRA</td>\n",
       "      <td>LAG3</td>\n",
       "      <td>13.25</td>\n",
       "      <td>0.0</td>\n",
       "    </tr>\n",
       "  </tbody>\n",
       "</table>\n",
       "</div>"
      ],
      "text/plain": [
       "     source target ligand_complex receptor_complex  mean_rank  aggregate_rank\n",
       "1584      B  CD8 T        HLA-DRA             LAG3      13.25             0.0"
      ]
     },
     "execution_count": 653,
     "metadata": {},
     "output_type": "execute_result"
    }
   ],
   "source": [
    "shared_keys[shared_keys['aggregate_rank']==0]"
   ]
  },
  {
   "cell_type": "code",
   "execution_count": null,
   "id": "a3b869b7-958d-4a02-bc53-3108527634d6",
   "metadata": {},
   "outputs": [],
   "source": [
    "shared_keys.sort_values('aggregate_rank')"
   ]
  },
  {
   "cell_type": "code",
   "execution_count": null,
   "id": "73f13a4c-a296-48d8-9924-4c6ff4e7fa79",
   "metadata": {},
   "outputs": [],
   "source": []
  },
  {
   "cell_type": "code",
   "execution_count": null,
   "id": "42c7a45d-d974-4dc6-b4b9-12697ed18c96",
   "metadata": {},
   "outputs": [],
   "source": []
  },
  {
   "cell_type": "code",
   "execution_count": null,
   "id": "65a94cd7-a7a7-4e4a-97f7-a7f838a7f1a2",
   "metadata": {
    "tags": []
   },
   "outputs": [],
   "source": [
    "def beta_scores(rmat):\n",
    "    rmat = np.sort(rmat, axis=0)\n",
    "    n = rmat.shape[0]\n",
    "    dist_a = np.repeat([np.repeat([np.arange(n)], rmat.shape[1], axis=0)], rmat.shape[2], axis=0).T + 1\n",
    "    dist_b = n - dist_a + 1\n",
    "    p = beta.cdf(np.sort(rmat, axis=0), dist_a, dist_b)\n",
    "    return p\n"
   ]
  },
  {
   "cell_type": "code",
   "execution_count": null,
   "id": "3c2856b6-a317-499b-bf37-503ec9389199",
   "metadata": {},
   "outputs": [],
   "source": []
  },
  {
   "cell_type": "code",
   "execution_count": null,
   "id": "eaa6cecd-03ce-46f2-8293-54bacd70fb15",
   "metadata": {},
   "outputs": [],
   "source": []
  },
  {
   "cell_type": "code",
   "execution_count": null,
   "id": "45475145-6f77-4fe7-a12d-8ab1b0f2a8f6",
   "metadata": {},
   "outputs": [],
   "source": [
    "import numpy as np\n",
    "import pandas as pd\n",
    "\n",
    "from numpy.random import default_rng\n",
    "\n",
    "from scipy.stats import beta\n",
    "\n",
    "\n",
    "def beta_scores(rmat):\n",
    "    rmat = np.sort(rmat, axis=0)\n",
    "    n = rmat.shape[0]\n",
    "    dist_a = np.repeat([np.repeat([np.arange(n)], rmat.shape[1], axis=0)], rmat.shape[2], axis=0).T + 1\n",
    "    dist_b = n - dist_a + 1\n",
    "    p = beta.cdf(np.sort(rmat, axis=0), dist_a, dist_b)\n",
    "    return p\n",
    "\n",
    "\n",
    "def corr_beta_pvals(p, k):\n",
    "    p = np.clip(p * k, a_min=0, a_max=1)\n",
    "    return p"
   ]
  },
  {
   "cell_type": "code",
   "execution_count": null,
   "id": "4b5d4d36-51b8-40c8-9a53-e68b28163811",
   "metadata": {},
   "outputs": [],
   "source": []
  },
  {
   "cell_type": "code",
   "execution_count": null,
   "id": "f39b48ba-54ec-46d2-8175-42a29731247b",
   "metadata": {},
   "outputs": [],
   "source": []
  },
  {
   "cell_type": "code",
   "execution_count": null,
   "id": "714c634e-6258-4f65-b690-6adb2b34d316",
   "metadata": {},
   "outputs": [],
   "source": []
  },
  {
   "cell_type": "code",
   "execution_count": null,
   "id": "f6db115a-64fc-4dc3-a0c0-d2c72748e1f1",
   "metadata": {},
   "outputs": [],
   "source": []
  },
  {
   "cell_type": "code",
   "execution_count": null,
   "id": "d5be3f7d-2fd0-485f-ae3f-d6351ab786a5",
   "metadata": {},
   "outputs": [],
   "source": [
    "for method in _methods:\n",
    "    if method.specificity is not None:\n",
    "        # relevant_cols = [x for x in keys + [method.specificity, method.magnitude] if x is not None]\n",
    "        lr = lr_res[method.method_name][keys + [method.specificity]]\n",
    "        # discard any duplicates\n",
    "        # this occurs when e.g. multiple subunits with expr. of 0 exist\n",
    "        lr = lr.drop_duplicates(keep='first')\n",
    "        lr_ranks[method.method_name] = lr\n",
    "        # order = array.argsort()\n",
    "        # ranks = order.argsort()\n",
    "        # lr_ranks[method.method_name] = ranks\n"
   ]
  },
  {
   "cell_type": "code",
   "execution_count": null,
   "id": "c518c619-4426-4b20-8ac7-0356a5213380",
   "metadata": {},
   "outputs": [],
   "source": [
    "joined = reduce(lambda left, right: pd.merge(left, right, how='outer', on=keys), lr_ranks.values())\n",
    "specs = joined[['pvals', 'scaled_weight', 'lr_logfc', 'spec_weight']].values.T"
   ]
  },
  {
   "cell_type": "code",
   "execution_count": null,
   "id": "e6ce439a-3910-4b2d-b2de-35228de5e8a7",
   "metadata": {},
   "outputs": [],
   "source": [
    "# Rank thing\n",
    "rmat1 = ((specs.shape[1] - np.argsort(np.argsort(specs))) / (specs.shape[1])).T"
   ]
  },
  {
   "cell_type": "code",
   "execution_count": null,
   "id": "1a74d109-38c3-4191-8efd-2a82258d21b7",
   "metadata": {},
   "outputs": [],
   "source": [
    "rmat"
   ]
  },
  {
   "cell_type": "code",
   "execution_count": null,
   "id": "fb6b8342-1e13-499c-b0e0-79c7e75729a6",
   "metadata": {},
   "outputs": [],
   "source": []
  },
  {
   "cell_type": "code",
   "execution_count": null,
   "id": "d5fea6c0-eab3-4d30-b362-a119f4af3419",
   "metadata": {},
   "outputs": [],
   "source": []
  },
  {
   "cell_type": "code",
   "execution_count": null,
   "id": "13f8eced-34c2-4410-b597-bebd8ac9241d",
   "metadata": {},
   "outputs": [],
   "source": [
    "# Desc:True/False; Method_name:Score, specificity, magnitude, steady (specificity + sca)"
   ]
  },
  {
   "cell_type": "code",
   "execution_count": null,
   "id": "0963fa13-985e-4ac0-9661-039423b23d3a",
   "metadata": {},
   "outputs": [],
   "source": []
  },
  {
   "cell_type": "code",
   "execution_count": null,
   "id": "046c78bb-c9b9-4a02-84b2-3f434cbe452e",
   "metadata": {},
   "outputs": [],
   "source": []
  },
  {
   "cell_type": "code",
   "execution_count": null,
   "id": "eacf65ca-844c-462e-85e7-bc097371e114",
   "metadata": {},
   "outputs": [],
   "source": [
    "lr_ranks={}"
   ]
  },
  {
   "cell_type": "code",
   "execution_count": null,
   "id": "75585ea9-4753-4982-99b7-2998171275b0",
   "metadata": {},
   "outputs": [],
   "source": [
    "for method in _methods:\n",
    "    if method.magnitude is not None:\n",
    "        # relevant_cols = [x for x in keys + [method.specificity, method.magnitude] if x is not None]\n",
    "        lr = lr_res[method.method_name][keys + [method.magnitude]]\n",
    "        # discard any duplicates\n",
    "        # this occurs when e.g. multiple subunits with expr. of 0 exist\n",
    "        lr = lr.drop_duplicates(keep='first')\n",
    "        lr_ranks[method.method_name] = lr\n",
    "        # order = array.argsort()\n",
    "        # ranks = order.argsort()\n",
    "        # lr_ranks[method.method_name] = ranks"
   ]
  },
  {
   "cell_type": "code",
   "execution_count": null,
   "id": "e82f3980-c5b3-4aaf-9c97-c5d32333e164",
   "metadata": {},
   "outputs": [],
   "source": [
    "joined = reduce(lambda left, right: pd.merge(left, right, how='outer', on=keys), lr_ranks.values())"
   ]
  },
  {
   "cell_type": "code",
   "execution_count": null,
   "id": "1d048812-ceb5-4912-8b85-6293cd191e1e",
   "metadata": {},
   "outputs": [],
   "source": []
  },
  {
   "cell_type": "code",
   "execution_count": null,
   "id": "38e14cc6-e52b-4caf-a848-e14b9c57069d",
   "metadata": {},
   "outputs": [],
   "source": [
    "joined # issue with non-unique: should iterateve over unique scores, not methods"
   ]
  },
  {
   "cell_type": "code",
   "execution_count": null,
   "id": "4e0fea35-e740-467b-a242-bce93f6be287",
   "metadata": {},
   "outputs": [],
   "source": []
  },
  {
   "cell_type": "code",
   "execution_count": null,
   "id": "38a1e673-0901-427a-ae30-3dfadf3cbe0e",
   "metadata": {},
   "outputs": [],
   "source": [
    "mags = joined[['lr_means_x', 'expr_prod_x', 'expr_prod_y','lr_means_y']].values.T\n",
    "# Rank thing\n",
    "rmat2 = ((mags.shape[1] - np.argsort(np.argsort(mags))) / (mags.shape[1])).T"
   ]
  },
  {
   "cell_type": "code",
   "execution_count": null,
   "id": "0fcc0d09-1f69-419e-92f6-8f05b74621aa",
   "metadata": {},
   "outputs": [],
   "source": []
  },
  {
   "cell_type": "code",
   "execution_count": null,
   "id": "0931bec9-949d-46d4-bb40-3c973f699e1f",
   "metadata": {},
   "outputs": [],
   "source": [
    "rmat = np.sort(rmat, axis=0)\n",
    "n = rmat.shape[0]"
   ]
  },
  {
   "cell_type": "code",
   "execution_count": null,
   "id": "2841a9cd-7e48-4b26-9d45-4f7da2e7ea9e",
   "metadata": {},
   "outputs": [],
   "source": []
  },
  {
   "cell_type": "code",
   "execution_count": null,
   "id": "d14cdb8c-7bde-4992-bc9c-c90927080037",
   "metadata": {},
   "outputs": [],
   "source": [
    "np.repeat(np.empty(1), 100)"
   ]
  },
  {
   "cell_type": "code",
   "execution_count": null,
   "id": "dabdba6b-a5ad-4b91-8497-4e8e743bf9a9",
   "metadata": {},
   "outputs": [],
   "source": []
  },
  {
   "cell_type": "code",
   "execution_count": null,
   "id": "fd95d4ff-ccdb-4c7c-82d6-8b707e18b907",
   "metadata": {},
   "outputs": [],
   "source": [
    "?np.repeat"
   ]
  },
  {
   "cell_type": "code",
   "execution_count": null,
   "id": "edbd041f-8725-4683-b37b-70a55d06c6c9",
   "metadata": {},
   "outputs": [],
   "source": []
  },
  {
   "cell_type": "code",
   "execution_count": null,
   "id": "c30f1de9-77ba-42e2-ac5d-3185c3ef6655",
   "metadata": {},
   "outputs": [],
   "source": []
  },
  {
   "cell_type": "code",
   "execution_count": null,
   "id": "c4eb3258-342a-4386-8583-64c77c7d9700",
   "metadata": {},
   "outputs": [],
   "source": [
    "any(lr_res['CellPhoneDB'][keys].duplicated())"
   ]
  },
  {
   "cell_type": "code",
   "execution_count": null,
   "id": "40a1b00f-409f-475f-8e29-07613a4c587f",
   "metadata": {},
   "outputs": [],
   "source": [
    "any(joined.duplicated())"
   ]
  },
  {
   "cell_type": "code",
   "execution_count": null,
   "id": "32eecc20-3abb-417f-92b0-739423035998",
   "metadata": {},
   "outputs": [],
   "source": []
  },
  {
   "cell_type": "code",
   "execution_count": null,
   "id": "c1e7b14d-5309-4184-9a05-1bf87ece6d9b",
   "metadata": {},
   "outputs": [],
   "source": []
  },
  {
   "cell_type": "code",
   "execution_count": null,
   "id": "51b554d6-5e4f-45ea-8442-18d25872094b",
   "metadata": {},
   "outputs": [],
   "source": [
    "lr_ranks['CellPhoneDB'][lr_ranks['CellPhoneDB'][keys].duplicated()]"
   ]
  },
  {
   "cell_type": "code",
   "execution_count": null,
   "id": "08828082-0d0d-4eac-a49c-72f34f9e2ac3",
   "metadata": {},
   "outputs": [],
   "source": []
  },
  {
   "cell_type": "code",
   "execution_count": null,
   "id": "aed1a365-71fd-426c-81fc-7e8619da78d8",
   "metadata": {},
   "outputs": [],
   "source": []
  },
  {
   "cell_type": "code",
   "execution_count": null,
   "id": "c331cb17-e0d6-44d7-8719-7a06ec063179",
   "metadata": {},
   "outputs": [],
   "source": []
  },
  {
   "cell_type": "code",
   "execution_count": null,
   "id": "8968a28f-401d-49c7-a579-432edeb9312c",
   "metadata": {},
   "outputs": [],
   "source": [
    "any(joined.duplicated())"
   ]
  },
  {
   "cell_type": "code",
   "execution_count": null,
   "id": "4b51b406-5774-4fb6-a46a-a4efa9478639",
   "metadata": {},
   "outputs": [],
   "source": []
  },
  {
   "cell_type": "code",
   "execution_count": null,
   "id": "eb525524-38ec-48e9-9a4b-1b1d5d8ea877",
   "metadata": {},
   "outputs": [],
   "source": [
    "joined.drop_duplicates(keep='first', inplace=False)"
   ]
  },
  {
   "cell_type": "code",
   "execution_count": null,
   "id": "7e0e1232-2953-4e91-ac15-4d0f03dd191d",
   "metadata": {},
   "outputs": [],
   "source": [
    "joined"
   ]
  },
  {
   "cell_type": "code",
   "execution_count": null,
   "id": "57e366c2-3ac2-4d05-abc3-4232dda759c0",
   "metadata": {},
   "outputs": [],
   "source": []
  },
  {
   "cell_type": "code",
   "execution_count": null,
   "id": "54107f1f-7fd9-4172-9d87-584775f5e1b4",
   "metadata": {},
   "outputs": [],
   "source": [
    "lr_res['CellPhoneDB']['x'] = 1"
   ]
  },
  {
   "cell_type": "code",
   "execution_count": null,
   "id": "dfbbc16d-4250-4716-a25f-b4c6eadedece",
   "metadata": {},
   "outputs": [],
   "source": []
  },
  {
   "cell_type": "code",
   "execution_count": null,
   "id": "939eb5d7-4ec3-4276-9815-113b2eca3da4",
   "metadata": {},
   "outputs": [],
   "source": [
    "all(joined.merge(lr_res['CellPhoneDB'], how='left')['x']==1)"
   ]
  },
  {
   "cell_type": "code",
   "execution_count": null,
   "id": "f9342d88-4edf-41ea-a7e9-f974094a242d",
   "metadata": {},
   "outputs": [],
   "source": []
  },
  {
   "cell_type": "code",
   "execution_count": null,
   "id": "b36d14f3-e75c-421f-afcd-0bd21b2a232c",
   "metadata": {},
   "outputs": [],
   "source": [
    "any(lr_res['CellPhoneDB'].duplicated())"
   ]
  },
  {
   "cell_type": "code",
   "execution_count": null,
   "id": "511668b3-0e52-4176-b18a-4145aab6616e",
   "metadata": {},
   "outputs": [],
   "source": []
  },
  {
   "cell_type": "code",
   "execution_count": null,
   "id": "6ed43849-cc75-4454-a4cc-46ef3563aa1e",
   "metadata": {},
   "outputs": [],
   "source": [
    "joined[joined[keys].duplicated()]"
   ]
  },
  {
   "cell_type": "code",
   "execution_count": null,
   "id": "1407b38a-072c-4416-b34b-d58ceef339f1",
   "metadata": {},
   "outputs": [],
   "source": []
  },
  {
   "cell_type": "code",
   "execution_count": null,
   "id": "3f8f27af-2697-4d7d-bcdc-4cc0b4d688e8",
   "metadata": {},
   "outputs": [],
   "source": []
  },
  {
   "cell_type": "code",
   "execution_count": null,
   "id": "144d1b87-d205-46e7-9cd3-f82d3c07f308",
   "metadata": {},
   "outputs": [],
   "source": [
    "any(np.isnan(joined['scaled_weight']))"
   ]
  },
  {
   "cell_type": "code",
   "execution_count": null,
   "id": "11f720f8-f2fd-47e9-ab40-a0efa2d19958",
   "metadata": {},
   "outputs": [],
   "source": []
  },
  {
   "cell_type": "code",
   "execution_count": null,
   "id": "2d5d8fbc-aeb0-4514-952c-913337d340df",
   "metadata": {},
   "outputs": [],
   "source": []
  },
  {
   "cell_type": "code",
   "execution_count": null,
   "id": "9e62386a-bf7e-4816-aa0d-5a18afc3209d",
   "metadata": {},
   "outputs": [],
   "source": []
  },
  {
   "cell_type": "code",
   "execution_count": null,
   "id": "a90b1beb-6d8b-4eed-9e0c-d4c8b025bad3",
   "metadata": {},
   "outputs": [],
   "source": [
    "lr_ranks.values"
   ]
  },
  {
   "cell_type": "code",
   "execution_count": null,
   "id": "fa811f3b-73e6-45df-b9dc-d43de66fa48f",
   "metadata": {},
   "outputs": [],
   "source": []
  },
  {
   "cell_type": "code",
   "execution_count": null,
   "id": "4f580c4f-178e-42bd-8f28-f1eebbc657d0",
   "metadata": {},
   "outputs": [],
   "source": []
  },
  {
   "cell_type": "code",
   "execution_count": null,
   "id": "39c7ff5a-289f-4ab7-808b-ef449252ee1d",
   "metadata": {},
   "outputs": [],
   "source": [
    "lr_ranks['CellPhoneDB']"
   ]
  },
  {
   "cell_type": "code",
   "execution_count": null,
   "id": "698938fa-bc3d-4aa5-9f3c-364a5b85661e",
   "metadata": {},
   "outputs": [],
   "source": []
  },
  {
   "cell_type": "code",
   "execution_count": null,
   "id": "0437ad08-7bd9-4c1f-902d-075b726d02db",
   "metadata": {},
   "outputs": [],
   "source": []
  },
  {
   "cell_type": "code",
   "execution_count": null,
   "id": "d7304d2d-60d3-4d50-85f9-ebe8fb39ca70",
   "metadata": {},
   "outputs": [],
   "source": []
  },
  {
   "cell_type": "code",
   "execution_count": null,
   "id": "6706ec2e-7a44-4692-ba7a-e9cef5cf9fde",
   "metadata": {},
   "outputs": [],
   "source": []
  },
  {
   "cell_type": "code",
   "execution_count": null,
   "id": "f808c546-d4d4-414d-8804-389649f4a94f",
   "metadata": {},
   "outputs": [],
   "source": []
  },
  {
   "cell_type": "code",
   "execution_count": null,
   "id": "612d3807-f646-4947-9d56-cc92582a8e45",
   "metadata": {},
   "outputs": [],
   "source": [
    "lr_ranks = {}"
   ]
  },
  {
   "cell_type": "code",
   "execution_count": null,
   "id": "0ad68687-e022-4951-acd2-c703ba19a312",
   "metadata": {},
   "outputs": [],
   "source": [
    "np.zeros([5, 1000, 1000])"
   ]
  },
  {
   "cell_type": "code",
   "execution_count": null,
   "id": "3d45c597-2c7f-4961-bcab-86c341c2bac8",
   "metadata": {},
   "outputs": [],
   "source": []
  },
  {
   "cell_type": "code",
   "execution_count": null,
   "id": "ab6337e5-809c-4769-b45a-30c1d7375eb2",
   "metadata": {},
   "outputs": [],
   "source": []
  },
  {
   "cell_type": "code",
   "execution_count": null,
   "id": "ac3d5dad-23b3-4270-b3a8-81bc7e57e0f7",
   "metadata": {},
   "outputs": [],
   "source": [
    "for method in _methods:\n",
    "    if method.specificity is not None:\n",
    "        lr_ranks['specs'][method.method_name] = lr_res[method.method_name][method.specificity].values\n",
    "    if method.magnitude is not None:\n",
    "        lr_ranks['mags'][method.method_name] = lr_res[method.method_name][method.specificity].values"
   ]
  },
  {
   "cell_type": "code",
   "execution_count": null,
   "id": "849fb0d7-1c1b-4a79-8ae7-1c7ffc0e8d7d",
   "metadata": {},
   "outputs": [],
   "source": [
    "lr_ranks"
   ]
  },
  {
   "cell_type": "code",
   "execution_count": null,
   "id": "2740de10-1b90-4425-9700-c03cf1ba46bd",
   "metadata": {},
   "outputs": [],
   "source": []
  },
  {
   "cell_type": "code",
   "execution_count": null,
   "id": "83e172e8-56c8-4034-ab2d-58db4a2a8674",
   "metadata": {},
   "outputs": [],
   "source": [
    "l"
   ]
  },
  {
   "cell_type": "code",
   "execution_count": null,
   "id": "42fa7d59-96e4-4557-b5a0-687b958b2137",
   "metadata": {},
   "outputs": [],
   "source": []
  },
  {
   "cell_type": "code",
   "execution_count": null,
   "id": "7219a335-dedc-4146-90e5-4e84da9999c5",
   "metadata": {},
   "outputs": [],
   "source": []
  },
  {
   "cell_type": "code",
   "execution_count": null,
   "id": "6625c69d-69fd-412a-b692-28d1b502cd60",
   "metadata": {},
   "outputs": [],
   "source": []
  },
  {
   "cell_type": "code",
   "execution_count": null,
   "id": "3a03808a-6192-4632-b0e2-a01c432cff62",
   "metadata": {},
   "outputs": [],
   "source": []
  },
  {
   "cell_type": "code",
   "execution_count": null,
   "id": "63ca7251-effe-48cd-bd43-36f14b040318",
   "metadata": {},
   "outputs": [],
   "source": []
  },
  {
   "cell_type": "code",
   "execution_count": null,
   "id": "c3f48fcb-1a83-4c0f-8d03-8b26dca618fe",
   "metadata": {},
   "outputs": [],
   "source": []
  },
  {
   "cell_type": "code",
   "execution_count": null,
   "id": "58b97d49-2636-4604-ac09-7319257f4bcb",
   "metadata": {},
   "outputs": [],
   "source": []
  },
  {
   "cell_type": "markdown",
   "id": "81286b5b-869d-4c45-a57c-4ab6d3fb39a5",
   "metadata": {
    "tags": []
   },
   "source": [
    "## Each Method"
   ]
  },
  {
   "cell_type": "markdown",
   "id": "bbc202fb-8b2a-4659-821f-b52a2f957269",
   "metadata": {},
   "source": [
    "CellPhoneDB"
   ]
  },
  {
   "cell_type": "code",
   "execution_count": null,
   "id": "f34a6a93-f823-4c50-a716-6d9f7aa873a2",
   "metadata": {},
   "outputs": [],
   "source": [
    "from liana import cellphonedb"
   ]
  },
  {
   "cell_type": "code",
   "execution_count": null,
   "id": "ae10eb86-43f0-49eb-a2ce-bc4ef2b4a030",
   "metadata": {},
   "outputs": [],
   "source": [
    "%%time\n",
    "adata = cellphonedb(adata, groupby='label', n_perms=1000)"
   ]
  },
  {
   "cell_type": "code",
   "execution_count": null,
   "id": "5da48042-4f6a-463f-9900-35cf075e8157",
   "metadata": {},
   "outputs": [],
   "source": [
    "lr_res = adata.uns['liana_res']"
   ]
  },
  {
   "cell_type": "code",
   "execution_count": null,
   "id": "5fe86072-35f7-488d-8902-edb88dbea50c",
   "metadata": {},
   "outputs": [],
   "source": [
    "lr_res[lr_res['receptor_complex']=='CD8A_CD8B']"
   ]
  },
  {
   "cell_type": "code",
   "execution_count": null,
   "id": "05070b28-53a6-457f-b8ee-f776ccde22e6",
   "metadata": {},
   "outputs": [],
   "source": []
  },
  {
   "cell_type": "code",
   "execution_count": null,
   "id": "6fadac1c-d620-45be-9659-d863ec129fad",
   "metadata": {},
   "outputs": [],
   "source": []
  },
  {
   "cell_type": "markdown",
   "id": "ac370eac-2c34-462b-a84a-f571c6627e4b",
   "metadata": {},
   "source": [
    "NATMI"
   ]
  },
  {
   "cell_type": "code",
   "execution_count": null,
   "id": "2a67dd14-3e89-40fa-a6d1-a27d9acaba59",
   "metadata": {},
   "outputs": [],
   "source": [
    "from liana import natmi"
   ]
  },
  {
   "cell_type": "code",
   "execution_count": null,
   "id": "bb3017ab-1d8e-4704-9012-2bceb959dc13",
   "metadata": {},
   "outputs": [],
   "source": [
    "adata = natmi(adata, groupby='label')"
   ]
  },
  {
   "cell_type": "code",
   "execution_count": null,
   "id": "7e53c204-d252-4d19-aa94-20d19e9e41f1",
   "metadata": {},
   "outputs": [],
   "source": [
    "adata.uns['liana_res']"
   ]
  },
  {
   "cell_type": "code",
   "execution_count": null,
   "id": "278f0447-3ad6-4a85-97ec-1274fbf18a45",
   "metadata": {},
   "outputs": [],
   "source": []
  },
  {
   "cell_type": "code",
   "execution_count": null,
   "id": "7727dc8a-1205-4e29-85e9-a0cf1571098c",
   "metadata": {},
   "outputs": [],
   "source": []
  },
  {
   "cell_type": "markdown",
   "id": "7ec44baa-0cd3-4eb6-9f7b-a5e325b6f692",
   "metadata": {},
   "source": [
    "SCA"
   ]
  },
  {
   "cell_type": "code",
   "execution_count": null,
   "id": "f57a9a05-689c-44df-9915-50c5dfc3a494",
   "metadata": {},
   "outputs": [],
   "source": [
    "from liana import singlecellsignalr as sca"
   ]
  },
  {
   "cell_type": "code",
   "execution_count": null,
   "id": "fdb9b416-7e42-4c76-bac0-32f148e28fb7",
   "metadata": {},
   "outputs": [],
   "source": [
    "adata = sca(adata, groupby='label')"
   ]
  },
  {
   "cell_type": "code",
   "execution_count": null,
   "id": "ba4b4d5a-f417-440c-a88d-68ef92aa658b",
   "metadata": {},
   "outputs": [],
   "source": [
    "adata.uns['liana_res'].sort_values('lr_means', ascending=True)"
   ]
  },
  {
   "cell_type": "code",
   "execution_count": null,
   "id": "a4c5e360-0560-4e5f-8d52-696ee1bd2a84",
   "metadata": {},
   "outputs": [],
   "source": []
  },
  {
   "cell_type": "code",
   "execution_count": null,
   "id": "b0af474f-281c-44d7-ab79-fef31d354c9d",
   "metadata": {},
   "outputs": [],
   "source": []
  },
  {
   "cell_type": "markdown",
   "id": "d0fcd85f-2505-4f9e-ae47-069432720f74",
   "metadata": {},
   "source": [
    "Connectome"
   ]
  },
  {
   "cell_type": "code",
   "execution_count": null,
   "id": "1a2e6124-01e6-411c-b1e1-669bded091dd",
   "metadata": {},
   "outputs": [],
   "source": [
    "from liana import connectome"
   ]
  },
  {
   "cell_type": "code",
   "execution_count": null,
   "id": "6c74db4a-cd6b-4db1-bee7-58f4a4375e7a",
   "metadata": {},
   "outputs": [],
   "source": [
    "adata = connectome(adata, groupby='label')"
   ]
  },
  {
   "cell_type": "code",
   "execution_count": null,
   "id": "1a9ea8d6-b1e1-4fc3-976e-ded3d73f9547",
   "metadata": {},
   "outputs": [],
   "source": [
    "adata.uns['liana_res'].sort_values('scaled_weight', ascending=False)"
   ]
  },
  {
   "cell_type": "code",
   "execution_count": null,
   "id": "a76721f0-632a-4015-a347-c5f8aa54ceb4",
   "metadata": {},
   "outputs": [],
   "source": []
  },
  {
   "cell_type": "code",
   "execution_count": null,
   "id": "f7ebe9e3-5dc5-4d93-b558-1c45e289cd47",
   "metadata": {},
   "outputs": [],
   "source": []
  },
  {
   "cell_type": "code",
   "execution_count": null,
   "id": "71db5fc9-e45a-4f15-b339-7de86f7ddd8a",
   "metadata": {},
   "outputs": [],
   "source": []
  },
  {
   "cell_type": "markdown",
   "id": "0e0a4897-21fb-4f94-96ee-ec7157a9081a",
   "metadata": {},
   "source": [
    "logFC"
   ]
  },
  {
   "cell_type": "code",
   "execution_count": null,
   "id": "6ee26c82-df43-40c9-b4cf-be0c5b08bb2f",
   "metadata": {},
   "outputs": [],
   "source": [
    "from liana import logfc"
   ]
  },
  {
   "cell_type": "code",
   "execution_count": null,
   "id": "5910e6bc-c3ff-44a7-867c-e59c3f3a9091",
   "metadata": {},
   "outputs": [],
   "source": [
    "adata = logfc(adata, groupby='label')"
   ]
  },
  {
   "cell_type": "code",
   "execution_count": null,
   "id": "8e83c7fa-2ee8-42a9-bf8f-f5065a5ce21f",
   "metadata": {},
   "outputs": [],
   "source": [
    "adata.uns['liana_res'].sort_values('lr_logfc', ascending=False)"
   ]
  },
  {
   "cell_type": "code",
   "execution_count": null,
   "id": "dbb28aa4-8f20-45e1-a041-6796dd1f045f",
   "metadata": {},
   "outputs": [],
   "source": [
    "np.exp(1)"
   ]
  },
  {
   "cell_type": "code",
   "execution_count": null,
   "id": "23bd8ff5-b9bf-4718-a8af-ee9225e76d7a",
   "metadata": {},
   "outputs": [],
   "source": []
  },
  {
   "cell_type": "code",
   "execution_count": null,
   "id": "8b083646-d111-4f0c-a2bd-dbc6c7415e82",
   "metadata": {},
   "outputs": [],
   "source": []
  },
  {
   "cell_type": "markdown",
   "id": "2b1733cb-cb90-4bd8-a331-ba42d119669e",
   "metadata": {
    "tags": []
   },
   "source": [
    "try w/ real data"
   ]
  },
  {
   "cell_type": "code",
   "execution_count": null,
   "id": "410040b2-fb80-4b5c-8525-a5195e3d507e",
   "metadata": {},
   "outputs": [],
   "source": [
    "adata = sc.datasets.pbmc3k_processed()\n",
    "labels = adata.obs.louvain\n",
    "cells = adata.obs_names"
   ]
  },
  {
   "cell_type": "code",
   "execution_count": null,
   "id": "948b33f6-e0c9-411c-bd65-00e114139844",
   "metadata": {},
   "outputs": [],
   "source": [
    "adata = sc.datasets.pbmc3k()"
   ]
  },
  {
   "cell_type": "code",
   "execution_count": null,
   "id": "fe5ffa6c-c547-47d2-a382-61aa812db2c7",
   "metadata": {},
   "outputs": [],
   "source": [
    "adata = adata[[x in cells for x in adata.obs_names]]"
   ]
  },
  {
   "cell_type": "code",
   "execution_count": null,
   "id": "d18fd93f-560e-4ced-8b50-bfbbf5278c31",
   "metadata": {},
   "outputs": [],
   "source": [
    "adata.obs['label'] = labels"
   ]
  },
  {
   "cell_type": "code",
   "execution_count": null,
   "id": "6c7fb31f-bac7-4e63-9406-c02c947c6e9a",
   "metadata": {},
   "outputs": [],
   "source": [
    "sc.pp.log1p(adata)"
   ]
  },
  {
   "cell_type": "code",
   "execution_count": null,
   "id": "254f0ae3-0a63-4874-884a-c2d3c49db8ae",
   "metadata": {},
   "outputs": [],
   "source": [
    "%%time\n",
    "adata = cellphonedb(adata, groupby='label', n_perms=1000)"
   ]
  },
  {
   "cell_type": "code",
   "execution_count": null,
   "id": "c823a041-4775-4d50-b0da-e7dea5bbf295",
   "metadata": {},
   "outputs": [],
   "source": []
  },
  {
   "cell_type": "code",
   "execution_count": null,
   "id": "90791727-f674-4689-8c9c-34ed441c70b9",
   "metadata": {},
   "outputs": [],
   "source": []
  },
  {
   "cell_type": "code",
   "execution_count": null,
   "id": "c92c76c4-5af2-4077-8c13-291d0456e3d8",
   "metadata": {},
   "outputs": [],
   "source": []
  },
  {
   "cell_type": "code",
   "execution_count": null,
   "id": "c26f6257-50f4-451b-bb01-9b7a64ced5b5",
   "metadata": {},
   "outputs": [],
   "source": []
  },
  {
   "cell_type": "code",
   "execution_count": null,
   "id": "9960bcad-69b4-4950-b6b0-523c15fc2dfa",
   "metadata": {},
   "outputs": [],
   "source": []
  },
  {
   "cell_type": "markdown",
   "id": "c4586fde-464c-4867-86d1-1ce1feadf798",
   "metadata": {
    "jp-MarkdownHeadingCollapsed": true,
    "tags": []
   },
   "source": [
    "## LIANA PIPE LINE BY LINE"
   ]
  },
  {
   "cell_type": "code",
   "execution_count": null,
   "id": "edb1a040-d1e1-4a0b-b973-02be0bb8cd61",
   "metadata": {},
   "outputs": [],
   "source": [
    "# I get this from the score object\n",
    "_complex_cols = ['ligand_means', 'receptor_means']\n",
    "# change to full list and move to _var\n",
    "_add_cols = ['ligand', 'receptor',\n",
    "             'ligand_means_sums', 'receptor_means_sums',\n",
    "             'ligand_zscores', 'receptor_zscores',\n",
    "             'ligand_logfoldchanges', 'receptor_logfoldchanges',\n",
    "             'ligand_logfc', 'receptor_logfc'\n",
    "             'mat_mean',\n",
    "             ]\n",
    "\n",
    "_key_cols = ['source', 'target', 'ligand_complex', 'receptor_complex']"
   ]
  },
  {
   "cell_type": "code",
   "execution_count": null,
   "id": "677ce5db-7b4e-4727-880c-2715dde979a7",
   "metadata": {},
   "outputs": [],
   "source": [
    "from liana.utils.pre import check_adata, check_if_covered, format_vars, filter_resource\n",
    "from liana.resource import select_resource\n",
    "from liana.resource.select_resource import explode_complexes\n",
    "from liana.steady.liana_pipe import _get_lr\n",
    "from liana.utils.reassemble_complexes import reassemble_complexes\n",
    "from scipy.sparse import csr_matrix\n",
    "from liana.steady._permutations import get_means_perms"
   ]
  },
  {
   "cell_type": "code",
   "execution_count": null,
   "id": "66ba6d05-d067-4558-a879-87394a6d866a",
   "metadata": {},
   "outputs": [],
   "source": []
  },
  {
   "cell_type": "markdown",
   "id": "e5f74ea3-9847-43e3-bd9b-cb1c312520ee",
   "metadata": {},
   "source": [
    "I need to double check if every step makes sense, as I build unit tests!!!\n",
    "\n",
    "For example, are there any duplicated rows (source, target, ligand_complex, receptor_complex)\n",
    "\n",
    "Double check again if correct subunit is kept, etc"
   ]
  },
  {
   "cell_type": "code",
   "execution_count": null,
   "id": "a62b0165-a084-4979-9110-a18fc6da2c0e",
   "metadata": {},
   "outputs": [],
   "source": [
    "adata = check_adata(adata, True)"
   ]
  },
  {
   "cell_type": "code",
   "execution_count": null,
   "id": "67ad1ece-1a1a-4bf9-b284-25764d7cb858",
   "metadata": {},
   "outputs": [],
   "source": []
  },
  {
   "cell_type": "code",
   "execution_count": null,
   "id": "19df65eb-c6d2-4866-bc22-9b320deae6e1",
   "metadata": {},
   "outputs": [],
   "source": [
    "# Define idents col name\n",
    "adata.obs.label = adata.obs[groupby]"
   ]
  },
  {
   "cell_type": "code",
   "execution_count": null,
   "id": "ff3885f0-ba02-43ae-ad3b-c9bbb742e196",
   "metadata": {},
   "outputs": [],
   "source": []
  },
  {
   "cell_type": "markdown",
   "id": "4ccdd879-64e2-4339-9b00-0adcea5edfbc",
   "metadata": {},
   "source": [
    "Load resource"
   ]
  },
  {
   "cell_type": "code",
   "execution_count": null,
   "id": "a2c2c0b2-d792-45d2-9d2a-35daa9f16842",
   "metadata": {},
   "outputs": [],
   "source": [
    "resource = select_resource(resource_name='consensus')"
   ]
  },
  {
   "cell_type": "code",
   "execution_count": null,
   "id": "8252d9a7-5445-4d61-8ed8-ab34af871ccb",
   "metadata": {},
   "outputs": [],
   "source": [
    "# Decomplexify\n",
    "resource = explode_complexes(resource)"
   ]
  },
  {
   "cell_type": "code",
   "execution_count": null,
   "id": "4a9a67d4-1e21-4a58-9965-ffc87aed78d2",
   "metadata": {},
   "outputs": [],
   "source": [
    "# Filter Resource\n",
    "resource = filter_resource(resource, adata.var_names)"
   ]
  },
  {
   "cell_type": "code",
   "execution_count": null,
   "id": "cdd684e0-9b50-4c62-8b6b-6f1ff1b24a4e",
   "metadata": {},
   "outputs": [],
   "source": []
  },
  {
   "cell_type": "markdown",
   "id": "d7f020fe-ce4e-43e5-a65a-c500256e38b6",
   "metadata": {},
   "source": [
    "Create entities"
   ]
  },
  {
   "cell_type": "code",
   "execution_count": null,
   "id": "f0af1ebc-c5d4-4fd1-9c95-45cf6081cfcf",
   "metadata": {},
   "outputs": [],
   "source": [
    "entities = np.union1d(np.unique(resource[\"ligand\"]), np.unique(resource[\"receptor\"]))"
   ]
  },
  {
   "cell_type": "code",
   "execution_count": null,
   "id": "bb4303e7-9e8b-4d07-b91a-ce70f4a3da0b",
   "metadata": {},
   "outputs": [],
   "source": []
  },
  {
   "cell_type": "markdown",
   "id": "777dd11b-34db-4cc9-b7d4-3e7600bbbd8e",
   "metadata": {},
   "source": [
    "Check overlap between resource and adata"
   ]
  },
  {
   "cell_type": "code",
   "execution_count": null,
   "id": "d2d31c65-84a2-4bd6-a034-0a64935d063d",
   "metadata": {},
   "outputs": [],
   "source": [
    "check_if_covered(entities, adata.var_keys)"
   ]
  },
  {
   "cell_type": "code",
   "execution_count": null,
   "id": "45763bd4-cb43-4500-a912-b2eaa6ae653e",
   "metadata": {},
   "outputs": [],
   "source": []
  },
  {
   "cell_type": "markdown",
   "id": "2b70f1f0-af71-4348-95bc-bfcd16bf7ca7",
   "metadata": {},
   "source": [
    "Get global mean for SCA before filtering"
   ]
  },
  {
   "cell_type": "code",
   "execution_count": null,
   "id": "46bb2ab6-c9e1-4d4d-b33f-bf81cbd88525",
   "metadata": {},
   "outputs": [],
   "source": [
    "if 'mat_mean' in _add_cols: # SHOULD BE METHOD NAME!\n",
    "    adata.uns['mat_mean'] = np.mean(adata.X)"
   ]
  },
  {
   "cell_type": "code",
   "execution_count": null,
   "id": "0773f2a3-862d-4ac5-8299-84c5e6fef47f",
   "metadata": {},
   "outputs": [],
   "source": []
  },
  {
   "cell_type": "code",
   "execution_count": null,
   "id": "b37b2a52-7e37-4be1-ac32-457690f5bb54",
   "metadata": {},
   "outputs": [],
   "source": [
    "# Filter to only include the relevant genes\n",
    "adata = adata[:,np.intersect1d(entities, adata.var.index)]\n",
    "adata"
   ]
  },
  {
   "cell_type": "code",
   "execution_count": null,
   "id": "33212579-8762-4c83-b7ef-dc2fd8875bdb",
   "metadata": {},
   "outputs": [],
   "source": []
  },
  {
   "cell_type": "markdown",
   "id": "86cf9a4c-1693-4470-99f8-02bd60beb367",
   "metadata": {
    "tags": []
   },
   "source": [
    "Get Stats"
   ]
  },
  {
   "cell_type": "code",
   "execution_count": null,
   "id": "27042d96-a874-457e-ad75-3c312b73301b",
   "metadata": {},
   "outputs": [],
   "source": [
    "lr_res = _get_lr(adata, resource, key_cols + _complex_cols + _add_cols, de_method)"
   ]
  },
  {
   "cell_type": "code",
   "execution_count": null,
   "id": "9afdd672-e818-410e-84e0-6fb9ba6fd6be",
   "metadata": {},
   "outputs": [],
   "source": [
    "lr_res"
   ]
  },
  {
   "cell_type": "code",
   "execution_count": null,
   "id": "bddca5f6-6913-49f0-8c06-630677a6ba45",
   "metadata": {},
   "outputs": [],
   "source": []
  },
  {
   "cell_type": "code",
   "execution_count": null,
   "id": "e6bf23dc-c6eb-4ac3-aa8f-f3ce27d910d8",
   "metadata": {},
   "outputs": [],
   "source": []
  },
  {
   "cell_type": "code",
   "execution_count": null,
   "id": "795ae60d-921c-4f2c-98fc-52f33d09f26e",
   "metadata": {},
   "outputs": [],
   "source": []
  },
  {
   "cell_type": "markdown",
   "id": "6d1326e7-4437-40ed-9d65-c93ef5c1e33d",
   "metadata": {},
   "source": [
    "Recomplexify"
   ]
  },
  {
   "cell_type": "code",
   "execution_count": null,
   "id": "2e39a9e4-77ae-4e2b-ab0b-579d508f1347",
   "metadata": {},
   "outputs": [],
   "source": [
    "# If I want to implement anything else but the min as complex policy, I would need to change this:\n",
    "# temp = temp[[x==\"INHBA_INHBB\" for x in temp['ligand_complex']]].sort_values('receptor_complex')\n",
    "# temp = temp[[x==\"ACVR1B_ACVR2A\" for x in temp['receptor_complex']]]"
   ]
  },
  {
   "cell_type": "code",
   "execution_count": null,
   "id": "a78ea33f-4eca-47ef-bca1-af01ca844810",
   "metadata": {},
   "outputs": [],
   "source": [
    "lr_res = reassemble_complexes(lr_res, _key_cols, _complex_cols)"
   ]
  },
  {
   "cell_type": "code",
   "execution_count": null,
   "id": "db1b04d4-f354-43a1-bf92-2bc84556e7ba",
   "metadata": {},
   "outputs": [],
   "source": [
    "lr_res"
   ]
  },
  {
   "cell_type": "code",
   "execution_count": null,
   "id": "13246735-7446-41f9-b4d2-ee84d7514ead",
   "metadata": {},
   "outputs": [],
   "source": []
  },
  {
   "cell_type": "code",
   "execution_count": null,
   "id": "a0911c89-4141-4449-aaba-5d08be4ed2de",
   "metadata": {},
   "outputs": [],
   "source": []
  },
  {
   "cell_type": "code",
   "execution_count": null,
   "id": "45209cd9-4cd1-4a8c-879a-f681bf92210b",
   "metadata": {},
   "outputs": [],
   "source": []
  },
  {
   "cell_type": "markdown",
   "id": "efbeae9b-4df7-42ca-9b2c-9a1e7bedba08",
   "metadata": {},
   "source": [
    "### SCORES"
   ]
  },
  {
   "cell_type": "code",
   "execution_count": null,
   "id": "1061bfc5-ddfa-46dc-a39c-39e6042b215f",
   "metadata": {},
   "outputs": [],
   "source": [
    "from liana.steady.Method import Method, MethodMeta\n",
    "from liana.steady.scores.cellphonedb import _cpdb_score"
   ]
  },
  {
   "cell_type": "code",
   "execution_count": null,
   "id": "675c2240-c993-4fdd-92da-7d2ed4ee0228",
   "metadata": {},
   "outputs": [],
   "source": []
  },
  {
   "cell_type": "markdown",
   "id": "941603a4-9eaf-4bcd-a8b8-4f6a6574ebe5",
   "metadata": {},
   "source": [
    "CELLPHONEDB"
   ]
  },
  {
   "cell_type": "code",
   "execution_count": null,
   "id": "4284a51c-55a5-47b4-ab9b-ba3b3ba93aac",
   "metadata": {},
   "outputs": [],
   "source": [
    "_cellphonedb = MethodMeta(method_name = \"cellphonedb\",\n",
    "                          complex_cols = ['ligand_means', 'receptor_means'], \n",
    "                          add_cols = ['ligand', 'receptor'],\n",
    "                          fun = _cpdb_score,\n",
    "                          magnitude = 'lr_means',\n",
    "                          specificity = 'pvals',\n",
    "                          permute = True,\n",
    "                          reference = 'Efremova et al., 2020')"
   ]
  },
  {
   "cell_type": "code",
   "execution_count": null,
   "id": "79fc87a0-4d92-4adc-a3a3-e611c7f3b3b8",
   "metadata": {},
   "outputs": [],
   "source": [
    "cellphonedb = Method(_SCORE=_cellphonedb)"
   ]
  },
  {
   "cell_type": "code",
   "execution_count": null,
   "id": "d2d39d47-ae35-4109-b413-52d1caadda1c",
   "metadata": {},
   "outputs": [],
   "source": [
    "adata = cellphonedb(adata, groupby, seed=666)"
   ]
  },
  {
   "cell_type": "code",
   "execution_count": null,
   "id": "25e905eb-af83-4259-8e18-6b31ebb543c5",
   "metadata": {},
   "outputs": [],
   "source": [
    "adata.uns['liana_res']"
   ]
  },
  {
   "cell_type": "code",
   "execution_count": null,
   "id": "e7801646-121c-413a-be5a-aef31b5b35ee",
   "metadata": {},
   "outputs": [],
   "source": []
  },
  {
   "cell_type": "code",
   "execution_count": null,
   "id": "fd6d8272-289c-42c5-9f96-7ba76587b80b",
   "metadata": {},
   "outputs": [],
   "source": []
  },
  {
   "cell_type": "code",
   "execution_count": null,
   "id": "49686ceb-dd20-48ee-a0ad-20ac3646a809",
   "metadata": {},
   "outputs": [],
   "source": []
  },
  {
   "cell_type": "markdown",
   "id": "a67d9786-388a-4c8d-b868-5539a3602f5c",
   "metadata": {},
   "source": [
    "logFC re-implement"
   ]
  },
  {
   "cell_type": "markdown",
   "id": "194266ec-e8cf-4f65-963f-a3f9e2939f67",
   "metadata": {},
   "source": [
    "Magnitude as None"
   ]
  },
  {
   "cell_type": "code",
   "execution_count": null,
   "id": "c4f096b2-d4bd-4581-8f41-4774f14c6f0a",
   "metadata": {},
   "outputs": [],
   "source": []
  },
  {
   "cell_type": "code",
   "execution_count": null,
   "id": "0201fba8-13b0-4923-9539-fd1cbe27e2e0",
   "metadata": {},
   "outputs": [],
   "source": []
  },
  {
   "cell_type": "code",
   "execution_count": null,
   "id": "0699d6ec-68cb-4b49-84c0-d2722d40e90e",
   "metadata": {},
   "outputs": [],
   "source": [
    "lr_res['logfc'] = lr_res[['ligand_logfoldchanges', 'receptor_logfoldchanges']].mean(1)"
   ]
  },
  {
   "cell_type": "code",
   "execution_count": null,
   "id": "51064b93-983f-4c16-adb9-ca54a2e1cb62",
   "metadata": {},
   "outputs": [],
   "source": []
  },
  {
   "cell_type": "code",
   "execution_count": null,
   "id": "b3482e1c-c433-4712-bf1d-ba0494c0a314",
   "metadata": {},
   "outputs": [],
   "source": [
    "lr_res.sort_values(by='logfc', key=abs, ascending=False)"
   ]
  },
  {
   "cell_type": "code",
   "execution_count": null,
   "id": "fab2e516-7f93-4850-9907-2deaa2650c73",
   "metadata": {},
   "outputs": [],
   "source": []
  },
  {
   "cell_type": "markdown",
   "id": "7fb95f6b-db28-494b-83f8-de6b7c9b2048",
   "metadata": {},
   "source": [
    "Re-implement Connectome"
   ]
  },
  {
   "cell_type": "markdown",
   "id": "e50d075c-f537-4677-b1b0-e2837e29a5f8",
   "metadata": {},
   "source": [
    "Both Specificity and Magnitude"
   ]
  },
  {
   "cell_type": "code",
   "execution_count": null,
   "id": "a3d0a012-69e9-47c6-bb48-66641647cea8",
   "metadata": {},
   "outputs": [],
   "source": [
    "lr_res['edge_weight'] = lr_res[['ligand_zscores', 'receptor_zscores']].mean(1)"
   ]
  },
  {
   "cell_type": "code",
   "execution_count": null,
   "id": "c95a783e-52d8-44e8-b735-bbe54bef1972",
   "metadata": {},
   "outputs": [],
   "source": []
  }
 ],
 "metadata": {
  "kernelspec": {
   "display_name": "liana-py",
   "language": "python",
   "name": "liana-py"
  },
  "language_info": {
   "codemirror_mode": {
    "name": "ipython",
    "version": 3
   },
   "file_extension": ".py",
   "mimetype": "text/x-python",
   "name": "python",
   "nbconvert_exporter": "python",
   "pygments_lexer": "ipython3",
   "version": "3.8.8"
  }
 },
 "nbformat": 4,
 "nbformat_minor": 5
}
