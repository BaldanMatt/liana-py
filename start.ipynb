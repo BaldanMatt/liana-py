{
 "cells": [
  {
   "cell_type": "code",
   "execution_count": 1,
   "id": "4a6561fa-18d6-459b-a010-51b7d9fae1d4",
   "metadata": {},
   "outputs": [],
   "source": [
    "import scanpy as sc\n",
    "import pandas as pd\n",
    "import numpy as np"
   ]
  },
  {
   "cell_type": "code",
   "execution_count": null,
   "id": "d333ea8e-aeca-4746-887b-33ec6b6b1b17",
   "metadata": {},
   "outputs": [],
   "source": []
  },
  {
   "cell_type": "markdown",
   "id": "f65dcb30-df9e-4ab9-a2f5-b2cb30ba58c0",
   "metadata": {},
   "source": [
    "Load anndata"
   ]
  },
  {
   "cell_type": "code",
   "execution_count": 2,
   "id": "3be28d50-be89-46ae-b3ec-e8878844a0ab",
   "metadata": {},
   "outputs": [],
   "source": [
    "adata = sc.read_h5ad(\"test.h5ad\")"
   ]
  },
  {
   "cell_type": "code",
   "execution_count": 3,
   "id": "72dce8c7-08ec-473c-be56-7eadb814c846",
   "metadata": {},
   "outputs": [],
   "source": [
    "# lognorm should be the default (expected)\n",
    "adata.X = adata.layers['logcounts']"
   ]
  },
  {
   "cell_type": "code",
   "execution_count": null,
   "id": "8ebb9f68-0009-42c0-afe1-4a2963664aa1",
   "metadata": {},
   "outputs": [],
   "source": []
  },
  {
   "cell_type": "markdown",
   "id": "04043a54-1480-41be-b134-b55911ff9027",
   "metadata": {},
   "source": [
    "Parameters"
   ]
  },
  {
   "cell_type": "code",
   "execution_count": 4,
   "id": "8749bb33-5c01-49b3-8fe1-cb8b167a8b28",
   "metadata": {},
   "outputs": [],
   "source": [
    "groupby='label'\n",
    "de_method='wilcoxon'\n",
    "resource_name = 'consensus'\n",
    "complex_policy = 'min'\n",
    "key_cols = ['source', 'target', 'ligand_complex', 'receptor_complex']\n",
    "verbose = False"
   ]
  },
  {
   "cell_type": "code",
   "execution_count": 5,
   "id": "6581703e-86e5-4f50-ab07-2f1791be9e67",
   "metadata": {},
   "outputs": [],
   "source": [
    "# only relevant if perms are done\n",
    "n_perms = 1000\n",
    "seed = 69"
   ]
  },
  {
   "cell_type": "code",
   "execution_count": null,
   "id": "9dabcf57-ad50-4fa5-a102-408b893cf6d7",
   "metadata": {},
   "outputs": [],
   "source": []
  },
  {
   "cell_type": "markdown",
   "id": "309ef0d7-3696-485d-a169-743774b2e2a4",
   "metadata": {},
   "source": [
    "Run LIANA PIPE"
   ]
  },
  {
   "cell_type": "code",
   "execution_count": 6,
   "id": "101f0bdd-c6a0-400b-b64e-b6ba21df9ae5",
   "metadata": {},
   "outputs": [],
   "source": [
    "from liana import liana_pipe"
   ]
  },
  {
   "cell_type": "code",
   "execution_count": 7,
   "id": "1bdd36ab-1ce6-4842-8b8f-d9a5f74ac660",
   "metadata": {},
   "outputs": [
    {
     "name": "stderr",
     "output_type": "stream",
     "text": [
      "/home/dbdimitrov/anaconda3/lib/python3.8/site-packages/anndata/compat/_overloaded_dict.py:106: ImplicitModificationWarning: Trying to modify attribute `._uns` of view, initializing view as actual.\n",
      "  self.data[key] = value\n",
      "/home/dbdimitrov/anaconda3/lib/python3.8/contextlib.py:120: FutureWarning: X.dtype being converted to np.float32 from float64. In the next version of anndata (0.9) conversion will not be automatic. Pass dtype explicitly to avoid this warning. Pass `AnnData(X, dtype=X.dtype, ...)` to get the future behavour.\n",
      "  next(self.gen)\n"
     ]
    }
   ],
   "source": [
    "lr_res = liana_pipe(adata=adata, \n",
    "                    groupby=groupby, \n",
    "                    resource_name=resource_name,\n",
    "                    de_method=de_method,\n",
    "                    n_perms=n_perms,\n",
    "                    seed=seed,\n",
    "                    verbose=verbose,\n",
    "                    _key_cols=key_cols,\n",
    "                    resource=None)"
   ]
  },
  {
   "cell_type": "code",
   "execution_count": 8,
   "id": "18e522eb-d6b2-4dab-acfd-9877065fb167",
   "metadata": {},
   "outputs": [
    {
     "data": {
      "text/html": [
       "<div>\n",
       "<style scoped>\n",
       "    .dataframe tbody tr th:only-of-type {\n",
       "        vertical-align: middle;\n",
       "    }\n",
       "\n",
       "    .dataframe tbody tr th {\n",
       "        vertical-align: top;\n",
       "    }\n",
       "\n",
       "    .dataframe thead th {\n",
       "        text-align: right;\n",
       "    }\n",
       "</style>\n",
       "<table border=\"1\" class=\"dataframe\">\n",
       "  <thead>\n",
       "    <tr style=\"text-align: right;\">\n",
       "      <th></th>\n",
       "      <th>ligand</th>\n",
       "      <th>ligand_complex</th>\n",
       "      <th>ligand_logfc</th>\n",
       "      <th>ligand_means</th>\n",
       "      <th>ligand_zscores</th>\n",
       "      <th>mat_mean</th>\n",
       "      <th>receptor</th>\n",
       "      <th>receptor_complex</th>\n",
       "      <th>receptor_logfc</th>\n",
       "      <th>receptor_means</th>\n",
       "      <th>receptor_zscores</th>\n",
       "      <th>source</th>\n",
       "      <th>target</th>\n",
       "      <th>ligand_means_sums</th>\n",
       "      <th>receptor_means_sums</th>\n",
       "    </tr>\n",
       "  </thead>\n",
       "  <tbody>\n",
       "    <tr>\n",
       "      <th>2288</th>\n",
       "      <td>CSF1</td>\n",
       "      <td>CSF1</td>\n",
       "      <td>-0.044315</td>\n",
       "      <td>0.000000</td>\n",
       "      <td>-0.105409</td>\n",
       "      <td>0.199056</td>\n",
       "      <td>CSF2RA</td>\n",
       "      <td>CSF2RA</td>\n",
       "      <td>-0.055999</td>\n",
       "      <td>0.000000</td>\n",
       "      <td>-0.105409</td>\n",
       "      <td>CD8 T</td>\n",
       "      <td>CD8 T</td>\n",
       "      <td>0.035162</td>\n",
       "      <td>0.040544</td>\n",
       "    </tr>\n",
       "    <tr>\n",
       "      <th>2096</th>\n",
       "      <td>BTLA</td>\n",
       "      <td>BTLA</td>\n",
       "      <td>-0.048226</td>\n",
       "      <td>0.000000</td>\n",
       "      <td>-0.105409</td>\n",
       "      <td>0.199056</td>\n",
       "      <td>TNFRSF14</td>\n",
       "      <td>TNFRSF14</td>\n",
       "      <td>-0.520295</td>\n",
       "      <td>0.294117</td>\n",
       "      <td>-0.250196</td>\n",
       "      <td>CD8 T</td>\n",
       "      <td>CD8 T</td>\n",
       "      <td>0.037057</td>\n",
       "      <td>1.424242</td>\n",
       "    </tr>\n",
       "    <tr>\n",
       "      <th>2087</th>\n",
       "      <td>IL18BP</td>\n",
       "      <td>IL18BP</td>\n",
       "      <td>-0.132456</td>\n",
       "      <td>0.000000</td>\n",
       "      <td>-0.145695</td>\n",
       "      <td>0.199056</td>\n",
       "      <td>IL6R</td>\n",
       "      <td>IL6R</td>\n",
       "      <td>-0.068199</td>\n",
       "      <td>0.000000</td>\n",
       "      <td>-0.105409</td>\n",
       "      <td>CD8 T</td>\n",
       "      <td>CD8 T</td>\n",
       "      <td>0.087242</td>\n",
       "      <td>0.045404</td>\n",
       "    </tr>\n",
       "    <tr>\n",
       "      <th>2086</th>\n",
       "      <td>IL6</td>\n",
       "      <td>IL6</td>\n",
       "      <td>-0.315346</td>\n",
       "      <td>0.000000</td>\n",
       "      <td>-0.149471</td>\n",
       "      <td>0.199056</td>\n",
       "      <td>IL6ST</td>\n",
       "      <td>IL6R_IL6ST</td>\n",
       "      <td>-0.121447</td>\n",
       "      <td>0.000000</td>\n",
       "      <td>-0.146079</td>\n",
       "      <td>CD8 T</td>\n",
       "      <td>CD8 T</td>\n",
       "      <td>0.140459</td>\n",
       "      <td>0.083360</td>\n",
       "    </tr>\n",
       "    <tr>\n",
       "      <th>2085</th>\n",
       "      <td>IL6</td>\n",
       "      <td>IL6</td>\n",
       "      <td>-0.315346</td>\n",
       "      <td>0.000000</td>\n",
       "      <td>-0.149471</td>\n",
       "      <td>0.199056</td>\n",
       "      <td>IL6R</td>\n",
       "      <td>IL6R_IL6ST</td>\n",
       "      <td>-0.068199</td>\n",
       "      <td>0.000000</td>\n",
       "      <td>-0.105409</td>\n",
       "      <td>CD8 T</td>\n",
       "      <td>CD8 T</td>\n",
       "      <td>0.140459</td>\n",
       "      <td>0.045404</td>\n",
       "    </tr>\n",
       "    <tr>\n",
       "      <th>...</th>\n",
       "      <td>...</td>\n",
       "      <td>...</td>\n",
       "      <td>...</td>\n",
       "      <td>...</td>\n",
       "      <td>...</td>\n",
       "      <td>...</td>\n",
       "      <td>...</td>\n",
       "      <td>...</td>\n",
       "      <td>...</td>\n",
       "      <td>...</td>\n",
       "      <td>...</td>\n",
       "      <td>...</td>\n",
       "      <td>...</td>\n",
       "      <td>...</td>\n",
       "      <td>...</td>\n",
       "    </tr>\n",
       "    <tr>\n",
       "      <th>1345</th>\n",
       "      <td>B2M</td>\n",
       "      <td>B2M</td>\n",
       "      <td>0.595277</td>\n",
       "      <td>5.810702</td>\n",
       "      <td>0.728883</td>\n",
       "      <td>0.199056</td>\n",
       "      <td>CD247</td>\n",
       "      <td>CD247</td>\n",
       "      <td>-2.154735</td>\n",
       "      <td>0.269538</td>\n",
       "      <td>-0.764050</td>\n",
       "      <td>NK</td>\n",
       "      <td>B</td>\n",
       "      <td>16.490938</td>\n",
       "      <td>3.277351</td>\n",
       "    </tr>\n",
       "    <tr>\n",
       "      <th>4178</th>\n",
       "      <td>B2M</td>\n",
       "      <td>B2M</td>\n",
       "      <td>0.595277</td>\n",
       "      <td>5.810702</td>\n",
       "      <td>0.728883</td>\n",
       "      <td>0.199056</td>\n",
       "      <td>CD3G</td>\n",
       "      <td>CD3G</td>\n",
       "      <td>-0.160309</td>\n",
       "      <td>0.196046</td>\n",
       "      <td>-0.106673</td>\n",
       "      <td>NK</td>\n",
       "      <td>NK</td>\n",
       "      <td>16.490938</td>\n",
       "      <td>0.797412</td>\n",
       "    </tr>\n",
       "    <tr>\n",
       "      <th>4332</th>\n",
       "      <td>B2M</td>\n",
       "      <td>B2M</td>\n",
       "      <td>0.595277</td>\n",
       "      <td>5.810702</td>\n",
       "      <td>0.728883</td>\n",
       "      <td>0.199056</td>\n",
       "      <td>KLRC1</td>\n",
       "      <td>KLRC1</td>\n",
       "      <td>1.285116</td>\n",
       "      <td>0.642471</td>\n",
       "      <td>0.494169</td>\n",
       "      <td>NK</td>\n",
       "      <td>NK</td>\n",
       "      <td>16.490938</td>\n",
       "      <td>0.893647</td>\n",
       "    </tr>\n",
       "    <tr>\n",
       "      <th>2647</th>\n",
       "      <td>B2M</td>\n",
       "      <td>B2M</td>\n",
       "      <td>0.595277</td>\n",
       "      <td>5.810702</td>\n",
       "      <td>0.728883</td>\n",
       "      <td>0.199056</td>\n",
       "      <td>CD3D</td>\n",
       "      <td>CD3D</td>\n",
       "      <td>2.097606</td>\n",
       "      <td>2.190063</td>\n",
       "      <td>0.951525</td>\n",
       "      <td>NK</td>\n",
       "      <td>CD8 T</td>\n",
       "      <td>16.490938</td>\n",
       "      <td>3.070996</td>\n",
       "    </tr>\n",
       "    <tr>\n",
       "      <th>4333</th>\n",
       "      <td>B2M</td>\n",
       "      <td>B2M</td>\n",
       "      <td>0.595277</td>\n",
       "      <td>5.810702</td>\n",
       "      <td>0.728883</td>\n",
       "      <td>0.199056</td>\n",
       "      <td>KLRC2</td>\n",
       "      <td>KLRC2</td>\n",
       "      <td>0.097159</td>\n",
       "      <td>0.055034</td>\n",
       "      <td>0.078263</td>\n",
       "      <td>NK</td>\n",
       "      <td>NK</td>\n",
       "      <td>16.490938</td>\n",
       "      <td>0.108470</td>\n",
       "    </tr>\n",
       "  </tbody>\n",
       "</table>\n",
       "<p>4287 rows × 15 columns</p>\n",
       "</div>"
      ],
      "text/plain": [
       "      ligand ligand_complex  ligand_logfc  ligand_means  ligand_zscores  \\\n",
       "2288    CSF1           CSF1     -0.044315      0.000000       -0.105409   \n",
       "2096    BTLA           BTLA     -0.048226      0.000000       -0.105409   \n",
       "2087  IL18BP         IL18BP     -0.132456      0.000000       -0.145695   \n",
       "2086     IL6            IL6     -0.315346      0.000000       -0.149471   \n",
       "2085     IL6            IL6     -0.315346      0.000000       -0.149471   \n",
       "...      ...            ...           ...           ...             ...   \n",
       "1345     B2M            B2M      0.595277      5.810702        0.728883   \n",
       "4178     B2M            B2M      0.595277      5.810702        0.728883   \n",
       "4332     B2M            B2M      0.595277      5.810702        0.728883   \n",
       "2647     B2M            B2M      0.595277      5.810702        0.728883   \n",
       "4333     B2M            B2M      0.595277      5.810702        0.728883   \n",
       "\n",
       "      mat_mean  receptor receptor_complex  receptor_logfc  receptor_means  \\\n",
       "2288  0.199056    CSF2RA           CSF2RA       -0.055999        0.000000   \n",
       "2096  0.199056  TNFRSF14         TNFRSF14       -0.520295        0.294117   \n",
       "2087  0.199056      IL6R             IL6R       -0.068199        0.000000   \n",
       "2086  0.199056     IL6ST       IL6R_IL6ST       -0.121447        0.000000   \n",
       "2085  0.199056      IL6R       IL6R_IL6ST       -0.068199        0.000000   \n",
       "...        ...       ...              ...             ...             ...   \n",
       "1345  0.199056     CD247            CD247       -2.154735        0.269538   \n",
       "4178  0.199056      CD3G             CD3G       -0.160309        0.196046   \n",
       "4332  0.199056     KLRC1            KLRC1        1.285116        0.642471   \n",
       "2647  0.199056      CD3D             CD3D        2.097606        2.190063   \n",
       "4333  0.199056     KLRC2            KLRC2        0.097159        0.055034   \n",
       "\n",
       "      receptor_zscores source target  ligand_means_sums  receptor_means_sums  \n",
       "2288         -0.105409  CD8 T  CD8 T           0.035162             0.040544  \n",
       "2096         -0.250196  CD8 T  CD8 T           0.037057             1.424242  \n",
       "2087         -0.105409  CD8 T  CD8 T           0.087242             0.045404  \n",
       "2086         -0.146079  CD8 T  CD8 T           0.140459             0.083360  \n",
       "2085         -0.105409  CD8 T  CD8 T           0.140459             0.045404  \n",
       "...                ...    ...    ...                ...                  ...  \n",
       "1345         -0.764050     NK      B          16.490938             3.277351  \n",
       "4178         -0.106673     NK     NK          16.490938             0.797412  \n",
       "4332          0.494169     NK     NK          16.490938             0.893647  \n",
       "2647          0.951525     NK  CD8 T          16.490938             3.070996  \n",
       "4333          0.078263     NK     NK          16.490938             0.108470  \n",
       "\n",
       "[4287 rows x 15 columns]"
      ]
     },
     "execution_count": 8,
     "metadata": {},
     "output_type": "execute_result"
    }
   ],
   "source": [
    "lr_res.sort_values('ligand_means')"
   ]
  },
  {
   "cell_type": "code",
   "execution_count": null,
   "id": "7f3835c3-72fe-40c5-9b17-a2efc0bba160",
   "metadata": {},
   "outputs": [],
   "source": []
  },
  {
   "cell_type": "code",
   "execution_count": null,
   "id": "432f448e-c548-45ed-b199-a5cd8ce31556",
   "metadata": {},
   "outputs": [],
   "source": []
  },
  {
   "cell_type": "markdown",
   "id": "7c12716f-6115-4c36-8751-0c8f45b771a2",
   "metadata": {},
   "source": [
    "Consensus"
   ]
  },
  {
   "cell_type": "code",
   "execution_count": 9,
   "id": "70668179-5ff8-4036-9e01-6fe252323499",
   "metadata": {},
   "outputs": [],
   "source": [
    "from liana.steady.scores.consensus import consensus"
   ]
  },
  {
   "cell_type": "code",
   "execution_count": 10,
   "id": "675b60a9-6097-4494-be8d-227b89d2d661",
   "metadata": {},
   "outputs": [
    {
     "data": {
      "text/plain": [
       "['receptor_means',\n",
       " 'receptor_zscores',\n",
       " 'ligand_logfc',\n",
       " 'receptor_logfc',\n",
       " 'ligand_zscores',\n",
       " 'ligand_means']"
      ]
     },
     "execution_count": 10,
     "metadata": {},
     "output_type": "execute_result"
    }
   ],
   "source": [
    "consensus.complex_cols"
   ]
  },
  {
   "cell_type": "code",
   "execution_count": 11,
   "id": "3e434926-0352-4865-90e9-745c6a566491",
   "metadata": {},
   "outputs": [
    {
     "name": "stderr",
     "output_type": "stream",
     "text": [
      "/home/dbdimitrov/anaconda3/lib/python3.8/site-packages/anndata/compat/_overloaded_dict.py:106: ImplicitModificationWarning: Trying to modify attribute `._uns` of view, initializing view as actual.\n",
      "  self.data[key] = value\n",
      "/home/dbdimitrov/anaconda3/lib/python3.8/contextlib.py:120: FutureWarning: X.dtype being converted to np.float32 from float64. In the next version of anndata (0.9) conversion will not be automatic. Pass dtype explicitly to avoid this warning. Pass `AnnData(X, dtype=X.dtype, ...)` to get the future behavour.\n",
      "  next(self.gen)\n"
     ]
    },
    {
     "name": "stdout",
     "output_type": "stream",
     "text": [
      "CellPhoneDB\n",
      "Index(['ligand', 'ligand_complex', 'ligand_means', 'receptor',\n",
      "       'receptor_complex', 'receptor_means', 'source', 'target'],\n",
      "      dtype='object')\n",
      "Connectome\n",
      "Index(['ligand', 'ligand_complex', 'ligand_means', 'ligand_zscores',\n",
      "       'receptor', 'receptor_complex', 'receptor_means', 'receptor_zscores',\n",
      "       'source', 'target'],\n",
      "      dtype='object')\n",
      "log2FC\n",
      "Index(['ligand', 'ligand_complex', 'ligand_logfc', 'ligand_means', 'receptor',\n",
      "       'receptor_complex', 'receptor_logfc', 'receptor_means', 'source',\n",
      "       'target'],\n",
      "      dtype='object')\n",
      "NATMI\n",
      "Index(['ligand', 'ligand_complex', 'ligand_means', 'ligand_means_sums',\n",
      "       'receptor', 'receptor_complex', 'receptor_means', 'receptor_means_sums',\n",
      "       'source', 'target'],\n",
      "      dtype='object')\n",
      "SingleCellSignalR\n",
      "Index(['ligand', 'ligand_complex', 'ligand_means', 'mat_mean', 'receptor',\n",
      "       'receptor_complex', 'receptor_means', 'source', 'target'],\n",
      "      dtype='object')\n"
     ]
    }
   ],
   "source": [
    "adata = consensus(adata, groupby='label')"
   ]
  },
  {
   "cell_type": "code",
   "execution_count": null,
   "id": "dd27af6d-22af-46c6-bef4-6aca4c04df0e",
   "metadata": {},
   "outputs": [],
   "source": []
  },
  {
   "cell_type": "markdown",
   "id": "99a21a70-1835-44c8-8f20-f3c9eb5570b4",
   "metadata": {},
   "source": [
    "Robust rank aggregate"
   ]
  },
  {
   "cell_type": "code",
   "execution_count": null,
   "id": "7219a335-dedc-4146-90e5-4e84da9999c5",
   "metadata": {},
   "outputs": [],
   "source": []
  },
  {
   "cell_type": "code",
   "execution_count": null,
   "id": "6625c69d-69fd-412a-b692-28d1b502cd60",
   "metadata": {},
   "outputs": [],
   "source": []
  },
  {
   "cell_type": "code",
   "execution_count": null,
   "id": "3a03808a-6192-4632-b0e2-a01c432cff62",
   "metadata": {},
   "outputs": [],
   "source": []
  },
  {
   "cell_type": "code",
   "execution_count": null,
   "id": "63ca7251-effe-48cd-bd43-36f14b040318",
   "metadata": {},
   "outputs": [],
   "source": []
  },
  {
   "cell_type": "code",
   "execution_count": null,
   "id": "c3f48fcb-1a83-4c0f-8d03-8b26dca618fe",
   "metadata": {},
   "outputs": [],
   "source": []
  },
  {
   "cell_type": "code",
   "execution_count": null,
   "id": "58b97d49-2636-4604-ac09-7319257f4bcb",
   "metadata": {},
   "outputs": [],
   "source": []
  },
  {
   "cell_type": "markdown",
   "id": "81286b5b-869d-4c45-a57c-4ab6d3fb39a5",
   "metadata": {
    "tags": []
   },
   "source": [
    "## Each Method"
   ]
  },
  {
   "cell_type": "markdown",
   "id": "bbc202fb-8b2a-4659-821f-b52a2f957269",
   "metadata": {},
   "source": [
    "CellPhoneDB"
   ]
  },
  {
   "cell_type": "code",
   "execution_count": null,
   "id": "f34a6a93-f823-4c50-a716-6d9f7aa873a2",
   "metadata": {},
   "outputs": [],
   "source": [
    "from liana import cellphonedb"
   ]
  },
  {
   "cell_type": "code",
   "execution_count": null,
   "id": "ae10eb86-43f0-49eb-a2ce-bc4ef2b4a030",
   "metadata": {},
   "outputs": [],
   "source": [
    "%%time\n",
    "adata = cellphonedb(adata, groupby='label', n_perms=1000)"
   ]
  },
  {
   "cell_type": "code",
   "execution_count": null,
   "id": "5da48042-4f6a-463f-9900-35cf075e8157",
   "metadata": {},
   "outputs": [],
   "source": [
    "lr_res = adata.uns['liana_res']"
   ]
  },
  {
   "cell_type": "code",
   "execution_count": null,
   "id": "5fe86072-35f7-488d-8902-edb88dbea50c",
   "metadata": {},
   "outputs": [],
   "source": [
    "lr_res[lr_res['receptor_complex']=='CD8A_CD8B']"
   ]
  },
  {
   "cell_type": "code",
   "execution_count": null,
   "id": "05070b28-53a6-457f-b8ee-f776ccde22e6",
   "metadata": {},
   "outputs": [],
   "source": []
  },
  {
   "cell_type": "code",
   "execution_count": null,
   "id": "6fadac1c-d620-45be-9659-d863ec129fad",
   "metadata": {},
   "outputs": [],
   "source": []
  },
  {
   "cell_type": "markdown",
   "id": "ac370eac-2c34-462b-a84a-f571c6627e4b",
   "metadata": {},
   "source": [
    "NATMI"
   ]
  },
  {
   "cell_type": "code",
   "execution_count": null,
   "id": "2a67dd14-3e89-40fa-a6d1-a27d9acaba59",
   "metadata": {},
   "outputs": [],
   "source": [
    "from liana import natmi"
   ]
  },
  {
   "cell_type": "code",
   "execution_count": null,
   "id": "bb3017ab-1d8e-4704-9012-2bceb959dc13",
   "metadata": {},
   "outputs": [],
   "source": [
    "adata = natmi(adata, groupby='label')"
   ]
  },
  {
   "cell_type": "code",
   "execution_count": null,
   "id": "7e53c204-d252-4d19-aa94-20d19e9e41f1",
   "metadata": {},
   "outputs": [],
   "source": [
    "adata.uns['liana_res']"
   ]
  },
  {
   "cell_type": "code",
   "execution_count": null,
   "id": "278f0447-3ad6-4a85-97ec-1274fbf18a45",
   "metadata": {},
   "outputs": [],
   "source": []
  },
  {
   "cell_type": "code",
   "execution_count": null,
   "id": "7727dc8a-1205-4e29-85e9-a0cf1571098c",
   "metadata": {},
   "outputs": [],
   "source": []
  },
  {
   "cell_type": "markdown",
   "id": "7ec44baa-0cd3-4eb6-9f7b-a5e325b6f692",
   "metadata": {},
   "source": [
    "SCA"
   ]
  },
  {
   "cell_type": "code",
   "execution_count": null,
   "id": "f57a9a05-689c-44df-9915-50c5dfc3a494",
   "metadata": {},
   "outputs": [],
   "source": [
    "from liana import singlecellsignalr as sca"
   ]
  },
  {
   "cell_type": "code",
   "execution_count": null,
   "id": "fdb9b416-7e42-4c76-bac0-32f148e28fb7",
   "metadata": {},
   "outputs": [],
   "source": [
    "adata = sca(adata, groupby='label')"
   ]
  },
  {
   "cell_type": "code",
   "execution_count": null,
   "id": "ba4b4d5a-f417-440c-a88d-68ef92aa658b",
   "metadata": {},
   "outputs": [],
   "source": [
    "adata.uns['liana_res'].sort_values('lr_means', ascending=True)"
   ]
  },
  {
   "cell_type": "code",
   "execution_count": null,
   "id": "a4c5e360-0560-4e5f-8d52-696ee1bd2a84",
   "metadata": {},
   "outputs": [],
   "source": []
  },
  {
   "cell_type": "code",
   "execution_count": null,
   "id": "b0af474f-281c-44d7-ab79-fef31d354c9d",
   "metadata": {},
   "outputs": [],
   "source": []
  },
  {
   "cell_type": "markdown",
   "id": "d0fcd85f-2505-4f9e-ae47-069432720f74",
   "metadata": {},
   "source": [
    "Connectome"
   ]
  },
  {
   "cell_type": "code",
   "execution_count": null,
   "id": "1a2e6124-01e6-411c-b1e1-669bded091dd",
   "metadata": {},
   "outputs": [],
   "source": [
    "from liana import connectome"
   ]
  },
  {
   "cell_type": "code",
   "execution_count": null,
   "id": "6c74db4a-cd6b-4db1-bee7-58f4a4375e7a",
   "metadata": {},
   "outputs": [],
   "source": [
    "adata = connectome(adata, groupby='label')"
   ]
  },
  {
   "cell_type": "code",
   "execution_count": null,
   "id": "1a9ea8d6-b1e1-4fc3-976e-ded3d73f9547",
   "metadata": {},
   "outputs": [],
   "source": [
    "adata.uns['liana_res'].sort_values('scaled_weight', ascending=False)"
   ]
  },
  {
   "cell_type": "code",
   "execution_count": null,
   "id": "a76721f0-632a-4015-a347-c5f8aa54ceb4",
   "metadata": {},
   "outputs": [],
   "source": []
  },
  {
   "cell_type": "code",
   "execution_count": null,
   "id": "f7ebe9e3-5dc5-4d93-b558-1c45e289cd47",
   "metadata": {},
   "outputs": [],
   "source": []
  },
  {
   "cell_type": "code",
   "execution_count": null,
   "id": "71db5fc9-e45a-4f15-b339-7de86f7ddd8a",
   "metadata": {},
   "outputs": [],
   "source": []
  },
  {
   "cell_type": "markdown",
   "id": "0e0a4897-21fb-4f94-96ee-ec7157a9081a",
   "metadata": {},
   "source": [
    "logFC"
   ]
  },
  {
   "cell_type": "code",
   "execution_count": null,
   "id": "6ee26c82-df43-40c9-b4cf-be0c5b08bb2f",
   "metadata": {},
   "outputs": [],
   "source": [
    "from liana import logfc"
   ]
  },
  {
   "cell_type": "code",
   "execution_count": null,
   "id": "5910e6bc-c3ff-44a7-867c-e59c3f3a9091",
   "metadata": {},
   "outputs": [],
   "source": [
    "adata = logfc(adata, groupby='label')"
   ]
  },
  {
   "cell_type": "code",
   "execution_count": null,
   "id": "8e83c7fa-2ee8-42a9-bf8f-f5065a5ce21f",
   "metadata": {},
   "outputs": [],
   "source": [
    "adata.uns['liana_res'].sort_values('lr_logfc', ascending=False)"
   ]
  },
  {
   "cell_type": "code",
   "execution_count": null,
   "id": "dbb28aa4-8f20-45e1-a041-6796dd1f045f",
   "metadata": {},
   "outputs": [],
   "source": [
    "np.exp(1)"
   ]
  },
  {
   "cell_type": "code",
   "execution_count": null,
   "id": "23bd8ff5-b9bf-4718-a8af-ee9225e76d7a",
   "metadata": {},
   "outputs": [],
   "source": []
  },
  {
   "cell_type": "code",
   "execution_count": null,
   "id": "8b083646-d111-4f0c-a2bd-dbc6c7415e82",
   "metadata": {},
   "outputs": [],
   "source": []
  },
  {
   "cell_type": "markdown",
   "id": "2b1733cb-cb90-4bd8-a331-ba42d119669e",
   "metadata": {
    "tags": []
   },
   "source": [
    "try w/ real data"
   ]
  },
  {
   "cell_type": "code",
   "execution_count": null,
   "id": "410040b2-fb80-4b5c-8525-a5195e3d507e",
   "metadata": {},
   "outputs": [],
   "source": [
    "adata = sc.datasets.pbmc3k_processed()\n",
    "labels = adata.obs.louvain\n",
    "cells = adata.obs_names"
   ]
  },
  {
   "cell_type": "code",
   "execution_count": null,
   "id": "948b33f6-e0c9-411c-bd65-00e114139844",
   "metadata": {},
   "outputs": [],
   "source": [
    "adata = sc.datasets.pbmc3k()"
   ]
  },
  {
   "cell_type": "code",
   "execution_count": null,
   "id": "fe5ffa6c-c547-47d2-a382-61aa812db2c7",
   "metadata": {},
   "outputs": [],
   "source": [
    "adata = adata[[x in cells for x in adata.obs_names]]"
   ]
  },
  {
   "cell_type": "code",
   "execution_count": null,
   "id": "d18fd93f-560e-4ced-8b50-bfbbf5278c31",
   "metadata": {},
   "outputs": [],
   "source": [
    "adata.obs['label'] = labels"
   ]
  },
  {
   "cell_type": "code",
   "execution_count": null,
   "id": "6c7fb31f-bac7-4e63-9406-c02c947c6e9a",
   "metadata": {},
   "outputs": [],
   "source": [
    "sc.pp.log1p(adata)"
   ]
  },
  {
   "cell_type": "code",
   "execution_count": null,
   "id": "254f0ae3-0a63-4874-884a-c2d3c49db8ae",
   "metadata": {},
   "outputs": [],
   "source": [
    "%%time\n",
    "adata = cellphonedb(adata, groupby='label', n_perms=1000)"
   ]
  },
  {
   "cell_type": "code",
   "execution_count": null,
   "id": "c823a041-4775-4d50-b0da-e7dea5bbf295",
   "metadata": {},
   "outputs": [],
   "source": []
  },
  {
   "cell_type": "code",
   "execution_count": null,
   "id": "90791727-f674-4689-8c9c-34ed441c70b9",
   "metadata": {},
   "outputs": [],
   "source": []
  },
  {
   "cell_type": "code",
   "execution_count": null,
   "id": "c92c76c4-5af2-4077-8c13-291d0456e3d8",
   "metadata": {},
   "outputs": [],
   "source": []
  },
  {
   "cell_type": "code",
   "execution_count": null,
   "id": "c26f6257-50f4-451b-bb01-9b7a64ced5b5",
   "metadata": {},
   "outputs": [],
   "source": []
  },
  {
   "cell_type": "code",
   "execution_count": null,
   "id": "9960bcad-69b4-4950-b6b0-523c15fc2dfa",
   "metadata": {},
   "outputs": [],
   "source": []
  },
  {
   "cell_type": "markdown",
   "id": "c4586fde-464c-4867-86d1-1ce1feadf798",
   "metadata": {
    "jp-MarkdownHeadingCollapsed": true,
    "tags": []
   },
   "source": [
    "## LIANA PIPE LINE BY LINE"
   ]
  },
  {
   "cell_type": "code",
   "execution_count": null,
   "id": "edb1a040-d1e1-4a0b-b973-02be0bb8cd61",
   "metadata": {},
   "outputs": [],
   "source": [
    "# I get this from the score object\n",
    "_complex_cols = ['ligand_means', 'receptor_means']\n",
    "# change to full list and move to _var\n",
    "_add_cols = ['ligand', 'receptor',\n",
    "             'ligand_means_sums', 'receptor_means_sums',\n",
    "             'ligand_zscores', 'receptor_zscores',\n",
    "             'ligand_logfoldchanges', 'receptor_logfoldchanges',\n",
    "             'ligand_logfc', 'receptor_logfc'\n",
    "             'mat_mean',\n",
    "             ]\n",
    "\n",
    "_key_cols = ['source', 'target', 'ligand_complex', 'receptor_complex']"
   ]
  },
  {
   "cell_type": "code",
   "execution_count": null,
   "id": "677ce5db-7b4e-4727-880c-2715dde979a7",
   "metadata": {},
   "outputs": [],
   "source": [
    "from liana.utils.pre import check_adata, check_if_covered, format_vars, filter_resource\n",
    "from liana.resource import select_resource\n",
    "from liana.resource.select_resource import explode_complexes\n",
    "from liana.steady.liana_pipe import _get_lr\n",
    "from liana.utils.reassemble_complexes import reassemble_complexes\n",
    "from scipy.sparse import csr_matrix\n",
    "from liana.steady._permutations import get_means_perms"
   ]
  },
  {
   "cell_type": "code",
   "execution_count": null,
   "id": "66ba6d05-d067-4558-a879-87394a6d866a",
   "metadata": {},
   "outputs": [],
   "source": []
  },
  {
   "cell_type": "markdown",
   "id": "e5f74ea3-9847-43e3-bd9b-cb1c312520ee",
   "metadata": {},
   "source": [
    "I need to double check if every step makes sense, as I build unit tests!!!\n",
    "\n",
    "For example, are there any duplicated rows (source, target, ligand_complex, receptor_complex)\n",
    "\n",
    "Double check again if correct subunit is kept, etc"
   ]
  },
  {
   "cell_type": "code",
   "execution_count": null,
   "id": "a62b0165-a084-4979-9110-a18fc6da2c0e",
   "metadata": {},
   "outputs": [],
   "source": [
    "adata = check_adata(adata, True)"
   ]
  },
  {
   "cell_type": "code",
   "execution_count": null,
   "id": "67ad1ece-1a1a-4bf9-b284-25764d7cb858",
   "metadata": {},
   "outputs": [],
   "source": []
  },
  {
   "cell_type": "code",
   "execution_count": null,
   "id": "19df65eb-c6d2-4866-bc22-9b320deae6e1",
   "metadata": {},
   "outputs": [],
   "source": [
    "# Define idents col name\n",
    "adata.obs.label = adata.obs[groupby]"
   ]
  },
  {
   "cell_type": "code",
   "execution_count": null,
   "id": "ff3885f0-ba02-43ae-ad3b-c9bbb742e196",
   "metadata": {},
   "outputs": [],
   "source": []
  },
  {
   "cell_type": "markdown",
   "id": "4ccdd879-64e2-4339-9b00-0adcea5edfbc",
   "metadata": {},
   "source": [
    "Load resource"
   ]
  },
  {
   "cell_type": "code",
   "execution_count": null,
   "id": "a2c2c0b2-d792-45d2-9d2a-35daa9f16842",
   "metadata": {},
   "outputs": [],
   "source": [
    "resource = select_resource(resource_name='consensus')"
   ]
  },
  {
   "cell_type": "code",
   "execution_count": null,
   "id": "8252d9a7-5445-4d61-8ed8-ab34af871ccb",
   "metadata": {},
   "outputs": [],
   "source": [
    "# Decomplexify\n",
    "resource = explode_complexes(resource)"
   ]
  },
  {
   "cell_type": "code",
   "execution_count": null,
   "id": "4a9a67d4-1e21-4a58-9965-ffc87aed78d2",
   "metadata": {},
   "outputs": [],
   "source": [
    "# Filter Resource\n",
    "resource = filter_resource(resource, adata.var_names)"
   ]
  },
  {
   "cell_type": "code",
   "execution_count": null,
   "id": "cdd684e0-9b50-4c62-8b6b-6f1ff1b24a4e",
   "metadata": {},
   "outputs": [],
   "source": []
  },
  {
   "cell_type": "markdown",
   "id": "d7f020fe-ce4e-43e5-a65a-c500256e38b6",
   "metadata": {},
   "source": [
    "Create entities"
   ]
  },
  {
   "cell_type": "code",
   "execution_count": null,
   "id": "f0af1ebc-c5d4-4fd1-9c95-45cf6081cfcf",
   "metadata": {},
   "outputs": [],
   "source": [
    "entities = np.union1d(np.unique(resource[\"ligand\"]), np.unique(resource[\"receptor\"]))"
   ]
  },
  {
   "cell_type": "code",
   "execution_count": null,
   "id": "bb4303e7-9e8b-4d07-b91a-ce70f4a3da0b",
   "metadata": {},
   "outputs": [],
   "source": []
  },
  {
   "cell_type": "markdown",
   "id": "777dd11b-34db-4cc9-b7d4-3e7600bbbd8e",
   "metadata": {},
   "source": [
    "Check overlap between resource and adata"
   ]
  },
  {
   "cell_type": "code",
   "execution_count": null,
   "id": "d2d31c65-84a2-4bd6-a034-0a64935d063d",
   "metadata": {},
   "outputs": [],
   "source": [
    "check_if_covered(entities, adata.var_keys)"
   ]
  },
  {
   "cell_type": "code",
   "execution_count": null,
   "id": "45763bd4-cb43-4500-a912-b2eaa6ae653e",
   "metadata": {},
   "outputs": [],
   "source": []
  },
  {
   "cell_type": "markdown",
   "id": "2b70f1f0-af71-4348-95bc-bfcd16bf7ca7",
   "metadata": {},
   "source": [
    "Get global mean for SCA before filtering"
   ]
  },
  {
   "cell_type": "code",
   "execution_count": null,
   "id": "46bb2ab6-c9e1-4d4d-b33f-bf81cbd88525",
   "metadata": {},
   "outputs": [],
   "source": [
    "if 'mat_mean' in _add_cols: # SHOULD BE METHOD NAME!\n",
    "    adata.uns['mat_mean'] = np.mean(adata.X)"
   ]
  },
  {
   "cell_type": "code",
   "execution_count": null,
   "id": "0773f2a3-862d-4ac5-8299-84c5e6fef47f",
   "metadata": {},
   "outputs": [],
   "source": []
  },
  {
   "cell_type": "code",
   "execution_count": null,
   "id": "b37b2a52-7e37-4be1-ac32-457690f5bb54",
   "metadata": {},
   "outputs": [],
   "source": [
    "# Filter to only include the relevant genes\n",
    "adata = adata[:,np.intersect1d(entities, adata.var.index)]\n",
    "adata"
   ]
  },
  {
   "cell_type": "code",
   "execution_count": null,
   "id": "33212579-8762-4c83-b7ef-dc2fd8875bdb",
   "metadata": {},
   "outputs": [],
   "source": []
  },
  {
   "cell_type": "markdown",
   "id": "86cf9a4c-1693-4470-99f8-02bd60beb367",
   "metadata": {
    "tags": []
   },
   "source": [
    "Get Stats"
   ]
  },
  {
   "cell_type": "code",
   "execution_count": null,
   "id": "27042d96-a874-457e-ad75-3c312b73301b",
   "metadata": {},
   "outputs": [],
   "source": [
    "lr_res = _get_lr(adata, resource, key_cols + _complex_cols + _add_cols, de_method)"
   ]
  },
  {
   "cell_type": "code",
   "execution_count": null,
   "id": "9afdd672-e818-410e-84e0-6fb9ba6fd6be",
   "metadata": {},
   "outputs": [],
   "source": [
    "lr_res"
   ]
  },
  {
   "cell_type": "code",
   "execution_count": null,
   "id": "bddca5f6-6913-49f0-8c06-630677a6ba45",
   "metadata": {},
   "outputs": [],
   "source": []
  },
  {
   "cell_type": "code",
   "execution_count": null,
   "id": "e6bf23dc-c6eb-4ac3-aa8f-f3ce27d910d8",
   "metadata": {},
   "outputs": [],
   "source": []
  },
  {
   "cell_type": "code",
   "execution_count": null,
   "id": "795ae60d-921c-4f2c-98fc-52f33d09f26e",
   "metadata": {},
   "outputs": [],
   "source": []
  },
  {
   "cell_type": "markdown",
   "id": "6d1326e7-4437-40ed-9d65-c93ef5c1e33d",
   "metadata": {},
   "source": [
    "Recomplexify"
   ]
  },
  {
   "cell_type": "code",
   "execution_count": null,
   "id": "2e39a9e4-77ae-4e2b-ab0b-579d508f1347",
   "metadata": {},
   "outputs": [],
   "source": [
    "# If I want to implement anything else but the min as complex policy, I would need to change this:\n",
    "# temp = temp[[x==\"INHBA_INHBB\" for x in temp['ligand_complex']]].sort_values('receptor_complex')\n",
    "# temp = temp[[x==\"ACVR1B_ACVR2A\" for x in temp['receptor_complex']]]"
   ]
  },
  {
   "cell_type": "code",
   "execution_count": null,
   "id": "a78ea33f-4eca-47ef-bca1-af01ca844810",
   "metadata": {},
   "outputs": [],
   "source": [
    "lr_res = reassemble_complexes(lr_res, _key_cols, _complex_cols)"
   ]
  },
  {
   "cell_type": "code",
   "execution_count": null,
   "id": "db1b04d4-f354-43a1-bf92-2bc84556e7ba",
   "metadata": {},
   "outputs": [],
   "source": [
    "lr_res"
   ]
  },
  {
   "cell_type": "code",
   "execution_count": null,
   "id": "13246735-7446-41f9-b4d2-ee84d7514ead",
   "metadata": {},
   "outputs": [],
   "source": []
  },
  {
   "cell_type": "code",
   "execution_count": null,
   "id": "a0911c89-4141-4449-aaba-5d08be4ed2de",
   "metadata": {},
   "outputs": [],
   "source": []
  },
  {
   "cell_type": "code",
   "execution_count": null,
   "id": "45209cd9-4cd1-4a8c-879a-f681bf92210b",
   "metadata": {},
   "outputs": [],
   "source": []
  },
  {
   "cell_type": "markdown",
   "id": "efbeae9b-4df7-42ca-9b2c-9a1e7bedba08",
   "metadata": {},
   "source": [
    "### SCORES"
   ]
  },
  {
   "cell_type": "code",
   "execution_count": null,
   "id": "1061bfc5-ddfa-46dc-a39c-39e6042b215f",
   "metadata": {},
   "outputs": [],
   "source": [
    "from liana.steady.Method import Method, MethodMeta\n",
    "from liana.steady.scores.cellphonedb import _cpdb_score"
   ]
  },
  {
   "cell_type": "code",
   "execution_count": null,
   "id": "675c2240-c993-4fdd-92da-7d2ed4ee0228",
   "metadata": {},
   "outputs": [],
   "source": []
  },
  {
   "cell_type": "markdown",
   "id": "941603a4-9eaf-4bcd-a8b8-4f6a6574ebe5",
   "metadata": {},
   "source": [
    "CELLPHONEDB"
   ]
  },
  {
   "cell_type": "code",
   "execution_count": null,
   "id": "4284a51c-55a5-47b4-ab9b-ba3b3ba93aac",
   "metadata": {},
   "outputs": [],
   "source": [
    "_cellphonedb = MethodMeta(method_name = \"cellphonedb\",\n",
    "                          complex_cols = ['ligand_means', 'receptor_means'], \n",
    "                          add_cols = ['ligand', 'receptor'],\n",
    "                          fun = _cpdb_score,\n",
    "                          magnitude = 'lr_means',\n",
    "                          specificity = 'pvals',\n",
    "                          permute = True,\n",
    "                          reference = 'Efremova et al., 2020')"
   ]
  },
  {
   "cell_type": "code",
   "execution_count": null,
   "id": "79fc87a0-4d92-4adc-a3a3-e611c7f3b3b8",
   "metadata": {},
   "outputs": [],
   "source": [
    "cellphonedb = Method(_SCORE=_cellphonedb)"
   ]
  },
  {
   "cell_type": "code",
   "execution_count": null,
   "id": "d2d39d47-ae35-4109-b413-52d1caadda1c",
   "metadata": {},
   "outputs": [],
   "source": [
    "adata = cellphonedb(adata, groupby, seed=666)"
   ]
  },
  {
   "cell_type": "code",
   "execution_count": null,
   "id": "25e905eb-af83-4259-8e18-6b31ebb543c5",
   "metadata": {},
   "outputs": [],
   "source": [
    "adata.uns['liana_res']"
   ]
  },
  {
   "cell_type": "code",
   "execution_count": null,
   "id": "e7801646-121c-413a-be5a-aef31b5b35ee",
   "metadata": {},
   "outputs": [],
   "source": []
  },
  {
   "cell_type": "code",
   "execution_count": null,
   "id": "fd6d8272-289c-42c5-9f96-7ba76587b80b",
   "metadata": {},
   "outputs": [],
   "source": []
  },
  {
   "cell_type": "code",
   "execution_count": null,
   "id": "49686ceb-dd20-48ee-a0ad-20ac3646a809",
   "metadata": {},
   "outputs": [],
   "source": []
  },
  {
   "cell_type": "markdown",
   "id": "a67d9786-388a-4c8d-b868-5539a3602f5c",
   "metadata": {},
   "source": [
    "logFC re-implement"
   ]
  },
  {
   "cell_type": "markdown",
   "id": "194266ec-e8cf-4f65-963f-a3f9e2939f67",
   "metadata": {},
   "source": [
    "Magnitude as None"
   ]
  },
  {
   "cell_type": "code",
   "execution_count": null,
   "id": "c4f096b2-d4bd-4581-8f41-4774f14c6f0a",
   "metadata": {},
   "outputs": [],
   "source": []
  },
  {
   "cell_type": "code",
   "execution_count": null,
   "id": "0201fba8-13b0-4923-9539-fd1cbe27e2e0",
   "metadata": {},
   "outputs": [],
   "source": []
  },
  {
   "cell_type": "code",
   "execution_count": null,
   "id": "0699d6ec-68cb-4b49-84c0-d2722d40e90e",
   "metadata": {},
   "outputs": [],
   "source": [
    "lr_res['logfc'] = lr_res[['ligand_logfoldchanges', 'receptor_logfoldchanges']].mean(1)"
   ]
  },
  {
   "cell_type": "code",
   "execution_count": null,
   "id": "51064b93-983f-4c16-adb9-ca54a2e1cb62",
   "metadata": {},
   "outputs": [],
   "source": []
  },
  {
   "cell_type": "code",
   "execution_count": null,
   "id": "b3482e1c-c433-4712-bf1d-ba0494c0a314",
   "metadata": {},
   "outputs": [],
   "source": [
    "lr_res.sort_values(by='logfc', key=abs, ascending=False)"
   ]
  },
  {
   "cell_type": "code",
   "execution_count": null,
   "id": "fab2e516-7f93-4850-9907-2deaa2650c73",
   "metadata": {},
   "outputs": [],
   "source": []
  },
  {
   "cell_type": "markdown",
   "id": "7fb95f6b-db28-494b-83f8-de6b7c9b2048",
   "metadata": {},
   "source": [
    "Re-implement Connectome"
   ]
  },
  {
   "cell_type": "markdown",
   "id": "e50d075c-f537-4677-b1b0-e2837e29a5f8",
   "metadata": {},
   "source": [
    "Both Specificity and Magnitude"
   ]
  },
  {
   "cell_type": "code",
   "execution_count": null,
   "id": "a3d0a012-69e9-47c6-bb48-66641647cea8",
   "metadata": {},
   "outputs": [],
   "source": [
    "lr_res['edge_weight'] = lr_res[['ligand_zscores', 'receptor_zscores']].mean(1)"
   ]
  },
  {
   "cell_type": "code",
   "execution_count": null,
   "id": "c95a783e-52d8-44e8-b735-bbe54bef1972",
   "metadata": {},
   "outputs": [],
   "source": []
  }
 ],
 "metadata": {
  "kernelspec": {
   "display_name": "liana-py",
   "language": "python",
   "name": "liana-py"
  },
  "language_info": {
   "codemirror_mode": {
    "name": "ipython",
    "version": 3
   },
   "file_extension": ".py",
   "mimetype": "text/x-python",
   "name": "python",
   "nbconvert_exporter": "python",
   "pygments_lexer": "ipython3",
   "version": "3.8.8"
  }
 },
 "nbformat": 4,
 "nbformat_minor": 5
}
