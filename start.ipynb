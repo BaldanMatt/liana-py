{
 "cells": [
  {
   "cell_type": "code",
   "execution_count": 1,
   "id": "4a6561fa-18d6-459b-a010-51b7d9fae1d4",
   "metadata": {},
   "outputs": [],
   "source": [
    "import scanpy as sc\n",
    "import pandas as pd\n",
    "import numpy as np"
   ]
  },
  {
   "cell_type": "code",
   "execution_count": null,
   "id": "d333ea8e-aeca-4746-887b-33ec6b6b1b17",
   "metadata": {},
   "outputs": [],
   "source": []
  },
  {
   "cell_type": "markdown",
   "id": "f65dcb30-df9e-4ab9-a2f5-b2cb30ba58c0",
   "metadata": {},
   "source": [
    "Load anndata"
   ]
  },
  {
   "cell_type": "code",
   "execution_count": 32,
   "id": "3be28d50-be89-46ae-b3ec-e8878844a0ab",
   "metadata": {},
   "outputs": [],
   "source": [
    "adata = sc.read_h5ad(\"test.h5ad\")"
   ]
  },
  {
   "cell_type": "code",
   "execution_count": 31,
   "id": "72dce8c7-08ec-473c-be56-7eadb814c846",
   "metadata": {},
   "outputs": [],
   "source": [
    "# lognorm should be the default (expected)\n",
    "adata.X = adata.layers['logcounts']"
   ]
  },
  {
   "cell_type": "code",
   "execution_count": 33,
   "id": "f7f7614b-4295-4d22-8866-6179bca7e1f3",
   "metadata": {},
   "outputs": [],
   "source": [
    "sc.pp.log1p(adata)"
   ]
  },
  {
   "cell_type": "code",
   "execution_count": 34,
   "id": "91c0df7c-c8f7-42e4-be0a-acd4c1a7961d",
   "metadata": {},
   "outputs": [
    {
     "data": {
      "text/plain": [
       "array([0.6931472, 0.6931472, 0.6931472, ..., 0.6931472, 0.6931472,\n",
       "       0.6931472], dtype=float32)"
      ]
     },
     "execution_count": 34,
     "metadata": {},
     "output_type": "execute_result"
    }
   ],
   "source": [
    "adata.X.data"
   ]
  },
  {
   "cell_type": "code",
   "execution_count": null,
   "id": "329c949e-98a6-4928-b9b7-1a7b548b2974",
   "metadata": {},
   "outputs": [],
   "source": []
  },
  {
   "cell_type": "markdown",
   "id": "04043a54-1480-41be-b134-b55911ff9027",
   "metadata": {},
   "source": [
    "Parameters"
   ]
  },
  {
   "cell_type": "code",
   "execution_count": 3,
   "id": "8749bb33-5c01-49b3-8fe1-cb8b167a8b28",
   "metadata": {},
   "outputs": [],
   "source": [
    "groupby='label'"
   ]
  },
  {
   "cell_type": "code",
   "execution_count": 4,
   "id": "6581703e-86e5-4f50-ab07-2f1791be9e67",
   "metadata": {},
   "outputs": [],
   "source": [
    "de_method='wilcoxon'"
   ]
  },
  {
   "cell_type": "code",
   "execution_count": 5,
   "id": "9dabcf57-ad50-4fa5-a102-408b893cf6d7",
   "metadata": {},
   "outputs": [],
   "source": [
    "resource_name = 'consensus'"
   ]
  },
  {
   "cell_type": "code",
   "execution_count": 6,
   "id": "27f090b0-0d3e-44d6-a705-625377881521",
   "metadata": {},
   "outputs": [],
   "source": [
    "complex_policy = 'min'"
   ]
  },
  {
   "cell_type": "code",
   "execution_count": 7,
   "id": "027cefb7-e362-49c4-906b-55a05cae3583",
   "metadata": {},
   "outputs": [],
   "source": [
    "key_cols = ['source', 'target', 'ligand_complex', 'receptor_complex']"
   ]
  },
  {
   "cell_type": "code",
   "execution_count": 8,
   "id": "e9ec3893-12f9-408f-9fae-6fd2b1bffffc",
   "metadata": {},
   "outputs": [],
   "source": [
    "verbose = False"
   ]
  },
  {
   "cell_type": "code",
   "execution_count": 9,
   "id": "6093e816-563e-4ff6-9c18-a7080bf3f864",
   "metadata": {},
   "outputs": [],
   "source": [
    "# only relevant if perms are done\n",
    "n_perms = 1000\n",
    "seed = 69"
   ]
  },
  {
   "cell_type": "code",
   "execution_count": null,
   "id": "739f39b6-12a4-46a4-9ee9-a58f15ee3498",
   "metadata": {},
   "outputs": [],
   "source": []
  },
  {
   "cell_type": "code",
   "execution_count": null,
   "id": "edb1a040-d1e1-4a0b-b973-02be0bb8cd61",
   "metadata": {},
   "outputs": [],
   "source": []
  },
  {
   "cell_type": "code",
   "execution_count": null,
   "id": "7b1bae2b-461c-49ae-9344-ee8146aa5fab",
   "metadata": {},
   "outputs": [],
   "source": []
  },
  {
   "cell_type": "markdown",
   "id": "309ef0d7-3696-485d-a169-743774b2e2a4",
   "metadata": {},
   "source": [
    "Run LIANA PIPE"
   ]
  },
  {
   "cell_type": "code",
   "execution_count": null,
   "id": "101f0bdd-c6a0-400b-b64e-b6ba21df9ae5",
   "metadata": {},
   "outputs": [],
   "source": [
    "from liana import liana_pipe"
   ]
  },
  {
   "cell_type": "code",
   "execution_count": null,
   "id": "1bdd36ab-1ce6-4842-8b8f-d9a5f74ac660",
   "metadata": {},
   "outputs": [],
   "source": [
    "lr_res = liana_pipe(adata=adata, \n",
    "                    groupby=groupby, \n",
    "                    resource_name=resource_name,\n",
    "                    de_method=de_method,\n",
    "                    n_perms=n_perms,\n",
    "                    seed=seed,\n",
    "                    verbose=verbose,\n",
    "                    _key_cols=key_cols,\n",
    "                    resource=None)"
   ]
  },
  {
   "cell_type": "code",
   "execution_count": null,
   "id": "18e522eb-d6b2-4dab-acfd-9877065fb167",
   "metadata": {},
   "outputs": [],
   "source": [
    "lr_res"
   ]
  },
  {
   "cell_type": "code",
   "execution_count": null,
   "id": "dc0282ba-35c4-4e79-8e13-2400d9fd989f",
   "metadata": {},
   "outputs": [],
   "source": []
  },
  {
   "cell_type": "code",
   "execution_count": null,
   "id": "4fa5b454-1dae-47ce-9455-9d88e91988fb",
   "metadata": {},
   "outputs": [],
   "source": []
  },
  {
   "cell_type": "code",
   "execution_count": null,
   "id": "7025b66e-88e8-4b6b-a6e1-1ea4bce8ef2e",
   "metadata": {},
   "outputs": [],
   "source": []
  },
  {
   "cell_type": "markdown",
   "id": "bbc202fb-8b2a-4659-821f-b52a2f957269",
   "metadata": {},
   "source": [
    "CellPhoneDB"
   ]
  },
  {
   "cell_type": "code",
   "execution_count": null,
   "id": "f34a6a93-f823-4c50-a716-6d9f7aa873a2",
   "metadata": {},
   "outputs": [],
   "source": [
    "from liana import cellphonedb"
   ]
  },
  {
   "cell_type": "code",
   "execution_count": null,
   "id": "ae10eb86-43f0-49eb-a2ce-bc4ef2b4a030",
   "metadata": {},
   "outputs": [],
   "source": [
    "%%time\n",
    "adata = cellphonedb(adata, groupby='label', n_perms=1000)"
   ]
  },
  {
   "cell_type": "code",
   "execution_count": null,
   "id": "5da48042-4f6a-463f-9900-35cf075e8157",
   "metadata": {},
   "outputs": [],
   "source": [
    "adata.uns['liana_res']"
   ]
  },
  {
   "cell_type": "code",
   "execution_count": null,
   "id": "05070b28-53a6-457f-b8ee-f776ccde22e6",
   "metadata": {},
   "outputs": [],
   "source": []
  },
  {
   "cell_type": "code",
   "execution_count": null,
   "id": "6fadac1c-d620-45be-9659-d863ec129fad",
   "metadata": {},
   "outputs": [],
   "source": []
  },
  {
   "cell_type": "markdown",
   "id": "ac370eac-2c34-462b-a84a-f571c6627e4b",
   "metadata": {},
   "source": [
    "NATMI"
   ]
  },
  {
   "cell_type": "code",
   "execution_count": null,
   "id": "2a67dd14-3e89-40fa-a6d1-a27d9acaba59",
   "metadata": {},
   "outputs": [],
   "source": [
    "from liana import natmi"
   ]
  },
  {
   "cell_type": "code",
   "execution_count": null,
   "id": "bb3017ab-1d8e-4704-9012-2bceb959dc13",
   "metadata": {},
   "outputs": [],
   "source": [
    "adata = natmi(adata, groupby='label')"
   ]
  },
  {
   "cell_type": "code",
   "execution_count": null,
   "id": "7e53c204-d252-4d19-aa94-20d19e9e41f1",
   "metadata": {},
   "outputs": [],
   "source": [
    "adata.uns['liana_res']"
   ]
  },
  {
   "cell_type": "code",
   "execution_count": null,
   "id": "278f0447-3ad6-4a85-97ec-1274fbf18a45",
   "metadata": {},
   "outputs": [],
   "source": []
  },
  {
   "cell_type": "code",
   "execution_count": null,
   "id": "7727dc8a-1205-4e29-85e9-a0cf1571098c",
   "metadata": {},
   "outputs": [],
   "source": []
  },
  {
   "cell_type": "markdown",
   "id": "7ec44baa-0cd3-4eb6-9f7b-a5e325b6f692",
   "metadata": {},
   "source": [
    "SCA"
   ]
  },
  {
   "cell_type": "code",
   "execution_count": null,
   "id": "f57a9a05-689c-44df-9915-50c5dfc3a494",
   "metadata": {},
   "outputs": [],
   "source": [
    "from liana import singlecellsignalr as sca"
   ]
  },
  {
   "cell_type": "code",
   "execution_count": null,
   "id": "fdb9b416-7e42-4c76-bac0-32f148e28fb7",
   "metadata": {},
   "outputs": [],
   "source": [
    "adata = sca(adata, groupby='label')"
   ]
  },
  {
   "cell_type": "code",
   "execution_count": null,
   "id": "ba4b4d5a-f417-440c-a88d-68ef92aa658b",
   "metadata": {},
   "outputs": [],
   "source": [
    "adata.uns['liana_res'].sort_values('lr_means', ascending=True)"
   ]
  },
  {
   "cell_type": "code",
   "execution_count": null,
   "id": "a4c5e360-0560-4e5f-8d52-696ee1bd2a84",
   "metadata": {},
   "outputs": [],
   "source": []
  },
  {
   "cell_type": "code",
   "execution_count": null,
   "id": "b0af474f-281c-44d7-ab79-fef31d354c9d",
   "metadata": {},
   "outputs": [],
   "source": []
  },
  {
   "cell_type": "markdown",
   "id": "d0fcd85f-2505-4f9e-ae47-069432720f74",
   "metadata": {},
   "source": [
    "Connectome"
   ]
  },
  {
   "cell_type": "code",
   "execution_count": null,
   "id": "1a2e6124-01e6-411c-b1e1-669bded091dd",
   "metadata": {},
   "outputs": [],
   "source": [
    "from liana import connectome"
   ]
  },
  {
   "cell_type": "code",
   "execution_count": null,
   "id": "6c74db4a-cd6b-4db1-bee7-58f4a4375e7a",
   "metadata": {},
   "outputs": [],
   "source": [
    "adata = connectome(adata, groupby='label')"
   ]
  },
  {
   "cell_type": "code",
   "execution_count": null,
   "id": "1a9ea8d6-b1e1-4fc3-976e-ded3d73f9547",
   "metadata": {},
   "outputs": [],
   "source": [
    "adata.uns['liana_res'].sort_values('scaled_weight', ascending=False)"
   ]
  },
  {
   "cell_type": "code",
   "execution_count": null,
   "id": "71db5fc9-e45a-4f15-b339-7de86f7ddd8a",
   "metadata": {},
   "outputs": [],
   "source": []
  },
  {
   "cell_type": "markdown",
   "id": "0e0a4897-21fb-4f94-96ee-ec7157a9081a",
   "metadata": {},
   "source": [
    "logFC"
   ]
  },
  {
   "cell_type": "code",
   "execution_count": 35,
   "id": "6ee26c82-df43-40c9-b4cf-be0c5b08bb2f",
   "metadata": {},
   "outputs": [],
   "source": [
    "from liana import logfc"
   ]
  },
  {
   "cell_type": "code",
   "execution_count": 36,
   "id": "5910e6bc-c3ff-44a7-867c-e59c3f3a9091",
   "metadata": {},
   "outputs": [
    {
     "name": "stderr",
     "output_type": "stream",
     "text": [
      "/home/dbdimitrov/anaconda3/lib/python3.8/site-packages/anndata/compat/_overloaded_dict.py:106: ImplicitModificationWarning: Trying to modify attribute `._uns` of view, initializing view as actual.\n",
      "  self.data[key] = value\n",
      "/home/dbdimitrov/Repos/liana-py/liana/utils/reassemble_complexes.py:45: FutureWarning: In a future version of pandas all arguments of DataFrame.drop except for the argument 'labels' will be keyword-only\n",
      "  lr_res = lr_res.obj.merge(cols_dict[col], left_on=left_on,\n"
     ]
    }
   ],
   "source": [
    "adata = logfc(adata, groupby='label')"
   ]
  },
  {
   "cell_type": "code",
   "execution_count": 37,
   "id": "8e83c7fa-2ee8-42a9-bf8f-f5065a5ce21f",
   "metadata": {},
   "outputs": [
    {
     "data": {
      "text/html": [
       "<div>\n",
       "<style scoped>\n",
       "    .dataframe tbody tr th:only-of-type {\n",
       "        vertical-align: middle;\n",
       "    }\n",
       "\n",
       "    .dataframe tbody tr th {\n",
       "        vertical-align: top;\n",
       "    }\n",
       "\n",
       "    .dataframe thead th {\n",
       "        text-align: right;\n",
       "    }\n",
       "</style>\n",
       "<table border=\"1\" class=\"dataframe\">\n",
       "  <thead>\n",
       "    <tr style=\"text-align: right;\">\n",
       "      <th></th>\n",
       "      <th>ligand</th>\n",
       "      <th>ligand_complex</th>\n",
       "      <th>ligand_logfoldchanges</th>\n",
       "      <th>ligand_means</th>\n",
       "      <th>receptor</th>\n",
       "      <th>receptor_complex</th>\n",
       "      <th>receptor_logfoldchanges</th>\n",
       "      <th>receptor_means</th>\n",
       "      <th>source</th>\n",
       "      <th>target</th>\n",
       "      <th>lr_logfc</th>\n",
       "    </tr>\n",
       "  </thead>\n",
       "  <tbody>\n",
       "    <tr>\n",
       "      <th>2570</th>\n",
       "      <td>SNCA</td>\n",
       "      <td>SNCA</td>\n",
       "      <td>25.495157</td>\n",
       "      <td>0.046210</td>\n",
       "      <td>LAG3</td>\n",
       "      <td>LAG3</td>\n",
       "      <td>28.832178</td>\n",
       "      <td>0.390632</td>\n",
       "      <td>NK</td>\n",
       "      <td>CD8 T</td>\n",
       "      <td>27.163668</td>\n",
       "    </tr>\n",
       "    <tr>\n",
       "      <th>285</th>\n",
       "      <td>HBEGF</td>\n",
       "      <td>HBEGF</td>\n",
       "      <td>26.823776</td>\n",
       "      <td>0.112243</td>\n",
       "      <td>CD9</td>\n",
       "      <td>CD9</td>\n",
       "      <td>25.495157</td>\n",
       "      <td>0.046210</td>\n",
       "      <td>B</td>\n",
       "      <td>B</td>\n",
       "      <td>26.159467</td>\n",
       "    </tr>\n",
       "    <tr>\n",
       "      <th>1366</th>\n",
       "      <td>CCL4L1</td>\n",
       "      <td>CCL4L1</td>\n",
       "      <td>26.646002</td>\n",
       "      <td>0.099858</td>\n",
       "      <td>CCR1</td>\n",
       "      <td>CCR1</td>\n",
       "      <td>24.478395</td>\n",
       "      <td>0.023105</td>\n",
       "      <td>NK</td>\n",
       "      <td>B</td>\n",
       "      <td>25.562199</td>\n",
       "    </tr>\n",
       "    <tr>\n",
       "      <th>48</th>\n",
       "      <td>IL6</td>\n",
       "      <td>IL6</td>\n",
       "      <td>26.363815</td>\n",
       "      <td>0.082830</td>\n",
       "      <td>IL6R</td>\n",
       "      <td>IL6R_IL6ST</td>\n",
       "      <td>24.478395</td>\n",
       "      <td>0.023105</td>\n",
       "      <td>B</td>\n",
       "      <td>B</td>\n",
       "      <td>25.421105</td>\n",
       "    </tr>\n",
       "    <tr>\n",
       "      <th>1202</th>\n",
       "      <td>CSF1</td>\n",
       "      <td>CSF1</td>\n",
       "      <td>24.478395</td>\n",
       "      <td>0.023105</td>\n",
       "      <td>CSF3R</td>\n",
       "      <td>CSF3R</td>\n",
       "      <td>26.096947</td>\n",
       "      <td>0.069315</td>\n",
       "      <td>NK</td>\n",
       "      <td>B</td>\n",
       "      <td>25.287671</td>\n",
       "    </tr>\n",
       "    <tr>\n",
       "      <th>...</th>\n",
       "      <td>...</td>\n",
       "      <td>...</td>\n",
       "      <td>...</td>\n",
       "      <td>...</td>\n",
       "      <td>...</td>\n",
       "      <td>...</td>\n",
       "      <td>...</td>\n",
       "      <td>...</td>\n",
       "      <td>...</td>\n",
       "      <td>...</td>\n",
       "      <td>...</td>\n",
       "    </tr>\n",
       "    <tr>\n",
       "      <th>3273</th>\n",
       "      <td>CCL3</td>\n",
       "      <td>CCL3</td>\n",
       "      <td>-28.515085</td>\n",
       "      <td>0.000000</td>\n",
       "      <td>CCR5</td>\n",
       "      <td>CCR5</td>\n",
       "      <td>-25.071732</td>\n",
       "      <td>0.000000</td>\n",
       "      <td>B</td>\n",
       "      <td>NK</td>\n",
       "      <td>-26.793408</td>\n",
       "    </tr>\n",
       "    <tr>\n",
       "      <th>3974</th>\n",
       "      <td>HLA-DQA2</td>\n",
       "      <td>HLA-DQA2</td>\n",
       "      <td>-28.928041</td>\n",
       "      <td>0.000000</td>\n",
       "      <td>CD4</td>\n",
       "      <td>CD4</td>\n",
       "      <td>-25.071732</td>\n",
       "      <td>0.000000</td>\n",
       "      <td>NK</td>\n",
       "      <td>NK</td>\n",
       "      <td>-26.999887</td>\n",
       "    </tr>\n",
       "    <tr>\n",
       "      <th>2379</th>\n",
       "      <td>LY86</td>\n",
       "      <td>LY86</td>\n",
       "      <td>-28.301449</td>\n",
       "      <td>0.000000</td>\n",
       "      <td>CD180</td>\n",
       "      <td>CD180</td>\n",
       "      <td>-26.735697</td>\n",
       "      <td>0.000000</td>\n",
       "      <td>CD8 T</td>\n",
       "      <td>CD8 T</td>\n",
       "      <td>-27.518573</td>\n",
       "    </tr>\n",
       "    <tr>\n",
       "      <th>3987</th>\n",
       "      <td>HLA-DQA2</td>\n",
       "      <td>HLA-DQA2</td>\n",
       "      <td>-28.928041</td>\n",
       "      <td>0.000000</td>\n",
       "      <td>LAG3</td>\n",
       "      <td>LAG3</td>\n",
       "      <td>-27.684418</td>\n",
       "      <td>0.000000</td>\n",
       "      <td>NK</td>\n",
       "      <td>NK</td>\n",
       "      <td>-28.306230</td>\n",
       "    </tr>\n",
       "    <tr>\n",
       "      <th>1127</th>\n",
       "      <td>HLA-DQA2</td>\n",
       "      <td>HLA-DQA2</td>\n",
       "      <td>-28.928041</td>\n",
       "      <td>0.000000</td>\n",
       "      <td>LAG3</td>\n",
       "      <td>LAG3</td>\n",
       "      <td>-27.684418</td>\n",
       "      <td>0.000000</td>\n",
       "      <td>NK</td>\n",
       "      <td>B</td>\n",
       "      <td>-28.306230</td>\n",
       "    </tr>\n",
       "  </tbody>\n",
       "</table>\n",
       "<p>4302 rows × 11 columns</p>\n",
       "</div>"
      ],
      "text/plain": [
       "        ligand ligand_complex  ligand_logfoldchanges  ligand_means receptor  \\\n",
       "2570      SNCA           SNCA              25.495157      0.046210     LAG3   \n",
       "285      HBEGF          HBEGF              26.823776      0.112243      CD9   \n",
       "1366    CCL4L1         CCL4L1              26.646002      0.099858     CCR1   \n",
       "48         IL6            IL6              26.363815      0.082830     IL6R   \n",
       "1202      CSF1           CSF1              24.478395      0.023105    CSF3R   \n",
       "...        ...            ...                    ...           ...      ...   \n",
       "3273      CCL3           CCL3             -28.515085      0.000000     CCR5   \n",
       "3974  HLA-DQA2       HLA-DQA2             -28.928041      0.000000      CD4   \n",
       "2379      LY86           LY86             -28.301449      0.000000    CD180   \n",
       "3987  HLA-DQA2       HLA-DQA2             -28.928041      0.000000     LAG3   \n",
       "1127  HLA-DQA2       HLA-DQA2             -28.928041      0.000000     LAG3   \n",
       "\n",
       "     receptor_complex  receptor_logfoldchanges  receptor_means source target  \\\n",
       "2570             LAG3                28.832178        0.390632     NK  CD8 T   \n",
       "285               CD9                25.495157        0.046210      B      B   \n",
       "1366             CCR1                24.478395        0.023105     NK      B   \n",
       "48         IL6R_IL6ST                24.478395        0.023105      B      B   \n",
       "1202            CSF3R                26.096947        0.069315     NK      B   \n",
       "...               ...                      ...             ...    ...    ...   \n",
       "3273             CCR5               -25.071732        0.000000      B     NK   \n",
       "3974              CD4               -25.071732        0.000000     NK     NK   \n",
       "2379            CD180               -26.735697        0.000000  CD8 T  CD8 T   \n",
       "3987             LAG3               -27.684418        0.000000     NK     NK   \n",
       "1127             LAG3               -27.684418        0.000000     NK      B   \n",
       "\n",
       "       lr_logfc  \n",
       "2570  27.163668  \n",
       "285   26.159467  \n",
       "1366  25.562199  \n",
       "48    25.421105  \n",
       "1202  25.287671  \n",
       "...         ...  \n",
       "3273 -26.793408  \n",
       "3974 -26.999887  \n",
       "2379 -27.518573  \n",
       "3987 -28.306230  \n",
       "1127 -28.306230  \n",
       "\n",
       "[4302 rows x 11 columns]"
      ]
     },
     "execution_count": 37,
     "metadata": {},
     "output_type": "execute_result"
    }
   ],
   "source": [
    "adata.uns['liana_res'].sort_values('lr_logfc', ascending=False)"
   ]
  },
  {
   "cell_type": "code",
   "execution_count": null,
   "id": "dbb28aa4-8f20-45e1-a041-6796dd1f045f",
   "metadata": {},
   "outputs": [],
   "source": []
  },
  {
   "cell_type": "code",
   "execution_count": null,
   "id": "9a01858e-16cf-4cf0-ad93-48af8707ffa9",
   "metadata": {},
   "outputs": [],
   "source": []
  },
  {
   "cell_type": "code",
   "execution_count": null,
   "id": "1847e71a-a3e1-4827-977d-4fb6c0020e93",
   "metadata": {},
   "outputs": [],
   "source": []
  },
  {
   "cell_type": "code",
   "execution_count": null,
   "id": "23bd8ff5-b9bf-4718-a8af-ee9225e76d7a",
   "metadata": {},
   "outputs": [],
   "source": []
  },
  {
   "cell_type": "code",
   "execution_count": 40,
   "id": "65402d77-f782-47e7-a314-6bacc2c17975",
   "metadata": {},
   "outputs": [],
   "source": [
    "sc.tl.rank_genes_groups(adata, groupby='label', method='t-test')"
   ]
  },
  {
   "cell_type": "code",
   "execution_count": 41,
   "id": "b5976fce-82d5-4dce-8786-68efa187ccfb",
   "metadata": {},
   "outputs": [
    {
     "data": {
      "text/plain": [
       "{'params': {'groupby': 'label',\n",
       "  'reference': 'rest',\n",
       "  'method': 't-test',\n",
       "  'use_raw': False,\n",
       "  'layer': None,\n",
       "  'corr_method': 'benjamini-hochberg'},\n",
       " 'names': rec.array([('HLA-DRA', 'CD3D', 'GZMB'), ('CD74', 'CCL5', 'NKG7'),\n",
       "            ('CD79A', 'IL32', 'GNLY'), ..., ('GZMA', 'HLA-DRA', 'RPS15A'),\n",
       "            ('CST7', 'MS4A1', 'RPL13A'), ('NKG7', 'CD79A', 'RPL18A')],\n",
       "           dtype=[('B', 'O'), ('CD8 T', 'O'), ('NK', 'O')]),\n",
       " 'scores': rec.array([( 18.7136  ,  7.204122 , 13.451874 ),\n",
       "            ( 17.277943,  6.8825483, 12.048411 ),\n",
       "            ( 15.565128,  6.5389047, 10.872948 ), ...,\n",
       "            (-12.924437, -5.3705516, -7.7399793),\n",
       "            (-14.555808, -6.1603775, -8.078174 ),\n",
       "            (-20.80388 , -6.3216662, -8.952136 )],\n",
       "           dtype=[('B', '<f4'), ('CD8 T', '<f4'), ('NK', '<f4')]),\n",
       " 'pvals': rec.array([(2.01413975e-27, 1.74658172e-09, 7.50214331e-17),\n",
       "            (8.74068193e-29, 1.81197570e-09, 5.89067717e-20),\n",
       "            (8.36125549e-17, 6.83143769e-09, 2.51292385e-14), ...,\n",
       "            (1.29879076e-19, 6.34150637e-07, 2.74397238e-10),\n",
       "            (2.91463158e-24, 5.35533873e-08, 5.07690027e-11),\n",
       "            (5.50096036e-35, 1.63606241e-08, 1.63285231e-12)],\n",
       "           dtype=[('B', '<f8'), ('CD8 T', '<f8'), ('NK', '<f8')]),\n",
       " 'pvals_adj': rec.array([(6.88097277e-24, 9.28546946e-06, 3.84447334e-13),\n",
       "            (4.47916245e-25, 9.28546946e-06, 6.03735503e-16),\n",
       "            (1.22420725e-13, 2.33384683e-05, 6.43873914e-11), ...,\n",
       "            (2.21855109e-16, 1.08323498e-03, 2.16330561e-07),\n",
       "            (7.46801476e-21, 1.09773733e-04, 5.20331509e-08),\n",
       "            (5.63793428e-31, 4.19200091e-05, 2.39072905e-09)],\n",
       "           dtype=[('B', '<f8'), ('CD8 T', '<f8'), ('NK', '<f8')]),\n",
       " 'logfoldchanges': rec.array([( 5.376267 ,  2.984955 ,  5.41291  ),\n",
       "            ( 3.6990604,  2.7270503,  3.5665698),\n",
       "            ( 7.0283117,  2.4034338,  5.173677 ), ...,\n",
       "            (-6.9731417, -3.058579 , -1.4016944),\n",
       "            (-5.3553185, -5.4796443, -1.3188739),\n",
       "            (-6.615828 , -4.9578133, -1.5920594)],\n",
       "           dtype=[('B', '<f4'), ('CD8 T', '<f4'), ('NK', '<f4')])}"
      ]
     },
     "execution_count": 41,
     "metadata": {},
     "output_type": "execute_result"
    }
   ],
   "source": [
    "adata.uns['rank_genes_groups']"
   ]
  },
  {
   "cell_type": "code",
   "execution_count": null,
   "id": "bf4825a4-43c7-4343-a91e-9fa235d7ea56",
   "metadata": {},
   "outputs": [],
   "source": []
  },
  {
   "cell_type": "code",
   "execution_count": null,
   "id": "2f047f43-910d-4c37-a569-0f569c4e182e",
   "metadata": {},
   "outputs": [],
   "source": []
  },
  {
   "cell_type": "code",
   "execution_count": null,
   "id": "8b083646-d111-4f0c-a2bd-dbc6c7415e82",
   "metadata": {},
   "outputs": [],
   "source": []
  },
  {
   "cell_type": "markdown",
   "id": "2b1733cb-cb90-4bd8-a331-ba42d119669e",
   "metadata": {
    "tags": []
   },
   "source": [
    "try w/ real data"
   ]
  },
  {
   "cell_type": "code",
   "execution_count": null,
   "id": "410040b2-fb80-4b5c-8525-a5195e3d507e",
   "metadata": {},
   "outputs": [],
   "source": [
    "adata = sc.datasets.pbmc3k_processed()\n",
    "labels = adata.obs.louvain\n",
    "cells = adata.obs_names"
   ]
  },
  {
   "cell_type": "code",
   "execution_count": null,
   "id": "948b33f6-e0c9-411c-bd65-00e114139844",
   "metadata": {},
   "outputs": [],
   "source": [
    "adata = sc.datasets.pbmc3k()"
   ]
  },
  {
   "cell_type": "code",
   "execution_count": null,
   "id": "fe5ffa6c-c547-47d2-a382-61aa812db2c7",
   "metadata": {},
   "outputs": [],
   "source": [
    "adata = adata[[x in cells for x in adata.obs_names]]"
   ]
  },
  {
   "cell_type": "code",
   "execution_count": null,
   "id": "d18fd93f-560e-4ced-8b50-bfbbf5278c31",
   "metadata": {},
   "outputs": [],
   "source": [
    "adata.obs['label'] = labels"
   ]
  },
  {
   "cell_type": "code",
   "execution_count": null,
   "id": "6c7fb31f-bac7-4e63-9406-c02c947c6e9a",
   "metadata": {},
   "outputs": [],
   "source": [
    "sc.pp.log1p(adata)"
   ]
  },
  {
   "cell_type": "code",
   "execution_count": null,
   "id": "254f0ae3-0a63-4874-884a-c2d3c49db8ae",
   "metadata": {},
   "outputs": [],
   "source": [
    "%%time\n",
    "adata = cellphonedb(adata, groupby='label', n_perms=1000)"
   ]
  },
  {
   "cell_type": "code",
   "execution_count": null,
   "id": "c823a041-4775-4d50-b0da-e7dea5bbf295",
   "metadata": {},
   "outputs": [],
   "source": []
  },
  {
   "cell_type": "code",
   "execution_count": null,
   "id": "90791727-f674-4689-8c9c-34ed441c70b9",
   "metadata": {},
   "outputs": [],
   "source": []
  },
  {
   "cell_type": "code",
   "execution_count": null,
   "id": "c92c76c4-5af2-4077-8c13-291d0456e3d8",
   "metadata": {},
   "outputs": [],
   "source": []
  },
  {
   "cell_type": "code",
   "execution_count": null,
   "id": "487ce8fb-831c-46f4-ab34-b0c82e7297ce",
   "metadata": {},
   "outputs": [],
   "source": []
  },
  {
   "cell_type": "code",
   "execution_count": null,
   "id": "72aed386-0871-4e94-a736-0cccd36e146a",
   "metadata": {},
   "outputs": [],
   "source": []
  },
  {
   "cell_type": "code",
   "execution_count": null,
   "id": "23af3d2b-9de0-4d57-9246-25dfdcb55f6f",
   "metadata": {},
   "outputs": [],
   "source": []
  },
  {
   "cell_type": "markdown",
   "id": "9de09e66-10e4-4958-872c-f526da9ea99a",
   "metadata": {},
   "source": [
    "Calculate means_sums for NATMI"
   ]
  },
  {
   "cell_type": "code",
   "execution_count": null,
   "id": "9550bd42-7277-49cc-8327-760e9de11a9e",
   "metadata": {},
   "outputs": [],
   "source": [
    "def _sum_means(lr_res, what, on):\n",
    "    return lr_res.join(lr_res.groupby(on)[what].sum(), on=on, rsuffix='_sums')"
   ]
  },
  {
   "cell_type": "code",
   "execution_count": null,
   "id": "7dc0a1b9-8cf7-4c5e-bc00-c2120688f332",
   "metadata": {},
   "outputs": [],
   "source": [
    "lr_res = _sum_means(lr_res, what='ligand_means', on=['ligand_complex', 'receptor_complex', 'target'])\n",
    "lr_res = _sum_means(lr_res, what='receptor_means', on=['ligand_complex', 'receptor_complex', 'source'])"
   ]
  },
  {
   "cell_type": "code",
   "execution_count": null,
   "id": "c3c7ee5c-eb77-4d85-8ec6-937310f57c68",
   "metadata": {},
   "outputs": [],
   "source": [
    "lr_res"
   ]
  },
  {
   "cell_type": "code",
   "execution_count": null,
   "id": "f43b6354-5112-4745-9ca9-0333db52e8e7",
   "metadata": {},
   "outputs": [],
   "source": []
  },
  {
   "cell_type": "code",
   "execution_count": null,
   "id": "0ae3dac3-1d23-46d8-9cc8-5535869a9132",
   "metadata": {},
   "outputs": [],
   "source": []
  },
  {
   "cell_type": "markdown",
   "id": "798da5c0-6810-47de-a870-2817d06d4c23",
   "metadata": {},
   "source": [
    "NATMI fun"
   ]
  },
  {
   "cell_type": "markdown",
   "id": "289c1f51-58b7-4837-82dc-49f83f04cf03",
   "metadata": {},
   "source": [
    "Both magnitude and specificity! Returned to unpack!!!"
   ]
  },
  {
   "cell_type": "code",
   "execution_count": null,
   "id": "85c847f1-2462-4bf2-ac61-bb52f45e7bcd",
   "metadata": {},
   "outputs": [],
   "source": []
  },
  {
   "cell_type": "code",
   "execution_count": null,
   "id": "abe9762f-2491-46d8-88eb-143750d83fe6",
   "metadata": {},
   "outputs": [],
   "source": [
    "lr_res[['expr_prod','spec_weight']] = lr_res.apply(_natmi_score, axis=1, result_type=\"expand\")"
   ]
  },
  {
   "cell_type": "code",
   "execution_count": null,
   "id": "62988853-9c20-4fa6-a0fc-1bbb75e17026",
   "metadata": {},
   "outputs": [],
   "source": [
    "lr_res[lr_res['edge_specificity']==1].sort_values('ligand')"
   ]
  },
  {
   "cell_type": "code",
   "execution_count": null,
   "id": "49ce11cf-603c-405d-9045-6541ff13c355",
   "metadata": {},
   "outputs": [],
   "source": []
  },
  {
   "cell_type": "code",
   "execution_count": null,
   "id": "da9a4e47-86aa-438c-9198-5ed0ff85b542",
   "metadata": {},
   "outputs": [],
   "source": []
  },
  {
   "cell_type": "code",
   "execution_count": null,
   "id": "a10d9a48-c50b-413d-a56c-5484a9ba6e99",
   "metadata": {},
   "outputs": [],
   "source": []
  },
  {
   "cell_type": "code",
   "execution_count": null,
   "id": "c26f6257-50f4-451b-bb01-9b7a64ced5b5",
   "metadata": {},
   "outputs": [],
   "source": []
  },
  {
   "cell_type": "code",
   "execution_count": null,
   "id": "9960bcad-69b4-4950-b6b0-523c15fc2dfa",
   "metadata": {},
   "outputs": [],
   "source": []
  },
  {
   "cell_type": "markdown",
   "id": "c4586fde-464c-4867-86d1-1ce1feadf798",
   "metadata": {},
   "source": [
    "#### LIANA PIPE LINE BY LINE"
   ]
  },
  {
   "cell_type": "code",
   "execution_count": null,
   "id": "677ce5db-7b4e-4727-880c-2715dde979a7",
   "metadata": {},
   "outputs": [],
   "source": [
    "from liana.utils.pre import check_mat, check_if_covered, format_vars, filter_resource\n",
    "from liana.resource import select_resource\n",
    "from liana.resource.select_resource import explode_complexes\n",
    "from liana.steady.liana_pipe import _get_lr\n",
    "from liana.utils.reassemble_complexes import reassemble_complexes\n",
    "from scipy.sparse import csr_matrix\n",
    "from liana.scores import get_means_perms"
   ]
  },
  {
   "cell_type": "code",
   "execution_count": null,
   "id": "66ba6d05-d067-4558-a879-87394a6d866a",
   "metadata": {},
   "outputs": [],
   "source": []
  },
  {
   "cell_type": "markdown",
   "id": "e5f74ea3-9847-43e3-bd9b-cb1c312520ee",
   "metadata": {},
   "source": [
    "I need to double check if every step makes sense, as I build unit tests!!!\n",
    "\n",
    "For example, are there any duplicated rows (source, target, ligand_complex, receptor_complex)\n",
    "\n",
    "Double check again if correct subunit is kept, etc"
   ]
  },
  {
   "cell_type": "code",
   "execution_count": null,
   "id": "a62b0165-a084-4979-9110-a18fc6da2c0e",
   "metadata": {},
   "outputs": [],
   "source": [
    "adata.X = check_mat(adata.X, True)"
   ]
  },
  {
   "cell_type": "code",
   "execution_count": null,
   "id": "67ad1ece-1a1a-4bf9-b284-25764d7cb858",
   "metadata": {},
   "outputs": [],
   "source": []
  },
  {
   "cell_type": "code",
   "execution_count": null,
   "id": "19df65eb-c6d2-4866-bc22-9b320deae6e1",
   "metadata": {},
   "outputs": [],
   "source": [
    "# Define idents col name\n",
    "adata.obs.label = adata.obs[groupby]"
   ]
  },
  {
   "cell_type": "code",
   "execution_count": null,
   "id": "ff3885f0-ba02-43ae-ad3b-c9bbb742e196",
   "metadata": {},
   "outputs": [],
   "source": []
  },
  {
   "cell_type": "markdown",
   "id": "4ccdd879-64e2-4339-9b00-0adcea5edfbc",
   "metadata": {},
   "source": [
    "Load resource"
   ]
  },
  {
   "cell_type": "code",
   "execution_count": null,
   "id": "a2c2c0b2-d792-45d2-9d2a-35daa9f16842",
   "metadata": {},
   "outputs": [],
   "source": [
    "resource = select_resource(resource_name='consensus')"
   ]
  },
  {
   "cell_type": "code",
   "execution_count": null,
   "id": "8252d9a7-5445-4d61-8ed8-ab34af871ccb",
   "metadata": {},
   "outputs": [],
   "source": [
    "# Decomplexify\n",
    "resource = explode_complexes(resource)"
   ]
  },
  {
   "cell_type": "code",
   "execution_count": null,
   "id": "4a9a67d4-1e21-4a58-9965-ffc87aed78d2",
   "metadata": {},
   "outputs": [],
   "source": [
    "# Filter Resource\n",
    "resource = filter_resource(resource, adata.var_names)"
   ]
  },
  {
   "cell_type": "code",
   "execution_count": null,
   "id": "cdd684e0-9b50-4c62-8b6b-6f1ff1b24a4e",
   "metadata": {},
   "outputs": [],
   "source": []
  },
  {
   "cell_type": "markdown",
   "id": "d7f020fe-ce4e-43e5-a65a-c500256e38b6",
   "metadata": {},
   "source": [
    "Create entities"
   ]
  },
  {
   "cell_type": "code",
   "execution_count": null,
   "id": "f0af1ebc-c5d4-4fd1-9c95-45cf6081cfcf",
   "metadata": {},
   "outputs": [],
   "source": [
    "entities = np.union1d(np.unique(resource[\"ligand\"]), np.unique(resource[\"receptor\"]))"
   ]
  },
  {
   "cell_type": "code",
   "execution_count": null,
   "id": "bb4303e7-9e8b-4d07-b91a-ce70f4a3da0b",
   "metadata": {},
   "outputs": [],
   "source": []
  },
  {
   "cell_type": "markdown",
   "id": "777dd11b-34db-4cc9-b7d4-3e7600bbbd8e",
   "metadata": {},
   "source": [
    "Check overlap between resource and adata"
   ]
  },
  {
   "cell_type": "code",
   "execution_count": null,
   "id": "d2d31c65-84a2-4bd6-a034-0a64935d063d",
   "metadata": {},
   "outputs": [],
   "source": [
    "check_if_covered(entities, adata.var_keys)"
   ]
  },
  {
   "cell_type": "code",
   "execution_count": null,
   "id": "45763bd4-cb43-4500-a912-b2eaa6ae653e",
   "metadata": {},
   "outputs": [],
   "source": []
  },
  {
   "cell_type": "markdown",
   "id": "2b70f1f0-af71-4348-95bc-bfcd16bf7ca7",
   "metadata": {},
   "source": [
    "Get global mean for SCA before filtering"
   ]
  },
  {
   "cell_type": "code",
   "execution_count": null,
   "id": "46bb2ab6-c9e1-4d4d-b33f-bf81cbd88525",
   "metadata": {},
   "outputs": [],
   "source": [
    "if 'mat_mean' in add_cols: # SHOULD BE METHOD NAME!\n",
    "    adata.uns['mat_mean'] = np.mean(adata.X)"
   ]
  },
  {
   "cell_type": "code",
   "execution_count": null,
   "id": "0773f2a3-862d-4ac5-8299-84c5e6fef47f",
   "metadata": {},
   "outputs": [],
   "source": []
  },
  {
   "cell_type": "code",
   "execution_count": null,
   "id": "b37b2a52-7e37-4be1-ac32-457690f5bb54",
   "metadata": {},
   "outputs": [],
   "source": [
    "# Filter to only include the relevant genes\n",
    "adata = adata[:,np.intersect1d(entities, adata.var.index)]\n",
    "adata"
   ]
  },
  {
   "cell_type": "code",
   "execution_count": null,
   "id": "33212579-8762-4c83-b7ef-dc2fd8875bdb",
   "metadata": {},
   "outputs": [],
   "source": []
  },
  {
   "cell_type": "markdown",
   "id": "86cf9a4c-1693-4470-99f8-02bd60beb367",
   "metadata": {
    "tags": []
   },
   "source": [
    "Get Stats"
   ]
  },
  {
   "cell_type": "code",
   "execution_count": null,
   "id": "27042d96-a874-457e-ad75-3c312b73301b",
   "metadata": {},
   "outputs": [],
   "source": [
    "lr_res = _get_lr(adata, resource, key_cols + complex_cols + add_cols, de_method)"
   ]
  },
  {
   "cell_type": "code",
   "execution_count": null,
   "id": "9afdd672-e818-410e-84e0-6fb9ba6fd6be",
   "metadata": {},
   "outputs": [],
   "source": [
    "lr_res"
   ]
  },
  {
   "cell_type": "code",
   "execution_count": null,
   "id": "795ae60d-921c-4f2c-98fc-52f33d09f26e",
   "metadata": {},
   "outputs": [],
   "source": []
  },
  {
   "cell_type": "markdown",
   "id": "6d1326e7-4437-40ed-9d65-c93ef5c1e33d",
   "metadata": {},
   "source": [
    "Recomplexify"
   ]
  },
  {
   "cell_type": "code",
   "execution_count": null,
   "id": "2e39a9e4-77ae-4e2b-ab0b-579d508f1347",
   "metadata": {},
   "outputs": [],
   "source": [
    "# If I want to implement anything else but the min as complex policy, I would need to change this:\n",
    "# temp = temp[[x==\"INHBA_INHBB\" for x in temp['ligand_complex']]].sort_values('receptor_complex')\n",
    "# temp = temp[[x==\"ACVR1B_ACVR2A\" for x in temp['receptor_complex']]]"
   ]
  },
  {
   "cell_type": "code",
   "execution_count": null,
   "id": "a78ea33f-4eca-47ef-bca1-af01ca844810",
   "metadata": {},
   "outputs": [],
   "source": [
    "lr_res = reassemble_complexes(lr_res, key_cols, complex_cols, complex_policy)"
   ]
  },
  {
   "cell_type": "code",
   "execution_count": null,
   "id": "671994a8-5607-4538-a19f-22fea792fdfd",
   "metadata": {},
   "outputs": [],
   "source": []
  },
  {
   "cell_type": "code",
   "execution_count": null,
   "id": "b2c17e9f-dde8-4e82-bc00-466f137e83cb",
   "metadata": {},
   "outputs": [],
   "source": []
  },
  {
   "cell_type": "markdown",
   "id": "efbeae9b-4df7-42ca-9b2c-9a1e7bedba08",
   "metadata": {},
   "source": [
    "### SCORES"
   ]
  },
  {
   "cell_type": "code",
   "execution_count": null,
   "id": "1061bfc5-ddfa-46dc-a39c-39e6042b215f",
   "metadata": {},
   "outputs": [],
   "source": [
    "from liana.steady.Method import Method, MethodMeta\n",
    "from liana.steady.scores.cellphonedb import _cpdb_score"
   ]
  },
  {
   "cell_type": "code",
   "execution_count": null,
   "id": "675c2240-c993-4fdd-92da-7d2ed4ee0228",
   "metadata": {},
   "outputs": [],
   "source": []
  },
  {
   "cell_type": "markdown",
   "id": "941603a4-9eaf-4bcd-a8b8-4f6a6574ebe5",
   "metadata": {},
   "source": [
    "CELLPHONEDB"
   ]
  },
  {
   "cell_type": "code",
   "execution_count": null,
   "id": "4284a51c-55a5-47b4-ab9b-ba3b3ba93aac",
   "metadata": {},
   "outputs": [],
   "source": [
    "_cellphonedb = MethodMeta(method_name = \"cellphonedb\",\n",
    "                          complex_cols = ['ligand_means', 'receptor_means'], \n",
    "                          add_cols = ['ligand', 'receptor'],\n",
    "                          fun = _cpdb_score,\n",
    "                          magnitude = 'lr_means',\n",
    "                          specificity = 'pvals',\n",
    "                          permute = True,\n",
    "                          reference = 'Efremova et al., 2020')"
   ]
  },
  {
   "cell_type": "code",
   "execution_count": null,
   "id": "79fc87a0-4d92-4adc-a3a3-e611c7f3b3b8",
   "metadata": {},
   "outputs": [],
   "source": [
    "cellphonedb = Method(_SCORE=_cellphonedb)"
   ]
  },
  {
   "cell_type": "code",
   "execution_count": null,
   "id": "d2d39d47-ae35-4109-b413-52d1caadda1c",
   "metadata": {},
   "outputs": [],
   "source": [
    "adata = cellphonedb(adata, groupby, seed=666)"
   ]
  },
  {
   "cell_type": "code",
   "execution_count": null,
   "id": "25e905eb-af83-4259-8e18-6b31ebb543c5",
   "metadata": {},
   "outputs": [],
   "source": [
    "adata.uns['liana_res']"
   ]
  },
  {
   "cell_type": "code",
   "execution_count": null,
   "id": "e7801646-121c-413a-be5a-aef31b5b35ee",
   "metadata": {},
   "outputs": [],
   "source": []
  },
  {
   "cell_type": "code",
   "execution_count": null,
   "id": "fd6d8272-289c-42c5-9f96-7ba76587b80b",
   "metadata": {},
   "outputs": [],
   "source": []
  },
  {
   "cell_type": "code",
   "execution_count": null,
   "id": "49686ceb-dd20-48ee-a0ad-20ac3646a809",
   "metadata": {},
   "outputs": [],
   "source": []
  },
  {
   "cell_type": "code",
   "execution_count": null,
   "id": "02750d14-43cf-4708-82f3-e2ef1fff91cb",
   "metadata": {},
   "outputs": [],
   "source": []
  },
  {
   "cell_type": "code",
   "execution_count": null,
   "id": "502b7a40-ba21-4fb1-8066-f3fd2e92a527",
   "metadata": {},
   "outputs": [],
   "source": []
  },
  {
   "cell_type": "code",
   "execution_count": null,
   "id": "f6594536-7532-4735-82c7-549d68f44590",
   "metadata": {},
   "outputs": [],
   "source": []
  },
  {
   "cell_type": "code",
   "execution_count": null,
   "id": "3ebaccbc-8bc4-4d0f-9281-5c9e23fd7879",
   "metadata": {},
   "outputs": [],
   "source": []
  },
  {
   "cell_type": "code",
   "execution_count": null,
   "id": "6fa04025-ea86-4b7d-bd29-b1dd039d7e5d",
   "metadata": {},
   "outputs": [],
   "source": []
  },
  {
   "cell_type": "code",
   "execution_count": null,
   "id": "61f2d7d1-ec2e-4e52-b33d-f79ffa852155",
   "metadata": {},
   "outputs": [],
   "source": []
  },
  {
   "cell_type": "code",
   "execution_count": null,
   "id": "f68b225d-720d-4c23-bf45-8b72fbb62ad8",
   "metadata": {},
   "outputs": [],
   "source": []
  },
  {
   "cell_type": "code",
   "execution_count": null,
   "id": "9aa1ecbb-c2d0-48fa-848a-c9d6320f1875",
   "metadata": {},
   "outputs": [],
   "source": []
  },
  {
   "cell_type": "code",
   "execution_count": null,
   "id": "6d371de9-7e14-4518-b252-a0ba7f65ebcc",
   "metadata": {},
   "outputs": [],
   "source": []
  },
  {
   "cell_type": "code",
   "execution_count": null,
   "id": "5bd80a15-628a-404f-bd03-e8023f8d06d3",
   "metadata": {},
   "outputs": [],
   "source": []
  },
  {
   "cell_type": "code",
   "execution_count": null,
   "id": "4a340009-5dfc-4056-9228-6e47530955c8",
   "metadata": {},
   "outputs": [],
   "source": []
  },
  {
   "cell_type": "markdown",
   "id": "a67d9786-388a-4c8d-b868-5539a3602f5c",
   "metadata": {},
   "source": [
    "logFC re-implement"
   ]
  },
  {
   "cell_type": "markdown",
   "id": "194266ec-e8cf-4f65-963f-a3f9e2939f67",
   "metadata": {},
   "source": [
    "Magnitude as None"
   ]
  },
  {
   "cell_type": "code",
   "execution_count": null,
   "id": "c4f096b2-d4bd-4581-8f41-4774f14c6f0a",
   "metadata": {},
   "outputs": [],
   "source": []
  },
  {
   "cell_type": "code",
   "execution_count": null,
   "id": "0201fba8-13b0-4923-9539-fd1cbe27e2e0",
   "metadata": {},
   "outputs": [],
   "source": []
  },
  {
   "cell_type": "code",
   "execution_count": null,
   "id": "0699d6ec-68cb-4b49-84c0-d2722d40e90e",
   "metadata": {},
   "outputs": [],
   "source": [
    "lr_res['logfc'] = lr_res[['ligand_logfoldchanges', 'receptor_logfoldchanges']].mean(1)"
   ]
  },
  {
   "cell_type": "code",
   "execution_count": null,
   "id": "51064b93-983f-4c16-adb9-ca54a2e1cb62",
   "metadata": {},
   "outputs": [],
   "source": []
  },
  {
   "cell_type": "code",
   "execution_count": null,
   "id": "b3482e1c-c433-4712-bf1d-ba0494c0a314",
   "metadata": {},
   "outputs": [],
   "source": [
    "lr_res.sort_values(by='logfc', key=abs, ascending=False)"
   ]
  },
  {
   "cell_type": "code",
   "execution_count": null,
   "id": "fab2e516-7f93-4850-9907-2deaa2650c73",
   "metadata": {},
   "outputs": [],
   "source": []
  },
  {
   "cell_type": "markdown",
   "id": "7fb95f6b-db28-494b-83f8-de6b7c9b2048",
   "metadata": {},
   "source": [
    "Re-implement Connectome"
   ]
  },
  {
   "cell_type": "markdown",
   "id": "e50d075c-f537-4677-b1b0-e2837e29a5f8",
   "metadata": {},
   "source": [
    "Both Specificity and Magnitude"
   ]
  },
  {
   "cell_type": "code",
   "execution_count": null,
   "id": "a3d0a012-69e9-47c6-bb48-66641647cea8",
   "metadata": {},
   "outputs": [],
   "source": [
    "lr_res['edge_weight'] = lr_res[['ligand_zscores', 'receptor_zscores']].mean(1)"
   ]
  },
  {
   "cell_type": "code",
   "execution_count": null,
   "id": "c95a783e-52d8-44e8-b735-bbe54bef1972",
   "metadata": {},
   "outputs": [],
   "source": []
  }
 ],
 "metadata": {
  "kernelspec": {
   "display_name": "liana-py",
   "language": "python",
   "name": "liana-py"
  },
  "language_info": {
   "codemirror_mode": {
    "name": "ipython",
    "version": 3
   },
   "file_extension": ".py",
   "mimetype": "text/x-python",
   "name": "python",
   "nbconvert_exporter": "python",
   "pygments_lexer": "ipython3",
   "version": "3.8.8"
  }
 },
 "nbformat": 4,
 "nbformat_minor": 5
}
