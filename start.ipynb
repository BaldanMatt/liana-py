{
 "cells": [
  {
   "cell_type": "code",
   "execution_count": 1,
   "id": "4a6561fa-18d6-459b-a010-51b7d9fae1d4",
   "metadata": {},
   "outputs": [],
   "source": [
    "import scanpy as sc\n",
    "import pandas as pd\n",
    "import numpy as np"
   ]
  },
  {
   "cell_type": "code",
   "execution_count": null,
   "id": "d333ea8e-aeca-4746-887b-33ec6b6b1b17",
   "metadata": {},
   "outputs": [],
   "source": []
  },
  {
   "cell_type": "markdown",
   "id": "f65dcb30-df9e-4ab9-a2f5-b2cb30ba58c0",
   "metadata": {},
   "source": [
    "Load anndata"
   ]
  },
  {
   "cell_type": "code",
   "execution_count": 2,
   "id": "3be28d50-be89-46ae-b3ec-e8878844a0ab",
   "metadata": {},
   "outputs": [],
   "source": [
    "adata = sc.read_h5ad(\"test.h5ad\")"
   ]
  },
  {
   "cell_type": "code",
   "execution_count": 3,
   "id": "72dce8c7-08ec-473c-be56-7eadb814c846",
   "metadata": {},
   "outputs": [],
   "source": [
    "# # lognorm should be the default (expected)\n",
    "# adata.X = adata.layers['logcounts']"
   ]
  },
  {
   "cell_type": "code",
   "execution_count": null,
   "id": "8ebb9f68-0009-42c0-afe1-4a2963664aa1",
   "metadata": {},
   "outputs": [],
   "source": []
  },
  {
   "cell_type": "markdown",
   "id": "04043a54-1480-41be-b134-b55911ff9027",
   "metadata": {},
   "source": [
    "Parameters"
   ]
  },
  {
   "cell_type": "code",
   "execution_count": 4,
   "id": "8749bb33-5c01-49b3-8fe1-cb8b167a8b28",
   "metadata": {},
   "outputs": [],
   "source": [
    "groupby='label'\n",
    "de_method='wilcoxon'\n",
    "resource_name = 'consensus'\n",
    "complex_policy = 'min'\n",
    "key_cols = ['source', 'target', 'ligand_complex', 'receptor_complex']\n",
    "verbose = False"
   ]
  },
  {
   "cell_type": "code",
   "execution_count": 5,
   "id": "6581703e-86e5-4f50-ab07-2f1791be9e67",
   "metadata": {},
   "outputs": [],
   "source": [
    "# only relevant if perms are done\n",
    "n_perms = 1000\n",
    "seed = 69"
   ]
  },
  {
   "cell_type": "code",
   "execution_count": null,
   "id": "9dabcf57-ad50-4fa5-a102-408b893cf6d7",
   "metadata": {},
   "outputs": [],
   "source": []
  },
  {
   "cell_type": "markdown",
   "id": "309ef0d7-3696-485d-a169-743774b2e2a4",
   "metadata": {},
   "source": [
    "Run LIANA PIPE"
   ]
  },
  {
   "cell_type": "code",
   "execution_count": 6,
   "id": "101f0bdd-c6a0-400b-b64e-b6ba21df9ae5",
   "metadata": {},
   "outputs": [],
   "source": [
    "from liana import liana_pipe"
   ]
  },
  {
   "cell_type": "code",
   "execution_count": 7,
   "id": "1bdd36ab-1ce6-4842-8b8f-d9a5f74ac660",
   "metadata": {},
   "outputs": [
    {
     "name": "stderr",
     "output_type": "stream",
     "text": [
      "/home/dbdimitrov/Repos/liana-py/liana/steady/liana_pipe.py:61: ImplicitModificationWarning: Trying to modify attribute `.obs` of view, initializing view as actual.\n",
      "  adata.obs['label'] = adata.obs[groupby]\n",
      "/home/dbdimitrov/anaconda3/lib/python3.8/contextlib.py:120: FutureWarning: X.dtype being converted to np.float32 from float64. In the next version of anndata (0.9) conversion will not be automatic. Pass dtype explicitly to avoid this warning. Pass `AnnData(X, dtype=X.dtype, ...)` to get the future behavour.\n",
      "  next(self.gen)\n",
      "/home/dbdimitrov/anaconda3/lib/python3.8/site-packages/anndata/compat/_overloaded_dict.py:106: ImplicitModificationWarning: Trying to modify attribute `._uns` of view, initializing view as actual.\n",
      "  self.data[key] = value\n"
     ]
    }
   ],
   "source": [
    "lr_res = liana_pipe(adata=adata, \n",
    "                    groupby=groupby, \n",
    "                    resource_name=resource_name,\n",
    "                    de_method=de_method,\n",
    "                    n_perms=n_perms,\n",
    "                    seed=seed,\n",
    "                    verbose=verbose,\n",
    "                    _key_cols=key_cols,\n",
    "                    resource=None,\n",
    "                    use_raw=False,\n",
    "                    layer='logcounts',\n",
    "                   base=2)"
   ]
  },
  {
   "cell_type": "code",
   "execution_count": null,
   "id": "60247d5d-f97f-4236-970e-ed6b9281e9ae",
   "metadata": {},
   "outputs": [],
   "source": []
  },
  {
   "cell_type": "code",
   "execution_count": 8,
   "id": "18e522eb-d6b2-4dab-acfd-9877065fb167",
   "metadata": {},
   "outputs": [
    {
     "data": {
      "text/html": [
       "<div>\n",
       "<style scoped>\n",
       "    .dataframe tbody tr th:only-of-type {\n",
       "        vertical-align: middle;\n",
       "    }\n",
       "\n",
       "    .dataframe tbody tr th {\n",
       "        vertical-align: top;\n",
       "    }\n",
       "\n",
       "    .dataframe thead th {\n",
       "        text-align: right;\n",
       "    }\n",
       "</style>\n",
       "<table border=\"1\" class=\"dataframe\">\n",
       "  <thead>\n",
       "    <tr style=\"text-align: right;\">\n",
       "      <th></th>\n",
       "      <th>ligand</th>\n",
       "      <th>ligand_complex</th>\n",
       "      <th>ligand_logfc</th>\n",
       "      <th>ligand_means</th>\n",
       "      <th>ligand_zscores</th>\n",
       "      <th>mat_mean</th>\n",
       "      <th>receptor</th>\n",
       "      <th>receptor_complex</th>\n",
       "      <th>receptor_logfc</th>\n",
       "      <th>receptor_means</th>\n",
       "      <th>receptor_zscores</th>\n",
       "      <th>source</th>\n",
       "      <th>target</th>\n",
       "      <th>ligand_means_sums</th>\n",
       "      <th>receptor_means_sums</th>\n",
       "    </tr>\n",
       "  </thead>\n",
       "  <tbody>\n",
       "    <tr>\n",
       "      <th>1159</th>\n",
       "      <td>B2M</td>\n",
       "      <td>B2M</td>\n",
       "      <td>0.429683</td>\n",
       "      <td>5.810702</td>\n",
       "      <td>0.728883</td>\n",
       "      <td>0.199056</td>\n",
       "      <td>LILRB2</td>\n",
       "      <td>LILRB2</td>\n",
       "      <td>0.046110</td>\n",
       "      <td>0.090388</td>\n",
       "      <td>0.078264</td>\n",
       "      <td>NK</td>\n",
       "      <td>B</td>\n",
       "      <td>16.490938</td>\n",
       "      <td>0.198409</td>\n",
       "    </tr>\n",
       "    <tr>\n",
       "      <th>1279</th>\n",
       "      <td>B2M</td>\n",
       "      <td>B2M</td>\n",
       "      <td>0.429683</td>\n",
       "      <td>5.810702</td>\n",
       "      <td>0.728883</td>\n",
       "      <td>0.199056</td>\n",
       "      <td>KLRC2</td>\n",
       "      <td>KLRC2</td>\n",
       "      <td>-0.097126</td>\n",
       "      <td>0.000000</td>\n",
       "      <td>-0.149899</td>\n",
       "      <td>NK</td>\n",
       "      <td>B</td>\n",
       "      <td>16.490938</td>\n",
       "      <td>0.108470</td>\n",
       "    </tr>\n",
       "    <tr>\n",
       "      <th>4401</th>\n",
       "      <td>B2M</td>\n",
       "      <td>B2M</td>\n",
       "      <td>0.429683</td>\n",
       "      <td>5.810702</td>\n",
       "      <td>0.728883</td>\n",
       "      <td>0.199056</td>\n",
       "      <td>CD1C</td>\n",
       "      <td>CD1C</td>\n",
       "      <td>-0.488877</td>\n",
       "      <td>0.039301</td>\n",
       "      <td>-0.308628</td>\n",
       "      <td>NK</td>\n",
       "      <td>NK</td>\n",
       "      <td>16.490938</td>\n",
       "      <td>0.676866</td>\n",
       "    </tr>\n",
       "    <tr>\n",
       "      <th>2651</th>\n",
       "      <td>B2M</td>\n",
       "      <td>B2M</td>\n",
       "      <td>0.429683</td>\n",
       "      <td>5.810702</td>\n",
       "      <td>0.728883</td>\n",
       "      <td>0.199056</td>\n",
       "      <td>CD3G</td>\n",
       "      <td>CD3G</td>\n",
       "      <td>0.325982</td>\n",
       "      <td>0.383235</td>\n",
       "      <td>0.179574</td>\n",
       "      <td>NK</td>\n",
       "      <td>CD8 T</td>\n",
       "      <td>16.490938</td>\n",
       "      <td>0.797412</td>\n",
       "    </tr>\n",
       "    <tr>\n",
       "      <th>4196</th>\n",
       "      <td>B2M</td>\n",
       "      <td>B2M</td>\n",
       "      <td>0.429683</td>\n",
       "      <td>5.810702</td>\n",
       "      <td>0.728883</td>\n",
       "      <td>0.199056</td>\n",
       "      <td>KIR3DL1</td>\n",
       "      <td>KIR3DL1</td>\n",
       "      <td>0.090908</td>\n",
       "      <td>0.052044</td>\n",
       "      <td>0.210819</td>\n",
       "      <td>NK</td>\n",
       "      <td>NK</td>\n",
       "      <td>16.490938</td>\n",
       "      <td>0.052044</td>\n",
       "    </tr>\n",
       "    <tr>\n",
       "      <th>...</th>\n",
       "      <td>...</td>\n",
       "      <td>...</td>\n",
       "      <td>...</td>\n",
       "      <td>...</td>\n",
       "      <td>...</td>\n",
       "      <td>...</td>\n",
       "      <td>...</td>\n",
       "      <td>...</td>\n",
       "      <td>...</td>\n",
       "      <td>...</td>\n",
       "      <td>...</td>\n",
       "      <td>...</td>\n",
       "      <td>...</td>\n",
       "      <td>...</td>\n",
       "      <td>...</td>\n",
       "    </tr>\n",
       "    <tr>\n",
       "      <th>2496</th>\n",
       "      <td>CCL28</td>\n",
       "      <td>CCL28</td>\n",
       "      <td>-0.018003</td>\n",
       "      <td>0.000000</td>\n",
       "      <td>-0.105409</td>\n",
       "      <td>0.199056</td>\n",
       "      <td>CCR10</td>\n",
       "      <td>CCR10</td>\n",
       "      <td>0.094861</td>\n",
       "      <td>0.062280</td>\n",
       "      <td>0.128653</td>\n",
       "      <td>CD8 T</td>\n",
       "      <td>CD8 T</td>\n",
       "      <td>0.027006</td>\n",
       "      <td>0.099021</td>\n",
       "    </tr>\n",
       "    <tr>\n",
       "      <th>2495</th>\n",
       "      <td>HBEGF</td>\n",
       "      <td>HBEGF</td>\n",
       "      <td>-0.289172</td>\n",
       "      <td>0.000000</td>\n",
       "      <td>-0.105409</td>\n",
       "      <td>0.199056</td>\n",
       "      <td>CD82</td>\n",
       "      <td>CD82</td>\n",
       "      <td>-0.613292</td>\n",
       "      <td>0.047000</td>\n",
       "      <td>-0.429204</td>\n",
       "      <td>CD8 T</td>\n",
       "      <td>CD8 T</td>\n",
       "      <td>0.127986</td>\n",
       "      <td>0.988768</td>\n",
       "    </tr>\n",
       "    <tr>\n",
       "      <th>2489</th>\n",
       "      <td>IL24</td>\n",
       "      <td>IL24</td>\n",
       "      <td>-0.046170</td>\n",
       "      <td>0.000000</td>\n",
       "      <td>-0.105409</td>\n",
       "      <td>0.199056</td>\n",
       "      <td>IL10RB</td>\n",
       "      <td>IL10RB</td>\n",
       "      <td>-0.236684</td>\n",
       "      <td>0.000000</td>\n",
       "      <td>-0.280840</td>\n",
       "      <td>CD8 T</td>\n",
       "      <td>CD8 T</td>\n",
       "      <td>0.052044</td>\n",
       "      <td>0.305106</td>\n",
       "    </tr>\n",
       "    <tr>\n",
       "      <th>2485</th>\n",
       "      <td>MDK</td>\n",
       "      <td>MDK</td>\n",
       "      <td>-0.036391</td>\n",
       "      <td>0.000000</td>\n",
       "      <td>-0.105409</td>\n",
       "      <td>0.199056</td>\n",
       "      <td>NCL</td>\n",
       "      <td>NCL</td>\n",
       "      <td>-0.380739</td>\n",
       "      <td>0.318150</td>\n",
       "      <td>-0.268598</td>\n",
       "      <td>CD8 T</td>\n",
       "      <td>CD8 T</td>\n",
       "      <td>0.044690</td>\n",
       "      <td>1.580364</td>\n",
       "    </tr>\n",
       "    <tr>\n",
       "      <th>4580</th>\n",
       "      <td>GDF11</td>\n",
       "      <td>GDF11</td>\n",
       "      <td>-0.043422</td>\n",
       "      <td>0.000000</td>\n",
       "      <td>-0.105409</td>\n",
       "      <td>0.199056</td>\n",
       "      <td>ACTR2</td>\n",
       "      <td>ACTR2</td>\n",
       "      <td>0.136576</td>\n",
       "      <td>0.346738</td>\n",
       "      <td>0.052777</td>\n",
       "      <td>NK</td>\n",
       "      <td>NK</td>\n",
       "      <td>0.050083</td>\n",
       "      <td>0.940681</td>\n",
       "    </tr>\n",
       "  </tbody>\n",
       "</table>\n",
       "<p>4287 rows × 15 columns</p>\n",
       "</div>"
      ],
      "text/plain": [
       "     ligand ligand_complex  ligand_logfc  ligand_means  ligand_zscores  \\\n",
       "1159    B2M            B2M      0.429683      5.810702        0.728883   \n",
       "1279    B2M            B2M      0.429683      5.810702        0.728883   \n",
       "4401    B2M            B2M      0.429683      5.810702        0.728883   \n",
       "2651    B2M            B2M      0.429683      5.810702        0.728883   \n",
       "4196    B2M            B2M      0.429683      5.810702        0.728883   \n",
       "...     ...            ...           ...           ...             ...   \n",
       "2496  CCL28          CCL28     -0.018003      0.000000       -0.105409   \n",
       "2495  HBEGF          HBEGF     -0.289172      0.000000       -0.105409   \n",
       "2489   IL24           IL24     -0.046170      0.000000       -0.105409   \n",
       "2485    MDK            MDK     -0.036391      0.000000       -0.105409   \n",
       "4580  GDF11          GDF11     -0.043422      0.000000       -0.105409   \n",
       "\n",
       "      mat_mean receptor receptor_complex  receptor_logfc  receptor_means  \\\n",
       "1159  0.199056   LILRB2           LILRB2        0.046110        0.090388   \n",
       "1279  0.199056    KLRC2            KLRC2       -0.097126        0.000000   \n",
       "4401  0.199056     CD1C             CD1C       -0.488877        0.039301   \n",
       "2651  0.199056     CD3G             CD3G        0.325982        0.383235   \n",
       "4196  0.199056  KIR3DL1          KIR3DL1        0.090908        0.052044   \n",
       "...        ...      ...              ...             ...             ...   \n",
       "2496  0.199056    CCR10            CCR10        0.094861        0.062280   \n",
       "2495  0.199056     CD82             CD82       -0.613292        0.047000   \n",
       "2489  0.199056   IL10RB           IL10RB       -0.236684        0.000000   \n",
       "2485  0.199056      NCL              NCL       -0.380739        0.318150   \n",
       "4580  0.199056    ACTR2            ACTR2        0.136576        0.346738   \n",
       "\n",
       "      receptor_zscores source target  ligand_means_sums  receptor_means_sums  \n",
       "1159          0.078264     NK      B          16.490938             0.198409  \n",
       "1279         -0.149899     NK      B          16.490938             0.108470  \n",
       "4401         -0.308628     NK     NK          16.490938             0.676866  \n",
       "2651          0.179574     NK  CD8 T          16.490938             0.797412  \n",
       "4196          0.210819     NK     NK          16.490938             0.052044  \n",
       "...                ...    ...    ...                ...                  ...  \n",
       "2496          0.128653  CD8 T  CD8 T           0.027006             0.099021  \n",
       "2495         -0.429204  CD8 T  CD8 T           0.127986             0.988768  \n",
       "2489         -0.280840  CD8 T  CD8 T           0.052044             0.305106  \n",
       "2485         -0.268598  CD8 T  CD8 T           0.044690             1.580364  \n",
       "4580          0.052777     NK     NK           0.050083             0.940681  \n",
       "\n",
       "[4287 rows x 15 columns]"
      ]
     },
     "execution_count": 8,
     "metadata": {},
     "output_type": "execute_result"
    }
   ],
   "source": [
    "lr_res.sort_values('ligand_means', ascending=False)"
   ]
  },
  {
   "cell_type": "code",
   "execution_count": null,
   "id": "450d761b-5b8b-45f0-b050-f9bb14cf77c9",
   "metadata": {},
   "outputs": [],
   "source": []
  },
  {
   "cell_type": "code",
   "execution_count": 9,
   "id": "6b0d2c7f-9b67-42bd-a368-713d9e586f3f",
   "metadata": {},
   "outputs": [
    {
     "data": {
      "text/html": [
       "<div>\n",
       "<style scoped>\n",
       "    .dataframe tbody tr th:only-of-type {\n",
       "        vertical-align: middle;\n",
       "    }\n",
       "\n",
       "    .dataframe tbody tr th {\n",
       "        vertical-align: top;\n",
       "    }\n",
       "\n",
       "    .dataframe thead th {\n",
       "        text-align: right;\n",
       "    }\n",
       "</style>\n",
       "<table border=\"1\" class=\"dataframe\">\n",
       "  <thead>\n",
       "    <tr style=\"text-align: right;\">\n",
       "      <th></th>\n",
       "      <th>ligand</th>\n",
       "      <th>ligand_complex</th>\n",
       "      <th>ligand_logfc</th>\n",
       "      <th>ligand_means</th>\n",
       "      <th>ligand_zscores</th>\n",
       "      <th>mat_mean</th>\n",
       "      <th>receptor</th>\n",
       "      <th>receptor_complex</th>\n",
       "      <th>receptor_logfc</th>\n",
       "      <th>receptor_means</th>\n",
       "      <th>receptor_zscores</th>\n",
       "      <th>source</th>\n",
       "      <th>target</th>\n",
       "      <th>ligand_means_sums</th>\n",
       "      <th>receptor_means_sums</th>\n",
       "    </tr>\n",
       "  </thead>\n",
       "  <tbody>\n",
       "    <tr>\n",
       "      <th>0</th>\n",
       "      <td>LGALS9</td>\n",
       "      <td>LGALS9</td>\n",
       "      <td>0.443133</td>\n",
       "      <td>0.374320</td>\n",
       "      <td>0.377836</td>\n",
       "      <td>0.199056</td>\n",
       "      <td>PTPRC</td>\n",
       "      <td>PTPRC</td>\n",
       "      <td>-0.663027</td>\n",
       "      <td>0.761533</td>\n",
       "      <td>-0.415538</td>\n",
       "      <td>B</td>\n",
       "      <td>B</td>\n",
       "      <td>0.534913</td>\n",
       "      <td>3.409275</td>\n",
       "    </tr>\n",
       "    <tr>\n",
       "      <th>1</th>\n",
       "      <td>CD22</td>\n",
       "      <td>CD22</td>\n",
       "      <td>0.613544</td>\n",
       "      <td>0.554265</td>\n",
       "      <td>0.618197</td>\n",
       "      <td>0.199056</td>\n",
       "      <td>PTPRC</td>\n",
       "      <td>PTPRC</td>\n",
       "      <td>-0.663027</td>\n",
       "      <td>0.761533</td>\n",
       "      <td>-0.415538</td>\n",
       "      <td>B</td>\n",
       "      <td>B</td>\n",
       "      <td>0.672466</td>\n",
       "      <td>3.409275</td>\n",
       "    </tr>\n",
       "    <tr>\n",
       "      <th>2</th>\n",
       "      <td>LGALS1</td>\n",
       "      <td>LGALS1</td>\n",
       "      <td>-1.159930</td>\n",
       "      <td>0.611330</td>\n",
       "      <td>-0.460597</td>\n",
       "      <td>0.199056</td>\n",
       "      <td>PTPRC</td>\n",
       "      <td>PTPRC</td>\n",
       "      <td>-0.663027</td>\n",
       "      <td>0.761533</td>\n",
       "      <td>-0.415538</td>\n",
       "      <td>B</td>\n",
       "      <td>B</td>\n",
       "      <td>3.588291</td>\n",
       "      <td>3.409275</td>\n",
       "    </tr>\n",
       "    <tr>\n",
       "      <th>3</th>\n",
       "      <td>LGALS9</td>\n",
       "      <td>LGALS9</td>\n",
       "      <td>0.443133</td>\n",
       "      <td>0.374320</td>\n",
       "      <td>0.377836</td>\n",
       "      <td>0.199056</td>\n",
       "      <td>CD44</td>\n",
       "      <td>CD44</td>\n",
       "      <td>-0.128114</td>\n",
       "      <td>0.655391</td>\n",
       "      <td>-0.051623</td>\n",
       "      <td>B</td>\n",
       "      <td>B</td>\n",
       "      <td>0.534913</td>\n",
       "      <td>2.103060</td>\n",
       "    </tr>\n",
       "    <tr>\n",
       "      <th>4</th>\n",
       "      <td>ADAM10</td>\n",
       "      <td>ADAM10</td>\n",
       "      <td>-0.020788</td>\n",
       "      <td>0.119797</td>\n",
       "      <td>-0.002707</td>\n",
       "      <td>0.199056</td>\n",
       "      <td>CD44</td>\n",
       "      <td>CD44</td>\n",
       "      <td>-0.128114</td>\n",
       "      <td>0.655391</td>\n",
       "      <td>-0.051623</td>\n",
       "      <td>B</td>\n",
       "      <td>B</td>\n",
       "      <td>0.362591</td>\n",
       "      <td>2.103060</td>\n",
       "    </tr>\n",
       "    <tr>\n",
       "      <th>...</th>\n",
       "      <td>...</td>\n",
       "      <td>...</td>\n",
       "      <td>...</td>\n",
       "      <td>...</td>\n",
       "      <td>...</td>\n",
       "      <td>...</td>\n",
       "      <td>...</td>\n",
       "      <td>...</td>\n",
       "      <td>...</td>\n",
       "      <td>...</td>\n",
       "      <td>...</td>\n",
       "      <td>...</td>\n",
       "      <td>...</td>\n",
       "      <td>...</td>\n",
       "      <td>...</td>\n",
       "    </tr>\n",
       "    <tr>\n",
       "      <th>4576</th>\n",
       "      <td>CALM1</td>\n",
       "      <td>CALM1</td>\n",
       "      <td>0.616681</td>\n",
       "      <td>2.516959</td>\n",
       "      <td>0.526744</td>\n",
       "      <td>0.199056</td>\n",
       "      <td>KCNN4</td>\n",
       "      <td>KCNN4</td>\n",
       "      <td>-0.092909</td>\n",
       "      <td>0.000000</td>\n",
       "      <td>-0.183226</td>\n",
       "      <td>NK</td>\n",
       "      <td>NK</td>\n",
       "      <td>6.145011</td>\n",
       "      <td>0.121264</td>\n",
       "    </tr>\n",
       "    <tr>\n",
       "      <th>4577</th>\n",
       "      <td>PTPN6</td>\n",
       "      <td>PTPN6</td>\n",
       "      <td>-0.364401</td>\n",
       "      <td>0.652221</td>\n",
       "      <td>-0.199005</td>\n",
       "      <td>0.199056</td>\n",
       "      <td>CD300LF</td>\n",
       "      <td>CD300LF</td>\n",
       "      <td>-0.046128</td>\n",
       "      <td>0.000000</td>\n",
       "      <td>-0.105409</td>\n",
       "      <td>NK</td>\n",
       "      <td>NK</td>\n",
       "      <td>2.501501</td>\n",
       "      <td>0.052014</td>\n",
       "    </tr>\n",
       "    <tr>\n",
       "      <th>4578</th>\n",
       "      <td>NUCB2</td>\n",
       "      <td>NUCB2</td>\n",
       "      <td>0.077938</td>\n",
       "      <td>0.156951</td>\n",
       "      <td>0.065837</td>\n",
       "      <td>0.199056</td>\n",
       "      <td>ERAP1</td>\n",
       "      <td>ERAP1</td>\n",
       "      <td>0.232636</td>\n",
       "      <td>0.162055</td>\n",
       "      <td>0.282299</td>\n",
       "      <td>NK</td>\n",
       "      <td>NK</td>\n",
       "      <td>0.386504</td>\n",
       "      <td>0.209576</td>\n",
       "    </tr>\n",
       "    <tr>\n",
       "      <th>4579</th>\n",
       "      <td>SOCS2</td>\n",
       "      <td>SOCS2</td>\n",
       "      <td>0.285932</td>\n",
       "      <td>0.230338</td>\n",
       "      <td>0.243138</td>\n",
       "      <td>0.199056</td>\n",
       "      <td>EPOR</td>\n",
       "      <td>EPOR</td>\n",
       "      <td>-0.044612</td>\n",
       "      <td>0.000000</td>\n",
       "      <td>-0.105409</td>\n",
       "      <td>NK</td>\n",
       "      <td>NK</td>\n",
       "      <td>0.372007</td>\n",
       "      <td>0.050942</td>\n",
       "    </tr>\n",
       "    <tr>\n",
       "      <th>4580</th>\n",
       "      <td>GDF11</td>\n",
       "      <td>GDF11</td>\n",
       "      <td>-0.043422</td>\n",
       "      <td>0.000000</td>\n",
       "      <td>-0.105409</td>\n",
       "      <td>0.199056</td>\n",
       "      <td>ACTR2</td>\n",
       "      <td>ACTR2</td>\n",
       "      <td>0.136576</td>\n",
       "      <td>0.346738</td>\n",
       "      <td>0.052777</td>\n",
       "      <td>NK</td>\n",
       "      <td>NK</td>\n",
       "      <td>0.050083</td>\n",
       "      <td>0.940681</td>\n",
       "    </tr>\n",
       "  </tbody>\n",
       "</table>\n",
       "<p>4287 rows × 15 columns</p>\n",
       "</div>"
      ],
      "text/plain": [
       "      ligand ligand_complex  ligand_logfc  ligand_means  ligand_zscores  \\\n",
       "0     LGALS9         LGALS9      0.443133      0.374320        0.377836   \n",
       "1       CD22           CD22      0.613544      0.554265        0.618197   \n",
       "2     LGALS1         LGALS1     -1.159930      0.611330       -0.460597   \n",
       "3     LGALS9         LGALS9      0.443133      0.374320        0.377836   \n",
       "4     ADAM10         ADAM10     -0.020788      0.119797       -0.002707   \n",
       "...      ...            ...           ...           ...             ...   \n",
       "4576   CALM1          CALM1      0.616681      2.516959        0.526744   \n",
       "4577   PTPN6          PTPN6     -0.364401      0.652221       -0.199005   \n",
       "4578   NUCB2          NUCB2      0.077938      0.156951        0.065837   \n",
       "4579   SOCS2          SOCS2      0.285932      0.230338        0.243138   \n",
       "4580   GDF11          GDF11     -0.043422      0.000000       -0.105409   \n",
       "\n",
       "      mat_mean receptor receptor_complex  receptor_logfc  receptor_means  \\\n",
       "0     0.199056    PTPRC            PTPRC       -0.663027        0.761533   \n",
       "1     0.199056    PTPRC            PTPRC       -0.663027        0.761533   \n",
       "2     0.199056    PTPRC            PTPRC       -0.663027        0.761533   \n",
       "3     0.199056     CD44             CD44       -0.128114        0.655391   \n",
       "4     0.199056     CD44             CD44       -0.128114        0.655391   \n",
       "...        ...      ...              ...             ...             ...   \n",
       "4576  0.199056    KCNN4            KCNN4       -0.092909        0.000000   \n",
       "4577  0.199056  CD300LF          CD300LF       -0.046128        0.000000   \n",
       "4578  0.199056    ERAP1            ERAP1        0.232636        0.162055   \n",
       "4579  0.199056     EPOR             EPOR       -0.044612        0.000000   \n",
       "4580  0.199056    ACTR2            ACTR2        0.136576        0.346738   \n",
       "\n",
       "      receptor_zscores source target  ligand_means_sums  receptor_means_sums  \n",
       "0            -0.415538      B      B           0.534913             3.409275  \n",
       "1            -0.415538      B      B           0.672466             3.409275  \n",
       "2            -0.415538      B      B           3.588291             3.409275  \n",
       "3            -0.051623      B      B           0.534913             2.103060  \n",
       "4            -0.051623      B      B           0.362591             2.103060  \n",
       "...                ...    ...    ...                ...                  ...  \n",
       "4576         -0.183226     NK     NK           6.145011             0.121264  \n",
       "4577         -0.105409     NK     NK           2.501501             0.052014  \n",
       "4578          0.282299     NK     NK           0.386504             0.209576  \n",
       "4579         -0.105409     NK     NK           0.372007             0.050942  \n",
       "4580          0.052777     NK     NK           0.050083             0.940681  \n",
       "\n",
       "[4287 rows x 15 columns]"
      ]
     },
     "execution_count": 9,
     "metadata": {},
     "output_type": "execute_result"
    }
   ],
   "source": [
    "lr_res"
   ]
  },
  {
   "cell_type": "code",
   "execution_count": null,
   "id": "185e13e9-2e49-4809-829d-d4454fe39b2a",
   "metadata": {},
   "outputs": [],
   "source": []
  },
  {
   "cell_type": "code",
   "execution_count": null,
   "id": "07de473d-ef2e-46bc-bc94-25b2f24bdacf",
   "metadata": {},
   "outputs": [],
   "source": []
  },
  {
   "cell_type": "markdown",
   "id": "066ac4e7-c58e-42e1-bd78-13be91be3377",
   "metadata": {},
   "source": [
    "Tests"
   ]
  },
  {
   "cell_type": "code",
   "execution_count": null,
   "id": "efabf240-41e1-4919-9384-d3e37bfe2fdc",
   "metadata": {},
   "outputs": [],
   "source": [
    "adata = sc.datasets.pbmc68k_reduced()"
   ]
  },
  {
   "cell_type": "code",
   "execution_count": null,
   "id": "62e9199f-bd01-4e34-a1c3-aa2be2011faa",
   "metadata": {},
   "outputs": [],
   "source": []
  },
  {
   "cell_type": "code",
   "execution_count": null,
   "id": "5f31b8db-22af-40f6-816c-33bde3e4ec5d",
   "metadata": {},
   "outputs": [],
   "source": [
    "liana_pipe(adata=adata, \n",
    "                    groupby='bulk_labels', \n",
    "                    resource_name=resource_name,\n",
    "                    de_method=de_method,\n",
    "                    n_perms=n_perms,\n",
    "                    seed=seed,\n",
    "                    verbose=verbose,\n",
    "                    _key_cols=key_cols,\n",
    "                    use_raw=True,\n",
    "                    layer=None,\n",
    "                    resource=None)"
   ]
  },
  {
   "cell_type": "code",
   "execution_count": null,
   "id": "bff54e17-66db-495e-b987-e76425253970",
   "metadata": {},
   "outputs": [],
   "source": []
  },
  {
   "cell_type": "code",
   "execution_count": null,
   "id": "4f6beb39-501a-413e-becd-97d6ffcee63e",
   "metadata": {},
   "outputs": [],
   "source": []
  },
  {
   "cell_type": "code",
   "execution_count": 10,
   "id": "3735af80-8007-48a3-bc11-070dac65972e",
   "metadata": {},
   "outputs": [],
   "source": [
    "from liana.steady import cellphonedb, natmi, connectome, logfc, singlecellsignalr as sca"
   ]
  },
  {
   "cell_type": "code",
   "execution_count": 11,
   "id": "18463fc8-43d1-46f2-9537-55522e9974dd",
   "metadata": {},
   "outputs": [
    {
     "name": "stderr",
     "output_type": "stream",
     "text": [
      "/home/dbdimitrov/Repos/liana-py/liana/steady/liana_pipe.py:61: ImplicitModificationWarning: Trying to modify attribute `.obs` of view, initializing view as actual.\n",
      "  adata.obs['label'] = adata.obs[groupby]\n",
      "/home/dbdimitrov/anaconda3/lib/python3.8/contextlib.py:120: FutureWarning: X.dtype being converted to np.float32 from float64. In the next version of anndata (0.9) conversion will not be automatic. Pass dtype explicitly to avoid this warning. Pass `AnnData(X, dtype=X.dtype, ...)` to get the future behavour.\n",
      "  next(self.gen)\n",
      "/home/dbdimitrov/anaconda3/lib/python3.8/site-packages/anndata/compat/_overloaded_dict.py:106: ImplicitModificationWarning: Trying to modify attribute `._uns` of view, initializing view as actual.\n",
      "  self.data[key] = value\n"
     ]
    },
    {
     "name": "stdout",
     "output_type": "stream",
     "text": [
      "CPU times: user 3.57 s, sys: 39.4 ms, total: 3.61 s\n",
      "Wall time: 3.57 s\n"
     ]
    }
   ],
   "source": [
    "%%time\n",
    "adata = cellphonedb(adata, groupby='label', layer='logcounts')"
   ]
  },
  {
   "cell_type": "code",
   "execution_count": 12,
   "id": "ce240a45-cd24-4bd1-84fd-cd1d877f771a",
   "metadata": {},
   "outputs": [],
   "source": [
    "adata.uns['liana_res'].to_csv(\"cpdb.csv\", index=False)"
   ]
  },
  {
   "cell_type": "code",
   "execution_count": null,
   "id": "ee70a43f-ca22-4029-a2e0-74b8429ff745",
   "metadata": {},
   "outputs": [],
   "source": []
  },
  {
   "cell_type": "code",
   "execution_count": 31,
   "id": "d72d5e2b-08b5-408d-8dac-77b05005fd73",
   "metadata": {},
   "outputs": [
    {
     "name": "stdout",
     "output_type": "stream",
     "text": [
      "WARNING: Default of the method has been changed to 't-test' from 't-test_overestim_var'\n"
     ]
    }
   ],
   "source": [
    "sc.tl.rank_genes_groups(adata, groupby='label', layer='logcounts')"
   ]
  },
  {
   "cell_type": "code",
   "execution_count": 67,
   "id": "6196e01d-7d1a-42a1-9dd9-18570ad3c752",
   "metadata": {},
   "outputs": [
    {
     "data": {
      "text/html": [
       "<div>\n",
       "<style scoped>\n",
       "    .dataframe tbody tr th:only-of-type {\n",
       "        vertical-align: middle;\n",
       "    }\n",
       "\n",
       "    .dataframe tbody tr th {\n",
       "        vertical-align: top;\n",
       "    }\n",
       "\n",
       "    .dataframe thead th {\n",
       "        text-align: right;\n",
       "    }\n",
       "</style>\n",
       "<table border=\"1\" class=\"dataframe\">\n",
       "  <thead>\n",
       "    <tr style=\"text-align: right;\">\n",
       "      <th></th>\n",
       "      <th>names</th>\n",
       "      <th>scores</th>\n",
       "      <th>logfoldchanges</th>\n",
       "      <th>pvals</th>\n",
       "      <th>pvals_adj</th>\n",
       "    </tr>\n",
       "  </thead>\n",
       "  <tbody>\n",
       "    <tr>\n",
       "      <th>0</th>\n",
       "      <td>CD79A</td>\n",
       "      <td>18.984074</td>\n",
       "      <td>7.368202</td>\n",
       "      <td>8.324411e-22</td>\n",
       "      <td>1.218813e-18</td>\n",
       "    </tr>\n",
       "    <tr>\n",
       "      <th>1</th>\n",
       "      <td>HLA-DRA</td>\n",
       "      <td>17.547894</td>\n",
       "      <td>5.617518</td>\n",
       "      <td>1.344921e-29</td>\n",
       "      <td>6.892049e-26</td>\n",
       "    </tr>\n",
       "    <tr>\n",
       "      <th>2</th>\n",
       "      <td>CD74</td>\n",
       "      <td>15.271557</td>\n",
       "      <td>3.398253</td>\n",
       "      <td>1.977014e-26</td>\n",
       "      <td>5.065604e-23</td>\n",
       "    </tr>\n",
       "    <tr>\n",
       "      <th>3</th>\n",
       "      <td>HLA-DQA1</td>\n",
       "      <td>12.046740</td>\n",
       "      <td>5.872288</td>\n",
       "      <td>3.073140e-14</td>\n",
       "      <td>2.249758e-11</td>\n",
       "    </tr>\n",
       "    <tr>\n",
       "      <th>4</th>\n",
       "      <td>MS4A1</td>\n",
       "      <td>11.577443</td>\n",
       "      <td>6.181672</td>\n",
       "      <td>3.301756e-13</td>\n",
       "      <td>1.990571e-10</td>\n",
       "    </tr>\n",
       "    <tr>\n",
       "      <th>...</th>\n",
       "      <td>...</td>\n",
       "      <td>...</td>\n",
       "      <td>...</td>\n",
       "      <td>...</td>\n",
       "      <td>...</td>\n",
       "    </tr>\n",
       "    <tr>\n",
       "      <th>10244</th>\n",
       "      <td>PRF1</td>\n",
       "      <td>-12.636178</td>\n",
       "      <td>-8.162110</td>\n",
       "      <td>8.316522e-19</td>\n",
       "      <td>1.065450e-15</td>\n",
       "    </tr>\n",
       "    <tr>\n",
       "      <th>10245</th>\n",
       "      <td>CTSW</td>\n",
       "      <td>-13.388393</td>\n",
       "      <td>-5.204299</td>\n",
       "      <td>7.991387e-23</td>\n",
       "      <td>1.638074e-19</td>\n",
       "    </tr>\n",
       "    <tr>\n",
       "      <th>10246</th>\n",
       "      <td>GZMA</td>\n",
       "      <td>-14.447600</td>\n",
       "      <td>-7.590499</td>\n",
       "      <td>1.341686e-22</td>\n",
       "      <td>2.291823e-19</td>\n",
       "    </tr>\n",
       "    <tr>\n",
       "      <th>10247</th>\n",
       "      <td>CST7</td>\n",
       "      <td>-16.318727</td>\n",
       "      <td>-6.286984</td>\n",
       "      <td>9.411932e-28</td>\n",
       "      <td>3.215430e-24</td>\n",
       "    </tr>\n",
       "    <tr>\n",
       "      <th>10248</th>\n",
       "      <td>NKG7</td>\n",
       "      <td>-23.108547</td>\n",
       "      <td>-7.592928</td>\n",
       "      <td>9.633856e-39</td>\n",
       "      <td>9.873739e-35</td>\n",
       "    </tr>\n",
       "  </tbody>\n",
       "</table>\n",
       "<p>10249 rows × 5 columns</p>\n",
       "</div>"
      ],
      "text/plain": [
       "          names     scores  logfoldchanges         pvals     pvals_adj\n",
       "0         CD79A  18.984074        7.368202  8.324411e-22  1.218813e-18\n",
       "1       HLA-DRA  17.547894        5.617518  1.344921e-29  6.892049e-26\n",
       "2          CD74  15.271557        3.398253  1.977014e-26  5.065604e-23\n",
       "3      HLA-DQA1  12.046740        5.872288  3.073140e-14  2.249758e-11\n",
       "4         MS4A1  11.577443        6.181672  3.301756e-13  1.990571e-10\n",
       "...         ...        ...             ...           ...           ...\n",
       "10244      PRF1 -12.636178       -8.162110  8.316522e-19  1.065450e-15\n",
       "10245      CTSW -13.388393       -5.204299  7.991387e-23  1.638074e-19\n",
       "10246      GZMA -14.447600       -7.590499  1.341686e-22  2.291823e-19\n",
       "10247      CST7 -16.318727       -6.286984  9.411932e-28  3.215430e-24\n",
       "10248      NKG7 -23.108547       -7.592928  9.633856e-39  9.873739e-35\n",
       "\n",
       "[10249 rows x 5 columns]"
      ]
     },
     "execution_count": 67,
     "metadata": {},
     "output_type": "execute_result"
    }
   ],
   "source": [
    "sc.get.rank_genes_groups_df(adata, 'B')"
   ]
  },
  {
   "cell_type": "code",
   "execution_count": null,
   "id": "206a4274-d3ca-4bc6-86f6-5023d887bbf8",
   "metadata": {},
   "outputs": [],
   "source": []
  },
  {
   "cell_type": "code",
   "execution_count": null,
   "id": "0f3e5949-6d77-4def-bc25-c47930354138",
   "metadata": {},
   "outputs": [],
   "source": []
  },
  {
   "cell_type": "code",
   "execution_count": 69,
   "id": "d6a8ca60-441e-4397-97e6-5f0ecfcdf1ab",
   "metadata": {},
   "outputs": [],
   "source": [
    "# Function to get gene expr proportions\n",
    "def _get_props(X_mask, var_names):\n",
    "    return X_mask.getnnz(axis=0) / X_mask.shape[0]"
   ]
  },
  {
   "cell_type": "code",
   "execution_count": null,
   "id": "a4ee57fc-f7f4-4d1a-b4a1-772eec5875ed",
   "metadata": {},
   "outputs": [],
   "source": []
  },
  {
   "cell_type": "code",
   "execution_count": 71,
   "id": "80bad3ee-3340-4e69-9d48-e9fd401378a6",
   "metadata": {},
   "outputs": [],
   "source": [
    "{label for label in labels}\n",
    "temp = adata[adata.obs.label=='NK',:]\n",
    "a = _get_props(temp.X, temp.var_names)"
   ]
  },
  {
   "cell_type": "code",
   "execution_count": 74,
   "id": "9a59dd83-2ac9-473c-80c2-ec5aeffb6903",
   "metadata": {},
   "outputs": [
    {
     "data": {
      "text/html": [
       "<div>\n",
       "<style scoped>\n",
       "    .dataframe tbody tr th:only-of-type {\n",
       "        vertical-align: middle;\n",
       "    }\n",
       "\n",
       "    .dataframe tbody tr th {\n",
       "        vertical-align: top;\n",
       "    }\n",
       "\n",
       "    .dataframe thead th {\n",
       "        text-align: right;\n",
       "    }\n",
       "</style>\n",
       "<table border=\"1\" class=\"dataframe\">\n",
       "  <thead>\n",
       "    <tr style=\"text-align: right;\">\n",
       "      <th></th>\n",
       "      <th>prop</th>\n",
       "    </tr>\n",
       "  </thead>\n",
       "  <tbody>\n",
       "    <tr>\n",
       "      <th>AP006222.2</th>\n",
       "      <td>0.000000</td>\n",
       "    </tr>\n",
       "    <tr>\n",
       "      <th>RP11-206L10.2</th>\n",
       "      <td>0.000000</td>\n",
       "    </tr>\n",
       "    <tr>\n",
       "      <th>LINC00115</th>\n",
       "      <td>0.033333</td>\n",
       "    </tr>\n",
       "    <tr>\n",
       "      <th>NOC2L</th>\n",
       "      <td>0.366667</td>\n",
       "    </tr>\n",
       "    <tr>\n",
       "      <th>KLHL17</th>\n",
       "      <td>0.000000</td>\n",
       "    </tr>\n",
       "    <tr>\n",
       "      <th>...</th>\n",
       "      <td>...</td>\n",
       "    </tr>\n",
       "    <tr>\n",
       "      <th>MT-ND6</th>\n",
       "      <td>0.100000</td>\n",
       "    </tr>\n",
       "    <tr>\n",
       "      <th>MT-CYB</th>\n",
       "      <td>0.933333</td>\n",
       "    </tr>\n",
       "    <tr>\n",
       "      <th>AL592183.1</th>\n",
       "      <td>0.166667</td>\n",
       "    </tr>\n",
       "    <tr>\n",
       "      <th>PNRC2.1</th>\n",
       "      <td>0.000000</td>\n",
       "    </tr>\n",
       "    <tr>\n",
       "      <th>SRSF10.1</th>\n",
       "      <td>0.033333</td>\n",
       "    </tr>\n",
       "  </tbody>\n",
       "</table>\n",
       "<p>10249 rows × 1 columns</p>\n",
       "</div>"
      ],
      "text/plain": [
       "                   prop\n",
       "AP006222.2     0.000000\n",
       "RP11-206L10.2  0.000000\n",
       "LINC00115      0.033333\n",
       "NOC2L          0.366667\n",
       "KLHL17         0.000000\n",
       "...                 ...\n",
       "MT-ND6         0.100000\n",
       "MT-CYB         0.933333\n",
       "AL592183.1     0.166667\n",
       "PNRC2.1        0.000000\n",
       "SRSF10.1       0.033333\n",
       "\n",
       "[10249 rows x 1 columns]"
      ]
     },
     "execution_count": 74,
     "metadata": {},
     "output_type": "execute_result"
    }
   ],
   "source": [
    "pd.DataFrame({'prop':a}, index=temp.var_names)"
   ]
  },
  {
   "cell_type": "code",
   "execution_count": null,
   "id": "20149109-31f6-4748-9c2f-dbe1f230aaad",
   "metadata": {},
   "outputs": [],
   "source": []
  },
  {
   "cell_type": "code",
   "execution_count": 26,
   "id": "fe71822a-9cea-4b79-81f2-7d40c145f363",
   "metadata": {},
   "outputs": [
    {
     "data": {
      "text/html": [
       "<div>\n",
       "<style scoped>\n",
       "    .dataframe tbody tr th:only-of-type {\n",
       "        vertical-align: middle;\n",
       "    }\n",
       "\n",
       "    .dataframe tbody tr th {\n",
       "        vertical-align: top;\n",
       "    }\n",
       "\n",
       "    .dataframe thead th {\n",
       "        text-align: right;\n",
       "    }\n",
       "</style>\n",
       "<table border=\"1\" class=\"dataframe\">\n",
       "  <thead>\n",
       "    <tr style=\"text-align: right;\">\n",
       "      <th></th>\n",
       "      <th>B</th>\n",
       "      <th>CD8 T</th>\n",
       "      <th>NK</th>\n",
       "    </tr>\n",
       "  </thead>\n",
       "  <tbody>\n",
       "    <tr>\n",
       "      <th>AP006222.2</th>\n",
       "      <td>0.000000</td>\n",
       "      <td>0.033333</td>\n",
       "      <td>0.000000</td>\n",
       "    </tr>\n",
       "    <tr>\n",
       "      <th>RP11-206L10.2</th>\n",
       "      <td>0.033333</td>\n",
       "      <td>0.000000</td>\n",
       "      <td>0.000000</td>\n",
       "    </tr>\n",
       "    <tr>\n",
       "      <th>LINC00115</th>\n",
       "      <td>0.000000</td>\n",
       "      <td>0.000000</td>\n",
       "      <td>0.033333</td>\n",
       "    </tr>\n",
       "    <tr>\n",
       "      <th>NOC2L</th>\n",
       "      <td>0.366667</td>\n",
       "      <td>0.066667</td>\n",
       "      <td>0.366667</td>\n",
       "    </tr>\n",
       "    <tr>\n",
       "      <th>KLHL17</th>\n",
       "      <td>0.033333</td>\n",
       "      <td>0.000000</td>\n",
       "      <td>0.000000</td>\n",
       "    </tr>\n",
       "    <tr>\n",
       "      <th>...</th>\n",
       "      <td>...</td>\n",
       "      <td>...</td>\n",
       "      <td>...</td>\n",
       "    </tr>\n",
       "    <tr>\n",
       "      <th>MT-ND6</th>\n",
       "      <td>0.100000</td>\n",
       "      <td>0.133333</td>\n",
       "      <td>0.100000</td>\n",
       "    </tr>\n",
       "    <tr>\n",
       "      <th>MT-CYB</th>\n",
       "      <td>0.966667</td>\n",
       "      <td>0.933333</td>\n",
       "      <td>0.933333</td>\n",
       "    </tr>\n",
       "    <tr>\n",
       "      <th>AL592183.1</th>\n",
       "      <td>0.233333</td>\n",
       "      <td>0.166667</td>\n",
       "      <td>0.166667</td>\n",
       "    </tr>\n",
       "    <tr>\n",
       "      <th>PNRC2.1</th>\n",
       "      <td>0.066667</td>\n",
       "      <td>0.033333</td>\n",
       "      <td>0.000000</td>\n",
       "    </tr>\n",
       "    <tr>\n",
       "      <th>SRSF10.1</th>\n",
       "      <td>0.066667</td>\n",
       "      <td>0.033333</td>\n",
       "      <td>0.033333</td>\n",
       "    </tr>\n",
       "  </tbody>\n",
       "</table>\n",
       "<p>10249 rows × 3 columns</p>\n",
       "</div>"
      ],
      "text/plain": [
       "                      B     CD8 T        NK\n",
       "AP006222.2     0.000000  0.033333  0.000000\n",
       "RP11-206L10.2  0.033333  0.000000  0.000000\n",
       "LINC00115      0.000000  0.000000  0.033333\n",
       "NOC2L          0.366667  0.066667  0.366667\n",
       "KLHL17         0.033333  0.000000  0.000000\n",
       "...                 ...       ...       ...\n",
       "MT-ND6         0.100000  0.133333  0.100000\n",
       "MT-CYB         0.966667  0.933333  0.933333\n",
       "AL592183.1     0.233333  0.166667  0.166667\n",
       "PNRC2.1        0.066667  0.033333  0.000000\n",
       "SRSF10.1       0.066667  0.033333  0.033333\n",
       "\n",
       "[10249 rows x 3 columns]"
      ]
     },
     "execution_count": 26,
     "metadata": {},
     "output_type": "execute_result"
    }
   ],
   "source": [
    "adata.uns['rank_genes_groups']['pts']"
   ]
  },
  {
   "cell_type": "code",
   "execution_count": null,
   "id": "e1638470-8a05-40a7-9969-407411b6c4f6",
   "metadata": {},
   "outputs": [],
   "source": []
  },
  {
   "cell_type": "code",
   "execution_count": 44,
   "id": "ffee9b4d-721f-4949-b91c-50148de659ed",
   "metadata": {},
   "outputs": [
    {
     "ename": "ValueError",
     "evalue": "The truth value of an array with more than one element is ambiguous. Use a.any() or a.all().",
     "output_type": "error",
     "traceback": [
      "\u001b[0;31m---------------------------------------------------------------------------\u001b[0m",
      "\u001b[0;31mValueError\u001b[0m                                Traceback (most recent call last)",
      "\u001b[0;32m<ipython-input-44-7e9b650f1b74>\u001b[0m in \u001b[0;36m<module>\u001b[0;34m\u001b[0m\n\u001b[0;32m----> 1\u001b[0;31m \u001b[0mnp\u001b[0m\u001b[0;34m.\u001b[0m\u001b[0mcount_nonzero\u001b[0m\u001b[0;34m(\u001b[0m\u001b[0madata\u001b[0m\u001b[0;34m[\u001b[0m\u001b[0madata\u001b[0m\u001b[0;34m.\u001b[0m\u001b[0mobs\u001b[0m\u001b[0;34m.\u001b[0m\u001b[0mlabel\u001b[0m\u001b[0;34m==\u001b[0m\u001b[0;34m'B'\u001b[0m\u001b[0;34m,\u001b[0m\u001b[0;34m:\u001b[0m\u001b[0;34m]\u001b[0m\u001b[0;34m.\u001b[0m\u001b[0mX\u001b[0m\u001b[0;34m)\u001b[0m\u001b[0;34m\u001b[0m\u001b[0;34m\u001b[0m\u001b[0m\n\u001b[0m",
      "\u001b[0;32m~/anaconda3/lib/python3.8/site-packages/numpy/core/overrides.py\u001b[0m in \u001b[0;36mcount_nonzero\u001b[0;34m(*args, **kwargs)\u001b[0m\n",
      "\u001b[0;32m~/anaconda3/lib/python3.8/site-packages/numpy/core/numeric.py\u001b[0m in \u001b[0;36mcount_nonzero\u001b[0;34m(a, axis, keepdims)\u001b[0m\n\u001b[1;32m    490\u001b[0m     \"\"\"\n\u001b[1;32m    491\u001b[0m     \u001b[0;32mif\u001b[0m \u001b[0maxis\u001b[0m \u001b[0;32mis\u001b[0m \u001b[0;32mNone\u001b[0m \u001b[0;32mand\u001b[0m \u001b[0;32mnot\u001b[0m \u001b[0mkeepdims\u001b[0m\u001b[0;34m:\u001b[0m\u001b[0;34m\u001b[0m\u001b[0;34m\u001b[0m\u001b[0m\n\u001b[0;32m--> 492\u001b[0;31m         \u001b[0;32mreturn\u001b[0m \u001b[0mmultiarray\u001b[0m\u001b[0;34m.\u001b[0m\u001b[0mcount_nonzero\u001b[0m\u001b[0;34m(\u001b[0m\u001b[0ma\u001b[0m\u001b[0;34m)\u001b[0m\u001b[0;34m\u001b[0m\u001b[0;34m\u001b[0m\u001b[0m\n\u001b[0m\u001b[1;32m    493\u001b[0m \u001b[0;34m\u001b[0m\u001b[0m\n\u001b[1;32m    494\u001b[0m     \u001b[0ma\u001b[0m \u001b[0;34m=\u001b[0m \u001b[0masanyarray\u001b[0m\u001b[0;34m(\u001b[0m\u001b[0ma\u001b[0m\u001b[0;34m)\u001b[0m\u001b[0;34m\u001b[0m\u001b[0;34m\u001b[0m\u001b[0m\n",
      "\u001b[0;32m~/.local/lib/python3.8/site-packages/scipy/sparse/_base.py\u001b[0m in \u001b[0;36m__bool__\u001b[0;34m(self)\u001b[0m\n\u001b[1;32m    335\u001b[0m             \u001b[0;32mreturn\u001b[0m \u001b[0mself\u001b[0m\u001b[0;34m.\u001b[0m\u001b[0mnnz\u001b[0m \u001b[0;34m!=\u001b[0m \u001b[0;36m0\u001b[0m\u001b[0;34m\u001b[0m\u001b[0;34m\u001b[0m\u001b[0m\n\u001b[1;32m    336\u001b[0m         \u001b[0;32melse\u001b[0m\u001b[0;34m:\u001b[0m\u001b[0;34m\u001b[0m\u001b[0;34m\u001b[0m\u001b[0m\n\u001b[0;32m--> 337\u001b[0;31m             raise ValueError(\"The truth value of an array with more than one \"\n\u001b[0m\u001b[1;32m    338\u001b[0m                              \"element is ambiguous. Use a.any() or a.all().\")\n\u001b[1;32m    339\u001b[0m     \u001b[0m__nonzero__\u001b[0m \u001b[0;34m=\u001b[0m \u001b[0m__bool__\u001b[0m\u001b[0;34m\u001b[0m\u001b[0;34m\u001b[0m\u001b[0m\n",
      "\u001b[0;31mValueError\u001b[0m: The truth value of an array with more than one element is ambiguous. Use a.any() or a.all()."
     ]
    }
   ],
   "source": [
    "np.count_nonzero(adata[adata.obs.label=='B',:].X)"
   ]
  },
  {
   "cell_type": "code",
   "execution_count": null,
   "id": "180c690e-75a9-4374-a2ce-e4cb17a206b9",
   "metadata": {},
   "outputs": [],
   "source": []
  },
  {
   "cell_type": "code",
   "execution_count": 37,
   "id": "213f37f4-3049-4ed7-8947-e81accf4f8f8",
   "metadata": {},
   "outputs": [
    {
     "data": {
      "text/plain": [
       "<90x10249 sparse matrix of type '<class 'numpy.float32'>'\n",
       "\twith 103311 stored elements in Compressed Sparse Column format>"
      ]
     },
     "execution_count": 37,
     "metadata": {},
     "output_type": "execute_result"
    }
   ],
   "source": [
    "adata.X"
   ]
  },
  {
   "cell_type": "code",
   "execution_count": null,
   "id": "f0373666-064e-4a68-8210-556b705b660b",
   "metadata": {},
   "outputs": [],
   "source": []
  },
  {
   "cell_type": "code",
   "execution_count": 35,
   "id": "774ad36b-b349-4843-afc7-289dd8469c16",
   "metadata": {},
   "outputs": [
    {
     "data": {
      "text/html": [
       "<div>\n",
       "<style scoped>\n",
       "    .dataframe tbody tr th:only-of-type {\n",
       "        vertical-align: middle;\n",
       "    }\n",
       "\n",
       "    .dataframe tbody tr th {\n",
       "        vertical-align: top;\n",
       "    }\n",
       "\n",
       "    .dataframe thead th {\n",
       "        text-align: right;\n",
       "    }\n",
       "</style>\n",
       "<table border=\"1\" class=\"dataframe\">\n",
       "  <thead>\n",
       "    <tr style=\"text-align: right;\">\n",
       "      <th></th>\n",
       "      <th>names</th>\n",
       "      <th>scores</th>\n",
       "      <th>logfoldchanges</th>\n",
       "      <th>pvals</th>\n",
       "      <th>pvals_adj</th>\n",
       "    </tr>\n",
       "  </thead>\n",
       "  <tbody>\n",
       "    <tr>\n",
       "      <th>0</th>\n",
       "      <td>CD79A</td>\n",
       "      <td>18.984074</td>\n",
       "      <td>7.368202</td>\n",
       "      <td>8.324411e-22</td>\n",
       "      <td>1.218813e-18</td>\n",
       "    </tr>\n",
       "    <tr>\n",
       "      <th>1</th>\n",
       "      <td>HLA-DRA</td>\n",
       "      <td>17.547894</td>\n",
       "      <td>5.617518</td>\n",
       "      <td>1.344921e-29</td>\n",
       "      <td>6.892049e-26</td>\n",
       "    </tr>\n",
       "    <tr>\n",
       "      <th>2</th>\n",
       "      <td>CD74</td>\n",
       "      <td>15.271557</td>\n",
       "      <td>3.398253</td>\n",
       "      <td>1.977014e-26</td>\n",
       "      <td>5.065604e-23</td>\n",
       "    </tr>\n",
       "    <tr>\n",
       "      <th>3</th>\n",
       "      <td>HLA-DQA1</td>\n",
       "      <td>12.046740</td>\n",
       "      <td>5.872288</td>\n",
       "      <td>3.073140e-14</td>\n",
       "      <td>2.249758e-11</td>\n",
       "    </tr>\n",
       "    <tr>\n",
       "      <th>4</th>\n",
       "      <td>MS4A1</td>\n",
       "      <td>11.577443</td>\n",
       "      <td>6.181672</td>\n",
       "      <td>3.301756e-13</td>\n",
       "      <td>1.990571e-10</td>\n",
       "    </tr>\n",
       "    <tr>\n",
       "      <th>...</th>\n",
       "      <td>...</td>\n",
       "      <td>...</td>\n",
       "      <td>...</td>\n",
       "      <td>...</td>\n",
       "      <td>...</td>\n",
       "    </tr>\n",
       "    <tr>\n",
       "      <th>10244</th>\n",
       "      <td>PRF1</td>\n",
       "      <td>-12.636178</td>\n",
       "      <td>-8.162110</td>\n",
       "      <td>8.316522e-19</td>\n",
       "      <td>1.065450e-15</td>\n",
       "    </tr>\n",
       "    <tr>\n",
       "      <th>10245</th>\n",
       "      <td>CTSW</td>\n",
       "      <td>-13.388393</td>\n",
       "      <td>-5.204299</td>\n",
       "      <td>7.991387e-23</td>\n",
       "      <td>1.638074e-19</td>\n",
       "    </tr>\n",
       "    <tr>\n",
       "      <th>10246</th>\n",
       "      <td>GZMA</td>\n",
       "      <td>-14.447600</td>\n",
       "      <td>-7.590499</td>\n",
       "      <td>1.341686e-22</td>\n",
       "      <td>2.291823e-19</td>\n",
       "    </tr>\n",
       "    <tr>\n",
       "      <th>10247</th>\n",
       "      <td>CST7</td>\n",
       "      <td>-16.318727</td>\n",
       "      <td>-6.286984</td>\n",
       "      <td>9.411932e-28</td>\n",
       "      <td>3.215430e-24</td>\n",
       "    </tr>\n",
       "    <tr>\n",
       "      <th>10248</th>\n",
       "      <td>NKG7</td>\n",
       "      <td>-23.108547</td>\n",
       "      <td>-7.592928</td>\n",
       "      <td>9.633856e-39</td>\n",
       "      <td>9.873739e-35</td>\n",
       "    </tr>\n",
       "  </tbody>\n",
       "</table>\n",
       "<p>10249 rows × 5 columns</p>\n",
       "</div>"
      ],
      "text/plain": [
       "          names     scores  logfoldchanges         pvals     pvals_adj\n",
       "0         CD79A  18.984074        7.368202  8.324411e-22  1.218813e-18\n",
       "1       HLA-DRA  17.547894        5.617518  1.344921e-29  6.892049e-26\n",
       "2          CD74  15.271557        3.398253  1.977014e-26  5.065604e-23\n",
       "3      HLA-DQA1  12.046740        5.872288  3.073140e-14  2.249758e-11\n",
       "4         MS4A1  11.577443        6.181672  3.301756e-13  1.990571e-10\n",
       "...         ...        ...             ...           ...           ...\n",
       "10244      PRF1 -12.636178       -8.162110  8.316522e-19  1.065450e-15\n",
       "10245      CTSW -13.388393       -5.204299  7.991387e-23  1.638074e-19\n",
       "10246      GZMA -14.447600       -7.590499  1.341686e-22  2.291823e-19\n",
       "10247      CST7 -16.318727       -6.286984  9.411932e-28  3.215430e-24\n",
       "10248      NKG7 -23.108547       -7.592928  9.633856e-39  9.873739e-35\n",
       "\n",
       "[10249 rows x 5 columns]"
      ]
     },
     "execution_count": 35,
     "metadata": {},
     "output_type": "execute_result"
    }
   ],
   "source": [
    "sc.get.rank_genes_groups_df(adata, group='B')"
   ]
  },
  {
   "cell_type": "code",
   "execution_count": null,
   "id": "f782eab7-d22a-4c55-9726-192b585c6f98",
   "metadata": {},
   "outputs": [],
   "source": []
  },
  {
   "cell_type": "code",
   "execution_count": null,
   "id": "aa416918-1e24-40ef-9849-9a6bb219c6df",
   "metadata": {},
   "outputs": [],
   "source": []
  },
  {
   "cell_type": "code",
   "execution_count": null,
   "id": "ed01af12-fcac-4063-bef6-b8417abde5cb",
   "metadata": {},
   "outputs": [],
   "source": [
    "for imask, mask in enumerate(self.groups_masks):\n",
    "    X_mask = self.X[mask]\n",
    "\n",
    "    if self.comp_pts:\n",
    "        self.pts[imask] = get_nonzeros(X_mask) / X_mask.shape[0]"
   ]
  },
  {
   "cell_type": "code",
   "execution_count": null,
   "id": "4ce27200-45f9-4f05-9ec8-875fcf8acaf5",
   "metadata": {},
   "outputs": [],
   "source": []
  },
  {
   "cell_type": "code",
   "execution_count": null,
   "id": "46fc319a-c3e0-4f05-898c-4fd9fc2a495f",
   "metadata": {},
   "outputs": [],
   "source": []
  },
  {
   "cell_type": "code",
   "execution_count": null,
   "id": "3855010b-6c6c-437d-a685-e7be24998171",
   "metadata": {},
   "outputs": [],
   "source": []
  },
  {
   "cell_type": "code",
   "execution_count": null,
   "id": "ee3d2e94-625a-4862-b1eb-891ec8622348",
   "metadata": {},
   "outputs": [],
   "source": []
  },
  {
   "cell_type": "code",
   "execution_count": 27,
   "id": "b59893e1-b2fd-4445-9b12-f9d51ac7489b",
   "metadata": {},
   "outputs": [],
   "source": [
    "labels = adata.obs.label.cat.categories"
   ]
  },
  {
   "cell_type": "code",
   "execution_count": 28,
   "id": "f89e903f-38fc-46d5-8a7d-ab49b70140a8",
   "metadata": {},
   "outputs": [],
   "source": [
    "dedict = {label: sc.get.rank_genes_groups_df(adata, label).assign(\n",
    "    label=label).sort_values('names') for label in labels}"
   ]
  },
  {
   "cell_type": "code",
   "execution_count": null,
   "id": "27dbc7c6-7ddb-426f-a8d1-b7725c8e6708",
   "metadata": {},
   "outputs": [],
   "source": []
  },
  {
   "cell_type": "code",
   "execution_count": null,
   "id": "45e06a17-ca0b-4713-87dd-73e428585505",
   "metadata": {},
   "outputs": [],
   "source": []
  },
  {
   "cell_type": "code",
   "execution_count": null,
   "id": "631d1a0c-cc73-4f55-9d36-cc1e486cf2f5",
   "metadata": {},
   "outputs": [],
   "source": []
  },
  {
   "cell_type": "code",
   "execution_count": 29,
   "id": "d578bc8b-3f44-4a04-986e-bb0921ed5271",
   "metadata": {},
   "outputs": [
    {
     "data": {
      "text/plain": [
       "{'B':              names    scores  logfoldchanges     pvals  pvals_adj  \\\n",
       " 8228          A1BG -1.212811       -1.348133  0.228452   0.576021   \n",
       " 7682           A2M -1.000000      -24.748297  0.321394   0.576021   \n",
       " 6827       A2M-AS1 -1.000000      -24.242268  0.321394   0.576021   \n",
       " 6453          AAAS -0.782444       -1.131895  0.436259   0.687151   \n",
       " 1609          AACS  1.000000       25.611155  0.325582   0.576021   \n",
       " ...            ...       ...             ...       ...        ...   \n",
       " 8630        ZYG11B -1.421156      -25.575615  0.160536   0.576021   \n",
       " 6059           ZYX -0.557628       -0.632922  0.578907   0.814331   \n",
       " 7370         ZZEF1 -1.000000      -25.183155  0.321394   0.576021   \n",
       " 9665          ZZZ3 -2.039810      -26.568956  0.045855   0.477712   \n",
       " 8793  hsa-mir-8072 -1.425681      -25.691763  0.159230   0.576021   \n",
       " \n",
       "       pct_nz_group  pct_nz_reference label  \n",
       " 8228      0.066667          0.100000     B  \n",
       " 7682      0.000000          0.016667     B  \n",
       " 6827      0.000000          0.016667     B  \n",
       " 6453      0.033333          0.066667     B  \n",
       " 1609      0.033333          0.000000     B  \n",
       " ...            ...               ...   ...  \n",
       " 8630      0.000000          0.033333     B  \n",
       " 6059      0.066667          0.100000     B  \n",
       " 7370      0.000000          0.016667     B  \n",
       " 9665      0.000000          0.066667     B  \n",
       " 8793      0.000000          0.033333     B  \n",
       " \n",
       " [10249 rows x 8 columns],\n",
       " 'CD8 T':              names    scores  logfoldchanges     pvals  pvals_adj  \\\n",
       " 3448          A1BG  0.318411        0.363418  0.751439   0.894988   \n",
       " 7703           A2M -1.000000      -24.748297  0.321394   0.591017   \n",
       " 6377       A2M-AS1 -1.000000      -24.242268  0.321394   0.591017   \n",
       " 9887          AAAS -2.298392      -26.960526  0.025100   0.549627   \n",
       " 6980          AACS -1.000000      -24.593014  0.321394   0.591017   \n",
       " ...            ...       ...             ...       ...        ...   \n",
       " 2703        ZYG11B  0.532112        1.265599  0.597618   0.825285   \n",
       " 5916           ZYX -0.735846       -0.823142  0.464085   0.736186   \n",
       " 6623         ZZEF1 -1.000000      -25.183155  0.321394   0.591017   \n",
       " 5358          ZZZ3 -0.442369       -0.697344  0.659534   0.850502   \n",
       " 8714  hsa-mir-8072 -1.425681      -25.691763  0.159230   0.591017   \n",
       " \n",
       "       pct_nz_group  pct_nz_reference  label  \n",
       " 3448      0.100000          0.083333  CD8 T  \n",
       " 7703      0.000000          0.016667  CD8 T  \n",
       " 6377      0.000000          0.016667  CD8 T  \n",
       " 9887      0.000000          0.083333  CD8 T  \n",
       " 6980      0.000000          0.016667  CD8 T  \n",
       " ...            ...               ...    ...  \n",
       " 2703      0.033333          0.016667  CD8 T  \n",
       " 5916      0.066667          0.100000  CD8 T  \n",
       " 6623      0.000000          0.016667  CD8 T  \n",
       " 5358      0.033333          0.050000  CD8 T  \n",
       " 8714      0.000000          0.033333  CD8 T  \n",
       " \n",
       " [10249 rows x 8 columns],\n",
       " 'NK':              names    scores  logfoldchanges     pvals  pvals_adj  \\\n",
       " 3146          A1BG  0.589931        0.705476  0.558250   0.794087   \n",
       " 1688           A2M  1.000000       25.768484  0.325582   0.574434   \n",
       " 2045       A2M-AS1  1.000000       25.256512  0.325582   0.574434   \n",
       " 427           AAAS  1.794249        3.222317  0.082072   0.574434   \n",
       " 7276          AACS -1.000000      -24.593014  0.321394   0.574434   \n",
       " ...            ...       ...             ...       ...        ...   \n",
       " 3984        ZYG11B  0.351195        0.769816  0.726922   0.879913   \n",
       " 1508           ZYX  1.040975        1.231079  0.303883   0.574434   \n",
       " 1825         ZZEF1  1.000000       26.210377  0.325582   0.574434   \n",
       " 743           ZZZ3  1.447392        2.766837  0.157063   0.574434   \n",
       " 802   hsa-mir-8072  1.438544       26.730339  0.160986   0.574434   \n",
       " \n",
       "       pct_nz_group  pct_nz_reference label  \n",
       " 3146      0.100000          0.083333    NK  \n",
       " 1688      0.033333          0.000000    NK  \n",
       " 2045      0.033333          0.000000    NK  \n",
       " 427       0.133333          0.016667    NK  \n",
       " 7276      0.000000          0.016667    NK  \n",
       " ...            ...               ...   ...  \n",
       " 3984      0.033333          0.016667    NK  \n",
       " 1508      0.133333          0.066667    NK  \n",
       " 1825      0.033333          0.000000    NK  \n",
       " 743       0.100000          0.016667    NK  \n",
       " 802       0.066667          0.000000    NK  \n",
       " \n",
       " [10249 rows x 8 columns]}"
      ]
     },
     "execution_count": 29,
     "metadata": {},
     "output_type": "execute_result"
    }
   ],
   "source": [
    "dedict"
   ]
  },
  {
   "cell_type": "code",
   "execution_count": null,
   "id": "06cd6057-0332-48ed-914d-0b2b44bad811",
   "metadata": {},
   "outputs": [],
   "source": []
  },
  {
   "cell_type": "code",
   "execution_count": null,
   "id": "102ff29b-650e-4ea0-a5eb-3f933ae2f2d4",
   "metadata": {},
   "outputs": [],
   "source": []
  },
  {
   "cell_type": "markdown",
   "id": "7c12716f-6115-4c36-8751-0c8f45b771a2",
   "metadata": {},
   "source": [
    "Consensus"
   ]
  },
  {
   "cell_type": "code",
   "execution_count": null,
   "id": "70668179-5ff8-4036-9e01-6fe252323499",
   "metadata": {},
   "outputs": [],
   "source": [
    "from liana.steady.scores.consensus import consensus"
   ]
  },
  {
   "cell_type": "code",
   "execution_count": null,
   "id": "5ac91949-ffcd-4aaf-a577-69723d08e732",
   "metadata": {},
   "outputs": [],
   "source": [
    "from functools import reduce\n",
    "from scipy.stats import rankdata, beta"
   ]
  },
  {
   "cell_type": "code",
   "execution_count": null,
   "id": "f5cb53cf-9f76-4a02-bcca-20c96da69882",
   "metadata": {},
   "outputs": [],
   "source": [
    "from liana.steady.aggregate import _robust_rank_aggregate, _rank_aggregate"
   ]
  },
  {
   "cell_type": "code",
   "execution_count": null,
   "id": "4ac03f73-67a9-4e37-a63a-b44f8bbc3820",
   "metadata": {},
   "outputs": [],
   "source": []
  },
  {
   "cell_type": "code",
   "execution_count": null,
   "id": "f6684810-660b-4243-8536-5768cc0a6b9f",
   "metadata": {},
   "outputs": [],
   "source": []
  },
  {
   "cell_type": "code",
   "execution_count": null,
   "id": "04e1a887-6be7-4506-b21e-da090e1f2804",
   "metadata": {},
   "outputs": [],
   "source": []
  },
  {
   "cell_type": "code",
   "execution_count": null,
   "id": "d37bc726-c1a0-40ca-b6bc-a12b50bb832e",
   "metadata": {},
   "outputs": [],
   "source": [
    "_methods = [cellphonedb, connectome, logfc, natmi, sca]"
   ]
  },
  {
   "cell_type": "code",
   "execution_count": null,
   "id": "94a5e64c-d191-4851-8948-062fd901e583",
   "metadata": {},
   "outputs": [],
   "source": []
  },
  {
   "cell_type": "code",
   "execution_count": null,
   "id": "3e434926-0352-4865-90e9-745c6a566491",
   "metadata": {},
   "outputs": [],
   "source": [
    "adata = consensus(adata, groupby='bulk_labels',\n",
    "                  use_raw=True\n",
    "                  #, consensus_opts=False\n",
    "                 )"
   ]
  },
  {
   "cell_type": "code",
   "execution_count": null,
   "id": "4c403ce5-ff81-472c-9de6-4a895b99acf7",
   "metadata": {},
   "outputs": [],
   "source": [
    "lr_res = adata.uns['liana_res']"
   ]
  },
  {
   "cell_type": "code",
   "execution_count": null,
   "id": "c2e5f88a-6b7a-4daf-b216-292bbf3d640a",
   "metadata": {},
   "outputs": [],
   "source": []
  },
  {
   "cell_type": "code",
   "execution_count": null,
   "id": "c0313584-8d09-4ac5-ba16-106bc063cac0",
   "metadata": {},
   "outputs": [],
   "source": [
    "lr_res[lr_res['receptor_complex']=='CD8A_CD8B'].sort_values('spec_weight')"
   ]
  },
  {
   "cell_type": "code",
   "execution_count": null,
   "id": "6c047547-aff8-4278-b7b1-506c285252f9",
   "metadata": {},
   "outputs": [],
   "source": []
  },
  {
   "cell_type": "code",
   "execution_count": null,
   "id": "ba6af2b7-d2f4-4d72-a549-22780fb2ae04",
   "metadata": {},
   "outputs": [],
   "source": []
  },
  {
   "cell_type": "code",
   "execution_count": null,
   "id": "accdb9a4-1e5c-4f1d-a713-2a1f6e14dc08",
   "metadata": {},
   "outputs": [],
   "source": []
  },
  {
   "cell_type": "code",
   "execution_count": null,
   "id": "c3f48fcb-1a83-4c0f-8d03-8b26dca618fe",
   "metadata": {},
   "outputs": [],
   "source": []
  },
  {
   "cell_type": "code",
   "execution_count": null,
   "id": "58b97d49-2636-4604-ac09-7319257f4bcb",
   "metadata": {},
   "outputs": [],
   "source": []
  },
  {
   "cell_type": "markdown",
   "id": "81286b5b-869d-4c45-a57c-4ab6d3fb39a5",
   "metadata": {
    "tags": []
   },
   "source": [
    "## Each Method"
   ]
  },
  {
   "cell_type": "markdown",
   "id": "bbc202fb-8b2a-4659-821f-b52a2f957269",
   "metadata": {},
   "source": [
    "CellPhoneDB"
   ]
  },
  {
   "cell_type": "code",
   "execution_count": null,
   "id": "f34a6a93-f823-4c50-a716-6d9f7aa873a2",
   "metadata": {},
   "outputs": [],
   "source": [
    "from liana import cellphonedb"
   ]
  },
  {
   "cell_type": "code",
   "execution_count": null,
   "id": "ae10eb86-43f0-49eb-a2ce-bc4ef2b4a030",
   "metadata": {},
   "outputs": [],
   "source": [
    "%%time\n",
    "adata = cellphonedb(adata, groupby='label', n_perms=1000)"
   ]
  },
  {
   "cell_type": "code",
   "execution_count": null,
   "id": "5da48042-4f6a-463f-9900-35cf075e8157",
   "metadata": {},
   "outputs": [],
   "source": [
    "lr_res = adata.uns['liana_res']"
   ]
  },
  {
   "cell_type": "code",
   "execution_count": null,
   "id": "5fe86072-35f7-488d-8902-edb88dbea50c",
   "metadata": {},
   "outputs": [],
   "source": [
    "lr_res[lr_res['receptor_complex']=='CD8A_CD8B']"
   ]
  },
  {
   "cell_type": "code",
   "execution_count": null,
   "id": "05070b28-53a6-457f-b8ee-f776ccde22e6",
   "metadata": {},
   "outputs": [],
   "source": []
  },
  {
   "cell_type": "code",
   "execution_count": null,
   "id": "6fadac1c-d620-45be-9659-d863ec129fad",
   "metadata": {},
   "outputs": [],
   "source": []
  },
  {
   "cell_type": "markdown",
   "id": "ac370eac-2c34-462b-a84a-f571c6627e4b",
   "metadata": {},
   "source": [
    "NATMI"
   ]
  },
  {
   "cell_type": "code",
   "execution_count": null,
   "id": "2a67dd14-3e89-40fa-a6d1-a27d9acaba59",
   "metadata": {},
   "outputs": [],
   "source": [
    "from liana import natmi"
   ]
  },
  {
   "cell_type": "code",
   "execution_count": null,
   "id": "bb3017ab-1d8e-4704-9012-2bceb959dc13",
   "metadata": {},
   "outputs": [],
   "source": [
    "adata = natmi(adata, groupby='label')"
   ]
  },
  {
   "cell_type": "code",
   "execution_count": null,
   "id": "7e53c204-d252-4d19-aa94-20d19e9e41f1",
   "metadata": {},
   "outputs": [],
   "source": [
    "adata.uns['liana_res']"
   ]
  },
  {
   "cell_type": "code",
   "execution_count": null,
   "id": "278f0447-3ad6-4a85-97ec-1274fbf18a45",
   "metadata": {},
   "outputs": [],
   "source": []
  },
  {
   "cell_type": "code",
   "execution_count": null,
   "id": "7727dc8a-1205-4e29-85e9-a0cf1571098c",
   "metadata": {},
   "outputs": [],
   "source": []
  },
  {
   "cell_type": "markdown",
   "id": "7ec44baa-0cd3-4eb6-9f7b-a5e325b6f692",
   "metadata": {},
   "source": [
    "SCA"
   ]
  },
  {
   "cell_type": "code",
   "execution_count": null,
   "id": "f57a9a05-689c-44df-9915-50c5dfc3a494",
   "metadata": {},
   "outputs": [],
   "source": [
    "from liana import singlecellsignalr as sca"
   ]
  },
  {
   "cell_type": "code",
   "execution_count": null,
   "id": "fdb9b416-7e42-4c76-bac0-32f148e28fb7",
   "metadata": {},
   "outputs": [],
   "source": [
    "adata = sca(adata, groupby='label')"
   ]
  },
  {
   "cell_type": "code",
   "execution_count": null,
   "id": "ba4b4d5a-f417-440c-a88d-68ef92aa658b",
   "metadata": {},
   "outputs": [],
   "source": [
    "adata.uns['liana_res'].sort_values('lr_means', ascending=True)"
   ]
  },
  {
   "cell_type": "code",
   "execution_count": null,
   "id": "a4c5e360-0560-4e5f-8d52-696ee1bd2a84",
   "metadata": {},
   "outputs": [],
   "source": []
  },
  {
   "cell_type": "code",
   "execution_count": null,
   "id": "b0af474f-281c-44d7-ab79-fef31d354c9d",
   "metadata": {},
   "outputs": [],
   "source": []
  },
  {
   "cell_type": "markdown",
   "id": "d0fcd85f-2505-4f9e-ae47-069432720f74",
   "metadata": {},
   "source": [
    "Connectome"
   ]
  },
  {
   "cell_type": "code",
   "execution_count": null,
   "id": "1a2e6124-01e6-411c-b1e1-669bded091dd",
   "metadata": {},
   "outputs": [],
   "source": [
    "from liana import connectome"
   ]
  },
  {
   "cell_type": "code",
   "execution_count": null,
   "id": "6c74db4a-cd6b-4db1-bee7-58f4a4375e7a",
   "metadata": {},
   "outputs": [],
   "source": [
    "adata = connectome(adata, groupby='label')"
   ]
  },
  {
   "cell_type": "code",
   "execution_count": null,
   "id": "1a9ea8d6-b1e1-4fc3-976e-ded3d73f9547",
   "metadata": {},
   "outputs": [],
   "source": [
    "adata.uns['liana_res'].sort_values('scaled_weight', ascending=False)"
   ]
  },
  {
   "cell_type": "code",
   "execution_count": null,
   "id": "a76721f0-632a-4015-a347-c5f8aa54ceb4",
   "metadata": {},
   "outputs": [],
   "source": []
  },
  {
   "cell_type": "code",
   "execution_count": null,
   "id": "f7ebe9e3-5dc5-4d93-b558-1c45e289cd47",
   "metadata": {},
   "outputs": [],
   "source": []
  },
  {
   "cell_type": "code",
   "execution_count": null,
   "id": "71db5fc9-e45a-4f15-b339-7de86f7ddd8a",
   "metadata": {},
   "outputs": [],
   "source": []
  },
  {
   "cell_type": "markdown",
   "id": "0e0a4897-21fb-4f94-96ee-ec7157a9081a",
   "metadata": {},
   "source": [
    "logFC"
   ]
  },
  {
   "cell_type": "code",
   "execution_count": null,
   "id": "6ee26c82-df43-40c9-b4cf-be0c5b08bb2f",
   "metadata": {},
   "outputs": [],
   "source": [
    "from liana import logfc"
   ]
  },
  {
   "cell_type": "code",
   "execution_count": null,
   "id": "5910e6bc-c3ff-44a7-867c-e59c3f3a9091",
   "metadata": {},
   "outputs": [],
   "source": [
    "adata = logfc(adata, groupby='label')"
   ]
  },
  {
   "cell_type": "code",
   "execution_count": null,
   "id": "8e83c7fa-2ee8-42a9-bf8f-f5065a5ce21f",
   "metadata": {},
   "outputs": [],
   "source": [
    "adata.uns['liana_res'].sort_values('lr_logfc', ascending=False)"
   ]
  },
  {
   "cell_type": "code",
   "execution_count": null,
   "id": "dbb28aa4-8f20-45e1-a041-6796dd1f045f",
   "metadata": {},
   "outputs": [],
   "source": [
    "np.exp(1)"
   ]
  },
  {
   "cell_type": "code",
   "execution_count": null,
   "id": "23bd8ff5-b9bf-4718-a8af-ee9225e76d7a",
   "metadata": {},
   "outputs": [],
   "source": []
  },
  {
   "cell_type": "code",
   "execution_count": null,
   "id": "8b083646-d111-4f0c-a2bd-dbc6c7415e82",
   "metadata": {},
   "outputs": [],
   "source": []
  },
  {
   "cell_type": "markdown",
   "id": "2b1733cb-cb90-4bd8-a331-ba42d119669e",
   "metadata": {
    "tags": []
   },
   "source": [
    "try w/ real data"
   ]
  },
  {
   "cell_type": "code",
   "execution_count": null,
   "id": "410040b2-fb80-4b5c-8525-a5195e3d507e",
   "metadata": {},
   "outputs": [],
   "source": [
    "adata = sc.datasets.pbmc3k_processed()\n",
    "labels = adata.obs.louvain\n",
    "cells = adata.obs_names"
   ]
  },
  {
   "cell_type": "code",
   "execution_count": null,
   "id": "948b33f6-e0c9-411c-bd65-00e114139844",
   "metadata": {},
   "outputs": [],
   "source": [
    "adata = sc.datasets.pbmc3k()"
   ]
  },
  {
   "cell_type": "code",
   "execution_count": null,
   "id": "fe5ffa6c-c547-47d2-a382-61aa812db2c7",
   "metadata": {},
   "outputs": [],
   "source": [
    "adata = adata[[x in cells for x in adata.obs_names]]"
   ]
  },
  {
   "cell_type": "code",
   "execution_count": null,
   "id": "d18fd93f-560e-4ced-8b50-bfbbf5278c31",
   "metadata": {},
   "outputs": [],
   "source": [
    "adata.obs['label'] = labels"
   ]
  },
  {
   "cell_type": "code",
   "execution_count": null,
   "id": "6c7fb31f-bac7-4e63-9406-c02c947c6e9a",
   "metadata": {},
   "outputs": [],
   "source": [
    "sc.pp.log1p(adata)"
   ]
  },
  {
   "cell_type": "code",
   "execution_count": null,
   "id": "254f0ae3-0a63-4874-884a-c2d3c49db8ae",
   "metadata": {},
   "outputs": [],
   "source": [
    "%%time\n",
    "adata = cellphonedb(adata, groupby='label', n_perms=1000)"
   ]
  },
  {
   "cell_type": "code",
   "execution_count": null,
   "id": "c823a041-4775-4d50-b0da-e7dea5bbf295",
   "metadata": {},
   "outputs": [],
   "source": []
  },
  {
   "cell_type": "code",
   "execution_count": null,
   "id": "90791727-f674-4689-8c9c-34ed441c70b9",
   "metadata": {},
   "outputs": [],
   "source": []
  },
  {
   "cell_type": "code",
   "execution_count": null,
   "id": "c92c76c4-5af2-4077-8c13-291d0456e3d8",
   "metadata": {},
   "outputs": [],
   "source": []
  },
  {
   "cell_type": "code",
   "execution_count": null,
   "id": "c26f6257-50f4-451b-bb01-9b7a64ced5b5",
   "metadata": {},
   "outputs": [],
   "source": []
  },
  {
   "cell_type": "code",
   "execution_count": null,
   "id": "9960bcad-69b4-4950-b6b0-523c15fc2dfa",
   "metadata": {},
   "outputs": [],
   "source": []
  },
  {
   "cell_type": "markdown",
   "id": "c4586fde-464c-4867-86d1-1ce1feadf798",
   "metadata": {
    "jp-MarkdownHeadingCollapsed": true,
    "tags": []
   },
   "source": [
    "## LIANA PIPE LINE BY LINE"
   ]
  },
  {
   "cell_type": "code",
   "execution_count": null,
   "id": "edb1a040-d1e1-4a0b-b973-02be0bb8cd61",
   "metadata": {},
   "outputs": [],
   "source": [
    "# I get this from the score object\n",
    "_complex_cols = ['ligand_means', 'receptor_means']\n",
    "# change to full list and move to _var\n",
    "_add_cols = ['ligand', 'receptor',\n",
    "             'ligand_means_sums', 'receptor_means_sums',\n",
    "             'ligand_zscores', 'receptor_zscores',\n",
    "             'ligand_logfoldchanges', 'receptor_logfoldchanges',\n",
    "             'ligand_logfc', 'receptor_logfc'\n",
    "             'mat_mean',\n",
    "             ]\n",
    "\n",
    "_key_cols = ['source', 'target', 'ligand_complex', 'receptor_complex']"
   ]
  },
  {
   "cell_type": "code",
   "execution_count": null,
   "id": "677ce5db-7b4e-4727-880c-2715dde979a7",
   "metadata": {},
   "outputs": [],
   "source": [
    "from liana.utils.pre import check_adata, check_if_covered, format_vars, filter_resource\n",
    "from liana.resource import select_resource\n",
    "from liana.resource.select_resource import explode_complexes\n",
    "from liana.steady.liana_pipe import _get_lr\n",
    "from liana.utils.reassemble_complexes import reassemble_complexes\n",
    "from scipy.sparse import csr_matrix\n",
    "from liana.steady._permutations import get_means_perms"
   ]
  },
  {
   "cell_type": "code",
   "execution_count": null,
   "id": "66ba6d05-d067-4558-a879-87394a6d866a",
   "metadata": {},
   "outputs": [],
   "source": []
  },
  {
   "cell_type": "markdown",
   "id": "e5f74ea3-9847-43e3-bd9b-cb1c312520ee",
   "metadata": {},
   "source": [
    "I need to double check if every step makes sense, as I build unit tests!!!\n",
    "\n",
    "For example, are there any duplicated rows (source, target, ligand_complex, receptor_complex)\n",
    "\n",
    "Double check again if correct subunit is kept, etc"
   ]
  },
  {
   "cell_type": "code",
   "execution_count": null,
   "id": "a62b0165-a084-4979-9110-a18fc6da2c0e",
   "metadata": {},
   "outputs": [],
   "source": [
    "adata = check_adata(adata, True)"
   ]
  },
  {
   "cell_type": "code",
   "execution_count": null,
   "id": "67ad1ece-1a1a-4bf9-b284-25764d7cb858",
   "metadata": {},
   "outputs": [],
   "source": []
  },
  {
   "cell_type": "code",
   "execution_count": null,
   "id": "19df65eb-c6d2-4866-bc22-9b320deae6e1",
   "metadata": {},
   "outputs": [],
   "source": [
    "# Define idents col name\n",
    "adata.obs.label = adata.obs[groupby]"
   ]
  },
  {
   "cell_type": "code",
   "execution_count": null,
   "id": "ff3885f0-ba02-43ae-ad3b-c9bbb742e196",
   "metadata": {},
   "outputs": [],
   "source": []
  },
  {
   "cell_type": "markdown",
   "id": "4ccdd879-64e2-4339-9b00-0adcea5edfbc",
   "metadata": {},
   "source": [
    "Load resource"
   ]
  },
  {
   "cell_type": "code",
   "execution_count": null,
   "id": "a2c2c0b2-d792-45d2-9d2a-35daa9f16842",
   "metadata": {},
   "outputs": [],
   "source": [
    "resource = select_resource(resource_name='consensus')"
   ]
  },
  {
   "cell_type": "code",
   "execution_count": null,
   "id": "8252d9a7-5445-4d61-8ed8-ab34af871ccb",
   "metadata": {},
   "outputs": [],
   "source": [
    "# Decomplexify\n",
    "resource = explode_complexes(resource)"
   ]
  },
  {
   "cell_type": "code",
   "execution_count": null,
   "id": "4a9a67d4-1e21-4a58-9965-ffc87aed78d2",
   "metadata": {},
   "outputs": [],
   "source": [
    "# Filter Resource\n",
    "resource = filter_resource(resource, adata.var_names)"
   ]
  },
  {
   "cell_type": "code",
   "execution_count": null,
   "id": "cdd684e0-9b50-4c62-8b6b-6f1ff1b24a4e",
   "metadata": {},
   "outputs": [],
   "source": []
  },
  {
   "cell_type": "markdown",
   "id": "d7f020fe-ce4e-43e5-a65a-c500256e38b6",
   "metadata": {},
   "source": [
    "Create entities"
   ]
  },
  {
   "cell_type": "code",
   "execution_count": null,
   "id": "f0af1ebc-c5d4-4fd1-9c95-45cf6081cfcf",
   "metadata": {},
   "outputs": [],
   "source": [
    "entities = np.union1d(np.unique(resource[\"ligand\"]), np.unique(resource[\"receptor\"]))"
   ]
  },
  {
   "cell_type": "code",
   "execution_count": null,
   "id": "bb4303e7-9e8b-4d07-b91a-ce70f4a3da0b",
   "metadata": {},
   "outputs": [],
   "source": []
  },
  {
   "cell_type": "markdown",
   "id": "777dd11b-34db-4cc9-b7d4-3e7600bbbd8e",
   "metadata": {},
   "source": [
    "Check overlap between resource and adata"
   ]
  },
  {
   "cell_type": "code",
   "execution_count": null,
   "id": "d2d31c65-84a2-4bd6-a034-0a64935d063d",
   "metadata": {},
   "outputs": [],
   "source": [
    "check_if_covered(entities, adata.var_keys)"
   ]
  },
  {
   "cell_type": "code",
   "execution_count": null,
   "id": "45763bd4-cb43-4500-a912-b2eaa6ae653e",
   "metadata": {},
   "outputs": [],
   "source": []
  },
  {
   "cell_type": "markdown",
   "id": "2b70f1f0-af71-4348-95bc-bfcd16bf7ca7",
   "metadata": {},
   "source": [
    "Get global mean for SCA before filtering"
   ]
  },
  {
   "cell_type": "code",
   "execution_count": null,
   "id": "46bb2ab6-c9e1-4d4d-b33f-bf81cbd88525",
   "metadata": {},
   "outputs": [],
   "source": [
    "if 'mat_mean' in _add_cols: # SHOULD BE METHOD NAME!\n",
    "    adata.uns['mat_mean'] = np.mean(adata.X)"
   ]
  },
  {
   "cell_type": "code",
   "execution_count": null,
   "id": "0773f2a3-862d-4ac5-8299-84c5e6fef47f",
   "metadata": {},
   "outputs": [],
   "source": []
  },
  {
   "cell_type": "code",
   "execution_count": null,
   "id": "b37b2a52-7e37-4be1-ac32-457690f5bb54",
   "metadata": {},
   "outputs": [],
   "source": [
    "# Filter to only include the relevant genes\n",
    "adata = adata[:,np.intersect1d(entities, adata.var.index)]\n",
    "adata"
   ]
  },
  {
   "cell_type": "code",
   "execution_count": null,
   "id": "33212579-8762-4c83-b7ef-dc2fd8875bdb",
   "metadata": {},
   "outputs": [],
   "source": []
  },
  {
   "cell_type": "markdown",
   "id": "86cf9a4c-1693-4470-99f8-02bd60beb367",
   "metadata": {
    "tags": []
   },
   "source": [
    "Get Stats"
   ]
  },
  {
   "cell_type": "code",
   "execution_count": null,
   "id": "27042d96-a874-457e-ad75-3c312b73301b",
   "metadata": {},
   "outputs": [],
   "source": [
    "lr_res = _get_lr(adata, resource, key_cols + _complex_cols + _add_cols, de_method)"
   ]
  },
  {
   "cell_type": "code",
   "execution_count": null,
   "id": "9afdd672-e818-410e-84e0-6fb9ba6fd6be",
   "metadata": {},
   "outputs": [],
   "source": [
    "lr_res"
   ]
  },
  {
   "cell_type": "code",
   "execution_count": null,
   "id": "bddca5f6-6913-49f0-8c06-630677a6ba45",
   "metadata": {},
   "outputs": [],
   "source": []
  },
  {
   "cell_type": "code",
   "execution_count": null,
   "id": "e6bf23dc-c6eb-4ac3-aa8f-f3ce27d910d8",
   "metadata": {},
   "outputs": [],
   "source": []
  },
  {
   "cell_type": "code",
   "execution_count": null,
   "id": "795ae60d-921c-4f2c-98fc-52f33d09f26e",
   "metadata": {},
   "outputs": [],
   "source": []
  },
  {
   "cell_type": "markdown",
   "id": "6d1326e7-4437-40ed-9d65-c93ef5c1e33d",
   "metadata": {},
   "source": [
    "Recomplexify"
   ]
  },
  {
   "cell_type": "code",
   "execution_count": null,
   "id": "2e39a9e4-77ae-4e2b-ab0b-579d508f1347",
   "metadata": {},
   "outputs": [],
   "source": [
    "# If I want to implement anything else but the min as complex policy, I would need to change this:\n",
    "# temp = temp[[x==\"INHBA_INHBB\" for x in temp['ligand_complex']]].sort_values('receptor_complex')\n",
    "# temp = temp[[x==\"ACVR1B_ACVR2A\" for x in temp['receptor_complex']]]"
   ]
  },
  {
   "cell_type": "code",
   "execution_count": null,
   "id": "a78ea33f-4eca-47ef-bca1-af01ca844810",
   "metadata": {},
   "outputs": [],
   "source": [
    "lr_res = reassemble_complexes(lr_res, _key_cols, _complex_cols)"
   ]
  },
  {
   "cell_type": "code",
   "execution_count": null,
   "id": "db1b04d4-f354-43a1-bf92-2bc84556e7ba",
   "metadata": {},
   "outputs": [],
   "source": [
    "lr_res"
   ]
  },
  {
   "cell_type": "code",
   "execution_count": null,
   "id": "13246735-7446-41f9-b4d2-ee84d7514ead",
   "metadata": {},
   "outputs": [],
   "source": []
  },
  {
   "cell_type": "code",
   "execution_count": null,
   "id": "a0911c89-4141-4449-aaba-5d08be4ed2de",
   "metadata": {},
   "outputs": [],
   "source": []
  },
  {
   "cell_type": "code",
   "execution_count": null,
   "id": "45209cd9-4cd1-4a8c-879a-f681bf92210b",
   "metadata": {},
   "outputs": [],
   "source": []
  },
  {
   "cell_type": "markdown",
   "id": "efbeae9b-4df7-42ca-9b2c-9a1e7bedba08",
   "metadata": {},
   "source": [
    "### SCORES"
   ]
  },
  {
   "cell_type": "code",
   "execution_count": null,
   "id": "1061bfc5-ddfa-46dc-a39c-39e6042b215f",
   "metadata": {},
   "outputs": [],
   "source": [
    "from liana.steady.Method import Method, MethodMeta\n",
    "from liana.steady.scores.cellphonedb import _cpdb_score"
   ]
  },
  {
   "cell_type": "code",
   "execution_count": null,
   "id": "675c2240-c993-4fdd-92da-7d2ed4ee0228",
   "metadata": {},
   "outputs": [],
   "source": []
  },
  {
   "cell_type": "markdown",
   "id": "941603a4-9eaf-4bcd-a8b8-4f6a6574ebe5",
   "metadata": {},
   "source": [
    "CELLPHONEDB"
   ]
  },
  {
   "cell_type": "code",
   "execution_count": null,
   "id": "4284a51c-55a5-47b4-ab9b-ba3b3ba93aac",
   "metadata": {},
   "outputs": [],
   "source": [
    "_cellphonedb = MethodMeta(method_name = \"cellphonedb\",\n",
    "                          complex_cols = ['ligand_means', 'receptor_means'], \n",
    "                          add_cols = ['ligand', 'receptor'],\n",
    "                          fun = _cpdb_score,\n",
    "                          magnitude = 'lr_means',\n",
    "                          specificity = 'pvals',\n",
    "                          permute = True,\n",
    "                          reference = 'Efremova et al., 2020')"
   ]
  },
  {
   "cell_type": "code",
   "execution_count": null,
   "id": "79fc87a0-4d92-4adc-a3a3-e611c7f3b3b8",
   "metadata": {},
   "outputs": [],
   "source": [
    "cellphonedb = Method(_SCORE=_cellphonedb)"
   ]
  },
  {
   "cell_type": "code",
   "execution_count": null,
   "id": "d2d39d47-ae35-4109-b413-52d1caadda1c",
   "metadata": {},
   "outputs": [],
   "source": [
    "adata = cellphonedb(adata, groupby, seed=666)"
   ]
  },
  {
   "cell_type": "code",
   "execution_count": null,
   "id": "25e905eb-af83-4259-8e18-6b31ebb543c5",
   "metadata": {},
   "outputs": [],
   "source": [
    "adata.uns['liana_res']"
   ]
  },
  {
   "cell_type": "code",
   "execution_count": null,
   "id": "e7801646-121c-413a-be5a-aef31b5b35ee",
   "metadata": {},
   "outputs": [],
   "source": []
  },
  {
   "cell_type": "code",
   "execution_count": null,
   "id": "fd6d8272-289c-42c5-9f96-7ba76587b80b",
   "metadata": {},
   "outputs": [],
   "source": []
  },
  {
   "cell_type": "code",
   "execution_count": null,
   "id": "49686ceb-dd20-48ee-a0ad-20ac3646a809",
   "metadata": {},
   "outputs": [],
   "source": []
  },
  {
   "cell_type": "markdown",
   "id": "a67d9786-388a-4c8d-b868-5539a3602f5c",
   "metadata": {},
   "source": [
    "logFC re-implement"
   ]
  },
  {
   "cell_type": "markdown",
   "id": "194266ec-e8cf-4f65-963f-a3f9e2939f67",
   "metadata": {},
   "source": [
    "Magnitude as None"
   ]
  },
  {
   "cell_type": "code",
   "execution_count": null,
   "id": "c4f096b2-d4bd-4581-8f41-4774f14c6f0a",
   "metadata": {},
   "outputs": [],
   "source": []
  },
  {
   "cell_type": "code",
   "execution_count": null,
   "id": "0201fba8-13b0-4923-9539-fd1cbe27e2e0",
   "metadata": {},
   "outputs": [],
   "source": []
  },
  {
   "cell_type": "code",
   "execution_count": null,
   "id": "0699d6ec-68cb-4b49-84c0-d2722d40e90e",
   "metadata": {},
   "outputs": [],
   "source": [
    "lr_res['logfc'] = lr_res[['ligand_logfoldchanges', 'receptor_logfoldchanges']].mean(1)"
   ]
  },
  {
   "cell_type": "code",
   "execution_count": null,
   "id": "51064b93-983f-4c16-adb9-ca54a2e1cb62",
   "metadata": {},
   "outputs": [],
   "source": []
  },
  {
   "cell_type": "code",
   "execution_count": null,
   "id": "b3482e1c-c433-4712-bf1d-ba0494c0a314",
   "metadata": {},
   "outputs": [],
   "source": [
    "lr_res.sort_values(by='logfc', key=abs, ascending=False)"
   ]
  },
  {
   "cell_type": "code",
   "execution_count": null,
   "id": "fab2e516-7f93-4850-9907-2deaa2650c73",
   "metadata": {},
   "outputs": [],
   "source": []
  },
  {
   "cell_type": "markdown",
   "id": "7fb95f6b-db28-494b-83f8-de6b7c9b2048",
   "metadata": {},
   "source": [
    "Re-implement Connectome"
   ]
  },
  {
   "cell_type": "markdown",
   "id": "e50d075c-f537-4677-b1b0-e2837e29a5f8",
   "metadata": {},
   "source": [
    "Both Specificity and Magnitude"
   ]
  },
  {
   "cell_type": "code",
   "execution_count": null,
   "id": "a3d0a012-69e9-47c6-bb48-66641647cea8",
   "metadata": {},
   "outputs": [],
   "source": [
    "lr_res['edge_weight'] = lr_res[['ligand_zscores', 'receptor_zscores']].mean(1)"
   ]
  },
  {
   "cell_type": "code",
   "execution_count": null,
   "id": "c95a783e-52d8-44e8-b735-bbe54bef1972",
   "metadata": {},
   "outputs": [],
   "source": []
  }
 ],
 "metadata": {
  "kernelspec": {
   "display_name": "liana-py",
   "language": "python",
   "name": "liana-py"
  },
  "language_info": {
   "codemirror_mode": {
    "name": "ipython",
    "version": 3
   },
   "file_extension": ".py",
   "mimetype": "text/x-python",
   "name": "python",
   "nbconvert_exporter": "python",
   "pygments_lexer": "ipython3",
   "version": "3.8.8"
  }
 },
 "nbformat": 4,
 "nbformat_minor": 5
}
