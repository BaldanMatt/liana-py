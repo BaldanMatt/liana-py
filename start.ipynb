{
 "cells": [
  {
   "cell_type": "code",
   "execution_count": 1,
   "id": "4a6561fa-18d6-459b-a010-51b7d9fae1d4",
   "metadata": {},
   "outputs": [],
   "source": [
    "import scanpy as sc\n",
    "import pandas as pd\n",
    "import numpy as np"
   ]
  },
  {
   "cell_type": "code",
   "execution_count": null,
   "id": "d333ea8e-aeca-4746-887b-33ec6b6b1b17",
   "metadata": {},
   "outputs": [],
   "source": []
  },
  {
   "cell_type": "markdown",
   "id": "f65dcb30-df9e-4ab9-a2f5-b2cb30ba58c0",
   "metadata": {},
   "source": [
    "Load anndata"
   ]
  },
  {
   "cell_type": "code",
   "execution_count": 2,
   "id": "3be28d50-be89-46ae-b3ec-e8878844a0ab",
   "metadata": {},
   "outputs": [],
   "source": [
    "adata = sc.read_h5ad(\"test.h5ad\")"
   ]
  },
  {
   "cell_type": "code",
   "execution_count": 3,
   "id": "72dce8c7-08ec-473c-be56-7eadb814c846",
   "metadata": {},
   "outputs": [],
   "source": [
    "# # lognorm should be the default (expected)\n",
    "# adata.X = adata.layers['logcounts']"
   ]
  },
  {
   "cell_type": "code",
   "execution_count": null,
   "id": "8ebb9f68-0009-42c0-afe1-4a2963664aa1",
   "metadata": {},
   "outputs": [],
   "source": []
  },
  {
   "cell_type": "markdown",
   "id": "04043a54-1480-41be-b134-b55911ff9027",
   "metadata": {},
   "source": [
    "Parameters"
   ]
  },
  {
   "cell_type": "code",
   "execution_count": 4,
   "id": "8749bb33-5c01-49b3-8fe1-cb8b167a8b28",
   "metadata": {},
   "outputs": [],
   "source": [
    "groupby='label'\n",
    "de_method='wilcoxon'\n",
    "resource_name = 'consensus'\n",
    "complex_policy = 'min'\n",
    "key_cols = ['source', 'target', 'ligand_complex', 'receptor_complex']\n",
    "verbose = False"
   ]
  },
  {
   "cell_type": "code",
   "execution_count": 5,
   "id": "6581703e-86e5-4f50-ab07-2f1791be9e67",
   "metadata": {},
   "outputs": [],
   "source": [
    "# only relevant if perms are done\n",
    "n_perms = 1000\n",
    "seed = 69"
   ]
  },
  {
   "cell_type": "code",
   "execution_count": null,
   "id": "9dabcf57-ad50-4fa5-a102-408b893cf6d7",
   "metadata": {},
   "outputs": [],
   "source": []
  },
  {
   "cell_type": "markdown",
   "id": "309ef0d7-3696-485d-a169-743774b2e2a4",
   "metadata": {},
   "source": [
    "Run LIANA PIPE"
   ]
  },
  {
   "cell_type": "code",
   "execution_count": 6,
   "id": "101f0bdd-c6a0-400b-b64e-b6ba21df9ae5",
   "metadata": {},
   "outputs": [],
   "source": [
    "from liana import liana_pipe"
   ]
  },
  {
   "cell_type": "code",
   "execution_count": 7,
   "id": "1bdd36ab-1ce6-4842-8b8f-d9a5f74ac660",
   "metadata": {},
   "outputs": [
    {
     "name": "stderr",
     "output_type": "stream",
     "text": [
      "/home/dbdimitrov/Repos/liana-py/liana/steady/liana_pipe.py:63: ImplicitModificationWarning: Trying to modify attribute `.obs` of view, initializing view as actual.\n",
      "  adata.obs['label'] = adata.obs[groupby]\n",
      "/home/dbdimitrov/anaconda3/lib/python3.8/contextlib.py:120: FutureWarning: X.dtype being converted to np.float32 from float64. In the next version of anndata (0.9) conversion will not be automatic. Pass dtype explicitly to avoid this warning. Pass `AnnData(X, dtype=X.dtype, ...)` to get the future behavour.\n",
      "  next(self.gen)\n"
     ]
    }
   ],
   "source": [
    "lr_res = liana_pipe(adata=adata, \n",
    "                    groupby=groupby, \n",
    "                    resource_name=resource_name,\n",
    "                    de_method=de_method,\n",
    "                    n_perms=n_perms,\n",
    "                    seed=seed,\n",
    "                    verbose=verbose,\n",
    "                    _key_cols=key_cols,\n",
    "                    resource=None,\n",
    "                    use_raw=False,\n",
    "                    layer='logcounts',\n",
    "                   base=2)"
   ]
  },
  {
   "cell_type": "code",
   "execution_count": null,
   "id": "60247d5d-f97f-4236-970e-ed6b9281e9ae",
   "metadata": {},
   "outputs": [],
   "source": []
  },
  {
   "cell_type": "code",
   "execution_count": 8,
   "id": "18e522eb-d6b2-4dab-acfd-9877065fb167",
   "metadata": {},
   "outputs": [
    {
     "data": {
      "text/html": [
       "<div>\n",
       "<style scoped>\n",
       "    .dataframe tbody tr th:only-of-type {\n",
       "        vertical-align: middle;\n",
       "    }\n",
       "\n",
       "    .dataframe tbody tr th {\n",
       "        vertical-align: top;\n",
       "    }\n",
       "\n",
       "    .dataframe thead th {\n",
       "        text-align: right;\n",
       "    }\n",
       "</style>\n",
       "<table border=\"1\" class=\"dataframe\">\n",
       "  <thead>\n",
       "    <tr style=\"text-align: right;\">\n",
       "      <th></th>\n",
       "      <th>ligand</th>\n",
       "      <th>ligand_complex</th>\n",
       "      <th>ligand_logfc</th>\n",
       "      <th>ligand_means</th>\n",
       "      <th>ligand_props</th>\n",
       "      <th>ligand_pvals</th>\n",
       "      <th>ligand_zscores</th>\n",
       "      <th>mat_mean</th>\n",
       "      <th>receptor</th>\n",
       "      <th>receptor_complex</th>\n",
       "      <th>receptor_logfc</th>\n",
       "      <th>receptor_means</th>\n",
       "      <th>receptor_props</th>\n",
       "      <th>receptor_pvals</th>\n",
       "      <th>receptor_zscores</th>\n",
       "      <th>source</th>\n",
       "      <th>target</th>\n",
       "      <th>ligand_means_sums</th>\n",
       "      <th>receptor_means_sums</th>\n",
       "    </tr>\n",
       "  </thead>\n",
       "  <tbody>\n",
       "    <tr>\n",
       "      <th>3198</th>\n",
       "      <td>HLA-B</td>\n",
       "      <td>HLA-B</td>\n",
       "      <td>-0.519684</td>\n",
       "      <td>2.913674</td>\n",
       "      <td>1.0</td>\n",
       "      <td>1.345974e-07</td>\n",
       "      <td>-0.728616</td>\n",
       "      <td>0.199056</td>\n",
       "      <td>LILRB1</td>\n",
       "      <td>LILRB1</td>\n",
       "      <td>0.002542</td>\n",
       "      <td>0.053121</td>\n",
       "      <td>0.033333</td>\n",
       "      <td>0.993171</td>\n",
       "      <td>0.002134</td>\n",
       "      <td>B</td>\n",
       "      <td>NK</td>\n",
       "      <td>9.771833</td>\n",
       "      <td>0.157542</td>\n",
       "    </tr>\n",
       "    <tr>\n",
       "      <th>1615</th>\n",
       "      <td>HLA-A</td>\n",
       "      <td>HLA-A</td>\n",
       "      <td>-0.549584</td>\n",
       "      <td>3.269184</td>\n",
       "      <td>1.0</td>\n",
       "      <td>8.586336e-07</td>\n",
       "      <td>-0.749821</td>\n",
       "      <td>0.199056</td>\n",
       "      <td>LILRA1</td>\n",
       "      <td>LILRA1</td>\n",
       "      <td>-0.044692</td>\n",
       "      <td>0.000000</td>\n",
       "      <td>0.000000</td>\n",
       "      <td>0.897842</td>\n",
       "      <td>-0.105409</td>\n",
       "      <td>B</td>\n",
       "      <td>CD8 T</td>\n",
       "      <td>10.969498</td>\n",
       "      <td>0.050998</td>\n",
       "    </tr>\n",
       "    <tr>\n",
       "      <th>4206</th>\n",
       "      <td>B2M</td>\n",
       "      <td>B2M</td>\n",
       "      <td>0.429683</td>\n",
       "      <td>5.810702</td>\n",
       "      <td>1.0</td>\n",
       "      <td>5.053874e-07</td>\n",
       "      <td>0.728883</td>\n",
       "      <td>0.199056</td>\n",
       "      <td>KLRD1</td>\n",
       "      <td>KLRD1</td>\n",
       "      <td>1.266267</td>\n",
       "      <td>1.221312</td>\n",
       "      <td>0.633333</td>\n",
       "      <td>0.000011</td>\n",
       "      <td>0.830116</td>\n",
       "      <td>NK</td>\n",
       "      <td>NK</td>\n",
       "      <td>16.490938</td>\n",
       "      <td>1.551798</td>\n",
       "    </tr>\n",
       "    <tr>\n",
       "      <th>2363</th>\n",
       "      <td>B2M</td>\n",
       "      <td>B2M</td>\n",
       "      <td>0.100063</td>\n",
       "      <td>5.599935</td>\n",
       "      <td>1.0</td>\n",
       "      <td>2.658385e-01</td>\n",
       "      <td>0.239198</td>\n",
       "      <td>0.199056</td>\n",
       "      <td>CD247</td>\n",
       "      <td>CD247</td>\n",
       "      <td>-0.291462</td>\n",
       "      <td>1.070229</td>\n",
       "      <td>0.633333</td>\n",
       "      <td>0.921590</td>\n",
       "      <td>-0.020632</td>\n",
       "      <td>CD8 T</td>\n",
       "      <td>CD8 T</td>\n",
       "      <td>16.490938</td>\n",
       "      <td>3.277351</td>\n",
       "    </tr>\n",
       "    <tr>\n",
       "      <th>2361</th>\n",
       "      <td>B2M</td>\n",
       "      <td>B2M</td>\n",
       "      <td>0.100063</td>\n",
       "      <td>5.599935</td>\n",
       "      <td>1.0</td>\n",
       "      <td>2.658385e-01</td>\n",
       "      <td>0.239198</td>\n",
       "      <td>0.199056</td>\n",
       "      <td>TFRC</td>\n",
       "      <td>TFRC</td>\n",
       "      <td>0.036740</td>\n",
       "      <td>0.045203</td>\n",
       "      <td>0.033333</td>\n",
       "      <td>0.894456</td>\n",
       "      <td>0.076242</td>\n",
       "      <td>CD8 T</td>\n",
       "      <td>CD8 T</td>\n",
       "      <td>16.490938</td>\n",
       "      <td>0.089893</td>\n",
       "    </tr>\n",
       "    <tr>\n",
       "      <th>...</th>\n",
       "      <td>...</td>\n",
       "      <td>...</td>\n",
       "      <td>...</td>\n",
       "      <td>...</td>\n",
       "      <td>...</td>\n",
       "      <td>...</td>\n",
       "      <td>...</td>\n",
       "      <td>...</td>\n",
       "      <td>...</td>\n",
       "      <td>...</td>\n",
       "      <td>...</td>\n",
       "      <td>...</td>\n",
       "      <td>...</td>\n",
       "      <td>...</td>\n",
       "      <td>...</td>\n",
       "      <td>...</td>\n",
       "      <td>...</td>\n",
       "      <td>...</td>\n",
       "      <td>...</td>\n",
       "    </tr>\n",
       "    <tr>\n",
       "      <th>2496</th>\n",
       "      <td>CCL28</td>\n",
       "      <td>CCL28</td>\n",
       "      <td>-0.018003</td>\n",
       "      <td>0.000000</td>\n",
       "      <td>0.0</td>\n",
       "      <td>8.978418e-01</td>\n",
       "      <td>-0.105409</td>\n",
       "      <td>0.199056</td>\n",
       "      <td>CCR10</td>\n",
       "      <td>CCR10</td>\n",
       "      <td>0.094861</td>\n",
       "      <td>0.062280</td>\n",
       "      <td>0.033333</td>\n",
       "      <td>0.894456</td>\n",
       "      <td>0.128653</td>\n",
       "      <td>CD8 T</td>\n",
       "      <td>CD8 T</td>\n",
       "      <td>0.027006</td>\n",
       "      <td>0.099021</td>\n",
       "    </tr>\n",
       "    <tr>\n",
       "      <th>2495</th>\n",
       "      <td>HBEGF</td>\n",
       "      <td>HBEGF</td>\n",
       "      <td>-0.289172</td>\n",
       "      <td>0.000000</td>\n",
       "      <td>0.0</td>\n",
       "      <td>8.978418e-01</td>\n",
       "      <td>-0.105409</td>\n",
       "      <td>0.199056</td>\n",
       "      <td>CD82</td>\n",
       "      <td>CD82</td>\n",
       "      <td>-0.613292</td>\n",
       "      <td>0.047000</td>\n",
       "      <td>0.033333</td>\n",
       "      <td>0.038328</td>\n",
       "      <td>-0.429204</td>\n",
       "      <td>CD8 T</td>\n",
       "      <td>CD8 T</td>\n",
       "      <td>0.127986</td>\n",
       "      <td>0.988768</td>\n",
       "    </tr>\n",
       "    <tr>\n",
       "      <th>2489</th>\n",
       "      <td>IL24</td>\n",
       "      <td>IL24</td>\n",
       "      <td>-0.046170</td>\n",
       "      <td>0.000000</td>\n",
       "      <td>0.0</td>\n",
       "      <td>8.978418e-01</td>\n",
       "      <td>-0.105409</td>\n",
       "      <td>0.199056</td>\n",
       "      <td>IL10RB</td>\n",
       "      <td>IL10RB</td>\n",
       "      <td>-0.236684</td>\n",
       "      <td>0.000000</td>\n",
       "      <td>0.000000</td>\n",
       "      <td>0.368803</td>\n",
       "      <td>-0.280840</td>\n",
       "      <td>CD8 T</td>\n",
       "      <td>CD8 T</td>\n",
       "      <td>0.052044</td>\n",
       "      <td>0.305106</td>\n",
       "    </tr>\n",
       "    <tr>\n",
       "      <th>2485</th>\n",
       "      <td>MDK</td>\n",
       "      <td>MDK</td>\n",
       "      <td>-0.036391</td>\n",
       "      <td>0.000000</td>\n",
       "      <td>0.0</td>\n",
       "      <td>8.978418e-01</td>\n",
       "      <td>-0.105409</td>\n",
       "      <td>0.199056</td>\n",
       "      <td>NCL</td>\n",
       "      <td>NCL</td>\n",
       "      <td>-0.380739</td>\n",
       "      <td>0.318150</td>\n",
       "      <td>0.200000</td>\n",
       "      <td>0.136408</td>\n",
       "      <td>-0.268598</td>\n",
       "      <td>CD8 T</td>\n",
       "      <td>CD8 T</td>\n",
       "      <td>0.044690</td>\n",
       "      <td>1.580364</td>\n",
       "    </tr>\n",
       "    <tr>\n",
       "      <th>4580</th>\n",
       "      <td>GDF11</td>\n",
       "      <td>GDF11</td>\n",
       "      <td>-0.043422</td>\n",
       "      <td>0.000000</td>\n",
       "      <td>0.0</td>\n",
       "      <td>8.978418e-01</td>\n",
       "      <td>-0.105409</td>\n",
       "      <td>0.199056</td>\n",
       "      <td>ACTR2</td>\n",
       "      <td>ACTR2</td>\n",
       "      <td>0.136576</td>\n",
       "      <td>0.346738</td>\n",
       "      <td>0.200000</td>\n",
       "      <td>0.952224</td>\n",
       "      <td>0.052777</td>\n",
       "      <td>NK</td>\n",
       "      <td>NK</td>\n",
       "      <td>0.050083</td>\n",
       "      <td>0.940681</td>\n",
       "    </tr>\n",
       "  </tbody>\n",
       "</table>\n",
       "<p>4287 rows × 19 columns</p>\n",
       "</div>"
      ],
      "text/plain": [
       "     ligand ligand_complex  ligand_logfc  ligand_means  ligand_props  \\\n",
       "3198  HLA-B          HLA-B     -0.519684      2.913674           1.0   \n",
       "1615  HLA-A          HLA-A     -0.549584      3.269184           1.0   \n",
       "4206    B2M            B2M      0.429683      5.810702           1.0   \n",
       "2363    B2M            B2M      0.100063      5.599935           1.0   \n",
       "2361    B2M            B2M      0.100063      5.599935           1.0   \n",
       "...     ...            ...           ...           ...           ...   \n",
       "2496  CCL28          CCL28     -0.018003      0.000000           0.0   \n",
       "2495  HBEGF          HBEGF     -0.289172      0.000000           0.0   \n",
       "2489   IL24           IL24     -0.046170      0.000000           0.0   \n",
       "2485    MDK            MDK     -0.036391      0.000000           0.0   \n",
       "4580  GDF11          GDF11     -0.043422      0.000000           0.0   \n",
       "\n",
       "      ligand_pvals  ligand_zscores  mat_mean receptor receptor_complex  \\\n",
       "3198  1.345974e-07       -0.728616  0.199056   LILRB1           LILRB1   \n",
       "1615  8.586336e-07       -0.749821  0.199056   LILRA1           LILRA1   \n",
       "4206  5.053874e-07        0.728883  0.199056    KLRD1            KLRD1   \n",
       "2363  2.658385e-01        0.239198  0.199056    CD247            CD247   \n",
       "2361  2.658385e-01        0.239198  0.199056     TFRC             TFRC   \n",
       "...            ...             ...       ...      ...              ...   \n",
       "2496  8.978418e-01       -0.105409  0.199056    CCR10            CCR10   \n",
       "2495  8.978418e-01       -0.105409  0.199056     CD82             CD82   \n",
       "2489  8.978418e-01       -0.105409  0.199056   IL10RB           IL10RB   \n",
       "2485  8.978418e-01       -0.105409  0.199056      NCL              NCL   \n",
       "4580  8.978418e-01       -0.105409  0.199056    ACTR2            ACTR2   \n",
       "\n",
       "      receptor_logfc  receptor_means  receptor_props  receptor_pvals  \\\n",
       "3198        0.002542        0.053121        0.033333        0.993171   \n",
       "1615       -0.044692        0.000000        0.000000        0.897842   \n",
       "4206        1.266267        1.221312        0.633333        0.000011   \n",
       "2363       -0.291462        1.070229        0.633333        0.921590   \n",
       "2361        0.036740        0.045203        0.033333        0.894456   \n",
       "...              ...             ...             ...             ...   \n",
       "2496        0.094861        0.062280        0.033333        0.894456   \n",
       "2495       -0.613292        0.047000        0.033333        0.038328   \n",
       "2489       -0.236684        0.000000        0.000000        0.368803   \n",
       "2485       -0.380739        0.318150        0.200000        0.136408   \n",
       "4580        0.136576        0.346738        0.200000        0.952224   \n",
       "\n",
       "      receptor_zscores source target  ligand_means_sums  receptor_means_sums  \n",
       "3198          0.002134      B     NK           9.771833             0.157542  \n",
       "1615         -0.105409      B  CD8 T          10.969498             0.050998  \n",
       "4206          0.830116     NK     NK          16.490938             1.551798  \n",
       "2363         -0.020632  CD8 T  CD8 T          16.490938             3.277351  \n",
       "2361          0.076242  CD8 T  CD8 T          16.490938             0.089893  \n",
       "...                ...    ...    ...                ...                  ...  \n",
       "2496          0.128653  CD8 T  CD8 T           0.027006             0.099021  \n",
       "2495         -0.429204  CD8 T  CD8 T           0.127986             0.988768  \n",
       "2489         -0.280840  CD8 T  CD8 T           0.052044             0.305106  \n",
       "2485         -0.268598  CD8 T  CD8 T           0.044690             1.580364  \n",
       "4580          0.052777     NK     NK           0.050083             0.940681  \n",
       "\n",
       "[4287 rows x 19 columns]"
      ]
     },
     "execution_count": 8,
     "metadata": {},
     "output_type": "execute_result"
    }
   ],
   "source": [
    "lr_res.sort_values('ligand_props', ascending=False)"
   ]
  },
  {
   "cell_type": "code",
   "execution_count": 9,
   "id": "6b0d2c7f-9b67-42bd-a368-713d9e586f3f",
   "metadata": {},
   "outputs": [
    {
     "data": {
      "text/html": [
       "<div>\n",
       "<style scoped>\n",
       "    .dataframe tbody tr th:only-of-type {\n",
       "        vertical-align: middle;\n",
       "    }\n",
       "\n",
       "    .dataframe tbody tr th {\n",
       "        vertical-align: top;\n",
       "    }\n",
       "\n",
       "    .dataframe thead th {\n",
       "        text-align: right;\n",
       "    }\n",
       "</style>\n",
       "<table border=\"1\" class=\"dataframe\">\n",
       "  <thead>\n",
       "    <tr style=\"text-align: right;\">\n",
       "      <th></th>\n",
       "      <th>ligand</th>\n",
       "      <th>ligand_complex</th>\n",
       "      <th>ligand_logfc</th>\n",
       "      <th>ligand_means</th>\n",
       "      <th>ligand_props</th>\n",
       "      <th>ligand_pvals</th>\n",
       "      <th>ligand_zscores</th>\n",
       "      <th>mat_mean</th>\n",
       "      <th>receptor</th>\n",
       "      <th>receptor_complex</th>\n",
       "      <th>receptor_logfc</th>\n",
       "      <th>receptor_means</th>\n",
       "      <th>receptor_props</th>\n",
       "      <th>receptor_pvals</th>\n",
       "      <th>receptor_zscores</th>\n",
       "      <th>source</th>\n",
       "      <th>target</th>\n",
       "      <th>ligand_means_sums</th>\n",
       "      <th>receptor_means_sums</th>\n",
       "    </tr>\n",
       "  </thead>\n",
       "  <tbody>\n",
       "    <tr>\n",
       "      <th>0</th>\n",
       "      <td>LGALS9</td>\n",
       "      <td>LGALS9</td>\n",
       "      <td>0.443133</td>\n",
       "      <td>0.374320</td>\n",
       "      <td>0.233333</td>\n",
       "      <td>0.151667</td>\n",
       "      <td>0.377836</td>\n",
       "      <td>0.199056</td>\n",
       "      <td>PTPRC</td>\n",
       "      <td>PTPRC</td>\n",
       "      <td>-0.663027</td>\n",
       "      <td>0.761533</td>\n",
       "      <td>0.566667</td>\n",
       "      <td>0.000580</td>\n",
       "      <td>-0.415538</td>\n",
       "      <td>B</td>\n",
       "      <td>B</td>\n",
       "      <td>0.534913</td>\n",
       "      <td>3.409275</td>\n",
       "    </tr>\n",
       "    <tr>\n",
       "      <th>1</th>\n",
       "      <td>CD22</td>\n",
       "      <td>CD22</td>\n",
       "      <td>0.613544</td>\n",
       "      <td>0.554265</td>\n",
       "      <td>0.400000</td>\n",
       "      <td>0.006326</td>\n",
       "      <td>0.618197</td>\n",
       "      <td>0.199056</td>\n",
       "      <td>PTPRC</td>\n",
       "      <td>PTPRC</td>\n",
       "      <td>-0.663027</td>\n",
       "      <td>0.761533</td>\n",
       "      <td>0.566667</td>\n",
       "      <td>0.000580</td>\n",
       "      <td>-0.415538</td>\n",
       "      <td>B</td>\n",
       "      <td>B</td>\n",
       "      <td>0.672466</td>\n",
       "      <td>3.409275</td>\n",
       "    </tr>\n",
       "    <tr>\n",
       "      <th>2</th>\n",
       "      <td>LGALS1</td>\n",
       "      <td>LGALS1</td>\n",
       "      <td>-1.159930</td>\n",
       "      <td>0.611330</td>\n",
       "      <td>0.366667</td>\n",
       "      <td>0.003327</td>\n",
       "      <td>-0.460597</td>\n",
       "      <td>0.199056</td>\n",
       "      <td>PTPRC</td>\n",
       "      <td>PTPRC</td>\n",
       "      <td>-0.663027</td>\n",
       "      <td>0.761533</td>\n",
       "      <td>0.566667</td>\n",
       "      <td>0.000580</td>\n",
       "      <td>-0.415538</td>\n",
       "      <td>B</td>\n",
       "      <td>B</td>\n",
       "      <td>3.588291</td>\n",
       "      <td>3.409275</td>\n",
       "    </tr>\n",
       "    <tr>\n",
       "      <th>3</th>\n",
       "      <td>LGALS9</td>\n",
       "      <td>LGALS9</td>\n",
       "      <td>0.443133</td>\n",
       "      <td>0.374320</td>\n",
       "      <td>0.233333</td>\n",
       "      <td>0.151667</td>\n",
       "      <td>0.377836</td>\n",
       "      <td>0.199056</td>\n",
       "      <td>CD44</td>\n",
       "      <td>CD44</td>\n",
       "      <td>-0.128114</td>\n",
       "      <td>0.655391</td>\n",
       "      <td>0.433333</td>\n",
       "      <td>0.674923</td>\n",
       "      <td>-0.051623</td>\n",
       "      <td>B</td>\n",
       "      <td>B</td>\n",
       "      <td>0.534913</td>\n",
       "      <td>2.103060</td>\n",
       "    </tr>\n",
       "    <tr>\n",
       "      <th>4</th>\n",
       "      <td>ADAM10</td>\n",
       "      <td>ADAM10</td>\n",
       "      <td>-0.020788</td>\n",
       "      <td>0.119797</td>\n",
       "      <td>0.100000</td>\n",
       "      <td>0.928389</td>\n",
       "      <td>-0.002707</td>\n",
       "      <td>0.199056</td>\n",
       "      <td>CD44</td>\n",
       "      <td>CD44</td>\n",
       "      <td>-0.128114</td>\n",
       "      <td>0.655391</td>\n",
       "      <td>0.433333</td>\n",
       "      <td>0.674923</td>\n",
       "      <td>-0.051623</td>\n",
       "      <td>B</td>\n",
       "      <td>B</td>\n",
       "      <td>0.362591</td>\n",
       "      <td>2.103060</td>\n",
       "    </tr>\n",
       "    <tr>\n",
       "      <th>...</th>\n",
       "      <td>...</td>\n",
       "      <td>...</td>\n",
       "      <td>...</td>\n",
       "      <td>...</td>\n",
       "      <td>...</td>\n",
       "      <td>...</td>\n",
       "      <td>...</td>\n",
       "      <td>...</td>\n",
       "      <td>...</td>\n",
       "      <td>...</td>\n",
       "      <td>...</td>\n",
       "      <td>...</td>\n",
       "      <td>...</td>\n",
       "      <td>...</td>\n",
       "      <td>...</td>\n",
       "      <td>...</td>\n",
       "      <td>...</td>\n",
       "      <td>...</td>\n",
       "      <td>...</td>\n",
       "    </tr>\n",
       "    <tr>\n",
       "      <th>4576</th>\n",
       "      <td>CALM1</td>\n",
       "      <td>CALM1</td>\n",
       "      <td>0.616681</td>\n",
       "      <td>2.516959</td>\n",
       "      <td>1.000000</td>\n",
       "      <td>0.000370</td>\n",
       "      <td>0.526744</td>\n",
       "      <td>0.199056</td>\n",
       "      <td>KCNN4</td>\n",
       "      <td>KCNN4</td>\n",
       "      <td>-0.092909</td>\n",
       "      <td>0.000000</td>\n",
       "      <td>0.000000</td>\n",
       "      <td>0.700116</td>\n",
       "      <td>-0.183226</td>\n",
       "      <td>NK</td>\n",
       "      <td>NK</td>\n",
       "      <td>6.145011</td>\n",
       "      <td>0.121264</td>\n",
       "    </tr>\n",
       "    <tr>\n",
       "      <th>4577</th>\n",
       "      <td>PTPN6</td>\n",
       "      <td>PTPN6</td>\n",
       "      <td>-0.364401</td>\n",
       "      <td>0.652221</td>\n",
       "      <td>0.400000</td>\n",
       "      <td>0.416146</td>\n",
       "      <td>-0.199005</td>\n",
       "      <td>0.199056</td>\n",
       "      <td>CD300LF</td>\n",
       "      <td>CD300LF</td>\n",
       "      <td>-0.046128</td>\n",
       "      <td>0.000000</td>\n",
       "      <td>0.000000</td>\n",
       "      <td>0.897842</td>\n",
       "      <td>-0.105409</td>\n",
       "      <td>NK</td>\n",
       "      <td>NK</td>\n",
       "      <td>2.501501</td>\n",
       "      <td>0.052014</td>\n",
       "    </tr>\n",
       "    <tr>\n",
       "      <th>4578</th>\n",
       "      <td>NUCB2</td>\n",
       "      <td>NUCB2</td>\n",
       "      <td>0.077938</td>\n",
       "      <td>0.156951</td>\n",
       "      <td>0.100000</td>\n",
       "      <td>0.887691</td>\n",
       "      <td>0.065837</td>\n",
       "      <td>0.199056</td>\n",
       "      <td>ERAP1</td>\n",
       "      <td>ERAP1</td>\n",
       "      <td>0.232636</td>\n",
       "      <td>0.162055</td>\n",
       "      <td>0.100000</td>\n",
       "      <td>0.512610</td>\n",
       "      <td>0.282299</td>\n",
       "      <td>NK</td>\n",
       "      <td>NK</td>\n",
       "      <td>0.386504</td>\n",
       "      <td>0.209576</td>\n",
       "    </tr>\n",
       "    <tr>\n",
       "      <th>4579</th>\n",
       "      <td>SOCS2</td>\n",
       "      <td>SOCS2</td>\n",
       "      <td>0.285932</td>\n",
       "      <td>0.230338</td>\n",
       "      <td>0.133333</td>\n",
       "      <td>0.493510</td>\n",
       "      <td>0.243138</td>\n",
       "      <td>0.199056</td>\n",
       "      <td>EPOR</td>\n",
       "      <td>EPOR</td>\n",
       "      <td>-0.044612</td>\n",
       "      <td>0.000000</td>\n",
       "      <td>0.000000</td>\n",
       "      <td>0.897842</td>\n",
       "      <td>-0.105409</td>\n",
       "      <td>NK</td>\n",
       "      <td>NK</td>\n",
       "      <td>0.372007</td>\n",
       "      <td>0.050942</td>\n",
       "    </tr>\n",
       "    <tr>\n",
       "      <th>4580</th>\n",
       "      <td>GDF11</td>\n",
       "      <td>GDF11</td>\n",
       "      <td>-0.043422</td>\n",
       "      <td>0.000000</td>\n",
       "      <td>0.000000</td>\n",
       "      <td>0.897842</td>\n",
       "      <td>-0.105409</td>\n",
       "      <td>0.199056</td>\n",
       "      <td>ACTR2</td>\n",
       "      <td>ACTR2</td>\n",
       "      <td>0.136576</td>\n",
       "      <td>0.346738</td>\n",
       "      <td>0.200000</td>\n",
       "      <td>0.952224</td>\n",
       "      <td>0.052777</td>\n",
       "      <td>NK</td>\n",
       "      <td>NK</td>\n",
       "      <td>0.050083</td>\n",
       "      <td>0.940681</td>\n",
       "    </tr>\n",
       "  </tbody>\n",
       "</table>\n",
       "<p>4287 rows × 19 columns</p>\n",
       "</div>"
      ],
      "text/plain": [
       "      ligand ligand_complex  ligand_logfc  ligand_means  ligand_props  \\\n",
       "0     LGALS9         LGALS9      0.443133      0.374320      0.233333   \n",
       "1       CD22           CD22      0.613544      0.554265      0.400000   \n",
       "2     LGALS1         LGALS1     -1.159930      0.611330      0.366667   \n",
       "3     LGALS9         LGALS9      0.443133      0.374320      0.233333   \n",
       "4     ADAM10         ADAM10     -0.020788      0.119797      0.100000   \n",
       "...      ...            ...           ...           ...           ...   \n",
       "4576   CALM1          CALM1      0.616681      2.516959      1.000000   \n",
       "4577   PTPN6          PTPN6     -0.364401      0.652221      0.400000   \n",
       "4578   NUCB2          NUCB2      0.077938      0.156951      0.100000   \n",
       "4579   SOCS2          SOCS2      0.285932      0.230338      0.133333   \n",
       "4580   GDF11          GDF11     -0.043422      0.000000      0.000000   \n",
       "\n",
       "      ligand_pvals  ligand_zscores  mat_mean receptor receptor_complex  \\\n",
       "0         0.151667        0.377836  0.199056    PTPRC            PTPRC   \n",
       "1         0.006326        0.618197  0.199056    PTPRC            PTPRC   \n",
       "2         0.003327       -0.460597  0.199056    PTPRC            PTPRC   \n",
       "3         0.151667        0.377836  0.199056     CD44             CD44   \n",
       "4         0.928389       -0.002707  0.199056     CD44             CD44   \n",
       "...            ...             ...       ...      ...              ...   \n",
       "4576      0.000370        0.526744  0.199056    KCNN4            KCNN4   \n",
       "4577      0.416146       -0.199005  0.199056  CD300LF          CD300LF   \n",
       "4578      0.887691        0.065837  0.199056    ERAP1            ERAP1   \n",
       "4579      0.493510        0.243138  0.199056     EPOR             EPOR   \n",
       "4580      0.897842       -0.105409  0.199056    ACTR2            ACTR2   \n",
       "\n",
       "      receptor_logfc  receptor_means  receptor_props  receptor_pvals  \\\n",
       "0          -0.663027        0.761533        0.566667        0.000580   \n",
       "1          -0.663027        0.761533        0.566667        0.000580   \n",
       "2          -0.663027        0.761533        0.566667        0.000580   \n",
       "3          -0.128114        0.655391        0.433333        0.674923   \n",
       "4          -0.128114        0.655391        0.433333        0.674923   \n",
       "...              ...             ...             ...             ...   \n",
       "4576       -0.092909        0.000000        0.000000        0.700116   \n",
       "4577       -0.046128        0.000000        0.000000        0.897842   \n",
       "4578        0.232636        0.162055        0.100000        0.512610   \n",
       "4579       -0.044612        0.000000        0.000000        0.897842   \n",
       "4580        0.136576        0.346738        0.200000        0.952224   \n",
       "\n",
       "      receptor_zscores source target  ligand_means_sums  receptor_means_sums  \n",
       "0            -0.415538      B      B           0.534913             3.409275  \n",
       "1            -0.415538      B      B           0.672466             3.409275  \n",
       "2            -0.415538      B      B           3.588291             3.409275  \n",
       "3            -0.051623      B      B           0.534913             2.103060  \n",
       "4            -0.051623      B      B           0.362591             2.103060  \n",
       "...                ...    ...    ...                ...                  ...  \n",
       "4576         -0.183226     NK     NK           6.145011             0.121264  \n",
       "4577         -0.105409     NK     NK           2.501501             0.052014  \n",
       "4578          0.282299     NK     NK           0.386504             0.209576  \n",
       "4579         -0.105409     NK     NK           0.372007             0.050942  \n",
       "4580          0.052777     NK     NK           0.050083             0.940681  \n",
       "\n",
       "[4287 rows x 19 columns]"
      ]
     },
     "execution_count": 9,
     "metadata": {},
     "output_type": "execute_result"
    }
   ],
   "source": [
    "lr_res"
   ]
  },
  {
   "cell_type": "code",
   "execution_count": null,
   "id": "185e13e9-2e49-4809-829d-d4454fe39b2a",
   "metadata": {},
   "outputs": [],
   "source": []
  },
  {
   "cell_type": "code",
   "execution_count": 10,
   "id": "3735af80-8007-48a3-bc11-070dac65972e",
   "metadata": {},
   "outputs": [],
   "source": [
    "from liana.steady import cellphonedb, natmi, connectome, logfc, singlecellsignalr as sca"
   ]
  },
  {
   "cell_type": "code",
   "execution_count": 11,
   "id": "18463fc8-43d1-46f2-9537-55522e9974dd",
   "metadata": {},
   "outputs": [
    {
     "name": "stderr",
     "output_type": "stream",
     "text": [
      "/home/dbdimitrov/Repos/liana-py/liana/steady/liana_pipe.py:63: ImplicitModificationWarning: Trying to modify attribute `.obs` of view, initializing view as actual.\n",
      "  adata.obs['label'] = adata.obs[groupby]\n",
      "/home/dbdimitrov/anaconda3/lib/python3.8/contextlib.py:120: FutureWarning: X.dtype being converted to np.float32 from float64. In the next version of anndata (0.9) conversion will not be automatic. Pass dtype explicitly to avoid this warning. Pass `AnnData(X, dtype=X.dtype, ...)` to get the future behavour.\n",
      "  next(self.gen)\n",
      "/home/dbdimitrov/anaconda3/lib/python3.8/site-packages/anndata/compat/_overloaded_dict.py:106: ImplicitModificationWarning: Trying to modify attribute `._uns` of view, initializing view as actual.\n",
      "  self.data[key] = value\n"
     ]
    },
    {
     "name": "stdout",
     "output_type": "stream",
     "text": [
      "CPU times: user 3.89 s, sys: 44.5 ms, total: 3.93 s\n",
      "Wall time: 3.87 s\n"
     ]
    }
   ],
   "source": [
    "%%time\n",
    "adata = cellphonedb(adata, groupby='label', layer='logcounts')"
   ]
  },
  {
   "cell_type": "code",
   "execution_count": 12,
   "id": "57243923-8d60-4de5-be60-eed16f74426b",
   "metadata": {},
   "outputs": [
    {
     "data": {
      "text/html": [
       "<div>\n",
       "<style scoped>\n",
       "    .dataframe tbody tr th:only-of-type {\n",
       "        vertical-align: middle;\n",
       "    }\n",
       "\n",
       "    .dataframe tbody tr th {\n",
       "        vertical-align: top;\n",
       "    }\n",
       "\n",
       "    .dataframe thead th {\n",
       "        text-align: right;\n",
       "    }\n",
       "</style>\n",
       "<table border=\"1\" class=\"dataframe\">\n",
       "  <thead>\n",
       "    <tr style=\"text-align: right;\">\n",
       "      <th></th>\n",
       "      <th>ligand</th>\n",
       "      <th>ligand_complex</th>\n",
       "      <th>ligand_means</th>\n",
       "      <th>ligand_props</th>\n",
       "      <th>ligand_pvals</th>\n",
       "      <th>receptor</th>\n",
       "      <th>receptor_complex</th>\n",
       "      <th>receptor_means</th>\n",
       "      <th>receptor_props</th>\n",
       "      <th>receptor_pvals</th>\n",
       "      <th>source</th>\n",
       "      <th>target</th>\n",
       "      <th>lr_means</th>\n",
       "      <th>pvals</th>\n",
       "    </tr>\n",
       "  </thead>\n",
       "  <tbody>\n",
       "    <tr>\n",
       "      <th>0</th>\n",
       "      <td>LGALS9</td>\n",
       "      <td>LGALS9</td>\n",
       "      <td>0.374320</td>\n",
       "      <td>0.233333</td>\n",
       "      <td>0.040434</td>\n",
       "      <td>PTPRC</td>\n",
       "      <td>PTPRC</td>\n",
       "      <td>0.761533</td>\n",
       "      <td>0.566667</td>\n",
       "      <td>0.002149</td>\n",
       "      <td>B</td>\n",
       "      <td>B</td>\n",
       "      <td>0.567927</td>\n",
       "      <td>0.859</td>\n",
       "    </tr>\n",
       "    <tr>\n",
       "      <th>1</th>\n",
       "      <td>CD22</td>\n",
       "      <td>CD22</td>\n",
       "      <td>0.554265</td>\n",
       "      <td>0.400000</td>\n",
       "      <td>0.000791</td>\n",
       "      <td>PTPRC</td>\n",
       "      <td>PTPRC</td>\n",
       "      <td>0.761533</td>\n",
       "      <td>0.566667</td>\n",
       "      <td>0.002149</td>\n",
       "      <td>B</td>\n",
       "      <td>B</td>\n",
       "      <td>0.657899</td>\n",
       "      <td>0.595</td>\n",
       "    </tr>\n",
       "    <tr>\n",
       "      <th>2</th>\n",
       "      <td>LGALS1</td>\n",
       "      <td>LGALS1</td>\n",
       "      <td>0.611330</td>\n",
       "      <td>0.366667</td>\n",
       "      <td>0.000417</td>\n",
       "      <td>PTPRC</td>\n",
       "      <td>PTPRC</td>\n",
       "      <td>0.761533</td>\n",
       "      <td>0.566667</td>\n",
       "      <td>0.002149</td>\n",
       "      <td>B</td>\n",
       "      <td>B</td>\n",
       "      <td>0.686431</td>\n",
       "      <td>1.000</td>\n",
       "    </tr>\n",
       "    <tr>\n",
       "      <th>3</th>\n",
       "      <td>LGALS9</td>\n",
       "      <td>LGALS9</td>\n",
       "      <td>0.374320</td>\n",
       "      <td>0.233333</td>\n",
       "      <td>0.040434</td>\n",
       "      <td>CD44</td>\n",
       "      <td>CD44</td>\n",
       "      <td>0.655391</td>\n",
       "      <td>0.433333</td>\n",
       "      <td>0.720974</td>\n",
       "      <td>B</td>\n",
       "      <td>B</td>\n",
       "      <td>0.514855</td>\n",
       "      <td>0.141</td>\n",
       "    </tr>\n",
       "    <tr>\n",
       "      <th>4</th>\n",
       "      <td>ADAM10</td>\n",
       "      <td>ADAM10</td>\n",
       "      <td>0.119797</td>\n",
       "      <td>0.100000</td>\n",
       "      <td>0.985140</td>\n",
       "      <td>CD44</td>\n",
       "      <td>CD44</td>\n",
       "      <td>0.655391</td>\n",
       "      <td>0.433333</td>\n",
       "      <td>0.720974</td>\n",
       "      <td>B</td>\n",
       "      <td>B</td>\n",
       "      <td>0.387594</td>\n",
       "      <td>0.598</td>\n",
       "    </tr>\n",
       "    <tr>\n",
       "      <th>...</th>\n",
       "      <td>...</td>\n",
       "      <td>...</td>\n",
       "      <td>...</td>\n",
       "      <td>...</td>\n",
       "      <td>...</td>\n",
       "      <td>...</td>\n",
       "      <td>...</td>\n",
       "      <td>...</td>\n",
       "      <td>...</td>\n",
       "      <td>...</td>\n",
       "      <td>...</td>\n",
       "      <td>...</td>\n",
       "      <td>...</td>\n",
       "      <td>...</td>\n",
       "    </tr>\n",
       "    <tr>\n",
       "      <th>4576</th>\n",
       "      <td>CALM1</td>\n",
       "      <td>CALM1</td>\n",
       "      <td>2.516959</td>\n",
       "      <td>1.000000</td>\n",
       "      <td>0.000092</td>\n",
       "      <td>KCNN4</td>\n",
       "      <td>KCNN4</td>\n",
       "      <td>0.000000</td>\n",
       "      <td>0.000000</td>\n",
       "      <td>0.085623</td>\n",
       "      <td>NK</td>\n",
       "      <td>NK</td>\n",
       "      <td>0.000000</td>\n",
       "      <td>1.000</td>\n",
       "    </tr>\n",
       "    <tr>\n",
       "      <th>4577</th>\n",
       "      <td>PTPN6</td>\n",
       "      <td>PTPN6</td>\n",
       "      <td>0.652221</td>\n",
       "      <td>0.400000</td>\n",
       "      <td>0.168624</td>\n",
       "      <td>CD300LF</td>\n",
       "      <td>CD300LF</td>\n",
       "      <td>0.000000</td>\n",
       "      <td>0.000000</td>\n",
       "      <td>0.321394</td>\n",
       "      <td>NK</td>\n",
       "      <td>NK</td>\n",
       "      <td>0.000000</td>\n",
       "      <td>1.000</td>\n",
       "    </tr>\n",
       "    <tr>\n",
       "      <th>4578</th>\n",
       "      <td>NUCB2</td>\n",
       "      <td>NUCB2</td>\n",
       "      <td>0.156951</td>\n",
       "      <td>0.100000</td>\n",
       "      <td>0.683425</td>\n",
       "      <td>ERAP1</td>\n",
       "      <td>ERAP1</td>\n",
       "      <td>0.162055</td>\n",
       "      <td>0.100000</td>\n",
       "      <td>0.148509</td>\n",
       "      <td>NK</td>\n",
       "      <td>NK</td>\n",
       "      <td>0.159503</td>\n",
       "      <td>0.069</td>\n",
       "    </tr>\n",
       "    <tr>\n",
       "      <th>4579</th>\n",
       "      <td>SOCS2</td>\n",
       "      <td>SOCS2</td>\n",
       "      <td>0.230338</td>\n",
       "      <td>0.133333</td>\n",
       "      <td>0.186219</td>\n",
       "      <td>EPOR</td>\n",
       "      <td>EPOR</td>\n",
       "      <td>0.000000</td>\n",
       "      <td>0.000000</td>\n",
       "      <td>0.321394</td>\n",
       "      <td>NK</td>\n",
       "      <td>NK</td>\n",
       "      <td>0.000000</td>\n",
       "      <td>1.000</td>\n",
       "    </tr>\n",
       "    <tr>\n",
       "      <th>4580</th>\n",
       "      <td>GDF11</td>\n",
       "      <td>GDF11</td>\n",
       "      <td>0.000000</td>\n",
       "      <td>0.000000</td>\n",
       "      <td>0.321394</td>\n",
       "      <td>ACTR2</td>\n",
       "      <td>ACTR2</td>\n",
       "      <td>0.346738</td>\n",
       "      <td>0.200000</td>\n",
       "      <td>0.744706</td>\n",
       "      <td>NK</td>\n",
       "      <td>NK</td>\n",
       "      <td>0.000000</td>\n",
       "      <td>1.000</td>\n",
       "    </tr>\n",
       "  </tbody>\n",
       "</table>\n",
       "<p>4287 rows × 14 columns</p>\n",
       "</div>"
      ],
      "text/plain": [
       "      ligand ligand_complex  ligand_means  ligand_props  ligand_pvals  \\\n",
       "0     LGALS9         LGALS9      0.374320      0.233333      0.040434   \n",
       "1       CD22           CD22      0.554265      0.400000      0.000791   \n",
       "2     LGALS1         LGALS1      0.611330      0.366667      0.000417   \n",
       "3     LGALS9         LGALS9      0.374320      0.233333      0.040434   \n",
       "4     ADAM10         ADAM10      0.119797      0.100000      0.985140   \n",
       "...      ...            ...           ...           ...           ...   \n",
       "4576   CALM1          CALM1      2.516959      1.000000      0.000092   \n",
       "4577   PTPN6          PTPN6      0.652221      0.400000      0.168624   \n",
       "4578   NUCB2          NUCB2      0.156951      0.100000      0.683425   \n",
       "4579   SOCS2          SOCS2      0.230338      0.133333      0.186219   \n",
       "4580   GDF11          GDF11      0.000000      0.000000      0.321394   \n",
       "\n",
       "     receptor receptor_complex  receptor_means  receptor_props  \\\n",
       "0       PTPRC            PTPRC        0.761533        0.566667   \n",
       "1       PTPRC            PTPRC        0.761533        0.566667   \n",
       "2       PTPRC            PTPRC        0.761533        0.566667   \n",
       "3        CD44             CD44        0.655391        0.433333   \n",
       "4        CD44             CD44        0.655391        0.433333   \n",
       "...       ...              ...             ...             ...   \n",
       "4576    KCNN4            KCNN4        0.000000        0.000000   \n",
       "4577  CD300LF          CD300LF        0.000000        0.000000   \n",
       "4578    ERAP1            ERAP1        0.162055        0.100000   \n",
       "4579     EPOR             EPOR        0.000000        0.000000   \n",
       "4580    ACTR2            ACTR2        0.346738        0.200000   \n",
       "\n",
       "      receptor_pvals source target  lr_means  pvals  \n",
       "0           0.002149      B      B  0.567927  0.859  \n",
       "1           0.002149      B      B  0.657899  0.595  \n",
       "2           0.002149      B      B  0.686431  1.000  \n",
       "3           0.720974      B      B  0.514855  0.141  \n",
       "4           0.720974      B      B  0.387594  0.598  \n",
       "...              ...    ...    ...       ...    ...  \n",
       "4576        0.085623     NK     NK  0.000000  1.000  \n",
       "4577        0.321394     NK     NK  0.000000  1.000  \n",
       "4578        0.148509     NK     NK  0.159503  0.069  \n",
       "4579        0.321394     NK     NK  0.000000  1.000  \n",
       "4580        0.744706     NK     NK  0.000000  1.000  \n",
       "\n",
       "[4287 rows x 14 columns]"
      ]
     },
     "execution_count": 12,
     "metadata": {},
     "output_type": "execute_result"
    }
   ],
   "source": [
    "adata.uns['liana_res'].to_csv(\"cpdb.csv\", index=False)\n"
   ]
  },
  {
   "cell_type": "code",
   "execution_count": 15,
   "id": "9868e721-c936-49e6-ad40-97bfbbd7bd8c",
   "metadata": {},
   "outputs": [
    {
     "data": {
      "text/html": [
       "<div>\n",
       "<style scoped>\n",
       "    .dataframe tbody tr th:only-of-type {\n",
       "        vertical-align: middle;\n",
       "    }\n",
       "\n",
       "    .dataframe tbody tr th {\n",
       "        vertical-align: top;\n",
       "    }\n",
       "\n",
       "    .dataframe thead th {\n",
       "        text-align: right;\n",
       "    }\n",
       "</style>\n",
       "<table border=\"1\" class=\"dataframe\">\n",
       "  <thead>\n",
       "    <tr style=\"text-align: right;\">\n",
       "      <th></th>\n",
       "      <th>ligand</th>\n",
       "      <th>ligand_complex</th>\n",
       "      <th>ligand_means</th>\n",
       "      <th>ligand_props</th>\n",
       "      <th>ligand_pvals</th>\n",
       "      <th>receptor</th>\n",
       "      <th>receptor_complex</th>\n",
       "      <th>receptor_means</th>\n",
       "      <th>receptor_props</th>\n",
       "      <th>receptor_pvals</th>\n",
       "      <th>source</th>\n",
       "      <th>target</th>\n",
       "      <th>lr_means</th>\n",
       "      <th>pvals</th>\n",
       "    </tr>\n",
       "  </thead>\n",
       "  <tbody>\n",
       "    <tr>\n",
       "      <th>2680</th>\n",
       "      <td>HLA-B</td>\n",
       "      <td>HLA-B</td>\n",
       "      <td>3.608490</td>\n",
       "      <td>1.000000</td>\n",
       "      <td>1.979359e-09</td>\n",
       "      <td>LILRB2</td>\n",
       "      <td>LILRB2</td>\n",
       "      <td>0.051631</td>\n",
       "      <td>0.033333</td>\n",
       "      <td>0.744560</td>\n",
       "      <td>NK</td>\n",
       "      <td>CD8 T</td>\n",
       "      <td>1.830060</td>\n",
       "      <td>0.0</td>\n",
       "    </tr>\n",
       "    <tr>\n",
       "      <th>3257</th>\n",
       "      <td>FCER2</td>\n",
       "      <td>FCER2</td>\n",
       "      <td>0.408887</td>\n",
       "      <td>0.300000</td>\n",
       "      <td>7.922771e-03</td>\n",
       "      <td>ITGAM</td>\n",
       "      <td>ITGAM_ITGB2</td>\n",
       "      <td>0.234816</td>\n",
       "      <td>0.166667</td>\n",
       "      <td>0.189246</td>\n",
       "      <td>B</td>\n",
       "      <td>NK</td>\n",
       "      <td>0.321851</td>\n",
       "      <td>0.0</td>\n",
       "    </tr>\n",
       "    <tr>\n",
       "      <th>1697</th>\n",
       "      <td>HLA-DPA1</td>\n",
       "      <td>HLA-DPA1</td>\n",
       "      <td>2.822265</td>\n",
       "      <td>0.966667</td>\n",
       "      <td>2.692064e-15</td>\n",
       "      <td>LAG3</td>\n",
       "      <td>LAG3</td>\n",
       "      <td>0.792108</td>\n",
       "      <td>0.466667</td>\n",
       "      <td>0.000050</td>\n",
       "      <td>B</td>\n",
       "      <td>CD8 T</td>\n",
       "      <td>1.807187</td>\n",
       "      <td>0.0</td>\n",
       "    </tr>\n",
       "    <tr>\n",
       "      <th>4161</th>\n",
       "      <td>HLA-C</td>\n",
       "      <td>HLA-C</td>\n",
       "      <td>4.303210</td>\n",
       "      <td>1.000000</td>\n",
       "      <td>3.485226e-13</td>\n",
       "      <td>LILRA1</td>\n",
       "      <td>LILRA1</td>\n",
       "      <td>0.050998</td>\n",
       "      <td>0.033333</td>\n",
       "      <td>0.325582</td>\n",
       "      <td>NK</td>\n",
       "      <td>NK</td>\n",
       "      <td>2.177104</td>\n",
       "      <td>0.0</td>\n",
       "    </tr>\n",
       "    <tr>\n",
       "      <th>1698</th>\n",
       "      <td>HLA-DRB5</td>\n",
       "      <td>HLA-DRB5</td>\n",
       "      <td>1.883721</td>\n",
       "      <td>0.866667</td>\n",
       "      <td>5.546143e-10</td>\n",
       "      <td>LAG3</td>\n",
       "      <td>LAG3</td>\n",
       "      <td>0.792108</td>\n",
       "      <td>0.466667</td>\n",
       "      <td>0.000050</td>\n",
       "      <td>B</td>\n",
       "      <td>CD8 T</td>\n",
       "      <td>1.337915</td>\n",
       "      <td>0.0</td>\n",
       "    </tr>\n",
       "    <tr>\n",
       "      <th>...</th>\n",
       "      <td>...</td>\n",
       "      <td>...</td>\n",
       "      <td>...</td>\n",
       "      <td>...</td>\n",
       "      <td>...</td>\n",
       "      <td>...</td>\n",
       "      <td>...</td>\n",
       "      <td>...</td>\n",
       "      <td>...</td>\n",
       "      <td>...</td>\n",
       "      <td>...</td>\n",
       "      <td>...</td>\n",
       "      <td>...</td>\n",
       "      <td>...</td>\n",
       "    </tr>\n",
       "    <tr>\n",
       "      <th>1981</th>\n",
       "      <td>IL16</td>\n",
       "      <td>IL16</td>\n",
       "      <td>0.482932</td>\n",
       "      <td>0.366667</td>\n",
       "      <td>8.252585e-01</td>\n",
       "      <td>KCNA3</td>\n",
       "      <td>KCNA3</td>\n",
       "      <td>0.000000</td>\n",
       "      <td>0.000000</td>\n",
       "      <td>0.160306</td>\n",
       "      <td>B</td>\n",
       "      <td>CD8 T</td>\n",
       "      <td>0.000000</td>\n",
       "      <td>1.0</td>\n",
       "    </tr>\n",
       "    <tr>\n",
       "      <th>1988</th>\n",
       "      <td>CYTL1</td>\n",
       "      <td>CYTL1</td>\n",
       "      <td>0.000000</td>\n",
       "      <td>0.000000</td>\n",
       "      <td>1.621379e-01</td>\n",
       "      <td>CCR2</td>\n",
       "      <td>CCR2</td>\n",
       "      <td>0.046220</td>\n",
       "      <td>0.033333</td>\n",
       "      <td>0.705038</td>\n",
       "      <td>B</td>\n",
       "      <td>CD8 T</td>\n",
       "      <td>0.000000</td>\n",
       "      <td>1.0</td>\n",
       "    </tr>\n",
       "    <tr>\n",
       "      <th>1989</th>\n",
       "      <td>PCSK1N</td>\n",
       "      <td>PCSK1N</td>\n",
       "      <td>0.000000</td>\n",
       "      <td>0.000000</td>\n",
       "      <td>8.413639e-02</td>\n",
       "      <td>GPR171</td>\n",
       "      <td>GPR171</td>\n",
       "      <td>0.167741</td>\n",
       "      <td>0.100000</td>\n",
       "      <td>0.128167</td>\n",
       "      <td>B</td>\n",
       "      <td>CD8 T</td>\n",
       "      <td>0.000000</td>\n",
       "      <td>1.0</td>\n",
       "    </tr>\n",
       "    <tr>\n",
       "      <th>1958</th>\n",
       "      <td>CCL4</td>\n",
       "      <td>CCL4</td>\n",
       "      <td>0.080736</td>\n",
       "      <td>0.066667</td>\n",
       "      <td>7.837938e-07</td>\n",
       "      <td>CCR5</td>\n",
       "      <td>CCR5</td>\n",
       "      <td>0.100830</td>\n",
       "      <td>0.066667</td>\n",
       "      <td>0.284792</td>\n",
       "      <td>B</td>\n",
       "      <td>CD8 T</td>\n",
       "      <td>0.090783</td>\n",
       "      <td>1.0</td>\n",
       "    </tr>\n",
       "    <tr>\n",
       "      <th>4580</th>\n",
       "      <td>GDF11</td>\n",
       "      <td>GDF11</td>\n",
       "      <td>0.000000</td>\n",
       "      <td>0.000000</td>\n",
       "      <td>3.213943e-01</td>\n",
       "      <td>ACTR2</td>\n",
       "      <td>ACTR2</td>\n",
       "      <td>0.346738</td>\n",
       "      <td>0.200000</td>\n",
       "      <td>0.744706</td>\n",
       "      <td>NK</td>\n",
       "      <td>NK</td>\n",
       "      <td>0.000000</td>\n",
       "      <td>1.0</td>\n",
       "    </tr>\n",
       "  </tbody>\n",
       "</table>\n",
       "<p>4287 rows × 14 columns</p>\n",
       "</div>"
      ],
      "text/plain": [
       "        ligand ligand_complex  ligand_means  ligand_props  ligand_pvals  \\\n",
       "2680     HLA-B          HLA-B      3.608490      1.000000  1.979359e-09   \n",
       "3257     FCER2          FCER2      0.408887      0.300000  7.922771e-03   \n",
       "1697  HLA-DPA1       HLA-DPA1      2.822265      0.966667  2.692064e-15   \n",
       "4161     HLA-C          HLA-C      4.303210      1.000000  3.485226e-13   \n",
       "1698  HLA-DRB5       HLA-DRB5      1.883721      0.866667  5.546143e-10   \n",
       "...        ...            ...           ...           ...           ...   \n",
       "1981      IL16           IL16      0.482932      0.366667  8.252585e-01   \n",
       "1988     CYTL1          CYTL1      0.000000      0.000000  1.621379e-01   \n",
       "1989    PCSK1N         PCSK1N      0.000000      0.000000  8.413639e-02   \n",
       "1958      CCL4           CCL4      0.080736      0.066667  7.837938e-07   \n",
       "4580     GDF11          GDF11      0.000000      0.000000  3.213943e-01   \n",
       "\n",
       "     receptor receptor_complex  receptor_means  receptor_props  \\\n",
       "2680   LILRB2           LILRB2        0.051631        0.033333   \n",
       "3257    ITGAM      ITGAM_ITGB2        0.234816        0.166667   \n",
       "1697     LAG3             LAG3        0.792108        0.466667   \n",
       "4161   LILRA1           LILRA1        0.050998        0.033333   \n",
       "1698     LAG3             LAG3        0.792108        0.466667   \n",
       "...       ...              ...             ...             ...   \n",
       "1981    KCNA3            KCNA3        0.000000        0.000000   \n",
       "1988     CCR2             CCR2        0.046220        0.033333   \n",
       "1989   GPR171           GPR171        0.167741        0.100000   \n",
       "1958     CCR5             CCR5        0.100830        0.066667   \n",
       "4580    ACTR2            ACTR2        0.346738        0.200000   \n",
       "\n",
       "      receptor_pvals source target  lr_means  pvals  \n",
       "2680        0.744560     NK  CD8 T  1.830060    0.0  \n",
       "3257        0.189246      B     NK  0.321851    0.0  \n",
       "1697        0.000050      B  CD8 T  1.807187    0.0  \n",
       "4161        0.325582     NK     NK  2.177104    0.0  \n",
       "1698        0.000050      B  CD8 T  1.337915    0.0  \n",
       "...              ...    ...    ...       ...    ...  \n",
       "1981        0.160306      B  CD8 T  0.000000    1.0  \n",
       "1988        0.705038      B  CD8 T  0.000000    1.0  \n",
       "1989        0.128167      B  CD8 T  0.000000    1.0  \n",
       "1958        0.284792      B  CD8 T  0.090783    1.0  \n",
       "4580        0.744706     NK     NK  0.000000    1.0  \n",
       "\n",
       "[4287 rows x 14 columns]"
      ]
     },
     "execution_count": 15,
     "metadata": {},
     "output_type": "execute_result"
    }
   ],
   "source": [
    "adata.uns['liana_res'].sort_values('pvals')"
   ]
  },
  {
   "cell_type": "code",
   "execution_count": null,
   "id": "724342bf-6286-4a79-99d2-c4a4583e5458",
   "metadata": {},
   "outputs": [],
   "source": []
  },
  {
   "cell_type": "code",
   "execution_count": null,
   "id": "9e2c6c73-5b81-4ef8-8e0b-ff46587c9c01",
   "metadata": {},
   "outputs": [],
   "source": []
  },
  {
   "cell_type": "code",
   "execution_count": null,
   "id": "07de473d-ef2e-46bc-bc94-25b2f24bdacf",
   "metadata": {},
   "outputs": [],
   "source": []
  },
  {
   "cell_type": "markdown",
   "id": "066ac4e7-c58e-42e1-bd78-13be91be3377",
   "metadata": {},
   "source": [
    "Tests"
   ]
  },
  {
   "cell_type": "code",
   "execution_count": null,
   "id": "efabf240-41e1-4919-9384-d3e37bfe2fdc",
   "metadata": {},
   "outputs": [],
   "source": [
    "adata = sc.datasets.pbmc68k_reduced()"
   ]
  },
  {
   "cell_type": "code",
   "execution_count": null,
   "id": "62e9199f-bd01-4e34-a1c3-aa2be2011faa",
   "metadata": {},
   "outputs": [],
   "source": []
  },
  {
   "cell_type": "code",
   "execution_count": null,
   "id": "af1600bc-6ce4-4fb4-bb81-509b5b6f0695",
   "metadata": {},
   "outputs": [],
   "source": []
  },
  {
   "cell_type": "code",
   "execution_count": null,
   "id": "ce240a45-cd24-4bd1-84fd-cd1d877f771a",
   "metadata": {},
   "outputs": [],
   "source": []
  },
  {
   "cell_type": "code",
   "execution_count": null,
   "id": "caceedf1-3662-432f-830e-d77625047131",
   "metadata": {},
   "outputs": [],
   "source": []
  },
  {
   "cell_type": "code",
   "execution_count": null,
   "id": "4b40fac1-5b65-4701-b458-05e20684cf45",
   "metadata": {},
   "outputs": [],
   "source": []
  },
  {
   "cell_type": "code",
   "execution_count": null,
   "id": "d72d5e2b-08b5-408d-8dac-77b05005fd73",
   "metadata": {},
   "outputs": [],
   "source": [
    "sc.tl.rank_genes_groups(adata, groupby='label', layer='logcounts')"
   ]
  },
  {
   "cell_type": "code",
   "execution_count": null,
   "id": "6196e01d-7d1a-42a1-9dd9-18570ad3c752",
   "metadata": {},
   "outputs": [],
   "source": [
    "sc.get.rank_genes_groups_df(adata, 'B')"
   ]
  },
  {
   "cell_type": "code",
   "execution_count": null,
   "id": "b59893e1-b2fd-4445-9b12-f9d51ac7489b",
   "metadata": {},
   "outputs": [],
   "source": [
    "labels = adata.obs.label.cat.categories"
   ]
  },
  {
   "cell_type": "code",
   "execution_count": null,
   "id": "206a4274-d3ca-4bc6-86f6-5023d887bbf8",
   "metadata": {},
   "outputs": [],
   "source": []
  },
  {
   "cell_type": "code",
   "execution_count": null,
   "id": "0f3e5949-6d77-4def-bc25-c47930354138",
   "metadata": {},
   "outputs": [],
   "source": []
  },
  {
   "cell_type": "code",
   "execution_count": null,
   "id": "d6a8ca60-441e-4397-97e6-5f0ecfcdf1ab",
   "metadata": {},
   "outputs": [],
   "source": [
    "# Function to get gene expr proportions\n",
    "def _get_props(X_mask):\n",
    "    return X_mask.getnnz(axis=0) / X_mask.shape[0]"
   ]
  },
  {
   "cell_type": "code",
   "execution_count": null,
   "id": "a4ee57fc-f7f4-4d1a-b4a1-772eec5875ed",
   "metadata": {},
   "outputs": [],
   "source": []
  },
  {
   "cell_type": "code",
   "execution_count": null,
   "id": "80bad3ee-3340-4e69-9d48-e9fd401378a6",
   "metadata": {},
   "outputs": [],
   "source": [
    "# Get Props\n",
    "dedict = {}\n",
    "for label in labels:\n",
    "    temp = adata[adata.obs.label == label, :]\n",
    "    a = _get_props(temp.X)\n",
    "    dedict[label] = pd.DataFrame({'names': temp.var_names, 'props': a}).\\\n",
    "        assign(label=label).sort_values('names')"
   ]
  },
  {
   "cell_type": "code",
   "execution_count": null,
   "id": "949dbb15-b7f6-4108-9ad5-11cb1caf1490",
   "metadata": {},
   "outputs": [],
   "source": []
  },
  {
   "cell_type": "code",
   "execution_count": null,
   "id": "b628f765-5b30-4643-ab4c-c173eb96d4e7",
   "metadata": {},
   "outputs": [],
   "source": []
  },
  {
   "cell_type": "code",
   "execution_count": null,
   "id": "97d32a7e-b8d3-4219-be39-e1e47150e944",
   "metadata": {},
   "outputs": [],
   "source": [
    "sc.tl.rank_genes_groups(adata, groupby='label',\n",
    "                        method=de_method, use_raw=False)\n",
    "# dedict = {label: sc.get.rank_genes_groups_df(adata, label).assign(\n",
    "#     label=label).sort_values('names') for label in labels}"
   ]
  },
  {
   "cell_type": "code",
   "execution_count": null,
   "id": "89ed0aa5-f388-48cf-8801-0218f596acb8",
   "metadata": {},
   "outputs": [],
   "source": []
  },
  {
   "cell_type": "code",
   "execution_count": null,
   "id": "600f4ace-49d5-4067-a3b9-0639aadf3844",
   "metadata": {},
   "outputs": [],
   "source": [
    "{label: sc.get.rank_genes_groups_df(adata, label).assign(label=label).sort_values('names') for label in labels}"
   ]
  },
  {
   "cell_type": "code",
   "execution_count": null,
   "id": "a6dad62f-9bba-46f3-8088-3d0e858633bc",
   "metadata": {},
   "outputs": [],
   "source": []
  },
  {
   "cell_type": "code",
   "execution_count": null,
   "id": "9a59dd83-2ac9-473c-80c2-ec5aeffb6903",
   "metadata": {},
   "outputs": [],
   "source": [
    "dedict['B'].merge(sc.get.rank_genes_groups_df(adata, 'B'))"
   ]
  },
  {
   "cell_type": "code",
   "execution_count": null,
   "id": "20149109-31f6-4748-9c2f-dbe1f230aaad",
   "metadata": {},
   "outputs": [],
   "source": []
  },
  {
   "cell_type": "code",
   "execution_count": null,
   "id": "fe71822a-9cea-4b79-81f2-7d40c145f363",
   "metadata": {},
   "outputs": [],
   "source": [
    "adata.uns['rank_genes_groups']['pts']"
   ]
  },
  {
   "cell_type": "code",
   "execution_count": null,
   "id": "e1638470-8a05-40a7-9969-407411b6c4f6",
   "metadata": {},
   "outputs": [],
   "source": []
  },
  {
   "cell_type": "code",
   "execution_count": null,
   "id": "ffee9b4d-721f-4949-b91c-50148de659ed",
   "metadata": {},
   "outputs": [],
   "source": [
    "np.count_nonzero(adata[adata.obs.label=='B',:].X)"
   ]
  },
  {
   "cell_type": "code",
   "execution_count": null,
   "id": "180c690e-75a9-4374-a2ce-e4cb17a206b9",
   "metadata": {},
   "outputs": [],
   "source": []
  },
  {
   "cell_type": "code",
   "execution_count": null,
   "id": "213f37f4-3049-4ed7-8947-e81accf4f8f8",
   "metadata": {},
   "outputs": [],
   "source": [
    "adata.X"
   ]
  },
  {
   "cell_type": "code",
   "execution_count": null,
   "id": "f0373666-064e-4a68-8210-556b705b660b",
   "metadata": {},
   "outputs": [],
   "source": []
  },
  {
   "cell_type": "code",
   "execution_count": null,
   "id": "774ad36b-b349-4843-afc7-289dd8469c16",
   "metadata": {},
   "outputs": [],
   "source": [
    "sc.get.rank_genes_groups_df(adata, group='B')"
   ]
  },
  {
   "cell_type": "code",
   "execution_count": null,
   "id": "f782eab7-d22a-4c55-9726-192b585c6f98",
   "metadata": {},
   "outputs": [],
   "source": []
  },
  {
   "cell_type": "code",
   "execution_count": null,
   "id": "aa416918-1e24-40ef-9849-9a6bb219c6df",
   "metadata": {},
   "outputs": [],
   "source": []
  },
  {
   "cell_type": "code",
   "execution_count": null,
   "id": "ed01af12-fcac-4063-bef6-b8417abde5cb",
   "metadata": {},
   "outputs": [],
   "source": [
    "for imask, mask in enumerate(self.groups_masks):\n",
    "    X_mask = self.X[mask]\n",
    "\n",
    "    if self.comp_pts:\n",
    "        self.pts[imask] = get_nonzeros(X_mask) / X_mask.shape[0]"
   ]
  },
  {
   "cell_type": "code",
   "execution_count": null,
   "id": "4ce27200-45f9-4f05-9ec8-875fcf8acaf5",
   "metadata": {},
   "outputs": [],
   "source": []
  },
  {
   "cell_type": "code",
   "execution_count": null,
   "id": "46fc319a-c3e0-4f05-898c-4fd9fc2a495f",
   "metadata": {},
   "outputs": [],
   "source": []
  },
  {
   "cell_type": "code",
   "execution_count": null,
   "id": "3855010b-6c6c-437d-a685-e7be24998171",
   "metadata": {},
   "outputs": [],
   "source": []
  },
  {
   "cell_type": "code",
   "execution_count": null,
   "id": "ee3d2e94-625a-4862-b1eb-891ec8622348",
   "metadata": {},
   "outputs": [],
   "source": []
  },
  {
   "cell_type": "code",
   "execution_count": null,
   "id": "f89e903f-38fc-46d5-8a7d-ab49b70140a8",
   "metadata": {},
   "outputs": [],
   "source": [
    "dedict = {label: sc.get.rank_genes_groups_df(adata, label).assign(\n",
    "    label=label).sort_values('names') for label in labels}"
   ]
  },
  {
   "cell_type": "code",
   "execution_count": null,
   "id": "27dbc7c6-7ddb-426f-a8d1-b7725c8e6708",
   "metadata": {},
   "outputs": [],
   "source": []
  },
  {
   "cell_type": "code",
   "execution_count": null,
   "id": "45e06a17-ca0b-4713-87dd-73e428585505",
   "metadata": {},
   "outputs": [],
   "source": []
  },
  {
   "cell_type": "code",
   "execution_count": null,
   "id": "631d1a0c-cc73-4f55-9d36-cc1e486cf2f5",
   "metadata": {},
   "outputs": [],
   "source": []
  },
  {
   "cell_type": "code",
   "execution_count": null,
   "id": "d578bc8b-3f44-4a04-986e-bb0921ed5271",
   "metadata": {},
   "outputs": [],
   "source": [
    "dedict"
   ]
  },
  {
   "cell_type": "code",
   "execution_count": null,
   "id": "06cd6057-0332-48ed-914d-0b2b44bad811",
   "metadata": {},
   "outputs": [],
   "source": []
  },
  {
   "cell_type": "code",
   "execution_count": null,
   "id": "102ff29b-650e-4ea0-a5eb-3f933ae2f2d4",
   "metadata": {},
   "outputs": [],
   "source": []
  },
  {
   "cell_type": "markdown",
   "id": "7c12716f-6115-4c36-8751-0c8f45b771a2",
   "metadata": {},
   "source": [
    "Consensus"
   ]
  },
  {
   "cell_type": "code",
   "execution_count": null,
   "id": "70668179-5ff8-4036-9e01-6fe252323499",
   "metadata": {},
   "outputs": [],
   "source": [
    "from liana.steady.scores.consensus import consensus"
   ]
  },
  {
   "cell_type": "code",
   "execution_count": null,
   "id": "5ac91949-ffcd-4aaf-a577-69723d08e732",
   "metadata": {},
   "outputs": [],
   "source": [
    "from functools import reduce\n",
    "from scipy.stats import rankdata, beta"
   ]
  },
  {
   "cell_type": "code",
   "execution_count": null,
   "id": "f5cb53cf-9f76-4a02-bcca-20c96da69882",
   "metadata": {},
   "outputs": [],
   "source": [
    "from liana.steady.aggregate import _robust_rank_aggregate, _rank_aggregate"
   ]
  },
  {
   "cell_type": "code",
   "execution_count": null,
   "id": "4ac03f73-67a9-4e37-a63a-b44f8bbc3820",
   "metadata": {},
   "outputs": [],
   "source": []
  },
  {
   "cell_type": "code",
   "execution_count": null,
   "id": "f6684810-660b-4243-8536-5768cc0a6b9f",
   "metadata": {},
   "outputs": [],
   "source": []
  },
  {
   "cell_type": "code",
   "execution_count": null,
   "id": "04e1a887-6be7-4506-b21e-da090e1f2804",
   "metadata": {},
   "outputs": [],
   "source": []
  },
  {
   "cell_type": "code",
   "execution_count": null,
   "id": "d37bc726-c1a0-40ca-b6bc-a12b50bb832e",
   "metadata": {},
   "outputs": [],
   "source": [
    "_methods = [cellphonedb, connectome, logfc, natmi, sca]"
   ]
  },
  {
   "cell_type": "code",
   "execution_count": null,
   "id": "94a5e64c-d191-4851-8948-062fd901e583",
   "metadata": {},
   "outputs": [],
   "source": []
  },
  {
   "cell_type": "code",
   "execution_count": null,
   "id": "3e434926-0352-4865-90e9-745c6a566491",
   "metadata": {},
   "outputs": [],
   "source": [
    "adata = consensus(adata, groupby='bulk_labels',\n",
    "                  use_raw=True\n",
    "                  #, consensus_opts=False\n",
    "                 )"
   ]
  },
  {
   "cell_type": "code",
   "execution_count": null,
   "id": "4c403ce5-ff81-472c-9de6-4a895b99acf7",
   "metadata": {},
   "outputs": [],
   "source": [
    "lr_res = adata.uns['liana_res']"
   ]
  },
  {
   "cell_type": "code",
   "execution_count": null,
   "id": "c2e5f88a-6b7a-4daf-b216-292bbf3d640a",
   "metadata": {},
   "outputs": [],
   "source": []
  },
  {
   "cell_type": "code",
   "execution_count": null,
   "id": "c0313584-8d09-4ac5-ba16-106bc063cac0",
   "metadata": {},
   "outputs": [],
   "source": [
    "lr_res[lr_res['receptor_complex']=='CD8A_CD8B'].sort_values('spec_weight')"
   ]
  },
  {
   "cell_type": "code",
   "execution_count": null,
   "id": "6c047547-aff8-4278-b7b1-506c285252f9",
   "metadata": {},
   "outputs": [],
   "source": []
  },
  {
   "cell_type": "code",
   "execution_count": null,
   "id": "ba6af2b7-d2f4-4d72-a549-22780fb2ae04",
   "metadata": {},
   "outputs": [],
   "source": []
  },
  {
   "cell_type": "code",
   "execution_count": null,
   "id": "accdb9a4-1e5c-4f1d-a713-2a1f6e14dc08",
   "metadata": {},
   "outputs": [],
   "source": []
  },
  {
   "cell_type": "code",
   "execution_count": null,
   "id": "c3f48fcb-1a83-4c0f-8d03-8b26dca618fe",
   "metadata": {},
   "outputs": [],
   "source": []
  },
  {
   "cell_type": "code",
   "execution_count": null,
   "id": "58b97d49-2636-4604-ac09-7319257f4bcb",
   "metadata": {},
   "outputs": [],
   "source": []
  },
  {
   "cell_type": "markdown",
   "id": "81286b5b-869d-4c45-a57c-4ab6d3fb39a5",
   "metadata": {
    "tags": []
   },
   "source": [
    "## Each Method"
   ]
  },
  {
   "cell_type": "markdown",
   "id": "bbc202fb-8b2a-4659-821f-b52a2f957269",
   "metadata": {},
   "source": [
    "CellPhoneDB"
   ]
  },
  {
   "cell_type": "code",
   "execution_count": null,
   "id": "f34a6a93-f823-4c50-a716-6d9f7aa873a2",
   "metadata": {},
   "outputs": [],
   "source": [
    "from liana import cellphonedb"
   ]
  },
  {
   "cell_type": "code",
   "execution_count": null,
   "id": "ae10eb86-43f0-49eb-a2ce-bc4ef2b4a030",
   "metadata": {},
   "outputs": [],
   "source": [
    "%%time\n",
    "adata = cellphonedb(adata, groupby='label', n_perms=1000)"
   ]
  },
  {
   "cell_type": "code",
   "execution_count": null,
   "id": "5da48042-4f6a-463f-9900-35cf075e8157",
   "metadata": {},
   "outputs": [],
   "source": [
    "lr_res = adata.uns['liana_res']"
   ]
  },
  {
   "cell_type": "code",
   "execution_count": null,
   "id": "5fe86072-35f7-488d-8902-edb88dbea50c",
   "metadata": {},
   "outputs": [],
   "source": [
    "lr_res[lr_res['receptor_complex']=='CD8A_CD8B']"
   ]
  },
  {
   "cell_type": "code",
   "execution_count": null,
   "id": "05070b28-53a6-457f-b8ee-f776ccde22e6",
   "metadata": {},
   "outputs": [],
   "source": []
  },
  {
   "cell_type": "code",
   "execution_count": null,
   "id": "6fadac1c-d620-45be-9659-d863ec129fad",
   "metadata": {},
   "outputs": [],
   "source": []
  },
  {
   "cell_type": "markdown",
   "id": "ac370eac-2c34-462b-a84a-f571c6627e4b",
   "metadata": {},
   "source": [
    "NATMI"
   ]
  },
  {
   "cell_type": "code",
   "execution_count": null,
   "id": "2a67dd14-3e89-40fa-a6d1-a27d9acaba59",
   "metadata": {},
   "outputs": [],
   "source": [
    "from liana import natmi"
   ]
  },
  {
   "cell_type": "code",
   "execution_count": null,
   "id": "bb3017ab-1d8e-4704-9012-2bceb959dc13",
   "metadata": {},
   "outputs": [],
   "source": [
    "adata = natmi(adata, groupby='label')"
   ]
  },
  {
   "cell_type": "code",
   "execution_count": null,
   "id": "7e53c204-d252-4d19-aa94-20d19e9e41f1",
   "metadata": {},
   "outputs": [],
   "source": [
    "adata.uns['liana_res']"
   ]
  },
  {
   "cell_type": "code",
   "execution_count": null,
   "id": "278f0447-3ad6-4a85-97ec-1274fbf18a45",
   "metadata": {},
   "outputs": [],
   "source": []
  },
  {
   "cell_type": "code",
   "execution_count": null,
   "id": "7727dc8a-1205-4e29-85e9-a0cf1571098c",
   "metadata": {},
   "outputs": [],
   "source": []
  },
  {
   "cell_type": "markdown",
   "id": "7ec44baa-0cd3-4eb6-9f7b-a5e325b6f692",
   "metadata": {},
   "source": [
    "SCA"
   ]
  },
  {
   "cell_type": "code",
   "execution_count": null,
   "id": "f57a9a05-689c-44df-9915-50c5dfc3a494",
   "metadata": {},
   "outputs": [],
   "source": [
    "from liana import singlecellsignalr as sca"
   ]
  },
  {
   "cell_type": "code",
   "execution_count": null,
   "id": "fdb9b416-7e42-4c76-bac0-32f148e28fb7",
   "metadata": {},
   "outputs": [],
   "source": [
    "adata = sca(adata, groupby='label')"
   ]
  },
  {
   "cell_type": "code",
   "execution_count": null,
   "id": "ba4b4d5a-f417-440c-a88d-68ef92aa658b",
   "metadata": {},
   "outputs": [],
   "source": [
    "adata.uns['liana_res'].sort_values('lr_means', ascending=True)"
   ]
  },
  {
   "cell_type": "code",
   "execution_count": null,
   "id": "a4c5e360-0560-4e5f-8d52-696ee1bd2a84",
   "metadata": {},
   "outputs": [],
   "source": []
  },
  {
   "cell_type": "code",
   "execution_count": null,
   "id": "b0af474f-281c-44d7-ab79-fef31d354c9d",
   "metadata": {},
   "outputs": [],
   "source": []
  },
  {
   "cell_type": "markdown",
   "id": "d0fcd85f-2505-4f9e-ae47-069432720f74",
   "metadata": {},
   "source": [
    "Connectome"
   ]
  },
  {
   "cell_type": "code",
   "execution_count": null,
   "id": "1a2e6124-01e6-411c-b1e1-669bded091dd",
   "metadata": {},
   "outputs": [],
   "source": [
    "from liana import connectome"
   ]
  },
  {
   "cell_type": "code",
   "execution_count": null,
   "id": "6c74db4a-cd6b-4db1-bee7-58f4a4375e7a",
   "metadata": {},
   "outputs": [],
   "source": [
    "adata = connectome(adata, groupby='label')"
   ]
  },
  {
   "cell_type": "code",
   "execution_count": null,
   "id": "1a9ea8d6-b1e1-4fc3-976e-ded3d73f9547",
   "metadata": {},
   "outputs": [],
   "source": [
    "adata.uns['liana_res'].sort_values('scaled_weight', ascending=False)"
   ]
  },
  {
   "cell_type": "code",
   "execution_count": null,
   "id": "a76721f0-632a-4015-a347-c5f8aa54ceb4",
   "metadata": {},
   "outputs": [],
   "source": []
  },
  {
   "cell_type": "code",
   "execution_count": null,
   "id": "f7ebe9e3-5dc5-4d93-b558-1c45e289cd47",
   "metadata": {},
   "outputs": [],
   "source": []
  },
  {
   "cell_type": "code",
   "execution_count": null,
   "id": "71db5fc9-e45a-4f15-b339-7de86f7ddd8a",
   "metadata": {},
   "outputs": [],
   "source": []
  },
  {
   "cell_type": "markdown",
   "id": "0e0a4897-21fb-4f94-96ee-ec7157a9081a",
   "metadata": {},
   "source": [
    "logFC"
   ]
  },
  {
   "cell_type": "code",
   "execution_count": null,
   "id": "6ee26c82-df43-40c9-b4cf-be0c5b08bb2f",
   "metadata": {},
   "outputs": [],
   "source": [
    "from liana import logfc"
   ]
  },
  {
   "cell_type": "code",
   "execution_count": null,
   "id": "5910e6bc-c3ff-44a7-867c-e59c3f3a9091",
   "metadata": {},
   "outputs": [],
   "source": [
    "adata = logfc(adata, groupby='label')"
   ]
  },
  {
   "cell_type": "code",
   "execution_count": null,
   "id": "8e83c7fa-2ee8-42a9-bf8f-f5065a5ce21f",
   "metadata": {},
   "outputs": [],
   "source": [
    "adata.uns['liana_res'].sort_values('lr_logfc', ascending=False)"
   ]
  },
  {
   "cell_type": "code",
   "execution_count": null,
   "id": "dbb28aa4-8f20-45e1-a041-6796dd1f045f",
   "metadata": {},
   "outputs": [],
   "source": [
    "np.exp(1)"
   ]
  },
  {
   "cell_type": "code",
   "execution_count": null,
   "id": "23bd8ff5-b9bf-4718-a8af-ee9225e76d7a",
   "metadata": {},
   "outputs": [],
   "source": []
  },
  {
   "cell_type": "code",
   "execution_count": null,
   "id": "8b083646-d111-4f0c-a2bd-dbc6c7415e82",
   "metadata": {},
   "outputs": [],
   "source": []
  },
  {
   "cell_type": "markdown",
   "id": "2b1733cb-cb90-4bd8-a331-ba42d119669e",
   "metadata": {
    "tags": []
   },
   "source": [
    "try w/ real data"
   ]
  },
  {
   "cell_type": "code",
   "execution_count": null,
   "id": "410040b2-fb80-4b5c-8525-a5195e3d507e",
   "metadata": {},
   "outputs": [],
   "source": [
    "adata = sc.datasets.pbmc3k_processed()\n",
    "labels = adata.obs.louvain\n",
    "cells = adata.obs_names"
   ]
  },
  {
   "cell_type": "code",
   "execution_count": null,
   "id": "948b33f6-e0c9-411c-bd65-00e114139844",
   "metadata": {},
   "outputs": [],
   "source": [
    "adata = sc.datasets.pbmc3k()"
   ]
  },
  {
   "cell_type": "code",
   "execution_count": null,
   "id": "fe5ffa6c-c547-47d2-a382-61aa812db2c7",
   "metadata": {},
   "outputs": [],
   "source": [
    "adata = adata[[x in cells for x in adata.obs_names]]"
   ]
  },
  {
   "cell_type": "code",
   "execution_count": null,
   "id": "d18fd93f-560e-4ced-8b50-bfbbf5278c31",
   "metadata": {},
   "outputs": [],
   "source": [
    "adata.obs['label'] = labels"
   ]
  },
  {
   "cell_type": "code",
   "execution_count": null,
   "id": "6c7fb31f-bac7-4e63-9406-c02c947c6e9a",
   "metadata": {},
   "outputs": [],
   "source": [
    "sc.pp.log1p(adata)"
   ]
  },
  {
   "cell_type": "code",
   "execution_count": null,
   "id": "254f0ae3-0a63-4874-884a-c2d3c49db8ae",
   "metadata": {},
   "outputs": [],
   "source": [
    "%%time\n",
    "adata = cellphonedb(adata, groupby='label', n_perms=1000)"
   ]
  },
  {
   "cell_type": "code",
   "execution_count": null,
   "id": "c823a041-4775-4d50-b0da-e7dea5bbf295",
   "metadata": {},
   "outputs": [],
   "source": []
  },
  {
   "cell_type": "code",
   "execution_count": null,
   "id": "90791727-f674-4689-8c9c-34ed441c70b9",
   "metadata": {},
   "outputs": [],
   "source": []
  },
  {
   "cell_type": "code",
   "execution_count": null,
   "id": "c92c76c4-5af2-4077-8c13-291d0456e3d8",
   "metadata": {},
   "outputs": [],
   "source": []
  },
  {
   "cell_type": "code",
   "execution_count": null,
   "id": "c26f6257-50f4-451b-bb01-9b7a64ced5b5",
   "metadata": {},
   "outputs": [],
   "source": []
  },
  {
   "cell_type": "code",
   "execution_count": null,
   "id": "9960bcad-69b4-4950-b6b0-523c15fc2dfa",
   "metadata": {},
   "outputs": [],
   "source": []
  },
  {
   "cell_type": "markdown",
   "id": "c4586fde-464c-4867-86d1-1ce1feadf798",
   "metadata": {
    "jp-MarkdownHeadingCollapsed": true,
    "tags": []
   },
   "source": [
    "## LIANA PIPE LINE BY LINE"
   ]
  },
  {
   "cell_type": "code",
   "execution_count": null,
   "id": "edb1a040-d1e1-4a0b-b973-02be0bb8cd61",
   "metadata": {},
   "outputs": [],
   "source": [
    "# I get this from the score object\n",
    "_complex_cols = ['ligand_means', 'receptor_means']\n",
    "# change to full list and move to _var\n",
    "_add_cols = ['ligand', 'receptor',\n",
    "             'ligand_means_sums', 'receptor_means_sums',\n",
    "             'ligand_zscores', 'receptor_zscores',\n",
    "             'ligand_logfoldchanges', 'receptor_logfoldchanges',\n",
    "             'ligand_logfc', 'receptor_logfc'\n",
    "             'mat_mean',\n",
    "             ]\n",
    "\n",
    "_key_cols = ['source', 'target', 'ligand_complex', 'receptor_complex']"
   ]
  },
  {
   "cell_type": "code",
   "execution_count": null,
   "id": "677ce5db-7b4e-4727-880c-2715dde979a7",
   "metadata": {},
   "outputs": [],
   "source": [
    "from liana.utils.pre import check_adata, check_if_covered, format_vars, filter_resource\n",
    "from liana.resource import select_resource\n",
    "from liana.resource.select_resource import explode_complexes\n",
    "from liana.steady.liana_pipe import _get_lr\n",
    "from liana.utils.reassemble_complexes import reassemble_complexes\n",
    "from scipy.sparse import csr_matrix\n",
    "from liana.steady._permutations import get_means_perms"
   ]
  },
  {
   "cell_type": "code",
   "execution_count": null,
   "id": "66ba6d05-d067-4558-a879-87394a6d866a",
   "metadata": {},
   "outputs": [],
   "source": []
  },
  {
   "cell_type": "markdown",
   "id": "e5f74ea3-9847-43e3-bd9b-cb1c312520ee",
   "metadata": {},
   "source": [
    "I need to double check if every step makes sense, as I build unit tests!!!\n",
    "\n",
    "For example, are there any duplicated rows (source, target, ligand_complex, receptor_complex)\n",
    "\n",
    "Double check again if correct subunit is kept, etc"
   ]
  },
  {
   "cell_type": "code",
   "execution_count": null,
   "id": "a62b0165-a084-4979-9110-a18fc6da2c0e",
   "metadata": {},
   "outputs": [],
   "source": [
    "adata = check_adata(adata, True)"
   ]
  },
  {
   "cell_type": "code",
   "execution_count": null,
   "id": "67ad1ece-1a1a-4bf9-b284-25764d7cb858",
   "metadata": {},
   "outputs": [],
   "source": []
  },
  {
   "cell_type": "code",
   "execution_count": null,
   "id": "19df65eb-c6d2-4866-bc22-9b320deae6e1",
   "metadata": {},
   "outputs": [],
   "source": [
    "# Define idents col name\n",
    "adata.obs.label = adata.obs[groupby]"
   ]
  },
  {
   "cell_type": "code",
   "execution_count": null,
   "id": "ff3885f0-ba02-43ae-ad3b-c9bbb742e196",
   "metadata": {},
   "outputs": [],
   "source": []
  },
  {
   "cell_type": "markdown",
   "id": "4ccdd879-64e2-4339-9b00-0adcea5edfbc",
   "metadata": {},
   "source": [
    "Load resource"
   ]
  },
  {
   "cell_type": "code",
   "execution_count": null,
   "id": "a2c2c0b2-d792-45d2-9d2a-35daa9f16842",
   "metadata": {},
   "outputs": [],
   "source": [
    "resource = select_resource(resource_name='consensus')"
   ]
  },
  {
   "cell_type": "code",
   "execution_count": null,
   "id": "8252d9a7-5445-4d61-8ed8-ab34af871ccb",
   "metadata": {},
   "outputs": [],
   "source": [
    "# Decomplexify\n",
    "resource = explode_complexes(resource)"
   ]
  },
  {
   "cell_type": "code",
   "execution_count": null,
   "id": "4a9a67d4-1e21-4a58-9965-ffc87aed78d2",
   "metadata": {},
   "outputs": [],
   "source": [
    "# Filter Resource\n",
    "resource = filter_resource(resource, adata.var_names)"
   ]
  },
  {
   "cell_type": "code",
   "execution_count": null,
   "id": "cdd684e0-9b50-4c62-8b6b-6f1ff1b24a4e",
   "metadata": {},
   "outputs": [],
   "source": []
  },
  {
   "cell_type": "markdown",
   "id": "d7f020fe-ce4e-43e5-a65a-c500256e38b6",
   "metadata": {},
   "source": [
    "Create entities"
   ]
  },
  {
   "cell_type": "code",
   "execution_count": null,
   "id": "f0af1ebc-c5d4-4fd1-9c95-45cf6081cfcf",
   "metadata": {},
   "outputs": [],
   "source": [
    "entities = np.union1d(np.unique(resource[\"ligand\"]), np.unique(resource[\"receptor\"]))"
   ]
  },
  {
   "cell_type": "code",
   "execution_count": null,
   "id": "bb4303e7-9e8b-4d07-b91a-ce70f4a3da0b",
   "metadata": {},
   "outputs": [],
   "source": []
  },
  {
   "cell_type": "markdown",
   "id": "777dd11b-34db-4cc9-b7d4-3e7600bbbd8e",
   "metadata": {},
   "source": [
    "Check overlap between resource and adata"
   ]
  },
  {
   "cell_type": "code",
   "execution_count": null,
   "id": "d2d31c65-84a2-4bd6-a034-0a64935d063d",
   "metadata": {},
   "outputs": [],
   "source": [
    "check_if_covered(entities, adata.var_keys)"
   ]
  },
  {
   "cell_type": "code",
   "execution_count": null,
   "id": "45763bd4-cb43-4500-a912-b2eaa6ae653e",
   "metadata": {},
   "outputs": [],
   "source": []
  },
  {
   "cell_type": "markdown",
   "id": "2b70f1f0-af71-4348-95bc-bfcd16bf7ca7",
   "metadata": {},
   "source": [
    "Get global mean for SCA before filtering"
   ]
  },
  {
   "cell_type": "code",
   "execution_count": null,
   "id": "46bb2ab6-c9e1-4d4d-b33f-bf81cbd88525",
   "metadata": {},
   "outputs": [],
   "source": [
    "if 'mat_mean' in _add_cols: # SHOULD BE METHOD NAME!\n",
    "    adata.uns['mat_mean'] = np.mean(adata.X)"
   ]
  },
  {
   "cell_type": "code",
   "execution_count": null,
   "id": "0773f2a3-862d-4ac5-8299-84c5e6fef47f",
   "metadata": {},
   "outputs": [],
   "source": []
  },
  {
   "cell_type": "code",
   "execution_count": null,
   "id": "b37b2a52-7e37-4be1-ac32-457690f5bb54",
   "metadata": {},
   "outputs": [],
   "source": [
    "# Filter to only include the relevant genes\n",
    "adata = adata[:,np.intersect1d(entities, adata.var.index)]\n",
    "adata"
   ]
  },
  {
   "cell_type": "code",
   "execution_count": null,
   "id": "33212579-8762-4c83-b7ef-dc2fd8875bdb",
   "metadata": {},
   "outputs": [],
   "source": []
  },
  {
   "cell_type": "markdown",
   "id": "86cf9a4c-1693-4470-99f8-02bd60beb367",
   "metadata": {
    "tags": []
   },
   "source": [
    "Get Stats"
   ]
  },
  {
   "cell_type": "code",
   "execution_count": null,
   "id": "27042d96-a874-457e-ad75-3c312b73301b",
   "metadata": {},
   "outputs": [],
   "source": [
    "lr_res = _get_lr(adata, resource, key_cols + _complex_cols + _add_cols, de_method)"
   ]
  },
  {
   "cell_type": "code",
   "execution_count": null,
   "id": "9afdd672-e818-410e-84e0-6fb9ba6fd6be",
   "metadata": {},
   "outputs": [],
   "source": [
    "lr_res"
   ]
  },
  {
   "cell_type": "code",
   "execution_count": null,
   "id": "bddca5f6-6913-49f0-8c06-630677a6ba45",
   "metadata": {},
   "outputs": [],
   "source": []
  },
  {
   "cell_type": "code",
   "execution_count": null,
   "id": "e6bf23dc-c6eb-4ac3-aa8f-f3ce27d910d8",
   "metadata": {},
   "outputs": [],
   "source": []
  },
  {
   "cell_type": "code",
   "execution_count": null,
   "id": "795ae60d-921c-4f2c-98fc-52f33d09f26e",
   "metadata": {},
   "outputs": [],
   "source": []
  },
  {
   "cell_type": "markdown",
   "id": "6d1326e7-4437-40ed-9d65-c93ef5c1e33d",
   "metadata": {},
   "source": [
    "Recomplexify"
   ]
  },
  {
   "cell_type": "code",
   "execution_count": null,
   "id": "2e39a9e4-77ae-4e2b-ab0b-579d508f1347",
   "metadata": {},
   "outputs": [],
   "source": [
    "# If I want to implement anything else but the min as complex policy, I would need to change this:\n",
    "# temp = temp[[x==\"INHBA_INHBB\" for x in temp['ligand_complex']]].sort_values('receptor_complex')\n",
    "# temp = temp[[x==\"ACVR1B_ACVR2A\" for x in temp['receptor_complex']]]"
   ]
  },
  {
   "cell_type": "code",
   "execution_count": null,
   "id": "a78ea33f-4eca-47ef-bca1-af01ca844810",
   "metadata": {},
   "outputs": [],
   "source": [
    "lr_res = reassemble_complexes(lr_res, _key_cols, _complex_cols)"
   ]
  },
  {
   "cell_type": "code",
   "execution_count": null,
   "id": "db1b04d4-f354-43a1-bf92-2bc84556e7ba",
   "metadata": {},
   "outputs": [],
   "source": [
    "lr_res"
   ]
  },
  {
   "cell_type": "code",
   "execution_count": null,
   "id": "13246735-7446-41f9-b4d2-ee84d7514ead",
   "metadata": {},
   "outputs": [],
   "source": []
  },
  {
   "cell_type": "code",
   "execution_count": null,
   "id": "a0911c89-4141-4449-aaba-5d08be4ed2de",
   "metadata": {},
   "outputs": [],
   "source": []
  },
  {
   "cell_type": "code",
   "execution_count": null,
   "id": "45209cd9-4cd1-4a8c-879a-f681bf92210b",
   "metadata": {},
   "outputs": [],
   "source": []
  },
  {
   "cell_type": "markdown",
   "id": "efbeae9b-4df7-42ca-9b2c-9a1e7bedba08",
   "metadata": {},
   "source": [
    "### SCORES"
   ]
  },
  {
   "cell_type": "code",
   "execution_count": null,
   "id": "1061bfc5-ddfa-46dc-a39c-39e6042b215f",
   "metadata": {},
   "outputs": [],
   "source": [
    "from liana.steady.Method import Method, MethodMeta\n",
    "from liana.steady.scores.cellphonedb import _cpdb_score"
   ]
  },
  {
   "cell_type": "code",
   "execution_count": null,
   "id": "675c2240-c993-4fdd-92da-7d2ed4ee0228",
   "metadata": {},
   "outputs": [],
   "source": []
  },
  {
   "cell_type": "markdown",
   "id": "941603a4-9eaf-4bcd-a8b8-4f6a6574ebe5",
   "metadata": {},
   "source": [
    "CELLPHONEDB"
   ]
  },
  {
   "cell_type": "code",
   "execution_count": null,
   "id": "4284a51c-55a5-47b4-ab9b-ba3b3ba93aac",
   "metadata": {},
   "outputs": [],
   "source": [
    "_cellphonedb = MethodMeta(method_name = \"cellphonedb\",\n",
    "                          complex_cols = ['ligand_means', 'receptor_means'], \n",
    "                          add_cols = ['ligand', 'receptor'],\n",
    "                          fun = _cpdb_score,\n",
    "                          magnitude = 'lr_means',\n",
    "                          specificity = 'pvals',\n",
    "                          permute = True,\n",
    "                          reference = 'Efremova et al., 2020')"
   ]
  },
  {
   "cell_type": "code",
   "execution_count": null,
   "id": "79fc87a0-4d92-4adc-a3a3-e611c7f3b3b8",
   "metadata": {},
   "outputs": [],
   "source": [
    "cellphonedb = Method(_SCORE=_cellphonedb)"
   ]
  },
  {
   "cell_type": "code",
   "execution_count": null,
   "id": "d2d39d47-ae35-4109-b413-52d1caadda1c",
   "metadata": {},
   "outputs": [],
   "source": [
    "adata = cellphonedb(adata, groupby, seed=666)"
   ]
  },
  {
   "cell_type": "code",
   "execution_count": null,
   "id": "25e905eb-af83-4259-8e18-6b31ebb543c5",
   "metadata": {},
   "outputs": [],
   "source": [
    "adata.uns['liana_res']"
   ]
  },
  {
   "cell_type": "code",
   "execution_count": null,
   "id": "e7801646-121c-413a-be5a-aef31b5b35ee",
   "metadata": {},
   "outputs": [],
   "source": []
  },
  {
   "cell_type": "code",
   "execution_count": null,
   "id": "fd6d8272-289c-42c5-9f96-7ba76587b80b",
   "metadata": {},
   "outputs": [],
   "source": []
  },
  {
   "cell_type": "code",
   "execution_count": null,
   "id": "49686ceb-dd20-48ee-a0ad-20ac3646a809",
   "metadata": {},
   "outputs": [],
   "source": []
  },
  {
   "cell_type": "markdown",
   "id": "a67d9786-388a-4c8d-b868-5539a3602f5c",
   "metadata": {},
   "source": [
    "logFC re-implement"
   ]
  },
  {
   "cell_type": "markdown",
   "id": "194266ec-e8cf-4f65-963f-a3f9e2939f67",
   "metadata": {},
   "source": [
    "Magnitude as None"
   ]
  },
  {
   "cell_type": "code",
   "execution_count": null,
   "id": "c4f096b2-d4bd-4581-8f41-4774f14c6f0a",
   "metadata": {},
   "outputs": [],
   "source": []
  },
  {
   "cell_type": "code",
   "execution_count": null,
   "id": "0201fba8-13b0-4923-9539-fd1cbe27e2e0",
   "metadata": {},
   "outputs": [],
   "source": []
  },
  {
   "cell_type": "code",
   "execution_count": null,
   "id": "0699d6ec-68cb-4b49-84c0-d2722d40e90e",
   "metadata": {},
   "outputs": [],
   "source": [
    "lr_res['logfc'] = lr_res[['ligand_logfoldchanges', 'receptor_logfoldchanges']].mean(1)"
   ]
  },
  {
   "cell_type": "code",
   "execution_count": null,
   "id": "51064b93-983f-4c16-adb9-ca54a2e1cb62",
   "metadata": {},
   "outputs": [],
   "source": []
  },
  {
   "cell_type": "code",
   "execution_count": null,
   "id": "b3482e1c-c433-4712-bf1d-ba0494c0a314",
   "metadata": {},
   "outputs": [],
   "source": [
    "lr_res.sort_values(by='logfc', key=abs, ascending=False)"
   ]
  },
  {
   "cell_type": "code",
   "execution_count": null,
   "id": "fab2e516-7f93-4850-9907-2deaa2650c73",
   "metadata": {},
   "outputs": [],
   "source": []
  },
  {
   "cell_type": "markdown",
   "id": "7fb95f6b-db28-494b-83f8-de6b7c9b2048",
   "metadata": {},
   "source": [
    "Re-implement Connectome"
   ]
  },
  {
   "cell_type": "markdown",
   "id": "e50d075c-f537-4677-b1b0-e2837e29a5f8",
   "metadata": {},
   "source": [
    "Both Specificity and Magnitude"
   ]
  },
  {
   "cell_type": "code",
   "execution_count": null,
   "id": "a3d0a012-69e9-47c6-bb48-66641647cea8",
   "metadata": {},
   "outputs": [],
   "source": [
    "lr_res['edge_weight'] = lr_res[['ligand_zscores', 'receptor_zscores']].mean(1)"
   ]
  },
  {
   "cell_type": "code",
   "execution_count": null,
   "id": "c95a783e-52d8-44e8-b735-bbe54bef1972",
   "metadata": {},
   "outputs": [],
   "source": []
  }
 ],
 "metadata": {
  "kernelspec": {
   "display_name": "liana-py",
   "language": "python",
   "name": "liana-py"
  },
  "language_info": {
   "codemirror_mode": {
    "name": "ipython",
    "version": 3
   },
   "file_extension": ".py",
   "mimetype": "text/x-python",
   "name": "python",
   "nbconvert_exporter": "python",
   "pygments_lexer": "ipython3",
   "version": "3.8.8"
  }
 },
 "nbformat": 4,
 "nbformat_minor": 5
}
