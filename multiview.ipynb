{
 "cells": [
  {
   "attachments": {},
   "cell_type": "markdown",
   "metadata": {},
   "source": [
    "# Deal with Multi-omics/Multi-view scCCC"
   ]
  },
  {
   "cell_type": "code",
   "execution_count": 1,
   "metadata": {},
   "outputs": [
    {
     "name": "stderr",
     "output_type": "stream",
     "text": [
      "/home/dbdimitrov/anaconda3/envs/spiana/lib/python3.10/site-packages/tqdm/auto.py:21: TqdmWarning: IProgress not found. Please update jupyter and ipywidgets. See https://ipywidgets.readthedocs.io/en/stable/user_install.html\n",
      "  from .autonotebook import tqdm as notebook_tqdm\n"
     ]
    }
   ],
   "source": [
    "import numpy as np\n",
    "import pandas as pd\n",
    "import scanpy as sc\n",
    "import muon as mu\n",
    "import liana as li"
   ]
  },
  {
   "attachments": {},
   "cell_type": "markdown",
   "metadata": {},
   "source": [
    "## li.mt.multiview(MuData, x_mod, y_mod, interactions, transform_fun=None, ...)"
   ]
  },
  {
   "cell_type": "code",
   "execution_count": 2,
   "metadata": {},
   "outputs": [],
   "source": [
    "from itertools import product"
   ]
  },
  {
   "cell_type": "code",
   "execution_count": 3,
   "metadata": {},
   "outputs": [],
   "source": [
    "from anndata import concat"
   ]
  },
  {
   "cell_type": "code",
   "execution_count": 4,
   "metadata": {},
   "outputs": [],
   "source": [
    "from scipy.sparse import csr_matrix, isspmatrix_csr"
   ]
  },
  {
   "cell_type": "code",
   "execution_count": 25,
   "metadata": {},
   "outputs": [],
   "source": [
    "def zi_minmax(X, cutoff=0.1):\n",
    "    X = X.copy()\n",
    "    # Ensure the matrix is in Compressed Sparse Row (CSR) format\n",
    "    if not isspmatrix_csr(X):\n",
    "        X = csr_matrix(X)\n",
    "\n",
    "    # Min-Max scaling on non-zero elements\n",
    "    min_vals = np.array(X.min(axis=0).todense())[0]\n",
    "    max_vals = np.array(X.max(axis=0).todense())[0]\n",
    "    nonzero_rows, nonzero_cols = X.nonzero()\n",
    "    scaled_values = (X.data - min_vals[nonzero_cols]) / (max_vals[nonzero_cols] - min_vals[nonzero_cols])\n",
    "    \n",
    "    # Apply cutoff to the matrix\n",
    "    scaled_values[scaled_values < cutoff] = 0\n",
    "    nonzero_rows, nonzero_cols = X.nonzero()\n",
    "\n",
    "    # Create a new sparse matrix with scaled values\n",
    "    X = csr_matrix((scaled_values, (nonzero_rows, nonzero_cols)), shape=X.shape)\n",
    "\n",
    "    return X"
   ]
  },
  {
   "cell_type": "code",
   "execution_count": null,
   "metadata": {},
   "outputs": [],
   "source": []
  },
  {
   "cell_type": "code",
   "execution_count": 26,
   "metadata": {},
   "outputs": [],
   "source": [
    "## Refactor slightly liana pipe to accept interactions (i.e. list of tuples?)"
   ]
  },
  {
   "cell_type": "code",
   "execution_count": 27,
   "metadata": {},
   "outputs": [],
   "source": [
    "# Then this just becomes a wrapper around the liana pipe, where the method of interest is passed as an argument? + We do zi_minmax to deal with different scales\n",
    "# Then change select_resource to return tuples instead of a dataframe, and dataframe when df=True"
   ]
  },
  {
   "cell_type": "code",
   "execution_count": 28,
   "metadata": {},
   "outputs": [],
   "source": [
    "# We take the two modalities and stack as values to the same AnnData\n",
    "# transform_fun will be None and it can be applied by columns (i.e. by variable); e.g. lambda x: zi_minmax(x, axis=0)"
   ]
  },
  {
   "cell_type": "code",
   "execution_count": 29,
   "metadata": {},
   "outputs": [
    {
     "name": "stderr",
     "output_type": "stream",
     "text": [
      "/home/dbdimitrov/anaconda3/envs/spiana/lib/python3.10/site-packages/mudata/_core/mudata.py:458: UserWarning: Cannot join columns with the same name because var_names are intersecting.\n"
     ]
    }
   ],
   "source": [
    "from liana.testing._sample_anndata import generate_toy_mdata\n",
    "mdata = generate_toy_mdata()\n",
    "mdata.mod['adata_y'].var.index = mdata.mod['adata_y'].var.index + '_y'\n",
    "sc.pp.scale(mdata.mod['adata_y'])"
   ]
  },
  {
   "cell_type": "code",
   "execution_count": 30,
   "metadata": {},
   "outputs": [],
   "source": [
    "interactions = list(product(mdata.mod['adata_x'].var.index, mdata.mod['adata_y'].var.index))"
   ]
  },
  {
   "cell_type": "code",
   "execution_count": 31,
   "metadata": {},
   "outputs": [],
   "source": [
    "resource = pd.DataFrame(interactions, columns=['ligand', 'receptor'])"
   ]
  },
  {
   "cell_type": "code",
   "execution_count": null,
   "metadata": {},
   "outputs": [],
   "source": []
  },
  {
   "cell_type": "code",
   "execution_count": null,
   "metadata": {},
   "outputs": [],
   "source": []
  },
  {
   "cell_type": "code",
   "execution_count": null,
   "metadata": {},
   "outputs": [],
   "source": []
  },
  {
   "attachments": {},
   "cell_type": "markdown",
   "metadata": {},
   "source": [
    "Actual function"
   ]
  },
  {
   "cell_type": "code",
   "execution_count": 32,
   "metadata": {},
   "outputs": [],
   "source": [
    "mod_x = 'adata_x'\n",
    "mod_y = 'adata_y'"
   ]
  },
  {
   "cell_type": "code",
   "execution_count": 33,
   "metadata": {},
   "outputs": [],
   "source": [
    "mdata.mod[mod_x].X = mdata.mod[mod_x].X.astype(np.float32)\n",
    "mdata.mod[mod_y].X = mdata.mod[mod_x].X.astype(np.float32)"
   ]
  },
  {
   "cell_type": "code",
   "execution_count": 34,
   "metadata": {},
   "outputs": [],
   "source": [
    "# Concat the two modalities\n",
    "adata = concat([mdata.mod['adata_x'], mdata.mod['adata_y']], join='outer', axis=1, merge='first')"
   ]
  },
  {
   "cell_type": "code",
   "execution_count": null,
   "metadata": {},
   "outputs": [],
   "source": []
  },
  {
   "attachments": {},
   "cell_type": "markdown",
   "metadata": {},
   "source": [
    "Apply minmax"
   ]
  },
  {
   "cell_type": "code",
   "execution_count": 35,
   "metadata": {},
   "outputs": [],
   "source": [
    "adata.X = zi_minmax(adata.X)\n",
    "sc.pp.filter_cells(adata, min_genes=1)"
   ]
  },
  {
   "cell_type": "code",
   "execution_count": 37,
   "metadata": {},
   "outputs": [
    {
     "name": "stdout",
     "output_type": "stream",
     "text": [
      "Using `.X`!\n",
      "0.09 of entities in the resource are missing from the data.\n",
      "Generating ligand-receptor stats for 680 samples and 20 features\n"
     ]
    },
    {
     "name": "stderr",
     "output_type": "stream",
     "text": [
      "100%|██████████| 1000/1000 [00:03<00:00, 287.75it/s]\n"
     ]
    }
   ],
   "source": [
    "li.mt.cellphonedb(adata, resource=resource, groupby='bulk_labels', use_raw=False, verbose=True)"
   ]
  },
  {
   "cell_type": "code",
   "execution_count": null,
   "metadata": {},
   "outputs": [],
   "source": []
  },
  {
   "cell_type": "code",
   "execution_count": 51,
   "metadata": {},
   "outputs": [],
   "source": [
    "adata = sc.datasets.pbmc68k_reduced()"
   ]
  },
  {
   "cell_type": "code",
   "execution_count": 54,
   "metadata": {},
   "outputs": [
    {
     "name": "stdout",
     "output_type": "stream",
     "text": [
      "Using `.raw`!\n",
      "0.94 of entities in the resource are missing from the data.\n",
      "Generating ligand-receptor stats for 700 samples and 765 features\n"
     ]
    },
    {
     "name": "stderr",
     "output_type": "stream",
     "text": [
      "100%|██████████| 1000/1000 [00:03<00:00, 253.26it/s]\n"
     ]
    }
   ],
   "source": [
    "li.mt.cellphonedb(adata, groupby='bulk_labels', expr_prop=0.1, verbose=True, use_raw=True)"
   ]
  },
  {
   "cell_type": "code",
   "execution_count": 56,
   "metadata": {},
   "outputs": [],
   "source": [
    "liana_res = adata.uns['liana_res'].copy()"
   ]
  },
  {
   "cell_type": "code",
   "execution_count": null,
   "metadata": {},
   "outputs": [],
   "source": []
  },
  {
   "cell_type": "code",
   "execution_count": 57,
   "metadata": {},
   "outputs": [],
   "source": [
    "adata = adata.raw.to_adata()"
   ]
  },
  {
   "cell_type": "code",
   "execution_count": 58,
   "metadata": {},
   "outputs": [],
   "source": [
    "adata.X = zi_minmax(adata.X)"
   ]
  },
  {
   "cell_type": "code",
   "execution_count": 59,
   "metadata": {},
   "outputs": [
    {
     "name": "stdout",
     "output_type": "stream",
     "text": [
      "Using `.X`!\n",
      "0.94 of entities in the resource are missing from the data.\n",
      "Generating ligand-receptor stats for 700 samples and 765 features\n"
     ]
    },
    {
     "name": "stderr",
     "output_type": "stream",
     "text": [
      "100%|██████████| 1000/1000 [00:03<00:00, 262.97it/s]\n"
     ]
    }
   ],
   "source": [
    "li.mt.cellphonedb(adata, groupby='bulk_labels', expr_prop=0.1, verbose=True, use_raw=False)"
   ]
  },
  {
   "cell_type": "code",
   "execution_count": 61,
   "metadata": {},
   "outputs": [],
   "source": [
    "minmax_res = adata.uns['liana_res']"
   ]
  },
  {
   "cell_type": "code",
   "execution_count": null,
   "metadata": {},
   "outputs": [],
   "source": []
  },
  {
   "cell_type": "code",
   "execution_count": 62,
   "metadata": {},
   "outputs": [
    {
     "data": {
      "text/html": [
       "<div>\n",
       "<style scoped>\n",
       "    .dataframe tbody tr th:only-of-type {\n",
       "        vertical-align: middle;\n",
       "    }\n",
       "\n",
       "    .dataframe tbody tr th {\n",
       "        vertical-align: top;\n",
       "    }\n",
       "\n",
       "    .dataframe thead th {\n",
       "        text-align: right;\n",
       "    }\n",
       "</style>\n",
       "<table border=\"1\" class=\"dataframe\">\n",
       "  <thead>\n",
       "    <tr style=\"text-align: right;\">\n",
       "      <th></th>\n",
       "      <th>ligand</th>\n",
       "      <th>ligand_complex</th>\n",
       "      <th>ligand_means</th>\n",
       "      <th>ligand_props</th>\n",
       "      <th>receptor</th>\n",
       "      <th>receptor_complex</th>\n",
       "      <th>receptor_means</th>\n",
       "      <th>receptor_props</th>\n",
       "      <th>source</th>\n",
       "      <th>target</th>\n",
       "      <th>lr_means</th>\n",
       "      <th>cellphone_pvals</th>\n",
       "    </tr>\n",
       "  </thead>\n",
       "  <tbody>\n",
       "    <tr>\n",
       "      <th>482</th>\n",
       "      <td>HLA-DRA</td>\n",
       "      <td>HLA-DRA</td>\n",
       "      <td>4.537684</td>\n",
       "      <td>0.995833</td>\n",
       "      <td>CD4</td>\n",
       "      <td>CD4</td>\n",
       "      <td>0.612842</td>\n",
       "      <td>0.421053</td>\n",
       "      <td>Dendritic</td>\n",
       "      <td>CD4+/CD45RO+ Memory</td>\n",
       "      <td>2.575263</td>\n",
       "      <td>0.000</td>\n",
       "    </tr>\n",
       "    <tr>\n",
       "      <th>321</th>\n",
       "      <td>HLA-DRA</td>\n",
       "      <td>HLA-DRA</td>\n",
       "      <td>4.537684</td>\n",
       "      <td>0.995833</td>\n",
       "      <td>CD4</td>\n",
       "      <td>CD4</td>\n",
       "      <td>0.596125</td>\n",
       "      <td>0.500000</td>\n",
       "      <td>Dendritic</td>\n",
       "      <td>CD4+/CD45RA+/CD25- Naive T</td>\n",
       "      <td>2.566905</td>\n",
       "      <td>0.000</td>\n",
       "    </tr>\n",
       "    <tr>\n",
       "      <th>989</th>\n",
       "      <td>HLA-DRA</td>\n",
       "      <td>HLA-DRA</td>\n",
       "      <td>4.537684</td>\n",
       "      <td>0.995833</td>\n",
       "      <td>CD4</td>\n",
       "      <td>CD4</td>\n",
       "      <td>0.483977</td>\n",
       "      <td>0.302326</td>\n",
       "      <td>Dendritic</td>\n",
       "      <td>CD14+ Monocyte</td>\n",
       "      <td>2.510830</td>\n",
       "      <td>0.000</td>\n",
       "    </tr>\n",
       "    <tr>\n",
       "      <th>651</th>\n",
       "      <td>HLA-DRA</td>\n",
       "      <td>HLA-DRA</td>\n",
       "      <td>4.537684</td>\n",
       "      <td>0.995833</td>\n",
       "      <td>LAG3</td>\n",
       "      <td>LAG3</td>\n",
       "      <td>0.399500</td>\n",
       "      <td>0.240741</td>\n",
       "      <td>Dendritic</td>\n",
       "      <td>CD8+ Cytotoxic T</td>\n",
       "      <td>2.468592</td>\n",
       "      <td>0.000</td>\n",
       "    </tr>\n",
       "    <tr>\n",
       "      <th>1392</th>\n",
       "      <td>HLA-DRA</td>\n",
       "      <td>HLA-DRA</td>\n",
       "      <td>4.537684</td>\n",
       "      <td>0.995833</td>\n",
       "      <td>CD4</td>\n",
       "      <td>CD4</td>\n",
       "      <td>0.373671</td>\n",
       "      <td>0.270833</td>\n",
       "      <td>Dendritic</td>\n",
       "      <td>Dendritic</td>\n",
       "      <td>2.455678</td>\n",
       "      <td>0.000</td>\n",
       "    </tr>\n",
       "    <tr>\n",
       "      <th>...</th>\n",
       "      <td>...</td>\n",
       "      <td>...</td>\n",
       "      <td>...</td>\n",
       "      <td>...</td>\n",
       "      <td>...</td>\n",
       "      <td>...</td>\n",
       "      <td>...</td>\n",
       "      <td>...</td>\n",
       "      <td>...</td>\n",
       "      <td>...</td>\n",
       "      <td>...</td>\n",
       "      <td>...</td>\n",
       "    </tr>\n",
       "    <tr>\n",
       "      <th>1148</th>\n",
       "      <td>GNAI2</td>\n",
       "      <td>GNAI2</td>\n",
       "      <td>0.183538</td>\n",
       "      <td>0.153846</td>\n",
       "      <td>S1PR5</td>\n",
       "      <td>S1PR5</td>\n",
       "      <td>0.171846</td>\n",
       "      <td>0.153846</td>\n",
       "      <td>CD34+</td>\n",
       "      <td>CD34+</td>\n",
       "      <td>0.177692</td>\n",
       "      <td>0.914</td>\n",
       "    </tr>\n",
       "    <tr>\n",
       "      <th>1369</th>\n",
       "      <td>TNFSF13B</td>\n",
       "      <td>TNFSF13B</td>\n",
       "      <td>0.212000</td>\n",
       "      <td>0.153846</td>\n",
       "      <td>CD40</td>\n",
       "      <td>CD40</td>\n",
       "      <td>0.142317</td>\n",
       "      <td>0.100000</td>\n",
       "      <td>CD34+</td>\n",
       "      <td>Dendritic</td>\n",
       "      <td>0.177158</td>\n",
       "      <td>0.507</td>\n",
       "    </tr>\n",
       "    <tr>\n",
       "      <th>277</th>\n",
       "      <td>LCK</td>\n",
       "      <td>LCK</td>\n",
       "      <td>0.192800</td>\n",
       "      <td>0.126316</td>\n",
       "      <td>CD8A</td>\n",
       "      <td>CD8A_CD8B</td>\n",
       "      <td>0.161000</td>\n",
       "      <td>0.125000</td>\n",
       "      <td>CD19+ B</td>\n",
       "      <td>CD4+/CD45RA+/CD25- Naive T</td>\n",
       "      <td>0.176900</td>\n",
       "      <td>0.998</td>\n",
       "    </tr>\n",
       "    <tr>\n",
       "      <th>332</th>\n",
       "      <td>LCK</td>\n",
       "      <td>LCK</td>\n",
       "      <td>0.169550</td>\n",
       "      <td>0.116667</td>\n",
       "      <td>CD8A</td>\n",
       "      <td>CD8A_CD8B</td>\n",
       "      <td>0.161000</td>\n",
       "      <td>0.125000</td>\n",
       "      <td>Dendritic</td>\n",
       "      <td>CD4+/CD45RA+/CD25- Naive T</td>\n",
       "      <td>0.165275</td>\n",
       "      <td>1.000</td>\n",
       "    </tr>\n",
       "    <tr>\n",
       "      <th>303</th>\n",
       "      <td>GNAI2</td>\n",
       "      <td>GNAI2</td>\n",
       "      <td>0.183538</td>\n",
       "      <td>0.153846</td>\n",
       "      <td>S1PR5</td>\n",
       "      <td>S1PR5</td>\n",
       "      <td>0.125625</td>\n",
       "      <td>0.125000</td>\n",
       "      <td>CD34+</td>\n",
       "      <td>CD4+/CD45RA+/CD25- Naive T</td>\n",
       "      <td>0.154582</td>\n",
       "      <td>0.931</td>\n",
       "    </tr>\n",
       "  </tbody>\n",
       "</table>\n",
       "<p>1288 rows × 12 columns</p>\n",
       "</div>"
      ],
      "text/plain": [
       "        ligand ligand_complex  ligand_means  ligand_props receptor  \\\n",
       "482    HLA-DRA        HLA-DRA      4.537684      0.995833      CD4   \n",
       "321    HLA-DRA        HLA-DRA      4.537684      0.995833      CD4   \n",
       "989    HLA-DRA        HLA-DRA      4.537684      0.995833      CD4   \n",
       "651    HLA-DRA        HLA-DRA      4.537684      0.995833     LAG3   \n",
       "1392   HLA-DRA        HLA-DRA      4.537684      0.995833      CD4   \n",
       "...        ...            ...           ...           ...      ...   \n",
       "1148     GNAI2          GNAI2      0.183538      0.153846    S1PR5   \n",
       "1369  TNFSF13B       TNFSF13B      0.212000      0.153846     CD40   \n",
       "277        LCK            LCK      0.192800      0.126316     CD8A   \n",
       "332        LCK            LCK      0.169550      0.116667     CD8A   \n",
       "303      GNAI2          GNAI2      0.183538      0.153846    S1PR5   \n",
       "\n",
       "     receptor_complex  receptor_means  receptor_props     source  \\\n",
       "482               CD4        0.612842        0.421053  Dendritic   \n",
       "321               CD4        0.596125        0.500000  Dendritic   \n",
       "989               CD4        0.483977        0.302326  Dendritic   \n",
       "651              LAG3        0.399500        0.240741  Dendritic   \n",
       "1392              CD4        0.373671        0.270833  Dendritic   \n",
       "...               ...             ...             ...        ...   \n",
       "1148            S1PR5        0.171846        0.153846      CD34+   \n",
       "1369             CD40        0.142317        0.100000      CD34+   \n",
       "277         CD8A_CD8B        0.161000        0.125000    CD19+ B   \n",
       "332         CD8A_CD8B        0.161000        0.125000  Dendritic   \n",
       "303             S1PR5        0.125625        0.125000      CD34+   \n",
       "\n",
       "                          target  lr_means  cellphone_pvals  \n",
       "482          CD4+/CD45RO+ Memory  2.575263            0.000  \n",
       "321   CD4+/CD45RA+/CD25- Naive T  2.566905            0.000  \n",
       "989               CD14+ Monocyte  2.510830            0.000  \n",
       "651             CD8+ Cytotoxic T  2.468592            0.000  \n",
       "1392                   Dendritic  2.455678            0.000  \n",
       "...                          ...       ...              ...  \n",
       "1148                       CD34+  0.177692            0.914  \n",
       "1369                   Dendritic  0.177158            0.507  \n",
       "277   CD4+/CD45RA+/CD25- Naive T  0.176900            0.998  \n",
       "332   CD4+/CD45RA+/CD25- Naive T  0.165275            1.000  \n",
       "303   CD4+/CD45RA+/CD25- Naive T  0.154582            0.931  \n",
       "\n",
       "[1288 rows x 12 columns]"
      ]
     },
     "execution_count": 62,
     "metadata": {},
     "output_type": "execute_result"
    }
   ],
   "source": [
    "liana_res"
   ]
  },
  {
   "cell_type": "code",
   "execution_count": 66,
   "metadata": {},
   "outputs": [
    {
     "data": {
      "text/plain": [
       "1205    0.000\n",
       "1221    0.000\n",
       "482     0.000\n",
       "321     0.000\n",
       "983     0.000\n",
       "        ...  \n",
       "740     1.000\n",
       "1157    1.000\n",
       "277     0.997\n",
       "332     1.000\n",
       "303     0.926\n",
       "Name: cellphone_pvals, Length: 1288, dtype: float64"
      ]
     },
     "execution_count": 66,
     "metadata": {},
     "output_type": "execute_result"
    }
   ],
   "source": [
    "minmax_res['cellphone_pvals']"
   ]
  },
  {
   "cell_type": "code",
   "execution_count": null,
   "metadata": {},
   "outputs": [],
   "source": []
  },
  {
   "cell_type": "code",
   "execution_count": 68,
   "metadata": {},
   "outputs": [],
   "source": [
    "minmax_res.rename(columns={'cellphone_pvals': 'cellphone_pvals_minmax', \n",
    "                           'lr_means':'lr_minmax'}, inplace=True)"
   ]
  },
  {
   "cell_type": "code",
   "execution_count": 71,
   "metadata": {},
   "outputs": [],
   "source": [
    "merged = minmax_res.merge(liana_res, how='inner', on=['ligand_complex', 'receptor_complex', 'source', 'target'])"
   ]
  },
  {
   "cell_type": "code",
   "execution_count": null,
   "metadata": {},
   "outputs": [],
   "source": []
  },
  {
   "attachments": {},
   "cell_type": "markdown",
   "metadata": {},
   "source": [
    "## li.fun.estimate_metalinks(adata, est_fun ...) \n",
    "returns (metabolite_estimates:csr_matrix, receptors_masked:csr_matrix)"
   ]
  },
  {
   "cell_type": "code",
   "execution_count": null,
   "metadata": {},
   "outputs": [],
   "source": []
  },
  {
   "attachments": {},
   "cell_type": "markdown",
   "metadata": {},
   "source": [
    "## li.mt.metalinks(adata, groupby, resource, ...)"
   ]
  },
  {
   "attachments": {},
   "cell_type": "markdown",
   "metadata": {},
   "source": []
  }
 ],
 "metadata": {
  "kernelspec": {
   "display_name": "spiana",
   "language": "python",
   "name": "spiana"
  },
  "language_info": {
   "codemirror_mode": {
    "name": "ipython",
    "version": 3
   },
   "file_extension": ".py",
   "mimetype": "text/x-python",
   "name": "python",
   "nbconvert_exporter": "python",
   "pygments_lexer": "ipython3",
   "version": "3.10.10"
  },
  "orig_nbformat": 4
 },
 "nbformat": 4,
 "nbformat_minor": 2
}
