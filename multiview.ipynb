{
 "cells": [
  {
   "attachments": {},
   "cell_type": "markdown",
   "metadata": {},
   "source": [
    "# Deal with Multi-omics/Multi-view scCCC"
   ]
  },
  {
   "cell_type": "code",
   "execution_count": 1,
   "metadata": {},
   "outputs": [
    {
     "name": "stderr",
     "output_type": "stream",
     "text": [
      "/home/dbdimitrov/anaconda3/envs/spiana/lib/python3.10/site-packages/tqdm/auto.py:21: TqdmWarning: IProgress not found. Please update jupyter and ipywidgets. See https://ipywidgets.readthedocs.io/en/stable/user_install.html\n",
      "  from .autonotebook import tqdm as notebook_tqdm\n"
     ]
    }
   ],
   "source": [
    "import numpy as np\n",
    "import pandas as pd\n",
    "import scanpy as sc\n",
    "import muon as mu\n",
    "import liana as li"
   ]
  },
  {
   "cell_type": "code",
   "execution_count": 2,
   "metadata": {},
   "outputs": [],
   "source": [
    "from itertools import product"
   ]
  },
  {
   "cell_type": "code",
   "execution_count": null,
   "metadata": {},
   "outputs": [],
   "source": []
  },
  {
   "cell_type": "code",
   "execution_count": 3,
   "metadata": {},
   "outputs": [
    {
     "name": "stderr",
     "output_type": "stream",
     "text": [
      "/home/dbdimitrov/anaconda3/envs/spiana/lib/python3.10/site-packages/mudata/_core/mudata.py:458: UserWarning: Cannot join columns with the same name because var_names are intersecting.\n"
     ]
    }
   ],
   "source": [
    "from liana.testing._sample_anndata import generate_toy_mdata\n",
    "mdata = generate_toy_mdata()\n",
    "mdata.mod['adata_y'].var.index = 'scaled:' + mdata.mod['adata_y'].var.index\n",
    "sc.pp.scale(mdata.mod['adata_y'])"
   ]
  },
  {
   "cell_type": "code",
   "execution_count": null,
   "metadata": {},
   "outputs": [],
   "source": []
  },
  {
   "cell_type": "code",
   "execution_count": 4,
   "metadata": {},
   "outputs": [],
   "source": [
    "interactions = list(product(mdata.mod['adata_x'].var.index, mdata.mod['adata_y'].var.index))"
   ]
  },
  {
   "cell_type": "code",
   "execution_count": 5,
   "metadata": {},
   "outputs": [],
   "source": [
    "resource = pd.DataFrame(interactions, columns=['ligand', 'receptor'])"
   ]
  },
  {
   "cell_type": "code",
   "execution_count": 6,
   "metadata": {},
   "outputs": [
    {
     "data": {
      "text/html": [
       "<div>\n",
       "<style scoped>\n",
       "    .dataframe tbody tr th:only-of-type {\n",
       "        vertical-align: middle;\n",
       "    }\n",
       "\n",
       "    .dataframe tbody tr th {\n",
       "        vertical-align: top;\n",
       "    }\n",
       "\n",
       "    .dataframe thead th {\n",
       "        text-align: right;\n",
       "    }\n",
       "</style>\n",
       "<table border=\"1\" class=\"dataframe\">\n",
       "  <thead>\n",
       "    <tr style=\"text-align: right;\">\n",
       "      <th></th>\n",
       "      <th>ligand</th>\n",
       "      <th>receptor</th>\n",
       "    </tr>\n",
       "  </thead>\n",
       "  <tbody>\n",
       "    <tr>\n",
       "      <th>0</th>\n",
       "      <td>HES4</td>\n",
       "      <td>scaled:HES4</td>\n",
       "    </tr>\n",
       "    <tr>\n",
       "      <th>1</th>\n",
       "      <td>HES4</td>\n",
       "      <td>scaled:TNFRSF4</td>\n",
       "    </tr>\n",
       "    <tr>\n",
       "      <th>2</th>\n",
       "      <td>HES4</td>\n",
       "      <td>scaled:SSU72</td>\n",
       "    </tr>\n",
       "    <tr>\n",
       "      <th>3</th>\n",
       "      <td>HES4</td>\n",
       "      <td>scaled:PARK7</td>\n",
       "    </tr>\n",
       "    <tr>\n",
       "      <th>4</th>\n",
       "      <td>HES4</td>\n",
       "      <td>scaled:RBP7</td>\n",
       "    </tr>\n",
       "    <tr>\n",
       "      <th>...</th>\n",
       "      <td>...</td>\n",
       "      <td>...</td>\n",
       "    </tr>\n",
       "    <tr>\n",
       "      <th>95</th>\n",
       "      <td>EFHD2</td>\n",
       "      <td>scaled:SRM</td>\n",
       "    </tr>\n",
       "    <tr>\n",
       "      <th>96</th>\n",
       "      <td>EFHD2</td>\n",
       "      <td>scaled:MAD2L2</td>\n",
       "    </tr>\n",
       "    <tr>\n",
       "      <th>97</th>\n",
       "      <td>EFHD2</td>\n",
       "      <td>scaled:AGTRAP</td>\n",
       "    </tr>\n",
       "    <tr>\n",
       "      <th>98</th>\n",
       "      <td>EFHD2</td>\n",
       "      <td>scaled:TNFRSF1B</td>\n",
       "    </tr>\n",
       "    <tr>\n",
       "      <th>99</th>\n",
       "      <td>EFHD2</td>\n",
       "      <td>scaled:EFHD2</td>\n",
       "    </tr>\n",
       "  </tbody>\n",
       "</table>\n",
       "<p>100 rows × 2 columns</p>\n",
       "</div>"
      ],
      "text/plain": [
       "   ligand         receptor\n",
       "0    HES4      scaled:HES4\n",
       "1    HES4   scaled:TNFRSF4\n",
       "2    HES4     scaled:SSU72\n",
       "3    HES4     scaled:PARK7\n",
       "4    HES4      scaled:RBP7\n",
       "..    ...              ...\n",
       "95  EFHD2       scaled:SRM\n",
       "96  EFHD2    scaled:MAD2L2\n",
       "97  EFHD2    scaled:AGTRAP\n",
       "98  EFHD2  scaled:TNFRSF1B\n",
       "99  EFHD2     scaled:EFHD2\n",
       "\n",
       "[100 rows x 2 columns]"
      ]
     },
     "execution_count": 6,
     "metadata": {},
     "output_type": "execute_result"
    }
   ],
   "source": [
    "resource"
   ]
  },
  {
   "cell_type": "code",
   "execution_count": 7,
   "metadata": {},
   "outputs": [
    {
     "name": "stdout",
     "output_type": "stream",
     "text": [
      "Using `.X`!\n",
      "20 cells are empty, they will be removed.\n",
      "Generating ligand-receptor stats for 680 samples and 20 features\n",
      "Assuming that counts were `natural` log-normalized!\n"
     ]
    },
    {
     "name": "stderr",
     "output_type": "stream",
     "text": [
      "/home/dbdimitrov/anaconda3/envs/spiana/lib/python3.10/site-packages/pandas/core/indexing.py:1728: ImplicitModificationWarning: Trying to modify attribute `.obs` of view, initializing view as actual.\n"
     ]
    },
    {
     "name": "stdout",
     "output_type": "stream",
     "text": [
      "Running CellPhoneDB\n"
     ]
    },
    {
     "name": "stderr",
     "output_type": "stream",
     "text": [
      "100%|██████████| 1000/1000 [00:04<00:00, 239.27it/s]\n"
     ]
    },
    {
     "name": "stdout",
     "output_type": "stream",
     "text": [
      "Running Connectome\n",
      "Running log2FC\n",
      "Running NATMI\n",
      "Running SingleCellSignalR\n",
      "Running CellChat\n"
     ]
    },
    {
     "name": "stderr",
     "output_type": "stream",
     "text": [
      "100%|██████████| 1000/1000 [00:03<00:00, 260.17it/s]\n"
     ]
    }
   ],
   "source": [
    "li.mt.rank_aggregate(mdata, groupby='bulk_labels', mod_x='adata_x', mod_y='adata_y', use_raw=False, resource=resource, verbose=True, transform=True)"
   ]
  },
  {
   "cell_type": "code",
   "execution_count": 8,
   "metadata": {},
   "outputs": [
    {
     "data": {
      "text/html": [
       "<div>\n",
       "<style scoped>\n",
       "    .dataframe tbody tr th:only-of-type {\n",
       "        vertical-align: middle;\n",
       "    }\n",
       "\n",
       "    .dataframe tbody tr th {\n",
       "        vertical-align: top;\n",
       "    }\n",
       "\n",
       "    .dataframe thead th {\n",
       "        text-align: right;\n",
       "    }\n",
       "</style>\n",
       "<table border=\"1\" class=\"dataframe\">\n",
       "  <thead>\n",
       "    <tr style=\"text-align: right;\">\n",
       "      <th></th>\n",
       "      <th>source</th>\n",
       "      <th>target</th>\n",
       "      <th>ligand_complex</th>\n",
       "      <th>receptor_complex</th>\n",
       "      <th>lr_means</th>\n",
       "      <th>cellphone_pvals</th>\n",
       "      <th>expr_prod</th>\n",
       "      <th>scaled_weight</th>\n",
       "      <th>lr_logfc</th>\n",
       "      <th>spec_weight</th>\n",
       "      <th>lrscore</th>\n",
       "      <th>lr_probs</th>\n",
       "      <th>cellchat_pvals</th>\n",
       "      <th>specificity_rank</th>\n",
       "      <th>magnitude_rank</th>\n",
       "    </tr>\n",
       "  </thead>\n",
       "  <tbody>\n",
       "    <tr>\n",
       "      <th>1038</th>\n",
       "      <td>CD4+/CD45RO+ Memory</td>\n",
       "      <td>CD4+/CD45RO+ Memory</td>\n",
       "      <td>PARK7</td>\n",
       "      <td>scaled:PARK7</td>\n",
       "      <td>0.563684</td>\n",
       "      <td>0.015</td>\n",
       "      <td>0.317740</td>\n",
       "      <td>0.461206</td>\n",
       "      <td>0.165597</td>\n",
       "      <td>0.015466</td>\n",
       "      <td>0.783310</td>\n",
       "      <td>0.426254</td>\n",
       "      <td>0.005</td>\n",
       "      <td>0.013317</td>\n",
       "      <td>6.053657e-10</td>\n",
       "    </tr>\n",
       "    <tr>\n",
       "      <th>1086</th>\n",
       "      <td>CD8+ Cytotoxic T</td>\n",
       "      <td>CD4+/CD45RO+ Memory</td>\n",
       "      <td>PARK7</td>\n",
       "      <td>scaled:PARK7</td>\n",
       "      <td>0.534070</td>\n",
       "      <td>0.001</td>\n",
       "      <td>0.284354</td>\n",
       "      <td>0.343557</td>\n",
       "      <td>0.129845</td>\n",
       "      <td>0.013841</td>\n",
       "      <td>0.773740</td>\n",
       "      <td>0.411399</td>\n",
       "      <td>0.000</td>\n",
       "      <td>0.004927</td>\n",
       "      <td>9.455265e-09</td>\n",
       "    </tr>\n",
       "    <tr>\n",
       "      <th>1493</th>\n",
       "      <td>CD4+/CD45RO+ Memory</td>\n",
       "      <td>CD8+ Cytotoxic T</td>\n",
       "      <td>PARK7</td>\n",
       "      <td>scaled:PARK7</td>\n",
       "      <td>0.534070</td>\n",
       "      <td>0.001</td>\n",
       "      <td>0.284354</td>\n",
       "      <td>0.343557</td>\n",
       "      <td>0.129845</td>\n",
       "      <td>0.013841</td>\n",
       "      <td>0.773740</td>\n",
       "      <td>0.411399</td>\n",
       "      <td>0.000</td>\n",
       "      <td>0.004927</td>\n",
       "      <td>9.455265e-09</td>\n",
       "    </tr>\n",
       "    <tr>\n",
       "      <th>1541</th>\n",
       "      <td>CD8+ Cytotoxic T</td>\n",
       "      <td>CD8+ Cytotoxic T</td>\n",
       "      <td>PARK7</td>\n",
       "      <td>scaled:PARK7</td>\n",
       "      <td>0.504456</td>\n",
       "      <td>0.041</td>\n",
       "      <td>0.254476</td>\n",
       "      <td>0.225908</td>\n",
       "      <td>0.094094</td>\n",
       "      <td>0.012387</td>\n",
       "      <td>0.763876</td>\n",
       "      <td>0.396704</td>\n",
       "      <td>0.002</td>\n",
       "      <td>0.034786</td>\n",
       "      <td>9.897550e-08</td>\n",
       "    </tr>\n",
       "    <tr>\n",
       "      <th>3956</th>\n",
       "      <td>CD4+/CD45RO+ Memory</td>\n",
       "      <td>Dendritic</td>\n",
       "      <td>PARK7</td>\n",
       "      <td>scaled:PARK7</td>\n",
       "      <td>0.515404</td>\n",
       "      <td>0.003</td>\n",
       "      <td>0.263311</td>\n",
       "      <td>0.269403</td>\n",
       "      <td>0.101287</td>\n",
       "      <td>0.012817</td>\n",
       "      <td>0.766940</td>\n",
       "      <td>0.386869</td>\n",
       "      <td>0.000</td>\n",
       "      <td>0.017210</td>\n",
       "      <td>1.006036e-07</td>\n",
       "    </tr>\n",
       "    <tr>\n",
       "      <th>...</th>\n",
       "      <td>...</td>\n",
       "      <td>...</td>\n",
       "      <td>...</td>\n",
       "      <td>...</td>\n",
       "      <td>...</td>\n",
       "      <td>...</td>\n",
       "      <td>...</td>\n",
       "      <td>...</td>\n",
       "      <td>...</td>\n",
       "      <td>...</td>\n",
       "      <td>...</td>\n",
       "      <td>...</td>\n",
       "      <td>...</td>\n",
       "      <td>...</td>\n",
       "      <td>...</td>\n",
       "    </tr>\n",
       "    <tr>\n",
       "      <th>40</th>\n",
       "      <td>CD4+/CD25 T Reg</td>\n",
       "      <td>CD4+/CD25 T Reg</td>\n",
       "      <td>TNFRSF4</td>\n",
       "      <td>scaled:AGTRAP</td>\n",
       "      <td>0.085657</td>\n",
       "      <td>0.298</td>\n",
       "      <td>0.007067</td>\n",
       "      <td>0.133913</td>\n",
       "      <td>0.020839</td>\n",
       "      <td>0.019459</td>\n",
       "      <td>0.350280</td>\n",
       "      <td>0.000000</td>\n",
       "      <td>1.000</td>\n",
       "      <td>0.424793</td>\n",
       "      <td>1.000000e+00</td>\n",
       "    </tr>\n",
       "    <tr>\n",
       "      <th>48</th>\n",
       "      <td>CD4+/CD25 T Reg</td>\n",
       "      <td>CD4+/CD25 T Reg</td>\n",
       "      <td>TNFRSF4</td>\n",
       "      <td>scaled:TNFRSF1B</td>\n",
       "      <td>0.083979</td>\n",
       "      <td>0.340</td>\n",
       "      <td>0.006725</td>\n",
       "      <td>0.139734</td>\n",
       "      <td>0.017362</td>\n",
       "      <td>0.020854</td>\n",
       "      <td>0.344647</td>\n",
       "      <td>0.000000</td>\n",
       "      <td>1.000</td>\n",
       "      <td>0.486529</td>\n",
       "      <td>1.000000e+00</td>\n",
       "    </tr>\n",
       "    <tr>\n",
       "      <th>4259</th>\n",
       "      <td>CD56+ NK</td>\n",
       "      <td>Dendritic</td>\n",
       "      <td>SRM</td>\n",
       "      <td>scaled:SRM</td>\n",
       "      <td>0.145566</td>\n",
       "      <td>0.801</td>\n",
       "      <td>0.020507</td>\n",
       "      <td>-0.083496</td>\n",
       "      <td>-0.036343</td>\n",
       "      <td>0.007850</td>\n",
       "      <td>0.478717</td>\n",
       "      <td>0.000000</td>\n",
       "      <td>1.000</td>\n",
       "      <td>1.000000</td>\n",
       "      <td>1.000000e+00</td>\n",
       "    </tr>\n",
       "    <tr>\n",
       "      <th>4252</th>\n",
       "      <td>CD56+ NK</td>\n",
       "      <td>Dendritic</td>\n",
       "      <td>SRM</td>\n",
       "      <td>scaled:PARK7</td>\n",
       "      <td>0.293281</td>\n",
       "      <td>0.710</td>\n",
       "      <td>0.055792</td>\n",
       "      <td>-0.056540</td>\n",
       "      <td>-0.022115</td>\n",
       "      <td>0.007616</td>\n",
       "      <td>0.602348</td>\n",
       "      <td>0.000000</td>\n",
       "      <td>1.000</td>\n",
       "      <td>1.000000</td>\n",
       "      <td>1.000000e+00</td>\n",
       "    </tr>\n",
       "    <tr>\n",
       "      <th>0</th>\n",
       "      <td>CD4+/CD25 T Reg</td>\n",
       "      <td>CD4+/CD25 T Reg</td>\n",
       "      <td>TNFRSF4</td>\n",
       "      <td>scaled:TNFRSF4</td>\n",
       "      <td>0.102083</td>\n",
       "      <td>0.000</td>\n",
       "      <td>0.010421</td>\n",
       "      <td>0.522019</td>\n",
       "      <td>0.158784</td>\n",
       "      <td>0.072156</td>\n",
       "      <td>0.395643</td>\n",
       "      <td>0.000000</td>\n",
       "      <td>1.000</td>\n",
       "      <td>0.001252</td>\n",
       "      <td>1.000000e+00</td>\n",
       "    </tr>\n",
       "  </tbody>\n",
       "</table>\n",
       "<p>4356 rows × 15 columns</p>\n",
       "</div>"
      ],
      "text/plain": [
       "                   source               target ligand_complex  \\\n",
       "1038  CD4+/CD45RO+ Memory  CD4+/CD45RO+ Memory          PARK7   \n",
       "1086     CD8+ Cytotoxic T  CD4+/CD45RO+ Memory          PARK7   \n",
       "1493  CD4+/CD45RO+ Memory     CD8+ Cytotoxic T          PARK7   \n",
       "1541     CD8+ Cytotoxic T     CD8+ Cytotoxic T          PARK7   \n",
       "3956  CD4+/CD45RO+ Memory            Dendritic          PARK7   \n",
       "...                   ...                  ...            ...   \n",
       "40        CD4+/CD25 T Reg      CD4+/CD25 T Reg        TNFRSF4   \n",
       "48        CD4+/CD25 T Reg      CD4+/CD25 T Reg        TNFRSF4   \n",
       "4259             CD56+ NK            Dendritic            SRM   \n",
       "4252             CD56+ NK            Dendritic            SRM   \n",
       "0         CD4+/CD25 T Reg      CD4+/CD25 T Reg        TNFRSF4   \n",
       "\n",
       "     receptor_complex  lr_means  cellphone_pvals  expr_prod  scaled_weight  \\\n",
       "1038     scaled:PARK7  0.563684            0.015   0.317740       0.461206   \n",
       "1086     scaled:PARK7  0.534070            0.001   0.284354       0.343557   \n",
       "1493     scaled:PARK7  0.534070            0.001   0.284354       0.343557   \n",
       "1541     scaled:PARK7  0.504456            0.041   0.254476       0.225908   \n",
       "3956     scaled:PARK7  0.515404            0.003   0.263311       0.269403   \n",
       "...               ...       ...              ...        ...            ...   \n",
       "40      scaled:AGTRAP  0.085657            0.298   0.007067       0.133913   \n",
       "48    scaled:TNFRSF1B  0.083979            0.340   0.006725       0.139734   \n",
       "4259       scaled:SRM  0.145566            0.801   0.020507      -0.083496   \n",
       "4252     scaled:PARK7  0.293281            0.710   0.055792      -0.056540   \n",
       "0      scaled:TNFRSF4  0.102083            0.000   0.010421       0.522019   \n",
       "\n",
       "      lr_logfc  spec_weight   lrscore  lr_probs  cellchat_pvals  \\\n",
       "1038  0.165597     0.015466  0.783310  0.426254           0.005   \n",
       "1086  0.129845     0.013841  0.773740  0.411399           0.000   \n",
       "1493  0.129845     0.013841  0.773740  0.411399           0.000   \n",
       "1541  0.094094     0.012387  0.763876  0.396704           0.002   \n",
       "3956  0.101287     0.012817  0.766940  0.386869           0.000   \n",
       "...        ...          ...       ...       ...             ...   \n",
       "40    0.020839     0.019459  0.350280  0.000000           1.000   \n",
       "48    0.017362     0.020854  0.344647  0.000000           1.000   \n",
       "4259 -0.036343     0.007850  0.478717  0.000000           1.000   \n",
       "4252 -0.022115     0.007616  0.602348  0.000000           1.000   \n",
       "0     0.158784     0.072156  0.395643  0.000000           1.000   \n",
       "\n",
       "      specificity_rank  magnitude_rank  \n",
       "1038          0.013317    6.053657e-10  \n",
       "1086          0.004927    9.455265e-09  \n",
       "1493          0.004927    9.455265e-09  \n",
       "1541          0.034786    9.897550e-08  \n",
       "3956          0.017210    1.006036e-07  \n",
       "...                ...             ...  \n",
       "40            0.424793    1.000000e+00  \n",
       "48            0.486529    1.000000e+00  \n",
       "4259          1.000000    1.000000e+00  \n",
       "4252          1.000000    1.000000e+00  \n",
       "0             0.001252    1.000000e+00  \n",
       "\n",
       "[4356 rows x 15 columns]"
      ]
     },
     "execution_count": 8,
     "metadata": {},
     "output_type": "execute_result"
    }
   ],
   "source": [
    "mdata.uns['liana_res']"
   ]
  },
  {
   "cell_type": "code",
   "execution_count": null,
   "metadata": {},
   "outputs": [],
   "source": []
  },
  {
   "cell_type": "code",
   "execution_count": 9,
   "metadata": {},
   "outputs": [
    {
     "name": "stdout",
     "output_type": "stream",
     "text": [
      "Transforming data to zero-inflated min-max scale\n",
      "Using `.X`!\n",
      "20 cells are empty, they will be removed.\n",
      "Generating ligand-receptor stats for 680 samples and 20 features\n",
      "Assuming that counts were `natural` log-normalized!\n"
     ]
    },
    {
     "name": "stderr",
     "output_type": "stream",
     "text": [
      "/home/dbdimitrov/anaconda3/envs/spiana/lib/python3.10/site-packages/pandas/core/indexing.py:1728: ImplicitModificationWarning: Trying to modify attribute `.obs` of view, initializing view as actual.\n"
     ]
    },
    {
     "name": "stdout",
     "output_type": "stream",
     "text": [
      "Running CellPhoneDB\n"
     ]
    },
    {
     "name": "stderr",
     "output_type": "stream",
     "text": [
      "100%|██████████| 1000/1000 [00:04<00:00, 236.47it/s]\n"
     ]
    },
    {
     "name": "stdout",
     "output_type": "stream",
     "text": [
      "Running Connectome\n",
      "Running log2FC\n",
      "Running NATMI\n",
      "Running SingleCellSignalR\n",
      "Running CellChat\n"
     ]
    },
    {
     "name": "stderr",
     "output_type": "stream",
     "text": [
      "100%|██████████| 1000/1000 [00:03<00:00, 273.01it/s]\n"
     ]
    }
   ],
   "source": [
    "# TODO make a warning for transforming\n",
    "li.mt.rank_aggregate(mdata, groupby='bulk_labels', mod_x='adata_x', mod_y='adata_y', use_raw=False, resource=resource, verbose=True)"
   ]
  },
  {
   "cell_type": "code",
   "execution_count": 10,
   "metadata": {},
   "outputs": [
    {
     "data": {
      "text/html": [
       "<div>\n",
       "<style scoped>\n",
       "    .dataframe tbody tr th:only-of-type {\n",
       "        vertical-align: middle;\n",
       "    }\n",
       "\n",
       "    .dataframe tbody tr th {\n",
       "        vertical-align: top;\n",
       "    }\n",
       "\n",
       "    .dataframe thead th {\n",
       "        text-align: right;\n",
       "    }\n",
       "</style>\n",
       "<table border=\"1\" class=\"dataframe\">\n",
       "  <thead>\n",
       "    <tr style=\"text-align: right;\">\n",
       "      <th></th>\n",
       "      <th>source</th>\n",
       "      <th>target</th>\n",
       "      <th>ligand_complex</th>\n",
       "      <th>receptor_complex</th>\n",
       "      <th>lr_means</th>\n",
       "      <th>cellphone_pvals</th>\n",
       "      <th>expr_prod</th>\n",
       "      <th>scaled_weight</th>\n",
       "      <th>lr_logfc</th>\n",
       "      <th>spec_weight</th>\n",
       "      <th>lrscore</th>\n",
       "      <th>lr_probs</th>\n",
       "      <th>cellchat_pvals</th>\n",
       "      <th>specificity_rank</th>\n",
       "      <th>magnitude_rank</th>\n",
       "    </tr>\n",
       "  </thead>\n",
       "  <tbody>\n",
       "    <tr>\n",
       "      <th>1038</th>\n",
       "      <td>CD4+/CD45RO+ Memory</td>\n",
       "      <td>CD4+/CD45RO+ Memory</td>\n",
       "      <td>PARK7</td>\n",
       "      <td>scaled:PARK7</td>\n",
       "      <td>0.563684</td>\n",
       "      <td>0.015</td>\n",
       "      <td>0.317740</td>\n",
       "      <td>0.461206</td>\n",
       "      <td>0.165597</td>\n",
       "      <td>0.015466</td>\n",
       "      <td>0.783310</td>\n",
       "      <td>0.426254</td>\n",
       "      <td>0.005</td>\n",
       "      <td>0.013317</td>\n",
       "      <td>6.053657e-10</td>\n",
       "    </tr>\n",
       "    <tr>\n",
       "      <th>1086</th>\n",
       "      <td>CD8+ Cytotoxic T</td>\n",
       "      <td>CD4+/CD45RO+ Memory</td>\n",
       "      <td>PARK7</td>\n",
       "      <td>scaled:PARK7</td>\n",
       "      <td>0.534070</td>\n",
       "      <td>0.001</td>\n",
       "      <td>0.284354</td>\n",
       "      <td>0.343557</td>\n",
       "      <td>0.129845</td>\n",
       "      <td>0.013841</td>\n",
       "      <td>0.773740</td>\n",
       "      <td>0.411399</td>\n",
       "      <td>0.000</td>\n",
       "      <td>0.004927</td>\n",
       "      <td>9.455265e-09</td>\n",
       "    </tr>\n",
       "    <tr>\n",
       "      <th>1493</th>\n",
       "      <td>CD4+/CD45RO+ Memory</td>\n",
       "      <td>CD8+ Cytotoxic T</td>\n",
       "      <td>PARK7</td>\n",
       "      <td>scaled:PARK7</td>\n",
       "      <td>0.534070</td>\n",
       "      <td>0.001</td>\n",
       "      <td>0.284354</td>\n",
       "      <td>0.343557</td>\n",
       "      <td>0.129845</td>\n",
       "      <td>0.013841</td>\n",
       "      <td>0.773740</td>\n",
       "      <td>0.411399</td>\n",
       "      <td>0.000</td>\n",
       "      <td>0.004927</td>\n",
       "      <td>9.455265e-09</td>\n",
       "    </tr>\n",
       "    <tr>\n",
       "      <th>1541</th>\n",
       "      <td>CD8+ Cytotoxic T</td>\n",
       "      <td>CD8+ Cytotoxic T</td>\n",
       "      <td>PARK7</td>\n",
       "      <td>scaled:PARK7</td>\n",
       "      <td>0.504456</td>\n",
       "      <td>0.041</td>\n",
       "      <td>0.254476</td>\n",
       "      <td>0.225908</td>\n",
       "      <td>0.094094</td>\n",
       "      <td>0.012387</td>\n",
       "      <td>0.763876</td>\n",
       "      <td>0.396704</td>\n",
       "      <td>0.002</td>\n",
       "      <td>0.034786</td>\n",
       "      <td>9.897550e-08</td>\n",
       "    </tr>\n",
       "    <tr>\n",
       "      <th>3956</th>\n",
       "      <td>CD4+/CD45RO+ Memory</td>\n",
       "      <td>Dendritic</td>\n",
       "      <td>PARK7</td>\n",
       "      <td>scaled:PARK7</td>\n",
       "      <td>0.515404</td>\n",
       "      <td>0.003</td>\n",
       "      <td>0.263311</td>\n",
       "      <td>0.269403</td>\n",
       "      <td>0.101287</td>\n",
       "      <td>0.012817</td>\n",
       "      <td>0.766940</td>\n",
       "      <td>0.386869</td>\n",
       "      <td>0.000</td>\n",
       "      <td>0.017210</td>\n",
       "      <td>1.006036e-07</td>\n",
       "    </tr>\n",
       "    <tr>\n",
       "      <th>...</th>\n",
       "      <td>...</td>\n",
       "      <td>...</td>\n",
       "      <td>...</td>\n",
       "      <td>...</td>\n",
       "      <td>...</td>\n",
       "      <td>...</td>\n",
       "      <td>...</td>\n",
       "      <td>...</td>\n",
       "      <td>...</td>\n",
       "      <td>...</td>\n",
       "      <td>...</td>\n",
       "      <td>...</td>\n",
       "      <td>...</td>\n",
       "      <td>...</td>\n",
       "      <td>...</td>\n",
       "    </tr>\n",
       "    <tr>\n",
       "      <th>40</th>\n",
       "      <td>CD4+/CD25 T Reg</td>\n",
       "      <td>CD4+/CD25 T Reg</td>\n",
       "      <td>TNFRSF4</td>\n",
       "      <td>scaled:AGTRAP</td>\n",
       "      <td>0.085657</td>\n",
       "      <td>0.298</td>\n",
       "      <td>0.007067</td>\n",
       "      <td>0.133913</td>\n",
       "      <td>0.020839</td>\n",
       "      <td>0.019459</td>\n",
       "      <td>0.350280</td>\n",
       "      <td>0.000000</td>\n",
       "      <td>1.000</td>\n",
       "      <td>0.424793</td>\n",
       "      <td>1.000000e+00</td>\n",
       "    </tr>\n",
       "    <tr>\n",
       "      <th>48</th>\n",
       "      <td>CD4+/CD25 T Reg</td>\n",
       "      <td>CD4+/CD25 T Reg</td>\n",
       "      <td>TNFRSF4</td>\n",
       "      <td>scaled:TNFRSF1B</td>\n",
       "      <td>0.083979</td>\n",
       "      <td>0.340</td>\n",
       "      <td>0.006725</td>\n",
       "      <td>0.139734</td>\n",
       "      <td>0.017362</td>\n",
       "      <td>0.020854</td>\n",
       "      <td>0.344647</td>\n",
       "      <td>0.000000</td>\n",
       "      <td>1.000</td>\n",
       "      <td>0.486529</td>\n",
       "      <td>1.000000e+00</td>\n",
       "    </tr>\n",
       "    <tr>\n",
       "      <th>4259</th>\n",
       "      <td>CD56+ NK</td>\n",
       "      <td>Dendritic</td>\n",
       "      <td>SRM</td>\n",
       "      <td>scaled:SRM</td>\n",
       "      <td>0.145566</td>\n",
       "      <td>0.801</td>\n",
       "      <td>0.020507</td>\n",
       "      <td>-0.083496</td>\n",
       "      <td>-0.036343</td>\n",
       "      <td>0.007850</td>\n",
       "      <td>0.478717</td>\n",
       "      <td>0.000000</td>\n",
       "      <td>1.000</td>\n",
       "      <td>1.000000</td>\n",
       "      <td>1.000000e+00</td>\n",
       "    </tr>\n",
       "    <tr>\n",
       "      <th>4252</th>\n",
       "      <td>CD56+ NK</td>\n",
       "      <td>Dendritic</td>\n",
       "      <td>SRM</td>\n",
       "      <td>scaled:PARK7</td>\n",
       "      <td>0.293281</td>\n",
       "      <td>0.710</td>\n",
       "      <td>0.055792</td>\n",
       "      <td>-0.056540</td>\n",
       "      <td>-0.022115</td>\n",
       "      <td>0.007616</td>\n",
       "      <td>0.602348</td>\n",
       "      <td>0.000000</td>\n",
       "      <td>1.000</td>\n",
       "      <td>1.000000</td>\n",
       "      <td>1.000000e+00</td>\n",
       "    </tr>\n",
       "    <tr>\n",
       "      <th>0</th>\n",
       "      <td>CD4+/CD25 T Reg</td>\n",
       "      <td>CD4+/CD25 T Reg</td>\n",
       "      <td>TNFRSF4</td>\n",
       "      <td>scaled:TNFRSF4</td>\n",
       "      <td>0.102083</td>\n",
       "      <td>0.000</td>\n",
       "      <td>0.010421</td>\n",
       "      <td>0.522019</td>\n",
       "      <td>0.158784</td>\n",
       "      <td>0.072156</td>\n",
       "      <td>0.395643</td>\n",
       "      <td>0.000000</td>\n",
       "      <td>1.000</td>\n",
       "      <td>0.001252</td>\n",
       "      <td>1.000000e+00</td>\n",
       "    </tr>\n",
       "  </tbody>\n",
       "</table>\n",
       "<p>4356 rows × 15 columns</p>\n",
       "</div>"
      ],
      "text/plain": [
       "                   source               target ligand_complex  \\\n",
       "1038  CD4+/CD45RO+ Memory  CD4+/CD45RO+ Memory          PARK7   \n",
       "1086     CD8+ Cytotoxic T  CD4+/CD45RO+ Memory          PARK7   \n",
       "1493  CD4+/CD45RO+ Memory     CD8+ Cytotoxic T          PARK7   \n",
       "1541     CD8+ Cytotoxic T     CD8+ Cytotoxic T          PARK7   \n",
       "3956  CD4+/CD45RO+ Memory            Dendritic          PARK7   \n",
       "...                   ...                  ...            ...   \n",
       "40        CD4+/CD25 T Reg      CD4+/CD25 T Reg        TNFRSF4   \n",
       "48        CD4+/CD25 T Reg      CD4+/CD25 T Reg        TNFRSF4   \n",
       "4259             CD56+ NK            Dendritic            SRM   \n",
       "4252             CD56+ NK            Dendritic            SRM   \n",
       "0         CD4+/CD25 T Reg      CD4+/CD25 T Reg        TNFRSF4   \n",
       "\n",
       "     receptor_complex  lr_means  cellphone_pvals  expr_prod  scaled_weight  \\\n",
       "1038     scaled:PARK7  0.563684            0.015   0.317740       0.461206   \n",
       "1086     scaled:PARK7  0.534070            0.001   0.284354       0.343557   \n",
       "1493     scaled:PARK7  0.534070            0.001   0.284354       0.343557   \n",
       "1541     scaled:PARK7  0.504456            0.041   0.254476       0.225908   \n",
       "3956     scaled:PARK7  0.515404            0.003   0.263311       0.269403   \n",
       "...               ...       ...              ...        ...            ...   \n",
       "40      scaled:AGTRAP  0.085657            0.298   0.007067       0.133913   \n",
       "48    scaled:TNFRSF1B  0.083979            0.340   0.006725       0.139734   \n",
       "4259       scaled:SRM  0.145566            0.801   0.020507      -0.083496   \n",
       "4252     scaled:PARK7  0.293281            0.710   0.055792      -0.056540   \n",
       "0      scaled:TNFRSF4  0.102083            0.000   0.010421       0.522019   \n",
       "\n",
       "      lr_logfc  spec_weight   lrscore  lr_probs  cellchat_pvals  \\\n",
       "1038  0.165597     0.015466  0.783310  0.426254           0.005   \n",
       "1086  0.129845     0.013841  0.773740  0.411399           0.000   \n",
       "1493  0.129845     0.013841  0.773740  0.411399           0.000   \n",
       "1541  0.094094     0.012387  0.763876  0.396704           0.002   \n",
       "3956  0.101287     0.012817  0.766940  0.386869           0.000   \n",
       "...        ...          ...       ...       ...             ...   \n",
       "40    0.020839     0.019459  0.350280  0.000000           1.000   \n",
       "48    0.017362     0.020854  0.344647  0.000000           1.000   \n",
       "4259 -0.036343     0.007850  0.478717  0.000000           1.000   \n",
       "4252 -0.022115     0.007616  0.602348  0.000000           1.000   \n",
       "0     0.158784     0.072156  0.395643  0.000000           1.000   \n",
       "\n",
       "      specificity_rank  magnitude_rank  \n",
       "1038          0.013317    6.053657e-10  \n",
       "1086          0.004927    9.455265e-09  \n",
       "1493          0.004927    9.455265e-09  \n",
       "1541          0.034786    9.897550e-08  \n",
       "3956          0.017210    1.006036e-07  \n",
       "...                ...             ...  \n",
       "40            0.424793    1.000000e+00  \n",
       "48            0.486529    1.000000e+00  \n",
       "4259          1.000000    1.000000e+00  \n",
       "4252          1.000000    1.000000e+00  \n",
       "0             0.001252    1.000000e+00  \n",
       "\n",
       "[4356 rows x 15 columns]"
      ]
     },
     "execution_count": 10,
     "metadata": {},
     "output_type": "execute_result"
    }
   ],
   "source": [
    "# TODO check how much do aggregate ranks agree\n",
    "mdata.uns['liana_res']"
   ]
  },
  {
   "cell_type": "code",
   "execution_count": null,
   "metadata": {},
   "outputs": [],
   "source": []
  },
  {
   "cell_type": "code",
   "execution_count": 11,
   "metadata": {},
   "outputs": [],
   "source": [
    "from liana.funcomics.mdata_to_anndata import mdata_to_anndata"
   ]
  },
  {
   "cell_type": "code",
   "execution_count": 12,
   "metadata": {},
   "outputs": [],
   "source": [
    "adata = mdata_to_anndata(mdata, mod_x='adata_x', mod_y='adata_y', transform=False)"
   ]
  },
  {
   "cell_type": "code",
   "execution_count": 13,
   "metadata": {},
   "outputs": [
    {
     "data": {
      "text/plain": [
       "False"
      ]
     },
     "execution_count": 13,
     "metadata": {},
     "output_type": "execute_result"
    }
   ],
   "source": [
    "adata.is_view"
   ]
  },
  {
   "cell_type": "code",
   "execution_count": 14,
   "metadata": {},
   "outputs": [
    {
     "name": "stdout",
     "output_type": "stream",
     "text": [
      "Using `.X`!\n",
      "20 cells are empty, they will be removed.\n",
      "Generating ligand-receptor stats for 680 samples and 20 features\n",
      "Assuming that counts were `natural` log-normalized!\n"
     ]
    },
    {
     "name": "stderr",
     "output_type": "stream",
     "text": [
      "/home/dbdimitrov/anaconda3/envs/spiana/lib/python3.10/site-packages/pandas/core/indexing.py:1728: ImplicitModificationWarning: Trying to modify attribute `.obs` of view, initializing view as actual.\n"
     ]
    },
    {
     "name": "stdout",
     "output_type": "stream",
     "text": [
      "Running CellPhoneDB\n"
     ]
    },
    {
     "name": "stderr",
     "output_type": "stream",
     "text": [
      "100%|██████████| 1000/1000 [00:04<00:00, 237.44it/s]\n"
     ]
    },
    {
     "name": "stdout",
     "output_type": "stream",
     "text": [
      "Running Connectome\n",
      "Running log2FC\n",
      "Running NATMI\n",
      "Running SingleCellSignalR\n",
      "Running CellChat\n"
     ]
    },
    {
     "name": "stderr",
     "output_type": "stream",
     "text": [
      "100%|██████████| 1000/1000 [00:03<00:00, 275.13it/s]\n"
     ]
    }
   ],
   "source": [
    "li.mt.rank_aggregate(adata, groupby='bulk_labels', use_raw=False, resource=resource, verbose=True)"
   ]
  },
  {
   "cell_type": "code",
   "execution_count": null,
   "metadata": {},
   "outputs": [],
   "source": []
  },
  {
   "cell_type": "code",
   "execution_count": null,
   "metadata": {},
   "outputs": [],
   "source": []
  },
  {
   "attachments": {},
   "cell_type": "markdown",
   "metadata": {},
   "source": [
    "## li.mt.multiview(MuData, x_mod, y_mod, interactions, transform_fun=None, ...)"
   ]
  },
  {
   "cell_type": "code",
   "execution_count": null,
   "metadata": {},
   "outputs": [],
   "source": [
    "from anndata import concat"
   ]
  },
  {
   "cell_type": "code",
   "execution_count": null,
   "metadata": {},
   "outputs": [],
   "source": [
    "from scipy.sparse import csr_matrix, isspmatrix_csr"
   ]
  },
  {
   "cell_type": "code",
   "execution_count": null,
   "metadata": {},
   "outputs": [],
   "source": [
    "def zi_minmax(X, cutoff=0.1):\n",
    "    X = X.copy()\n",
    "    # Ensure the matrix is in Compressed Sparse Row (CSR) format\n",
    "    if not isspmatrix_csr(X):\n",
    "        X = csr_matrix(X)\n",
    "\n",
    "    # Min-Max scaling on non-zero elements\n",
    "    min_vals = np.array(X.min(axis=0).todense())[0]\n",
    "    max_vals = np.array(X.max(axis=0).todense())[0]\n",
    "    nonzero_rows, nonzero_cols = X.nonzero()\n",
    "    scaled_values = (X.data - min_vals[nonzero_cols]) / (max_vals[nonzero_cols] - min_vals[nonzero_cols])\n",
    "    \n",
    "    # Apply cutoff to the matrix\n",
    "    scaled_values[scaled_values < cutoff] = 0\n",
    "    nonzero_rows, nonzero_cols = X.nonzero()\n",
    "\n",
    "    # Create a new sparse matrix with scaled values\n",
    "    X = csr_matrix((scaled_values, (nonzero_rows, nonzero_cols)), shape=X.shape)\n",
    "\n",
    "    return X"
   ]
  },
  {
   "cell_type": "code",
   "execution_count": null,
   "metadata": {},
   "outputs": [],
   "source": []
  },
  {
   "cell_type": "code",
   "execution_count": null,
   "metadata": {},
   "outputs": [],
   "source": [
    "## Refactor slightly liana pipe to accept interactions (i.e. list of tuples?)"
   ]
  },
  {
   "cell_type": "code",
   "execution_count": null,
   "metadata": {},
   "outputs": [],
   "source": [
    "# Then this just becomes a wrapper around the liana pipe, where the method of interest is passed as an argument? + We do zi_minmax to deal with different scales\n",
    "# Then change select_resource to return tuples instead of a dataframe, and dataframe when df=True"
   ]
  },
  {
   "cell_type": "code",
   "execution_count": null,
   "metadata": {},
   "outputs": [],
   "source": [
    "# We take the two modalities and stack as values to the same AnnData\n",
    "# transform_fun will be None and it can be applied by columns (i.e. by variable); e.g. lambda x: zi_minmax(x, axis=0)"
   ]
  },
  {
   "cell_type": "code",
   "execution_count": null,
   "metadata": {},
   "outputs": [],
   "source": [
    "interactions = list(product(mdata.mod['adata_x'].var.index, mdata.mod['adata_y'].var.index))"
   ]
  },
  {
   "cell_type": "code",
   "execution_count": null,
   "metadata": {},
   "outputs": [],
   "source": [
    "resource = pd.DataFrame(interactions, columns=['ligand', 'receptor'])"
   ]
  },
  {
   "cell_type": "code",
   "execution_count": null,
   "metadata": {},
   "outputs": [],
   "source": []
  },
  {
   "attachments": {},
   "cell_type": "markdown",
   "metadata": {},
   "source": [
    "Actual function"
   ]
  },
  {
   "cell_type": "code",
   "execution_count": null,
   "metadata": {},
   "outputs": [],
   "source": [
    "def _mdata_to_anndata(mdata, mod_x, mod_y, transform=True):\n",
    "    if mod_x == mod_y:\n",
    "        raise ValueError('The two modalities must be different')\n",
    "    if mod_x not in mdata.mod.keys():\n",
    "        raise ValueError('The first modality is not in the mdata')\n",
    "    if mod_y not in mdata.mod.keys():\n",
    "        raise ValueError('The second modality is not in the mdata')\n",
    "    \n",
    "    md_x = mdata.mod[mod_x]\n",
    "    md_y = mdata.mod[mod_y]\n",
    "    \n",
    "    adata = concat([md_x, md_y], join='outer', axis=1, merge='first', label='modality')\n",
    "    \n",
    "    if transform:\n",
    "        adata.X = zi_minmax(adata.X)\n",
    "    \n",
    "    return adata\n",
    "    "
   ]
  },
  {
   "cell_type": "code",
   "execution_count": null,
   "metadata": {},
   "outputs": [],
   "source": []
  },
  {
   "cell_type": "code",
   "execution_count": null,
   "metadata": {},
   "outputs": [],
   "source": [
    "if isinstance(mdata, mu.MuData):\n",
    "    adata = _mdata_to_anndata(mdata, 'adata_x', 'adata_y', transform=True)"
   ]
  },
  {
   "cell_type": "code",
   "execution_count": null,
   "metadata": {},
   "outputs": [],
   "source": [
    "adata"
   ]
  },
  {
   "cell_type": "code",
   "execution_count": null,
   "metadata": {},
   "outputs": [],
   "source": []
  },
  {
   "cell_type": "code",
   "execution_count": null,
   "metadata": {},
   "outputs": [],
   "source": [
    "mod_x = 'adata_x'\n",
    "mod_y = 'adata_y'"
   ]
  },
  {
   "cell_type": "code",
   "execution_count": null,
   "metadata": {},
   "outputs": [],
   "source": [
    "mdata.mod[mod_x].X = mdata.mod[mod_x].X.astype(np.float32)\n",
    "mdata.mod[mod_y].X = mdata.mod[mod_x].X.astype(np.float32)"
   ]
  },
  {
   "cell_type": "code",
   "execution_count": null,
   "metadata": {},
   "outputs": [],
   "source": [
    "# Concat the two modalities\n",
    "adata = concat([mdata.mod['adata_x'], mdata.mod['adata_y']], join='outer', axis=1, merge='first')"
   ]
  },
  {
   "cell_type": "code",
   "execution_count": null,
   "metadata": {},
   "outputs": [],
   "source": []
  },
  {
   "attachments": {},
   "cell_type": "markdown",
   "metadata": {},
   "source": [
    "Apply minmax"
   ]
  },
  {
   "cell_type": "code",
   "execution_count": null,
   "metadata": {},
   "outputs": [],
   "source": [
    "# adata.X = zi_minmax(adata.X)\n",
    "# sc.pp.filter_cells(adata, min_genes=1)"
   ]
  },
  {
   "cell_type": "code",
   "execution_count": null,
   "metadata": {},
   "outputs": [],
   "source": [
    "li.mt.cellphonedb(adata, resource=resource, groupby='bulk_labels', use_raw=False, verbose=True)"
   ]
  },
  {
   "cell_type": "code",
   "execution_count": null,
   "metadata": {},
   "outputs": [],
   "source": []
  },
  {
   "cell_type": "code",
   "execution_count": null,
   "metadata": {},
   "outputs": [],
   "source": [
    "adata = sc.datasets.pbmc68k_reduced()"
   ]
  },
  {
   "cell_type": "code",
   "execution_count": null,
   "metadata": {},
   "outputs": [],
   "source": [
    "li.mt.rank_aggregate(adata, groupby='bulk_labels', expr_prop=0.1, verbose=True, use_raw=True)"
   ]
  },
  {
   "cell_type": "code",
   "execution_count": null,
   "metadata": {},
   "outputs": [],
   "source": [
    "liana_res = adata.uns['liana_res'].copy()"
   ]
  },
  {
   "cell_type": "code",
   "execution_count": null,
   "metadata": {},
   "outputs": [],
   "source": []
  },
  {
   "cell_type": "code",
   "execution_count": null,
   "metadata": {},
   "outputs": [],
   "source": [
    "adata = adata.raw.to_adata()"
   ]
  },
  {
   "cell_type": "code",
   "execution_count": null,
   "metadata": {},
   "outputs": [],
   "source": [
    "adata.X = zi_minmax(adata.X)"
   ]
  },
  {
   "cell_type": "code",
   "execution_count": null,
   "metadata": {},
   "outputs": [],
   "source": [
    "li.mt.cellphonedb(adata, groupby='bulk_labels', expr_prop=0.1, verbose=True, use_raw=False)"
   ]
  },
  {
   "cell_type": "code",
   "execution_count": null,
   "metadata": {},
   "outputs": [],
   "source": [
    "minmax_res = adata.uns['liana_res']"
   ]
  },
  {
   "cell_type": "code",
   "execution_count": null,
   "metadata": {},
   "outputs": [],
   "source": []
  },
  {
   "cell_type": "code",
   "execution_count": null,
   "metadata": {},
   "outputs": [],
   "source": [
    "liana_res"
   ]
  },
  {
   "cell_type": "code",
   "execution_count": null,
   "metadata": {},
   "outputs": [],
   "source": [
    "minmax_res['cellphone_pvals']"
   ]
  },
  {
   "cell_type": "code",
   "execution_count": null,
   "metadata": {},
   "outputs": [],
   "source": []
  },
  {
   "cell_type": "code",
   "execution_count": null,
   "metadata": {},
   "outputs": [],
   "source": [
    "minmax_res.rename(columns={'cellphone_pvals': 'cellphone_pvals_minmax', \n",
    "                           'lr_means':'lr_minmax'}, inplace=True)"
   ]
  },
  {
   "cell_type": "code",
   "execution_count": null,
   "metadata": {},
   "outputs": [],
   "source": [
    "merged = minmax_res.merge(liana_res, how='inner', on=['ligand_complex', 'receptor_complex', 'source', 'target'])"
   ]
  },
  {
   "cell_type": "code",
   "execution_count": null,
   "metadata": {},
   "outputs": [],
   "source": []
  },
  {
   "cell_type": "code",
   "execution_count": null,
   "metadata": {},
   "outputs": [],
   "source": [
    "pearsonr(merged['cellphone_pvals'], merged['cellphone_pvals_minmax'])"
   ]
  },
  {
   "cell_type": "code",
   "execution_count": null,
   "metadata": {},
   "outputs": [],
   "source": [
    "pearsonr(merged['lr_means'], merged['lr_minmax'])"
   ]
  },
  {
   "cell_type": "code",
   "execution_count": null,
   "metadata": {},
   "outputs": [],
   "source": []
  },
  {
   "attachments": {},
   "cell_type": "markdown",
   "metadata": {},
   "source": [
    "## li.fun.estimate_metalinks(adata, est_fun ...) \n",
    "returns (metabolite_estimates:csr_matrix, receptors_masked:csr_matrix)"
   ]
  },
  {
   "cell_type": "code",
   "execution_count": null,
   "metadata": {},
   "outputs": [],
   "source": []
  },
  {
   "attachments": {},
   "cell_type": "markdown",
   "metadata": {},
   "source": [
    "## li.mt.metalinks(adata, groupby, resource, ...)"
   ]
  },
  {
   "attachments": {},
   "cell_type": "markdown",
   "metadata": {},
   "source": []
  }
 ],
 "metadata": {
  "kernelspec": {
   "display_name": "spiana",
   "language": "python",
   "name": "spiana"
  },
  "language_info": {
   "codemirror_mode": {
    "name": "ipython",
    "version": 3
   },
   "file_extension": ".py",
   "mimetype": "text/x-python",
   "name": "python",
   "nbconvert_exporter": "python",
   "pygments_lexer": "ipython3",
   "version": "3.10.10"
  },
  "orig_nbformat": 4
 },
 "nbformat": 4,
 "nbformat_minor": 2
}
